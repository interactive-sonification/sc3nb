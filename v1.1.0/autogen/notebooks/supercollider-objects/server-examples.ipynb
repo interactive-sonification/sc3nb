{
 "cells": [
  {
   "cell_type": "markdown",
   "metadata": {},
   "source": [
    "# Server"
   ]
  },
  {
   "cell_type": "code",
   "execution_count": 1,
   "metadata": {
    "execution": {
     "iopub.execute_input": "2023-08-22T12:11:06.644349Z",
     "iopub.status.busy": "2023-08-22T12:11:06.644011Z",
     "iopub.status.idle": "2023-08-22T12:11:06.832674Z",
     "shell.execute_reply": "2023-08-22T12:11:06.831900Z"
    }
   },
   "outputs": [],
   "source": [
    "import sc3nb as scn"
   ]
  },
  {
   "cell_type": "markdown",
   "metadata": {},
   "source": [
    "The `SCServer` class is the central interface for \n",
    "\n",
    "* controlling the SuperCollider audio server process\n",
    "* managing SuperCollider Objects\n",
    "* using OSC for outgoing and incoming packets\n",
    "\n",
    "\n",
    "To achieve all this the SCServer is\n",
    "\n",
    "* registered as a client to the SuperCollider audio server process (scsynth) and exchanging [SuperCollider Commands](http://doc.sccode.org/Reference/Server-Command-Reference.html) with the server process\n",
    "* and also running an OSC server in python which can communicate via OSC with scsynth and sclang.\n",
    "\n",
    "\n",
    "For information about how to communicate using OSC see the [OSC communication notebook](../osc-communication-examples.ipynb). This notebook focuses on using the `SCServer` class for interacting with scsynth "
   ]
  },
  {
   "cell_type": "markdown",
   "metadata": {},
   "source": [
    "## Starting the Server"
   ]
  },
  {
   "cell_type": "markdown",
   "metadata": {},
   "source": [
    "The most convienent way is to use the default sc3nb `SCServer` instance"
   ]
  },
  {
   "cell_type": "code",
   "execution_count": 2,
   "metadata": {
    "execution": {
     "iopub.execute_input": "2023-08-22T12:11:06.836864Z",
     "iopub.status.busy": "2023-08-22T12:11:06.836551Z",
     "iopub.status.idle": "2023-08-22T12:11:09.466517Z",
     "shell.execute_reply": "2023-08-22T12:11:09.464897Z"
    }
   },
   "outputs": [
    {
     "data": {
      "application/javascript": [
       "if (typeof Jupyter !== 'undefined') {\n",
       "                        Jupyter.keyboard_manager.command_shortcuts.add_shortcut(\n",
       "                        'cmd-.', {\n",
       "                        help : 'Free all nodes on SC server',\n",
       "                        help_index : 'zz',\n",
       "                        handler : function (event) {\n",
       "                            IPython.notebook.kernel.execute(\n",
       "                                \"import sc3nb; sc3nb.SC.get_default().server.free_all(root=True)\"\n",
       "                            )\n",
       "                            return true;}\n",
       "                        });\n",
       "                    }"
      ],
      "text/plain": [
       "<IPython.core.display.Javascript object>"
      ]
     },
     "metadata": {},
     "output_type": "display_data"
    },
    {
     "name": "stdout",
     "output_type": "stream",
     "text": [
      "Starting sclang process... [sclang | start reading ]\n"
     ]
    },
    {
     "name": "stdout",
     "output_type": "stream",
     "text": [
      "Done.\n",
      "Registering OSC /return callback in sclang... Done.\n",
      "Loading default sc3nb SynthDefs... Done.\n",
      "Booting SuperCollider Server... [scsynth | start reading ]\n"
     ]
    },
    {
     "name": "stdout",
     "output_type": "stream",
     "text": [
      "Done.\n"
     ]
    }
   ],
   "source": [
    "sc = scn.startup()"
   ]
  },
  {
   "cell_type": "code",
   "execution_count": 3,
   "metadata": {
    "execution": {
     "iopub.execute_input": "2023-08-22T12:11:09.471466Z",
     "iopub.status.busy": "2023-08-22T12:11:09.471101Z",
     "iopub.status.idle": "2023-08-22T12:11:09.476455Z",
     "shell.execute_reply": "2023-08-22T12:11:09.475827Z"
    }
   },
   "outputs": [
    {
     "data": {
      "text/plain": [
       "<SCServer addr=('127.0.0.1', 57110), process=<Process 'scsynth' (running) pid=14669>>"
      ]
     },
     "execution_count": 3,
     "metadata": {},
     "output_type": "execute_result"
    }
   ],
   "source": [
    "sc.server"
   ]
  },
  {
   "cell_type": "markdown",
   "metadata": {},
   "source": [
    "However you can also use the SCServer class directly"
   ]
  },
  {
   "cell_type": "markdown",
   "metadata": {},
   "source": [
    "The server connection can be created\n",
    "\n",
    "* locally using `boot`, which will start a scsynth process and connect to it or\n",
    "* remote using `remote` for connecting to an already running scsynth process"
   ]
  },
  {
   "cell_type": "code",
   "execution_count": 4,
   "metadata": {
    "execution": {
     "iopub.execute_input": "2023-08-22T12:11:09.479787Z",
     "iopub.status.busy": "2023-08-22T12:11:09.479515Z",
     "iopub.status.idle": "2023-08-22T12:11:09.486764Z",
     "shell.execute_reply": "2023-08-22T12:11:09.486109Z"
    }
   },
   "outputs": [
    {
     "data": {
      "text/plain": [
       "<SCServer (not booted)>"
      ]
     },
     "execution_count": 4,
     "metadata": {},
     "output_type": "execute_result"
    }
   ],
   "source": [
    "serv = scn.SCServer()\n",
    "serv"
   ]
  },
  {
   "cell_type": "code",
   "execution_count": 5,
   "metadata": {
    "execution": {
     "iopub.execute_input": "2023-08-22T12:11:09.490076Z",
     "iopub.status.busy": "2023-08-22T12:11:09.489806Z",
     "iopub.status.idle": "2023-08-22T12:11:09.571524Z",
     "shell.execute_reply": "2023-08-22T12:11:09.570548Z"
    }
   },
   "outputs": [
    {
     "name": "stdout",
     "output_type": "stream",
     "text": [
      "Booting SuperCollider Server... \n",
      "SuperCollider Server port 57110 already used.\n",
      "Trying to connect.\n",
      "Done.\n"
     ]
    }
   ],
   "source": [
    "serv.boot()"
   ]
  },
  {
   "cell_type": "markdown",
   "metadata": {},
   "source": [
    "Notice how the `SCServer` always tries to boot using the default SuperCollider audio server port 57110.\n",
    "But this port is already used by `sc.server` and thus the `SCServer` tries to connect to the already running instance using `SCserver.remote`. This enables a user to share the same scsynth instance with other users and/or use it from other notebooks. If the port to be used is explicitly specified the `SCServer` instance will fail instead of connecting.\n",
    "\n",
    "The `SCServer` will register to the scsynth process using `SCServer.notify()`"
   ]
  },
  {
   "cell_type": "markdown",
   "metadata": {},
   "source": [
    "Let's look how many clients are allowed and what the `client_id`s and the corresponding `default_group`s of the SCServer instances are."
   ]
  },
  {
   "cell_type": "code",
   "execution_count": 6,
   "metadata": {
    "execution": {
     "iopub.execute_input": "2023-08-22T12:11:09.576187Z",
     "iopub.status.busy": "2023-08-22T12:11:09.575817Z",
     "iopub.status.idle": "2023-08-22T12:11:09.580669Z",
     "shell.execute_reply": "2023-08-22T12:11:09.579878Z"
    }
   },
   "outputs": [
    {
     "name": "stdout",
     "output_type": "stream",
     "text": [
      "The scsynth process of this SCServer instance allows 8 clients to login.\n"
     ]
    }
   ],
   "source": [
    "print(f\"The scsynth process of this SCServer instance allows {sc.server.max_logins} clients to login.\")"
   ]
  },
  {
   "cell_type": "code",
   "execution_count": 7,
   "metadata": {
    "execution": {
     "iopub.execute_input": "2023-08-22T12:11:09.584737Z",
     "iopub.status.busy": "2023-08-22T12:11:09.584370Z",
     "iopub.status.idle": "2023-08-22T12:11:09.588204Z",
     "shell.execute_reply": "2023-08-22T12:11:09.587562Z"
    }
   },
   "outputs": [
    {
     "name": "stdout",
     "output_type": "stream",
     "text": [
      "sc.server has client id 1 and the default Group <Group(67108865) ~ {} children=[]>\n"
     ]
    }
   ],
   "source": [
    "print(f\"sc.server has client id {sc.server.client_id} and the default Group {sc.server.default_group}\") "
   ]
  },
  {
   "cell_type": "code",
   "execution_count": 8,
   "metadata": {
    "execution": {
     "iopub.execute_input": "2023-08-22T12:11:09.591705Z",
     "iopub.status.busy": "2023-08-22T12:11:09.591420Z",
     "iopub.status.idle": "2023-08-22T12:11:09.595357Z",
     "shell.execute_reply": "2023-08-22T12:11:09.594708Z"
    }
   },
   "outputs": [
    {
     "name": "stdout",
     "output_type": "stream",
     "text": [
      "serv has client id 0 and the default Group <Group(1) s {} children=[]>\n"
     ]
    }
   ],
   "source": [
    "print(f\"serv has client id {serv.client_id} and the default Group {serv.default_group}\") "
   ]
  },
  {
   "cell_type": "markdown",
   "metadata": {},
   "source": [
    "However also note that the instances use different ports meaning they are able to independendly send and receive OSC packets"
   ]
  },
  {
   "cell_type": "code",
   "execution_count": 9,
   "metadata": {
    "execution": {
     "iopub.execute_input": "2023-08-22T12:11:09.598663Z",
     "iopub.status.busy": "2023-08-22T12:11:09.598335Z",
     "iopub.status.idle": "2023-08-22T12:11:09.603988Z",
     "shell.execute_reply": "2023-08-22T12:11:09.603407Z"
    }
   },
   "outputs": [
    {
     "name": "stdout",
     "output_type": "stream",
     "text": [
      "This instance is at ('127.0.0.1', 57131),\n",
      "Known receivers: \"scsynth\" at ('127.0.0.1', 57110)\n",
      "                 \"sclang\" at ('127.0.0.1', 57120)\n",
      "                 \n"
     ]
    },
    {
     "data": {
      "text/plain": [
       "(('127.0.0.1', 57131),\n",
       " {('127.0.0.1', 57110): 'scsynth', ('127.0.0.1', 57120): 'sclang'})"
      ]
     },
     "execution_count": 9,
     "metadata": {},
     "output_type": "execute_result"
    }
   ],
   "source": [
    "sc.server.connection_info()"
   ]
  },
  {
   "cell_type": "markdown",
   "metadata": {},
   "source": [
    "and also note that `serv` is not connected to sclang but has the same connection info for scsynth."
   ]
  },
  {
   "cell_type": "code",
   "execution_count": 10,
   "metadata": {
    "execution": {
     "iopub.execute_input": "2023-08-22T12:11:09.607081Z",
     "iopub.status.busy": "2023-08-22T12:11:09.606812Z",
     "iopub.status.idle": "2023-08-22T12:11:09.611725Z",
     "shell.execute_reply": "2023-08-22T12:11:09.611107Z"
    }
   },
   "outputs": [
    {
     "name": "stdout",
     "output_type": "stream",
     "text": [
      "This instance is at ('127.0.0.1', 57133),\n",
      "Known receivers: \"scsynth\" at ('127.0.0.1', 57110)\n",
      "                 \n"
     ]
    },
    {
     "data": {
      "text/plain": [
       "(('127.0.0.1', 57133), {('127.0.0.1', 57110): 'scsynth'})"
      ]
     },
     "execution_count": 10,
     "metadata": {},
     "output_type": "execute_result"
    }
   ],
   "source": [
    "serv.connection_info()"
   ]
  },
  {
   "cell_type": "markdown",
   "metadata": {},
   "source": [
    "A Synth running on the SuperCollider audio server will be visible to all connected clients"
   ]
  },
  {
   "cell_type": "code",
   "execution_count": 11,
   "metadata": {
    "execution": {
     "iopub.execute_input": "2023-08-22T12:11:09.614831Z",
     "iopub.status.busy": "2023-08-22T12:11:09.614561Z",
     "iopub.status.idle": "2023-08-22T12:11:09.631863Z",
     "shell.execute_reply": "2023-08-22T12:11:09.630654Z"
    }
   },
   "outputs": [],
   "source": [
    "serv_synth = scn.Synth(\"s2\", {\"amp\": 0.05, \"pan\": -1, \"freq\": 100}, server=serv)"
   ]
  },
  {
   "cell_type": "code",
   "execution_count": 12,
   "metadata": {
    "execution": {
     "iopub.execute_input": "2023-08-22T12:11:09.636537Z",
     "iopub.status.busy": "2023-08-22T12:11:09.635990Z",
     "iopub.status.idle": "2023-08-22T12:11:09.641060Z",
     "shell.execute_reply": "2023-08-22T12:11:09.640416Z"
    }
   },
   "outputs": [],
   "source": [
    "default_synth = scn.Synth(\"s2\", {\"amp\": 0.05, \"pan\": 1, \"freq\": 440})  # no need to specify sc.server as server argument"
   ]
  },
  {
   "cell_type": "markdown",
   "metadata": {},
   "source": [
    "This also includes sclang, which is another client of the scsynth process"
   ]
  },
  {
   "cell_type": "code",
   "execution_count": 13,
   "metadata": {
    "execution": {
     "iopub.execute_input": "2023-08-22T12:11:09.644379Z",
     "iopub.status.busy": "2023-08-22T12:11:09.644107Z",
     "iopub.status.idle": "2023-08-22T12:11:09.652065Z",
     "shell.execute_reply": "2023-08-22T12:11:09.651343Z"
    }
   },
   "outputs": [
    {
     "name": "stdout",
     "output_type": "stream",
     "text": [
      "-> Synth('s2' : 1000)\n"
     ]
    }
   ],
   "source": [
    "%sc ~sclang_synth = Synth(\"s2\", [\\amp, 0.1])"
   ]
  },
  {
   "cell_type": "code",
   "execution_count": 14,
   "metadata": {
    "execution": {
     "iopub.execute_input": "2023-08-22T12:11:09.655242Z",
     "iopub.status.busy": "2023-08-22T12:11:09.654976Z",
     "iopub.status.idle": "2023-08-22T12:11:09.687250Z",
     "shell.execute_reply": "2023-08-22T12:11:09.686264Z"
    }
   },
   "outputs": [
    {
     "name": "stdout",
     "output_type": "stream",
     "text": [
      "NODE TREE Group 0\n",
      "   469762049 group\n",
      "   402653185 group\n",
      "   335544321 group\n",
      "   268435457 group\n",
      "   201326593 group\n",
      "   134217729 group\n",
      "   67108865 group\n",
      "      20001 s2\n",
      "        freq: 440 amp: 0.050000000745058 num: 4 pan: 1 lg: 0.10000000149012 gate: 1\n",
      "   1 group\n",
      "      1000 s2\n",
      "        freq: 400 amp: 0.10000000149012 num: 4 pan: 0 lg: 0.10000000149012 gate: 1\n",
      "      10001 s2\n",
      "        freq: 100 amp: 0.050000000745058 num: 4 pan: -1 lg: 0.10000000149012 gate: 1\n"
     ]
    }
   ],
   "source": [
    "sc.server.dump_tree()"
   ]
  },
  {
   "cell_type": "markdown",
   "metadata": {},
   "source": [
    "This also means freeing all Synths at once can be done with each client"
   ]
  },
  {
   "cell_type": "code",
   "execution_count": 15,
   "metadata": {
    "execution": {
     "iopub.execute_input": "2023-08-22T12:11:09.691451Z",
     "iopub.status.busy": "2023-08-22T12:11:09.691120Z",
     "iopub.status.idle": "2023-08-22T12:11:09.767827Z",
     "shell.execute_reply": "2023-08-22T12:11:09.766476Z"
    }
   },
   "outputs": [],
   "source": [
    "sc.server.free_all()\n",
    "# serv.free_all() \n",
    "# %sc s.freeAll"
   ]
  },
  {
   "cell_type": "code",
   "execution_count": 16,
   "metadata": {
    "execution": {
     "iopub.execute_input": "2023-08-22T12:11:09.772954Z",
     "iopub.status.busy": "2023-08-22T12:11:09.772171Z",
     "iopub.status.idle": "2023-08-22T12:11:09.794197Z",
     "shell.execute_reply": "2023-08-22T12:11:09.793262Z"
    }
   },
   "outputs": [
    {
     "name": "stdout",
     "output_type": "stream",
     "text": [
      "NODE TREE Group 0\n",
      "   469762049 group\n",
      "   402653185 group\n",
      "   335544321 group\n",
      "   268435457 group\n",
      "   201326593 group\n",
      "   134217729 group\n",
      "   67108865 group\n",
      "   1 group\n"
     ]
    }
   ],
   "source": [
    "sc.server.dump_tree()"
   ]
  },
  {
   "cell_type": "markdown",
   "metadata": {},
   "source": [
    "and quitting one server also quits the others."
   ]
  },
  {
   "cell_type": "code",
   "execution_count": 17,
   "metadata": {
    "execution": {
     "iopub.execute_input": "2023-08-22T12:11:09.798571Z",
     "iopub.status.busy": "2023-08-22T12:11:09.798242Z",
     "iopub.status.idle": "2023-08-22T12:11:09.849713Z",
     "shell.execute_reply": "2023-08-22T12:11:09.847464Z"
    }
   },
   "outputs": [
    {
     "name": "stdout",
     "output_type": "stream",
     "text": [
      "Quitting SCServer... "
     ]
    },
    {
     "name": "stdout",
     "output_type": "stream",
     "text": [
      "Done.\n"
     ]
    },
    {
     "name": "stdout",
     "output_type": "stream",
     "text": [
      "[scsynth | reached EOF ]\n"
     ]
    }
   ],
   "source": [
    "serv.quit()"
   ]
  },
  {
   "cell_type": "code",
   "execution_count": 18,
   "metadata": {
    "execution": {
     "iopub.execute_input": "2023-08-22T12:11:09.855037Z",
     "iopub.status.busy": "2023-08-22T12:11:09.854477Z",
     "iopub.status.idle": "2023-08-22T12:11:09.860066Z",
     "shell.execute_reply": "2023-08-22T12:11:09.859388Z"
    }
   },
   "outputs": [
    {
     "data": {
      "text/plain": [
       "<SCServer addr=('127.0.0.1', 57110), process=<Process 'scsynth' (died) pid=14669>>"
      ]
     },
     "execution_count": 18,
     "metadata": {},
     "output_type": "execute_result"
    }
   ],
   "source": [
    "sc.server"
   ]
  },
  {
   "cell_type": "markdown",
   "metadata": {},
   "source": [
    "Let's reboot the default server"
   ]
  },
  {
   "cell_type": "code",
   "execution_count": 19,
   "metadata": {
    "execution": {
     "iopub.execute_input": "2023-08-22T12:11:09.863641Z",
     "iopub.status.busy": "2023-08-22T12:11:09.863296Z",
     "iopub.status.idle": "2023-08-22T12:11:15.696312Z",
     "shell.execute_reply": "2023-08-22T12:11:15.695305Z"
    }
   },
   "outputs": [
    {
     "name": "stdout",
     "output_type": "stream",
     "text": [
      "Quitting SCServer... "
     ]
    },
    {
     "name": "stdout",
     "output_type": "stream",
     "text": [
      "Done.\n",
      "Booting SuperCollider Server... [scsynth | start reading ]\n",
      "[scsynth]  Number of Devices: 2\n",
      "[scsynth]     0 : \"Built-in Microph\"\n",
      "[scsynth]     1 : \"Built-in Output\"\n",
      "[scsynth]  \n",
      "[scsynth]  \"Built-in Microph\" Input Device\n",
      "[scsynth]     Streams: 1\n",
      "[scsynth]        0  channels 2\n",
      "[scsynth]  \n",
      "[scsynth]  \"Built-in Output\" Output Device\n",
      "[scsynth]     Streams: 1\n",
      "[scsynth]        0  channels 2\n",
      "[scsynth]  \n",
      "[scsynth]  SC_AudioDriver: sample rate = 44100.000000, driver's block size = 512\n",
      "[scsynth]  SuperCollider 3 server ready.\n"
     ]
    },
    {
     "name": "stdout",
     "output_type": "stream",
     "text": [
      "Done.\n"
     ]
    }
   ],
   "source": [
    "sc.server.reboot()"
   ]
  },
  {
   "cell_type": "markdown",
   "metadata": {},
   "source": [
    "More information about [multi client setups](http://doc.sccode.org/Guides/MultiClient_Setups.html) can be found in the SuperCollider documentation."
   ]
  },
  {
   "cell_type": "markdown",
   "metadata": {},
   "source": [
    "## Configuring Server options\n",
    "\n",
    "Startup options of the `SCServer` instance can be set via `ServerOptions`, which can be passed as argument when starting the `SCServer`"
   ]
  },
  {
   "cell_type": "markdown",
   "metadata": {},
   "source": [
    "The default ServerOptions in sc3nb are:"
   ]
  },
  {
   "cell_type": "code",
   "execution_count": 20,
   "metadata": {
    "execution": {
     "iopub.execute_input": "2023-08-22T12:11:15.701560Z",
     "iopub.status.busy": "2023-08-22T12:11:15.701178Z",
     "iopub.status.idle": "2023-08-22T12:11:15.706304Z",
     "shell.execute_reply": "2023-08-22T12:11:15.705531Z"
    }
   },
   "outputs": [
    {
     "data": {
      "text/plain": [
       "<ServerOptions ['-u', '57110', '-l', '6', '-i', '2', '-o', '2', '-a', '1024', '-c', '4096', '-b', '1024', '-R', '0']>"
      ]
     },
     "execution_count": 20,
     "metadata": {},
     "output_type": "execute_result"
    }
   ],
   "source": [
    "scn.ServerOptions()"
   ]
  },
  {
   "cell_type": "markdown",
   "metadata": {},
   "source": [
    "## Getting Information\n",
    "\n",
    "The `SCServer` instance provides various kinds of information"
   ]
  },
  {
   "cell_type": "markdown",
   "metadata": {},
   "source": [
    "* What nodes are currently running"
   ]
  },
  {
   "cell_type": "code",
   "execution_count": 21,
   "metadata": {
    "execution": {
     "iopub.execute_input": "2023-08-22T12:11:15.710044Z",
     "iopub.status.busy": "2023-08-22T12:11:15.709755Z",
     "iopub.status.idle": "2023-08-22T12:11:15.730473Z",
     "shell.execute_reply": "2023-08-22T12:11:15.729692Z"
    }
   },
   "outputs": [
    {
     "name": "stdout",
     "output_type": "stream",
     "text": [
      "[scsynth]  NODE TREE Group 0\n",
      "[scsynth]     469762049 group\n",
      "[scsynth]     402653185 group\n",
      "[scsynth]     335544321 group\n",
      "[scsynth]     268435457 group\n",
      "[scsynth]     201326593 group\n",
      "[scsynth]     134217729 group\n",
      "[scsynth]     67108865 group\n",
      "[scsynth]     1 group\n",
      "NODE TREE Group 0\n",
      "   469762049 group\n",
      "   402653185 group\n",
      "   335544321 group\n",
      "   268435457 group\n",
      "   201326593 group\n",
      "   134217729 group\n",
      "   67108865 group\n",
      "   1 group\n"
     ]
    }
   ],
   "source": [
    "sc.server.dump_tree()"
   ]
  },
  {
   "cell_type": "code",
   "execution_count": 22,
   "metadata": {
    "execution": {
     "iopub.execute_input": "2023-08-22T12:11:15.734580Z",
     "iopub.status.busy": "2023-08-22T12:11:15.734099Z",
     "iopub.status.idle": "2023-08-22T12:11:15.742144Z",
     "shell.execute_reply": "2023-08-22T12:11:15.741447Z"
    }
   },
   "outputs": [
    {
     "data": {
      "text/plain": [
       "Group(0)  {} children=[\n",
       "  Group(469762049) s {} children=[],\n",
       "  Group(402653185) s {} children=[],\n",
       "  Group(335544321) s {} children=[],\n",
       "  Group(268435457) s {} children=[],\n",
       "  Group(201326593) s {} children=[],\n",
       "  Group(134217729) s {} children=[],\n",
       "  Group(67108865) s {} children=[],\n",
       "  Group(1) ~ {} children=[]]"
      ]
     },
     "execution_count": 22,
     "metadata": {},
     "output_type": "execute_result"
    }
   ],
   "source": [
    "sc.server.query_tree()"
   ]
  },
  {
   "cell_type": "markdown",
   "metadata": {},
   "source": [
    "* The current status of the server, acquired via the `/status` OSC command"
   ]
  },
  {
   "cell_type": "code",
   "execution_count": 23,
   "metadata": {
    "execution": {
     "iopub.execute_input": "2023-08-22T12:11:15.745452Z",
     "iopub.status.busy": "2023-08-22T12:11:15.745171Z",
     "iopub.status.idle": "2023-08-22T12:11:15.753071Z",
     "shell.execute_reply": "2023-08-22T12:11:15.752263Z"
    }
   },
   "outputs": [
    {
     "data": {
      "text/plain": [
       "ServerStatus(num_ugens=6, num_synths=1, num_groups=9, num_synthdefs=7, avg_cpu=0.1315929889678955, peak_cpu=0.4720767140388489, nominal_sr=44100.0, actual_sr=44099.99999874949)"
      ]
     },
     "execution_count": 23,
     "metadata": {},
     "output_type": "execute_result"
    }
   ],
   "source": [
    "sc.server.status()"
   ]
  },
  {
   "cell_type": "markdown",
   "metadata": {},
   "source": [
    "which can also be accessed directly via properties"
   ]
  },
  {
   "cell_type": "code",
   "execution_count": 24,
   "metadata": {
    "execution": {
     "iopub.execute_input": "2023-08-22T12:11:15.756361Z",
     "iopub.status.busy": "2023-08-22T12:11:15.756073Z",
     "iopub.status.idle": "2023-08-22T12:11:15.764019Z",
     "shell.execute_reply": "2023-08-22T12:11:15.763382Z"
    }
   },
   "outputs": [
    {
     "data": {
      "text/plain": [
       "44100.0"
      ]
     },
     "execution_count": 24,
     "metadata": {},
     "output_type": "execute_result"
    }
   ],
   "source": [
    "sc.server.nominal_sr"
   ]
  },
  {
   "cell_type": "code",
   "execution_count": 25,
   "metadata": {
    "execution": {
     "iopub.execute_input": "2023-08-22T12:11:15.767493Z",
     "iopub.status.busy": "2023-08-22T12:11:15.767123Z",
     "iopub.status.idle": "2023-08-22T12:11:15.776311Z",
     "shell.execute_reply": "2023-08-22T12:11:15.775637Z"
    }
   },
   "outputs": [
    {
     "data": {
      "text/plain": [
       "7"
      ]
     },
     "execution_count": 25,
     "metadata": {},
     "output_type": "execute_result"
    }
   ],
   "source": [
    "sc.server.num_synthdefs"
   ]
  },
  {
   "cell_type": "markdown",
   "metadata": {},
   "source": [
    "* the version of the SC3 server process, acquired via the `/version` OSC command"
   ]
  },
  {
   "cell_type": "code",
   "execution_count": 26,
   "metadata": {
    "execution": {
     "iopub.execute_input": "2023-08-22T12:11:15.779709Z",
     "iopub.status.busy": "2023-08-22T12:11:15.779429Z",
     "iopub.status.idle": "2023-08-22T12:11:15.787922Z",
     "shell.execute_reply": "2023-08-22T12:11:15.787266Z"
    }
   },
   "outputs": [
    {
     "data": {
      "text/plain": [
       "ServerVersion(name='scsynth', major_version=3, minor_version=13, patch_version='.0', git_branch='Version-3.13.0', commit='3188503')"
      ]
     },
     "execution_count": 26,
     "metadata": {},
     "output_type": "execute_result"
    }
   ],
   "source": [
    "sc.server.version()"
   ]
  },
  {
   "cell_type": "markdown",
   "metadata": {},
   "source": [
    "* the address of the SuperCollider audio server"
   ]
  },
  {
   "cell_type": "code",
   "execution_count": 27,
   "metadata": {
    "execution": {
     "iopub.execute_input": "2023-08-22T12:11:15.791507Z",
     "iopub.status.busy": "2023-08-22T12:11:15.791090Z",
     "iopub.status.idle": "2023-08-22T12:11:15.796074Z",
     "shell.execute_reply": "2023-08-22T12:11:15.795436Z"
    }
   },
   "outputs": [
    {
     "data": {
      "text/plain": [
       "('127.0.0.1', 57110)"
      ]
     },
     "execution_count": 27,
     "metadata": {},
     "output_type": "execute_result"
    }
   ],
   "source": [
    "sc.server.addr"
   ]
  },
  {
   "cell_type": "markdown",
   "metadata": {},
   "source": [
    "* The connection info"
   ]
  },
  {
   "cell_type": "code",
   "execution_count": 28,
   "metadata": {
    "execution": {
     "iopub.execute_input": "2023-08-22T12:11:15.799473Z",
     "iopub.status.busy": "2023-08-22T12:11:15.798979Z",
     "iopub.status.idle": "2023-08-22T12:11:15.804239Z",
     "shell.execute_reply": "2023-08-22T12:11:15.803551Z"
    }
   },
   "outputs": [
    {
     "name": "stdout",
     "output_type": "stream",
     "text": [
      "This instance is at ('127.0.0.1', 57131),\n",
      "Known receivers: \"scsynth\" at ('127.0.0.1', 57110)\n",
      "                 \"sclang\" at ('127.0.0.1', 57120)\n",
      "                 \n"
     ]
    },
    {
     "data": {
      "text/plain": [
       "(('127.0.0.1', 57131),\n",
       " {('127.0.0.1', 57110): 'scsynth', ('127.0.0.1', 57120): 'sclang'})"
      ]
     },
     "execution_count": 28,
     "metadata": {},
     "output_type": "execute_result"
    }
   ],
   "source": [
    "sc.server.connection_info()"
   ]
  },
  {
   "cell_type": "markdown",
   "metadata": {},
   "source": [
    "* other runtime properties of the Server"
   ]
  },
  {
   "cell_type": "code",
   "execution_count": 29,
   "metadata": {
    "execution": {
     "iopub.execute_input": "2023-08-22T12:11:15.807768Z",
     "iopub.status.busy": "2023-08-22T12:11:15.807149Z",
     "iopub.status.idle": "2023-08-22T12:11:15.811948Z",
     "shell.execute_reply": "2023-08-22T12:11:15.811357Z"
    }
   },
   "outputs": [
    {
     "data": {
      "text/plain": [
       "True"
      ]
     },
     "execution_count": 29,
     "metadata": {},
     "output_type": "execute_result"
    }
   ],
   "source": [
    "sc.server.has_booted"
   ]
  },
  {
   "cell_type": "code",
   "execution_count": 30,
   "metadata": {
    "execution": {
     "iopub.execute_input": "2023-08-22T12:11:15.815039Z",
     "iopub.status.busy": "2023-08-22T12:11:15.814756Z",
     "iopub.status.idle": "2023-08-22T12:11:15.819766Z",
     "shell.execute_reply": "2023-08-22T12:11:15.818974Z"
    }
   },
   "outputs": [
    {
     "data": {
      "text/plain": [
       "True"
      ]
     },
     "execution_count": 30,
     "metadata": {},
     "output_type": "execute_result"
    }
   ],
   "source": [
    "sc.server.is_running"
   ]
  },
  {
   "cell_type": "code",
   "execution_count": 31,
   "metadata": {
    "execution": {
     "iopub.execute_input": "2023-08-22T12:11:15.822805Z",
     "iopub.status.busy": "2023-08-22T12:11:15.822513Z",
     "iopub.status.idle": "2023-08-22T12:11:15.827182Z",
     "shell.execute_reply": "2023-08-22T12:11:15.826547Z"
    }
   },
   "outputs": [
    {
     "data": {
      "text/plain": [
       "1"
      ]
     },
     "execution_count": 31,
     "metadata": {},
     "output_type": "execute_result"
    }
   ],
   "source": [
    "sc.server.client_id"
   ]
  },
  {
   "cell_type": "code",
   "execution_count": 32,
   "metadata": {
    "execution": {
     "iopub.execute_input": "2023-08-22T12:11:15.830204Z",
     "iopub.status.busy": "2023-08-22T12:11:15.829944Z",
     "iopub.status.idle": "2023-08-22T12:11:15.834379Z",
     "shell.execute_reply": "2023-08-22T12:11:15.833517Z"
    }
   },
   "outputs": [
    {
     "data": {
      "text/plain": [
       "8"
      ]
     },
     "execution_count": 32,
     "metadata": {},
     "output_type": "execute_result"
    }
   ],
   "source": [
    "sc.server.max_logins"
   ]
  },
  {
   "cell_type": "code",
   "execution_count": 33,
   "metadata": {
    "execution": {
     "iopub.execute_input": "2023-08-22T12:11:15.837415Z",
     "iopub.status.busy": "2023-08-22T12:11:15.837153Z",
     "iopub.status.idle": "2023-08-22T12:11:15.841936Z",
     "shell.execute_reply": "2023-08-22T12:11:15.841269Z"
    }
   },
   "outputs": [
    {
     "data": {
      "text/plain": [
       "Group(67108865) s {} children=[]"
      ]
     },
     "execution_count": 33,
     "metadata": {},
     "output_type": "execute_result"
    }
   ],
   "source": [
    "sc.server.default_group"
   ]
  },
  {
   "cell_type": "code",
   "execution_count": 34,
   "metadata": {
    "execution": {
     "iopub.execute_input": "2023-08-22T12:11:15.845038Z",
     "iopub.status.busy": "2023-08-22T12:11:15.844764Z",
     "iopub.status.idle": "2023-08-22T12:11:15.849266Z",
     "shell.execute_reply": "2023-08-22T12:11:15.848606Z"
    }
   },
   "outputs": [
    {
     "data": {
      "text/plain": [
       "Bus(rate='audio', ids=[0, 1])"
      ]
     },
     "execution_count": 34,
     "metadata": {},
     "output_type": "execute_result"
    }
   ],
   "source": [
    "sc.server.output_bus"
   ]
  },
  {
   "cell_type": "code",
   "execution_count": 35,
   "metadata": {
    "execution": {
     "iopub.execute_input": "2023-08-22T12:11:15.852808Z",
     "iopub.status.busy": "2023-08-22T12:11:15.852525Z",
     "iopub.status.idle": "2023-08-22T12:11:15.857233Z",
     "shell.execute_reply": "2023-08-22T12:11:15.856302Z"
    }
   },
   "outputs": [
    {
     "data": {
      "text/plain": [
       "Bus(rate='audio', ids=[2, 3])"
      ]
     },
     "execution_count": 35,
     "metadata": {},
     "output_type": "execute_result"
    }
   ],
   "source": [
    "sc.server.input_bus"
   ]
  },
  {
   "cell_type": "markdown",
   "metadata": {},
   "source": [
    "## Controlling Volume"
   ]
  },
  {
   "cell_type": "code",
   "execution_count": 36,
   "metadata": {
    "execution": {
     "iopub.execute_input": "2023-08-22T12:11:15.860383Z",
     "iopub.status.busy": "2023-08-22T12:11:15.860123Z",
     "iopub.status.idle": "2023-08-22T12:11:15.863566Z",
     "shell.execute_reply": "2023-08-22T12:11:15.863017Z"
    }
   },
   "outputs": [],
   "source": [
    "syn = scn.Synth(\"s2\")"
   ]
  },
  {
   "cell_type": "code",
   "execution_count": 37,
   "metadata": {
    "execution": {
     "iopub.execute_input": "2023-08-22T12:11:15.866688Z",
     "iopub.status.busy": "2023-08-22T12:11:15.866410Z",
     "iopub.status.idle": "2023-08-22T12:11:15.870830Z",
     "shell.execute_reply": "2023-08-22T12:11:15.870281Z"
    }
   },
   "outputs": [
    {
     "data": {
      "text/plain": [
       "0.0"
      ]
     },
     "execution_count": 37,
     "metadata": {},
     "output_type": "execute_result"
    }
   ],
   "source": [
    "sc.server.volume"
   ]
  },
  {
   "cell_type": "code",
   "execution_count": 38,
   "metadata": {
    "execution": {
     "iopub.execute_input": "2023-08-22T12:11:15.873977Z",
     "iopub.status.busy": "2023-08-22T12:11:15.873645Z",
     "iopub.status.idle": "2023-08-22T12:11:15.878194Z",
     "shell.execute_reply": "2023-08-22T12:11:15.877584Z"
    }
   },
   "outputs": [
    {
     "data": {
      "text/plain": [
       "1.0"
      ]
     },
     "execution_count": 38,
     "metadata": {},
     "output_type": "execute_result"
    }
   ],
   "source": [
    "scn.dbamp(sc.server.volume)"
   ]
  },
  {
   "cell_type": "code",
   "execution_count": 39,
   "metadata": {
    "execution": {
     "iopub.execute_input": "2023-08-22T12:11:15.881065Z",
     "iopub.status.busy": "2023-08-22T12:11:15.880809Z",
     "iopub.status.idle": "2023-08-22T12:11:15.885455Z",
     "shell.execute_reply": "2023-08-22T12:11:15.884826Z"
    }
   },
   "outputs": [
    {
     "data": {
      "text/plain": [
       "False"
      ]
     },
     "execution_count": 39,
     "metadata": {},
     "output_type": "execute_result"
    }
   ],
   "source": [
    "sc.server.muted"
   ]
  },
  {
   "cell_type": "code",
   "execution_count": 40,
   "metadata": {
    "execution": {
     "iopub.execute_input": "2023-08-22T12:11:15.888422Z",
     "iopub.status.busy": "2023-08-22T12:11:15.888162Z",
     "iopub.status.idle": "2023-08-22T12:11:15.903875Z",
     "shell.execute_reply": "2023-08-22T12:11:15.902898Z"
    }
   },
   "outputs": [],
   "source": [
    "sc.server.muted = True"
   ]
  },
  {
   "cell_type": "code",
   "execution_count": 41,
   "metadata": {
    "execution": {
     "iopub.execute_input": "2023-08-22T12:11:15.907811Z",
     "iopub.status.busy": "2023-08-22T12:11:15.907513Z",
     "iopub.status.idle": "2023-08-22T12:11:15.911011Z",
     "shell.execute_reply": "2023-08-22T12:11:15.910370Z"
    }
   },
   "outputs": [],
   "source": [
    "sc.server.volume = -10.0"
   ]
  },
  {
   "cell_type": "code",
   "execution_count": 42,
   "metadata": {
    "execution": {
     "iopub.execute_input": "2023-08-22T12:11:15.914316Z",
     "iopub.status.busy": "2023-08-22T12:11:15.914034Z",
     "iopub.status.idle": "2023-08-22T12:11:15.918844Z",
     "shell.execute_reply": "2023-08-22T12:11:15.918166Z"
    }
   },
   "outputs": [
    {
     "data": {
      "text/plain": [
       "0.31622776601683794"
      ]
     },
     "execution_count": 42,
     "metadata": {},
     "output_type": "execute_result"
    }
   ],
   "source": [
    "scn.dbamp(sc.server.volume)"
   ]
  },
  {
   "cell_type": "code",
   "execution_count": 43,
   "metadata": {
    "execution": {
     "iopub.execute_input": "2023-08-22T12:11:15.922108Z",
     "iopub.status.busy": "2023-08-22T12:11:15.921830Z",
     "iopub.status.idle": "2023-08-22T12:11:15.925461Z",
     "shell.execute_reply": "2023-08-22T12:11:15.924787Z"
    }
   },
   "outputs": [],
   "source": [
    "sc.server.muted = False"
   ]
  },
  {
   "cell_type": "code",
   "execution_count": 44,
   "metadata": {
    "execution": {
     "iopub.execute_input": "2023-08-22T12:11:15.928837Z",
     "iopub.status.busy": "2023-08-22T12:11:15.928387Z",
     "iopub.status.idle": "2023-08-22T12:11:15.931793Z",
     "shell.execute_reply": "2023-08-22T12:11:15.931090Z"
    }
   },
   "outputs": [],
   "source": [
    "sc.server.volume = 0.0"
   ]
  },
  {
   "cell_type": "code",
   "execution_count": 45,
   "metadata": {
    "execution": {
     "iopub.execute_input": "2023-08-22T12:11:15.935392Z",
     "iopub.status.busy": "2023-08-22T12:11:15.935100Z",
     "iopub.status.idle": "2023-08-22T12:11:15.939619Z",
     "shell.execute_reply": "2023-08-22T12:11:15.939064Z"
    }
   },
   "outputs": [
    {
     "data": {
      "text/plain": [
       "1.0"
      ]
     },
     "execution_count": 45,
     "metadata": {},
     "output_type": "execute_result"
    }
   ],
   "source": [
    "scn.dbamp(sc.server.volume)"
   ]
  },
  {
   "cell_type": "code",
   "execution_count": 46,
   "metadata": {
    "execution": {
     "iopub.execute_input": "2023-08-22T12:11:15.943099Z",
     "iopub.status.busy": "2023-08-22T12:11:15.942802Z",
     "iopub.status.idle": "2023-08-22T12:11:15.948891Z",
     "shell.execute_reply": "2023-08-22T12:11:15.948214Z"
    }
   },
   "outputs": [],
   "source": [
    "syn.free()\n",
    "syn.wait(timeout=1)"
   ]
  },
  {
   "cell_type": "markdown",
   "metadata": {},
   "source": [
    "## Server dumps\n",
    "\n",
    "The Server process can dump information about"
   ]
  },
  {
   "cell_type": "markdown",
   "metadata": {},
   "source": [
    "* incoming OSC packages. See console for output"
   ]
  },
  {
   "cell_type": "code",
   "execution_count": 47,
   "metadata": {
    "execution": {
     "iopub.execute_input": "2023-08-22T12:11:15.952696Z",
     "iopub.status.busy": "2023-08-22T12:11:15.952407Z",
     "iopub.status.idle": "2023-08-22T12:11:15.956130Z",
     "shell.execute_reply": "2023-08-22T12:11:15.955451Z"
    }
   },
   "outputs": [],
   "source": [
    "sc.server.dump_osc() # specify level=0 to deactivate"
   ]
  },
  {
   "cell_type": "markdown",
   "metadata": {},
   "source": [
    "* currently running Nodes "
   ]
  },
  {
   "cell_type": "code",
   "execution_count": 48,
   "metadata": {
    "execution": {
     "iopub.execute_input": "2023-08-22T12:11:15.960466Z",
     "iopub.status.busy": "2023-08-22T12:11:15.959972Z",
     "iopub.status.idle": "2023-08-22T12:11:15.993527Z",
     "shell.execute_reply": "2023-08-22T12:11:15.992712Z"
    }
   },
   "outputs": [
    {
     "name": "stdout",
     "output_type": "stream",
     "text": [
      "[scsynth]  [ \"/g_dumpTree\", 0, 1 ]\n",
      "[scsynth]  NODE TREE Group 0\n",
      "[scsynth]     -24 s1\n",
      "[scsynth]       freq: 1000 amp: 0.050000000745058 num: 2 pan: 0 dur: 0.10000000149012 att: 0 curve: 42\n",
      "[scsynth]     469762049 group\n",
      "[scsynth]     402653185 group\n",
      "[scsynth]     335544321 group\n",
      "[scsynth]     268435457 group\n",
      "[scsynth]     201326593 group\n",
      "[scsynth]     134217729 group\n",
      "[scsynth]     67108865 group\n",
      "[scsynth]     20002 sc3nb_volumeAmpControl2\n",
      "[scsynth]       volumeAmp: 0.31622776389122 volumeLag: 0.10000000149012 gate: 0 bus: 0\n",
      "[scsynth]     1 group\n",
      "[ \"/g_dumpTree\", 0, 1 ]\n",
      "NODE TREE Group 0\n",
      "   -24 s1\n",
      "     freq: 1000 amp: 0.050000000745058 num: 2 pan: 0 dur: 0.10000000149012 att: 0 curve: 42\n",
      "   469762049 group\n",
      "   402653185 group\n",
      "   335544321 group\n",
      "   268435457 group\n",
      "   201326593 group\n",
      "   134217729 group\n",
      "   67108865 group\n",
      "   20002 sc3nb_volumeAmpControl2\n",
      "     volumeAmp: 0.31622776389122 volumeLag: 0.10000000149012 gate: 0 bus: 0\n",
      "   1 group\n"
     ]
    }
   ],
   "source": [
    "sc.server.dump_tree()  # Notice how the OSC packet is now included in the output "
   ]
  },
  {
   "cell_type": "code",
   "execution_count": 49,
   "metadata": {
    "execution": {
     "iopub.execute_input": "2023-08-22T12:11:15.997408Z",
     "iopub.status.busy": "2023-08-22T12:11:15.997091Z",
     "iopub.status.idle": "2023-08-22T12:11:16.003156Z",
     "shell.execute_reply": "2023-08-22T12:11:16.002230Z"
    }
   },
   "outputs": [
    {
     "name": "stdout",
     "output_type": "stream",
     "text": [
      "[scsynth]  [ \"#bundle\", 16757652751023798272, \n",
      "[scsynth]    [ \"#bundle\", 16757652751023798272, \n",
      "[scsynth]      [ \"/error\", 0 ]\n",
      "[scsynth]    ],\n",
      "[scsynth]    [ \"#bundle\", 16757652751023798272, \n",
      "[scsynth]      [ \"/s_new\", \"s1\", -1, 0, 0, \"freq\", 500, \"dur\", 0.1, \"num\", 1 ]\n",
      "[scsynth]    ],\n",
      "[scsynth]    [ \"#bundle\", 16757652751882792960, \n",
      "[scsynth]      [ \"/s_new\", \"s1\", -1, 0, 0, \"freq\", 1000, \"amp\", 0.05, \"num\", 2, \"att\", 0, \"dur\", 0.1, \"curve\", 42 ]\n",
      "[scsynth]    ],\n",
      "[scsynth]    [ \"#bundle\", 16757652751882792960, \n",
      "[scsynth]      [ \"/error\", 1 ]\n",
      "[scsynth]    ]\n",
      "[scsynth]  ]\n"
     ]
    }
   ],
   "source": [
    "sc.server.blip() # see dumped bundle for test sound on console"
   ]
  },
  {
   "cell_type": "markdown",
   "metadata": {},
   "source": [
    "## Make a test sound\n",
    "\n",
    "The following methods produces the `SCServer` startup sound.\n",
    "The test sound should ease any anxiety whether the server is properly started/running"
   ]
  },
  {
   "cell_type": "code",
   "execution_count": 50,
   "metadata": {
    "execution": {
     "iopub.execute_input": "2023-08-22T12:11:16.006954Z",
     "iopub.status.busy": "2023-08-22T12:11:16.006678Z",
     "iopub.status.idle": "2023-08-22T12:11:16.011572Z",
     "shell.execute_reply": "2023-08-22T12:11:16.010913Z"
    }
   },
   "outputs": [
    {
     "name": "stdout",
     "output_type": "stream",
     "text": [
      "[scsynth]  [ \"#bundle\", 16757652751063226368, \n",
      "[scsynth]    [ \"#bundle\", 16757652751063226368, \n",
      "[scsynth]      [ \"/error\", 0 ]\n",
      "[scsynth]    ],\n",
      "[scsynth]    [ \"#bundle\", 16757652751063226368, \n",
      "[scsynth]      [ \"/s_new\", \"s1\", -1, 0, 0, \"freq\", 500, \"dur\", 0.1, \"num\", 1 ]\n",
      "[scsynth]    ],\n",
      "[scsynth]    [ \"#bundle\", 16757652751922221056, \n",
      "[scsynth]      [ \"/s_new\", \"s1\", -1, 0, 0, \"freq\", 1000, \"amp\", 0.05, \"num\", 2, \"att\", 0, \"dur\", 0.1, \"curve\", 42 ]\n",
      "[scsynth]    ],\n",
      "[scsynth]    [ \"#bundle\", 16757652751922221056, \n",
      "[scsynth]      [ \"/error\", 1 ]\n",
      "[scsynth]    ]\n",
      "[scsynth]  ]\n"
     ]
    }
   ],
   "source": [
    "sc.server.blip()"
   ]
  },
  {
   "cell_type": "markdown",
   "metadata": {},
   "source": [
    "## Managing Nodes"
   ]
  },
  {
   "cell_type": "markdown",
   "metadata": {},
   "source": [
    "* freeing all running nodes and reinitialize the server"
   ]
  },
  {
   "cell_type": "code",
   "execution_count": 51,
   "metadata": {
    "execution": {
     "iopub.execute_input": "2023-08-22T12:11:16.014811Z",
     "iopub.status.busy": "2023-08-22T12:11:16.014530Z",
     "iopub.status.idle": "2023-08-22T12:11:16.089725Z",
     "shell.execute_reply": "2023-08-22T12:11:16.088762Z"
    }
   },
   "outputs": [
    {
     "name": "stdout",
     "output_type": "stream",
     "text": [
      "[scsynth]  [ \"/g_freeAll\", 0 ]\n",
      "[scsynth]  [ \"/clearSched\", ]\n",
      "[scsynth]  [ \"/g_new\", 1, 0, 0 ]\n",
      "[scsynth]  [ \"/g_new\", 67108865, 0, 0 ]\n",
      "[scsynth]  [ \"/g_new\", 134217729, 0, 0 ]\n",
      "[scsynth]  [ \"/g_new\", 201326593, 0, 0 ]\n",
      "[scsynth]  [ \"/g_new\", 268435457, 0, 0 ]\n",
      "[scsynth]  [ \"/g_new\", 335544321, 0, 0 ]\n",
      "[scsynth]  [ \"/g_new\", 402653185, 0, 0 ]\n",
      "[scsynth]  [ \"/g_new\", 469762049, 0, 0 ]\n",
      "[scsynth]  [ \"/d_recv\", DATA[396] ]\n",
      "[scsynth]  [ \"/g_new\", 1, 0, 0 ]\n",
      "[scsynth]  [ \"#bundle\", 1, \n",
      "[scsynth]    [ \"/sync\", 1007 ]\n",
      "[scsynth]  ]\n",
      "[scsynth]  [ \"/sync\", 7801 ]\n",
      "[scsynth]  [ \"#bundle\", 1, \n",
      "[scsynth]    [ \"/sync\", 1008 ]\n",
      "[scsynth]  ]\n"
     ]
    }
   ],
   "source": [
    "sc.server.free_all()"
   ]
  },
  {
   "cell_type": "code",
   "execution_count": 52,
   "metadata": {
    "execution": {
     "iopub.execute_input": "2023-08-22T12:11:16.093960Z",
     "iopub.status.busy": "2023-08-22T12:11:16.093394Z",
     "iopub.status.idle": "2023-08-22T12:11:16.172979Z",
     "shell.execute_reply": "2023-08-22T12:11:16.170353Z"
    }
   },
   "outputs": [
    {
     "name": "stdout",
     "output_type": "stream",
     "text": [
      "[scsynth]  [ \"/g_freeAll\", 67108865 ]\n",
      "[scsynth]  [ \"/clearSched\", ]\n",
      "[scsynth]  [ \"/g_new\", 67108865, 0, 0 ]\n",
      "[scsynth]  [ \"/d_recv\", DATA[396] ]\n",
      "[scsynth]  [ \"/notify\", 1, 0 ]\n",
      "[scsynth]  [ \"/g_new\", 1, 0, 0 ]\n",
      "[scsynth]  [ \"#bundle\", 1, \n",
      "[scsynth]    [ \"/sync\", 1009 ]\n",
      "[scsynth]  ]\n",
      "[scsynth]  [ \"/d_recv\", DATA[3037], 0 ]\n",
      "[scsynth]  [ \"/d_recv\", DATA[1220], 0 ]\n",
      "[scsynth]  [ \"/sync\", 9722 ]\n",
      "[scsynth]  [ \"/d_recv\", DATA[1285], 0 ]\n",
      "[scsynth]  [ \"/d_recv\", DATA[1120], 0 ]\n",
      "[scsynth]  [ \"/d_recv\", DATA[2192], 0 ]\n",
      "[scsynth]  [ \"/d_recv\", DATA[1135], 0 ]\n",
      "[scsynth]  [ \"/d_recv\", DATA[190], 0 ]\n",
      "[scsynth]  [ \"/d_recv\", DATA[1684], 0 ]\n",
      "[scsynth]  [ \"/d_recv\", DATA[254], 0 ]\n",
      "[scsynth]  [ \"/d_recv\", DATA[1685], 0 ]\n",
      "[scsynth]  [ \"/d_recv\", DATA[1385], 0 ]\n",
      "[scsynth]  [ \"/d_recv\", DATA[2290], 0 ]\n",
      "[scsynth]  [ \"/d_recv\", DATA[1851], 0 ]\n",
      "[scsynth]  [ \"/d_recv\", DATA[469], 0 ]\n",
      "[scsynth]  [ \"/d_recv\", DATA[1444], 0 ]\n",
      "[scsynth]  [ \"/d_recv\", DATA[619], 0 ]\n",
      "[scsynth]  [ \"/d_recv\", DATA[1277], 0 ]\n",
      "[scsynth]  [ \"/d_recv\", DATA[1117], 0 ]\n",
      "[scsynth]  [ \"/d_recv\", DATA[1020], 0 ]\n",
      "[scsynth]  [ \"/d_recv\", DATA[670], 0 ]\n",
      "[scsynth]  [ \"/d_recv\", DATA[1103], 0 ]\n",
      "[scsynth]  [ \"/d_recv\", DATA[869], 0 ]\n",
      "[scsynth]  [ \"/d_recv\", DATA[163], 0 ]\n",
      "[scsynth]  [ \"/d_recv\", DATA[684], 0 ]\n",
      "[scsynth]  [ \"/d_recv\", DATA[217], 0 ]\n"
     ]
    },
    {
     "name": "stdout",
     "output_type": "stream",
     "text": [
      "[scsynth]  [ \"/d_recv\", DATA[299], 0 ]\n",
      "[scsynth]  [ \"/d_recv\", DATA[719], 0 ]\n",
      "[scsynth]  [ \"/d_recv\", DATA[1339], 0 ]\n",
      "[scsynth]  [ \"/d_recv\", DATA[884], 0 ]\n",
      "[scsynth]  [ \"/d_recv\", DATA[688], 0 ]\n",
      "[scsynth]  [ \"/d_recv\", DATA[172], 0 ]\n",
      "[scsynth]  [ \"/d_recv\", DATA[569], 0 ]\n",
      "[scsynth]  [ \"/d_recv\", DATA[181], 0 ]\n"
     ]
    },
    {
     "name": "stdout",
     "output_type": "stream",
     "text": [
      "[scsynth]  [ \"/d_recv\", DATA[1055], 0 ]\n",
      "[scsynth]  [ \"/d_recv\", DATA[984], 0 ]\n",
      "[scsynth]  [ \"/d_recv\", DATA[599], 0 ]\n"
     ]
    }
   ],
   "source": [
    "sc.server.free_all(root=False)  # only frees the default group of this client"
   ]
  },
  {
   "cell_type": "markdown",
   "metadata": {},
   "source": [
    "* send the `/clearSched` OSC command. This is automatically done when using `free_all`"
   ]
  },
  {
   "cell_type": "code",
   "execution_count": 53,
   "metadata": {
    "execution": {
     "iopub.execute_input": "2023-08-22T12:11:16.177996Z",
     "iopub.status.busy": "2023-08-22T12:11:16.177255Z",
     "iopub.status.idle": "2023-08-22T12:11:16.184338Z",
     "shell.execute_reply": "2023-08-22T12:11:16.181867Z"
    }
   },
   "outputs": [
    {
     "name": "stdout",
     "output_type": "stream",
     "text": [
      "[scsynth]  [ \"/d_recv\", DATA[290], 0 ]\n",
      "[scsynth]  [ \"/d_recv\", DATA[226], 0 ]\n",
      "[scsynth]  [ \"/d_recv\", DATA[2699], 0 ]\n",
      "[scsynth]  [ \"/d_recv\", DATA[1346], 0 ]\n",
      "[scsynth]  [ \"/d_recv\", DATA[920], 0 ]\n",
      "[scsynth]  [ \"/d_recv\", DATA[1519], 0 ]\n",
      "[scsynth]  [ \"/d_recv\", DATA[784], 0 ]\n",
      "[scsynth]  [ \"/d_recv\", DATA[839], 0 ]\n",
      "[scsynth]  [ \"/d_recv\", DATA[819], 0 ]\n",
      "[scsynth]  [ \"/d_recv\", DATA[272], 0 ]\n",
      "[scsynth]  [ \"/d_recv\", DATA[634], 0 ]\n",
      "[scsynth]  [ \"/d_recv\", DATA[1070], 0 ]\n",
      "[scsynth]  [ \"/d_recv\", DATA[937], 0 ]\n",
      "[scsynth]  [ \"/clearSched\", ]\n",
      "[scsynth]  [ \"/d_recv\", DATA[1269], 0 ]\n"
     ]
    },
    {
     "name": "stdout",
     "output_type": "stream",
     "text": [
      "[scsynth]  [ \"/d_recv\", DATA[771], 0 ]\n",
      "[scsynth]  [ \"/d_recv\", DATA[1085], 0 ]\n",
      "[scsynth]  [ \"/d_recv\", DATA[1020], 0 ]\n",
      "[scsynth]  [ \"/d_recv\", DATA[1185], 0 ]\n"
     ]
    }
   ],
   "source": [
    "sc.server.clear_schedule()"
   ]
  },
  {
   "cell_type": "markdown",
   "metadata": {},
   "source": [
    "* Execute init hooks. This is also automatically done when using `free_all`, `init` or `connect_sclang`"
   ]
  },
  {
   "cell_type": "code",
   "execution_count": 54,
   "metadata": {
    "execution": {
     "iopub.execute_input": "2023-08-22T12:11:16.190084Z",
     "iopub.status.busy": "2023-08-22T12:11:16.189592Z",
     "iopub.status.idle": "2023-08-22T12:11:16.277135Z",
     "shell.execute_reply": "2023-08-22T12:11:16.276380Z"
    }
   },
   "outputs": [
    {
     "name": "stdout",
     "output_type": "stream",
     "text": [
      "[scsynth]  [ \"/d_recv\", DATA[199], 0 ]\n",
      "[scsynth]  [ \"/d_recv\", DATA[2797], 0 ]\n",
      "[scsynth]  [ \"/d_recv\", DATA[1275], 0 ]\n",
      "[scsynth]  [ \"/d_recv\", DATA[1436], 0 ]\n",
      "[scsynth]  [ \"/d_recv\", DATA[1235], 0 ]\n",
      "[scsynth]  [ \"/d_recv\", DATA[2459], 0 ]\n",
      "[scsynth]  [ \"/d_recv\", DATA[1613], 0 ]\n",
      "[scsynth]  [ \"/d_recv\", DATA[1335], 0 ]\n",
      "[scsynth]  [ \"/d_recv\", DATA[1515], 0 ]\n",
      "[scsynth]  [ \"/d_recv\", DATA[1170], 0 ]\n",
      "[scsynth]  [ \"/d_recv\", DATA[2361], 0 ]\n",
      "[scsynth]  [ \"/d_recv\", DATA[1339], 0 ]\n",
      "[scsynth]  [ \"/d_recv\", DATA[1782], 0 ]\n",
      "[scsynth]  [ \"/d_recv\", DATA[937], 0 ]\n",
      "[scsynth]  [ \"/d_recv\", DATA[1186], 0 ]\n",
      "[scsynth]  [ \"/d_recv\", DATA[208], 0 ]\n",
      "[scsynth]  [ \"/d_recv\", DATA[669], 0 ]\n",
      "[scsynth]  [ \"/d_recv\", DATA[1353], 0 ]\n",
      "[scsynth]  [ \"/d_recv\", DATA[501], 0 ]\n"
     ]
    },
    {
     "name": "stdout",
     "output_type": "stream",
     "text": [
      "[scsynth]  [ \"/d_recv\", DATA[769], 0 ]\n",
      "[scsynth]  [ \"/d_recv\", DATA[2121], 0 ]\n",
      "[scsynth]  [ \"/d_recv\", DATA[2868], 0 ]\n",
      "[scsynth]  [ \"/d_recv\", DATA[263], 0 ]\n",
      "[scsynth]  [ \"/d_recv\", DATA[605], 0 ]\n",
      "[scsynth]  [ \"/d_recv\", DATA[1034], 0 ]\n",
      "[scsynth]  [ \"/d_recv\", DATA[519], 0 ]\n",
      "[scsynth]  [ \"/d_recv\", DATA[1853], 0 ]\n",
      "[scsynth]  [ \"/d_recv\", DATA[1952], 0 ]\n"
     ]
    },
    {
     "name": "stdout",
     "output_type": "stream",
     "text": [
      "[scsynth]  [ \"/d_recv\", DATA[281], 0 ]\n",
      "[scsynth]  [ \"/d_recv\", DATA[1117], 0 ]\n",
      "[scsynth]  [ \"/d_recv\", DATA[2023], 0 ]\n",
      "[scsynth]  [ \"/d_recv\", DATA[1055], 0 ]\n",
      "[scsynth]  [ \"/d_recv\", DATA[964], 0 ]\n",
      "[scsynth]  [ \"/d_recv\", DATA[934], 0 ]\n",
      "[scsynth]  [ \"/d_recv\", DATA[1106], 0 ]\n",
      "[scsynth]  [ \"/d_recv\", DATA[430], 0 ]\n",
      "[scsynth]  [ \"/d_recv\", DATA[734], 0 ]\n",
      "[scsynth]  [ \"/d_recv\", DATA[970], 0 ]\n",
      "[scsynth]  [ \"/d_recv\", DATA[768], 0 ]\n",
      "[scsynth]  [ \"/d_recv\", DATA[235], 0 ]\n",
      "[scsynth]  [ \"/d_recv\", DATA[834], 0 ]\n",
      "[scsynth]  [ \"/d_recv\", DATA[2628], 0 ]\n",
      "[scsynth]  [ \"/d_recv\", DATA[1768], 0 ]\n"
     ]
    },
    {
     "name": "stdout",
     "output_type": "stream",
     "text": [
      "[scsynth]  [ \"/d_recv\", DATA[2966], 0 ]\n",
      "[scsynth]  [ \"/d_recv\", DATA[854], 0 ]\n",
      "[scsynth]  [ \"/d_recv\", DATA[1008], 0 ]\n",
      "[scsynth]  [ \"/d_recv\", DATA[2530], 0 ]\n",
      "[scsynth]  [ \"/d_recv\", DATA[245], 0 ]\n",
      "[scsynth]  [ \"/d_recv\", DATA[1177], 0 ]\n",
      "[scsynth]  [ \"/d_recv\", DATA[1602], 0 ]\n",
      "[scsynth]  [ \"/d_recv\", DATA[1277], 0 ]\n",
      "[scsynth]  [ \"/d_recv\", DATA[396], 0 ]\n",
      "[scsynth]  [ \"#bundle\", 1, \n",
      "[scsynth]    [ \"/sync\", 1010 ]\n",
      "[scsynth]  ]\n",
      "[scsynth]  [ \"/d_recv\", DATA[390], 0 ]\n",
      "[scsynth]  [ \"#bundle\", 1, \n",
      "[scsynth]    [ \"/sync\", 1011 ]\n",
      "[scsynth]  ]\n",
      "[scsynth]  [ \"#bundle\", 1, \n",
      "[scsynth]    [ \"/sync\", 1012 ]\n",
      "[scsynth]  ]\n",
      "[scsynth]  [ \"/d_recv\", DATA[396] ]\n",
      "[scsynth]  [ \"/g_new\", 1, 0, 0 ]\n",
      "[scsynth]  [ \"/g_new\", 67108865, 0, 0 ]\n",
      "[scsynth]  [ \"/g_new\", 134217729, 0, 0 ]\n",
      "[scsynth]  [ \"/g_new\", 201326593, 0, 0 ]\n",
      "[scsynth]  [ \"/g_new\", 268435457, 0, 0 ]\n",
      "[scsynth]  [ \"/g_new\", 335544321, 0, 0 ]\n",
      "[scsynth]  [ \"/g_new\", 402653185, 0, 0 ]\n",
      "[scsynth]  [ \"/g_new\", 469762049, 0, 0 ]\n",
      "[scsynth]  [ \"#bundle\", 1, \n",
      "[scsynth]    [ \"/sync\", 1013 ]\n",
      "[scsynth]  ]\n",
      "[scsynth]  [ \"/g_new\", 1, 0, 0 ]\n",
      "[scsynth]  [ \"/g_new\", 67108865, 0, 0 ]\n",
      "[scsynth]  [ \"/g_new\", 134217729, 0, 0 ]\n",
      "[scsynth]  [ \"/g_new\", 201326593, 0, 0 ]\n",
      "[scsynth]  [ \"/g_new\", 268435457, 0, 0 ]\n",
      "[scsynth]  [ \"/g_new\", 335544321, 0, 0 ]\n",
      "[scsynth]  [ \"/g_new\", 402653185, 0, 0 ]\n",
      "[scsynth]  [ \"/g_new\", 469762049, 0, 0 ]\n",
      "[scsynth]  [ \"#bundle\", 1, \n",
      "[scsynth]    [ \"/sync\", 1014 ]\n",
      "[scsynth]  ]\n",
      "[scsynth]  [ \"#bundle\", 1, \n",
      "[scsynth]    [ \"/sync\", 1015 ]\n",
      "[scsynth]  ]\n"
     ]
    }
   ],
   "source": [
    "sc.server.execute_init_hooks()"
   ]
  },
  {
   "cell_type": "markdown",
   "metadata": {},
   "source": [
    "* Adding init hooks. "
   ]
  },
  {
   "cell_type": "code",
   "execution_count": 55,
   "metadata": {
    "execution": {
     "iopub.execute_input": "2023-08-22T12:11:16.280491Z",
     "iopub.status.busy": "2023-08-22T12:11:16.280185Z",
     "iopub.status.idle": "2023-08-22T12:11:16.286680Z",
     "shell.execute_reply": "2023-08-22T12:11:16.284875Z"
    }
   },
   "outputs": [
    {
     "data": {
      "text/plain": [
       "<bound method SCServer.send_default_groups of <SCServer addr=('127.0.0.1', 57110), process=<Process 'scsynth' (running) pid=14677>>>"
      ]
     },
     "execution_count": 55,
     "metadata": {},
     "output_type": "execute_result"
    },
    {
     "name": "stdout",
     "output_type": "stream",
     "text": [
      "[scsynth]  [ \"#bundle\", 1, \n",
      "[scsynth]    [ \"/sync\", 1016 ]\n",
      "[scsynth]  ]\n"
     ]
    }
   ],
   "source": [
    "sc.server.send_default_groups"
   ]
  },
  {
   "cell_type": "markdown",
   "metadata": {},
   "source": [
    "* Syncing the SuperCollider audio server by sending a `/sync` OSC command and waiting for the reply."
   ]
  },
  {
   "cell_type": "code",
   "execution_count": 56,
   "metadata": {
    "execution": {
     "iopub.execute_input": "2023-08-22T12:11:16.291515Z",
     "iopub.status.busy": "2023-08-22T12:11:16.291111Z",
     "iopub.status.idle": "2023-08-22T12:11:16.311590Z",
     "shell.execute_reply": "2023-08-22T12:11:16.310749Z"
    }
   },
   "outputs": [
    {
     "name": "stdout",
     "output_type": "stream",
     "text": [
      "[scsynth]  [ \"/sync\", 4756 ]\n"
     ]
    },
    {
     "data": {
      "text/plain": [
       "True"
      ]
     },
     "execution_count": 56,
     "metadata": {},
     "output_type": "execute_result"
    }
   ],
   "source": [
    "sc.server.sync()"
   ]
  },
  {
   "cell_type": "markdown",
   "metadata": {},
   "source": [
    "## Allocating IDs"
   ]
  },
  {
   "cell_type": "markdown",
   "metadata": {},
   "source": [
    "The `SCServer` instance manages the IDs for Nodes, Buffers and Buses for the SuperCollider Objects via the following methods.\n",
    "These can also be used for getting suitable IDs when manually creating OSC packages."
   ]
  },
  {
   "cell_type": "markdown",
   "metadata": {},
   "source": [
    "* Get the IDs via the allocator."
   ]
  },
  {
   "cell_type": "code",
   "execution_count": 57,
   "metadata": {
    "execution": {
     "iopub.execute_input": "2023-08-22T12:11:16.315620Z",
     "iopub.status.busy": "2023-08-22T12:11:16.315300Z",
     "iopub.status.idle": "2023-08-22T12:11:16.322032Z",
     "shell.execute_reply": "2023-08-22T12:11:16.321396Z"
    }
   },
   "outputs": [
    {
     "data": {
      "text/plain": [
       "[128, 129]"
      ]
     },
     "execution_count": 57,
     "metadata": {},
     "output_type": "execute_result"
    }
   ],
   "source": [
    "ids = sc.server.buffer_ids.allocate(num=2)\n",
    "ids"
   ]
  },
  {
   "cell_type": "markdown",
   "metadata": {},
   "source": [
    "* Free the IDs after usage via the allocator."
   ]
  },
  {
   "cell_type": "code",
   "execution_count": 58,
   "metadata": {
    "execution": {
     "iopub.execute_input": "2023-08-22T12:11:16.325398Z",
     "iopub.status.busy": "2023-08-22T12:11:16.325113Z",
     "iopub.status.idle": "2023-08-22T12:11:16.328642Z",
     "shell.execute_reply": "2023-08-22T12:11:16.328012Z"
    }
   },
   "outputs": [],
   "source": [
    "sc.server.buffer_ids.free(ids)"
   ]
  },
  {
   "cell_type": "markdown",
   "metadata": {},
   "source": [
    "There are allocators for\n",
    "\n",
    "* Nodes - `sc.server.node_ids`\n",
    "* Buffer - `sc.server.buffer_ids`\n",
    "* Buses (Audio and Control) - `sc.server.audio_bus_ids`, `sc.server.control_bus_ids`"
   ]
  },
  {
   "cell_type": "code",
   "execution_count": 59,
   "metadata": {
    "execution": {
     "iopub.execute_input": "2023-08-22T12:11:16.331823Z",
     "iopub.status.busy": "2023-08-22T12:11:16.331568Z",
     "iopub.status.idle": "2023-08-22T12:11:16.712555Z",
     "shell.execute_reply": "2023-08-22T12:11:16.711585Z"
    }
   },
   "outputs": [
    {
     "name": "stdout",
     "output_type": "stream",
     "text": [
      "Quitting SCServer... [scsynth]  [ \"/quit\", ]\n"
     ]
    },
    {
     "name": "stdout",
     "output_type": "stream",
     "text": [
      "[scsynth | reached EOF ]\n",
      "Done.\n",
      "Booting SuperCollider Server... "
     ]
    },
    {
     "name": "stdout",
     "output_type": "stream",
     "text": [
      "[scsynth | start reading ]\n"
     ]
    },
    {
     "name": "stdout",
     "output_type": "stream",
     "text": [
      "[scsynth]  Number of Devices: 2\n",
      "[scsynth]     0 : \"Built-in Microph\"\n",
      "[scsynth]     1 : \"Built-in Output\"\n",
      "[scsynth]  \n",
      "[scsynth]  \"Built-in Microph\" Input Device\n",
      "[scsynth]     Streams: 1\n",
      "[scsynth]        0  channels 2\n",
      "[scsynth]  \n",
      "[scsynth]  \"Built-in Output\" Output Device\n",
      "[scsynth]     Streams: 1\n",
      "[scsynth]        0  channels 2\n",
      "[scsynth]  \n",
      "[scsynth]  SC_AudioDriver: sample rate = 44100.000000, driver's block size = 512\n"
     ]
    },
    {
     "name": "stdout",
     "output_type": "stream",
     "text": [
      "[scsynth]  SuperCollider 3 server ready.\n"
     ]
    },
    {
     "name": "stdout",
     "output_type": "stream",
     "text": [
      "Done.\n"
     ]
    }
   ],
   "source": [
    "sc.server.reboot()"
   ]
  },
  {
   "cell_type": "code",
   "execution_count": 60,
   "metadata": {
    "execution": {
     "iopub.execute_input": "2023-08-22T12:11:16.717257Z",
     "iopub.status.busy": "2023-08-22T12:11:16.716668Z",
     "iopub.status.idle": "2023-08-22T12:11:16.748035Z",
     "shell.execute_reply": "2023-08-22T12:11:16.747157Z"
    }
   },
   "outputs": [
    {
     "name": "stdout",
     "output_type": "stream",
     "text": [
      "5 buffers: [128, 129, 130, 131, 132]\n",
      "freed buffers  [128, 129]\n",
      "allocated 4 buffers: [133, 134, 135, 136] -> new numbers to be consecutive\n"
     ]
    },
    {
     "name": "stdout",
     "output_type": "stream",
     "text": [
      "allocated 2 buffers: [128, 129] -> using the two freed before\n"
     ]
    }
   ],
   "source": [
    "# example to see how consecutive buffer alloc works:\n",
    "ids = sc.server.buffer_ids.allocate(num=5)\n",
    "print(\"5 buffers:\", ids)\n",
    "sc.server.buffer_ids.free(ids[0:2])\n",
    "print(\"freed buffers \", ids[0:2])\n",
    "ids4 = sc.server.buffer_ids.allocate(num=4)\n",
    "print(\"allocated 4 buffers:\", ids4, \"-> new numbers to be consecutive\")\n",
    "sc.server.sync()\n",
    "ids2 = sc.server.buffer_ids.allocate(num=2)\n",
    "print(\"allocated 2 buffers:\", ids2, \"-> using the two freed before\")"
   ]
  },
  {
   "cell_type": "markdown",
   "metadata": {},
   "source": [
    "## Handling SynthDefs\n",
    "\n",
    "The server offers the following methods for handling SynthDefs.\n",
    "These are shortcuts for the respective SynthDef methods.\n",
    "\n",
    "```\n",
    "sc.server.send_synthdef\n",
    "sc.server.load_synthdef\n",
    "sc.server.load_synthdefs\n",
    "```\n",
    "Refer to the [SynthDef guide](synthdef-examples.ipynb) for more information about SynthDefs."
   ]
  },
  {
   "cell_type": "code",
   "execution_count": 61,
   "metadata": {
    "execution": {
     "iopub.execute_input": "2023-08-22T12:11:16.752805Z",
     "iopub.status.busy": "2023-08-22T12:11:16.752463Z",
     "iopub.status.idle": "2023-08-22T12:11:16.845252Z",
     "shell.execute_reply": "2023-08-22T12:11:16.844586Z"
    }
   },
   "outputs": [
    {
     "name": "stdout",
     "output_type": "stream",
     "text": [
      "Quitting SCServer... [scsynth | reached EOF ]\n",
      "Done.\n",
      "Exiting sclang... [sclang | reached EOF ]\n"
     ]
    },
    {
     "name": "stdout",
     "output_type": "stream",
     "text": [
      "Done.\n"
     ]
    }
   ],
   "source": [
    "sc.exit()"
   ]
  }
 ],
 "metadata": {
  "hide_input": false,
  "language_info": {
   "codemirror_mode": {
    "name": "ipython",
    "version": 3
   },
   "file_extension": ".py",
   "mimetype": "text/x-python",
   "name": "python",
   "nbconvert_exporter": "python",
   "pygments_lexer": "ipython3",
   "version": "3.10.11"
  },
  "toc": {
   "base_numbering": 1,
   "nav_menu": {},
   "number_sections": true,
   "sideBar": true,
   "skip_h1_title": false,
   "title_cell": "Table of Contents",
   "title_sidebar": "Contents",
   "toc_cell": false,
   "toc_position": {},
   "toc_section_display": true,
   "toc_window_display": true
  }
 },
 "nbformat": 4,
 "nbformat_minor": 4
}
