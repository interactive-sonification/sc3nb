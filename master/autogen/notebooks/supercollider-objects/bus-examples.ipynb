{
 "cells": [
  {
   "cell_type": "markdown",
   "metadata": {},
   "source": [
    "# Bus"
   ]
  },
  {
   "cell_type": "code",
   "execution_count": 1,
   "metadata": {
    "execution": {
     "iopub.execute_input": "2021-07-19T13:36:10.932958Z",
     "iopub.status.busy": "2021-07-19T13:36:10.932958Z",
     "iopub.status.idle": "2021-07-19T13:36:11.108958Z",
     "shell.execute_reply": "2021-07-19T13:36:11.108958Z"
    }
   },
   "outputs": [],
   "source": [
    "import sc3nb as scn"
   ]
  },
  {
   "cell_type": "code",
   "execution_count": 2,
   "metadata": {
    "execution": {
     "iopub.execute_input": "2021-07-19T13:36:11.117960Z",
     "iopub.status.busy": "2021-07-19T13:36:11.116958Z",
     "iopub.status.idle": "2021-07-19T13:36:14.234495Z",
     "shell.execute_reply": "2021-07-19T13:36:14.234495Z"
    }
   },
   "outputs": [
    {
     "data": {
      "application/javascript": [
       "if (typeof Jupyter !== 'undefined') {\n",
       "                        Jupyter.keyboard_manager.command_shortcuts.add_shortcut(\n",
       "                        'Ctrl-.', {\n",
       "                        help : 'Free all nodes on SC server',\n",
       "                        help_index : 'zz',\n",
       "                        handler : function (event) {\n",
       "                            IPython.notebook.kernel.execute(\n",
       "                                \"import sc3nb; sc3nb.SC.get_default().server.free_all(root=True)\"\n",
       "                            )\n",
       "                            return true;}\n",
       "                        });\n",
       "                    }"
      ],
      "text/plain": [
       "<IPython.core.display.Javascript object>"
      ]
     },
     "metadata": {},
     "output_type": "display_data"
    },
    {
     "name": "stdout",
     "output_type": "stream",
     "text": [
      "Starting sclang process... "
     ]
    },
    {
     "name": "stdout",
     "output_type": "stream",
     "text": [
      "Done.\n",
      "Registering OSC /return callback in sclang... Done.\n",
      "Loading default sc3nb SynthDefs... Done.\n",
      "Booting SuperCollider Server... "
     ]
    },
    {
     "name": "stdout",
     "output_type": "stream",
     "text": [
      "Done.\n"
     ]
    }
   ],
   "source": [
    "sc = scn.startup()"
   ]
  },
  {
   "cell_type": "markdown",
   "metadata": {},
   "source": [
    "## Using a Control Bus"
   ]
  },
  {
   "cell_type": "code",
   "execution_count": 3,
   "metadata": {
    "execution": {
     "iopub.execute_input": "2021-07-19T13:36:14.238494Z",
     "iopub.status.busy": "2021-07-19T13:36:14.238494Z",
     "iopub.status.idle": "2021-07-19T13:36:14.240495Z",
     "shell.execute_reply": "2021-07-19T13:36:14.240495Z"
    }
   },
   "outputs": [
    {
     "data": {
      "text/plain": [
       "Bus(rate='control', ids=[512])"
      ]
     },
     "execution_count": 3,
     "metadata": {},
     "output_type": "execute_result"
    }
   ],
   "source": [
    "bus = scn.Bus('control')\n",
    "bus"
   ]
  },
  {
   "cell_type": "code",
   "execution_count": 4,
   "metadata": {
    "execution": {
     "iopub.execute_input": "2021-07-19T13:36:14.243495Z",
     "iopub.status.busy": "2021-07-19T13:36:14.242495Z",
     "iopub.status.idle": "2021-07-19T13:36:14.255496Z",
     "shell.execute_reply": "2021-07-19T13:36:14.255496Z"
    }
   },
   "outputs": [
    {
     "data": {
      "text/plain": [
       "0.0"
      ]
     },
     "execution_count": 4,
     "metadata": {},
     "output_type": "execute_result"
    }
   ],
   "source": [
    "bus.get()"
   ]
  },
  {
   "cell_type": "code",
   "execution_count": 5,
   "metadata": {
    "execution": {
     "iopub.execute_input": "2021-07-19T13:36:14.258497Z",
     "iopub.status.busy": "2021-07-19T13:36:14.258497Z",
     "iopub.status.idle": "2021-07-19T13:36:14.270495Z",
     "shell.execute_reply": "2021-07-19T13:36:14.270495Z"
    }
   },
   "outputs": [],
   "source": [
    "syn = scn.Synth(\"s2\")"
   ]
  },
  {
   "cell_type": "markdown",
   "metadata": {},
   "source": [
    "map the frequency of the synth to the bus value"
   ]
  },
  {
   "cell_type": "code",
   "execution_count": 6,
   "metadata": {
    "execution": {
     "iopub.execute_input": "2021-07-19T13:36:14.274494Z",
     "iopub.status.busy": "2021-07-19T13:36:14.273494Z",
     "iopub.status.idle": "2021-07-19T13:36:14.276495Z",
     "shell.execute_reply": "2021-07-19T13:36:14.276495Z"
    }
   },
   "outputs": [
    {
     "data": {
      "text/plain": [
       "<Synth(20001) 's2' s {}>"
      ]
     },
     "execution_count": 6,
     "metadata": {},
     "output_type": "execute_result"
    }
   ],
   "source": [
    "syn.map(\"freq\", bus)"
   ]
  },
  {
   "cell_type": "code",
   "execution_count": 7,
   "metadata": {
    "execution": {
     "iopub.execute_input": "2021-07-19T13:36:14.281497Z",
     "iopub.status.busy": "2021-07-19T13:36:14.280495Z",
     "iopub.status.idle": "2021-07-19T13:36:14.284495Z",
     "shell.execute_reply": "2021-07-19T13:36:14.285494Z"
    }
   },
   "outputs": [
    {
     "data": {
      "text/plain": [
       "Bus(rate='control', ids=[512])"
      ]
     },
     "execution_count": 7,
     "metadata": {},
     "output_type": "execute_result"
    }
   ],
   "source": [
    "bus.set(120) # changes synths frequency"
   ]
  },
  {
   "cell_type": "code",
   "execution_count": 8,
   "metadata": {
    "execution": {
     "iopub.execute_input": "2021-07-19T13:36:14.289495Z",
     "iopub.status.busy": "2021-07-19T13:36:14.288494Z",
     "iopub.status.idle": "2021-07-19T13:36:14.290495Z",
     "shell.execute_reply": "2021-07-19T13:36:14.290495Z"
    }
   },
   "outputs": [
    {
     "data": {
      "text/plain": [
       "Bus(rate='control', ids=[512])"
      ]
     },
     "execution_count": 8,
     "metadata": {},
     "output_type": "execute_result"
    }
   ],
   "source": [
    "bus.set(440)"
   ]
  },
  {
   "cell_type": "markdown",
   "metadata": {},
   "source": [
    "Set the frequency value to remove the mapping"
   ]
  },
  {
   "cell_type": "code",
   "execution_count": 9,
   "metadata": {
    "execution": {
     "iopub.execute_input": "2021-07-19T13:36:14.294495Z",
     "iopub.status.busy": "2021-07-19T13:36:14.294495Z",
     "iopub.status.idle": "2021-07-19T13:36:14.296494Z",
     "shell.execute_reply": "2021-07-19T13:36:14.297495Z"
    }
   },
   "outputs": [
    {
     "data": {
      "text/plain": [
       "<Synth(20001) 's2' ~ {'freq': 220}>"
      ]
     },
     "execution_count": 9,
     "metadata": {},
     "output_type": "execute_result"
    }
   ],
   "source": [
    "syn.set(\"freq\", 220)"
   ]
  },
  {
   "cell_type": "code",
   "execution_count": 10,
   "metadata": {
    "execution": {
     "iopub.execute_input": "2021-07-19T13:36:14.300495Z",
     "iopub.status.busy": "2021-07-19T13:36:14.300495Z",
     "iopub.status.idle": "2021-07-19T13:36:14.302494Z",
     "shell.execute_reply": "2021-07-19T13:36:14.302494Z"
    }
   },
   "outputs": [
    {
     "data": {
      "text/plain": [
       "Bus(rate='control', ids=[512])"
      ]
     },
     "execution_count": 10,
     "metadata": {},
     "output_type": "execute_result"
    }
   ],
   "source": [
    "bus.set(440)  # no change"
   ]
  },
  {
   "cell_type": "code",
   "execution_count": 11,
   "metadata": {
    "execution": {
     "iopub.execute_input": "2021-07-19T13:36:14.306495Z",
     "iopub.status.busy": "2021-07-19T13:36:14.306495Z",
     "iopub.status.idle": "2021-07-19T13:36:14.308495Z",
     "shell.execute_reply": "2021-07-19T13:36:14.308495Z"
    }
   },
   "outputs": [
    {
     "data": {
      "text/plain": [
       "<Synth(20001) 's2' f {'freq': 220}>"
      ]
     },
     "execution_count": 11,
     "metadata": {},
     "output_type": "execute_result"
    }
   ],
   "source": [
    "syn.free()"
   ]
  },
  {
   "cell_type": "markdown",
   "metadata": {},
   "source": [
    "Free the bus to mark the bus id as available again"
   ]
  },
  {
   "cell_type": "code",
   "execution_count": 12,
   "metadata": {
    "execution": {
     "iopub.execute_input": "2021-07-19T13:36:14.311496Z",
     "iopub.status.busy": "2021-07-19T13:36:14.310495Z",
     "iopub.status.idle": "2021-07-19T13:36:14.312495Z",
     "shell.execute_reply": "2021-07-19T13:36:14.312495Z"
    }
   },
   "outputs": [],
   "source": [
    "bus.free()"
   ]
  },
  {
   "cell_type": "markdown",
   "metadata": {},
   "source": [
    "## Use multiple Control Buses"
   ]
  },
  {
   "cell_type": "code",
   "execution_count": 13,
   "metadata": {
    "execution": {
     "iopub.execute_input": "2021-07-19T13:36:14.316494Z",
     "iopub.status.busy": "2021-07-19T13:36:14.315494Z",
     "iopub.status.idle": "2021-07-19T13:36:14.345495Z",
     "shell.execute_reply": "2021-07-19T13:36:14.346494Z"
    }
   },
   "outputs": [],
   "source": [
    "synth_name = scn.SynthDef(\"busMulti\", \"\"\"{ |out, freqs=#[200, 400], rates=#[1, 2] |\n",
    "    Out.ar(out, Splay.ar(SinOsc.ar(freqs) * Decay2.ar(Impulse.ar(rates), 0.001, 0.1)) * 0.5);\n",
    "}\"\"\").add()"
   ]
  },
  {
   "cell_type": "code",
   "execution_count": 14,
   "metadata": {
    "execution": {
     "iopub.execute_input": "2021-07-19T13:36:14.350496Z",
     "iopub.status.busy": "2021-07-19T13:36:14.348497Z",
     "iopub.status.idle": "2021-07-19T13:36:14.352494Z",
     "shell.execute_reply": "2021-07-19T13:36:14.352494Z"
    }
   },
   "outputs": [
    {
     "data": {
      "text/plain": [
       "Bus(rate='control', ids=[512, 513])"
      ]
     },
     "execution_count": 14,
     "metadata": {},
     "output_type": "execute_result"
    }
   ],
   "source": [
    "buses = scn.Bus(\"control\", 2)\n",
    "buses"
   ]
  },
  {
   "cell_type": "code",
   "execution_count": 15,
   "metadata": {
    "execution": {
     "iopub.execute_input": "2021-07-19T13:36:14.356495Z",
     "iopub.status.busy": "2021-07-19T13:36:14.355495Z",
     "iopub.status.idle": "2021-07-19T13:36:14.365498Z",
     "shell.execute_reply": "2021-07-19T13:36:14.365498Z"
    }
   },
   "outputs": [
    {
     "data": {
      "text/plain": [
       "[0.0, 0.0]"
      ]
     },
     "execution_count": 15,
     "metadata": {},
     "output_type": "execute_result"
    }
   ],
   "source": [
    "buses.get()"
   ]
  },
  {
   "cell_type": "code",
   "execution_count": 16,
   "metadata": {
    "execution": {
     "iopub.execute_input": "2021-07-19T13:36:14.368495Z",
     "iopub.status.busy": "2021-07-19T13:36:14.367495Z",
     "iopub.status.idle": "2021-07-19T13:36:14.381497Z",
     "shell.execute_reply": "2021-07-19T13:36:14.381497Z"
    }
   },
   "outputs": [],
   "source": [
    "syn = scn.Synth(synth_name)"
   ]
  },
  {
   "cell_type": "code",
   "execution_count": 17,
   "metadata": {
    "execution": {
     "iopub.execute_input": "2021-07-19T13:36:14.386495Z",
     "iopub.status.busy": "2021-07-19T13:36:14.386495Z",
     "iopub.status.idle": "2021-07-19T13:36:14.388497Z",
     "shell.execute_reply": "2021-07-19T13:36:14.389497Z"
    }
   },
   "outputs": [
    {
     "data": {
      "text/plain": [
       "<Synth(20002) 'busMulti' ~ {}>"
      ]
     },
     "execution_count": 17,
     "metadata": {},
     "output_type": "execute_result"
    }
   ],
   "source": [
    "syn.map(\"rates\", buses)"
   ]
  },
  {
   "cell_type": "code",
   "execution_count": 18,
   "metadata": {
    "execution": {
     "iopub.execute_input": "2021-07-19T13:36:14.394496Z",
     "iopub.status.busy": "2021-07-19T13:36:14.394496Z",
     "iopub.status.idle": "2021-07-19T13:36:14.398494Z",
     "shell.execute_reply": "2021-07-19T13:36:14.398494Z"
    }
   },
   "outputs": [
    {
     "data": {
      "text/plain": [
       "Bus(rate='control', ids=[512, 513])"
      ]
     },
     "execution_count": 18,
     "metadata": {},
     "output_type": "execute_result"
    }
   ],
   "source": [
    "buses.set(1, 1)"
   ]
  },
  {
   "cell_type": "code",
   "execution_count": 19,
   "metadata": {
    "execution": {
     "iopub.execute_input": "2021-07-19T13:36:14.402494Z",
     "iopub.status.busy": "2021-07-19T13:36:14.401495Z",
     "iopub.status.idle": "2021-07-19T13:36:14.404495Z",
     "shell.execute_reply": "2021-07-19T13:36:14.404495Z"
    }
   },
   "outputs": [
    {
     "data": {
      "text/plain": [
       "Bus(rate='control', ids=[512, 513])"
      ]
     },
     "execution_count": 19,
     "metadata": {},
     "output_type": "execute_result"
    }
   ],
   "source": [
    "buses.set(1, 2)"
   ]
  },
  {
   "cell_type": "code",
   "execution_count": 20,
   "metadata": {
    "execution": {
     "iopub.execute_input": "2021-07-19T13:36:14.407495Z",
     "iopub.status.busy": "2021-07-19T13:36:14.406495Z",
     "iopub.status.idle": "2021-07-19T13:36:14.414497Z",
     "shell.execute_reply": "2021-07-19T13:36:14.414497Z"
    }
   },
   "outputs": [
    {
     "data": {
      "text/plain": [
       "[1.0, 2.0]"
      ]
     },
     "execution_count": 20,
     "metadata": {},
     "output_type": "execute_result"
    }
   ],
   "source": [
    "buses.get()"
   ]
  },
  {
   "cell_type": "code",
   "execution_count": 21,
   "metadata": {
    "execution": {
     "iopub.execute_input": "2021-07-19T13:36:14.419494Z",
     "iopub.status.busy": "2021-07-19T13:36:14.418495Z",
     "iopub.status.idle": "2021-07-19T13:36:14.421494Z",
     "shell.execute_reply": "2021-07-19T13:36:14.421494Z"
    }
   },
   "outputs": [
    {
     "data": {
      "text/plain": [
       "<Synth(20002) 'busMulti' f {}>"
      ]
     },
     "execution_count": 21,
     "metadata": {},
     "output_type": "execute_result"
    }
   ],
   "source": [
    "syn.free()"
   ]
  },
  {
   "cell_type": "code",
   "execution_count": 22,
   "metadata": {
    "execution": {
     "iopub.execute_input": "2021-07-19T13:36:14.424494Z",
     "iopub.status.busy": "2021-07-19T13:36:14.423495Z",
     "iopub.status.idle": "2021-07-19T13:36:14.426494Z",
     "shell.execute_reply": "2021-07-19T13:36:14.426494Z"
    }
   },
   "outputs": [],
   "source": [
    "buses.free()"
   ]
  },
  {
   "cell_type": "code",
   "execution_count": 23,
   "metadata": {
    "execution": {
     "iopub.execute_input": "2021-07-19T13:36:14.428495Z",
     "iopub.status.busy": "2021-07-19T13:36:14.428495Z",
     "iopub.status.idle": "2021-07-19T13:36:14.503495Z",
     "shell.execute_reply": "2021-07-19T13:36:14.503495Z"
    }
   },
   "outputs": [],
   "source": [
    "sc.server.free_all()"
   ]
  },
  {
   "cell_type": "code",
   "execution_count": 24,
   "metadata": {
    "execution": {
     "iopub.execute_input": "2021-07-19T13:36:14.506495Z",
     "iopub.status.busy": "2021-07-19T13:36:14.506495Z",
     "iopub.status.idle": "2021-07-19T13:36:14.767162Z",
     "shell.execute_reply": "2021-07-19T13:36:14.767162Z"
    }
   },
   "outputs": [
    {
     "name": "stdout",
     "output_type": "stream",
     "text": [
      "Quitting SCServer... Done.\n",
      "Exiting sclang... "
     ]
    },
    {
     "name": "stdout",
     "output_type": "stream",
     "text": [
      "Done.\n"
     ]
    }
   ],
   "source": [
    "sc.exit()"
   ]
  },
  {
   "cell_type": "code",
   "execution_count": null,
   "metadata": {},
   "outputs": [],
   "source": []
  }
 ],
 "metadata": {
  "language_info": {
   "codemirror_mode": {
    "name": "ipython",
    "version": 3
   },
   "file_extension": ".py",
   "mimetype": "text/x-python",
   "name": "python",
   "nbconvert_exporter": "python",
   "pygments_lexer": "ipython3",
   "version": "3.7.10"
  }
 },
 "nbformat": 4,
 "nbformat_minor": 4
}
