{
 "cells": [
  {
   "cell_type": "markdown",
   "metadata": {},
   "source": [
    "# Server"
   ]
  },
  {
   "cell_type": "code",
   "execution_count": 1,
   "metadata": {
    "execution": {
     "iopub.execute_input": "2023-08-22T12:08:00.741696Z",
     "iopub.status.busy": "2023-08-22T12:08:00.741286Z",
     "iopub.status.idle": "2023-08-22T12:08:00.935213Z",
     "shell.execute_reply": "2023-08-22T12:08:00.934496Z"
    }
   },
   "outputs": [],
   "source": [
    "import sc3nb as scn"
   ]
  },
  {
   "cell_type": "markdown",
   "metadata": {},
   "source": [
    "The `SCServer` class is the central interface for \n",
    "\n",
    "* controlling the SuperCollider audio server process\n",
    "* managing SuperCollider Objects\n",
    "* using OSC for outgoing and incoming packets\n",
    "\n",
    "\n",
    "To achieve all this the SCServer is\n",
    "\n",
    "* registered as a client to the SuperCollider audio server process (scsynth) and exchanging [SuperCollider Commands](http://doc.sccode.org/Reference/Server-Command-Reference.html) with the server process\n",
    "* and also running an OSC server in python which can communicate via OSC with scsynth and sclang.\n",
    "\n",
    "\n",
    "For information about how to communicate using OSC see the [OSC communication notebook](../osc-communication-examples.ipynb). This notebook focuses on using the `SCServer` class for interacting with scsynth "
   ]
  },
  {
   "cell_type": "markdown",
   "metadata": {},
   "source": [
    "## Starting the Server"
   ]
  },
  {
   "cell_type": "markdown",
   "metadata": {},
   "source": [
    "The most convienent way is to use the default sc3nb `SCServer` instance"
   ]
  },
  {
   "cell_type": "code",
   "execution_count": 2,
   "metadata": {
    "execution": {
     "iopub.execute_input": "2023-08-22T12:08:00.939204Z",
     "iopub.status.busy": "2023-08-22T12:08:00.938881Z",
     "iopub.status.idle": "2023-08-22T12:08:03.541569Z",
     "shell.execute_reply": "2023-08-22T12:08:03.540064Z"
    }
   },
   "outputs": [
    {
     "data": {
      "application/javascript": [
       "if (typeof Jupyter !== 'undefined') {\n",
       "                        Jupyter.keyboard_manager.command_shortcuts.add_shortcut(\n",
       "                        'cmd-.', {\n",
       "                        help : 'Free all nodes on SC server',\n",
       "                        help_index : 'zz',\n",
       "                        handler : function (event) {\n",
       "                            IPython.notebook.kernel.execute(\n",
       "                                \"import sc3nb; sc3nb.SC.get_default().server.free_all(root=True)\"\n",
       "                            )\n",
       "                            return true;}\n",
       "                        });\n",
       "                    }"
      ],
      "text/plain": [
       "<IPython.core.display.Javascript object>"
      ]
     },
     "metadata": {},
     "output_type": "display_data"
    },
    {
     "name": "stdout",
     "output_type": "stream",
     "text": [
      "Starting sclang process... [sclang | start reading ]\n"
     ]
    },
    {
     "name": "stdout",
     "output_type": "stream",
     "text": [
      "Done.\n",
      "Registering OSC /return callback in sclang... Done.\n",
      "Loading default sc3nb SynthDefs... Done.\n",
      "Booting SuperCollider Server... [scsynth | start reading ]\n"
     ]
    },
    {
     "name": "stdout",
     "output_type": "stream",
     "text": [
      "Done.\n"
     ]
    }
   ],
   "source": [
    "sc = scn.startup()"
   ]
  },
  {
   "cell_type": "code",
   "execution_count": 3,
   "metadata": {
    "execution": {
     "iopub.execute_input": "2023-08-22T12:08:03.546631Z",
     "iopub.status.busy": "2023-08-22T12:08:03.545934Z",
     "iopub.status.idle": "2023-08-22T12:08:03.552148Z",
     "shell.execute_reply": "2023-08-22T12:08:03.551443Z"
    }
   },
   "outputs": [
    {
     "data": {
      "text/plain": [
       "<SCServer addr=('127.0.0.1', 57110), process=<Process 'scsynth' (running) pid=13720>>"
      ]
     },
     "execution_count": 3,
     "metadata": {},
     "output_type": "execute_result"
    }
   ],
   "source": [
    "sc.server"
   ]
  },
  {
   "cell_type": "markdown",
   "metadata": {},
   "source": [
    "However you can also use the SCServer class directly"
   ]
  },
  {
   "cell_type": "markdown",
   "metadata": {},
   "source": [
    "The server connection can be created\n",
    "\n",
    "* locally using `boot`, which will start a scsynth process and connect to it or\n",
    "* remote using `remote` for connecting to an already running scsynth process"
   ]
  },
  {
   "cell_type": "code",
   "execution_count": 4,
   "metadata": {
    "execution": {
     "iopub.execute_input": "2023-08-22T12:08:03.555481Z",
     "iopub.status.busy": "2023-08-22T12:08:03.555184Z",
     "iopub.status.idle": "2023-08-22T12:08:03.561009Z",
     "shell.execute_reply": "2023-08-22T12:08:03.560397Z"
    }
   },
   "outputs": [
    {
     "data": {
      "text/plain": [
       "<SCServer (not booted)>"
      ]
     },
     "execution_count": 4,
     "metadata": {},
     "output_type": "execute_result"
    }
   ],
   "source": [
    "serv = scn.SCServer()\n",
    "serv"
   ]
  },
  {
   "cell_type": "code",
   "execution_count": 5,
   "metadata": {
    "execution": {
     "iopub.execute_input": "2023-08-22T12:08:03.564531Z",
     "iopub.status.busy": "2023-08-22T12:08:03.564235Z",
     "iopub.status.idle": "2023-08-22T12:08:03.646693Z",
     "shell.execute_reply": "2023-08-22T12:08:03.645571Z"
    }
   },
   "outputs": [
    {
     "name": "stdout",
     "output_type": "stream",
     "text": [
      "Booting SuperCollider Server... \n",
      "SuperCollider Server port 57110 already used.\n",
      "Trying to connect.\n",
      "Done.\n"
     ]
    }
   ],
   "source": [
    "serv.boot()"
   ]
  },
  {
   "cell_type": "markdown",
   "metadata": {},
   "source": [
    "Notice how the `SCServer` always tries to boot using the default SuperCollider audio server port 57110.\n",
    "But this port is already used by `sc.server` and thus the `SCServer` tries to connect to the already running instance using `SCserver.remote`. This enables a user to share the same scsynth instance with other users and/or use it from other notebooks. If the port to be used is explicitly specified the `SCServer` instance will fail instead of connecting.\n",
    "\n",
    "The `SCServer` will register to the scsynth process using `SCServer.notify()`"
   ]
  },
  {
   "cell_type": "markdown",
   "metadata": {},
   "source": [
    "Let's look how many clients are allowed and what the `client_id`s and the corresponding `default_group`s of the SCServer instances are."
   ]
  },
  {
   "cell_type": "code",
   "execution_count": 6,
   "metadata": {
    "execution": {
     "iopub.execute_input": "2023-08-22T12:08:03.651057Z",
     "iopub.status.busy": "2023-08-22T12:08:03.650657Z",
     "iopub.status.idle": "2023-08-22T12:08:03.654531Z",
     "shell.execute_reply": "2023-08-22T12:08:03.653893Z"
    }
   },
   "outputs": [
    {
     "name": "stdout",
     "output_type": "stream",
     "text": [
      "The scsynth process of this SCServer instance allows 8 clients to login.\n"
     ]
    }
   ],
   "source": [
    "print(f\"The scsynth process of this SCServer instance allows {sc.server.max_logins} clients to login.\")"
   ]
  },
  {
   "cell_type": "code",
   "execution_count": 7,
   "metadata": {
    "execution": {
     "iopub.execute_input": "2023-08-22T12:08:03.658108Z",
     "iopub.status.busy": "2023-08-22T12:08:03.657824Z",
     "iopub.status.idle": "2023-08-22T12:08:03.661420Z",
     "shell.execute_reply": "2023-08-22T12:08:03.660767Z"
    }
   },
   "outputs": [
    {
     "name": "stdout",
     "output_type": "stream",
     "text": [
      "sc.server has client id 1 and the default Group <Group(67108865) ~ {} children=[]>\n"
     ]
    }
   ],
   "source": [
    "print(f\"sc.server has client id {sc.server.client_id} and the default Group {sc.server.default_group}\") "
   ]
  },
  {
   "cell_type": "code",
   "execution_count": 8,
   "metadata": {
    "execution": {
     "iopub.execute_input": "2023-08-22T12:08:03.665335Z",
     "iopub.status.busy": "2023-08-22T12:08:03.665033Z",
     "iopub.status.idle": "2023-08-22T12:08:03.668826Z",
     "shell.execute_reply": "2023-08-22T12:08:03.668155Z"
    }
   },
   "outputs": [
    {
     "name": "stdout",
     "output_type": "stream",
     "text": [
      "serv has client id 0 and the default Group <Group(1) s {} children=[]>\n"
     ]
    }
   ],
   "source": [
    "print(f\"serv has client id {serv.client_id} and the default Group {serv.default_group}\") "
   ]
  },
  {
   "cell_type": "markdown",
   "metadata": {},
   "source": [
    "However also note that the instances use different ports meaning they are able to independendly send and receive OSC packets"
   ]
  },
  {
   "cell_type": "code",
   "execution_count": 9,
   "metadata": {
    "execution": {
     "iopub.execute_input": "2023-08-22T12:08:03.672059Z",
     "iopub.status.busy": "2023-08-22T12:08:03.671783Z",
     "iopub.status.idle": "2023-08-22T12:08:03.676987Z",
     "shell.execute_reply": "2023-08-22T12:08:03.676209Z"
    }
   },
   "outputs": [
    {
     "name": "stdout",
     "output_type": "stream",
     "text": [
      "This instance is at ('127.0.0.1', 57131),\n",
      "Known receivers: \"scsynth\" at ('127.0.0.1', 57110)\n",
      "                 \"sclang\" at ('127.0.0.1', 57120)\n",
      "                 \n"
     ]
    },
    {
     "data": {
      "text/plain": [
       "(('127.0.0.1', 57131),\n",
       " {('127.0.0.1', 57110): 'scsynth', ('127.0.0.1', 57120): 'sclang'})"
      ]
     },
     "execution_count": 9,
     "metadata": {},
     "output_type": "execute_result"
    }
   ],
   "source": [
    "sc.server.connection_info()"
   ]
  },
  {
   "cell_type": "markdown",
   "metadata": {},
   "source": [
    "and also note that `serv` is not connected to sclang but has the same connection info for scsynth."
   ]
  },
  {
   "cell_type": "code",
   "execution_count": 10,
   "metadata": {
    "execution": {
     "iopub.execute_input": "2023-08-22T12:08:03.680809Z",
     "iopub.status.busy": "2023-08-22T12:08:03.680501Z",
     "iopub.status.idle": "2023-08-22T12:08:03.685428Z",
     "shell.execute_reply": "2023-08-22T12:08:03.684657Z"
    }
   },
   "outputs": [
    {
     "name": "stdout",
     "output_type": "stream",
     "text": [
      "This instance is at ('127.0.0.1', 57133),\n",
      "Known receivers: \"scsynth\" at ('127.0.0.1', 57110)\n",
      "                 \n"
     ]
    },
    {
     "data": {
      "text/plain": [
       "(('127.0.0.1', 57133), {('127.0.0.1', 57110): 'scsynth'})"
      ]
     },
     "execution_count": 10,
     "metadata": {},
     "output_type": "execute_result"
    }
   ],
   "source": [
    "serv.connection_info()"
   ]
  },
  {
   "cell_type": "markdown",
   "metadata": {},
   "source": [
    "A Synth running on the SuperCollider audio server will be visible to all connected clients"
   ]
  },
  {
   "cell_type": "code",
   "execution_count": 11,
   "metadata": {
    "execution": {
     "iopub.execute_input": "2023-08-22T12:08:03.688753Z",
     "iopub.status.busy": "2023-08-22T12:08:03.688466Z",
     "iopub.status.idle": "2023-08-22T12:08:03.703053Z",
     "shell.execute_reply": "2023-08-22T12:08:03.702383Z"
    }
   },
   "outputs": [],
   "source": [
    "serv_synth = scn.Synth(\"s2\", {\"amp\": 0.05, \"pan\": -1, \"freq\": 100}, server=serv)"
   ]
  },
  {
   "cell_type": "code",
   "execution_count": 12,
   "metadata": {
    "execution": {
     "iopub.execute_input": "2023-08-22T12:08:03.706360Z",
     "iopub.status.busy": "2023-08-22T12:08:03.706076Z",
     "iopub.status.idle": "2023-08-22T12:08:03.710020Z",
     "shell.execute_reply": "2023-08-22T12:08:03.709369Z"
    }
   },
   "outputs": [],
   "source": [
    "default_synth = scn.Synth(\"s2\", {\"amp\": 0.05, \"pan\": 1, \"freq\": 440})  # no need to specify sc.server as server argument"
   ]
  },
  {
   "cell_type": "markdown",
   "metadata": {},
   "source": [
    "This also includes sclang, which is another client of the scsynth process"
   ]
  },
  {
   "cell_type": "code",
   "execution_count": 13,
   "metadata": {
    "execution": {
     "iopub.execute_input": "2023-08-22T12:08:03.713950Z",
     "iopub.status.busy": "2023-08-22T12:08:03.713635Z",
     "iopub.status.idle": "2023-08-22T12:08:03.721529Z",
     "shell.execute_reply": "2023-08-22T12:08:03.720779Z"
    }
   },
   "outputs": [
    {
     "name": "stdout",
     "output_type": "stream",
     "text": [
      "-> Synth('s2' : 1000)\n"
     ]
    }
   ],
   "source": [
    "%sc ~sclang_synth = Synth(\"s2\", [\\amp, 0.1])"
   ]
  },
  {
   "cell_type": "code",
   "execution_count": 14,
   "metadata": {
    "execution": {
     "iopub.execute_input": "2023-08-22T12:08:03.725070Z",
     "iopub.status.busy": "2023-08-22T12:08:03.724782Z",
     "iopub.status.idle": "2023-08-22T12:08:03.760484Z",
     "shell.execute_reply": "2023-08-22T12:08:03.759552Z"
    }
   },
   "outputs": [
    {
     "name": "stdout",
     "output_type": "stream",
     "text": [
      "NODE TREE Group 0\n",
      "   469762049 group\n",
      "   402653185 group\n",
      "   335544321 group\n",
      "   268435457 group\n",
      "   201326593 group\n",
      "   134217729 group\n",
      "   67108865 group\n",
      "      20001 s2\n",
      "        freq: 440 amp: 0.050000000745058 num: 4 pan: 1 lg: 0.10000000149012 gate: 1\n",
      "   1 group\n",
      "      1000 s2\n",
      "        freq: 400 amp: 0.10000000149012 num: 4 pan: 0 lg: 0.10000000149012 gate: 1\n",
      "      10001 s2\n",
      "        freq: 100 amp: 0.050000000745058 num: 4 pan: -1 lg: 0.10000000149012 gate: 1\n"
     ]
    }
   ],
   "source": [
    "sc.server.dump_tree()"
   ]
  },
  {
   "cell_type": "markdown",
   "metadata": {},
   "source": [
    "This also means freeing all Synths at once can be done with each client"
   ]
  },
  {
   "cell_type": "code",
   "execution_count": 15,
   "metadata": {
    "execution": {
     "iopub.execute_input": "2023-08-22T12:08:03.765396Z",
     "iopub.status.busy": "2023-08-22T12:08:03.764809Z",
     "iopub.status.idle": "2023-08-22T12:08:03.842801Z",
     "shell.execute_reply": "2023-08-22T12:08:03.841503Z"
    }
   },
   "outputs": [],
   "source": [
    "sc.server.free_all()\n",
    "# serv.free_all() \n",
    "# %sc s.freeAll"
   ]
  },
  {
   "cell_type": "code",
   "execution_count": 16,
   "metadata": {
    "execution": {
     "iopub.execute_input": "2023-08-22T12:08:03.847372Z",
     "iopub.status.busy": "2023-08-22T12:08:03.846997Z",
     "iopub.status.idle": "2023-08-22T12:08:03.867164Z",
     "shell.execute_reply": "2023-08-22T12:08:03.866307Z"
    }
   },
   "outputs": [
    {
     "name": "stdout",
     "output_type": "stream",
     "text": [
      "NODE TREE Group 0\n",
      "   469762049 group\n",
      "   402653185 group\n",
      "   335544321 group\n",
      "   268435457 group\n",
      "   201326593 group\n",
      "   134217729 group\n",
      "   67108865 group\n",
      "   1 group\n"
     ]
    }
   ],
   "source": [
    "sc.server.dump_tree()"
   ]
  },
  {
   "cell_type": "markdown",
   "metadata": {},
   "source": [
    "and quitting one server also quits the others."
   ]
  },
  {
   "cell_type": "code",
   "execution_count": 17,
   "metadata": {
    "execution": {
     "iopub.execute_input": "2023-08-22T12:08:03.871894Z",
     "iopub.status.busy": "2023-08-22T12:08:03.871291Z",
     "iopub.status.idle": "2023-08-22T12:08:03.910767Z",
     "shell.execute_reply": "2023-08-22T12:08:03.907894Z"
    }
   },
   "outputs": [
    {
     "name": "stdout",
     "output_type": "stream",
     "text": [
      "Quitting SCServer... "
     ]
    },
    {
     "name": "stdout",
     "output_type": "stream",
     "text": [
      "Done.\n"
     ]
    },
    {
     "name": "stdout",
     "output_type": "stream",
     "text": [
      "[scsynth | reached EOF ]\n"
     ]
    }
   ],
   "source": [
    "serv.quit()"
   ]
  },
  {
   "cell_type": "code",
   "execution_count": 18,
   "metadata": {
    "execution": {
     "iopub.execute_input": "2023-08-22T12:08:03.916006Z",
     "iopub.status.busy": "2023-08-22T12:08:03.915403Z",
     "iopub.status.idle": "2023-08-22T12:08:03.921805Z",
     "shell.execute_reply": "2023-08-22T12:08:03.920883Z"
    }
   },
   "outputs": [
    {
     "data": {
      "text/plain": [
       "<SCServer addr=('127.0.0.1', 57110), process=<Process 'scsynth' (died) pid=13720>>"
      ]
     },
     "execution_count": 18,
     "metadata": {},
     "output_type": "execute_result"
    }
   ],
   "source": [
    "sc.server"
   ]
  },
  {
   "cell_type": "markdown",
   "metadata": {},
   "source": [
    "Let's reboot the default server"
   ]
  },
  {
   "cell_type": "code",
   "execution_count": 19,
   "metadata": {
    "execution": {
     "iopub.execute_input": "2023-08-22T12:08:03.925441Z",
     "iopub.status.busy": "2023-08-22T12:08:03.925146Z",
     "iopub.status.idle": "2023-08-22T12:08:09.760503Z",
     "shell.execute_reply": "2023-08-22T12:08:09.759538Z"
    }
   },
   "outputs": [
    {
     "name": "stdout",
     "output_type": "stream",
     "text": [
      "Quitting SCServer... "
     ]
    },
    {
     "name": "stdout",
     "output_type": "stream",
     "text": [
      "Done.\n",
      "Booting SuperCollider Server... [scsynth | start reading ]\n",
      "[scsynth]  Number of Devices: 2\n",
      "[scsynth]     0 : \"Built-in Microph\"\n",
      "[scsynth]     1 : \"Built-in Output\"\n",
      "[scsynth]  \n",
      "[scsynth]  \"Built-in Microph\" Input Device\n",
      "[scsynth]     Streams: 1\n",
      "[scsynth]        0  channels 2\n",
      "[scsynth]  \n",
      "[scsynth]  \"Built-in Output\" Output Device\n",
      "[scsynth]     Streams: 1\n",
      "[scsynth]        0  channels 2\n",
      "[scsynth]  \n",
      "[scsynth]  SC_AudioDriver: sample rate = 44100.000000, driver's block size = 512\n",
      "[scsynth]  SuperCollider 3 server ready.\n"
     ]
    },
    {
     "name": "stdout",
     "output_type": "stream",
     "text": [
      "Done.\n"
     ]
    }
   ],
   "source": [
    "sc.server.reboot()"
   ]
  },
  {
   "cell_type": "markdown",
   "metadata": {},
   "source": [
    "More information about [multi client setups](http://doc.sccode.org/Guides/MultiClient_Setups.html) can be found in the SuperCollider documentation."
   ]
  },
  {
   "cell_type": "markdown",
   "metadata": {},
   "source": [
    "## Configuring Server options\n",
    "\n",
    "Startup options of the `SCServer` instance can be set via `ServerOptions`, which can be passed as argument when starting the `SCServer`"
   ]
  },
  {
   "cell_type": "markdown",
   "metadata": {},
   "source": [
    "The default ServerOptions in sc3nb are:"
   ]
  },
  {
   "cell_type": "code",
   "execution_count": 20,
   "metadata": {
    "execution": {
     "iopub.execute_input": "2023-08-22T12:08:09.765403Z",
     "iopub.status.busy": "2023-08-22T12:08:09.765016Z",
     "iopub.status.idle": "2023-08-22T12:08:09.770639Z",
     "shell.execute_reply": "2023-08-22T12:08:09.769830Z"
    }
   },
   "outputs": [
    {
     "data": {
      "text/plain": [
       "<ServerOptions ['-u', '57110', '-l', '6', '-i', '2', '-o', '2', '-a', '1024', '-c', '4096', '-b', '1024', '-R', '0']>"
      ]
     },
     "execution_count": 20,
     "metadata": {},
     "output_type": "execute_result"
    }
   ],
   "source": [
    "scn.ServerOptions()"
   ]
  },
  {
   "cell_type": "markdown",
   "metadata": {},
   "source": [
    "## Getting Information\n",
    "\n",
    "The `SCServer` instance provides various kinds of information"
   ]
  },
  {
   "cell_type": "markdown",
   "metadata": {},
   "source": [
    "* What nodes are currently running"
   ]
  },
  {
   "cell_type": "code",
   "execution_count": 21,
   "metadata": {
    "execution": {
     "iopub.execute_input": "2023-08-22T12:08:09.774570Z",
     "iopub.status.busy": "2023-08-22T12:08:09.774038Z",
     "iopub.status.idle": "2023-08-22T12:08:09.797891Z",
     "shell.execute_reply": "2023-08-22T12:08:09.796550Z"
    }
   },
   "outputs": [
    {
     "name": "stdout",
     "output_type": "stream",
     "text": [
      "[scsynth]  NODE TREE Group 0\n",
      "[scsynth]     469762049 group\n",
      "[scsynth]     402653185 group\n",
      "[scsynth]     335544321 group\n",
      "[scsynth]     268435457 group\n",
      "[scsynth]     201326593 group\n",
      "[scsynth]     134217729 group\n",
      "[scsynth]     67108865 group\n",
      "[scsynth]     1 group\n",
      "NODE TREE Group 0\n",
      "   469762049 group\n",
      "   402653185 group\n",
      "   335544321 group\n",
      "   268435457 group\n",
      "   201326593 group\n",
      "   134217729 group\n",
      "   67108865 group\n",
      "   1 group\n"
     ]
    }
   ],
   "source": [
    "sc.server.dump_tree()"
   ]
  },
  {
   "cell_type": "code",
   "execution_count": 22,
   "metadata": {
    "execution": {
     "iopub.execute_input": "2023-08-22T12:08:09.802298Z",
     "iopub.status.busy": "2023-08-22T12:08:09.801915Z",
     "iopub.status.idle": "2023-08-22T12:08:09.821266Z",
     "shell.execute_reply": "2023-08-22T12:08:09.820191Z"
    }
   },
   "outputs": [
    {
     "data": {
      "text/plain": [
       "Group(0)  {} children=[\n",
       "  Group(469762049) s {} children=[],\n",
       "  Group(402653185) s {} children=[],\n",
       "  Group(335544321) s {} children=[],\n",
       "  Group(268435457) s {} children=[],\n",
       "  Group(201326593) s {} children=[],\n",
       "  Group(134217729) s {} children=[],\n",
       "  Group(67108865) s {} children=[],\n",
       "  Group(1) ~ {} children=[]]"
      ]
     },
     "execution_count": 22,
     "metadata": {},
     "output_type": "execute_result"
    }
   ],
   "source": [
    "sc.server.query_tree()"
   ]
  },
  {
   "cell_type": "markdown",
   "metadata": {},
   "source": [
    "* The current status of the server, acquired via the `/status` OSC command"
   ]
  },
  {
   "cell_type": "code",
   "execution_count": 23,
   "metadata": {
    "execution": {
     "iopub.execute_input": "2023-08-22T12:08:09.825554Z",
     "iopub.status.busy": "2023-08-22T12:08:09.825216Z",
     "iopub.status.idle": "2023-08-22T12:08:09.831007Z",
     "shell.execute_reply": "2023-08-22T12:08:09.830069Z"
    }
   },
   "outputs": [
    {
     "data": {
      "text/plain": [
       "ServerStatus(num_ugens=6, num_synths=1, num_groups=9, num_synthdefs=7, avg_cpu=0.15836413204669952, peak_cpu=0.814179003238678, nominal_sr=44100.0, actual_sr=44100.00000121331)"
      ]
     },
     "execution_count": 23,
     "metadata": {},
     "output_type": "execute_result"
    }
   ],
   "source": [
    "sc.server.status()"
   ]
  },
  {
   "cell_type": "markdown",
   "metadata": {},
   "source": [
    "which can also be accessed directly via properties"
   ]
  },
  {
   "cell_type": "code",
   "execution_count": 24,
   "metadata": {
    "execution": {
     "iopub.execute_input": "2023-08-22T12:08:09.834322Z",
     "iopub.status.busy": "2023-08-22T12:08:09.834053Z",
     "iopub.status.idle": "2023-08-22T12:08:09.841674Z",
     "shell.execute_reply": "2023-08-22T12:08:09.841112Z"
    }
   },
   "outputs": [
    {
     "data": {
      "text/plain": [
       "44100.0"
      ]
     },
     "execution_count": 24,
     "metadata": {},
     "output_type": "execute_result"
    }
   ],
   "source": [
    "sc.server.nominal_sr"
   ]
  },
  {
   "cell_type": "code",
   "execution_count": 25,
   "metadata": {
    "execution": {
     "iopub.execute_input": "2023-08-22T12:08:09.845024Z",
     "iopub.status.busy": "2023-08-22T12:08:09.844517Z",
     "iopub.status.idle": "2023-08-22T12:08:09.853399Z",
     "shell.execute_reply": "2023-08-22T12:08:09.852668Z"
    }
   },
   "outputs": [
    {
     "data": {
      "text/plain": [
       "7"
      ]
     },
     "execution_count": 25,
     "metadata": {},
     "output_type": "execute_result"
    }
   ],
   "source": [
    "sc.server.num_synthdefs"
   ]
  },
  {
   "cell_type": "markdown",
   "metadata": {},
   "source": [
    "* the version of the SC3 server process, acquired via the `/version` OSC command"
   ]
  },
  {
   "cell_type": "code",
   "execution_count": 26,
   "metadata": {
    "execution": {
     "iopub.execute_input": "2023-08-22T12:08:09.857023Z",
     "iopub.status.busy": "2023-08-22T12:08:09.856715Z",
     "iopub.status.idle": "2023-08-22T12:08:09.865953Z",
     "shell.execute_reply": "2023-08-22T12:08:09.865263Z"
    }
   },
   "outputs": [
    {
     "data": {
      "text/plain": [
       "ServerVersion(name='scsynth', major_version=3, minor_version=13, patch_version='.0', git_branch='Version-3.13.0', commit='3188503')"
      ]
     },
     "execution_count": 26,
     "metadata": {},
     "output_type": "execute_result"
    }
   ],
   "source": [
    "sc.server.version()"
   ]
  },
  {
   "cell_type": "markdown",
   "metadata": {},
   "source": [
    "* the address of the SuperCollider audio server"
   ]
  },
  {
   "cell_type": "code",
   "execution_count": 27,
   "metadata": {
    "execution": {
     "iopub.execute_input": "2023-08-22T12:08:09.869388Z",
     "iopub.status.busy": "2023-08-22T12:08:09.869096Z",
     "iopub.status.idle": "2023-08-22T12:08:09.873948Z",
     "shell.execute_reply": "2023-08-22T12:08:09.873295Z"
    }
   },
   "outputs": [
    {
     "data": {
      "text/plain": [
       "('127.0.0.1', 57110)"
      ]
     },
     "execution_count": 27,
     "metadata": {},
     "output_type": "execute_result"
    }
   ],
   "source": [
    "sc.server.addr"
   ]
  },
  {
   "cell_type": "markdown",
   "metadata": {},
   "source": [
    "* The connection info"
   ]
  },
  {
   "cell_type": "code",
   "execution_count": 28,
   "metadata": {
    "execution": {
     "iopub.execute_input": "2023-08-22T12:08:09.877353Z",
     "iopub.status.busy": "2023-08-22T12:08:09.877075Z",
     "iopub.status.idle": "2023-08-22T12:08:09.883094Z",
     "shell.execute_reply": "2023-08-22T12:08:09.882377Z"
    }
   },
   "outputs": [
    {
     "name": "stdout",
     "output_type": "stream",
     "text": [
      "This instance is at ('127.0.0.1', 57131),\n",
      "Known receivers: \"scsynth\" at ('127.0.0.1', 57110)\n",
      "                 \"sclang\" at ('127.0.0.1', 57120)\n",
      "                 \n"
     ]
    },
    {
     "data": {
      "text/plain": [
       "(('127.0.0.1', 57131),\n",
       " {('127.0.0.1', 57110): 'scsynth', ('127.0.0.1', 57120): 'sclang'})"
      ]
     },
     "execution_count": 28,
     "metadata": {},
     "output_type": "execute_result"
    }
   ],
   "source": [
    "sc.server.connection_info()"
   ]
  },
  {
   "cell_type": "markdown",
   "metadata": {},
   "source": [
    "* other runtime properties of the Server"
   ]
  },
  {
   "cell_type": "code",
   "execution_count": 29,
   "metadata": {
    "execution": {
     "iopub.execute_input": "2023-08-22T12:08:09.886451Z",
     "iopub.status.busy": "2023-08-22T12:08:09.886165Z",
     "iopub.status.idle": "2023-08-22T12:08:09.890837Z",
     "shell.execute_reply": "2023-08-22T12:08:09.890186Z"
    }
   },
   "outputs": [
    {
     "data": {
      "text/plain": [
       "True"
      ]
     },
     "execution_count": 29,
     "metadata": {},
     "output_type": "execute_result"
    }
   ],
   "source": [
    "sc.server.has_booted"
   ]
  },
  {
   "cell_type": "code",
   "execution_count": 30,
   "metadata": {
    "execution": {
     "iopub.execute_input": "2023-08-22T12:08:09.894062Z",
     "iopub.status.busy": "2023-08-22T12:08:09.893775Z",
     "iopub.status.idle": "2023-08-22T12:08:09.898472Z",
     "shell.execute_reply": "2023-08-22T12:08:09.897824Z"
    }
   },
   "outputs": [
    {
     "data": {
      "text/plain": [
       "True"
      ]
     },
     "execution_count": 30,
     "metadata": {},
     "output_type": "execute_result"
    }
   ],
   "source": [
    "sc.server.is_running"
   ]
  },
  {
   "cell_type": "code",
   "execution_count": 31,
   "metadata": {
    "execution": {
     "iopub.execute_input": "2023-08-22T12:08:09.901672Z",
     "iopub.status.busy": "2023-08-22T12:08:09.901393Z",
     "iopub.status.idle": "2023-08-22T12:08:09.905781Z",
     "shell.execute_reply": "2023-08-22T12:08:09.905117Z"
    }
   },
   "outputs": [
    {
     "data": {
      "text/plain": [
       "1"
      ]
     },
     "execution_count": 31,
     "metadata": {},
     "output_type": "execute_result"
    }
   ],
   "source": [
    "sc.server.client_id"
   ]
  },
  {
   "cell_type": "code",
   "execution_count": 32,
   "metadata": {
    "execution": {
     "iopub.execute_input": "2023-08-22T12:08:09.908943Z",
     "iopub.status.busy": "2023-08-22T12:08:09.908653Z",
     "iopub.status.idle": "2023-08-22T12:08:09.913188Z",
     "shell.execute_reply": "2023-08-22T12:08:09.912388Z"
    }
   },
   "outputs": [
    {
     "data": {
      "text/plain": [
       "8"
      ]
     },
     "execution_count": 32,
     "metadata": {},
     "output_type": "execute_result"
    }
   ],
   "source": [
    "sc.server.max_logins"
   ]
  },
  {
   "cell_type": "code",
   "execution_count": 33,
   "metadata": {
    "execution": {
     "iopub.execute_input": "2023-08-22T12:08:09.916448Z",
     "iopub.status.busy": "2023-08-22T12:08:09.916152Z",
     "iopub.status.idle": "2023-08-22T12:08:09.920731Z",
     "shell.execute_reply": "2023-08-22T12:08:09.919935Z"
    }
   },
   "outputs": [
    {
     "data": {
      "text/plain": [
       "Group(67108865) s {} children=[]"
      ]
     },
     "execution_count": 33,
     "metadata": {},
     "output_type": "execute_result"
    }
   ],
   "source": [
    "sc.server.default_group"
   ]
  },
  {
   "cell_type": "code",
   "execution_count": 34,
   "metadata": {
    "execution": {
     "iopub.execute_input": "2023-08-22T12:08:09.923819Z",
     "iopub.status.busy": "2023-08-22T12:08:09.923555Z",
     "iopub.status.idle": "2023-08-22T12:08:09.927809Z",
     "shell.execute_reply": "2023-08-22T12:08:09.927017Z"
    }
   },
   "outputs": [
    {
     "data": {
      "text/plain": [
       "Bus(rate='audio', ids=[0, 1])"
      ]
     },
     "execution_count": 34,
     "metadata": {},
     "output_type": "execute_result"
    }
   ],
   "source": [
    "sc.server.output_bus"
   ]
  },
  {
   "cell_type": "code",
   "execution_count": 35,
   "metadata": {
    "execution": {
     "iopub.execute_input": "2023-08-22T12:08:09.931114Z",
     "iopub.status.busy": "2023-08-22T12:08:09.930826Z",
     "iopub.status.idle": "2023-08-22T12:08:09.935022Z",
     "shell.execute_reply": "2023-08-22T12:08:09.934366Z"
    }
   },
   "outputs": [
    {
     "data": {
      "text/plain": [
       "Bus(rate='audio', ids=[2, 3])"
      ]
     },
     "execution_count": 35,
     "metadata": {},
     "output_type": "execute_result"
    }
   ],
   "source": [
    "sc.server.input_bus"
   ]
  },
  {
   "cell_type": "markdown",
   "metadata": {},
   "source": [
    "## Controlling Volume"
   ]
  },
  {
   "cell_type": "code",
   "execution_count": 36,
   "metadata": {
    "execution": {
     "iopub.execute_input": "2023-08-22T12:08:09.938274Z",
     "iopub.status.busy": "2023-08-22T12:08:09.937989Z",
     "iopub.status.idle": "2023-08-22T12:08:09.941348Z",
     "shell.execute_reply": "2023-08-22T12:08:09.940793Z"
    }
   },
   "outputs": [],
   "source": [
    "syn = scn.Synth(\"s2\")"
   ]
  },
  {
   "cell_type": "code",
   "execution_count": 37,
   "metadata": {
    "execution": {
     "iopub.execute_input": "2023-08-22T12:08:09.944471Z",
     "iopub.status.busy": "2023-08-22T12:08:09.944206Z",
     "iopub.status.idle": "2023-08-22T12:08:09.948686Z",
     "shell.execute_reply": "2023-08-22T12:08:09.948047Z"
    }
   },
   "outputs": [
    {
     "data": {
      "text/plain": [
       "0.0"
      ]
     },
     "execution_count": 37,
     "metadata": {},
     "output_type": "execute_result"
    }
   ],
   "source": [
    "sc.server.volume"
   ]
  },
  {
   "cell_type": "code",
   "execution_count": 38,
   "metadata": {
    "execution": {
     "iopub.execute_input": "2023-08-22T12:08:09.951860Z",
     "iopub.status.busy": "2023-08-22T12:08:09.951578Z",
     "iopub.status.idle": "2023-08-22T12:08:09.956302Z",
     "shell.execute_reply": "2023-08-22T12:08:09.955670Z"
    }
   },
   "outputs": [
    {
     "data": {
      "text/plain": [
       "1.0"
      ]
     },
     "execution_count": 38,
     "metadata": {},
     "output_type": "execute_result"
    }
   ],
   "source": [
    "scn.dbamp(sc.server.volume)"
   ]
  },
  {
   "cell_type": "code",
   "execution_count": 39,
   "metadata": {
    "execution": {
     "iopub.execute_input": "2023-08-22T12:08:09.959389Z",
     "iopub.status.busy": "2023-08-22T12:08:09.959111Z",
     "iopub.status.idle": "2023-08-22T12:08:09.963568Z",
     "shell.execute_reply": "2023-08-22T12:08:09.962750Z"
    }
   },
   "outputs": [
    {
     "data": {
      "text/plain": [
       "False"
      ]
     },
     "execution_count": 39,
     "metadata": {},
     "output_type": "execute_result"
    }
   ],
   "source": [
    "sc.server.muted"
   ]
  },
  {
   "cell_type": "code",
   "execution_count": 40,
   "metadata": {
    "execution": {
     "iopub.execute_input": "2023-08-22T12:08:09.966754Z",
     "iopub.status.busy": "2023-08-22T12:08:09.966470Z",
     "iopub.status.idle": "2023-08-22T12:08:09.981762Z",
     "shell.execute_reply": "2023-08-22T12:08:09.980867Z"
    }
   },
   "outputs": [],
   "source": [
    "sc.server.muted = True"
   ]
  },
  {
   "cell_type": "code",
   "execution_count": 41,
   "metadata": {
    "execution": {
     "iopub.execute_input": "2023-08-22T12:08:09.985237Z",
     "iopub.status.busy": "2023-08-22T12:08:09.984943Z",
     "iopub.status.idle": "2023-08-22T12:08:09.988819Z",
     "shell.execute_reply": "2023-08-22T12:08:09.988100Z"
    }
   },
   "outputs": [],
   "source": [
    "sc.server.volume = -10.0"
   ]
  },
  {
   "cell_type": "code",
   "execution_count": 42,
   "metadata": {
    "execution": {
     "iopub.execute_input": "2023-08-22T12:08:09.992151Z",
     "iopub.status.busy": "2023-08-22T12:08:09.991868Z",
     "iopub.status.idle": "2023-08-22T12:08:09.996513Z",
     "shell.execute_reply": "2023-08-22T12:08:09.995758Z"
    }
   },
   "outputs": [
    {
     "data": {
      "text/plain": [
       "0.31622776601683794"
      ]
     },
     "execution_count": 42,
     "metadata": {},
     "output_type": "execute_result"
    }
   ],
   "source": [
    "scn.dbamp(sc.server.volume)"
   ]
  },
  {
   "cell_type": "code",
   "execution_count": 43,
   "metadata": {
    "execution": {
     "iopub.execute_input": "2023-08-22T12:08:09.999902Z",
     "iopub.status.busy": "2023-08-22T12:08:09.999602Z",
     "iopub.status.idle": "2023-08-22T12:08:10.003061Z",
     "shell.execute_reply": "2023-08-22T12:08:10.002425Z"
    }
   },
   "outputs": [],
   "source": [
    "sc.server.muted = False"
   ]
  },
  {
   "cell_type": "code",
   "execution_count": 44,
   "metadata": {
    "execution": {
     "iopub.execute_input": "2023-08-22T12:08:10.007024Z",
     "iopub.status.busy": "2023-08-22T12:08:10.006728Z",
     "iopub.status.idle": "2023-08-22T12:08:10.010021Z",
     "shell.execute_reply": "2023-08-22T12:08:10.009385Z"
    }
   },
   "outputs": [],
   "source": [
    "sc.server.volume = 0.0"
   ]
  },
  {
   "cell_type": "code",
   "execution_count": 45,
   "metadata": {
    "execution": {
     "iopub.execute_input": "2023-08-22T12:08:10.013234Z",
     "iopub.status.busy": "2023-08-22T12:08:10.012925Z",
     "iopub.status.idle": "2023-08-22T12:08:10.017671Z",
     "shell.execute_reply": "2023-08-22T12:08:10.017016Z"
    }
   },
   "outputs": [
    {
     "data": {
      "text/plain": [
       "1.0"
      ]
     },
     "execution_count": 45,
     "metadata": {},
     "output_type": "execute_result"
    }
   ],
   "source": [
    "scn.dbamp(sc.server.volume)"
   ]
  },
  {
   "cell_type": "code",
   "execution_count": 46,
   "metadata": {
    "execution": {
     "iopub.execute_input": "2023-08-22T12:08:10.020684Z",
     "iopub.status.busy": "2023-08-22T12:08:10.020405Z",
     "iopub.status.idle": "2023-08-22T12:08:10.026212Z",
     "shell.execute_reply": "2023-08-22T12:08:10.025601Z"
    }
   },
   "outputs": [],
   "source": [
    "syn.free()\n",
    "syn.wait(timeout=1)"
   ]
  },
  {
   "cell_type": "markdown",
   "metadata": {},
   "source": [
    "## Server dumps\n",
    "\n",
    "The Server process can dump information about"
   ]
  },
  {
   "cell_type": "markdown",
   "metadata": {},
   "source": [
    "* incoming OSC packages. See console for output"
   ]
  },
  {
   "cell_type": "code",
   "execution_count": 47,
   "metadata": {
    "execution": {
     "iopub.execute_input": "2023-08-22T12:08:10.029572Z",
     "iopub.status.busy": "2023-08-22T12:08:10.029285Z",
     "iopub.status.idle": "2023-08-22T12:08:10.032832Z",
     "shell.execute_reply": "2023-08-22T12:08:10.032224Z"
    }
   },
   "outputs": [],
   "source": [
    "sc.server.dump_osc() # specify level=0 to deactivate"
   ]
  },
  {
   "cell_type": "markdown",
   "metadata": {},
   "source": [
    "* currently running Nodes "
   ]
  },
  {
   "cell_type": "code",
   "execution_count": 48,
   "metadata": {
    "execution": {
     "iopub.execute_input": "2023-08-22T12:08:10.035958Z",
     "iopub.status.busy": "2023-08-22T12:08:10.035680Z",
     "iopub.status.idle": "2023-08-22T12:08:10.067593Z",
     "shell.execute_reply": "2023-08-22T12:08:10.066591Z"
    }
   },
   "outputs": [
    {
     "name": "stdout",
     "output_type": "stream",
     "text": [
      "[scsynth]  [ \"/g_dumpTree\", 0, 1 ]\n",
      "[scsynth]  NODE TREE Group 0\n",
      "[scsynth]     -24 s1\n",
      "[scsynth]       freq: 1000 amp: 0.050000000745058 num: 2 pan: 0 dur: 0.10000000149012 att: 0 curve: 42\n",
      "[scsynth]     469762049 group\n",
      "[scsynth]     402653185 group\n",
      "[scsynth]     335544321 group\n",
      "[scsynth]     268435457 group\n",
      "[scsynth]     201326593 group\n",
      "[scsynth]     134217729 group\n",
      "[scsynth]     67108865 group\n",
      "[scsynth]     20002 sc3nb_volumeAmpControl2\n",
      "[scsynth]       volumeAmp: 0.31622776389122 volumeLag: 0.10000000149012 gate: 0 bus: 0\n",
      "[scsynth]     1 group\n",
      "[ \"/g_dumpTree\", 0, 1 ]\n",
      "NODE TREE Group 0\n",
      "   -24 s1\n",
      "     freq: 1000 amp: 0.050000000745058 num: 2 pan: 0 dur: 0.10000000149012 att: 0 curve: 42\n",
      "   469762049 group\n",
      "   402653185 group\n",
      "   335544321 group\n",
      "   268435457 group\n",
      "   201326593 group\n",
      "   134217729 group\n",
      "   67108865 group\n",
      "   20002 sc3nb_volumeAmpControl2\n",
      "     volumeAmp: 0.31622776389122 volumeLag: 0.10000000149012 gate: 0 bus: 0\n",
      "   1 group\n"
     ]
    }
   ],
   "source": [
    "sc.server.dump_tree()  # Notice how the OSC packet is now included in the output "
   ]
  },
  {
   "cell_type": "code",
   "execution_count": 49,
   "metadata": {
    "execution": {
     "iopub.execute_input": "2023-08-22T12:08:10.072440Z",
     "iopub.status.busy": "2023-08-22T12:08:10.072081Z",
     "iopub.status.idle": "2023-08-22T12:08:10.077345Z",
     "shell.execute_reply": "2023-08-22T12:08:10.076376Z"
    }
   },
   "outputs": [
    {
     "name": "stdout",
     "output_type": "stream",
     "text": [
      "[scsynth]  [ \"#bundle\", 16757651952480964608, \n"
     ]
    },
    {
     "name": "stdout",
     "output_type": "stream",
     "text": [
      "[scsynth]    [ \"#bundle\", 16757651952480964608, \n",
      "[scsynth]      [ \"/error\", 0 ]\n",
      "[scsynth]    ],\n",
      "[scsynth]    [ \"#bundle\", 16757651952480964608, \n",
      "[scsynth]      [ \"/s_new\", \"s1\", -1, 0, 0, \"freq\", 500, \"dur\", 0.1, \"num\", 1 ]\n",
      "[scsynth]    ],\n",
      "[scsynth]    [ \"#bundle\", 16757651953339957248, \n",
      "[scsynth]      [ \"/s_new\", \"s1\", -1, 0, 0, \"freq\", 1000, \"amp\", 0.05, \"num\", 2, \"att\", 0, \"dur\", 0.1, \"curve\", 42 ]\n",
      "[scsynth]    ],\n",
      "[scsynth]    [ \"#bundle\", 16757651953339957248, \n",
      "[scsynth]      [ \"/error\", 1 ]\n",
      "[scsynth]    ]\n",
      "[scsynth]  ]\n"
     ]
    }
   ],
   "source": [
    "sc.server.blip() # see dumped bundle for test sound on console"
   ]
  },
  {
   "cell_type": "markdown",
   "metadata": {},
   "source": [
    "## Make a test sound\n",
    "\n",
    "The following methods produces the `SCServer` startup sound.\n",
    "The test sound should ease any anxiety whether the server is properly started/running"
   ]
  },
  {
   "cell_type": "code",
   "execution_count": 50,
   "metadata": {
    "execution": {
     "iopub.execute_input": "2023-08-22T12:08:10.082127Z",
     "iopub.status.busy": "2023-08-22T12:08:10.081812Z",
     "iopub.status.idle": "2023-08-22T12:08:10.086961Z",
     "shell.execute_reply": "2023-08-22T12:08:10.085887Z"
    }
   },
   "outputs": [
    {
     "name": "stdout",
     "output_type": "stream",
     "text": [
      "[scsynth]  [ \"#bundle\", 16757651952522385408, \n",
      "[scsynth]    [ \"#bundle\", 16757651952522385408, \n",
      "[scsynth]      [ \"/error\", 0 ]\n",
      "[scsynth]    ],\n",
      "[scsynth]    [ \"#bundle\", 16757651952522385408, \n",
      "[scsynth]      [ \"/s_new\", \"s1\", -1, 0, 0, \"freq\", 500, \"dur\", 0.1, \"num\", 1 ]\n",
      "[scsynth]    ],\n",
      "[scsynth]    [ \"#bundle\", 16757651953381380096, \n",
      "[scsynth]      [ \"/s_new\", \"s1\", -1, 0, 0, \"freq\", 1000, \"amp\", 0.05, \"num\", 2, \"att\", 0, \"dur\", 0.1, \"curve\", 42 ]\n",
      "[scsynth]    ],\n",
      "[scsynth]    [ \"#bundle\", 16757651953381380096, \n",
      "[scsynth]      [ \"/error\", 1 ]\n",
      "[scsynth]    ]\n",
      "[scsynth]  ]\n"
     ]
    }
   ],
   "source": [
    "sc.server.blip()"
   ]
  },
  {
   "cell_type": "markdown",
   "metadata": {},
   "source": [
    "## Managing Nodes"
   ]
  },
  {
   "cell_type": "markdown",
   "metadata": {},
   "source": [
    "* freeing all running nodes and reinitialize the server"
   ]
  },
  {
   "cell_type": "code",
   "execution_count": 51,
   "metadata": {
    "execution": {
     "iopub.execute_input": "2023-08-22T12:08:10.090986Z",
     "iopub.status.busy": "2023-08-22T12:08:10.090664Z",
     "iopub.status.idle": "2023-08-22T12:08:10.167636Z",
     "shell.execute_reply": "2023-08-22T12:08:10.166502Z"
    }
   },
   "outputs": [
    {
     "name": "stdout",
     "output_type": "stream",
     "text": [
      "[scsynth]  [ \"/g_freeAll\", 0 ]\n",
      "[scsynth]  [ \"/clearSched\", ]\n",
      "[scsynth]  [ \"/g_new\", 1, 0, 0 ]\n",
      "[scsynth]  [ \"/g_new\", 67108865, 0, 0 ]\n",
      "[scsynth]  [ \"/g_new\", 134217729, 0, 0 ]\n",
      "[scsynth]  [ \"/g_new\", 201326593, 0, 0 ]\n",
      "[scsynth]  [ \"/g_new\", 268435457, 0, 0 ]\n",
      "[scsynth]  [ \"/g_new\", 335544321, 0, 0 ]\n",
      "[scsynth]  [ \"/g_new\", 402653185, 0, 0 ]\n",
      "[scsynth]  [ \"/g_new\", 469762049, 0, 0 ]\n",
      "[scsynth]  [ \"/g_new\", 1, 0, 0 ]\n",
      "[scsynth]  [ \"#bundle\", 1, \n",
      "[scsynth]    [ \"/sync\", 1007 ]\n",
      "[scsynth]  ]\n",
      "[scsynth]  [ \"#bundle\", 1, \n",
      "[scsynth]    [ \"/sync\", 1008 ]\n",
      "[scsynth]  ]\n",
      "[scsynth]  [ \"/d_recv\", DATA[396] ]\n",
      "[scsynth]  [ \"/sync\", 6695 ]\n"
     ]
    }
   ],
   "source": [
    "sc.server.free_all()"
   ]
  },
  {
   "cell_type": "code",
   "execution_count": 52,
   "metadata": {
    "execution": {
     "iopub.execute_input": "2023-08-22T12:08:10.172598Z",
     "iopub.status.busy": "2023-08-22T12:08:10.171910Z",
     "iopub.status.idle": "2023-08-22T12:08:10.238531Z",
     "shell.execute_reply": "2023-08-22T12:08:10.236323Z"
    }
   },
   "outputs": [
    {
     "name": "stdout",
     "output_type": "stream",
     "text": [
      "[scsynth]  [ \"/g_freeAll\", 67108865 ]\n",
      "[scsynth]  [ \"/clearSched\", ]\n",
      "[scsynth]  [ \"/g_new\", 67108865, 0, 0 ]\n",
      "[scsynth]  [ \"/g_new\", 1, 0, 0 ]\n",
      "[scsynth]  [ \"#bundle\", 1, \n",
      "[scsynth]    [ \"/sync\", 1009 ]\n",
      "[scsynth]  ]\n",
      "[scsynth]  [ \"/d_recv\", DATA[396] ]\n",
      "[scsynth]  [ \"#bundle\", 1, \n",
      "[scsynth]    [ \"/sync\", 1010 ]\n",
      "[scsynth]  ]\n",
      "[scsynth]  [ \"/sync\", 1526 ]\n",
      "[scsynth]  [ \"/notify\", 1, 0 ]\n"
     ]
    },
    {
     "name": "stdout",
     "output_type": "stream",
     "text": [
      "[scsynth]  [ \"/d_recv\", DATA[3037], 0 ]\n"
     ]
    }
   ],
   "source": [
    "sc.server.free_all(root=False)  # only frees the default group of this client"
   ]
  },
  {
   "cell_type": "markdown",
   "metadata": {},
   "source": [
    "* send the `/clearSched` OSC command. This is automatically done when using `free_all`"
   ]
  },
  {
   "cell_type": "code",
   "execution_count": 53,
   "metadata": {
    "execution": {
     "iopub.execute_input": "2023-08-22T12:08:10.245093Z",
     "iopub.status.busy": "2023-08-22T12:08:10.244505Z",
     "iopub.status.idle": "2023-08-22T12:08:10.251299Z",
     "shell.execute_reply": "2023-08-22T12:08:10.249023Z"
    }
   },
   "outputs": [
    {
     "name": "stdout",
     "output_type": "stream",
     "text": [
      "[scsynth]  [ \"/d_recv\", DATA[1220], 0 ]\n",
      "[scsynth]  [ \"/d_recv\", DATA[1285], 0 ]\n",
      "[scsynth]  [ \"/d_recv\", DATA[1120], 0 ]\n",
      "[scsynth]  [ \"/d_recv\", DATA[2192], 0 ]\n",
      "[scsynth]  [ \"/d_recv\", DATA[1135], 0 ]\n",
      "[scsynth]  [ \"/d_recv\", DATA[190], 0 ]\n",
      "[scsynth]  [ \"/d_recv\", DATA[1684], 0 ]\n",
      "[scsynth]  [ \"/d_recv\", DATA[254], 0 ]\n",
      "[scsynth]  [ \"/d_recv\", DATA[1685], 0 ]\n",
      "[scsynth]  [ \"/d_recv\", DATA[1385], 0 ]\n",
      "[scsynth]  [ \"/clearSched\", ]\n"
     ]
    },
    {
     "name": "stdout",
     "output_type": "stream",
     "text": [
      "[scsynth]  [ \"/d_recv\", DATA[2290], 0 ]\n",
      "[scsynth]  [ \"/d_recv\", DATA[1851], 0 ]\n"
     ]
    }
   ],
   "source": [
    "sc.server.clear_schedule()"
   ]
  },
  {
   "cell_type": "markdown",
   "metadata": {},
   "source": [
    "* Execute init hooks. This is also automatically done when using `free_all`, `init` or `connect_sclang`"
   ]
  },
  {
   "cell_type": "code",
   "execution_count": 54,
   "metadata": {
    "execution": {
     "iopub.execute_input": "2023-08-22T12:08:10.258390Z",
     "iopub.status.busy": "2023-08-22T12:08:10.258099Z",
     "iopub.status.idle": "2023-08-22T12:08:10.365881Z",
     "shell.execute_reply": "2023-08-22T12:08:10.364760Z"
    }
   },
   "outputs": [
    {
     "name": "stdout",
     "output_type": "stream",
     "text": [
      "[scsynth]  [ \"/d_recv\", DATA[469], 0 ]\n",
      "[scsynth]  [ \"/d_recv\", DATA[1444], 0 ]\n",
      "[scsynth]  [ \"/d_recv\", DATA[619], 0 ]\n",
      "[scsynth]  [ \"/d_recv\", DATA[1277], 0 ]\n",
      "[scsynth]  [ \"/d_recv\", DATA[1117], 0 ]\n",
      "[scsynth]  [ \"/d_recv\", DATA[1020], 0 ]\n",
      "[scsynth]  [ \"/d_recv\", DATA[670], 0 ]\n",
      "[scsynth]  [ \"/d_recv\", DATA[1103], 0 ]\n",
      "[scsynth]  [ \"/d_recv\", DATA[869], 0 ]\n",
      "[scsynth]  [ \"/d_recv\", DATA[163], 0 ]\n",
      "[scsynth]  [ \"/d_recv\", DATA[684], 0 ]\n",
      "[scsynth]  [ \"/d_recv\", DATA[217], 0 ]\n",
      "[scsynth]  [ \"/d_recv\", DATA[299], 0 ]\n",
      "[scsynth]  [ \"/d_recv\", DATA[719], 0 ]\n",
      "[scsynth]  [ \"/d_recv\", DATA[1339], 0 ]\n",
      "[scsynth]  [ \"/d_recv\", DATA[884], 0 ]\n",
      "[scsynth]  [ \"/d_recv\", DATA[688], 0 ]\n",
      "[scsynth]  [ \"/d_recv\", DATA[172], 0 ]\n",
      "[scsynth]  [ \"/d_recv\", DATA[569], 0 ]\n",
      "[scsynth]  [ \"/d_recv\", DATA[181], 0 ]\n",
      "[scsynth]  [ \"/d_recv\", DATA[1055], 0 ]\n",
      "[scsynth]  [ \"/d_recv\", DATA[984], 0 ]\n",
      "[scsynth]  [ \"/d_recv\", DATA[599], 0 ]\n",
      "[scsynth]  [ \"/d_recv\", DATA[290], 0 ]\n",
      "[scsynth]  [ \"/d_recv\", DATA[226], 0 ]\n",
      "[scsynth]  [ \"/d_recv\", DATA[2699], 0 ]\n",
      "[scsynth]  [ \"/d_recv\", DATA[1346], 0 ]\n",
      "[scsynth]  [ \"/d_recv\", DATA[920], 0 ]\n",
      "[scsynth]  [ \"/d_recv\", DATA[1519], 0 ]\n",
      "[scsynth]  [ \"/d_recv\", DATA[784], 0 ]\n",
      "[scsynth]  [ \"/d_recv\", DATA[839], 0 ]\n",
      "[scsynth]  [ \"/d_recv\", DATA[819], 0 ]\n",
      "[scsynth]  [ \"/d_recv\", DATA[272], 0 ]\n",
      "[scsynth]  [ \"/d_recv\", DATA[634], 0 ]\n",
      "[scsynth]  [ \"/d_recv\", DATA[1070], 0 ]\n",
      "[scsynth]  [ \"/d_recv\", DATA[937], 0 ]\n",
      "[scsynth]  [ \"/d_recv\", DATA[1269], 0 ]\n",
      "[scsynth]  [ \"/d_recv\", DATA[771], 0 ]\n",
      "[scsynth]  [ \"/d_recv\", DATA[1085], 0 ]\n",
      "[scsynth]  [ \"/d_recv\", DATA[1020], 0 ]\n",
      "[scsynth]  [ \"/d_recv\", DATA[1185], 0 ]\n",
      "[scsynth]  [ \"/d_recv\", DATA[199], 0 ]\n"
     ]
    },
    {
     "name": "stdout",
     "output_type": "stream",
     "text": [
      "[scsynth]  [ \"/d_recv\", DATA[2797], 0 ]\n",
      "[scsynth]  [ \"/d_recv\", DATA[1275], 0 ]\n",
      "[scsynth]  [ \"/d_recv\", DATA[1436], 0 ]\n",
      "[scsynth]  [ \"/d_recv\", DATA[1235], 0 ]\n",
      "[scsynth]  [ \"/d_recv\", DATA[2459], 0 ]\n",
      "[scsynth]  [ \"/d_recv\", DATA[1613], 0 ]\n",
      "[scsynth]  [ \"/d_recv\", DATA[1335], 0 ]\n",
      "[scsynth]  [ \"/d_recv\", DATA[1515], 0 ]\n"
     ]
    },
    {
     "name": "stdout",
     "output_type": "stream",
     "text": [
      "[scsynth]  [ \"/d_recv\", DATA[1170], 0 ]\n",
      "[scsynth]  [ \"/d_recv\", DATA[2361], 0 ]\n",
      "[scsynth]  [ \"/d_recv\", DATA[1339], 0 ]\n",
      "[scsynth]  [ \"/d_recv\", DATA[1782], 0 ]\n",
      "[scsynth]  [ \"/d_recv\", DATA[937], 0 ]\n",
      "[scsynth]  [ \"/d_recv\", DATA[1186], 0 ]\n",
      "[scsynth]  [ \"/d_recv\", DATA[208], 0 ]\n",
      "[scsynth]  [ \"/d_recv\", DATA[669], 0 ]\n",
      "[scsynth]  [ \"/d_recv\", DATA[1353], 0 ]\n",
      "[scsynth]  [ \"/d_recv\", DATA[501], 0 ]\n",
      "[scsynth]  [ \"/d_recv\", DATA[769], 0 ]\n"
     ]
    },
    {
     "name": "stdout",
     "output_type": "stream",
     "text": [
      "[scsynth]  [ \"/d_recv\", DATA[2121], 0 ]\n",
      "[scsynth]  [ \"/d_recv\", DATA[2868], 0 ]\n",
      "[scsynth]  [ \"/d_recv\", DATA[263], 0 ]\n",
      "[scsynth]  [ \"/d_recv\", DATA[605], 0 ]\n",
      "[scsynth]  [ \"/d_recv\", DATA[1034], 0 ]\n",
      "[scsynth]  [ \"/d_recv\", DATA[519], 0 ]\n",
      "[scsynth]  [ \"/d_recv\", DATA[1853], 0 ]\n",
      "[scsynth]  [ \"/d_recv\", DATA[1952], 0 ]\n",
      "[scsynth]  [ \"/d_recv\", DATA[281], 0 ]\n",
      "[scsynth]  [ \"/d_recv\", DATA[1117], 0 ]\n",
      "[scsynth]  [ \"/d_recv\", DATA[2023], 0 ]\n",
      "[scsynth]  [ \"/d_recv\", DATA[1055], 0 ]\n",
      "[scsynth]  [ \"/d_recv\", DATA[964], 0 ]\n",
      "[scsynth]  [ \"/d_recv\", DATA[934], 0 ]\n",
      "[scsynth]  [ \"/d_recv\", DATA[1106], 0 ]\n",
      "[scsynth]  [ \"/d_recv\", DATA[430], 0 ]\n",
      "[scsynth]  [ \"/d_recv\", DATA[734], 0 ]\n",
      "[scsynth]  [ \"/d_recv\", DATA[970], 0 ]\n",
      "[scsynth]  [ \"/d_recv\", DATA[768], 0 ]\n",
      "[scsynth]  [ \"/d_recv\", DATA[235], 0 ]\n",
      "[scsynth]  [ \"/d_recv\", DATA[834], 0 ]\n",
      "[scsynth]  [ \"/d_recv\", DATA[2628], 0 ]\n",
      "[scsynth]  [ \"/d_recv\", DATA[1768], 0 ]\n",
      "[scsynth]  [ \"/d_recv\", DATA[2966], 0 ]\n",
      "[scsynth]  [ \"/d_recv\", DATA[854], 0 ]\n",
      "[scsynth]  [ \"/d_recv\", DATA[1008], 0 ]\n",
      "[scsynth]  [ \"/d_recv\", DATA[2530], 0 ]\n",
      "[scsynth]  [ \"/d_recv\", DATA[245], 0 ]\n",
      "[scsynth]  [ \"/d_recv\", DATA[1177], 0 ]\n",
      "[scsynth]  [ \"/d_recv\", DATA[1602], 0 ]\n",
      "[scsynth]  [ \"/d_recv\", DATA[1277], 0 ]\n",
      "[scsynth]  [ \"/d_recv\", DATA[396], 0 ]\n",
      "[scsynth]  [ \"#bundle\", 1, \n",
      "[scsynth]    [ \"/sync\", 1011 ]\n",
      "[scsynth]  ]\n",
      "[scsynth]  [ \"/d_recv\", DATA[390], 0 ]\n",
      "[scsynth]  [ \"#bundle\", 1, \n",
      "[scsynth]    [ \"/sync\", 1012 ]\n",
      "[scsynth]  ]\n",
      "[scsynth]  [ \"/g_new\", 1, 0, 0 ]\n",
      "[scsynth]  [ \"/g_new\", 67108865, 0, 0 ]\n",
      "[scsynth]  [ \"/g_new\", 134217729, 0, 0 ]\n",
      "[scsynth]  [ \"/g_new\", 201326593, 0, 0 ]\n",
      "[scsynth]  [ \"/g_new\", 268435457, 0, 0 ]\n",
      "[scsynth]  [ \"/g_new\", 335544321, 0, 0 ]\n",
      "[scsynth]  [ \"/g_new\", 402653185, 0, 0 ]\n",
      "[scsynth]  [ \"/g_new\", 469762049, 0, 0 ]\n",
      "[scsynth]  [ \"#bundle\", 1, \n",
      "[scsynth]    [ \"/sync\", 1013 ]\n",
      "[scsynth]  ]\n",
      "[scsynth]  [ \"/g_new\", 1, 0, 0 ]\n",
      "[scsynth]  [ \"/g_new\", 67108865, 0, 0 ]\n",
      "[scsynth]  [ \"/g_new\", 134217729, 0, 0 ]\n",
      "[scsynth]  [ \"/g_new\", 201326593, 0, 0 ]\n",
      "[scsynth]  [ \"/g_new\", 268435457, 0, 0 ]\n",
      "[scsynth]  [ \"/g_new\", 335544321, 0, 0 ]\n",
      "[scsynth]  [ \"/g_new\", 402653185, 0, 0 ]\n",
      "[scsynth]  [ \"/g_new\", 469762049, 0, 0 ]\n",
      "[scsynth]  [ \"#bundle\", 1, \n",
      "[scsynth]    [ \"/sync\", 1014 ]\n",
      "[scsynth]  ]\n",
      "[scsynth]  [ \"#bundle\", 1, \n",
      "[scsynth]    [ \"/sync\", 1015 ]\n",
      "[scsynth]  ]\n",
      "[scsynth]  [ \"/d_recv\", DATA[396] ]\n",
      "[scsynth]  [ \"#bundle\", 1, \n",
      "[scsynth]    [ \"/sync\", 1016 ]\n",
      "[scsynth]  ]\n"
     ]
    }
   ],
   "source": [
    "sc.server.execute_init_hooks()"
   ]
  },
  {
   "cell_type": "markdown",
   "metadata": {},
   "source": [
    "* Adding init hooks. "
   ]
  },
  {
   "cell_type": "code",
   "execution_count": 55,
   "metadata": {
    "execution": {
     "iopub.execute_input": "2023-08-22T12:08:10.371574Z",
     "iopub.status.busy": "2023-08-22T12:08:10.370947Z",
     "iopub.status.idle": "2023-08-22T12:08:10.375958Z",
     "shell.execute_reply": "2023-08-22T12:08:10.375289Z"
    }
   },
   "outputs": [
    {
     "data": {
      "text/plain": [
       "<bound method SCServer.send_default_groups of <SCServer addr=('127.0.0.1', 57110), process=<Process 'scsynth' (running) pid=13728>>>"
      ]
     },
     "execution_count": 55,
     "metadata": {},
     "output_type": "execute_result"
    }
   ],
   "source": [
    "sc.server.send_default_groups"
   ]
  },
  {
   "cell_type": "markdown",
   "metadata": {},
   "source": [
    "* Syncing the SuperCollider audio server by sending a `/sync` OSC command and waiting for the reply."
   ]
  },
  {
   "cell_type": "code",
   "execution_count": 56,
   "metadata": {
    "execution": {
     "iopub.execute_input": "2023-08-22T12:08:10.379561Z",
     "iopub.status.busy": "2023-08-22T12:08:10.379018Z",
     "iopub.status.idle": "2023-08-22T12:08:10.401439Z",
     "shell.execute_reply": "2023-08-22T12:08:10.400211Z"
    }
   },
   "outputs": [
    {
     "name": "stdout",
     "output_type": "stream",
     "text": [
      "[scsynth]  [ \"/sync\", 3103 ]\n"
     ]
    },
    {
     "data": {
      "text/plain": [
       "True"
      ]
     },
     "execution_count": 56,
     "metadata": {},
     "output_type": "execute_result"
    }
   ],
   "source": [
    "sc.server.sync()"
   ]
  },
  {
   "cell_type": "markdown",
   "metadata": {},
   "source": [
    "## Allocating IDs"
   ]
  },
  {
   "cell_type": "markdown",
   "metadata": {},
   "source": [
    "The `SCServer` instance manages the IDs for Nodes, Buffers and Buses for the SuperCollider Objects via the following methods.\n",
    "These can also be used for getting suitable IDs when manually creating OSC packages."
   ]
  },
  {
   "cell_type": "markdown",
   "metadata": {},
   "source": [
    "* Get the IDs via the allocator."
   ]
  },
  {
   "cell_type": "code",
   "execution_count": 57,
   "metadata": {
    "execution": {
     "iopub.execute_input": "2023-08-22T12:08:10.406631Z",
     "iopub.status.busy": "2023-08-22T12:08:10.406202Z",
     "iopub.status.idle": "2023-08-22T12:08:10.412439Z",
     "shell.execute_reply": "2023-08-22T12:08:10.411423Z"
    }
   },
   "outputs": [
    {
     "data": {
      "text/plain": [
       "[128, 129]"
      ]
     },
     "execution_count": 57,
     "metadata": {},
     "output_type": "execute_result"
    }
   ],
   "source": [
    "ids = sc.server.buffer_ids.allocate(num=2)\n",
    "ids"
   ]
  },
  {
   "cell_type": "markdown",
   "metadata": {},
   "source": [
    "* Free the IDs after usage via the allocator."
   ]
  },
  {
   "cell_type": "code",
   "execution_count": 58,
   "metadata": {
    "execution": {
     "iopub.execute_input": "2023-08-22T12:08:10.416284Z",
     "iopub.status.busy": "2023-08-22T12:08:10.415980Z",
     "iopub.status.idle": "2023-08-22T12:08:10.419907Z",
     "shell.execute_reply": "2023-08-22T12:08:10.419148Z"
    }
   },
   "outputs": [],
   "source": [
    "sc.server.buffer_ids.free(ids)"
   ]
  },
  {
   "cell_type": "markdown",
   "metadata": {},
   "source": [
    "There are allocators for\n",
    "\n",
    "* Nodes - `sc.server.node_ids`\n",
    "* Buffer - `sc.server.buffer_ids`\n",
    "* Buses (Audio and Control) - `sc.server.audio_bus_ids`, `sc.server.control_bus_ids`"
   ]
  },
  {
   "cell_type": "code",
   "execution_count": 59,
   "metadata": {
    "execution": {
     "iopub.execute_input": "2023-08-22T12:08:10.423684Z",
     "iopub.status.busy": "2023-08-22T12:08:10.423382Z",
     "iopub.status.idle": "2023-08-22T12:08:10.834548Z",
     "shell.execute_reply": "2023-08-22T12:08:10.833491Z"
    }
   },
   "outputs": [
    {
     "name": "stdout",
     "output_type": "stream",
     "text": [
      "Quitting SCServer... [scsynth]  [ \"/quit\", ]\n"
     ]
    },
    {
     "name": "stdout",
     "output_type": "stream",
     "text": [
      "[scsynth | reached EOF ]\n",
      "Done.\n",
      "Booting SuperCollider Server... "
     ]
    },
    {
     "name": "stdout",
     "output_type": "stream",
     "text": [
      "[scsynth | start reading ]\n"
     ]
    },
    {
     "name": "stdout",
     "output_type": "stream",
     "text": [
      "[scsynth]  Number of Devices: 2\n",
      "[scsynth]     0 : \"Built-in Microph\"\n",
      "[scsynth]     1 : \"Built-in Output\"\n",
      "[scsynth]  \n",
      "[scsynth]  \"Built-in Microph\" Input Device\n",
      "[scsynth]     Streams: 1\n",
      "[scsynth]        0  channels 2\n",
      "[scsynth]  \n",
      "[scsynth]  \"Built-in Output\" Output Device\n",
      "[scsynth]     Streams: 1\n",
      "[scsynth]        0  channels 2\n",
      "[scsynth]  \n",
      "[scsynth]  SC_AudioDriver: sample rate = 44100.000000, driver's block size = 512\n"
     ]
    },
    {
     "name": "stdout",
     "output_type": "stream",
     "text": [
      "[scsynth]  SuperCollider 3 server ready.\n"
     ]
    },
    {
     "name": "stdout",
     "output_type": "stream",
     "text": [
      "Done.\n"
     ]
    }
   ],
   "source": [
    "sc.server.reboot()"
   ]
  },
  {
   "cell_type": "code",
   "execution_count": 60,
   "metadata": {
    "execution": {
     "iopub.execute_input": "2023-08-22T12:08:10.839787Z",
     "iopub.status.busy": "2023-08-22T12:08:10.839073Z",
     "iopub.status.idle": "2023-08-22T12:08:10.869563Z",
     "shell.execute_reply": "2023-08-22T12:08:10.868692Z"
    }
   },
   "outputs": [
    {
     "name": "stdout",
     "output_type": "stream",
     "text": [
      "5 buffers: [128, 129, 130, 131, 132]\n",
      "freed buffers  [128, 129]\n",
      "allocated 4 buffers: [133, 134, 135, 136] -> new numbers to be consecutive\n"
     ]
    },
    {
     "name": "stdout",
     "output_type": "stream",
     "text": [
      "allocated 2 buffers: [128, 129] -> using the two freed before\n"
     ]
    }
   ],
   "source": [
    "# example to see how consecutive buffer alloc works:\n",
    "ids = sc.server.buffer_ids.allocate(num=5)\n",
    "print(\"5 buffers:\", ids)\n",
    "sc.server.buffer_ids.free(ids[0:2])\n",
    "print(\"freed buffers \", ids[0:2])\n",
    "ids4 = sc.server.buffer_ids.allocate(num=4)\n",
    "print(\"allocated 4 buffers:\", ids4, \"-> new numbers to be consecutive\")\n",
    "sc.server.sync()\n",
    "ids2 = sc.server.buffer_ids.allocate(num=2)\n",
    "print(\"allocated 2 buffers:\", ids2, \"-> using the two freed before\")"
   ]
  },
  {
   "cell_type": "markdown",
   "metadata": {},
   "source": [
    "## Handling SynthDefs\n",
    "\n",
    "The server offers the following methods for handling SynthDefs.\n",
    "These are shortcuts for the respective SynthDef methods.\n",
    "\n",
    "```\n",
    "sc.server.send_synthdef\n",
    "sc.server.load_synthdef\n",
    "sc.server.load_synthdefs\n",
    "```\n",
    "Refer to the [SynthDef guide](synthdef-examples.ipynb) for more information about SynthDefs."
   ]
  },
  {
   "cell_type": "code",
   "execution_count": 61,
   "metadata": {
    "execution": {
     "iopub.execute_input": "2023-08-22T12:08:10.874318Z",
     "iopub.status.busy": "2023-08-22T12:08:10.873918Z",
     "iopub.status.idle": "2023-08-22T12:08:10.955470Z",
     "shell.execute_reply": "2023-08-22T12:08:10.954541Z"
    }
   },
   "outputs": [
    {
     "name": "stdout",
     "output_type": "stream",
     "text": [
      "Quitting SCServer... [scsynth | reached EOF ]\n",
      "Done.\n",
      "Exiting sclang... [sclang | reached EOF ]\n",
      "Done.\n"
     ]
    }
   ],
   "source": [
    "sc.exit()"
   ]
  }
 ],
 "metadata": {
  "hide_input": false,
  "language_info": {
   "codemirror_mode": {
    "name": "ipython",
    "version": 3
   },
   "file_extension": ".py",
   "mimetype": "text/x-python",
   "name": "python",
   "nbconvert_exporter": "python",
   "pygments_lexer": "ipython3",
   "version": "3.10.11"
  },
  "toc": {
   "base_numbering": 1,
   "nav_menu": {},
   "number_sections": true,
   "sideBar": true,
   "skip_h1_title": false,
   "title_cell": "Table of Contents",
   "title_sidebar": "Contents",
   "toc_cell": false,
   "toc_position": {},
   "toc_section_display": true,
   "toc_window_display": true
  }
 },
 "nbformat": 4,
 "nbformat_minor": 4
}
