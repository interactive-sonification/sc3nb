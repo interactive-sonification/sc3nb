{
 "cells": [
  {
   "cell_type": "markdown",
   "metadata": {},
   "source": [
    "## Usage of sclang in sc3nb\n",
    "\n",
    "You can send commands and receive data directly from the SuperCollider Language"
   ]
  },
  {
   "cell_type": "code",
   "execution_count": 1,
   "metadata": {
    "execution": {
     "iopub.execute_input": "2021-06-10T16:16:27.303300Z",
     "iopub.status.busy": "2021-06-10T16:16:27.302300Z",
     "iopub.status.idle": "2021-06-10T16:16:27.475301Z",
     "shell.execute_reply": "2021-06-10T16:16:27.476301Z"
    }
   },
   "outputs": [],
   "source": [
    "import time\n",
    "import numpy as np\n",
    "\n",
    "import sc3nb as scn"
   ]
  },
  {
   "cell_type": "code",
   "execution_count": 2,
   "metadata": {
    "execution": {
     "iopub.execute_input": "2021-06-10T16:16:27.483300Z",
     "iopub.status.busy": "2021-06-10T16:16:27.483300Z",
     "iopub.status.idle": "2021-06-10T16:16:30.683015Z",
     "shell.execute_reply": "2021-06-10T16:16:30.684015Z"
    }
   },
   "outputs": [
    {
     "data": {
      "application/javascript": [
       "if (typeof Jupyter !== 'undefined') {\n",
       "                        Jupyter.keyboard_manager.command_shortcuts.add_shortcut(\n",
       "                        'Ctrl-.', {\n",
       "                        help : 'Free all nodes on SC server',\n",
       "                        help_index : 'zz',\n",
       "                        handler : function (event) {\n",
       "                            IPython.notebook.kernel.execute(\n",
       "                                \"import sc3nb; sc3nb.SC.get_default().server.free_all(root=True)\"\n",
       "                            )\n",
       "                            return true;}\n",
       "                        });\n",
       "                    }"
      ],
      "text/plain": [
       "<IPython.core.display.Javascript object>"
      ]
     },
     "metadata": {},
     "output_type": "display_data"
    },
    {
     "name": "stdout",
     "output_type": "stream",
     "text": [
      "Starting sclang process...\n"
     ]
    },
    {
     "name": "stdout",
     "output_type": "stream",
     "text": [
      "Done.\n",
      "Registering OSC /return callback in sclang...\n",
      "Done.\n",
      "Loading default SynthDescs\n",
      "Done.\n",
      "Booting SuperCollider Server...\n"
     ]
    },
    {
     "name": "stdout",
     "output_type": "stream",
     "text": [
      "Done.\n"
     ]
    }
   ],
   "source": [
    "sc = scn.startup()"
   ]
  },
  {
   "cell_type": "markdown",
   "metadata": {},
   "source": [
    "### sclang command execution"
   ]
  },
  {
   "cell_type": "markdown",
   "metadata": {},
   "source": [
    "To send sc3 commands (i.e. program strings) to the language, either use the functions\n",
    "- **`cmd()`** normal command sending.\n",
    "- **`cmdv()`** verbose, i.e. returning string is collected and output to notebook ( alias for `cmd(.., verbose=True)` )\n",
    "- **`cmdg()`** send program and get and parse the output ( alias for `cmd(.., get_return=True)` )"
   ]
  },
  {
   "cell_type": "code",
   "execution_count": 3,
   "metadata": {
    "code_folding": [],
    "execution": {
     "iopub.execute_input": "2021-06-10T16:16:30.686014Z",
     "iopub.status.busy": "2021-06-10T16:16:30.686014Z",
     "iopub.status.idle": "2021-06-10T16:16:30.699015Z",
     "shell.execute_reply": "2021-06-10T16:16:30.699015Z"
    }
   },
   "outputs": [
    {
     "name": "stdout",
     "output_type": "stream",
     "text": [
      "hello\n",
      "-> hello\n"
     ]
    }
   ],
   "source": [
    "# sc.cmd(cmdstr, pyvars)\n",
    "sc.lang.cmd('\"hello\".postln')  # check jupyter console for output"
   ]
  },
  {
   "cell_type": "markdown",
   "metadata": {},
   "source": [
    "use cmdv If sclang output should be displayed as cell output"
   ]
  },
  {
   "cell_type": "code",
   "execution_count": 4,
   "metadata": {
    "code_folding": [],
    "execution": {
     "iopub.execute_input": "2021-06-10T16:16:30.703019Z",
     "iopub.status.busy": "2021-06-10T16:16:30.702016Z",
     "iopub.status.idle": "2021-06-10T16:16:30.714015Z",
     "shell.execute_reply": "2021-06-10T16:16:30.715014Z"
    }
   },
   "outputs": [
    {
     "name": "stdout",
     "output_type": "stream",
     "text": [
      "sc3nb\n",
      "-> sc3nb\n"
     ]
    }
   ],
   "source": [
    "sc.lang.cmdv('\"sc3nb\".postln')  # also check jupyter console for output"
   ]
  },
  {
   "cell_type": "markdown",
   "metadata": {},
   "source": [
    "or use the corresponding Magics in Jupyter\n",
    "\n",
    "* Jupyter line magics **%sc, %scv, %scg, %scgv**\n",
    "* Jupyter cell magics **%%sc, %%scv, %%scg, %%scgv**\n",
    "\n",
    "which wrap the above functions. See examples below"
   ]
  },
  {
   "cell_type": "markdown",
   "metadata": {},
   "source": [
    "Cell magics can be placed within code just as the function calls as shown here:"
   ]
  },
  {
   "cell_type": "code",
   "execution_count": 5,
   "metadata": {
    "execution": {
     "iopub.execute_input": "2021-06-10T16:16:30.721016Z",
     "iopub.status.busy": "2021-06-10T16:16:30.721016Z",
     "iopub.status.idle": "2021-06-10T16:16:33.591909Z",
     "shell.execute_reply": "2021-06-10T16:16:33.591909Z"
    }
   },
   "outputs": [
    {
     "name": "stdout",
     "output_type": "stream",
     "text": [
      "-> Synth('default' : 1000)\n",
      "-> Synth('s1' : 1001)\n"
     ]
    },
    {
     "name": "stdout",
     "output_type": "stream",
     "text": [
      "-> Synth('s1' : 1000)\n"
     ]
    },
    {
     "name": "stdout",
     "output_type": "stream",
     "text": [
      "-> Synth('s1' : 1001)\n"
     ]
    },
    {
     "name": "stdout",
     "output_type": "stream",
     "text": [
      "-> Synth('s1' : 1002)\n"
     ]
    },
    {
     "name": "stdout",
     "output_type": "stream",
     "text": [
      "-> Synth('s1' : 1003)\n"
     ]
    },
    {
     "name": "stdout",
     "output_type": "stream",
     "text": [
      "-> Synth('s1' : 1004)\n",
      "-> Synth('s1' : 1005)\n"
     ]
    },
    {
     "name": "stdout",
     "output_type": "stream",
     "text": [
      "-> Synth('s1' : 1006)\n",
      "-> Synth('s1' : 1007)\n"
     ]
    },
    {
     "name": "stdout",
     "output_type": "stream",
     "text": [
      "-> Synth('default' : 1000)\n"
     ]
    }
   ],
   "source": [
    "%sc x = Synth.new(\\default, [\\freq, 100])\n",
    "for p in range(1, 10):  # a bouncing ball\n",
    "    %sc Synth.new(\\s1, [\\freq, 200])  // this is sc cell so use sc3 comments instead of #\n",
    "    time.sleep(1/p)\n",
    "# NOTE: Windows needs delay between sclang inputs, so use sleep\n",
    "\n",
    "%sc x.free "
   ]
  },
  {
   "cell_type": "markdown",
   "metadata": {},
   "source": [
    "Use raw python strings for multiline sc3-programs:"
   ]
  },
  {
   "cell_type": "code",
   "execution_count": 6,
   "metadata": {
    "execution": {
     "iopub.execute_input": "2021-06-10T16:16:33.595907Z",
     "iopub.status.busy": "2021-06-10T16:16:33.594905Z",
     "iopub.status.idle": "2021-06-10T16:16:33.606903Z",
     "shell.execute_reply": "2021-06-10T16:16:33.606903Z"
    }
   },
   "outputs": [
    {
     "name": "stdout",
     "output_type": "stream",
     "text": [
      "-> a Routine\n"
     ]
    }
   ],
   "source": [
    "sc.lang.cmd(r\"\"\"\n",
    "Routine({\n",
    "    x = 10.collect{ |i|\n",
    "        0.2.wait;\n",
    "        Synth.new(\\default, [\\freq, 50+(50*i)]);\n",
    "    };\n",
    "    1.wait;\n",
    "    x.do{|e| \n",
    "        e.release;\n",
    "        0.1.wait;};\n",
    "}).play;\n",
    "\"\"\")"
   ]
  },
  {
   "cell_type": "markdown",
   "metadata": {},
   "source": [
    "alternatively, you can use the cell magic:"
   ]
  },
  {
   "cell_type": "code",
   "execution_count": 7,
   "metadata": {
    "execution": {
     "iopub.execute_input": "2021-06-10T16:16:33.609902Z",
     "iopub.status.busy": "2021-06-10T16:16:33.609902Z",
     "iopub.status.idle": "2021-06-10T16:16:33.613901Z",
     "shell.execute_reply": "2021-06-10T16:16:33.613901Z"
    }
   },
   "outputs": [
    {
     "name": "stdout",
     "output_type": "stream",
     "text": [
      "-> a Routine\n"
     ]
    }
   ],
   "source": [
    "%%sc\n",
    "Routine({\n",
    "    x = 5.collect{ |i|\n",
    "        0.2.wait;\n",
    "        Synth.new(\\default, [\\freq, 50+(50*i)]);\n",
    "    };\n",
    "    1.wait;\n",
    "    x.do{|e| \n",
    "        e.release;\n",
    "        0.1.wait;};\n",
    "}).play;"
   ]
  },
  {
   "cell_type": "markdown",
   "metadata": {},
   "source": [
    "Note that the code is executed in sclang and python is returning directly after sending the command."
   ]
  },
  {
   "cell_type": "markdown",
   "metadata": {},
   "source": [
    "### sclang command execution with python variable injection"
   ]
  },
  {
   "cell_type": "markdown",
   "metadata": {},
   "source": [
    "Python variables can be injected into sc3 commands by using the ^ special: The following examples demonstrates it by setting frequencies by using python variables"
   ]
  },
  {
   "cell_type": "code",
   "execution_count": 8,
   "metadata": {
    "execution": {
     "iopub.execute_input": "2021-06-10T16:16:33.618905Z",
     "iopub.status.busy": "2021-06-10T16:16:33.617899Z",
     "iopub.status.idle": "2021-06-10T16:16:36.232828Z",
     "shell.execute_reply": "2021-06-10T16:16:36.232828Z"
    }
   },
   "outputs": [
    {
     "name": "stdout",
     "output_type": "stream",
     "text": [
      "-> Synth('s1' : 1008)\n",
      "-> Synth('s1' : 1009)\n",
      "-> Synth('s1' : 1010)\n",
      "-> Synth('s1' : 1011)\n"
     ]
    },
    {
     "name": "stdout",
     "output_type": "stream",
     "text": [
      "-> Synth('s1' : 1014)\n",
      "-> Synth('s1' : 1015)\n",
      "-> Synth('s1' : 1016)\n",
      "-> Synth('s1' : 1017)\n"
     ]
    },
    {
     "name": "stdout",
     "output_type": "stream",
     "text": [
      "-> Synth('s1' : 1020)\n",
      "-> Synth('s1' : 1021)\n",
      "-> Synth('s1' : 1022)\n",
      "-> Synth('s1' : 1024)\n"
     ]
    },
    {
     "name": "stdout",
     "output_type": "stream",
     "text": [
      "-> Synth('s1' : 1026)\n",
      "-> Synth('s1' : 1027)\n",
      "-> Synth('s1' : 1028)\n",
      "-> Synth('s1' : 1031)\n"
     ]
    },
    {
     "name": "stdout",
     "output_type": "stream",
     "text": [
      "-> Synth('s1' : 1032)\n",
      "-> Synth('s1' : 1033)\n",
      "-> Synth('s1' : 1034)\n",
      "-> Synth('s1' : 1037)\n"
     ]
    },
    {
     "name": "stdout",
     "output_type": "stream",
     "text": [
      "-> Synth('s1' : 1038)\n",
      "-> Synth('s1' : 1039)\n",
      "-> Synth('s1' : 1040)\n",
      "-> Synth('s1' : 1042)\n"
     ]
    },
    {
     "name": "stdout",
     "output_type": "stream",
     "text": [
      "-> Synth('s1' : 1043)\n",
      "-> Synth('s1' : 1044)\n",
      "-> Synth('s1' : 1046)\n",
      "-> Synth('s1' : 1047)\n"
     ]
    },
    {
     "name": "stdout",
     "output_type": "stream",
     "text": [
      "-> Synth('s1' : 1048)\n",
      "-> Synth('s1' : 1049)\n",
      "-> Synth('s1' : 1051)\n",
      "-> Synth('s1' : 1052)\n"
     ]
    },
    {
     "name": "stdout",
     "output_type": "stream",
     "text": [
      "-> Synth('s1' : 1053)\n",
      "-> Synth('s1' : 1054)\n",
      "-> Synth('s1' : 1056)\n",
      "-> Synth('s1' : 1057)\n"
     ]
    },
    {
     "name": "stdout",
     "output_type": "stream",
     "text": [
      "-> Synth('s1' : 1058)\n",
      "-> Synth('s1' : 1059)\n",
      "-> Synth('s1' : 1061)\n",
      "-> Synth('s1' : 1062)\n"
     ]
    },
    {
     "name": "stdout",
     "output_type": "stream",
     "text": [
      "-> Synth('s1' : 1063)\n",
      "-> Synth('s1' : 1064)\n",
      "-> Synth('s1' : 1065)\n",
      "-> Synth('s1' : 1066)\n"
     ]
    },
    {
     "name": "stdout",
     "output_type": "stream",
     "text": [
      "-> Synth('s1' : 1067)\n",
      "-> Synth('s1' : 1068)\n",
      "-> Synth('s1' : 1069)\n",
      "-> Synth('s1' : 1070)\n"
     ]
    },
    {
     "name": "stdout",
     "output_type": "stream",
     "text": [
      "-> Synth('s1' : 1071)\n"
     ]
    }
   ],
   "source": [
    "for p in range(1, 50):  # a tone ladder\n",
    "    freq = 50 + p*3\n",
    "    dur = np.log(p)\n",
    "    position = np.sign(p-25)\n",
    "    %sc Synth.new(\\s1, [\\freq, ^freq, \\dur, ^dur, \\pan, ^position])\n",
    "    time.sleep(0.05)"
   ]
  },
  {
   "cell_type": "markdown",
   "metadata": {},
   "source": [
    "This is injection is done with"
   ]
  },
  {
   "cell_type": "code",
   "execution_count": 9,
   "metadata": {
    "execution": {
     "iopub.execute_input": "2021-06-10T16:16:36.235828Z",
     "iopub.status.busy": "2021-06-10T16:16:36.235828Z",
     "iopub.status.idle": "2021-06-10T16:16:36.279829Z",
     "shell.execute_reply": "2021-06-10T16:16:36.279829Z"
    }
   },
   "outputs": [],
   "source": [
    "scn.sclang.convert_to_sc?"
   ]
  },
  {
   "cell_type": "code",
   "execution_count": 10,
   "metadata": {
    "execution": {
     "iopub.execute_input": "2021-06-10T16:16:36.283829Z",
     "iopub.status.busy": "2021-06-10T16:16:36.282827Z",
     "iopub.status.idle": "2021-06-10T16:16:36.287829Z",
     "shell.execute_reply": "2021-06-10T16:16:36.287829Z"
    }
   },
   "outputs": [
    {
     "name": "stdout",
     "output_type": "stream",
     "text": [
      "-> Array\n"
     ]
    }
   ],
   "source": [
    "python_list = [1,2,3,4]\n",
    "%scv ^python_list.class"
   ]
  },
  {
   "cell_type": "code",
   "execution_count": 11,
   "metadata": {
    "execution": {
     "iopub.execute_input": "2021-06-10T16:16:36.290828Z",
     "iopub.status.busy": "2021-06-10T16:16:36.290828Z",
     "iopub.status.idle": "2021-06-10T16:16:36.295830Z",
     "shell.execute_reply": "2021-06-10T16:16:36.295830Z"
    }
   },
   "outputs": [
    {
     "name": "stdout",
     "output_type": "stream",
     "text": [
      "-> Complex\n"
     ]
    }
   ],
   "source": [
    "complex_py = 1+1j\n",
    "%scv ^complex_py.class"
   ]
  },
  {
   "cell_type": "code",
   "execution_count": 12,
   "metadata": {
    "execution": {
     "iopub.execute_input": "2021-06-10T16:16:36.298488Z",
     "iopub.status.busy": "2021-06-10T16:16:36.298488Z",
     "iopub.status.idle": "2021-06-10T16:16:36.303539Z",
     "shell.execute_reply": "2021-06-10T16:16:36.303539Z"
    }
   },
   "outputs": [
    {
     "name": "stdout",
     "output_type": "stream",
     "text": [
      "-> Symbol\n"
     ]
    }
   ],
   "source": [
    "symbol = r\"\\\\python\"\n",
    "%scv ^symbol.class"
   ]
  },
  {
   "cell_type": "markdown",
   "metadata": {},
   "source": [
    "When using the `cmd` | `cmdv` | `cmdg` functions you can also provide a dictionary with variable names as keys and content as values (which can use other python vars or statements)"
   ]
  },
  {
   "cell_type": "code",
   "execution_count": 13,
   "metadata": {
    "execution": {
     "iopub.execute_input": "2021-06-10T16:16:36.306721Z",
     "iopub.status.busy": "2021-06-10T16:16:36.306721Z",
     "iopub.status.idle": "2021-06-10T16:16:36.310719Z",
     "shell.execute_reply": "2021-06-10T16:16:36.310719Z"
    }
   },
   "outputs": [
    {
     "name": "stdout",
     "output_type": "stream",
     "text": [
      "-> 0.5\n"
     ]
    }
   ],
   "source": [
    "sc.lang.cmdv(\"^name1 / ^name2\", pyvars={'name1': 9,'name2': 9*2})"
   ]
  },
  {
   "cell_type": "code",
   "execution_count": 14,
   "metadata": {
    "execution": {
     "iopub.execute_input": "2021-06-10T16:16:36.313719Z",
     "iopub.status.busy": "2021-06-10T16:16:36.312719Z",
     "iopub.status.idle": "2021-06-10T16:16:36.326718Z",
     "shell.execute_reply": "2021-06-10T16:16:36.326718Z"
    }
   },
   "outputs": [
    {
     "name": "stdout",
     "output_type": "stream",
     "text": [
      "-> 42\n"
     ]
    }
   ],
   "source": [
    "# without providing pyvars, variables are searched in the users namespace.\n",
    "freq = 5\n",
    "rate = 6\n",
    "sc.lang.cmdv(\"(^freq + 1) * (^rate + 1)\")"
   ]
  },
  {
   "cell_type": "code",
   "execution_count": 15,
   "metadata": {
    "execution": {
     "iopub.execute_input": "2021-06-10T16:16:36.330719Z",
     "iopub.status.busy": "2021-06-10T16:16:36.329718Z",
     "iopub.status.idle": "2021-06-10T16:16:36.334718Z",
     "shell.execute_reply": "2021-06-10T16:16:36.334718Z"
    }
   },
   "outputs": [
    {
     "name": "stdout",
     "output_type": "stream",
     "text": [
      "-> 42\n"
     ]
    }
   ],
   "source": [
    "# alternatively via the magic this is done as:\n",
    "%scv (^freq + 1) * (^rate + 1)"
   ]
  },
  {
   "cell_type": "markdown",
   "metadata": {},
   "source": [
    "### Getting sclang output in python\n",
    "\n",
    "* To get the output of an sclang snippet into a python variable, use the cmdg function.\n",
    "* The following example shows how to transfer a synth's nodeID"
   ]
  },
  {
   "cell_type": "code",
   "execution_count": 16,
   "metadata": {
    "execution": {
     "iopub.execute_input": "2021-06-10T16:16:36.337718Z",
     "iopub.status.busy": "2021-06-10T16:16:36.336717Z",
     "iopub.status.idle": "2021-06-10T16:16:36.348718Z",
     "shell.execute_reply": "2021-06-10T16:16:36.349720Z"
    }
   },
   "outputs": [
    {
     "name": "stdout",
     "output_type": "stream",
     "text": [
      "-> Synth('default' : 1072)\n"
     ]
    }
   ],
   "source": [
    "# start a Synth\n",
    "sc.lang.cmd(r\"\"\"x = Synth.new(\\default)\"\"\")"
   ]
  },
  {
   "cell_type": "code",
   "execution_count": 17,
   "metadata": {
    "execution": {
     "iopub.execute_input": "2021-06-10T16:16:36.352720Z",
     "iopub.status.busy": "2021-06-10T16:16:36.351718Z",
     "iopub.status.idle": "2021-06-10T16:16:36.362719Z",
     "shell.execute_reply": "2021-06-10T16:16:36.362719Z"
    }
   },
   "outputs": [
    {
     "name": "stdout",
     "output_type": "stream",
     "text": [
      "-> 1072\n",
      "1072\n"
     ]
    }
   ],
   "source": [
    "# get the nodeId to python\n",
    "nodeID = sc.lang.cmdg(\"x.nodeID\")\n",
    "print(nodeID)"
   ]
  },
  {
   "cell_type": "code",
   "execution_count": 18,
   "metadata": {
    "execution": {
     "iopub.execute_input": "2021-06-10T16:16:36.365718Z",
     "iopub.status.busy": "2021-06-10T16:16:36.365718Z",
     "iopub.status.idle": "2021-06-10T16:16:36.366719Z",
     "shell.execute_reply": "2021-06-10T16:16:36.366719Z"
    }
   },
   "outputs": [],
   "source": [
    "# use the nodeID to free the Synth via a message to scsynth audio server directly\n",
    "sc.server.msg(\"/n_free\", nodeID)  "
   ]
  },
  {
   "cell_type": "markdown",
   "metadata": {},
   "source": [
    "**sc.cmdg(), resp. %scg return integers, floats, strings and lists**\n",
    "* %scg can be assigned to a python variable within code"
   ]
  },
  {
   "cell_type": "code",
   "execution_count": 19,
   "metadata": {
    "execution": {
     "iopub.execute_input": "2021-06-10T16:16:36.370719Z",
     "iopub.status.busy": "2021-06-10T16:16:36.369719Z",
     "iopub.status.idle": "2021-06-10T16:16:36.372719Z",
     "shell.execute_reply": "2021-06-10T16:16:36.372719Z"
    }
   },
   "outputs": [
    {
     "name": "stdout",
     "output_type": "stream",
     "text": [
      "-> 24686\n",
      "returned an <class 'int'> of value 24686\n"
     ]
    }
   ],
   "source": [
    "a = %scg 1234 + 23452\n",
    "print(f\"returned an {type(a)} of value {a}\")"
   ]
  },
  {
   "cell_type": "code",
   "execution_count": 20,
   "metadata": {
    "execution": {
     "iopub.execute_input": "2021-06-10T16:16:36.375719Z",
     "iopub.status.busy": "2021-06-10T16:16:36.375719Z",
     "iopub.status.idle": "2021-06-10T16:16:36.378719Z",
     "shell.execute_reply": "2021-06-10T16:16:36.378719Z"
    }
   },
   "outputs": [
    {
     "name": "stdout",
     "output_type": "stream",
     "text": [
      "-> 1523990.25\n",
      "returned an <class 'float'> of value 1523990.25\n"
     ]
    }
   ],
   "source": [
    "a = %scg 1234.5.squared\n",
    "print(f\"returned an {type(a)} of value {a}\")"
   ]
  },
  {
   "cell_type": "code",
   "execution_count": 21,
   "metadata": {
    "execution": {
     "iopub.execute_input": "2021-06-10T16:16:36.381718Z",
     "iopub.status.busy": "2021-06-10T16:16:36.381718Z",
     "iopub.status.idle": "2021-06-10T16:16:36.386719Z",
     "shell.execute_reply": "2021-06-10T16:16:36.386719Z"
    }
   },
   "outputs": [
    {
     "name": "stdout",
     "output_type": "stream",
     "text": [
      "-> sifitioaconn\n"
     ]
    },
    {
     "data": {
      "text/plain": [
       "'sifitioaconn'"
      ]
     },
     "execution_count": 1,
     "metadata": {},
     "output_type": "execute_result"
    }
   ],
   "source": [
    "%scg \"sonification\".scramble"
   ]
  },
  {
   "cell_type": "markdown",
   "metadata": {},
   "source": [
    "be careful when using magics directly after another"
   ]
  },
  {
   "cell_type": "code",
   "execution_count": 22,
   "metadata": {
    "execution": {
     "iopub.execute_input": "2021-06-10T16:16:36.390718Z",
     "iopub.status.busy": "2021-06-10T16:16:36.390718Z",
     "iopub.status.idle": "2021-06-10T16:16:36.397720Z",
     "shell.execute_reply": "2021-06-10T16:16:36.397720Z"
    }
   },
   "outputs": [
    {
     "name": "stdout",
     "output_type": "stream",
     "text": [
      "-> aiiocnitfnos\n",
      "-> aiiocnitfnos\n"
     ]
    },
    {
     "data": {
      "text/plain": [
       "'aiiocnitfnos'"
      ]
     },
     "execution_count": 1,
     "metadata": {},
     "output_type": "execute_result"
    }
   ],
   "source": [
    "%sc ~retval = \"sonification\".scramble\n",
    "time.sleep(0.001)  # (in Windows) without pause an Empty might be thrown..\n",
    "%scg ~retval"
   ]
  },
  {
   "cell_type": "markdown",
   "metadata": {},
   "source": [
    "(in Windows) it should be prefered to combine your code in one cmd execution."
   ]
  },
  {
   "cell_type": "code",
   "execution_count": 23,
   "metadata": {
    "execution": {
     "iopub.execute_input": "2021-06-10T16:16:36.401720Z",
     "iopub.status.busy": "2021-06-10T16:16:36.400718Z",
     "iopub.status.idle": "2021-06-10T16:16:36.404719Z",
     "shell.execute_reply": "2021-06-10T16:16:36.404719Z"
    }
   },
   "outputs": [
    {
     "name": "stdout",
     "output_type": "stream",
     "text": [
      "-> sciatnoniifo!\n"
     ]
    },
    {
     "data": {
      "text/plain": [
       "'sciatnoniifo!'"
      ]
     },
     "execution_count": 1,
     "metadata": {},
     "output_type": "execute_result"
    }
   ],
   "source": [
    "scramble = %scg ~retval = \"sonification\".scramble; ~retval ++ \"!\";\n",
    "scramble"
   ]
  },
  {
   "cell_type": "code",
   "execution_count": 24,
   "metadata": {
    "execution": {
     "iopub.execute_input": "2021-06-10T16:16:36.407721Z",
     "iopub.status.busy": "2021-06-10T16:16:36.407721Z",
     "iopub.status.idle": "2021-06-10T16:16:36.411719Z",
     "shell.execute_reply": "2021-06-10T16:16:36.411719Z"
    }
   },
   "outputs": [
    {
     "name": "stdout",
     "output_type": "stream",
     "text": [
      "-> [ 1.0, 1.1, 1.2, 1.3, 1.4, 1.5, 1.6, 1.7, 1.8, 1.9 ]\n"
     ]
    }
   ],
   "source": [
    "a = %scg (1,1.1..2)"
   ]
  },
  {
   "cell_type": "code",
   "execution_count": 25,
   "metadata": {
    "execution": {
     "iopub.execute_input": "2021-06-10T16:16:36.415719Z",
     "iopub.status.busy": "2021-06-10T16:16:36.414719Z",
     "iopub.status.idle": "2021-06-10T16:16:36.418719Z",
     "shell.execute_reply": "2021-06-10T16:16:36.418719Z"
    }
   },
   "outputs": [
    {
     "data": {
      "text/plain": [
       "[1.0,\n",
       " 1.100000023841858,\n",
       " 1.2000000476837158,\n",
       " 1.2999999523162842,\n",
       " 1.399999976158142,\n",
       " 1.5,\n",
       " 1.600000023841858,\n",
       " 1.7000000476837158,\n",
       " 1.7999999523162842,\n",
       " 1.899999976158142]"
      ]
     },
     "execution_count": 1,
     "metadata": {},
     "output_type": "execute_result"
    }
   ],
   "source": [
    "a"
   ]
  },
  {
   "cell_type": "code",
   "execution_count": 26,
   "metadata": {
    "execution": {
     "iopub.execute_input": "2021-06-10T16:16:36.422721Z",
     "iopub.status.busy": "2021-06-10T16:16:36.421719Z",
     "iopub.status.idle": "2021-06-10T16:16:36.425719Z",
     "shell.execute_reply": "2021-06-10T16:16:36.425719Z"
    }
   },
   "outputs": [
    {
     "name": "stdout",
     "output_type": "stream",
     "text": [
      "-> [ 1.0, 1.1, 1.2, 1.3, 1.4, 1.5, 1.6, 1.7, 1.8, 1.9 ]\n",
      "list with length: 10\n"
     ]
    },
    {
     "data": {
      "text/plain": [
       "[1.0,\n",
       " 1.100000023841858,\n",
       " 1.2000000476837158,\n",
       " 1.2999999523162842,\n",
       " 1.399999976158142,\n",
       " 1.5,\n",
       " 1.600000023841858,\n",
       " 1.7000000476837158,\n",
       " 1.7999999523162842,\n",
       " 1.899999976158142]"
      ]
     },
     "execution_count": 1,
     "metadata": {},
     "output_type": "execute_result"
    }
   ],
   "source": [
    "a = %scg (1,1.1..2)\n",
    "print(f\"list with length: {len(a)}\")\n",
    "a"
   ]
  },
  {
   "cell_type": "markdown",
   "metadata": {},
   "source": [
    "Note that floating-point numbers do have a limited precision"
   ]
  },
  {
   "cell_type": "code",
   "execution_count": 27,
   "metadata": {
    "execution": {
     "iopub.execute_input": "2021-06-10T16:16:36.429718Z",
     "iopub.status.busy": "2021-06-10T16:16:36.428718Z",
     "iopub.status.idle": "2021-06-10T16:16:36.431719Z",
     "shell.execute_reply": "2021-06-10T16:16:36.431719Z"
    }
   },
   "outputs": [
    {
     "data": {
      "text/plain": [
       "[1.0, 1.1, 1.2, 1.3, 1.4, 1.5, 1.6, 1.7, 1.8, 1.9]"
      ]
     },
     "execution_count": 1,
     "metadata": {},
     "output_type": "execute_result"
    }
   ],
   "source": [
    "[round(num, 6) for num in a]"
   ]
  },
  {
   "cell_type": "markdown",
   "metadata": {},
   "source": [
    "However they should be close"
   ]
  },
  {
   "cell_type": "code",
   "execution_count": 28,
   "metadata": {
    "execution": {
     "iopub.execute_input": "2021-06-10T16:16:36.435719Z",
     "iopub.status.busy": "2021-06-10T16:16:36.434720Z",
     "iopub.status.idle": "2021-06-10T16:16:36.437718Z",
     "shell.execute_reply": "2021-06-10T16:16:36.437718Z"
    }
   },
   "outputs": [
    {
     "data": {
      "text/plain": [
       "True"
      ]
     },
     "execution_count": 1,
     "metadata": {},
     "output_type": "execute_result"
    }
   ],
   "source": [
    "np.allclose(a, np.arange(1, 2, 0.1))"
   ]
  },
  {
   "cell_type": "markdown",
   "metadata": {},
   "source": [
    "### Cell magics"
   ]
  },
  {
   "cell_type": "code",
   "execution_count": 29,
   "metadata": {
    "execution": {
     "iopub.execute_input": "2021-06-10T16:16:36.440718Z",
     "iopub.status.busy": "2021-06-10T16:16:36.440718Z",
     "iopub.status.idle": "2021-06-10T16:16:36.448720Z",
     "shell.execute_reply": "2021-06-10T16:16:36.448720Z"
    }
   },
   "outputs": [
    {
     "name": "stdout",
     "output_type": "stream",
     "text": [
      "-> Synth('temp__0' : 1073)\n"
     ]
    }
   ],
   "source": [
    "%sc {SinOsc.ar(MouseX.kr(200,400))}.play  // move mouse horizontally, CMD-. to stop"
   ]
  },
  {
   "cell_type": "code",
   "execution_count": 30,
   "metadata": {
    "execution": {
     "iopub.execute_input": "2021-06-10T16:16:36.451719Z",
     "iopub.status.busy": "2021-06-10T16:16:36.451719Z",
     "iopub.status.idle": "2021-06-10T16:16:36.467721Z",
     "shell.execute_reply": "2021-06-10T16:16:36.467721Z"
    }
   },
   "outputs": [
    {
     "name": "stdout",
     "output_type": "stream",
     "text": [
      "-> a Stethoscope\n"
     ]
    }
   ],
   "source": [
    "%sc s.scope()"
   ]
  },
  {
   "cell_type": "code",
   "execution_count": 31,
   "metadata": {
    "execution": {
     "iopub.execute_input": "2021-06-10T16:16:36.471721Z",
     "iopub.status.busy": "2021-06-10T16:16:36.470721Z",
     "iopub.status.idle": "2021-06-10T16:16:36.494721Z",
     "shell.execute_reply": "2021-06-10T16:16:36.494721Z"
    }
   },
   "outputs": [
    {
     "name": "stdout",
     "output_type": "stream",
     "text": [
      "-> sc3nb_remote\n"
     ]
    }
   ],
   "source": [
    "%sc s.freeAll"
   ]
  },
  {
   "cell_type": "code",
   "execution_count": 32,
   "metadata": {
    "execution": {
     "iopub.execute_input": "2021-06-10T16:16:36.498721Z",
     "iopub.status.busy": "2021-06-10T16:16:36.498721Z",
     "iopub.status.idle": "2021-06-10T16:16:36.515243Z",
     "shell.execute_reply": "2021-06-10T16:16:36.515243Z"
    }
   },
   "outputs": [
    {
     "name": "stdout",
     "output_type": "stream",
     "text": [
      "-> 50\n",
      "value =  50\n"
     ]
    }
   ],
   "source": [
    "value = %scg 75-25\n",
    "print(\"value = \", value)"
   ]
  },
  {
   "cell_type": "code",
   "execution_count": 33,
   "metadata": {
    "execution": {
     "iopub.execute_input": "2021-06-10T16:16:36.518244Z",
     "iopub.status.busy": "2021-06-10T16:16:36.518244Z",
     "iopub.status.idle": "2021-06-10T16:16:36.522245Z",
     "shell.execute_reply": "2021-06-10T16:16:36.522245Z"
    }
   },
   "outputs": [
    {
     "name": "stdout",
     "output_type": "stream",
     "text": [
      "-> a Routine\n"
     ]
    }
   ],
   "source": [
    "%%sc\n",
    "{\n",
    "    x = Synth.new(\\s2, [\\freq, 100, \\num, 1]);\n",
    "    250.do{|i|\n",
    "        x.set(\\freq, sin(0.2*i.pow(1.5))*100 + 200);\n",
    "        0.02.wait;\n",
    "    };\n",
    "    x.free;\n",
    "}.fork"
   ]
  },
  {
   "cell_type": "markdown",
   "metadata": {},
   "source": [
    "* Try %scv and %%scv for verbose line resp. cells\n",
    "* Try %scg and %%scg for getter line resp. cells"
   ]
  },
  {
   "cell_type": "markdown",
   "metadata": {},
   "source": [
    "### Stop synths"
   ]
  },
  {
   "cell_type": "code",
   "execution_count": 34,
   "metadata": {
    "code_folding": [],
    "execution": {
     "iopub.execute_input": "2021-06-10T16:16:36.525611Z",
     "iopub.status.busy": "2021-06-10T16:16:36.525611Z",
     "iopub.status.idle": "2021-06-10T16:16:36.530777Z",
     "shell.execute_reply": "2021-06-10T16:16:36.531778Z"
    }
   },
   "outputs": [
    {
     "name": "stdout",
     "output_type": "stream",
     "text": [
      "-> Synth('default' : 1076)\n"
     ]
    }
   ],
   "source": [
    "synth = \"default\"\n",
    "%sc x = Synth.new(^synth)"
   ]
  },
  {
   "cell_type": "markdown",
   "metadata": {},
   "source": [
    "* to stop all playing synths either use CMD-. (in Jupyter Command mode).\n",
    "* It is a shortcut for the ´free_all´ method of the default server"
   ]
  },
  {
   "cell_type": "code",
   "execution_count": 35,
   "metadata": {
    "execution": {
     "iopub.execute_input": "2021-06-10T16:16:36.534776Z",
     "iopub.status.busy": "2021-06-10T16:16:36.534776Z",
     "iopub.status.idle": "2021-06-10T16:16:36.537777Z",
     "shell.execute_reply": "2021-06-10T16:16:36.537777Z"
    }
   },
   "outputs": [
    {
     "name": "stdout",
     "output_type": "stream",
     "text": [
      "-> sc3nb_remote\n"
     ]
    }
   ],
   "source": [
    "%sc s.freeAll  // leaves the s.scope running"
   ]
  },
  {
   "cell_type": "code",
   "execution_count": 36,
   "metadata": {
    "execution": {
     "iopub.execute_input": "2021-06-10T16:16:36.541778Z",
     "iopub.status.busy": "2021-06-10T16:16:36.540777Z",
     "iopub.status.idle": "2021-06-10T16:16:36.601785Z",
     "shell.execute_reply": "2021-06-10T16:16:36.601785Z"
    }
   },
   "outputs": [],
   "source": [
    "scn.SC.default.server.free_all()"
   ]
  },
  {
   "cell_type": "markdown",
   "metadata": {},
   "source": [
    "which is also available using our `sc` instance directly"
   ]
  },
  {
   "cell_type": "code",
   "execution_count": 37,
   "metadata": {
    "execution": {
     "iopub.execute_input": "2021-06-10T16:16:36.604786Z",
     "iopub.status.busy": "2021-06-10T16:16:36.604786Z",
     "iopub.status.idle": "2021-06-10T16:16:36.652786Z",
     "shell.execute_reply": "2021-06-10T16:16:36.652786Z"
    }
   },
   "outputs": [],
   "source": [
    "sc.server.free_all()"
   ]
  },
  {
   "cell_type": "code",
   "execution_count": 38,
   "metadata": {
    "execution": {
     "iopub.execute_input": "2021-06-10T16:16:36.655785Z",
     "iopub.status.busy": "2021-06-10T16:16:36.655785Z",
     "iopub.status.idle": "2021-06-10T16:16:37.825843Z",
     "shell.execute_reply": "2021-06-10T16:16:37.825843Z"
    }
   },
   "outputs": [],
   "source": [
    "sc.exit()"
   ]
  }
 ],
 "metadata": {
  "language_info": {
   "codemirror_mode": {
    "name": "ipython",
    "version": 3
   },
   "file_extension": ".py",
   "mimetype": "text/x-python",
   "name": "python",
   "nbconvert_exporter": "python",
   "pygments_lexer": "ipython3",
   "version": "3.7.10"
  }
 },
 "nbformat": 4,
 "nbformat_minor": 4
}
