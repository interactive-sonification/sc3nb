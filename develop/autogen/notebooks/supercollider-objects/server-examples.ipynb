{
 "cells": [
  {
   "cell_type": "markdown",
   "metadata": {},
   "source": [
    "# Server"
   ]
  },
  {
   "cell_type": "code",
   "execution_count": 1,
   "metadata": {
    "execution": {
     "iopub.execute_input": "2021-07-19T11:53:51.468821Z",
     "iopub.status.busy": "2021-07-19T11:53:51.467832Z",
     "iopub.status.idle": "2021-07-19T11:53:51.634828Z",
     "shell.execute_reply": "2021-07-19T11:53:51.634828Z"
    }
   },
   "outputs": [],
   "source": [
    "import sc3nb as scn"
   ]
  },
  {
   "cell_type": "markdown",
   "metadata": {},
   "source": [
    "The `SCServer` class is the central interface for \n",
    "\n",
    "* controlling the SuperCollider audio server process\n",
    "* managing SuperCollider Objects\n",
    "* using OSC for outgoing and incoming packets\n",
    "\n",
    "\n",
    "To achieve all this the SCServer is\n",
    "\n",
    "* registered as a client to the SuperCollider audio server process (scsynth) and exchanging [SuperCollider Commands](http://doc.sccode.org/Reference/Server-Command-Reference.html) with the server process\n",
    "* and also running an OSC server in python which can communicate via OSC with scsynth and sclang.\n",
    "\n",
    "\n",
    "For information about how to communicate using OSC see the [OSC communication notebook](../osc-communication-examples.ipynb). This notebook focuses on using the `SCServer` class for interacting with scsynth "
   ]
  },
  {
   "cell_type": "markdown",
   "metadata": {},
   "source": [
    "## Starting the Server"
   ]
  },
  {
   "cell_type": "markdown",
   "metadata": {},
   "source": [
    "The most convienent way is to use the default sc3nb `SCServer` instance"
   ]
  },
  {
   "cell_type": "code",
   "execution_count": 2,
   "metadata": {
    "execution": {
     "iopub.execute_input": "2021-07-19T11:53:51.643822Z",
     "iopub.status.busy": "2021-07-19T11:53:51.642820Z",
     "iopub.status.idle": "2021-07-19T11:53:54.776856Z",
     "shell.execute_reply": "2021-07-19T11:53:54.777856Z"
    }
   },
   "outputs": [
    {
     "data": {
      "application/javascript": [
       "if (typeof Jupyter !== 'undefined') {\n",
       "                        Jupyter.keyboard_manager.command_shortcuts.add_shortcut(\n",
       "                        'Ctrl-.', {\n",
       "                        help : 'Free all nodes on SC server',\n",
       "                        help_index : 'zz',\n",
       "                        handler : function (event) {\n",
       "                            IPython.notebook.kernel.execute(\n",
       "                                \"import sc3nb; sc3nb.SC.get_default().server.free_all(root=True)\"\n",
       "                            )\n",
       "                            return true;}\n",
       "                        });\n",
       "                    }"
      ],
      "text/plain": [
       "<IPython.core.display.Javascript object>"
      ]
     },
     "metadata": {},
     "output_type": "display_data"
    },
    {
     "name": "stdout",
     "output_type": "stream",
     "text": [
      "Starting sclang process... "
     ]
    },
    {
     "name": "stdout",
     "output_type": "stream",
     "text": [
      "Done.\n",
      "Registering OSC /return callback in sclang... Done.\n",
      "Loading default sc3nb SynthDefs... Done.\n",
      "Booting SuperCollider Server... "
     ]
    },
    {
     "name": "stdout",
     "output_type": "stream",
     "text": [
      "Done.\n"
     ]
    }
   ],
   "source": [
    "sc = scn.startup()"
   ]
  },
  {
   "cell_type": "code",
   "execution_count": 3,
   "metadata": {
    "execution": {
     "iopub.execute_input": "2021-07-19T11:53:54.780857Z",
     "iopub.status.busy": "2021-07-19T11:53:54.780857Z",
     "iopub.status.idle": "2021-07-19T11:53:54.783857Z",
     "shell.execute_reply": "2021-07-19T11:53:54.783857Z"
    }
   },
   "outputs": [
    {
     "data": {
      "text/plain": [
       "<SCServer addr=('127.0.0.1', 57110), process=<Process 'scsynth' (running) pid=4264>>"
      ]
     },
     "execution_count": 3,
     "metadata": {},
     "output_type": "execute_result"
    }
   ],
   "source": [
    "sc.server"
   ]
  },
  {
   "cell_type": "markdown",
   "metadata": {},
   "source": [
    "However you can also use the SCServer class directly"
   ]
  },
  {
   "cell_type": "markdown",
   "metadata": {},
   "source": [
    "The server connection can be created\n",
    "\n",
    "* locally using `boot`, which will start a scsynth process and connect to it or\n",
    "* remote using `remote` for connecting to an already running scsynth process"
   ]
  },
  {
   "cell_type": "code",
   "execution_count": 4,
   "metadata": {
    "execution": {
     "iopub.execute_input": "2021-07-19T11:53:54.786857Z",
     "iopub.status.busy": "2021-07-19T11:53:54.786857Z",
     "iopub.status.idle": "2021-07-19T11:53:54.790858Z",
     "shell.execute_reply": "2021-07-19T11:53:54.790858Z"
    }
   },
   "outputs": [
    {
     "data": {
      "text/plain": [
       "<SCServer (not booted)>"
      ]
     },
     "execution_count": 4,
     "metadata": {},
     "output_type": "execute_result"
    }
   ],
   "source": [
    "serv = scn.SCServer()\n",
    "serv"
   ]
  },
  {
   "cell_type": "code",
   "execution_count": 5,
   "metadata": {
    "execution": {
     "iopub.execute_input": "2021-07-19T11:53:54.793857Z",
     "iopub.status.busy": "2021-07-19T11:53:54.792857Z",
     "iopub.status.idle": "2021-07-19T11:54:00.296694Z",
     "shell.execute_reply": "2021-07-19T11:54:00.296694Z"
    }
   },
   "outputs": [
    {
     "name": "stdout",
     "output_type": "stream",
     "text": [
      "Booting SuperCollider Server... "
     ]
    },
    {
     "name": "stdout",
     "output_type": "stream",
     "text": [
      "\n",
      "SuperCollider Server port 57110 already used.\n",
      "Trying to connect.\n",
      "Done.\n"
     ]
    }
   ],
   "source": [
    "serv.boot()"
   ]
  },
  {
   "cell_type": "markdown",
   "metadata": {},
   "source": [
    "Notice how the `SCServer` always tries to boot using the default SuperCollider audio server port 57110.\n",
    "But this port is already used by `sc.server` and thus the `SCServer` tries to connect to the already running instance using `SCserver.remote`. This enables a user to share the same scsynth instance with other users and/or use it from other notebooks. If the port to be used is explicitly specified the `SCServer` instance will fail instead of connecting.\n",
    "\n",
    "The `SCServer` will register to the scsynth process using `SCServer.notify()`"
   ]
  },
  {
   "cell_type": "markdown",
   "metadata": {},
   "source": [
    "Let's look how many clients are allowed and what the `client_id`s and the corresponding `default_group`s of the SCServer instances are."
   ]
  },
  {
   "cell_type": "code",
   "execution_count": 6,
   "metadata": {
    "execution": {
     "iopub.execute_input": "2021-07-19T11:54:00.299694Z",
     "iopub.status.busy": "2021-07-19T11:54:00.299694Z",
     "iopub.status.idle": "2021-07-19T11:54:00.302694Z",
     "shell.execute_reply": "2021-07-19T11:54:00.302694Z"
    }
   },
   "outputs": [
    {
     "name": "stdout",
     "output_type": "stream",
     "text": [
      "The scsynth process of this SCServer instance allows 8 clients to login.\n"
     ]
    }
   ],
   "source": [
    "print(f\"The scsynth process of this SCServer instance allows {sc.server.max_logins} clients to login.\")"
   ]
  },
  {
   "cell_type": "code",
   "execution_count": 7,
   "metadata": {
    "execution": {
     "iopub.execute_input": "2021-07-19T11:54:00.305694Z",
     "iopub.status.busy": "2021-07-19T11:54:00.305694Z",
     "iopub.status.idle": "2021-07-19T11:54:00.307694Z",
     "shell.execute_reply": "2021-07-19T11:54:00.307694Z"
    }
   },
   "outputs": [
    {
     "name": "stdout",
     "output_type": "stream",
     "text": [
      "sc.server has client id 1 and the default Group <Group(67108865) ~ {} children=[]>\n"
     ]
    }
   ],
   "source": [
    "print(f\"sc.server has client id {sc.server.client_id} and the default Group {sc.server.default_group}\") "
   ]
  },
  {
   "cell_type": "code",
   "execution_count": 8,
   "metadata": {
    "execution": {
     "iopub.execute_input": "2021-07-19T11:54:00.310694Z",
     "iopub.status.busy": "2021-07-19T11:54:00.309696Z",
     "iopub.status.idle": "2021-07-19T11:54:00.312694Z",
     "shell.execute_reply": "2021-07-19T11:54:00.312694Z"
    }
   },
   "outputs": [
    {
     "name": "stdout",
     "output_type": "stream",
     "text": [
      "serv has client id 2 and the default Group <Group(134217729) s {} children=[]>\n"
     ]
    }
   ],
   "source": [
    "print(f\"serv has client id {serv.client_id} and the default Group {serv.default_group}\") "
   ]
  },
  {
   "cell_type": "markdown",
   "metadata": {},
   "source": [
    "However also note that the instances use different ports meaning they are able to independendly send and receive OSC packets"
   ]
  },
  {
   "cell_type": "code",
   "execution_count": 9,
   "metadata": {
    "execution": {
     "iopub.execute_input": "2021-07-19T11:54:00.315694Z",
     "iopub.status.busy": "2021-07-19T11:54:00.315694Z",
     "iopub.status.idle": "2021-07-19T11:54:00.317694Z",
     "shell.execute_reply": "2021-07-19T11:54:00.317694Z"
    }
   },
   "outputs": [
    {
     "name": "stdout",
     "output_type": "stream",
     "text": [
      "This instance is at ('127.0.0.1', 57131),\n",
      "Known receivers: \"scsynth\" at ('127.0.0.1', 57110)\n",
      "                 \"sclang\" at ('127.0.0.1', 57120)\n",
      "                 \n"
     ]
    },
    {
     "data": {
      "text/plain": [
       "(('127.0.0.1', 57131),\n",
       " {('127.0.0.1', 57110): 'scsynth', ('127.0.0.1', 57120): 'sclang'})"
      ]
     },
     "execution_count": 9,
     "metadata": {},
     "output_type": "execute_result"
    }
   ],
   "source": [
    "sc.server.connection_info()"
   ]
  },
  {
   "cell_type": "markdown",
   "metadata": {},
   "source": [
    "and also note that `serv` is not connected to sclang but has the same connection info for scsynth."
   ]
  },
  {
   "cell_type": "code",
   "execution_count": 10,
   "metadata": {
    "execution": {
     "iopub.execute_input": "2021-07-19T11:54:00.320694Z",
     "iopub.status.busy": "2021-07-19T11:54:00.320694Z",
     "iopub.status.idle": "2021-07-19T11:54:00.322697Z",
     "shell.execute_reply": "2021-07-19T11:54:00.322697Z"
    }
   },
   "outputs": [
    {
     "name": "stdout",
     "output_type": "stream",
     "text": [
      "This instance is at ('127.0.0.1', 57133),\n",
      "Known receivers: \"scsynth\" at ('127.0.0.1', 57110)\n",
      "                 \n"
     ]
    },
    {
     "data": {
      "text/plain": [
       "(('127.0.0.1', 57133), {('127.0.0.1', 57110): 'scsynth'})"
      ]
     },
     "execution_count": 10,
     "metadata": {},
     "output_type": "execute_result"
    }
   ],
   "source": [
    "serv.connection_info()"
   ]
  },
  {
   "cell_type": "markdown",
   "metadata": {},
   "source": [
    "A Synth running on the SuperCollider audio server will be visible to all connected clients"
   ]
  },
  {
   "cell_type": "code",
   "execution_count": 11,
   "metadata": {
    "execution": {
     "iopub.execute_input": "2021-07-19T11:54:00.325696Z",
     "iopub.status.busy": "2021-07-19T11:54:00.325696Z",
     "iopub.status.idle": "2021-07-19T11:54:00.336695Z",
     "shell.execute_reply": "2021-07-19T11:54:00.337698Z"
    }
   },
   "outputs": [],
   "source": [
    "serv_synth = scn.Synth(\"s2\", {\"amp\": 0.05, \"pan\": -1, \"freq\": 100}, server=serv)"
   ]
  },
  {
   "cell_type": "code",
   "execution_count": 12,
   "metadata": {
    "execution": {
     "iopub.execute_input": "2021-07-19T11:54:00.340696Z",
     "iopub.status.busy": "2021-07-19T11:54:00.339696Z",
     "iopub.status.idle": "2021-07-19T11:54:00.341696Z",
     "shell.execute_reply": "2021-07-19T11:54:00.341696Z"
    }
   },
   "outputs": [],
   "source": [
    "default_synth = scn.Synth(\"s2\", {\"amp\": 0.05, \"pan\": 1, \"freq\": 440})  # no need to specify sc.server as server argument"
   ]
  },
  {
   "cell_type": "markdown",
   "metadata": {},
   "source": [
    "This also includes sclang, which is another client of the scsynth process"
   ]
  },
  {
   "cell_type": "code",
   "execution_count": 13,
   "metadata": {
    "execution": {
     "iopub.execute_input": "2021-07-19T11:54:00.346696Z",
     "iopub.status.busy": "2021-07-19T11:54:00.345696Z",
     "iopub.status.idle": "2021-07-19T11:54:00.350694Z",
     "shell.execute_reply": "2021-07-19T11:54:00.350694Z"
    }
   },
   "outputs": [
    {
     "name": "stdout",
     "output_type": "stream",
     "text": [
      "-> Synth('s2' : 1000)\n"
     ]
    }
   ],
   "source": [
    "%sc ~sclang_synth = Synth(\"s2\", [\\amp, 0.1])"
   ]
  },
  {
   "cell_type": "code",
   "execution_count": 14,
   "metadata": {
    "execution": {
     "iopub.execute_input": "2021-07-19T11:54:00.353695Z",
     "iopub.status.busy": "2021-07-19T11:54:00.353695Z",
     "iopub.status.idle": "2021-07-19T11:54:00.390621Z",
     "shell.execute_reply": "2021-07-19T11:54:00.390621Z"
    }
   },
   "outputs": [
    {
     "name": "stdout",
     "output_type": "stream",
     "text": [
      "NODE TREE Group 0\n",
      "   469762049 group\n",
      "   402653185 group\n",
      "   335544321 group\n",
      "   268435457 group\n",
      "   201326593 group\n",
      "   134217729 group\n",
      "      30001 s2\n",
      "        freq: 100 amp: 0.050000000745058 num: 4 pan: -1 lg: 0.10000000149012 gate: 1\n",
      "   67108865 group\n",
      "      20001 s2\n",
      "        freq: 440 amp: 0.050000000745058 num: 4 pan: 1 lg: 0.10000000149012 gate: 1\n",
      "   1 group\n",
      "      1000 s2\n",
      "        freq: 400 amp: 0.10000000149012 num: 4 pan: 0 lg: 0.10000000149012 gate: 1\n"
     ]
    }
   ],
   "source": [
    "sc.server.dump_tree()"
   ]
  },
  {
   "cell_type": "markdown",
   "metadata": {},
   "source": [
    "This also means freeing all Synths at once can be done with each client"
   ]
  },
  {
   "cell_type": "code",
   "execution_count": 15,
   "metadata": {
    "execution": {
     "iopub.execute_input": "2021-07-19T11:54:00.393622Z",
     "iopub.status.busy": "2021-07-19T11:54:00.393622Z",
     "iopub.status.idle": "2021-07-19T11:54:00.456623Z",
     "shell.execute_reply": "2021-07-19T11:54:00.456623Z"
    }
   },
   "outputs": [],
   "source": [
    "sc.server.free_all()\n",
    "# serv.free_all() \n",
    "# %sc s.freeAll"
   ]
  },
  {
   "cell_type": "code",
   "execution_count": 16,
   "metadata": {
    "execution": {
     "iopub.execute_input": "2021-07-19T11:54:00.459622Z",
     "iopub.status.busy": "2021-07-19T11:54:00.459622Z",
     "iopub.status.idle": "2021-07-19T11:54:00.480623Z",
     "shell.execute_reply": "2021-07-19T11:54:00.480623Z"
    }
   },
   "outputs": [
    {
     "name": "stdout",
     "output_type": "stream",
     "text": [
      "NODE TREE Group 0\n",
      "   469762049 group\n",
      "   402653185 group\n",
      "   335544321 group\n",
      "   268435457 group\n",
      "   201326593 group\n",
      "   134217729 group\n",
      "   67108865 group\n",
      "   1 group"
     ]
    },
    {
     "name": "stdout",
     "output_type": "stream",
     "text": [
      "\n"
     ]
    }
   ],
   "source": [
    "sc.server.dump_tree()"
   ]
  },
  {
   "cell_type": "markdown",
   "metadata": {},
   "source": [
    "and quitting one server also quits the others."
   ]
  },
  {
   "cell_type": "code",
   "execution_count": 17,
   "metadata": {
    "execution": {
     "iopub.execute_input": "2021-07-19T11:54:00.483624Z",
     "iopub.status.busy": "2021-07-19T11:54:00.483624Z",
     "iopub.status.idle": "2021-07-19T11:54:00.608712Z",
     "shell.execute_reply": "2021-07-19T11:54:00.608712Z"
    }
   },
   "outputs": [
    {
     "name": "stdout",
     "output_type": "stream",
     "text": [
      "Quitting SCServer... "
     ]
    },
    {
     "name": "stdout",
     "output_type": "stream",
     "text": [
      "Done.\n"
     ]
    }
   ],
   "source": [
    "serv.quit()"
   ]
  },
  {
   "cell_type": "code",
   "execution_count": 18,
   "metadata": {
    "execution": {
     "iopub.execute_input": "2021-07-19T11:54:00.611710Z",
     "iopub.status.busy": "2021-07-19T11:54:00.611710Z",
     "iopub.status.idle": "2021-07-19T11:54:00.614709Z",
     "shell.execute_reply": "2021-07-19T11:54:00.614709Z"
    }
   },
   "outputs": [
    {
     "data": {
      "text/plain": [
       "<SCServer addr=('127.0.0.1', 57110), process=<Process 'scsynth' (running) pid=4264>>"
      ]
     },
     "execution_count": 18,
     "metadata": {},
     "output_type": "execute_result"
    }
   ],
   "source": [
    "sc.server"
   ]
  },
  {
   "cell_type": "markdown",
   "metadata": {},
   "source": [
    "Let's reboot the default server"
   ]
  },
  {
   "cell_type": "code",
   "execution_count": 19,
   "metadata": {
    "execution": {
     "iopub.execute_input": "2021-07-19T11:54:00.617709Z",
     "iopub.status.busy": "2021-07-19T11:54:00.617709Z",
     "iopub.status.idle": "2021-07-19T11:54:06.766419Z",
     "shell.execute_reply": "2021-07-19T11:54:06.766419Z"
    }
   },
   "outputs": [
    {
     "name": "stdout",
     "output_type": "stream",
     "text": [
      "Quitting SCServer... "
     ]
    },
    {
     "name": "stdout",
     "output_type": "stream",
     "text": [
      "Done.\n",
      "Booting SuperCollider Server... "
     ]
    },
    {
     "name": "stdout",
     "output_type": "stream",
     "text": [
      "Done.\n"
     ]
    }
   ],
   "source": [
    "sc.server.reboot()"
   ]
  },
  {
   "cell_type": "markdown",
   "metadata": {},
   "source": [
    "More information about [multi client setups](http://doc.sccode.org/Guides/MultiClient_Setups.html) can be found in the SuperCollider documentation."
   ]
  },
  {
   "cell_type": "markdown",
   "metadata": {},
   "source": [
    "## Configuring Server options\n",
    "\n",
    "Startup options of the `SCServer` instance can be set via `ServerOptions`, which can be passed as argument when starting the `SCServer`"
   ]
  },
  {
   "cell_type": "markdown",
   "metadata": {},
   "source": [
    "The default ServerOptions in sc3nb are:"
   ]
  },
  {
   "cell_type": "code",
   "execution_count": 20,
   "metadata": {
    "execution": {
     "iopub.execute_input": "2021-07-19T11:54:06.770418Z",
     "iopub.status.busy": "2021-07-19T11:54:06.770418Z",
     "iopub.status.idle": "2021-07-19T11:54:06.772419Z",
     "shell.execute_reply": "2021-07-19T11:54:06.772419Z"
    }
   },
   "outputs": [
    {
     "data": {
      "text/plain": [
       "<ServerOptions ['-u', '57110', '-l', '6', '-i', '2', '-o', '2', '-a', '1024', '-c', '4096', '-b', '1024', '-R', '0']>"
      ]
     },
     "execution_count": 20,
     "metadata": {},
     "output_type": "execute_result"
    }
   ],
   "source": [
    "scn.ServerOptions()"
   ]
  },
  {
   "cell_type": "markdown",
   "metadata": {},
   "source": [
    "## Getting Information\n",
    "\n",
    "The `SCServer` instance provides various kinds of information"
   ]
  },
  {
   "cell_type": "markdown",
   "metadata": {},
   "source": [
    "* What nodes are currently running"
   ]
  },
  {
   "cell_type": "code",
   "execution_count": 21,
   "metadata": {
    "execution": {
     "iopub.execute_input": "2021-07-19T11:54:06.775419Z",
     "iopub.status.busy": "2021-07-19T11:54:06.774420Z",
     "iopub.status.idle": "2021-07-19T11:54:06.800420Z",
     "shell.execute_reply": "2021-07-19T11:54:06.800420Z"
    }
   },
   "outputs": [
    {
     "name": "stdout",
     "output_type": "stream",
     "text": [
      "NODE TREE Group 0\n",
      "   469762049 group\n",
      "   402653185 group\n",
      "   335544321 group\n",
      "   268435457 group\n",
      "   201326593 group\n",
      "   134217729 group\n",
      "   67108865 group\n",
      "   1 group\n"
     ]
    }
   ],
   "source": [
    "sc.server.dump_tree()"
   ]
  },
  {
   "cell_type": "code",
   "execution_count": 22,
   "metadata": {
    "execution": {
     "iopub.execute_input": "2021-07-19T11:54:06.803418Z",
     "iopub.status.busy": "2021-07-19T11:54:06.803418Z",
     "iopub.status.idle": "2021-07-19T11:54:06.817419Z",
     "shell.execute_reply": "2021-07-19T11:54:06.817419Z"
    }
   },
   "outputs": [
    {
     "data": {
      "text/plain": [
       "Group(0)  {} children=[\n",
       "  Group(469762049) ~ {} children=[],\n",
       "  Group(402653185) ~ {} children=[],\n",
       "  Group(335544321) ~ {} children=[],\n",
       "  Group(268435457) ~ {} children=[],\n",
       "  Group(201326593) ~ {} children=[],\n",
       "  Group(134217729) ~ {} children=[],\n",
       "  Group(67108865) ~ {} children=[],\n",
       "  Group(1) ~ {} children=[]]"
      ]
     },
     "execution_count": 22,
     "metadata": {},
     "output_type": "execute_result"
    }
   ],
   "source": [
    "sc.server.query_tree()"
   ]
  },
  {
   "cell_type": "markdown",
   "metadata": {},
   "source": [
    "* The current status of the server, acquired via the `/status` OSC command"
   ]
  },
  {
   "cell_type": "code",
   "execution_count": 23,
   "metadata": {
    "execution": {
     "iopub.execute_input": "2021-07-19T11:54:06.820419Z",
     "iopub.status.busy": "2021-07-19T11:54:06.820419Z",
     "iopub.status.idle": "2021-07-19T11:54:06.836419Z",
     "shell.execute_reply": "2021-07-19T11:54:06.836419Z"
    }
   },
   "outputs": [
    {
     "data": {
      "text/plain": [
       "ServerStatus(num_ugens=0, num_synths=0, num_groups=9, num_synthdefs=9, avg_cpu=0.3914717435836792, peak_cpu=0.4318464696407318, nominal_sr=44100.0, actual_sr=43534.78040869283)"
      ]
     },
     "execution_count": 23,
     "metadata": {},
     "output_type": "execute_result"
    }
   ],
   "source": [
    "sc.server.status()"
   ]
  },
  {
   "cell_type": "markdown",
   "metadata": {},
   "source": [
    "which can also be accessed directly via properties"
   ]
  },
  {
   "cell_type": "code",
   "execution_count": 24,
   "metadata": {
    "execution": {
     "iopub.execute_input": "2021-07-19T11:54:06.839420Z",
     "iopub.status.busy": "2021-07-19T11:54:06.838418Z",
     "iopub.status.idle": "2021-07-19T11:54:06.846418Z",
     "shell.execute_reply": "2021-07-19T11:54:06.846418Z"
    }
   },
   "outputs": [
    {
     "data": {
      "text/plain": [
       "44100.0"
      ]
     },
     "execution_count": 24,
     "metadata": {},
     "output_type": "execute_result"
    }
   ],
   "source": [
    "sc.server.nominal_sr"
   ]
  },
  {
   "cell_type": "code",
   "execution_count": 25,
   "metadata": {
    "execution": {
     "iopub.execute_input": "2021-07-19T11:54:06.849420Z",
     "iopub.status.busy": "2021-07-19T11:54:06.848418Z",
     "iopub.status.idle": "2021-07-19T11:54:06.856418Z",
     "shell.execute_reply": "2021-07-19T11:54:06.856418Z"
    }
   },
   "outputs": [
    {
     "data": {
      "text/plain": [
       "9"
      ]
     },
     "execution_count": 25,
     "metadata": {},
     "output_type": "execute_result"
    }
   ],
   "source": [
    "sc.server.num_synthdefs"
   ]
  },
  {
   "cell_type": "markdown",
   "metadata": {},
   "source": [
    "* the version of the SC3 server process, acquired via the `/version` OSC command"
   ]
  },
  {
   "cell_type": "code",
   "execution_count": 26,
   "metadata": {
    "execution": {
     "iopub.execute_input": "2021-07-19T11:54:06.859420Z",
     "iopub.status.busy": "2021-07-19T11:54:06.858418Z",
     "iopub.status.idle": "2021-07-19T11:54:06.877418Z",
     "shell.execute_reply": "2021-07-19T11:54:06.877418Z"
    }
   },
   "outputs": [
    {
     "data": {
      "text/plain": [
       "ServerVersion(name='scsynth', major_version=3, minor_version=11, patch_version='.0', git_branch='HEAD', commit='e341b49')"
      ]
     },
     "execution_count": 26,
     "metadata": {},
     "output_type": "execute_result"
    }
   ],
   "source": [
    "sc.server.version()"
   ]
  },
  {
   "cell_type": "markdown",
   "metadata": {},
   "source": [
    "* the address of the SuperCollider audio server"
   ]
  },
  {
   "cell_type": "code",
   "execution_count": 27,
   "metadata": {
    "execution": {
     "iopub.execute_input": "2021-07-19T11:54:06.881418Z",
     "iopub.status.busy": "2021-07-19T11:54:06.880420Z",
     "iopub.status.idle": "2021-07-19T11:54:06.883419Z",
     "shell.execute_reply": "2021-07-19T11:54:06.883419Z"
    }
   },
   "outputs": [
    {
     "data": {
      "text/plain": [
       "('127.0.0.1', 57110)"
      ]
     },
     "execution_count": 27,
     "metadata": {},
     "output_type": "execute_result"
    }
   ],
   "source": [
    "sc.server.addr"
   ]
  },
  {
   "cell_type": "markdown",
   "metadata": {},
   "source": [
    "* The connection info"
   ]
  },
  {
   "cell_type": "code",
   "execution_count": 28,
   "metadata": {
    "execution": {
     "iopub.execute_input": "2021-07-19T11:54:06.887418Z",
     "iopub.status.busy": "2021-07-19T11:54:06.886418Z",
     "iopub.status.idle": "2021-07-19T11:54:06.889420Z",
     "shell.execute_reply": "2021-07-19T11:54:06.889420Z"
    }
   },
   "outputs": [
    {
     "name": "stdout",
     "output_type": "stream",
     "text": [
      "This instance is at ('127.0.0.1', 57131),\n",
      "Known receivers: \"scsynth\" at ('127.0.0.1', 57110)\n",
      "                 \"sclang\" at ('127.0.0.1', 57120)\n",
      "                 \n"
     ]
    },
    {
     "data": {
      "text/plain": [
       "(('127.0.0.1', 57131),\n",
       " {('127.0.0.1', 57110): 'scsynth', ('127.0.0.1', 57120): 'sclang'})"
      ]
     },
     "execution_count": 28,
     "metadata": {},
     "output_type": "execute_result"
    }
   ],
   "source": [
    "sc.server.connection_info()"
   ]
  },
  {
   "cell_type": "markdown",
   "metadata": {},
   "source": [
    "* other runtime properties of the Server"
   ]
  },
  {
   "cell_type": "code",
   "execution_count": 29,
   "metadata": {
    "execution": {
     "iopub.execute_input": "2021-07-19T11:54:06.892419Z",
     "iopub.status.busy": "2021-07-19T11:54:06.892419Z",
     "iopub.status.idle": "2021-07-19T11:54:06.894420Z",
     "shell.execute_reply": "2021-07-19T11:54:06.894420Z"
    }
   },
   "outputs": [
    {
     "data": {
      "text/plain": [
       "True"
      ]
     },
     "execution_count": 29,
     "metadata": {},
     "output_type": "execute_result"
    }
   ],
   "source": [
    "sc.server.has_booted"
   ]
  },
  {
   "cell_type": "code",
   "execution_count": 30,
   "metadata": {
    "execution": {
     "iopub.execute_input": "2021-07-19T11:54:06.897418Z",
     "iopub.status.busy": "2021-07-19T11:54:06.896418Z",
     "iopub.status.idle": "2021-07-19T11:54:06.899420Z",
     "shell.execute_reply": "2021-07-19T11:54:06.899420Z"
    }
   },
   "outputs": [
    {
     "data": {
      "text/plain": [
       "True"
      ]
     },
     "execution_count": 30,
     "metadata": {},
     "output_type": "execute_result"
    }
   ],
   "source": [
    "sc.server.is_running"
   ]
  },
  {
   "cell_type": "code",
   "execution_count": 31,
   "metadata": {
    "execution": {
     "iopub.execute_input": "2021-07-19T11:54:06.902420Z",
     "iopub.status.busy": "2021-07-19T11:54:06.902420Z",
     "iopub.status.idle": "2021-07-19T11:54:06.905420Z",
     "shell.execute_reply": "2021-07-19T11:54:06.905420Z"
    }
   },
   "outputs": [
    {
     "data": {
      "text/plain": [
       "1"
      ]
     },
     "execution_count": 31,
     "metadata": {},
     "output_type": "execute_result"
    }
   ],
   "source": [
    "sc.server.client_id"
   ]
  },
  {
   "cell_type": "code",
   "execution_count": 32,
   "metadata": {
    "execution": {
     "iopub.execute_input": "2021-07-19T11:54:06.908420Z",
     "iopub.status.busy": "2021-07-19T11:54:06.906418Z",
     "iopub.status.idle": "2021-07-19T11:54:06.910420Z",
     "shell.execute_reply": "2021-07-19T11:54:06.910420Z"
    }
   },
   "outputs": [
    {
     "data": {
      "text/plain": [
       "8"
      ]
     },
     "execution_count": 32,
     "metadata": {},
     "output_type": "execute_result"
    }
   ],
   "source": [
    "sc.server.max_logins"
   ]
  },
  {
   "cell_type": "code",
   "execution_count": 33,
   "metadata": {
    "execution": {
     "iopub.execute_input": "2021-07-19T11:54:06.913419Z",
     "iopub.status.busy": "2021-07-19T11:54:06.913419Z",
     "iopub.status.idle": "2021-07-19T11:54:06.916419Z",
     "shell.execute_reply": "2021-07-19T11:54:06.916419Z"
    }
   },
   "outputs": [
    {
     "data": {
      "text/plain": [
       "Group(67108865) ~ {} children=[]"
      ]
     },
     "execution_count": 33,
     "metadata": {},
     "output_type": "execute_result"
    }
   ],
   "source": [
    "sc.server.default_group"
   ]
  },
  {
   "cell_type": "code",
   "execution_count": 34,
   "metadata": {
    "execution": {
     "iopub.execute_input": "2021-07-19T11:54:06.919419Z",
     "iopub.status.busy": "2021-07-19T11:54:06.919419Z",
     "iopub.status.idle": "2021-07-19T11:54:06.922419Z",
     "shell.execute_reply": "2021-07-19T11:54:06.922419Z"
    }
   },
   "outputs": [
    {
     "data": {
      "text/plain": [
       "Bus(rate='audio', ids=[0, 1])"
      ]
     },
     "execution_count": 34,
     "metadata": {},
     "output_type": "execute_result"
    }
   ],
   "source": [
    "sc.server.output_bus"
   ]
  },
  {
   "cell_type": "code",
   "execution_count": 35,
   "metadata": {
    "execution": {
     "iopub.execute_input": "2021-07-19T11:54:06.925418Z",
     "iopub.status.busy": "2021-07-19T11:54:06.925418Z",
     "iopub.status.idle": "2021-07-19T11:54:06.927419Z",
     "shell.execute_reply": "2021-07-19T11:54:06.927419Z"
    }
   },
   "outputs": [
    {
     "data": {
      "text/plain": [
       "Bus(rate='audio', ids=[2, 3])"
      ]
     },
     "execution_count": 35,
     "metadata": {},
     "output_type": "execute_result"
    }
   ],
   "source": [
    "sc.server.input_bus"
   ]
  },
  {
   "cell_type": "markdown",
   "metadata": {},
   "source": [
    "## Controlling Volume"
   ]
  },
  {
   "cell_type": "code",
   "execution_count": 36,
   "metadata": {
    "execution": {
     "iopub.execute_input": "2021-07-19T11:54:06.929420Z",
     "iopub.status.busy": "2021-07-19T11:54:06.929420Z",
     "iopub.status.idle": "2021-07-19T11:54:06.932420Z",
     "shell.execute_reply": "2021-07-19T11:54:06.932420Z"
    }
   },
   "outputs": [],
   "source": [
    "syn = scn.Synth(\"s2\")"
   ]
  },
  {
   "cell_type": "code",
   "execution_count": 37,
   "metadata": {
    "execution": {
     "iopub.execute_input": "2021-07-19T11:54:06.936418Z",
     "iopub.status.busy": "2021-07-19T11:54:06.935419Z",
     "iopub.status.idle": "2021-07-19T11:54:06.938418Z",
     "shell.execute_reply": "2021-07-19T11:54:06.938418Z"
    }
   },
   "outputs": [
    {
     "data": {
      "text/plain": [
       "0.0"
      ]
     },
     "execution_count": 37,
     "metadata": {},
     "output_type": "execute_result"
    }
   ],
   "source": [
    "sc.server.volume"
   ]
  },
  {
   "cell_type": "code",
   "execution_count": 38,
   "metadata": {
    "execution": {
     "iopub.execute_input": "2021-07-19T11:54:06.941418Z",
     "iopub.status.busy": "2021-07-19T11:54:06.941418Z",
     "iopub.status.idle": "2021-07-19T11:54:06.944420Z",
     "shell.execute_reply": "2021-07-19T11:54:06.944420Z"
    }
   },
   "outputs": [
    {
     "data": {
      "text/plain": [
       "1.0"
      ]
     },
     "execution_count": 38,
     "metadata": {},
     "output_type": "execute_result"
    }
   ],
   "source": [
    "scn.dbamp(sc.server.volume)"
   ]
  },
  {
   "cell_type": "code",
   "execution_count": 39,
   "metadata": {
    "execution": {
     "iopub.execute_input": "2021-07-19T11:54:06.947418Z",
     "iopub.status.busy": "2021-07-19T11:54:06.945419Z",
     "iopub.status.idle": "2021-07-19T11:54:06.950418Z",
     "shell.execute_reply": "2021-07-19T11:54:06.950418Z"
    }
   },
   "outputs": [
    {
     "data": {
      "text/plain": [
       "False"
      ]
     },
     "execution_count": 39,
     "metadata": {},
     "output_type": "execute_result"
    }
   ],
   "source": [
    "sc.server.muted"
   ]
  },
  {
   "cell_type": "code",
   "execution_count": 40,
   "metadata": {
    "execution": {
     "iopub.execute_input": "2021-07-19T11:54:06.953421Z",
     "iopub.status.busy": "2021-07-19T11:54:06.952419Z",
     "iopub.status.idle": "2021-07-19T11:54:06.964421Z",
     "shell.execute_reply": "2021-07-19T11:54:06.965419Z"
    }
   },
   "outputs": [],
   "source": [
    "sc.server.muted = True"
   ]
  },
  {
   "cell_type": "code",
   "execution_count": 41,
   "metadata": {
    "execution": {
     "iopub.execute_input": "2021-07-19T11:54:06.968420Z",
     "iopub.status.busy": "2021-07-19T11:54:06.967420Z",
     "iopub.status.idle": "2021-07-19T11:54:06.970420Z",
     "shell.execute_reply": "2021-07-19T11:54:06.970420Z"
    }
   },
   "outputs": [],
   "source": [
    "sc.server.volume = -10.0"
   ]
  },
  {
   "cell_type": "code",
   "execution_count": 42,
   "metadata": {
    "execution": {
     "iopub.execute_input": "2021-07-19T11:54:06.974421Z",
     "iopub.status.busy": "2021-07-19T11:54:06.973419Z",
     "iopub.status.idle": "2021-07-19T11:54:06.976421Z",
     "shell.execute_reply": "2021-07-19T11:54:06.976421Z"
    }
   },
   "outputs": [
    {
     "data": {
      "text/plain": [
       "0.31622776601683794"
      ]
     },
     "execution_count": 42,
     "metadata": {},
     "output_type": "execute_result"
    }
   ],
   "source": [
    "scn.dbamp(sc.server.volume)"
   ]
  },
  {
   "cell_type": "code",
   "execution_count": 43,
   "metadata": {
    "execution": {
     "iopub.execute_input": "2021-07-19T11:54:06.979421Z",
     "iopub.status.busy": "2021-07-19T11:54:06.979421Z",
     "iopub.status.idle": "2021-07-19T11:54:06.982419Z",
     "shell.execute_reply": "2021-07-19T11:54:06.982419Z"
    }
   },
   "outputs": [],
   "source": [
    "sc.server.muted = False"
   ]
  },
  {
   "cell_type": "code",
   "execution_count": 44,
   "metadata": {
    "execution": {
     "iopub.execute_input": "2021-07-19T11:54:06.986418Z",
     "iopub.status.busy": "2021-07-19T11:54:06.985418Z",
     "iopub.status.idle": "2021-07-19T11:54:06.988418Z",
     "shell.execute_reply": "2021-07-19T11:54:06.988418Z"
    }
   },
   "outputs": [],
   "source": [
    "sc.server.volume = 0.0"
   ]
  },
  {
   "cell_type": "code",
   "execution_count": 45,
   "metadata": {
    "execution": {
     "iopub.execute_input": "2021-07-19T11:54:06.991418Z",
     "iopub.status.busy": "2021-07-19T11:54:06.991418Z",
     "iopub.status.idle": "2021-07-19T11:54:06.994420Z",
     "shell.execute_reply": "2021-07-19T11:54:06.994420Z"
    }
   },
   "outputs": [
    {
     "data": {
      "text/plain": [
       "1.0"
      ]
     },
     "execution_count": 45,
     "metadata": {},
     "output_type": "execute_result"
    }
   ],
   "source": [
    "scn.dbamp(sc.server.volume)"
   ]
  },
  {
   "cell_type": "code",
   "execution_count": 46,
   "metadata": {
    "execution": {
     "iopub.execute_input": "2021-07-19T11:54:06.997419Z",
     "iopub.status.busy": "2021-07-19T11:54:06.997419Z",
     "iopub.status.idle": "2021-07-19T11:54:07.006418Z",
     "shell.execute_reply": "2021-07-19T11:54:07.006418Z"
    }
   },
   "outputs": [],
   "source": [
    "syn.free()\n",
    "syn.wait(timeout=1)"
   ]
  },
  {
   "cell_type": "markdown",
   "metadata": {},
   "source": [
    "## Server dumps\n",
    "\n",
    "The Server process can dump information about"
   ]
  },
  {
   "cell_type": "markdown",
   "metadata": {},
   "source": [
    "* incoming OSC packages. See console for output"
   ]
  },
  {
   "cell_type": "code",
   "execution_count": 47,
   "metadata": {
    "execution": {
     "iopub.execute_input": "2021-07-19T11:54:07.009418Z",
     "iopub.status.busy": "2021-07-19T11:54:07.008418Z",
     "iopub.status.idle": "2021-07-19T11:54:07.010418Z",
     "shell.execute_reply": "2021-07-19T11:54:07.010418Z"
    }
   },
   "outputs": [],
   "source": [
    "sc.server.dump_osc() # specify level=0 to deactivate"
   ]
  },
  {
   "cell_type": "markdown",
   "metadata": {},
   "source": [
    "* currently running Nodes "
   ]
  },
  {
   "cell_type": "code",
   "execution_count": 48,
   "metadata": {
    "execution": {
     "iopub.execute_input": "2021-07-19T11:54:07.013421Z",
     "iopub.status.busy": "2021-07-19T11:54:07.012419Z",
     "iopub.status.idle": "2021-07-19T11:54:07.046419Z",
     "shell.execute_reply": "2021-07-19T11:54:07.047418Z"
    }
   },
   "outputs": [
    {
     "name": "stdout",
     "output_type": "stream",
     "text": [
      "[ \"/g_dumpTree\", 0, 1 ]\n",
      "NODE TREE Group 0\n",
      "   -16 s1\n",
      "     freq: 500 dur: 0.10000000149012 att: 0.0099999997764826 amp: 0.30000001192093 num: 1 pan: 0\n",
      "   469762049 group\n",
      "   402653185 group\n",
      "   335544321 group\n",
      "   268435457 group\n",
      "   201326593 group\n",
      "   134217729 group\n",
      "   67108865 group\n",
      "   20002 sc3nb_volumeAmpControl2\n",
      "     volumeAmp: 0.31622776389122 volumeLag: 0.10000000149012 gate: 0 bus: 0\n",
      "   1 group\n"
     ]
    }
   ],
   "source": [
    "sc.server.dump_tree()  # Notice how the OSC packet is now included in the output "
   ]
  },
  {
   "cell_type": "code",
   "execution_count": 49,
   "metadata": {
    "execution": {
     "iopub.execute_input": "2021-07-19T11:54:07.050418Z",
     "iopub.status.busy": "2021-07-19T11:54:07.050418Z",
     "iopub.status.idle": "2021-07-19T11:54:07.052421Z",
     "shell.execute_reply": "2021-07-19T11:54:07.053420Z"
    }
   },
   "outputs": [],
   "source": [
    "sc.server.blip() # see dumped bundle for test sound on console"
   ]
  },
  {
   "cell_type": "markdown",
   "metadata": {},
   "source": [
    "## Make a test sound\n",
    "\n",
    "The following methods produces the `SCServer` startup sound.\n",
    "The test sound should ease any anxiety whether the server is properly started/running"
   ]
  },
  {
   "cell_type": "code",
   "execution_count": 50,
   "metadata": {
    "execution": {
     "iopub.execute_input": "2021-07-19T11:54:07.057419Z",
     "iopub.status.busy": "2021-07-19T11:54:07.056419Z",
     "iopub.status.idle": "2021-07-19T11:54:07.059421Z",
     "shell.execute_reply": "2021-07-19T11:54:07.058420Z"
    }
   },
   "outputs": [],
   "source": [
    "sc.server.blip()"
   ]
  },
  {
   "cell_type": "markdown",
   "metadata": {},
   "source": [
    "## Managing Nodes"
   ]
  },
  {
   "cell_type": "markdown",
   "metadata": {},
   "source": [
    "* freeing all running nodes and reinitialize the server"
   ]
  },
  {
   "cell_type": "code",
   "execution_count": 51,
   "metadata": {
    "execution": {
     "iopub.execute_input": "2021-07-19T11:54:07.063421Z",
     "iopub.status.busy": "2021-07-19T11:54:07.062420Z",
     "iopub.status.idle": "2021-07-19T11:54:07.116418Z",
     "shell.execute_reply": "2021-07-19T11:54:07.116418Z"
    }
   },
   "outputs": [],
   "source": [
    "sc.server.free_all()"
   ]
  },
  {
   "cell_type": "code",
   "execution_count": 52,
   "metadata": {
    "execution": {
     "iopub.execute_input": "2021-07-19T11:54:07.120420Z",
     "iopub.status.busy": "2021-07-19T11:54:07.120420Z",
     "iopub.status.idle": "2021-07-19T11:54:07.175421Z",
     "shell.execute_reply": "2021-07-19T11:54:07.175421Z"
    }
   },
   "outputs": [],
   "source": [
    "sc.server.free_all(root=False)  # only frees the default group of this client"
   ]
  },
  {
   "cell_type": "markdown",
   "metadata": {},
   "source": [
    "* send the `/clearSched` OSC command. This is automatically done when using `free_all`"
   ]
  },
  {
   "cell_type": "code",
   "execution_count": 53,
   "metadata": {
    "execution": {
     "iopub.execute_input": "2021-07-19T11:54:07.179420Z",
     "iopub.status.busy": "2021-07-19T11:54:07.178419Z",
     "iopub.status.idle": "2021-07-19T11:54:07.180418Z",
     "shell.execute_reply": "2021-07-19T11:54:07.180418Z"
    }
   },
   "outputs": [],
   "source": [
    "sc.server.clear_schedule()"
   ]
  },
  {
   "cell_type": "markdown",
   "metadata": {},
   "source": [
    "* Execute init hooks. This is also automatically done when using `free_all`, `init` or `connect_sclang`"
   ]
  },
  {
   "cell_type": "code",
   "execution_count": 54,
   "metadata": {
    "execution": {
     "iopub.execute_input": "2021-07-19T11:54:07.183421Z",
     "iopub.status.busy": "2021-07-19T11:54:07.183421Z",
     "iopub.status.idle": "2021-07-19T11:54:07.225420Z",
     "shell.execute_reply": "2021-07-19T11:54:07.225420Z"
    }
   },
   "outputs": [],
   "source": [
    "sc.server.execute_init_hooks()"
   ]
  },
  {
   "cell_type": "markdown",
   "metadata": {},
   "source": [
    "* Adding init hooks. "
   ]
  },
  {
   "cell_type": "code",
   "execution_count": 55,
   "metadata": {
    "execution": {
     "iopub.execute_input": "2021-07-19T11:54:07.229420Z",
     "iopub.status.busy": "2021-07-19T11:54:07.228418Z",
     "iopub.status.idle": "2021-07-19T11:54:07.232419Z",
     "shell.execute_reply": "2021-07-19T11:54:07.233421Z"
    }
   },
   "outputs": [
    {
     "data": {
      "text/plain": [
       "<bound method SCServer.send_default_groups of <SCServer addr=('127.0.0.1', 57110), process=<Process 'scsynth' (running) pid=5040>>>"
      ]
     },
     "execution_count": 55,
     "metadata": {},
     "output_type": "execute_result"
    }
   ],
   "source": [
    "sc.server.send_default_groups"
   ]
  },
  {
   "cell_type": "markdown",
   "metadata": {},
   "source": [
    "* Syncing the SuperCollider audio server by sending a `/sync` OSC command and waiting for the reply."
   ]
  },
  {
   "cell_type": "code",
   "execution_count": 56,
   "metadata": {
    "execution": {
     "iopub.execute_input": "2021-07-19T11:54:07.236419Z",
     "iopub.status.busy": "2021-07-19T11:54:07.235419Z",
     "iopub.status.idle": "2021-07-19T11:54:07.266419Z",
     "shell.execute_reply": "2021-07-19T11:54:07.266419Z"
    }
   },
   "outputs": [
    {
     "data": {
      "text/plain": [
       "True"
      ]
     },
     "execution_count": 56,
     "metadata": {},
     "output_type": "execute_result"
    }
   ],
   "source": [
    "sc.server.sync()"
   ]
  },
  {
   "cell_type": "markdown",
   "metadata": {},
   "source": [
    "## Allocating IDs"
   ]
  },
  {
   "cell_type": "markdown",
   "metadata": {},
   "source": [
    "The `SCServer` instance manages the IDs for Nodes, Buffers and Buses for the SuperCollider Objects via the following methods.\n",
    "These can also be used for getting suitable IDs when manually creating OSC packages."
   ]
  },
  {
   "cell_type": "markdown",
   "metadata": {},
   "source": [
    "* Get the IDs via the allocator."
   ]
  },
  {
   "cell_type": "code",
   "execution_count": 57,
   "metadata": {
    "execution": {
     "iopub.execute_input": "2021-07-19T11:54:07.270418Z",
     "iopub.status.busy": "2021-07-19T11:54:07.270418Z",
     "iopub.status.idle": "2021-07-19T11:54:07.272419Z",
     "shell.execute_reply": "2021-07-19T11:54:07.272419Z"
    }
   },
   "outputs": [
    {
     "data": {
      "text/plain": [
       "[128, 129]"
      ]
     },
     "execution_count": 57,
     "metadata": {},
     "output_type": "execute_result"
    }
   ],
   "source": [
    "ids = sc.server.buffer_ids.allocate(num=2)\n",
    "ids"
   ]
  },
  {
   "cell_type": "markdown",
   "metadata": {},
   "source": [
    "* Free the IDs after usage via the allocator."
   ]
  },
  {
   "cell_type": "code",
   "execution_count": 58,
   "metadata": {
    "execution": {
     "iopub.execute_input": "2021-07-19T11:54:07.275418Z",
     "iopub.status.busy": "2021-07-19T11:54:07.274419Z",
     "iopub.status.idle": "2021-07-19T11:54:07.277419Z",
     "shell.execute_reply": "2021-07-19T11:54:07.277419Z"
    }
   },
   "outputs": [],
   "source": [
    "sc.server.buffer_ids.free(ids)"
   ]
  },
  {
   "cell_type": "markdown",
   "metadata": {},
   "source": [
    "There are allocators for\n",
    "\n",
    "* Nodes - `sc.server.node_ids`\n",
    "* Buffer - `sc.server.buffer_ids`\n",
    "* Buses (Audio and Control) - `sc.server.audio_bus_ids`, `sc.server.control_bus_ids`"
   ]
  },
  {
   "cell_type": "code",
   "execution_count": 59,
   "metadata": {
    "execution": {
     "iopub.execute_input": "2021-07-19T11:54:07.280419Z",
     "iopub.status.busy": "2021-07-19T11:54:07.279420Z",
     "iopub.status.idle": "2021-07-19T11:54:08.556453Z",
     "shell.execute_reply": "2021-07-19T11:54:08.556453Z"
    }
   },
   "outputs": [
    {
     "name": "stdout",
     "output_type": "stream",
     "text": [
      "Quitting SCServer... Done.\n",
      "Booting SuperCollider Server... "
     ]
    },
    {
     "name": "stdout",
     "output_type": "stream",
     "text": [
      "Done.\n"
     ]
    }
   ],
   "source": [
    "sc.server.reboot()"
   ]
  },
  {
   "cell_type": "code",
   "execution_count": 60,
   "metadata": {
    "execution": {
     "iopub.execute_input": "2021-07-19T11:54:08.561453Z",
     "iopub.status.busy": "2021-07-19T11:54:08.561453Z",
     "iopub.status.idle": "2021-07-19T11:54:08.578453Z",
     "shell.execute_reply": "2021-07-19T11:54:08.578453Z"
    }
   },
   "outputs": [
    {
     "name": "stdout",
     "output_type": "stream",
     "text": [
      "5 buffers: [128, 129, 130, 131, 132]\n",
      "freed buffers  [128, 129]\n",
      "allocated 4 buffers: [133, 134, 135, 136] -> new numbers to be consecutive\n",
      "allocated 2 buffers: [128, 129] -> using the two freed before\n"
     ]
    }
   ],
   "source": [
    "# example to see how consecutive buffer alloc works:\n",
    "ids = sc.server.buffer_ids.allocate(num=5)\n",
    "print(\"5 buffers:\", ids)\n",
    "sc.server.buffer_ids.free(ids[0:2])\n",
    "print(\"freed buffers \", ids[0:2])\n",
    "ids4 = sc.server.buffer_ids.allocate(num=4)\n",
    "print(\"allocated 4 buffers:\", ids4, \"-> new numbers to be consecutive\")\n",
    "sc.server.sync()\n",
    "ids2 = sc.server.buffer_ids.allocate(num=2)\n",
    "print(\"allocated 2 buffers:\", ids2, \"-> using the two freed before\")"
   ]
  },
  {
   "cell_type": "markdown",
   "metadata": {},
   "source": [
    "## Handling SynthDefs\n",
    "\n",
    "The server offers the following methods for handling SynthDefs.\n",
    "These are shortcuts for the respective SynthDef methods.\n",
    "\n",
    "```\n",
    "sc.server.send_synthdef\n",
    "sc.server.load_synthdef\n",
    "sc.server.load_synthdefs\n",
    "```\n",
    "Refer to the [SynthDef guide](synthdef-examples.ipynb) for more information about SynthDefs."
   ]
  },
  {
   "cell_type": "code",
   "execution_count": 61,
   "metadata": {
    "execution": {
     "iopub.execute_input": "2021-07-19T11:54:08.581453Z",
     "iopub.status.busy": "2021-07-19T11:54:08.581453Z",
     "iopub.status.idle": "2021-07-19T11:54:08.849487Z",
     "shell.execute_reply": "2021-07-19T11:54:08.849487Z"
    }
   },
   "outputs": [
    {
     "name": "stdout",
     "output_type": "stream",
     "text": [
      "Quitting SCServer... "
     ]
    },
    {
     "name": "stdout",
     "output_type": "stream",
     "text": [
      "Done.\n",
      "Exiting sclang... "
     ]
    },
    {
     "name": "stdout",
     "output_type": "stream",
     "text": [
      "Done.\n"
     ]
    }
   ],
   "source": [
    "sc.exit()"
   ]
  }
 ],
 "metadata": {
  "hide_input": false,
  "language_info": {
   "codemirror_mode": {
    "name": "ipython",
    "version": 3
   },
   "file_extension": ".py",
   "mimetype": "text/x-python",
   "name": "python",
   "nbconvert_exporter": "python",
   "pygments_lexer": "ipython3",
   "version": "3.7.10"
  },
  "toc": {
   "base_numbering": 1,
   "nav_menu": {},
   "number_sections": true,
   "sideBar": true,
   "skip_h1_title": false,
   "title_cell": "Table of Contents",
   "title_sidebar": "Contents",
   "toc_cell": false,
   "toc_position": {},
   "toc_section_display": true,
   "toc_window_display": true
  }
 },
 "nbformat": 4,
 "nbformat_minor": 4
}
