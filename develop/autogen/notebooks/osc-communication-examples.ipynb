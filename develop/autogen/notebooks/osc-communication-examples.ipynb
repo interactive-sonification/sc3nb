{
 "cells": [
  {
   "cell_type": "code",
   "execution_count": 1,
   "metadata": {
    "execution": {
     "iopub.execute_input": "2021-06-24T17:38:13.537514Z",
     "iopub.status.busy": "2021-06-24T17:38:13.536524Z",
     "iopub.status.idle": "2021-06-24T17:38:13.629514Z",
     "shell.execute_reply": "2021-06-24T17:38:13.629514Z"
    }
   },
   "outputs": [],
   "source": [
    "import time\n",
    "import numpy as np"
   ]
  },
  {
   "cell_type": "code",
   "execution_count": 2,
   "metadata": {
    "execution": {
     "iopub.execute_input": "2021-06-24T17:38:13.632514Z",
     "iopub.status.busy": "2021-06-24T17:38:13.632514Z",
     "iopub.status.idle": "2021-06-24T17:38:13.715514Z",
     "shell.execute_reply": "2021-06-24T17:38:13.715514Z"
    }
   },
   "outputs": [],
   "source": [
    "import sc3nb as scn"
   ]
  },
  {
   "cell_type": "markdown",
   "metadata": {},
   "source": [
    "# OSC communication\n",
    "With the OSC communication module of sc3nb you can directly send and receive OSC packets.\n",
    "\n",
    "Open Sound Control (OSC) is a networking protocol for sound and is used by SuperCollider to communicate between sclang and scsynth. sc3nb is itself a OSC client and server. This allows sc3nb to send and receive OSC traffic.\n",
    "\n",
    "For more information on OSC and especially how Supercollider handles OSC packets please refer to the following links:\n",
    "\n",
    "* [Open Sound Control Specification](http://opensoundcontrol.org/spec-1_0.html)\n",
    "* [Server vs Client SuperCollider Guide](http://doc.sccode.org/Guides/ClientVsServer.html)\n",
    "* [Server Command Reference](https://doc.sccode.org/Reference/Server-Command-Reference.html)\n",
    "* [SuperCollider Synth Server Architecture](https://doc.sccode.org/Reference/Server-Architecture.html)"
   ]
  },
  {
   "cell_type": "code",
   "execution_count": 3,
   "metadata": {
    "execution": {
     "iopub.execute_input": "2021-06-24T17:38:13.723513Z",
     "iopub.status.busy": "2021-06-24T17:38:13.723513Z",
     "iopub.status.idle": "2021-06-24T17:38:17.354608Z",
     "shell.execute_reply": "2021-06-24T17:38:17.354608Z"
    }
   },
   "outputs": [
    {
     "data": {
      "application/javascript": [
       "if (typeof Jupyter !== 'undefined') {\n",
       "                        Jupyter.keyboard_manager.command_shortcuts.add_shortcut(\n",
       "                        'Ctrl-.', {\n",
       "                        help : 'Free all nodes on SC server',\n",
       "                        help_index : 'zz',\n",
       "                        handler : function (event) {\n",
       "                            IPython.notebook.kernel.execute(\n",
       "                                \"import sc3nb; sc3nb.SC.get_default().server.free_all(root=True)\"\n",
       "                            )\n",
       "                            return true;}\n",
       "                        });\n",
       "                    }"
      ],
      "text/plain": [
       "<IPython.core.display.Javascript object>"
      ]
     },
     "metadata": {},
     "output_type": "display_data"
    },
    {
     "name": "stdout",
     "output_type": "stream",
     "text": [
      "Starting sclang process... "
     ]
    },
    {
     "name": "stdout",
     "output_type": "stream",
     "text": [
      "Done.\n",
      "Registering OSC /return callback in sclang... Done.\n",
      "Loading default sc3nb SynthDefs... Done.\n",
      "Booting SuperCollider Server... "
     ]
    },
    {
     "name": "stdout",
     "output_type": "stream",
     "text": [
      "Done.\n"
     ]
    }
   ],
   "source": [
    "sc = scn.startup()"
   ]
  },
  {
   "cell_type": "markdown",
   "metadata": {},
   "source": [
    "sc3nb serves as OSC server and as client of the SuperCollider server `scsynth`.<br>\n",
    "You can also communicate with the SuperCollider interpreter `sclang` via OSC.<br>\n",
    "\n",
    "\n",
    "You can see the current connection information with `sc.server.connection_info()`"
   ]
  },
  {
   "cell_type": "code",
   "execution_count": 4,
   "metadata": {
    "execution": {
     "iopub.execute_input": "2021-06-24T17:38:17.357604Z",
     "iopub.status.busy": "2021-06-24T17:38:17.357604Z",
     "iopub.status.idle": "2021-06-24T17:38:17.360602Z",
     "shell.execute_reply": "2021-06-24T17:38:17.360602Z"
    }
   },
   "outputs": [
    {
     "name": "stdout",
     "output_type": "stream",
     "text": [
      "This instance is at ('127.0.0.1', 57130),\n",
      "Known receivers: \"scsynth\" at ('127.0.0.1', 57110)\n",
      "                 \"sclang\" at ('127.0.0.1', 57120)\n",
      "                 \n"
     ]
    }
   ],
   "source": [
    "(sc3nb_ip, sc3nb_port), receivers = sc.server.connection_info()"
   ]
  },
  {
   "cell_type": "code",
   "execution_count": 5,
   "metadata": {
    "execution": {
     "iopub.execute_input": "2021-06-24T17:38:17.364603Z",
     "iopub.status.busy": "2021-06-24T17:38:17.363604Z",
     "iopub.status.idle": "2021-06-24T17:38:17.366603Z",
     "shell.execute_reply": "2021-06-24T17:38:17.366603Z"
    }
   },
   "outputs": [
    {
     "data": {
      "text/plain": [
       "(('127.0.0.1', 57130),\n",
       " {('127.0.0.1', 57110): 'scsynth', ('127.0.0.1', 57120): 'sclang'})"
      ]
     },
     "execution_count": 1,
     "metadata": {},
     "output_type": "execute_result"
    }
   ],
   "source": [
    "(sc3nb_ip, sc3nb_port), receivers"
   ]
  },
  {
   "cell_type": "markdown",
   "metadata": {},
   "source": [
    "If you want to communicate via OSC with another receiver you could add its name via `sc.server.add_receiver(name: str, ip: str, port: int)`, or you can pass a custom receiver when sending OSC"
   ]
  },
  {
   "cell_type": "code",
   "execution_count": 6,
   "metadata": {
    "execution": {
     "iopub.execute_input": "2021-06-24T17:38:17.369605Z",
     "iopub.status.busy": "2021-06-24T17:38:17.369605Z",
     "iopub.status.idle": "2021-06-24T17:38:17.371603Z",
     "shell.execute_reply": "2021-06-24T17:38:17.371603Z"
    }
   },
   "outputs": [],
   "source": [
    "sc.server.add_receiver(\"sc3nb\", sc3nb_ip, sc3nb_port)"
   ]
  },
  {
   "cell_type": "code",
   "execution_count": 7,
   "metadata": {
    "execution": {
     "iopub.execute_input": "2021-06-24T17:38:17.375604Z",
     "iopub.status.busy": "2021-06-24T17:38:17.374602Z",
     "iopub.status.idle": "2021-06-24T17:38:17.378621Z",
     "shell.execute_reply": "2021-06-24T17:38:17.378621Z"
    }
   },
   "outputs": [
    {
     "name": "stdout",
     "output_type": "stream",
     "text": [
      "This instance is at ('127.0.0.1', 57130),\n",
      "Known receivers: \"scsynth\" at ('127.0.0.1', 57110)\n",
      "                 \"sclang\" at ('127.0.0.1', 57120)\n",
      "                 \"sc3nb\" at ('127.0.0.1', 57130)\n",
      "                 \n"
     ]
    },
    {
     "data": {
      "text/plain": [
       "(('127.0.0.1', 57130),\n",
       " {('127.0.0.1', 57110): 'scsynth',\n",
       "  ('127.0.0.1', 57120): 'sclang',\n",
       "  ('127.0.0.1', 57130): 'sc3nb'})"
      ]
     },
     "execution_count": 1,
     "metadata": {},
     "output_type": "execute_result"
    }
   ],
   "source": [
    "sc.server.connection_info()"
   ]
  },
  {
   "cell_type": "markdown",
   "metadata": {},
   "source": [
    "## Sending OSC\n",
    "\n",
    "You can send OSC with "
   ]
  },
  {
   "cell_type": "code",
   "execution_count": 8,
   "metadata": {
    "execution": {
     "iopub.execute_input": "2021-06-24T17:38:17.381622Z",
     "iopub.status.busy": "2021-06-24T17:38:17.381622Z",
     "iopub.status.idle": "2021-06-24T17:38:17.383621Z",
     "shell.execute_reply": "2021-06-24T17:38:17.382621Z"
    }
   },
   "outputs": [
    {
     "name": "stdout",
     "output_type": "stream",
     "text": [
      "Help on method send in module sc3nb.osc.osc_communication:\n",
      "\n",
      "send(package: Union[sc3nb.osc.osc_communication.OSCMessage, sc3nb.osc.osc_communication.Bundler], *, receiver: Union[str, Tuple[str, int], NoneType] = None, bundle: bool = False, await_reply: bool = True, timeout: float = 5) -> Any method of sc3nb.sc_objects.server.SCServer instance\n",
      "    Sends OSC packet\n",
      "    \n",
      "    Parameters\n",
      "    ----------\n",
      "    package : OSCMessage or Bundler\n",
      "        Object with `dgram` attribute.\n",
      "    receiver : str or Tuple[str, int], optional\n",
      "        Where to send the packet, by default send to default receiver\n",
      "    bundle : bool, optional\n",
      "        If True it is allowed to bundle the package with bundling, by default False.\n",
      "    await_reply : bool, optional\n",
      "        If True ask for reply from the server and return it,\n",
      "        otherwise send the message and return None directly, by default True.\n",
      "        If the package is bundled None will be returned.\n",
      "    timeout : int, optional\n",
      "        timeout in seconds for reply, by default 5\n",
      "    \n",
      "    Returns\n",
      "    -------\n",
      "    None or reply\n",
      "        None if no reply was received or awaited else reply.\n",
      "    \n",
      "    Raises\n",
      "    ------\n",
      "    ValueError\n",
      "        When the provided package is not supported.\n",
      "    OSCCommunicationError\n",
      "        When the handling of a package fails.\n",
      "\n"
     ]
    }
   ],
   "source": [
    "help(sc.server.send)"
   ]
  },
  {
   "cell_type": "markdown",
   "metadata": {},
   "source": [
    "### Messages\n",
    "\n",
    "Use the `OSCMessage` or the `python-osc` package to build a OscMessage"
   ]
  },
  {
   "cell_type": "code",
   "execution_count": 9,
   "metadata": {
    "execution": {
     "iopub.execute_input": "2021-06-24T17:38:17.386621Z",
     "iopub.status.busy": "2021-06-24T17:38:17.385620Z",
     "iopub.status.idle": "2021-06-24T17:38:17.430621Z",
     "shell.execute_reply": "2021-06-24T17:38:17.430621Z"
    }
   },
   "outputs": [],
   "source": [
    "scn.OSCMessage?"
   ]
  },
  {
   "cell_type": "code",
   "execution_count": 10,
   "metadata": {
    "execution": {
     "iopub.execute_input": "2021-06-24T17:38:17.433620Z",
     "iopub.status.busy": "2021-06-24T17:38:17.433620Z",
     "iopub.status.idle": "2021-06-24T17:38:17.435621Z",
     "shell.execute_reply": "2021-06-24T17:38:17.435621Z"
    }
   },
   "outputs": [],
   "source": [
    "msg = scn.OSCMessage(\"/s_new\", [\"s1\", -1, 1, 1,])\n",
    "sc.server.send(msg)"
   ]
  },
  {
   "cell_type": "markdown",
   "metadata": {},
   "source": [
    "A shortcut for sending Messages is"
   ]
  },
  {
   "cell_type": "code",
   "execution_count": 11,
   "metadata": {
    "execution": {
     "iopub.execute_input": "2021-06-24T17:38:17.438621Z",
     "iopub.status.busy": "2021-06-24T17:38:17.437620Z",
     "iopub.status.idle": "2021-06-24T17:38:17.439622Z",
     "shell.execute_reply": "2021-06-24T17:38:17.439622Z"
    }
   },
   "outputs": [
    {
     "name": "stdout",
     "output_type": "stream",
     "text": [
      "Help on method msg in module sc3nb.osc.osc_communication:\n",
      "\n",
      "msg(msg_addr: str, msg_params: Union[Sequence, NoneType] = None, *, bundle: bool = False, receiver: Union[Tuple[str, int], NoneType] = None, await_reply: bool = True, timeout: float = 5) -> Union[Any, NoneType] method of sc3nb.sc_objects.server.SCServer instance\n",
      "    Creates and sends OSC message over UDP.\n",
      "    \n",
      "    Parameters\n",
      "    ----------\n",
      "    msg_addr : str\n",
      "        SuperCollider address of the OSC message\n",
      "    msg_params : Optional[Sequence], optional\n",
      "        List of paramters of the OSC message, by default None\n",
      "    bundle : bool, optional\n",
      "        If True it is allowed to bundle the content with bundling, by default False\n",
      "    receiver : tuple[str, int], optional\n",
      "        (IP address, port) to send the message, by default send to default receiver\n",
      "    await_reply : bool, optional\n",
      "        If True send message and wait for reply\n",
      "        otherwise send the message and return directly, by default True\n",
      "    timeout : float, optional\n",
      "        timeout in seconds for reply, by default 5\n",
      "    \n",
      "    Returns\n",
      "    -------\n",
      "    obj\n",
      "        reply if await_reply and there is a reply for this\n",
      "\n"
     ]
    }
   ],
   "source": [
    "help(sc.server.msg)"
   ]
  },
  {
   "cell_type": "code",
   "execution_count": 12,
   "metadata": {
    "execution": {
     "iopub.execute_input": "2021-06-24T17:38:17.442620Z",
     "iopub.status.busy": "2021-06-24T17:38:17.442620Z",
     "iopub.status.idle": "2021-06-24T17:38:17.444620Z",
     "shell.execute_reply": "2021-06-24T17:38:17.444620Z"
    }
   },
   "outputs": [],
   "source": [
    "sc.server.msg(\"/s_new\", [\"s1\", -1, 1, 1,])"
   ]
  },
  {
   "cell_type": "markdown",
   "metadata": {},
   "source": [
    "a more complex example"
   ]
  },
  {
   "cell_type": "code",
   "execution_count": 13,
   "metadata": {
    "execution": {
     "iopub.execute_input": "2021-06-24T17:38:17.448619Z",
     "iopub.status.busy": "2021-06-24T17:38:17.448619Z",
     "iopub.status.idle": "2021-06-24T17:38:22.865804Z",
     "shell.execute_reply": "2021-06-24T17:38:22.866805Z"
    },
    "slideshow": {
     "slide_type": "slide"
    }
   },
   "outputs": [],
   "source": [
    "for p in [0,2,4,7,5,5,9,7,7,12,11,12,7,4,0,2,4,5,7,9,7,5,4,2,4,0,-1,0,2,-5,-1,2,5,4,2,4]:\n",
    "    freq = scn.midicps(60+p)  # see helper fns below\n",
    "    sc.server.msg(\"/s_new\", [\"s1\", -1, 1, 0, \"freq\", freq, \"dur\", 0.5, \"num\", 1])\n",
    "    time.sleep(0.15)"
   ]
  },
  {
   "cell_type": "markdown",
   "metadata": {},
   "source": [
    "**Note** that the timing is here under python's control, which is not very precise. The `Bundler` class allows to do better."
   ]
  },
  {
   "cell_type": "markdown",
   "metadata": {},
   "source": [
    "**Remarks**:\n",
    "\n",
    "* note that the python code returns immediately and all events remain in scsynth\n",
    "* note that unfortunately scsynth has a limited buffer for OSC messages, so it is not viable to spawn thousends of events. scsynth will then simply reject OSC messages.\n",
    "* this sc3-specific problem motivated (and has been solved with) TimedQueue, see below."
   ]
  },
  {
   "cell_type": "markdown",
   "metadata": {},
   "source": [
    "### Bundles"
   ]
  },
  {
   "cell_type": "code",
   "execution_count": 14,
   "metadata": {
    "execution": {
     "iopub.execute_input": "2021-06-24T17:38:22.869804Z",
     "iopub.status.busy": "2021-06-24T17:38:22.868806Z",
     "iopub.status.idle": "2021-06-24T17:38:22.871805Z",
     "shell.execute_reply": "2021-06-24T17:38:22.871805Z"
    }
   },
   "outputs": [],
   "source": [
    "from sc3nb.osc.osc_communication import Bundler"
   ]
  },
  {
   "cell_type": "markdown",
   "metadata": {},
   "source": [
    "To send a single or multiple message(s) with a timetag as an OSC Bundle, you can use the `Bundler` class\n",
    "\n",
    "* Bundlers allow to specify a timetag and thus let scsynth control the timing, which is much better, if applicable.\n",
    "* A Bundler can be created as documented here"
   ]
  },
  {
   "cell_type": "code",
   "execution_count": 15,
   "metadata": {
    "execution": {
     "iopub.execute_input": "2021-06-24T17:38:22.877806Z",
     "iopub.status.busy": "2021-06-24T17:38:22.874804Z",
     "iopub.status.idle": "2021-06-24T17:38:22.878805Z",
     "shell.execute_reply": "2021-06-24T17:38:22.878805Z"
    }
   },
   "outputs": [],
   "source": [
    "Bundler?"
   ]
  },
  {
   "cell_type": "markdown",
   "metadata": {},
   "source": [
    "The prefered way of creating Bundlers for sending to the server is via"
   ]
  },
  {
   "cell_type": "code",
   "execution_count": 16,
   "metadata": {
    "execution": {
     "iopub.execute_input": "2021-06-24T17:38:22.881805Z",
     "iopub.status.busy": "2021-06-24T17:38:22.881805Z",
     "iopub.status.idle": "2021-06-24T17:38:22.884805Z",
     "shell.execute_reply": "2021-06-24T17:38:22.884805Z"
    }
   },
   "outputs": [
    {
     "name": "stdout",
     "output_type": "stream",
     "text": [
      "Help on method bundler in module sc3nb.sc_objects.server:\n",
      "\n",
      "bundler(timetag=0, msg=None, msg_params=None, send_on_exit=True) method of sc3nb.sc_objects.server.SCServer instance\n",
      "    Generate a Bundler with added server latency.\n",
      "    \n",
      "    This allows the user to easly add messages/bundles and send it.\n",
      "    \n",
      "    Parameters\n",
      "    ----------\n",
      "    timetag : float\n",
      "        Time at which bundle content should be executed.\n",
      "        This servers latency will be added upon this.\n",
      "        If timetag <= 1e6 it is added to time.time().\n",
      "    msg_addr : str\n",
      "        SuperCollider address.\n",
      "    msg_params : list, optional\n",
      "        List of parameters to add to message.\n",
      "         (Default value = None)\n",
      "    \n",
      "    Returns\n",
      "    -------\n",
      "    Bundler\n",
      "        bundler for OSC bundling.\n",
      "\n"
     ]
    }
   ],
   "source": [
    "help(sc.server.bundler)"
   ]
  },
  {
   "cell_type": "markdown",
   "metadata": {},
   "source": [
    "This will add the `sc.server.latency` time to the timetag. By default this is `0.0` but you can set it."
   ]
  },
  {
   "cell_type": "code",
   "execution_count": 17,
   "metadata": {
    "execution": {
     "iopub.execute_input": "2021-06-24T17:38:22.888805Z",
     "iopub.status.busy": "2021-06-24T17:38:22.887807Z",
     "iopub.status.idle": "2021-06-24T17:38:22.890805Z",
     "shell.execute_reply": "2021-06-24T17:38:22.890805Z"
    }
   },
   "outputs": [
    {
     "data": {
      "text/plain": [
       "0.0"
      ]
     },
     "execution_count": 1,
     "metadata": {},
     "output_type": "execute_result"
    }
   ],
   "source": [
    "sc.server.latency"
   ]
  },
  {
   "cell_type": "code",
   "execution_count": 18,
   "metadata": {
    "execution": {
     "iopub.execute_input": "2021-06-24T17:38:22.893804Z",
     "iopub.status.busy": "2021-06-24T17:38:22.893804Z",
     "iopub.status.idle": "2021-06-24T17:38:22.895804Z",
     "shell.execute_reply": "2021-06-24T17:38:22.895804Z"
    }
   },
   "outputs": [
    {
     "data": {
      "text/plain": [
       "0.1"
      ]
     },
     "execution_count": 1,
     "metadata": {},
     "output_type": "execute_result"
    }
   ],
   "source": [
    "sc.server.latency = 0.1\n",
    "sc.server.latency"
   ]
  },
  {
   "cell_type": "markdown",
   "metadata": {},
   "source": [
    "A Bundler lets you add Messages with"
   ]
  },
  {
   "cell_type": "code",
   "execution_count": 19,
   "metadata": {
    "execution": {
     "iopub.execute_input": "2021-06-24T17:38:22.898804Z",
     "iopub.status.busy": "2021-06-24T17:38:22.897806Z",
     "iopub.status.idle": "2021-06-24T17:38:22.900805Z",
     "shell.execute_reply": "2021-06-24T17:38:22.900805Z"
    }
   },
   "outputs": [
    {
     "name": "stdout",
     "output_type": "stream",
     "text": [
      "Help on function add in module sc3nb.osc.osc_communication:\n",
      "\n",
      "add(self, *args) -> 'Bundler'\n",
      "    Add content to this Bundler.\n",
      "    \n",
      "    Parameters\n",
      "    ----------\n",
      "    args : OSCMessage or Bundler or Bundler arguments like\n",
      "           (timetag, msg_addr, msg_params)\n",
      "           (timetag, msg_addr)\n",
      "           (timetag, msg)\n",
      "    \n",
      "    Returns\n",
      "    -------\n",
      "    Bundler\n",
      "        self for chaining\n",
      "\n"
     ]
    }
   ],
   "source": [
    "help(Bundler.add)"
   ]
  },
  {
   "cell_type": "code",
   "execution_count": 20,
   "metadata": {
    "execution": {
     "iopub.execute_input": "2021-06-24T17:38:22.904804Z",
     "iopub.status.busy": "2021-06-24T17:38:22.903804Z",
     "iopub.status.idle": "2021-06-24T17:38:22.905805Z",
     "shell.execute_reply": "2021-06-24T17:38:22.905805Z"
    }
   },
   "outputs": [],
   "source": [
    "msg1 = scn.OSCMessage(\"/s_new\", [\"s2\", -1, 1, 1,])\n",
    "msg2 = scn.OSCMessage(\"/n_free\", [-1])\n",
    "sc.server.bundler().add(1.5, msg1).add(1.9, msg2).send() # sound starts in 1.5s"
   ]
  },
  {
   "cell_type": "markdown",
   "metadata": {},
   "source": [
    "Simpler is the usage of the *context manager*. This means you can use the `with` statement for better handling as follows: "
   ]
  },
  {
   "cell_type": "code",
   "execution_count": 21,
   "metadata": {
    "execution": {
     "iopub.execute_input": "2021-06-24T17:38:22.908804Z",
     "iopub.status.busy": "2021-06-24T17:38:22.908804Z",
     "iopub.status.idle": "2021-06-24T17:38:22.910804Z",
     "shell.execute_reply": "2021-06-24T17:38:22.910804Z"
    }
   },
   "outputs": [],
   "source": [
    "with sc.server.bundler() as bundler:\n",
    "    bundler.add(0.0, msg1)\n",
    "    bundler.add(0.3, msg2)"
   ]
  },
  {
   "cell_type": "markdown",
   "metadata": {},
   "source": [
    "Instead of declaring the time explicitly with add you can also use `wait`"
   ]
  },
  {
   "cell_type": "code",
   "execution_count": 22,
   "metadata": {
    "execution": {
     "iopub.execute_input": "2021-06-24T17:38:22.914804Z",
     "iopub.status.busy": "2021-06-24T17:38:22.913804Z",
     "iopub.status.idle": "2021-06-24T17:38:22.915804Z",
     "shell.execute_reply": "2021-06-24T17:38:22.915804Z"
    }
   },
   "outputs": [],
   "source": [
    "with sc.server.bundler() as bundler:\n",
    "    for i in range(3):\n",
    "        bundler.add(msg1)\n",
    "        bundler.wait(0.3)\n",
    "        bundler.add(msg2)\n",
    "        bundler.wait(0.1)"
   ]
  },
  {
   "cell_type": "markdown",
   "metadata": {},
   "source": [
    "Here are some different styles of coding the same sound with the Bundler features "
   ]
  },
  {
   "cell_type": "markdown",
   "metadata": {},
   "source": [
    " - server Bundler with add"
   ]
  },
  {
   "cell_type": "code",
   "execution_count": 23,
   "metadata": {
    "execution": {
     "iopub.execute_input": "2021-06-24T17:38:22.919807Z",
     "iopub.status.busy": "2021-06-24T17:38:22.918807Z",
     "iopub.status.idle": "2021-06-24T17:38:22.920805Z",
     "shell.execute_reply": "2021-06-24T17:38:22.920805Z"
    }
   },
   "outputs": [],
   "source": [
    "with sc.server.bundler(send_on_exit=False) as bundler:\n",
    "    bundler.add(0.0, \"/s_new\", [\"s2\", -1, 1, 1,])\n",
    "    bundler.add(0.3, \"/n_free\", [-1])"
   ]
  },
  {
   "cell_type": "code",
   "execution_count": 24,
   "metadata": {
    "execution": {
     "iopub.execute_input": "2021-06-24T17:38:22.923809Z",
     "iopub.status.busy": "2021-06-24T17:38:22.923809Z",
     "iopub.status.idle": "2021-06-24T17:38:22.926805Z",
     "shell.execute_reply": "2021-06-24T17:38:22.926805Z"
    }
   },
   "outputs": [
    {
     "data": {
      "text/plain": [
       "b'#bundle\\x00\\x83\\xaa~\\x80\\x19\\x99\\x98\\x00\\x00\\x00\\x004#bundle\\x00\\x83\\xaa~\\x80\\x19\\x99\\x98\\x00\\x00\\x00\\x00 /s_new\\x00\\x00,siii\\x00\\x00\\x00s2\\x00\\x00\\xff\\xff\\xff\\xff\\x00\\x00\\x00\\x01\\x00\\x00\\x00\\x01\\x00\\x00\\x00$#bundle\\x00\\x83\\xaa~\\x80ffh\\x00\\x00\\x00\\x00\\x10/n_free\\x00,i\\x00\\x00\\xff\\xff\\xff\\xff'"
      ]
     },
     "execution_count": 1,
     "metadata": {},
     "output_type": "execute_result"
    }
   ],
   "source": [
    "dg1 = bundler.to_raw_osc(0.0)  # we set the time_offset explicitly so all Bundle datagrams are the same\n",
    "dg1"
   ]
  },
  {
   "cell_type": "markdown",
   "metadata": {},
   "source": [
    " - Bundler with explict latency set and using add"
   ]
  },
  {
   "cell_type": "code",
   "execution_count": 25,
   "metadata": {
    "execution": {
     "iopub.execute_input": "2021-06-24T17:38:22.930806Z",
     "iopub.status.busy": "2021-06-24T17:38:22.929804Z",
     "iopub.status.idle": "2021-06-24T17:38:22.931805Z",
     "shell.execute_reply": "2021-06-24T17:38:22.931805Z"
    }
   },
   "outputs": [],
   "source": [
    "with Bundler(sc.server.latency, send_on_exit=False) as bundler:\n",
    "    bundler.add(0.0, \"/s_new\", [\"s2\", -1, 1, 1])\n",
    "    bundler.add(0.3, \"/n_free\", [-1])"
   ]
  },
  {
   "cell_type": "code",
   "execution_count": 26,
   "metadata": {
    "execution": {
     "iopub.execute_input": "2021-06-24T17:38:22.934804Z",
     "iopub.status.busy": "2021-06-24T17:38:22.934804Z",
     "iopub.status.idle": "2021-06-24T17:38:22.936805Z",
     "shell.execute_reply": "2021-06-24T17:38:22.936805Z"
    }
   },
   "outputs": [
    {
     "data": {
      "text/plain": [
       "b'#bundle\\x00\\x83\\xaa~\\x80\\x19\\x99\\x98\\x00\\x00\\x00\\x004#bundle\\x00\\x83\\xaa~\\x80\\x19\\x99\\x98\\x00\\x00\\x00\\x00 /s_new\\x00\\x00,siii\\x00\\x00\\x00s2\\x00\\x00\\xff\\xff\\xff\\xff\\x00\\x00\\x00\\x01\\x00\\x00\\x00\\x01\\x00\\x00\\x00$#bundle\\x00\\x83\\xaa~\\x80ffh\\x00\\x00\\x00\\x00\\x10/n_free\\x00,i\\x00\\x00\\xff\\xff\\xff\\xff'"
      ]
     },
     "execution_count": 1,
     "metadata": {},
     "output_type": "execute_result"
    }
   ],
   "source": [
    "dg2 = bundler.to_raw_osc(0.0)\n",
    "dg2"
   ]
  },
  {
   "cell_type": "markdown",
   "metadata": {},
   "source": [
    " - server Bundler with implicit latency and using bundled messages"
   ]
  },
  {
   "cell_type": "code",
   "execution_count": 27,
   "metadata": {
    "execution": {
     "iopub.execute_input": "2021-06-24T17:38:22.940804Z",
     "iopub.status.busy": "2021-06-24T17:38:22.940804Z",
     "iopub.status.idle": "2021-06-24T17:38:22.942805Z",
     "shell.execute_reply": "2021-06-24T17:38:22.942805Z"
    }
   },
   "outputs": [],
   "source": [
    "with sc.server.bundler(send_on_exit=False) as bundler:\n",
    "    sc.server.msg(\"/s_new\", [\"s2\", -1, 1, 1,], bundle=True)\n",
    "    bundler.wait(0.3)\n",
    "    sc.server.msg(\"/n_free\", [-1], bundle=True)"
   ]
  },
  {
   "cell_type": "code",
   "execution_count": 28,
   "metadata": {
    "execution": {
     "iopub.execute_input": "2021-06-24T17:38:22.945805Z",
     "iopub.status.busy": "2021-06-24T17:38:22.945805Z",
     "iopub.status.idle": "2021-06-24T17:38:22.947805Z",
     "shell.execute_reply": "2021-06-24T17:38:22.947805Z"
    }
   },
   "outputs": [
    {
     "data": {
      "text/plain": [
       "b'#bundle\\x00\\x83\\xaa~\\x80\\x19\\x99\\x98\\x00\\x00\\x00\\x004#bundle\\x00\\x83\\xaa~\\x80\\x19\\x99\\x98\\x00\\x00\\x00\\x00 /s_new\\x00\\x00,siii\\x00\\x00\\x00s2\\x00\\x00\\xff\\xff\\xff\\xff\\x00\\x00\\x00\\x01\\x00\\x00\\x00\\x01\\x00\\x00\\x00$#bundle\\x00\\x83\\xaa~\\x80ffh\\x00\\x00\\x00\\x00\\x10/n_free\\x00,i\\x00\\x00\\xff\\xff\\xff\\xff'"
      ]
     },
     "execution_count": 1,
     "metadata": {},
     "output_type": "execute_result"
    }
   ],
   "source": [
    "dg3 = bundler.to_raw_osc(0.0)\n",
    "dg3"
   ]
  },
  {
   "cell_type": "code",
   "execution_count": 29,
   "metadata": {
    "execution": {
     "iopub.execute_input": "2021-06-24T17:38:22.951809Z",
     "iopub.status.busy": "2021-06-24T17:38:22.950805Z",
     "iopub.status.idle": "2021-06-24T17:38:22.952808Z",
     "shell.execute_reply": "2021-06-24T17:38:22.952808Z"
    }
   },
   "outputs": [],
   "source": [
    "assert dg1 == dg2 and dg1 == dg2, \"The datagrams are not the same\""
   ]
  },
  {
   "cell_type": "markdown",
   "metadata": {},
   "source": [
    "Note that you can use the Bundler with the Synth and Group classes for easier Message creation.\n",
    "\n",
    "Also make sure to look at the [Automatic Bundling Feature](#Automatic-Bundling) which is using the bundled messages (`msg(..., bundle=True`)"
   ]
  },
  {
   "cell_type": "code",
   "execution_count": 30,
   "metadata": {
    "execution": {
     "iopub.execute_input": "2021-06-24T17:38:22.956806Z",
     "iopub.status.busy": "2021-06-24T17:38:22.956806Z",
     "iopub.status.idle": "2021-06-24T17:38:22.991806Z",
     "shell.execute_reply": "2021-06-24T17:38:22.991806Z"
    }
   },
   "outputs": [],
   "source": [
    "t0 = time.time()\n",
    "with sc.server.bundler() as bundler:\n",
    "    for i, r in enumerate(np.random.randn(100)):\n",
    "        onset = t0 + 3 + r\n",
    "        freq = 500 + 5 * i\n",
    "        bundler.add(onset, scn.Synth(\"s1\", \n",
    "            {\"freq\": freq, \"dur\": 1.5, \"num\": abs(r)+1}, new=False\n",
    "        ).new(return_msg=True))"
   ]
  },
  {
   "cell_type": "markdown",
   "metadata": {},
   "source": [
    "#### Bundler Timestamp\n",
    "\n",
    "Small numbers (<1e6) are interpreted as times in seconds relative to `time.time()`, evaluated at the time of sending"
   ]
  },
  {
   "cell_type": "code",
   "execution_count": 31,
   "metadata": {
    "execution": {
     "iopub.execute_input": "2021-06-24T17:38:22.995804Z",
     "iopub.status.busy": "2021-06-24T17:38:22.994805Z",
     "iopub.status.idle": "2021-06-24T17:38:22.997805Z",
     "shell.execute_reply": "2021-06-24T17:38:22.997805Z"
    }
   },
   "outputs": [],
   "source": [
    "sc.server.bundler(0.5, \"/s_new\", [\"s1\", -1, 1, 0, \"freq\", 200, \"dur\", 1]).send()  # a tone starts in 0.5s\n",
    "sc.server.bundler(1.0, \"/s_new\", [\"s1\", -1, 1, 0, \"freq\", 300, \"dur\", 1]).send()  # a tone starts in 1.0s"
   ]
  },
  {
   "cell_type": "markdown",
   "metadata": {},
   "source": [
    "**Attention:** \n",
    "\n",
    "Sending bundles with relative times could lead to unprecise timings.\n",
    "If you care about precision\n",
    "\n",
    "* use a bundler with multiple messages (if you care about the timings relative to each other in one Bundler)\n",
    "    * because all relative times of the inner messages are calculated on top of the outermost bundler timetag\n",
    "* or provide an explict timetag (>1e6) to specify absolute times (see the following examples)\n"
   ]
  },
  {
   "cell_type": "markdown",
   "metadata": {},
   "source": [
    "A single Bundler with multiple messages"
   ]
  },
  {
   "cell_type": "code",
   "execution_count": 32,
   "metadata": {
    "execution": {
     "iopub.execute_input": "2021-06-24T17:38:23.001805Z",
     "iopub.status.busy": "2021-06-24T17:38:23.001805Z",
     "iopub.status.idle": "2021-06-24T17:38:23.003804Z",
     "shell.execute_reply": "2021-06-24T17:38:23.003804Z"
    }
   },
   "outputs": [],
   "source": [
    "bundler = sc.server.bundler()\n",
    "bundler.add(0.5, \"/s_new\", [\"s1\", -1, 1, 0, \"freq\", 200, \"dur\", 1])\n",
    "bundler.add(1.0, \"/s_new\", [\"s1\", -1, 1, 0, \"freq\", 300, \"dur\", 1])\n",
    "bundler.send()  # second tone starts in 1.0s"
   ]
  },
  {
   "cell_type": "markdown",
   "metadata": {},
   "source": [
    "using `time.time()+timeoffset` for absolute times"
   ]
  },
  {
   "cell_type": "code",
   "execution_count": 33,
   "metadata": {
    "execution": {
     "iopub.execute_input": "2021-06-24T17:38:23.007806Z",
     "iopub.status.busy": "2021-06-24T17:38:23.006805Z",
     "iopub.status.idle": "2021-06-24T17:38:23.008805Z",
     "shell.execute_reply": "2021-06-24T17:38:23.008805Z"
    }
   },
   "outputs": [],
   "source": [
    "t0 = time.time()\n",
    "sc.server.bundler(t0 + 0.5, \"/s_new\", [\"s1\", -1, 1, 0, \"freq\", 200, \"dur\", 1]).send()  # a tone starts in 0.5s\n",
    "sc.server.bundler(t0 + 1.0, \"/s_new\", [\"s1\", -1, 1, 0, \"freq\", 300, \"dur\", 1]).send()  # a tone starts in 1.0s"
   ]
  },
  {
   "cell_type": "code",
   "execution_count": 34,
   "metadata": {
    "execution": {
     "iopub.execute_input": "2021-06-24T17:38:23.028807Z",
     "iopub.status.busy": "2021-06-24T17:38:23.027807Z",
     "iopub.status.idle": "2021-06-24T17:38:23.029805Z",
     "shell.execute_reply": "2021-06-24T17:38:23.029805Z"
    }
   },
   "outputs": [],
   "source": [
    "t0 = time.time()\n",
    "with sc.server.bundler() as bundler:\n",
    "    for i, r in enumerate(np.random.randn(100)): # note: 1000 will give: msg too long\n",
    "        onset = t0 + 3 + r\n",
    "        freq = 500 + 5 * i\n",
    "        msg_params = [\"s1\", -1, 1, 0, \"freq\", freq, \"dur\", 1.5, \"num\", abs(r)+1]\n",
    "        bundler.add(onset, \"/s_new\", msg_params)"
   ]
  },
  {
   "cell_type": "markdown",
   "metadata": {},
   "source": [
    "#### Nesting Bundlers\n",
    "\n",
    "You can nest Bundlers: this will recalculate the time relative to the sending time of the outermost bundler"
   ]
  },
  {
   "cell_type": "code",
   "execution_count": 35,
   "metadata": {
    "execution": {
     "iopub.execute_input": "2021-06-24T17:38:23.034804Z",
     "iopub.status.busy": "2021-06-24T17:38:23.034804Z",
     "iopub.status.idle": "2021-06-24T17:38:23.036805Z",
     "shell.execute_reply": "2021-06-24T17:38:23.036805Z"
    }
   },
   "outputs": [],
   "source": [
    "with sc.server.bundler() as bundler_outer:\n",
    "    with sc.server.bundler() as bundler:\n",
    "        sc.server.msg(\"/s_new\", [\"s2\", 3333, 1, 1,], bundle=True)\n",
    "        bundler.wait(0.3)\n",
    "        sc.server.msg(\"/n_free\", [3333], bundle=True)\n",
    "    bundler_outer.wait(0.4)\n",
    "    bundler_outer.add(bundler)"
   ]
  },
  {
   "cell_type": "markdown",
   "metadata": {},
   "source": [
    "### Automatic Bundling"
   ]
  },
  {
   "cell_type": "markdown",
   "metadata": {},
   "source": [
    "Probably the most convenient way of sending OSC is by using the Automatic Bundling Feature.\n",
    "\n",
    "This allows you to simply use the SuperCollider Objects Synth and Group in the Context Manager of a Bundler and they will be automatically captured and stored. "
   ]
  },
  {
   "cell_type": "code",
   "execution_count": 36,
   "metadata": {
    "execution": {
     "iopub.execute_input": "2021-06-24T17:38:23.040806Z",
     "iopub.status.busy": "2021-06-24T17:38:23.040806Z",
     "iopub.status.idle": "2021-06-24T17:38:23.564365Z",
     "shell.execute_reply": "2021-06-24T17:38:23.565359Z"
    }
   },
   "outputs": [],
   "source": [
    "with sc.server.bundler() as bundler:\n",
    "    synth = scn.Synth(\"s2\")\n",
    "    bundler.wait(0.3)\n",
    "    synth.set(\"freq\", 1000)\n",
    "    bundler.wait(0.1)\n",
    "    synth.free()\n",
    "synth.wait()"
   ]
  },
  {
   "cell_type": "markdown",
   "metadata": {},
   "source": [
    "**Note** that it is important that to *only* wait on the Synth *after* the context of the Bundler has been closed.\n",
    "\n",
    "If you'd call `synth.wait()` in the Bundler context, it would wait before sending the /s_new Message to the server and then wait forever (or until timeout) for the /n_end notification."
   ]
  },
  {
   "cell_type": "code",
   "execution_count": 37,
   "metadata": {
    "execution": {
     "iopub.execute_input": "2021-06-24T17:38:23.569359Z",
     "iopub.status.busy": "2021-06-24T17:38:23.568359Z",
     "iopub.status.idle": "2021-06-24T17:38:25.571765Z",
     "shell.execute_reply": "2021-06-24T17:38:25.571765Z"
    }
   },
   "outputs": [
    {
     "name": "stdout",
     "output_type": "stream",
     "text": [
      "Aborting. Exception raised in bundler: TimeoutError Timed out waiting for synth.\n"
     ]
    }
   ],
   "source": [
    "try:\n",
    "    with sc.server.bundler() as bundler:\n",
    "        synth = scn.Synth(\"s2\")\n",
    "        bundler.wait(0.3)\n",
    "        synth.set(\"freq\", 1000)\n",
    "        bundler.wait(0.1)\n",
    "        synth.free()\n",
    "        synth.wait(timeout=2)  # without a timeout this would hang forever\n",
    "except RuntimeError as error:\n",
    "    print(error)"
   ]
  },
  {
   "cell_type": "markdown",
   "metadata": {},
   "source": [
    "## Receiving OSC packets\n",
    "\n",
    "sc3nb is receiving OSC messages with the help of queues, one AddressQueue for each OSC address for which we want to receive messages."
   ]
  },
  {
   "cell_type": "code",
   "execution_count": 38,
   "metadata": {
    "execution": {
     "iopub.execute_input": "2021-06-24T17:38:25.575767Z",
     "iopub.status.busy": "2021-06-24T17:38:25.575767Z",
     "iopub.status.idle": "2021-06-24T17:38:25.578765Z",
     "shell.execute_reply": "2021-06-24T17:38:25.578765Z"
    }
   },
   "outputs": [
    {
     "data": {
      "text/plain": [
       "{<MasterControlReply.STATUS_REPLY: '/status.reply'>: AddressQueue /status.reply : [],\n",
       " <MasterControlReply.SYNCED: '/synced'>: AddressQueue /synced : [],\n",
       " <MasterControlReply.VERSION_REPLY: '/version.reply'>: AddressQueue /version.reply : [],\n",
       " <NodeCommand.SET: '/n_set'>: AddressQueue /n_set : [],\n",
       " <NodeCommand.SETN: '/n_setn'>: AddressQueue /n_setn : [],\n",
       " <GroupReply.QUERY_TREE_REPLY: '/g_queryTree.reply'>: AddressQueue /g_queryTree.reply : [],\n",
       " <NodeReply.INFO: '/n_info'>: AddressQueue /n_info : [],\n",
       " <BufferReply.INFO: '/b_info'>: AddressQueue /b_info : [],\n",
       " <BufferCommand.SET: '/b_set'>: AddressQueue /b_set : [],\n",
       " <BufferCommand.SETN: '/b_setn'>: AddressQueue /b_setn : [],\n",
       " <ControlBusCommand.SET: '/c_set'>: AddressQueue /c_set : [],\n",
       " <ControlBusCommand.SETN: '/c_setn'>: AddressQueue /c_setn : [],\n",
       " <ReplyAddress.RETURN_ADDR: '/return'>: AddressQueue /return : [],\n",
       " '/done/quit': AddressQueue /quit : [],\n",
       " '/done/notify': AddressQueue /notify : [],\n",
       " '/done/d_recv': AddressQueue /d_recv : [],\n",
       " '/done/d_load': AddressQueue /d_load : [],\n",
       " '/done/d_loadDir': AddressQueue /d_loadDir : [],\n",
       " '/done/b_alloc': AddressQueue /b_alloc : [],\n",
       " '/done/b_allocRead': AddressQueue /b_allocRead : [],\n",
       " '/done/b_allocReadChannel': AddressQueue /b_allocReadChannel : [],\n",
       " '/done/b_read': AddressQueue /b_read : [],\n",
       " '/done/b_readChannel': AddressQueue /b_readChannel : [],\n",
       " '/done/b_write': AddressQueue /b_write : [],\n",
       " '/done/b_free': AddressQueue /b_free : [],\n",
       " '/done/b_zero': AddressQueue /b_zero : [],\n",
       " '/done/b_gen': AddressQueue /b_gen : [],\n",
       " '/done/b_close': AddressQueue /b_close : []}"
      ]
     },
     "execution_count": 1,
     "metadata": {},
     "output_type": "execute_result"
    }
   ],
   "source": [
    "sc.server.msg_queues"
   ]
  },
  {
   "cell_type": "markdown",
   "metadata": {},
   "source": [
    "To see more information what messages are sent and received, set the logging level to INFO as demonstrated below."
   ]
  },
  {
   "cell_type": "code",
   "execution_count": 39,
   "metadata": {
    "execution": {
     "iopub.execute_input": "2021-06-24T17:38:25.582766Z",
     "iopub.status.busy": "2021-06-24T17:38:25.581767Z",
     "iopub.status.idle": "2021-06-24T17:38:25.584765Z",
     "shell.execute_reply": "2021-06-24T17:38:25.584765Z"
    }
   },
   "outputs": [],
   "source": [
    "import logging\n",
    "logging.basicConfig(level=logging.INFO)\n",
    "# even more verbose logging is avaible via\n",
    "# logging.basicConfig(level=logging.DEBUG)"
   ]
  },
  {
   "cell_type": "markdown",
   "metadata": {},
   "source": [
    "### Getting replies"
   ]
  },
  {
   "cell_type": "markdown",
   "metadata": {},
   "source": [
    "For certain outgoing OSC messages an incoming Message is defined.\n",
    "\n",
    "This means that on sending such a message sc3nb automatically waits for the incoming message at the corresponding Queue and returns the result.\n",
    "\n",
    "An example for this is `/sync {sync_id} -> /synced {sync_id}` "
   ]
  },
  {
   "cell_type": "code",
   "execution_count": 40,
   "metadata": {
    "execution": {
     "iopub.execute_input": "2021-06-24T17:38:25.587767Z",
     "iopub.status.busy": "2021-06-24T17:38:25.586765Z",
     "iopub.status.idle": "2021-06-24T17:38:25.608785Z",
     "shell.execute_reply": "2021-06-24T17:38:25.608785Z"
    }
   },
   "outputs": [
    {
     "name": "stderr",
     "output_type": "stream",
     "text": [
      "INFO:sc3nb.sc_objects.server:OSC msg received from scsynth: ('/synced', 12345)\n"
     ]
    },
    {
     "name": "stderr",
     "output_type": "stream",
     "text": [
      "INFO:sc3nb.sc_objects.server:OSC msg received from scsynth: ('/n_go', 20037, 67108865, -1, 20069, 0)\n"
     ]
    },
    {
     "data": {
      "text/plain": [
       "12345"
      ]
     },
     "execution_count": 1,
     "metadata": {},
     "output_type": "execute_result"
    }
   ],
   "source": [
    "sc.server.msg(\"/sync\", 12345)"
   ]
  },
  {
   "cell_type": "markdown",
   "metadata": {},
   "source": [
    "See all `(outgoing message, incoming message)` pairs:"
   ]
  },
  {
   "cell_type": "code",
   "execution_count": 41,
   "metadata": {
    "execution": {
     "iopub.execute_input": "2021-06-24T17:38:25.612783Z",
     "iopub.status.busy": "2021-06-24T17:38:25.612783Z",
     "iopub.status.idle": "2021-06-24T17:38:25.614784Z",
     "shell.execute_reply": "2021-06-24T17:38:25.614784Z"
    }
   },
   "outputs": [
    {
     "data": {
      "text/plain": [
       "{<MasterControlCommand.STATUS: '/status'>: <MasterControlReply.STATUS_REPLY: '/status.reply'>,\n",
       " <MasterControlCommand.SYNC: '/sync'>: <MasterControlReply.SYNCED: '/synced'>,\n",
       " <MasterControlCommand.VERSION: '/version'>: <MasterControlReply.VERSION_REPLY: '/version.reply'>,\n",
       " <SynthCommand.S_GET: '/s_get'>: <NodeCommand.SET: '/n_set'>,\n",
       " <SynthCommand.S_GETN: '/s_getn'>: <NodeCommand.SETN: '/n_setn'>,\n",
       " <GroupCommand.QUERY_TREE: '/g_queryTree'>: <GroupReply.QUERY_TREE_REPLY: '/g_queryTree.reply'>,\n",
       " <NodeCommand.QUERY: '/n_query'>: <NodeReply.INFO: '/n_info'>,\n",
       " <BufferCommand.QUERY: '/b_query'>: <BufferReply.INFO: '/b_info'>,\n",
       " <BufferCommand.GET: '/b_get'>: <BufferCommand.SET: '/b_set'>,\n",
       " <BufferCommand.GETN: '/b_getn'>: <BufferCommand.SETN: '/b_setn'>,\n",
       " <ControlBusCommand.GET: '/c_get'>: <ControlBusCommand.SET: '/c_set'>,\n",
       " <ControlBusCommand.GETN: '/c_getn'>: <ControlBusCommand.SETN: '/c_setn'>,\n",
       " <MasterControlCommand.QUIT: '/quit'>: '/done/quit',\n",
       " <MasterControlCommand.NOTIFY: '/notify'>: '/done/notify',\n",
       " <SynthDefinitionCommand.RECV: '/d_recv'>: '/done/d_recv',\n",
       " <SynthDefinitionCommand.LOAD: '/d_load'>: '/done/d_load',\n",
       " <SynthDefinitionCommand.LOAD_DIR: '/d_loadDir'>: '/done/d_loadDir',\n",
       " <BufferCommand.ALLOC: '/b_alloc'>: '/done/b_alloc',\n",
       " <BufferCommand.ALLOC_READ: '/b_allocRead'>: '/done/b_allocRead',\n",
       " <BufferCommand.ALLOC_READ_CHANNEL: '/b_allocReadChannel'>: '/done/b_allocReadChannel',\n",
       " <BufferCommand.READ: '/b_read'>: '/done/b_read',\n",
       " <BufferCommand.READ_CHANNEL: '/b_readChannel'>: '/done/b_readChannel',\n",
       " <BufferCommand.WRITE: '/b_write'>: '/done/b_write',\n",
       " <BufferCommand.FREE: '/b_free'>: '/done/b_free',\n",
       " <BufferCommand.ZERO: '/b_zero'>: '/done/b_zero',\n",
       " <BufferCommand.GEN: '/b_gen'>: '/done/b_gen',\n",
       " <BufferCommand.CLOSE: '/b_close'>: '/done/b_close'}"
      ]
     },
     "execution_count": 1,
     "metadata": {},
     "output_type": "execute_result"
    }
   ],
   "source": [
    "sc.server.reply_addresses"
   ]
  },
  {
   "cell_type": "markdown",
   "metadata": {},
   "source": [
    "You can get the reply address via"
   ]
  },
  {
   "cell_type": "code",
   "execution_count": 42,
   "metadata": {
    "execution": {
     "iopub.execute_input": "2021-06-24T17:38:25.617783Z",
     "iopub.status.busy": "2021-06-24T17:38:25.616783Z",
     "iopub.status.idle": "2021-06-24T17:38:25.619784Z",
     "shell.execute_reply": "2021-06-24T17:38:25.619784Z"
    }
   },
   "outputs": [
    {
     "data": {
      "text/plain": [
       "<MasterControlReply.SYNCED: '/synced'>"
      ]
     },
     "execution_count": 1,
     "metadata": {},
     "output_type": "execute_result"
    }
   ],
   "source": [
    "sc.server.get_reply_address(\"/sync\")"
   ]
  },
  {
   "cell_type": "markdown",
   "metadata": {},
   "source": [
    "or"
   ]
  },
  {
   "cell_type": "code",
   "execution_count": 43,
   "metadata": {
    "execution": {
     "iopub.execute_input": "2021-06-24T17:38:25.622784Z",
     "iopub.status.busy": "2021-06-24T17:38:25.622784Z",
     "iopub.status.idle": "2021-06-24T17:38:25.627783Z",
     "shell.execute_reply": "2021-06-24T17:38:25.627783Z"
    }
   },
   "outputs": [
    {
     "name": "stderr",
     "output_type": "stream",
     "text": [
      "INFO:sc3nb.sc_objects.server:OSC msg received from scsynth: ('/n_go', 20005, 67108865, -1, 20037, 0)\n"
     ]
    },
    {
     "data": {
      "text/plain": [
       "<MasterControlReply.SYNCED: '/synced'>"
      ]
     },
     "execution_count": 1,
     "metadata": {},
     "output_type": "execute_result"
    }
   ],
   "source": [
    "sc.server.reply_addresses[\"/sync\"]"
   ]
  },
  {
   "cell_type": "markdown",
   "metadata": {},
   "source": [
    "If we specify `await_reply=False` the message will be kept in the queue"
   ]
  },
  {
   "cell_type": "code",
   "execution_count": 44,
   "metadata": {
    "execution": {
     "iopub.execute_input": "2021-06-24T17:38:25.630784Z",
     "iopub.status.busy": "2021-06-24T17:38:25.629783Z",
     "iopub.status.idle": "2021-06-24T17:38:25.631784Z",
     "shell.execute_reply": "2021-06-24T17:38:25.631784Z"
    }
   },
   "outputs": [],
   "source": [
    "sc.server.msg(\"/sync\", 1, await_reply=False)"
   ]
  },
  {
   "cell_type": "code",
   "execution_count": 45,
   "metadata": {
    "execution": {
     "iopub.execute_input": "2021-06-24T17:38:25.634783Z",
     "iopub.status.busy": "2021-06-24T17:38:25.634783Z",
     "iopub.status.idle": "2021-06-24T17:38:25.636784Z",
     "shell.execute_reply": "2021-06-24T17:38:25.636784Z"
    }
   },
   "outputs": [
    {
     "data": {
      "text/plain": [
       "AddressQueue /synced : []"
      ]
     },
     "execution_count": 1,
     "metadata": {},
     "output_type": "execute_result"
    }
   ],
   "source": [
    "sc.server.msg_queues[sc.server.get_reply_address(\"/sync\")]"
   ]
  },
  {
   "cell_type": "code",
   "execution_count": 46,
   "metadata": {
    "execution": {
     "iopub.execute_input": "2021-06-24T17:38:25.639783Z",
     "iopub.status.busy": "2021-06-24T17:38:25.638783Z",
     "iopub.status.idle": "2021-06-24T17:38:25.640785Z",
     "shell.execute_reply": "2021-06-24T17:38:25.640785Z"
    }
   },
   "outputs": [],
   "source": [
    "sc.server.msg(\"/sync\", 2, await_reply=False)"
   ]
  },
  {
   "cell_type": "code",
   "execution_count": 47,
   "metadata": {
    "execution": {
     "iopub.execute_input": "2021-06-24T17:38:25.645784Z",
     "iopub.status.busy": "2021-06-24T17:38:25.644783Z",
     "iopub.status.idle": "2021-06-24T17:38:25.649785Z",
     "shell.execute_reply": "2021-06-24T17:38:25.649785Z"
    }
   },
   "outputs": [
    {
     "name": "stderr",
     "output_type": "stream",
     "text": [
      "INFO:sc3nb.sc_objects.server:OSC msg received from scsynth: ('/synced', 1)\n"
     ]
    },
    {
     "name": "stderr",
     "output_type": "stream",
     "text": [
      "INFO:sc3nb.sc_objects.server:OSC msg received from scsynth: ('/synced', 2)\n"
     ]
    },
    {
     "data": {
      "text/plain": [
       "AddressQueue /synced : [1]"
      ]
     },
     "execution_count": 1,
     "metadata": {},
     "output_type": "execute_result"
    },
    {
     "name": "stderr",
     "output_type": "stream",
     "text": [
      "INFO:sc3nb.sc_objects.server:OSC msg received from scsynth: ('/n_go', 20038, 67108865, -1, 20005, 0)\n"
     ]
    }
   ],
   "source": [
    "sc.server.msg_queues[sc.server.reply_addresses[\"/sync\"]]"
   ]
  },
  {
   "cell_type": "code",
   "execution_count": 48,
   "metadata": {
    "execution": {
     "iopub.execute_input": "2021-06-24T17:38:25.653785Z",
     "iopub.status.busy": "2021-06-24T17:38:25.652783Z",
     "iopub.status.idle": "2021-06-24T17:38:25.654785Z",
     "shell.execute_reply": "2021-06-24T17:38:25.654785Z"
    }
   },
   "outputs": [
    {
     "data": {
      "text/plain": [
       "AddressQueue /synced : [1, 2]"
      ]
     },
     "execution_count": 1,
     "metadata": {},
     "output_type": "execute_result"
    }
   ],
   "source": [
    "sc.server.msg_queues[\"/synced\"]"
   ]
  },
  {
   "cell_type": "markdown",
   "metadata": {},
   "source": [
    "You can see how many values were hold."
   ]
  },
  {
   "cell_type": "code",
   "execution_count": 49,
   "metadata": {
    "execution": {
     "iopub.execute_input": "2021-06-24T17:38:25.657783Z",
     "iopub.status.busy": "2021-06-24T17:38:25.657783Z",
     "iopub.status.idle": "2021-06-24T17:38:25.659784Z",
     "shell.execute_reply": "2021-06-24T17:38:25.659784Z"
    }
   },
   "outputs": [
    {
     "data": {
      "text/plain": [
       "2"
      ]
     },
     "execution_count": 1,
     "metadata": {},
     "output_type": "execute_result"
    }
   ],
   "source": [
    "sc.server.msg_queues[\"/synced\"].skips"
   ]
  },
  {
   "cell_type": "markdown",
   "metadata": {},
   "source": [
    "Notice that these hold messages will be skipped. "
   ]
  },
  {
   "cell_type": "code",
   "execution_count": 50,
   "metadata": {
    "execution": {
     "iopub.execute_input": "2021-06-24T17:38:25.662783Z",
     "iopub.status.busy": "2021-06-24T17:38:25.662783Z",
     "iopub.status.idle": "2021-06-24T17:38:25.677779Z",
     "shell.execute_reply": "2021-06-24T17:38:25.677779Z"
    }
   },
   "outputs": [
    {
     "name": "stderr",
     "output_type": "stream",
     "text": [
      "WARNING:sc3nb.osc.osc_communication:AddressQueue MasterControlReply.SYNCED: skipped value 1\n"
     ]
    },
    {
     "name": "stderr",
     "output_type": "stream",
     "text": [
      "WARNING:sc3nb.osc.osc_communication:AddressQueue MasterControlReply.SYNCED: skipped value 2\n"
     ]
    },
    {
     "name": "stderr",
     "output_type": "stream",
     "text": [
      "INFO:sc3nb.sc_objects.server:OSC msg received from scsynth: ('/synced', 3)\n"
     ]
    },
    {
     "name": "stderr",
     "output_type": "stream",
     "text": [
      "INFO:sc3nb.sc_objects.server:OSC msg received from scsynth: ('/n_go', 20036, 67108865, -1, 20038, 0)\n"
     ]
    },
    {
     "name": "stderr",
     "output_type": "stream",
     "text": [
      "INFO:sc3nb.sc_objects.server:OSC msg received from scsynth: ('/n_go', 20076, 67108865, -1, 20036, 0)\n"
     ]
    },
    {
     "data": {
      "text/plain": [
       "3"
      ]
     },
     "execution_count": 1,
     "metadata": {},
     "output_type": "execute_result"
    }
   ],
   "source": [
    "sc.server.msg(\"/sync\", 3, await_reply=True)"
   ]
  },
  {
   "cell_type": "code",
   "execution_count": 51,
   "metadata": {
    "execution": {
     "iopub.execute_input": "2021-06-24T17:38:25.680779Z",
     "iopub.status.busy": "2021-06-24T17:38:25.680779Z",
     "iopub.status.idle": "2021-06-24T17:38:25.683778Z",
     "shell.execute_reply": "2021-06-24T17:38:25.683778Z"
    }
   },
   "outputs": [
    {
     "data": {
      "text/plain": [
       "AddressQueue /synced : []"
      ]
     },
     "execution_count": 1,
     "metadata": {},
     "output_type": "execute_result"
    }
   ],
   "source": [
    "sc.server.msg_queues[\"/synced\"]"
   ]
  },
  {
   "cell_type": "markdown",
   "metadata": {},
   "source": [
    "Therefore you should retrieve them with `get` and set `skip=False` if you care for old values in the queue and dont want them to be skipped."
   ]
  },
  {
   "cell_type": "code",
   "execution_count": 52,
   "metadata": {
    "execution": {
     "iopub.execute_input": "2021-06-24T17:38:25.686778Z",
     "iopub.status.busy": "2021-06-24T17:38:25.686778Z",
     "iopub.status.idle": "2021-06-24T17:38:25.694780Z",
     "shell.execute_reply": "2021-06-24T17:38:25.694780Z"
    }
   },
   "outputs": [
    {
     "name": "stderr",
     "output_type": "stream",
     "text": [
      "INFO:sc3nb.sc_objects.server:OSC msg received from scsynth: ('/synced', 42)\n"
     ]
    },
    {
     "data": {
      "text/plain": [
       "42"
      ]
     },
     "execution_count": 1,
     "metadata": {},
     "output_type": "execute_result"
    }
   ],
   "source": [
    "sc.server.msg(\"/sync\", 42, await_reply=False)\n",
    "sc.server.msg_queues[\"/synced\"].get(skip=False)"
   ]
  },
  {
   "cell_type": "markdown",
   "metadata": {},
   "source": [
    "### Custom Message Queues\n",
    "\n",
    "If you want to get additional OSC Messages you need to create a custom MessageQueue"
   ]
  },
  {
   "cell_type": "code",
   "execution_count": 53,
   "metadata": {
    "execution": {
     "iopub.execute_input": "2021-06-24T17:38:25.697780Z",
     "iopub.status.busy": "2021-06-24T17:38:25.696780Z",
     "iopub.status.idle": "2021-06-24T17:38:25.698780Z",
     "shell.execute_reply": "2021-06-24T17:38:25.698780Z"
    }
   },
   "outputs": [],
   "source": [
    "from sc3nb.osc.osc_communication import MessageQueue"
   ]
  },
  {
   "cell_type": "code",
   "execution_count": 54,
   "metadata": {
    "execution": {
     "iopub.execute_input": "2021-06-24T17:38:25.702781Z",
     "iopub.status.busy": "2021-06-24T17:38:25.701782Z",
     "iopub.status.idle": "2021-06-24T17:38:25.705202Z",
     "shell.execute_reply": "2021-06-24T17:38:25.706215Z"
    }
   },
   "outputs": [
    {
     "name": "stdout",
     "output_type": "stream",
     "text": [
      "Help on class MessageQueue in module sc3nb.osc.osc_communication:\n",
      "\n",
      "class MessageQueue(MessageHandler)\n",
      " |  MessageQueue(address: str, preprocess: Union[Callable, NoneType] = None)\n",
      " |  \n",
      " |  Queue to retrieve OSC messages send to the corresponding OSC address\n",
      " |  \n",
      " |  Method resolution order:\n",
      " |      MessageQueue\n",
      " |      MessageHandler\n",
      " |      abc.ABC\n",
      " |      builtins.object\n",
      " |  \n",
      " |  Methods defined here:\n",
      " |  \n",
      " |  __init__(self, address: str, preprocess: Union[Callable, NoneType] = None)\n",
      " |      Create a new AddressQueue\n",
      " |      \n",
      " |      Parameters\n",
      " |      ----------\n",
      " |      address : str\n",
      " |          OSC address for this queue\n",
      " |      preprocess : function, optional\n",
      " |          function that will be applied to the value before they are enqueued\n",
      " |           (Default value = None)\n",
      " |  \n",
      " |  get(self, timeout: float = 5, skip: bool = True) -> Any\n",
      " |      Returns a value from the queue\n",
      " |      \n",
      " |      Parameters\n",
      " |      ----------\n",
      " |      timeout : int, optional\n",
      " |          Time in seconds that will be waited on the queue, by default 5\n",
      " |      skip : bool, optional\n",
      " |          If True the queue will skip as many values as `skips`, by default True\n",
      " |      \n",
      " |      Returns\n",
      " |      -------\n",
      " |      obj\n",
      " |          value from queue\n",
      " |      \n",
      " |      Raises\n",
      " |      ------\n",
      " |      Empty\n",
      " |          If the queue has no value\n",
      " |  \n",
      " |  put(self, address: str, *args) -> None\n",
      " |      Add a message to MessageQueue\n",
      " |      \n",
      " |      Parameters\n",
      " |      ----------\n",
      " |      address : str\n",
      " |          message address\n",
      " |  \n",
      " |  show(self) -> None\n",
      " |      Print the content of the queue.\n",
      " |  \n",
      " |  skipped(self)\n",
      " |      Skipp one queue value\n",
      " |  \n",
      " |  ----------------------------------------------------------------------\n",
      " |  Data descriptors defined here:\n",
      " |  \n",
      " |  map_values\n",
      " |      Values needed for dispatcher map call\n",
      " |      \n",
      " |      Returns\n",
      " |      -------\n",
      " |      tuple\n",
      " |          (OSC address pattern, callback function)\n",
      " |  \n",
      " |  size\n",
      " |      How many items are in this queue\n",
      " |  \n",
      " |  skips\n",
      " |      Counts how many times this queue was not synced\n",
      " |  \n",
      " |  ----------------------------------------------------------------------\n",
      " |  Data and other attributes defined here:\n",
      " |  \n",
      " |  __abstractmethods__ = frozenset()\n",
      " |  \n",
      " |  ----------------------------------------------------------------------\n",
      " |  Data descriptors inherited from MessageHandler:\n",
      " |  \n",
      " |  __dict__\n",
      " |      dictionary for instance variables (if defined)\n",
      " |  \n",
      " |  __weakref__\n",
      " |      list of weak references to the object (if defined)\n",
      "\n"
     ]
    },
    {
     "name": "stderr",
     "output_type": "stream",
     "text": [
      "INFO:sc3nb.sc_objects.server:OSC msg received from scsynth: ('/n_go', 20010, 67108865, -1, 20076, 0)\n"
     ]
    }
   ],
   "source": [
    "help(MessageQueue)"
   ]
  },
  {
   "cell_type": "code",
   "execution_count": 55,
   "metadata": {
    "execution": {
     "iopub.execute_input": "2021-06-24T17:38:25.708214Z",
     "iopub.status.busy": "2021-06-24T17:38:25.708214Z",
     "iopub.status.idle": "2021-06-24T17:38:25.710214Z",
     "shell.execute_reply": "2021-06-24T17:38:25.710214Z"
    }
   },
   "outputs": [],
   "source": [
    "mq = MessageQueue(\"/test\")"
   ]
  },
  {
   "cell_type": "code",
   "execution_count": 56,
   "metadata": {
    "execution": {
     "iopub.execute_input": "2021-06-24T17:38:25.713214Z",
     "iopub.status.busy": "2021-06-24T17:38:25.712216Z",
     "iopub.status.idle": "2021-06-24T17:38:25.715230Z",
     "shell.execute_reply": "2021-06-24T17:38:25.714219Z"
    }
   },
   "outputs": [],
   "source": [
    "sc.server.add_msg_queue(mq)"
   ]
  },
  {
   "cell_type": "code",
   "execution_count": 57,
   "metadata": {
    "execution": {
     "iopub.execute_input": "2021-06-24T17:38:25.718231Z",
     "iopub.status.busy": "2021-06-24T17:38:25.717228Z",
     "iopub.status.idle": "2021-06-24T17:38:25.721229Z",
     "shell.execute_reply": "2021-06-24T17:38:25.721229Z"
    }
   },
   "outputs": [
    {
     "name": "stderr",
     "output_type": "stream",
     "text": [
      "INFO:sc3nb.sc_objects.server:OSC msg received from sc3nb: ('/test', 'Hi!')\n"
     ]
    }
   ],
   "source": [
    "sc.server.msg(\"/test\", [\"Hi!\"], receiver=\"sc3nb\")"
   ]
  },
  {
   "cell_type": "code",
   "execution_count": 58,
   "metadata": {
    "execution": {
     "iopub.execute_input": "2021-06-24T17:38:25.724228Z",
     "iopub.status.busy": "2021-06-24T17:38:25.724228Z",
     "iopub.status.idle": "2021-06-24T17:38:25.726229Z",
     "shell.execute_reply": "2021-06-24T17:38:25.726229Z"
    }
   },
   "outputs": [
    {
     "data": {
      "text/plain": [
       "AddressQueue /test : ['Hi!']"
      ]
     },
     "execution_count": 1,
     "metadata": {},
     "output_type": "execute_result"
    }
   ],
   "source": [
    "sc.server.msg_queues[\"/test\"]"
   ]
  },
  {
   "cell_type": "code",
   "execution_count": 59,
   "metadata": {
    "execution": {
     "iopub.execute_input": "2021-06-24T17:38:25.729231Z",
     "iopub.status.busy": "2021-06-24T17:38:25.728228Z",
     "iopub.status.idle": "2021-06-24T17:38:25.733230Z",
     "shell.execute_reply": "2021-06-24T17:38:25.733230Z"
    }
   },
   "outputs": [
    {
     "name": "stderr",
     "output_type": "stream",
     "text": [
      "INFO:sc3nb.sc_objects.server:OSC msg received from sc3nb: ('/test', 'Hello!')\n"
     ]
    }
   ],
   "source": [
    "sc.server.msg(\"/test\", [\"Hello!\"], receiver=\"sc3nb\")"
   ]
  },
  {
   "cell_type": "code",
   "execution_count": 60,
   "metadata": {
    "execution": {
     "iopub.execute_input": "2021-06-24T17:38:25.736228Z",
     "iopub.status.busy": "2021-06-24T17:38:25.735228Z",
     "iopub.status.idle": "2021-06-24T17:38:25.738229Z",
     "shell.execute_reply": "2021-06-24T17:38:25.738229Z"
    }
   },
   "outputs": [
    {
     "data": {
      "text/plain": [
       "AddressQueue /test : ['Hi!', 'Hello!']"
      ]
     },
     "execution_count": 1,
     "metadata": {},
     "output_type": "execute_result"
    }
   ],
   "source": [
    "sc.server.msg_queues[\"/test\"]"
   ]
  },
  {
   "cell_type": "code",
   "execution_count": 61,
   "metadata": {
    "execution": {
     "iopub.execute_input": "2021-06-24T17:38:25.741229Z",
     "iopub.status.busy": "2021-06-24T17:38:25.741229Z",
     "iopub.status.idle": "2021-06-24T17:38:25.744230Z",
     "shell.execute_reply": "2021-06-24T17:38:25.744230Z"
    }
   },
   "outputs": [
    {
     "data": {
      "text/plain": [
       "'Hi!'"
      ]
     },
     "execution_count": 1,
     "metadata": {},
     "output_type": "execute_result"
    }
   ],
   "source": [
    "sc.server.msg_queues[\"/test\"].get()"
   ]
  },
  {
   "cell_type": "code",
   "execution_count": 62,
   "metadata": {
    "execution": {
     "iopub.execute_input": "2021-06-24T17:38:25.747229Z",
     "iopub.status.busy": "2021-06-24T17:38:25.747229Z",
     "iopub.status.idle": "2021-06-24T17:38:25.749230Z",
     "shell.execute_reply": "2021-06-24T17:38:25.749230Z"
    }
   },
   "outputs": [
    {
     "data": {
      "text/plain": [
       "'Hello!'"
      ]
     },
     "execution_count": 1,
     "metadata": {},
     "output_type": "execute_result"
    }
   ],
   "source": [
    "sc.server.msg_queues[\"/test\"].get()"
   ]
  },
  {
   "cell_type": "markdown",
   "metadata": {},
   "source": [
    "If you want to create a pair of an outgoing message that will receive a certain incomming message you need to specify it via the `out_addr` arugment of `add_msg_queue` or you could use the shortcut for this `add_msg_pairs`"
   ]
  },
  {
   "cell_type": "code",
   "execution_count": 63,
   "metadata": {
    "execution": {
     "iopub.execute_input": "2021-06-24T17:38:25.752230Z",
     "iopub.status.busy": "2021-06-24T17:38:25.752230Z",
     "iopub.status.idle": "2021-06-24T17:38:25.756230Z",
     "shell.execute_reply": "2021-06-24T17:38:25.756230Z"
    }
   },
   "outputs": [
    {
     "name": "stdout",
     "output_type": "stream",
     "text": [
      "Help on method add_msg_pairs in module sc3nb.osc.osc_communication:\n",
      "\n",
      "add_msg_pairs(msg_pairs: Dict[str, str]) -> None method of sc3nb.sc_objects.server.SCServer instance\n",
      "    Add the provided pairs for message receiving.\n",
      "    \n",
      "    Parameters\n",
      "    ----------\n",
      "    msg_pairs : dict[str, str], optional\n",
      "        dict containing user specified message pairs.\n",
      "        {msg_addr: reply_addr}\n",
      "\n"
     ]
    },
    {
     "name": "stderr",
     "output_type": "stream",
     "text": [
      "INFO:sc3nb.sc_objects.server:OSC msg received from scsynth: ('/n_go', 20100, 67108865, -1, 20010, 0)\n"
     ]
    },
    {
     "name": "stderr",
     "output_type": "stream",
     "text": [
      "INFO:sc3nb.sc_objects.server:OSC msg received from scsynth: ('/n_go', 20090, 67108865, -1, 20100, 0)\n"
     ]
    }
   ],
   "source": [
    "help(sc.server.add_msg_pairs)"
   ]
  },
  {
   "cell_type": "code",
   "execution_count": 64,
   "metadata": {
    "execution": {
     "iopub.execute_input": "2021-06-24T17:38:25.759229Z",
     "iopub.status.busy": "2021-06-24T17:38:25.758229Z",
     "iopub.status.idle": "2021-06-24T17:38:25.761230Z",
     "shell.execute_reply": "2021-06-24T17:38:25.761230Z"
    }
   },
   "outputs": [],
   "source": [
    "sc.server.add_msg_pairs({\"/hi\": \"/hi.reply\"})"
   ]
  },
  {
   "cell_type": "markdown",
   "metadata": {},
   "source": [
    "Let's use `OSCdef` in sclang to send us replies."
   ]
  },
  {
   "cell_type": "code",
   "execution_count": 65,
   "metadata": {
    "execution": {
     "iopub.execute_input": "2021-06-24T17:38:25.764229Z",
     "iopub.status.busy": "2021-06-24T17:38:25.763228Z",
     "iopub.status.idle": "2021-06-24T17:38:25.768230Z",
     "shell.execute_reply": "2021-06-24T17:38:25.769229Z"
    }
   },
   "outputs": [
    {
     "name": "stdout",
     "output_type": "stream",
     "text": [
      "-> OSCdef(say_hi, /hi, nil, nil, nil)\n"
     ]
    }
   ],
   "source": [
    "%%sc\n",
    "OSCdef.newMatching(\"say_hi\", {|msg, time, addr, recvPort| addr.sendMsg(\"/hi.reply\", \"Hello there!\")}, '/hi');"
   ]
  },
  {
   "cell_type": "code",
   "execution_count": 66,
   "metadata": {
    "execution": {
     "iopub.execute_input": "2021-06-24T17:38:25.772231Z",
     "iopub.status.busy": "2021-06-24T17:38:25.771230Z",
     "iopub.status.idle": "2021-06-24T17:38:25.776229Z",
     "shell.execute_reply": "2021-06-24T17:38:25.776229Z"
    }
   },
   "outputs": [
    {
     "name": "stderr",
     "output_type": "stream",
     "text": [
      "INFO:sc3nb.sc_objects.server:OSC msg received from sclang: ('/hi.reply', 'Hello there!')\n"
     ]
    },
    {
     "data": {
      "text/plain": [
       "'Hello there!'"
      ]
     },
     "execution_count": 1,
     "metadata": {},
     "output_type": "execute_result"
    }
   ],
   "source": [
    "sc.server.msg(\"/hi\", receiver=\"sclang\")"
   ]
  },
  {
   "cell_type": "markdown",
   "metadata": {},
   "source": [
    "There is also the class MessageQueueCollection, which allows to create multiple MessageQueues for a multiple `address/subaddresses` combination"
   ]
  },
  {
   "cell_type": "code",
   "execution_count": 67,
   "metadata": {
    "execution": {
     "iopub.execute_input": "2021-06-24T17:38:25.779229Z",
     "iopub.status.busy": "2021-06-24T17:38:25.779229Z",
     "iopub.status.idle": "2021-06-24T17:38:25.780230Z",
     "shell.execute_reply": "2021-06-24T17:38:25.780230Z"
    }
   },
   "outputs": [],
   "source": [
    "from sc3nb.osc.osc_communication import MessageQueueCollection"
   ]
  },
  {
   "cell_type": "code",
   "execution_count": 68,
   "metadata": {
    "execution": {
     "iopub.execute_input": "2021-06-24T17:38:25.783750Z",
     "iopub.status.busy": "2021-06-24T17:38:25.781757Z",
     "iopub.status.idle": "2021-06-24T17:38:25.789750Z",
     "shell.execute_reply": "2021-06-24T17:38:25.789750Z"
    }
   },
   "outputs": [
    {
     "name": "stderr",
     "output_type": "stream",
     "text": [
      "INFO:sc3nb.sc_objects.server:OSC msg received from scsynth: ('/n_go', 20018, 67108865, -1, 20090, 0)\n"
     ]
    },
    {
     "name": "stderr",
     "output_type": "stream",
     "text": [
      "INFO:sc3nb.sc_objects.server:OSC msg received from scsynth: ('/n_go', 20041, 67108865, -1, 20018, 0)\n"
     ]
    },
    {
     "name": "stdout",
     "output_type": "stream",
     "text": [
      "Help on class MessageQueueCollection in module sc3nb.osc.osc_communication:\n",
      "\n",
      "class MessageQueueCollection(MessageHandler)\n",
      " |  MessageQueueCollection(address: str, sub_addrs: Union[Sequence[str], NoneType] = None)\n",
      " |  \n",
      " |  A collection of MessageQueues that are all sent to one and the same first address.\n",
      " |  \n",
      " |  Method resolution order:\n",
      " |      MessageQueueCollection\n",
      " |      MessageHandler\n",
      " |      abc.ABC\n",
      " |      builtins.object\n",
      " |  \n",
      " |  Methods defined here:\n",
      " |  \n",
      " |  __contains__(self, item) -> bool\n",
      " |  \n",
      " |  __getitem__(self, key)\n",
      " |  \n",
      " |  __init__(self, address: str, sub_addrs: Union[Sequence[str], NoneType] = None)\n",
      " |      Create a collection of MessageQueues under the same first address\n",
      " |      \n",
      " |      Parameters\n",
      " |      ----------\n",
      " |      address : str\n",
      " |          first message address that is the same for all MessageQueues\n",
      " |      sub_addrs : Optional[Sequence[str]], optional\n",
      " |          secound message addresses with seperate queues, by default None\n",
      " |          Additional MessageQueues will be created on demand.\n",
      " |  \n",
      " |  put(self, address: str, *args) -> None\n",
      " |      Add a message to the corresponding MessageQueue\n",
      " |      \n",
      " |      Parameters\n",
      " |      ----------\n",
      " |      address : str\n",
      " |          first message address\n",
      " |  \n",
      " |  ----------------------------------------------------------------------\n",
      " |  Data descriptors defined here:\n",
      " |  \n",
      " |  map_values\n",
      " |      Values needed for dispatcher map call\n",
      " |      \n",
      " |      Returns\n",
      " |      -------\n",
      " |      tuple\n",
      " |          (OSC address pattern, callback function)\n",
      " |  \n",
      " |  ----------------------------------------------------------------------\n",
      " |  Data and other attributes defined here:\n",
      " |  \n",
      " |  __abstractmethods__ = frozenset()\n",
      " |  \n",
      " |  ----------------------------------------------------------------------\n",
      " |  Data descriptors inherited from MessageHandler:\n",
      " |  \n",
      " |  __dict__\n",
      " |      dictionary for instance variables (if defined)\n",
      " |  \n",
      " |  __weakref__\n",
      " |      list of weak references to the object (if defined)\n",
      "\n"
     ]
    }
   ],
   "source": [
    "help(MessageQueueCollection)"
   ]
  },
  {
   "cell_type": "code",
   "execution_count": 69,
   "metadata": {
    "execution": {
     "iopub.execute_input": "2021-06-24T17:38:25.792750Z",
     "iopub.status.busy": "2021-06-24T17:38:25.791750Z",
     "iopub.status.idle": "2021-06-24T17:38:25.793750Z",
     "shell.execute_reply": "2021-06-24T17:38:25.793750Z"
    }
   },
   "outputs": [],
   "source": [
    "mqc = MessageQueueCollection(\"/collect\", [\"/address1\", \"/address2\"])\n",
    "sc.server.add_msg_queue_collection(mqc)"
   ]
  },
  {
   "cell_type": "code",
   "execution_count": 70,
   "metadata": {
    "execution": {
     "iopub.execute_input": "2021-06-24T17:38:25.796751Z",
     "iopub.status.busy": "2021-06-24T17:38:25.795750Z",
     "iopub.status.idle": "2021-06-24T17:38:25.797751Z",
     "shell.execute_reply": "2021-06-24T17:38:25.797751Z"
    }
   },
   "outputs": [],
   "source": [
    "mqc = MessageQueueCollection(\"/auto_collect\")\n",
    "sc.server.add_msg_queue_collection(mqc)"
   ]
  },
  {
   "cell_type": "code",
   "execution_count": 71,
   "metadata": {
    "execution": {
     "iopub.execute_input": "2021-06-24T17:38:25.801750Z",
     "iopub.status.busy": "2021-06-24T17:38:25.800750Z",
     "iopub.status.idle": "2021-06-24T17:38:25.802750Z",
     "shell.execute_reply": "2021-06-24T17:38:25.802750Z"
    }
   },
   "outputs": [
    {
     "data": {
      "text/plain": [
       "{<MasterControlCommand.STATUS: '/status'>: <MasterControlReply.STATUS_REPLY: '/status.reply'>,\n",
       " <MasterControlCommand.SYNC: '/sync'>: <MasterControlReply.SYNCED: '/synced'>,\n",
       " <MasterControlCommand.VERSION: '/version'>: <MasterControlReply.VERSION_REPLY: '/version.reply'>,\n",
       " <SynthCommand.S_GET: '/s_get'>: <NodeCommand.SET: '/n_set'>,\n",
       " <SynthCommand.S_GETN: '/s_getn'>: <NodeCommand.SETN: '/n_setn'>,\n",
       " <GroupCommand.QUERY_TREE: '/g_queryTree'>: <GroupReply.QUERY_TREE_REPLY: '/g_queryTree.reply'>,\n",
       " <NodeCommand.QUERY: '/n_query'>: <NodeReply.INFO: '/n_info'>,\n",
       " <BufferCommand.QUERY: '/b_query'>: <BufferReply.INFO: '/b_info'>,\n",
       " <BufferCommand.GET: '/b_get'>: <BufferCommand.SET: '/b_set'>,\n",
       " <BufferCommand.GETN: '/b_getn'>: <BufferCommand.SETN: '/b_setn'>,\n",
       " <ControlBusCommand.GET: '/c_get'>: <ControlBusCommand.SET: '/c_set'>,\n",
       " <ControlBusCommand.GETN: '/c_getn'>: <ControlBusCommand.SETN: '/c_setn'>,\n",
       " <MasterControlCommand.QUIT: '/quit'>: '/done/quit',\n",
       " <MasterControlCommand.NOTIFY: '/notify'>: '/done/notify',\n",
       " <SynthDefinitionCommand.RECV: '/d_recv'>: '/done/d_recv',\n",
       " <SynthDefinitionCommand.LOAD: '/d_load'>: '/done/d_load',\n",
       " <SynthDefinitionCommand.LOAD_DIR: '/d_loadDir'>: '/done/d_loadDir',\n",
       " <BufferCommand.ALLOC: '/b_alloc'>: '/done/b_alloc',\n",
       " <BufferCommand.ALLOC_READ: '/b_allocRead'>: '/done/b_allocRead',\n",
       " <BufferCommand.ALLOC_READ_CHANNEL: '/b_allocReadChannel'>: '/done/b_allocReadChannel',\n",
       " <BufferCommand.READ: '/b_read'>: '/done/b_read',\n",
       " <BufferCommand.READ_CHANNEL: '/b_readChannel'>: '/done/b_readChannel',\n",
       " <BufferCommand.WRITE: '/b_write'>: '/done/b_write',\n",
       " <BufferCommand.FREE: '/b_free'>: '/done/b_free',\n",
       " <BufferCommand.ZERO: '/b_zero'>: '/done/b_zero',\n",
       " <BufferCommand.GEN: '/b_gen'>: '/done/b_gen',\n",
       " <BufferCommand.CLOSE: '/b_close'>: '/done/b_close',\n",
       " '/hi': '/hi.reply',\n",
       " '/address1': '/collect/address1',\n",
       " '/address2': '/collect/address2'}"
      ]
     },
     "execution_count": 1,
     "metadata": {},
     "output_type": "execute_result"
    }
   ],
   "source": [
    "sc.server.reply_addresses"
   ]
  },
  {
   "cell_type": "code",
   "execution_count": 72,
   "metadata": {
    "execution": {
     "iopub.execute_input": "2021-06-24T17:38:25.806750Z",
     "iopub.status.busy": "2021-06-24T17:38:25.805749Z",
     "iopub.status.idle": "2021-06-24T17:38:25.808750Z",
     "shell.execute_reply": "2021-06-24T17:38:25.808750Z"
    }
   },
   "outputs": [
    {
     "data": {
      "text/plain": [
       "{<MasterControlReply.STATUS_REPLY: '/status.reply'>: AddressQueue /status.reply : [],\n",
       " <MasterControlReply.SYNCED: '/synced'>: AddressQueue /synced : [],\n",
       " <MasterControlReply.VERSION_REPLY: '/version.reply'>: AddressQueue /version.reply : [],\n",
       " <NodeCommand.SET: '/n_set'>: AddressQueue /n_set : [],\n",
       " <NodeCommand.SETN: '/n_setn'>: AddressQueue /n_setn : [],\n",
       " <GroupReply.QUERY_TREE_REPLY: '/g_queryTree.reply'>: AddressQueue /g_queryTree.reply : [],\n",
       " <NodeReply.INFO: '/n_info'>: AddressQueue /n_info : [],\n",
       " <BufferReply.INFO: '/b_info'>: AddressQueue /b_info : [],\n",
       " <BufferCommand.SET: '/b_set'>: AddressQueue /b_set : [],\n",
       " <BufferCommand.SETN: '/b_setn'>: AddressQueue /b_setn : [],\n",
       " <ControlBusCommand.SET: '/c_set'>: AddressQueue /c_set : [],\n",
       " <ControlBusCommand.SETN: '/c_setn'>: AddressQueue /c_setn : [],\n",
       " <ReplyAddress.RETURN_ADDR: '/return'>: AddressQueue /return : [],\n",
       " '/done/quit': AddressQueue /quit : [],\n",
       " '/done/notify': AddressQueue /notify : [],\n",
       " '/done/d_recv': AddressQueue /d_recv : [],\n",
       " '/done/d_load': AddressQueue /d_load : [],\n",
       " '/done/d_loadDir': AddressQueue /d_loadDir : [],\n",
       " '/done/b_alloc': AddressQueue /b_alloc : [],\n",
       " '/done/b_allocRead': AddressQueue /b_allocRead : [],\n",
       " '/done/b_allocReadChannel': AddressQueue /b_allocReadChannel : [],\n",
       " '/done/b_read': AddressQueue /b_read : [],\n",
       " '/done/b_readChannel': AddressQueue /b_readChannel : [],\n",
       " '/done/b_write': AddressQueue /b_write : [],\n",
       " '/done/b_free': AddressQueue /b_free : [],\n",
       " '/done/b_zero': AddressQueue /b_zero : [],\n",
       " '/done/b_gen': AddressQueue /b_gen : [],\n",
       " '/done/b_close': AddressQueue /b_close : [],\n",
       " '/test': AddressQueue /test : [],\n",
       " '/hi.reply': AddressQueue /hi.reply : [],\n",
       " '/collect/address1': AddressQueue /address1 : [],\n",
       " '/collect/address2': AddressQueue /address2 : []}"
      ]
     },
     "execution_count": 1,
     "metadata": {},
     "output_type": "execute_result"
    }
   ],
   "source": [
    "sc.server.msg_queues"
   ]
  },
  {
   "cell_type": "code",
   "execution_count": 73,
   "metadata": {
    "execution": {
     "iopub.execute_input": "2021-06-24T17:38:25.811751Z",
     "iopub.status.busy": "2021-06-24T17:38:25.810752Z",
     "iopub.status.idle": "2021-06-24T17:38:25.816751Z",
     "shell.execute_reply": "2021-06-24T17:38:25.816751Z"
    }
   },
   "outputs": [
    {
     "name": "stdout",
     "output_type": "stream",
     "text": [
      "-> OSCdef(ab, /address1, nil, nil, nil)\n"
     ]
    }
   ],
   "source": [
    "%%scv\n",
    "OSCdef.newMatching(\"ab\", {|msg, time, addr, recvPort| addr.sendMsg('/collect', '/address1', \"toast\".scramble)}, '/address1');"
   ]
  },
  {
   "cell_type": "code",
   "execution_count": 74,
   "metadata": {
    "execution": {
     "iopub.execute_input": "2021-06-24T17:38:25.819751Z",
     "iopub.status.busy": "2021-06-24T17:38:25.818750Z",
     "iopub.status.idle": "2021-06-24T17:38:25.823751Z",
     "shell.execute_reply": "2021-06-24T17:38:25.823751Z"
    }
   },
   "outputs": [
    {
     "name": "stdout",
     "output_type": "stream",
     "text": [
      "-> OSCdef(ab, /address2, nil, nil, nil)\n"
     ]
    }
   ],
   "source": [
    "%%scv\n",
    "OSCdef.newMatching(\"ab\", {|msg, time, addr, recvPort| addr.sendMsg('/collect', '/address2', \"sonification\".scramble)}, '/address2');"
   ]
  },
  {
   "cell_type": "code",
   "execution_count": 75,
   "metadata": {
    "execution": {
     "iopub.execute_input": "2021-06-24T17:38:25.827753Z",
     "iopub.status.busy": "2021-06-24T17:38:25.826750Z",
     "iopub.status.idle": "2021-06-24T17:38:25.831753Z",
     "shell.execute_reply": "2021-06-24T17:38:25.832752Z"
    }
   },
   "outputs": [
    {
     "name": "stderr",
     "output_type": "stream",
     "text": [
      "INFO:sc3nb.sc_objects.server:OSC msg received from sclang: ('/collect', '/address1', 'tsato')\n"
     ]
    },
    {
     "data": {
      "text/plain": [
       "'tsato'"
      ]
     },
     "execution_count": 1,
     "metadata": {},
     "output_type": "execute_result"
    }
   ],
   "source": [
    "sc.server.msg(\"/address1\", receiver=\"sclang\")"
   ]
  },
  {
   "cell_type": "code",
   "execution_count": 76,
   "metadata": {
    "execution": {
     "iopub.execute_input": "2021-06-24T17:38:25.835751Z",
     "iopub.status.busy": "2021-06-24T17:38:25.835751Z",
     "iopub.status.idle": "2021-06-24T17:38:25.840750Z",
     "shell.execute_reply": "2021-06-24T17:38:25.840750Z"
    }
   },
   "outputs": [
    {
     "name": "stderr",
     "output_type": "stream",
     "text": [
      "INFO:sc3nb.sc_objects.server:OSC msg received from sclang: ('/collect', '/address2', 'tanoiicoinfs')\n"
     ]
    },
    {
     "data": {
      "text/plain": [
       "'tanoiicoinfs'"
      ]
     },
     "execution_count": 1,
     "metadata": {},
     "output_type": "execute_result"
    }
   ],
   "source": [
    "sc.server.msg(\"/address2\", receiver=\"sclang\")"
   ]
  },
  {
   "cell_type": "markdown",
   "metadata": {},
   "source": [
    "## Examples "
   ]
  },
  {
   "cell_type": "markdown",
   "metadata": {},
   "source": [
    "### Creating an OSC responder and msg to sclang for synthesis"
   ]
  },
  {
   "cell_type": "code",
   "execution_count": 77,
   "metadata": {
    "execution": {
     "iopub.execute_input": "2021-06-24T17:38:25.843750Z",
     "iopub.status.busy": "2021-06-24T17:38:25.843750Z",
     "iopub.status.idle": "2021-06-24T17:38:25.848751Z",
     "shell.execute_reply": "2021-06-24T17:38:25.848751Z"
    }
   },
   "outputs": [
    {
     "name": "stdout",
     "output_type": "stream",
     "text": [
      "-> OSCdef(dinger, /ding, nil, nil, nil)\n"
     ]
    }
   ],
   "source": [
    "%%sc\n",
    "OSCdef(\\dinger, { | msg, time, addr, recvPort |\n",
    "    var freq = msg[2];\n",
    "    {Pulse.ar(freq, 0.04, 0.3)!2 * EnvGen.ar(Env.perc, doneAction:2)}.play()\n",
    "}, '/ding')"
   ]
  },
  {
   "cell_type": "code",
   "execution_count": 78,
   "metadata": {
    "execution": {
     "iopub.execute_input": "2021-06-24T17:38:25.852752Z",
     "iopub.status.busy": "2021-06-24T17:38:25.852752Z",
     "iopub.status.idle": "2021-06-24T17:38:25.855751Z",
     "shell.execute_reply": "2021-06-24T17:38:25.855751Z"
    }
   },
   "outputs": [
    {
     "name": "stderr",
     "output_type": "stream",
     "text": [
      "INFO:sc3nb.osc.osc_communication:send to sclang : <Bundler {0.0: [<OSCMessage(\"/ding\", ['freq', 1000])>, <OSCMessage(\"/ding\", ['freq', 995])>, <OSCMessage(\"/ding\", ['freq', 990])>, <OSCMessage(\"/ding\", ['freq', 985])>, <OSCMessage(\"/ding\", ['freq', 980])>]}> contents size 5 \n"
     ]
    }
   ],
   "source": [
    "with scn.Bundler(receiver=sc.lang.addr):\n",
    "    for i in range(5):\n",
    "        sc.server.msg(\"/ding\", [\"freq\", 1000-5*i], bundle=True)"
   ]
  },
  {
   "cell_type": "code",
   "execution_count": 79,
   "metadata": {
    "execution": {
     "iopub.execute_input": "2021-06-24T17:38:25.858751Z",
     "iopub.status.busy": "2021-06-24T17:38:25.858751Z",
     "iopub.status.idle": "2021-06-24T17:38:25.861750Z",
     "shell.execute_reply": "2021-06-24T17:38:25.861750Z"
    }
   },
   "outputs": [],
   "source": [
    "for i in range(5):\n",
    "    sc.server.msg(\"/ding\", [\"freq\", 1000-5*i], receiver=sc.lang.addr)"
   ]
  },
  {
   "cell_type": "code",
   "execution_count": 80,
   "metadata": {
    "execution": {
     "iopub.execute_input": "2021-06-24T17:38:25.867751Z",
     "iopub.status.busy": "2021-06-24T17:38:25.866752Z",
     "iopub.status.idle": "2021-06-24T17:38:25.876754Z",
     "shell.execute_reply": "2021-06-24T17:38:25.877752Z"
    }
   },
   "outputs": [
    {
     "name": "stderr",
     "output_type": "stream",
     "text": [
      "INFO:sc3nb.sc_objects.server:OSC msg received from scsynth: ('/n_go', 1001, 1, -1, 1000, 0)\n"
     ]
    },
    {
     "name": "stderr",
     "output_type": "stream",
     "text": [
      "INFO:sc3nb.sc_objects.server:OSC msg received from scsynth: ('/n_go', 1002, 1, -1, 1001, 0)\n"
     ]
    },
    {
     "name": "stdout",
     "output_type": "stream",
     "text": [
      "-> OSCdef\n"
     ]
    },
    {
     "name": "stderr",
     "output_type": "stream",
     "text": [
      "INFO:sc3nb.sc_objects.server:OSC msg received from scsynth: ('/n_go', 1003, 1, -1, 1002, 0)\n"
     ]
    },
    {
     "name": "stderr",
     "output_type": "stream",
     "text": [
      "INFO:sc3nb.sc_objects.server:OSC msg received from scsynth: ('/n_go', 1004, 1, -1, 1003, 0)\n"
     ]
    },
    {
     "name": "stderr",
     "output_type": "stream",
     "text": [
      "INFO:sc3nb.sc_objects.server:OSC msg received from scsynth: ('/n_go', 1005, 1, -1, 1004, 0)\n"
     ]
    },
    {
     "name": "stderr",
     "output_type": "stream",
     "text": [
      "INFO:sc3nb.sc_objects.server:OSC msg received from scsynth: ('/n_go', 20063, 67108865, -1, 20041, 0)\n"
     ]
    }
   ],
   "source": [
    "%scv OSCdef.freeAll()"
   ]
  },
  {
   "cell_type": "code",
   "execution_count": 81,
   "metadata": {
    "execution": {
     "iopub.execute_input": "2021-06-24T17:38:25.882751Z",
     "iopub.status.busy": "2021-06-24T17:38:25.881750Z",
     "iopub.status.idle": "2021-06-24T17:38:26.935242Z",
     "shell.execute_reply": "2021-06-24T17:38:26.935242Z"
    }
   },
   "outputs": [
    {
     "name": "stderr",
     "output_type": "stream",
     "text": [
      "INFO:sc3nb.sc_objects.server:OSC msg received from scsynth: ('/n_go', 1008, 1, -1, 1007, 0)\n"
     ]
    },
    {
     "name": "stderr",
     "output_type": "stream",
     "text": [
      "INFO:sc3nb.sc_objects.server:OSC msg received from scsynth: ('/n_go', 1009, 1, -1, 1008, 0)\n"
     ]
    },
    {
     "name": "stderr",
     "output_type": "stream",
     "text": [
      "INFO:sc3nb.sc_objects.server:OSC msg received from scsynth: ('/n_go', 20049, 67108865, -1, 20063, 0)\n"
     ]
    },
    {
     "name": "stderr",
     "output_type": "stream",
     "text": [
      "INFO:sc3nb.sc_objects.server:OSC msg received from scsynth: ('/done', '/quit')\n"
     ]
    }
   ],
   "source": [
    "sc.exit()"
   ]
  }
 ],
 "metadata": {
  "hide_input": false,
  "language_info": {
   "codemirror_mode": {
    "name": "ipython",
    "version": 3
   },
   "file_extension": ".py",
   "mimetype": "text/x-python",
   "name": "python",
   "nbconvert_exporter": "python",
   "pygments_lexer": "ipython3",
   "version": "3.7.10"
  },
  "nbsphinx": {
   "allow_errors": true
  },
  "toc": {
   "base_numbering": 1,
   "nav_menu": {},
   "number_sections": true,
   "sideBar": true,
   "skip_h1_title": true,
   "title_cell": "Table of Contents",
   "title_sidebar": "Contents",
   "toc_cell": false,
   "toc_position": {},
   "toc_section_display": true,
   "toc_window_display": false
  }
 },
 "nbformat": 4,
 "nbformat_minor": 4
}
