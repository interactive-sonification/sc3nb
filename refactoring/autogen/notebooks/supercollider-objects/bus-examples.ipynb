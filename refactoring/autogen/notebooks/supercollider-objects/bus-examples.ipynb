{
 "cells": [
  {
   "cell_type": "markdown",
   "metadata": {},
   "source": [
    "# Bus"
   ]
  },
  {
   "cell_type": "code",
   "execution_count": 1,
   "metadata": {
    "execution": {
     "iopub.execute_input": "2021-06-20T18:36:06.617304Z",
     "iopub.status.busy": "2021-06-20T18:36:06.617304Z",
     "iopub.status.idle": "2021-06-20T18:36:06.798254Z",
     "shell.execute_reply": "2021-06-20T18:36:06.798254Z"
    }
   },
   "outputs": [],
   "source": [
    "import sc3nb as scn"
   ]
  },
  {
   "cell_type": "code",
   "execution_count": 2,
   "metadata": {
    "execution": {
     "iopub.execute_input": "2021-06-20T18:36:06.806253Z",
     "iopub.status.busy": "2021-06-20T18:36:06.806253Z",
     "iopub.status.idle": "2021-06-20T18:36:10.259220Z",
     "shell.execute_reply": "2021-06-20T18:36:10.259220Z"
    }
   },
   "outputs": [
    {
     "data": {
      "application/javascript": [
       "if (typeof Jupyter !== 'undefined') {\n",
       "                        Jupyter.keyboard_manager.command_shortcuts.add_shortcut(\n",
       "                        'Ctrl-.', {\n",
       "                        help : 'Free all nodes on SC server',\n",
       "                        help_index : 'zz',\n",
       "                        handler : function (event) {\n",
       "                            IPython.notebook.kernel.execute(\n",
       "                                \"import sc3nb; sc3nb.SC.get_default().server.free_all(root=True)\"\n",
       "                            )\n",
       "                            return true;}\n",
       "                        });\n",
       "                    }"
      ],
      "text/plain": [
       "<IPython.core.display.Javascript object>"
      ]
     },
     "metadata": {},
     "output_type": "display_data"
    },
    {
     "name": "stdout",
     "output_type": "stream",
     "text": [
      "Starting sclang process...\n"
     ]
    },
    {
     "name": "stdout",
     "output_type": "stream",
     "text": [
      "Done.\n",
      "Registering OSC /return callback in sclang...\n",
      "Done.\n",
      "Loading default SynthDescs\n",
      "Done.\n",
      "Booting SuperCollider Server...\n"
     ]
    },
    {
     "name": "stdout",
     "output_type": "stream",
     "text": [
      "Done.\n"
     ]
    }
   ],
   "source": [
    "sc = scn.startup()"
   ]
  },
  {
   "cell_type": "markdown",
   "metadata": {},
   "source": [
    "## Using a Control Bus"
   ]
  },
  {
   "cell_type": "code",
   "execution_count": 3,
   "metadata": {
    "execution": {
     "iopub.execute_input": "2021-06-20T18:36:10.263214Z",
     "iopub.status.busy": "2021-06-20T18:36:10.262215Z",
     "iopub.status.idle": "2021-06-20T18:36:10.266214Z",
     "shell.execute_reply": "2021-06-20T18:36:10.265215Z"
    }
   },
   "outputs": [
    {
     "data": {
      "text/plain": [
       "Bus(control, ids=[512])"
      ]
     },
     "execution_count": 1,
     "metadata": {},
     "output_type": "execute_result"
    }
   ],
   "source": [
    "bus = scn.Bus('control')\n",
    "bus"
   ]
  },
  {
   "cell_type": "code",
   "execution_count": 4,
   "metadata": {
    "execution": {
     "iopub.execute_input": "2021-06-20T18:36:10.268213Z",
     "iopub.status.busy": "2021-06-20T18:36:10.268213Z",
     "iopub.status.idle": "2021-06-20T18:36:10.279215Z",
     "shell.execute_reply": "2021-06-20T18:36:10.279215Z"
    }
   },
   "outputs": [
    {
     "data": {
      "text/plain": [
       "0.0"
      ]
     },
     "execution_count": 1,
     "metadata": {},
     "output_type": "execute_result"
    }
   ],
   "source": [
    "bus.get()"
   ]
  },
  {
   "cell_type": "code",
   "execution_count": 5,
   "metadata": {
    "execution": {
     "iopub.execute_input": "2021-06-20T18:36:10.282215Z",
     "iopub.status.busy": "2021-06-20T18:36:10.281215Z",
     "iopub.status.idle": "2021-06-20T18:36:10.292216Z",
     "shell.execute_reply": "2021-06-20T18:36:10.292216Z"
    }
   },
   "outputs": [],
   "source": [
    "syn = scn.Synth(\"s2\")"
   ]
  },
  {
   "cell_type": "markdown",
   "metadata": {},
   "source": [
    "map the frequency of the synth to the bus value"
   ]
  },
  {
   "cell_type": "code",
   "execution_count": 6,
   "metadata": {
    "execution": {
     "iopub.execute_input": "2021-06-20T18:36:10.296213Z",
     "iopub.status.busy": "2021-06-20T18:36:10.295215Z",
     "iopub.status.idle": "2021-06-20T18:36:10.298215Z",
     "shell.execute_reply": "2021-06-20T18:36:10.298215Z"
    }
   },
   "outputs": [
    {
     "data": {
      "text/plain": [
       "<Synth(20001) 's2' s {}>"
      ]
     },
     "execution_count": 1,
     "metadata": {},
     "output_type": "execute_result"
    }
   ],
   "source": [
    "syn.map(\"freq\", bus)"
   ]
  },
  {
   "cell_type": "code",
   "execution_count": 7,
   "metadata": {
    "execution": {
     "iopub.execute_input": "2021-06-20T18:36:10.301215Z",
     "iopub.status.busy": "2021-06-20T18:36:10.301215Z",
     "iopub.status.idle": "2021-06-20T18:36:10.303214Z",
     "shell.execute_reply": "2021-06-20T18:36:10.303214Z"
    }
   },
   "outputs": [
    {
     "data": {
      "text/plain": [
       "Bus(control, ids=[512])"
      ]
     },
     "execution_count": 1,
     "metadata": {},
     "output_type": "execute_result"
    }
   ],
   "source": [
    "bus.set(120) # changes synths frequency"
   ]
  },
  {
   "cell_type": "code",
   "execution_count": 8,
   "metadata": {
    "execution": {
     "iopub.execute_input": "2021-06-20T18:36:10.307218Z",
     "iopub.status.busy": "2021-06-20T18:36:10.306215Z",
     "iopub.status.idle": "2021-06-20T18:36:10.310214Z",
     "shell.execute_reply": "2021-06-20T18:36:10.310214Z"
    }
   },
   "outputs": [
    {
     "data": {
      "text/plain": [
       "Bus(control, ids=[512])"
      ]
     },
     "execution_count": 1,
     "metadata": {},
     "output_type": "execute_result"
    }
   ],
   "source": [
    "bus.set(440)"
   ]
  },
  {
   "cell_type": "markdown",
   "metadata": {},
   "source": [
    "Set the frequency value to remove the mapping"
   ]
  },
  {
   "cell_type": "code",
   "execution_count": 9,
   "metadata": {
    "execution": {
     "iopub.execute_input": "2021-06-20T18:36:10.313216Z",
     "iopub.status.busy": "2021-06-20T18:36:10.312215Z",
     "iopub.status.idle": "2021-06-20T18:36:10.315215Z",
     "shell.execute_reply": "2021-06-20T18:36:10.315215Z"
    }
   },
   "outputs": [
    {
     "data": {
      "text/plain": [
       "<Synth(20001) 's2' ~ {'freq': 220}>"
      ]
     },
     "execution_count": 1,
     "metadata": {},
     "output_type": "execute_result"
    }
   ],
   "source": [
    "syn.set(\"freq\", 220)"
   ]
  },
  {
   "cell_type": "code",
   "execution_count": 10,
   "metadata": {
    "execution": {
     "iopub.execute_input": "2021-06-20T18:36:10.318213Z",
     "iopub.status.busy": "2021-06-20T18:36:10.318213Z",
     "iopub.status.idle": "2021-06-20T18:36:10.320214Z",
     "shell.execute_reply": "2021-06-20T18:36:10.320214Z"
    }
   },
   "outputs": [
    {
     "data": {
      "text/plain": [
       "Bus(control, ids=[512])"
      ]
     },
     "execution_count": 1,
     "metadata": {},
     "output_type": "execute_result"
    }
   ],
   "source": [
    "bus.set(440)  # no change"
   ]
  },
  {
   "cell_type": "code",
   "execution_count": 11,
   "metadata": {
    "execution": {
     "iopub.execute_input": "2021-06-20T18:36:10.323213Z",
     "iopub.status.busy": "2021-06-20T18:36:10.323213Z",
     "iopub.status.idle": "2021-06-20T18:36:10.325215Z",
     "shell.execute_reply": "2021-06-20T18:36:10.325215Z"
    }
   },
   "outputs": [
    {
     "data": {
      "text/plain": [
       "<Synth(20001) 's2' f {'freq': 220}>"
      ]
     },
     "execution_count": 1,
     "metadata": {},
     "output_type": "execute_result"
    }
   ],
   "source": [
    "syn.free()"
   ]
  },
  {
   "cell_type": "markdown",
   "metadata": {},
   "source": [
    "Free the bus to mark the bus id as available again"
   ]
  },
  {
   "cell_type": "code",
   "execution_count": 12,
   "metadata": {
    "execution": {
     "iopub.execute_input": "2021-06-20T18:36:10.328215Z",
     "iopub.status.busy": "2021-06-20T18:36:10.327214Z",
     "iopub.status.idle": "2021-06-20T18:36:10.329213Z",
     "shell.execute_reply": "2021-06-20T18:36:10.329213Z"
    }
   },
   "outputs": [],
   "source": [
    "bus.free()"
   ]
  },
  {
   "cell_type": "markdown",
   "metadata": {},
   "source": [
    "## Use multiple Control Buses"
   ]
  },
  {
   "cell_type": "code",
   "execution_count": 13,
   "metadata": {
    "execution": {
     "iopub.execute_input": "2021-06-20T18:36:10.332215Z",
     "iopub.status.busy": "2021-06-20T18:36:10.332215Z",
     "iopub.status.idle": "2021-06-20T18:36:10.348213Z",
     "shell.execute_reply": "2021-06-20T18:36:10.348213Z"
    }
   },
   "outputs": [],
   "source": [
    "synth_name = scn.SynthDef(\"busMulti\", \"\"\"{ |out, freqs=#[200, 400], rates=#[1, 2] |\n",
    "    Out.ar(out, Splay.ar(SinOsc.ar(freqs) * Decay2.ar(Impulse.ar(rates), 0.001, 0.1)) * 0.5);\n",
    "}\"\"\").add()"
   ]
  },
  {
   "cell_type": "code",
   "execution_count": 14,
   "metadata": {
    "execution": {
     "iopub.execute_input": "2021-06-20T18:36:10.352215Z",
     "iopub.status.busy": "2021-06-20T18:36:10.351213Z",
     "iopub.status.idle": "2021-06-20T18:36:10.353216Z",
     "shell.execute_reply": "2021-06-20T18:36:10.353216Z"
    }
   },
   "outputs": [
    {
     "data": {
      "text/plain": [
       "Bus(control, ids=[512, 513])"
      ]
     },
     "execution_count": 1,
     "metadata": {},
     "output_type": "execute_result"
    }
   ],
   "source": [
    "buses = scn.Bus(\"control\", 2)\n",
    "buses"
   ]
  },
  {
   "cell_type": "code",
   "execution_count": 15,
   "metadata": {
    "execution": {
     "iopub.execute_input": "2021-06-20T18:36:10.356217Z",
     "iopub.status.busy": "2021-06-20T18:36:10.356217Z",
     "iopub.status.idle": "2021-06-20T18:36:10.368213Z",
     "shell.execute_reply": "2021-06-20T18:36:10.368213Z"
    }
   },
   "outputs": [
    {
     "data": {
      "text/plain": [
       "[0.0, 0.0]"
      ]
     },
     "execution_count": 1,
     "metadata": {},
     "output_type": "execute_result"
    }
   ],
   "source": [
    "buses.get()"
   ]
  },
  {
   "cell_type": "code",
   "execution_count": 16,
   "metadata": {
    "execution": {
     "iopub.execute_input": "2021-06-20T18:36:10.372215Z",
     "iopub.status.busy": "2021-06-20T18:36:10.372215Z",
     "iopub.status.idle": "2021-06-20T18:36:10.382215Z",
     "shell.execute_reply": "2021-06-20T18:36:10.382215Z"
    }
   },
   "outputs": [],
   "source": [
    "syn = scn.Synth(synth_name)"
   ]
  },
  {
   "cell_type": "code",
   "execution_count": 17,
   "metadata": {
    "execution": {
     "iopub.execute_input": "2021-06-20T18:36:10.386216Z",
     "iopub.status.busy": "2021-06-20T18:36:10.385214Z",
     "iopub.status.idle": "2021-06-20T18:36:10.389216Z",
     "shell.execute_reply": "2021-06-20T18:36:10.389216Z"
    }
   },
   "outputs": [
    {
     "data": {
      "text/plain": [
       "<Synth(20002) 'busMulti' s {}>"
      ]
     },
     "execution_count": 1,
     "metadata": {},
     "output_type": "execute_result"
    }
   ],
   "source": [
    "syn.map(\"rates\", buses)"
   ]
  },
  {
   "cell_type": "code",
   "execution_count": 18,
   "metadata": {
    "execution": {
     "iopub.execute_input": "2021-06-20T18:36:10.393215Z",
     "iopub.status.busy": "2021-06-20T18:36:10.392216Z",
     "iopub.status.idle": "2021-06-20T18:36:10.395214Z",
     "shell.execute_reply": "2021-06-20T18:36:10.395214Z"
    }
   },
   "outputs": [
    {
     "data": {
      "text/plain": [
       "Bus(control, ids=[512, 513])"
      ]
     },
     "execution_count": 1,
     "metadata": {},
     "output_type": "execute_result"
    }
   ],
   "source": [
    "buses.set(1, 1)"
   ]
  },
  {
   "cell_type": "code",
   "execution_count": 19,
   "metadata": {
    "execution": {
     "iopub.execute_input": "2021-06-20T18:36:10.399213Z",
     "iopub.status.busy": "2021-06-20T18:36:10.398215Z",
     "iopub.status.idle": "2021-06-20T18:36:10.401213Z",
     "shell.execute_reply": "2021-06-20T18:36:10.401213Z"
    }
   },
   "outputs": [
    {
     "data": {
      "text/plain": [
       "Bus(control, ids=[512, 513])"
      ]
     },
     "execution_count": 1,
     "metadata": {},
     "output_type": "execute_result"
    }
   ],
   "source": [
    "buses.set(1, 2)"
   ]
  },
  {
   "cell_type": "code",
   "execution_count": 20,
   "metadata": {
    "execution": {
     "iopub.execute_input": "2021-06-20T18:36:10.404214Z",
     "iopub.status.busy": "2021-06-20T18:36:10.403213Z",
     "iopub.status.idle": "2021-06-20T18:36:10.409214Z",
     "shell.execute_reply": "2021-06-20T18:36:10.409214Z"
    }
   },
   "outputs": [
    {
     "data": {
      "text/plain": [
       "[1.0, 2.0]"
      ]
     },
     "execution_count": 1,
     "metadata": {},
     "output_type": "execute_result"
    }
   ],
   "source": [
    "buses.get()"
   ]
  },
  {
   "cell_type": "code",
   "execution_count": 21,
   "metadata": {
    "execution": {
     "iopub.execute_input": "2021-06-20T18:36:10.412215Z",
     "iopub.status.busy": "2021-06-20T18:36:10.412215Z",
     "iopub.status.idle": "2021-06-20T18:36:10.415214Z",
     "shell.execute_reply": "2021-06-20T18:36:10.415214Z"
    }
   },
   "outputs": [
    {
     "data": {
      "text/plain": [
       "<Synth(20002) 'busMulti' f {}>"
      ]
     },
     "execution_count": 1,
     "metadata": {},
     "output_type": "execute_result"
    }
   ],
   "source": [
    "syn.free()"
   ]
  },
  {
   "cell_type": "code",
   "execution_count": 22,
   "metadata": {
    "execution": {
     "iopub.execute_input": "2021-06-20T18:36:10.418213Z",
     "iopub.status.busy": "2021-06-20T18:36:10.417213Z",
     "iopub.status.idle": "2021-06-20T18:36:10.419247Z",
     "shell.execute_reply": "2021-06-20T18:36:10.419247Z"
    }
   },
   "outputs": [],
   "source": [
    "buses.free()"
   ]
  },
  {
   "cell_type": "code",
   "execution_count": 23,
   "metadata": {
    "execution": {
     "iopub.execute_input": "2021-06-20T18:36:10.422215Z",
     "iopub.status.busy": "2021-06-20T18:36:10.421215Z",
     "iopub.status.idle": "2021-06-20T18:36:10.478213Z",
     "shell.execute_reply": "2021-06-20T18:36:10.478213Z"
    }
   },
   "outputs": [],
   "source": [
    "sc.server.free_all()"
   ]
  },
  {
   "cell_type": "code",
   "execution_count": 24,
   "metadata": {
    "execution": {
     "iopub.execute_input": "2021-06-20T18:36:10.481214Z",
     "iopub.status.busy": "2021-06-20T18:36:10.481214Z",
     "iopub.status.idle": "2021-06-20T18:36:11.640033Z",
     "shell.execute_reply": "2021-06-20T18:36:11.640033Z"
    }
   },
   "outputs": [],
   "source": [
    "sc.exit()"
   ]
  },
  {
   "cell_type": "code",
   "execution_count": null,
   "metadata": {},
   "outputs": [],
   "source": []
  }
 ],
 "metadata": {
  "language_info": {
   "codemirror_mode": {
    "name": "ipython",
    "version": 3
   },
   "file_extension": ".py",
   "mimetype": "text/x-python",
   "name": "python",
   "nbconvert_exporter": "python",
   "pygments_lexer": "ipython3",
   "version": "3.7.10"
  }
 },
 "nbformat": 4,
 "nbformat_minor": 4
}
