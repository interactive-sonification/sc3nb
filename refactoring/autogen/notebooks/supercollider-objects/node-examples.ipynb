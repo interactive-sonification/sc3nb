{
 "cells": [
  {
   "cell_type": "code",
   "execution_count": 1,
   "metadata": {
    "execution": {
     "iopub.execute_input": "2021-06-10T16:08:31.027177Z",
     "iopub.status.busy": "2021-06-10T16:08:31.026167Z",
     "iopub.status.idle": "2021-06-10T16:08:31.421166Z",
     "shell.execute_reply": "2021-06-10T16:08:31.420167Z"
    }
   },
   "outputs": [],
   "source": [
    "# header / imports\n",
    "import time\n",
    "import numpy as np\n",
    "import matplotlib.pyplot as plt\n",
    "%matplotlib inline\n",
    "\n",
    "import sc3nb as scn\n",
    "from sc3nb import Synth"
   ]
  },
  {
   "cell_type": "code",
   "execution_count": 2,
   "metadata": {
    "execution": {
     "iopub.execute_input": "2021-06-10T16:08:31.426166Z",
     "iopub.status.busy": "2021-06-10T16:08:31.425166Z",
     "iopub.status.idle": "2021-06-10T16:08:34.560167Z",
     "shell.execute_reply": "2021-06-10T16:08:34.560167Z"
    }
   },
   "outputs": [
    {
     "data": {
      "application/javascript": [
       "if (typeof Jupyter !== 'undefined') {\n",
       "                        Jupyter.keyboard_manager.command_shortcuts.add_shortcut(\n",
       "                        'Ctrl-.', {\n",
       "                        help : 'Free all nodes on SC server',\n",
       "                        help_index : 'zz',\n",
       "                        handler : function (event) {\n",
       "                            IPython.notebook.kernel.execute(\n",
       "                                \"import sc3nb; sc3nb.SC.get_default().server.free_all(root=True)\"\n",
       "                            )\n",
       "                            return true;}\n",
       "                        });\n",
       "                    }"
      ],
      "text/plain": [
       "<IPython.core.display.Javascript object>"
      ]
     },
     "metadata": {},
     "output_type": "display_data"
    },
    {
     "name": "stdout",
     "output_type": "stream",
     "text": [
      "Starting sclang process...\n"
     ]
    },
    {
     "name": "stdout",
     "output_type": "stream",
     "text": [
      "Done.\n",
      "Registering OSC /return callback in sclang...\n",
      "Done.\n",
      "Loading default SynthDescs\n",
      "Done.\n",
      "Booting SuperCollider Server...\n"
     ]
    },
    {
     "name": "stdout",
     "output_type": "stream",
     "text": [
      "Done.\n"
     ]
    }
   ],
   "source": [
    "sc = scn.startup()"
   ]
  },
  {
   "cell_type": "markdown",
   "metadata": {},
   "source": [
    "# Nodes (Synth and Group)\n",
    "\n",
    "One of the most important objects in SuperCollider are Nodes."
   ]
  },
  {
   "cell_type": "markdown",
   "metadata": {},
   "source": [
    "To see all Nodes on the Server use"
   ]
  },
  {
   "cell_type": "code",
   "execution_count": 3,
   "metadata": {
    "execution": {
     "iopub.execute_input": "2021-06-10T16:08:34.563166Z",
     "iopub.status.busy": "2021-06-10T16:08:34.563166Z",
     "iopub.status.idle": "2021-06-10T16:08:34.582167Z",
     "shell.execute_reply": "2021-06-10T16:08:34.582167Z"
    }
   },
   "outputs": [
    {
     "name": "stdout",
     "output_type": "stream",
     "text": [
      "NODE TREE Group 0\n",
      "   469762049 group\n",
      "   402653185 group\n",
      "   335544321 group\n",
      "   268435457 group\n",
      "   201326593 group\n",
      "   134217729 group\n",
      "   67108865 group\n",
      "   1 group\n"
     ]
    }
   ],
   "source": [
    "sc.server.dump_tree()"
   ]
  },
  {
   "cell_type": "markdown",
   "metadata": {},
   "source": [
    "You can also get a python object represenation via"
   ]
  },
  {
   "cell_type": "code",
   "execution_count": 4,
   "metadata": {
    "execution": {
     "iopub.execute_input": "2021-06-10T16:08:34.585168Z",
     "iopub.status.busy": "2021-06-10T16:08:34.584166Z",
     "iopub.status.idle": "2021-06-10T16:08:34.609166Z",
     "shell.execute_reply": "2021-06-10T16:08:34.609166Z"
    }
   },
   "outputs": [
    {
     "data": {
      "text/plain": [
       "Group(0)  {} children=[\n",
       "  <Synth(-24) 's2'  {'freq': 1000.0, 'amp': 0.05000000074505806, 'num': 2.0, 'pan': 0.0, 'lg': 0.10000000149011612, 'gate': 1.0}>,\n",
       "  Group(469762049) ~ {} children=[],\n",
       "  Group(402653185) ~ {} children=[],\n",
       "  Group(335544321) ~ {} children=[],\n",
       "  Group(268435457) ~ {} children=[],\n",
       "  Group(201326593) ~ {} children=[],\n",
       "  Group(134217729) ~ {} children=[],\n",
       "  Group(67108865) ~ {} children=[],\n",
       "  Group(1) ~ {} children=[]]"
      ]
     },
     "execution_count": 1,
     "metadata": {},
     "output_type": "execute_result"
    }
   ],
   "source": [
    "root_node = sc.server.query_all_nodes()\n",
    "root_node"
   ]
  },
  {
   "cell_type": "code",
   "execution_count": 5,
   "metadata": {
    "execution": {
     "iopub.execute_input": "2021-06-10T16:08:34.612168Z",
     "iopub.status.busy": "2021-06-10T16:08:34.612168Z",
     "iopub.status.idle": "2021-06-10T16:08:34.615167Z",
     "shell.execute_reply": "2021-06-10T16:08:34.615167Z"
    }
   },
   "outputs": [
    {
     "data": {
      "text/plain": [
       "Group(1) ~ {} children=[]"
      ]
     },
     "execution_count": 1,
     "metadata": {},
     "output_type": "execute_result"
    }
   ],
   "source": [
    "root_node.children[-1]"
   ]
  },
  {
   "cell_type": "markdown",
   "metadata": {},
   "source": [
    "A node is either a [Synth](#Synth) or a [Group](#Group) of nodes"
   ]
  },
  {
   "cell_type": "markdown",
   "metadata": {},
   "source": [
    "## Synth"
   ]
  },
  {
   "cell_type": "markdown",
   "metadata": {},
   "source": [
    "### Create and control a Synth"
   ]
  },
  {
   "cell_type": "markdown",
   "metadata": {},
   "source": [
    "Create a new Synth"
   ]
  },
  {
   "cell_type": "code",
   "execution_count": 6,
   "metadata": {
    "execution": {
     "iopub.execute_input": "2021-06-10T16:08:34.619167Z",
     "iopub.status.busy": "2021-06-10T16:08:34.619167Z",
     "iopub.status.idle": "2021-06-10T16:08:34.622167Z",
     "shell.execute_reply": "2021-06-10T16:08:34.622167Z"
    }
   },
   "outputs": [
    {
     "data": {
      "text/plain": [
       "<Synth(20001) 's2' s {'freq': 100}>"
      ]
     },
     "execution_count": 1,
     "metadata": {},
     "output_type": "execute_result"
    }
   ],
   "source": [
    "synth = Synth(name=\"s2\", controls={\"freq\": 100})\n",
    "synth"
   ]
  },
  {
   "cell_type": "markdown",
   "metadata": {},
   "source": [
    "You can now hear the Synth playing and see it in the NodeTree"
   ]
  },
  {
   "cell_type": "code",
   "execution_count": 7,
   "metadata": {
    "execution": {
     "iopub.execute_input": "2021-06-10T16:08:34.626166Z",
     "iopub.status.busy": "2021-06-10T16:08:34.625167Z",
     "iopub.status.idle": "2021-06-10T16:08:34.628167Z",
     "shell.execute_reply": "2021-06-10T16:08:34.628167Z"
    }
   },
   "outputs": [
    {
     "data": {
      "text/plain": [
       "Group(67108865) ~ {} children=[]"
      ]
     },
     "execution_count": 1,
     "metadata": {},
     "output_type": "execute_result"
    }
   ],
   "source": [
    "sc.server.default_group"
   ]
  },
  {
   "cell_type": "code",
   "execution_count": 8,
   "metadata": {
    "execution": {
     "iopub.execute_input": "2021-06-10T16:08:34.631167Z",
     "iopub.status.busy": "2021-06-10T16:08:34.631167Z",
     "iopub.status.idle": "2021-06-10T16:08:34.641167Z",
     "shell.execute_reply": "2021-06-10T16:08:34.641167Z"
    }
   },
   "outputs": [
    {
     "data": {
      "text/plain": [
       "Group(0)  {} children=[\n",
       "  <Synth(-24) 's2'  {'freq': 1000.0, 'amp': 0.05000000074505806, 'num': 2.0, 'pan': 0.0, 'lg': 0.10000000149011612, 'gate': 1.0}>,\n",
       "  Group(469762049) ~ {} children=[],\n",
       "  Group(402653185) ~ {} children=[],\n",
       "  Group(335544321) ~ {} children=[],\n",
       "  Group(268435457) ~ {} children=[],\n",
       "  Group(201326593) ~ {} children=[],\n",
       "  Group(134217729) ~ {} children=[],\n",
       "  Group(67108865) ~ {} children=[\n",
       "    <Synth(20001) 's2' ~ {'freq': 100.0, 'amp': 0.30000001192092896, 'num': 4.0, 'pan': 0.0, 'lg': 0.10000000149011612, 'gate': 1.0}>],\n",
       "  Group(1) ~ {} children=[]]"
      ]
     },
     "execution_count": 1,
     "metadata": {},
     "output_type": "execute_result"
    }
   ],
   "source": [
    "sc.server.query_all_nodes()"
   ]
  },
  {
   "cell_type": "markdown",
   "metadata": {},
   "source": [
    "Free a synth"
   ]
  },
  {
   "cell_type": "code",
   "execution_count": 9,
   "metadata": {
    "execution": {
     "iopub.execute_input": "2021-06-10T16:08:34.644166Z",
     "iopub.status.busy": "2021-06-10T16:08:34.644166Z",
     "iopub.status.idle": "2021-06-10T16:08:34.646166Z",
     "shell.execute_reply": "2021-06-10T16:08:34.646166Z"
    }
   },
   "outputs": [
    {
     "data": {
      "text/plain": [
       "<Synth(20001) 's2' ~f {'freq': 100.0, 'amp': 0.30000001192092896, 'num': 4.0, 'pan': 0.0, 'lg': 0.10000000149011612, 'gate': 1.0}>"
      ]
     },
     "execution_count": 1,
     "metadata": {},
     "output_type": "execute_result"
    }
   ],
   "source": [
    "synth.free()"
   ]
  },
  {
   "cell_type": "markdown",
   "metadata": {},
   "source": [
    "Start the synth again"
   ]
  },
  {
   "cell_type": "code",
   "execution_count": 10,
   "metadata": {
    "execution": {
     "iopub.execute_input": "2021-06-10T16:08:34.649166Z",
     "iopub.status.busy": "2021-06-10T16:08:34.649166Z",
     "iopub.status.idle": "2021-06-10T16:08:34.652167Z",
     "shell.execute_reply": "2021-06-10T16:08:34.652167Z"
    }
   },
   "outputs": [
    {
     "data": {
      "text/plain": [
       "<Synth(20001) 's2' s {'freq': 100.0, 'amp': 0.30000001192092896, 'num': 4.0, 'pan': 0.0, 'lg': 0.10000000149011612, 'gate': 1.0}>"
      ]
     },
     "execution_count": 1,
     "metadata": {},
     "output_type": "execute_result"
    }
   ],
   "source": [
    "synth.new()"
   ]
  },
  {
   "cell_type": "code",
   "execution_count": 11,
   "metadata": {
    "execution": {
     "iopub.execute_input": "2021-06-10T16:08:34.655167Z",
     "iopub.status.busy": "2021-06-10T16:08:34.654165Z",
     "iopub.status.idle": "2021-06-10T16:08:34.658167Z",
     "shell.execute_reply": "2021-06-10T16:08:34.658167Z"
    }
   },
   "outputs": [
    {
     "data": {
      "text/plain": [
       "20001"
      ]
     },
     "execution_count": 1,
     "metadata": {},
     "output_type": "execute_result"
    }
   ],
   "source": [
    "synth.nodeid"
   ]
  },
  {
   "cell_type": "markdown",
   "metadata": {},
   "source": [
    "Calling `new` on an already running synth will cause a SuperCollider Server error"
   ]
  },
  {
   "cell_type": "code",
   "execution_count": 12,
   "metadata": {
    "execution": {
     "iopub.execute_input": "2021-06-10T16:08:34.661166Z",
     "iopub.status.busy": "2021-06-10T16:08:34.660166Z",
     "iopub.status.idle": "2021-06-10T16:08:34.663166Z",
     "shell.execute_reply": "2021-06-10T16:08:34.663166Z"
    }
   },
   "outputs": [
    {
     "data": {
      "text/plain": [
       "<Synth(20001) 's2' s {'freq': 100.0, 'amp': 0.30000001192092896, 'num': 4.0, 'pan': 0.0, 'lg': 0.10000000149011612, 'gate': 1.0}>"
      ]
     },
     "execution_count": 1,
     "metadata": {},
     "output_type": "execute_result"
    }
   ],
   "source": [
    "synth.new()"
   ]
  },
  {
   "cell_type": "markdown",
   "metadata": {},
   "source": [
    "Pause a synth"
   ]
  },
  {
   "cell_type": "code",
   "execution_count": 13,
   "metadata": {
    "execution": {
     "iopub.execute_input": "2021-06-10T16:08:34.666166Z",
     "iopub.status.busy": "2021-06-10T16:08:34.666166Z",
     "iopub.status.idle": "2021-06-10T16:08:34.668166Z",
     "shell.execute_reply": "2021-06-10T16:08:34.668166Z"
    }
   },
   "outputs": [
    {
     "data": {
      "text/plain": [
       "<Synth(20001) 's2' s {'freq': 100.0, 'amp': 0.30000001192092896, 'num': 4.0, 'pan': 0.0, 'lg': 0.10000000149011612, 'gate': 1.0}>"
      ]
     },
     "execution_count": 1,
     "metadata": {},
     "output_type": "execute_result"
    }
   ],
   "source": [
    "synth.run(False)"
   ]
  },
  {
   "cell_type": "code",
   "execution_count": 14,
   "metadata": {
    "execution": {
     "iopub.execute_input": "2021-06-10T16:08:34.671165Z",
     "iopub.status.busy": "2021-06-10T16:08:34.671165Z",
     "iopub.status.idle": "2021-06-10T16:08:34.673167Z",
     "shell.execute_reply": "2021-06-10T16:08:34.673167Z"
    }
   },
   "outputs": [
    {
     "data": {
      "text/plain": [
       "<Synth(20001) 's2' s {'freq': 100.0, 'amp': 0.30000001192092896, 'num': 4.0, 'pan': 0.0, 'lg': 0.10000000149011612, 'gate': 1.0}>"
      ]
     },
     "execution_count": 1,
     "metadata": {},
     "output_type": "execute_result"
    }
   ],
   "source": [
    "synth"
   ]
  },
  {
   "cell_type": "markdown",
   "metadata": {},
   "source": [
    "Run a paused synth"
   ]
  },
  {
   "cell_type": "code",
   "execution_count": 15,
   "metadata": {
    "execution": {
     "iopub.execute_input": "2021-06-10T16:08:34.676166Z",
     "iopub.status.busy": "2021-06-10T16:08:34.675166Z",
     "iopub.status.idle": "2021-06-10T16:08:34.678167Z",
     "shell.execute_reply": "2021-06-10T16:08:34.678167Z"
    }
   },
   "outputs": [
    {
     "data": {
      "text/plain": [
       "<Synth(20001) 's2' s {'freq': 100.0, 'amp': 0.30000001192092896, 'num': 4.0, 'pan': 0.0, 'lg': 0.10000000149011612, 'gate': 1.0}>"
      ]
     },
     "execution_count": 1,
     "metadata": {},
     "output_type": "execute_result"
    }
   ],
   "source": [
    "synth.run() # default flag for run is True"
   ]
  },
  {
   "cell_type": "markdown",
   "metadata": {},
   "source": [
    "You can also wait for a Synth"
   ]
  },
  {
   "cell_type": "code",
   "execution_count": 16,
   "metadata": {
    "execution": {
     "iopub.execute_input": "2021-06-10T16:08:34.682167Z",
     "iopub.status.busy": "2021-06-10T16:08:34.681166Z",
     "iopub.status.idle": "2021-06-10T16:08:36.699925Z",
     "shell.execute_reply": "2021-06-10T16:08:36.700937Z"
    }
   },
   "outputs": [],
   "source": [
    "synth_with_duration = scn.Synth(\"s1\", dict(dur=2))\n",
    "# wait for the Synth to finish playing\n",
    "synth_with_duration.wait()"
   ]
  },
  {
   "cell_type": "markdown",
   "metadata": {},
   "source": [
    "### Set / get Synth parameters"
   ]
  },
  {
   "cell_type": "markdown",
   "metadata": {},
   "source": [
    "Set synth parameters, using any for the following `set` calls\n",
    "\n",
    "    set(key, value, ...)\n",
    "    set(list_of_keys_and_values])\n",
    "    set(dict)"
   ]
  },
  {
   "cell_type": "code",
   "execution_count": 17,
   "metadata": {
    "execution": {
     "iopub.execute_input": "2021-06-10T16:08:36.703937Z",
     "iopub.status.busy": "2021-06-10T16:08:36.703937Z",
     "iopub.status.idle": "2021-06-10T16:08:36.705925Z",
     "shell.execute_reply": "2021-06-10T16:08:36.705925Z"
    }
   },
   "outputs": [
    {
     "data": {
      "text/plain": [
       "<Synth(20001) 's2' f {'freq': 200, 'amp': 0.30000001192092896, 'num': 4.0, 'pan': 0.0, 'lg': 0.10000000149011612, 'gate': 1.0}>"
      ]
     },
     "execution_count": 1,
     "metadata": {},
     "output_type": "execute_result"
    }
   ],
   "source": [
    "synth.set(\"freq\", 200)"
   ]
  },
  {
   "cell_type": "code",
   "execution_count": 18,
   "metadata": {
    "execution": {
     "iopub.execute_input": "2021-06-10T16:08:36.708937Z",
     "iopub.status.busy": "2021-06-10T16:08:36.708937Z",
     "iopub.status.idle": "2021-06-10T16:08:36.710938Z",
     "shell.execute_reply": "2021-06-10T16:08:36.710938Z"
    }
   },
   "outputs": [
    {
     "data": {
      "text/plain": [
       "<Synth(20001) 's2' f {'freq': 30, 'amp': 0.3, 'num': 4.0, 'pan': 0.0, 'lg': 0.10000000149011612, 'gate': 1.0}>"
      ]
     },
     "execution_count": 1,
     "metadata": {},
     "output_type": "execute_result"
    }
   ],
   "source": [
    "synth.set([\"freq\", 30, \"amp\", 0.3])"
   ]
  },
  {
   "cell_type": "code",
   "execution_count": 19,
   "metadata": {
    "execution": {
     "iopub.execute_input": "2021-06-10T16:08:36.714927Z",
     "iopub.status.busy": "2021-06-10T16:08:36.713927Z",
     "iopub.status.idle": "2021-06-10T16:08:36.716937Z",
     "shell.execute_reply": "2021-06-10T16:08:36.716937Z"
    }
   },
   "outputs": [
    {
     "data": {
      "text/plain": [
       "<Synth(20001) 's2' f {'freq': 130, 'amp': 0.1, 'num': 4.0, 'pan': 0.0, 'lg': 0.10000000149011612, 'gate': 1.0}>"
      ]
     },
     "execution_count": 1,
     "metadata": {},
     "output_type": "execute_result"
    }
   ],
   "source": [
    "synth.set({\"freq\": 130, \"amp\": 0.1})"
   ]
  },
  {
   "cell_type": "markdown",
   "metadata": {},
   "source": [
    "The Synth does save its current control arguments in `current_controls`"
   ]
  },
  {
   "cell_type": "code",
   "execution_count": 20,
   "metadata": {
    "execution": {
     "iopub.execute_input": "2021-06-10T16:08:36.719927Z",
     "iopub.status.busy": "2021-06-10T16:08:36.719927Z",
     "iopub.status.idle": "2021-06-10T16:08:36.722925Z",
     "shell.execute_reply": "2021-06-10T16:08:36.722925Z"
    }
   },
   "outputs": [
    {
     "data": {
      "text/plain": [
       "{'freq': 130,\n",
       " 'amp': 0.1,\n",
       " 'num': 4.0,\n",
       " 'pan': 0.0,\n",
       " 'lg': 0.10000000149011612,\n",
       " 'gate': 1.0}"
      ]
     },
     "execution_count": 1,
     "metadata": {},
     "output_type": "execute_result"
    }
   ],
   "source": [
    "synth.current_controls"
   ]
  },
  {
   "cell_type": "markdown",
   "metadata": {},
   "source": [
    "However these are only cached values on the python object. \n",
    "Updating them will only affect the `new` call. See below why this can be useful."
   ]
  },
  {
   "cell_type": "code",
   "execution_count": 21,
   "metadata": {
    "execution": {
     "iopub.execute_input": "2021-06-10T16:08:36.725926Z",
     "iopub.status.busy": "2021-06-10T16:08:36.725926Z",
     "iopub.status.idle": "2021-06-10T16:08:36.729931Z",
     "shell.execute_reply": "2021-06-10T16:08:36.729931Z"
    }
   },
   "outputs": [
    {
     "data": {
      "text/plain": [
       "<Synth(20001) 's2' f {'freq': 440, 'amp': 0.1, 'num': 4.0, 'pan': 0.0, 'lg': 0.10000000149011612, 'gate': 1.0}>"
      ]
     },
     "execution_count": 1,
     "metadata": {},
     "output_type": "execute_result"
    }
   ],
   "source": [
    "synth.current_controls['freq'] = 440\n",
    "synth"
   ]
  },
  {
   "cell_type": "code",
   "execution_count": 22,
   "metadata": {
    "execution": {
     "iopub.execute_input": "2021-06-10T16:08:36.732926Z",
     "iopub.status.busy": "2021-06-10T16:08:36.731930Z",
     "iopub.status.idle": "2021-06-10T16:08:36.736928Z",
     "shell.execute_reply": "2021-06-10T16:08:36.737926Z"
    }
   },
   "outputs": [
    {
     "data": {
      "text/plain": [
       "<Synth(20001) 's2' s {'freq': 440, 'amp': 0.1, 'num': 4.0, 'pan': 0.0, 'lg': 0.10000000149011612, 'gate': 1.0}>"
      ]
     },
     "execution_count": 1,
     "metadata": {},
     "output_type": "execute_result"
    }
   ],
   "source": [
    "synth.free()\n",
    "synth.new() # The new Synth will be created with freq = 440"
   ]
  },
  {
   "cell_type": "markdown",
   "metadata": {},
   "source": [
    "To see what arguments can be set you can look at the `synth_desc`"
   ]
  },
  {
   "cell_type": "code",
   "execution_count": 23,
   "metadata": {
    "execution": {
     "iopub.execute_input": "2021-06-10T16:08:36.740927Z",
     "iopub.status.busy": "2021-06-10T16:08:36.740927Z",
     "iopub.status.idle": "2021-06-10T16:08:36.742928Z",
     "shell.execute_reply": "2021-06-10T16:08:36.742928Z"
    }
   },
   "outputs": [
    {
     "data": {
      "text/plain": [
       "{'freq': SynthArgument(name='freq', rate='control', default=400.0),\n",
       " 'amp': SynthArgument(name='amp', rate='control', default=0.30000001192092896),\n",
       " 'num': SynthArgument(name='num', rate='control', default=4.0),\n",
       " 'pan': SynthArgument(name='pan', rate='control', default=0.0),\n",
       " 'lg': SynthArgument(name='lg', rate='control', default=0.10000000149011612),\n",
       " 'gate': SynthArgument(name='gate', rate='control', default=1.0)}"
      ]
     },
     "execution_count": 1,
     "metadata": {},
     "output_type": "execute_result"
    }
   ],
   "source": [
    "synth.synth_desc"
   ]
  },
  {
   "cell_type": "markdown",
   "metadata": {},
   "source": [
    "You can use ``get`` to see the current value. This will request the current value from the SuperCollider audio server"
   ]
  },
  {
   "cell_type": "code",
   "execution_count": 24,
   "metadata": {
    "execution": {
     "iopub.execute_input": "2021-06-10T16:08:36.746931Z",
     "iopub.status.busy": "2021-06-10T16:08:36.745928Z",
     "iopub.status.idle": "2021-06-10T16:08:36.750931Z",
     "shell.execute_reply": "2021-06-10T16:08:36.750931Z"
    }
   },
   "outputs": [
    {
     "data": {
      "text/plain": [
       "440.0"
      ]
     },
     "execution_count": 1,
     "metadata": {},
     "output_type": "execute_result"
    }
   ],
   "source": [
    "synth.get(\"freq\")"
   ]
  },
  {
   "cell_type": "code",
   "execution_count": 25,
   "metadata": {
    "execution": {
     "iopub.execute_input": "2021-06-10T16:08:36.753926Z",
     "iopub.status.busy": "2021-06-10T16:08:36.752925Z",
     "iopub.status.idle": "2021-06-10T16:08:36.769925Z",
     "shell.execute_reply": "2021-06-10T16:08:36.769925Z"
    }
   },
   "outputs": [
    {
     "data": {
      "text/plain": [
       "0.0"
      ]
     },
     "execution_count": 1,
     "metadata": {},
     "output_type": "execute_result"
    }
   ],
   "source": [
    "synth.get(\"pan\")"
   ]
  },
  {
   "cell_type": "markdown",
   "metadata": {},
   "source": [
    "This will also update the cached values in `current_args`"
   ]
  },
  {
   "cell_type": "code",
   "execution_count": 26,
   "metadata": {
    "execution": {
     "iopub.execute_input": "2021-06-10T16:08:36.772925Z",
     "iopub.status.busy": "2021-06-10T16:08:36.772925Z",
     "iopub.status.idle": "2021-06-10T16:08:36.774926Z",
     "shell.execute_reply": "2021-06-10T16:08:36.774926Z"
    }
   },
   "outputs": [
    {
     "data": {
      "text/plain": [
       "<Synth(20001) 's2' ~ {'freq': 440.0, 'amp': 0.1, 'num': 4.0, 'pan': 0.0, 'lg': 0.10000000149011612, 'gate': 1.0}>"
      ]
     },
     "execution_count": 1,
     "metadata": {},
     "output_type": "execute_result"
    }
   ],
   "source": [
    "synth"
   ]
  },
  {
   "cell_type": "markdown",
   "metadata": {},
   "source": [
    "This is also possible directly with"
   ]
  },
  {
   "cell_type": "code",
   "execution_count": 27,
   "metadata": {
    "execution": {
     "iopub.execute_input": "2021-06-10T16:08:36.777926Z",
     "iopub.status.busy": "2021-06-10T16:08:36.776927Z",
     "iopub.status.idle": "2021-06-10T16:08:36.790925Z",
     "shell.execute_reply": "2021-06-10T16:08:36.790925Z"
    }
   },
   "outputs": [
    {
     "data": {
      "text/plain": [
       "0.0"
      ]
     },
     "execution_count": 1,
     "metadata": {},
     "output_type": "execute_result"
    }
   ],
   "source": [
    "synth.pan"
   ]
  },
  {
   "cell_type": "markdown",
   "metadata": {},
   "source": [
    "Which can also be used for setting the argument"
   ]
  },
  {
   "cell_type": "code",
   "execution_count": 28,
   "metadata": {
    "execution": {
     "iopub.execute_input": "2021-06-10T16:08:36.793925Z",
     "iopub.status.busy": "2021-06-10T16:08:36.793925Z",
     "iopub.status.idle": "2021-06-10T16:08:36.795925Z",
     "shell.execute_reply": "2021-06-10T16:08:36.795925Z"
    }
   },
   "outputs": [],
   "source": [
    "synth.pan = -1 "
   ]
  },
  {
   "cell_type": "markdown",
   "metadata": {},
   "source": [
    "You can also query information about the Synth. Look at [Group](#Group) for more information about these values"
   ]
  },
  {
   "cell_type": "code",
   "execution_count": 29,
   "metadata": {
    "execution": {
     "iopub.execute_input": "2021-06-10T16:08:36.798925Z",
     "iopub.status.busy": "2021-06-10T16:08:36.797925Z",
     "iopub.status.idle": "2021-06-10T16:08:36.810925Z",
     "shell.execute_reply": "2021-06-10T16:08:36.810925Z"
    }
   },
   "outputs": [
    {
     "data": {
      "text/plain": [
       "SynthInfo(nodeid=20001, group=67108865, prev_nodeid=-1, next_nodeid=-1)"
      ]
     },
     "execution_count": 1,
     "metadata": {},
     "output_type": "execute_result"
    }
   ],
   "source": [
    "synth.query()"
   ]
  },
  {
   "cell_type": "code",
   "execution_count": 30,
   "metadata": {
    "execution": {
     "iopub.execute_input": "2021-06-10T16:08:36.813925Z",
     "iopub.status.busy": "2021-06-10T16:08:36.813925Z",
     "iopub.status.idle": "2021-06-10T16:08:36.815926Z",
     "shell.execute_reply": "2021-06-10T16:08:36.815926Z"
    }
   },
   "outputs": [
    {
     "data": {
      "text/plain": [
       "<Synth(20001) 's2' ~f {'freq': 440.0, 'amp': 0.1, 'num': 4.0, 'pan': -1, 'lg': 0.10000000149011612, 'gate': 1.0}>"
      ]
     },
     "execution_count": 1,
     "metadata": {},
     "output_type": "execute_result"
    }
   ],
   "source": [
    "synth.free()"
   ]
  },
  {
   "cell_type": "markdown",
   "metadata": {},
   "source": [
    "Keep in mind that getting a synth value is always querying the server.\n",
    "\n",
    "This means we need to receive a message which cant be done using the Bundler.\n",
    "If you want to use relative values in a Bundler you should use the cached values from `current_args`"
   ]
  },
  {
   "cell_type": "code",
   "execution_count": 31,
   "metadata": {
    "execution": {
     "iopub.execute_input": "2021-06-10T16:08:36.826925Z",
     "iopub.status.busy": "2021-06-10T16:08:36.826925Z",
     "iopub.status.idle": "2021-06-10T16:08:36.829925Z",
     "shell.execute_reply": "2021-06-10T16:08:36.829925Z"
    }
   },
   "outputs": [],
   "source": [
    "with sc.server.bundler() as bundle:\n",
    "    synth.new({\"freq\": 600})\n",
    "    for _ in range(100):\n",
    "        synth.set(['freq', synth.current_controls['freq'] * 0.99])\n",
    "        bundle.wait(0.05)\n",
    "    synth.free()"
   ]
  },
  {
   "cell_type": "code",
   "execution_count": 32,
   "metadata": {
    "execution": {
     "iopub.execute_input": "2021-06-10T16:08:36.831925Z",
     "iopub.status.busy": "2021-06-10T16:08:36.831925Z",
     "iopub.status.idle": "2021-06-10T16:08:41.819750Z",
     "shell.execute_reply": "2021-06-10T16:08:41.819750Z"
    }
   },
   "outputs": [],
   "source": [
    "synth.wait() # wait for synth"
   ]
  },
  {
   "cell_type": "markdown",
   "metadata": {},
   "source": [
    "Some methods also allow getting the OSC Message instead of sending"
   ]
  },
  {
   "cell_type": "code",
   "execution_count": 33,
   "metadata": {
    "execution": {
     "iopub.execute_input": "2021-06-10T16:08:41.823749Z",
     "iopub.status.busy": "2021-06-10T16:08:41.822747Z",
     "iopub.status.idle": "2021-06-10T16:08:41.824748Z",
     "shell.execute_reply": "2021-06-10T16:08:41.824748Z"
    }
   },
   "outputs": [
    {
     "data": {
      "text/plain": [
       "<OSCMessage(\"/s_new\", ['s2', 20001, 0, 67108865, 'freq', 219.61940002441406, 'amp', 0.10000000149011612, 'num', 4.0, 'pan', -1, 'lg', 0.10000000149011612, 'gate', 1.0])>"
      ]
     },
     "execution_count": 1,
     "metadata": {},
     "output_type": "execute_result"
    }
   ],
   "source": [
    "synth.new(return_msg=True)"
   ]
  },
  {
   "cell_type": "markdown",
   "metadata": {},
   "source": [
    "Refer to the [OSC communication example notebook](../osc-communication-example.ipynb) if you want to learn more about messages and bundles."
   ]
  },
  {
   "cell_type": "markdown",
   "metadata": {},
   "source": [
    "## Group\n",
    "\n",
    "Nodes can be grouped and controlled together. This gives you mutliple advantages like\n",
    "* controlling multiple Synth together\n",
    "* specifying the execution order of the nodes. For more details look at [Order of nodes](#Order-of-Nodes)"
   ]
  },
  {
   "cell_type": "markdown",
   "metadata": {},
   "source": [
    "The SuperCollider audio server scsynth does have one root Group with the Node ID 0.\n",
    "\n",
    "In this root group each user got an default group were all the Nodes of the user (Synths and Groups) should be located"
   ]
  },
  {
   "cell_type": "code",
   "execution_count": 34,
   "metadata": {
    "execution": {
     "iopub.execute_input": "2021-06-10T16:08:41.827749Z",
     "iopub.status.busy": "2021-06-10T16:08:41.826753Z",
     "iopub.status.idle": "2021-06-10T16:08:41.848982Z",
     "shell.execute_reply": "2021-06-10T16:08:41.849981Z"
    }
   },
   "outputs": [
    {
     "data": {
      "text/plain": [
       "Group(0)  {} children=[\n",
       "  <Synth(-24) 's2'  {'freq': 1000.0, 'amp': 0.05000000074505806, 'num': 2.0, 'pan': 0.0, 'lg': 0.10000000149011612, 'gate': 1.0}>,\n",
       "  Group(469762049) ~ {} children=[],\n",
       "  Group(402653185) ~ {} children=[],\n",
       "  Group(335544321) ~ {} children=[],\n",
       "  Group(268435457) ~ {} children=[],\n",
       "  Group(201326593) ~ {} children=[],\n",
       "  Group(134217729) ~ {} children=[],\n",
       "  Group(67108865) ~ {} children=[],\n",
       "  Group(1) ~ {} children=[]]"
      ]
     },
     "execution_count": 1,
     "metadata": {},
     "output_type": "execute_result"
    }
   ],
   "source": [
    "sc.server.query_all_nodes()"
   ]
  },
  {
   "cell_type": "markdown",
   "metadata": {},
   "source": [
    "We have the following default Group"
   ]
  },
  {
   "cell_type": "code",
   "execution_count": 35,
   "metadata": {
    "execution": {
     "iopub.execute_input": "2021-06-10T16:08:41.852982Z",
     "iopub.status.busy": "2021-06-10T16:08:41.851982Z",
     "iopub.status.idle": "2021-06-10T16:08:41.854982Z",
     "shell.execute_reply": "2021-06-10T16:08:41.854982Z"
    }
   },
   "outputs": [
    {
     "data": {
      "text/plain": [
       "Group(67108865) ~ {} children=[]"
      ]
     },
     "execution_count": 1,
     "metadata": {},
     "output_type": "execute_result"
    }
   ],
   "source": [
    "sc.server.default_group"
   ]
  },
  {
   "cell_type": "markdown",
   "metadata": {},
   "source": [
    "### Creating Groups"
   ]
  },
  {
   "cell_type": "code",
   "execution_count": 36,
   "metadata": {
    "execution": {
     "iopub.execute_input": "2021-06-10T16:08:41.857981Z",
     "iopub.status.busy": "2021-06-10T16:08:41.857981Z",
     "iopub.status.idle": "2021-06-10T16:08:41.859982Z",
     "shell.execute_reply": "2021-06-10T16:08:41.859982Z"
    }
   },
   "outputs": [
    {
     "data": {
      "text/plain": [
       "Group(20003) s {} children=[]"
      ]
     },
     "execution_count": 1,
     "metadata": {},
     "output_type": "execute_result"
    }
   ],
   "source": [
    "g0 = scn.Group()\n",
    "g0"
   ]
  },
  {
   "cell_type": "code",
   "execution_count": 37,
   "metadata": {
    "execution": {
     "iopub.execute_input": "2021-06-10T16:08:41.861982Z",
     "iopub.status.busy": "2021-06-10T16:08:41.861982Z",
     "iopub.status.idle": "2021-06-10T16:08:41.906985Z",
     "shell.execute_reply": "2021-06-10T16:08:41.907982Z"
    }
   },
   "outputs": [
    {
     "name": "stdout",
     "output_type": "stream",
     "text": [
      "NODE TREE Group 0\n",
      "   -24 s2\n",
      "     freq: 1000 amp: 0.050000000745058 num: 2 pan: 0 lg: 0.10000000149012 gate: 1\n",
      "   469762049 group\n",
      "   402653185 group\n",
      "   335544321 group\n",
      "   268435457 group\n",
      "   201326593 group\n",
      "   134217729 group\n",
      "   67108865 group\n",
      "      20003 group\n",
      "   1 group\n"
     ]
    }
   ],
   "source": [
    "sc.server.dump_tree()"
   ]
  },
  {
   "cell_type": "code",
   "execution_count": 38,
   "metadata": {
    "execution": {
     "iopub.execute_input": "2021-06-10T16:08:41.910981Z",
     "iopub.status.busy": "2021-06-10T16:08:41.909982Z",
     "iopub.status.idle": "2021-06-10T16:08:41.912982Z",
     "shell.execute_reply": "2021-06-10T16:08:41.912982Z"
    }
   },
   "outputs": [
    {
     "data": {
      "text/plain": [
       "Group(20003) ~f {} children=[]"
      ]
     },
     "execution_count": 1,
     "metadata": {},
     "output_type": "execute_result"
    }
   ],
   "source": [
    "g0.free()"
   ]
  },
  {
   "cell_type": "code",
   "execution_count": 39,
   "metadata": {
    "execution": {
     "iopub.execute_input": "2021-06-10T16:08:41.915982Z",
     "iopub.status.busy": "2021-06-10T16:08:41.915982Z",
     "iopub.status.idle": "2021-06-10T16:08:41.946998Z",
     "shell.execute_reply": "2021-06-10T16:08:41.946998Z"
    }
   },
   "outputs": [
    {
     "name": "stdout",
     "output_type": "stream",
     "text": [
      "NODE TREE Group 0\n",
      "   -24 s2\n",
      "     freq: 1000 amp: 0.050000000745058 num: 2 pan: 0 lg: 0.10000000149012 gate: 1\n",
      "   469762049 group\n",
      "   402653185 group\n",
      "   335544321 group\n",
      "   268435457 group\n",
      "   201326593 group\n",
      "   134217729 group\n",
      "   67108865 group\n",
      "   1 group\n"
     ]
    }
   ],
   "source": [
    "sc.server.dump_tree()"
   ]
  },
  {
   "cell_type": "code",
   "execution_count": 40,
   "metadata": {
    "execution": {
     "iopub.execute_input": "2021-06-10T16:08:41.950998Z",
     "iopub.status.busy": "2021-06-10T16:08:41.949999Z",
     "iopub.status.idle": "2021-06-10T16:08:41.952999Z",
     "shell.execute_reply": "2021-06-10T16:08:41.952999Z"
    }
   },
   "outputs": [
    {
     "data": {
      "text/plain": [
       "Group(20003) s {} children=[]"
      ]
     },
     "execution_count": 1,
     "metadata": {},
     "output_type": "execute_result"
    }
   ],
   "source": [
    "g0.new()"
   ]
  },
  {
   "cell_type": "code",
   "execution_count": 41,
   "metadata": {
    "execution": {
     "iopub.execute_input": "2021-06-10T16:08:41.955998Z",
     "iopub.status.busy": "2021-06-10T16:08:41.955998Z",
     "iopub.status.idle": "2021-06-10T16:08:41.960999Z",
     "shell.execute_reply": "2021-06-10T16:08:41.960999Z"
    }
   },
   "outputs": [
    {
     "data": {
      "text/plain": [
       "Group(0)  {} children=[\n",
       "  <Synth(-24) 's2'  {'freq': 1000.0, 'amp': 0.05000000074505806, 'num': 2.0, 'pan': 0.0, 'lg': 0.10000000149011612, 'gate': 1.0}>,\n",
       "  Group(469762049) ~ {} children=[],\n",
       "  Group(402653185) ~ {} children=[],\n",
       "  Group(335544321) ~ {} children=[],\n",
       "  Group(268435457) ~ {} children=[],\n",
       "  Group(201326593) ~ {} children=[],\n",
       "  Group(134217729) ~ {} children=[],\n",
       "  Group(67108865) ~ {} children=[ Group(20003) ~ {} children=[]],\n",
       "  Group(1) ~ {} children=[]]"
      ]
     },
     "execution_count": 1,
     "metadata": {},
     "output_type": "execute_result"
    }
   ],
   "source": [
    "sc.server.query_all_nodes()"
   ]
  },
  {
   "cell_type": "code",
   "execution_count": 42,
   "metadata": {
    "execution": {
     "iopub.execute_input": "2021-06-10T16:08:41.963998Z",
     "iopub.status.busy": "2021-06-10T16:08:41.963998Z",
     "iopub.status.idle": "2021-06-10T16:08:41.966998Z",
     "shell.execute_reply": "2021-06-10T16:08:41.966998Z"
    }
   },
   "outputs": [
    {
     "data": {
      "text/plain": [
       "Group(67108865) ~ {} children=[ Group(20003) ~ {} children=[]]"
      ]
     },
     "execution_count": 1,
     "metadata": {},
     "output_type": "execute_result"
    }
   ],
   "source": [
    "sc.server.default_group"
   ]
  },
  {
   "cell_type": "markdown",
   "metadata": {},
   "source": [
    "Create a Group in our new Group"
   ]
  },
  {
   "cell_type": "code",
   "execution_count": 43,
   "metadata": {
    "execution": {
     "iopub.execute_input": "2021-06-10T16:08:41.969999Z",
     "iopub.status.busy": "2021-06-10T16:08:41.968997Z",
     "iopub.status.idle": "2021-06-10T16:08:41.972999Z",
     "shell.execute_reply": "2021-06-10T16:08:41.972999Z"
    }
   },
   "outputs": [
    {
     "data": {
      "text/plain": [
       "Group(20004) s {} children=[]"
      ]
     },
     "execution_count": 1,
     "metadata": {},
     "output_type": "execute_result"
    }
   ],
   "source": [
    "g1 = scn.Group(target=g0)\n",
    "g1"
   ]
  },
  {
   "cell_type": "code",
   "execution_count": 44,
   "metadata": {
    "execution": {
     "iopub.execute_input": "2021-06-10T16:08:41.974998Z",
     "iopub.status.busy": "2021-06-10T16:08:41.974998Z",
     "iopub.status.idle": "2021-06-10T16:08:41.980079Z",
     "shell.execute_reply": "2021-06-10T16:08:41.980079Z"
    }
   },
   "outputs": [
    {
     "data": {
      "text/plain": [
       "Group(0)  {} children=[\n",
       "  <Synth(-24) 's2'  {'freq': 1000.0, 'amp': 0.05000000074505806, 'num': 2.0, 'pan': 0.0, 'lg': 0.10000000149011612, 'gate': 1.0}>,\n",
       "  Group(469762049) ~ {} children=[],\n",
       "  Group(402653185) ~ {} children=[],\n",
       "  Group(335544321) ~ {} children=[],\n",
       "  Group(268435457) ~ {} children=[],\n",
       "  Group(201326593) ~ {} children=[],\n",
       "  Group(134217729) ~ {} children=[],\n",
       "  Group(67108865) ~ {} children=[\n",
       "    Group(20003) ~ {} children=[ Group(20004) ~ {} children=[]]],\n",
       "  Group(1) ~ {} children=[]]"
      ]
     },
     "execution_count": 1,
     "metadata": {},
     "output_type": "execute_result"
    }
   ],
   "source": [
    "sc.server.query_all_nodes()"
   ]
  },
  {
   "cell_type": "markdown",
   "metadata": {},
   "source": [
    "You can get information about you Group via"
   ]
  },
  {
   "cell_type": "code",
   "execution_count": 45,
   "metadata": {
    "execution": {
     "iopub.execute_input": "2021-06-10T16:08:41.982078Z",
     "iopub.status.busy": "2021-06-10T16:08:41.982078Z",
     "iopub.status.idle": "2021-06-10T16:08:41.988989Z",
     "shell.execute_reply": "2021-06-10T16:08:41.989989Z"
    }
   },
   "outputs": [
    {
     "data": {
      "text/plain": [
       "GroupInfo(nodeid=20003, group=67108865, prev_nodeid=-1, next_nodeid=-1, head=20004, tail=20004)"
      ]
     },
     "execution_count": 1,
     "metadata": {},
     "output_type": "execute_result"
    }
   ],
   "source": [
    "g0.query()"
   ]
  },
  {
   "cell_type": "markdown",
   "metadata": {},
   "source": [
    "The query contains the same information as a Synth query and additionally the head and tail Node of this group.\n",
    "\n",
    "Notice the special value `-1` meaning `None`."
   ]
  },
  {
   "cell_type": "code",
   "execution_count": 46,
   "metadata": {
    "execution": {
     "iopub.execute_input": "2021-06-10T16:08:41.991989Z",
     "iopub.status.busy": "2021-06-10T16:08:41.991989Z",
     "iopub.status.idle": "2021-06-10T16:08:41.998963Z",
     "shell.execute_reply": "2021-06-10T16:08:41.998963Z"
    }
   },
   "outputs": [
    {
     "data": {
      "text/plain": [
       "GroupInfo(nodeid=20004, group=20003, prev_nodeid=-1, next_nodeid=-1, head=-1, tail=-1)"
      ]
     },
     "execution_count": 1,
     "metadata": {},
     "output_type": "execute_result"
    }
   ],
   "source": [
    "g1.query()"
   ]
  },
  {
   "cell_type": "markdown",
   "metadata": {},
   "source": [
    "Free the node"
   ]
  },
  {
   "cell_type": "code",
   "execution_count": 47,
   "metadata": {
    "execution": {
     "iopub.execute_input": "2021-06-10T16:08:42.001963Z",
     "iopub.status.busy": "2021-06-10T16:08:42.000962Z",
     "iopub.status.idle": "2021-06-10T16:08:42.002963Z",
     "shell.execute_reply": "2021-06-10T16:08:42.002963Z"
    }
   },
   "outputs": [
    {
     "data": {
      "text/plain": [
       "Group(20003) ~f {} children=[ Group(20004) ~ {} children=[]]"
      ]
     },
     "execution_count": 1,
     "metadata": {},
     "output_type": "execute_result"
    }
   ],
   "source": [
    "g0.free()"
   ]
  },
  {
   "cell_type": "code",
   "execution_count": 48,
   "metadata": {
    "execution": {
     "iopub.execute_input": "2021-06-10T16:08:42.005963Z",
     "iopub.status.busy": "2021-06-10T16:08:42.004963Z",
     "iopub.status.idle": "2021-06-10T16:08:42.019963Z",
     "shell.execute_reply": "2021-06-10T16:08:42.019963Z"
    }
   },
   "outputs": [
    {
     "data": {
      "text/plain": [
       "Group(0)  {} children=[\n",
       "  <Synth(-24) 's2'  {'freq': 1000.0, 'amp': 0.05000000074505806, 'num': 2.0, 'pan': 0.0, 'lg': 0.10000000149011612, 'gate': 1.0}>,\n",
       "  Group(469762049) ~ {} children=[],\n",
       "  Group(402653185) ~ {} children=[],\n",
       "  Group(335544321) ~ {} children=[],\n",
       "  Group(268435457) ~ {} children=[],\n",
       "  Group(201326593) ~ {} children=[],\n",
       "  Group(134217729) ~ {} children=[],\n",
       "  Group(67108865) ~ {} children=[],\n",
       "  Group(1) ~ {} children=[]]"
      ]
     },
     "execution_count": 1,
     "metadata": {},
     "output_type": "execute_result"
    }
   ],
   "source": [
    "sc.server.query_all_nodes()"
   ]
  },
  {
   "cell_type": "markdown",
   "metadata": {},
   "source": [
    "## Order of Nodes \n",
    "\n"
   ]
  },
  {
   "cell_type": "markdown",
   "metadata": {},
   "source": [
    "The execution of the Nodes does plays an important role. \n",
    "For more details look at the [SuperCollider Documentation](http://doc.sccode.org/Guides/Order-of-execution.html)"
   ]
  },
  {
   "cell_type": "markdown",
   "metadata": {},
   "source": [
    "The Node placement of a Nodes can be controlled by the instantiation arguments"
   ]
  },
  {
   "cell_type": "markdown",
   "metadata": {},
   "source": [
    "* `add_action` - An AddAction that specifies where to put Node relative to the target"
   ]
  },
  {
   "cell_type": "code",
   "execution_count": 49,
   "metadata": {
    "execution": {
     "iopub.execute_input": "2021-06-10T16:08:42.022963Z",
     "iopub.status.busy": "2021-06-10T16:08:42.022963Z",
     "iopub.status.idle": "2021-06-10T16:08:42.023963Z",
     "shell.execute_reply": "2021-06-10T16:08:42.024963Z"
    }
   },
   "outputs": [
    {
     "data": {
      "text/plain": [
       "[<AddAction.TO_HEAD: 0>,\n",
       " <AddAction.TO_TAIL: 1>,\n",
       " <AddAction.BEFORE: 2>,\n",
       " <AddAction.AFTER: 3>,\n",
       " <AddAction.REPLACE: 4>]"
      ]
     },
     "execution_count": 1,
     "metadata": {},
     "output_type": "execute_result"
    }
   ],
   "source": [
    "list(scn.AddAction)"
   ]
  },
  {
   "cell_type": "markdown",
   "metadata": {},
   "source": [
    "* `target` - The target of the AddAction\n",
    "* `group` - The group were the Node will be placed"
   ]
  },
  {
   "cell_type": "markdown",
   "metadata": {},
   "source": [
    "### Example of Ordering Nodes"
   ]
  },
  {
   "cell_type": "code",
   "execution_count": 50,
   "metadata": {
    "execution": {
     "iopub.execute_input": "2021-06-10T16:08:42.027963Z",
     "iopub.status.busy": "2021-06-10T16:08:42.026963Z",
     "iopub.status.idle": "2021-06-10T16:08:42.030963Z",
     "shell.execute_reply": "2021-06-10T16:08:42.030963Z"
    }
   },
   "outputs": [
    {
     "data": {
      "text/plain": [
       "Group(20005) s {} children=[]"
      ]
     },
     "execution_count": 1,
     "metadata": {},
     "output_type": "execute_result"
    }
   ],
   "source": [
    "g0 = scn.Group()\n",
    "g0"
   ]
  },
  {
   "cell_type": "code",
   "execution_count": 51,
   "metadata": {
    "execution": {
     "iopub.execute_input": "2021-06-10T16:08:42.033963Z",
     "iopub.status.busy": "2021-06-10T16:08:42.032962Z",
     "iopub.status.idle": "2021-06-10T16:08:42.034963Z",
     "shell.execute_reply": "2021-06-10T16:08:42.034963Z"
    }
   },
   "outputs": [
    {
     "data": {
      "text/plain": [
       "Group(20006) s {} children=[]"
      ]
     },
     "execution_count": 1,
     "metadata": {},
     "output_type": "execute_result"
    }
   ],
   "source": [
    "g1 = scn.Group(target=g0)\n",
    "g1"
   ]
  },
  {
   "cell_type": "code",
   "execution_count": 52,
   "metadata": {
    "execution": {
     "iopub.execute_input": "2021-06-10T16:08:42.037964Z",
     "iopub.status.busy": "2021-06-10T16:08:42.036963Z",
     "iopub.status.idle": "2021-06-10T16:08:42.047964Z",
     "shell.execute_reply": "2021-06-10T16:08:42.047964Z"
    }
   },
   "outputs": [],
   "source": [
    "s0 = scn.Synth(target=g0, controls={\"freq\": 200})"
   ]
  },
  {
   "cell_type": "code",
   "execution_count": 53,
   "metadata": {
    "execution": {
     "iopub.execute_input": "2021-06-10T16:08:42.050964Z",
     "iopub.status.busy": "2021-06-10T16:08:42.050964Z",
     "iopub.status.idle": "2021-06-10T16:08:42.051963Z",
     "shell.execute_reply": "2021-06-10T16:08:42.051963Z"
    }
   },
   "outputs": [],
   "source": [
    "s1 = scn.Synth(add_action=scn.AddAction.BEFORE, target=s0, controls={\"freq\": 600})"
   ]
  },
  {
   "cell_type": "code",
   "execution_count": 54,
   "metadata": {
    "execution": {
     "iopub.execute_input": "2021-06-10T16:08:42.055963Z",
     "iopub.status.busy": "2021-06-10T16:08:42.054963Z",
     "iopub.status.idle": "2021-06-10T16:08:42.057962Z",
     "shell.execute_reply": "2021-06-10T16:08:42.057962Z"
    }
   },
   "outputs": [],
   "source": [
    "s2 = scn.Synth(add_action=scn.AddAction.TO_TAIL, target=g1, controls={\"freq\": 1200})"
   ]
  },
  {
   "cell_type": "code",
   "execution_count": 55,
   "metadata": {
    "execution": {
     "iopub.execute_input": "2021-06-10T16:08:42.060964Z",
     "iopub.status.busy": "2021-06-10T16:08:42.060964Z",
     "iopub.status.idle": "2021-06-10T16:08:42.071963Z",
     "shell.execute_reply": "2021-06-10T16:08:42.071963Z"
    }
   },
   "outputs": [
    {
     "data": {
      "text/plain": [
       "Group(0)  {} children=[\n",
       "  <Synth(-24) 's2'  {'freq': 1000.0, 'amp': 0.05000000074505806, 'num': 2.0, 'pan': 0.0, 'lg': 0.10000000149011612, 'gate': 1.0}>,\n",
       "  Group(469762049) ~ {} children=[],\n",
       "  Group(402653185) ~ {} children=[],\n",
       "  Group(335544321) ~ {} children=[],\n",
       "  Group(268435457) ~ {} children=[],\n",
       "  Group(201326593) ~ {} children=[],\n",
       "  Group(134217729) ~ {} children=[],\n",
       "  Group(67108865) ~ {} children=[\n",
       "    Group(20005) ~ {} children=[\n",
       "      <Synth(20008) 'default' ~ {'freq': 600.0, 'out': 0.0, 'amp': 0.10000000149011612, 'pan': 0.0, 'gate': 1.0}>,\n",
       "      <Synth(20007) 'default' ~ {'freq': 200.0, 'out': 0.0, 'amp': 0.10000000149011612, 'pan': 0.0, 'gate': 1.0}>,\n",
       "      Group(20006) ~ {} children=[\n",
       "        <Synth(20009) 'default' ~ {'freq': 1200.0, 'out': 0.0, 'amp': 0.10000000149011612, 'pan': 0.0, 'gate': 1.0}>]]],\n",
       "  Group(1) ~ {} children=[]]"
      ]
     },
     "execution_count": 1,
     "metadata": {},
     "output_type": "execute_result"
    }
   ],
   "source": [
    "sc.server.query_all_nodes()"
   ]
  },
  {
   "cell_type": "code",
   "execution_count": 56,
   "metadata": {
    "execution": {
     "iopub.execute_input": "2021-06-10T16:08:42.074964Z",
     "iopub.status.busy": "2021-06-10T16:08:42.074964Z",
     "iopub.status.idle": "2021-06-10T16:08:42.077963Z",
     "shell.execute_reply": "2021-06-10T16:08:42.077963Z"
    }
   },
   "outputs": [
    {
     "data": {
      "text/plain": [
       "<Synth(20008) 'default' ~ {'freq': 600.0, 'out': 0.0, 'amp': 0.10000000149011612, 'pan': 0.0, 'gate': 1.0}>"
      ]
     },
     "execution_count": 1,
     "metadata": {},
     "output_type": "execute_result"
    }
   ],
   "source": [
    "s1.move(scn.AddAction.BEFORE, s2)"
   ]
  },
  {
   "cell_type": "code",
   "execution_count": 57,
   "metadata": {
    "execution": {
     "iopub.execute_input": "2021-06-10T16:08:42.079969Z",
     "iopub.status.busy": "2021-06-10T16:08:42.079969Z",
     "iopub.status.idle": "2021-06-10T16:08:42.089963Z",
     "shell.execute_reply": "2021-06-10T16:08:42.089963Z"
    }
   },
   "outputs": [
    {
     "data": {
      "text/plain": [
       "Group(0)  {} children=[\n",
       "  <Synth(-24) 's2'  {'freq': 1000.0, 'amp': 0.05000000074505806, 'num': 2.0, 'pan': 0.0, 'lg': 0.10000000149011612, 'gate': 1.0}>,\n",
       "  Group(469762049) ~ {} children=[],\n",
       "  Group(402653185) ~ {} children=[],\n",
       "  Group(335544321) ~ {} children=[],\n",
       "  Group(268435457) ~ {} children=[],\n",
       "  Group(201326593) ~ {} children=[],\n",
       "  Group(134217729) ~ {} children=[],\n",
       "  Group(67108865) ~ {} children=[\n",
       "    Group(20005) ~ {} children=[\n",
       "      <Synth(20007) 'default' ~ {'freq': 200.0, 'out': 0.0, 'amp': 0.10000000149011612, 'pan': 0.0, 'gate': 1.0}>,\n",
       "      Group(20006) ~ {} children=[\n",
       "        <Synth(20008) 'default' ~ {'freq': 600.0, 'out': 0.0, 'amp': 0.10000000149011612, 'pan': 0.0, 'gate': 1.0}>,\n",
       "        <Synth(20009) 'default' ~ {'freq': 1200.0, 'out': 0.0, 'amp': 0.10000000149011612, 'pan': 0.0, 'gate': 1.0}>]]],\n",
       "  Group(1) ~ {} children=[]]"
      ]
     },
     "execution_count": 1,
     "metadata": {},
     "output_type": "execute_result"
    }
   ],
   "source": [
    "sc.server.query_all_nodes()"
   ]
  },
  {
   "cell_type": "code",
   "execution_count": 58,
   "metadata": {
    "execution": {
     "iopub.execute_input": "2021-06-10T16:08:42.092963Z",
     "iopub.status.busy": "2021-06-10T16:08:42.091962Z",
     "iopub.status.idle": "2021-06-10T16:08:42.093963Z",
     "shell.execute_reply": "2021-06-10T16:08:42.093963Z"
    }
   },
   "outputs": [
    {
     "data": {
      "text/plain": [
       "Group(20005) ~ {} children=[\n",
       "  <Synth(20007) 'default' ~ {'freq': 200.0, 'out': 0.0, 'amp': 0.10000000149011612, 'pan': 0.0, 'gate': 1.0}>,\n",
       "  Group(20006) ~ {} children=[\n",
       "    <Synth(20008) 'default' ~ {'freq': 600.0, 'out': 0.0, 'amp': 0.10000000149011612, 'pan': 0.0, 'gate': 1.0}>,\n",
       "    <Synth(20009) 'default' ~ {'freq': 1200.0, 'out': 0.0, 'amp': 0.10000000149011612, 'pan': 0.0, 'gate': 1.0}>]]"
      ]
     },
     "execution_count": 1,
     "metadata": {},
     "output_type": "execute_result"
    }
   ],
   "source": [
    "g0"
   ]
  },
  {
   "cell_type": "code",
   "execution_count": 59,
   "metadata": {
    "execution": {
     "iopub.execute_input": "2021-06-10T16:08:42.096963Z",
     "iopub.status.busy": "2021-06-10T16:08:42.096963Z",
     "iopub.status.idle": "2021-06-10T16:08:42.097963Z",
     "shell.execute_reply": "2021-06-10T16:08:42.098963Z"
    }
   },
   "outputs": [
    {
     "data": {
      "text/plain": [
       "Group(20005) ~ {} children=[\n",
       "  <Synth(20007) 'default' ~ {'freq': 200.0, 'out': 0.0, 'amp': 0.10000000149011612, 'pan': 0.0, 'gate': 1.0}>,\n",
       "  Group(20006) ~ {} children=[\n",
       "    <Synth(20008) 'default' ~ {'freq': 600.0, 'out': 0.0, 'amp': 0.10000000149011612, 'pan': 0.0, 'gate': 1.0}>,\n",
       "    <Synth(20009) 'default' ~ {'freq': 1200.0, 'out': 0.0, 'amp': 0.10000000149011612, 'pan': 0.0, 'gate': 1.0}>]]"
      ]
     },
     "execution_count": 1,
     "metadata": {},
     "output_type": "execute_result"
    }
   ],
   "source": [
    "g0.run(False)"
   ]
  },
  {
   "cell_type": "code",
   "execution_count": 60,
   "metadata": {
    "execution": {
     "iopub.execute_input": "2021-06-10T16:08:42.101964Z",
     "iopub.status.busy": "2021-06-10T16:08:42.100962Z",
     "iopub.status.idle": "2021-06-10T16:08:42.104980Z",
     "shell.execute_reply": "2021-06-10T16:08:42.104980Z"
    }
   },
   "outputs": [
    {
     "data": {
      "text/plain": [
       "Group(20005) ~ {} children=[\n",
       "  <Synth(20007) 'default' ~ {'freq': 200.0, 'out': 0.0, 'amp': 0.10000000149011612, 'pan': 0.0, 'gate': 1.0}>,\n",
       "  Group(20006) ~ {} children=[\n",
       "    <Synth(20008) 'default' ~ {'freq': 600.0, 'out': 0.0, 'amp': 0.10000000149011612, 'pan': 0.0, 'gate': 1.0}>,\n",
       "    <Synth(20009) 'default' ~ {'freq': 1200.0, 'out': 0.0, 'amp': 0.10000000149011612, 'pan': 0.0, 'gate': 1.0}>]]"
      ]
     },
     "execution_count": 1,
     "metadata": {},
     "output_type": "execute_result"
    }
   ],
   "source": [
    "g0.run(True)"
   ]
  },
  {
   "cell_type": "code",
   "execution_count": 61,
   "metadata": {
    "execution": {
     "iopub.execute_input": "2021-06-10T16:08:42.106978Z",
     "iopub.status.busy": "2021-06-10T16:08:42.106978Z",
     "iopub.status.idle": "2021-06-10T16:08:42.119976Z",
     "shell.execute_reply": "2021-06-10T16:08:42.120977Z"
    }
   },
   "outputs": [
    {
     "data": {
      "text/plain": [
       "Group(20006) ~ {} children=[\n",
       "  <Synth(20008) 'default' ~ {'freq': 600.0, 'out': 0.0, 'amp': 0.10000000149011612, 'pan': 0.0, 'gate': 1.0}>,\n",
       "  <Synth(20009) 'default' ~ {'freq': 1200.0, 'out': 0.0, 'amp': 0.10000000149011612, 'pan': 0.0, 'gate': 1.0}>]"
      ]
     },
     "execution_count": 1,
     "metadata": {},
     "output_type": "execute_result"
    }
   ],
   "source": [
    "g1.run(False)\n",
    "g1.query_tree()"
   ]
  },
  {
   "cell_type": "code",
   "execution_count": 62,
   "metadata": {
    "execution": {
     "iopub.execute_input": "2021-06-10T16:08:42.122977Z",
     "iopub.status.busy": "2021-06-10T16:08:42.122977Z",
     "iopub.status.idle": "2021-06-10T16:08:42.159989Z",
     "shell.execute_reply": "2021-06-10T16:08:42.159989Z"
    }
   },
   "outputs": [
    {
     "data": {
      "text/plain": [
       "(200.0, 600.0, 1200.0)"
      ]
     },
     "execution_count": 1,
     "metadata": {},
     "output_type": "execute_result"
    }
   ],
   "source": [
    "s0.freq, s1.freq, s2.freq"
   ]
  },
  {
   "cell_type": "code",
   "execution_count": 63,
   "metadata": {
    "execution": {
     "iopub.execute_input": "2021-06-10T16:08:42.162989Z",
     "iopub.status.busy": "2021-06-10T16:08:42.161987Z",
     "iopub.status.idle": "2021-06-10T16:08:42.199353Z",
     "shell.execute_reply": "2021-06-10T16:08:42.199353Z"
    }
   },
   "outputs": [
    {
     "data": {
      "text/plain": [
       "(100.0, 100.0, 100.0)"
      ]
     },
     "execution_count": 1,
     "metadata": {},
     "output_type": "execute_result"
    }
   ],
   "source": [
    "g0.set(\"freq\", 100)\n",
    "s0.freq, s1.freq, s2.freq"
   ]
  },
  {
   "cell_type": "code",
   "execution_count": 64,
   "metadata": {
    "execution": {
     "iopub.execute_input": "2021-06-10T16:08:42.201353Z",
     "iopub.status.busy": "2021-06-10T16:08:42.201353Z",
     "iopub.status.idle": "2021-06-10T16:08:42.237353Z",
     "shell.execute_reply": "2021-06-10T16:08:42.237353Z"
    }
   },
   "outputs": [
    {
     "name": "stdout",
     "output_type": "stream",
     "text": [
      "NODE TREE Group 0\n",
      "   -24 s2\n",
      "     freq: 1000 amp: 0.050000000745058 num: 2 pan: 0 lg: 0.10000000149012 gate: 1\n",
      "   469762049 group\n",
      "   402653185 group\n",
      "   335544321 group\n",
      "   268435457 group\n",
      "   201326593 group\n",
      "   134217729 group\n",
      "   67108865 group\n",
      "      20005 group\n",
      "         20007 default\n",
      "           out: 0 freq: 100 amp: 0.10000000149012 pan: 0 gate: 1\n",
      "         20006 group\n",
      "            20008 default\n",
      "              out: 0 freq: 100 amp: 0.10000000149012 pan: 0 gate: 1\n",
      "            20009 default\n",
      "              out: 0 freq: 100 amp: 0.10000000149012 pan: 0 gate: 1\n",
      "   1 group\n"
     ]
    }
   ],
   "source": [
    "sc.server.dump_tree()"
   ]
  },
  {
   "cell_type": "code",
   "execution_count": 65,
   "metadata": {
    "execution": {
     "iopub.execute_input": "2021-06-10T16:08:42.240352Z",
     "iopub.status.busy": "2021-06-10T16:08:42.240352Z",
     "iopub.status.idle": "2021-06-10T16:08:42.242352Z",
     "shell.execute_reply": "2021-06-10T16:08:42.242352Z"
    }
   },
   "outputs": [
    {
     "data": {
      "text/plain": [
       "Group(20006) ~ {} children=[\n",
       "  <Synth(20008) 'default' ~ {'freq': 100.0, 'out': 0.0, 'amp': 0.10000000149011612, 'pan': 0.0, 'gate': 1.0}>,\n",
       "  <Synth(20009) 'default' ~ {'freq': 100.0, 'out': 0.0, 'amp': 0.10000000149011612, 'pan': 0.0, 'gate': 1.0}>]"
      ]
     },
     "execution_count": 1,
     "metadata": {},
     "output_type": "execute_result"
    }
   ],
   "source": [
    "g1.run(True)"
   ]
  },
  {
   "cell_type": "code",
   "execution_count": 66,
   "metadata": {
    "execution": {
     "iopub.execute_input": "2021-06-10T16:08:42.244352Z",
     "iopub.status.busy": "2021-06-10T16:08:42.244352Z",
     "iopub.status.idle": "2021-06-10T16:08:42.249978Z",
     "shell.execute_reply": "2021-06-10T16:08:42.249978Z"
    }
   },
   "outputs": [
    {
     "data": {
      "text/plain": [
       "Group(0)  {} children=[\n",
       "  <Synth(-24) 's2'  {'freq': 1000.0, 'amp': 0.05000000074505806, 'num': 2.0, 'pan': 0.0, 'lg': 0.10000000149011612, 'gate': 1.0}>,\n",
       "  Group(469762049) ~ {} children=[],\n",
       "  Group(402653185) ~ {} children=[],\n",
       "  Group(335544321) ~ {} children=[],\n",
       "  Group(268435457) ~ {} children=[],\n",
       "  Group(201326593) ~ {} children=[],\n",
       "  Group(134217729) ~ {} children=[],\n",
       "  Group(67108865) ~ {} children=[\n",
       "    Group(20005) ~ {'freq': 100} children=[\n",
       "      <Synth(20007) 'default' ~ {'freq': 100.0, 'out': 0.0, 'amp': 0.10000000149011612, 'pan': 0.0, 'gate': 1.0}>,\n",
       "      Group(20006) ~ {} children=[\n",
       "        <Synth(20008) 'default' ~ {'freq': 100.0, 'out': 0.0, 'amp': 0.10000000149011612, 'pan': 0.0, 'gate': 1.0}>,\n",
       "        <Synth(20009) 'default' ~ {'freq': 100.0, 'out': 0.0, 'amp': 0.10000000149011612, 'pan': 0.0, 'gate': 1.0}>]]],\n",
       "  Group(1) ~ {} children=[]]"
      ]
     },
     "execution_count": 1,
     "metadata": {},
     "output_type": "execute_result"
    }
   ],
   "source": [
    "sc.server.query_all_nodes()"
   ]
  },
  {
   "cell_type": "code",
   "execution_count": 67,
   "metadata": {
    "execution": {
     "iopub.execute_input": "2021-06-10T16:08:42.252977Z",
     "iopub.status.busy": "2021-06-10T16:08:42.251978Z",
     "iopub.status.idle": "2021-06-10T16:08:42.290997Z",
     "shell.execute_reply": "2021-06-10T16:08:42.290997Z"
    }
   },
   "outputs": [
    {
     "data": {
      "text/plain": [
       "(100.0, 440.0, 440.0)"
      ]
     },
     "execution_count": 1,
     "metadata": {},
     "output_type": "execute_result"
    }
   ],
   "source": [
    "g1.set(\"freq\", 440)\n",
    "\n",
    "s0.freq, s1.freq, s2.freq"
   ]
  },
  {
   "cell_type": "code",
   "execution_count": 68,
   "metadata": {
    "execution": {
     "iopub.execute_input": "2021-06-10T16:08:42.292996Z",
     "iopub.status.busy": "2021-06-10T16:08:42.292996Z",
     "iopub.status.idle": "2021-06-10T16:08:42.299998Z",
     "shell.execute_reply": "2021-06-10T16:08:42.299998Z"
    }
   },
   "outputs": [
    {
     "data": {
      "text/plain": [
       "Group(20005) ~ {'freq': 100} children=[\n",
       "  <Synth(20007) 'default' ~ {'freq': 100.0, 'out': 0.0, 'amp': 0.10000000149011612, 'pan': 0.0, 'gate': 1.0}>,\n",
       "  Group(20006) ~ {'freq': 440} children=[\n",
       "    <Synth(20008) 'default' ~ {'freq': 440.0, 'out': 0.0, 'amp': 0.10000000149011612, 'pan': 0.0, 'gate': 1.0}>,\n",
       "    <Synth(20009) 'default' ~ {'freq': 440.0, 'out': 0.0, 'amp': 0.10000000149011612, 'pan': 0.0, 'gate': 1.0}>]]"
      ]
     },
     "execution_count": 1,
     "metadata": {},
     "output_type": "execute_result"
    }
   ],
   "source": [
    "g0.query_tree()"
   ]
  },
  {
   "cell_type": "code",
   "execution_count": 69,
   "metadata": {
    "execution": {
     "iopub.execute_input": "2021-06-10T16:08:42.302998Z",
     "iopub.status.busy": "2021-06-10T16:08:42.302998Z",
     "iopub.status.idle": "2021-06-10T16:08:42.304999Z",
     "shell.execute_reply": "2021-06-10T16:08:42.304999Z"
    }
   },
   "outputs": [
    {
     "data": {
      "text/plain": [
       "Group(20005) ~ {'freq': 100} children=[\n",
       "  <Synth(20007) 'default' ~ {'freq': 100.0, 'out': 0.0, 'amp': 0.10000000149011612, 'pan': 0.0, 'gate': 1.0}>,\n",
       "  Group(20006) ~ {'freq': 440} children=[\n",
       "    <Synth(20008) 'default' ~ {'freq': 440.0, 'out': 0.0, 'amp': 0.10000000149011612, 'pan': 0.0, 'gate': 1.0}>,\n",
       "    <Synth(20009) 'default' ~ {'freq': 440.0, 'out': 0.0, 'amp': 0.10000000149011612, 'pan': 0.0, 'gate': 1.0}>]]"
      ]
     },
     "execution_count": 1,
     "metadata": {},
     "output_type": "execute_result"
    }
   ],
   "source": [
    "g0.move_node_to_tail(s1)"
   ]
  },
  {
   "cell_type": "code",
   "execution_count": 70,
   "metadata": {
    "execution": {
     "iopub.execute_input": "2021-06-10T16:08:42.307998Z",
     "iopub.status.busy": "2021-06-10T16:08:42.306997Z",
     "iopub.status.idle": "2021-06-10T16:08:42.310998Z",
     "shell.execute_reply": "2021-06-10T16:08:42.310998Z"
    }
   },
   "outputs": [
    {
     "data": {
      "text/plain": [
       "Group(20005) ~ {'freq': 100} children=[\n",
       "  <Synth(20007) 'default' ~ {'freq': 100.0, 'out': 0.0, 'amp': 0.10000000149011612, 'pan': 0.0, 'gate': 1.0}>,\n",
       "  Group(20006) ~ {'freq': 440} children=[\n",
       "    <Synth(20008) 'default' ~ {'freq': 440.0, 'out': 0.0, 'amp': 0.10000000149011612, 'pan': 0.0, 'gate': 1.0}>,\n",
       "    <Synth(20009) 'default' ~ {'freq': 440.0, 'out': 0.0, 'amp': 0.10000000149011612, 'pan': 0.0, 'gate': 1.0}>]]"
      ]
     },
     "execution_count": 1,
     "metadata": {},
     "output_type": "execute_result"
    }
   ],
   "source": [
    "g0.dump_tree()"
   ]
  },
  {
   "cell_type": "code",
   "execution_count": 71,
   "metadata": {
    "execution": {
     "iopub.execute_input": "2021-06-10T16:08:42.313998Z",
     "iopub.status.busy": "2021-06-10T16:08:42.312997Z",
     "iopub.status.idle": "2021-06-10T16:08:42.340999Z",
     "shell.execute_reply": "2021-06-10T16:08:42.340999Z"
    }
   },
   "outputs": [
    {
     "data": {
      "text/plain": [
       "(100.0, 440.0, 800.0)"
      ]
     },
     "execution_count": 1,
     "metadata": {},
     "output_type": "execute_result"
    }
   ],
   "source": [
    "g1.set(\"freq\", 800)\n",
    "\n",
    "s0.freq, s1.freq, s2.freq"
   ]
  },
  {
   "cell_type": "code",
   "execution_count": 72,
   "metadata": {
    "execution": {
     "iopub.execute_input": "2021-06-10T16:08:42.343998Z",
     "iopub.status.busy": "2021-06-10T16:08:42.342998Z",
     "iopub.status.idle": "2021-06-10T16:08:42.359615Z",
     "shell.execute_reply": "2021-06-10T16:08:42.359615Z"
    }
   },
   "outputs": [
    {
     "data": {
      "text/plain": [
       "Group(67108865) ~ {} children=[\n",
       "  Group(20005) ~ {'freq': 100} children=[\n",
       "    <Synth(20007) 'default' ~ {'freq': 100.0, 'out': 0.0, 'amp': 0.10000000149011612, 'pan': 0.0, 'gate': 1.0}>,\n",
       "    Group(20006) ~ {'freq': 800} children=[\n",
       "      <Synth(20009) 'default' ~ {'freq': 800.0, 'out': 0.0, 'amp': 0.10000000149011612, 'pan': 0.0, 'gate': 1.0}>],\n",
       "    <Synth(20008) 'default' ~ {'freq': 440.0, 'out': 0.0, 'amp': 0.10000000149011612, 'pan': 0.0, 'gate': 1.0}>]]"
      ]
     },
     "execution_count": 1,
     "metadata": {},
     "output_type": "execute_result"
    }
   ],
   "source": [
    "sc.server.default_group.query_tree()"
   ]
  },
  {
   "cell_type": "code",
   "execution_count": 73,
   "metadata": {
    "execution": {
     "iopub.execute_input": "2021-06-10T16:08:42.361613Z",
     "iopub.status.busy": "2021-06-10T16:08:42.361613Z",
     "iopub.status.idle": "2021-06-10T16:08:42.442663Z",
     "shell.execute_reply": "2021-06-10T16:08:42.442663Z"
    }
   },
   "outputs": [
    {
     "name": "stdout",
     "output_type": "stream",
     "text": [
      "NODE TREE Group 0\n",
      "   469762049 group\n",
      "   402653185 group\n",
      "   335544321 group\n",
      "   268435457 group\n",
      "   201326593 group\n",
      "   134217729 group\n",
      "   67108865 group\n",
      "   1 group\n"
     ]
    }
   ],
   "source": [
    "sc.server.free_all()\n",
    "sc.server.dump_tree()"
   ]
  },
  {
   "cell_type": "code",
   "execution_count": 74,
   "metadata": {
    "execution": {
     "iopub.execute_input": "2021-06-10T16:08:42.445659Z",
     "iopub.status.busy": "2021-06-10T16:08:42.445659Z",
     "iopub.status.idle": "2021-06-10T16:08:43.601503Z",
     "shell.execute_reply": "2021-06-10T16:08:43.601503Z"
    }
   },
   "outputs": [],
   "source": [
    "sc.exit()"
   ]
  },
  {
   "cell_type": "code",
   "execution_count": null,
   "metadata": {},
   "outputs": [],
   "source": []
  }
 ],
 "metadata": {
  "language_info": {
   "codemirror_mode": {
    "name": "ipython",
    "version": 3
   },
   "file_extension": ".py",
   "mimetype": "text/x-python",
   "name": "python",
   "nbconvert_exporter": "python",
   "pygments_lexer": "ipython3",
   "version": "3.7.10"
  },
  "toc": {
   "base_numbering": 1,
   "nav_menu": {},
   "number_sections": true,
   "sideBar": true,
   "skip_h1_title": true,
   "title_cell": "Table of Contents",
   "title_sidebar": "Contents",
   "toc_cell": false,
   "toc_position": {},
   "toc_section_display": true,
   "toc_window_display": false
  },
  "toc-autonumbering": false,
  "toc-showcode": false,
  "toc-showmarkdowntxt": false,
  "toc-showtags": true
 },
 "nbformat": 4,
 "nbformat_minor": 4
}
