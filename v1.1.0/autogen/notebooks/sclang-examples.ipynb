{
 "cells": [
  {
   "cell_type": "markdown",
   "metadata": {},
   "source": [
    "## Usage of sclang in sc3nb\n",
    "\n",
    "You can send commands and receive data directly from the SuperCollider Language"
   ]
  },
  {
   "cell_type": "code",
   "execution_count": 1,
   "metadata": {
    "execution": {
     "iopub.execute_input": "2023-08-22T12:09:51.090261Z",
     "iopub.status.busy": "2023-08-22T12:09:51.089941Z",
     "iopub.status.idle": "2023-08-22T12:09:51.289402Z",
     "shell.execute_reply": "2023-08-22T12:09:51.288660Z"
    }
   },
   "outputs": [],
   "source": [
    "import time\n",
    "import numpy as np\n",
    "\n",
    "import sc3nb as scn"
   ]
  },
  {
   "cell_type": "code",
   "execution_count": 2,
   "metadata": {
    "execution": {
     "iopub.execute_input": "2023-08-22T12:09:51.293034Z",
     "iopub.status.busy": "2023-08-22T12:09:51.292710Z",
     "iopub.status.idle": "2023-08-22T12:09:54.353424Z",
     "shell.execute_reply": "2023-08-22T12:09:54.351793Z"
    }
   },
   "outputs": [
    {
     "data": {
      "application/javascript": [
       "if (typeof Jupyter !== 'undefined') {\n",
       "                        Jupyter.keyboard_manager.command_shortcuts.add_shortcut(\n",
       "                        'cmd-.', {\n",
       "                        help : 'Free all nodes on SC server',\n",
       "                        help_index : 'zz',\n",
       "                        handler : function (event) {\n",
       "                            IPython.notebook.kernel.execute(\n",
       "                                \"import sc3nb; sc3nb.SC.get_default().server.free_all(root=True)\"\n",
       "                            )\n",
       "                            return true;}\n",
       "                        });\n",
       "                    }"
      ],
      "text/plain": [
       "<IPython.core.display.Javascript object>"
      ]
     },
     "metadata": {},
     "output_type": "display_data"
    },
    {
     "name": "stdout",
     "output_type": "stream",
     "text": [
      "Starting sclang process... [sclang | start reading ]\n"
     ]
    },
    {
     "name": "stdout",
     "output_type": "stream",
     "text": [
      "Done.\n",
      "Registering OSC /return callback in sclang... Done.\n",
      "Loading default sc3nb SynthDefs... Done.\n",
      "Booting SuperCollider Server... [scsynth | start reading ]\n"
     ]
    },
    {
     "name": "stdout",
     "output_type": "stream",
     "text": [
      "Done.\n"
     ]
    }
   ],
   "source": [
    "sc = scn.startup()"
   ]
  },
  {
   "cell_type": "markdown",
   "metadata": {},
   "source": [
    "### sclang command execution"
   ]
  },
  {
   "cell_type": "markdown",
   "metadata": {},
   "source": [
    "To send sc3 commands (i.e. program strings) to the language, either use the following functions"
   ]
  },
  {
   "cell_type": "markdown",
   "metadata": {},
   "source": [
    "* `cmd()` normal command sending."
   ]
  },
  {
   "cell_type": "code",
   "execution_count": 3,
   "metadata": {
    "code_folding": [],
    "execution": {
     "iopub.execute_input": "2023-08-22T12:09:54.358602Z",
     "iopub.status.busy": "2023-08-22T12:09:54.358124Z",
     "iopub.status.idle": "2023-08-22T12:09:54.373386Z",
     "shell.execute_reply": "2023-08-22T12:09:54.372512Z"
    }
   },
   "outputs": [
    {
     "name": "stdout",
     "output_type": "stream",
     "text": [
      "Hello World\n",
      "-> Hello World\n"
     ]
    }
   ],
   "source": [
    "# sc.cmd(cmdstr, pyvars)\n",
    "sc.lang.cmd('\"Hello World\".postln')  # output will be printed"
   ]
  },
  {
   "cell_type": "markdown",
   "metadata": {},
   "source": [
    "* `cmds()` silent version without (alias for `cmd(.., verbose=False)`)"
   ]
  },
  {
   "cell_type": "code",
   "execution_count": 4,
   "metadata": {
    "code_folding": [],
    "execution": {
     "iopub.execute_input": "2023-08-22T12:09:54.377585Z",
     "iopub.status.busy": "2023-08-22T12:09:54.377265Z",
     "iopub.status.idle": "2023-08-22T12:09:54.393521Z",
     "shell.execute_reply": "2023-08-22T12:09:54.392310Z"
    }
   },
   "outputs": [],
   "source": [
    "sc.lang.cmds('\"Hello User\".postln')  # check jupyter console for output"
   ]
  },
  {
   "cell_type": "markdown",
   "metadata": {},
   "source": [
    "* `cmdg()` send command and get the output (alias for `cmd(.., get_return=True)`). More details [below](#Getting-sclang-output-in-python)"
   ]
  },
  {
   "cell_type": "code",
   "execution_count": 5,
   "metadata": {
    "code_folding": [],
    "execution": {
     "iopub.execute_input": "2023-08-22T12:09:54.398832Z",
     "iopub.status.busy": "2023-08-22T12:09:54.398061Z",
     "iopub.status.idle": "2023-08-22T12:09:54.414921Z",
     "shell.execute_reply": "2023-08-22T12:09:54.413937Z"
    }
   },
   "outputs": [
    {
     "name": "stdout",
     "output_type": "stream",
     "text": [
      "sc3nb\n",
      "-> sc3nb\n",
      "We received the string = \"sc3nb\"\n"
     ]
    }
   ],
   "source": [
    "string = sc.lang.cmdg('\"sc3nb\".postln')\n",
    "print(f'We received the string = \"{string}\"')"
   ]
  },
  {
   "cell_type": "markdown",
   "metadata": {},
   "source": [
    "or use the corresponding Magics in Jupyter\n",
    "\n",
    "* Jupyter line magics ``%sc, %scv, %scs, %scg, %scgv, %scgs``\n",
    "* Jupyter cell magics ``%%sc, %%scv, %%scs, %%scg, %%scgv, %%scgs``\n",
    "\n",
    "which wrap the above functions: `cmd{v,g,s} = %sc{v,g,s}`\n",
    "and v=verbose, g=get, s=silent verbose is default, so ` %sc=%scv`"
   ]
  },
  {
   "cell_type": "markdown",
   "metadata": {},
   "source": [
    "Line magics can be placed within code just as the function calls as shown here:"
   ]
  },
  {
   "cell_type": "code",
   "execution_count": 6,
   "metadata": {
    "execution": {
     "iopub.execute_input": "2023-08-22T12:09:54.419660Z",
     "iopub.status.busy": "2023-08-22T12:09:54.419321Z",
     "iopub.status.idle": "2023-08-22T12:09:57.329265Z",
     "shell.execute_reply": "2023-08-22T12:09:57.327652Z"
    }
   },
   "outputs": [],
   "source": [
    "for p in range(1, 10):  # a bouncing ball\n",
    "    %scs Synth.new(\\s1, [\\freq, 200]) // this is SC code so use // instead of # \n",
    "    time.sleep(1/p)"
   ]
  },
  {
   "cell_type": "markdown",
   "metadata": {},
   "source": [
    "Use raw python strings for multi-line sc3-programs:"
   ]
  },
  {
   "cell_type": "code",
   "execution_count": 7,
   "metadata": {
    "execution": {
     "iopub.execute_input": "2023-08-22T12:09:57.334776Z",
     "iopub.status.busy": "2023-08-22T12:09:57.333934Z",
     "iopub.status.idle": "2023-08-22T12:09:57.348634Z",
     "shell.execute_reply": "2023-08-22T12:09:57.347815Z"
    }
   },
   "outputs": [
    {
     "name": "stdout",
     "output_type": "stream",
     "text": [
      "-> a Routine\n"
     ]
    }
   ],
   "source": [
    "sc.lang.cmd(r\"\"\"\n",
    "Routine({\n",
    "    x = 5.collect{ |i|\n",
    "        0.2.wait;\n",
    "        Synth.new(\\default, [\\freq, 50+(50*i)]);\n",
    "    };\n",
    "    1.wait;\n",
    "    x.do{|e| \n",
    "        e.release;\n",
    "        0.1.wait;};\n",
    "}).play;\n",
    "\"\"\")"
   ]
  },
  {
   "cell_type": "markdown",
   "metadata": {},
   "source": [
    "alternatively, you can use the cell magics"
   ]
  },
  {
   "cell_type": "code",
   "execution_count": 8,
   "metadata": {
    "execution": {
     "iopub.execute_input": "2023-08-22T12:09:57.352079Z",
     "iopub.status.busy": "2023-08-22T12:09:57.351788Z",
     "iopub.status.idle": "2023-08-22T12:09:57.360058Z",
     "shell.execute_reply": "2023-08-22T12:09:57.359402Z"
    }
   },
   "outputs": [
    {
     "name": "stdout",
     "output_type": "stream",
     "text": [
      "-> a Routine\n"
     ]
    }
   ],
   "source": [
    "%%sc\n",
    "Routine({\n",
    "    x = 5.collect{ |i|\n",
    "        0.2.wait;\n",
    "        Synth.new(\\default, [\\freq, 50+(50*i)]);\n",
    "    };\n",
    "    1.wait;\n",
    "    x.do{|e| \n",
    "        e.release;\n",
    "        0.1.wait;};\n",
    "}).play;"
   ]
  },
  {
   "cell_type": "markdown",
   "metadata": {},
   "source": [
    "Note that the code is executed in sclang and Python is returning directly after sending the command."
   ]
  },
  {
   "cell_type": "markdown",
   "metadata": {},
   "source": [
    "### sclang command execution with python variable injection"
   ]
  },
  {
   "cell_type": "markdown",
   "metadata": {},
   "source": [
    "Python variables can be injected into sc3 commands by using the `^` special: "
   ]
  },
  {
   "cell_type": "markdown",
   "metadata": {},
   "source": [
    "The following examples demonstrates it by setting frequencies by using python variables"
   ]
  },
  {
   "cell_type": "code",
   "execution_count": 9,
   "metadata": {
    "execution": {
     "iopub.execute_input": "2023-08-22T12:09:57.363681Z",
     "iopub.status.busy": "2023-08-22T12:09:57.363397Z",
     "iopub.status.idle": "2023-08-22T12:10:00.209989Z",
     "shell.execute_reply": "2023-08-22T12:10:00.208557Z"
    }
   },
   "outputs": [],
   "source": [
    "for p in range(1, 50):  # a tone ladder\n",
    "    freq = 50 + p*3\n",
    "    dur = np.log(p)\n",
    "    position = np.sign(p-25)\n",
    "    %scs Synth.new(\\s1, [\\freq, ^freq, \\dur, ^dur, \\pan, ^position])\n",
    "    time.sleep(0.05)"
   ]
  },
  {
   "cell_type": "markdown",
   "metadata": {},
   "source": [
    "This is injection is done with"
   ]
  },
  {
   "cell_type": "code",
   "execution_count": 10,
   "metadata": {
    "execution": {
     "iopub.execute_input": "2023-08-22T12:10:00.215199Z",
     "iopub.status.busy": "2023-08-22T12:10:00.214333Z",
     "iopub.status.idle": "2023-08-22T12:10:00.219049Z",
     "shell.execute_reply": "2023-08-22T12:10:00.218285Z"
    }
   },
   "outputs": [
    {
     "name": "stdout",
     "output_type": "stream",
     "text": [
      "Help on function convert_to_sc in module sc3nb.util:\n",
      "\n",
      "convert_to_sc(obj: Any) -> str\n",
      "    Converts python objects to SuperCollider code literals.\n",
      "    \n",
      "    This supports currently:\n",
      "    \n",
      "    * numpy.ndarray -> SC Array representation\n",
      "    * complex type -> SC Complex\n",
      "    * strings -> if starting with sc3: it will be used as SC code\n",
      "                 if it starts with a \\ (single escaped backward slash) it will be used as symbol\n",
      "                 else it will be inserted as string\n",
      "    \n",
      "    For unsupported types the __repr__ will be used.\n",
      "    \n",
      "    Parameters\n",
      "    ----------\n",
      "    obj : Any\n",
      "        object that should be converted to a SuperCollider code literal.\n",
      "    \n",
      "    Returns\n",
      "    -------\n",
      "    str\n",
      "        SuperCollider Code literal\n",
      "\n"
     ]
    }
   ],
   "source": [
    "help(scn.util.convert_to_sc)"
   ]
  },
  {
   "cell_type": "markdown",
   "metadata": {},
   "source": [
    "Here are some conversion examples"
   ]
  },
  {
   "cell_type": "code",
   "execution_count": 11,
   "metadata": {
    "execution": {
     "iopub.execute_input": "2023-08-22T12:10:00.223185Z",
     "iopub.status.busy": "2023-08-22T12:10:00.222680Z",
     "iopub.status.idle": "2023-08-22T12:10:00.231042Z",
     "shell.execute_reply": "2023-08-22T12:10:00.230213Z"
    }
   },
   "outputs": [
    {
     "name": "stdout",
     "output_type": "stream",
     "text": [
      "-> Array\n"
     ]
    }
   ],
   "source": [
    "python_list = [1,2,3,4]\n",
    "%sc ^python_list.class"
   ]
  },
  {
   "cell_type": "code",
   "execution_count": 12,
   "metadata": {
    "execution": {
     "iopub.execute_input": "2023-08-22T12:10:00.235158Z",
     "iopub.status.busy": "2023-08-22T12:10:00.234492Z",
     "iopub.status.idle": "2023-08-22T12:10:00.243653Z",
     "shell.execute_reply": "2023-08-22T12:10:00.242641Z"
    }
   },
   "outputs": [
    {
     "name": "stdout",
     "output_type": "stream",
     "text": [
      "-> Complex\n"
     ]
    }
   ],
   "source": [
    "complex_py = 1+1j\n",
    "%sc ^complex_py.class"
   ]
  },
  {
   "cell_type": "code",
   "execution_count": 13,
   "metadata": {
    "execution": {
     "iopub.execute_input": "2023-08-22T12:10:00.247438Z",
     "iopub.status.busy": "2023-08-22T12:10:00.247103Z",
     "iopub.status.idle": "2023-08-22T12:10:00.255943Z",
     "shell.execute_reply": "2023-08-22T12:10:00.254991Z"
    }
   },
   "outputs": [
    {
     "name": "stdout",
     "output_type": "stream",
     "text": [
      "-> Symbol\n"
     ]
    }
   ],
   "source": [
    "symbol = r\"\\\\python\"\n",
    "%sc ^symbol.class"
   ]
  },
  {
   "cell_type": "markdown",
   "metadata": {},
   "source": [
    "When using the `cmd`, `cmdg` and `cmds` functions you can also provide a dictionary with variable names as keys and content as values (which can use other python vars or statements)"
   ]
  },
  {
   "cell_type": "code",
   "execution_count": 14,
   "metadata": {
    "execution": {
     "iopub.execute_input": "2023-08-22T12:10:00.259714Z",
     "iopub.status.busy": "2023-08-22T12:10:00.259386Z",
     "iopub.status.idle": "2023-08-22T12:10:00.267284Z",
     "shell.execute_reply": "2023-08-22T12:10:00.266497Z"
    }
   },
   "outputs": [
    {
     "name": "stdout",
     "output_type": "stream",
     "text": [
      "-> 0.5\n"
     ]
    }
   ],
   "source": [
    "sc.lang.cmdv(\"^name1 / ^name2\", pyvars={'name1': 9,'name2': 9*2})"
   ]
  },
  {
   "cell_type": "markdown",
   "metadata": {},
   "source": [
    "Without providing pyvars, variables are searched in the users namespace."
   ]
  },
  {
   "cell_type": "code",
   "execution_count": 15,
   "metadata": {
    "execution": {
     "iopub.execute_input": "2023-08-22T12:10:00.271598Z",
     "iopub.status.busy": "2023-08-22T12:10:00.271027Z",
     "iopub.status.idle": "2023-08-22T12:10:00.283840Z",
     "shell.execute_reply": "2023-08-22T12:10:00.283167Z"
    }
   },
   "outputs": [
    {
     "name": "stdout",
     "output_type": "stream",
     "text": [
      "-> 42\n"
     ]
    }
   ],
   "source": [
    "freq = 5\n",
    "rate = 6\n",
    "sc.lang.cmdv(\"(^freq + 1) * (^rate + 1)\")"
   ]
  },
  {
   "cell_type": "markdown",
   "metadata": {},
   "source": [
    "alternatively via the magic this is done as:"
   ]
  },
  {
   "cell_type": "code",
   "execution_count": 16,
   "metadata": {
    "execution": {
     "iopub.execute_input": "2023-08-22T12:10:00.287204Z",
     "iopub.status.busy": "2023-08-22T12:10:00.286917Z",
     "iopub.status.idle": "2023-08-22T12:10:00.294448Z",
     "shell.execute_reply": "2023-08-22T12:10:00.293801Z"
    }
   },
   "outputs": [
    {
     "name": "stdout",
     "output_type": "stream",
     "text": [
      "-> 42\n"
     ]
    }
   ],
   "source": [
    "%scv (^freq + 1) * (^rate + 1)"
   ]
  },
  {
   "cell_type": "markdown",
   "metadata": {},
   "source": [
    "### Getting sclang output in python\n",
    "\n",
    "* To *get* the output of an sclang snippet into a python variable, use the cmdg function.\n",
    "* The following example shows how to transfer a synth's nodeID"
   ]
  },
  {
   "cell_type": "code",
   "execution_count": 17,
   "metadata": {
    "execution": {
     "iopub.execute_input": "2023-08-22T12:10:00.297782Z",
     "iopub.status.busy": "2023-08-22T12:10:00.297478Z",
     "iopub.status.idle": "2023-08-22T12:10:00.311222Z",
     "shell.execute_reply": "2023-08-22T12:10:00.310425Z"
    }
   },
   "outputs": [
    {
     "name": "stdout",
     "output_type": "stream",
     "text": [
      "-> Synth('default' : 1067)\n"
     ]
    }
   ],
   "source": [
    "# start a Synth\n",
    "sc.lang.cmd(r\"\"\"x = Synth.new(\\default)\"\"\")"
   ]
  },
  {
   "cell_type": "code",
   "execution_count": 18,
   "metadata": {
    "execution": {
     "iopub.execute_input": "2023-08-22T12:10:00.314900Z",
     "iopub.status.busy": "2023-08-22T12:10:00.314538Z",
     "iopub.status.idle": "2023-08-22T12:10:00.327287Z",
     "shell.execute_reply": "2023-08-22T12:10:00.326682Z"
    }
   },
   "outputs": [
    {
     "name": "stdout",
     "output_type": "stream",
     "text": [
      "-> 1067\n",
      "1067\n"
     ]
    }
   ],
   "source": [
    "# get the nodeId to python\n",
    "nodeID = sc.lang.cmdg(\"x.nodeID\")\n",
    "print(nodeID)"
   ]
  },
  {
   "cell_type": "code",
   "execution_count": 19,
   "metadata": {
    "execution": {
     "iopub.execute_input": "2023-08-22T12:10:00.330624Z",
     "iopub.status.busy": "2023-08-22T12:10:00.330335Z",
     "iopub.status.idle": "2023-08-22T12:10:00.333856Z",
     "shell.execute_reply": "2023-08-22T12:10:00.333176Z"
    }
   },
   "outputs": [],
   "source": [
    "# use the nodeID to free the Synth via a message to scsynth audio server directly\n",
    "sc.server.msg(\"/n_free\", nodeID)  "
   ]
  },
  {
   "cell_type": "markdown",
   "metadata": {},
   "source": [
    "**sc.cmdg(), resp. %scg return integers, floats, strings and lists**\n",
    "* %scg can be assigned to a python variable within code"
   ]
  },
  {
   "cell_type": "code",
   "execution_count": 20,
   "metadata": {
    "execution": {
     "iopub.execute_input": "2023-08-22T12:10:00.337081Z",
     "iopub.status.busy": "2023-08-22T12:10:00.336812Z",
     "iopub.status.idle": "2023-08-22T12:10:00.344120Z",
     "shell.execute_reply": "2023-08-22T12:10:00.343450Z"
    }
   },
   "outputs": [
    {
     "name": "stdout",
     "output_type": "stream",
     "text": [
      "-> 24686\n",
      "returned an <class 'int'> of value 24686\n"
     ]
    }
   ],
   "source": [
    "a = %scg 1234 + 23452\n",
    "print(f\"returned an {type(a)} of value {a}\")"
   ]
  },
  {
   "cell_type": "code",
   "execution_count": 21,
   "metadata": {
    "execution": {
     "iopub.execute_input": "2023-08-22T12:10:00.347233Z",
     "iopub.status.busy": "2023-08-22T12:10:00.346957Z",
     "iopub.status.idle": "2023-08-22T12:10:00.354548Z",
     "shell.execute_reply": "2023-08-22T12:10:00.353861Z"
    }
   },
   "outputs": [
    {
     "name": "stdout",
     "output_type": "stream",
     "text": [
      "-> 1523990.25\n",
      "returned an <class 'float'> of value 1523990.25\n"
     ]
    }
   ],
   "source": [
    "a = %scg 1234.5.squared\n",
    "print(f\"returned an {type(a)} of value {a}\")"
   ]
  },
  {
   "cell_type": "code",
   "execution_count": 22,
   "metadata": {
    "execution": {
     "iopub.execute_input": "2023-08-22T12:10:00.357736Z",
     "iopub.status.busy": "2023-08-22T12:10:00.357460Z",
     "iopub.status.idle": "2023-08-22T12:10:00.364802Z",
     "shell.execute_reply": "2023-08-22T12:10:00.364121Z"
    }
   },
   "outputs": [
    {
     "name": "stdout",
     "output_type": "stream",
     "text": [
      "-> fioositnanic\n",
      "returned an <class 'str'> of value fioositnanic\n"
     ]
    }
   ],
   "source": [
    "a = %scg \"sonification\".scramble\n",
    "print(f\"returned an {type(a)} of value {a}\")"
   ]
  },
  {
   "cell_type": "code",
   "execution_count": 23,
   "metadata": {
    "execution": {
     "iopub.execute_input": "2023-08-22T12:10:00.368035Z",
     "iopub.status.busy": "2023-08-22T12:10:00.367721Z",
     "iopub.status.idle": "2023-08-22T12:10:00.383328Z",
     "shell.execute_reply": "2023-08-22T12:10:00.382472Z"
    }
   },
   "outputs": [
    {
     "name": "stdout",
     "output_type": "stream",
     "text": [
      "-> oiiatnoisncf!\n"
     ]
    },
    {
     "data": {
      "text/plain": [
       "'oiiatnoisncf!'"
      ]
     },
     "execution_count": 23,
     "metadata": {},
     "output_type": "execute_result"
    }
   ],
   "source": [
    "%scs ~retval = \"sonification\".scramble\n",
    "%scg ~retval ++ \"!\""
   ]
  },
  {
   "cell_type": "markdown",
   "metadata": {},
   "source": [
    "You can combine your code in a single row."
   ]
  },
  {
   "cell_type": "code",
   "execution_count": 24,
   "metadata": {
    "execution": {
     "iopub.execute_input": "2023-08-22T12:10:00.387194Z",
     "iopub.status.busy": "2023-08-22T12:10:00.386872Z",
     "iopub.status.idle": "2023-08-22T12:10:00.397062Z",
     "shell.execute_reply": "2023-08-22T12:10:00.396276Z"
    }
   },
   "outputs": [
    {
     "name": "stdout",
     "output_type": "stream",
     "text": [
      "-> initifcsoano!\n"
     ]
    },
    {
     "data": {
      "text/plain": [
       "'initifcsoano!'"
      ]
     },
     "execution_count": 24,
     "metadata": {},
     "output_type": "execute_result"
    }
   ],
   "source": [
    "scramble = %scg ~retval = \"sonification\".scramble; ~retval ++ \"!\";\n",
    "scramble"
   ]
  },
  {
   "cell_type": "code",
   "execution_count": 25,
   "metadata": {
    "execution": {
     "iopub.execute_input": "2023-08-22T12:10:00.400395Z",
     "iopub.status.busy": "2023-08-22T12:10:00.400110Z",
     "iopub.status.idle": "2023-08-22T12:10:00.408317Z",
     "shell.execute_reply": "2023-08-22T12:10:00.407510Z"
    }
   },
   "outputs": [
    {
     "name": "stdout",
     "output_type": "stream",
     "text": [
      "-> [ 1.0, 1.1, 1.2, 1.3, 1.4, 1.5, 1.6, 1.7, 1.8, 1.9 ]\n"
     ]
    }
   ],
   "source": [
    "a = %scg (1,1.1..2)"
   ]
  },
  {
   "cell_type": "markdown",
   "metadata": {},
   "source": [
    "Note that floating-point numbers do only have limited precision"
   ]
  },
  {
   "cell_type": "code",
   "execution_count": 26,
   "metadata": {
    "execution": {
     "iopub.execute_input": "2023-08-22T12:10:00.411924Z",
     "iopub.status.busy": "2023-08-22T12:10:00.411649Z",
     "iopub.status.idle": "2023-08-22T12:10:00.416682Z",
     "shell.execute_reply": "2023-08-22T12:10:00.415917Z"
    }
   },
   "outputs": [
    {
     "name": "stdout",
     "output_type": "stream",
     "text": [
      "list with length: 10\n"
     ]
    },
    {
     "data": {
      "text/plain": [
       "[1.0,\n",
       " 1.100000023841858,\n",
       " 1.2000000476837158,\n",
       " 1.2999999523162842,\n",
       " 1.399999976158142,\n",
       " 1.5,\n",
       " 1.600000023841858,\n",
       " 1.7000000476837158,\n",
       " 1.7999999523162842,\n",
       " 1.899999976158142]"
      ]
     },
     "execution_count": 26,
     "metadata": {},
     "output_type": "execute_result"
    }
   ],
   "source": [
    "print(f\"list with length: {len(a)}\")\n",
    "a"
   ]
  },
  {
   "cell_type": "markdown",
   "metadata": {},
   "source": [
    "However they should be close"
   ]
  },
  {
   "cell_type": "code",
   "execution_count": 27,
   "metadata": {
    "execution": {
     "iopub.execute_input": "2023-08-22T12:10:00.419923Z",
     "iopub.status.busy": "2023-08-22T12:10:00.419643Z",
     "iopub.status.idle": "2023-08-22T12:10:00.424263Z",
     "shell.execute_reply": "2023-08-22T12:10:00.423644Z"
    }
   },
   "outputs": [
    {
     "data": {
      "text/plain": [
       "[1.0, 1.1, 1.2, 1.3, 1.4, 1.5, 1.6, 1.7, 1.8, 1.9]"
      ]
     },
     "execution_count": 27,
     "metadata": {},
     "output_type": "execute_result"
    }
   ],
   "source": [
    "[round(num, 6) for num in a]"
   ]
  },
  {
   "cell_type": "code",
   "execution_count": 28,
   "metadata": {
    "execution": {
     "iopub.execute_input": "2023-08-22T12:10:00.427447Z",
     "iopub.status.busy": "2023-08-22T12:10:00.427167Z",
     "iopub.status.idle": "2023-08-22T12:10:00.431958Z",
     "shell.execute_reply": "2023-08-22T12:10:00.431325Z"
    }
   },
   "outputs": [
    {
     "data": {
      "text/plain": [
       "True"
      ]
     },
     "execution_count": 28,
     "metadata": {},
     "output_type": "execute_result"
    }
   ],
   "source": [
    "np.allclose(a, np.arange(1, 2, 0.1))"
   ]
  },
  {
   "cell_type": "markdown",
   "metadata": {},
   "source": [
    "### Some more usage examples"
   ]
  },
  {
   "cell_type": "markdown",
   "metadata": {},
   "source": [
    "You can use the SuperCollider GUI features."
   ]
  },
  {
   "cell_type": "code",
   "execution_count": 29,
   "metadata": {
    "execution": {
     "iopub.execute_input": "2023-08-22T12:10:00.435334Z",
     "iopub.status.busy": "2023-08-22T12:10:00.435051Z",
     "iopub.status.idle": "2023-08-22T12:10:01.154494Z",
     "shell.execute_reply": "2023-08-22T12:10:01.153630Z"
    }
   },
   "outputs": [
    {
     "name": "stdout",
     "output_type": "stream",
     "text": [
      "SCDoc: Indexing help-files...\n",
      "SCDoc: Indexed 1367 documents in 0.69 seconds\n",
      "-> MouseX\n"
     ]
    }
   ],
   "source": [
    "sc.lang.cmd(r\"MouseX.help\", timeout=10)"
   ]
  },
  {
   "cell_type": "code",
   "execution_count": 30,
   "metadata": {
    "execution": {
     "iopub.execute_input": "2023-08-22T12:10:01.158609Z",
     "iopub.status.busy": "2023-08-22T12:10:01.158248Z",
     "iopub.status.idle": "2023-08-22T12:10:01.294977Z",
     "shell.execute_reply": "2023-08-22T12:10:01.293679Z"
    }
   },
   "outputs": [
    {
     "name": "stdout",
     "output_type": "stream",
     "text": [
      "-> Synth('temp__0' : 1068)\n"
     ]
    }
   ],
   "source": [
    "%sc {SinOsc.ar(MouseX.kr(200,400))}.play  // move mouse horizontally, CMD-. to stop"
   ]
  },
  {
   "cell_type": "code",
   "execution_count": 31,
   "metadata": {
    "execution": {
     "iopub.execute_input": "2023-08-22T12:10:01.303563Z",
     "iopub.status.busy": "2023-08-22T12:10:01.302947Z",
     "iopub.status.idle": "2023-08-22T12:10:01.434181Z",
     "shell.execute_reply": "2023-08-22T12:10:01.432432Z"
    }
   },
   "outputs": [
    {
     "name": "stdout",
     "output_type": "stream",
     "text": [
      "-> a Stethoscope\n"
     ]
    }
   ],
   "source": [
    "%sc s.scope()"
   ]
  },
  {
   "cell_type": "code",
   "execution_count": 32,
   "metadata": {
    "execution": {
     "iopub.execute_input": "2023-08-22T12:10:01.439266Z",
     "iopub.status.busy": "2023-08-22T12:10:01.438603Z",
     "iopub.status.idle": "2023-08-22T12:10:01.538338Z",
     "shell.execute_reply": "2023-08-22T12:10:01.537368Z"
    }
   },
   "outputs": [],
   "source": [
    "sc.server.free_all()  # leaves the scope running"
   ]
  },
  {
   "cell_type": "code",
   "execution_count": 33,
   "metadata": {
    "execution": {
     "iopub.execute_input": "2023-08-22T12:10:01.544302Z",
     "iopub.status.busy": "2023-08-22T12:10:01.543705Z",
     "iopub.status.idle": "2023-08-22T12:10:01.553631Z",
     "shell.execute_reply": "2023-08-22T12:10:01.552630Z"
    }
   },
   "outputs": [
    {
     "name": "stdout",
     "output_type": "stream",
     "text": [
      "-> a Routine\n"
     ]
    }
   ],
   "source": [
    "%%sc\n",
    "{\n",
    "    x = Synth.new(\\s2, [\\freq, 100, \\num, 1]);\n",
    "    250.do{|i|\n",
    "        x.set(\\freq, sin(0.2*i.pow(1.5))*100 + 200);\n",
    "        0.02.wait;\n",
    "    };\n",
    "    x.free;\n",
    "}.fork"
   ]
  },
  {
   "cell_type": "code",
   "execution_count": 34,
   "metadata": {
    "execution": {
     "iopub.execute_input": "2023-08-22T12:10:01.558122Z",
     "iopub.status.busy": "2023-08-22T12:10:01.557751Z",
     "iopub.status.idle": "2023-08-22T12:10:01.698489Z",
     "shell.execute_reply": "2023-08-22T12:10:01.696207Z"
    }
   },
   "outputs": [
    {
     "name": "stdout",
     "output_type": "stream",
     "text": [
      "Quitting SCServer... [scsynth | reached EOF ]\n",
      "Done.\n",
      "Exiting sclang... "
     ]
    },
    {
     "name": "stdout",
     "output_type": "stream",
     "text": [
      "[sclang | reached EOF ]\n",
      "Done.\n"
     ]
    }
   ],
   "source": [
    "sc.exit()"
   ]
  }
 ],
 "metadata": {
  "hide_input": false,
  "language_info": {
   "codemirror_mode": {
    "name": "ipython",
    "version": 3
   },
   "file_extension": ".py",
   "mimetype": "text/x-python",
   "name": "python",
   "nbconvert_exporter": "python",
   "pygments_lexer": "ipython3",
   "version": "3.10.11"
  },
  "toc": {
   "base_numbering": 1,
   "nav_menu": {},
   "number_sections": true,
   "sideBar": true,
   "skip_h1_title": false,
   "title_cell": "Table of Contents",
   "title_sidebar": "Contents",
   "toc_cell": false,
   "toc_position": {},
   "toc_section_display": true,
   "toc_window_display": false
  }
 },
 "nbformat": 4,
 "nbformat_minor": 4
}
