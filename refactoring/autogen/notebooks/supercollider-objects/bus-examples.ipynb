{
 "cells": [
  {
   "cell_type": "markdown",
   "metadata": {},
   "source": [
    "# Bus"
   ]
  },
  {
   "cell_type": "code",
   "execution_count": 1,
   "metadata": {
    "execution": {
     "iopub.execute_input": "2021-05-12T07:13:10.966665Z",
     "iopub.status.busy": "2021-05-12T07:13:10.966665Z",
     "iopub.status.idle": "2021-05-12T07:13:11.483683Z",
     "shell.execute_reply": "2021-05-12T07:13:11.484683Z"
    }
   },
   "outputs": [],
   "source": [
    "import sc3nb as scn"
   ]
  },
  {
   "cell_type": "code",
   "execution_count": 2,
   "metadata": {
    "execution": {
     "iopub.execute_input": "2021-05-12T07:13:11.491682Z",
     "iopub.status.busy": "2021-05-12T07:13:11.491682Z",
     "iopub.status.idle": "2021-05-12T07:13:15.099733Z",
     "shell.execute_reply": "2021-05-12T07:13:15.100735Z"
    }
   },
   "outputs": [
    {
     "data": {
      "application/javascript": [
       "if (typeof Jupyter !== 'undefined') {\n",
       "                        Jupyter.keyboard_manager.command_shortcuts.add_shortcut(\n",
       "                        'Ctrl-.', {\n",
       "                        help : 'Free all nodes on SC server',\n",
       "                        help_index : 'zz',\n",
       "                        handler : function (event) {\n",
       "                            IPython.notebook.kernel.execute(\n",
       "                                \"import sc3nb; sc3nb.SC.get_default().server.free_all(root=True)\"\n",
       "                            )\n",
       "                            return true;}\n",
       "                        });\n",
       "                    }"
      ],
      "text/plain": [
       "<IPython.core.display.Javascript object>"
      ]
     },
     "metadata": {},
     "output_type": "display_data"
    },
    {
     "name": "stdout",
     "output_type": "stream",
     "text": [
      "Starting sclang process...\n"
     ]
    },
    {
     "name": "stdout",
     "output_type": "stream",
     "text": [
      "Done.\n",
      "Registering OSC /return callback in sclang...\n",
      "Done.\n",
      "Loading default SynthDescs\n",
      "Done.\n",
      "Booting SuperCollider Server...\n"
     ]
    },
    {
     "name": "stdout",
     "output_type": "stream",
     "text": [
      "Done.\n"
     ]
    }
   ],
   "source": [
    "sc = scn.startup()"
   ]
  },
  {
   "cell_type": "markdown",
   "metadata": {},
   "source": [
    "## Using a Control Bus"
   ]
  },
  {
   "cell_type": "code",
   "execution_count": 3,
   "metadata": {
    "execution": {
     "iopub.execute_input": "2021-05-12T07:13:15.103733Z",
     "iopub.status.busy": "2021-05-12T07:13:15.102733Z",
     "iopub.status.idle": "2021-05-12T07:13:15.104734Z",
     "shell.execute_reply": "2021-05-12T07:13:15.104734Z"
    }
   },
   "outputs": [
    {
     "data": {
      "text/plain": [
       "Bus(control, ids=[512])"
      ]
     },
     "execution_count": 1,
     "metadata": {},
     "output_type": "execute_result"
    }
   ],
   "source": [
    "bus = scn.Bus('control')\n",
    "bus"
   ]
  },
  {
   "cell_type": "code",
   "execution_count": 4,
   "metadata": {
    "execution": {
     "iopub.execute_input": "2021-05-12T07:13:15.107733Z",
     "iopub.status.busy": "2021-05-12T07:13:15.106736Z",
     "iopub.status.idle": "2021-05-12T07:13:15.124733Z",
     "shell.execute_reply": "2021-05-12T07:13:15.124733Z"
    }
   },
   "outputs": [
    {
     "data": {
      "text/plain": [
       "0.0"
      ]
     },
     "execution_count": 1,
     "metadata": {},
     "output_type": "execute_result"
    }
   ],
   "source": [
    "bus.get()"
   ]
  },
  {
   "cell_type": "code",
   "execution_count": 5,
   "metadata": {
    "execution": {
     "iopub.execute_input": "2021-05-12T07:13:15.127733Z",
     "iopub.status.busy": "2021-05-12T07:13:15.126733Z",
     "iopub.status.idle": "2021-05-12T07:13:15.137733Z",
     "shell.execute_reply": "2021-05-12T07:13:15.137733Z"
    }
   },
   "outputs": [],
   "source": [
    "syn = scn.Synth(\"s2\")"
   ]
  },
  {
   "cell_type": "markdown",
   "metadata": {},
   "source": [
    "map the frequency of the synth to the bus value"
   ]
  },
  {
   "cell_type": "code",
   "execution_count": 6,
   "metadata": {
    "execution": {
     "iopub.execute_input": "2021-05-12T07:13:15.140735Z",
     "iopub.status.busy": "2021-05-12T07:13:15.140735Z",
     "iopub.status.idle": "2021-05-12T07:13:15.144733Z",
     "shell.execute_reply": "2021-05-12T07:13:15.144733Z"
    }
   },
   "outputs": [
    {
     "data": {
      "text/plain": [
       "<Synth(20001) 's2' s {}>"
      ]
     },
     "execution_count": 1,
     "metadata": {},
     "output_type": "execute_result"
    }
   ],
   "source": [
    "syn.map(\"freq\", bus)"
   ]
  },
  {
   "cell_type": "code",
   "execution_count": 7,
   "metadata": {
    "execution": {
     "iopub.execute_input": "2021-05-12T07:13:15.147733Z",
     "iopub.status.busy": "2021-05-12T07:13:15.146733Z",
     "iopub.status.idle": "2021-05-12T07:13:15.148734Z",
     "shell.execute_reply": "2021-05-12T07:13:15.148734Z"
    }
   },
   "outputs": [],
   "source": [
    "bus.set(120) # changes synths frequency"
   ]
  },
  {
   "cell_type": "code",
   "execution_count": 8,
   "metadata": {
    "execution": {
     "iopub.execute_input": "2021-05-12T07:13:15.150735Z",
     "iopub.status.busy": "2021-05-12T07:13:15.150735Z",
     "iopub.status.idle": "2021-05-12T07:13:15.153733Z",
     "shell.execute_reply": "2021-05-12T07:13:15.153733Z"
    }
   },
   "outputs": [],
   "source": [
    "bus.set(440)"
   ]
  },
  {
   "cell_type": "markdown",
   "metadata": {},
   "source": [
    "Set the frequency value to remove the mapping"
   ]
  },
  {
   "cell_type": "code",
   "execution_count": 9,
   "metadata": {
    "execution": {
     "iopub.execute_input": "2021-05-12T07:13:15.156733Z",
     "iopub.status.busy": "2021-05-12T07:13:15.156733Z",
     "iopub.status.idle": "2021-05-12T07:13:15.158733Z",
     "shell.execute_reply": "2021-05-12T07:13:15.158733Z"
    }
   },
   "outputs": [
    {
     "data": {
      "text/plain": [
       "<Synth(20001) 's2' ~ {'freq': 220}>"
      ]
     },
     "execution_count": 1,
     "metadata": {},
     "output_type": "execute_result"
    }
   ],
   "source": [
    "syn.set(\"freq\", 220)"
   ]
  },
  {
   "cell_type": "code",
   "execution_count": 10,
   "metadata": {
    "execution": {
     "iopub.execute_input": "2021-05-12T07:13:15.161735Z",
     "iopub.status.busy": "2021-05-12T07:13:15.160734Z",
     "iopub.status.idle": "2021-05-12T07:13:15.162733Z",
     "shell.execute_reply": "2021-05-12T07:13:15.162733Z"
    }
   },
   "outputs": [],
   "source": [
    "bus.set(440)  # no change"
   ]
  },
  {
   "cell_type": "code",
   "execution_count": 11,
   "metadata": {
    "execution": {
     "iopub.execute_input": "2021-05-12T07:13:15.164733Z",
     "iopub.status.busy": "2021-05-12T07:13:15.164733Z",
     "iopub.status.idle": "2021-05-12T07:13:15.167734Z",
     "shell.execute_reply": "2021-05-12T07:13:15.167734Z"
    }
   },
   "outputs": [
    {
     "data": {
      "text/plain": [
       "<Synth(20001) 's2' ~f {'freq': 220}>"
      ]
     },
     "execution_count": 1,
     "metadata": {},
     "output_type": "execute_result"
    }
   ],
   "source": [
    "syn.free()"
   ]
  },
  {
   "cell_type": "markdown",
   "metadata": {},
   "source": [
    "Free the bus to mark the bus id as available again"
   ]
  },
  {
   "cell_type": "code",
   "execution_count": 12,
   "metadata": {
    "execution": {
     "iopub.execute_input": "2021-05-12T07:13:15.170735Z",
     "iopub.status.busy": "2021-05-12T07:13:15.169733Z",
     "iopub.status.idle": "2021-05-12T07:13:15.171733Z",
     "shell.execute_reply": "2021-05-12T07:13:15.171733Z"
    }
   },
   "outputs": [],
   "source": [
    "bus.free()"
   ]
  },
  {
   "cell_type": "markdown",
   "metadata": {},
   "source": [
    "## Use multiple Control Buses"
   ]
  },
  {
   "cell_type": "code",
   "execution_count": 13,
   "metadata": {
    "execution": {
     "iopub.execute_input": "2021-05-12T07:13:15.174733Z",
     "iopub.status.busy": "2021-05-12T07:13:15.174733Z",
     "iopub.status.idle": "2021-05-12T07:13:15.213733Z",
     "shell.execute_reply": "2021-05-12T07:13:15.213733Z"
    }
   },
   "outputs": [],
   "source": [
    "synth_name = scn.SynthDef(\"busMulti\", \"\"\"{ |out, freqs=#[200, 400], rates=#[1, 2] |\n",
    "    Out.ar(out, Splay.ar(SinOsc.ar(freqs) * Decay2.ar(Impulse.ar(rates), 0.001, 0.1)) * 0.5);\n",
    "}\"\"\").add()"
   ]
  },
  {
   "cell_type": "code",
   "execution_count": 14,
   "metadata": {
    "execution": {
     "iopub.execute_input": "2021-05-12T07:13:15.217733Z",
     "iopub.status.busy": "2021-05-12T07:13:15.216733Z",
     "iopub.status.idle": "2021-05-12T07:13:15.218733Z",
     "shell.execute_reply": "2021-05-12T07:13:15.218733Z"
    }
   },
   "outputs": [
    {
     "data": {
      "text/plain": [
       "Bus(control, ids=[512, 513])"
      ]
     },
     "execution_count": 1,
     "metadata": {},
     "output_type": "execute_result"
    }
   ],
   "source": [
    "buses = scn.Bus(\"control\", 2)\n",
    "buses"
   ]
  },
  {
   "cell_type": "code",
   "execution_count": 15,
   "metadata": {
    "execution": {
     "iopub.execute_input": "2021-05-12T07:13:15.220735Z",
     "iopub.status.busy": "2021-05-12T07:13:15.220735Z",
     "iopub.status.idle": "2021-05-12T07:13:15.233733Z",
     "shell.execute_reply": "2021-05-12T07:13:15.233733Z"
    }
   },
   "outputs": [
    {
     "data": {
      "text/plain": [
       "[0.0, 0.0]"
      ]
     },
     "execution_count": 1,
     "metadata": {},
     "output_type": "execute_result"
    }
   ],
   "source": [
    "buses.get()"
   ]
  },
  {
   "cell_type": "code",
   "execution_count": 16,
   "metadata": {
    "execution": {
     "iopub.execute_input": "2021-05-12T07:13:15.236734Z",
     "iopub.status.busy": "2021-05-12T07:13:15.235735Z",
     "iopub.status.idle": "2021-05-12T07:13:15.245733Z",
     "shell.execute_reply": "2021-05-12T07:13:15.245733Z"
    }
   },
   "outputs": [],
   "source": [
    "syn = scn.Synth(synth_name)"
   ]
  },
  {
   "cell_type": "code",
   "execution_count": 17,
   "metadata": {
    "execution": {
     "iopub.execute_input": "2021-05-12T07:13:15.248733Z",
     "iopub.status.busy": "2021-05-12T07:13:15.247733Z",
     "iopub.status.idle": "2021-05-12T07:13:15.250735Z",
     "shell.execute_reply": "2021-05-12T07:13:15.250735Z"
    }
   },
   "outputs": [
    {
     "data": {
      "text/plain": [
       "<Synth(20002) 'busMulti' s {}>"
      ]
     },
     "execution_count": 1,
     "metadata": {},
     "output_type": "execute_result"
    }
   ],
   "source": [
    "syn.map(\"rates\", buses)"
   ]
  },
  {
   "cell_type": "code",
   "execution_count": 18,
   "metadata": {
    "execution": {
     "iopub.execute_input": "2021-05-12T07:13:15.253733Z",
     "iopub.status.busy": "2021-05-12T07:13:15.252733Z",
     "iopub.status.idle": "2021-05-12T07:13:15.254733Z",
     "shell.execute_reply": "2021-05-12T07:13:15.254733Z"
    }
   },
   "outputs": [],
   "source": [
    "buses.set(1, 1)"
   ]
  },
  {
   "cell_type": "code",
   "execution_count": 19,
   "metadata": {
    "execution": {
     "iopub.execute_input": "2021-05-12T07:13:15.257733Z",
     "iopub.status.busy": "2021-05-12T07:13:15.256733Z",
     "iopub.status.idle": "2021-05-12T07:13:15.259733Z",
     "shell.execute_reply": "2021-05-12T07:13:15.259733Z"
    }
   },
   "outputs": [],
   "source": [
    "buses.set(1, 2)"
   ]
  },
  {
   "cell_type": "code",
   "execution_count": 20,
   "metadata": {
    "execution": {
     "iopub.execute_input": "2021-05-12T07:13:15.262735Z",
     "iopub.status.busy": "2021-05-12T07:13:15.261734Z",
     "iopub.status.idle": "2021-05-12T07:13:15.274733Z",
     "shell.execute_reply": "2021-05-12T07:13:15.274733Z"
    }
   },
   "outputs": [
    {
     "data": {
      "text/plain": [
       "[1.0, 2.0]"
      ]
     },
     "execution_count": 1,
     "metadata": {},
     "output_type": "execute_result"
    }
   ],
   "source": [
    "buses.get()"
   ]
  },
  {
   "cell_type": "code",
   "execution_count": 21,
   "metadata": {
    "execution": {
     "iopub.execute_input": "2021-05-12T07:13:15.277733Z",
     "iopub.status.busy": "2021-05-12T07:13:15.276734Z",
     "iopub.status.idle": "2021-05-12T07:13:15.280734Z",
     "shell.execute_reply": "2021-05-12T07:13:15.280734Z"
    }
   },
   "outputs": [
    {
     "data": {
      "text/plain": [
       "<Synth(20002) 'busMulti' ~f {}>"
      ]
     },
     "execution_count": 1,
     "metadata": {},
     "output_type": "execute_result"
    }
   ],
   "source": [
    "syn.free()"
   ]
  },
  {
   "cell_type": "code",
   "execution_count": 22,
   "metadata": {
    "execution": {
     "iopub.execute_input": "2021-05-12T07:13:15.282735Z",
     "iopub.status.busy": "2021-05-12T07:13:15.282735Z",
     "iopub.status.idle": "2021-05-12T07:13:15.285733Z",
     "shell.execute_reply": "2021-05-12T07:13:15.285733Z"
    }
   },
   "outputs": [],
   "source": [
    "buses.free()"
   ]
  },
  {
   "cell_type": "code",
   "execution_count": 23,
   "metadata": {
    "execution": {
     "iopub.execute_input": "2021-05-12T07:13:15.287733Z",
     "iopub.status.busy": "2021-05-12T07:13:15.287733Z",
     "iopub.status.idle": "2021-05-12T07:13:15.323733Z",
     "shell.execute_reply": "2021-05-12T07:13:15.323733Z"
    }
   },
   "outputs": [],
   "source": [
    "sc.server.free_all()"
   ]
  },
  {
   "cell_type": "code",
   "execution_count": 24,
   "metadata": {
    "execution": {
     "iopub.execute_input": "2021-05-12T07:13:15.326733Z",
     "iopub.status.busy": "2021-05-12T07:13:15.325734Z",
     "iopub.status.idle": "2021-05-12T07:13:16.494763Z",
     "shell.execute_reply": "2021-05-12T07:13:16.494763Z"
    }
   },
   "outputs": [],
   "source": [
    "sc.exit()"
   ]
  },
  {
   "cell_type": "code",
   "execution_count": null,
   "metadata": {},
   "outputs": [],
   "source": []
  }
 ],
 "metadata": {
  "language_info": {
   "codemirror_mode": {
    "name": "ipython",
    "version": 3
   },
   "file_extension": ".py",
   "mimetype": "text/x-python",
   "name": "python",
   "nbconvert_exporter": "python",
   "pygments_lexer": "ipython3",
   "version": "3.7.10"
  }
 },
 "nbformat": 4,
 "nbformat_minor": 4
}
