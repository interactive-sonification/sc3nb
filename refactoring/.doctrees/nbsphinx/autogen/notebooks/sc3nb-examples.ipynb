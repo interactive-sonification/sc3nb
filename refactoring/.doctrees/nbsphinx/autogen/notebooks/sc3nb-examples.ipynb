{
 "cells": [
  {
   "cell_type": "markdown",
   "metadata": {},
   "source": [
    "# sc3nb – SuperCollider3 for python / jupyter notebooks\n",
    "\n",
    "&copy; 2017-2021 by Thomas Hermann,  <br>contributions from: Ferdinand Schlatt, Fabian Kaupmann, Dennis Reinsch, Micha Steffen Vosse\n",
    "\n",
    "* * *\n",
    "\n",
    "\n",
    "sc3nb is a python package that offers an interface to SuperCollider3. \n",
    "\n",
    "The goal of sc3nb is to facilitate the programming of auditory displays and interactive sonifications by\n",
    "- teaming up python (and particularly numpy, scipy, pandas, matplotlib etc.) for data science\n",
    "- and SuperCollider3 for interactive real-time sound rendering.\n",
    "\n",
    "\n",
    "It currently allows to..\n",
    "\n",
    "- start and control the SuperCollider audio server (scsynth)\n",
    "  - The SuperCollider audio server can be started and addressed via a python SuperCollider Server implementation or via OSC messages directly.\n",
    "  - There are many Python implementations of Classes from SuperCollider like `Synth`, `SynthDef`, `Buffer` and `Bus`\n",
    "\n",
    "- use the SuperCollider language (sclang) interactively via a subprocess\n",
    "  - You can write SuperCollider language code in Jupyter Notebooks and let sclang evaluate it.\n",
    "  - Inject python variables into your sclang code and even get the results of the sclang code in python\n",
    "\n",
    "\n",
    "\n",
    "\n",
    "sc3nb can be used for\n",
    "\n",
    "- multi-channel audio processing\n",
    "- auditory display and sonification\n",
    "- sound synthesis experiment\n",
    "- audio applications in general such as games or GUI-enhancements\n",
    "- signal analysis and plotting\n",
    "- computer music and just in time music control\n",
    "- any usecase that the SuperCollider 3 language supports\n",
    "\n",
    "\n",
    "It is meant to grow into a backend for a sonification package, and can be used both from jupyter and in standard python software development.\n",
    "\n",
    "sc3nb is hosted at GitHub https://github.com/thomas-hermann/sc3nb"
   ]
  },
  {
   "cell_type": "markdown",
   "metadata": {},
   "source": [
    "## Getting Started"
   ]
  },
  {
   "cell_type": "markdown",
   "metadata": {},
   "source": [
    "### Installing sc3nb\n",
    "\n",
    "- To use sc3nb you need a installation of SuperCollider on your system. See https://supercollider.github.io/download for instructions.\n",
    "- To install sc3nb you can\n",
    "  - install it locally in editable mode (i.e. changes to sc3nb code will automatically be \"re-installed\"). \n",
    "    - clone the repository from https://github.com/thomas-hermann/sc3nb \n",
    "    -  from inside the sc3nb directory run `pip install -e .`\n",
    "  - or install it directly from GitHub using `pip install git+git://github.com/thomas-hermann/sc3nb@master`\n",
    "\n",
    "However we are currently making sure that sc3nb can also be installed via `pip install sc3nb` from PyPI"
   ]
  },
  {
   "cell_type": "markdown",
   "metadata": {},
   "source": [
    "### Starting sc3nb"
   ]
  },
  {
   "cell_type": "code",
   "execution_count": 1,
   "metadata": {
    "execution": {
     "iopub.execute_input": "2021-05-16T16:24:15.508930Z",
     "iopub.status.busy": "2021-05-16T16:24:15.508930Z",
     "iopub.status.idle": "2021-05-16T16:24:16.015931Z",
     "shell.execute_reply": "2021-05-16T16:24:16.015931Z"
    }
   },
   "outputs": [],
   "source": [
    "import sc3nb as scn"
   ]
  },
  {
   "cell_type": "markdown",
   "metadata": {},
   "source": [
    "To startup sc3nb (sclang, scsynth, and a python OSC server) use `startup`"
   ]
  },
  {
   "cell_type": "code",
   "execution_count": 2,
   "metadata": {
    "execution": {
     "iopub.execute_input": "2021-05-16T16:24:16.023929Z",
     "iopub.status.busy": "2021-05-16T16:24:16.023929Z",
     "iopub.status.idle": "2021-05-16T16:24:19.272929Z",
     "shell.execute_reply": "2021-05-16T16:24:19.272929Z"
    }
   },
   "outputs": [
    {
     "data": {
      "application/javascript": [
       "if (typeof Jupyter !== 'undefined') {\n",
       "                        Jupyter.keyboard_manager.command_shortcuts.add_shortcut(\n",
       "                        'Ctrl-.', {\n",
       "                        help : 'Free all nodes on SC server',\n",
       "                        help_index : 'zz',\n",
       "                        handler : function (event) {\n",
       "                            IPython.notebook.kernel.execute(\n",
       "                                \"import sc3nb; sc3nb.SC.get_default().server.free_all(root=True)\"\n",
       "                            )\n",
       "                            return true;}\n",
       "                        });\n",
       "                    }"
      ],
      "text/plain": [
       "<IPython.core.display.Javascript object>"
      ]
     },
     "metadata": {},
     "output_type": "display_data"
    },
    {
     "name": "stdout",
     "output_type": "stream",
     "text": [
      "Starting sclang process...\n"
     ]
    },
    {
     "name": "stdout",
     "output_type": "stream",
     "text": [
      "Done.\n",
      "Registering OSC /return callback in sclang...\n",
      "Done.\n",
      "Loading default SynthDescs\n",
      "Done.\n",
      "Booting SuperCollider Server...\n"
     ]
    },
    {
     "name": "stdout",
     "output_type": "stream",
     "text": [
      "Done.\n"
     ]
    }
   ],
   "source": [
    "sc = scn.startup()  # optionally specify arg sclang_path=\"/path/to/sclang\""
   ]
  },
  {
   "cell_type": "markdown",
   "metadata": {},
   "source": [
    "You can produce a test sound with `blip`, which should relax any tensions whether the server is up and running. This sound should be played by the default server start."
   ]
  },
  {
   "cell_type": "code",
   "execution_count": 3,
   "metadata": {
    "execution": {
     "iopub.execute_input": "2021-05-16T16:24:19.275929Z",
     "iopub.status.busy": "2021-05-16T16:24:19.275929Z",
     "iopub.status.idle": "2021-05-16T16:24:19.278929Z",
     "shell.execute_reply": "2021-05-16T16:24:19.278929Z"
    }
   },
   "outputs": [],
   "source": [
    "sc.server.blip()"
   ]
  },
  {
   "cell_type": "markdown",
   "metadata": {},
   "source": [
    "`sc` provides you the interfaces for\n",
    "\n",
    "* `scsynth` via `sc.server`\n",
    "* `sclang` via `sc.lang`"
   ]
  },
  {
   "cell_type": "markdown",
   "metadata": {},
   "source": [
    "**Configuration of sc3nb startup**:\n",
    "\n",
    "- If the executables are not in `$PATH`, you can specify them with `sclang_path` / `scsynth_path` f.e. `sclang_path=\"/path/to/sclang-containing-dir/sclang\"`\n",
    "\n",
    "  - On macOS they reside in `/Applications/SuperCollider.app/Contents` in the folders MacOS and Resources. <br>\n",
    "  To add these paths to your `$PATH`, simply add to your ~/.profile, e.g. (please adapt to your installation): <br>\n",
    "  `PATH=$PATH:/Applications/SuperCollider.app/Contents/MacOS:/Applications/SuperCollider.app/Contents/Resources`  \n",
    "  - On Windows they reside in your Installation folder f.e `C:\\Program Files\\SuperCollider-3.x.x`\n",
    "\n",
    "* You could also only use **scsynth** and don't start **sclang** with `start_sclang=False`\n",
    "* See `help(scn.startup)` for all options"
   ]
  },
  {
   "cell_type": "markdown",
   "metadata": {},
   "source": [
    "## Basic examples"
   ]
  },
  {
   "cell_type": "markdown",
   "metadata": {},
   "source": [
    "Create and control SuperCollider Synths"
   ]
  },
  {
   "cell_type": "code",
   "execution_count": 4,
   "metadata": {
    "execution": {
     "iopub.execute_input": "2021-05-16T16:24:19.281929Z",
     "iopub.status.busy": "2021-05-16T16:24:19.280929Z",
     "iopub.status.idle": "2021-05-16T16:24:19.292931Z",
     "shell.execute_reply": "2021-05-16T16:24:19.292931Z"
    }
   },
   "outputs": [
    {
     "data": {
      "text/plain": [
       "<Synth(20001) 'default' s {}>"
      ]
     },
     "execution_count": 1,
     "metadata": {},
     "output_type": "execute_result"
    }
   ],
   "source": [
    "syn = scn.Synth()\n",
    "syn"
   ]
  },
  {
   "cell_type": "code",
   "execution_count": 5,
   "metadata": {
    "execution": {
     "iopub.execute_input": "2021-05-16T16:24:19.295930Z",
     "iopub.status.busy": "2021-05-16T16:24:19.295930Z",
     "iopub.status.idle": "2021-05-16T16:24:19.297931Z",
     "shell.execute_reply": "2021-05-16T16:24:19.297931Z"
    }
   },
   "outputs": [
    {
     "data": {
      "text/plain": [
       "<Synth(20001) 'default' s {'freq': 800}>"
      ]
     },
     "execution_count": 1,
     "metadata": {},
     "output_type": "execute_result"
    }
   ],
   "source": [
    "syn.freq = 800\n",
    "syn"
   ]
  },
  {
   "cell_type": "code",
   "execution_count": 6,
   "metadata": {
    "execution": {
     "iopub.execute_input": "2021-05-16T16:24:19.301929Z",
     "iopub.status.busy": "2021-05-16T16:24:19.301929Z",
     "iopub.status.idle": "2021-05-16T16:24:19.303931Z",
     "shell.execute_reply": "2021-05-16T16:24:19.303931Z"
    }
   },
   "outputs": [
    {
     "data": {
      "text/plain": [
       "<Synth(20001) 'default' sf {'freq': 800}>"
      ]
     },
     "execution_count": 1,
     "metadata": {},
     "output_type": "execute_result"
    }
   ],
   "source": [
    "syn.free()"
   ]
  },
  {
   "cell_type": "markdown",
   "metadata": {},
   "source": [
    "Send SynthDefs with python code injection"
   ]
  },
  {
   "cell_type": "code",
   "execution_count": 7,
   "metadata": {
    "execution": {
     "iopub.execute_input": "2021-05-16T16:24:19.307932Z",
     "iopub.status.busy": "2021-05-16T16:24:19.306931Z",
     "iopub.status.idle": "2021-05-16T16:24:19.341932Z",
     "shell.execute_reply": "2021-05-16T16:24:19.342930Z"
    }
   },
   "outputs": [
    {
     "data": {
      "text/plain": [
       "<Synth(20002) 'random' s {}>"
      ]
     },
     "execution_count": 1,
     "metadata": {},
     "output_type": "execute_result"
    }
   ],
   "source": [
    "synth_dur = 0.5  # you can use python variable values in SynthDefs\n",
    "synth_def = scn.SynthDef('random', \"\"\"{ |out|\n",
    "Out.ar(out, SinOsc.ar(Rand(400, 800), 0, 0.2) * Line.kr(1, 0, ^synth_dur, doneAction: Done.freeSelf))\n",
    "}\"\"\")\n",
    "synth_def.add()\n",
    "\n",
    "scn.Synth(\"random\")"
   ]
  },
  {
   "cell_type": "markdown",
   "metadata": {},
   "source": [
    "Load File as Buffer and play it"
   ]
  },
  {
   "cell_type": "code",
   "execution_count": 8,
   "metadata": {
    "execution": {
     "iopub.execute_input": "2021-05-16T16:24:19.344932Z",
     "iopub.status.busy": "2021-05-16T16:24:19.344932Z",
     "iopub.status.idle": "2021-05-16T16:24:19.383929Z",
     "shell.execute_reply": "2021-05-16T16:24:19.383929Z"
    }
   },
   "outputs": [
    {
     "data": {
      "text/plain": [
       "Buffer 128 on ('127.0.0.1', 57110): 2 x 43008 @ 44100 Hz –> allocated using mode 'file'"
      ]
     },
     "execution_count": 1,
     "metadata": {},
     "output_type": "execute_result"
    }
   ],
   "source": [
    "buf = scn.Buffer().read(\"./media/blip.wav\")\n",
    "buf"
   ]
  },
  {
   "cell_type": "code",
   "execution_count": 9,
   "metadata": {
    "execution": {
     "iopub.execute_input": "2021-05-16T16:24:19.386930Z",
     "iopub.status.busy": "2021-05-16T16:24:19.385928Z",
     "iopub.status.idle": "2021-05-16T16:24:19.414929Z",
     "shell.execute_reply": "2021-05-16T16:24:19.414929Z"
    }
   },
   "outputs": [
    {
     "data": {
      "text/plain": [
       "<Synth(20003) 'sc3nb_playbuf_128' s {}>"
      ]
     },
     "execution_count": 1,
     "metadata": {},
     "output_type": "execute_result"
    }
   ],
   "source": [
    "buf.play()"
   ]
  },
  {
   "cell_type": "code",
   "execution_count": 10,
   "metadata": {
    "execution": {
     "iopub.execute_input": "2021-05-16T16:24:19.417929Z",
     "iopub.status.busy": "2021-05-16T16:24:19.417929Z",
     "iopub.status.idle": "2021-05-16T16:24:20.560983Z",
     "shell.execute_reply": "2021-05-16T16:24:20.560983Z"
    }
   },
   "outputs": [
    {
     "name": "stdout",
     "output_type": "stream",
     "text": [
      "(43008, 2)\n"
     ]
    },
    {
     "data": {
      "text/plain": [
       "array([[-0.00189209, -0.00189209],\n",
       "       [-0.00430298, -0.00430298],\n",
       "       [-0.00708008, -0.00708008],\n",
       "       ...,\n",
       "       [ 0.19314575,  0.19314575],\n",
       "       [ 0.18963623,  0.18963623],\n",
       "       [ 0.18585205,  0.18585205]])"
      ]
     },
     "execution_count": 1,
     "metadata": {},
     "output_type": "execute_result"
    }
   ],
   "source": [
    "buffer_data = buf.to_array()\n",
    "print(buffer_data.shape)\n",
    "buffer_data"
   ]
  },
  {
   "cell_type": "markdown",
   "metadata": {},
   "source": [
    "Create OSC Bundles"
   ]
  },
  {
   "cell_type": "code",
   "execution_count": 11,
   "metadata": {
    "execution": {
     "iopub.execute_input": "2021-05-16T16:24:20.564982Z",
     "iopub.status.busy": "2021-05-16T16:24:20.563982Z",
     "iopub.status.idle": "2021-05-16T16:24:20.566982Z",
     "shell.execute_reply": "2021-05-16T16:24:20.566982Z"
    }
   },
   "outputs": [],
   "source": [
    "with sc.server.bundler() as bundler:\n",
    "    scn.Synth(\"random\")\n",
    "    bundler.wait(0.2)\n",
    "    scn.Synth(\"random\")\n",
    "    bundler.wait(0.5)"
   ]
  },
  {
   "cell_type": "markdown",
   "metadata": {},
   "source": [
    "Execute SuperCollider Language Code"
   ]
  },
  {
   "cell_type": "code",
   "execution_count": 12,
   "metadata": {
    "execution": {
     "iopub.execute_input": "2021-05-16T16:24:20.568982Z",
     "iopub.status.busy": "2021-05-16T16:24:20.568982Z",
     "iopub.status.idle": "2021-05-16T16:24:20.579984Z",
     "shell.execute_reply": "2021-05-16T16:24:20.579984Z"
    }
   },
   "outputs": [
    {
     "name": "stdout",
     "output_type": "stream",
     "text": [
      "-> sgge\n"
     ]
    }
   ],
   "source": [
    "breakfast = \"eggs\"\n",
    "sc.lang.cmdv('^breakfast.scramble;')"
   ]
  },
  {
   "cell_type": "markdown",
   "metadata": {},
   "source": [
    "Get results from SuperCollider Language in python"
   ]
  },
  {
   "cell_type": "code",
   "execution_count": 13,
   "metadata": {
    "execution": {
     "iopub.execute_input": "2021-05-16T16:24:20.583984Z",
     "iopub.status.busy": "2021-05-16T16:24:20.582981Z",
     "iopub.status.idle": "2021-05-16T16:24:20.585982Z",
     "shell.execute_reply": "2021-05-16T16:24:20.585982Z"
    }
   },
   "outputs": [
    {
     "name": "stdout",
     "output_type": "stream",
     "text": [
      "-> [ 1, 2, 3, 4, 5 ]\n",
      "received [1, 2, 3, 4, 5] with type <class 'list'>\n"
     ]
    }
   ],
   "source": [
    "x = 5\n",
    "value = %scg (1..^x)\n",
    "print(f\"received {value} with type {type(value)}\")"
   ]
  },
  {
   "cell_type": "markdown",
   "metadata": {},
   "source": [
    "OSC messaging : f.e. free sclang Synth with OSC message"
   ]
  },
  {
   "cell_type": "code",
   "execution_count": 14,
   "metadata": {
    "execution": {
     "iopub.execute_input": "2021-05-16T16:24:20.588981Z",
     "iopub.status.busy": "2021-05-16T16:24:20.588981Z",
     "iopub.status.idle": "2021-05-16T16:24:20.591985Z",
     "shell.execute_reply": "2021-05-16T16:24:20.591985Z"
    }
   },
   "outputs": [
    {
     "name": "stdout",
     "output_type": "stream",
     "text": [
      "-> 1000\n"
     ]
    }
   ],
   "source": [
    "nodeid = %scg x = Synth(\"default\"); x.nodeID;"
   ]
  },
  {
   "cell_type": "code",
   "execution_count": 15,
   "metadata": {
    "execution": {
     "iopub.execute_input": "2021-05-16T16:24:20.594985Z",
     "iopub.status.busy": "2021-05-16T16:24:20.594985Z",
     "iopub.status.idle": "2021-05-16T16:24:20.597985Z",
     "shell.execute_reply": "2021-05-16T16:24:20.598984Z"
    }
   },
   "outputs": [],
   "source": [
    "sc.server.msg(\"/n_free\", nodeid)"
   ]
  },
  {
   "cell_type": "markdown",
   "metadata": {},
   "source": [
    "## Further informations\n",
    "\n",
    "For more details on the specific parts please refer to the User Guide.\n",
    "\n",
    "- [SuperCollider Language **sclang**](./sclang-examples.ipynb)\n",
    "\n",
    "- Usage of the SuperCollider Objects python interface\n",
    "  - [Server](./supercollider-objects/server-examples.ipynb)\n",
    "  - [Nodes (Synth and Group)](./supercollider-objects/node-examples.ipynb)\n",
    "  - [SynthDef](./supercollider-objects/synthdef-examples.ipynb)\n",
    "  - [Buffer](./supercollider-objects/buffer-examples.ipynb)\n",
    "  - [Bus](./supercollider-objects/bus-examples.ipynb)\n",
    "  - [Recorder](./supercollider-objects/recorder-examples.ipynb)\n",
    "\n",
    "\n",
    "- Usage of common SuperCollider functions [Helpers](./helper-examples.ipynb)\n",
    "- Usage of OSC in SuperCollider: [OSC Communication](./osc-communication-example.ipynb)"
   ]
  },
  {
   "cell_type": "markdown",
   "metadata": {},
   "source": [
    "## How does this work?\n",
    "\n",
    "- **sclang** and **scsynth** are started as subprocesses and thier outputs is collected. \n",
    "- **scsynth** is then controlled via OSC\n",
    "  * Direct control of the server shortcuts a detour via sclang and is both more efficient and promises a lower latency\n",
    "- **sclang** communication is done with pipes and OSC for receiving return values\n",
    "\n"
   ]
  },
  {
   "cell_type": "markdown",
   "metadata": {},
   "source": [
    "## Caveats and Problems\n",
    "\n",
    "We strongly encourage you to share any problems that arise using sc3nb with us.\n",
    "\n",
    "There are some things to consider when using sc3nb.\n",
    "\n",
    "\n",
    "- The shortcut `ctrl/cmd + .` does currently only works in classic Jupyter notebooks not in JupyterLab. It also will import sc3nb as `sc3nb` and thus you should avoid variables with the name `sc3nb`.\n",
    "- We depend on the output to stdout of sclang and scsynth in some cases like the startup of the server or more obviously for the sclang output when using cmd with verbosity. This means if some language settings or updates of sclang/scsynth change the outputs to something that we don't expect stuff will fail. However this should be quite easy to patch.\n",
    "- There is a bug in Jupyter (https://github.com/jupyter/jupyter_client/issues/104) that does leave sclang and scsynth running when restarting the Jupyter kernel. However calling `exit()` on the SC instance will kill them. To aviod conflicts with orphaned sclangs/scsynths we also look for leftover sclang/scsynth processes on the start of each and will try to kill them. This might lead to killing sclang or scsynth processes that you wanted to keep. You can specify which parent processes are allowed for sclang/scsynth processes with the `allowed_parents` paramter.\n",
    "- The SuperCollider Objects are currently not guaranteed to be thread safe.\n",
    "- Another thing about SuperCollider in general is to keep in mind that there are limits in the network communication. Currently we only support UDP and therefore have the corresponding limits. As an example a Bundler will fail when you try to send too many messages."
   ]
  },
  {
   "cell_type": "markdown",
   "metadata": {},
   "source": [
    "## Contributing\n",
    "\n",
    "Please get in touch with us if you wish to contribute. We are happy to be involved in the discussion of new features and to receive pull requests.\n",
    "\n",
    "### Setting up the development environment\n",
    "\n",
    "Additional dependencies for development and building docs, etc. can be installed via the following\n",
    "\n",
    "\n",
    "| Install                                | Purpose            |\n",
    "|:---------------------------------------|:-------------------|\n",
    "| `pip install -r requirements_dev.txt`  | making commits     |\n",
    "| `pip install -r requirements_test.txt` | executing tests    |\n",
    "| `pip install -r requirements_doc.txt`  | building the docs  |\n",
    "\n",
    "\n",
    "### Development Guidelines\n",
    "\n",
    "[![pre-commit](https://img.shields.io/badge/pre--commit-enabled-brightgreen?logo=pre-commit&logoColor=white)](https://pre-commit.com/)\n",
    "[![Code style: black](https://img.shields.io/badge/code%20style-black-000000.svg)](https://github.com/psf/black)\n",
    "\n",
    "* Use [black](https://github.com/psf/black) formatting\n",
    "* Use [python type hints](https://docs.python.org/3/library/typing.html)\n",
    "* [numpydoc](https://numpydoc.readthedocs.io/en/latest/example.html) docstring format. Also see [How to Document](https://numpy.org/doc/stable/docs/howto_document.html)\n",
    "* To ensure standards are followed we use [pre-commit](https://pre-commit.com/) \n"
   ]
  },
  {
   "cell_type": "markdown",
   "metadata": {},
   "source": [
    "## Useful Ressources\n",
    "\n",
    "If you are looking for more information about SuperCollider you should checkout the following links\n",
    "\n",
    "- [SuperCollider website](https://supercollider.github.io/)\n",
    "- [SuperCollider on GitHub](https://github.com/supercollider/supercollider)\n",
    "\n",
    "\n",
    "- [SuperCollider documentation and help](https://doc.sccode.org/)\n",
    "  - [Client vs Server](https://doc.sccode.org/Guides/ClientVsServer.html)\n",
    "  - [Server Architecture - Main Design Concepts](https://doc.sccode.org/Reference/Server-Architecture.html)\n",
    "  - [Server Command Reference](https://doc.sccode.org/Reference/Server-Command-Reference.html)\n",
    "  - [Server Guide](https://doc.sccode.org/Guides/Server-Guide.html)\n",
    "  - [Multi-client Setups](https://doc.sccode.org/Guides/MultiClient_Setups.html)\n",
    "  - [OSC Communication](https://doc.sccode.org/Guides/OSC_communication.html)\n",
    "\n",
    "\n",
    "- SuperCollider Language\n",
    "   - [sclang Startup File](https://doc.sccode.org/Reference/StartupFile.html)\n",
    "   - [Symbolic Notations](https://doc.sccode.org/Overviews/SymbolicNotations.html)\n",
    "   - [Operators](https://doc.sccode.org/Overviews/Operators.html)\n",
    "   - [Syntax Shortcuts](https://doc.sccode.org/Reference/Syntax-Shortcuts.html)\n"
   ]
  },
  {
   "cell_type": "code",
   "execution_count": 16,
   "metadata": {
    "execution": {
     "iopub.execute_input": "2021-05-16T16:24:20.601983Z",
     "iopub.status.busy": "2021-05-16T16:24:20.600985Z",
     "iopub.status.idle": "2021-05-16T16:24:21.643011Z",
     "shell.execute_reply": "2021-05-16T16:24:21.643011Z"
    }
   },
   "outputs": [],
   "source": [
    "sc.exit()  # To shut down the server and sclang subprocesses"
   ]
  },
  {
   "cell_type": "code",
   "execution_count": null,
   "metadata": {},
   "outputs": [],
   "source": []
  }
 ],
 "metadata": {
  "language_info": {
   "codemirror_mode": {
    "name": "ipython",
    "version": 3
   },
   "file_extension": ".py",
   "mimetype": "text/x-python",
   "name": "python",
   "nbconvert_exporter": "python",
   "pygments_lexer": "ipython3",
   "version": "3.7.10"
  },
  "toc": {
   "base_numbering": 1,
   "nav_menu": {},
   "number_sections": true,
   "sideBar": true,
   "skip_h1_title": true,
   "title_cell": "Table of Contents",
   "title_sidebar": "Contents",
   "toc_cell": false,
   "toc_position": {},
   "toc_section_display": true,
   "toc_window_display": false
  }
 },
 "nbformat": 4,
 "nbformat_minor": 4
}
