{
 "cells": [
  {
   "cell_type": "markdown",
   "metadata": {},
   "source": [
    "# Bus"
   ]
  },
  {
   "cell_type": "code",
   "execution_count": 1,
   "metadata": {
    "execution": {
     "iopub.execute_input": "2021-05-24T14:35:45.872207Z",
     "iopub.status.busy": "2021-05-24T14:35:45.871209Z",
     "iopub.status.idle": "2021-05-24T14:35:46.418203Z",
     "shell.execute_reply": "2021-05-24T14:35:46.418203Z"
    }
   },
   "outputs": [],
   "source": [
    "import sc3nb as scn"
   ]
  },
  {
   "cell_type": "code",
   "execution_count": 2,
   "metadata": {
    "execution": {
     "iopub.execute_input": "2021-05-24T14:35:46.427203Z",
     "iopub.status.busy": "2021-05-24T14:35:46.427203Z",
     "iopub.status.idle": "2021-05-24T14:35:50.458269Z",
     "shell.execute_reply": "2021-05-24T14:35:50.458269Z"
    }
   },
   "outputs": [
    {
     "data": {
      "application/javascript": [
       "if (typeof Jupyter !== 'undefined') {\n",
       "                        Jupyter.keyboard_manager.command_shortcuts.add_shortcut(\n",
       "                        'Ctrl-.', {\n",
       "                        help : 'Free all nodes on SC server',\n",
       "                        help_index : 'zz',\n",
       "                        handler : function (event) {\n",
       "                            IPython.notebook.kernel.execute(\n",
       "                                \"import sc3nb; sc3nb.SC.get_default().server.free_all(root=True)\"\n",
       "                            )\n",
       "                            return true;}\n",
       "                        });\n",
       "                    }"
      ],
      "text/plain": [
       "<IPython.core.display.Javascript object>"
      ]
     },
     "metadata": {},
     "output_type": "display_data"
    },
    {
     "name": "stdout",
     "output_type": "stream",
     "text": [
      "Starting sclang process...\n"
     ]
    },
    {
     "name": "stdout",
     "output_type": "stream",
     "text": [
      "Done.\n",
      "Registering OSC /return callback in sclang...\n",
      "Done.\n",
      "Loading default SynthDescs\n",
      "Done.\n",
      "Booting SuperCollider Server...\n"
     ]
    },
    {
     "name": "stdout",
     "output_type": "stream",
     "text": [
      "Done.\n"
     ]
    }
   ],
   "source": [
    "sc = scn.startup()"
   ]
  },
  {
   "cell_type": "markdown",
   "metadata": {},
   "source": [
    "## Using a Control Bus"
   ]
  },
  {
   "cell_type": "code",
   "execution_count": 3,
   "metadata": {
    "execution": {
     "iopub.execute_input": "2021-05-24T14:35:50.462269Z",
     "iopub.status.busy": "2021-05-24T14:35:50.461270Z",
     "iopub.status.idle": "2021-05-24T14:35:50.465271Z",
     "shell.execute_reply": "2021-05-24T14:35:50.465271Z"
    }
   },
   "outputs": [
    {
     "data": {
      "text/plain": [
       "Bus(control, ids=[512])"
      ]
     },
     "execution_count": 1,
     "metadata": {},
     "output_type": "execute_result"
    }
   ],
   "source": [
    "bus = scn.Bus('control')\n",
    "bus"
   ]
  },
  {
   "cell_type": "code",
   "execution_count": 4,
   "metadata": {
    "execution": {
     "iopub.execute_input": "2021-05-24T14:35:50.467270Z",
     "iopub.status.busy": "2021-05-24T14:35:50.467270Z",
     "iopub.status.idle": "2021-05-24T14:35:50.479269Z",
     "shell.execute_reply": "2021-05-24T14:35:50.479269Z"
    }
   },
   "outputs": [
    {
     "data": {
      "text/plain": [
       "0.0"
      ]
     },
     "execution_count": 1,
     "metadata": {},
     "output_type": "execute_result"
    }
   ],
   "source": [
    "bus.get()"
   ]
  },
  {
   "cell_type": "code",
   "execution_count": 5,
   "metadata": {
    "execution": {
     "iopub.execute_input": "2021-05-24T14:35:50.482269Z",
     "iopub.status.busy": "2021-05-24T14:35:50.481270Z",
     "iopub.status.idle": "2021-05-24T14:35:50.492271Z",
     "shell.execute_reply": "2021-05-24T14:35:50.492271Z"
    }
   },
   "outputs": [],
   "source": [
    "syn = scn.Synth(\"s2\")"
   ]
  },
  {
   "cell_type": "markdown",
   "metadata": {},
   "source": [
    "map the frequency of the synth to the bus value"
   ]
  },
  {
   "cell_type": "code",
   "execution_count": 6,
   "metadata": {
    "execution": {
     "iopub.execute_input": "2021-05-24T14:35:50.496270Z",
     "iopub.status.busy": "2021-05-24T14:35:50.496270Z",
     "iopub.status.idle": "2021-05-24T14:35:50.499268Z",
     "shell.execute_reply": "2021-05-24T14:35:50.499268Z"
    }
   },
   "outputs": [
    {
     "data": {
      "text/plain": [
       "<Synth(20001) 's2' s {}>"
      ]
     },
     "execution_count": 1,
     "metadata": {},
     "output_type": "execute_result"
    }
   ],
   "source": [
    "syn.map(\"freq\", bus)"
   ]
  },
  {
   "cell_type": "code",
   "execution_count": 7,
   "metadata": {
    "execution": {
     "iopub.execute_input": "2021-05-24T14:35:50.502269Z",
     "iopub.status.busy": "2021-05-24T14:35:50.502269Z",
     "iopub.status.idle": "2021-05-24T14:35:50.504270Z",
     "shell.execute_reply": "2021-05-24T14:35:50.504270Z"
    }
   },
   "outputs": [],
   "source": [
    "bus.set(120) # changes synths frequency"
   ]
  },
  {
   "cell_type": "code",
   "execution_count": 8,
   "metadata": {
    "execution": {
     "iopub.execute_input": "2021-05-24T14:35:50.507271Z",
     "iopub.status.busy": "2021-05-24T14:35:50.506270Z",
     "iopub.status.idle": "2021-05-24T14:35:50.508270Z",
     "shell.execute_reply": "2021-05-24T14:35:50.508270Z"
    }
   },
   "outputs": [],
   "source": [
    "bus.set(440)"
   ]
  },
  {
   "cell_type": "markdown",
   "metadata": {},
   "source": [
    "Set the frequency value to remove the mapping"
   ]
  },
  {
   "cell_type": "code",
   "execution_count": 9,
   "metadata": {
    "execution": {
     "iopub.execute_input": "2021-05-24T14:35:50.512270Z",
     "iopub.status.busy": "2021-05-24T14:35:50.511270Z",
     "iopub.status.idle": "2021-05-24T14:35:50.513271Z",
     "shell.execute_reply": "2021-05-24T14:35:50.513271Z"
    }
   },
   "outputs": [
    {
     "data": {
      "text/plain": [
       "<Synth(20001) 's2' ~ {'freq': 220}>"
      ]
     },
     "execution_count": 1,
     "metadata": {},
     "output_type": "execute_result"
    }
   ],
   "source": [
    "syn.set(\"freq\", 220)"
   ]
  },
  {
   "cell_type": "code",
   "execution_count": 10,
   "metadata": {
    "execution": {
     "iopub.execute_input": "2021-05-24T14:35:50.516269Z",
     "iopub.status.busy": "2021-05-24T14:35:50.515270Z",
     "iopub.status.idle": "2021-05-24T14:35:50.518269Z",
     "shell.execute_reply": "2021-05-24T14:35:50.518269Z"
    }
   },
   "outputs": [],
   "source": [
    "bus.set(440)  # no change"
   ]
  },
  {
   "cell_type": "code",
   "execution_count": 11,
   "metadata": {
    "execution": {
     "iopub.execute_input": "2021-05-24T14:35:50.521270Z",
     "iopub.status.busy": "2021-05-24T14:35:50.520270Z",
     "iopub.status.idle": "2021-05-24T14:35:50.524270Z",
     "shell.execute_reply": "2021-05-24T14:35:50.524270Z"
    }
   },
   "outputs": [
    {
     "data": {
      "text/plain": [
       "<Synth(20001) 's2' ~f {'freq': 220}>"
      ]
     },
     "execution_count": 1,
     "metadata": {},
     "output_type": "execute_result"
    }
   ],
   "source": [
    "syn.free()"
   ]
  },
  {
   "cell_type": "markdown",
   "metadata": {},
   "source": [
    "Free the bus to mark the bus id as available again"
   ]
  },
  {
   "cell_type": "code",
   "execution_count": 12,
   "metadata": {
    "execution": {
     "iopub.execute_input": "2021-05-24T14:35:50.527269Z",
     "iopub.status.busy": "2021-05-24T14:35:50.526270Z",
     "iopub.status.idle": "2021-05-24T14:35:50.529270Z",
     "shell.execute_reply": "2021-05-24T14:35:50.529270Z"
    }
   },
   "outputs": [],
   "source": [
    "bus.free()"
   ]
  },
  {
   "cell_type": "markdown",
   "metadata": {},
   "source": [
    "## Use multiple Control Buses"
   ]
  },
  {
   "cell_type": "code",
   "execution_count": 13,
   "metadata": {
    "execution": {
     "iopub.execute_input": "2021-05-24T14:35:50.531270Z",
     "iopub.status.busy": "2021-05-24T14:35:50.531270Z",
     "iopub.status.idle": "2021-05-24T14:35:50.559269Z",
     "shell.execute_reply": "2021-05-24T14:35:50.559269Z"
    }
   },
   "outputs": [],
   "source": [
    "synth_name = scn.SynthDef(\"busMulti\", \"\"\"{ |out, freqs=#[200, 400], rates=#[1, 2] |\n",
    "    Out.ar(out, Splay.ar(SinOsc.ar(freqs) * Decay2.ar(Impulse.ar(rates), 0.001, 0.1)) * 0.5);\n",
    "}\"\"\").add()"
   ]
  },
  {
   "cell_type": "code",
   "execution_count": 14,
   "metadata": {
    "execution": {
     "iopub.execute_input": "2021-05-24T14:35:50.563274Z",
     "iopub.status.busy": "2021-05-24T14:35:50.562270Z",
     "iopub.status.idle": "2021-05-24T14:35:50.566271Z",
     "shell.execute_reply": "2021-05-24T14:35:50.566271Z"
    }
   },
   "outputs": [
    {
     "data": {
      "text/plain": [
       "Bus(control, ids=[512, 513])"
      ]
     },
     "execution_count": 1,
     "metadata": {},
     "output_type": "execute_result"
    }
   ],
   "source": [
    "buses = scn.Bus(\"control\", 2)\n",
    "buses"
   ]
  },
  {
   "cell_type": "code",
   "execution_count": 15,
   "metadata": {
    "execution": {
     "iopub.execute_input": "2021-05-24T14:35:50.569270Z",
     "iopub.status.busy": "2021-05-24T14:35:50.568270Z",
     "iopub.status.idle": "2021-05-24T14:35:50.590272Z",
     "shell.execute_reply": "2021-05-24T14:35:50.591270Z"
    }
   },
   "outputs": [
    {
     "data": {
      "text/plain": [
       "[0.0, 0.0]"
      ]
     },
     "execution_count": 1,
     "metadata": {},
     "output_type": "execute_result"
    }
   ],
   "source": [
    "buses.get()"
   ]
  },
  {
   "cell_type": "code",
   "execution_count": 16,
   "metadata": {
    "execution": {
     "iopub.execute_input": "2021-05-24T14:35:50.594270Z",
     "iopub.status.busy": "2021-05-24T14:35:50.593271Z",
     "iopub.status.idle": "2021-05-24T14:35:50.604274Z",
     "shell.execute_reply": "2021-05-24T14:35:50.605275Z"
    }
   },
   "outputs": [],
   "source": [
    "syn = scn.Synth(synth_name)"
   ]
  },
  {
   "cell_type": "code",
   "execution_count": 17,
   "metadata": {
    "execution": {
     "iopub.execute_input": "2021-05-24T14:35:50.608271Z",
     "iopub.status.busy": "2021-05-24T14:35:50.606275Z",
     "iopub.status.idle": "2021-05-24T14:35:50.612269Z",
     "shell.execute_reply": "2021-05-24T14:35:50.612269Z"
    }
   },
   "outputs": [
    {
     "data": {
      "text/plain": [
       "<Synth(20002) 'busMulti' s {}>"
      ]
     },
     "execution_count": 1,
     "metadata": {},
     "output_type": "execute_result"
    }
   ],
   "source": [
    "syn.map(\"rates\", buses)"
   ]
  },
  {
   "cell_type": "code",
   "execution_count": 18,
   "metadata": {
    "execution": {
     "iopub.execute_input": "2021-05-24T14:35:50.616269Z",
     "iopub.status.busy": "2021-05-24T14:35:50.615271Z",
     "iopub.status.idle": "2021-05-24T14:35:50.618269Z",
     "shell.execute_reply": "2021-05-24T14:35:50.618269Z"
    }
   },
   "outputs": [],
   "source": [
    "buses.set(1, 1)"
   ]
  },
  {
   "cell_type": "code",
   "execution_count": 19,
   "metadata": {
    "execution": {
     "iopub.execute_input": "2021-05-24T14:35:50.621271Z",
     "iopub.status.busy": "2021-05-24T14:35:50.621271Z",
     "iopub.status.idle": "2021-05-24T14:35:50.623270Z",
     "shell.execute_reply": "2021-05-24T14:35:50.623270Z"
    }
   },
   "outputs": [],
   "source": [
    "buses.set(1, 2)"
   ]
  },
  {
   "cell_type": "code",
   "execution_count": 20,
   "metadata": {
    "execution": {
     "iopub.execute_input": "2021-05-24T14:35:50.626270Z",
     "iopub.status.busy": "2021-05-24T14:35:50.625269Z",
     "iopub.status.idle": "2021-05-24T14:35:50.629270Z",
     "shell.execute_reply": "2021-05-24T14:35:50.629270Z"
    }
   },
   "outputs": [
    {
     "data": {
      "text/plain": [
       "[1.0, 2.0]"
      ]
     },
     "execution_count": 1,
     "metadata": {},
     "output_type": "execute_result"
    }
   ],
   "source": [
    "buses.get()"
   ]
  },
  {
   "cell_type": "code",
   "execution_count": 21,
   "metadata": {
    "execution": {
     "iopub.execute_input": "2021-05-24T14:35:50.632270Z",
     "iopub.status.busy": "2021-05-24T14:35:50.631269Z",
     "iopub.status.idle": "2021-05-24T14:35:50.635270Z",
     "shell.execute_reply": "2021-05-24T14:35:50.635270Z"
    }
   },
   "outputs": [
    {
     "data": {
      "text/plain": [
       "<Synth(20002) 'busMulti' ~f {}>"
      ]
     },
     "execution_count": 1,
     "metadata": {},
     "output_type": "execute_result"
    }
   ],
   "source": [
    "syn.free()"
   ]
  },
  {
   "cell_type": "code",
   "execution_count": 22,
   "metadata": {
    "execution": {
     "iopub.execute_input": "2021-05-24T14:35:50.637272Z",
     "iopub.status.busy": "2021-05-24T14:35:50.637272Z",
     "iopub.status.idle": "2021-05-24T14:35:50.640270Z",
     "shell.execute_reply": "2021-05-24T14:35:50.640270Z"
    }
   },
   "outputs": [],
   "source": [
    "buses.free()"
   ]
  },
  {
   "cell_type": "code",
   "execution_count": 23,
   "metadata": {
    "execution": {
     "iopub.execute_input": "2021-05-24T14:35:50.642269Z",
     "iopub.status.busy": "2021-05-24T14:35:50.642269Z",
     "iopub.status.idle": "2021-05-24T14:35:50.698269Z",
     "shell.execute_reply": "2021-05-24T14:35:50.698269Z"
    }
   },
   "outputs": [],
   "source": [
    "sc.server.free_all()"
   ]
  },
  {
   "cell_type": "code",
   "execution_count": 24,
   "metadata": {
    "execution": {
     "iopub.execute_input": "2021-05-24T14:35:50.701269Z",
     "iopub.status.busy": "2021-05-24T14:35:50.700269Z",
     "iopub.status.idle": "2021-05-24T14:35:51.893301Z",
     "shell.execute_reply": "2021-05-24T14:35:51.894300Z"
    }
   },
   "outputs": [],
   "source": [
    "sc.exit()"
   ]
  },
  {
   "cell_type": "code",
   "execution_count": null,
   "metadata": {},
   "outputs": [],
   "source": []
  }
 ],
 "metadata": {
  "language_info": {
   "codemirror_mode": {
    "name": "ipython",
    "version": 3
   },
   "file_extension": ".py",
   "mimetype": "text/x-python",
   "name": "python",
   "nbconvert_exporter": "python",
   "pygments_lexer": "ipython3",
   "version": "3.7.10"
  }
 },
 "nbformat": 4,
 "nbformat_minor": 4
}
