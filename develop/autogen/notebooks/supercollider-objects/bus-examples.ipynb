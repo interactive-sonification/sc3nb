{
 "cells": [
  {
   "cell_type": "markdown",
   "metadata": {},
   "source": [
    "# Bus"
   ]
  },
  {
   "cell_type": "code",
   "execution_count": 1,
   "metadata": {
    "execution": {
     "iopub.execute_input": "2023-08-22T12:04:24.773464Z",
     "iopub.status.busy": "2023-08-22T12:04:24.773151Z",
     "iopub.status.idle": "2023-08-22T12:04:24.961618Z",
     "shell.execute_reply": "2023-08-22T12:04:24.960914Z"
    }
   },
   "outputs": [],
   "source": [
    "import sc3nb as scn"
   ]
  },
  {
   "cell_type": "code",
   "execution_count": 2,
   "metadata": {
    "execution": {
     "iopub.execute_input": "2023-08-22T12:04:24.965254Z",
     "iopub.status.busy": "2023-08-22T12:04:24.964958Z",
     "iopub.status.idle": "2023-08-22T12:04:28.383370Z",
     "shell.execute_reply": "2023-08-22T12:04:28.381778Z"
    }
   },
   "outputs": [
    {
     "data": {
      "application/javascript": [
       "if (typeof Jupyter !== 'undefined') {\n",
       "                        Jupyter.keyboard_manager.command_shortcuts.add_shortcut(\n",
       "                        'cmd-.', {\n",
       "                        help : 'Free all nodes on SC server',\n",
       "                        help_index : 'zz',\n",
       "                        handler : function (event) {\n",
       "                            IPython.notebook.kernel.execute(\n",
       "                                \"import sc3nb; sc3nb.SC.get_default().server.free_all(root=True)\"\n",
       "                            )\n",
       "                            return true;}\n",
       "                        });\n",
       "                    }"
      ],
      "text/plain": [
       "<IPython.core.display.Javascript object>"
      ]
     },
     "metadata": {},
     "output_type": "display_data"
    },
    {
     "name": "stdout",
     "output_type": "stream",
     "text": [
      "Starting sclang process... [sclang | start reading ]\n"
     ]
    },
    {
     "name": "stdout",
     "output_type": "stream",
     "text": [
      "Done.\n",
      "Registering OSC /return callback in sclang... Done.\n",
      "Loading default sc3nb SynthDefs... Done.\n",
      "Booting SuperCollider Server... [scsynth | start reading ]\n"
     ]
    },
    {
     "name": "stdout",
     "output_type": "stream",
     "text": [
      "Done.\n"
     ]
    }
   ],
   "source": [
    "sc = scn.startup()"
   ]
  },
  {
   "cell_type": "markdown",
   "metadata": {},
   "source": [
    "## Using a Control Bus"
   ]
  },
  {
   "cell_type": "code",
   "execution_count": 3,
   "metadata": {
    "execution": {
     "iopub.execute_input": "2023-08-22T12:04:28.389348Z",
     "iopub.status.busy": "2023-08-22T12:04:28.388947Z",
     "iopub.status.idle": "2023-08-22T12:04:28.394367Z",
     "shell.execute_reply": "2023-08-22T12:04:28.393746Z"
    }
   },
   "outputs": [
    {
     "data": {
      "text/plain": [
       "Bus(rate='control', ids=[512])"
      ]
     },
     "execution_count": 3,
     "metadata": {},
     "output_type": "execute_result"
    }
   ],
   "source": [
    "bus = scn.Bus('control')\n",
    "bus"
   ]
  },
  {
   "cell_type": "code",
   "execution_count": 4,
   "metadata": {
    "execution": {
     "iopub.execute_input": "2023-08-22T12:04:28.397456Z",
     "iopub.status.busy": "2023-08-22T12:04:28.397165Z",
     "iopub.status.idle": "2023-08-22T12:04:28.405554Z",
     "shell.execute_reply": "2023-08-22T12:04:28.404909Z"
    }
   },
   "outputs": [
    {
     "data": {
      "text/plain": [
       "0.0"
      ]
     },
     "execution_count": 4,
     "metadata": {},
     "output_type": "execute_result"
    }
   ],
   "source": [
    "bus.get()"
   ]
  },
  {
   "cell_type": "code",
   "execution_count": 5,
   "metadata": {
    "execution": {
     "iopub.execute_input": "2023-08-22T12:04:28.408653Z",
     "iopub.status.busy": "2023-08-22T12:04:28.408377Z",
     "iopub.status.idle": "2023-08-22T12:04:28.423522Z",
     "shell.execute_reply": "2023-08-22T12:04:28.422571Z"
    }
   },
   "outputs": [],
   "source": [
    "syn = scn.Synth(\"s2\")"
   ]
  },
  {
   "cell_type": "markdown",
   "metadata": {},
   "source": [
    "map the frequency of the synth to the bus value"
   ]
  },
  {
   "cell_type": "code",
   "execution_count": 6,
   "metadata": {
    "execution": {
     "iopub.execute_input": "2023-08-22T12:04:28.427093Z",
     "iopub.status.busy": "2023-08-22T12:04:28.426804Z",
     "iopub.status.idle": "2023-08-22T12:04:28.431696Z",
     "shell.execute_reply": "2023-08-22T12:04:28.431074Z"
    }
   },
   "outputs": [
    {
     "data": {
      "text/plain": [
       "<Synth(20001) 's2' ~ {}>"
      ]
     },
     "execution_count": 6,
     "metadata": {},
     "output_type": "execute_result"
    }
   ],
   "source": [
    "syn.map(\"freq\", bus)"
   ]
  },
  {
   "cell_type": "code",
   "execution_count": 7,
   "metadata": {
    "execution": {
     "iopub.execute_input": "2023-08-22T12:04:28.435582Z",
     "iopub.status.busy": "2023-08-22T12:04:28.434701Z",
     "iopub.status.idle": "2023-08-22T12:04:28.440888Z",
     "shell.execute_reply": "2023-08-22T12:04:28.440244Z"
    }
   },
   "outputs": [
    {
     "data": {
      "text/plain": [
       "Bus(rate='control', ids=[512])"
      ]
     },
     "execution_count": 7,
     "metadata": {},
     "output_type": "execute_result"
    }
   ],
   "source": [
    "bus.set(120) # changes synths frequency"
   ]
  },
  {
   "cell_type": "code",
   "execution_count": 8,
   "metadata": {
    "execution": {
     "iopub.execute_input": "2023-08-22T12:04:28.444022Z",
     "iopub.status.busy": "2023-08-22T12:04:28.443736Z",
     "iopub.status.idle": "2023-08-22T12:04:28.448296Z",
     "shell.execute_reply": "2023-08-22T12:04:28.447625Z"
    }
   },
   "outputs": [
    {
     "data": {
      "text/plain": [
       "Bus(rate='control', ids=[512])"
      ]
     },
     "execution_count": 8,
     "metadata": {},
     "output_type": "execute_result"
    }
   ],
   "source": [
    "bus.set(440)"
   ]
  },
  {
   "cell_type": "markdown",
   "metadata": {},
   "source": [
    "Set the frequency value to remove the mapping"
   ]
  },
  {
   "cell_type": "code",
   "execution_count": 9,
   "metadata": {
    "execution": {
     "iopub.execute_input": "2023-08-22T12:04:28.451801Z",
     "iopub.status.busy": "2023-08-22T12:04:28.451431Z",
     "iopub.status.idle": "2023-08-22T12:04:28.456489Z",
     "shell.execute_reply": "2023-08-22T12:04:28.455929Z"
    }
   },
   "outputs": [
    {
     "data": {
      "text/plain": [
       "<Synth(20001) 's2' ~ {'freq': 220}>"
      ]
     },
     "execution_count": 9,
     "metadata": {},
     "output_type": "execute_result"
    }
   ],
   "source": [
    "syn.set(\"freq\", 220)"
   ]
  },
  {
   "cell_type": "code",
   "execution_count": 10,
   "metadata": {
    "execution": {
     "iopub.execute_input": "2023-08-22T12:04:28.459461Z",
     "iopub.status.busy": "2023-08-22T12:04:28.459200Z",
     "iopub.status.idle": "2023-08-22T12:04:28.463497Z",
     "shell.execute_reply": "2023-08-22T12:04:28.462870Z"
    }
   },
   "outputs": [
    {
     "data": {
      "text/plain": [
       "Bus(rate='control', ids=[512])"
      ]
     },
     "execution_count": 10,
     "metadata": {},
     "output_type": "execute_result"
    }
   ],
   "source": [
    "bus.set(440)  # no change"
   ]
  },
  {
   "cell_type": "code",
   "execution_count": 11,
   "metadata": {
    "execution": {
     "iopub.execute_input": "2023-08-22T12:04:28.466305Z",
     "iopub.status.busy": "2023-08-22T12:04:28.466059Z",
     "iopub.status.idle": "2023-08-22T12:04:28.470456Z",
     "shell.execute_reply": "2023-08-22T12:04:28.469620Z"
    }
   },
   "outputs": [
    {
     "data": {
      "text/plain": [
       "<Synth(20001) 's2' f {'freq': 220}>"
      ]
     },
     "execution_count": 11,
     "metadata": {},
     "output_type": "execute_result"
    }
   ],
   "source": [
    "syn.free()"
   ]
  },
  {
   "cell_type": "markdown",
   "metadata": {},
   "source": [
    "Free the bus to mark the bus id as available again"
   ]
  },
  {
   "cell_type": "code",
   "execution_count": 12,
   "metadata": {
    "execution": {
     "iopub.execute_input": "2023-08-22T12:04:28.473593Z",
     "iopub.status.busy": "2023-08-22T12:04:28.473322Z",
     "iopub.status.idle": "2023-08-22T12:04:28.476574Z",
     "shell.execute_reply": "2023-08-22T12:04:28.475944Z"
    }
   },
   "outputs": [],
   "source": [
    "bus.free()"
   ]
  },
  {
   "cell_type": "markdown",
   "metadata": {},
   "source": [
    "## Use multiple Control Buses"
   ]
  },
  {
   "cell_type": "code",
   "execution_count": 13,
   "metadata": {
    "execution": {
     "iopub.execute_input": "2023-08-22T12:04:28.479542Z",
     "iopub.status.busy": "2023-08-22T12:04:28.479296Z",
     "iopub.status.idle": "2023-08-22T12:04:28.522041Z",
     "shell.execute_reply": "2023-08-22T12:04:28.520695Z"
    }
   },
   "outputs": [],
   "source": [
    "synth_name = scn.SynthDef(\"busMulti\", \"\"\"{ |out, freqs=#[200, 400], rates=#[1, 2] |\n",
    "    Out.ar(out, Splay.ar(SinOsc.ar(freqs) * Decay2.ar(Impulse.ar(rates), 0.001, 0.1)) * 0.5);\n",
    "}\"\"\").add()"
   ]
  },
  {
   "cell_type": "code",
   "execution_count": 14,
   "metadata": {
    "execution": {
     "iopub.execute_input": "2023-08-22T12:04:28.526479Z",
     "iopub.status.busy": "2023-08-22T12:04:28.526138Z",
     "iopub.status.idle": "2023-08-22T12:04:28.531709Z",
     "shell.execute_reply": "2023-08-22T12:04:28.531069Z"
    }
   },
   "outputs": [
    {
     "data": {
      "text/plain": [
       "Bus(rate='control', ids=[512, 513])"
      ]
     },
     "execution_count": 14,
     "metadata": {},
     "output_type": "execute_result"
    }
   ],
   "source": [
    "buses = scn.Bus(\"control\", 2)\n",
    "buses"
   ]
  },
  {
   "cell_type": "code",
   "execution_count": 15,
   "metadata": {
    "execution": {
     "iopub.execute_input": "2023-08-22T12:04:28.535087Z",
     "iopub.status.busy": "2023-08-22T12:04:28.534654Z",
     "iopub.status.idle": "2023-08-22T12:04:28.544794Z",
     "shell.execute_reply": "2023-08-22T12:04:28.544098Z"
    }
   },
   "outputs": [
    {
     "data": {
      "text/plain": [
       "[0.0, 0.0]"
      ]
     },
     "execution_count": 15,
     "metadata": {},
     "output_type": "execute_result"
    }
   ],
   "source": [
    "buses.get()"
   ]
  },
  {
   "cell_type": "code",
   "execution_count": 16,
   "metadata": {
    "execution": {
     "iopub.execute_input": "2023-08-22T12:04:28.547930Z",
     "iopub.status.busy": "2023-08-22T12:04:28.547656Z",
     "iopub.status.idle": "2023-08-22T12:04:28.563980Z",
     "shell.execute_reply": "2023-08-22T12:04:28.562702Z"
    }
   },
   "outputs": [],
   "source": [
    "syn = scn.Synth(synth_name)"
   ]
  },
  {
   "cell_type": "code",
   "execution_count": 17,
   "metadata": {
    "execution": {
     "iopub.execute_input": "2023-08-22T12:04:28.568507Z",
     "iopub.status.busy": "2023-08-22T12:04:28.568117Z",
     "iopub.status.idle": "2023-08-22T12:04:28.573697Z",
     "shell.execute_reply": "2023-08-22T12:04:28.573057Z"
    }
   },
   "outputs": [
    {
     "data": {
      "text/plain": [
       "<Synth(20002) 'busMulti' ~ {}>"
      ]
     },
     "execution_count": 17,
     "metadata": {},
     "output_type": "execute_result"
    }
   ],
   "source": [
    "syn.map(\"rates\", buses)"
   ]
  },
  {
   "cell_type": "code",
   "execution_count": 18,
   "metadata": {
    "execution": {
     "iopub.execute_input": "2023-08-22T12:04:28.576956Z",
     "iopub.status.busy": "2023-08-22T12:04:28.576665Z",
     "iopub.status.idle": "2023-08-22T12:04:28.580962Z",
     "shell.execute_reply": "2023-08-22T12:04:28.580355Z"
    }
   },
   "outputs": [
    {
     "data": {
      "text/plain": [
       "Bus(rate='control', ids=[512, 513])"
      ]
     },
     "execution_count": 18,
     "metadata": {},
     "output_type": "execute_result"
    }
   ],
   "source": [
    "buses.set(1, 1)"
   ]
  },
  {
   "cell_type": "code",
   "execution_count": 19,
   "metadata": {
    "execution": {
     "iopub.execute_input": "2023-08-22T12:04:28.583895Z",
     "iopub.status.busy": "2023-08-22T12:04:28.583619Z",
     "iopub.status.idle": "2023-08-22T12:04:28.587949Z",
     "shell.execute_reply": "2023-08-22T12:04:28.587258Z"
    }
   },
   "outputs": [
    {
     "data": {
      "text/plain": [
       "Bus(rate='control', ids=[512, 513])"
      ]
     },
     "execution_count": 19,
     "metadata": {},
     "output_type": "execute_result"
    }
   ],
   "source": [
    "buses.set(1, 2)"
   ]
  },
  {
   "cell_type": "code",
   "execution_count": 20,
   "metadata": {
    "execution": {
     "iopub.execute_input": "2023-08-22T12:04:28.591330Z",
     "iopub.status.busy": "2023-08-22T12:04:28.591042Z",
     "iopub.status.idle": "2023-08-22T12:04:28.605472Z",
     "shell.execute_reply": "2023-08-22T12:04:28.604468Z"
    }
   },
   "outputs": [
    {
     "data": {
      "text/plain": [
       "[1.0, 2.0]"
      ]
     },
     "execution_count": 20,
     "metadata": {},
     "output_type": "execute_result"
    }
   ],
   "source": [
    "buses.get()"
   ]
  },
  {
   "cell_type": "code",
   "execution_count": 21,
   "metadata": {
    "execution": {
     "iopub.execute_input": "2023-08-22T12:04:28.609819Z",
     "iopub.status.busy": "2023-08-22T12:04:28.609432Z",
     "iopub.status.idle": "2023-08-22T12:04:28.614751Z",
     "shell.execute_reply": "2023-08-22T12:04:28.613996Z"
    }
   },
   "outputs": [
    {
     "data": {
      "text/plain": [
       "<Synth(20002) 'busMulti' f {}>"
      ]
     },
     "execution_count": 21,
     "metadata": {},
     "output_type": "execute_result"
    }
   ],
   "source": [
    "syn.free()"
   ]
  },
  {
   "cell_type": "code",
   "execution_count": 22,
   "metadata": {
    "execution": {
     "iopub.execute_input": "2023-08-22T12:04:28.617885Z",
     "iopub.status.busy": "2023-08-22T12:04:28.617608Z",
     "iopub.status.idle": "2023-08-22T12:04:28.621078Z",
     "shell.execute_reply": "2023-08-22T12:04:28.620446Z"
    }
   },
   "outputs": [],
   "source": [
    "buses.free()"
   ]
  },
  {
   "cell_type": "code",
   "execution_count": 23,
   "metadata": {
    "execution": {
     "iopub.execute_input": "2023-08-22T12:04:28.624468Z",
     "iopub.status.busy": "2023-08-22T12:04:28.624172Z",
     "iopub.status.idle": "2023-08-22T12:04:28.695576Z",
     "shell.execute_reply": "2023-08-22T12:04:28.694443Z"
    }
   },
   "outputs": [],
   "source": [
    "sc.server.free_all()"
   ]
  },
  {
   "cell_type": "code",
   "execution_count": 24,
   "metadata": {
    "execution": {
     "iopub.execute_input": "2023-08-22T12:04:28.699826Z",
     "iopub.status.busy": "2023-08-22T12:04:28.699482Z",
     "iopub.status.idle": "2023-08-22T12:04:28.781472Z",
     "shell.execute_reply": "2023-08-22T12:04:28.780208Z"
    }
   },
   "outputs": [
    {
     "name": "stdout",
     "output_type": "stream",
     "text": [
      "Quitting SCServer... [scsynth | reached EOF ]\n",
      "Done.\n",
      "Exiting sclang... [sclang | reached EOF ]\n",
      "Done.\n"
     ]
    }
   ],
   "source": [
    "sc.exit()"
   ]
  },
  {
   "cell_type": "code",
   "execution_count": null,
   "metadata": {},
   "outputs": [],
   "source": []
  }
 ],
 "metadata": {
  "language_info": {
   "codemirror_mode": {
    "name": "ipython",
    "version": 3
   },
   "file_extension": ".py",
   "mimetype": "text/x-python",
   "name": "python",
   "nbconvert_exporter": "python",
   "pygments_lexer": "ipython3",
   "version": "3.10.11"
  }
 },
 "nbformat": 4,
 "nbformat_minor": 4
}
