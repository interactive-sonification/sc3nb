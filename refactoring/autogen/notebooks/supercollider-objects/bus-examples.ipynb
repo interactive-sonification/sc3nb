{
 "cells": [
  {
   "cell_type": "markdown",
   "metadata": {},
   "source": [
    "# Bus"
   ]
  },
  {
   "cell_type": "code",
   "execution_count": 1,
   "metadata": {
    "execution": {
     "iopub.execute_input": "2021-06-04T14:19:20.478020Z",
     "iopub.status.busy": "2021-06-04T14:19:20.478020Z",
     "iopub.status.idle": "2021-06-04T14:19:20.670040Z",
     "shell.execute_reply": "2021-06-04T14:19:20.670040Z"
    }
   },
   "outputs": [],
   "source": [
    "import sc3nb as scn"
   ]
  },
  {
   "cell_type": "code",
   "execution_count": 2,
   "metadata": {
    "execution": {
     "iopub.execute_input": "2021-06-04T14:19:20.679042Z",
     "iopub.status.busy": "2021-06-04T14:19:20.679042Z",
     "iopub.status.idle": "2021-06-04T14:19:24.188630Z",
     "shell.execute_reply": "2021-06-04T14:19:24.189625Z"
    }
   },
   "outputs": [
    {
     "data": {
      "application/javascript": [
       "if (typeof Jupyter !== 'undefined') {\n",
       "                        Jupyter.keyboard_manager.command_shortcuts.add_shortcut(\n",
       "                        'Ctrl-.', {\n",
       "                        help : 'Free all nodes on SC server',\n",
       "                        help_index : 'zz',\n",
       "                        handler : function (event) {\n",
       "                            IPython.notebook.kernel.execute(\n",
       "                                \"import sc3nb; sc3nb.SC.get_default().server.free_all(root=True)\"\n",
       "                            )\n",
       "                            return true;}\n",
       "                        });\n",
       "                    }"
      ],
      "text/plain": [
       "<IPython.core.display.Javascript object>"
      ]
     },
     "metadata": {},
     "output_type": "display_data"
    },
    {
     "name": "stdout",
     "output_type": "stream",
     "text": [
      "Starting sclang process...\n"
     ]
    },
    {
     "name": "stdout",
     "output_type": "stream",
     "text": [
      "Done.\n",
      "Registering OSC /return callback in sclang...\n",
      "Done.\n",
      "Loading default SynthDescs\n",
      "Done.\n",
      "Booting SuperCollider Server...\n"
     ]
    },
    {
     "name": "stdout",
     "output_type": "stream",
     "text": [
      "Done.\n"
     ]
    }
   ],
   "source": [
    "sc = scn.startup()"
   ]
  },
  {
   "cell_type": "markdown",
   "metadata": {},
   "source": [
    "## Using a Control Bus"
   ]
  },
  {
   "cell_type": "code",
   "execution_count": 3,
   "metadata": {
    "execution": {
     "iopub.execute_input": "2021-06-04T14:19:24.192628Z",
     "iopub.status.busy": "2021-06-04T14:19:24.192628Z",
     "iopub.status.idle": "2021-06-04T14:19:24.195629Z",
     "shell.execute_reply": "2021-06-04T14:19:24.195629Z"
    }
   },
   "outputs": [
    {
     "data": {
      "text/plain": [
       "Bus(control, ids=[512])"
      ]
     },
     "execution_count": 1,
     "metadata": {},
     "output_type": "execute_result"
    }
   ],
   "source": [
    "bus = scn.Bus('control')\n",
    "bus"
   ]
  },
  {
   "cell_type": "code",
   "execution_count": 4,
   "metadata": {
    "execution": {
     "iopub.execute_input": "2021-06-04T14:19:24.198623Z",
     "iopub.status.busy": "2021-06-04T14:19:24.197623Z",
     "iopub.status.idle": "2021-06-04T14:19:24.207627Z",
     "shell.execute_reply": "2021-06-04T14:19:24.207627Z"
    }
   },
   "outputs": [
    {
     "data": {
      "text/plain": [
       "0.0"
      ]
     },
     "execution_count": 1,
     "metadata": {},
     "output_type": "execute_result"
    }
   ],
   "source": [
    "bus.get()"
   ]
  },
  {
   "cell_type": "code",
   "execution_count": 5,
   "metadata": {
    "execution": {
     "iopub.execute_input": "2021-06-04T14:19:24.210623Z",
     "iopub.status.busy": "2021-06-04T14:19:24.210623Z",
     "iopub.status.idle": "2021-06-04T14:19:24.221629Z",
     "shell.execute_reply": "2021-06-04T14:19:24.221629Z"
    }
   },
   "outputs": [],
   "source": [
    "syn = scn.Synth(\"s2\")"
   ]
  },
  {
   "cell_type": "markdown",
   "metadata": {},
   "source": [
    "map the frequency of the synth to the bus value"
   ]
  },
  {
   "cell_type": "code",
   "execution_count": 6,
   "metadata": {
    "execution": {
     "iopub.execute_input": "2021-06-04T14:19:24.226625Z",
     "iopub.status.busy": "2021-06-04T14:19:24.225624Z",
     "iopub.status.idle": "2021-06-04T14:19:24.229624Z",
     "shell.execute_reply": "2021-06-04T14:19:24.229624Z"
    }
   },
   "outputs": [
    {
     "data": {
      "text/plain": [
       "<Synth(20001) 's2' s {}>"
      ]
     },
     "execution_count": 1,
     "metadata": {},
     "output_type": "execute_result"
    }
   ],
   "source": [
    "syn.map(\"freq\", bus)"
   ]
  },
  {
   "cell_type": "code",
   "execution_count": 7,
   "metadata": {
    "execution": {
     "iopub.execute_input": "2021-06-04T14:19:24.233625Z",
     "iopub.status.busy": "2021-06-04T14:19:24.232628Z",
     "iopub.status.idle": "2021-06-04T14:19:24.235626Z",
     "shell.execute_reply": "2021-06-04T14:19:24.235626Z"
    }
   },
   "outputs": [],
   "source": [
    "bus.set(120) # changes synths frequency"
   ]
  },
  {
   "cell_type": "code",
   "execution_count": 8,
   "metadata": {
    "execution": {
     "iopub.execute_input": "2021-06-04T14:19:24.238628Z",
     "iopub.status.busy": "2021-06-04T14:19:24.238628Z",
     "iopub.status.idle": "2021-06-04T14:19:24.241625Z",
     "shell.execute_reply": "2021-06-04T14:19:24.241625Z"
    }
   },
   "outputs": [],
   "source": [
    "bus.set(440)"
   ]
  },
  {
   "cell_type": "markdown",
   "metadata": {},
   "source": [
    "Set the frequency value to remove the mapping"
   ]
  },
  {
   "cell_type": "code",
   "execution_count": 9,
   "metadata": {
    "execution": {
     "iopub.execute_input": "2021-06-04T14:19:24.245626Z",
     "iopub.status.busy": "2021-06-04T14:19:24.244631Z",
     "iopub.status.idle": "2021-06-04T14:19:24.247624Z",
     "shell.execute_reply": "2021-06-04T14:19:24.247624Z"
    }
   },
   "outputs": [
    {
     "data": {
      "text/plain": [
       "<Synth(20001) 's2' ~ {'freq': 220}>"
      ]
     },
     "execution_count": 1,
     "metadata": {},
     "output_type": "execute_result"
    }
   ],
   "source": [
    "syn.set(\"freq\", 220)"
   ]
  },
  {
   "cell_type": "code",
   "execution_count": 10,
   "metadata": {
    "execution": {
     "iopub.execute_input": "2021-06-04T14:19:24.250624Z",
     "iopub.status.busy": "2021-06-04T14:19:24.249624Z",
     "iopub.status.idle": "2021-06-04T14:19:24.252625Z",
     "shell.execute_reply": "2021-06-04T14:19:24.252625Z"
    }
   },
   "outputs": [],
   "source": [
    "bus.set(440)  # no change"
   ]
  },
  {
   "cell_type": "code",
   "execution_count": 11,
   "metadata": {
    "execution": {
     "iopub.execute_input": "2021-06-04T14:19:24.255623Z",
     "iopub.status.busy": "2021-06-04T14:19:24.255623Z",
     "iopub.status.idle": "2021-06-04T14:19:24.257626Z",
     "shell.execute_reply": "2021-06-04T14:19:24.257626Z"
    }
   },
   "outputs": [
    {
     "data": {
      "text/plain": [
       "<Synth(20001) 's2' ~f {'freq': 220}>"
      ]
     },
     "execution_count": 1,
     "metadata": {},
     "output_type": "execute_result"
    }
   ],
   "source": [
    "syn.free()"
   ]
  },
  {
   "cell_type": "markdown",
   "metadata": {},
   "source": [
    "Free the bus to mark the bus id as available again"
   ]
  },
  {
   "cell_type": "code",
   "execution_count": 12,
   "metadata": {
    "execution": {
     "iopub.execute_input": "2021-06-04T14:19:24.260623Z",
     "iopub.status.busy": "2021-06-04T14:19:24.260623Z",
     "iopub.status.idle": "2021-06-04T14:19:24.262624Z",
     "shell.execute_reply": "2021-06-04T14:19:24.262624Z"
    }
   },
   "outputs": [],
   "source": [
    "bus.free()"
   ]
  },
  {
   "cell_type": "markdown",
   "metadata": {},
   "source": [
    "## Use multiple Control Buses"
   ]
  },
  {
   "cell_type": "code",
   "execution_count": 13,
   "metadata": {
    "execution": {
     "iopub.execute_input": "2021-06-04T14:19:24.266624Z",
     "iopub.status.busy": "2021-06-04T14:19:24.266624Z",
     "iopub.status.idle": "2021-06-04T14:19:24.306626Z",
     "shell.execute_reply": "2021-06-04T14:19:24.306626Z"
    }
   },
   "outputs": [],
   "source": [
    "synth_name = scn.SynthDef(\"busMulti\", \"\"\"{ |out, freqs=#[200, 400], rates=#[1, 2] |\n",
    "    Out.ar(out, Splay.ar(SinOsc.ar(freqs) * Decay2.ar(Impulse.ar(rates), 0.001, 0.1)) * 0.5);\n",
    "}\"\"\").add()"
   ]
  },
  {
   "cell_type": "code",
   "execution_count": 14,
   "metadata": {
    "execution": {
     "iopub.execute_input": "2021-06-04T14:19:24.310624Z",
     "iopub.status.busy": "2021-06-04T14:19:24.309628Z",
     "iopub.status.idle": "2021-06-04T14:19:24.313625Z",
     "shell.execute_reply": "2021-06-04T14:19:24.313625Z"
    }
   },
   "outputs": [
    {
     "data": {
      "text/plain": [
       "Bus(control, ids=[512, 513])"
      ]
     },
     "execution_count": 1,
     "metadata": {},
     "output_type": "execute_result"
    }
   ],
   "source": [
    "buses = scn.Bus(\"control\", 2)\n",
    "buses"
   ]
  },
  {
   "cell_type": "code",
   "execution_count": 15,
   "metadata": {
    "execution": {
     "iopub.execute_input": "2021-06-04T14:19:24.316623Z",
     "iopub.status.busy": "2021-06-04T14:19:24.315623Z",
     "iopub.status.idle": "2021-06-04T14:19:24.327628Z",
     "shell.execute_reply": "2021-06-04T14:19:24.327628Z"
    }
   },
   "outputs": [
    {
     "data": {
      "text/plain": [
       "[0.0, 0.0]"
      ]
     },
     "execution_count": 1,
     "metadata": {},
     "output_type": "execute_result"
    }
   ],
   "source": [
    "buses.get()"
   ]
  },
  {
   "cell_type": "code",
   "execution_count": 16,
   "metadata": {
    "execution": {
     "iopub.execute_input": "2021-06-04T14:19:24.330628Z",
     "iopub.status.busy": "2021-06-04T14:19:24.329626Z",
     "iopub.status.idle": "2021-06-04T14:19:24.340624Z",
     "shell.execute_reply": "2021-06-04T14:19:24.341629Z"
    }
   },
   "outputs": [],
   "source": [
    "syn = scn.Synth(synth_name)"
   ]
  },
  {
   "cell_type": "code",
   "execution_count": 17,
   "metadata": {
    "execution": {
     "iopub.execute_input": "2021-06-04T14:19:24.344624Z",
     "iopub.status.busy": "2021-06-04T14:19:24.344624Z",
     "iopub.status.idle": "2021-06-04T14:19:24.347625Z",
     "shell.execute_reply": "2021-06-04T14:19:24.347625Z"
    }
   },
   "outputs": [
    {
     "data": {
      "text/plain": [
       "<Synth(20002) 'busMulti' s {}>"
      ]
     },
     "execution_count": 1,
     "metadata": {},
     "output_type": "execute_result"
    }
   ],
   "source": [
    "syn.map(\"rates\", buses)"
   ]
  },
  {
   "cell_type": "code",
   "execution_count": 18,
   "metadata": {
    "execution": {
     "iopub.execute_input": "2021-06-04T14:19:24.351624Z",
     "iopub.status.busy": "2021-06-04T14:19:24.350628Z",
     "iopub.status.idle": "2021-06-04T14:19:24.353624Z",
     "shell.execute_reply": "2021-06-04T14:19:24.353624Z"
    }
   },
   "outputs": [],
   "source": [
    "buses.set(1, 1)"
   ]
  },
  {
   "cell_type": "code",
   "execution_count": 19,
   "metadata": {
    "execution": {
     "iopub.execute_input": "2021-06-04T14:19:24.357626Z",
     "iopub.status.busy": "2021-06-04T14:19:24.356628Z",
     "iopub.status.idle": "2021-06-04T14:19:24.359625Z",
     "shell.execute_reply": "2021-06-04T14:19:24.359625Z"
    }
   },
   "outputs": [],
   "source": [
    "buses.set(1, 2)"
   ]
  },
  {
   "cell_type": "code",
   "execution_count": 20,
   "metadata": {
    "execution": {
     "iopub.execute_input": "2021-06-04T14:19:24.363624Z",
     "iopub.status.busy": "2021-06-04T14:19:24.362627Z",
     "iopub.status.idle": "2021-06-04T14:19:24.368624Z",
     "shell.execute_reply": "2021-06-04T14:19:24.368624Z"
    }
   },
   "outputs": [
    {
     "data": {
      "text/plain": [
       "[1.0, 2.0]"
      ]
     },
     "execution_count": 1,
     "metadata": {},
     "output_type": "execute_result"
    }
   ],
   "source": [
    "buses.get()"
   ]
  },
  {
   "cell_type": "code",
   "execution_count": 21,
   "metadata": {
    "execution": {
     "iopub.execute_input": "2021-06-04T14:19:24.371623Z",
     "iopub.status.busy": "2021-06-04T14:19:24.371623Z",
     "iopub.status.idle": "2021-06-04T14:19:24.373624Z",
     "shell.execute_reply": "2021-06-04T14:19:24.373624Z"
    }
   },
   "outputs": [
    {
     "data": {
      "text/plain": [
       "<Synth(20002) 'busMulti' ~f {}>"
      ]
     },
     "execution_count": 1,
     "metadata": {},
     "output_type": "execute_result"
    }
   ],
   "source": [
    "syn.free()"
   ]
  },
  {
   "cell_type": "code",
   "execution_count": 22,
   "metadata": {
    "execution": {
     "iopub.execute_input": "2021-06-04T14:19:24.377623Z",
     "iopub.status.busy": "2021-06-04T14:19:24.376623Z",
     "iopub.status.idle": "2021-06-04T14:19:24.379623Z",
     "shell.execute_reply": "2021-06-04T14:19:24.379623Z"
    }
   },
   "outputs": [],
   "source": [
    "buses.free()"
   ]
  },
  {
   "cell_type": "code",
   "execution_count": 23,
   "metadata": {
    "execution": {
     "iopub.execute_input": "2021-06-04T14:19:24.382625Z",
     "iopub.status.busy": "2021-06-04T14:19:24.381625Z",
     "iopub.status.idle": "2021-06-04T14:19:24.437627Z",
     "shell.execute_reply": "2021-06-04T14:19:24.437627Z"
    }
   },
   "outputs": [],
   "source": [
    "sc.server.free_all()"
   ]
  },
  {
   "cell_type": "code",
   "execution_count": 24,
   "metadata": {
    "execution": {
     "iopub.execute_input": "2021-06-04T14:19:24.440624Z",
     "iopub.status.busy": "2021-06-04T14:19:24.440624Z",
     "iopub.status.idle": "2021-06-04T14:19:25.584423Z",
     "shell.execute_reply": "2021-06-04T14:19:25.584423Z"
    }
   },
   "outputs": [],
   "source": [
    "sc.exit()"
   ]
  },
  {
   "cell_type": "code",
   "execution_count": null,
   "metadata": {},
   "outputs": [],
   "source": []
  }
 ],
 "metadata": {
  "language_info": {
   "codemirror_mode": {
    "name": "ipython",
    "version": 3
   },
   "file_extension": ".py",
   "mimetype": "text/x-python",
   "name": "python",
   "nbconvert_exporter": "python",
   "pygments_lexer": "ipython3",
   "version": "3.7.10"
  }
 },
 "nbformat": 4,
 "nbformat_minor": 4
}
