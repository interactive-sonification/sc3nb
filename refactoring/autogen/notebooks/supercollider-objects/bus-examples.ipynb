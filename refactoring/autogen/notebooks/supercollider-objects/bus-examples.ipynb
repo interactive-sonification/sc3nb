{
 "cells": [
  {
   "cell_type": "markdown",
   "metadata": {},
   "source": [
    "# Bus"
   ]
  },
  {
   "cell_type": "code",
   "execution_count": 1,
   "metadata": {
    "execution": {
     "iopub.execute_input": "2021-06-09T14:46:06.729628Z",
     "iopub.status.busy": "2021-06-09T14:46:06.728628Z",
     "iopub.status.idle": "2021-06-09T14:46:06.915628Z",
     "shell.execute_reply": "2021-06-09T14:46:06.915628Z"
    }
   },
   "outputs": [],
   "source": [
    "import sc3nb as scn"
   ]
  },
  {
   "cell_type": "code",
   "execution_count": 2,
   "metadata": {
    "execution": {
     "iopub.execute_input": "2021-06-09T14:46:06.924628Z",
     "iopub.status.busy": "2021-06-09T14:46:06.923626Z",
     "iopub.status.idle": "2021-06-09T14:46:10.582585Z",
     "shell.execute_reply": "2021-06-09T14:46:10.583583Z"
    }
   },
   "outputs": [
    {
     "data": {
      "application/javascript": [
       "if (typeof Jupyter !== 'undefined') {\n",
       "                        Jupyter.keyboard_manager.command_shortcuts.add_shortcut(\n",
       "                        'Ctrl-.', {\n",
       "                        help : 'Free all nodes on SC server',\n",
       "                        help_index : 'zz',\n",
       "                        handler : function (event) {\n",
       "                            IPython.notebook.kernel.execute(\n",
       "                                \"import sc3nb; sc3nb.SC.get_default().server.free_all(root=True)\"\n",
       "                            )\n",
       "                            return true;}\n",
       "                        });\n",
       "                    }"
      ],
      "text/plain": [
       "<IPython.core.display.Javascript object>"
      ]
     },
     "metadata": {},
     "output_type": "display_data"
    },
    {
     "name": "stdout",
     "output_type": "stream",
     "text": [
      "Starting sclang process...\n"
     ]
    },
    {
     "name": "stdout",
     "output_type": "stream",
     "text": [
      "Done.\n",
      "Registering OSC /return callback in sclang...\n",
      "Done.\n",
      "Loading default SynthDescs\n",
      "Done.\n",
      "Booting SuperCollider Server...\n"
     ]
    },
    {
     "name": "stdout",
     "output_type": "stream",
     "text": [
      "Done.\n"
     ]
    }
   ],
   "source": [
    "sc = scn.startup()"
   ]
  },
  {
   "cell_type": "markdown",
   "metadata": {},
   "source": [
    "## Using a Control Bus"
   ]
  },
  {
   "cell_type": "code",
   "execution_count": 3,
   "metadata": {
    "execution": {
     "iopub.execute_input": "2021-06-09T14:46:10.588583Z",
     "iopub.status.busy": "2021-06-09T14:46:10.587581Z",
     "iopub.status.idle": "2021-06-09T14:46:10.590584Z",
     "shell.execute_reply": "2021-06-09T14:46:10.589582Z"
    }
   },
   "outputs": [
    {
     "data": {
      "text/plain": [
       "Bus(control, ids=[512])"
      ]
     },
     "execution_count": 1,
     "metadata": {},
     "output_type": "execute_result"
    }
   ],
   "source": [
    "bus = scn.Bus('control')\n",
    "bus"
   ]
  },
  {
   "cell_type": "code",
   "execution_count": 4,
   "metadata": {
    "execution": {
     "iopub.execute_input": "2021-06-09T14:46:10.593583Z",
     "iopub.status.busy": "2021-06-09T14:46:10.592582Z",
     "iopub.status.idle": "2021-06-09T14:46:10.598582Z",
     "shell.execute_reply": "2021-06-09T14:46:10.598582Z"
    }
   },
   "outputs": [
    {
     "data": {
      "text/plain": [
       "0.0"
      ]
     },
     "execution_count": 1,
     "metadata": {},
     "output_type": "execute_result"
    }
   ],
   "source": [
    "bus.get()"
   ]
  },
  {
   "cell_type": "code",
   "execution_count": 5,
   "metadata": {
    "execution": {
     "iopub.execute_input": "2021-06-09T14:46:10.601582Z",
     "iopub.status.busy": "2021-06-09T14:46:10.601582Z",
     "iopub.status.idle": "2021-06-09T14:46:10.614582Z",
     "shell.execute_reply": "2021-06-09T14:46:10.614582Z"
    }
   },
   "outputs": [],
   "source": [
    "syn = scn.Synth(\"s2\")"
   ]
  },
  {
   "cell_type": "markdown",
   "metadata": {},
   "source": [
    "map the frequency of the synth to the bus value"
   ]
  },
  {
   "cell_type": "code",
   "execution_count": 6,
   "metadata": {
    "execution": {
     "iopub.execute_input": "2021-06-09T14:46:10.618581Z",
     "iopub.status.busy": "2021-06-09T14:46:10.618581Z",
     "iopub.status.idle": "2021-06-09T14:46:10.620581Z",
     "shell.execute_reply": "2021-06-09T14:46:10.620581Z"
    }
   },
   "outputs": [
    {
     "data": {
      "text/plain": [
       "<Synth(20001) 's2' ~ {}>"
      ]
     },
     "execution_count": 1,
     "metadata": {},
     "output_type": "execute_result"
    }
   ],
   "source": [
    "syn.map(\"freq\", bus)"
   ]
  },
  {
   "cell_type": "code",
   "execution_count": 7,
   "metadata": {
    "execution": {
     "iopub.execute_input": "2021-06-09T14:46:10.623581Z",
     "iopub.status.busy": "2021-06-09T14:46:10.623581Z",
     "iopub.status.idle": "2021-06-09T14:46:10.625581Z",
     "shell.execute_reply": "2021-06-09T14:46:10.626580Z"
    }
   },
   "outputs": [],
   "source": [
    "bus.set(120) # changes synths frequency"
   ]
  },
  {
   "cell_type": "code",
   "execution_count": 8,
   "metadata": {
    "execution": {
     "iopub.execute_input": "2021-06-09T14:46:10.628581Z",
     "iopub.status.busy": "2021-06-09T14:46:10.628581Z",
     "iopub.status.idle": "2021-06-09T14:46:10.631584Z",
     "shell.execute_reply": "2021-06-09T14:46:10.631584Z"
    }
   },
   "outputs": [],
   "source": [
    "bus.set(440)"
   ]
  },
  {
   "cell_type": "markdown",
   "metadata": {},
   "source": [
    "Set the frequency value to remove the mapping"
   ]
  },
  {
   "cell_type": "code",
   "execution_count": 9,
   "metadata": {
    "execution": {
     "iopub.execute_input": "2021-06-09T14:46:10.635584Z",
     "iopub.status.busy": "2021-06-09T14:46:10.635584Z",
     "iopub.status.idle": "2021-06-09T14:46:10.638581Z",
     "shell.execute_reply": "2021-06-09T14:46:10.638581Z"
    }
   },
   "outputs": [
    {
     "data": {
      "text/plain": [
       "<Synth(20001) 's2' ~ {'freq': 220}>"
      ]
     },
     "execution_count": 1,
     "metadata": {},
     "output_type": "execute_result"
    }
   ],
   "source": [
    "syn.set(\"freq\", 220)"
   ]
  },
  {
   "cell_type": "code",
   "execution_count": 10,
   "metadata": {
    "execution": {
     "iopub.execute_input": "2021-06-09T14:46:10.641581Z",
     "iopub.status.busy": "2021-06-09T14:46:10.641581Z",
     "iopub.status.idle": "2021-06-09T14:46:10.644580Z",
     "shell.execute_reply": "2021-06-09T14:46:10.644580Z"
    }
   },
   "outputs": [],
   "source": [
    "bus.set(440)  # no change"
   ]
  },
  {
   "cell_type": "code",
   "execution_count": 11,
   "metadata": {
    "execution": {
     "iopub.execute_input": "2021-06-09T14:46:10.648581Z",
     "iopub.status.busy": "2021-06-09T14:46:10.647580Z",
     "iopub.status.idle": "2021-06-09T14:46:10.651581Z",
     "shell.execute_reply": "2021-06-09T14:46:10.651581Z"
    }
   },
   "outputs": [
    {
     "data": {
      "text/plain": [
       "<Synth(20001) 's2' ~f {'freq': 220}>"
      ]
     },
     "execution_count": 1,
     "metadata": {},
     "output_type": "execute_result"
    }
   ],
   "source": [
    "syn.free()"
   ]
  },
  {
   "cell_type": "markdown",
   "metadata": {},
   "source": [
    "Free the bus to mark the bus id as available again"
   ]
  },
  {
   "cell_type": "code",
   "execution_count": 12,
   "metadata": {
    "execution": {
     "iopub.execute_input": "2021-06-09T14:46:10.654582Z",
     "iopub.status.busy": "2021-06-09T14:46:10.654582Z",
     "iopub.status.idle": "2021-06-09T14:46:10.656580Z",
     "shell.execute_reply": "2021-06-09T14:46:10.656580Z"
    }
   },
   "outputs": [],
   "source": [
    "bus.free()"
   ]
  },
  {
   "cell_type": "markdown",
   "metadata": {},
   "source": [
    "## Use multiple Control Buses"
   ]
  },
  {
   "cell_type": "code",
   "execution_count": 13,
   "metadata": {
    "execution": {
     "iopub.execute_input": "2021-06-09T14:46:10.661581Z",
     "iopub.status.busy": "2021-06-09T14:46:10.660582Z",
     "iopub.status.idle": "2021-06-09T14:46:10.688582Z",
     "shell.execute_reply": "2021-06-09T14:46:10.689581Z"
    }
   },
   "outputs": [],
   "source": [
    "synth_name = scn.SynthDef(\"busMulti\", \"\"\"{ |out, freqs=#[200, 400], rates=#[1, 2] |\n",
    "    Out.ar(out, Splay.ar(SinOsc.ar(freqs) * Decay2.ar(Impulse.ar(rates), 0.001, 0.1)) * 0.5);\n",
    "}\"\"\").add()"
   ]
  },
  {
   "cell_type": "code",
   "execution_count": 14,
   "metadata": {
    "execution": {
     "iopub.execute_input": "2021-06-09T14:46:10.692580Z",
     "iopub.status.busy": "2021-06-09T14:46:10.691582Z",
     "iopub.status.idle": "2021-06-09T14:46:10.694581Z",
     "shell.execute_reply": "2021-06-09T14:46:10.694581Z"
    }
   },
   "outputs": [
    {
     "data": {
      "text/plain": [
       "Bus(control, ids=[512, 513])"
      ]
     },
     "execution_count": 1,
     "metadata": {},
     "output_type": "execute_result"
    }
   ],
   "source": [
    "buses = scn.Bus(\"control\", 2)\n",
    "buses"
   ]
  },
  {
   "cell_type": "code",
   "execution_count": 15,
   "metadata": {
    "execution": {
     "iopub.execute_input": "2021-06-09T14:46:10.697580Z",
     "iopub.status.busy": "2021-06-09T14:46:10.696580Z",
     "iopub.status.idle": "2021-06-09T14:46:10.718580Z",
     "shell.execute_reply": "2021-06-09T14:46:10.718580Z"
    }
   },
   "outputs": [
    {
     "data": {
      "text/plain": [
       "[0.0, 0.0]"
      ]
     },
     "execution_count": 1,
     "metadata": {},
     "output_type": "execute_result"
    }
   ],
   "source": [
    "buses.get()"
   ]
  },
  {
   "cell_type": "code",
   "execution_count": 16,
   "metadata": {
    "execution": {
     "iopub.execute_input": "2021-06-09T14:46:10.721582Z",
     "iopub.status.busy": "2021-06-09T14:46:10.720580Z",
     "iopub.status.idle": "2021-06-09T14:46:10.730580Z",
     "shell.execute_reply": "2021-06-09T14:46:10.730580Z"
    }
   },
   "outputs": [],
   "source": [
    "syn = scn.Synth(synth_name)"
   ]
  },
  {
   "cell_type": "code",
   "execution_count": 17,
   "metadata": {
    "execution": {
     "iopub.execute_input": "2021-06-09T14:46:10.733580Z",
     "iopub.status.busy": "2021-06-09T14:46:10.733580Z",
     "iopub.status.idle": "2021-06-09T14:46:10.737582Z",
     "shell.execute_reply": "2021-06-09T14:46:10.738582Z"
    }
   },
   "outputs": [
    {
     "data": {
      "text/plain": [
       "<Synth(20002) 'busMulti' s {}>"
      ]
     },
     "execution_count": 1,
     "metadata": {},
     "output_type": "execute_result"
    }
   ],
   "source": [
    "syn.map(\"rates\", buses)"
   ]
  },
  {
   "cell_type": "code",
   "execution_count": 18,
   "metadata": {
    "execution": {
     "iopub.execute_input": "2021-06-09T14:46:10.740582Z",
     "iopub.status.busy": "2021-06-09T14:46:10.740582Z",
     "iopub.status.idle": "2021-06-09T14:46:10.744611Z",
     "shell.execute_reply": "2021-06-09T14:46:10.743583Z"
    }
   },
   "outputs": [],
   "source": [
    "buses.set(1, 1)"
   ]
  },
  {
   "cell_type": "code",
   "execution_count": 19,
   "metadata": {
    "execution": {
     "iopub.execute_input": "2021-06-09T14:46:10.747593Z",
     "iopub.status.busy": "2021-06-09T14:46:10.746593Z",
     "iopub.status.idle": "2021-06-09T14:46:10.748593Z",
     "shell.execute_reply": "2021-06-09T14:46:10.748593Z"
    }
   },
   "outputs": [],
   "source": [
    "buses.set(1, 2)"
   ]
  },
  {
   "cell_type": "code",
   "execution_count": 20,
   "metadata": {
    "execution": {
     "iopub.execute_input": "2021-06-09T14:46:10.751594Z",
     "iopub.status.busy": "2021-06-09T14:46:10.750594Z",
     "iopub.status.idle": "2021-06-09T14:46:10.769595Z",
     "shell.execute_reply": "2021-06-09T14:46:10.769595Z"
    }
   },
   "outputs": [
    {
     "data": {
      "text/plain": [
       "[1.0, 2.0]"
      ]
     },
     "execution_count": 1,
     "metadata": {},
     "output_type": "execute_result"
    }
   ],
   "source": [
    "buses.get()"
   ]
  },
  {
   "cell_type": "code",
   "execution_count": 21,
   "metadata": {
    "execution": {
     "iopub.execute_input": "2021-06-09T14:46:10.772595Z",
     "iopub.status.busy": "2021-06-09T14:46:10.772595Z",
     "iopub.status.idle": "2021-06-09T14:46:10.774594Z",
     "shell.execute_reply": "2021-06-09T14:46:10.774594Z"
    }
   },
   "outputs": [
    {
     "data": {
      "text/plain": [
       "<Synth(20002) 'busMulti' ~f {}>"
      ]
     },
     "execution_count": 1,
     "metadata": {},
     "output_type": "execute_result"
    }
   ],
   "source": [
    "syn.free()"
   ]
  },
  {
   "cell_type": "code",
   "execution_count": 22,
   "metadata": {
    "execution": {
     "iopub.execute_input": "2021-06-09T14:46:10.777596Z",
     "iopub.status.busy": "2021-06-09T14:46:10.776597Z",
     "iopub.status.idle": "2021-06-09T14:46:10.779594Z",
     "shell.execute_reply": "2021-06-09T14:46:10.779594Z"
    }
   },
   "outputs": [],
   "source": [
    "buses.free()"
   ]
  },
  {
   "cell_type": "code",
   "execution_count": 23,
   "metadata": {
    "execution": {
     "iopub.execute_input": "2021-06-09T14:46:10.782595Z",
     "iopub.status.busy": "2021-06-09T14:46:10.781595Z",
     "iopub.status.idle": "2021-06-09T14:46:10.848615Z",
     "shell.execute_reply": "2021-06-09T14:46:10.849616Z"
    }
   },
   "outputs": [],
   "source": [
    "sc.server.free_all()"
   ]
  },
  {
   "cell_type": "code",
   "execution_count": 24,
   "metadata": {
    "execution": {
     "iopub.execute_input": "2021-06-09T14:46:10.851614Z",
     "iopub.status.busy": "2021-06-09T14:46:10.851614Z",
     "iopub.status.idle": "2021-06-09T14:46:12.012080Z",
     "shell.execute_reply": "2021-06-09T14:46:12.012080Z"
    }
   },
   "outputs": [],
   "source": [
    "sc.exit()"
   ]
  },
  {
   "cell_type": "code",
   "execution_count": null,
   "metadata": {},
   "outputs": [],
   "source": []
  }
 ],
 "metadata": {
  "language_info": {
   "codemirror_mode": {
    "name": "ipython",
    "version": 3
   },
   "file_extension": ".py",
   "mimetype": "text/x-python",
   "name": "python",
   "nbconvert_exporter": "python",
   "pygments_lexer": "ipython3",
   "version": "3.7.10"
  }
 },
 "nbformat": 4,
 "nbformat_minor": 4
}
