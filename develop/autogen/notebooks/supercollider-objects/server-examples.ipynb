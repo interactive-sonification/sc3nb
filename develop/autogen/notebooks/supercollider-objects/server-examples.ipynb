{
 "cells": [
  {
   "cell_type": "markdown",
   "metadata": {},
   "source": [
    "# Server"
   ]
  },
  {
   "cell_type": "code",
   "execution_count": 1,
   "metadata": {
    "execution": {
     "iopub.execute_input": "2021-07-19T13:49:30.955057Z",
     "iopub.status.busy": "2021-07-19T13:49:30.955057Z",
     "iopub.status.idle": "2021-07-19T13:49:31.124047Z",
     "shell.execute_reply": "2021-07-19T13:49:31.124047Z"
    }
   },
   "outputs": [],
   "source": [
    "import sc3nb as scn"
   ]
  },
  {
   "cell_type": "markdown",
   "metadata": {},
   "source": [
    "The `SCServer` class is the central interface for \n",
    "\n",
    "* controlling the SuperCollider audio server process\n",
    "* managing SuperCollider Objects\n",
    "* using OSC for outgoing and incoming packets\n",
    "\n",
    "\n",
    "To achieve all this the SCServer is\n",
    "\n",
    "* registered as a client to the SuperCollider audio server process (scsynth) and exchanging [SuperCollider Commands](http://doc.sccode.org/Reference/Server-Command-Reference.html) with the server process\n",
    "* and also running an OSC server in python which can communicate via OSC with scsynth and sclang.\n",
    "\n",
    "\n",
    "For information about how to communicate using OSC see the [OSC communication notebook](../osc-communication-examples.ipynb). This notebook focuses on using the `SCServer` class for interacting with scsynth "
   ]
  },
  {
   "cell_type": "markdown",
   "metadata": {},
   "source": [
    "## Starting the Server"
   ]
  },
  {
   "cell_type": "markdown",
   "metadata": {},
   "source": [
    "The most convienent way is to use the default sc3nb `SCServer` instance"
   ]
  },
  {
   "cell_type": "code",
   "execution_count": 2,
   "metadata": {
    "execution": {
     "iopub.execute_input": "2021-07-19T13:49:31.133048Z",
     "iopub.status.busy": "2021-07-19T13:49:31.132045Z",
     "iopub.status.idle": "2021-07-19T13:49:34.272264Z",
     "shell.execute_reply": "2021-07-19T13:49:34.272264Z"
    }
   },
   "outputs": [
    {
     "data": {
      "application/javascript": [
       "if (typeof Jupyter !== 'undefined') {\n",
       "                        Jupyter.keyboard_manager.command_shortcuts.add_shortcut(\n",
       "                        'Ctrl-.', {\n",
       "                        help : 'Free all nodes on SC server',\n",
       "                        help_index : 'zz',\n",
       "                        handler : function (event) {\n",
       "                            IPython.notebook.kernel.execute(\n",
       "                                \"import sc3nb; sc3nb.SC.get_default().server.free_all(root=True)\"\n",
       "                            )\n",
       "                            return true;}\n",
       "                        });\n",
       "                    }"
      ],
      "text/plain": [
       "<IPython.core.display.Javascript object>"
      ]
     },
     "metadata": {},
     "output_type": "display_data"
    },
    {
     "name": "stdout",
     "output_type": "stream",
     "text": [
      "Starting sclang process... "
     ]
    },
    {
     "name": "stdout",
     "output_type": "stream",
     "text": [
      "Done.\n",
      "Registering OSC /return callback in sclang... Done.\n",
      "Loading default sc3nb SynthDefs... Done.\n",
      "Booting SuperCollider Server... "
     ]
    },
    {
     "name": "stdout",
     "output_type": "stream",
     "text": [
      "Done.\n"
     ]
    }
   ],
   "source": [
    "sc = scn.startup()"
   ]
  },
  {
   "cell_type": "code",
   "execution_count": 3,
   "metadata": {
    "execution": {
     "iopub.execute_input": "2021-07-19T13:49:34.276265Z",
     "iopub.status.busy": "2021-07-19T13:49:34.275264Z",
     "iopub.status.idle": "2021-07-19T13:49:34.279264Z",
     "shell.execute_reply": "2021-07-19T13:49:34.279264Z"
    }
   },
   "outputs": [
    {
     "data": {
      "text/plain": [
       "<SCServer addr=('127.0.0.1', 57110), process=<Process 'scsynth' (running) pid=10844>>"
      ]
     },
     "execution_count": 3,
     "metadata": {},
     "output_type": "execute_result"
    }
   ],
   "source": [
    "sc.server"
   ]
  },
  {
   "cell_type": "markdown",
   "metadata": {},
   "source": [
    "However you can also use the SCServer class directly"
   ]
  },
  {
   "cell_type": "markdown",
   "metadata": {},
   "source": [
    "The server connection can be created\n",
    "\n",
    "* locally using `boot`, which will start a scsynth process and connect to it or\n",
    "* remote using `remote` for connecting to an already running scsynth process"
   ]
  },
  {
   "cell_type": "code",
   "execution_count": 4,
   "metadata": {
    "execution": {
     "iopub.execute_input": "2021-07-19T13:49:34.282264Z",
     "iopub.status.busy": "2021-07-19T13:49:34.282264Z",
     "iopub.status.idle": "2021-07-19T13:49:34.287267Z",
     "shell.execute_reply": "2021-07-19T13:49:34.287267Z"
    }
   },
   "outputs": [
    {
     "data": {
      "text/plain": [
       "<SCServer (not booted)>"
      ]
     },
     "execution_count": 4,
     "metadata": {},
     "output_type": "execute_result"
    }
   ],
   "source": [
    "serv = scn.SCServer()\n",
    "serv"
   ]
  },
  {
   "cell_type": "code",
   "execution_count": 5,
   "metadata": {
    "execution": {
     "iopub.execute_input": "2021-07-19T13:49:34.291264Z",
     "iopub.status.busy": "2021-07-19T13:49:34.290264Z",
     "iopub.status.idle": "2021-07-19T13:49:39.783049Z",
     "shell.execute_reply": "2021-07-19T13:49:39.783049Z"
    }
   },
   "outputs": [
    {
     "name": "stdout",
     "output_type": "stream",
     "text": [
      "Booting SuperCollider Server... "
     ]
    },
    {
     "name": "stdout",
     "output_type": "stream",
     "text": [
      "\n",
      "SuperCollider Server port 57110 already used.\n",
      "Trying to connect.\n",
      "Done.\n"
     ]
    }
   ],
   "source": [
    "serv.boot()"
   ]
  },
  {
   "cell_type": "markdown",
   "metadata": {},
   "source": [
    "Notice how the `SCServer` always tries to boot using the default SuperCollider audio server port 57110.\n",
    "But this port is already used by `sc.server` and thus the `SCServer` tries to connect to the already running instance using `SCserver.remote`. This enables a user to share the same scsynth instance with other users and/or use it from other notebooks. If the port to be used is explicitly specified the `SCServer` instance will fail instead of connecting.\n",
    "\n",
    "The `SCServer` will register to the scsynth process using `SCServer.notify()`"
   ]
  },
  {
   "cell_type": "markdown",
   "metadata": {},
   "source": [
    "Let's look how many clients are allowed and what the `client_id`s and the corresponding `default_group`s of the SCServer instances are."
   ]
  },
  {
   "cell_type": "code",
   "execution_count": 6,
   "metadata": {
    "execution": {
     "iopub.execute_input": "2021-07-19T13:49:39.787048Z",
     "iopub.status.busy": "2021-07-19T13:49:39.786048Z",
     "iopub.status.idle": "2021-07-19T13:49:39.788049Z",
     "shell.execute_reply": "2021-07-19T13:49:39.788049Z"
    }
   },
   "outputs": [
    {
     "name": "stdout",
     "output_type": "stream",
     "text": [
      "The scsynth process of this SCServer instance allows 8 clients to login.\n"
     ]
    }
   ],
   "source": [
    "print(f\"The scsynth process of this SCServer instance allows {sc.server.max_logins} clients to login.\")"
   ]
  },
  {
   "cell_type": "code",
   "execution_count": 7,
   "metadata": {
    "execution": {
     "iopub.execute_input": "2021-07-19T13:49:39.791049Z",
     "iopub.status.busy": "2021-07-19T13:49:39.791049Z",
     "iopub.status.idle": "2021-07-19T13:49:39.794052Z",
     "shell.execute_reply": "2021-07-19T13:49:39.794052Z"
    }
   },
   "outputs": [
    {
     "name": "stdout",
     "output_type": "stream",
     "text": [
      "sc.server has client id 1 and the default Group <Group(67108865) ~ {} children=[]>\n"
     ]
    }
   ],
   "source": [
    "print(f\"sc.server has client id {sc.server.client_id} and the default Group {sc.server.default_group}\") "
   ]
  },
  {
   "cell_type": "code",
   "execution_count": 8,
   "metadata": {
    "execution": {
     "iopub.execute_input": "2021-07-19T13:49:39.797049Z",
     "iopub.status.busy": "2021-07-19T13:49:39.797049Z",
     "iopub.status.idle": "2021-07-19T13:49:39.800048Z",
     "shell.execute_reply": "2021-07-19T13:49:39.800048Z"
    }
   },
   "outputs": [
    {
     "name": "stdout",
     "output_type": "stream",
     "text": [
      "serv has client id 2 and the default Group <Group(134217729) s {} children=[]>\n"
     ]
    }
   ],
   "source": [
    "print(f\"serv has client id {serv.client_id} and the default Group {serv.default_group}\") "
   ]
  },
  {
   "cell_type": "markdown",
   "metadata": {},
   "source": [
    "However also note that the instances use different ports meaning they are able to independendly send and receive OSC packets"
   ]
  },
  {
   "cell_type": "code",
   "execution_count": 9,
   "metadata": {
    "execution": {
     "iopub.execute_input": "2021-07-19T13:49:39.804047Z",
     "iopub.status.busy": "2021-07-19T13:49:39.803049Z",
     "iopub.status.idle": "2021-07-19T13:49:39.806048Z",
     "shell.execute_reply": "2021-07-19T13:49:39.806048Z"
    }
   },
   "outputs": [
    {
     "name": "stdout",
     "output_type": "stream",
     "text": [
      "This instance is at ('127.0.0.1', 57131),\n",
      "Known receivers: \"scsynth\" at ('127.0.0.1', 57110)\n",
      "                 \"sclang\" at ('127.0.0.1', 57120)\n",
      "                 \n"
     ]
    },
    {
     "data": {
      "text/plain": [
       "(('127.0.0.1', 57131),\n",
       " {('127.0.0.1', 57110): 'scsynth', ('127.0.0.1', 57120): 'sclang'})"
      ]
     },
     "execution_count": 9,
     "metadata": {},
     "output_type": "execute_result"
    }
   ],
   "source": [
    "sc.server.connection_info()"
   ]
  },
  {
   "cell_type": "markdown",
   "metadata": {},
   "source": [
    "and also note that `serv` is not connected to sclang but has the same connection info for scsynth."
   ]
  },
  {
   "cell_type": "code",
   "execution_count": 10,
   "metadata": {
    "execution": {
     "iopub.execute_input": "2021-07-19T13:49:39.809047Z",
     "iopub.status.busy": "2021-07-19T13:49:39.809047Z",
     "iopub.status.idle": "2021-07-19T13:49:39.813049Z",
     "shell.execute_reply": "2021-07-19T13:49:39.813049Z"
    }
   },
   "outputs": [
    {
     "name": "stdout",
     "output_type": "stream",
     "text": [
      "This instance is at ('127.0.0.1', 57133),\n",
      "Known receivers: \"scsynth\" at ('127.0.0.1', 57110)\n",
      "                 \n"
     ]
    },
    {
     "data": {
      "text/plain": [
       "(('127.0.0.1', 57133), {('127.0.0.1', 57110): 'scsynth'})"
      ]
     },
     "execution_count": 10,
     "metadata": {},
     "output_type": "execute_result"
    }
   ],
   "source": [
    "serv.connection_info()"
   ]
  },
  {
   "cell_type": "markdown",
   "metadata": {},
   "source": [
    "A Synth running on the SuperCollider audio server will be visible to all connected clients"
   ]
  },
  {
   "cell_type": "code",
   "execution_count": 11,
   "metadata": {
    "execution": {
     "iopub.execute_input": "2021-07-19T13:49:39.817049Z",
     "iopub.status.busy": "2021-07-19T13:49:39.817049Z",
     "iopub.status.idle": "2021-07-19T13:49:39.828052Z",
     "shell.execute_reply": "2021-07-19T13:49:39.829050Z"
    }
   },
   "outputs": [],
   "source": [
    "serv_synth = scn.Synth(\"s2\", {\"amp\": 0.05, \"pan\": -1, \"freq\": 100}, server=serv)"
   ]
  },
  {
   "cell_type": "code",
   "execution_count": 12,
   "metadata": {
    "execution": {
     "iopub.execute_input": "2021-07-19T13:49:39.832049Z",
     "iopub.status.busy": "2021-07-19T13:49:39.832049Z",
     "iopub.status.idle": "2021-07-19T13:49:39.836048Z",
     "shell.execute_reply": "2021-07-19T13:49:39.835048Z"
    }
   },
   "outputs": [],
   "source": [
    "default_synth = scn.Synth(\"s2\", {\"amp\": 0.05, \"pan\": 1, \"freq\": 440})  # no need to specify sc.server as server argument"
   ]
  },
  {
   "cell_type": "markdown",
   "metadata": {},
   "source": [
    "This also includes sclang, which is another client of the scsynth process"
   ]
  },
  {
   "cell_type": "code",
   "execution_count": 13,
   "metadata": {
    "execution": {
     "iopub.execute_input": "2021-07-19T13:49:39.839048Z",
     "iopub.status.busy": "2021-07-19T13:49:39.839048Z",
     "iopub.status.idle": "2021-07-19T13:49:39.845047Z",
     "shell.execute_reply": "2021-07-19T13:49:39.845047Z"
    }
   },
   "outputs": [
    {
     "name": "stdout",
     "output_type": "stream",
     "text": [
      "-> Synth('s2' : 1000)\n"
     ]
    }
   ],
   "source": [
    "%sc ~sclang_synth = Synth(\"s2\", [\\amp, 0.1])"
   ]
  },
  {
   "cell_type": "code",
   "execution_count": 14,
   "metadata": {
    "execution": {
     "iopub.execute_input": "2021-07-19T13:49:39.849052Z",
     "iopub.status.busy": "2021-07-19T13:49:39.848048Z",
     "iopub.status.idle": "2021-07-19T13:49:39.874048Z",
     "shell.execute_reply": "2021-07-19T13:49:39.874048Z"
    }
   },
   "outputs": [
    {
     "name": "stdout",
     "output_type": "stream",
     "text": [
      "NODE TREE Group 0\n",
      "   469762049 group\n",
      "   402653185 group\n",
      "   335544321 group\n",
      "   268435457 group\n",
      "   201326593 group\n",
      "   134217729 group\n",
      "      30001 s2\n",
      "        freq: 100 amp: 0.050000000745058 num: 4 pan: -1 lg: 0.10000000149012 gate: 1\n",
      "   67108865 group\n",
      "      20001 s2\n",
      "        freq: 440 amp: 0.050000000745058 num: 4 pan: 1 lg: 0.10000000149012 gate: 1\n",
      "   1 group\n",
      "      1000 s2\n",
      "        freq: 400 amp: 0.10000000149012 num: 4 pan: 0 lg: 0.10000000149012 gate: 1\n"
     ]
    }
   ],
   "source": [
    "sc.server.dump_tree()"
   ]
  },
  {
   "cell_type": "markdown",
   "metadata": {},
   "source": [
    "This also means freeing all Synths at once can be done with each client"
   ]
  },
  {
   "cell_type": "code",
   "execution_count": 15,
   "metadata": {
    "execution": {
     "iopub.execute_input": "2021-07-19T13:49:39.877047Z",
     "iopub.status.busy": "2021-07-19T13:49:39.877047Z",
     "iopub.status.idle": "2021-07-19T13:49:39.950143Z",
     "shell.execute_reply": "2021-07-19T13:49:39.950143Z"
    }
   },
   "outputs": [],
   "source": [
    "sc.server.free_all()\n",
    "# serv.free_all() \n",
    "# %sc s.freeAll"
   ]
  },
  {
   "cell_type": "code",
   "execution_count": 16,
   "metadata": {
    "execution": {
     "iopub.execute_input": "2021-07-19T13:49:39.953144Z",
     "iopub.status.busy": "2021-07-19T13:49:39.953144Z",
     "iopub.status.idle": "2021-07-19T13:49:39.975143Z",
     "shell.execute_reply": "2021-07-19T13:49:39.975143Z"
    }
   },
   "outputs": [
    {
     "name": "stdout",
     "output_type": "stream",
     "text": [
      "NODE TREE Group 0\n",
      "   469762049 group\n",
      "   402653185 group\n",
      "   335544321 group\n",
      "   268435457 group\n",
      "   201326593 group\n",
      "   134217729 group\n",
      "   67108865 group\n",
      "   1 group\n"
     ]
    }
   ],
   "source": [
    "sc.server.dump_tree()"
   ]
  },
  {
   "cell_type": "markdown",
   "metadata": {},
   "source": [
    "and quitting one server also quits the others."
   ]
  },
  {
   "cell_type": "code",
   "execution_count": 17,
   "metadata": {
    "execution": {
     "iopub.execute_input": "2021-07-19T13:49:39.978149Z",
     "iopub.status.busy": "2021-07-19T13:49:39.978149Z",
     "iopub.status.idle": "2021-07-19T13:49:40.142163Z",
     "shell.execute_reply": "2021-07-19T13:49:40.142163Z"
    }
   },
   "outputs": [
    {
     "name": "stdout",
     "output_type": "stream",
     "text": [
      "Quitting SCServer... "
     ]
    },
    {
     "name": "stdout",
     "output_type": "stream",
     "text": [
      "Done.\n"
     ]
    }
   ],
   "source": [
    "serv.quit()"
   ]
  },
  {
   "cell_type": "code",
   "execution_count": 18,
   "metadata": {
    "execution": {
     "iopub.execute_input": "2021-07-19T13:49:40.145163Z",
     "iopub.status.busy": "2021-07-19T13:49:40.145163Z",
     "iopub.status.idle": "2021-07-19T13:49:40.148163Z",
     "shell.execute_reply": "2021-07-19T13:49:40.148163Z"
    }
   },
   "outputs": [
    {
     "data": {
      "text/plain": [
       "<SCServer addr=('127.0.0.1', 57110), process=<Process 'scsynth' (running) pid=10844>>"
      ]
     },
     "execution_count": 18,
     "metadata": {},
     "output_type": "execute_result"
    }
   ],
   "source": [
    "sc.server"
   ]
  },
  {
   "cell_type": "markdown",
   "metadata": {},
   "source": [
    "Let's reboot the default server"
   ]
  },
  {
   "cell_type": "code",
   "execution_count": 19,
   "metadata": {
    "execution": {
     "iopub.execute_input": "2021-07-19T13:49:40.151163Z",
     "iopub.status.busy": "2021-07-19T13:49:40.150162Z",
     "iopub.status.idle": "2021-07-19T13:49:46.303098Z",
     "shell.execute_reply": "2021-07-19T13:49:46.303098Z"
    }
   },
   "outputs": [
    {
     "name": "stdout",
     "output_type": "stream",
     "text": [
      "Quitting SCServer... "
     ]
    },
    {
     "name": "stdout",
     "output_type": "stream",
     "text": [
      "Done.\n",
      "Booting SuperCollider Server... "
     ]
    },
    {
     "name": "stdout",
     "output_type": "stream",
     "text": [
      "Done.\n"
     ]
    }
   ],
   "source": [
    "sc.server.reboot()"
   ]
  },
  {
   "cell_type": "markdown",
   "metadata": {},
   "source": [
    "More information about [multi client setups](http://doc.sccode.org/Guides/MultiClient_Setups.html) can be found in the SuperCollider documentation."
   ]
  },
  {
   "cell_type": "markdown",
   "metadata": {},
   "source": [
    "## Configuring Server options\n",
    "\n",
    "Startup options of the `SCServer` instance can be set via `ServerOptions`, which can be passed as argument when starting the `SCServer`"
   ]
  },
  {
   "cell_type": "markdown",
   "metadata": {},
   "source": [
    "The default ServerOptions in sc3nb are:"
   ]
  },
  {
   "cell_type": "code",
   "execution_count": 20,
   "metadata": {
    "execution": {
     "iopub.execute_input": "2021-07-19T13:49:46.307099Z",
     "iopub.status.busy": "2021-07-19T13:49:46.307099Z",
     "iopub.status.idle": "2021-07-19T13:49:46.310098Z",
     "shell.execute_reply": "2021-07-19T13:49:46.310098Z"
    }
   },
   "outputs": [
    {
     "data": {
      "text/plain": [
       "<ServerOptions ['-u', '57110', '-l', '6', '-i', '2', '-o', '2', '-a', '1024', '-c', '4096', '-b', '1024', '-R', '0']>"
      ]
     },
     "execution_count": 20,
     "metadata": {},
     "output_type": "execute_result"
    }
   ],
   "source": [
    "scn.ServerOptions()"
   ]
  },
  {
   "cell_type": "markdown",
   "metadata": {},
   "source": [
    "## Getting Information\n",
    "\n",
    "The `SCServer` instance provides various kinds of information"
   ]
  },
  {
   "cell_type": "markdown",
   "metadata": {},
   "source": [
    "* What nodes are currently running"
   ]
  },
  {
   "cell_type": "code",
   "execution_count": 21,
   "metadata": {
    "execution": {
     "iopub.execute_input": "2021-07-19T13:49:46.313099Z",
     "iopub.status.busy": "2021-07-19T13:49:46.313099Z",
     "iopub.status.idle": "2021-07-19T13:49:46.335095Z",
     "shell.execute_reply": "2021-07-19T13:49:46.336095Z"
    }
   },
   "outputs": [
    {
     "name": "stdout",
     "output_type": "stream",
     "text": [
      "NODE TREE Group 0\n",
      "   469762049 group\n",
      "   402653185 group\n",
      "   335544321 group\n",
      "   268435457 group\n",
      "   201326593 group\n",
      "   134217729 group\n",
      "   67108865 group\n",
      "   1 group\n"
     ]
    }
   ],
   "source": [
    "sc.server.dump_tree()"
   ]
  },
  {
   "cell_type": "code",
   "execution_count": 22,
   "metadata": {
    "execution": {
     "iopub.execute_input": "2021-07-19T13:49:46.339095Z",
     "iopub.status.busy": "2021-07-19T13:49:46.338095Z",
     "iopub.status.idle": "2021-07-19T13:49:46.354095Z",
     "shell.execute_reply": "2021-07-19T13:49:46.354095Z"
    }
   },
   "outputs": [
    {
     "data": {
      "text/plain": [
       "Group(0)  {} children=[\n",
       "  Group(469762049) ~ {} children=[],\n",
       "  Group(402653185) ~ {} children=[],\n",
       "  Group(335544321) ~ {} children=[],\n",
       "  Group(268435457) ~ {} children=[],\n",
       "  Group(201326593) ~ {} children=[],\n",
       "  Group(134217729) ~ {} children=[],\n",
       "  Group(67108865) ~ {} children=[],\n",
       "  Group(1) ~ {} children=[]]"
      ]
     },
     "execution_count": 22,
     "metadata": {},
     "output_type": "execute_result"
    }
   ],
   "source": [
    "sc.server.query_tree()"
   ]
  },
  {
   "cell_type": "markdown",
   "metadata": {},
   "source": [
    "* The current status of the server, acquired via the `/status` OSC command"
   ]
  },
  {
   "cell_type": "code",
   "execution_count": 23,
   "metadata": {
    "execution": {
     "iopub.execute_input": "2021-07-19T13:49:46.357095Z",
     "iopub.status.busy": "2021-07-19T13:49:46.357095Z",
     "iopub.status.idle": "2021-07-19T13:49:46.363094Z",
     "shell.execute_reply": "2021-07-19T13:49:46.363094Z"
    }
   },
   "outputs": [
    {
     "data": {
      "text/plain": [
       "ServerStatus(num_ugens=0, num_synths=0, num_groups=9, num_synthdefs=9, avg_cpu=0.25078603625297546, peak_cpu=0.26171109080314636, nominal_sr=44100.0, actual_sr=43548.905905256324)"
      ]
     },
     "execution_count": 23,
     "metadata": {},
     "output_type": "execute_result"
    }
   ],
   "source": [
    "sc.server.status()"
   ]
  },
  {
   "cell_type": "markdown",
   "metadata": {},
   "source": [
    "which can also be accessed directly via properties"
   ]
  },
  {
   "cell_type": "code",
   "execution_count": 24,
   "metadata": {
    "execution": {
     "iopub.execute_input": "2021-07-19T13:49:46.366095Z",
     "iopub.status.busy": "2021-07-19T13:49:46.365094Z",
     "iopub.status.idle": "2021-07-19T13:49:46.373097Z",
     "shell.execute_reply": "2021-07-19T13:49:46.373097Z"
    }
   },
   "outputs": [
    {
     "data": {
      "text/plain": [
       "44100.0"
      ]
     },
     "execution_count": 24,
     "metadata": {},
     "output_type": "execute_result"
    }
   ],
   "source": [
    "sc.server.nominal_sr"
   ]
  },
  {
   "cell_type": "code",
   "execution_count": 25,
   "metadata": {
    "execution": {
     "iopub.execute_input": "2021-07-19T13:49:46.377095Z",
     "iopub.status.busy": "2021-07-19T13:49:46.376096Z",
     "iopub.status.idle": "2021-07-19T13:49:46.394095Z",
     "shell.execute_reply": "2021-07-19T13:49:46.394095Z"
    }
   },
   "outputs": [
    {
     "data": {
      "text/plain": [
       "9"
      ]
     },
     "execution_count": 25,
     "metadata": {},
     "output_type": "execute_result"
    }
   ],
   "source": [
    "sc.server.num_synthdefs"
   ]
  },
  {
   "cell_type": "markdown",
   "metadata": {},
   "source": [
    "* the version of the SC3 server process, acquired via the `/version` OSC command"
   ]
  },
  {
   "cell_type": "code",
   "execution_count": 26,
   "metadata": {
    "execution": {
     "iopub.execute_input": "2021-07-19T13:49:46.397095Z",
     "iopub.status.busy": "2021-07-19T13:49:46.397095Z",
     "iopub.status.idle": "2021-07-19T13:49:46.403095Z",
     "shell.execute_reply": "2021-07-19T13:49:46.403095Z"
    }
   },
   "outputs": [
    {
     "data": {
      "text/plain": [
       "ServerVersion(name='scsynth', major_version=3, minor_version=11, patch_version='.0', git_branch='HEAD', commit='e341b49')"
      ]
     },
     "execution_count": 26,
     "metadata": {},
     "output_type": "execute_result"
    }
   ],
   "source": [
    "sc.server.version()"
   ]
  },
  {
   "cell_type": "markdown",
   "metadata": {},
   "source": [
    "* the address of the SuperCollider audio server"
   ]
  },
  {
   "cell_type": "code",
   "execution_count": 27,
   "metadata": {
    "execution": {
     "iopub.execute_input": "2021-07-19T13:49:46.406094Z",
     "iopub.status.busy": "2021-07-19T13:49:46.406094Z",
     "iopub.status.idle": "2021-07-19T13:49:46.408095Z",
     "shell.execute_reply": "2021-07-19T13:49:46.408095Z"
    }
   },
   "outputs": [
    {
     "data": {
      "text/plain": [
       "('127.0.0.1', 57110)"
      ]
     },
     "execution_count": 27,
     "metadata": {},
     "output_type": "execute_result"
    }
   ],
   "source": [
    "sc.server.addr"
   ]
  },
  {
   "cell_type": "markdown",
   "metadata": {},
   "source": [
    "* The connection info"
   ]
  },
  {
   "cell_type": "code",
   "execution_count": 28,
   "metadata": {
    "execution": {
     "iopub.execute_input": "2021-07-19T13:49:46.410095Z",
     "iopub.status.busy": "2021-07-19T13:49:46.410095Z",
     "iopub.status.idle": "2021-07-19T13:49:46.415094Z",
     "shell.execute_reply": "2021-07-19T13:49:46.415094Z"
    }
   },
   "outputs": [
    {
     "name": "stdout",
     "output_type": "stream",
     "text": [
      "This instance is at ('127.0.0.1', 57131),\n",
      "Known receivers: \"scsynth\" at ('127.0.0.1', 57110)\n",
      "                 \"sclang\" at ('127.0.0.1', 57120)\n",
      "                 \n"
     ]
    },
    {
     "data": {
      "text/plain": [
       "(('127.0.0.1', 57131),\n",
       " {('127.0.0.1', 57110): 'scsynth', ('127.0.0.1', 57120): 'sclang'})"
      ]
     },
     "execution_count": 28,
     "metadata": {},
     "output_type": "execute_result"
    }
   ],
   "source": [
    "sc.server.connection_info()"
   ]
  },
  {
   "cell_type": "markdown",
   "metadata": {},
   "source": [
    "* other runtime properties of the Server"
   ]
  },
  {
   "cell_type": "code",
   "execution_count": 29,
   "metadata": {
    "execution": {
     "iopub.execute_input": "2021-07-19T13:49:46.418094Z",
     "iopub.status.busy": "2021-07-19T13:49:46.418094Z",
     "iopub.status.idle": "2021-07-19T13:49:46.419094Z",
     "shell.execute_reply": "2021-07-19T13:49:46.420238Z"
    }
   },
   "outputs": [
    {
     "data": {
      "text/plain": [
       "True"
      ]
     },
     "execution_count": 29,
     "metadata": {},
     "output_type": "execute_result"
    }
   ],
   "source": [
    "sc.server.has_booted"
   ]
  },
  {
   "cell_type": "code",
   "execution_count": 30,
   "metadata": {
    "execution": {
     "iopub.execute_input": "2021-07-19T13:49:46.423230Z",
     "iopub.status.busy": "2021-07-19T13:49:46.422229Z",
     "iopub.status.idle": "2021-07-19T13:49:46.424230Z",
     "shell.execute_reply": "2021-07-19T13:49:46.424230Z"
    }
   },
   "outputs": [
    {
     "data": {
      "text/plain": [
       "True"
      ]
     },
     "execution_count": 30,
     "metadata": {},
     "output_type": "execute_result"
    }
   ],
   "source": [
    "sc.server.is_running"
   ]
  },
  {
   "cell_type": "code",
   "execution_count": 31,
   "metadata": {
    "execution": {
     "iopub.execute_input": "2021-07-19T13:49:46.427229Z",
     "iopub.status.busy": "2021-07-19T13:49:46.426230Z",
     "iopub.status.idle": "2021-07-19T13:49:46.429230Z",
     "shell.execute_reply": "2021-07-19T13:49:46.429230Z"
    }
   },
   "outputs": [
    {
     "data": {
      "text/plain": [
       "1"
      ]
     },
     "execution_count": 31,
     "metadata": {},
     "output_type": "execute_result"
    }
   ],
   "source": [
    "sc.server.client_id"
   ]
  },
  {
   "cell_type": "code",
   "execution_count": 32,
   "metadata": {
    "execution": {
     "iopub.execute_input": "2021-07-19T13:49:46.432230Z",
     "iopub.status.busy": "2021-07-19T13:49:46.431229Z",
     "iopub.status.idle": "2021-07-19T13:49:46.435230Z",
     "shell.execute_reply": "2021-07-19T13:49:46.435230Z"
    }
   },
   "outputs": [
    {
     "data": {
      "text/plain": [
       "8"
      ]
     },
     "execution_count": 32,
     "metadata": {},
     "output_type": "execute_result"
    }
   ],
   "source": [
    "sc.server.max_logins"
   ]
  },
  {
   "cell_type": "code",
   "execution_count": 33,
   "metadata": {
    "execution": {
     "iopub.execute_input": "2021-07-19T13:49:46.438230Z",
     "iopub.status.busy": "2021-07-19T13:49:46.437231Z",
     "iopub.status.idle": "2021-07-19T13:49:46.441230Z",
     "shell.execute_reply": "2021-07-19T13:49:46.441230Z"
    }
   },
   "outputs": [
    {
     "data": {
      "text/plain": [
       "Group(67108865) ~ {} children=[]"
      ]
     },
     "execution_count": 33,
     "metadata": {},
     "output_type": "execute_result"
    }
   ],
   "source": [
    "sc.server.default_group"
   ]
  },
  {
   "cell_type": "code",
   "execution_count": 34,
   "metadata": {
    "execution": {
     "iopub.execute_input": "2021-07-19T13:49:46.444230Z",
     "iopub.status.busy": "2021-07-19T13:49:46.443229Z",
     "iopub.status.idle": "2021-07-19T13:49:46.446230Z",
     "shell.execute_reply": "2021-07-19T13:49:46.446230Z"
    }
   },
   "outputs": [
    {
     "data": {
      "text/plain": [
       "Bus(rate='audio', ids=[0, 1])"
      ]
     },
     "execution_count": 34,
     "metadata": {},
     "output_type": "execute_result"
    }
   ],
   "source": [
    "sc.server.output_bus"
   ]
  },
  {
   "cell_type": "code",
   "execution_count": 35,
   "metadata": {
    "execution": {
     "iopub.execute_input": "2021-07-19T13:49:46.449230Z",
     "iopub.status.busy": "2021-07-19T13:49:46.448229Z",
     "iopub.status.idle": "2021-07-19T13:49:46.452230Z",
     "shell.execute_reply": "2021-07-19T13:49:46.452230Z"
    }
   },
   "outputs": [
    {
     "data": {
      "text/plain": [
       "Bus(rate='audio', ids=[2, 3])"
      ]
     },
     "execution_count": 35,
     "metadata": {},
     "output_type": "execute_result"
    }
   ],
   "source": [
    "sc.server.input_bus"
   ]
  },
  {
   "cell_type": "markdown",
   "metadata": {},
   "source": [
    "## Controlling Volume"
   ]
  },
  {
   "cell_type": "code",
   "execution_count": 36,
   "metadata": {
    "execution": {
     "iopub.execute_input": "2021-07-19T13:49:46.455230Z",
     "iopub.status.busy": "2021-07-19T13:49:46.454231Z",
     "iopub.status.idle": "2021-07-19T13:49:46.457230Z",
     "shell.execute_reply": "2021-07-19T13:49:46.457230Z"
    }
   },
   "outputs": [],
   "source": [
    "syn = scn.Synth(\"s2\")"
   ]
  },
  {
   "cell_type": "code",
   "execution_count": 37,
   "metadata": {
    "execution": {
     "iopub.execute_input": "2021-07-19T13:49:46.460230Z",
     "iopub.status.busy": "2021-07-19T13:49:46.458231Z",
     "iopub.status.idle": "2021-07-19T13:49:46.463230Z",
     "shell.execute_reply": "2021-07-19T13:49:46.463230Z"
    }
   },
   "outputs": [
    {
     "data": {
      "text/plain": [
       "0.0"
      ]
     },
     "execution_count": 37,
     "metadata": {},
     "output_type": "execute_result"
    }
   ],
   "source": [
    "sc.server.volume"
   ]
  },
  {
   "cell_type": "code",
   "execution_count": 38,
   "metadata": {
    "execution": {
     "iopub.execute_input": "2021-07-19T13:49:46.466230Z",
     "iopub.status.busy": "2021-07-19T13:49:46.466230Z",
     "iopub.status.idle": "2021-07-19T13:49:46.468230Z",
     "shell.execute_reply": "2021-07-19T13:49:46.468230Z"
    }
   },
   "outputs": [
    {
     "data": {
      "text/plain": [
       "1.0"
      ]
     },
     "execution_count": 38,
     "metadata": {},
     "output_type": "execute_result"
    }
   ],
   "source": [
    "scn.dbamp(sc.server.volume)"
   ]
  },
  {
   "cell_type": "code",
   "execution_count": 39,
   "metadata": {
    "execution": {
     "iopub.execute_input": "2021-07-19T13:49:46.471230Z",
     "iopub.status.busy": "2021-07-19T13:49:46.471230Z",
     "iopub.status.idle": "2021-07-19T13:49:46.473230Z",
     "shell.execute_reply": "2021-07-19T13:49:46.473230Z"
    }
   },
   "outputs": [
    {
     "data": {
      "text/plain": [
       "False"
      ]
     },
     "execution_count": 39,
     "metadata": {},
     "output_type": "execute_result"
    }
   ],
   "source": [
    "sc.server.muted"
   ]
  },
  {
   "cell_type": "code",
   "execution_count": 40,
   "metadata": {
    "execution": {
     "iopub.execute_input": "2021-07-19T13:49:46.476230Z",
     "iopub.status.busy": "2021-07-19T13:49:46.475229Z",
     "iopub.status.idle": "2021-07-19T13:49:46.487230Z",
     "shell.execute_reply": "2021-07-19T13:49:46.487230Z"
    }
   },
   "outputs": [],
   "source": [
    "sc.server.muted = True"
   ]
  },
  {
   "cell_type": "code",
   "execution_count": 41,
   "metadata": {
    "execution": {
     "iopub.execute_input": "2021-07-19T13:49:46.490230Z",
     "iopub.status.busy": "2021-07-19T13:49:46.489231Z",
     "iopub.status.idle": "2021-07-19T13:49:46.492230Z",
     "shell.execute_reply": "2021-07-19T13:49:46.492230Z"
    }
   },
   "outputs": [],
   "source": [
    "sc.server.volume = -10.0"
   ]
  },
  {
   "cell_type": "code",
   "execution_count": 42,
   "metadata": {
    "execution": {
     "iopub.execute_input": "2021-07-19T13:49:46.496230Z",
     "iopub.status.busy": "2021-07-19T13:49:46.495229Z",
     "iopub.status.idle": "2021-07-19T13:49:46.499230Z",
     "shell.execute_reply": "2021-07-19T13:49:46.499230Z"
    }
   },
   "outputs": [
    {
     "data": {
      "text/plain": [
       "0.31622776601683794"
      ]
     },
     "execution_count": 42,
     "metadata": {},
     "output_type": "execute_result"
    }
   ],
   "source": [
    "scn.dbamp(sc.server.volume)"
   ]
  },
  {
   "cell_type": "code",
   "execution_count": 43,
   "metadata": {
    "execution": {
     "iopub.execute_input": "2021-07-19T13:49:46.502230Z",
     "iopub.status.busy": "2021-07-19T13:49:46.502230Z",
     "iopub.status.idle": "2021-07-19T13:49:46.504230Z",
     "shell.execute_reply": "2021-07-19T13:49:46.504230Z"
    }
   },
   "outputs": [],
   "source": [
    "sc.server.muted = False"
   ]
  },
  {
   "cell_type": "code",
   "execution_count": 44,
   "metadata": {
    "execution": {
     "iopub.execute_input": "2021-07-19T13:49:46.507231Z",
     "iopub.status.busy": "2021-07-19T13:49:46.507231Z",
     "iopub.status.idle": "2021-07-19T13:49:46.508231Z",
     "shell.execute_reply": "2021-07-19T13:49:46.508231Z"
    }
   },
   "outputs": [],
   "source": [
    "sc.server.volume = 0.0"
   ]
  },
  {
   "cell_type": "code",
   "execution_count": 45,
   "metadata": {
    "execution": {
     "iopub.execute_input": "2021-07-19T13:49:46.512231Z",
     "iopub.status.busy": "2021-07-19T13:49:46.511229Z",
     "iopub.status.idle": "2021-07-19T13:49:46.515230Z",
     "shell.execute_reply": "2021-07-19T13:49:46.515230Z"
    }
   },
   "outputs": [
    {
     "data": {
      "text/plain": [
       "1.0"
      ]
     },
     "execution_count": 45,
     "metadata": {},
     "output_type": "execute_result"
    }
   ],
   "source": [
    "scn.dbamp(sc.server.volume)"
   ]
  },
  {
   "cell_type": "code",
   "execution_count": 46,
   "metadata": {
    "execution": {
     "iopub.execute_input": "2021-07-19T13:49:46.518230Z",
     "iopub.status.busy": "2021-07-19T13:49:46.518230Z",
     "iopub.status.idle": "2021-07-19T13:49:46.523111Z",
     "shell.execute_reply": "2021-07-19T13:49:46.523111Z"
    }
   },
   "outputs": [],
   "source": [
    "syn.free()\n",
    "syn.wait(timeout=1)"
   ]
  },
  {
   "cell_type": "markdown",
   "metadata": {},
   "source": [
    "## Server dumps\n",
    "\n",
    "The Server process can dump information about"
   ]
  },
  {
   "cell_type": "markdown",
   "metadata": {},
   "source": [
    "* incoming OSC packages. See console for output"
   ]
  },
  {
   "cell_type": "code",
   "execution_count": 47,
   "metadata": {
    "execution": {
     "iopub.execute_input": "2021-07-19T13:49:46.526111Z",
     "iopub.status.busy": "2021-07-19T13:49:46.526111Z",
     "iopub.status.idle": "2021-07-19T13:49:46.527111Z",
     "shell.execute_reply": "2021-07-19T13:49:46.527111Z"
    }
   },
   "outputs": [],
   "source": [
    "sc.server.dump_osc() # specify level=0 to deactivate"
   ]
  },
  {
   "cell_type": "markdown",
   "metadata": {},
   "source": [
    "* currently running Nodes "
   ]
  },
  {
   "cell_type": "code",
   "execution_count": 48,
   "metadata": {
    "execution": {
     "iopub.execute_input": "2021-07-19T13:49:46.530110Z",
     "iopub.status.busy": "2021-07-19T13:49:46.530110Z",
     "iopub.status.idle": "2021-07-19T13:49:46.553110Z",
     "shell.execute_reply": "2021-07-19T13:49:46.553110Z"
    }
   },
   "outputs": [
    {
     "name": "stdout",
     "output_type": "stream",
     "text": [
      "NODE TREE Group 0\n",
      "   -16 s1\n",
      "     freq: 500 dur: 0.10000000149012 att: 0.0099999997764826 amp: 0.30000001192093 num: 1 pan: 0\n",
      "   469762049 group\n",
      "   402653185 group\n",
      "   335544321 group\n",
      "   268435457 group\n",
      "   201326593 group\n",
      "   134217729 group\n",
      "   67108865 group\n",
      "   20002 sc3nb_volumeAmpControl2\n",
      "     volumeAmp: 0.31622776389122 volumeLag: 0.10000000149012 gate: 0 bus: 0\n",
      "   1 group\n"
     ]
    }
   ],
   "source": [
    "sc.server.dump_tree()  # Notice how the OSC packet is now included in the output "
   ]
  },
  {
   "cell_type": "code",
   "execution_count": 49,
   "metadata": {
    "execution": {
     "iopub.execute_input": "2021-07-19T13:49:46.557114Z",
     "iopub.status.busy": "2021-07-19T13:49:46.557114Z",
     "iopub.status.idle": "2021-07-19T13:49:46.558112Z",
     "shell.execute_reply": "2021-07-19T13:49:46.558112Z"
    }
   },
   "outputs": [],
   "source": [
    "sc.server.blip() # see dumped bundle for test sound on console"
   ]
  },
  {
   "cell_type": "markdown",
   "metadata": {},
   "source": [
    "## Make a test sound\n",
    "\n",
    "The following methods produces the `SCServer` startup sound.\n",
    "The test sound should ease any anxiety whether the server is properly started/running"
   ]
  },
  {
   "cell_type": "code",
   "execution_count": 50,
   "metadata": {
    "execution": {
     "iopub.execute_input": "2021-07-19T13:49:46.563118Z",
     "iopub.status.busy": "2021-07-19T13:49:46.562110Z",
     "iopub.status.idle": "2021-07-19T13:49:46.565120Z",
     "shell.execute_reply": "2021-07-19T13:49:46.565120Z"
    }
   },
   "outputs": [],
   "source": [
    "sc.server.blip()"
   ]
  },
  {
   "cell_type": "markdown",
   "metadata": {},
   "source": [
    "## Managing Nodes"
   ]
  },
  {
   "cell_type": "markdown",
   "metadata": {},
   "source": [
    "* freeing all running nodes and reinitialize the server"
   ]
  },
  {
   "cell_type": "code",
   "execution_count": 51,
   "metadata": {
    "execution": {
     "iopub.execute_input": "2021-07-19T13:49:46.568112Z",
     "iopub.status.busy": "2021-07-19T13:49:46.568112Z",
     "iopub.status.idle": "2021-07-19T13:49:46.633939Z",
     "shell.execute_reply": "2021-07-19T13:49:46.634939Z"
    }
   },
   "outputs": [],
   "source": [
    "sc.server.free_all()"
   ]
  },
  {
   "cell_type": "code",
   "execution_count": 52,
   "metadata": {
    "execution": {
     "iopub.execute_input": "2021-07-19T13:49:46.637940Z",
     "iopub.status.busy": "2021-07-19T13:49:46.636939Z",
     "iopub.status.idle": "2021-07-19T13:49:46.693939Z",
     "shell.execute_reply": "2021-07-19T13:49:46.693939Z"
    }
   },
   "outputs": [],
   "source": [
    "sc.server.free_all(root=False)  # only frees the default group of this client"
   ]
  },
  {
   "cell_type": "markdown",
   "metadata": {},
   "source": [
    "* send the `/clearSched` OSC command. This is automatically done when using `free_all`"
   ]
  },
  {
   "cell_type": "code",
   "execution_count": 53,
   "metadata": {
    "execution": {
     "iopub.execute_input": "2021-07-19T13:49:46.697939Z",
     "iopub.status.busy": "2021-07-19T13:49:46.696939Z",
     "iopub.status.idle": "2021-07-19T13:49:46.699941Z",
     "shell.execute_reply": "2021-07-19T13:49:46.699941Z"
    }
   },
   "outputs": [],
   "source": [
    "sc.server.clear_schedule()"
   ]
  },
  {
   "cell_type": "markdown",
   "metadata": {},
   "source": [
    "* Execute init hooks. This is also automatically done when using `free_all`, `init` or `connect_sclang`"
   ]
  },
  {
   "cell_type": "code",
   "execution_count": 54,
   "metadata": {
    "execution": {
     "iopub.execute_input": "2021-07-19T13:49:46.703941Z",
     "iopub.status.busy": "2021-07-19T13:49:46.702939Z",
     "iopub.status.idle": "2021-07-19T13:49:46.751132Z",
     "shell.execute_reply": "2021-07-19T13:49:46.752133Z"
    }
   },
   "outputs": [],
   "source": [
    "sc.server.execute_init_hooks()"
   ]
  },
  {
   "cell_type": "markdown",
   "metadata": {},
   "source": [
    "* Adding init hooks. "
   ]
  },
  {
   "cell_type": "code",
   "execution_count": 55,
   "metadata": {
    "execution": {
     "iopub.execute_input": "2021-07-19T13:49:46.756132Z",
     "iopub.status.busy": "2021-07-19T13:49:46.755131Z",
     "iopub.status.idle": "2021-07-19T13:49:46.757132Z",
     "shell.execute_reply": "2021-07-19T13:49:46.757132Z"
    }
   },
   "outputs": [
    {
     "data": {
      "text/plain": [
       "<bound method SCServer.send_default_groups of <SCServer addr=('127.0.0.1', 57110), process=<Process 'scsynth' (running) pid=9796>>>"
      ]
     },
     "execution_count": 55,
     "metadata": {},
     "output_type": "execute_result"
    }
   ],
   "source": [
    "sc.server.send_default_groups"
   ]
  },
  {
   "cell_type": "markdown",
   "metadata": {},
   "source": [
    "* Syncing the SuperCollider audio server by sending a `/sync` OSC command and waiting for the reply."
   ]
  },
  {
   "cell_type": "code",
   "execution_count": 56,
   "metadata": {
    "execution": {
     "iopub.execute_input": "2021-07-19T13:49:46.760133Z",
     "iopub.status.busy": "2021-07-19T13:49:46.760133Z",
     "iopub.status.idle": "2021-07-19T13:49:46.785263Z",
     "shell.execute_reply": "2021-07-19T13:49:46.785263Z"
    }
   },
   "outputs": [
    {
     "data": {
      "text/plain": [
       "True"
      ]
     },
     "execution_count": 56,
     "metadata": {},
     "output_type": "execute_result"
    }
   ],
   "source": [
    "sc.server.sync()"
   ]
  },
  {
   "cell_type": "markdown",
   "metadata": {},
   "source": [
    "## Allocating IDs"
   ]
  },
  {
   "cell_type": "markdown",
   "metadata": {},
   "source": [
    "The `SCServer` instance manages the IDs for Nodes, Buffers and Buses for the SuperCollider Objects via the following methods.\n",
    "These can also be used for getting suitable IDs when manually creating OSC packages."
   ]
  },
  {
   "cell_type": "markdown",
   "metadata": {},
   "source": [
    "* Get the IDs via the allocator."
   ]
  },
  {
   "cell_type": "code",
   "execution_count": 57,
   "metadata": {
    "execution": {
     "iopub.execute_input": "2021-07-19T13:49:46.789262Z",
     "iopub.status.busy": "2021-07-19T13:49:46.789262Z",
     "iopub.status.idle": "2021-07-19T13:49:46.791263Z",
     "shell.execute_reply": "2021-07-19T13:49:46.791263Z"
    }
   },
   "outputs": [
    {
     "data": {
      "text/plain": [
       "[128, 129]"
      ]
     },
     "execution_count": 57,
     "metadata": {},
     "output_type": "execute_result"
    }
   ],
   "source": [
    "ids = sc.server.buffer_ids.allocate(num=2)\n",
    "ids"
   ]
  },
  {
   "cell_type": "markdown",
   "metadata": {},
   "source": [
    "* Free the IDs after usage via the allocator."
   ]
  },
  {
   "cell_type": "code",
   "execution_count": 58,
   "metadata": {
    "execution": {
     "iopub.execute_input": "2021-07-19T13:49:46.794263Z",
     "iopub.status.busy": "2021-07-19T13:49:46.794263Z",
     "iopub.status.idle": "2021-07-19T13:49:46.796283Z",
     "shell.execute_reply": "2021-07-19T13:49:46.796283Z"
    }
   },
   "outputs": [],
   "source": [
    "sc.server.buffer_ids.free(ids)"
   ]
  },
  {
   "cell_type": "markdown",
   "metadata": {},
   "source": [
    "There are allocators for\n",
    "\n",
    "* Nodes - `sc.server.node_ids`\n",
    "* Buffer - `sc.server.buffer_ids`\n",
    "* Buses (Audio and Control) - `sc.server.audio_bus_ids`, `sc.server.control_bus_ids`"
   ]
  },
  {
   "cell_type": "code",
   "execution_count": 59,
   "metadata": {
    "execution": {
     "iopub.execute_input": "2021-07-19T13:49:46.799284Z",
     "iopub.status.busy": "2021-07-19T13:49:46.798283Z",
     "iopub.status.idle": "2021-07-19T13:49:48.071526Z",
     "shell.execute_reply": "2021-07-19T13:49:48.071526Z"
    }
   },
   "outputs": [
    {
     "name": "stdout",
     "output_type": "stream",
     "text": [
      "Quitting SCServer... Done.\n",
      "Booting SuperCollider Server... "
     ]
    },
    {
     "name": "stdout",
     "output_type": "stream",
     "text": [
      "Done.\n"
     ]
    }
   ],
   "source": [
    "sc.server.reboot()"
   ]
  },
  {
   "cell_type": "code",
   "execution_count": 60,
   "metadata": {
    "execution": {
     "iopub.execute_input": "2021-07-19T13:49:48.076526Z",
     "iopub.status.busy": "2021-07-19T13:49:48.076526Z",
     "iopub.status.idle": "2021-07-19T13:49:48.091556Z",
     "shell.execute_reply": "2021-07-19T13:49:48.091556Z"
    }
   },
   "outputs": [
    {
     "name": "stdout",
     "output_type": "stream",
     "text": [
      "5 buffers: [128, 129, 130, 131, 132]\n",
      "freed buffers  [128, 129]\n",
      "allocated 4 buffers: [133, 134, 135, 136] -> new numbers to be consecutive\n",
      "allocated 2 buffers: [128, 129] -> using the two freed before\n"
     ]
    }
   ],
   "source": [
    "# example to see how consecutive buffer alloc works:\n",
    "ids = sc.server.buffer_ids.allocate(num=5)\n",
    "print(\"5 buffers:\", ids)\n",
    "sc.server.buffer_ids.free(ids[0:2])\n",
    "print(\"freed buffers \", ids[0:2])\n",
    "ids4 = sc.server.buffer_ids.allocate(num=4)\n",
    "print(\"allocated 4 buffers:\", ids4, \"-> new numbers to be consecutive\")\n",
    "sc.server.sync()\n",
    "ids2 = sc.server.buffer_ids.allocate(num=2)\n",
    "print(\"allocated 2 buffers:\", ids2, \"-> using the two freed before\")"
   ]
  },
  {
   "cell_type": "markdown",
   "metadata": {},
   "source": [
    "## Handling SynthDefs\n",
    "\n",
    "The server offers the following methods for handling SynthDefs.\n",
    "These are shortcuts for the respective SynthDef methods.\n",
    "\n",
    "```\n",
    "sc.server.send_synthdef\n",
    "sc.server.load_synthdef\n",
    "sc.server.load_synthdefs\n",
    "```\n",
    "Refer to the [SynthDef guide](synthdef-examples.ipynb) for more information about SynthDefs."
   ]
  },
  {
   "cell_type": "code",
   "execution_count": 61,
   "metadata": {
    "execution": {
     "iopub.execute_input": "2021-07-19T13:49:48.094555Z",
     "iopub.status.busy": "2021-07-19T13:49:48.093556Z",
     "iopub.status.idle": "2021-07-19T13:49:48.335103Z",
     "shell.execute_reply": "2021-07-19T13:49:48.336103Z"
    }
   },
   "outputs": [
    {
     "name": "stdout",
     "output_type": "stream",
     "text": [
      "Quitting SCServer... Done."
     ]
    },
    {
     "name": "stdout",
     "output_type": "stream",
     "text": [
      "\n",
      "Exiting sclang... "
     ]
    },
    {
     "name": "stdout",
     "output_type": "stream",
     "text": [
      "Done.\n"
     ]
    }
   ],
   "source": [
    "sc.exit()"
   ]
  }
 ],
 "metadata": {
  "hide_input": false,
  "language_info": {
   "codemirror_mode": {
    "name": "ipython",
    "version": 3
   },
   "file_extension": ".py",
   "mimetype": "text/x-python",
   "name": "python",
   "nbconvert_exporter": "python",
   "pygments_lexer": "ipython3",
   "version": "3.7.10"
  },
  "toc": {
   "base_numbering": 1,
   "nav_menu": {},
   "number_sections": true,
   "sideBar": true,
   "skip_h1_title": false,
   "title_cell": "Table of Contents",
   "title_sidebar": "Contents",
   "toc_cell": false,
   "toc_position": {},
   "toc_section_display": true,
   "toc_window_display": true
  }
 },
 "nbformat": 4,
 "nbformat_minor": 4
}
