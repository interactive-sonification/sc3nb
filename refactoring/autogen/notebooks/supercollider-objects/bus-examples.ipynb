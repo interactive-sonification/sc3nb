{
 "cells": [
  {
   "cell_type": "markdown",
   "metadata": {},
   "source": [
    "# Bus"
   ]
  },
  {
   "cell_type": "code",
   "execution_count": 1,
   "metadata": {
    "execution": {
     "iopub.execute_input": "2021-06-10T17:13:05.718281Z",
     "iopub.status.busy": "2021-06-10T17:13:05.717250Z",
     "iopub.status.idle": "2021-06-10T17:13:05.903248Z",
     "shell.execute_reply": "2021-06-10T17:13:05.904250Z"
    }
   },
   "outputs": [],
   "source": [
    "import sc3nb as scn"
   ]
  },
  {
   "cell_type": "code",
   "execution_count": 2,
   "metadata": {
    "execution": {
     "iopub.execute_input": "2021-06-10T17:13:05.912249Z",
     "iopub.status.busy": "2021-06-10T17:13:05.912249Z",
     "iopub.status.idle": "2021-06-10T17:13:09.184281Z",
     "shell.execute_reply": "2021-06-10T17:13:09.184281Z"
    }
   },
   "outputs": [
    {
     "data": {
      "application/javascript": [
       "if (typeof Jupyter !== 'undefined') {\n",
       "                        Jupyter.keyboard_manager.command_shortcuts.add_shortcut(\n",
       "                        'Ctrl-.', {\n",
       "                        help : 'Free all nodes on SC server',\n",
       "                        help_index : 'zz',\n",
       "                        handler : function (event) {\n",
       "                            IPython.notebook.kernel.execute(\n",
       "                                \"import sc3nb; sc3nb.SC.get_default().server.free_all(root=True)\"\n",
       "                            )\n",
       "                            return true;}\n",
       "                        });\n",
       "                    }"
      ],
      "text/plain": [
       "<IPython.core.display.Javascript object>"
      ]
     },
     "metadata": {},
     "output_type": "display_data"
    },
    {
     "name": "stdout",
     "output_type": "stream",
     "text": [
      "Starting sclang process...\n"
     ]
    },
    {
     "name": "stdout",
     "output_type": "stream",
     "text": [
      "Done.\n",
      "Registering OSC /return callback in sclang...\n",
      "Done.\n",
      "Loading default SynthDescs\n",
      "Done.\n",
      "Booting SuperCollider Server...\n"
     ]
    },
    {
     "name": "stdout",
     "output_type": "stream",
     "text": [
      "Done.\n"
     ]
    }
   ],
   "source": [
    "sc = scn.startup()"
   ]
  },
  {
   "cell_type": "markdown",
   "metadata": {},
   "source": [
    "## Using a Control Bus"
   ]
  },
  {
   "cell_type": "code",
   "execution_count": 3,
   "metadata": {
    "execution": {
     "iopub.execute_input": "2021-06-10T17:13:09.188280Z",
     "iopub.status.busy": "2021-06-10T17:13:09.187281Z",
     "iopub.status.idle": "2021-06-10T17:13:09.191281Z",
     "shell.execute_reply": "2021-06-10T17:13:09.191281Z"
    }
   },
   "outputs": [
    {
     "data": {
      "text/plain": [
       "Bus(control, ids=[512])"
      ]
     },
     "execution_count": 1,
     "metadata": {},
     "output_type": "execute_result"
    }
   ],
   "source": [
    "bus = scn.Bus('control')\n",
    "bus"
   ]
  },
  {
   "cell_type": "code",
   "execution_count": 4,
   "metadata": {
    "execution": {
     "iopub.execute_input": "2021-06-10T17:13:09.194281Z",
     "iopub.status.busy": "2021-06-10T17:13:09.193282Z",
     "iopub.status.idle": "2021-06-10T17:13:09.205280Z",
     "shell.execute_reply": "2021-06-10T17:13:09.205280Z"
    }
   },
   "outputs": [
    {
     "data": {
      "text/plain": [
       "0.0"
      ]
     },
     "execution_count": 1,
     "metadata": {},
     "output_type": "execute_result"
    }
   ],
   "source": [
    "bus.get()"
   ]
  },
  {
   "cell_type": "code",
   "execution_count": 5,
   "metadata": {
    "execution": {
     "iopub.execute_input": "2021-06-10T17:13:09.208281Z",
     "iopub.status.busy": "2021-06-10T17:13:09.208281Z",
     "iopub.status.idle": "2021-06-10T17:13:09.218285Z",
     "shell.execute_reply": "2021-06-10T17:13:09.218285Z"
    }
   },
   "outputs": [],
   "source": [
    "syn = scn.Synth(\"s2\")"
   ]
  },
  {
   "cell_type": "markdown",
   "metadata": {},
   "source": [
    "map the frequency of the synth to the bus value"
   ]
  },
  {
   "cell_type": "code",
   "execution_count": 6,
   "metadata": {
    "execution": {
     "iopub.execute_input": "2021-06-10T17:13:09.222282Z",
     "iopub.status.busy": "2021-06-10T17:13:09.221283Z",
     "iopub.status.idle": "2021-06-10T17:13:09.224286Z",
     "shell.execute_reply": "2021-06-10T17:13:09.225281Z"
    }
   },
   "outputs": [
    {
     "data": {
      "text/plain": [
       "<Synth(20001) 's2' s {}>"
      ]
     },
     "execution_count": 1,
     "metadata": {},
     "output_type": "execute_result"
    }
   ],
   "source": [
    "syn.map(\"freq\", bus)"
   ]
  },
  {
   "cell_type": "code",
   "execution_count": 7,
   "metadata": {
    "execution": {
     "iopub.execute_input": "2021-06-10T17:13:09.228282Z",
     "iopub.status.busy": "2021-06-10T17:13:09.228282Z",
     "iopub.status.idle": "2021-06-10T17:13:09.231281Z",
     "shell.execute_reply": "2021-06-10T17:13:09.231281Z"
    }
   },
   "outputs": [
    {
     "data": {
      "text/plain": [
       "Bus(control, ids=[512])"
      ]
     },
     "execution_count": 1,
     "metadata": {},
     "output_type": "execute_result"
    }
   ],
   "source": [
    "bus.set(120) # changes synths frequency"
   ]
  },
  {
   "cell_type": "code",
   "execution_count": 8,
   "metadata": {
    "execution": {
     "iopub.execute_input": "2021-06-10T17:13:09.235283Z",
     "iopub.status.busy": "2021-06-10T17:13:09.234282Z",
     "iopub.status.idle": "2021-06-10T17:13:09.237280Z",
     "shell.execute_reply": "2021-06-10T17:13:09.237280Z"
    }
   },
   "outputs": [
    {
     "data": {
      "text/plain": [
       "Bus(control, ids=[512])"
      ]
     },
     "execution_count": 1,
     "metadata": {},
     "output_type": "execute_result"
    }
   ],
   "source": [
    "bus.set(440)"
   ]
  },
  {
   "cell_type": "markdown",
   "metadata": {},
   "source": [
    "Set the frequency value to remove the mapping"
   ]
  },
  {
   "cell_type": "code",
   "execution_count": 9,
   "metadata": {
    "execution": {
     "iopub.execute_input": "2021-06-10T17:13:09.241281Z",
     "iopub.status.busy": "2021-06-10T17:13:09.240280Z",
     "iopub.status.idle": "2021-06-10T17:13:09.243281Z",
     "shell.execute_reply": "2021-06-10T17:13:09.243281Z"
    }
   },
   "outputs": [
    {
     "data": {
      "text/plain": [
       "<Synth(20001) 's2' ~ {'freq': 220}>"
      ]
     },
     "execution_count": 1,
     "metadata": {},
     "output_type": "execute_result"
    }
   ],
   "source": [
    "syn.set(\"freq\", 220)"
   ]
  },
  {
   "cell_type": "code",
   "execution_count": 10,
   "metadata": {
    "execution": {
     "iopub.execute_input": "2021-06-10T17:13:09.246281Z",
     "iopub.status.busy": "2021-06-10T17:13:09.245281Z",
     "iopub.status.idle": "2021-06-10T17:13:09.248281Z",
     "shell.execute_reply": "2021-06-10T17:13:09.248281Z"
    }
   },
   "outputs": [
    {
     "data": {
      "text/plain": [
       "Bus(control, ids=[512])"
      ]
     },
     "execution_count": 1,
     "metadata": {},
     "output_type": "execute_result"
    }
   ],
   "source": [
    "bus.set(440)  # no change"
   ]
  },
  {
   "cell_type": "code",
   "execution_count": 11,
   "metadata": {
    "execution": {
     "iopub.execute_input": "2021-06-10T17:13:09.251281Z",
     "iopub.status.busy": "2021-06-10T17:13:09.250281Z",
     "iopub.status.idle": "2021-06-10T17:13:09.253281Z",
     "shell.execute_reply": "2021-06-10T17:13:09.253281Z"
    }
   },
   "outputs": [
    {
     "data": {
      "text/plain": [
       "<Synth(20001) 's2' ~f {'freq': 220}>"
      ]
     },
     "execution_count": 1,
     "metadata": {},
     "output_type": "execute_result"
    }
   ],
   "source": [
    "syn.free()"
   ]
  },
  {
   "cell_type": "markdown",
   "metadata": {},
   "source": [
    "Free the bus to mark the bus id as available again"
   ]
  },
  {
   "cell_type": "code",
   "execution_count": 12,
   "metadata": {
    "execution": {
     "iopub.execute_input": "2021-06-10T17:13:09.256280Z",
     "iopub.status.busy": "2021-06-10T17:13:09.255281Z",
     "iopub.status.idle": "2021-06-10T17:13:09.258281Z",
     "shell.execute_reply": "2021-06-10T17:13:09.258281Z"
    }
   },
   "outputs": [],
   "source": [
    "bus.free()"
   ]
  },
  {
   "cell_type": "markdown",
   "metadata": {},
   "source": [
    "## Use multiple Control Buses"
   ]
  },
  {
   "cell_type": "code",
   "execution_count": 13,
   "metadata": {
    "execution": {
     "iopub.execute_input": "2021-06-10T17:13:09.261281Z",
     "iopub.status.busy": "2021-06-10T17:13:09.260281Z",
     "iopub.status.idle": "2021-06-10T17:13:09.286281Z",
     "shell.execute_reply": "2021-06-10T17:13:09.285286Z"
    }
   },
   "outputs": [],
   "source": [
    "synth_name = scn.SynthDef(\"busMulti\", \"\"\"{ |out, freqs=#[200, 400], rates=#[1, 2] |\n",
    "    Out.ar(out, Splay.ar(SinOsc.ar(freqs) * Decay2.ar(Impulse.ar(rates), 0.001, 0.1)) * 0.5);\n",
    "}\"\"\").add()"
   ]
  },
  {
   "cell_type": "code",
   "execution_count": 14,
   "metadata": {
    "execution": {
     "iopub.execute_input": "2021-06-10T17:13:09.289283Z",
     "iopub.status.busy": "2021-06-10T17:13:09.288281Z",
     "iopub.status.idle": "2021-06-10T17:13:09.292281Z",
     "shell.execute_reply": "2021-06-10T17:13:09.292281Z"
    }
   },
   "outputs": [
    {
     "data": {
      "text/plain": [
       "Bus(control, ids=[512, 513])"
      ]
     },
     "execution_count": 1,
     "metadata": {},
     "output_type": "execute_result"
    }
   ],
   "source": [
    "buses = scn.Bus(\"control\", 2)\n",
    "buses"
   ]
  },
  {
   "cell_type": "code",
   "execution_count": 15,
   "metadata": {
    "execution": {
     "iopub.execute_input": "2021-06-10T17:13:09.295281Z",
     "iopub.status.busy": "2021-06-10T17:13:09.294282Z",
     "iopub.status.idle": "2021-06-10T17:13:09.305280Z",
     "shell.execute_reply": "2021-06-10T17:13:09.305280Z"
    }
   },
   "outputs": [
    {
     "data": {
      "text/plain": [
       "[0.0, 0.0]"
      ]
     },
     "execution_count": 1,
     "metadata": {},
     "output_type": "execute_result"
    }
   ],
   "source": [
    "buses.get()"
   ]
  },
  {
   "cell_type": "code",
   "execution_count": 16,
   "metadata": {
    "execution": {
     "iopub.execute_input": "2021-06-10T17:13:09.308280Z",
     "iopub.status.busy": "2021-06-10T17:13:09.307282Z",
     "iopub.status.idle": "2021-06-10T17:13:09.317282Z",
     "shell.execute_reply": "2021-06-10T17:13:09.317282Z"
    }
   },
   "outputs": [],
   "source": [
    "syn = scn.Synth(synth_name)"
   ]
  },
  {
   "cell_type": "code",
   "execution_count": 17,
   "metadata": {
    "execution": {
     "iopub.execute_input": "2021-06-10T17:13:09.321282Z",
     "iopub.status.busy": "2021-06-10T17:13:09.321282Z",
     "iopub.status.idle": "2021-06-10T17:13:09.323282Z",
     "shell.execute_reply": "2021-06-10T17:13:09.324284Z"
    }
   },
   "outputs": [
    {
     "data": {
      "text/plain": [
       "<Synth(20002) 'busMulti' s {}>"
      ]
     },
     "execution_count": 1,
     "metadata": {},
     "output_type": "execute_result"
    }
   ],
   "source": [
    "syn.map(\"rates\", buses)"
   ]
  },
  {
   "cell_type": "code",
   "execution_count": 18,
   "metadata": {
    "execution": {
     "iopub.execute_input": "2021-06-10T17:13:09.327281Z",
     "iopub.status.busy": "2021-06-10T17:13:09.327281Z",
     "iopub.status.idle": "2021-06-10T17:13:09.329281Z",
     "shell.execute_reply": "2021-06-10T17:13:09.329281Z"
    }
   },
   "outputs": [
    {
     "data": {
      "text/plain": [
       "Bus(control, ids=[512, 513])"
      ]
     },
     "execution_count": 1,
     "metadata": {},
     "output_type": "execute_result"
    }
   ],
   "source": [
    "buses.set(1, 1)"
   ]
  },
  {
   "cell_type": "code",
   "execution_count": 19,
   "metadata": {
    "execution": {
     "iopub.execute_input": "2021-06-10T17:13:09.334281Z",
     "iopub.status.busy": "2021-06-10T17:13:09.333281Z",
     "iopub.status.idle": "2021-06-10T17:13:09.336280Z",
     "shell.execute_reply": "2021-06-10T17:13:09.336280Z"
    }
   },
   "outputs": [
    {
     "data": {
      "text/plain": [
       "Bus(control, ids=[512, 513])"
      ]
     },
     "execution_count": 1,
     "metadata": {},
     "output_type": "execute_result"
    }
   ],
   "source": [
    "buses.set(1, 2)"
   ]
  },
  {
   "cell_type": "code",
   "execution_count": 20,
   "metadata": {
    "execution": {
     "iopub.execute_input": "2021-06-10T17:13:09.339281Z",
     "iopub.status.busy": "2021-06-10T17:13:09.339281Z",
     "iopub.status.idle": "2021-06-10T17:13:09.345280Z",
     "shell.execute_reply": "2021-06-10T17:13:09.345280Z"
    }
   },
   "outputs": [
    {
     "data": {
      "text/plain": [
       "[1.0, 2.0]"
      ]
     },
     "execution_count": 1,
     "metadata": {},
     "output_type": "execute_result"
    }
   ],
   "source": [
    "buses.get()"
   ]
  },
  {
   "cell_type": "code",
   "execution_count": 21,
   "metadata": {
    "execution": {
     "iopub.execute_input": "2021-06-10T17:13:09.348280Z",
     "iopub.status.busy": "2021-06-10T17:13:09.348280Z",
     "iopub.status.idle": "2021-06-10T17:13:09.352287Z",
     "shell.execute_reply": "2021-06-10T17:13:09.351280Z"
    }
   },
   "outputs": [
    {
     "data": {
      "text/plain": [
       "<Synth(20002) 'busMulti' f {}>"
      ]
     },
     "execution_count": 1,
     "metadata": {},
     "output_type": "execute_result"
    }
   ],
   "source": [
    "syn.free()"
   ]
  },
  {
   "cell_type": "code",
   "execution_count": 22,
   "metadata": {
    "execution": {
     "iopub.execute_input": "2021-06-10T17:13:09.355283Z",
     "iopub.status.busy": "2021-06-10T17:13:09.354280Z",
     "iopub.status.idle": "2021-06-10T17:13:09.356281Z",
     "shell.execute_reply": "2021-06-10T17:13:09.356281Z"
    }
   },
   "outputs": [],
   "source": [
    "buses.free()"
   ]
  },
  {
   "cell_type": "code",
   "execution_count": 23,
   "metadata": {
    "execution": {
     "iopub.execute_input": "2021-06-10T17:13:09.359283Z",
     "iopub.status.busy": "2021-06-10T17:13:09.359283Z",
     "iopub.status.idle": "2021-06-10T17:13:09.413282Z",
     "shell.execute_reply": "2021-06-10T17:13:09.413282Z"
    }
   },
   "outputs": [],
   "source": [
    "sc.server.free_all()"
   ]
  },
  {
   "cell_type": "code",
   "execution_count": 24,
   "metadata": {
    "execution": {
     "iopub.execute_input": "2021-06-10T17:13:09.416281Z",
     "iopub.status.busy": "2021-06-10T17:13:09.415281Z",
     "iopub.status.idle": "2021-06-10T17:13:10.579912Z",
     "shell.execute_reply": "2021-06-10T17:13:10.579912Z"
    }
   },
   "outputs": [],
   "source": [
    "sc.exit()"
   ]
  },
  {
   "cell_type": "code",
   "execution_count": null,
   "metadata": {},
   "outputs": [],
   "source": []
  }
 ],
 "metadata": {
  "language_info": {
   "codemirror_mode": {
    "name": "ipython",
    "version": 3
   },
   "file_extension": ".py",
   "mimetype": "text/x-python",
   "name": "python",
   "nbconvert_exporter": "python",
   "pygments_lexer": "ipython3",
   "version": "3.7.10"
  }
 },
 "nbformat": 4,
 "nbformat_minor": 4
}
