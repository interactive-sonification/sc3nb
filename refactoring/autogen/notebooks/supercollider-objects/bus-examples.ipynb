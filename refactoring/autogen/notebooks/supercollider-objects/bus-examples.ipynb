{
 "cells": [
  {
   "cell_type": "markdown",
   "metadata": {},
   "source": [
    "# Bus"
   ]
  },
  {
   "cell_type": "code",
   "execution_count": 1,
   "metadata": {
    "execution": {
     "iopub.execute_input": "2021-06-24T17:41:47.589267Z",
     "iopub.status.busy": "2021-06-24T17:41:47.589267Z",
     "iopub.status.idle": "2021-06-24T17:41:47.765138Z",
     "shell.execute_reply": "2021-06-24T17:41:47.765138Z"
    }
   },
   "outputs": [],
   "source": [
    "import sc3nb as scn"
   ]
  },
  {
   "cell_type": "code",
   "execution_count": 2,
   "metadata": {
    "execution": {
     "iopub.execute_input": "2021-06-24T17:41:47.774139Z",
     "iopub.status.busy": "2021-06-24T17:41:47.773134Z",
     "iopub.status.idle": "2021-06-24T17:41:51.352087Z",
     "shell.execute_reply": "2021-06-24T17:41:51.352087Z"
    }
   },
   "outputs": [
    {
     "data": {
      "application/javascript": [
       "if (typeof Jupyter !== 'undefined') {\n",
       "                        Jupyter.keyboard_manager.command_shortcuts.add_shortcut(\n",
       "                        'Ctrl-.', {\n",
       "                        help : 'Free all nodes on SC server',\n",
       "                        help_index : 'zz',\n",
       "                        handler : function (event) {\n",
       "                            IPython.notebook.kernel.execute(\n",
       "                                \"import sc3nb; sc3nb.SC.get_default().server.free_all(root=True)\"\n",
       "                            )\n",
       "                            return true;}\n",
       "                        });\n",
       "                    }"
      ],
      "text/plain": [
       "<IPython.core.display.Javascript object>"
      ]
     },
     "metadata": {},
     "output_type": "display_data"
    },
    {
     "name": "stdout",
     "output_type": "stream",
     "text": [
      "Starting sclang process... "
     ]
    },
    {
     "name": "stdout",
     "output_type": "stream",
     "text": [
      "Done.\n",
      "Registering OSC /return callback in sclang... Done.\n",
      "Loading default sc3nb SynthDefs... Done.\n",
      "Booting SuperCollider Server... "
     ]
    },
    {
     "name": "stdout",
     "output_type": "stream",
     "text": [
      "Done.\n"
     ]
    }
   ],
   "source": [
    "sc = scn.startup()"
   ]
  },
  {
   "cell_type": "markdown",
   "metadata": {},
   "source": [
    "## Using a Control Bus"
   ]
  },
  {
   "cell_type": "code",
   "execution_count": 3,
   "metadata": {
    "execution": {
     "iopub.execute_input": "2021-06-24T17:41:51.356091Z",
     "iopub.status.busy": "2021-06-24T17:41:51.355087Z",
     "iopub.status.idle": "2021-06-24T17:41:51.357088Z",
     "shell.execute_reply": "2021-06-24T17:41:51.357088Z"
    }
   },
   "outputs": [
    {
     "data": {
      "text/plain": [
       "Bus(rate='control', ids=[512])"
      ]
     },
     "execution_count": 1,
     "metadata": {},
     "output_type": "execute_result"
    }
   ],
   "source": [
    "bus = scn.Bus('control')\n",
    "bus"
   ]
  },
  {
   "cell_type": "code",
   "execution_count": 4,
   "metadata": {
    "execution": {
     "iopub.execute_input": "2021-06-24T17:41:51.360087Z",
     "iopub.status.busy": "2021-06-24T17:41:51.360087Z",
     "iopub.status.idle": "2021-06-24T17:41:51.364087Z",
     "shell.execute_reply": "2021-06-24T17:41:51.364087Z"
    }
   },
   "outputs": [
    {
     "data": {
      "text/plain": [
       "0.0"
      ]
     },
     "execution_count": 1,
     "metadata": {},
     "output_type": "execute_result"
    }
   ],
   "source": [
    "bus.get()"
   ]
  },
  {
   "cell_type": "code",
   "execution_count": 5,
   "metadata": {
    "execution": {
     "iopub.execute_input": "2021-06-24T17:41:51.367087Z",
     "iopub.status.busy": "2021-06-24T17:41:51.366088Z",
     "iopub.status.idle": "2021-06-24T17:41:51.378087Z",
     "shell.execute_reply": "2021-06-24T17:41:51.378087Z"
    }
   },
   "outputs": [],
   "source": [
    "syn = scn.Synth(\"s2\")"
   ]
  },
  {
   "cell_type": "markdown",
   "metadata": {},
   "source": [
    "map the frequency of the synth to the bus value"
   ]
  },
  {
   "cell_type": "code",
   "execution_count": 6,
   "metadata": {
    "execution": {
     "iopub.execute_input": "2021-06-24T17:41:51.382088Z",
     "iopub.status.busy": "2021-06-24T17:41:51.381087Z",
     "iopub.status.idle": "2021-06-24T17:41:51.385087Z",
     "shell.execute_reply": "2021-06-24T17:41:51.385087Z"
    }
   },
   "outputs": [
    {
     "data": {
      "text/plain": [
       "<Synth(20001) 's2' s {}>"
      ]
     },
     "execution_count": 1,
     "metadata": {},
     "output_type": "execute_result"
    }
   ],
   "source": [
    "syn.map(\"freq\", bus)"
   ]
  },
  {
   "cell_type": "code",
   "execution_count": 7,
   "metadata": {
    "execution": {
     "iopub.execute_input": "2021-06-24T17:41:51.388087Z",
     "iopub.status.busy": "2021-06-24T17:41:51.388087Z",
     "iopub.status.idle": "2021-06-24T17:41:51.390089Z",
     "shell.execute_reply": "2021-06-24T17:41:51.390089Z"
    }
   },
   "outputs": [
    {
     "data": {
      "text/plain": [
       "Bus(rate='control', ids=[512])"
      ]
     },
     "execution_count": 1,
     "metadata": {},
     "output_type": "execute_result"
    }
   ],
   "source": [
    "bus.set(120) # changes synths frequency"
   ]
  },
  {
   "cell_type": "code",
   "execution_count": 8,
   "metadata": {
    "execution": {
     "iopub.execute_input": "2021-06-24T17:41:51.393089Z",
     "iopub.status.busy": "2021-06-24T17:41:51.393089Z",
     "iopub.status.idle": "2021-06-24T17:41:51.396088Z",
     "shell.execute_reply": "2021-06-24T17:41:51.396088Z"
    }
   },
   "outputs": [
    {
     "data": {
      "text/plain": [
       "Bus(rate='control', ids=[512])"
      ]
     },
     "execution_count": 1,
     "metadata": {},
     "output_type": "execute_result"
    }
   ],
   "source": [
    "bus.set(440)"
   ]
  },
  {
   "cell_type": "markdown",
   "metadata": {},
   "source": [
    "Set the frequency value to remove the mapping"
   ]
  },
  {
   "cell_type": "code",
   "execution_count": 9,
   "metadata": {
    "execution": {
     "iopub.execute_input": "2021-06-24T17:41:51.399087Z",
     "iopub.status.busy": "2021-06-24T17:41:51.398086Z",
     "iopub.status.idle": "2021-06-24T17:41:51.401087Z",
     "shell.execute_reply": "2021-06-24T17:41:51.401087Z"
    }
   },
   "outputs": [
    {
     "data": {
      "text/plain": [
       "<Synth(20001) 's2' ~ {'freq': 220}>"
      ]
     },
     "execution_count": 1,
     "metadata": {},
     "output_type": "execute_result"
    }
   ],
   "source": [
    "syn.set(\"freq\", 220)"
   ]
  },
  {
   "cell_type": "code",
   "execution_count": 10,
   "metadata": {
    "execution": {
     "iopub.execute_input": "2021-06-24T17:41:51.403088Z",
     "iopub.status.busy": "2021-06-24T17:41:51.403088Z",
     "iopub.status.idle": "2021-06-24T17:41:51.407087Z",
     "shell.execute_reply": "2021-06-24T17:41:51.407087Z"
    }
   },
   "outputs": [
    {
     "data": {
      "text/plain": [
       "Bus(rate='control', ids=[512])"
      ]
     },
     "execution_count": 1,
     "metadata": {},
     "output_type": "execute_result"
    }
   ],
   "source": [
    "bus.set(440)  # no change"
   ]
  },
  {
   "cell_type": "code",
   "execution_count": 11,
   "metadata": {
    "execution": {
     "iopub.execute_input": "2021-06-24T17:41:51.410086Z",
     "iopub.status.busy": "2021-06-24T17:41:51.410086Z",
     "iopub.status.idle": "2021-06-24T17:41:51.412088Z",
     "shell.execute_reply": "2021-06-24T17:41:51.412088Z"
    }
   },
   "outputs": [
    {
     "data": {
      "text/plain": [
       "<Synth(20001) 's2' f {'freq': 220}>"
      ]
     },
     "execution_count": 1,
     "metadata": {},
     "output_type": "execute_result"
    }
   ],
   "source": [
    "syn.free()"
   ]
  },
  {
   "cell_type": "markdown",
   "metadata": {},
   "source": [
    "Free the bus to mark the bus id as available again"
   ]
  },
  {
   "cell_type": "code",
   "execution_count": 12,
   "metadata": {
    "execution": {
     "iopub.execute_input": "2021-06-24T17:41:51.415086Z",
     "iopub.status.busy": "2021-06-24T17:41:51.415086Z",
     "iopub.status.idle": "2021-06-24T17:41:51.417086Z",
     "shell.execute_reply": "2021-06-24T17:41:51.417086Z"
    }
   },
   "outputs": [],
   "source": [
    "bus.free()"
   ]
  },
  {
   "cell_type": "markdown",
   "metadata": {},
   "source": [
    "## Use multiple Control Buses"
   ]
  },
  {
   "cell_type": "code",
   "execution_count": 13,
   "metadata": {
    "execution": {
     "iopub.execute_input": "2021-06-24T17:41:51.420086Z",
     "iopub.status.busy": "2021-06-24T17:41:51.419086Z",
     "iopub.status.idle": "2021-06-24T17:41:51.463014Z",
     "shell.execute_reply": "2021-06-24T17:41:51.464009Z"
    }
   },
   "outputs": [],
   "source": [
    "synth_name = scn.SynthDef(\"busMulti\", \"\"\"{ |out, freqs=#[200, 400], rates=#[1, 2] |\n",
    "    Out.ar(out, Splay.ar(SinOsc.ar(freqs) * Decay2.ar(Impulse.ar(rates), 0.001, 0.1)) * 0.5);\n",
    "}\"\"\").add()"
   ]
  },
  {
   "cell_type": "code",
   "execution_count": 14,
   "metadata": {
    "execution": {
     "iopub.execute_input": "2021-06-24T17:41:51.466007Z",
     "iopub.status.busy": "2021-06-24T17:41:51.466007Z",
     "iopub.status.idle": "2021-06-24T17:41:51.468008Z",
     "shell.execute_reply": "2021-06-24T17:41:51.468008Z"
    }
   },
   "outputs": [
    {
     "data": {
      "text/plain": [
       "Bus(rate='control', ids=[512, 513])"
      ]
     },
     "execution_count": 1,
     "metadata": {},
     "output_type": "execute_result"
    }
   ],
   "source": [
    "buses = scn.Bus(\"control\", 2)\n",
    "buses"
   ]
  },
  {
   "cell_type": "code",
   "execution_count": 15,
   "metadata": {
    "execution": {
     "iopub.execute_input": "2021-06-24T17:41:51.471009Z",
     "iopub.status.busy": "2021-06-24T17:41:51.470009Z",
     "iopub.status.idle": "2021-06-24T17:41:51.475008Z",
     "shell.execute_reply": "2021-06-24T17:41:51.475008Z"
    }
   },
   "outputs": [
    {
     "data": {
      "text/plain": [
       "[0.0, 0.0]"
      ]
     },
     "execution_count": 1,
     "metadata": {},
     "output_type": "execute_result"
    }
   ],
   "source": [
    "buses.get()"
   ]
  },
  {
   "cell_type": "code",
   "execution_count": 16,
   "metadata": {
    "execution": {
     "iopub.execute_input": "2021-06-24T17:41:51.478010Z",
     "iopub.status.busy": "2021-06-24T17:41:51.478010Z",
     "iopub.status.idle": "2021-06-24T17:41:51.490011Z",
     "shell.execute_reply": "2021-06-24T17:41:51.490011Z"
    }
   },
   "outputs": [],
   "source": [
    "syn = scn.Synth(synth_name)"
   ]
  },
  {
   "cell_type": "code",
   "execution_count": 17,
   "metadata": {
    "execution": {
     "iopub.execute_input": "2021-06-24T17:41:51.494009Z",
     "iopub.status.busy": "2021-06-24T17:41:51.494009Z",
     "iopub.status.idle": "2021-06-24T17:41:51.497009Z",
     "shell.execute_reply": "2021-06-24T17:41:51.497009Z"
    }
   },
   "outputs": [
    {
     "data": {
      "text/plain": [
       "<Synth(20002) 'busMulti' s {}>"
      ]
     },
     "execution_count": 1,
     "metadata": {},
     "output_type": "execute_result"
    }
   ],
   "source": [
    "syn.map(\"rates\", buses)"
   ]
  },
  {
   "cell_type": "code",
   "execution_count": 18,
   "metadata": {
    "execution": {
     "iopub.execute_input": "2021-06-24T17:41:51.501010Z",
     "iopub.status.busy": "2021-06-24T17:41:51.500008Z",
     "iopub.status.idle": "2021-06-24T17:41:51.504009Z",
     "shell.execute_reply": "2021-06-24T17:41:51.504009Z"
    }
   },
   "outputs": [
    {
     "data": {
      "text/plain": [
       "Bus(rate='control', ids=[512, 513])"
      ]
     },
     "execution_count": 1,
     "metadata": {},
     "output_type": "execute_result"
    }
   ],
   "source": [
    "buses.set(1, 1)"
   ]
  },
  {
   "cell_type": "code",
   "execution_count": 19,
   "metadata": {
    "execution": {
     "iopub.execute_input": "2021-06-24T17:41:51.507008Z",
     "iopub.status.busy": "2021-06-24T17:41:51.506009Z",
     "iopub.status.idle": "2021-06-24T17:41:51.510008Z",
     "shell.execute_reply": "2021-06-24T17:41:51.510008Z"
    }
   },
   "outputs": [
    {
     "data": {
      "text/plain": [
       "Bus(rate='control', ids=[512, 513])"
      ]
     },
     "execution_count": 1,
     "metadata": {},
     "output_type": "execute_result"
    }
   ],
   "source": [
    "buses.set(1, 2)"
   ]
  },
  {
   "cell_type": "code",
   "execution_count": 20,
   "metadata": {
    "execution": {
     "iopub.execute_input": "2021-06-24T17:41:51.513009Z",
     "iopub.status.busy": "2021-06-24T17:41:51.512008Z",
     "iopub.status.idle": "2021-06-24T17:41:51.524008Z",
     "shell.execute_reply": "2021-06-24T17:41:51.524008Z"
    }
   },
   "outputs": [
    {
     "data": {
      "text/plain": [
       "[1.0, 2.0]"
      ]
     },
     "execution_count": 1,
     "metadata": {},
     "output_type": "execute_result"
    }
   ],
   "source": [
    "buses.get()"
   ]
  },
  {
   "cell_type": "code",
   "execution_count": 21,
   "metadata": {
    "execution": {
     "iopub.execute_input": "2021-06-24T17:41:51.527008Z",
     "iopub.status.busy": "2021-06-24T17:41:51.526009Z",
     "iopub.status.idle": "2021-06-24T17:41:51.530008Z",
     "shell.execute_reply": "2021-06-24T17:41:51.530008Z"
    }
   },
   "outputs": [
    {
     "data": {
      "text/plain": [
       "<Synth(20002) 'busMulti' f {}>"
      ]
     },
     "execution_count": 1,
     "metadata": {},
     "output_type": "execute_result"
    }
   ],
   "source": [
    "syn.free()"
   ]
  },
  {
   "cell_type": "code",
   "execution_count": 22,
   "metadata": {
    "execution": {
     "iopub.execute_input": "2021-06-24T17:41:51.532011Z",
     "iopub.status.busy": "2021-06-24T17:41:51.532011Z",
     "iopub.status.idle": "2021-06-24T17:41:51.535008Z",
     "shell.execute_reply": "2021-06-24T17:41:51.535008Z"
    }
   },
   "outputs": [],
   "source": [
    "buses.free()"
   ]
  },
  {
   "cell_type": "code",
   "execution_count": 23,
   "metadata": {
    "execution": {
     "iopub.execute_input": "2021-06-24T17:41:51.537010Z",
     "iopub.status.busy": "2021-06-24T17:41:51.537010Z",
     "iopub.status.idle": "2021-06-24T17:41:51.594009Z",
     "shell.execute_reply": "2021-06-24T17:41:51.594009Z"
    }
   },
   "outputs": [],
   "source": [
    "sc.server.free_all()"
   ]
  },
  {
   "cell_type": "code",
   "execution_count": 24,
   "metadata": {
    "execution": {
     "iopub.execute_input": "2021-06-24T17:41:51.597008Z",
     "iopub.status.busy": "2021-06-24T17:41:51.596009Z",
     "iopub.status.idle": "2021-06-24T17:41:52.765389Z",
     "shell.execute_reply": "2021-06-24T17:41:52.766389Z"
    }
   },
   "outputs": [],
   "source": [
    "sc.exit()"
   ]
  },
  {
   "cell_type": "code",
   "execution_count": null,
   "metadata": {},
   "outputs": [],
   "source": []
  }
 ],
 "metadata": {
  "language_info": {
   "codemirror_mode": {
    "name": "ipython",
    "version": 3
   },
   "file_extension": ".py",
   "mimetype": "text/x-python",
   "name": "python",
   "nbconvert_exporter": "python",
   "pygments_lexer": "ipython3",
   "version": "3.7.10"
  }
 },
 "nbformat": 4,
 "nbformat_minor": 4
}
