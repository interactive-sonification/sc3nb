{
 "cells": [
  {
   "cell_type": "markdown",
   "metadata": {},
   "source": [
    "# Bus"
   ]
  },
  {
   "cell_type": "code",
   "execution_count": 1,
   "metadata": {
    "execution": {
     "iopub.execute_input": "2021-06-10T16:26:56.747178Z",
     "iopub.status.busy": "2021-06-10T16:26:56.746179Z",
     "iopub.status.idle": "2021-06-10T16:26:56.942175Z",
     "shell.execute_reply": "2021-06-10T16:26:56.943177Z"
    }
   },
   "outputs": [],
   "source": [
    "import sc3nb as scn"
   ]
  },
  {
   "cell_type": "code",
   "execution_count": 2,
   "metadata": {
    "execution": {
     "iopub.execute_input": "2021-06-10T16:26:56.951177Z",
     "iopub.status.busy": "2021-06-10T16:26:56.951177Z",
     "iopub.status.idle": "2021-06-10T16:27:00.286633Z",
     "shell.execute_reply": "2021-06-10T16:27:00.286633Z"
    }
   },
   "outputs": [
    {
     "data": {
      "application/javascript": [
       "if (typeof Jupyter !== 'undefined') {\n",
       "                        Jupyter.keyboard_manager.command_shortcuts.add_shortcut(\n",
       "                        'Ctrl-.', {\n",
       "                        help : 'Free all nodes on SC server',\n",
       "                        help_index : 'zz',\n",
       "                        handler : function (event) {\n",
       "                            IPython.notebook.kernel.execute(\n",
       "                                \"import sc3nb; sc3nb.SC.get_default().server.free_all(root=True)\"\n",
       "                            )\n",
       "                            return true;}\n",
       "                        });\n",
       "                    }"
      ],
      "text/plain": [
       "<IPython.core.display.Javascript object>"
      ]
     },
     "metadata": {},
     "output_type": "display_data"
    },
    {
     "name": "stdout",
     "output_type": "stream",
     "text": [
      "Starting sclang process...\n"
     ]
    },
    {
     "name": "stdout",
     "output_type": "stream",
     "text": [
      "Done.\n",
      "Registering OSC /return callback in sclang...\n",
      "Done.\n",
      "Loading default SynthDescs\n",
      "Done.\n",
      "Booting SuperCollider Server...\n"
     ]
    },
    {
     "name": "stdout",
     "output_type": "stream",
     "text": [
      "Done.\n"
     ]
    }
   ],
   "source": [
    "sc = scn.startup()"
   ]
  },
  {
   "cell_type": "markdown",
   "metadata": {},
   "source": [
    "## Using a Control Bus"
   ]
  },
  {
   "cell_type": "code",
   "execution_count": 3,
   "metadata": {
    "execution": {
     "iopub.execute_input": "2021-06-10T16:27:00.289634Z",
     "iopub.status.busy": "2021-06-10T16:27:00.289634Z",
     "iopub.status.idle": "2021-06-10T16:27:00.292634Z",
     "shell.execute_reply": "2021-06-10T16:27:00.292634Z"
    }
   },
   "outputs": [
    {
     "data": {
      "text/plain": [
       "Bus(control, ids=[512])"
      ]
     },
     "execution_count": 1,
     "metadata": {},
     "output_type": "execute_result"
    }
   ],
   "source": [
    "bus = scn.Bus('control')\n",
    "bus"
   ]
  },
  {
   "cell_type": "code",
   "execution_count": 4,
   "metadata": {
    "execution": {
     "iopub.execute_input": "2021-06-10T16:27:00.295634Z",
     "iopub.status.busy": "2021-06-10T16:27:00.294633Z",
     "iopub.status.idle": "2021-06-10T16:27:00.308531Z",
     "shell.execute_reply": "2021-06-10T16:27:00.308531Z"
    }
   },
   "outputs": [
    {
     "data": {
      "text/plain": [
       "0.0"
      ]
     },
     "execution_count": 1,
     "metadata": {},
     "output_type": "execute_result"
    }
   ],
   "source": [
    "bus.get()"
   ]
  },
  {
   "cell_type": "code",
   "execution_count": 5,
   "metadata": {
    "execution": {
     "iopub.execute_input": "2021-06-10T16:27:00.311532Z",
     "iopub.status.busy": "2021-06-10T16:27:00.310530Z",
     "iopub.status.idle": "2021-06-10T16:27:00.321531Z",
     "shell.execute_reply": "2021-06-10T16:27:00.321531Z"
    }
   },
   "outputs": [],
   "source": [
    "syn = scn.Synth(\"s2\")"
   ]
  },
  {
   "cell_type": "markdown",
   "metadata": {},
   "source": [
    "map the frequency of the synth to the bus value"
   ]
  },
  {
   "cell_type": "code",
   "execution_count": 6,
   "metadata": {
    "execution": {
     "iopub.execute_input": "2021-06-10T16:27:00.325532Z",
     "iopub.status.busy": "2021-06-10T16:27:00.324531Z",
     "iopub.status.idle": "2021-06-10T16:27:00.327531Z",
     "shell.execute_reply": "2021-06-10T16:27:00.327531Z"
    }
   },
   "outputs": [
    {
     "data": {
      "text/plain": [
       "<Synth(20001) 's2' s {}>"
      ]
     },
     "execution_count": 1,
     "metadata": {},
     "output_type": "execute_result"
    }
   ],
   "source": [
    "syn.map(\"freq\", bus)"
   ]
  },
  {
   "cell_type": "code",
   "execution_count": 7,
   "metadata": {
    "execution": {
     "iopub.execute_input": "2021-06-10T16:27:00.330532Z",
     "iopub.status.busy": "2021-06-10T16:27:00.330532Z",
     "iopub.status.idle": "2021-06-10T16:27:00.333531Z",
     "shell.execute_reply": "2021-06-10T16:27:00.333531Z"
    }
   },
   "outputs": [
    {
     "data": {
      "text/plain": [
       "Bus(control, ids=[512])"
      ]
     },
     "execution_count": 1,
     "metadata": {},
     "output_type": "execute_result"
    }
   ],
   "source": [
    "bus.set(120) # changes synths frequency"
   ]
  },
  {
   "cell_type": "code",
   "execution_count": 8,
   "metadata": {
    "execution": {
     "iopub.execute_input": "2021-06-10T16:27:00.337532Z",
     "iopub.status.busy": "2021-06-10T16:27:00.336532Z",
     "iopub.status.idle": "2021-06-10T16:27:00.340531Z",
     "shell.execute_reply": "2021-06-10T16:27:00.340531Z"
    }
   },
   "outputs": [
    {
     "data": {
      "text/plain": [
       "Bus(control, ids=[512])"
      ]
     },
     "execution_count": 1,
     "metadata": {},
     "output_type": "execute_result"
    }
   ],
   "source": [
    "bus.set(440)"
   ]
  },
  {
   "cell_type": "markdown",
   "metadata": {},
   "source": [
    "Set the frequency value to remove the mapping"
   ]
  },
  {
   "cell_type": "code",
   "execution_count": 9,
   "metadata": {
    "execution": {
     "iopub.execute_input": "2021-06-10T16:27:00.343533Z",
     "iopub.status.busy": "2021-06-10T16:27:00.343533Z",
     "iopub.status.idle": "2021-06-10T16:27:00.347531Z",
     "shell.execute_reply": "2021-06-10T16:27:00.347531Z"
    }
   },
   "outputs": [
    {
     "data": {
      "text/plain": [
       "<Synth(20001) 's2' ~ {'freq': 220}>"
      ]
     },
     "execution_count": 1,
     "metadata": {},
     "output_type": "execute_result"
    }
   ],
   "source": [
    "syn.set(\"freq\", 220)"
   ]
  },
  {
   "cell_type": "code",
   "execution_count": 10,
   "metadata": {
    "execution": {
     "iopub.execute_input": "2021-06-10T16:27:00.351533Z",
     "iopub.status.busy": "2021-06-10T16:27:00.350531Z",
     "iopub.status.idle": "2021-06-10T16:27:00.352534Z",
     "shell.execute_reply": "2021-06-10T16:27:00.352534Z"
    }
   },
   "outputs": [
    {
     "data": {
      "text/plain": [
       "Bus(control, ids=[512])"
      ]
     },
     "execution_count": 1,
     "metadata": {},
     "output_type": "execute_result"
    }
   ],
   "source": [
    "bus.set(440)  # no change"
   ]
  },
  {
   "cell_type": "code",
   "execution_count": 11,
   "metadata": {
    "execution": {
     "iopub.execute_input": "2021-06-10T16:27:00.356534Z",
     "iopub.status.busy": "2021-06-10T16:27:00.355530Z",
     "iopub.status.idle": "2021-06-10T16:27:00.357531Z",
     "shell.execute_reply": "2021-06-10T16:27:00.357531Z"
    }
   },
   "outputs": [
    {
     "data": {
      "text/plain": [
       "<Synth(20001) 's2' ~f {'freq': 220}>"
      ]
     },
     "execution_count": 1,
     "metadata": {},
     "output_type": "execute_result"
    }
   ],
   "source": [
    "syn.free()"
   ]
  },
  {
   "cell_type": "markdown",
   "metadata": {},
   "source": [
    "Free the bus to mark the bus id as available again"
   ]
  },
  {
   "cell_type": "code",
   "execution_count": 12,
   "metadata": {
    "execution": {
     "iopub.execute_input": "2021-06-10T16:27:00.360531Z",
     "iopub.status.busy": "2021-06-10T16:27:00.359531Z",
     "iopub.status.idle": "2021-06-10T16:27:00.361531Z",
     "shell.execute_reply": "2021-06-10T16:27:00.361531Z"
    }
   },
   "outputs": [],
   "source": [
    "bus.free()"
   ]
  },
  {
   "cell_type": "markdown",
   "metadata": {},
   "source": [
    "## Use multiple Control Buses"
   ]
  },
  {
   "cell_type": "code",
   "execution_count": 13,
   "metadata": {
    "execution": {
     "iopub.execute_input": "2021-06-10T16:27:00.364531Z",
     "iopub.status.busy": "2021-06-10T16:27:00.363533Z",
     "iopub.status.idle": "2021-06-10T16:27:00.386532Z",
     "shell.execute_reply": "2021-06-10T16:27:00.387532Z"
    }
   },
   "outputs": [],
   "source": [
    "synth_name = scn.SynthDef(\"busMulti\", \"\"\"{ |out, freqs=#[200, 400], rates=#[1, 2] |\n",
    "    Out.ar(out, Splay.ar(SinOsc.ar(freqs) * Decay2.ar(Impulse.ar(rates), 0.001, 0.1)) * 0.5);\n",
    "}\"\"\").add()"
   ]
  },
  {
   "cell_type": "code",
   "execution_count": 14,
   "metadata": {
    "execution": {
     "iopub.execute_input": "2021-06-10T16:27:00.390532Z",
     "iopub.status.busy": "2021-06-10T16:27:00.389531Z",
     "iopub.status.idle": "2021-06-10T16:27:00.393532Z",
     "shell.execute_reply": "2021-06-10T16:27:00.394531Z"
    }
   },
   "outputs": [
    {
     "data": {
      "text/plain": [
       "Bus(control, ids=[512, 513])"
      ]
     },
     "execution_count": 1,
     "metadata": {},
     "output_type": "execute_result"
    }
   ],
   "source": [
    "buses = scn.Bus(\"control\", 2)\n",
    "buses"
   ]
  },
  {
   "cell_type": "code",
   "execution_count": 15,
   "metadata": {
    "execution": {
     "iopub.execute_input": "2021-06-10T16:27:00.396530Z",
     "iopub.status.busy": "2021-06-10T16:27:00.396530Z",
     "iopub.status.idle": "2021-06-10T16:27:00.417532Z",
     "shell.execute_reply": "2021-06-10T16:27:00.417532Z"
    }
   },
   "outputs": [
    {
     "data": {
      "text/plain": [
       "[0.0, 0.0]"
      ]
     },
     "execution_count": 1,
     "metadata": {},
     "output_type": "execute_result"
    }
   ],
   "source": [
    "buses.get()"
   ]
  },
  {
   "cell_type": "code",
   "execution_count": 16,
   "metadata": {
    "execution": {
     "iopub.execute_input": "2021-06-10T16:27:00.420531Z",
     "iopub.status.busy": "2021-06-10T16:27:00.419531Z",
     "iopub.status.idle": "2021-06-10T16:27:00.430532Z",
     "shell.execute_reply": "2021-06-10T16:27:00.430532Z"
    }
   },
   "outputs": [],
   "source": [
    "syn = scn.Synth(synth_name)"
   ]
  },
  {
   "cell_type": "code",
   "execution_count": 17,
   "metadata": {
    "execution": {
     "iopub.execute_input": "2021-06-10T16:27:00.434532Z",
     "iopub.status.busy": "2021-06-10T16:27:00.433532Z",
     "iopub.status.idle": "2021-06-10T16:27:00.437531Z",
     "shell.execute_reply": "2021-06-10T16:27:00.437531Z"
    }
   },
   "outputs": [
    {
     "data": {
      "text/plain": [
       "<Synth(20002) 'busMulti' s {}>"
      ]
     },
     "execution_count": 1,
     "metadata": {},
     "output_type": "execute_result"
    }
   ],
   "source": [
    "syn.map(\"rates\", buses)"
   ]
  },
  {
   "cell_type": "code",
   "execution_count": 18,
   "metadata": {
    "execution": {
     "iopub.execute_input": "2021-06-10T16:27:00.441532Z",
     "iopub.status.busy": "2021-06-10T16:27:00.440532Z",
     "iopub.status.idle": "2021-06-10T16:27:00.443531Z",
     "shell.execute_reply": "2021-06-10T16:27:00.443531Z"
    }
   },
   "outputs": [
    {
     "data": {
      "text/plain": [
       "Bus(control, ids=[512, 513])"
      ]
     },
     "execution_count": 1,
     "metadata": {},
     "output_type": "execute_result"
    }
   ],
   "source": [
    "buses.set(1, 1)"
   ]
  },
  {
   "cell_type": "code",
   "execution_count": 19,
   "metadata": {
    "execution": {
     "iopub.execute_input": "2021-06-10T16:27:00.447532Z",
     "iopub.status.busy": "2021-06-10T16:27:00.446531Z",
     "iopub.status.idle": "2021-06-10T16:27:00.448532Z",
     "shell.execute_reply": "2021-06-10T16:27:00.448532Z"
    }
   },
   "outputs": [
    {
     "data": {
      "text/plain": [
       "Bus(control, ids=[512, 513])"
      ]
     },
     "execution_count": 1,
     "metadata": {},
     "output_type": "execute_result"
    }
   ],
   "source": [
    "buses.set(1, 2)"
   ]
  },
  {
   "cell_type": "code",
   "execution_count": 20,
   "metadata": {
    "execution": {
     "iopub.execute_input": "2021-06-10T16:27:00.451532Z",
     "iopub.status.busy": "2021-06-10T16:27:00.451532Z",
     "iopub.status.idle": "2021-06-10T16:27:00.457548Z",
     "shell.execute_reply": "2021-06-10T16:27:00.457548Z"
    }
   },
   "outputs": [
    {
     "data": {
      "text/plain": [
       "[1.0, 2.0]"
      ]
     },
     "execution_count": 1,
     "metadata": {},
     "output_type": "execute_result"
    }
   ],
   "source": [
    "buses.get()"
   ]
  },
  {
   "cell_type": "code",
   "execution_count": 21,
   "metadata": {
    "execution": {
     "iopub.execute_input": "2021-06-10T16:27:00.460547Z",
     "iopub.status.busy": "2021-06-10T16:27:00.460547Z",
     "iopub.status.idle": "2021-06-10T16:27:00.462547Z",
     "shell.execute_reply": "2021-06-10T16:27:00.462547Z"
    }
   },
   "outputs": [
    {
     "data": {
      "text/plain": [
       "<Synth(20002) 'busMulti' ~f {}>"
      ]
     },
     "execution_count": 1,
     "metadata": {},
     "output_type": "execute_result"
    }
   ],
   "source": [
    "syn.free()"
   ]
  },
  {
   "cell_type": "code",
   "execution_count": 22,
   "metadata": {
    "execution": {
     "iopub.execute_input": "2021-06-10T16:27:00.465547Z",
     "iopub.status.busy": "2021-06-10T16:27:00.464547Z",
     "iopub.status.idle": "2021-06-10T16:27:00.466549Z",
     "shell.execute_reply": "2021-06-10T16:27:00.466549Z"
    }
   },
   "outputs": [],
   "source": [
    "buses.free()"
   ]
  },
  {
   "cell_type": "code",
   "execution_count": 23,
   "metadata": {
    "execution": {
     "iopub.execute_input": "2021-06-10T16:27:00.470548Z",
     "iopub.status.busy": "2021-06-10T16:27:00.469548Z",
     "iopub.status.idle": "2021-06-10T16:27:00.527595Z",
     "shell.execute_reply": "2021-06-10T16:27:00.527595Z"
    }
   },
   "outputs": [],
   "source": [
    "sc.server.free_all()"
   ]
  },
  {
   "cell_type": "code",
   "execution_count": 24,
   "metadata": {
    "execution": {
     "iopub.execute_input": "2021-06-10T16:27:00.530596Z",
     "iopub.status.busy": "2021-06-10T16:27:00.530596Z",
     "iopub.status.idle": "2021-06-10T16:27:01.709634Z",
     "shell.execute_reply": "2021-06-10T16:27:01.710644Z"
    }
   },
   "outputs": [],
   "source": [
    "sc.exit()"
   ]
  },
  {
   "cell_type": "code",
   "execution_count": null,
   "metadata": {},
   "outputs": [],
   "source": []
  }
 ],
 "metadata": {
  "language_info": {
   "codemirror_mode": {
    "name": "ipython",
    "version": 3
   },
   "file_extension": ".py",
   "mimetype": "text/x-python",
   "name": "python",
   "nbconvert_exporter": "python",
   "pygments_lexer": "ipython3",
   "version": "3.7.10"
  }
 },
 "nbformat": 4,
 "nbformat_minor": 4
}
