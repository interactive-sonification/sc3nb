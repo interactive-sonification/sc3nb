{
 "cells": [
  {
   "cell_type": "markdown",
   "metadata": {},
   "source": [
    "# Bus"
   ]
  },
  {
   "cell_type": "code",
   "execution_count": 1,
   "metadata": {
    "execution": {
     "iopub.execute_input": "2023-08-22T12:01:25.438551Z",
     "iopub.status.busy": "2023-08-22T12:01:25.438240Z",
     "iopub.status.idle": "2023-08-22T12:01:25.635971Z",
     "shell.execute_reply": "2023-08-22T12:01:25.635128Z"
    }
   },
   "outputs": [],
   "source": [
    "import sc3nb as scn"
   ]
  },
  {
   "cell_type": "code",
   "execution_count": 2,
   "metadata": {
    "execution": {
     "iopub.execute_input": "2023-08-22T12:01:25.640119Z",
     "iopub.status.busy": "2023-08-22T12:01:25.639790Z",
     "iopub.status.idle": "2023-08-22T12:01:29.202611Z",
     "shell.execute_reply": "2023-08-22T12:01:29.201377Z"
    }
   },
   "outputs": [
    {
     "data": {
      "application/javascript": [
       "if (typeof Jupyter !== 'undefined') {\n",
       "                        Jupyter.keyboard_manager.command_shortcuts.add_shortcut(\n",
       "                        'cmd-.', {\n",
       "                        help : 'Free all nodes on SC server',\n",
       "                        help_index : 'zz',\n",
       "                        handler : function (event) {\n",
       "                            IPython.notebook.kernel.execute(\n",
       "                                \"import sc3nb; sc3nb.SC.get_default().server.free_all(root=True)\"\n",
       "                            )\n",
       "                            return true;}\n",
       "                        });\n",
       "                    }"
      ],
      "text/plain": [
       "<IPython.core.display.Javascript object>"
      ]
     },
     "metadata": {},
     "output_type": "display_data"
    },
    {
     "name": "stdout",
     "output_type": "stream",
     "text": [
      "Starting sclang process... [sclang | start reading ]\n"
     ]
    },
    {
     "name": "stdout",
     "output_type": "stream",
     "text": [
      "Done.\n",
      "Registering OSC /return callback in sclang... Done.\n",
      "Loading default sc3nb SynthDefs... Done.\n",
      "Booting SuperCollider Server... [scsynth | start reading ]\n"
     ]
    },
    {
     "name": "stdout",
     "output_type": "stream",
     "text": [
      "Done.\n"
     ]
    }
   ],
   "source": [
    "sc = scn.startup()"
   ]
  },
  {
   "cell_type": "markdown",
   "metadata": {},
   "source": [
    "## Using a Control Bus"
   ]
  },
  {
   "cell_type": "code",
   "execution_count": 3,
   "metadata": {
    "execution": {
     "iopub.execute_input": "2023-08-22T12:01:29.207502Z",
     "iopub.status.busy": "2023-08-22T12:01:29.207116Z",
     "iopub.status.idle": "2023-08-22T12:01:29.212801Z",
     "shell.execute_reply": "2023-08-22T12:01:29.212058Z"
    }
   },
   "outputs": [
    {
     "data": {
      "text/plain": [
       "Bus(rate='control', ids=[512])"
      ]
     },
     "execution_count": 3,
     "metadata": {},
     "output_type": "execute_result"
    }
   ],
   "source": [
    "bus = scn.Bus('control')\n",
    "bus"
   ]
  },
  {
   "cell_type": "code",
   "execution_count": 4,
   "metadata": {
    "execution": {
     "iopub.execute_input": "2023-08-22T12:01:29.216488Z",
     "iopub.status.busy": "2023-08-22T12:01:29.216188Z",
     "iopub.status.idle": "2023-08-22T12:01:29.225781Z",
     "shell.execute_reply": "2023-08-22T12:01:29.225154Z"
    }
   },
   "outputs": [
    {
     "data": {
      "text/plain": [
       "0.0"
      ]
     },
     "execution_count": 4,
     "metadata": {},
     "output_type": "execute_result"
    }
   ],
   "source": [
    "bus.get()"
   ]
  },
  {
   "cell_type": "code",
   "execution_count": 5,
   "metadata": {
    "execution": {
     "iopub.execute_input": "2023-08-22T12:01:29.229106Z",
     "iopub.status.busy": "2023-08-22T12:01:29.228763Z",
     "iopub.status.idle": "2023-08-22T12:01:29.244161Z",
     "shell.execute_reply": "2023-08-22T12:01:29.243212Z"
    }
   },
   "outputs": [],
   "source": [
    "syn = scn.Synth(\"s2\")"
   ]
  },
  {
   "cell_type": "markdown",
   "metadata": {},
   "source": [
    "map the frequency of the synth to the bus value"
   ]
  },
  {
   "cell_type": "code",
   "execution_count": 6,
   "metadata": {
    "execution": {
     "iopub.execute_input": "2023-08-22T12:01:29.248189Z",
     "iopub.status.busy": "2023-08-22T12:01:29.247872Z",
     "iopub.status.idle": "2023-08-22T12:01:29.252646Z",
     "shell.execute_reply": "2023-08-22T12:01:29.252003Z"
    }
   },
   "outputs": [
    {
     "data": {
      "text/plain": [
       "<Synth(20001) 's2' ~ {}>"
      ]
     },
     "execution_count": 6,
     "metadata": {},
     "output_type": "execute_result"
    }
   ],
   "source": [
    "syn.map(\"freq\", bus)"
   ]
  },
  {
   "cell_type": "code",
   "execution_count": 7,
   "metadata": {
    "execution": {
     "iopub.execute_input": "2023-08-22T12:01:29.256005Z",
     "iopub.status.busy": "2023-08-22T12:01:29.255679Z",
     "iopub.status.idle": "2023-08-22T12:01:29.260839Z",
     "shell.execute_reply": "2023-08-22T12:01:29.260218Z"
    }
   },
   "outputs": [
    {
     "data": {
      "text/plain": [
       "Bus(rate='control', ids=[512])"
      ]
     },
     "execution_count": 7,
     "metadata": {},
     "output_type": "execute_result"
    }
   ],
   "source": [
    "bus.set(120) # changes synths frequency"
   ]
  },
  {
   "cell_type": "code",
   "execution_count": 8,
   "metadata": {
    "execution": {
     "iopub.execute_input": "2023-08-22T12:01:29.264680Z",
     "iopub.status.busy": "2023-08-22T12:01:29.264383Z",
     "iopub.status.idle": "2023-08-22T12:01:29.268963Z",
     "shell.execute_reply": "2023-08-22T12:01:29.268289Z"
    }
   },
   "outputs": [
    {
     "data": {
      "text/plain": [
       "Bus(rate='control', ids=[512])"
      ]
     },
     "execution_count": 8,
     "metadata": {},
     "output_type": "execute_result"
    }
   ],
   "source": [
    "bus.set(440)"
   ]
  },
  {
   "cell_type": "markdown",
   "metadata": {},
   "source": [
    "Set the frequency value to remove the mapping"
   ]
  },
  {
   "cell_type": "code",
   "execution_count": 9,
   "metadata": {
    "execution": {
     "iopub.execute_input": "2023-08-22T12:01:29.272224Z",
     "iopub.status.busy": "2023-08-22T12:01:29.271880Z",
     "iopub.status.idle": "2023-08-22T12:01:29.276290Z",
     "shell.execute_reply": "2023-08-22T12:01:29.275740Z"
    }
   },
   "outputs": [
    {
     "data": {
      "text/plain": [
       "<Synth(20001) 's2' ~ {'freq': 220}>"
      ]
     },
     "execution_count": 9,
     "metadata": {},
     "output_type": "execute_result"
    }
   ],
   "source": [
    "syn.set(\"freq\", 220)"
   ]
  },
  {
   "cell_type": "code",
   "execution_count": 10,
   "metadata": {
    "execution": {
     "iopub.execute_input": "2023-08-22T12:01:29.279297Z",
     "iopub.status.busy": "2023-08-22T12:01:29.279017Z",
     "iopub.status.idle": "2023-08-22T12:01:29.284390Z",
     "shell.execute_reply": "2023-08-22T12:01:29.283753Z"
    }
   },
   "outputs": [
    {
     "data": {
      "text/plain": [
       "Bus(rate='control', ids=[512])"
      ]
     },
     "execution_count": 10,
     "metadata": {},
     "output_type": "execute_result"
    }
   ],
   "source": [
    "bus.set(440)  # no change"
   ]
  },
  {
   "cell_type": "code",
   "execution_count": 11,
   "metadata": {
    "execution": {
     "iopub.execute_input": "2023-08-22T12:01:29.287720Z",
     "iopub.status.busy": "2023-08-22T12:01:29.287234Z",
     "iopub.status.idle": "2023-08-22T12:01:29.292156Z",
     "shell.execute_reply": "2023-08-22T12:01:29.291079Z"
    }
   },
   "outputs": [
    {
     "data": {
      "text/plain": [
       "<Synth(20001) 's2' f {'freq': 220}>"
      ]
     },
     "execution_count": 11,
     "metadata": {},
     "output_type": "execute_result"
    }
   ],
   "source": [
    "syn.free()"
   ]
  },
  {
   "cell_type": "markdown",
   "metadata": {},
   "source": [
    "Free the bus to mark the bus id as available again"
   ]
  },
  {
   "cell_type": "code",
   "execution_count": 12,
   "metadata": {
    "execution": {
     "iopub.execute_input": "2023-08-22T12:01:29.295279Z",
     "iopub.status.busy": "2023-08-22T12:01:29.294966Z",
     "iopub.status.idle": "2023-08-22T12:01:29.298880Z",
     "shell.execute_reply": "2023-08-22T12:01:29.298191Z"
    }
   },
   "outputs": [],
   "source": [
    "bus.free()"
   ]
  },
  {
   "cell_type": "markdown",
   "metadata": {},
   "source": [
    "## Use multiple Control Buses"
   ]
  },
  {
   "cell_type": "code",
   "execution_count": 13,
   "metadata": {
    "execution": {
     "iopub.execute_input": "2023-08-22T12:01:29.301992Z",
     "iopub.status.busy": "2023-08-22T12:01:29.301728Z",
     "iopub.status.idle": "2023-08-22T12:01:29.341347Z",
     "shell.execute_reply": "2023-08-22T12:01:29.340225Z"
    }
   },
   "outputs": [],
   "source": [
    "synth_name = scn.SynthDef(\"busMulti\", \"\"\"{ |out, freqs=#[200, 400], rates=#[1, 2] |\n",
    "    Out.ar(out, Splay.ar(SinOsc.ar(freqs) * Decay2.ar(Impulse.ar(rates), 0.001, 0.1)) * 0.5);\n",
    "}\"\"\").add()"
   ]
  },
  {
   "cell_type": "code",
   "execution_count": 14,
   "metadata": {
    "execution": {
     "iopub.execute_input": "2023-08-22T12:01:29.345757Z",
     "iopub.status.busy": "2023-08-22T12:01:29.345289Z",
     "iopub.status.idle": "2023-08-22T12:01:29.350459Z",
     "shell.execute_reply": "2023-08-22T12:01:29.349785Z"
    }
   },
   "outputs": [
    {
     "data": {
      "text/plain": [
       "Bus(rate='control', ids=[512, 513])"
      ]
     },
     "execution_count": 14,
     "metadata": {},
     "output_type": "execute_result"
    }
   ],
   "source": [
    "buses = scn.Bus(\"control\", 2)\n",
    "buses"
   ]
  },
  {
   "cell_type": "code",
   "execution_count": 15,
   "metadata": {
    "execution": {
     "iopub.execute_input": "2023-08-22T12:01:29.354229Z",
     "iopub.status.busy": "2023-08-22T12:01:29.353926Z",
     "iopub.status.idle": "2023-08-22T12:01:29.365494Z",
     "shell.execute_reply": "2023-08-22T12:01:29.364684Z"
    }
   },
   "outputs": [
    {
     "data": {
      "text/plain": [
       "[0.0, 0.0]"
      ]
     },
     "execution_count": 15,
     "metadata": {},
     "output_type": "execute_result"
    }
   ],
   "source": [
    "buses.get()"
   ]
  },
  {
   "cell_type": "code",
   "execution_count": 16,
   "metadata": {
    "execution": {
     "iopub.execute_input": "2023-08-22T12:01:29.369965Z",
     "iopub.status.busy": "2023-08-22T12:01:29.369634Z",
     "iopub.status.idle": "2023-08-22T12:01:29.385769Z",
     "shell.execute_reply": "2023-08-22T12:01:29.383643Z"
    }
   },
   "outputs": [],
   "source": [
    "syn = scn.Synth(synth_name)"
   ]
  },
  {
   "cell_type": "code",
   "execution_count": 17,
   "metadata": {
    "execution": {
     "iopub.execute_input": "2023-08-22T12:01:29.389262Z",
     "iopub.status.busy": "2023-08-22T12:01:29.388979Z",
     "iopub.status.idle": "2023-08-22T12:01:29.394058Z",
     "shell.execute_reply": "2023-08-22T12:01:29.393296Z"
    }
   },
   "outputs": [
    {
     "data": {
      "text/plain": [
       "<Synth(20002) 'busMulti' ~ {}>"
      ]
     },
     "execution_count": 17,
     "metadata": {},
     "output_type": "execute_result"
    }
   ],
   "source": [
    "syn.map(\"rates\", buses)"
   ]
  },
  {
   "cell_type": "code",
   "execution_count": 18,
   "metadata": {
    "execution": {
     "iopub.execute_input": "2023-08-22T12:01:29.397599Z",
     "iopub.status.busy": "2023-08-22T12:01:29.397297Z",
     "iopub.status.idle": "2023-08-22T12:01:29.402628Z",
     "shell.execute_reply": "2023-08-22T12:01:29.402021Z"
    }
   },
   "outputs": [
    {
     "data": {
      "text/plain": [
       "Bus(rate='control', ids=[512, 513])"
      ]
     },
     "execution_count": 18,
     "metadata": {},
     "output_type": "execute_result"
    }
   ],
   "source": [
    "buses.set(1, 1)"
   ]
  },
  {
   "cell_type": "code",
   "execution_count": 19,
   "metadata": {
    "execution": {
     "iopub.execute_input": "2023-08-22T12:01:29.406212Z",
     "iopub.status.busy": "2023-08-22T12:01:29.405913Z",
     "iopub.status.idle": "2023-08-22T12:01:29.411119Z",
     "shell.execute_reply": "2023-08-22T12:01:29.410491Z"
    }
   },
   "outputs": [
    {
     "data": {
      "text/plain": [
       "Bus(rate='control', ids=[512, 513])"
      ]
     },
     "execution_count": 19,
     "metadata": {},
     "output_type": "execute_result"
    }
   ],
   "source": [
    "buses.set(1, 2)"
   ]
  },
  {
   "cell_type": "code",
   "execution_count": 20,
   "metadata": {
    "execution": {
     "iopub.execute_input": "2023-08-22T12:01:29.414731Z",
     "iopub.status.busy": "2023-08-22T12:01:29.414424Z",
     "iopub.status.idle": "2023-08-22T12:01:29.422495Z",
     "shell.execute_reply": "2023-08-22T12:01:29.421858Z"
    }
   },
   "outputs": [
    {
     "data": {
      "text/plain": [
       "[1.0, 2.0]"
      ]
     },
     "execution_count": 20,
     "metadata": {},
     "output_type": "execute_result"
    }
   ],
   "source": [
    "buses.get()"
   ]
  },
  {
   "cell_type": "code",
   "execution_count": 21,
   "metadata": {
    "execution": {
     "iopub.execute_input": "2023-08-22T12:01:29.426337Z",
     "iopub.status.busy": "2023-08-22T12:01:29.426012Z",
     "iopub.status.idle": "2023-08-22T12:01:29.431062Z",
     "shell.execute_reply": "2023-08-22T12:01:29.429913Z"
    }
   },
   "outputs": [
    {
     "data": {
      "text/plain": [
       "<Synth(20002) 'busMulti' f {}>"
      ]
     },
     "execution_count": 21,
     "metadata": {},
     "output_type": "execute_result"
    }
   ],
   "source": [
    "syn.free()"
   ]
  },
  {
   "cell_type": "code",
   "execution_count": 22,
   "metadata": {
    "execution": {
     "iopub.execute_input": "2023-08-22T12:01:29.435722Z",
     "iopub.status.busy": "2023-08-22T12:01:29.435424Z",
     "iopub.status.idle": "2023-08-22T12:01:29.438972Z",
     "shell.execute_reply": "2023-08-22T12:01:29.438262Z"
    }
   },
   "outputs": [],
   "source": [
    "buses.free()"
   ]
  },
  {
   "cell_type": "code",
   "execution_count": 23,
   "metadata": {
    "execution": {
     "iopub.execute_input": "2023-08-22T12:01:29.442552Z",
     "iopub.status.busy": "2023-08-22T12:01:29.442258Z",
     "iopub.status.idle": "2023-08-22T12:01:29.516062Z",
     "shell.execute_reply": "2023-08-22T12:01:29.514562Z"
    }
   },
   "outputs": [],
   "source": [
    "sc.server.free_all()"
   ]
  },
  {
   "cell_type": "code",
   "execution_count": 24,
   "metadata": {
    "execution": {
     "iopub.execute_input": "2023-08-22T12:01:29.521382Z",
     "iopub.status.busy": "2023-08-22T12:01:29.521031Z",
     "iopub.status.idle": "2023-08-22T12:01:29.610291Z",
     "shell.execute_reply": "2023-08-22T12:01:29.608310Z"
    }
   },
   "outputs": [
    {
     "name": "stdout",
     "output_type": "stream",
     "text": [
      "Quitting SCServer... [scsynth | reached EOF ]\n",
      "Done.\n",
      "Exiting sclang... [sclang | reached EOF ]\n",
      "Done.\n"
     ]
    }
   ],
   "source": [
    "sc.exit()"
   ]
  },
  {
   "cell_type": "code",
   "execution_count": null,
   "metadata": {},
   "outputs": [],
   "source": []
  }
 ],
 "metadata": {
  "language_info": {
   "codemirror_mode": {
    "name": "ipython",
    "version": 3
   },
   "file_extension": ".py",
   "mimetype": "text/x-python",
   "name": "python",
   "nbconvert_exporter": "python",
   "pygments_lexer": "ipython3",
   "version": "3.10.11"
  }
 },
 "nbformat": 4,
 "nbformat_minor": 4
}
