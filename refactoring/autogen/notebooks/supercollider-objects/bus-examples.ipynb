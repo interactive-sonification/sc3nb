{
 "cells": [
  {
   "cell_type": "markdown",
   "metadata": {},
   "source": [
    "# Bus"
   ]
  },
  {
   "cell_type": "code",
   "execution_count": 1,
   "metadata": {
    "execution": {
     "iopub.execute_input": "2021-06-20T18:49:19.239807Z",
     "iopub.status.busy": "2021-06-20T18:49:19.238807Z",
     "iopub.status.idle": "2021-06-20T18:49:19.427807Z",
     "shell.execute_reply": "2021-06-20T18:49:19.427807Z"
    }
   },
   "outputs": [],
   "source": [
    "import sc3nb as scn"
   ]
  },
  {
   "cell_type": "code",
   "execution_count": 2,
   "metadata": {
    "execution": {
     "iopub.execute_input": "2021-06-20T18:49:19.436807Z",
     "iopub.status.busy": "2021-06-20T18:49:19.436807Z",
     "iopub.status.idle": "2021-06-20T18:49:22.830205Z",
     "shell.execute_reply": "2021-06-20T18:49:22.830205Z"
    }
   },
   "outputs": [
    {
     "data": {
      "application/javascript": [
       "if (typeof Jupyter !== 'undefined') {\n",
       "                        Jupyter.keyboard_manager.command_shortcuts.add_shortcut(\n",
       "                        'Ctrl-.', {\n",
       "                        help : 'Free all nodes on SC server',\n",
       "                        help_index : 'zz',\n",
       "                        handler : function (event) {\n",
       "                            IPython.notebook.kernel.execute(\n",
       "                                \"import sc3nb; sc3nb.SC.get_default().server.free_all(root=True)\"\n",
       "                            )\n",
       "                            return true;}\n",
       "                        });\n",
       "                    }"
      ],
      "text/plain": [
       "<IPython.core.display.Javascript object>"
      ]
     },
     "metadata": {},
     "output_type": "display_data"
    },
    {
     "name": "stdout",
     "output_type": "stream",
     "text": [
      "Starting sclang process...\n"
     ]
    },
    {
     "name": "stdout",
     "output_type": "stream",
     "text": [
      "Done.\n",
      "Registering OSC /return callback in sclang...\n",
      "Done.\n",
      "Loading default SynthDescs\n",
      "Done.\n",
      "Booting SuperCollider Server...\n"
     ]
    },
    {
     "name": "stdout",
     "output_type": "stream",
     "text": [
      "Done.\n"
     ]
    }
   ],
   "source": [
    "sc = scn.startup()"
   ]
  },
  {
   "cell_type": "markdown",
   "metadata": {},
   "source": [
    "## Using a Control Bus"
   ]
  },
  {
   "cell_type": "code",
   "execution_count": 3,
   "metadata": {
    "execution": {
     "iopub.execute_input": "2021-06-20T18:49:22.833204Z",
     "iopub.status.busy": "2021-06-20T18:49:22.833204Z",
     "iopub.status.idle": "2021-06-20T18:49:22.835208Z",
     "shell.execute_reply": "2021-06-20T18:49:22.835208Z"
    }
   },
   "outputs": [
    {
     "data": {
      "text/plain": [
       "Bus(control, ids=[512])"
      ]
     },
     "execution_count": 1,
     "metadata": {},
     "output_type": "execute_result"
    }
   ],
   "source": [
    "bus = scn.Bus('control')\n",
    "bus"
   ]
  },
  {
   "cell_type": "code",
   "execution_count": 4,
   "metadata": {
    "execution": {
     "iopub.execute_input": "2021-06-20T18:49:22.838207Z",
     "iopub.status.busy": "2021-06-20T18:49:22.837203Z",
     "iopub.status.idle": "2021-06-20T18:49:22.851217Z",
     "shell.execute_reply": "2021-06-20T18:49:22.851217Z"
    }
   },
   "outputs": [
    {
     "data": {
      "text/plain": [
       "0.0"
      ]
     },
     "execution_count": 1,
     "metadata": {},
     "output_type": "execute_result"
    }
   ],
   "source": [
    "bus.get()"
   ]
  },
  {
   "cell_type": "code",
   "execution_count": 5,
   "metadata": {
    "execution": {
     "iopub.execute_input": "2021-06-20T18:49:22.854216Z",
     "iopub.status.busy": "2021-06-20T18:49:22.854216Z",
     "iopub.status.idle": "2021-06-20T18:49:22.864216Z",
     "shell.execute_reply": "2021-06-20T18:49:22.864216Z"
    }
   },
   "outputs": [],
   "source": [
    "syn = scn.Synth(\"s2\")"
   ]
  },
  {
   "cell_type": "markdown",
   "metadata": {},
   "source": [
    "map the frequency of the synth to the bus value"
   ]
  },
  {
   "cell_type": "code",
   "execution_count": 6,
   "metadata": {
    "execution": {
     "iopub.execute_input": "2021-06-20T18:49:22.868217Z",
     "iopub.status.busy": "2021-06-20T18:49:22.867216Z",
     "iopub.status.idle": "2021-06-20T18:49:22.869218Z",
     "shell.execute_reply": "2021-06-20T18:49:22.869218Z"
    }
   },
   "outputs": [
    {
     "data": {
      "text/plain": [
       "<Synth(20001) 's2' s {}>"
      ]
     },
     "execution_count": 1,
     "metadata": {},
     "output_type": "execute_result"
    }
   ],
   "source": [
    "syn.map(\"freq\", bus)"
   ]
  },
  {
   "cell_type": "code",
   "execution_count": 7,
   "metadata": {
    "execution": {
     "iopub.execute_input": "2021-06-20T18:49:22.872217Z",
     "iopub.status.busy": "2021-06-20T18:49:22.872217Z",
     "iopub.status.idle": "2021-06-20T18:49:22.875218Z",
     "shell.execute_reply": "2021-06-20T18:49:22.875218Z"
    }
   },
   "outputs": [
    {
     "data": {
      "text/plain": [
       "Bus(control, ids=[512])"
      ]
     },
     "execution_count": 1,
     "metadata": {},
     "output_type": "execute_result"
    }
   ],
   "source": [
    "bus.set(120) # changes synths frequency"
   ]
  },
  {
   "cell_type": "code",
   "execution_count": 8,
   "metadata": {
    "execution": {
     "iopub.execute_input": "2021-06-20T18:49:22.878217Z",
     "iopub.status.busy": "2021-06-20T18:49:22.878217Z",
     "iopub.status.idle": "2021-06-20T18:49:22.882217Z",
     "shell.execute_reply": "2021-06-20T18:49:22.882217Z"
    }
   },
   "outputs": [
    {
     "data": {
      "text/plain": [
       "Bus(control, ids=[512])"
      ]
     },
     "execution_count": 1,
     "metadata": {},
     "output_type": "execute_result"
    }
   ],
   "source": [
    "bus.set(440)"
   ]
  },
  {
   "cell_type": "markdown",
   "metadata": {},
   "source": [
    "Set the frequency value to remove the mapping"
   ]
  },
  {
   "cell_type": "code",
   "execution_count": 9,
   "metadata": {
    "execution": {
     "iopub.execute_input": "2021-06-20T18:49:22.885217Z",
     "iopub.status.busy": "2021-06-20T18:49:22.884216Z",
     "iopub.status.idle": "2021-06-20T18:49:22.887217Z",
     "shell.execute_reply": "2021-06-20T18:49:22.887217Z"
    }
   },
   "outputs": [
    {
     "data": {
      "text/plain": [
       "<Synth(20001) 's2' ~ {'freq': 220}>"
      ]
     },
     "execution_count": 1,
     "metadata": {},
     "output_type": "execute_result"
    }
   ],
   "source": [
    "syn.set(\"freq\", 220)"
   ]
  },
  {
   "cell_type": "code",
   "execution_count": 10,
   "metadata": {
    "execution": {
     "iopub.execute_input": "2021-06-20T18:49:22.890217Z",
     "iopub.status.busy": "2021-06-20T18:49:22.889216Z",
     "iopub.status.idle": "2021-06-20T18:49:22.893217Z",
     "shell.execute_reply": "2021-06-20T18:49:22.893217Z"
    }
   },
   "outputs": [
    {
     "data": {
      "text/plain": [
       "Bus(control, ids=[512])"
      ]
     },
     "execution_count": 1,
     "metadata": {},
     "output_type": "execute_result"
    }
   ],
   "source": [
    "bus.set(440)  # no change"
   ]
  },
  {
   "cell_type": "code",
   "execution_count": 11,
   "metadata": {
    "execution": {
     "iopub.execute_input": "2021-06-20T18:49:22.896218Z",
     "iopub.status.busy": "2021-06-20T18:49:22.896218Z",
     "iopub.status.idle": "2021-06-20T18:49:22.898217Z",
     "shell.execute_reply": "2021-06-20T18:49:22.898217Z"
    }
   },
   "outputs": [
    {
     "data": {
      "text/plain": [
       "<Synth(20001) 's2' f {'freq': 220}>"
      ]
     },
     "execution_count": 1,
     "metadata": {},
     "output_type": "execute_result"
    }
   ],
   "source": [
    "syn.free()"
   ]
  },
  {
   "cell_type": "markdown",
   "metadata": {},
   "source": [
    "Free the bus to mark the bus id as available again"
   ]
  },
  {
   "cell_type": "code",
   "execution_count": 12,
   "metadata": {
    "execution": {
     "iopub.execute_input": "2021-06-20T18:49:22.901217Z",
     "iopub.status.busy": "2021-06-20T18:49:22.901217Z",
     "iopub.status.idle": "2021-06-20T18:49:22.902217Z",
     "shell.execute_reply": "2021-06-20T18:49:22.902217Z"
    }
   },
   "outputs": [],
   "source": [
    "bus.free()"
   ]
  },
  {
   "cell_type": "markdown",
   "metadata": {},
   "source": [
    "## Use multiple Control Buses"
   ]
  },
  {
   "cell_type": "code",
   "execution_count": 13,
   "metadata": {
    "execution": {
     "iopub.execute_input": "2021-06-20T18:49:22.905217Z",
     "iopub.status.busy": "2021-06-20T18:49:22.904216Z",
     "iopub.status.idle": "2021-06-20T18:49:22.931218Z",
     "shell.execute_reply": "2021-06-20T18:49:22.931218Z"
    }
   },
   "outputs": [],
   "source": [
    "synth_name = scn.SynthDef(\"busMulti\", \"\"\"{ |out, freqs=#[200, 400], rates=#[1, 2] |\n",
    "    Out.ar(out, Splay.ar(SinOsc.ar(freqs) * Decay2.ar(Impulse.ar(rates), 0.001, 0.1)) * 0.5);\n",
    "}\"\"\").add()"
   ]
  },
  {
   "cell_type": "code",
   "execution_count": 14,
   "metadata": {
    "execution": {
     "iopub.execute_input": "2021-06-20T18:49:22.934217Z",
     "iopub.status.busy": "2021-06-20T18:49:22.934217Z",
     "iopub.status.idle": "2021-06-20T18:49:22.936217Z",
     "shell.execute_reply": "2021-06-20T18:49:22.936217Z"
    }
   },
   "outputs": [
    {
     "data": {
      "text/plain": [
       "Bus(control, ids=[512, 513])"
      ]
     },
     "execution_count": 1,
     "metadata": {},
     "output_type": "execute_result"
    }
   ],
   "source": [
    "buses = scn.Bus(\"control\", 2)\n",
    "buses"
   ]
  },
  {
   "cell_type": "code",
   "execution_count": 15,
   "metadata": {
    "execution": {
     "iopub.execute_input": "2021-06-20T18:49:22.939217Z",
     "iopub.status.busy": "2021-06-20T18:49:22.938216Z",
     "iopub.status.idle": "2021-06-20T18:49:22.961262Z",
     "shell.execute_reply": "2021-06-20T18:49:22.961262Z"
    }
   },
   "outputs": [
    {
     "data": {
      "text/plain": [
       "[0.0, 0.0]"
      ]
     },
     "execution_count": 1,
     "metadata": {},
     "output_type": "execute_result"
    }
   ],
   "source": [
    "buses.get()"
   ]
  },
  {
   "cell_type": "code",
   "execution_count": 16,
   "metadata": {
    "execution": {
     "iopub.execute_input": "2021-06-20T18:49:22.964262Z",
     "iopub.status.busy": "2021-06-20T18:49:22.964262Z",
     "iopub.status.idle": "2021-06-20T18:49:22.975262Z",
     "shell.execute_reply": "2021-06-20T18:49:22.975262Z"
    }
   },
   "outputs": [],
   "source": [
    "syn = scn.Synth(synth_name)"
   ]
  },
  {
   "cell_type": "code",
   "execution_count": 17,
   "metadata": {
    "execution": {
     "iopub.execute_input": "2021-06-20T18:49:22.979262Z",
     "iopub.status.busy": "2021-06-20T18:49:22.979262Z",
     "iopub.status.idle": "2021-06-20T18:49:22.982261Z",
     "shell.execute_reply": "2021-06-20T18:49:22.982261Z"
    }
   },
   "outputs": [
    {
     "data": {
      "text/plain": [
       "<Synth(20002) 'busMulti' s {}>"
      ]
     },
     "execution_count": 1,
     "metadata": {},
     "output_type": "execute_result"
    }
   ],
   "source": [
    "syn.map(\"rates\", buses)"
   ]
  },
  {
   "cell_type": "code",
   "execution_count": 18,
   "metadata": {
    "execution": {
     "iopub.execute_input": "2021-06-20T18:49:22.985262Z",
     "iopub.status.busy": "2021-06-20T18:49:22.985262Z",
     "iopub.status.idle": "2021-06-20T18:49:22.987263Z",
     "shell.execute_reply": "2021-06-20T18:49:22.987263Z"
    }
   },
   "outputs": [
    {
     "data": {
      "text/plain": [
       "Bus(control, ids=[512, 513])"
      ]
     },
     "execution_count": 1,
     "metadata": {},
     "output_type": "execute_result"
    }
   ],
   "source": [
    "buses.set(1, 1)"
   ]
  },
  {
   "cell_type": "code",
   "execution_count": 19,
   "metadata": {
    "execution": {
     "iopub.execute_input": "2021-06-20T18:49:22.990263Z",
     "iopub.status.busy": "2021-06-20T18:49:22.990263Z",
     "iopub.status.idle": "2021-06-20T18:49:22.993262Z",
     "shell.execute_reply": "2021-06-20T18:49:22.993262Z"
    }
   },
   "outputs": [
    {
     "data": {
      "text/plain": [
       "Bus(control, ids=[512, 513])"
      ]
     },
     "execution_count": 1,
     "metadata": {},
     "output_type": "execute_result"
    }
   ],
   "source": [
    "buses.set(1, 2)"
   ]
  },
  {
   "cell_type": "code",
   "execution_count": 20,
   "metadata": {
    "execution": {
     "iopub.execute_input": "2021-06-20T18:49:22.996263Z",
     "iopub.status.busy": "2021-06-20T18:49:22.995263Z",
     "iopub.status.idle": "2021-06-20T18:49:23.001262Z",
     "shell.execute_reply": "2021-06-20T18:49:23.001262Z"
    }
   },
   "outputs": [
    {
     "data": {
      "text/plain": [
       "[1.0, 2.0]"
      ]
     },
     "execution_count": 1,
     "metadata": {},
     "output_type": "execute_result"
    }
   ],
   "source": [
    "buses.get()"
   ]
  },
  {
   "cell_type": "code",
   "execution_count": 21,
   "metadata": {
    "execution": {
     "iopub.execute_input": "2021-06-20T18:49:23.004263Z",
     "iopub.status.busy": "2021-06-20T18:49:23.003264Z",
     "iopub.status.idle": "2021-06-20T18:49:23.006262Z",
     "shell.execute_reply": "2021-06-20T18:49:23.006262Z"
    }
   },
   "outputs": [
    {
     "data": {
      "text/plain": [
       "<Synth(20002) 'busMulti' f {}>"
      ]
     },
     "execution_count": 1,
     "metadata": {},
     "output_type": "execute_result"
    }
   ],
   "source": [
    "syn.free()"
   ]
  },
  {
   "cell_type": "code",
   "execution_count": 22,
   "metadata": {
    "execution": {
     "iopub.execute_input": "2021-06-20T18:49:23.009262Z",
     "iopub.status.busy": "2021-06-20T18:49:23.008262Z",
     "iopub.status.idle": "2021-06-20T18:49:23.010263Z",
     "shell.execute_reply": "2021-06-20T18:49:23.010263Z"
    }
   },
   "outputs": [],
   "source": [
    "buses.free()"
   ]
  },
  {
   "cell_type": "code",
   "execution_count": 23,
   "metadata": {
    "execution": {
     "iopub.execute_input": "2021-06-20T18:49:23.013262Z",
     "iopub.status.busy": "2021-06-20T18:49:23.012262Z",
     "iopub.status.idle": "2021-06-20T18:49:23.070445Z",
     "shell.execute_reply": "2021-06-20T18:49:23.070445Z"
    }
   },
   "outputs": [],
   "source": [
    "sc.server.free_all()"
   ]
  },
  {
   "cell_type": "code",
   "execution_count": 24,
   "metadata": {
    "execution": {
     "iopub.execute_input": "2021-06-20T18:49:23.073445Z",
     "iopub.status.busy": "2021-06-20T18:49:23.072444Z",
     "iopub.status.idle": "2021-06-20T18:49:24.249733Z",
     "shell.execute_reply": "2021-06-20T18:49:24.249733Z"
    }
   },
   "outputs": [],
   "source": [
    "sc.exit()"
   ]
  },
  {
   "cell_type": "code",
   "execution_count": null,
   "metadata": {},
   "outputs": [],
   "source": []
  }
 ],
 "metadata": {
  "language_info": {
   "codemirror_mode": {
    "name": "ipython",
    "version": 3
   },
   "file_extension": ".py",
   "mimetype": "text/x-python",
   "name": "python",
   "nbconvert_exporter": "python",
   "pygments_lexer": "ipython3",
   "version": "3.7.10"
  }
 },
 "nbformat": 4,
 "nbformat_minor": 4
}
