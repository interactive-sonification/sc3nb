{
 "cells": [
  {
   "cell_type": "markdown",
   "metadata": {},
   "source": [
    "# sc3nb – SuperCollider3 for python / jupyter notebooks\n",
    "\n",
    "* * *\n",
    "\n",
    "\n",
    "sc3nb is a python package that offers an interface to SuperCollider3. \n",
    "\n",
    "The goal of sc3nb is to facilitate the programming of auditory displays and interactive sonifications by\n",
    "- teaming up python (and particularly numpy, scipy, pandas, matplotlib etc.) for data science\n",
    "- and SuperCollider3 for interactive real-time sound rendering.\n",
    "\n",
    "\n",
    "It currently allows to..\n",
    "\n",
    "- start and control the SuperCollider audio server (scsynth)\n",
    "  - The SuperCollider audio server can be started and addressed via a python SuperCollider Server implementation or via OSC messages directly.\n",
    "  - There are many Python implementations of Classes from SuperCollider like `Synth`, `SynthDef`, `Buffer` and `Bus`\n",
    "\n",
    "- use the SuperCollider language (sclang) interactively via a subprocess\n",
    "  - You can write SuperCollider language code in Jupyter Notebooks and let sclang evaluate it.\n",
    "  - Inject python variables into your sclang code and even get the results of the sclang code in python\n",
    "\n",
    "\n",
    "\n",
    "\n",
    "sc3nb can be used for\n",
    "\n",
    "- multi-channel audio processing\n",
    "- auditory display and sonification\n",
    "- sound synthesis experiment\n",
    "- audio applications in general such as games or GUI-enhancements\n",
    "- signal analysis and plotting\n",
    "- computer music and just in time music control\n",
    "- any usecase that the SuperCollider 3 language supports\n",
    "\n",
    "\n",
    "It is meant to grow into a backend for a sonification package, and can be used both from jupyter and in standard python software development.\n",
    "\n",
    "sc3nb is hosted at GitHub https://github.com/interactive-sonification/sc3nb"
   ]
  },
  {
   "cell_type": "markdown",
   "metadata": {},
   "source": [
    "## Getting Started"
   ]
  },
  {
   "cell_type": "markdown",
   "metadata": {},
   "source": [
    "### Installing sc3nb\n",
    "\n",
    "- To use sc3nb you need a installation of SuperCollider on your system. See https://supercollider.github.io/download for instructions.\n",
    "- To install sc3nb you can\n",
    "  - install it locally in editable mode (i.e. changes to sc3nb code will automatically be \"re-installed\"). \n",
    "    - clone the repository from https://github.com/interactive-sonification/sc3nb\n",
    "    -  from inside the sc3nb directory run `pip install -e .`\n",
    "  - or install it directly from GitHub using `pip install git+git://github.com/interactive-sonification/sc3nb@master`\n",
    "\n",
    "However we are currently making sure that sc3nb can also be installed via `pip install sc3nb` from PyPI"
   ]
  },
  {
   "cell_type": "markdown",
   "metadata": {},
   "source": [
    "### Starting sc3nb"
   ]
  },
  {
   "cell_type": "code",
   "execution_count": 1,
   "metadata": {
    "execution": {
     "iopub.execute_input": "2021-06-20T14:47:10.872237Z",
     "iopub.status.busy": "2021-06-20T14:47:10.871238Z",
     "iopub.status.idle": "2021-06-20T14:47:11.067238Z",
     "shell.execute_reply": "2021-06-20T14:47:11.068236Z"
    }
   },
   "outputs": [],
   "source": [
    "import sc3nb as scn"
   ]
  },
  {
   "cell_type": "markdown",
   "metadata": {},
   "source": [
    "To startup sc3nb (sclang, scsynth, and a python OSC server) use `startup`"
   ]
  },
  {
   "cell_type": "code",
   "execution_count": 2,
   "metadata": {
    "execution": {
     "iopub.execute_input": "2021-06-20T14:47:11.076241Z",
     "iopub.status.busy": "2021-06-20T14:47:11.076241Z",
     "iopub.status.idle": "2021-06-20T14:47:15.144629Z",
     "shell.execute_reply": "2021-06-20T14:47:15.144629Z"
    }
   },
   "outputs": [
    {
     "data": {
      "application/javascript": [
       "if (typeof Jupyter !== 'undefined') {\n",
       "                        Jupyter.keyboard_manager.command_shortcuts.add_shortcut(\n",
       "                        'Ctrl-.', {\n",
       "                        help : 'Free all nodes on SC server',\n",
       "                        help_index : 'zz',\n",
       "                        handler : function (event) {\n",
       "                            IPython.notebook.kernel.execute(\n",
       "                                \"import sc3nb; sc3nb.SC.get_default().server.free_all(root=True)\"\n",
       "                            )\n",
       "                            return true;}\n",
       "                        });\n",
       "                    }"
      ],
      "text/plain": [
       "<IPython.core.display.Javascript object>"
      ]
     },
     "metadata": {},
     "output_type": "display_data"
    },
    {
     "name": "stdout",
     "output_type": "stream",
     "text": [
      "Starting sclang process...\n"
     ]
    },
    {
     "name": "stdout",
     "output_type": "stream",
     "text": [
      "Done.\n",
      "Registering OSC /return callback in sclang...\n",
      "Done.\n",
      "Loading default SynthDescs\n",
      "Done.\n",
      "Booting SuperCollider Server...\n"
     ]
    },
    {
     "name": "stdout",
     "output_type": "stream",
     "text": [
      "Done.\n"
     ]
    }
   ],
   "source": [
    "sc = scn.startup()  # optionally specify arg sclang_path=\"/path/to/sclang\""
   ]
  },
  {
   "cell_type": "markdown",
   "metadata": {},
   "source": [
    "You can produce a test sound with `blip`, which should relax any tensions whether the server is up and running. This sound should be played by the default server start."
   ]
  },
  {
   "cell_type": "code",
   "execution_count": 3,
   "metadata": {
    "execution": {
     "iopub.execute_input": "2021-06-20T14:47:15.149629Z",
     "iopub.status.busy": "2021-06-20T14:47:15.147629Z",
     "iopub.status.idle": "2021-06-20T14:47:15.152629Z",
     "shell.execute_reply": "2021-06-20T14:47:15.152629Z"
    }
   },
   "outputs": [],
   "source": [
    "sc.server.blip()"
   ]
  },
  {
   "cell_type": "markdown",
   "metadata": {},
   "source": [
    "`sc` provides you the interfaces for\n",
    "\n",
    "* `scsynth` via `sc.server`\n",
    "* `sclang` via `sc.lang`"
   ]
  },
  {
   "cell_type": "markdown",
   "metadata": {},
   "source": [
    "**Configuration of sc3nb startup**:\n",
    "\n",
    "- If the executables are not in `$PATH`, you can specify them with `sclang_path` / `scsynth_path` e.g. `sclang_path=\"/path/to/sclang-containing-dir/sclang\"`\n",
    "\n",
    "  - On macOS they reside in `/Applications/SuperCollider.app/Contents` in the folders MacOS and Resources. <br>\n",
    "  To add these paths to your `$PATH`, simply add to your ~/.profile, e.g. (please adapt to your installation): <br>\n",
    "  `PATH=$PATH:/Applications/SuperCollider.app/Contents/MacOS:/Applications/SuperCollider.app/Contents/Resources`  \n",
    "  - On Windows they reside in your Installation folder f.e `C:\\Program Files\\SuperCollider-3.x.x`\n",
    "\n",
    "* You could also only use **scsynth** and don't start **sclang** with `start_sclang=False`\n",
    "* See `help(scn.startup)` for all options"
   ]
  },
  {
   "cell_type": "code",
   "execution_count": 4,
   "metadata": {
    "execution": {
     "iopub.execute_input": "2021-06-20T14:47:15.156630Z",
     "iopub.status.busy": "2021-06-20T14:47:15.155629Z",
     "iopub.status.idle": "2021-06-20T14:47:15.157648Z",
     "shell.execute_reply": "2021-06-20T14:47:15.158630Z"
    }
   },
   "outputs": [],
   "source": [
    "# help(scn.startup)"
   ]
  },
  {
   "cell_type": "markdown",
   "metadata": {},
   "source": [
    "## Basic examples"
   ]
  },
  {
   "cell_type": "markdown",
   "metadata": {},
   "source": [
    "Create and control SuperCollider Synths"
   ]
  },
  {
   "cell_type": "code",
   "execution_count": 5,
   "metadata": {
    "execution": {
     "iopub.execute_input": "2021-06-20T14:47:15.161629Z",
     "iopub.status.busy": "2021-06-20T14:47:15.161629Z",
     "iopub.status.idle": "2021-06-20T14:47:15.173629Z",
     "shell.execute_reply": "2021-06-20T14:47:15.173629Z"
    }
   },
   "outputs": [
    {
     "data": {
      "text/plain": [
       "<Synth(20001) 'default' s {}>"
      ]
     },
     "execution_count": 1,
     "metadata": {},
     "output_type": "execute_result"
    }
   ],
   "source": [
    "syn = scn.Synth()\n",
    "syn"
   ]
  },
  {
   "cell_type": "code",
   "execution_count": 6,
   "metadata": {
    "execution": {
     "iopub.execute_input": "2021-06-20T14:47:15.177629Z",
     "iopub.status.busy": "2021-06-20T14:47:15.177629Z",
     "iopub.status.idle": "2021-06-20T14:47:15.181629Z",
     "shell.execute_reply": "2021-06-20T14:47:15.181629Z"
    }
   },
   "outputs": [
    {
     "data": {
      "text/plain": [
       "<Synth(20001) 'default' s {'freq': 800}>"
      ]
     },
     "execution_count": 1,
     "metadata": {},
     "output_type": "execute_result"
    }
   ],
   "source": [
    "syn.freq = 800\n",
    "syn"
   ]
  },
  {
   "cell_type": "code",
   "execution_count": 7,
   "metadata": {
    "execution": {
     "iopub.execute_input": "2021-06-20T14:47:15.187629Z",
     "iopub.status.busy": "2021-06-20T14:47:15.186629Z",
     "iopub.status.idle": "2021-06-20T14:47:15.191630Z",
     "shell.execute_reply": "2021-06-20T14:47:15.190629Z"
    }
   },
   "outputs": [
    {
     "data": {
      "text/plain": [
       "<Synth(20001) 'default' f {'freq': 800}>"
      ]
     },
     "execution_count": 1,
     "metadata": {},
     "output_type": "execute_result"
    }
   ],
   "source": [
    "syn.free()"
   ]
  },
  {
   "cell_type": "markdown",
   "metadata": {},
   "source": [
    "Send SynthDefs with python code injection"
   ]
  },
  {
   "cell_type": "code",
   "execution_count": 8,
   "metadata": {
    "execution": {
     "iopub.execute_input": "2021-06-20T14:47:15.195664Z",
     "iopub.status.busy": "2021-06-20T14:47:15.195664Z",
     "iopub.status.idle": "2021-06-20T14:47:15.232630Z",
     "shell.execute_reply": "2021-06-20T14:47:15.232630Z"
    }
   },
   "outputs": [
    {
     "data": {
      "text/plain": [
       "<Synth(20002) 'random' s {}>"
      ]
     },
     "execution_count": 1,
     "metadata": {},
     "output_type": "execute_result"
    }
   ],
   "source": [
    "synth_dur = 0.5  # you can use python variable values in SynthDefs\n",
    "synth_def = scn.SynthDef('random', \"\"\"{ |out|\n",
    "Out.ar(out, SinOsc.ar(Rand(400, 800), 0, 0.2) * Line.kr(1, 0, ^synth_dur, doneAction: Done.freeSelf))\n",
    "}\"\"\")\n",
    "synth_def.add()\n",
    "\n",
    "scn.Synth(\"random\")"
   ]
  },
  {
   "cell_type": "markdown",
   "metadata": {},
   "source": [
    "Load File as Buffer and play it"
   ]
  },
  {
   "cell_type": "code",
   "execution_count": 9,
   "metadata": {
    "execution": {
     "iopub.execute_input": "2021-06-20T14:47:15.235630Z",
     "iopub.status.busy": "2021-06-20T14:47:15.234630Z",
     "iopub.status.idle": "2021-06-20T14:47:15.283631Z",
     "shell.execute_reply": "2021-06-20T14:47:15.284629Z"
    }
   },
   "outputs": [
    {
     "data": {
      "text/plain": [
       "<Buffer(128) on ('127.0.0.1', 57110): 2 x 43008 @ 44100 Hz = 0.975s allocated using mode 'file'>"
      ]
     },
     "execution_count": 1,
     "metadata": {},
     "output_type": "execute_result"
    }
   ],
   "source": [
    "buf = scn.Buffer().read(\"./media/blip.wav\")\n",
    "buf"
   ]
  },
  {
   "cell_type": "code",
   "execution_count": 10,
   "metadata": {
    "execution": {
     "iopub.execute_input": "2021-06-20T14:47:15.287630Z",
     "iopub.status.busy": "2021-06-20T14:47:15.287630Z",
     "iopub.status.idle": "2021-06-20T14:47:15.316629Z",
     "shell.execute_reply": "2021-06-20T14:47:15.316629Z"
    }
   },
   "outputs": [
    {
     "data": {
      "text/plain": [
       "<Synth(20003) 'sc3nb_playbuf_128' s {}>"
      ]
     },
     "execution_count": 1,
     "metadata": {},
     "output_type": "execute_result"
    }
   ],
   "source": [
    "buf.play()"
   ]
  },
  {
   "cell_type": "code",
   "execution_count": 11,
   "metadata": {
    "execution": {
     "iopub.execute_input": "2021-06-20T14:47:15.319629Z",
     "iopub.status.busy": "2021-06-20T14:47:15.319629Z",
     "iopub.status.idle": "2021-06-20T14:47:16.468688Z",
     "shell.execute_reply": "2021-06-20T14:47:16.468688Z"
    }
   },
   "outputs": [
    {
     "name": "stdout",
     "output_type": "stream",
     "text": [
      "(43008, 2)\n"
     ]
    },
    {
     "data": {
      "text/plain": [
       "array([[-0.00189209, -0.00189209],\n",
       "       [-0.00430298, -0.00430298],\n",
       "       [-0.00708008, -0.00708008],\n",
       "       ...,\n",
       "       [ 0.19314575,  0.19314575],\n",
       "       [ 0.18963623,  0.18963623],\n",
       "       [ 0.18585205,  0.18585205]])"
      ]
     },
     "execution_count": 1,
     "metadata": {},
     "output_type": "execute_result"
    }
   ],
   "source": [
    "buffer_data = buf.to_array()\n",
    "print(buffer_data.shape)\n",
    "buffer_data"
   ]
  },
  {
   "cell_type": "markdown",
   "metadata": {},
   "source": [
    "Create OSC Bundles"
   ]
  },
  {
   "cell_type": "code",
   "execution_count": 12,
   "metadata": {
    "execution": {
     "iopub.execute_input": "2021-06-20T14:47:16.472687Z",
     "iopub.status.busy": "2021-06-20T14:47:16.471688Z",
     "iopub.status.idle": "2021-06-20T14:47:16.474688Z",
     "shell.execute_reply": "2021-06-20T14:47:16.474688Z"
    }
   },
   "outputs": [],
   "source": [
    "with sc.server.bundler() as bundler:\n",
    "    scn.Synth(\"random\")\n",
    "    bundler.wait(0.2)\n",
    "    scn.Synth(\"random\")\n",
    "    bundler.wait(0.5)"
   ]
  },
  {
   "cell_type": "markdown",
   "metadata": {},
   "source": [
    "Execute SuperCollider Language Code"
   ]
  },
  {
   "cell_type": "code",
   "execution_count": 13,
   "metadata": {
    "execution": {
     "iopub.execute_input": "2021-06-20T14:47:16.477688Z",
     "iopub.status.busy": "2021-06-20T14:47:16.476688Z",
     "iopub.status.idle": "2021-06-20T14:47:16.487689Z",
     "shell.execute_reply": "2021-06-20T14:47:16.487689Z"
    }
   },
   "outputs": [
    {
     "name": "stdout",
     "output_type": "stream",
     "text": [
      "-> esgg\n"
     ]
    }
   ],
   "source": [
    "breakfast = \"eggs\"\n",
    "sc.lang.cmdv('^breakfast.scramble;')"
   ]
  },
  {
   "cell_type": "markdown",
   "metadata": {},
   "source": [
    "Get results from SuperCollider Language in python"
   ]
  },
  {
   "cell_type": "code",
   "execution_count": 14,
   "metadata": {
    "execution": {
     "iopub.execute_input": "2021-06-20T14:47:16.491692Z",
     "iopub.status.busy": "2021-06-20T14:47:16.491692Z",
     "iopub.status.idle": "2021-06-20T14:47:16.500688Z",
     "shell.execute_reply": "2021-06-20T14:47:16.499688Z"
    }
   },
   "outputs": [
    {
     "name": "stdout",
     "output_type": "stream",
     "text": [
      "-> [ 1, 2, 3, 4, 5 ]\n",
      "received [1, 2, 3, 4, 5] with type <class 'list'>\n"
     ]
    }
   ],
   "source": [
    "x = 5\n",
    "value = %scg (1..^x)\n",
    "print(f\"received {value} with type {type(value)}\")"
   ]
  },
  {
   "cell_type": "markdown",
   "metadata": {},
   "source": [
    "OSC messaging : e.g. free sclang Synth with OSC message"
   ]
  },
  {
   "cell_type": "code",
   "execution_count": 15,
   "metadata": {
    "execution": {
     "iopub.execute_input": "2021-06-20T14:47:16.505687Z",
     "iopub.status.busy": "2021-06-20T14:47:16.504688Z",
     "iopub.status.idle": "2021-06-20T14:47:16.510688Z",
     "shell.execute_reply": "2021-06-20T14:47:16.511687Z"
    }
   },
   "outputs": [
    {
     "name": "stdout",
     "output_type": "stream",
     "text": [
      "-> 1000\n"
     ]
    }
   ],
   "source": [
    "nodeid = %scg x = Synth(\"default\"); x.nodeID;"
   ]
  },
  {
   "cell_type": "code",
   "execution_count": 16,
   "metadata": {
    "execution": {
     "iopub.execute_input": "2021-06-20T14:47:16.516687Z",
     "iopub.status.busy": "2021-06-20T14:47:16.515687Z",
     "iopub.status.idle": "2021-06-20T14:47:16.519688Z",
     "shell.execute_reply": "2021-06-20T14:47:16.519688Z"
    }
   },
   "outputs": [],
   "source": [
    "sc.server.msg(\"/n_free\", nodeid)"
   ]
  },
  {
   "cell_type": "markdown",
   "metadata": {},
   "source": [
    "## Further informations\n",
    "\n",
    "For more details on the specific parts please refer to the User Guide.\n",
    "\n",
    "- [SuperCollider Language **sclang**](./sclang-examples.ipynb)\n",
    "\n",
    "- Usage of the SuperCollider Objects python interface\n",
    "  - [Server](./supercollider-objects/server-examples.ipynb)\n",
    "  - [Nodes (Synth and Group)](./supercollider-objects/node-examples.ipynb)\n",
    "  - [SynthDef](./supercollider-objects/synthdef-examples.ipynb)\n",
    "  - [Buffer](./supercollider-objects/buffer-examples.ipynb)\n",
    "  - [Bus](./supercollider-objects/bus-examples.ipynb)\n",
    "  - [Recorder](./supercollider-objects/recorder-examples.ipynb)\n",
    "\n",
    "\n",
    "- Usage of common SuperCollider functions [Helpers](./helper-examples.ipynb)\n",
    "- Usage of OSC in SuperCollider: [OSC Communication](./osc-communication-example.ipynb)"
   ]
  },
  {
   "cell_type": "markdown",
   "metadata": {},
   "source": [
    "## How does this work?\n",
    "\n",
    "- **sclang** and **scsynth** are started as subprocesses and their outputs are collected. \n",
    "- **scsynth** is then controlled via OSC\n",
    "  * Direct control of the server shortcuts the detour via sclang and is both more efficient and promises a lower latency\n",
    "- **sclang** communication is done with pipes (bi-directional) and with OSC for receiving return values"
   ]
  },
  {
   "cell_type": "markdown",
   "metadata": {},
   "source": [
    "## Caveats and Problems\n",
    "\n",
    "We strongly encourage you to share any problems that arise using sc3nb with us.\n",
    "\n",
    "There are some things to consider when using sc3nb.\n",
    "\n",
    "\n",
    "- The shortcut `ctrl/cmd + .` does currently only work in classic Jupyter notebooks, yet not in JupyterLab. It also will import sc3nb as `sc3nb` and thus you should avoid variables with the name `sc3nb`.\n",
    "- We depend on the output to stdout of sclang and scsynth in some cases such as the startup of the server - or more obviously - for the sclang output when using `cmd()` with verbosity. This means if some language settings or updates of sclang/scsynth change the outputs to something that we don't expect, stuff will fail. However this should be quite easy to patch.\n",
    "- There is a bug in Jupyter (https://github.com/jupyter/jupyter_client/issues/104) that does leave sclang and scsynth running when restarting the Jupyter kernel. However calling `exit()` on the SC instance will kill them. To avoid conflicts with orphaned sclangs/scsynths we also look for leftover sclang/scsynth processes on starting either of them and we try to kill them. This might lead to killing sclang or scsynth processes that you wanted to keep alive. However, you can specify which parent processes are allowed for sclang/scsynth processes using the `allowed_parents` parameter.\n",
    "- The SuperCollider objects are currently not guaranteed to be thread-safe, with the exception of Node (Synth & Group)\n",
    "- Another thing about SuperCollider in general is, to keep in mind that there are limits in the network communication: currently we only support UDP and therefore have the corresponding limits. As an example, a Bundler will simply fail when you try to send too many messages."
   ]
  },
  {
   "cell_type": "markdown",
   "metadata": {},
   "source": [
    "## Useful Resources\n",
    "\n",
    "For more information about SuperCollider, check out the following links:\n",
    "\n",
    "- [SuperCollider website](https://supercollider.github.io/)\n",
    "- [SuperCollider on GitHub](https://github.com/supercollider/supercollider)\n",
    "\n",
    "\n",
    "- [SuperCollider documentation and help](https://doc.sccode.org/)\n",
    "  - [Client vs Server](https://doc.sccode.org/Guides/ClientVsServer.html)\n",
    "  - [Server Architecture - Main Design Concepts](https://doc.sccode.org/Reference/Server-Architecture.html)\n",
    "  - [Server Command Reference](https://doc.sccode.org/Reference/Server-Command-Reference.html)\n",
    "  - [Server Guide](https://doc.sccode.org/Guides/Server-Guide.html)\n",
    "  - [Multi-client Setups](https://doc.sccode.org/Guides/MultiClient_Setups.html)\n",
    "  - [OSC Communication](https://doc.sccode.org/Guides/OSC_communication.html)\n",
    "\n",
    "\n",
    "- SuperCollider Language\n",
    "   - [sclang Startup File](https://doc.sccode.org/Reference/StartupFile.html)\n",
    "   - [Symbolic Notations](https://doc.sccode.org/Overviews/SymbolicNotations.html)\n",
    "   - [Operators](https://doc.sccode.org/Overviews/Operators.html)\n",
    "   - [Syntax Shortcuts](https://doc.sccode.org/Reference/Syntax-Shortcuts.html)\n"
   ]
  },
  {
   "cell_type": "code",
   "execution_count": 17,
   "metadata": {
    "execution": {
     "iopub.execute_input": "2021-06-20T14:47:16.524687Z",
     "iopub.status.busy": "2021-06-20T14:47:16.523697Z",
     "iopub.status.idle": "2021-06-20T14:47:17.727077Z",
     "shell.execute_reply": "2021-06-20T14:47:17.727077Z"
    }
   },
   "outputs": [],
   "source": [
    "sc.exit()  # To shut down the server and sclang subprocesses"
   ]
  }
 ],
 "metadata": {
  "hide_input": false,
  "language_info": {
   "codemirror_mode": {
    "name": "ipython",
    "version": 3
   },
   "file_extension": ".py",
   "mimetype": "text/x-python",
   "name": "python",
   "nbconvert_exporter": "python",
   "pygments_lexer": "ipython3",
   "version": "3.7.10"
  },
  "toc": {
   "base_numbering": 1,
   "nav_menu": {},
   "number_sections": true,
   "sideBar": true,
   "skip_h1_title": true,
   "title_cell": "Table of Contents",
   "title_sidebar": "Contents",
   "toc_cell": false,
   "toc_position": {},
   "toc_section_display": true,
   "toc_window_display": false
  }
 },
 "nbformat": 4,
 "nbformat_minor": 4
}
