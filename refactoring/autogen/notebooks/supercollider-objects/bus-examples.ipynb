{
 "cells": [
  {
   "cell_type": "markdown",
   "metadata": {},
   "source": [
    "# Bus"
   ]
  },
  {
   "cell_type": "code",
   "execution_count": 1,
   "metadata": {
    "execution": {
     "iopub.execute_input": "2021-06-10T20:24:14.074976Z",
     "iopub.status.busy": "2021-06-10T20:24:14.074976Z",
     "iopub.status.idle": "2021-06-10T20:24:14.249976Z",
     "shell.execute_reply": "2021-06-10T20:24:14.250978Z"
    }
   },
   "outputs": [],
   "source": [
    "import sc3nb as scn"
   ]
  },
  {
   "cell_type": "code",
   "execution_count": 2,
   "metadata": {
    "execution": {
     "iopub.execute_input": "2021-06-10T20:24:14.258976Z",
     "iopub.status.busy": "2021-06-10T20:24:14.258976Z",
     "iopub.status.idle": "2021-06-10T20:24:17.488948Z",
     "shell.execute_reply": "2021-06-10T20:24:17.488948Z"
    }
   },
   "outputs": [
    {
     "data": {
      "application/javascript": [
       "if (typeof Jupyter !== 'undefined') {\n",
       "                        Jupyter.keyboard_manager.command_shortcuts.add_shortcut(\n",
       "                        'Ctrl-.', {\n",
       "                        help : 'Free all nodes on SC server',\n",
       "                        help_index : 'zz',\n",
       "                        handler : function (event) {\n",
       "                            IPython.notebook.kernel.execute(\n",
       "                                \"import sc3nb; sc3nb.SC.get_default().server.free_all(root=True)\"\n",
       "                            )\n",
       "                            return true;}\n",
       "                        });\n",
       "                    }"
      ],
      "text/plain": [
       "<IPython.core.display.Javascript object>"
      ]
     },
     "metadata": {},
     "output_type": "display_data"
    },
    {
     "name": "stdout",
     "output_type": "stream",
     "text": [
      "Starting sclang process...\n"
     ]
    },
    {
     "name": "stdout",
     "output_type": "stream",
     "text": [
      "Done.\n",
      "Registering OSC /return callback in sclang...\n",
      "Done.\n",
      "Loading default SynthDescs\n",
      "Done.\n",
      "Booting SuperCollider Server...\n"
     ]
    },
    {
     "name": "stdout",
     "output_type": "stream",
     "text": [
      "Done.\n"
     ]
    }
   ],
   "source": [
    "sc = scn.startup()"
   ]
  },
  {
   "cell_type": "markdown",
   "metadata": {},
   "source": [
    "## Using a Control Bus"
   ]
  },
  {
   "cell_type": "code",
   "execution_count": 3,
   "metadata": {
    "execution": {
     "iopub.execute_input": "2021-06-10T20:24:17.492947Z",
     "iopub.status.busy": "2021-06-10T20:24:17.491949Z",
     "iopub.status.idle": "2021-06-10T20:24:17.495360Z",
     "shell.execute_reply": "2021-06-10T20:24:17.495360Z"
    }
   },
   "outputs": [
    {
     "data": {
      "text/plain": [
       "Bus(control, ids=[512])"
      ]
     },
     "execution_count": 1,
     "metadata": {},
     "output_type": "execute_result"
    }
   ],
   "source": [
    "bus = scn.Bus('control')\n",
    "bus"
   ]
  },
  {
   "cell_type": "code",
   "execution_count": 4,
   "metadata": {
    "execution": {
     "iopub.execute_input": "2021-06-10T20:24:17.498324Z",
     "iopub.status.busy": "2021-06-10T20:24:17.498324Z",
     "iopub.status.idle": "2021-06-10T20:24:17.510324Z",
     "shell.execute_reply": "2021-06-10T20:24:17.510324Z"
    }
   },
   "outputs": [
    {
     "data": {
      "text/plain": [
       "0.0"
      ]
     },
     "execution_count": 1,
     "metadata": {},
     "output_type": "execute_result"
    }
   ],
   "source": [
    "bus.get()"
   ]
  },
  {
   "cell_type": "code",
   "execution_count": 5,
   "metadata": {
    "execution": {
     "iopub.execute_input": "2021-06-10T20:24:17.513322Z",
     "iopub.status.busy": "2021-06-10T20:24:17.513322Z",
     "iopub.status.idle": "2021-06-10T20:24:17.524323Z",
     "shell.execute_reply": "2021-06-10T20:24:17.524323Z"
    }
   },
   "outputs": [],
   "source": [
    "syn = scn.Synth(\"s2\")"
   ]
  },
  {
   "cell_type": "markdown",
   "metadata": {},
   "source": [
    "map the frequency of the synth to the bus value"
   ]
  },
  {
   "cell_type": "code",
   "execution_count": 6,
   "metadata": {
    "execution": {
     "iopub.execute_input": "2021-06-10T20:24:17.528323Z",
     "iopub.status.busy": "2021-06-10T20:24:17.528323Z",
     "iopub.status.idle": "2021-06-10T20:24:17.530324Z",
     "shell.execute_reply": "2021-06-10T20:24:17.530324Z"
    }
   },
   "outputs": [
    {
     "data": {
      "text/plain": [
       "<Synth(20001) 's2' ~ {}>"
      ]
     },
     "execution_count": 1,
     "metadata": {},
     "output_type": "execute_result"
    }
   ],
   "source": [
    "syn.map(\"freq\", bus)"
   ]
  },
  {
   "cell_type": "code",
   "execution_count": 7,
   "metadata": {
    "execution": {
     "iopub.execute_input": "2021-06-10T20:24:17.534325Z",
     "iopub.status.busy": "2021-06-10T20:24:17.533324Z",
     "iopub.status.idle": "2021-06-10T20:24:17.536325Z",
     "shell.execute_reply": "2021-06-10T20:24:17.537324Z"
    }
   },
   "outputs": [
    {
     "data": {
      "text/plain": [
       "Bus(control, ids=[512])"
      ]
     },
     "execution_count": 1,
     "metadata": {},
     "output_type": "execute_result"
    }
   ],
   "source": [
    "bus.set(120) # changes synths frequency"
   ]
  },
  {
   "cell_type": "code",
   "execution_count": 8,
   "metadata": {
    "execution": {
     "iopub.execute_input": "2021-06-10T20:24:17.541324Z",
     "iopub.status.busy": "2021-06-10T20:24:17.540326Z",
     "iopub.status.idle": "2021-06-10T20:24:17.544327Z",
     "shell.execute_reply": "2021-06-10T20:24:17.543325Z"
    }
   },
   "outputs": [
    {
     "data": {
      "text/plain": [
       "Bus(control, ids=[512])"
      ]
     },
     "execution_count": 1,
     "metadata": {},
     "output_type": "execute_result"
    }
   ],
   "source": [
    "bus.set(440)"
   ]
  },
  {
   "cell_type": "markdown",
   "metadata": {},
   "source": [
    "Set the frequency value to remove the mapping"
   ]
  },
  {
   "cell_type": "code",
   "execution_count": 9,
   "metadata": {
    "execution": {
     "iopub.execute_input": "2021-06-10T20:24:17.548325Z",
     "iopub.status.busy": "2021-06-10T20:24:17.548325Z",
     "iopub.status.idle": "2021-06-10T20:24:17.551325Z",
     "shell.execute_reply": "2021-06-10T20:24:17.552325Z"
    }
   },
   "outputs": [
    {
     "data": {
      "text/plain": [
       "<Synth(20001) 's2' ~ {'freq': 220}>"
      ]
     },
     "execution_count": 1,
     "metadata": {},
     "output_type": "execute_result"
    }
   ],
   "source": [
    "syn.set(\"freq\", 220)"
   ]
  },
  {
   "cell_type": "code",
   "execution_count": 10,
   "metadata": {
    "execution": {
     "iopub.execute_input": "2021-06-10T20:24:17.555325Z",
     "iopub.status.busy": "2021-06-10T20:24:17.555325Z",
     "iopub.status.idle": "2021-06-10T20:24:17.558329Z",
     "shell.execute_reply": "2021-06-10T20:24:17.558329Z"
    }
   },
   "outputs": [
    {
     "data": {
      "text/plain": [
       "Bus(control, ids=[512])"
      ]
     },
     "execution_count": 1,
     "metadata": {},
     "output_type": "execute_result"
    }
   ],
   "source": [
    "bus.set(440)  # no change"
   ]
  },
  {
   "cell_type": "code",
   "execution_count": 11,
   "metadata": {
    "execution": {
     "iopub.execute_input": "2021-06-10T20:24:17.561324Z",
     "iopub.status.busy": "2021-06-10T20:24:17.561324Z",
     "iopub.status.idle": "2021-06-10T20:24:17.564322Z",
     "shell.execute_reply": "2021-06-10T20:24:17.564322Z"
    }
   },
   "outputs": [
    {
     "data": {
      "text/plain": [
       "<Synth(20001) 's2' ~f {'freq': 220}>"
      ]
     },
     "execution_count": 1,
     "metadata": {},
     "output_type": "execute_result"
    }
   ],
   "source": [
    "syn.free()"
   ]
  },
  {
   "cell_type": "markdown",
   "metadata": {},
   "source": [
    "Free the bus to mark the bus id as available again"
   ]
  },
  {
   "cell_type": "code",
   "execution_count": 12,
   "metadata": {
    "execution": {
     "iopub.execute_input": "2021-06-10T20:24:17.568322Z",
     "iopub.status.busy": "2021-06-10T20:24:17.567324Z",
     "iopub.status.idle": "2021-06-10T20:24:17.570322Z",
     "shell.execute_reply": "2021-06-10T20:24:17.570322Z"
    }
   },
   "outputs": [],
   "source": [
    "bus.free()"
   ]
  },
  {
   "cell_type": "markdown",
   "metadata": {},
   "source": [
    "## Use multiple Control Buses"
   ]
  },
  {
   "cell_type": "code",
   "execution_count": 13,
   "metadata": {
    "execution": {
     "iopub.execute_input": "2021-06-10T20:24:17.573324Z",
     "iopub.status.busy": "2021-06-10T20:24:17.573324Z",
     "iopub.status.idle": "2021-06-10T20:24:17.609339Z",
     "shell.execute_reply": "2021-06-10T20:24:17.609339Z"
    }
   },
   "outputs": [],
   "source": [
    "synth_name = scn.SynthDef(\"busMulti\", \"\"\"{ |out, freqs=#[200, 400], rates=#[1, 2] |\n",
    "    Out.ar(out, Splay.ar(SinOsc.ar(freqs) * Decay2.ar(Impulse.ar(rates), 0.001, 0.1)) * 0.5);\n",
    "}\"\"\").add()"
   ]
  },
  {
   "cell_type": "code",
   "execution_count": 14,
   "metadata": {
    "execution": {
     "iopub.execute_input": "2021-06-10T20:24:17.612338Z",
     "iopub.status.busy": "2021-06-10T20:24:17.612338Z",
     "iopub.status.idle": "2021-06-10T20:24:17.615340Z",
     "shell.execute_reply": "2021-06-10T20:24:17.615340Z"
    }
   },
   "outputs": [
    {
     "data": {
      "text/plain": [
       "Bus(control, ids=[512, 513])"
      ]
     },
     "execution_count": 1,
     "metadata": {},
     "output_type": "execute_result"
    }
   ],
   "source": [
    "buses = scn.Bus(\"control\", 2)\n",
    "buses"
   ]
  },
  {
   "cell_type": "code",
   "execution_count": 15,
   "metadata": {
    "execution": {
     "iopub.execute_input": "2021-06-10T20:24:17.618337Z",
     "iopub.status.busy": "2021-06-10T20:24:17.617338Z",
     "iopub.status.idle": "2021-06-10T20:24:17.628853Z",
     "shell.execute_reply": "2021-06-10T20:24:17.628853Z"
    }
   },
   "outputs": [
    {
     "data": {
      "text/plain": [
       "[0.0, 0.0]"
      ]
     },
     "execution_count": 1,
     "metadata": {},
     "output_type": "execute_result"
    }
   ],
   "source": [
    "buses.get()"
   ]
  },
  {
   "cell_type": "code",
   "execution_count": 16,
   "metadata": {
    "execution": {
     "iopub.execute_input": "2021-06-10T20:24:17.631853Z",
     "iopub.status.busy": "2021-06-10T20:24:17.631853Z",
     "iopub.status.idle": "2021-06-10T20:24:17.641854Z",
     "shell.execute_reply": "2021-06-10T20:24:17.641854Z"
    }
   },
   "outputs": [],
   "source": [
    "syn = scn.Synth(synth_name)"
   ]
  },
  {
   "cell_type": "code",
   "execution_count": 17,
   "metadata": {
    "execution": {
     "iopub.execute_input": "2021-06-10T20:24:17.645853Z",
     "iopub.status.busy": "2021-06-10T20:24:17.645491Z",
     "iopub.status.idle": "2021-06-10T20:24:17.647853Z",
     "shell.execute_reply": "2021-06-10T20:24:17.648853Z"
    }
   },
   "outputs": [
    {
     "data": {
      "text/plain": [
       "<Synth(20002) 'busMulti' s {}>"
      ]
     },
     "execution_count": 1,
     "metadata": {},
     "output_type": "execute_result"
    }
   ],
   "source": [
    "syn.map(\"rates\", buses)"
   ]
  },
  {
   "cell_type": "code",
   "execution_count": 18,
   "metadata": {
    "execution": {
     "iopub.execute_input": "2021-06-10T20:24:17.652856Z",
     "iopub.status.busy": "2021-06-10T20:24:17.651853Z",
     "iopub.status.idle": "2021-06-10T20:24:17.656855Z",
     "shell.execute_reply": "2021-06-10T20:24:17.656855Z"
    }
   },
   "outputs": [
    {
     "data": {
      "text/plain": [
       "Bus(control, ids=[512, 513])"
      ]
     },
     "execution_count": 1,
     "metadata": {},
     "output_type": "execute_result"
    }
   ],
   "source": [
    "buses.set(1, 1)"
   ]
  },
  {
   "cell_type": "code",
   "execution_count": 19,
   "metadata": {
    "execution": {
     "iopub.execute_input": "2021-06-10T20:24:17.660854Z",
     "iopub.status.busy": "2021-06-10T20:24:17.659854Z",
     "iopub.status.idle": "2021-06-10T20:24:17.662853Z",
     "shell.execute_reply": "2021-06-10T20:24:17.663856Z"
    }
   },
   "outputs": [
    {
     "data": {
      "text/plain": [
       "Bus(control, ids=[512, 513])"
      ]
     },
     "execution_count": 1,
     "metadata": {},
     "output_type": "execute_result"
    }
   ],
   "source": [
    "buses.set(1, 2)"
   ]
  },
  {
   "cell_type": "code",
   "execution_count": 20,
   "metadata": {
    "execution": {
     "iopub.execute_input": "2021-06-10T20:24:17.667852Z",
     "iopub.status.busy": "2021-06-10T20:24:17.666852Z",
     "iopub.status.idle": "2021-06-10T20:24:17.679852Z",
     "shell.execute_reply": "2021-06-10T20:24:17.679852Z"
    }
   },
   "outputs": [
    {
     "data": {
      "text/plain": [
       "[1.0, 2.0]"
      ]
     },
     "execution_count": 1,
     "metadata": {},
     "output_type": "execute_result"
    }
   ],
   "source": [
    "buses.get()"
   ]
  },
  {
   "cell_type": "code",
   "execution_count": 21,
   "metadata": {
    "execution": {
     "iopub.execute_input": "2021-06-10T20:24:17.683853Z",
     "iopub.status.busy": "2021-06-10T20:24:17.682852Z",
     "iopub.status.idle": "2021-06-10T20:24:17.684855Z",
     "shell.execute_reply": "2021-06-10T20:24:17.684855Z"
    }
   },
   "outputs": [
    {
     "data": {
      "text/plain": [
       "<Synth(20002) 'busMulti' ~f {}>"
      ]
     },
     "execution_count": 1,
     "metadata": {},
     "output_type": "execute_result"
    }
   ],
   "source": [
    "syn.free()"
   ]
  },
  {
   "cell_type": "code",
   "execution_count": 22,
   "metadata": {
    "execution": {
     "iopub.execute_input": "2021-06-10T20:24:17.687853Z",
     "iopub.status.busy": "2021-06-10T20:24:17.686854Z",
     "iopub.status.idle": "2021-06-10T20:24:17.689852Z",
     "shell.execute_reply": "2021-06-10T20:24:17.689852Z"
    }
   },
   "outputs": [],
   "source": [
    "buses.free()"
   ]
  },
  {
   "cell_type": "code",
   "execution_count": 23,
   "metadata": {
    "execution": {
     "iopub.execute_input": "2021-06-10T20:24:17.692852Z",
     "iopub.status.busy": "2021-06-10T20:24:17.691853Z",
     "iopub.status.idle": "2021-06-10T20:24:17.747852Z",
     "shell.execute_reply": "2021-06-10T20:24:17.748853Z"
    }
   },
   "outputs": [],
   "source": [
    "sc.server.free_all()"
   ]
  },
  {
   "cell_type": "code",
   "execution_count": 24,
   "metadata": {
    "execution": {
     "iopub.execute_input": "2021-06-10T20:24:17.750852Z",
     "iopub.status.busy": "2021-06-10T20:24:17.750852Z",
     "iopub.status.idle": "2021-06-10T20:24:18.904854Z",
     "shell.execute_reply": "2021-06-10T20:24:18.903853Z"
    }
   },
   "outputs": [],
   "source": [
    "sc.exit()"
   ]
  },
  {
   "cell_type": "code",
   "execution_count": null,
   "metadata": {},
   "outputs": [],
   "source": []
  }
 ],
 "metadata": {
  "language_info": {
   "codemirror_mode": {
    "name": "ipython",
    "version": 3
   },
   "file_extension": ".py",
   "mimetype": "text/x-python",
   "name": "python",
   "nbconvert_exporter": "python",
   "pygments_lexer": "ipython3",
   "version": "3.7.10"
  }
 },
 "nbformat": 4,
 "nbformat_minor": 4
}
