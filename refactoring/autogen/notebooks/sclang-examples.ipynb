{
 "cells": [
  {
   "cell_type": "markdown",
   "metadata": {},
   "source": [
    "## Usage of sclang in sc3nb\n",
    "\n",
    "You can send commands and receive data directly from the SuperCollider Language"
   ]
  },
  {
   "cell_type": "code",
   "execution_count": 1,
   "metadata": {
    "execution": {
     "iopub.execute_input": "2021-06-24T17:41:07.757925Z",
     "iopub.status.busy": "2021-06-24T17:41:07.756925Z",
     "iopub.status.idle": "2021-06-24T17:41:07.933926Z",
     "shell.execute_reply": "2021-06-24T17:41:07.933926Z"
    }
   },
   "outputs": [],
   "source": [
    "import time\n",
    "import numpy as np\n",
    "\n",
    "import sc3nb as scn"
   ]
  },
  {
   "cell_type": "code",
   "execution_count": 2,
   "metadata": {
    "execution": {
     "iopub.execute_input": "2021-06-24T17:41:07.941926Z",
     "iopub.status.busy": "2021-06-24T17:41:07.941926Z",
     "iopub.status.idle": "2021-06-24T17:41:11.530514Z",
     "shell.execute_reply": "2021-06-24T17:41:11.530514Z"
    }
   },
   "outputs": [
    {
     "data": {
      "application/javascript": [
       "if (typeof Jupyter !== 'undefined') {\n",
       "                        Jupyter.keyboard_manager.command_shortcuts.add_shortcut(\n",
       "                        'Ctrl-.', {\n",
       "                        help : 'Free all nodes on SC server',\n",
       "                        help_index : 'zz',\n",
       "                        handler : function (event) {\n",
       "                            IPython.notebook.kernel.execute(\n",
       "                                \"import sc3nb; sc3nb.SC.get_default().server.free_all(root=True)\"\n",
       "                            )\n",
       "                            return true;}\n",
       "                        });\n",
       "                    }"
      ],
      "text/plain": [
       "<IPython.core.display.Javascript object>"
      ]
     },
     "metadata": {},
     "output_type": "display_data"
    },
    {
     "name": "stdout",
     "output_type": "stream",
     "text": [
      "Starting sclang process... "
     ]
    },
    {
     "name": "stdout",
     "output_type": "stream",
     "text": [
      "Done.\n",
      "Registering OSC /return callback in sclang... Done.\n",
      "Loading default sc3nb SynthDefs... Done.\n",
      "Booting SuperCollider Server... "
     ]
    },
    {
     "name": "stdout",
     "output_type": "stream",
     "text": [
      "Done.\n"
     ]
    }
   ],
   "source": [
    "sc = scn.startup()"
   ]
  },
  {
   "cell_type": "markdown",
   "metadata": {},
   "source": [
    "### sclang command execution"
   ]
  },
  {
   "cell_type": "markdown",
   "metadata": {},
   "source": [
    "To send sc3 commands (i.e. program strings) to the language, either use the functions\n",
    "- **`cmd()`** normal command sending.\n",
    "- **`cmdv()`** verbose, i.e. returning string is collected and output to notebook ( alias for `cmd(.., verbose=True)` )\n",
    "- **`cmdg()`** send program and get and parse the output ( alias for `cmd(.., get_return=True)` )"
   ]
  },
  {
   "cell_type": "code",
   "execution_count": 3,
   "metadata": {
    "code_folding": [],
    "execution": {
     "iopub.execute_input": "2021-06-24T17:41:11.533503Z",
     "iopub.status.busy": "2021-06-24T17:41:11.533503Z",
     "iopub.status.idle": "2021-06-24T17:41:11.546503Z",
     "shell.execute_reply": "2021-06-24T17:41:11.546503Z"
    }
   },
   "outputs": [
    {
     "name": "stdout",
     "output_type": "stream",
     "text": [
      "hello\n",
      "-> hello\n"
     ]
    }
   ],
   "source": [
    "# sc.cmd(cmdstr, pyvars)\n",
    "sc.lang.cmd('\"hello\".postln')  # check jupyter console for output"
   ]
  },
  {
   "cell_type": "markdown",
   "metadata": {},
   "source": [
    "use cmdv If sclang output should be displayed as cell output"
   ]
  },
  {
   "cell_type": "code",
   "execution_count": 4,
   "metadata": {
    "code_folding": [],
    "execution": {
     "iopub.execute_input": "2021-06-24T17:41:11.549505Z",
     "iopub.status.busy": "2021-06-24T17:41:11.549505Z",
     "iopub.status.idle": "2021-06-24T17:41:11.562503Z",
     "shell.execute_reply": "2021-06-24T17:41:11.562503Z"
    }
   },
   "outputs": [
    {
     "name": "stdout",
     "output_type": "stream",
     "text": [
      "sc3nb\n",
      "-> sc3nb\n"
     ]
    }
   ],
   "source": [
    "sc.lang.cmdv('\"sc3nb\".postln')  # also check jupyter console for output"
   ]
  },
  {
   "cell_type": "markdown",
   "metadata": {},
   "source": [
    "or use the corresponding Magics in Jupyter\n",
    "\n",
    "* Jupyter line magics **%sc, %scv, %scg, %scgv, %scgs, %scs**\n",
    "* Jupyter cell magics **%%sc, %%scv, %%scg, %%scgv, %%scgs, %%scs**\n",
    "\n",
    "which wrap the above functions: (v=verbose, g=get, s=silent, verbose is default, so %sc=%scv)\n",
    "See examples below"
   ]
  },
  {
   "cell_type": "markdown",
   "metadata": {},
   "source": [
    "Cell magics can be placed within code just as the function calls as shown here:"
   ]
  },
  {
   "cell_type": "code",
   "execution_count": 5,
   "metadata": {
    "execution": {
     "iopub.execute_input": "2021-06-24T17:41:11.569504Z",
     "iopub.status.busy": "2021-06-24T17:41:11.568504Z",
     "iopub.status.idle": "2021-06-24T17:41:14.439479Z",
     "shell.execute_reply": "2021-06-24T17:41:14.439479Z"
    }
   },
   "outputs": [
    {
     "name": "stdout",
     "output_type": "stream",
     "text": [
      "-> Synth('default' : 1000)\n"
     ]
    },
    {
     "name": "stdout",
     "output_type": "stream",
     "text": [
      "-> Synth('default' : 1000)\n"
     ]
    }
   ],
   "source": [
    "%sc x = Synth.new(\\default, [\\freq, 100])\n",
    "for p in range(1, 10):  # a bouncing ball\n",
    "    %scs Synth.new(\\s1, [\\freq, 200])  // this is sc cell so use sc3 comments instead of # \n",
    "    time.sleep(1/p)\n",
    "# NOTE: Windows needs delay between sclang inputs, so use sleep\n",
    "%sc x.free "
   ]
  },
  {
   "cell_type": "markdown",
   "metadata": {},
   "source": [
    "Use raw python strings for multi-line sc3-programs:"
   ]
  },
  {
   "cell_type": "code",
   "execution_count": 6,
   "metadata": {
    "execution": {
     "iopub.execute_input": "2021-06-24T17:41:14.443480Z",
     "iopub.status.busy": "2021-06-24T17:41:14.442477Z",
     "iopub.status.idle": "2021-06-24T17:41:14.456483Z",
     "shell.execute_reply": "2021-06-24T17:41:14.456483Z"
    }
   },
   "outputs": [
    {
     "name": "stdout",
     "output_type": "stream",
     "text": [
      "-> a Routine\n"
     ]
    }
   ],
   "source": [
    "sc.lang.cmd(r\"\"\"\n",
    "Routine({\n",
    "    x = 10.collect{ |i|\n",
    "        0.2.wait;\n",
    "        Synth.new(\\default, [\\freq, 50+(50*i)]);\n",
    "    };\n",
    "    1.wait;\n",
    "    x.do{|e| \n",
    "        e.release;\n",
    "        0.1.wait;};\n",
    "}).play;\n",
    "\"\"\")"
   ]
  },
  {
   "cell_type": "markdown",
   "metadata": {},
   "source": [
    "alternatively, you can use the cell magic:"
   ]
  },
  {
   "cell_type": "code",
   "execution_count": 7,
   "metadata": {
    "execution": {
     "iopub.execute_input": "2021-06-24T17:41:14.459477Z",
     "iopub.status.busy": "2021-06-24T17:41:14.459477Z",
     "iopub.status.idle": "2021-06-24T17:41:14.465476Z",
     "shell.execute_reply": "2021-06-24T17:41:14.465476Z"
    }
   },
   "outputs": [
    {
     "name": "stdout",
     "output_type": "stream",
     "text": [
      "-> a Routine\n"
     ]
    }
   ],
   "source": [
    "%%sc\n",
    "Routine({\n",
    "    x = 5.collect{ |i|\n",
    "        0.2.wait;\n",
    "        Synth.new(\\default, [\\freq, 50+(50*i)]);\n",
    "    };\n",
    "    1.wait;\n",
    "    x.do{|e| \n",
    "        e.release;\n",
    "        0.1.wait;};\n",
    "}).play;"
   ]
  },
  {
   "cell_type": "markdown",
   "metadata": {},
   "source": [
    "Note that the code is executed in sclang and python is returning directly after sending the command."
   ]
  },
  {
   "cell_type": "markdown",
   "metadata": {},
   "source": [
    "### sclang command execution with python variable injection"
   ]
  },
  {
   "cell_type": "markdown",
   "metadata": {},
   "source": [
    "Python variables can be injected into sc3 commands by using the ^ special: The following examples demonstrates it by setting frequencies by using python variables"
   ]
  },
  {
   "cell_type": "code",
   "execution_count": 8,
   "metadata": {
    "execution": {
     "iopub.execute_input": "2021-06-24T17:41:14.471480Z",
     "iopub.status.busy": "2021-06-24T17:41:14.470492Z",
     "iopub.status.idle": "2021-06-24T17:41:17.084708Z",
     "shell.execute_reply": "2021-06-24T17:41:17.084708Z"
    }
   },
   "outputs": [],
   "source": [
    "for p in range(1, 50):  # a tone ladder\n",
    "    freq = 50 + p*3\n",
    "    dur = np.log(p)\n",
    "    position = np.sign(p-25)\n",
    "    %scs Synth.new(\\s1, [\\freq, ^freq, \\dur, ^dur, \\pan, ^position])\n",
    "    time.sleep(0.05)"
   ]
  },
  {
   "cell_type": "markdown",
   "metadata": {},
   "source": [
    "This is injection is done with"
   ]
  },
  {
   "cell_type": "code",
   "execution_count": 9,
   "metadata": {
    "execution": {
     "iopub.execute_input": "2021-06-24T17:41:17.088719Z",
     "iopub.status.busy": "2021-06-24T17:41:17.087709Z",
     "iopub.status.idle": "2021-06-24T17:41:17.089719Z",
     "shell.execute_reply": "2021-06-24T17:41:17.089719Z"
    }
   },
   "outputs": [
    {
     "name": "stdout",
     "output_type": "stream",
     "text": [
      "Object `scn.sclang.convert_to_sc` not found.\n"
     ]
    }
   ],
   "source": [
    "scn.sclang.convert_to_sc?"
   ]
  },
  {
   "cell_type": "code",
   "execution_count": 10,
   "metadata": {
    "execution": {
     "iopub.execute_input": "2021-06-24T17:41:17.092719Z",
     "iopub.status.busy": "2021-06-24T17:41:17.092719Z",
     "iopub.status.idle": "2021-06-24T17:41:17.096721Z",
     "shell.execute_reply": "2021-06-24T17:41:17.096721Z"
    }
   },
   "outputs": [
    {
     "name": "stdout",
     "output_type": "stream",
     "text": [
      "-> Array\n"
     ]
    }
   ],
   "source": [
    "python_list = [1,2,3,4]\n",
    "%sc ^python_list.class"
   ]
  },
  {
   "cell_type": "code",
   "execution_count": 11,
   "metadata": {
    "execution": {
     "iopub.execute_input": "2021-06-24T17:41:17.100708Z",
     "iopub.status.busy": "2021-06-24T17:41:17.099708Z",
     "iopub.status.idle": "2021-06-24T17:41:17.105708Z",
     "shell.execute_reply": "2021-06-24T17:41:17.105708Z"
    }
   },
   "outputs": [
    {
     "name": "stdout",
     "output_type": "stream",
     "text": [
      "-> Complex\n"
     ]
    }
   ],
   "source": [
    "complex_py = 1+1j\n",
    "%sc ^complex_py.class"
   ]
  },
  {
   "cell_type": "code",
   "execution_count": 12,
   "metadata": {
    "execution": {
     "iopub.execute_input": "2021-06-24T17:41:17.109708Z",
     "iopub.status.busy": "2021-06-24T17:41:17.108708Z",
     "iopub.status.idle": "2021-06-24T17:41:17.113709Z",
     "shell.execute_reply": "2021-06-24T17:41:17.113709Z"
    }
   },
   "outputs": [
    {
     "name": "stdout",
     "output_type": "stream",
     "text": [
      "-> Symbol\n"
     ]
    }
   ],
   "source": [
    "symbol = r\"\\\\python\"\n",
    "%sc ^symbol.class"
   ]
  },
  {
   "cell_type": "markdown",
   "metadata": {},
   "source": [
    "When using the `cmd` | `cmdv` | `cmdg` `cmds` functions you can also provide a dictionary with variable names as keys and content as values (which can use other python vars or statements)"
   ]
  },
  {
   "cell_type": "code",
   "execution_count": 13,
   "metadata": {
    "execution": {
     "iopub.execute_input": "2021-06-24T17:41:17.117709Z",
     "iopub.status.busy": "2021-06-24T17:41:17.116707Z",
     "iopub.status.idle": "2021-06-24T17:41:17.121707Z",
     "shell.execute_reply": "2021-06-24T17:41:17.121707Z"
    }
   },
   "outputs": [
    {
     "name": "stdout",
     "output_type": "stream",
     "text": [
      "-> 0.5\n"
     ]
    }
   ],
   "source": [
    "sc.lang.cmdv(\"^name1 / ^name2\", pyvars={'name1': 9,'name2': 9*2})"
   ]
  },
  {
   "cell_type": "code",
   "execution_count": 14,
   "metadata": {
    "execution": {
     "iopub.execute_input": "2021-06-24T17:41:17.124707Z",
     "iopub.status.busy": "2021-06-24T17:41:17.124707Z",
     "iopub.status.idle": "2021-06-24T17:41:17.135714Z",
     "shell.execute_reply": "2021-06-24T17:41:17.135714Z"
    }
   },
   "outputs": [
    {
     "name": "stdout",
     "output_type": "stream",
     "text": [
      "-> 42\n"
     ]
    }
   ],
   "source": [
    "# without providing pyvars, variables are searched in the users namespace.\n",
    "freq = 5\n",
    "rate = 6\n",
    "sc.lang.cmdv(\"(^freq + 1) * (^rate + 1)\")"
   ]
  },
  {
   "cell_type": "code",
   "execution_count": 15,
   "metadata": {
    "execution": {
     "iopub.execute_input": "2021-06-24T17:41:17.138708Z",
     "iopub.status.busy": "2021-06-24T17:41:17.138708Z",
     "iopub.status.idle": "2021-06-24T17:41:17.143707Z",
     "shell.execute_reply": "2021-06-24T17:41:17.143707Z"
    }
   },
   "outputs": [
    {
     "name": "stdout",
     "output_type": "stream",
     "text": [
      "-> 42\n"
     ]
    }
   ],
   "source": [
    "# alternatively via the magic this is done as:\n",
    "%scv (^freq + 1) * (^rate + 1)"
   ]
  },
  {
   "cell_type": "markdown",
   "metadata": {},
   "source": [
    "### Getting sclang output in python\n",
    "\n",
    "* To *get* the output of an sclang snippet into a python variable, use the cmdg function.\n",
    "* The following example shows how to transfer a synth's nodeID"
   ]
  },
  {
   "cell_type": "code",
   "execution_count": 16,
   "metadata": {
    "execution": {
     "iopub.execute_input": "2021-06-24T17:41:17.146725Z",
     "iopub.status.busy": "2021-06-24T17:41:17.146725Z",
     "iopub.status.idle": "2021-06-24T17:41:17.157718Z",
     "shell.execute_reply": "2021-06-24T17:41:17.157718Z"
    }
   },
   "outputs": [
    {
     "name": "stdout",
     "output_type": "stream",
     "text": [
      "-> Synth('default' : 1072)\n"
     ]
    }
   ],
   "source": [
    "# start a Synth\n",
    "sc.lang.cmd(r\"\"\"x = Synth.new(\\default)\"\"\")"
   ]
  },
  {
   "cell_type": "code",
   "execution_count": 17,
   "metadata": {
    "execution": {
     "iopub.execute_input": "2021-06-24T17:41:17.160716Z",
     "iopub.status.busy": "2021-06-24T17:41:17.159715Z",
     "iopub.status.idle": "2021-06-24T17:41:17.170716Z",
     "shell.execute_reply": "2021-06-24T17:41:17.171717Z"
    }
   },
   "outputs": [
    {
     "name": "stdout",
     "output_type": "stream",
     "text": [
      "-> 1072\n",
      "1072\n"
     ]
    }
   ],
   "source": [
    "# get the nodeId to python\n",
    "nodeID = sc.lang.cmdg(\"x.nodeID\")\n",
    "print(nodeID)"
   ]
  },
  {
   "cell_type": "code",
   "execution_count": 18,
   "metadata": {
    "execution": {
     "iopub.execute_input": "2021-06-24T17:41:17.174716Z",
     "iopub.status.busy": "2021-06-24T17:41:17.173716Z",
     "iopub.status.idle": "2021-06-24T17:41:17.177717Z",
     "shell.execute_reply": "2021-06-24T17:41:17.176716Z"
    }
   },
   "outputs": [],
   "source": [
    "# use the nodeID to free the Synth via a message to scsynth audio server directly\n",
    "sc.server.msg(\"/n_free\", nodeID)  "
   ]
  },
  {
   "cell_type": "markdown",
   "metadata": {},
   "source": [
    "**sc.cmdg(), resp. %scg return integers, floats, strings and lists**\n",
    "* %scg can be assigned to a python variable within code"
   ]
  },
  {
   "cell_type": "code",
   "execution_count": 19,
   "metadata": {
    "execution": {
     "iopub.execute_input": "2021-06-24T17:41:17.180718Z",
     "iopub.status.busy": "2021-06-24T17:41:17.180718Z",
     "iopub.status.idle": "2021-06-24T17:41:17.183718Z",
     "shell.execute_reply": "2021-06-24T17:41:17.183718Z"
    }
   },
   "outputs": [
    {
     "name": "stdout",
     "output_type": "stream",
     "text": [
      "-> 24686\n",
      "returned an <class 'int'> of value 24686\n"
     ]
    }
   ],
   "source": [
    "a = %scg 1234 + 23452\n",
    "print(f\"returned an {type(a)} of value {a}\")"
   ]
  },
  {
   "cell_type": "code",
   "execution_count": 20,
   "metadata": {
    "execution": {
     "iopub.execute_input": "2021-06-24T17:41:17.187717Z",
     "iopub.status.busy": "2021-06-24T17:41:17.186716Z",
     "iopub.status.idle": "2021-06-24T17:41:17.190717Z",
     "shell.execute_reply": "2021-06-24T17:41:17.190717Z"
    }
   },
   "outputs": [
    {
     "name": "stdout",
     "output_type": "stream",
     "text": [
      "-> 1523990.25\n",
      "returned an <class 'float'> of value 1523990.25\n"
     ]
    }
   ],
   "source": [
    "a = %scg 1234.5.squared\n",
    "print(f\"returned an {type(a)} of value {a}\")"
   ]
  },
  {
   "cell_type": "code",
   "execution_count": 21,
   "metadata": {
    "execution": {
     "iopub.execute_input": "2021-06-24T17:41:17.194716Z",
     "iopub.status.busy": "2021-06-24T17:41:17.193716Z",
     "iopub.status.idle": "2021-06-24T17:41:17.197718Z",
     "shell.execute_reply": "2021-06-24T17:41:17.198718Z"
    }
   },
   "outputs": [
    {
     "name": "stdout",
     "output_type": "stream",
     "text": [
      "-> isciotnafoin\n",
      "returned an <class 'str'> of value isciotnafoin\n"
     ]
    }
   ],
   "source": [
    "a = %scg \"sonification\".scramble\n",
    "print(f\"returned an {type(a)} of value {a}\")"
   ]
  },
  {
   "cell_type": "markdown",
   "metadata": {},
   "source": [
    "Be careful when using magics directly after another!"
   ]
  },
  {
   "cell_type": "code",
   "execution_count": 22,
   "metadata": {
    "execution": {
     "iopub.execute_input": "2021-06-24T17:41:17.201716Z",
     "iopub.status.busy": "2021-06-24T17:41:17.201716Z",
     "iopub.status.idle": "2021-06-24T17:41:17.210717Z",
     "shell.execute_reply": "2021-06-24T17:41:17.210717Z"
    }
   },
   "outputs": [
    {
     "name": "stdout",
     "output_type": "stream",
     "text": [
      "-> osfcanioinit\n",
      "-> osfcanioinit\n"
     ]
    },
    {
     "data": {
      "text/plain": [
       "'osfcanioinit'"
      ]
     },
     "execution_count": 1,
     "metadata": {},
     "output_type": "execute_result"
    }
   ],
   "source": [
    "%sc ~retval = \"sonification\".scramble\n",
    "time.sleep(0.001)  # (in Windows) without pause an Empty might be thrown..\n",
    "%scg ~retval"
   ]
  },
  {
   "cell_type": "markdown",
   "metadata": {},
   "source": [
    "(in Windows) it should be prefered to combine your code in a single `cmd()` execution."
   ]
  },
  {
   "cell_type": "code",
   "execution_count": 23,
   "metadata": {
    "execution": {
     "iopub.execute_input": "2021-06-24T17:41:17.214718Z",
     "iopub.status.busy": "2021-06-24T17:41:17.213716Z",
     "iopub.status.idle": "2021-06-24T17:41:17.218717Z",
     "shell.execute_reply": "2021-06-24T17:41:17.217718Z"
    }
   },
   "outputs": [
    {
     "name": "stdout",
     "output_type": "stream",
     "text": [
      "-> cnftnaiiisoo!\n"
     ]
    },
    {
     "data": {
      "text/plain": [
       "'cnftnaiiisoo!'"
      ]
     },
     "execution_count": 1,
     "metadata": {},
     "output_type": "execute_result"
    }
   ],
   "source": [
    "scramble = %scg ~retval = \"sonification\".scramble; ~retval ++ \"!\";\n",
    "scramble"
   ]
  },
  {
   "cell_type": "code",
   "execution_count": 24,
   "metadata": {
    "execution": {
     "iopub.execute_input": "2021-06-24T17:41:17.221716Z",
     "iopub.status.busy": "2021-06-24T17:41:17.221716Z",
     "iopub.status.idle": "2021-06-24T17:41:17.224717Z",
     "shell.execute_reply": "2021-06-24T17:41:17.224717Z"
    }
   },
   "outputs": [
    {
     "name": "stdout",
     "output_type": "stream",
     "text": [
      "-> [ 1.0, 1.1, 1.2, 1.3, 1.4, 1.5, 1.6, 1.7, 1.8, 1.9 ]\n"
     ]
    }
   ],
   "source": [
    "a = %scg (1,1.1..2)"
   ]
  },
  {
   "cell_type": "code",
   "execution_count": 25,
   "metadata": {
    "execution": {
     "iopub.execute_input": "2021-06-24T17:41:17.228716Z",
     "iopub.status.busy": "2021-06-24T17:41:17.227718Z",
     "iopub.status.idle": "2021-06-24T17:41:17.231717Z",
     "shell.execute_reply": "2021-06-24T17:41:17.231717Z"
    }
   },
   "outputs": [
    {
     "data": {
      "text/plain": [
       "[1.0,\n",
       " 1.100000023841858,\n",
       " 1.2000000476837158,\n",
       " 1.2999999523162842,\n",
       " 1.399999976158142,\n",
       " 1.5,\n",
       " 1.600000023841858,\n",
       " 1.7000000476837158,\n",
       " 1.7999999523162842,\n",
       " 1.899999976158142]"
      ]
     },
     "execution_count": 1,
     "metadata": {},
     "output_type": "execute_result"
    }
   ],
   "source": [
    "a"
   ]
  },
  {
   "cell_type": "code",
   "execution_count": 26,
   "metadata": {
    "execution": {
     "iopub.execute_input": "2021-06-24T17:41:17.235717Z",
     "iopub.status.busy": "2021-06-24T17:41:17.234716Z",
     "iopub.status.idle": "2021-06-24T17:41:17.239716Z",
     "shell.execute_reply": "2021-06-24T17:41:17.239716Z"
    }
   },
   "outputs": [
    {
     "name": "stdout",
     "output_type": "stream",
     "text": [
      "-> [ 1.0, 1.1, 1.2, 1.3, 1.4, 1.5, 1.6, 1.7, 1.8, 1.9 ]\n",
      "list with length: 10\n"
     ]
    },
    {
     "data": {
      "text/plain": [
       "[1.0,\n",
       " 1.100000023841858,\n",
       " 1.2000000476837158,\n",
       " 1.2999999523162842,\n",
       " 1.399999976158142,\n",
       " 1.5,\n",
       " 1.600000023841858,\n",
       " 1.7000000476837158,\n",
       " 1.7999999523162842,\n",
       " 1.899999976158142]"
      ]
     },
     "execution_count": 1,
     "metadata": {},
     "output_type": "execute_result"
    }
   ],
   "source": [
    "a = %scg (1,1.1..2)\n",
    "print(f\"list with length: {len(a)}\")\n",
    "a"
   ]
  },
  {
   "cell_type": "markdown",
   "metadata": {},
   "source": [
    "Note that floating-point numbers do only have limited precision"
   ]
  },
  {
   "cell_type": "code",
   "execution_count": 27,
   "metadata": {
    "execution": {
     "iopub.execute_input": "2021-06-24T17:41:17.243717Z",
     "iopub.status.busy": "2021-06-24T17:41:17.242716Z",
     "iopub.status.idle": "2021-06-24T17:41:17.245717Z",
     "shell.execute_reply": "2021-06-24T17:41:17.245717Z"
    }
   },
   "outputs": [
    {
     "data": {
      "text/plain": [
       "[1.0, 1.1, 1.2, 1.3, 1.4, 1.5, 1.6, 1.7, 1.8, 1.9]"
      ]
     },
     "execution_count": 1,
     "metadata": {},
     "output_type": "execute_result"
    }
   ],
   "source": [
    "[round(num, 6) for num in a]"
   ]
  },
  {
   "cell_type": "markdown",
   "metadata": {},
   "source": [
    "However they should be close"
   ]
  },
  {
   "cell_type": "code",
   "execution_count": 28,
   "metadata": {
    "execution": {
     "iopub.execute_input": "2021-06-24T17:41:17.249716Z",
     "iopub.status.busy": "2021-06-24T17:41:17.249716Z",
     "iopub.status.idle": "2021-06-24T17:41:17.252716Z",
     "shell.execute_reply": "2021-06-24T17:41:17.253717Z"
    }
   },
   "outputs": [
    {
     "data": {
      "text/plain": [
       "True"
      ]
     },
     "execution_count": 1,
     "metadata": {},
     "output_type": "execute_result"
    }
   ],
   "source": [
    "np.allclose(a, np.arange(1, 2, 0.1))"
   ]
  },
  {
   "cell_type": "markdown",
   "metadata": {},
   "source": [
    "### Cell magics"
   ]
  },
  {
   "cell_type": "code",
   "execution_count": 29,
   "metadata": {
    "execution": {
     "iopub.execute_input": "2021-06-24T17:41:17.256716Z",
     "iopub.status.busy": "2021-06-24T17:41:17.255716Z",
     "iopub.status.idle": "2021-06-24T17:41:17.262716Z",
     "shell.execute_reply": "2021-06-24T17:41:17.262716Z"
    }
   },
   "outputs": [
    {
     "name": "stdout",
     "output_type": "stream",
     "text": [
      "-> Synth('temp__0' : 1073)\n"
     ]
    }
   ],
   "source": [
    "%sc {SinOsc.ar(MouseX.kr(200,400))}.play  // move mouse horizontally, CMD-. to stop"
   ]
  },
  {
   "cell_type": "code",
   "execution_count": 30,
   "metadata": {
    "execution": {
     "iopub.execute_input": "2021-06-24T17:41:17.265716Z",
     "iopub.status.busy": "2021-06-24T17:41:17.264716Z",
     "iopub.status.idle": "2021-06-24T17:41:17.281717Z",
     "shell.execute_reply": "2021-06-24T17:41:17.282716Z"
    }
   },
   "outputs": [
    {
     "name": "stdout",
     "output_type": "stream",
     "text": [
      "-> a Stethoscope\n"
     ]
    }
   ],
   "source": [
    "%sc s.scope()"
   ]
  },
  {
   "cell_type": "code",
   "execution_count": 31,
   "metadata": {
    "execution": {
     "iopub.execute_input": "2021-06-24T17:41:17.285717Z",
     "iopub.status.busy": "2021-06-24T17:41:17.285717Z",
     "iopub.status.idle": "2021-06-24T17:41:17.310718Z",
     "shell.execute_reply": "2021-06-24T17:41:17.310718Z"
    }
   },
   "outputs": [
    {
     "name": "stdout",
     "output_type": "stream",
     "text": [
      "-> sc3nb_remote\n"
     ]
    }
   ],
   "source": [
    "%sc s.freeAll"
   ]
  },
  {
   "cell_type": "code",
   "execution_count": 32,
   "metadata": {
    "execution": {
     "iopub.execute_input": "2021-06-24T17:41:17.314719Z",
     "iopub.status.busy": "2021-06-24T17:41:17.314719Z",
     "iopub.status.idle": "2021-06-24T17:41:17.333719Z",
     "shell.execute_reply": "2021-06-24T17:41:17.333719Z"
    }
   },
   "outputs": [
    {
     "name": "stdout",
     "output_type": "stream",
     "text": [
      "-> 42\n"
     ]
    },
    {
     "name": "stdout",
     "output_type": "stream",
     "text": [
      "value =  42\n"
     ]
    }
   ],
   "source": [
    "value = %scg 75-33\n",
    "print(\"value = \", value)"
   ]
  },
  {
   "cell_type": "code",
   "execution_count": 33,
   "metadata": {
    "execution": {
     "iopub.execute_input": "2021-06-24T17:41:17.337718Z",
     "iopub.status.busy": "2021-06-24T17:41:17.336718Z",
     "iopub.status.idle": "2021-06-24T17:41:17.342719Z",
     "shell.execute_reply": "2021-06-24T17:41:17.341721Z"
    }
   },
   "outputs": [
    {
     "name": "stdout",
     "output_type": "stream",
     "text": [
      "-> a Routine\n"
     ]
    }
   ],
   "source": [
    "%%sc\n",
    "{\n",
    "    x = Synth.new(\\s2, [\\freq, 100, \\num, 1]);\n",
    "    250.do{|i|\n",
    "        x.set(\\freq, sin(0.2*i.pow(1.5))*100 + 200);\n",
    "        0.02.wait;\n",
    "    };\n",
    "    x.free;\n",
    "}.fork"
   ]
  },
  {
   "cell_type": "markdown",
   "metadata": {},
   "source": [
    "* Try %scv and %%scv for verbose lines resp. cells\n",
    "* Try %scg and %%scg for getter lines resp. cells\n",
    "* Try %scs and %%scs for silent lines resp. cells"
   ]
  },
  {
   "cell_type": "markdown",
   "metadata": {},
   "source": [
    "### Stop synths"
   ]
  },
  {
   "cell_type": "code",
   "execution_count": 34,
   "metadata": {
    "code_folding": [],
    "execution": {
     "iopub.execute_input": "2021-06-24T17:41:17.345721Z",
     "iopub.status.busy": "2021-06-24T17:41:17.345721Z",
     "iopub.status.idle": "2021-06-24T17:41:17.351720Z",
     "shell.execute_reply": "2021-06-24T17:41:17.350720Z"
    }
   },
   "outputs": [
    {
     "name": "stdout",
     "output_type": "stream",
     "text": [
      "-> Synth('default' : 1076)\n"
     ]
    }
   ],
   "source": [
    "synth = \"default\"\n",
    "%sc x = Synth.new(^synth)"
   ]
  },
  {
   "cell_type": "markdown",
   "metadata": {},
   "source": [
    "* to stop all playing synths either use CMD-. (in Jupyter Command mode).\n",
    "* It is a shortcut for the ´free_all´ method of the default server"
   ]
  },
  {
   "cell_type": "code",
   "execution_count": 35,
   "metadata": {
    "execution": {
     "iopub.execute_input": "2021-06-24T17:41:17.354718Z",
     "iopub.status.busy": "2021-06-24T17:41:17.354718Z",
     "iopub.status.idle": "2021-06-24T17:41:17.362717Z",
     "shell.execute_reply": "2021-06-24T17:41:17.362717Z"
    }
   },
   "outputs": [
    {
     "name": "stdout",
     "output_type": "stream",
     "text": [
      "-> sc3nb_remote\n"
     ]
    }
   ],
   "source": [
    "%sc s.freeAll  // leaves the s.scope running"
   ]
  },
  {
   "cell_type": "code",
   "execution_count": 36,
   "metadata": {
    "execution": {
     "iopub.execute_input": "2021-06-24T17:41:17.366718Z",
     "iopub.status.busy": "2021-06-24T17:41:17.365716Z",
     "iopub.status.idle": "2021-06-24T17:41:17.441721Z",
     "shell.execute_reply": "2021-06-24T17:41:17.442718Z"
    }
   },
   "outputs": [],
   "source": [
    "scn.SC.default.server.free_all()"
   ]
  },
  {
   "cell_type": "markdown",
   "metadata": {},
   "source": [
    "which is also available using our `sc` instance directly"
   ]
  },
  {
   "cell_type": "code",
   "execution_count": 37,
   "metadata": {
    "execution": {
     "iopub.execute_input": "2021-06-24T17:41:17.445717Z",
     "iopub.status.busy": "2021-06-24T17:41:17.445717Z",
     "iopub.status.idle": "2021-06-24T17:41:17.530618Z",
     "shell.execute_reply": "2021-06-24T17:41:17.530618Z"
    }
   },
   "outputs": [],
   "source": [
    "sc.server.free_all()"
   ]
  },
  {
   "cell_type": "code",
   "execution_count": 38,
   "metadata": {
    "execution": {
     "iopub.execute_input": "2021-06-24T17:41:17.533618Z",
     "iopub.status.busy": "2021-06-24T17:41:17.533618Z",
     "iopub.status.idle": "2021-06-24T17:41:23.558643Z",
     "shell.execute_reply": "2021-06-24T17:41:23.558643Z"
    }
   },
   "outputs": [],
   "source": [
    "sc.exit()"
   ]
  }
 ],
 "metadata": {
  "hide_input": false,
  "language_info": {
   "codemirror_mode": {
    "name": "ipython",
    "version": 3
   },
   "file_extension": ".py",
   "mimetype": "text/x-python",
   "name": "python",
   "nbconvert_exporter": "python",
   "pygments_lexer": "ipython3",
   "version": "3.7.10"
  },
  "toc": {
   "base_numbering": 1,
   "nav_menu": {},
   "number_sections": true,
   "sideBar": true,
   "skip_h1_title": false,
   "title_cell": "Table of Contents",
   "title_sidebar": "Contents",
   "toc_cell": false,
   "toc_position": {},
   "toc_section_display": true,
   "toc_window_display": false
  }
 },
 "nbformat": 4,
 "nbformat_minor": 4
}
