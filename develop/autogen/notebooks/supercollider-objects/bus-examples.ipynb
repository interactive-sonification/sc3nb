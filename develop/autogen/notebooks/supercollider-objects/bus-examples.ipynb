{
 "cells": [
  {
   "cell_type": "markdown",
   "metadata": {},
   "source": [
    "# Bus"
   ]
  },
  {
   "cell_type": "code",
   "execution_count": 1,
   "metadata": {
    "execution": {
     "iopub.execute_input": "2021-06-24T17:39:14.882549Z",
     "iopub.status.busy": "2021-06-24T17:39:14.881547Z",
     "iopub.status.idle": "2021-06-24T17:39:15.057550Z",
     "shell.execute_reply": "2021-06-24T17:39:15.057550Z"
    }
   },
   "outputs": [],
   "source": [
    "import sc3nb as scn"
   ]
  },
  {
   "cell_type": "code",
   "execution_count": 2,
   "metadata": {
    "execution": {
     "iopub.execute_input": "2021-06-24T17:39:15.065551Z",
     "iopub.status.busy": "2021-06-24T17:39:15.065551Z",
     "iopub.status.idle": "2021-06-24T17:39:18.698170Z",
     "shell.execute_reply": "2021-06-24T17:39:18.698170Z"
    }
   },
   "outputs": [
    {
     "data": {
      "application/javascript": [
       "if (typeof Jupyter !== 'undefined') {\n",
       "                        Jupyter.keyboard_manager.command_shortcuts.add_shortcut(\n",
       "                        'Ctrl-.', {\n",
       "                        help : 'Free all nodes on SC server',\n",
       "                        help_index : 'zz',\n",
       "                        handler : function (event) {\n",
       "                            IPython.notebook.kernel.execute(\n",
       "                                \"import sc3nb; sc3nb.SC.get_default().server.free_all(root=True)\"\n",
       "                            )\n",
       "                            return true;}\n",
       "                        });\n",
       "                    }"
      ],
      "text/plain": [
       "<IPython.core.display.Javascript object>"
      ]
     },
     "metadata": {},
     "output_type": "display_data"
    },
    {
     "name": "stdout",
     "output_type": "stream",
     "text": [
      "Starting sclang process... "
     ]
    },
    {
     "name": "stdout",
     "output_type": "stream",
     "text": [
      "Done.\n",
      "Registering OSC /return callback in sclang... Done.\n",
      "Loading default sc3nb SynthDefs... Done.\n",
      "Booting SuperCollider Server... "
     ]
    },
    {
     "name": "stdout",
     "output_type": "stream",
     "text": [
      "Done.\n"
     ]
    }
   ],
   "source": [
    "sc = scn.startup()"
   ]
  },
  {
   "cell_type": "markdown",
   "metadata": {},
   "source": [
    "## Using a Control Bus"
   ]
  },
  {
   "cell_type": "code",
   "execution_count": 3,
   "metadata": {
    "execution": {
     "iopub.execute_input": "2021-06-24T17:39:18.702172Z",
     "iopub.status.busy": "2021-06-24T17:39:18.701171Z",
     "iopub.status.idle": "2021-06-24T17:39:18.703171Z",
     "shell.execute_reply": "2021-06-24T17:39:18.703171Z"
    }
   },
   "outputs": [
    {
     "data": {
      "text/plain": [
       "Bus(rate='control', ids=[512])"
      ]
     },
     "execution_count": 1,
     "metadata": {},
     "output_type": "execute_result"
    }
   ],
   "source": [
    "bus = scn.Bus('control')\n",
    "bus"
   ]
  },
  {
   "cell_type": "code",
   "execution_count": 4,
   "metadata": {
    "execution": {
     "iopub.execute_input": "2021-06-24T17:39:18.706174Z",
     "iopub.status.busy": "2021-06-24T17:39:18.706174Z",
     "iopub.status.idle": "2021-06-24T17:39:18.710170Z",
     "shell.execute_reply": "2021-06-24T17:39:18.710170Z"
    }
   },
   "outputs": [
    {
     "data": {
      "text/plain": [
       "0.0"
      ]
     },
     "execution_count": 1,
     "metadata": {},
     "output_type": "execute_result"
    }
   ],
   "source": [
    "bus.get()"
   ]
  },
  {
   "cell_type": "code",
   "execution_count": 5,
   "metadata": {
    "execution": {
     "iopub.execute_input": "2021-06-24T17:39:18.713170Z",
     "iopub.status.busy": "2021-06-24T17:39:18.712170Z",
     "iopub.status.idle": "2021-06-24T17:39:18.723170Z",
     "shell.execute_reply": "2021-06-24T17:39:18.723170Z"
    }
   },
   "outputs": [],
   "source": [
    "syn = scn.Synth(\"s2\")"
   ]
  },
  {
   "cell_type": "markdown",
   "metadata": {},
   "source": [
    "map the frequency of the synth to the bus value"
   ]
  },
  {
   "cell_type": "code",
   "execution_count": 6,
   "metadata": {
    "execution": {
     "iopub.execute_input": "2021-06-24T17:39:18.727170Z",
     "iopub.status.busy": "2021-06-24T17:39:18.727170Z",
     "iopub.status.idle": "2021-06-24T17:39:18.729173Z",
     "shell.execute_reply": "2021-06-24T17:39:18.729173Z"
    }
   },
   "outputs": [
    {
     "data": {
      "text/plain": [
       "<Synth(20001) 's2' s {}>"
      ]
     },
     "execution_count": 1,
     "metadata": {},
     "output_type": "execute_result"
    }
   ],
   "source": [
    "syn.map(\"freq\", bus)"
   ]
  },
  {
   "cell_type": "code",
   "execution_count": 7,
   "metadata": {
    "execution": {
     "iopub.execute_input": "2021-06-24T17:39:18.733171Z",
     "iopub.status.busy": "2021-06-24T17:39:18.732171Z",
     "iopub.status.idle": "2021-06-24T17:39:18.735170Z",
     "shell.execute_reply": "2021-06-24T17:39:18.735170Z"
    }
   },
   "outputs": [
    {
     "data": {
      "text/plain": [
       "Bus(rate='control', ids=[512])"
      ]
     },
     "execution_count": 1,
     "metadata": {},
     "output_type": "execute_result"
    }
   ],
   "source": [
    "bus.set(120) # changes synths frequency"
   ]
  },
  {
   "cell_type": "code",
   "execution_count": 8,
   "metadata": {
    "execution": {
     "iopub.execute_input": "2021-06-24T17:39:18.739173Z",
     "iopub.status.busy": "2021-06-24T17:39:18.738170Z",
     "iopub.status.idle": "2021-06-24T17:39:18.740170Z",
     "shell.execute_reply": "2021-06-24T17:39:18.740170Z"
    }
   },
   "outputs": [
    {
     "data": {
      "text/plain": [
       "Bus(rate='control', ids=[512])"
      ]
     },
     "execution_count": 1,
     "metadata": {},
     "output_type": "execute_result"
    }
   ],
   "source": [
    "bus.set(440)"
   ]
  },
  {
   "cell_type": "markdown",
   "metadata": {},
   "source": [
    "Set the frequency value to remove the mapping"
   ]
  },
  {
   "cell_type": "code",
   "execution_count": 9,
   "metadata": {
    "execution": {
     "iopub.execute_input": "2021-06-24T17:39:18.744170Z",
     "iopub.status.busy": "2021-06-24T17:39:18.743170Z",
     "iopub.status.idle": "2021-06-24T17:39:18.745170Z",
     "shell.execute_reply": "2021-06-24T17:39:18.745170Z"
    }
   },
   "outputs": [
    {
     "data": {
      "text/plain": [
       "<Synth(20001) 's2' ~ {'freq': 220}>"
      ]
     },
     "execution_count": 1,
     "metadata": {},
     "output_type": "execute_result"
    }
   ],
   "source": [
    "syn.set(\"freq\", 220)"
   ]
  },
  {
   "cell_type": "code",
   "execution_count": 10,
   "metadata": {
    "execution": {
     "iopub.execute_input": "2021-06-24T17:39:18.748170Z",
     "iopub.status.busy": "2021-06-24T17:39:18.748170Z",
     "iopub.status.idle": "2021-06-24T17:39:18.750170Z",
     "shell.execute_reply": "2021-06-24T17:39:18.750170Z"
    }
   },
   "outputs": [
    {
     "data": {
      "text/plain": [
       "Bus(rate='control', ids=[512])"
      ]
     },
     "execution_count": 1,
     "metadata": {},
     "output_type": "execute_result"
    }
   ],
   "source": [
    "bus.set(440)  # no change"
   ]
  },
  {
   "cell_type": "code",
   "execution_count": 11,
   "metadata": {
    "execution": {
     "iopub.execute_input": "2021-06-24T17:39:18.753175Z",
     "iopub.status.busy": "2021-06-24T17:39:18.753175Z",
     "iopub.status.idle": "2021-06-24T17:39:18.756172Z",
     "shell.execute_reply": "2021-06-24T17:39:18.756172Z"
    }
   },
   "outputs": [
    {
     "data": {
      "text/plain": [
       "<Synth(20001) 's2' f {'freq': 220}>"
      ]
     },
     "execution_count": 1,
     "metadata": {},
     "output_type": "execute_result"
    }
   ],
   "source": [
    "syn.free()"
   ]
  },
  {
   "cell_type": "markdown",
   "metadata": {},
   "source": [
    "Free the bus to mark the bus id as available again"
   ]
  },
  {
   "cell_type": "code",
   "execution_count": 12,
   "metadata": {
    "execution": {
     "iopub.execute_input": "2021-06-24T17:39:18.759173Z",
     "iopub.status.busy": "2021-06-24T17:39:18.758170Z",
     "iopub.status.idle": "2021-06-24T17:39:18.760172Z",
     "shell.execute_reply": "2021-06-24T17:39:18.760172Z"
    }
   },
   "outputs": [],
   "source": [
    "bus.free()"
   ]
  },
  {
   "cell_type": "markdown",
   "metadata": {},
   "source": [
    "## Use multiple Control Buses"
   ]
  },
  {
   "cell_type": "code",
   "execution_count": 13,
   "metadata": {
    "execution": {
     "iopub.execute_input": "2021-06-24T17:39:18.764170Z",
     "iopub.status.busy": "2021-06-24T17:39:18.763170Z",
     "iopub.status.idle": "2021-06-24T17:39:18.789170Z",
     "shell.execute_reply": "2021-06-24T17:39:18.788175Z"
    }
   },
   "outputs": [],
   "source": [
    "synth_name = scn.SynthDef(\"busMulti\", \"\"\"{ |out, freqs=#[200, 400], rates=#[1, 2] |\n",
    "    Out.ar(out, Splay.ar(SinOsc.ar(freqs) * Decay2.ar(Impulse.ar(rates), 0.001, 0.1)) * 0.5);\n",
    "}\"\"\").add()"
   ]
  },
  {
   "cell_type": "code",
   "execution_count": 14,
   "metadata": {
    "execution": {
     "iopub.execute_input": "2021-06-24T17:39:18.792171Z",
     "iopub.status.busy": "2021-06-24T17:39:18.791171Z",
     "iopub.status.idle": "2021-06-24T17:39:18.793170Z",
     "shell.execute_reply": "2021-06-24T17:39:18.794173Z"
    }
   },
   "outputs": [
    {
     "data": {
      "text/plain": [
       "Bus(rate='control', ids=[512, 513])"
      ]
     },
     "execution_count": 1,
     "metadata": {},
     "output_type": "execute_result"
    }
   ],
   "source": [
    "buses = scn.Bus(\"control\", 2)\n",
    "buses"
   ]
  },
  {
   "cell_type": "code",
   "execution_count": 15,
   "metadata": {
    "execution": {
     "iopub.execute_input": "2021-06-24T17:39:18.796172Z",
     "iopub.status.busy": "2021-06-24T17:39:18.796172Z",
     "iopub.status.idle": "2021-06-24T17:39:18.810170Z",
     "shell.execute_reply": "2021-06-24T17:39:18.810170Z"
    }
   },
   "outputs": [
    {
     "data": {
      "text/plain": [
       "[0.0, 0.0]"
      ]
     },
     "execution_count": 1,
     "metadata": {},
     "output_type": "execute_result"
    }
   ],
   "source": [
    "buses.get()"
   ]
  },
  {
   "cell_type": "code",
   "execution_count": 16,
   "metadata": {
    "execution": {
     "iopub.execute_input": "2021-06-24T17:39:18.813170Z",
     "iopub.status.busy": "2021-06-24T17:39:18.812170Z",
     "iopub.status.idle": "2021-06-24T17:39:18.825172Z",
     "shell.execute_reply": "2021-06-24T17:39:18.825172Z"
    }
   },
   "outputs": [],
   "source": [
    "syn = scn.Synth(synth_name)"
   ]
  },
  {
   "cell_type": "code",
   "execution_count": 17,
   "metadata": {
    "execution": {
     "iopub.execute_input": "2021-06-24T17:39:18.829177Z",
     "iopub.status.busy": "2021-06-24T17:39:18.829177Z",
     "iopub.status.idle": "2021-06-24T17:39:18.832172Z",
     "shell.execute_reply": "2021-06-24T17:39:18.832172Z"
    }
   },
   "outputs": [
    {
     "data": {
      "text/plain": [
       "<Synth(20002) 'busMulti' ~ {}>"
      ]
     },
     "execution_count": 1,
     "metadata": {},
     "output_type": "execute_result"
    }
   ],
   "source": [
    "syn.map(\"rates\", buses)"
   ]
  },
  {
   "cell_type": "code",
   "execution_count": 18,
   "metadata": {
    "execution": {
     "iopub.execute_input": "2021-06-24T17:39:18.836173Z",
     "iopub.status.busy": "2021-06-24T17:39:18.835170Z",
     "iopub.status.idle": "2021-06-24T17:39:18.837174Z",
     "shell.execute_reply": "2021-06-24T17:39:18.837174Z"
    }
   },
   "outputs": [
    {
     "data": {
      "text/plain": [
       "Bus(rate='control', ids=[512, 513])"
      ]
     },
     "execution_count": 1,
     "metadata": {},
     "output_type": "execute_result"
    }
   ],
   "source": [
    "buses.set(1, 1)"
   ]
  },
  {
   "cell_type": "code",
   "execution_count": 19,
   "metadata": {
    "execution": {
     "iopub.execute_input": "2021-06-24T17:39:18.841170Z",
     "iopub.status.busy": "2021-06-24T17:39:18.840170Z",
     "iopub.status.idle": "2021-06-24T17:39:18.843171Z",
     "shell.execute_reply": "2021-06-24T17:39:18.843171Z"
    }
   },
   "outputs": [
    {
     "data": {
      "text/plain": [
       "Bus(rate='control', ids=[512, 513])"
      ]
     },
     "execution_count": 1,
     "metadata": {},
     "output_type": "execute_result"
    }
   ],
   "source": [
    "buses.set(1, 2)"
   ]
  },
  {
   "cell_type": "code",
   "execution_count": 20,
   "metadata": {
    "execution": {
     "iopub.execute_input": "2021-06-24T17:39:18.846172Z",
     "iopub.status.busy": "2021-06-24T17:39:18.845170Z",
     "iopub.status.idle": "2021-06-24T17:39:18.850171Z",
     "shell.execute_reply": "2021-06-24T17:39:18.850171Z"
    }
   },
   "outputs": [
    {
     "data": {
      "text/plain": [
       "[1.0, 2.0]"
      ]
     },
     "execution_count": 1,
     "metadata": {},
     "output_type": "execute_result"
    }
   ],
   "source": [
    "buses.get()"
   ]
  },
  {
   "cell_type": "code",
   "execution_count": 21,
   "metadata": {
    "execution": {
     "iopub.execute_input": "2021-06-24T17:39:18.853170Z",
     "iopub.status.busy": "2021-06-24T17:39:18.853170Z",
     "iopub.status.idle": "2021-06-24T17:39:18.856172Z",
     "shell.execute_reply": "2021-06-24T17:39:18.856172Z"
    }
   },
   "outputs": [
    {
     "data": {
      "text/plain": [
       "<Synth(20002) 'busMulti' f {}>"
      ]
     },
     "execution_count": 1,
     "metadata": {},
     "output_type": "execute_result"
    }
   ],
   "source": [
    "syn.free()"
   ]
  },
  {
   "cell_type": "code",
   "execution_count": 22,
   "metadata": {
    "execution": {
     "iopub.execute_input": "2021-06-24T17:39:18.859170Z",
     "iopub.status.busy": "2021-06-24T17:39:18.858170Z",
     "iopub.status.idle": "2021-06-24T17:39:18.860171Z",
     "shell.execute_reply": "2021-06-24T17:39:18.860171Z"
    }
   },
   "outputs": [],
   "source": [
    "buses.free()"
   ]
  },
  {
   "cell_type": "code",
   "execution_count": 23,
   "metadata": {
    "execution": {
     "iopub.execute_input": "2021-06-24T17:39:18.862172Z",
     "iopub.status.busy": "2021-06-24T17:39:18.862172Z",
     "iopub.status.idle": "2021-06-24T17:39:18.948786Z",
     "shell.execute_reply": "2021-06-24T17:39:18.949785Z"
    }
   },
   "outputs": [],
   "source": [
    "sc.server.free_all()"
   ]
  },
  {
   "cell_type": "code",
   "execution_count": 24,
   "metadata": {
    "execution": {
     "iopub.execute_input": "2021-06-24T17:39:18.952785Z",
     "iopub.status.busy": "2021-06-24T17:39:18.951785Z",
     "iopub.status.idle": "2021-06-24T17:39:20.111439Z",
     "shell.execute_reply": "2021-06-24T17:39:20.111439Z"
    }
   },
   "outputs": [],
   "source": [
    "sc.exit()"
   ]
  },
  {
   "cell_type": "code",
   "execution_count": null,
   "metadata": {},
   "outputs": [],
   "source": []
  }
 ],
 "metadata": {
  "language_info": {
   "codemirror_mode": {
    "name": "ipython",
    "version": 3
   },
   "file_extension": ".py",
   "mimetype": "text/x-python",
   "name": "python",
   "nbconvert_exporter": "python",
   "pygments_lexer": "ipython3",
   "version": "3.7.10"
  }
 },
 "nbformat": 4,
 "nbformat_minor": 4
}
