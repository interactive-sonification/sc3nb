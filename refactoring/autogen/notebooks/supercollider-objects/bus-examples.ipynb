{
 "cells": [
  {
   "cell_type": "markdown",
   "metadata": {},
   "source": [
    "# Bus"
   ]
  },
  {
   "cell_type": "code",
   "execution_count": 1,
   "metadata": {
    "execution": {
     "iopub.execute_input": "2021-06-23T17:57:29.078008Z",
     "iopub.status.busy": "2021-06-23T17:57:29.078008Z",
     "iopub.status.idle": "2021-06-23T17:57:29.276053Z",
     "shell.execute_reply": "2021-06-23T17:57:29.276053Z"
    }
   },
   "outputs": [],
   "source": [
    "import sc3nb as scn"
   ]
  },
  {
   "cell_type": "code",
   "execution_count": 2,
   "metadata": {
    "execution": {
     "iopub.execute_input": "2021-06-23T17:57:29.285055Z",
     "iopub.status.busy": "2021-06-23T17:57:29.285055Z",
     "iopub.status.idle": "2021-06-23T17:57:32.694098Z",
     "shell.execute_reply": "2021-06-23T17:57:32.694098Z"
    }
   },
   "outputs": [
    {
     "data": {
      "application/javascript": [
       "if (typeof Jupyter !== 'undefined') {\n",
       "                        Jupyter.keyboard_manager.command_shortcuts.add_shortcut(\n",
       "                        'Ctrl-.', {\n",
       "                        help : 'Free all nodes on SC server',\n",
       "                        help_index : 'zz',\n",
       "                        handler : function (event) {\n",
       "                            IPython.notebook.kernel.execute(\n",
       "                                \"import sc3nb; sc3nb.SC.get_default().server.free_all(root=True)\"\n",
       "                            )\n",
       "                            return true;}\n",
       "                        });\n",
       "                    }"
      ],
      "text/plain": [
       "<IPython.core.display.Javascript object>"
      ]
     },
     "metadata": {},
     "output_type": "display_data"
    },
    {
     "name": "stdout",
     "output_type": "stream",
     "text": [
      "Starting sclang process... "
     ]
    },
    {
     "name": "stdout",
     "output_type": "stream",
     "text": [
      "Done.\n",
      "Registering OSC /return callback in sclang... Done.\n",
      "Loading default sc3nb SynthDefs... Done.\n",
      "Booting SuperCollider Server... "
     ]
    },
    {
     "name": "stdout",
     "output_type": "stream",
     "text": [
      "Done.\n"
     ]
    }
   ],
   "source": [
    "sc = scn.startup()"
   ]
  },
  {
   "cell_type": "markdown",
   "metadata": {},
   "source": [
    "## Using a Control Bus"
   ]
  },
  {
   "cell_type": "code",
   "execution_count": 3,
   "metadata": {
    "execution": {
     "iopub.execute_input": "2021-06-23T17:57:32.698094Z",
     "iopub.status.busy": "2021-06-23T17:57:32.698094Z",
     "iopub.status.idle": "2021-06-23T17:57:32.700094Z",
     "shell.execute_reply": "2021-06-23T17:57:32.701095Z"
    }
   },
   "outputs": [
    {
     "data": {
      "text/plain": [
       "Bus(rate='control', ids=[512])"
      ]
     },
     "execution_count": 1,
     "metadata": {},
     "output_type": "execute_result"
    }
   ],
   "source": [
    "bus = scn.Bus('control')\n",
    "bus"
   ]
  },
  {
   "cell_type": "code",
   "execution_count": 4,
   "metadata": {
    "execution": {
     "iopub.execute_input": "2021-06-23T17:57:32.704095Z",
     "iopub.status.busy": "2021-06-23T17:57:32.703095Z",
     "iopub.status.idle": "2021-06-23T17:57:32.713095Z",
     "shell.execute_reply": "2021-06-23T17:57:32.713095Z"
    }
   },
   "outputs": [
    {
     "data": {
      "text/plain": [
       "0.0"
      ]
     },
     "execution_count": 1,
     "metadata": {},
     "output_type": "execute_result"
    }
   ],
   "source": [
    "bus.get()"
   ]
  },
  {
   "cell_type": "code",
   "execution_count": 5,
   "metadata": {
    "execution": {
     "iopub.execute_input": "2021-06-23T17:57:32.716094Z",
     "iopub.status.busy": "2021-06-23T17:57:32.716094Z",
     "iopub.status.idle": "2021-06-23T17:57:32.730093Z",
     "shell.execute_reply": "2021-06-23T17:57:32.729095Z"
    }
   },
   "outputs": [],
   "source": [
    "syn = scn.Synth(\"s2\")"
   ]
  },
  {
   "cell_type": "markdown",
   "metadata": {},
   "source": [
    "map the frequency of the synth to the bus value"
   ]
  },
  {
   "cell_type": "code",
   "execution_count": 6,
   "metadata": {
    "execution": {
     "iopub.execute_input": "2021-06-23T17:57:32.733095Z",
     "iopub.status.busy": "2021-06-23T17:57:32.733095Z",
     "iopub.status.idle": "2021-06-23T17:57:32.735094Z",
     "shell.execute_reply": "2021-06-23T17:57:32.735094Z"
    }
   },
   "outputs": [
    {
     "data": {
      "text/plain": [
       "<Synth(20001) 's2' ~ {}>"
      ]
     },
     "execution_count": 1,
     "metadata": {},
     "output_type": "execute_result"
    }
   ],
   "source": [
    "syn.map(\"freq\", bus)"
   ]
  },
  {
   "cell_type": "code",
   "execution_count": 7,
   "metadata": {
    "execution": {
     "iopub.execute_input": "2021-06-23T17:57:32.739094Z",
     "iopub.status.busy": "2021-06-23T17:57:32.738094Z",
     "iopub.status.idle": "2021-06-23T17:57:32.741095Z",
     "shell.execute_reply": "2021-06-23T17:57:32.742093Z"
    }
   },
   "outputs": [
    {
     "data": {
      "text/plain": [
       "Bus(rate='control', ids=[512])"
      ]
     },
     "execution_count": 1,
     "metadata": {},
     "output_type": "execute_result"
    }
   ],
   "source": [
    "bus.set(120) # changes synths frequency"
   ]
  },
  {
   "cell_type": "code",
   "execution_count": 8,
   "metadata": {
    "execution": {
     "iopub.execute_input": "2021-06-23T17:57:32.745096Z",
     "iopub.status.busy": "2021-06-23T17:57:32.745096Z",
     "iopub.status.idle": "2021-06-23T17:57:32.748094Z",
     "shell.execute_reply": "2021-06-23T17:57:32.749095Z"
    }
   },
   "outputs": [
    {
     "data": {
      "text/plain": [
       "Bus(rate='control', ids=[512])"
      ]
     },
     "execution_count": 1,
     "metadata": {},
     "output_type": "execute_result"
    }
   ],
   "source": [
    "bus.set(440)"
   ]
  },
  {
   "cell_type": "markdown",
   "metadata": {},
   "source": [
    "Set the frequency value to remove the mapping"
   ]
  },
  {
   "cell_type": "code",
   "execution_count": 9,
   "metadata": {
    "execution": {
     "iopub.execute_input": "2021-06-23T17:57:32.752095Z",
     "iopub.status.busy": "2021-06-23T17:57:32.752095Z",
     "iopub.status.idle": "2021-06-23T17:57:32.755095Z",
     "shell.execute_reply": "2021-06-23T17:57:32.755095Z"
    }
   },
   "outputs": [
    {
     "data": {
      "text/plain": [
       "<Synth(20001) 's2' ~ {'freq': 220}>"
      ]
     },
     "execution_count": 1,
     "metadata": {},
     "output_type": "execute_result"
    }
   ],
   "source": [
    "syn.set(\"freq\", 220)"
   ]
  },
  {
   "cell_type": "code",
   "execution_count": 10,
   "metadata": {
    "execution": {
     "iopub.execute_input": "2021-06-23T17:57:32.759094Z",
     "iopub.status.busy": "2021-06-23T17:57:32.759094Z",
     "iopub.status.idle": "2021-06-23T17:57:32.762095Z",
     "shell.execute_reply": "2021-06-23T17:57:32.762095Z"
    }
   },
   "outputs": [
    {
     "data": {
      "text/plain": [
       "Bus(rate='control', ids=[512])"
      ]
     },
     "execution_count": 1,
     "metadata": {},
     "output_type": "execute_result"
    }
   ],
   "source": [
    "bus.set(440)  # no change"
   ]
  },
  {
   "cell_type": "code",
   "execution_count": 11,
   "metadata": {
    "execution": {
     "iopub.execute_input": "2021-06-23T17:57:32.766095Z",
     "iopub.status.busy": "2021-06-23T17:57:32.765095Z",
     "iopub.status.idle": "2021-06-23T17:57:32.767097Z",
     "shell.execute_reply": "2021-06-23T17:57:32.767097Z"
    }
   },
   "outputs": [
    {
     "data": {
      "text/plain": [
       "<Synth(20001) 's2' f {'freq': 220}>"
      ]
     },
     "execution_count": 1,
     "metadata": {},
     "output_type": "execute_result"
    }
   ],
   "source": [
    "syn.free()"
   ]
  },
  {
   "cell_type": "markdown",
   "metadata": {},
   "source": [
    "Free the bus to mark the bus id as available again"
   ]
  },
  {
   "cell_type": "code",
   "execution_count": 12,
   "metadata": {
    "execution": {
     "iopub.execute_input": "2021-06-23T17:57:32.772095Z",
     "iopub.status.busy": "2021-06-23T17:57:32.771095Z",
     "iopub.status.idle": "2021-06-23T17:57:32.774097Z",
     "shell.execute_reply": "2021-06-23T17:57:32.775097Z"
    }
   },
   "outputs": [],
   "source": [
    "bus.free()"
   ]
  },
  {
   "cell_type": "markdown",
   "metadata": {},
   "source": [
    "## Use multiple Control Buses"
   ]
  },
  {
   "cell_type": "code",
   "execution_count": 13,
   "metadata": {
    "execution": {
     "iopub.execute_input": "2021-06-23T17:57:32.778095Z",
     "iopub.status.busy": "2021-06-23T17:57:32.778095Z",
     "iopub.status.idle": "2021-06-23T17:57:32.814094Z",
     "shell.execute_reply": "2021-06-23T17:57:32.814094Z"
    }
   },
   "outputs": [],
   "source": [
    "synth_name = scn.SynthDef(\"busMulti\", \"\"\"{ |out, freqs=#[200, 400], rates=#[1, 2] |\n",
    "    Out.ar(out, Splay.ar(SinOsc.ar(freqs) * Decay2.ar(Impulse.ar(rates), 0.001, 0.1)) * 0.5);\n",
    "}\"\"\").add()"
   ]
  },
  {
   "cell_type": "code",
   "execution_count": 14,
   "metadata": {
    "execution": {
     "iopub.execute_input": "2021-06-23T17:57:32.817094Z",
     "iopub.status.busy": "2021-06-23T17:57:32.817094Z",
     "iopub.status.idle": "2021-06-23T17:57:32.819095Z",
     "shell.execute_reply": "2021-06-23T17:57:32.820094Z"
    }
   },
   "outputs": [
    {
     "data": {
      "text/plain": [
       "Bus(rate='control', ids=[512, 513])"
      ]
     },
     "execution_count": 1,
     "metadata": {},
     "output_type": "execute_result"
    }
   ],
   "source": [
    "buses = scn.Bus(\"control\", 2)\n",
    "buses"
   ]
  },
  {
   "cell_type": "code",
   "execution_count": 15,
   "metadata": {
    "execution": {
     "iopub.execute_input": "2021-06-23T17:57:32.823094Z",
     "iopub.status.busy": "2021-06-23T17:57:32.822094Z",
     "iopub.status.idle": "2021-06-23T17:57:32.843094Z",
     "shell.execute_reply": "2021-06-23T17:57:32.843094Z"
    }
   },
   "outputs": [
    {
     "data": {
      "text/plain": [
       "[0.0, 0.0]"
      ]
     },
     "execution_count": 1,
     "metadata": {},
     "output_type": "execute_result"
    }
   ],
   "source": [
    "buses.get()"
   ]
  },
  {
   "cell_type": "code",
   "execution_count": 16,
   "metadata": {
    "execution": {
     "iopub.execute_input": "2021-06-23T17:57:32.847094Z",
     "iopub.status.busy": "2021-06-23T17:57:32.846095Z",
     "iopub.status.idle": "2021-06-23T17:57:32.858096Z",
     "shell.execute_reply": "2021-06-23T17:57:32.858096Z"
    }
   },
   "outputs": [],
   "source": [
    "syn = scn.Synth(synth_name)"
   ]
  },
  {
   "cell_type": "code",
   "execution_count": 17,
   "metadata": {
    "execution": {
     "iopub.execute_input": "2021-06-23T17:57:32.863095Z",
     "iopub.status.busy": "2021-06-23T17:57:32.863095Z",
     "iopub.status.idle": "2021-06-23T17:57:32.866095Z",
     "shell.execute_reply": "2021-06-23T17:57:32.866095Z"
    }
   },
   "outputs": [
    {
     "data": {
      "text/plain": [
       "<Synth(20002) 'busMulti' ~ {}>"
      ]
     },
     "execution_count": 1,
     "metadata": {},
     "output_type": "execute_result"
    }
   ],
   "source": [
    "syn.map(\"rates\", buses)"
   ]
  },
  {
   "cell_type": "code",
   "execution_count": 18,
   "metadata": {
    "execution": {
     "iopub.execute_input": "2021-06-23T17:57:32.870094Z",
     "iopub.status.busy": "2021-06-23T17:57:32.870094Z",
     "iopub.status.idle": "2021-06-23T17:57:32.873094Z",
     "shell.execute_reply": "2021-06-23T17:57:32.874096Z"
    }
   },
   "outputs": [
    {
     "data": {
      "text/plain": [
       "Bus(rate='control', ids=[512, 513])"
      ]
     },
     "execution_count": 1,
     "metadata": {},
     "output_type": "execute_result"
    }
   ],
   "source": [
    "buses.set(1, 1)"
   ]
  },
  {
   "cell_type": "code",
   "execution_count": 19,
   "metadata": {
    "execution": {
     "iopub.execute_input": "2021-06-23T17:57:32.877094Z",
     "iopub.status.busy": "2021-06-23T17:57:32.877094Z",
     "iopub.status.idle": "2021-06-23T17:57:32.879094Z",
     "shell.execute_reply": "2021-06-23T17:57:32.879094Z"
    }
   },
   "outputs": [
    {
     "data": {
      "text/plain": [
       "Bus(rate='control', ids=[512, 513])"
      ]
     },
     "execution_count": 1,
     "metadata": {},
     "output_type": "execute_result"
    }
   ],
   "source": [
    "buses.set(1, 2)"
   ]
  },
  {
   "cell_type": "code",
   "execution_count": 20,
   "metadata": {
    "execution": {
     "iopub.execute_input": "2021-06-23T17:57:32.882094Z",
     "iopub.status.busy": "2021-06-23T17:57:32.882094Z",
     "iopub.status.idle": "2021-06-23T17:57:32.893093Z",
     "shell.execute_reply": "2021-06-23T17:57:32.893093Z"
    }
   },
   "outputs": [
    {
     "data": {
      "text/plain": [
       "[1.0, 2.0]"
      ]
     },
     "execution_count": 1,
     "metadata": {},
     "output_type": "execute_result"
    }
   ],
   "source": [
    "buses.get()"
   ]
  },
  {
   "cell_type": "code",
   "execution_count": 21,
   "metadata": {
    "execution": {
     "iopub.execute_input": "2021-06-23T17:57:32.897094Z",
     "iopub.status.busy": "2021-06-23T17:57:32.896093Z",
     "iopub.status.idle": "2021-06-23T17:57:32.898094Z",
     "shell.execute_reply": "2021-06-23T17:57:32.898094Z"
    }
   },
   "outputs": [
    {
     "data": {
      "text/plain": [
       "<Synth(20002) 'busMulti' f {}>"
      ]
     },
     "execution_count": 1,
     "metadata": {},
     "output_type": "execute_result"
    }
   ],
   "source": [
    "syn.free()"
   ]
  },
  {
   "cell_type": "code",
   "execution_count": 22,
   "metadata": {
    "execution": {
     "iopub.execute_input": "2021-06-23T17:57:32.901095Z",
     "iopub.status.busy": "2021-06-23T17:57:32.901095Z",
     "iopub.status.idle": "2021-06-23T17:57:32.902095Z",
     "shell.execute_reply": "2021-06-23T17:57:32.902095Z"
    }
   },
   "outputs": [],
   "source": [
    "buses.free()"
   ]
  },
  {
   "cell_type": "code",
   "execution_count": 23,
   "metadata": {
    "execution": {
     "iopub.execute_input": "2021-06-23T17:57:32.905094Z",
     "iopub.status.busy": "2021-06-23T17:57:32.904093Z",
     "iopub.status.idle": "2021-06-23T17:57:32.971094Z",
     "shell.execute_reply": "2021-06-23T17:57:32.971094Z"
    }
   },
   "outputs": [],
   "source": [
    "sc.server.free_all()"
   ]
  },
  {
   "cell_type": "code",
   "execution_count": 24,
   "metadata": {
    "execution": {
     "iopub.execute_input": "2021-06-23T17:57:32.974094Z",
     "iopub.status.busy": "2021-06-23T17:57:32.974094Z",
     "iopub.status.idle": "2021-06-23T17:57:34.155828Z",
     "shell.execute_reply": "2021-06-23T17:57:34.155828Z"
    }
   },
   "outputs": [],
   "source": [
    "sc.exit()"
   ]
  },
  {
   "cell_type": "code",
   "execution_count": null,
   "metadata": {},
   "outputs": [],
   "source": []
  }
 ],
 "metadata": {
  "language_info": {
   "codemirror_mode": {
    "name": "ipython",
    "version": 3
   },
   "file_extension": ".py",
   "mimetype": "text/x-python",
   "name": "python",
   "nbconvert_exporter": "python",
   "pygments_lexer": "ipython3",
   "version": "3.7.10"
  }
 },
 "nbformat": 4,
 "nbformat_minor": 4
}
