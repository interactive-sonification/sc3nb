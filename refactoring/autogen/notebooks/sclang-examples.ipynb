{
 "cells": [
  {
   "cell_type": "markdown",
   "metadata": {},
   "source": [
    "## Usage of sclang in sc3nb\n",
    "\n",
    "You can send commands and receive data directly from the SuperCollider Language"
   ]
  },
  {
   "cell_type": "code",
   "execution_count": 1,
   "metadata": {
    "execution": {
     "iopub.execute_input": "2021-06-23T17:56:51.636956Z",
     "iopub.status.busy": "2021-06-23T17:56:51.636956Z",
     "iopub.status.idle": "2021-06-23T17:56:51.816217Z",
     "shell.execute_reply": "2021-06-23T17:56:51.816217Z"
    }
   },
   "outputs": [],
   "source": [
    "import time\n",
    "import numpy as np\n",
    "\n",
    "import sc3nb as scn"
   ]
  },
  {
   "cell_type": "code",
   "execution_count": 2,
   "metadata": {
    "execution": {
     "iopub.execute_input": "2021-06-23T17:56:51.824217Z",
     "iopub.status.busy": "2021-06-23T17:56:51.824217Z",
     "iopub.status.idle": "2021-06-23T17:56:55.151427Z",
     "shell.execute_reply": "2021-06-23T17:56:55.151427Z"
    }
   },
   "outputs": [
    {
     "data": {
      "application/javascript": [
       "if (typeof Jupyter !== 'undefined') {\n",
       "                        Jupyter.keyboard_manager.command_shortcuts.add_shortcut(\n",
       "                        'Ctrl-.', {\n",
       "                        help : 'Free all nodes on SC server',\n",
       "                        help_index : 'zz',\n",
       "                        handler : function (event) {\n",
       "                            IPython.notebook.kernel.execute(\n",
       "                                \"import sc3nb; sc3nb.SC.get_default().server.free_all(root=True)\"\n",
       "                            )\n",
       "                            return true;}\n",
       "                        });\n",
       "                    }"
      ],
      "text/plain": [
       "<IPython.core.display.Javascript object>"
      ]
     },
     "metadata": {},
     "output_type": "display_data"
    },
    {
     "name": "stdout",
     "output_type": "stream",
     "text": [
      "Starting sclang process... "
     ]
    },
    {
     "name": "stdout",
     "output_type": "stream",
     "text": [
      "Done.\n",
      "Registering OSC /return callback in sclang... Done.\n",
      "Loading default sc3nb SynthDefs... Done.\n",
      "Booting SuperCollider Server... "
     ]
    },
    {
     "name": "stdout",
     "output_type": "stream",
     "text": [
      "Done.\n"
     ]
    }
   ],
   "source": [
    "sc = scn.startup()"
   ]
  },
  {
   "cell_type": "markdown",
   "metadata": {},
   "source": [
    "### sclang command execution"
   ]
  },
  {
   "cell_type": "markdown",
   "metadata": {},
   "source": [
    "To send sc3 commands (i.e. program strings) to the language, either use the functions\n",
    "- **`cmd()`** normal command sending.\n",
    "- **`cmdv()`** verbose, i.e. returning string is collected and output to notebook ( alias for `cmd(.., verbose=True)` )\n",
    "- **`cmdg()`** send program and get and parse the output ( alias for `cmd(.., get_return=True)` )"
   ]
  },
  {
   "cell_type": "code",
   "execution_count": 3,
   "metadata": {
    "code_folding": [],
    "execution": {
     "iopub.execute_input": "2021-06-23T17:56:55.154427Z",
     "iopub.status.busy": "2021-06-23T17:56:55.154427Z",
     "iopub.status.idle": "2021-06-23T17:56:55.167426Z",
     "shell.execute_reply": "2021-06-23T17:56:55.167426Z"
    }
   },
   "outputs": [
    {
     "name": "stdout",
     "output_type": "stream",
     "text": [
      "hello\n",
      "-> hello\n"
     ]
    }
   ],
   "source": [
    "# sc.cmd(cmdstr, pyvars)\n",
    "sc.lang.cmd('\"hello\".postln')  # check jupyter console for output"
   ]
  },
  {
   "cell_type": "markdown",
   "metadata": {},
   "source": [
    "use cmdv If sclang output should be displayed as cell output"
   ]
  },
  {
   "cell_type": "code",
   "execution_count": 4,
   "metadata": {
    "code_folding": [],
    "execution": {
     "iopub.execute_input": "2021-06-23T17:56:55.170426Z",
     "iopub.status.busy": "2021-06-23T17:56:55.170426Z",
     "iopub.status.idle": "2021-06-23T17:56:55.182426Z",
     "shell.execute_reply": "2021-06-23T17:56:55.182426Z"
    }
   },
   "outputs": [
    {
     "name": "stdout",
     "output_type": "stream",
     "text": [
      "sc3nb\n",
      "-> sc3nb\n"
     ]
    }
   ],
   "source": [
    "sc.lang.cmdv('\"sc3nb\".postln')  # also check jupyter console for output"
   ]
  },
  {
   "cell_type": "markdown",
   "metadata": {},
   "source": [
    "or use the corresponding Magics in Jupyter\n",
    "\n",
    "* Jupyter line magics **%sc, %scv, %scg, %scgv, %scgs, %scs**\n",
    "* Jupyter cell magics **%%sc, %%scv, %%scg, %%scgv, %%scgs, %%scs**\n",
    "\n",
    "which wrap the above functions: (v=verbose, g=get, s=silent, verbose is default, so %sc=%scv)\n",
    "See examples below"
   ]
  },
  {
   "cell_type": "markdown",
   "metadata": {},
   "source": [
    "Cell magics can be placed within code just as the function calls as shown here:"
   ]
  },
  {
   "cell_type": "code",
   "execution_count": 5,
   "metadata": {
    "execution": {
     "iopub.execute_input": "2021-06-23T17:56:55.188426Z",
     "iopub.status.busy": "2021-06-23T17:56:55.188426Z",
     "iopub.status.idle": "2021-06-23T17:56:58.060402Z",
     "shell.execute_reply": "2021-06-23T17:56:58.060402Z"
    }
   },
   "outputs": [
    {
     "name": "stdout",
     "output_type": "stream",
     "text": [
      "-> Synth('default' : 1000)\n"
     ]
    },
    {
     "name": "stdout",
     "output_type": "stream",
     "text": [
      "-> Synth('default' : 1000)\n"
     ]
    }
   ],
   "source": [
    "%sc x = Synth.new(\\default, [\\freq, 100])\n",
    "for p in range(1, 10):  # a bouncing ball\n",
    "    %scs Synth.new(\\s1, [\\freq, 200])  // this is sc cell so use sc3 comments instead of # \n",
    "    time.sleep(1/p)\n",
    "# NOTE: Windows needs delay between sclang inputs, so use sleep\n",
    "%sc x.free "
   ]
  },
  {
   "cell_type": "markdown",
   "metadata": {},
   "source": [
    "Use raw python strings for multi-line sc3-programs:"
   ]
  },
  {
   "cell_type": "code",
   "execution_count": 6,
   "metadata": {
    "execution": {
     "iopub.execute_input": "2021-06-23T17:56:58.064403Z",
     "iopub.status.busy": "2021-06-23T17:56:58.063404Z",
     "iopub.status.idle": "2021-06-23T17:56:58.075404Z",
     "shell.execute_reply": "2021-06-23T17:56:58.075404Z"
    }
   },
   "outputs": [
    {
     "name": "stdout",
     "output_type": "stream",
     "text": [
      "-> a Routine\n"
     ]
    }
   ],
   "source": [
    "sc.lang.cmd(r\"\"\"\n",
    "Routine({\n",
    "    x = 10.collect{ |i|\n",
    "        0.2.wait;\n",
    "        Synth.new(\\default, [\\freq, 50+(50*i)]);\n",
    "    };\n",
    "    1.wait;\n",
    "    x.do{|e| \n",
    "        e.release;\n",
    "        0.1.wait;};\n",
    "}).play;\n",
    "\"\"\")"
   ]
  },
  {
   "cell_type": "markdown",
   "metadata": {},
   "source": [
    "alternatively, you can use the cell magic:"
   ]
  },
  {
   "cell_type": "code",
   "execution_count": 7,
   "metadata": {
    "execution": {
     "iopub.execute_input": "2021-06-23T17:56:58.079401Z",
     "iopub.status.busy": "2021-06-23T17:56:58.078402Z",
     "iopub.status.idle": "2021-06-23T17:56:58.084402Z",
     "shell.execute_reply": "2021-06-23T17:56:58.084402Z"
    }
   },
   "outputs": [
    {
     "name": "stdout",
     "output_type": "stream",
     "text": [
      "-> a Routine\n"
     ]
    }
   ],
   "source": [
    "%%sc\n",
    "Routine({\n",
    "    x = 5.collect{ |i|\n",
    "        0.2.wait;\n",
    "        Synth.new(\\default, [\\freq, 50+(50*i)]);\n",
    "    };\n",
    "    1.wait;\n",
    "    x.do{|e| \n",
    "        e.release;\n",
    "        0.1.wait;};\n",
    "}).play;"
   ]
  },
  {
   "cell_type": "markdown",
   "metadata": {},
   "source": [
    "Note that the code is executed in sclang and python is returning directly after sending the command."
   ]
  },
  {
   "cell_type": "markdown",
   "metadata": {},
   "source": [
    "### sclang command execution with python variable injection"
   ]
  },
  {
   "cell_type": "markdown",
   "metadata": {},
   "source": [
    "Python variables can be injected into sc3 commands by using the ^ special: The following examples demonstrates it by setting frequencies by using python variables"
   ]
  },
  {
   "cell_type": "code",
   "execution_count": 8,
   "metadata": {
    "execution": {
     "iopub.execute_input": "2021-06-23T17:56:58.089404Z",
     "iopub.status.busy": "2021-06-23T17:56:58.089404Z",
     "iopub.status.idle": "2021-06-23T17:57:00.698530Z",
     "shell.execute_reply": "2021-06-23T17:57:00.698530Z"
    }
   },
   "outputs": [],
   "source": [
    "for p in range(1, 50):  # a tone ladder\n",
    "    freq = 50 + p*3\n",
    "    dur = np.log(p)\n",
    "    position = np.sign(p-25)\n",
    "    %scs Synth.new(\\s1, [\\freq, ^freq, \\dur, ^dur, \\pan, ^position])\n",
    "    time.sleep(0.05)"
   ]
  },
  {
   "cell_type": "markdown",
   "metadata": {},
   "source": [
    "This is injection is done with"
   ]
  },
  {
   "cell_type": "code",
   "execution_count": 9,
   "metadata": {
    "execution": {
     "iopub.execute_input": "2021-06-23T17:57:00.702532Z",
     "iopub.status.busy": "2021-06-23T17:57:00.701530Z",
     "iopub.status.idle": "2021-06-23T17:57:00.746530Z",
     "shell.execute_reply": "2021-06-23T17:57:00.746530Z"
    }
   },
   "outputs": [],
   "source": [
    "scn.sclang.convert_to_sc?"
   ]
  },
  {
   "cell_type": "code",
   "execution_count": 10,
   "metadata": {
    "execution": {
     "iopub.execute_input": "2021-06-23T17:57:00.749539Z",
     "iopub.status.busy": "2021-06-23T17:57:00.749539Z",
     "iopub.status.idle": "2021-06-23T17:57:00.754539Z",
     "shell.execute_reply": "2021-06-23T17:57:00.754539Z"
    }
   },
   "outputs": [
    {
     "name": "stdout",
     "output_type": "stream",
     "text": [
      "-> Array\n"
     ]
    }
   ],
   "source": [
    "python_list = [1,2,3,4]\n",
    "%sc ^python_list.class"
   ]
  },
  {
   "cell_type": "code",
   "execution_count": 11,
   "metadata": {
    "execution": {
     "iopub.execute_input": "2021-06-23T17:57:00.758541Z",
     "iopub.status.busy": "2021-06-23T17:57:00.757540Z",
     "iopub.status.idle": "2021-06-23T17:57:00.761540Z",
     "shell.execute_reply": "2021-06-23T17:57:00.761540Z"
    }
   },
   "outputs": [
    {
     "name": "stdout",
     "output_type": "stream",
     "text": [
      "-> Complex\n"
     ]
    }
   ],
   "source": [
    "complex_py = 1+1j\n",
    "%sc ^complex_py.class"
   ]
  },
  {
   "cell_type": "code",
   "execution_count": 12,
   "metadata": {
    "execution": {
     "iopub.execute_input": "2021-06-23T17:57:00.765539Z",
     "iopub.status.busy": "2021-06-23T17:57:00.765539Z",
     "iopub.status.idle": "2021-06-23T17:57:00.770544Z",
     "shell.execute_reply": "2021-06-23T17:57:00.771539Z"
    }
   },
   "outputs": [
    {
     "name": "stdout",
     "output_type": "stream",
     "text": [
      "-> Symbol\n"
     ]
    }
   ],
   "source": [
    "symbol = r\"\\\\python\"\n",
    "%sc ^symbol.class"
   ]
  },
  {
   "cell_type": "markdown",
   "metadata": {},
   "source": [
    "When using the `cmd` | `cmdv` | `cmdg` `cmds` functions you can also provide a dictionary with variable names as keys and content as values (which can use other python vars or statements)"
   ]
  },
  {
   "cell_type": "code",
   "execution_count": 13,
   "metadata": {
    "execution": {
     "iopub.execute_input": "2021-06-23T17:57:00.774539Z",
     "iopub.status.busy": "2021-06-23T17:57:00.773539Z",
     "iopub.status.idle": "2021-06-23T17:57:00.779539Z",
     "shell.execute_reply": "2021-06-23T17:57:00.780539Z"
    }
   },
   "outputs": [
    {
     "name": "stdout",
     "output_type": "stream",
     "text": [
      "-> 0.5\n"
     ]
    }
   ],
   "source": [
    "sc.lang.cmdv(\"^name1 / ^name2\", pyvars={'name1': 9,'name2': 9*2})"
   ]
  },
  {
   "cell_type": "code",
   "execution_count": 14,
   "metadata": {
    "execution": {
     "iopub.execute_input": "2021-06-23T17:57:00.782540Z",
     "iopub.status.busy": "2021-06-23T17:57:00.782540Z",
     "iopub.status.idle": "2021-06-23T17:57:00.793540Z",
     "shell.execute_reply": "2021-06-23T17:57:00.793540Z"
    }
   },
   "outputs": [
    {
     "name": "stdout",
     "output_type": "stream",
     "text": [
      "-> 42\n"
     ]
    }
   ],
   "source": [
    "# without providing pyvars, variables are searched in the users namespace.\n",
    "freq = 5\n",
    "rate = 6\n",
    "sc.lang.cmdv(\"(^freq + 1) * (^rate + 1)\")"
   ]
  },
  {
   "cell_type": "code",
   "execution_count": 15,
   "metadata": {
    "execution": {
     "iopub.execute_input": "2021-06-23T17:57:00.796540Z",
     "iopub.status.busy": "2021-06-23T17:57:00.796540Z",
     "iopub.status.idle": "2021-06-23T17:57:00.800538Z",
     "shell.execute_reply": "2021-06-23T17:57:00.800538Z"
    }
   },
   "outputs": [
    {
     "name": "stdout",
     "output_type": "stream",
     "text": [
      "-> 42\n"
     ]
    }
   ],
   "source": [
    "# alternatively via the magic this is done as:\n",
    "%scv (^freq + 1) * (^rate + 1)"
   ]
  },
  {
   "cell_type": "markdown",
   "metadata": {},
   "source": [
    "### Getting sclang output in python\n",
    "\n",
    "* To *get* the output of an sclang snippet into a python variable, use the cmdg function.\n",
    "* The following example shows how to transfer a synth's nodeID"
   ]
  },
  {
   "cell_type": "code",
   "execution_count": 16,
   "metadata": {
    "execution": {
     "iopub.execute_input": "2021-06-23T17:57:00.803540Z",
     "iopub.status.busy": "2021-06-23T17:57:00.802540Z",
     "iopub.status.idle": "2021-06-23T17:57:00.814540Z",
     "shell.execute_reply": "2021-06-23T17:57:00.814540Z"
    }
   },
   "outputs": [
    {
     "name": "stdout",
     "output_type": "stream",
     "text": [
      "-> Synth('default' : 1072)\n"
     ]
    }
   ],
   "source": [
    "# start a Synth\n",
    "sc.lang.cmd(r\"\"\"x = Synth.new(\\default)\"\"\")"
   ]
  },
  {
   "cell_type": "code",
   "execution_count": 17,
   "metadata": {
    "execution": {
     "iopub.execute_input": "2021-06-23T17:57:00.817540Z",
     "iopub.status.busy": "2021-06-23T17:57:00.816540Z",
     "iopub.status.idle": "2021-06-23T17:57:00.827539Z",
     "shell.execute_reply": "2021-06-23T17:57:00.827539Z"
    }
   },
   "outputs": [
    {
     "name": "stdout",
     "output_type": "stream",
     "text": [
      "-> 1072\n",
      "1072\n"
     ]
    }
   ],
   "source": [
    "# get the nodeId to python\n",
    "nodeID = sc.lang.cmdg(\"x.nodeID\")\n",
    "print(nodeID)"
   ]
  },
  {
   "cell_type": "code",
   "execution_count": 18,
   "metadata": {
    "execution": {
     "iopub.execute_input": "2021-06-23T17:57:00.830540Z",
     "iopub.status.busy": "2021-06-23T17:57:00.830540Z",
     "iopub.status.idle": "2021-06-23T17:57:00.834540Z",
     "shell.execute_reply": "2021-06-23T17:57:00.833539Z"
    }
   },
   "outputs": [],
   "source": [
    "# use the nodeID to free the Synth via a message to scsynth audio server directly\n",
    "sc.server.msg(\"/n_free\", nodeID)  "
   ]
  },
  {
   "cell_type": "markdown",
   "metadata": {},
   "source": [
    "**sc.cmdg(), resp. %scg return integers, floats, strings and lists**\n",
    "* %scg can be assigned to a python variable within code"
   ]
  },
  {
   "cell_type": "code",
   "execution_count": 19,
   "metadata": {
    "execution": {
     "iopub.execute_input": "2021-06-23T17:57:00.837539Z",
     "iopub.status.busy": "2021-06-23T17:57:00.837539Z",
     "iopub.status.idle": "2021-06-23T17:57:00.841539Z",
     "shell.execute_reply": "2021-06-23T17:57:00.841539Z"
    }
   },
   "outputs": [
    {
     "name": "stdout",
     "output_type": "stream",
     "text": [
      "-> 24686\n",
      "returned an <class 'int'> of value 24686\n"
     ]
    }
   ],
   "source": [
    "a = %scg 1234 + 23452\n",
    "print(f\"returned an {type(a)} of value {a}\")"
   ]
  },
  {
   "cell_type": "code",
   "execution_count": 20,
   "metadata": {
    "execution": {
     "iopub.execute_input": "2021-06-23T17:57:00.844540Z",
     "iopub.status.busy": "2021-06-23T17:57:00.844540Z",
     "iopub.status.idle": "2021-06-23T17:57:00.850548Z",
     "shell.execute_reply": "2021-06-23T17:57:00.849548Z"
    }
   },
   "outputs": [
    {
     "name": "stdout",
     "output_type": "stream",
     "text": [
      "-> 1523990.25\n",
      "returned an <class 'float'> of value 1523990.25\n"
     ]
    }
   ],
   "source": [
    "a = %scg 1234.5.squared\n",
    "print(f\"returned an {type(a)} of value {a}\")"
   ]
  },
  {
   "cell_type": "code",
   "execution_count": 21,
   "metadata": {
    "execution": {
     "iopub.execute_input": "2021-06-23T17:57:00.853550Z",
     "iopub.status.busy": "2021-06-23T17:57:00.852549Z",
     "iopub.status.idle": "2021-06-23T17:57:00.855549Z",
     "shell.execute_reply": "2021-06-23T17:57:00.855549Z"
    }
   },
   "outputs": [
    {
     "name": "stdout",
     "output_type": "stream",
     "text": [
      "-> tininsoocfia\n",
      "returned an <class 'str'> of value tininsoocfia\n"
     ]
    }
   ],
   "source": [
    "a = %scg \"sonification\".scramble\n",
    "print(f\"returned an {type(a)} of value {a}\")"
   ]
  },
  {
   "cell_type": "markdown",
   "metadata": {},
   "source": [
    "Be careful when using magics directly after another!"
   ]
  },
  {
   "cell_type": "code",
   "execution_count": 22,
   "metadata": {
    "execution": {
     "iopub.execute_input": "2021-06-23T17:57:00.859550Z",
     "iopub.status.busy": "2021-06-23T17:57:00.859550Z",
     "iopub.status.idle": "2021-06-23T17:57:00.867549Z",
     "shell.execute_reply": "2021-06-23T17:57:00.868548Z"
    }
   },
   "outputs": [
    {
     "name": "stdout",
     "output_type": "stream",
     "text": [
      "-> sfnnciioiato\n",
      "-> sfnnciioiato\n"
     ]
    },
    {
     "data": {
      "text/plain": [
       "'sfnnciioiato'"
      ]
     },
     "execution_count": 1,
     "metadata": {},
     "output_type": "execute_result"
    }
   ],
   "source": [
    "%sc ~retval = \"sonification\".scramble\n",
    "time.sleep(0.001)  # (in Windows) without pause an Empty might be thrown..\n",
    "%scg ~retval"
   ]
  },
  {
   "cell_type": "markdown",
   "metadata": {},
   "source": [
    "(in Windows) it should be prefered to combine your code in a single `cmd()` execution."
   ]
  },
  {
   "cell_type": "code",
   "execution_count": 23,
   "metadata": {
    "execution": {
     "iopub.execute_input": "2021-06-23T17:57:00.871548Z",
     "iopub.status.busy": "2021-06-23T17:57:00.871548Z",
     "iopub.status.idle": "2021-06-23T17:57:00.878549Z",
     "shell.execute_reply": "2021-06-23T17:57:00.878549Z"
    }
   },
   "outputs": [
    {
     "name": "stdout",
     "output_type": "stream",
     "text": [
      "-> ofcisnitnaoi!\n"
     ]
    },
    {
     "data": {
      "text/plain": [
       "'ofcisnitnaoi!'"
      ]
     },
     "execution_count": 1,
     "metadata": {},
     "output_type": "execute_result"
    }
   ],
   "source": [
    "scramble = %scg ~retval = \"sonification\".scramble; ~retval ++ \"!\";\n",
    "scramble"
   ]
  },
  {
   "cell_type": "code",
   "execution_count": 24,
   "metadata": {
    "execution": {
     "iopub.execute_input": "2021-06-23T17:57:00.882548Z",
     "iopub.status.busy": "2021-06-23T17:57:00.882548Z",
     "iopub.status.idle": "2021-06-23T17:57:00.886547Z",
     "shell.execute_reply": "2021-06-23T17:57:00.886547Z"
    }
   },
   "outputs": [
    {
     "name": "stdout",
     "output_type": "stream",
     "text": [
      "-> [ 1.0, 1.1, 1.2, 1.3, 1.4, 1.5, 1.6, 1.7, 1.8, 1.9 ]\n"
     ]
    }
   ],
   "source": [
    "a = %scg (1,1.1..2)"
   ]
  },
  {
   "cell_type": "code",
   "execution_count": 25,
   "metadata": {
    "execution": {
     "iopub.execute_input": "2021-06-23T17:57:00.890548Z",
     "iopub.status.busy": "2021-06-23T17:57:00.890548Z",
     "iopub.status.idle": "2021-06-23T17:57:00.893549Z",
     "shell.execute_reply": "2021-06-23T17:57:00.893549Z"
    }
   },
   "outputs": [
    {
     "data": {
      "text/plain": [
       "[1.0,\n",
       " 1.100000023841858,\n",
       " 1.2000000476837158,\n",
       " 1.2999999523162842,\n",
       " 1.399999976158142,\n",
       " 1.5,\n",
       " 1.600000023841858,\n",
       " 1.7000000476837158,\n",
       " 1.7999999523162842,\n",
       " 1.899999976158142]"
      ]
     },
     "execution_count": 1,
     "metadata": {},
     "output_type": "execute_result"
    }
   ],
   "source": [
    "a"
   ]
  },
  {
   "cell_type": "code",
   "execution_count": 26,
   "metadata": {
    "execution": {
     "iopub.execute_input": "2021-06-23T17:57:00.897548Z",
     "iopub.status.busy": "2021-06-23T17:57:00.896549Z",
     "iopub.status.idle": "2021-06-23T17:57:00.901552Z",
     "shell.execute_reply": "2021-06-23T17:57:00.901552Z"
    }
   },
   "outputs": [
    {
     "name": "stdout",
     "output_type": "stream",
     "text": [
      "-> [ 1.0, 1.1, 1.2, 1.3, 1.4, 1.5, 1.6, 1.7, 1.8, 1.9 ]\n",
      "list with length: 10\n"
     ]
    },
    {
     "data": {
      "text/plain": [
       "[1.0,\n",
       " 1.100000023841858,\n",
       " 1.2000000476837158,\n",
       " 1.2999999523162842,\n",
       " 1.399999976158142,\n",
       " 1.5,\n",
       " 1.600000023841858,\n",
       " 1.7000000476837158,\n",
       " 1.7999999523162842,\n",
       " 1.899999976158142]"
      ]
     },
     "execution_count": 1,
     "metadata": {},
     "output_type": "execute_result"
    }
   ],
   "source": [
    "a = %scg (1,1.1..2)\n",
    "print(f\"list with length: {len(a)}\")\n",
    "a"
   ]
  },
  {
   "cell_type": "markdown",
   "metadata": {},
   "source": [
    "Note that floating-point numbers do only have limited precision"
   ]
  },
  {
   "cell_type": "code",
   "execution_count": 27,
   "metadata": {
    "execution": {
     "iopub.execute_input": "2021-06-23T17:57:00.905549Z",
     "iopub.status.busy": "2021-06-23T17:57:00.905549Z",
     "iopub.status.idle": "2021-06-23T17:57:00.908549Z",
     "shell.execute_reply": "2021-06-23T17:57:00.908549Z"
    }
   },
   "outputs": [
    {
     "data": {
      "text/plain": [
       "[1.0, 1.1, 1.2, 1.3, 1.4, 1.5, 1.6, 1.7, 1.8, 1.9]"
      ]
     },
     "execution_count": 1,
     "metadata": {},
     "output_type": "execute_result"
    }
   ],
   "source": [
    "[round(num, 6) for num in a]"
   ]
  },
  {
   "cell_type": "markdown",
   "metadata": {},
   "source": [
    "However they should be close"
   ]
  },
  {
   "cell_type": "code",
   "execution_count": 28,
   "metadata": {
    "execution": {
     "iopub.execute_input": "2021-06-23T17:57:00.912548Z",
     "iopub.status.busy": "2021-06-23T17:57:00.912548Z",
     "iopub.status.idle": "2021-06-23T17:57:00.914548Z",
     "shell.execute_reply": "2021-06-23T17:57:00.914548Z"
    }
   },
   "outputs": [
    {
     "data": {
      "text/plain": [
       "True"
      ]
     },
     "execution_count": 1,
     "metadata": {},
     "output_type": "execute_result"
    }
   ],
   "source": [
    "np.allclose(a, np.arange(1, 2, 0.1))"
   ]
  },
  {
   "cell_type": "markdown",
   "metadata": {},
   "source": [
    "### Cell magics"
   ]
  },
  {
   "cell_type": "code",
   "execution_count": 29,
   "metadata": {
    "execution": {
     "iopub.execute_input": "2021-06-23T17:57:00.919548Z",
     "iopub.status.busy": "2021-06-23T17:57:00.917547Z",
     "iopub.status.idle": "2021-06-23T17:57:00.923549Z",
     "shell.execute_reply": "2021-06-23T17:57:00.923549Z"
    }
   },
   "outputs": [
    {
     "name": "stdout",
     "output_type": "stream",
     "text": [
      "-> Synth('temp__0' : 1073)\n"
     ]
    }
   ],
   "source": [
    "%sc {SinOsc.ar(MouseX.kr(200,400))}.play  // move mouse horizontally, CMD-. to stop"
   ]
  },
  {
   "cell_type": "code",
   "execution_count": 30,
   "metadata": {
    "execution": {
     "iopub.execute_input": "2021-06-23T17:57:00.926549Z",
     "iopub.status.busy": "2021-06-23T17:57:00.925549Z",
     "iopub.status.idle": "2021-06-23T17:57:00.943551Z",
     "shell.execute_reply": "2021-06-23T17:57:00.943551Z"
    }
   },
   "outputs": [
    {
     "name": "stdout",
     "output_type": "stream",
     "text": [
      "-> a Stethoscope\n"
     ]
    }
   ],
   "source": [
    "%sc s.scope()"
   ]
  },
  {
   "cell_type": "code",
   "execution_count": 31,
   "metadata": {
    "execution": {
     "iopub.execute_input": "2021-06-23T17:57:00.947549Z",
     "iopub.status.busy": "2021-06-23T17:57:00.946548Z",
     "iopub.status.idle": "2021-06-23T17:57:00.970022Z",
     "shell.execute_reply": "2021-06-23T17:57:00.971023Z"
    }
   },
   "outputs": [
    {
     "name": "stdout",
     "output_type": "stream",
     "text": [
      "-> sc3nb_remote\n"
     ]
    }
   ],
   "source": [
    "%sc s.freeAll"
   ]
  },
  {
   "cell_type": "code",
   "execution_count": 32,
   "metadata": {
    "execution": {
     "iopub.execute_input": "2021-06-23T17:57:00.975024Z",
     "iopub.status.busy": "2021-06-23T17:57:00.974025Z",
     "iopub.status.idle": "2021-06-23T17:57:00.978631Z",
     "shell.execute_reply": "2021-06-23T17:57:00.978631Z"
    }
   },
   "outputs": [
    {
     "name": "stdout",
     "output_type": "stream",
     "text": [
      "-> 42\n",
      "value =  42\n"
     ]
    }
   ],
   "source": [
    "value = %scg 75-33\n",
    "print(\"value = \", value)"
   ]
  },
  {
   "cell_type": "code",
   "execution_count": 33,
   "metadata": {
    "execution": {
     "iopub.execute_input": "2021-06-23T17:57:00.982633Z",
     "iopub.status.busy": "2021-06-23T17:57:00.982633Z",
     "iopub.status.idle": "2021-06-23T17:57:00.988632Z",
     "shell.execute_reply": "2021-06-23T17:57:00.987631Z"
    }
   },
   "outputs": [
    {
     "name": "stdout",
     "output_type": "stream",
     "text": [
      "-> a Routine\n"
     ]
    }
   ],
   "source": [
    "%%sc\n",
    "{\n",
    "    x = Synth.new(\\s2, [\\freq, 100, \\num, 1]);\n",
    "    250.do{|i|\n",
    "        x.set(\\freq, sin(0.2*i.pow(1.5))*100 + 200);\n",
    "        0.02.wait;\n",
    "    };\n",
    "    x.free;\n",
    "}.fork"
   ]
  },
  {
   "cell_type": "markdown",
   "metadata": {},
   "source": [
    "* Try %scv and %%scv for verbose lines resp. cells\n",
    "* Try %scg and %%scg for getter lines resp. cells\n",
    "* Try %scs and %%scs for silent lines resp. cells"
   ]
  },
  {
   "cell_type": "markdown",
   "metadata": {},
   "source": [
    "### Stop synths"
   ]
  },
  {
   "cell_type": "code",
   "execution_count": 34,
   "metadata": {
    "code_folding": [],
    "execution": {
     "iopub.execute_input": "2021-06-23T17:57:00.992633Z",
     "iopub.status.busy": "2021-06-23T17:57:00.991638Z",
     "iopub.status.idle": "2021-06-23T17:57:00.999632Z",
     "shell.execute_reply": "2021-06-23T17:57:00.999632Z"
    }
   },
   "outputs": [
    {
     "name": "stdout",
     "output_type": "stream",
     "text": [
      "-> Synth('default' : 1076)\n"
     ]
    }
   ],
   "source": [
    "synth = \"default\"\n",
    "%sc x = Synth.new(^synth)"
   ]
  },
  {
   "cell_type": "markdown",
   "metadata": {},
   "source": [
    "* to stop all playing synths either use CMD-. (in Jupyter Command mode).\n",
    "* It is a shortcut for the ´free_all´ method of the default server"
   ]
  },
  {
   "cell_type": "code",
   "execution_count": 35,
   "metadata": {
    "execution": {
     "iopub.execute_input": "2021-06-23T17:57:01.003632Z",
     "iopub.status.busy": "2021-06-23T17:57:01.003632Z",
     "iopub.status.idle": "2021-06-23T17:57:01.010631Z",
     "shell.execute_reply": "2021-06-23T17:57:01.010631Z"
    }
   },
   "outputs": [
    {
     "name": "stdout",
     "output_type": "stream",
     "text": [
      "-> sc3nb_remote\n"
     ]
    }
   ],
   "source": [
    "%sc s.freeAll  // leaves the s.scope running"
   ]
  },
  {
   "cell_type": "code",
   "execution_count": 36,
   "metadata": {
    "execution": {
     "iopub.execute_input": "2021-06-23T17:57:01.013631Z",
     "iopub.status.busy": "2021-06-23T17:57:01.013631Z",
     "iopub.status.idle": "2021-06-23T17:57:01.082160Z",
     "shell.execute_reply": "2021-06-23T17:57:01.081158Z"
    }
   },
   "outputs": [],
   "source": [
    "scn.SC.default.server.free_all()"
   ]
  },
  {
   "cell_type": "markdown",
   "metadata": {},
   "source": [
    "which is also available using our `sc` instance directly"
   ]
  },
  {
   "cell_type": "code",
   "execution_count": 37,
   "metadata": {
    "execution": {
     "iopub.execute_input": "2021-06-23T17:57:01.085159Z",
     "iopub.status.busy": "2021-06-23T17:57:01.084160Z",
     "iopub.status.idle": "2021-06-23T17:57:01.163458Z",
     "shell.execute_reply": "2021-06-23T17:57:01.162457Z"
    }
   },
   "outputs": [],
   "source": [
    "sc.server.free_all()"
   ]
  },
  {
   "cell_type": "code",
   "execution_count": 38,
   "metadata": {
    "execution": {
     "iopub.execute_input": "2021-06-23T17:57:01.166457Z",
     "iopub.status.busy": "2021-06-23T17:57:01.165459Z",
     "iopub.status.idle": "2021-06-23T17:57:07.193297Z",
     "shell.execute_reply": "2021-06-23T17:57:07.193297Z"
    }
   },
   "outputs": [],
   "source": [
    "sc.exit()"
   ]
  }
 ],
 "metadata": {
  "hide_input": false,
  "language_info": {
   "codemirror_mode": {
    "name": "ipython",
    "version": 3
   },
   "file_extension": ".py",
   "mimetype": "text/x-python",
   "name": "python",
   "nbconvert_exporter": "python",
   "pygments_lexer": "ipython3",
   "version": "3.7.10"
  },
  "toc": {
   "base_numbering": 1,
   "nav_menu": {},
   "number_sections": true,
   "sideBar": true,
   "skip_h1_title": false,
   "title_cell": "Table of Contents",
   "title_sidebar": "Contents",
   "toc_cell": false,
   "toc_position": {},
   "toc_section_display": true,
   "toc_window_display": false
  }
 },
 "nbformat": 4,
 "nbformat_minor": 4
}
