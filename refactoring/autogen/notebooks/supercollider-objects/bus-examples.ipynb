{
 "cells": [
  {
   "cell_type": "markdown",
   "metadata": {},
   "source": [
    "# Bus"
   ]
  },
  {
   "cell_type": "code",
   "execution_count": 1,
   "metadata": {
    "execution": {
     "iopub.execute_input": "2021-06-10T16:08:24.041588Z",
     "iopub.status.busy": "2021-06-10T16:08:24.040587Z",
     "iopub.status.idle": "2021-06-10T16:08:24.214587Z",
     "shell.execute_reply": "2021-06-10T16:08:24.214587Z"
    }
   },
   "outputs": [],
   "source": [
    "import sc3nb as scn"
   ]
  },
  {
   "cell_type": "code",
   "execution_count": 2,
   "metadata": {
    "execution": {
     "iopub.execute_input": "2021-06-10T16:08:24.222587Z",
     "iopub.status.busy": "2021-06-10T16:08:24.222587Z",
     "iopub.status.idle": "2021-06-10T16:08:27.469375Z",
     "shell.execute_reply": "2021-06-10T16:08:27.469375Z"
    }
   },
   "outputs": [
    {
     "data": {
      "application/javascript": [
       "if (typeof Jupyter !== 'undefined') {\n",
       "                        Jupyter.keyboard_manager.command_shortcuts.add_shortcut(\n",
       "                        'Ctrl-.', {\n",
       "                        help : 'Free all nodes on SC server',\n",
       "                        help_index : 'zz',\n",
       "                        handler : function (event) {\n",
       "                            IPython.notebook.kernel.execute(\n",
       "                                \"import sc3nb; sc3nb.SC.get_default().server.free_all(root=True)\"\n",
       "                            )\n",
       "                            return true;}\n",
       "                        });\n",
       "                    }"
      ],
      "text/plain": [
       "<IPython.core.display.Javascript object>"
      ]
     },
     "metadata": {},
     "output_type": "display_data"
    },
    {
     "name": "stdout",
     "output_type": "stream",
     "text": [
      "Starting sclang process...\n"
     ]
    },
    {
     "name": "stdout",
     "output_type": "stream",
     "text": [
      "Done.\n",
      "Registering OSC /return callback in sclang...\n",
      "Done.\n",
      "Loading default SynthDescs\n",
      "Done.\n",
      "Booting SuperCollider Server...\n"
     ]
    },
    {
     "name": "stdout",
     "output_type": "stream",
     "text": [
      "Done.\n"
     ]
    }
   ],
   "source": [
    "sc = scn.startup()"
   ]
  },
  {
   "cell_type": "markdown",
   "metadata": {},
   "source": [
    "## Using a Control Bus"
   ]
  },
  {
   "cell_type": "code",
   "execution_count": 3,
   "metadata": {
    "execution": {
     "iopub.execute_input": "2021-06-10T16:08:27.474375Z",
     "iopub.status.busy": "2021-06-10T16:08:27.473375Z",
     "iopub.status.idle": "2021-06-10T16:08:27.475375Z",
     "shell.execute_reply": "2021-06-10T16:08:27.475375Z"
    }
   },
   "outputs": [
    {
     "data": {
      "text/plain": [
       "Bus(control, ids=[512])"
      ]
     },
     "execution_count": 1,
     "metadata": {},
     "output_type": "execute_result"
    }
   ],
   "source": [
    "bus = scn.Bus('control')\n",
    "bus"
   ]
  },
  {
   "cell_type": "code",
   "execution_count": 4,
   "metadata": {
    "execution": {
     "iopub.execute_input": "2021-06-10T16:08:27.478375Z",
     "iopub.status.busy": "2021-06-10T16:08:27.478375Z",
     "iopub.status.idle": "2021-06-10T16:08:27.491376Z",
     "shell.execute_reply": "2021-06-10T16:08:27.491376Z"
    }
   },
   "outputs": [
    {
     "data": {
      "text/plain": [
       "0.0"
      ]
     },
     "execution_count": 1,
     "metadata": {},
     "output_type": "execute_result"
    }
   ],
   "source": [
    "bus.get()"
   ]
  },
  {
   "cell_type": "code",
   "execution_count": 5,
   "metadata": {
    "execution": {
     "iopub.execute_input": "2021-06-10T16:08:27.495378Z",
     "iopub.status.busy": "2021-06-10T16:08:27.494380Z",
     "iopub.status.idle": "2021-06-10T16:08:27.506379Z",
     "shell.execute_reply": "2021-06-10T16:08:27.505374Z"
    }
   },
   "outputs": [],
   "source": [
    "syn = scn.Synth(\"s2\")"
   ]
  },
  {
   "cell_type": "markdown",
   "metadata": {},
   "source": [
    "map the frequency of the synth to the bus value"
   ]
  },
  {
   "cell_type": "code",
   "execution_count": 6,
   "metadata": {
    "execution": {
     "iopub.execute_input": "2021-06-10T16:08:27.510377Z",
     "iopub.status.busy": "2021-06-10T16:08:27.509376Z",
     "iopub.status.idle": "2021-06-10T16:08:27.512378Z",
     "shell.execute_reply": "2021-06-10T16:08:27.511378Z"
    }
   },
   "outputs": [
    {
     "data": {
      "text/plain": [
       "<Synth(20001) 's2' ~ {}>"
      ]
     },
     "execution_count": 1,
     "metadata": {},
     "output_type": "execute_result"
    }
   ],
   "source": [
    "syn.map(\"freq\", bus)"
   ]
  },
  {
   "cell_type": "code",
   "execution_count": 7,
   "metadata": {
    "execution": {
     "iopub.execute_input": "2021-06-10T16:08:27.516375Z",
     "iopub.status.busy": "2021-06-10T16:08:27.515375Z",
     "iopub.status.idle": "2021-06-10T16:08:27.518376Z",
     "shell.execute_reply": "2021-06-10T16:08:27.519374Z"
    }
   },
   "outputs": [
    {
     "data": {
      "text/plain": [
       "Bus(control, ids=[512])"
      ]
     },
     "execution_count": 1,
     "metadata": {},
     "output_type": "execute_result"
    }
   ],
   "source": [
    "bus.set(120) # changes synths frequency"
   ]
  },
  {
   "cell_type": "code",
   "execution_count": 8,
   "metadata": {
    "execution": {
     "iopub.execute_input": "2021-06-10T16:08:27.522375Z",
     "iopub.status.busy": "2021-06-10T16:08:27.522375Z",
     "iopub.status.idle": "2021-06-10T16:08:27.524376Z",
     "shell.execute_reply": "2021-06-10T16:08:27.525374Z"
    }
   },
   "outputs": [
    {
     "data": {
      "text/plain": [
       "Bus(control, ids=[512])"
      ]
     },
     "execution_count": 1,
     "metadata": {},
     "output_type": "execute_result"
    }
   ],
   "source": [
    "bus.set(440)"
   ]
  },
  {
   "cell_type": "markdown",
   "metadata": {},
   "source": [
    "Set the frequency value to remove the mapping"
   ]
  },
  {
   "cell_type": "code",
   "execution_count": 9,
   "metadata": {
    "execution": {
     "iopub.execute_input": "2021-06-10T16:08:27.528374Z",
     "iopub.status.busy": "2021-06-10T16:08:27.528374Z",
     "iopub.status.idle": "2021-06-10T16:08:27.530375Z",
     "shell.execute_reply": "2021-06-10T16:08:27.530375Z"
    }
   },
   "outputs": [
    {
     "data": {
      "text/plain": [
       "<Synth(20001) 's2' ~ {'freq': 220}>"
      ]
     },
     "execution_count": 1,
     "metadata": {},
     "output_type": "execute_result"
    }
   ],
   "source": [
    "syn.set(\"freq\", 220)"
   ]
  },
  {
   "cell_type": "code",
   "execution_count": 10,
   "metadata": {
    "execution": {
     "iopub.execute_input": "2021-06-10T16:08:27.534376Z",
     "iopub.status.busy": "2021-06-10T16:08:27.533376Z",
     "iopub.status.idle": "2021-06-10T16:08:27.535377Z",
     "shell.execute_reply": "2021-06-10T16:08:27.535377Z"
    }
   },
   "outputs": [
    {
     "data": {
      "text/plain": [
       "Bus(control, ids=[512])"
      ]
     },
     "execution_count": 1,
     "metadata": {},
     "output_type": "execute_result"
    }
   ],
   "source": [
    "bus.set(440)  # no change"
   ]
  },
  {
   "cell_type": "code",
   "execution_count": 11,
   "metadata": {
    "execution": {
     "iopub.execute_input": "2021-06-10T16:08:27.539375Z",
     "iopub.status.busy": "2021-06-10T16:08:27.538374Z",
     "iopub.status.idle": "2021-06-10T16:08:27.542374Z",
     "shell.execute_reply": "2021-06-10T16:08:27.542374Z"
    }
   },
   "outputs": [
    {
     "data": {
      "text/plain": [
       "<Synth(20001) 's2' ~f {'freq': 220}>"
      ]
     },
     "execution_count": 1,
     "metadata": {},
     "output_type": "execute_result"
    }
   ],
   "source": [
    "syn.free()"
   ]
  },
  {
   "cell_type": "markdown",
   "metadata": {},
   "source": [
    "Free the bus to mark the bus id as available again"
   ]
  },
  {
   "cell_type": "code",
   "execution_count": 12,
   "metadata": {
    "execution": {
     "iopub.execute_input": "2021-06-10T16:08:27.545373Z",
     "iopub.status.busy": "2021-06-10T16:08:27.544373Z",
     "iopub.status.idle": "2021-06-10T16:08:27.547375Z",
     "shell.execute_reply": "2021-06-10T16:08:27.546374Z"
    }
   },
   "outputs": [],
   "source": [
    "bus.free()"
   ]
  },
  {
   "cell_type": "markdown",
   "metadata": {},
   "source": [
    "## Use multiple Control Buses"
   ]
  },
  {
   "cell_type": "code",
   "execution_count": 13,
   "metadata": {
    "execution": {
     "iopub.execute_input": "2021-06-10T16:08:27.550374Z",
     "iopub.status.busy": "2021-06-10T16:08:27.549374Z",
     "iopub.status.idle": "2021-06-10T16:08:27.588374Z",
     "shell.execute_reply": "2021-06-10T16:08:27.588374Z"
    }
   },
   "outputs": [],
   "source": [
    "synth_name = scn.SynthDef(\"busMulti\", \"\"\"{ |out, freqs=#[200, 400], rates=#[1, 2] |\n",
    "    Out.ar(out, Splay.ar(SinOsc.ar(freqs) * Decay2.ar(Impulse.ar(rates), 0.001, 0.1)) * 0.5);\n",
    "}\"\"\").add()"
   ]
  },
  {
   "cell_type": "code",
   "execution_count": 14,
   "metadata": {
    "execution": {
     "iopub.execute_input": "2021-06-10T16:08:27.591374Z",
     "iopub.status.busy": "2021-06-10T16:08:27.591374Z",
     "iopub.status.idle": "2021-06-10T16:08:27.593374Z",
     "shell.execute_reply": "2021-06-10T16:08:27.593374Z"
    }
   },
   "outputs": [
    {
     "data": {
      "text/plain": [
       "Bus(control, ids=[512, 513])"
      ]
     },
     "execution_count": 1,
     "metadata": {},
     "output_type": "execute_result"
    }
   ],
   "source": [
    "buses = scn.Bus(\"control\", 2)\n",
    "buses"
   ]
  },
  {
   "cell_type": "code",
   "execution_count": 15,
   "metadata": {
    "execution": {
     "iopub.execute_input": "2021-06-10T16:08:27.595374Z",
     "iopub.status.busy": "2021-06-10T16:08:27.595374Z",
     "iopub.status.idle": "2021-06-10T16:08:27.600374Z",
     "shell.execute_reply": "2021-06-10T16:08:27.600374Z"
    }
   },
   "outputs": [
    {
     "data": {
      "text/plain": [
       "[0.0, 0.0]"
      ]
     },
     "execution_count": 1,
     "metadata": {},
     "output_type": "execute_result"
    }
   ],
   "source": [
    "buses.get()"
   ]
  },
  {
   "cell_type": "code",
   "execution_count": 16,
   "metadata": {
    "execution": {
     "iopub.execute_input": "2021-06-10T16:08:27.603374Z",
     "iopub.status.busy": "2021-06-10T16:08:27.602372Z",
     "iopub.status.idle": "2021-06-10T16:08:27.612375Z",
     "shell.execute_reply": "2021-06-10T16:08:27.612375Z"
    }
   },
   "outputs": [],
   "source": [
    "syn = scn.Synth(synth_name)"
   ]
  },
  {
   "cell_type": "code",
   "execution_count": 17,
   "metadata": {
    "execution": {
     "iopub.execute_input": "2021-06-10T16:08:27.616375Z",
     "iopub.status.busy": "2021-06-10T16:08:27.615375Z",
     "iopub.status.idle": "2021-06-10T16:08:27.619373Z",
     "shell.execute_reply": "2021-06-10T16:08:27.619373Z"
    }
   },
   "outputs": [
    {
     "data": {
      "text/plain": [
       "<Synth(20002) 'busMulti' s {}>"
      ]
     },
     "execution_count": 1,
     "metadata": {},
     "output_type": "execute_result"
    }
   ],
   "source": [
    "syn.map(\"rates\", buses)"
   ]
  },
  {
   "cell_type": "code",
   "execution_count": 18,
   "metadata": {
    "execution": {
     "iopub.execute_input": "2021-06-10T16:08:27.623374Z",
     "iopub.status.busy": "2021-06-10T16:08:27.622373Z",
     "iopub.status.idle": "2021-06-10T16:08:27.624375Z",
     "shell.execute_reply": "2021-06-10T16:08:27.624375Z"
    }
   },
   "outputs": [
    {
     "data": {
      "text/plain": [
       "Bus(control, ids=[512, 513])"
      ]
     },
     "execution_count": 1,
     "metadata": {},
     "output_type": "execute_result"
    }
   ],
   "source": [
    "buses.set(1, 1)"
   ]
  },
  {
   "cell_type": "code",
   "execution_count": 19,
   "metadata": {
    "execution": {
     "iopub.execute_input": "2021-06-10T16:08:27.628375Z",
     "iopub.status.busy": "2021-06-10T16:08:27.627372Z",
     "iopub.status.idle": "2021-06-10T16:08:27.631375Z",
     "shell.execute_reply": "2021-06-10T16:08:27.631375Z"
    }
   },
   "outputs": [
    {
     "data": {
      "text/plain": [
       "Bus(control, ids=[512, 513])"
      ]
     },
     "execution_count": 1,
     "metadata": {},
     "output_type": "execute_result"
    }
   ],
   "source": [
    "buses.set(1, 2)"
   ]
  },
  {
   "cell_type": "code",
   "execution_count": 20,
   "metadata": {
    "execution": {
     "iopub.execute_input": "2021-06-10T16:08:27.634374Z",
     "iopub.status.busy": "2021-06-10T16:08:27.633373Z",
     "iopub.status.idle": "2021-06-10T16:08:27.639375Z",
     "shell.execute_reply": "2021-06-10T16:08:27.639375Z"
    }
   },
   "outputs": [
    {
     "data": {
      "text/plain": [
       "[1.0, 2.0]"
      ]
     },
     "execution_count": 1,
     "metadata": {},
     "output_type": "execute_result"
    }
   ],
   "source": [
    "buses.get()"
   ]
  },
  {
   "cell_type": "code",
   "execution_count": 21,
   "metadata": {
    "execution": {
     "iopub.execute_input": "2021-06-10T16:08:27.642374Z",
     "iopub.status.busy": "2021-06-10T16:08:27.642374Z",
     "iopub.status.idle": "2021-06-10T16:08:27.644374Z",
     "shell.execute_reply": "2021-06-10T16:08:27.644374Z"
    }
   },
   "outputs": [
    {
     "data": {
      "text/plain": [
       "<Synth(20002) 'busMulti' ~f {}>"
      ]
     },
     "execution_count": 1,
     "metadata": {},
     "output_type": "execute_result"
    }
   ],
   "source": [
    "syn.free()"
   ]
  },
  {
   "cell_type": "code",
   "execution_count": 22,
   "metadata": {
    "execution": {
     "iopub.execute_input": "2021-06-10T16:08:27.648375Z",
     "iopub.status.busy": "2021-06-10T16:08:27.647372Z",
     "iopub.status.idle": "2021-06-10T16:08:27.649374Z",
     "shell.execute_reply": "2021-06-10T16:08:27.649374Z"
    }
   },
   "outputs": [],
   "source": [
    "buses.free()"
   ]
  },
  {
   "cell_type": "code",
   "execution_count": 23,
   "metadata": {
    "execution": {
     "iopub.execute_input": "2021-06-10T16:08:27.651374Z",
     "iopub.status.busy": "2021-06-10T16:08:27.651374Z",
     "iopub.status.idle": "2021-06-10T16:08:27.698407Z",
     "shell.execute_reply": "2021-06-10T16:08:27.698407Z"
    }
   },
   "outputs": [],
   "source": [
    "sc.server.free_all()"
   ]
  },
  {
   "cell_type": "code",
   "execution_count": 24,
   "metadata": {
    "execution": {
     "iopub.execute_input": "2021-06-10T16:08:27.701408Z",
     "iopub.status.busy": "2021-06-10T16:08:27.700407Z",
     "iopub.status.idle": "2021-06-10T16:08:28.882630Z",
     "shell.execute_reply": "2021-06-10T16:08:28.882630Z"
    }
   },
   "outputs": [],
   "source": [
    "sc.exit()"
   ]
  },
  {
   "cell_type": "code",
   "execution_count": null,
   "metadata": {},
   "outputs": [],
   "source": []
  }
 ],
 "metadata": {
  "language_info": {
   "codemirror_mode": {
    "name": "ipython",
    "version": 3
   },
   "file_extension": ".py",
   "mimetype": "text/x-python",
   "name": "python",
   "nbconvert_exporter": "python",
   "pygments_lexer": "ipython3",
   "version": "3.7.10"
  }
 },
 "nbformat": 4,
 "nbformat_minor": 4
}
