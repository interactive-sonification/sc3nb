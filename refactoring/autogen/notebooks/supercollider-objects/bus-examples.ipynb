{
 "cells": [
  {
   "cell_type": "markdown",
   "metadata": {},
   "source": [
    "# Bus"
   ]
  },
  {
   "cell_type": "code",
   "execution_count": 1,
   "metadata": {
    "execution": {
     "iopub.execute_input": "2021-06-22T10:11:41.028808Z",
     "iopub.status.busy": "2021-06-22T10:11:41.028808Z",
     "iopub.status.idle": "2021-06-22T10:11:41.206809Z",
     "shell.execute_reply": "2021-06-22T10:11:41.206809Z"
    }
   },
   "outputs": [],
   "source": [
    "import sc3nb as scn"
   ]
  },
  {
   "cell_type": "code",
   "execution_count": 2,
   "metadata": {
    "execution": {
     "iopub.execute_input": "2021-06-22T10:11:41.214809Z",
     "iopub.status.busy": "2021-06-22T10:11:41.214809Z",
     "iopub.status.idle": "2021-06-22T10:11:44.882707Z",
     "shell.execute_reply": "2021-06-22T10:11:44.882707Z"
    }
   },
   "outputs": [
    {
     "data": {
      "application/javascript": [
       "if (typeof Jupyter !== 'undefined') {\n",
       "                        Jupyter.keyboard_manager.command_shortcuts.add_shortcut(\n",
       "                        'Ctrl-.', {\n",
       "                        help : 'Free all nodes on SC server',\n",
       "                        help_index : 'zz',\n",
       "                        handler : function (event) {\n",
       "                            IPython.notebook.kernel.execute(\n",
       "                                \"import sc3nb; sc3nb.SC.get_default().server.free_all(root=True)\"\n",
       "                            )\n",
       "                            return true;}\n",
       "                        });\n",
       "                    }"
      ],
      "text/plain": [
       "<IPython.core.display.Javascript object>"
      ]
     },
     "metadata": {},
     "output_type": "display_data"
    },
    {
     "name": "stdout",
     "output_type": "stream",
     "text": [
      "Starting sclang process... "
     ]
    },
    {
     "name": "stdout",
     "output_type": "stream",
     "text": [
      "Done.\n",
      "Registering OSC /return callback in sclang... Done.\n",
      "Loading default sc3nb SynthDefs... Done.\n",
      "Booting SuperCollider Server... "
     ]
    },
    {
     "name": "stdout",
     "output_type": "stream",
     "text": [
      "Done.\n"
     ]
    }
   ],
   "source": [
    "sc = scn.startup()"
   ]
  },
  {
   "cell_type": "markdown",
   "metadata": {},
   "source": [
    "## Using a Control Bus"
   ]
  },
  {
   "cell_type": "code",
   "execution_count": 3,
   "metadata": {
    "execution": {
     "iopub.execute_input": "2021-06-22T10:11:44.886710Z",
     "iopub.status.busy": "2021-06-22T10:11:44.885707Z",
     "iopub.status.idle": "2021-06-22T10:11:44.887711Z",
     "shell.execute_reply": "2021-06-22T10:11:44.887711Z"
    }
   },
   "outputs": [
    {
     "data": {
      "text/plain": [
       "Bus(rate='control', ids=[512])"
      ]
     },
     "execution_count": 1,
     "metadata": {},
     "output_type": "execute_result"
    }
   ],
   "source": [
    "bus = scn.Bus('control')\n",
    "bus"
   ]
  },
  {
   "cell_type": "code",
   "execution_count": 4,
   "metadata": {
    "execution": {
     "iopub.execute_input": "2021-06-22T10:11:44.890708Z",
     "iopub.status.busy": "2021-06-22T10:11:44.889709Z",
     "iopub.status.idle": "2021-06-22T10:11:44.912708Z",
     "shell.execute_reply": "2021-06-22T10:11:44.912708Z"
    }
   },
   "outputs": [
    {
     "data": {
      "text/plain": [
       "0.0"
      ]
     },
     "execution_count": 1,
     "metadata": {},
     "output_type": "execute_result"
    }
   ],
   "source": [
    "bus.get()"
   ]
  },
  {
   "cell_type": "code",
   "execution_count": 5,
   "metadata": {
    "execution": {
     "iopub.execute_input": "2021-06-22T10:11:44.915708Z",
     "iopub.status.busy": "2021-06-22T10:11:44.914708Z",
     "iopub.status.idle": "2021-06-22T10:11:44.926707Z",
     "shell.execute_reply": "2021-06-22T10:11:44.927707Z"
    }
   },
   "outputs": [],
   "source": [
    "syn = scn.Synth(\"s2\")"
   ]
  },
  {
   "cell_type": "markdown",
   "metadata": {},
   "source": [
    "map the frequency of the synth to the bus value"
   ]
  },
  {
   "cell_type": "code",
   "execution_count": 6,
   "metadata": {
    "execution": {
     "iopub.execute_input": "2021-06-22T10:11:44.930709Z",
     "iopub.status.busy": "2021-06-22T10:11:44.930709Z",
     "iopub.status.idle": "2021-06-22T10:11:44.932708Z",
     "shell.execute_reply": "2021-06-22T10:11:44.932708Z"
    }
   },
   "outputs": [
    {
     "data": {
      "text/plain": [
       "<Synth(20001) 's2' s {}>"
      ]
     },
     "execution_count": 1,
     "metadata": {},
     "output_type": "execute_result"
    }
   ],
   "source": [
    "syn.map(\"freq\", bus)"
   ]
  },
  {
   "cell_type": "code",
   "execution_count": 7,
   "metadata": {
    "execution": {
     "iopub.execute_input": "2021-06-22T10:11:44.935708Z",
     "iopub.status.busy": "2021-06-22T10:11:44.934708Z",
     "iopub.status.idle": "2021-06-22T10:11:44.937708Z",
     "shell.execute_reply": "2021-06-22T10:11:44.937708Z"
    }
   },
   "outputs": [
    {
     "data": {
      "text/plain": [
       "Bus(rate='control', ids=[512])"
      ]
     },
     "execution_count": 1,
     "metadata": {},
     "output_type": "execute_result"
    }
   ],
   "source": [
    "bus.set(120) # changes synths frequency"
   ]
  },
  {
   "cell_type": "code",
   "execution_count": 8,
   "metadata": {
    "execution": {
     "iopub.execute_input": "2021-06-22T10:11:44.940710Z",
     "iopub.status.busy": "2021-06-22T10:11:44.940710Z",
     "iopub.status.idle": "2021-06-22T10:11:44.942710Z",
     "shell.execute_reply": "2021-06-22T10:11:44.942710Z"
    }
   },
   "outputs": [
    {
     "data": {
      "text/plain": [
       "Bus(rate='control', ids=[512])"
      ]
     },
     "execution_count": 1,
     "metadata": {},
     "output_type": "execute_result"
    }
   ],
   "source": [
    "bus.set(440)"
   ]
  },
  {
   "cell_type": "markdown",
   "metadata": {},
   "source": [
    "Set the frequency value to remove the mapping"
   ]
  },
  {
   "cell_type": "code",
   "execution_count": 9,
   "metadata": {
    "execution": {
     "iopub.execute_input": "2021-06-22T10:11:44.946709Z",
     "iopub.status.busy": "2021-06-22T10:11:44.945708Z",
     "iopub.status.idle": "2021-06-22T10:11:44.948708Z",
     "shell.execute_reply": "2021-06-22T10:11:44.948708Z"
    }
   },
   "outputs": [
    {
     "data": {
      "text/plain": [
       "<Synth(20001) 's2' ~ {'freq': 220}>"
      ]
     },
     "execution_count": 1,
     "metadata": {},
     "output_type": "execute_result"
    }
   ],
   "source": [
    "syn.set(\"freq\", 220)"
   ]
  },
  {
   "cell_type": "code",
   "execution_count": 10,
   "metadata": {
    "execution": {
     "iopub.execute_input": "2021-06-22T10:11:44.950708Z",
     "iopub.status.busy": "2021-06-22T10:11:44.950708Z",
     "iopub.status.idle": "2021-06-22T10:11:44.953708Z",
     "shell.execute_reply": "2021-06-22T10:11:44.953708Z"
    }
   },
   "outputs": [
    {
     "data": {
      "text/plain": [
       "Bus(rate='control', ids=[512])"
      ]
     },
     "execution_count": 1,
     "metadata": {},
     "output_type": "execute_result"
    }
   ],
   "source": [
    "bus.set(440)  # no change"
   ]
  },
  {
   "cell_type": "code",
   "execution_count": 11,
   "metadata": {
    "execution": {
     "iopub.execute_input": "2021-06-22T10:11:44.955708Z",
     "iopub.status.busy": "2021-06-22T10:11:44.955708Z",
     "iopub.status.idle": "2021-06-22T10:11:44.958708Z",
     "shell.execute_reply": "2021-06-22T10:11:44.958708Z"
    }
   },
   "outputs": [
    {
     "data": {
      "text/plain": [
       "<Synth(20001) 's2' f {'freq': 220}>"
      ]
     },
     "execution_count": 1,
     "metadata": {},
     "output_type": "execute_result"
    }
   ],
   "source": [
    "syn.free()"
   ]
  },
  {
   "cell_type": "markdown",
   "metadata": {},
   "source": [
    "Free the bus to mark the bus id as available again"
   ]
  },
  {
   "cell_type": "code",
   "execution_count": 12,
   "metadata": {
    "execution": {
     "iopub.execute_input": "2021-06-22T10:11:44.961707Z",
     "iopub.status.busy": "2021-06-22T10:11:44.961707Z",
     "iopub.status.idle": "2021-06-22T10:11:44.963708Z",
     "shell.execute_reply": "2021-06-22T10:11:44.963708Z"
    }
   },
   "outputs": [],
   "source": [
    "bus.free()"
   ]
  },
  {
   "cell_type": "markdown",
   "metadata": {},
   "source": [
    "## Use multiple Control Buses"
   ]
  },
  {
   "cell_type": "code",
   "execution_count": 13,
   "metadata": {
    "execution": {
     "iopub.execute_input": "2021-06-22T10:11:44.966708Z",
     "iopub.status.busy": "2021-06-22T10:11:44.965707Z",
     "iopub.status.idle": "2021-06-22T10:11:44.993742Z",
     "shell.execute_reply": "2021-06-22T10:11:44.993742Z"
    }
   },
   "outputs": [],
   "source": [
    "synth_name = scn.SynthDef(\"busMulti\", \"\"\"{ |out, freqs=#[200, 400], rates=#[1, 2] |\n",
    "    Out.ar(out, Splay.ar(SinOsc.ar(freqs) * Decay2.ar(Impulse.ar(rates), 0.001, 0.1)) * 0.5);\n",
    "}\"\"\").add()"
   ]
  },
  {
   "cell_type": "code",
   "execution_count": 14,
   "metadata": {
    "execution": {
     "iopub.execute_input": "2021-06-22T10:11:44.997742Z",
     "iopub.status.busy": "2021-06-22T10:11:44.996741Z",
     "iopub.status.idle": "2021-06-22T10:11:44.998743Z",
     "shell.execute_reply": "2021-06-22T10:11:44.998743Z"
    }
   },
   "outputs": [
    {
     "data": {
      "text/plain": [
       "Bus(rate='control', ids=[512, 513])"
      ]
     },
     "execution_count": 1,
     "metadata": {},
     "output_type": "execute_result"
    }
   ],
   "source": [
    "buses = scn.Bus(\"control\", 2)\n",
    "buses"
   ]
  },
  {
   "cell_type": "code",
   "execution_count": 15,
   "metadata": {
    "execution": {
     "iopub.execute_input": "2021-06-22T10:11:45.001743Z",
     "iopub.status.busy": "2021-06-22T10:11:45.001743Z",
     "iopub.status.idle": "2021-06-22T10:11:45.013718Z",
     "shell.execute_reply": "2021-06-22T10:11:45.013718Z"
    }
   },
   "outputs": [
    {
     "data": {
      "text/plain": [
       "[0.0, 0.0]"
      ]
     },
     "execution_count": 1,
     "metadata": {},
     "output_type": "execute_result"
    }
   ],
   "source": [
    "buses.get()"
   ]
  },
  {
   "cell_type": "code",
   "execution_count": 16,
   "metadata": {
    "execution": {
     "iopub.execute_input": "2021-06-22T10:11:45.016721Z",
     "iopub.status.busy": "2021-06-22T10:11:45.015718Z",
     "iopub.status.idle": "2021-06-22T10:11:45.028718Z",
     "shell.execute_reply": "2021-06-22T10:11:45.028718Z"
    }
   },
   "outputs": [],
   "source": [
    "syn = scn.Synth(synth_name)"
   ]
  },
  {
   "cell_type": "code",
   "execution_count": 17,
   "metadata": {
    "execution": {
     "iopub.execute_input": "2021-06-22T10:11:45.032720Z",
     "iopub.status.busy": "2021-06-22T10:11:45.031720Z",
     "iopub.status.idle": "2021-06-22T10:11:45.035720Z",
     "shell.execute_reply": "2021-06-22T10:11:45.035720Z"
    }
   },
   "outputs": [
    {
     "data": {
      "text/plain": [
       "<Synth(20002) 'busMulti' ~ {}>"
      ]
     },
     "execution_count": 1,
     "metadata": {},
     "output_type": "execute_result"
    }
   ],
   "source": [
    "syn.map(\"rates\", buses)"
   ]
  },
  {
   "cell_type": "code",
   "execution_count": 18,
   "metadata": {
    "execution": {
     "iopub.execute_input": "2021-06-22T10:11:45.039720Z",
     "iopub.status.busy": "2021-06-22T10:11:45.038719Z",
     "iopub.status.idle": "2021-06-22T10:11:45.042719Z",
     "shell.execute_reply": "2021-06-22T10:11:45.042719Z"
    }
   },
   "outputs": [
    {
     "data": {
      "text/plain": [
       "Bus(rate='control', ids=[512, 513])"
      ]
     },
     "execution_count": 1,
     "metadata": {},
     "output_type": "execute_result"
    }
   ],
   "source": [
    "buses.set(1, 1)"
   ]
  },
  {
   "cell_type": "code",
   "execution_count": 19,
   "metadata": {
    "execution": {
     "iopub.execute_input": "2021-06-22T10:11:45.045718Z",
     "iopub.status.busy": "2021-06-22T10:11:45.045718Z",
     "iopub.status.idle": "2021-06-22T10:11:45.049719Z",
     "shell.execute_reply": "2021-06-22T10:11:45.049719Z"
    }
   },
   "outputs": [
    {
     "data": {
      "text/plain": [
       "Bus(rate='control', ids=[512, 513])"
      ]
     },
     "execution_count": 1,
     "metadata": {},
     "output_type": "execute_result"
    }
   ],
   "source": [
    "buses.set(1, 2)"
   ]
  },
  {
   "cell_type": "code",
   "execution_count": 20,
   "metadata": {
    "execution": {
     "iopub.execute_input": "2021-06-22T10:11:45.052720Z",
     "iopub.status.busy": "2021-06-22T10:11:45.051722Z",
     "iopub.status.idle": "2021-06-22T10:11:45.062728Z",
     "shell.execute_reply": "2021-06-22T10:11:45.062728Z"
    }
   },
   "outputs": [
    {
     "data": {
      "text/plain": [
       "[1.0, 2.0]"
      ]
     },
     "execution_count": 1,
     "metadata": {},
     "output_type": "execute_result"
    }
   ],
   "source": [
    "buses.get()"
   ]
  },
  {
   "cell_type": "code",
   "execution_count": 21,
   "metadata": {
    "execution": {
     "iopub.execute_input": "2021-06-22T10:11:45.064728Z",
     "iopub.status.busy": "2021-06-22T10:11:45.064728Z",
     "iopub.status.idle": "2021-06-22T10:11:45.067728Z",
     "shell.execute_reply": "2021-06-22T10:11:45.067728Z"
    }
   },
   "outputs": [
    {
     "data": {
      "text/plain": [
       "<Synth(20002) 'busMulti' f {}>"
      ]
     },
     "execution_count": 1,
     "metadata": {},
     "output_type": "execute_result"
    }
   ],
   "source": [
    "syn.free()"
   ]
  },
  {
   "cell_type": "code",
   "execution_count": 22,
   "metadata": {
    "execution": {
     "iopub.execute_input": "2021-06-22T10:11:45.069728Z",
     "iopub.status.busy": "2021-06-22T10:11:45.069728Z",
     "iopub.status.idle": "2021-06-22T10:11:45.072728Z",
     "shell.execute_reply": "2021-06-22T10:11:45.072728Z"
    }
   },
   "outputs": [],
   "source": [
    "buses.free()"
   ]
  },
  {
   "cell_type": "code",
   "execution_count": 23,
   "metadata": {
    "execution": {
     "iopub.execute_input": "2021-06-22T10:11:45.074728Z",
     "iopub.status.busy": "2021-06-22T10:11:45.074728Z",
     "iopub.status.idle": "2021-06-22T10:11:45.161239Z",
     "shell.execute_reply": "2021-06-22T10:11:45.161239Z"
    }
   },
   "outputs": [],
   "source": [
    "sc.server.free_all()"
   ]
  },
  {
   "cell_type": "code",
   "execution_count": 24,
   "metadata": {
    "execution": {
     "iopub.execute_input": "2021-06-22T10:11:45.164239Z",
     "iopub.status.busy": "2021-06-22T10:11:45.163239Z",
     "iopub.status.idle": "2021-06-22T10:11:46.335847Z",
     "shell.execute_reply": "2021-06-22T10:11:46.336857Z"
    }
   },
   "outputs": [],
   "source": [
    "sc.exit()"
   ]
  },
  {
   "cell_type": "code",
   "execution_count": null,
   "metadata": {},
   "outputs": [],
   "source": []
  }
 ],
 "metadata": {
  "language_info": {
   "codemirror_mode": {
    "name": "ipython",
    "version": 3
   },
   "file_extension": ".py",
   "mimetype": "text/x-python",
   "name": "python",
   "nbconvert_exporter": "python",
   "pygments_lexer": "ipython3",
   "version": "3.7.10"
  }
 },
 "nbformat": 4,
 "nbformat_minor": 4
}
