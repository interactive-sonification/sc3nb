{
 "cells": [
  {
   "cell_type": "markdown",
   "metadata": {},
   "source": [
    "# Bus"
   ]
  },
  {
   "cell_type": "code",
   "execution_count": 1,
   "metadata": {
    "execution": {
     "iopub.execute_input": "2021-06-21T18:30:01.805783Z",
     "iopub.status.busy": "2021-06-21T18:30:01.804783Z",
     "iopub.status.idle": "2021-06-21T18:30:02.005820Z",
     "shell.execute_reply": "2021-06-21T18:30:02.005820Z"
    }
   },
   "outputs": [],
   "source": [
    "import sc3nb as scn"
   ]
  },
  {
   "cell_type": "code",
   "execution_count": 2,
   "metadata": {
    "execution": {
     "iopub.execute_input": "2021-06-21T18:30:02.014821Z",
     "iopub.status.busy": "2021-06-21T18:30:02.013819Z",
     "iopub.status.idle": "2021-06-21T18:30:05.728646Z",
     "shell.execute_reply": "2021-06-21T18:30:05.728646Z"
    }
   },
   "outputs": [
    {
     "data": {
      "application/javascript": [
       "if (typeof Jupyter !== 'undefined') {\n",
       "                        Jupyter.keyboard_manager.command_shortcuts.add_shortcut(\n",
       "                        'Ctrl-.', {\n",
       "                        help : 'Free all nodes on SC server',\n",
       "                        help_index : 'zz',\n",
       "                        handler : function (event) {\n",
       "                            IPython.notebook.kernel.execute(\n",
       "                                \"import sc3nb; sc3nb.SC.get_default().server.free_all(root=True)\"\n",
       "                            )\n",
       "                            return true;}\n",
       "                        });\n",
       "                    }"
      ],
      "text/plain": [
       "<IPython.core.display.Javascript object>"
      ]
     },
     "metadata": {},
     "output_type": "display_data"
    },
    {
     "name": "stdout",
     "output_type": "stream",
     "text": [
      "Starting sclang process...\n"
     ]
    },
    {
     "name": "stdout",
     "output_type": "stream",
     "text": [
      "Done.\n",
      "Registering OSC /return callback in sclang...\n",
      "Done.\n",
      "Loading default SynthDescs\n",
      "Done.\n",
      "Booting SuperCollider Server...\n"
     ]
    },
    {
     "name": "stdout",
     "output_type": "stream",
     "text": [
      "Done.\n"
     ]
    }
   ],
   "source": [
    "sc = scn.startup()"
   ]
  },
  {
   "cell_type": "markdown",
   "metadata": {},
   "source": [
    "## Using a Control Bus"
   ]
  },
  {
   "cell_type": "code",
   "execution_count": 3,
   "metadata": {
    "execution": {
     "iopub.execute_input": "2021-06-21T18:30:05.731645Z",
     "iopub.status.busy": "2021-06-21T18:30:05.731645Z",
     "iopub.status.idle": "2021-06-21T18:30:05.733647Z",
     "shell.execute_reply": "2021-06-21T18:30:05.733647Z"
    }
   },
   "outputs": [
    {
     "data": {
      "text/plain": [
       "Bus(control, ids=[512])"
      ]
     },
     "execution_count": 1,
     "metadata": {},
     "output_type": "execute_result"
    }
   ],
   "source": [
    "bus = scn.Bus('control')\n",
    "bus"
   ]
  },
  {
   "cell_type": "code",
   "execution_count": 4,
   "metadata": {
    "execution": {
     "iopub.execute_input": "2021-06-21T18:30:05.735645Z",
     "iopub.status.busy": "2021-06-21T18:30:05.735645Z",
     "iopub.status.idle": "2021-06-21T18:30:05.749672Z",
     "shell.execute_reply": "2021-06-21T18:30:05.749672Z"
    }
   },
   "outputs": [
    {
     "data": {
      "text/plain": [
       "0.0"
      ]
     },
     "execution_count": 1,
     "metadata": {},
     "output_type": "execute_result"
    }
   ],
   "source": [
    "bus.get()"
   ]
  },
  {
   "cell_type": "code",
   "execution_count": 5,
   "metadata": {
    "execution": {
     "iopub.execute_input": "2021-06-21T18:30:05.752672Z",
     "iopub.status.busy": "2021-06-21T18:30:05.751672Z",
     "iopub.status.idle": "2021-06-21T18:30:05.762672Z",
     "shell.execute_reply": "2021-06-21T18:30:05.763670Z"
    }
   },
   "outputs": [],
   "source": [
    "syn = scn.Synth(\"s2\")"
   ]
  },
  {
   "cell_type": "markdown",
   "metadata": {},
   "source": [
    "map the frequency of the synth to the bus value"
   ]
  },
  {
   "cell_type": "code",
   "execution_count": 6,
   "metadata": {
    "execution": {
     "iopub.execute_input": "2021-06-21T18:30:05.766672Z",
     "iopub.status.busy": "2021-06-21T18:30:05.765671Z",
     "iopub.status.idle": "2021-06-21T18:30:05.769672Z",
     "shell.execute_reply": "2021-06-21T18:30:05.769672Z"
    }
   },
   "outputs": [
    {
     "data": {
      "text/plain": [
       "<Synth(20001) 's2' s {}>"
      ]
     },
     "execution_count": 1,
     "metadata": {},
     "output_type": "execute_result"
    }
   ],
   "source": [
    "syn.map(\"freq\", bus)"
   ]
  },
  {
   "cell_type": "code",
   "execution_count": 7,
   "metadata": {
    "execution": {
     "iopub.execute_input": "2021-06-21T18:30:05.772672Z",
     "iopub.status.busy": "2021-06-21T18:30:05.771672Z",
     "iopub.status.idle": "2021-06-21T18:30:05.775672Z",
     "shell.execute_reply": "2021-06-21T18:30:05.775672Z"
    }
   },
   "outputs": [
    {
     "data": {
      "text/plain": [
       "Bus(control, ids=[512])"
      ]
     },
     "execution_count": 1,
     "metadata": {},
     "output_type": "execute_result"
    }
   ],
   "source": [
    "bus.set(120) # changes synths frequency"
   ]
  },
  {
   "cell_type": "code",
   "execution_count": 8,
   "metadata": {
    "execution": {
     "iopub.execute_input": "2021-06-21T18:30:05.778672Z",
     "iopub.status.busy": "2021-06-21T18:30:05.778672Z",
     "iopub.status.idle": "2021-06-21T18:30:05.781672Z",
     "shell.execute_reply": "2021-06-21T18:30:05.781672Z"
    }
   },
   "outputs": [
    {
     "data": {
      "text/plain": [
       "Bus(control, ids=[512])"
      ]
     },
     "execution_count": 1,
     "metadata": {},
     "output_type": "execute_result"
    }
   ],
   "source": [
    "bus.set(440)"
   ]
  },
  {
   "cell_type": "markdown",
   "metadata": {},
   "source": [
    "Set the frequency value to remove the mapping"
   ]
  },
  {
   "cell_type": "code",
   "execution_count": 9,
   "metadata": {
    "execution": {
     "iopub.execute_input": "2021-06-21T18:30:05.785672Z",
     "iopub.status.busy": "2021-06-21T18:30:05.785672Z",
     "iopub.status.idle": "2021-06-21T18:30:05.788934Z",
     "shell.execute_reply": "2021-06-21T18:30:05.788934Z"
    }
   },
   "outputs": [
    {
     "data": {
      "text/plain": [
       "<Synth(20001) 's2' ~ {'freq': 220}>"
      ]
     },
     "execution_count": 1,
     "metadata": {},
     "output_type": "execute_result"
    }
   ],
   "source": [
    "syn.set(\"freq\", 220)"
   ]
  },
  {
   "cell_type": "code",
   "execution_count": 10,
   "metadata": {
    "execution": {
     "iopub.execute_input": "2021-06-21T18:30:05.791934Z",
     "iopub.status.busy": "2021-06-21T18:30:05.791934Z",
     "iopub.status.idle": "2021-06-21T18:30:05.794933Z",
     "shell.execute_reply": "2021-06-21T18:30:05.794933Z"
    }
   },
   "outputs": [
    {
     "data": {
      "text/plain": [
       "Bus(control, ids=[512])"
      ]
     },
     "execution_count": 1,
     "metadata": {},
     "output_type": "execute_result"
    }
   ],
   "source": [
    "bus.set(440)  # no change"
   ]
  },
  {
   "cell_type": "code",
   "execution_count": 11,
   "metadata": {
    "execution": {
     "iopub.execute_input": "2021-06-21T18:30:05.797934Z",
     "iopub.status.busy": "2021-06-21T18:30:05.797934Z",
     "iopub.status.idle": "2021-06-21T18:30:05.799934Z",
     "shell.execute_reply": "2021-06-21T18:30:05.799934Z"
    }
   },
   "outputs": [
    {
     "data": {
      "text/plain": [
       "<Synth(20001) 's2' f {'freq': 220}>"
      ]
     },
     "execution_count": 1,
     "metadata": {},
     "output_type": "execute_result"
    }
   ],
   "source": [
    "syn.free()"
   ]
  },
  {
   "cell_type": "markdown",
   "metadata": {},
   "source": [
    "Free the bus to mark the bus id as available again"
   ]
  },
  {
   "cell_type": "code",
   "execution_count": 12,
   "metadata": {
    "execution": {
     "iopub.execute_input": "2021-06-21T18:30:05.802934Z",
     "iopub.status.busy": "2021-06-21T18:30:05.802934Z",
     "iopub.status.idle": "2021-06-21T18:30:05.804933Z",
     "shell.execute_reply": "2021-06-21T18:30:05.804933Z"
    }
   },
   "outputs": [],
   "source": [
    "bus.free()"
   ]
  },
  {
   "cell_type": "markdown",
   "metadata": {},
   "source": [
    "## Use multiple Control Buses"
   ]
  },
  {
   "cell_type": "code",
   "execution_count": 13,
   "metadata": {
    "execution": {
     "iopub.execute_input": "2021-06-21T18:30:05.807933Z",
     "iopub.status.busy": "2021-06-21T18:30:05.807933Z",
     "iopub.status.idle": "2021-06-21T18:30:05.838933Z",
     "shell.execute_reply": "2021-06-21T18:30:05.838933Z"
    }
   },
   "outputs": [],
   "source": [
    "synth_name = scn.SynthDef(\"busMulti\", \"\"\"{ |out, freqs=#[200, 400], rates=#[1, 2] |\n",
    "    Out.ar(out, Splay.ar(SinOsc.ar(freqs) * Decay2.ar(Impulse.ar(rates), 0.001, 0.1)) * 0.5);\n",
    "}\"\"\").add()"
   ]
  },
  {
   "cell_type": "code",
   "execution_count": 14,
   "metadata": {
    "execution": {
     "iopub.execute_input": "2021-06-21T18:30:05.841933Z",
     "iopub.status.busy": "2021-06-21T18:30:05.841933Z",
     "iopub.status.idle": "2021-06-21T18:30:05.843934Z",
     "shell.execute_reply": "2021-06-21T18:30:05.843934Z"
    }
   },
   "outputs": [
    {
     "data": {
      "text/plain": [
       "Bus(control, ids=[512, 513])"
      ]
     },
     "execution_count": 1,
     "metadata": {},
     "output_type": "execute_result"
    }
   ],
   "source": [
    "buses = scn.Bus(\"control\", 2)\n",
    "buses"
   ]
  },
  {
   "cell_type": "code",
   "execution_count": 15,
   "metadata": {
    "execution": {
     "iopub.execute_input": "2021-06-21T18:30:05.845932Z",
     "iopub.status.busy": "2021-06-21T18:30:05.845932Z",
     "iopub.status.idle": "2021-06-21T18:30:05.859950Z",
     "shell.execute_reply": "2021-06-21T18:30:05.859950Z"
    }
   },
   "outputs": [
    {
     "data": {
      "text/plain": [
       "[0.0, 0.0]"
      ]
     },
     "execution_count": 1,
     "metadata": {},
     "output_type": "execute_result"
    }
   ],
   "source": [
    "buses.get()"
   ]
  },
  {
   "cell_type": "code",
   "execution_count": 16,
   "metadata": {
    "execution": {
     "iopub.execute_input": "2021-06-21T18:30:05.863950Z",
     "iopub.status.busy": "2021-06-21T18:30:05.863950Z",
     "iopub.status.idle": "2021-06-21T18:30:05.877951Z",
     "shell.execute_reply": "2021-06-21T18:30:05.877951Z"
    }
   },
   "outputs": [],
   "source": [
    "syn = scn.Synth(synth_name)"
   ]
  },
  {
   "cell_type": "code",
   "execution_count": 17,
   "metadata": {
    "execution": {
     "iopub.execute_input": "2021-06-21T18:30:05.882949Z",
     "iopub.status.busy": "2021-06-21T18:30:05.881950Z",
     "iopub.status.idle": "2021-06-21T18:30:05.885950Z",
     "shell.execute_reply": "2021-06-21T18:30:05.884950Z"
    }
   },
   "outputs": [
    {
     "data": {
      "text/plain": [
       "<Synth(20002) 'busMulti' ~ {}>"
      ]
     },
     "execution_count": 1,
     "metadata": {},
     "output_type": "execute_result"
    }
   ],
   "source": [
    "syn.map(\"rates\", buses)"
   ]
  },
  {
   "cell_type": "code",
   "execution_count": 18,
   "metadata": {
    "execution": {
     "iopub.execute_input": "2021-06-21T18:30:05.888950Z",
     "iopub.status.busy": "2021-06-21T18:30:05.888950Z",
     "iopub.status.idle": "2021-06-21T18:30:05.891949Z",
     "shell.execute_reply": "2021-06-21T18:30:05.891949Z"
    }
   },
   "outputs": [
    {
     "data": {
      "text/plain": [
       "Bus(control, ids=[512, 513])"
      ]
     },
     "execution_count": 1,
     "metadata": {},
     "output_type": "execute_result"
    }
   ],
   "source": [
    "buses.set(1, 1)"
   ]
  },
  {
   "cell_type": "code",
   "execution_count": 19,
   "metadata": {
    "execution": {
     "iopub.execute_input": "2021-06-21T18:30:05.894950Z",
     "iopub.status.busy": "2021-06-21T18:30:05.894950Z",
     "iopub.status.idle": "2021-06-21T18:30:05.898948Z",
     "shell.execute_reply": "2021-06-21T18:30:05.899949Z"
    }
   },
   "outputs": [
    {
     "data": {
      "text/plain": [
       "Bus(control, ids=[512, 513])"
      ]
     },
     "execution_count": 1,
     "metadata": {},
     "output_type": "execute_result"
    }
   ],
   "source": [
    "buses.set(1, 2)"
   ]
  },
  {
   "cell_type": "code",
   "execution_count": 20,
   "metadata": {
    "execution": {
     "iopub.execute_input": "2021-06-21T18:30:05.902949Z",
     "iopub.status.busy": "2021-06-21T18:30:05.902949Z",
     "iopub.status.idle": "2021-06-21T18:30:05.908949Z",
     "shell.execute_reply": "2021-06-21T18:30:05.908949Z"
    }
   },
   "outputs": [
    {
     "data": {
      "text/plain": [
       "[1.0, 2.0]"
      ]
     },
     "execution_count": 1,
     "metadata": {},
     "output_type": "execute_result"
    }
   ],
   "source": [
    "buses.get()"
   ]
  },
  {
   "cell_type": "code",
   "execution_count": 21,
   "metadata": {
    "execution": {
     "iopub.execute_input": "2021-06-21T18:30:05.911948Z",
     "iopub.status.busy": "2021-06-21T18:30:05.910948Z",
     "iopub.status.idle": "2021-06-21T18:30:05.914948Z",
     "shell.execute_reply": "2021-06-21T18:30:05.914948Z"
    }
   },
   "outputs": [
    {
     "data": {
      "text/plain": [
       "<Synth(20002) 'busMulti' f {}>"
      ]
     },
     "execution_count": 1,
     "metadata": {},
     "output_type": "execute_result"
    }
   ],
   "source": [
    "syn.free()"
   ]
  },
  {
   "cell_type": "code",
   "execution_count": 22,
   "metadata": {
    "execution": {
     "iopub.execute_input": "2021-06-21T18:30:05.917949Z",
     "iopub.status.busy": "2021-06-21T18:30:05.916949Z",
     "iopub.status.idle": "2021-06-21T18:30:05.918949Z",
     "shell.execute_reply": "2021-06-21T18:30:05.918949Z"
    }
   },
   "outputs": [],
   "source": [
    "buses.free()"
   ]
  },
  {
   "cell_type": "code",
   "execution_count": 23,
   "metadata": {
    "execution": {
     "iopub.execute_input": "2021-06-21T18:30:05.921949Z",
     "iopub.status.busy": "2021-06-21T18:30:05.920948Z",
     "iopub.status.idle": "2021-06-21T18:30:05.968949Z",
     "shell.execute_reply": "2021-06-21T18:30:05.968949Z"
    }
   },
   "outputs": [],
   "source": [
    "sc.server.free_all()"
   ]
  },
  {
   "cell_type": "code",
   "execution_count": 24,
   "metadata": {
    "execution": {
     "iopub.execute_input": "2021-06-21T18:30:05.971948Z",
     "iopub.status.busy": "2021-06-21T18:30:05.971948Z",
     "iopub.status.idle": "2021-06-21T18:30:07.152308Z",
     "shell.execute_reply": "2021-06-21T18:30:07.152308Z"
    }
   },
   "outputs": [],
   "source": [
    "sc.exit()"
   ]
  },
  {
   "cell_type": "code",
   "execution_count": null,
   "metadata": {},
   "outputs": [],
   "source": []
  }
 ],
 "metadata": {
  "language_info": {
   "codemirror_mode": {
    "name": "ipython",
    "version": 3
   },
   "file_extension": ".py",
   "mimetype": "text/x-python",
   "name": "python",
   "nbconvert_exporter": "python",
   "pygments_lexer": "ipython3",
   "version": "3.7.10"
  }
 },
 "nbformat": 4,
 "nbformat_minor": 4
}
