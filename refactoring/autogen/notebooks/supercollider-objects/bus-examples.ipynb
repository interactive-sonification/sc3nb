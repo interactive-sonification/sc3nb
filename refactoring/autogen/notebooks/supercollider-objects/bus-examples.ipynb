{
 "cells": [
  {
   "cell_type": "markdown",
   "metadata": {},
   "source": [
    "# Bus"
   ]
  },
  {
   "cell_type": "code",
   "execution_count": 1,
   "metadata": {
    "execution": {
     "iopub.execute_input": "2021-06-10T16:16:58.705307Z",
     "iopub.status.busy": "2021-06-10T16:16:58.704308Z",
     "iopub.status.idle": "2021-06-10T16:16:58.896637Z",
     "shell.execute_reply": "2021-06-10T16:16:58.896637Z"
    }
   },
   "outputs": [],
   "source": [
    "import sc3nb as scn"
   ]
  },
  {
   "cell_type": "code",
   "execution_count": 2,
   "metadata": {
    "execution": {
     "iopub.execute_input": "2021-06-10T16:16:58.904645Z",
     "iopub.status.busy": "2021-06-10T16:16:58.904645Z",
     "iopub.status.idle": "2021-06-10T16:17:02.084152Z",
     "shell.execute_reply": "2021-06-10T16:17:02.085152Z"
    }
   },
   "outputs": [
    {
     "data": {
      "application/javascript": [
       "if (typeof Jupyter !== 'undefined') {\n",
       "                        Jupyter.keyboard_manager.command_shortcuts.add_shortcut(\n",
       "                        'Ctrl-.', {\n",
       "                        help : 'Free all nodes on SC server',\n",
       "                        help_index : 'zz',\n",
       "                        handler : function (event) {\n",
       "                            IPython.notebook.kernel.execute(\n",
       "                                \"import sc3nb; sc3nb.SC.get_default().server.free_all(root=True)\"\n",
       "                            )\n",
       "                            return true;}\n",
       "                        });\n",
       "                    }"
      ],
      "text/plain": [
       "<IPython.core.display.Javascript object>"
      ]
     },
     "metadata": {},
     "output_type": "display_data"
    },
    {
     "name": "stdout",
     "output_type": "stream",
     "text": [
      "Starting sclang process...\n"
     ]
    },
    {
     "name": "stdout",
     "output_type": "stream",
     "text": [
      "Done.\n",
      "Registering OSC /return callback in sclang...\n",
      "Done.\n",
      "Loading default SynthDescs\n",
      "Done.\n",
      "Booting SuperCollider Server...\n"
     ]
    },
    {
     "name": "stdout",
     "output_type": "stream",
     "text": [
      "Done.\n"
     ]
    }
   ],
   "source": [
    "sc = scn.startup()"
   ]
  },
  {
   "cell_type": "markdown",
   "metadata": {},
   "source": [
    "## Using a Control Bus"
   ]
  },
  {
   "cell_type": "code",
   "execution_count": 3,
   "metadata": {
    "execution": {
     "iopub.execute_input": "2021-06-10T16:17:02.088152Z",
     "iopub.status.busy": "2021-06-10T16:17:02.087151Z",
     "iopub.status.idle": "2021-06-10T16:17:02.089153Z",
     "shell.execute_reply": "2021-06-10T16:17:02.089153Z"
    }
   },
   "outputs": [
    {
     "data": {
      "text/plain": [
       "Bus(control, ids=[512])"
      ]
     },
     "execution_count": 1,
     "metadata": {},
     "output_type": "execute_result"
    }
   ],
   "source": [
    "bus = scn.Bus('control')\n",
    "bus"
   ]
  },
  {
   "cell_type": "code",
   "execution_count": 4,
   "metadata": {
    "execution": {
     "iopub.execute_input": "2021-06-10T16:17:02.092153Z",
     "iopub.status.busy": "2021-06-10T16:17:02.092153Z",
     "iopub.status.idle": "2021-06-10T16:17:02.104634Z",
     "shell.execute_reply": "2021-06-10T16:17:02.104634Z"
    }
   },
   "outputs": [
    {
     "data": {
      "text/plain": [
       "0.0"
      ]
     },
     "execution_count": 1,
     "metadata": {},
     "output_type": "execute_result"
    }
   ],
   "source": [
    "bus.get()"
   ]
  },
  {
   "cell_type": "code",
   "execution_count": 5,
   "metadata": {
    "execution": {
     "iopub.execute_input": "2021-06-10T16:17:02.107632Z",
     "iopub.status.busy": "2021-06-10T16:17:02.106633Z",
     "iopub.status.idle": "2021-06-10T16:17:02.117635Z",
     "shell.execute_reply": "2021-06-10T16:17:02.117635Z"
    }
   },
   "outputs": [],
   "source": [
    "syn = scn.Synth(\"s2\")"
   ]
  },
  {
   "cell_type": "markdown",
   "metadata": {},
   "source": [
    "map the frequency of the synth to the bus value"
   ]
  },
  {
   "cell_type": "code",
   "execution_count": 6,
   "metadata": {
    "execution": {
     "iopub.execute_input": "2021-06-10T16:17:02.121634Z",
     "iopub.status.busy": "2021-06-10T16:17:02.120632Z",
     "iopub.status.idle": "2021-06-10T16:17:02.122635Z",
     "shell.execute_reply": "2021-06-10T16:17:02.122635Z"
    }
   },
   "outputs": [
    {
     "data": {
      "text/plain": [
       "<Synth(20001) 's2' s {}>"
      ]
     },
     "execution_count": 1,
     "metadata": {},
     "output_type": "execute_result"
    }
   ],
   "source": [
    "syn.map(\"freq\", bus)"
   ]
  },
  {
   "cell_type": "code",
   "execution_count": 7,
   "metadata": {
    "execution": {
     "iopub.execute_input": "2021-06-10T16:17:02.126634Z",
     "iopub.status.busy": "2021-06-10T16:17:02.125632Z",
     "iopub.status.idle": "2021-06-10T16:17:02.127636Z",
     "shell.execute_reply": "2021-06-10T16:17:02.127636Z"
    }
   },
   "outputs": [
    {
     "data": {
      "text/plain": [
       "Bus(control, ids=[512])"
      ]
     },
     "execution_count": 1,
     "metadata": {},
     "output_type": "execute_result"
    }
   ],
   "source": [
    "bus.set(120) # changes synths frequency"
   ]
  },
  {
   "cell_type": "code",
   "execution_count": 8,
   "metadata": {
    "execution": {
     "iopub.execute_input": "2021-06-10T16:17:02.130633Z",
     "iopub.status.busy": "2021-06-10T16:17:02.129633Z",
     "iopub.status.idle": "2021-06-10T16:17:02.132638Z",
     "shell.execute_reply": "2021-06-10T16:17:02.132638Z"
    }
   },
   "outputs": [
    {
     "data": {
      "text/plain": [
       "Bus(control, ids=[512])"
      ]
     },
     "execution_count": 1,
     "metadata": {},
     "output_type": "execute_result"
    }
   ],
   "source": [
    "bus.set(440)"
   ]
  },
  {
   "cell_type": "markdown",
   "metadata": {},
   "source": [
    "Set the frequency value to remove the mapping"
   ]
  },
  {
   "cell_type": "code",
   "execution_count": 9,
   "metadata": {
    "execution": {
     "iopub.execute_input": "2021-06-10T16:17:02.136633Z",
     "iopub.status.busy": "2021-06-10T16:17:02.135635Z",
     "iopub.status.idle": "2021-06-10T16:17:02.138636Z",
     "shell.execute_reply": "2021-06-10T16:17:02.138636Z"
    }
   },
   "outputs": [
    {
     "data": {
      "text/plain": [
       "<Synth(20001) 's2' ~ {'freq': 220}>"
      ]
     },
     "execution_count": 1,
     "metadata": {},
     "output_type": "execute_result"
    }
   ],
   "source": [
    "syn.set(\"freq\", 220)"
   ]
  },
  {
   "cell_type": "code",
   "execution_count": 10,
   "metadata": {
    "execution": {
     "iopub.execute_input": "2021-06-10T16:17:02.141633Z",
     "iopub.status.busy": "2021-06-10T16:17:02.141633Z",
     "iopub.status.idle": "2021-06-10T16:17:02.144632Z",
     "shell.execute_reply": "2021-06-10T16:17:02.144632Z"
    }
   },
   "outputs": [
    {
     "data": {
      "text/plain": [
       "Bus(control, ids=[512])"
      ]
     },
     "execution_count": 1,
     "metadata": {},
     "output_type": "execute_result"
    }
   ],
   "source": [
    "bus.set(440)  # no change"
   ]
  },
  {
   "cell_type": "code",
   "execution_count": 11,
   "metadata": {
    "execution": {
     "iopub.execute_input": "2021-06-10T16:17:02.147632Z",
     "iopub.status.busy": "2021-06-10T16:17:02.147632Z",
     "iopub.status.idle": "2021-06-10T16:17:02.150632Z",
     "shell.execute_reply": "2021-06-10T16:17:02.150632Z"
    }
   },
   "outputs": [
    {
     "data": {
      "text/plain": [
       "<Synth(20001) 's2' ~f {'freq': 220}>"
      ]
     },
     "execution_count": 1,
     "metadata": {},
     "output_type": "execute_result"
    }
   ],
   "source": [
    "syn.free()"
   ]
  },
  {
   "cell_type": "markdown",
   "metadata": {},
   "source": [
    "Free the bus to mark the bus id as available again"
   ]
  },
  {
   "cell_type": "code",
   "execution_count": 12,
   "metadata": {
    "execution": {
     "iopub.execute_input": "2021-06-10T16:17:02.153634Z",
     "iopub.status.busy": "2021-06-10T16:17:02.152634Z",
     "iopub.status.idle": "2021-06-10T16:17:02.154632Z",
     "shell.execute_reply": "2021-06-10T16:17:02.155633Z"
    }
   },
   "outputs": [],
   "source": [
    "bus.free()"
   ]
  },
  {
   "cell_type": "markdown",
   "metadata": {},
   "source": [
    "## Use multiple Control Buses"
   ]
  },
  {
   "cell_type": "code",
   "execution_count": 13,
   "metadata": {
    "execution": {
     "iopub.execute_input": "2021-06-10T16:17:02.158632Z",
     "iopub.status.busy": "2021-06-10T16:17:02.157631Z",
     "iopub.status.idle": "2021-06-10T16:17:02.184633Z",
     "shell.execute_reply": "2021-06-10T16:17:02.185632Z"
    }
   },
   "outputs": [],
   "source": [
    "synth_name = scn.SynthDef(\"busMulti\", \"\"\"{ |out, freqs=#[200, 400], rates=#[1, 2] |\n",
    "    Out.ar(out, Splay.ar(SinOsc.ar(freqs) * Decay2.ar(Impulse.ar(rates), 0.001, 0.1)) * 0.5);\n",
    "}\"\"\").add()"
   ]
  },
  {
   "cell_type": "code",
   "execution_count": 14,
   "metadata": {
    "execution": {
     "iopub.execute_input": "2021-06-10T16:17:02.188636Z",
     "iopub.status.busy": "2021-06-10T16:17:02.188636Z",
     "iopub.status.idle": "2021-06-10T16:17:02.191632Z",
     "shell.execute_reply": "2021-06-10T16:17:02.191632Z"
    }
   },
   "outputs": [
    {
     "data": {
      "text/plain": [
       "Bus(control, ids=[512, 513])"
      ]
     },
     "execution_count": 1,
     "metadata": {},
     "output_type": "execute_result"
    }
   ],
   "source": [
    "buses = scn.Bus(\"control\", 2)\n",
    "buses"
   ]
  },
  {
   "cell_type": "code",
   "execution_count": 15,
   "metadata": {
    "execution": {
     "iopub.execute_input": "2021-06-10T16:17:02.194634Z",
     "iopub.status.busy": "2021-06-10T16:17:02.194634Z",
     "iopub.status.idle": "2021-06-10T16:17:02.214256Z",
     "shell.execute_reply": "2021-06-10T16:17:02.214256Z"
    }
   },
   "outputs": [
    {
     "data": {
      "text/plain": [
       "[0.0, 0.0]"
      ]
     },
     "execution_count": 1,
     "metadata": {},
     "output_type": "execute_result"
    }
   ],
   "source": [
    "buses.get()"
   ]
  },
  {
   "cell_type": "code",
   "execution_count": 16,
   "metadata": {
    "execution": {
     "iopub.execute_input": "2021-06-10T16:17:02.217256Z",
     "iopub.status.busy": "2021-06-10T16:17:02.216255Z",
     "iopub.status.idle": "2021-06-10T16:17:02.227255Z",
     "shell.execute_reply": "2021-06-10T16:17:02.227255Z"
    }
   },
   "outputs": [],
   "source": [
    "syn = scn.Synth(synth_name)"
   ]
  },
  {
   "cell_type": "code",
   "execution_count": 17,
   "metadata": {
    "execution": {
     "iopub.execute_input": "2021-06-10T16:17:02.230257Z",
     "iopub.status.busy": "2021-06-10T16:17:02.230257Z",
     "iopub.status.idle": "2021-06-10T16:17:02.232256Z",
     "shell.execute_reply": "2021-06-10T16:17:02.232256Z"
    }
   },
   "outputs": [
    {
     "data": {
      "text/plain": [
       "<Synth(20002) 'busMulti' s {}>"
      ]
     },
     "execution_count": 1,
     "metadata": {},
     "output_type": "execute_result"
    }
   ],
   "source": [
    "syn.map(\"rates\", buses)"
   ]
  },
  {
   "cell_type": "code",
   "execution_count": 18,
   "metadata": {
    "execution": {
     "iopub.execute_input": "2021-06-10T16:17:02.235255Z",
     "iopub.status.busy": "2021-06-10T16:17:02.235255Z",
     "iopub.status.idle": "2021-06-10T16:17:02.237255Z",
     "shell.execute_reply": "2021-06-10T16:17:02.237255Z"
    }
   },
   "outputs": [
    {
     "data": {
      "text/plain": [
       "Bus(control, ids=[512, 513])"
      ]
     },
     "execution_count": 1,
     "metadata": {},
     "output_type": "execute_result"
    }
   ],
   "source": [
    "buses.set(1, 1)"
   ]
  },
  {
   "cell_type": "code",
   "execution_count": 19,
   "metadata": {
    "execution": {
     "iopub.execute_input": "2021-06-10T16:17:02.240258Z",
     "iopub.status.busy": "2021-06-10T16:17:02.240258Z",
     "iopub.status.idle": "2021-06-10T16:17:02.242257Z",
     "shell.execute_reply": "2021-06-10T16:17:02.242257Z"
    }
   },
   "outputs": [
    {
     "data": {
      "text/plain": [
       "Bus(control, ids=[512, 513])"
      ]
     },
     "execution_count": 1,
     "metadata": {},
     "output_type": "execute_result"
    }
   ],
   "source": [
    "buses.set(1, 2)"
   ]
  },
  {
   "cell_type": "code",
   "execution_count": 20,
   "metadata": {
    "execution": {
     "iopub.execute_input": "2021-06-10T16:17:02.245257Z",
     "iopub.status.busy": "2021-06-10T16:17:02.244258Z",
     "iopub.status.idle": "2021-06-10T16:17:02.255255Z",
     "shell.execute_reply": "2021-06-10T16:17:02.255255Z"
    }
   },
   "outputs": [
    {
     "data": {
      "text/plain": [
       "[1.0, 2.0]"
      ]
     },
     "execution_count": 1,
     "metadata": {},
     "output_type": "execute_result"
    }
   ],
   "source": [
    "buses.get()"
   ]
  },
  {
   "cell_type": "code",
   "execution_count": 21,
   "metadata": {
    "execution": {
     "iopub.execute_input": "2021-06-10T16:17:02.258265Z",
     "iopub.status.busy": "2021-06-10T16:17:02.258265Z",
     "iopub.status.idle": "2021-06-10T16:17:02.261256Z",
     "shell.execute_reply": "2021-06-10T16:17:02.261256Z"
    }
   },
   "outputs": [
    {
     "data": {
      "text/plain": [
       "<Synth(20002) 'busMulti' ~f {}>"
      ]
     },
     "execution_count": 1,
     "metadata": {},
     "output_type": "execute_result"
    }
   ],
   "source": [
    "syn.free()"
   ]
  },
  {
   "cell_type": "code",
   "execution_count": 22,
   "metadata": {
    "execution": {
     "iopub.execute_input": "2021-06-10T16:17:02.264257Z",
     "iopub.status.busy": "2021-06-10T16:17:02.263256Z",
     "iopub.status.idle": "2021-06-10T16:17:02.265255Z",
     "shell.execute_reply": "2021-06-10T16:17:02.265255Z"
    }
   },
   "outputs": [],
   "source": [
    "buses.free()"
   ]
  },
  {
   "cell_type": "code",
   "execution_count": 23,
   "metadata": {
    "execution": {
     "iopub.execute_input": "2021-06-10T16:17:02.268255Z",
     "iopub.status.busy": "2021-06-10T16:17:02.267254Z",
     "iopub.status.idle": "2021-06-10T16:17:02.323305Z",
     "shell.execute_reply": "2021-06-10T16:17:02.323305Z"
    }
   },
   "outputs": [],
   "source": [
    "sc.server.free_all()"
   ]
  },
  {
   "cell_type": "code",
   "execution_count": 24,
   "metadata": {
    "execution": {
     "iopub.execute_input": "2021-06-10T16:17:02.326305Z",
     "iopub.status.busy": "2021-06-10T16:17:02.325304Z",
     "iopub.status.idle": "2021-06-10T16:17:03.484232Z",
     "shell.execute_reply": "2021-06-10T16:17:03.484232Z"
    }
   },
   "outputs": [],
   "source": [
    "sc.exit()"
   ]
  },
  {
   "cell_type": "code",
   "execution_count": null,
   "metadata": {},
   "outputs": [],
   "source": []
  }
 ],
 "metadata": {
  "language_info": {
   "codemirror_mode": {
    "name": "ipython",
    "version": 3
   },
   "file_extension": ".py",
   "mimetype": "text/x-python",
   "name": "python",
   "nbconvert_exporter": "python",
   "pygments_lexer": "ipython3",
   "version": "3.7.10"
  }
 },
 "nbformat": 4,
 "nbformat_minor": 4
}
