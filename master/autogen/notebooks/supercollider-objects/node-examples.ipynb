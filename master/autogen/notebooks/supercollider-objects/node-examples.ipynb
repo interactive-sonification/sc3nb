{
 "cells": [
  {
   "cell_type": "code",
   "execution_count": 1,
   "metadata": {
    "execution": {
     "iopub.execute_input": "2023-08-22T12:01:32.305539Z",
     "iopub.status.busy": "2023-08-22T12:01:32.305056Z",
     "iopub.status.idle": "2023-08-22T12:01:32.525544Z",
     "shell.execute_reply": "2023-08-22T12:01:32.524665Z"
    }
   },
   "outputs": [],
   "source": [
    "import time\n",
    "\n",
    "import sc3nb as scn\n",
    "from sc3nb import Synth"
   ]
  },
  {
   "cell_type": "code",
   "execution_count": 2,
   "metadata": {
    "execution": {
     "iopub.execute_input": "2023-08-22T12:01:32.530816Z",
     "iopub.status.busy": "2023-08-22T12:01:32.529855Z",
     "iopub.status.idle": "2023-08-22T12:01:34.793845Z",
     "shell.execute_reply": "2023-08-22T12:01:34.792303Z"
    }
   },
   "outputs": [
    {
     "data": {
      "application/javascript": [
       "if (typeof Jupyter !== 'undefined') {\n",
       "                        Jupyter.keyboard_manager.command_shortcuts.add_shortcut(\n",
       "                        'cmd-.', {\n",
       "                        help : 'Free all nodes on SC server',\n",
       "                        help_index : 'zz',\n",
       "                        handler : function (event) {\n",
       "                            IPython.notebook.kernel.execute(\n",
       "                                \"import sc3nb; sc3nb.SC.get_default().server.free_all(root=True)\"\n",
       "                            )\n",
       "                            return true;}\n",
       "                        });\n",
       "                    }"
      ],
      "text/plain": [
       "<IPython.core.display.Javascript object>"
      ]
     },
     "metadata": {},
     "output_type": "display_data"
    },
    {
     "name": "stdout",
     "output_type": "stream",
     "text": [
      "Starting sclang process... [sclang | start reading ]\n"
     ]
    },
    {
     "name": "stdout",
     "output_type": "stream",
     "text": [
      "Done.\n",
      "Registering OSC /return callback in sclang... Done.\n",
      "Loading default sc3nb SynthDefs... Done.\n",
      "Booting SuperCollider Server... [scsynth | start reading ]\n"
     ]
    },
    {
     "name": "stdout",
     "output_type": "stream",
     "text": [
      "Done.\n"
     ]
    }
   ],
   "source": [
    "sc = scn.startup(with_blip=False)"
   ]
  },
  {
   "cell_type": "markdown",
   "metadata": {},
   "source": [
    "# Nodes (Synth and Group)\n",
    "\n",
    "One of the most important objects in SuperCollider are Nodes."
   ]
  },
  {
   "cell_type": "markdown",
   "metadata": {},
   "source": [
    "To see all Nodes on the Server use"
   ]
  },
  {
   "cell_type": "code",
   "execution_count": 3,
   "metadata": {
    "execution": {
     "iopub.execute_input": "2023-08-22T12:01:34.799179Z",
     "iopub.status.busy": "2023-08-22T12:01:34.798620Z",
     "iopub.status.idle": "2023-08-22T12:01:34.830247Z",
     "shell.execute_reply": "2023-08-22T12:01:34.829315Z"
    }
   },
   "outputs": [
    {
     "name": "stdout",
     "output_type": "stream",
     "text": [
      "NODE TREE Group 0\n",
      "   469762049 group\n",
      "   402653185 group\n",
      "   335544321 group\n",
      "   268435457 group\n",
      "   201326593 group\n",
      "   134217729 group\n",
      "   67108865 group\n",
      "   1 group\n"
     ]
    }
   ],
   "source": [
    "sc.server.dump_tree()"
   ]
  },
  {
   "cell_type": "markdown",
   "metadata": {},
   "source": [
    "You can also get a Python object represenation of the current server state via."
   ]
  },
  {
   "cell_type": "code",
   "execution_count": 4,
   "metadata": {
    "execution": {
     "iopub.execute_input": "2023-08-22T12:01:34.834830Z",
     "iopub.status.busy": "2023-08-22T12:01:34.834458Z",
     "iopub.status.idle": "2023-08-22T12:01:34.853573Z",
     "shell.execute_reply": "2023-08-22T12:01:34.852701Z"
    }
   },
   "outputs": [
    {
     "data": {
      "text/plain": [
       "Group(0)  {} children=[\n",
       "  Group(469762049) s {} children=[],\n",
       "  Group(402653185) s {} children=[],\n",
       "  Group(335544321) s {} children=[],\n",
       "  Group(268435457) s {} children=[],\n",
       "  Group(201326593) s {} children=[],\n",
       "  Group(134217729) s {} children=[],\n",
       "  Group(67108865) s {} children=[],\n",
       "  Group(1) s {} children=[]]"
      ]
     },
     "execution_count": 4,
     "metadata": {},
     "output_type": "execute_result"
    }
   ],
   "source": [
    "root_node = sc.server.query_tree()\n",
    "root_node"
   ]
  },
  {
   "cell_type": "markdown",
   "metadata": {},
   "source": [
    "Note that this will send a `/g_queryTree` command and parse the `/g_queryTree.reply` response of the server. The resulting Group representation will currently not be updated unless you use `query_tree` again."
   ]
  },
  {
   "cell_type": "code",
   "execution_count": 5,
   "metadata": {
    "execution": {
     "iopub.execute_input": "2023-08-22T12:01:34.857633Z",
     "iopub.status.busy": "2023-08-22T12:01:34.857311Z",
     "iopub.status.idle": "2023-08-22T12:01:34.862310Z",
     "shell.execute_reply": "2023-08-22T12:01:34.861674Z"
    }
   },
   "outputs": [
    {
     "data": {
      "text/plain": [
       "Group(1) s {} children=[]"
      ]
     },
     "execution_count": 5,
     "metadata": {},
     "output_type": "execute_result"
    }
   ],
   "source": [
    "root_node.children[-1]"
   ]
  },
  {
   "cell_type": "markdown",
   "metadata": {},
   "source": [
    "A node is either a [Synth](#Synth) or a [Group](#Group) of nodes"
   ]
  },
  {
   "cell_type": "markdown",
   "metadata": {},
   "source": [
    "## Synth"
   ]
  },
  {
   "cell_type": "markdown",
   "metadata": {},
   "source": [
    "### Create and control a Synth"
   ]
  },
  {
   "cell_type": "markdown",
   "metadata": {},
   "source": [
    "Create a new Synth"
   ]
  },
  {
   "cell_type": "code",
   "execution_count": 6,
   "metadata": {
    "execution": {
     "iopub.execute_input": "2023-08-22T12:01:34.865961Z",
     "iopub.status.busy": "2023-08-22T12:01:34.865460Z",
     "iopub.status.idle": "2023-08-22T12:01:34.883264Z",
     "shell.execute_reply": "2023-08-22T12:01:34.882310Z"
    }
   },
   "outputs": [
    {
     "data": {
      "text/plain": [
       "<Synth(20001) 's2' s {'freq': 100}>"
      ]
     },
     "execution_count": 6,
     "metadata": {},
     "output_type": "execute_result"
    }
   ],
   "source": [
    "synth = Synth(name=\"s2\", controls={\"freq\": 100})\n",
    "synth"
   ]
  },
  {
   "cell_type": "markdown",
   "metadata": {},
   "source": [
    "You can now hear the Synth playing and see it in the NodeTree"
   ]
  },
  {
   "cell_type": "code",
   "execution_count": 7,
   "metadata": {
    "execution": {
     "iopub.execute_input": "2023-08-22T12:01:34.886966Z",
     "iopub.status.busy": "2023-08-22T12:01:34.886671Z",
     "iopub.status.idle": "2023-08-22T12:01:34.891174Z",
     "shell.execute_reply": "2023-08-22T12:01:34.890531Z"
    }
   },
   "outputs": [
    {
     "data": {
      "text/plain": [
       "Group(67108865) s {} children=[]"
      ]
     },
     "execution_count": 7,
     "metadata": {},
     "output_type": "execute_result"
    }
   ],
   "source": [
    "sc.server.default_group"
   ]
  },
  {
   "cell_type": "code",
   "execution_count": 8,
   "metadata": {
    "execution": {
     "iopub.execute_input": "2023-08-22T12:01:34.894448Z",
     "iopub.status.busy": "2023-08-22T12:01:34.893986Z",
     "iopub.status.idle": "2023-08-22T12:01:34.910394Z",
     "shell.execute_reply": "2023-08-22T12:01:34.909590Z"
    }
   },
   "outputs": [
    {
     "data": {
      "text/plain": [
       "Group(0)  {} children=[\n",
       "  Group(469762049) s {} children=[],\n",
       "  Group(402653185) s {} children=[],\n",
       "  Group(335544321) s {} children=[],\n",
       "  Group(268435457) s {} children=[],\n",
       "  Group(201326593) s {} children=[],\n",
       "  Group(134217729) s {} children=[],\n",
       "  Group(67108865) s {} children=[\n",
       "    <Synth(20001) 's2' ~ {'freq': 100.0, 'amp': 0.30000001192092896, 'num': 4.0, 'pan': 0.0, 'lg': 0.10000000149011612, 'gate': 1.0}>],\n",
       "  Group(1) s {} children=[]]"
      ]
     },
     "execution_count": 8,
     "metadata": {},
     "output_type": "execute_result"
    }
   ],
   "source": [
    "sc.server.query_tree()"
   ]
  },
  {
   "cell_type": "markdown",
   "metadata": {},
   "source": [
    "Free a synth"
   ]
  },
  {
   "cell_type": "code",
   "execution_count": 9,
   "metadata": {
    "execution": {
     "iopub.execute_input": "2023-08-22T12:01:34.914332Z",
     "iopub.status.busy": "2023-08-22T12:01:34.914008Z",
     "iopub.status.idle": "2023-08-22T12:01:34.920380Z",
     "shell.execute_reply": "2023-08-22T12:01:34.919590Z"
    }
   },
   "outputs": [
    {
     "data": {
      "text/plain": [
       "<Synth(20001) 's2' f {'freq': 100.0, 'amp': 0.30000001192092896, 'num': 4.0, 'pan': 0.0, 'lg': 0.10000000149011612, 'gate': 1.0}>"
      ]
     },
     "execution_count": 9,
     "metadata": {},
     "output_type": "execute_result"
    }
   ],
   "source": [
    "synth.free()"
   ]
  },
  {
   "cell_type": "markdown",
   "metadata": {},
   "source": [
    "Start the synth again"
   ]
  },
  {
   "cell_type": "code",
   "execution_count": 10,
   "metadata": {
    "execution": {
     "iopub.execute_input": "2023-08-22T12:01:34.923555Z",
     "iopub.status.busy": "2023-08-22T12:01:34.923273Z",
     "iopub.status.idle": "2023-08-22T12:01:34.929085Z",
     "shell.execute_reply": "2023-08-22T12:01:34.927858Z"
    }
   },
   "outputs": [
    {
     "data": {
      "text/plain": [
       "<Synth(20001) 's2' s {'freq': 100.0, 'amp': 0.30000001192092896, 'num': 4.0, 'pan': 0.0, 'lg': 0.10000000149011612, 'gate': 1.0}>"
      ]
     },
     "execution_count": 10,
     "metadata": {},
     "output_type": "execute_result"
    }
   ],
   "source": [
    "synth.new()"
   ]
  },
  {
   "cell_type": "code",
   "execution_count": 11,
   "metadata": {
    "execution": {
     "iopub.execute_input": "2023-08-22T12:01:34.932289Z",
     "iopub.status.busy": "2023-08-22T12:01:34.932020Z",
     "iopub.status.idle": "2023-08-22T12:01:34.937892Z",
     "shell.execute_reply": "2023-08-22T12:01:34.937185Z"
    }
   },
   "outputs": [
    {
     "data": {
      "text/plain": [
       "20001"
      ]
     },
     "execution_count": 11,
     "metadata": {},
     "output_type": "execute_result"
    }
   ],
   "source": [
    "synth.nodeid"
   ]
  },
  {
   "cell_type": "markdown",
   "metadata": {},
   "source": [
    "Calling `new` on an already running synth will cause a SuperCollider Server error"
   ]
  },
  {
   "cell_type": "code",
   "execution_count": 12,
   "metadata": {
    "execution": {
     "iopub.execute_input": "2023-08-22T12:01:34.941865Z",
     "iopub.status.busy": "2023-08-22T12:01:34.941519Z",
     "iopub.status.idle": "2023-08-22T12:01:35.451578Z",
     "shell.execute_reply": "2023-08-22T12:01:35.450360Z"
    }
   },
   "outputs": [
    {
     "name": "stderr",
     "output_type": "stream",
     "text": [
      "Error at SCServer('127.0.0.1', 57110) pid=11707 from scsynth: ('/fail', '/s_new', 'duplicate node ID')\n"
     ]
    }
   ],
   "source": [
    "synth.new()\n",
    "time.sleep(0.5)  # wait some time to ensure the audio server has send the /fail OSC message"
   ]
  },
  {
   "cell_type": "markdown",
   "metadata": {},
   "source": [
    "Pause a synth"
   ]
  },
  {
   "cell_type": "code",
   "execution_count": 13,
   "metadata": {
    "execution": {
     "iopub.execute_input": "2023-08-22T12:01:35.456307Z",
     "iopub.status.busy": "2023-08-22T12:01:35.455973Z",
     "iopub.status.idle": "2023-08-22T12:01:35.461653Z",
     "shell.execute_reply": "2023-08-22T12:01:35.460799Z"
    }
   },
   "outputs": [
    {
     "data": {
      "text/plain": [
       "<Synth(20001) 's2' s {'freq': 100.0, 'amp': 0.30000001192092896, 'num': 4.0, 'pan': 0.0, 'lg': 0.10000000149011612, 'gate': 1.0}>"
      ]
     },
     "execution_count": 13,
     "metadata": {},
     "output_type": "execute_result"
    }
   ],
   "source": [
    "synth.run(False)"
   ]
  },
  {
   "cell_type": "code",
   "execution_count": 14,
   "metadata": {
    "execution": {
     "iopub.execute_input": "2023-08-22T12:01:35.465150Z",
     "iopub.status.busy": "2023-08-22T12:01:35.464859Z",
     "iopub.status.idle": "2023-08-22T12:01:35.469680Z",
     "shell.execute_reply": "2023-08-22T12:01:35.468898Z"
    }
   },
   "outputs": [
    {
     "data": {
      "text/plain": [
       "<Synth(20001) 's2'  {'freq': 100.0, 'amp': 0.30000001192092896, 'num': 4.0, 'pan': 0.0, 'lg': 0.10000000149011612, 'gate': 1.0}>"
      ]
     },
     "execution_count": 14,
     "metadata": {},
     "output_type": "execute_result"
    }
   ],
   "source": [
    "synth"
   ]
  },
  {
   "cell_type": "markdown",
   "metadata": {},
   "source": [
    "Run a paused synth"
   ]
  },
  {
   "cell_type": "code",
   "execution_count": 15,
   "metadata": {
    "execution": {
     "iopub.execute_input": "2023-08-22T12:01:35.473378Z",
     "iopub.status.busy": "2023-08-22T12:01:35.473074Z",
     "iopub.status.idle": "2023-08-22T12:01:35.477985Z",
     "shell.execute_reply": "2023-08-22T12:01:35.477383Z"
    }
   },
   "outputs": [
    {
     "data": {
      "text/plain": [
       "<Synth(20001) 's2'  {'freq': 100.0, 'amp': 0.30000001192092896, 'num': 4.0, 'pan': 0.0, 'lg': 0.10000000149011612, 'gate': 1.0}>"
      ]
     },
     "execution_count": 15,
     "metadata": {},
     "output_type": "execute_result"
    }
   ],
   "source": [
    "synth.run() # default flag for run is True"
   ]
  },
  {
   "cell_type": "markdown",
   "metadata": {},
   "source": [
    "You can also wait for a Synth"
   ]
  },
  {
   "cell_type": "code",
   "execution_count": 16,
   "metadata": {
    "execution": {
     "iopub.execute_input": "2023-08-22T12:01:35.481122Z",
     "iopub.status.busy": "2023-08-22T12:01:35.480859Z",
     "iopub.status.idle": "2023-08-22T12:01:37.510117Z",
     "shell.execute_reply": "2023-08-22T12:01:37.508587Z"
    }
   },
   "outputs": [],
   "source": [
    "synth_with_duration = scn.Synth(\"s1\", dict(dur=2))\n",
    "# wait for the Synth to finish playing\n",
    "synth_with_duration.wait()"
   ]
  },
  {
   "cell_type": "markdown",
   "metadata": {},
   "source": [
    "### Set / get Synth parameters"
   ]
  },
  {
   "cell_type": "markdown",
   "metadata": {},
   "source": [
    "Set synth parameters, using any for the following `set` calls\n",
    "\n",
    "    set(key, value, ...)\n",
    "    set(list_of_keys_and_values])\n",
    "    set(dict)"
   ]
  },
  {
   "cell_type": "code",
   "execution_count": 17,
   "metadata": {
    "execution": {
     "iopub.execute_input": "2023-08-22T12:01:37.515263Z",
     "iopub.status.busy": "2023-08-22T12:01:37.514823Z",
     "iopub.status.idle": "2023-08-22T12:01:37.521398Z",
     "shell.execute_reply": "2023-08-22T12:01:37.520768Z"
    }
   },
   "outputs": [
    {
     "data": {
      "text/plain": [
       "<Synth(20001) 's2'  {'freq': 200, 'amp': 0.30000001192092896, 'num': 4.0, 'pan': 0.0, 'lg': 0.10000000149011612, 'gate': 1.0}>"
      ]
     },
     "execution_count": 17,
     "metadata": {},
     "output_type": "execute_result"
    }
   ],
   "source": [
    "synth.set(\"freq\", 200)"
   ]
  },
  {
   "cell_type": "code",
   "execution_count": 18,
   "metadata": {
    "execution": {
     "iopub.execute_input": "2023-08-22T12:01:37.524586Z",
     "iopub.status.busy": "2023-08-22T12:01:37.524253Z",
     "iopub.status.idle": "2023-08-22T12:01:37.529133Z",
     "shell.execute_reply": "2023-08-22T12:01:37.528450Z"
    }
   },
   "outputs": [
    {
     "data": {
      "text/plain": [
       "<Synth(20001) 's2'  {'freq': 30, 'amp': 0.3, 'num': 4.0, 'pan': 0.0, 'lg': 0.10000000149011612, 'gate': 1.0}>"
      ]
     },
     "execution_count": 18,
     "metadata": {},
     "output_type": "execute_result"
    }
   ],
   "source": [
    "synth.set([\"freq\", 30, \"amp\", 0.3])"
   ]
  },
  {
   "cell_type": "code",
   "execution_count": 19,
   "metadata": {
    "execution": {
     "iopub.execute_input": "2023-08-22T12:01:37.532318Z",
     "iopub.status.busy": "2023-08-22T12:01:37.531996Z",
     "iopub.status.idle": "2023-08-22T12:01:37.537175Z",
     "shell.execute_reply": "2023-08-22T12:01:37.536439Z"
    }
   },
   "outputs": [
    {
     "data": {
      "text/plain": [
       "<Synth(20001) 's2'  {'freq': 130, 'amp': 0.1, 'num': 4.0, 'pan': 0.0, 'lg': 0.10000000149011612, 'gate': 1.0}>"
      ]
     },
     "execution_count": 19,
     "metadata": {},
     "output_type": "execute_result"
    }
   ],
   "source": [
    "synth.set({\"freq\": 130, \"amp\": 0.1})"
   ]
  },
  {
   "cell_type": "markdown",
   "metadata": {},
   "source": [
    "The Synth does save its current control arguments in `current_controls`"
   ]
  },
  {
   "cell_type": "code",
   "execution_count": 20,
   "metadata": {
    "execution": {
     "iopub.execute_input": "2023-08-22T12:01:37.540259Z",
     "iopub.status.busy": "2023-08-22T12:01:37.539986Z",
     "iopub.status.idle": "2023-08-22T12:01:37.544651Z",
     "shell.execute_reply": "2023-08-22T12:01:37.544080Z"
    }
   },
   "outputs": [
    {
     "data": {
      "text/plain": [
       "{'freq': 130,\n",
       " 'amp': 0.1,\n",
       " 'num': 4.0,\n",
       " 'pan': 0.0,\n",
       " 'lg': 0.10000000149011612,\n",
       " 'gate': 1.0}"
      ]
     },
     "execution_count": 20,
     "metadata": {},
     "output_type": "execute_result"
    }
   ],
   "source": [
    "synth.current_controls"
   ]
  },
  {
   "cell_type": "markdown",
   "metadata": {},
   "source": [
    "However these are only cached values on the python object. \n",
    "Updating them will only affect the `new` call. See below why this can be useful."
   ]
  },
  {
   "cell_type": "code",
   "execution_count": 21,
   "metadata": {
    "execution": {
     "iopub.execute_input": "2023-08-22T12:01:37.547677Z",
     "iopub.status.busy": "2023-08-22T12:01:37.547421Z",
     "iopub.status.idle": "2023-08-22T12:01:37.551968Z",
     "shell.execute_reply": "2023-08-22T12:01:37.551289Z"
    }
   },
   "outputs": [
    {
     "data": {
      "text/plain": [
       "<Synth(20001) 's2'  {'freq': 440, 'amp': 0.1, 'num': 4.0, 'pan': 0.0, 'lg': 0.10000000149011612, 'gate': 1.0}>"
      ]
     },
     "execution_count": 21,
     "metadata": {},
     "output_type": "execute_result"
    }
   ],
   "source": [
    "synth.current_controls['freq'] = 440\n",
    "synth"
   ]
  },
  {
   "cell_type": "code",
   "execution_count": 22,
   "metadata": {
    "execution": {
     "iopub.execute_input": "2023-08-22T12:01:37.555467Z",
     "iopub.status.busy": "2023-08-22T12:01:37.555170Z",
     "iopub.status.idle": "2023-08-22T12:01:37.559791Z",
     "shell.execute_reply": "2023-08-22T12:01:37.559152Z"
    }
   },
   "outputs": [
    {
     "data": {
      "text/plain": [
       "<Synth(20001) 's2' s {'freq': 440, 'amp': 0.1, 'num': 4.0, 'pan': 0.0, 'lg': 0.10000000149011612, 'gate': 1.0}>"
      ]
     },
     "execution_count": 22,
     "metadata": {},
     "output_type": "execute_result"
    }
   ],
   "source": [
    "synth.free()\n",
    "synth.new() # The new Synth will be created with freq = 440"
   ]
  },
  {
   "cell_type": "markdown",
   "metadata": {},
   "source": [
    "To see what arguments can be set you can look at the `synth_desc`"
   ]
  },
  {
   "cell_type": "code",
   "execution_count": 23,
   "metadata": {
    "execution": {
     "iopub.execute_input": "2023-08-22T12:01:37.562851Z",
     "iopub.status.busy": "2023-08-22T12:01:37.562594Z",
     "iopub.status.idle": "2023-08-22T12:01:37.567749Z",
     "shell.execute_reply": "2023-08-22T12:01:37.566869Z"
    }
   },
   "outputs": [
    {
     "data": {
      "text/plain": [
       "{'freq': SynthArgument(name='freq', rate='control', default=400.0),\n",
       " 'amp': SynthArgument(name='amp', rate='control', default=0.30000001192092896),\n",
       " 'num': SynthArgument(name='num', rate='control', default=4.0),\n",
       " 'pan': SynthArgument(name='pan', rate='control', default=0.0),\n",
       " 'lg': SynthArgument(name='lg', rate='control', default=0.10000000149011612),\n",
       " 'gate': SynthArgument(name='gate', rate='control', default=1.0)}"
      ]
     },
     "execution_count": 23,
     "metadata": {},
     "output_type": "execute_result"
    }
   ],
   "source": [
    "synth.synth_desc"
   ]
  },
  {
   "cell_type": "markdown",
   "metadata": {},
   "source": [
    "You can use ``get`` to see the current value. This will request the current value from the SuperCollider audio server"
   ]
  },
  {
   "cell_type": "code",
   "execution_count": 24,
   "metadata": {
    "execution": {
     "iopub.execute_input": "2023-08-22T12:01:37.571229Z",
     "iopub.status.busy": "2023-08-22T12:01:37.570942Z",
     "iopub.status.idle": "2023-08-22T12:01:37.578609Z",
     "shell.execute_reply": "2023-08-22T12:01:37.577986Z"
    }
   },
   "outputs": [
    {
     "data": {
      "text/plain": [
       "440.0"
      ]
     },
     "execution_count": 24,
     "metadata": {},
     "output_type": "execute_result"
    }
   ],
   "source": [
    "synth.get(\"freq\")"
   ]
  },
  {
   "cell_type": "code",
   "execution_count": 25,
   "metadata": {
    "execution": {
     "iopub.execute_input": "2023-08-22T12:01:37.581620Z",
     "iopub.status.busy": "2023-08-22T12:01:37.581367Z",
     "iopub.status.idle": "2023-08-22T12:01:37.590343Z",
     "shell.execute_reply": "2023-08-22T12:01:37.589715Z"
    }
   },
   "outputs": [
    {
     "data": {
      "text/plain": [
       "0.0"
      ]
     },
     "execution_count": 25,
     "metadata": {},
     "output_type": "execute_result"
    }
   ],
   "source": [
    "synth.get(\"pan\")"
   ]
  },
  {
   "cell_type": "markdown",
   "metadata": {},
   "source": [
    "This will also update the cached values in `current_args`"
   ]
  },
  {
   "cell_type": "code",
   "execution_count": 26,
   "metadata": {
    "execution": {
     "iopub.execute_input": "2023-08-22T12:01:37.593752Z",
     "iopub.status.busy": "2023-08-22T12:01:37.593443Z",
     "iopub.status.idle": "2023-08-22T12:01:37.598009Z",
     "shell.execute_reply": "2023-08-22T12:01:37.597390Z"
    }
   },
   "outputs": [
    {
     "data": {
      "text/plain": [
       "<Synth(20001) 's2' ~ {'freq': 440.0, 'amp': 0.1, 'num': 4.0, 'pan': 0.0, 'lg': 0.10000000149011612, 'gate': 1.0}>"
      ]
     },
     "execution_count": 26,
     "metadata": {},
     "output_type": "execute_result"
    }
   ],
   "source": [
    "synth"
   ]
  },
  {
   "cell_type": "markdown",
   "metadata": {},
   "source": [
    "This is also possible directly with"
   ]
  },
  {
   "cell_type": "code",
   "execution_count": 27,
   "metadata": {
    "execution": {
     "iopub.execute_input": "2023-08-22T12:01:37.601552Z",
     "iopub.status.busy": "2023-08-22T12:01:37.601254Z",
     "iopub.status.idle": "2023-08-22T12:01:37.614934Z",
     "shell.execute_reply": "2023-08-22T12:01:37.614082Z"
    }
   },
   "outputs": [
    {
     "data": {
      "text/plain": [
       "0.0"
      ]
     },
     "execution_count": 27,
     "metadata": {},
     "output_type": "execute_result"
    }
   ],
   "source": [
    "synth.pan"
   ]
  },
  {
   "cell_type": "markdown",
   "metadata": {},
   "source": [
    "Which can also be used for setting the argument"
   ]
  },
  {
   "cell_type": "code",
   "execution_count": 28,
   "metadata": {
    "execution": {
     "iopub.execute_input": "2023-08-22T12:01:37.619074Z",
     "iopub.status.busy": "2023-08-22T12:01:37.618737Z",
     "iopub.status.idle": "2023-08-22T12:01:37.622464Z",
     "shell.execute_reply": "2023-08-22T12:01:37.621787Z"
    }
   },
   "outputs": [],
   "source": [
    "synth.pan = -1 "
   ]
  },
  {
   "cell_type": "markdown",
   "metadata": {},
   "source": [
    "You can also query information about the Synth. Look at [Group](#Group) for more information about these values"
   ]
  },
  {
   "cell_type": "code",
   "execution_count": 29,
   "metadata": {
    "execution": {
     "iopub.execute_input": "2023-08-22T12:01:37.625723Z",
     "iopub.status.busy": "2023-08-22T12:01:37.625440Z",
     "iopub.status.idle": "2023-08-22T12:01:37.638315Z",
     "shell.execute_reply": "2023-08-22T12:01:37.637474Z"
    }
   },
   "outputs": [
    {
     "data": {
      "text/plain": [
       "SynthInfo(nodeid=20001, group=67108865, prev_nodeid=-1, next_nodeid=-1)"
      ]
     },
     "execution_count": 29,
     "metadata": {},
     "output_type": "execute_result"
    }
   ],
   "source": [
    "synth.query()"
   ]
  },
  {
   "cell_type": "code",
   "execution_count": 30,
   "metadata": {
    "execution": {
     "iopub.execute_input": "2023-08-22T12:01:37.642070Z",
     "iopub.status.busy": "2023-08-22T12:01:37.641748Z",
     "iopub.status.idle": "2023-08-22T12:01:37.646962Z",
     "shell.execute_reply": "2023-08-22T12:01:37.646294Z"
    }
   },
   "outputs": [
    {
     "data": {
      "text/plain": [
       "<Synth(20001) 's2' f {'freq': 440.0, 'amp': 0.1, 'num': 4.0, 'pan': -1, 'lg': 0.10000000149011612, 'gate': 1.0}>"
      ]
     },
     "execution_count": 30,
     "metadata": {},
     "output_type": "execute_result"
    }
   ],
   "source": [
    "synth.free()"
   ]
  },
  {
   "cell_type": "markdown",
   "metadata": {},
   "source": [
    "Keep in mind that getting a synth value is always querying the server.\n",
    "\n",
    "This means we need to receive a message which cant be done using the Bundler.\n",
    "If you want to use relative values in a Bundler you should use the cached values from `current_args`"
   ]
  },
  {
   "cell_type": "code",
   "execution_count": 31,
   "metadata": {
    "execution": {
     "iopub.execute_input": "2023-08-22T12:01:37.650249Z",
     "iopub.status.busy": "2023-08-22T12:01:37.649965Z",
     "iopub.status.idle": "2023-08-22T12:01:37.663023Z",
     "shell.execute_reply": "2023-08-22T12:01:37.662380Z"
    }
   },
   "outputs": [],
   "source": [
    "with sc.server.bundler() as bundle:\n",
    "    synth.new({\"freq\": 600})\n",
    "    for _ in range(100):\n",
    "        synth.set(['freq', synth.current_controls['freq'] * 0.99])\n",
    "        bundle.wait(0.05)\n",
    "    synth.free()"
   ]
  },
  {
   "cell_type": "code",
   "execution_count": 32,
   "metadata": {
    "execution": {
     "iopub.execute_input": "2023-08-22T12:01:37.666539Z",
     "iopub.status.busy": "2023-08-22T12:01:37.666219Z",
     "iopub.status.idle": "2023-08-22T12:01:42.642037Z",
     "shell.execute_reply": "2023-08-22T12:01:42.640750Z"
    }
   },
   "outputs": [],
   "source": [
    "synth.wait() # wait for synth"
   ]
  },
  {
   "cell_type": "markdown",
   "metadata": {},
   "source": [
    "Some methods also allow getting the OSC Message instead of sending"
   ]
  },
  {
   "cell_type": "code",
   "execution_count": 33,
   "metadata": {
    "execution": {
     "iopub.execute_input": "2023-08-22T12:01:42.646508Z",
     "iopub.status.busy": "2023-08-22T12:01:42.646192Z",
     "iopub.status.idle": "2023-08-22T12:01:42.651233Z",
     "shell.execute_reply": "2023-08-22T12:01:42.650462Z"
    }
   },
   "outputs": [
    {
     "data": {
      "text/plain": [
       "<OSCMessage(\"/s_new\", ['s2', 20001, 0, 67108865, 'freq', 219.61940002441406, 'amp', 0.10000000149011612, 'num', 4.0, 'pan', -1, 'lg', 0.10000000149011612, 'gate', 1.0])>"
      ]
     },
     "execution_count": 33,
     "metadata": {},
     "output_type": "execute_result"
    }
   ],
   "source": [
    "synth.new(return_msg=True)"
   ]
  },
  {
   "cell_type": "markdown",
   "metadata": {},
   "source": [
    "Refer to the [OSC communication example notebook](../osc-communication-examples.ipynb) if you want to learn more about messages and bundles."
   ]
  },
  {
   "cell_type": "markdown",
   "metadata": {},
   "source": [
    "## Group\n",
    "\n",
    "Nodes can be grouped and controlled together. This gives you mutliple advantages like\n",
    "\n",
    "* controlling multiple Synth together\n",
    "* specifying the execution order of the nodes. For more details look at [Order of nodes](#Order-of-Nodes)"
   ]
  },
  {
   "cell_type": "markdown",
   "metadata": {},
   "source": [
    "The SuperCollider audio server scsynth does have one root Group with the Node ID 0.\n",
    "\n",
    "In this root group each user got an default group were all the Nodes of the user (Synths and Groups) should be located"
   ]
  },
  {
   "cell_type": "code",
   "execution_count": 34,
   "metadata": {
    "execution": {
     "iopub.execute_input": "2023-08-22T12:01:42.654649Z",
     "iopub.status.busy": "2023-08-22T12:01:42.654363Z",
     "iopub.status.idle": "2023-08-22T12:01:42.664822Z",
     "shell.execute_reply": "2023-08-22T12:01:42.663984Z"
    }
   },
   "outputs": [
    {
     "data": {
      "text/plain": [
       "Group(0)  {} children=[\n",
       "  Group(469762049) ~ {} children=[],\n",
       "  Group(402653185) ~ {} children=[],\n",
       "  Group(335544321) ~ {} children=[],\n",
       "  Group(268435457) ~ {} children=[],\n",
       "  Group(201326593) ~ {} children=[],\n",
       "  Group(134217729) ~ {} children=[],\n",
       "  Group(67108865) ~ {} children=[],\n",
       "  Group(1) ~ {} children=[]]"
      ]
     },
     "execution_count": 34,
     "metadata": {},
     "output_type": "execute_result"
    }
   ],
   "source": [
    "sc.server.query_tree()"
   ]
  },
  {
   "cell_type": "markdown",
   "metadata": {},
   "source": [
    "We have the following default Group"
   ]
  },
  {
   "cell_type": "code",
   "execution_count": 35,
   "metadata": {
    "execution": {
     "iopub.execute_input": "2023-08-22T12:01:42.668268Z",
     "iopub.status.busy": "2023-08-22T12:01:42.667996Z",
     "iopub.status.idle": "2023-08-22T12:01:42.672379Z",
     "shell.execute_reply": "2023-08-22T12:01:42.671751Z"
    }
   },
   "outputs": [
    {
     "data": {
      "text/plain": [
       "Group(67108865) ~ {} children=[]"
      ]
     },
     "execution_count": 35,
     "metadata": {},
     "output_type": "execute_result"
    }
   ],
   "source": [
    "sc.server.default_group"
   ]
  },
  {
   "cell_type": "markdown",
   "metadata": {},
   "source": [
    "### Creating Groups"
   ]
  },
  {
   "cell_type": "code",
   "execution_count": 36,
   "metadata": {
    "execution": {
     "iopub.execute_input": "2023-08-22T12:01:42.675602Z",
     "iopub.status.busy": "2023-08-22T12:01:42.675297Z",
     "iopub.status.idle": "2023-08-22T12:01:42.680853Z",
     "shell.execute_reply": "2023-08-22T12:01:42.679801Z"
    }
   },
   "outputs": [
    {
     "data": {
      "text/plain": [
       "Group(20003) s {} children=[]"
      ]
     },
     "execution_count": 36,
     "metadata": {},
     "output_type": "execute_result"
    }
   ],
   "source": [
    "g0 = scn.Group()\n",
    "g0"
   ]
  },
  {
   "cell_type": "code",
   "execution_count": 37,
   "metadata": {
    "execution": {
     "iopub.execute_input": "2023-08-22T12:01:42.684766Z",
     "iopub.status.busy": "2023-08-22T12:01:42.684054Z",
     "iopub.status.idle": "2023-08-22T12:01:42.715087Z",
     "shell.execute_reply": "2023-08-22T12:01:42.714080Z"
    }
   },
   "outputs": [
    {
     "name": "stdout",
     "output_type": "stream",
     "text": [
      "NODE TREE Group 0\n",
      "   469762049 group\n",
      "   402653185 group\n",
      "   335544321 group\n",
      "   268435457 group\n",
      "   201326593 group\n",
      "   134217729 group\n",
      "   67108865 group\n",
      "      20003 group\n",
      "   1 group\n"
     ]
    }
   ],
   "source": [
    "sc.server.dump_tree()"
   ]
  },
  {
   "cell_type": "code",
   "execution_count": 38,
   "metadata": {
    "execution": {
     "iopub.execute_input": "2023-08-22T12:01:42.719747Z",
     "iopub.status.busy": "2023-08-22T12:01:42.719113Z",
     "iopub.status.idle": "2023-08-22T12:01:42.724345Z",
     "shell.execute_reply": "2023-08-22T12:01:42.723709Z"
    }
   },
   "outputs": [
    {
     "data": {
      "text/plain": [
       "Group(20003) f {} children=[]"
      ]
     },
     "execution_count": 38,
     "metadata": {},
     "output_type": "execute_result"
    }
   ],
   "source": [
    "g0.free()"
   ]
  },
  {
   "cell_type": "code",
   "execution_count": 39,
   "metadata": {
    "execution": {
     "iopub.execute_input": "2023-08-22T12:01:42.727397Z",
     "iopub.status.busy": "2023-08-22T12:01:42.727123Z",
     "iopub.status.idle": "2023-08-22T12:01:42.747014Z",
     "shell.execute_reply": "2023-08-22T12:01:42.746116Z"
    }
   },
   "outputs": [
    {
     "name": "stdout",
     "output_type": "stream",
     "text": [
      "NODE TREE Group 0\n",
      "   469762049 group\n",
      "   402653185 group\n",
      "   335544321 group\n",
      "   268435457 group\n",
      "   201326593 group\n",
      "   134217729 group\n",
      "   67108865 group\n",
      "   1 group\n"
     ]
    }
   ],
   "source": [
    "sc.server.dump_tree()"
   ]
  },
  {
   "cell_type": "code",
   "execution_count": 40,
   "metadata": {
    "execution": {
     "iopub.execute_input": "2023-08-22T12:01:42.751370Z",
     "iopub.status.busy": "2023-08-22T12:01:42.751053Z",
     "iopub.status.idle": "2023-08-22T12:01:42.756868Z",
     "shell.execute_reply": "2023-08-22T12:01:42.756198Z"
    }
   },
   "outputs": [
    {
     "data": {
      "text/plain": [
       "Group(20003) s {} children=[]"
      ]
     },
     "execution_count": 40,
     "metadata": {},
     "output_type": "execute_result"
    }
   ],
   "source": [
    "g0.new()"
   ]
  },
  {
   "cell_type": "code",
   "execution_count": 41,
   "metadata": {
    "execution": {
     "iopub.execute_input": "2023-08-22T12:01:42.760311Z",
     "iopub.status.busy": "2023-08-22T12:01:42.760006Z",
     "iopub.status.idle": "2023-08-22T12:01:42.768990Z",
     "shell.execute_reply": "2023-08-22T12:01:42.768337Z"
    }
   },
   "outputs": [
    {
     "data": {
      "text/plain": [
       "Group(0)  {} children=[\n",
       "  Group(469762049) ~ {} children=[],\n",
       "  Group(402653185) ~ {} children=[],\n",
       "  Group(335544321) ~ {} children=[],\n",
       "  Group(268435457) ~ {} children=[],\n",
       "  Group(201326593) ~ {} children=[],\n",
       "  Group(134217729) ~ {} children=[],\n",
       "  Group(67108865) ~ {} children=[ Group(20003) ~ {} children=[]],\n",
       "  Group(1) ~ {} children=[]]"
      ]
     },
     "execution_count": 41,
     "metadata": {},
     "output_type": "execute_result"
    }
   ],
   "source": [
    "sc.server.query_tree()"
   ]
  },
  {
   "cell_type": "code",
   "execution_count": 42,
   "metadata": {
    "execution": {
     "iopub.execute_input": "2023-08-22T12:01:42.772065Z",
     "iopub.status.busy": "2023-08-22T12:01:42.771784Z",
     "iopub.status.idle": "2023-08-22T12:01:42.776195Z",
     "shell.execute_reply": "2023-08-22T12:01:42.775481Z"
    }
   },
   "outputs": [
    {
     "data": {
      "text/plain": [
       "Group(67108865) ~ {} children=[ Group(20003) ~ {} children=[]]"
      ]
     },
     "execution_count": 42,
     "metadata": {},
     "output_type": "execute_result"
    }
   ],
   "source": [
    "sc.server.default_group"
   ]
  },
  {
   "cell_type": "markdown",
   "metadata": {},
   "source": [
    "Create a Group in our new Group"
   ]
  },
  {
   "cell_type": "code",
   "execution_count": 43,
   "metadata": {
    "execution": {
     "iopub.execute_input": "2023-08-22T12:01:42.779402Z",
     "iopub.status.busy": "2023-08-22T12:01:42.779144Z",
     "iopub.status.idle": "2023-08-22T12:01:42.783470Z",
     "shell.execute_reply": "2023-08-22T12:01:42.782913Z"
    }
   },
   "outputs": [
    {
     "data": {
      "text/plain": [
       "Group(20004) s {} children=[]"
      ]
     },
     "execution_count": 43,
     "metadata": {},
     "output_type": "execute_result"
    }
   ],
   "source": [
    "g1 = scn.Group(target=g0)\n",
    "g1"
   ]
  },
  {
   "cell_type": "code",
   "execution_count": 44,
   "metadata": {
    "execution": {
     "iopub.execute_input": "2023-08-22T12:01:42.786528Z",
     "iopub.status.busy": "2023-08-22T12:01:42.786266Z",
     "iopub.status.idle": "2023-08-22T12:01:42.792107Z",
     "shell.execute_reply": "2023-08-22T12:01:42.791457Z"
    }
   },
   "outputs": [
    {
     "data": {
      "text/plain": [
       "Group(0)  {} children=[\n",
       "  Group(469762049) ~ {} children=[],\n",
       "  Group(402653185) ~ {} children=[],\n",
       "  Group(335544321) ~ {} children=[],\n",
       "  Group(268435457) ~ {} children=[],\n",
       "  Group(201326593) ~ {} children=[],\n",
       "  Group(134217729) ~ {} children=[],\n",
       "  Group(67108865) ~ {} children=[\n",
       "    Group(20003) ~ {} children=[ Group(20004) ~ {} children=[]]],\n",
       "  Group(1) ~ {} children=[]]"
      ]
     },
     "execution_count": 44,
     "metadata": {},
     "output_type": "execute_result"
    }
   ],
   "source": [
    "sc.server.query_tree()"
   ]
  },
  {
   "cell_type": "markdown",
   "metadata": {},
   "source": [
    "You can get information about you Group via"
   ]
  },
  {
   "cell_type": "code",
   "execution_count": 45,
   "metadata": {
    "execution": {
     "iopub.execute_input": "2023-08-22T12:01:42.795069Z",
     "iopub.status.busy": "2023-08-22T12:01:42.794814Z",
     "iopub.status.idle": "2023-08-22T12:01:42.803650Z",
     "shell.execute_reply": "2023-08-22T12:01:42.802895Z"
    }
   },
   "outputs": [
    {
     "data": {
      "text/plain": [
       "GroupInfo(nodeid=20003, group=67108865, prev_nodeid=-1, next_nodeid=-1, head=20004, tail=20004)"
      ]
     },
     "execution_count": 45,
     "metadata": {},
     "output_type": "execute_result"
    }
   ],
   "source": [
    "g0.query()"
   ]
  },
  {
   "cell_type": "markdown",
   "metadata": {},
   "source": [
    "The query contains the same information as a Synth query and additionally the head and tail Node of this group.\n",
    "\n",
    "Notice the special value `-1` meaning `None`."
   ]
  },
  {
   "cell_type": "code",
   "execution_count": 46,
   "metadata": {
    "execution": {
     "iopub.execute_input": "2023-08-22T12:01:42.806969Z",
     "iopub.status.busy": "2023-08-22T12:01:42.806616Z",
     "iopub.status.idle": "2023-08-22T12:01:42.815938Z",
     "shell.execute_reply": "2023-08-22T12:01:42.815149Z"
    }
   },
   "outputs": [
    {
     "data": {
      "text/plain": [
       "GroupInfo(nodeid=20004, group=20003, prev_nodeid=-1, next_nodeid=-1, head=-1, tail=-1)"
      ]
     },
     "execution_count": 46,
     "metadata": {},
     "output_type": "execute_result"
    }
   ],
   "source": [
    "g1.query()"
   ]
  },
  {
   "cell_type": "markdown",
   "metadata": {},
   "source": [
    "Free the node"
   ]
  },
  {
   "cell_type": "code",
   "execution_count": 47,
   "metadata": {
    "execution": {
     "iopub.execute_input": "2023-08-22T12:01:42.819681Z",
     "iopub.status.busy": "2023-08-22T12:01:42.819361Z",
     "iopub.status.idle": "2023-08-22T12:01:42.824787Z",
     "shell.execute_reply": "2023-08-22T12:01:42.823369Z"
    }
   },
   "outputs": [
    {
     "data": {
      "text/plain": [
       "Group(20003) f {} children=[ Group(20004) ~ {} children=[]]"
      ]
     },
     "execution_count": 47,
     "metadata": {},
     "output_type": "execute_result"
    }
   ],
   "source": [
    "g0.free()"
   ]
  },
  {
   "cell_type": "code",
   "execution_count": 48,
   "metadata": {
    "execution": {
     "iopub.execute_input": "2023-08-22T12:01:42.827968Z",
     "iopub.status.busy": "2023-08-22T12:01:42.827700Z",
     "iopub.status.idle": "2023-08-22T12:01:42.839449Z",
     "shell.execute_reply": "2023-08-22T12:01:42.838664Z"
    }
   },
   "outputs": [
    {
     "data": {
      "text/plain": [
       "Group(0)  {} children=[\n",
       "  Group(469762049) ~ {} children=[],\n",
       "  Group(402653185) ~ {} children=[],\n",
       "  Group(335544321) ~ {} children=[],\n",
       "  Group(268435457) ~ {} children=[],\n",
       "  Group(201326593) ~ {} children=[],\n",
       "  Group(134217729) ~ {} children=[],\n",
       "  Group(67108865) ~ {} children=[],\n",
       "  Group(1) ~ {} children=[]]"
      ]
     },
     "execution_count": 48,
     "metadata": {},
     "output_type": "execute_result"
    }
   ],
   "source": [
    "sc.server.query_tree()"
   ]
  },
  {
   "cell_type": "markdown",
   "metadata": {},
   "source": [
    "## Order of Nodes \n",
    "\n"
   ]
  },
  {
   "cell_type": "markdown",
   "metadata": {},
   "source": [
    "The execution of the Nodes does plays an important role. \n",
    "For more details look at the [SuperCollider Documentation](http://doc.sccode.org/Guides/Order-of-execution.html)"
   ]
  },
  {
   "cell_type": "markdown",
   "metadata": {},
   "source": [
    "The Node placement of a Nodes can be controlled by the instantiation arguments"
   ]
  },
  {
   "cell_type": "markdown",
   "metadata": {},
   "source": [
    "* `add_action` - An AddAction that specifies where to put Node relative to the target"
   ]
  },
  {
   "cell_type": "code",
   "execution_count": 49,
   "metadata": {
    "execution": {
     "iopub.execute_input": "2023-08-22T12:01:42.843630Z",
     "iopub.status.busy": "2023-08-22T12:01:42.843108Z",
     "iopub.status.idle": "2023-08-22T12:01:42.847622Z",
     "shell.execute_reply": "2023-08-22T12:01:42.846898Z"
    }
   },
   "outputs": [
    {
     "data": {
      "text/plain": [
       "[<AddAction.TO_HEAD: 0>,\n",
       " <AddAction.TO_TAIL: 1>,\n",
       " <AddAction.BEFORE: 2>,\n",
       " <AddAction.AFTER: 3>,\n",
       " <AddAction.REPLACE: 4>]"
      ]
     },
     "execution_count": 49,
     "metadata": {},
     "output_type": "execute_result"
    }
   ],
   "source": [
    "list(scn.AddAction)"
   ]
  },
  {
   "cell_type": "markdown",
   "metadata": {},
   "source": [
    "* `target` - The target of the AddAction\n",
    "* `group` - The group were the Node will be placed"
   ]
  },
  {
   "cell_type": "markdown",
   "metadata": {},
   "source": [
    "### Example of Ordering Nodes"
   ]
  },
  {
   "cell_type": "code",
   "execution_count": 50,
   "metadata": {
    "execution": {
     "iopub.execute_input": "2023-08-22T12:01:42.850880Z",
     "iopub.status.busy": "2023-08-22T12:01:42.850607Z",
     "iopub.status.idle": "2023-08-22T12:01:42.855087Z",
     "shell.execute_reply": "2023-08-22T12:01:42.854515Z"
    }
   },
   "outputs": [
    {
     "data": {
      "text/plain": [
       "Group(20005) s {} children=[]"
      ]
     },
     "execution_count": 50,
     "metadata": {},
     "output_type": "execute_result"
    }
   ],
   "source": [
    "g0 = scn.Group()\n",
    "g0"
   ]
  },
  {
   "cell_type": "code",
   "execution_count": 51,
   "metadata": {
    "execution": {
     "iopub.execute_input": "2023-08-22T12:01:42.858247Z",
     "iopub.status.busy": "2023-08-22T12:01:42.857931Z",
     "iopub.status.idle": "2023-08-22T12:01:42.862851Z",
     "shell.execute_reply": "2023-08-22T12:01:42.862306Z"
    }
   },
   "outputs": [
    {
     "data": {
      "text/plain": [
       "Group(20006) s {} children=[]"
      ]
     },
     "execution_count": 51,
     "metadata": {},
     "output_type": "execute_result"
    }
   ],
   "source": [
    "g1 = scn.Group(target=g0)\n",
    "g1"
   ]
  },
  {
   "cell_type": "code",
   "execution_count": 52,
   "metadata": {
    "execution": {
     "iopub.execute_input": "2023-08-22T12:01:42.865855Z",
     "iopub.status.busy": "2023-08-22T12:01:42.865584Z",
     "iopub.status.idle": "2023-08-22T12:01:42.881093Z",
     "shell.execute_reply": "2023-08-22T12:01:42.879856Z"
    }
   },
   "outputs": [],
   "source": [
    "s0 = scn.Synth(target=g0, controls={\"freq\": 200})"
   ]
  },
  {
   "cell_type": "code",
   "execution_count": 53,
   "metadata": {
    "execution": {
     "iopub.execute_input": "2023-08-22T12:01:42.885297Z",
     "iopub.status.busy": "2023-08-22T12:01:42.885005Z",
     "iopub.status.idle": "2023-08-22T12:01:42.888975Z",
     "shell.execute_reply": "2023-08-22T12:01:42.888260Z"
    }
   },
   "outputs": [],
   "source": [
    "s1 = scn.Synth(add_action=scn.AddAction.BEFORE, target=s0, controls={\"freq\": 600})"
   ]
  },
  {
   "cell_type": "code",
   "execution_count": 54,
   "metadata": {
    "execution": {
     "iopub.execute_input": "2023-08-22T12:01:42.892183Z",
     "iopub.status.busy": "2023-08-22T12:01:42.891900Z",
     "iopub.status.idle": "2023-08-22T12:01:42.895996Z",
     "shell.execute_reply": "2023-08-22T12:01:42.895377Z"
    }
   },
   "outputs": [],
   "source": [
    "s2 = scn.Synth(add_action=scn.AddAction.TO_TAIL, target=g1, controls={\"freq\": 1200})"
   ]
  },
  {
   "cell_type": "code",
   "execution_count": 55,
   "metadata": {
    "execution": {
     "iopub.execute_input": "2023-08-22T12:01:42.899098Z",
     "iopub.status.busy": "2023-08-22T12:01:42.898820Z",
     "iopub.status.idle": "2023-08-22T12:01:42.909598Z",
     "shell.execute_reply": "2023-08-22T12:01:42.908907Z"
    }
   },
   "outputs": [
    {
     "data": {
      "text/plain": [
       "Group(0)  {} children=[\n",
       "  Group(469762049) ~ {} children=[],\n",
       "  Group(402653185) ~ {} children=[],\n",
       "  Group(335544321) ~ {} children=[],\n",
       "  Group(268435457) ~ {} children=[],\n",
       "  Group(201326593) ~ {} children=[],\n",
       "  Group(134217729) ~ {} children=[],\n",
       "  Group(67108865) ~ {} children=[\n",
       "    Group(20005) ~ {} children=[\n",
       "      <Synth(20008) 'default' ~ {'freq': 600.0, 'out': 0.0, 'amp': 0.10000000149011612, 'pan': 0.0, 'gate': 1.0}>,\n",
       "      <Synth(20007) 'default' ~ {'freq': 200.0, 'out': 0.0, 'amp': 0.10000000149011612, 'pan': 0.0, 'gate': 1.0}>,\n",
       "      Group(20006) ~ {} children=[\n",
       "        <Synth(20009) 'default' ~ {'freq': 1200.0, 'out': 0.0, 'amp': 0.10000000149011612, 'pan': 0.0, 'gate': 1.0}>]]],\n",
       "  Group(1) ~ {} children=[]]"
      ]
     },
     "execution_count": 55,
     "metadata": {},
     "output_type": "execute_result"
    }
   ],
   "source": [
    "sc.server.query_tree()"
   ]
  },
  {
   "cell_type": "code",
   "execution_count": 56,
   "metadata": {
    "execution": {
     "iopub.execute_input": "2023-08-22T12:01:42.912925Z",
     "iopub.status.busy": "2023-08-22T12:01:42.912453Z",
     "iopub.status.idle": "2023-08-22T12:01:42.917508Z",
     "shell.execute_reply": "2023-08-22T12:01:42.916862Z"
    }
   },
   "outputs": [
    {
     "data": {
      "text/plain": [
       "<Synth(20008) 'default' ~ {'freq': 600.0, 'out': 0.0, 'amp': 0.10000000149011612, 'pan': 0.0, 'gate': 1.0}>"
      ]
     },
     "execution_count": 56,
     "metadata": {},
     "output_type": "execute_result"
    }
   ],
   "source": [
    "s1.move(scn.AddAction.BEFORE, s2)"
   ]
  },
  {
   "cell_type": "code",
   "execution_count": 57,
   "metadata": {
    "execution": {
     "iopub.execute_input": "2023-08-22T12:01:42.920668Z",
     "iopub.status.busy": "2023-08-22T12:01:42.920388Z",
     "iopub.status.idle": "2023-08-22T12:01:42.932237Z",
     "shell.execute_reply": "2023-08-22T12:01:42.931463Z"
    }
   },
   "outputs": [
    {
     "data": {
      "text/plain": [
       "Group(0)  {} children=[\n",
       "  Group(469762049) ~ {} children=[],\n",
       "  Group(402653185) ~ {} children=[],\n",
       "  Group(335544321) ~ {} children=[],\n",
       "  Group(268435457) ~ {} children=[],\n",
       "  Group(201326593) ~ {} children=[],\n",
       "  Group(134217729) ~ {} children=[],\n",
       "  Group(67108865) ~ {} children=[\n",
       "    Group(20005) ~ {} children=[\n",
       "      <Synth(20007) 'default' ~ {'freq': 200.0, 'out': 0.0, 'amp': 0.10000000149011612, 'pan': 0.0, 'gate': 1.0}>,\n",
       "      Group(20006) ~ {} children=[\n",
       "        <Synth(20008) 'default' ~ {'freq': 600.0, 'out': 0.0, 'amp': 0.10000000149011612, 'pan': 0.0, 'gate': 1.0}>,\n",
       "        <Synth(20009) 'default' ~ {'freq': 1200.0, 'out': 0.0, 'amp': 0.10000000149011612, 'pan': 0.0, 'gate': 1.0}>]]],\n",
       "  Group(1) ~ {} children=[]]"
      ]
     },
     "execution_count": 57,
     "metadata": {},
     "output_type": "execute_result"
    }
   ],
   "source": [
    "sc.server.query_tree()"
   ]
  },
  {
   "cell_type": "code",
   "execution_count": 58,
   "metadata": {
    "execution": {
     "iopub.execute_input": "2023-08-22T12:01:42.935697Z",
     "iopub.status.busy": "2023-08-22T12:01:42.935418Z",
     "iopub.status.idle": "2023-08-22T12:01:42.939817Z",
     "shell.execute_reply": "2023-08-22T12:01:42.939101Z"
    }
   },
   "outputs": [
    {
     "data": {
      "text/plain": [
       "Group(20005) ~ {} children=[\n",
       "  <Synth(20007) 'default' ~ {'freq': 200.0, 'out': 0.0, 'amp': 0.10000000149011612, 'pan': 0.0, 'gate': 1.0}>,\n",
       "  Group(20006) ~ {} children=[\n",
       "    <Synth(20008) 'default' ~ {'freq': 600.0, 'out': 0.0, 'amp': 0.10000000149011612, 'pan': 0.0, 'gate': 1.0}>,\n",
       "    <Synth(20009) 'default' ~ {'freq': 1200.0, 'out': 0.0, 'amp': 0.10000000149011612, 'pan': 0.0, 'gate': 1.0}>]]"
      ]
     },
     "execution_count": 58,
     "metadata": {},
     "output_type": "execute_result"
    }
   ],
   "source": [
    "g0"
   ]
  },
  {
   "cell_type": "code",
   "execution_count": 59,
   "metadata": {
    "execution": {
     "iopub.execute_input": "2023-08-22T12:01:42.943028Z",
     "iopub.status.busy": "2023-08-22T12:01:42.942588Z",
     "iopub.status.idle": "2023-08-22T12:01:42.947303Z",
     "shell.execute_reply": "2023-08-22T12:01:42.946621Z"
    }
   },
   "outputs": [
    {
     "data": {
      "text/plain": [
       "Group(20005) ~ {} children=[\n",
       "  <Synth(20007) 'default' ~ {'freq': 200.0, 'out': 0.0, 'amp': 0.10000000149011612, 'pan': 0.0, 'gate': 1.0}>,\n",
       "  Group(20006) ~ {} children=[\n",
       "    <Synth(20008) 'default' ~ {'freq': 600.0, 'out': 0.0, 'amp': 0.10000000149011612, 'pan': 0.0, 'gate': 1.0}>,\n",
       "    <Synth(20009) 'default' ~ {'freq': 1200.0, 'out': 0.0, 'amp': 0.10000000149011612, 'pan': 0.0, 'gate': 1.0}>]]"
      ]
     },
     "execution_count": 59,
     "metadata": {},
     "output_type": "execute_result"
    }
   ],
   "source": [
    "g0.run(False)"
   ]
  },
  {
   "cell_type": "code",
   "execution_count": 60,
   "metadata": {
    "execution": {
     "iopub.execute_input": "2023-08-22T12:01:42.950418Z",
     "iopub.status.busy": "2023-08-22T12:01:42.950148Z",
     "iopub.status.idle": "2023-08-22T12:01:42.954908Z",
     "shell.execute_reply": "2023-08-22T12:01:42.954283Z"
    }
   },
   "outputs": [
    {
     "data": {
      "text/plain": [
       "Group(20005) ~ {} children=[\n",
       "  <Synth(20007) 'default' ~ {'freq': 200.0, 'out': 0.0, 'amp': 0.10000000149011612, 'pan': 0.0, 'gate': 1.0}>,\n",
       "  Group(20006) ~ {} children=[\n",
       "    <Synth(20008) 'default' ~ {'freq': 600.0, 'out': 0.0, 'amp': 0.10000000149011612, 'pan': 0.0, 'gate': 1.0}>,\n",
       "    <Synth(20009) 'default' ~ {'freq': 1200.0, 'out': 0.0, 'amp': 0.10000000149011612, 'pan': 0.0, 'gate': 1.0}>]]"
      ]
     },
     "execution_count": 60,
     "metadata": {},
     "output_type": "execute_result"
    }
   ],
   "source": [
    "g0.run(True)"
   ]
  },
  {
   "cell_type": "code",
   "execution_count": 61,
   "metadata": {
    "execution": {
     "iopub.execute_input": "2023-08-22T12:01:42.958049Z",
     "iopub.status.busy": "2023-08-22T12:01:42.957772Z",
     "iopub.status.idle": "2023-08-22T12:01:42.966294Z",
     "shell.execute_reply": "2023-08-22T12:01:42.965673Z"
    }
   },
   "outputs": [
    {
     "data": {
      "text/plain": [
       "Group(20006) - {} children=[\n",
       "  <Synth(20008) 'default' ~ {'freq': 600.0, 'out': 0.0, 'amp': 0.10000000149011612, 'pan': 0.0, 'gate': 1.0}>,\n",
       "  <Synth(20009) 'default' ~ {'freq': 1200.0, 'out': 0.0, 'amp': 0.10000000149011612, 'pan': 0.0, 'gate': 1.0}>]"
      ]
     },
     "execution_count": 61,
     "metadata": {},
     "output_type": "execute_result"
    }
   ],
   "source": [
    "g1.run(False)\n",
    "g1.query_tree()"
   ]
  },
  {
   "cell_type": "code",
   "execution_count": 62,
   "metadata": {
    "execution": {
     "iopub.execute_input": "2023-08-22T12:01:42.969338Z",
     "iopub.status.busy": "2023-08-22T12:01:42.969060Z",
     "iopub.status.idle": "2023-08-22T12:01:43.003019Z",
     "shell.execute_reply": "2023-08-22T12:01:43.002037Z"
    }
   },
   "outputs": [
    {
     "data": {
      "text/plain": [
       "(200.0, 600.0, 1200.0)"
      ]
     },
     "execution_count": 62,
     "metadata": {},
     "output_type": "execute_result"
    }
   ],
   "source": [
    "s0.freq, s1.freq, s2.freq"
   ]
  },
  {
   "cell_type": "code",
   "execution_count": 63,
   "metadata": {
    "execution": {
     "iopub.execute_input": "2023-08-22T12:01:43.007496Z",
     "iopub.status.busy": "2023-08-22T12:01:43.007089Z",
     "iopub.status.idle": "2023-08-22T12:01:43.049177Z",
     "shell.execute_reply": "2023-08-22T12:01:43.048317Z"
    }
   },
   "outputs": [
    {
     "data": {
      "text/plain": [
       "(100.0, 100.0, 100.0)"
      ]
     },
     "execution_count": 63,
     "metadata": {},
     "output_type": "execute_result"
    }
   ],
   "source": [
    "g0.set(\"freq\", 100)\n",
    "s0.freq, s1.freq, s2.freq"
   ]
  },
  {
   "cell_type": "code",
   "execution_count": 64,
   "metadata": {
    "execution": {
     "iopub.execute_input": "2023-08-22T12:01:43.053419Z",
     "iopub.status.busy": "2023-08-22T12:01:43.053092Z",
     "iopub.status.idle": "2023-08-22T12:01:43.078363Z",
     "shell.execute_reply": "2023-08-22T12:01:43.077423Z"
    }
   },
   "outputs": [
    {
     "name": "stdout",
     "output_type": "stream",
     "text": [
      "NODE TREE Group 0\n",
      "   469762049 group\n",
      "   402653185 group\n",
      "   335544321 group\n",
      "   268435457 group\n",
      "   201326593 group\n",
      "   134217729 group\n",
      "   67108865 group\n",
      "      20005 group\n",
      "         20007 default\n",
      "           out: 0 freq: 100 amp: 0.10000000149012 pan: 0 gate: 1\n",
      "         20006 group\n",
      "   1 group\n"
     ]
    }
   ],
   "source": [
    "sc.server.dump_tree()"
   ]
  },
  {
   "cell_type": "code",
   "execution_count": 65,
   "metadata": {
    "execution": {
     "iopub.execute_input": "2023-08-22T12:01:43.082576Z",
     "iopub.status.busy": "2023-08-22T12:01:43.082235Z",
     "iopub.status.idle": "2023-08-22T12:01:43.087434Z",
     "shell.execute_reply": "2023-08-22T12:01:43.086793Z"
    }
   },
   "outputs": [
    {
     "data": {
      "text/plain": [
       "Group(20006) - {} children=[\n",
       "  <Synth(20008) 'default' ~ {'freq': 100.0, 'out': 0.0, 'amp': 0.10000000149011612, 'pan': 0.0, 'gate': 1.0}>,\n",
       "  <Synth(20009) 'default' ~ {'freq': 100.0, 'out': 0.0, 'amp': 0.10000000149011612, 'pan': 0.0, 'gate': 1.0}>]"
      ]
     },
     "execution_count": 65,
     "metadata": {},
     "output_type": "execute_result"
    }
   ],
   "source": [
    "g1.run(True)"
   ]
  },
  {
   "cell_type": "code",
   "execution_count": 66,
   "metadata": {
    "execution": {
     "iopub.execute_input": "2023-08-22T12:01:43.090578Z",
     "iopub.status.busy": "2023-08-22T12:01:43.090288Z",
     "iopub.status.idle": "2023-08-22T12:01:43.106285Z",
     "shell.execute_reply": "2023-08-22T12:01:43.105642Z"
    }
   },
   "outputs": [
    {
     "data": {
      "text/plain": [
       "Group(0)  {} children=[\n",
       "  Group(469762049) ~ {} children=[],\n",
       "  Group(402653185) ~ {} children=[],\n",
       "  Group(335544321) ~ {} children=[],\n",
       "  Group(268435457) ~ {} children=[],\n",
       "  Group(201326593) ~ {} children=[],\n",
       "  Group(134217729) ~ {} children=[],\n",
       "  Group(67108865) ~ {} children=[\n",
       "    Group(20005) ~ {'freq': 100} children=[\n",
       "      <Synth(20007) 'default' ~ {'freq': 100.0, 'out': 0.0, 'amp': 0.10000000149011612, 'pan': 0.0, 'gate': 1.0}>,\n",
       "      Group(20006) ~ {} children=[\n",
       "        <Synth(20008) 'default' ~ {'freq': 100.0, 'out': 0.0, 'amp': 0.10000000149011612, 'pan': 0.0, 'gate': 1.0}>,\n",
       "        <Synth(20009) 'default' ~ {'freq': 100.0, 'out': 0.0, 'amp': 0.10000000149011612, 'pan': 0.0, 'gate': 1.0}>]]],\n",
       "  Group(1) ~ {} children=[]]"
      ]
     },
     "execution_count": 66,
     "metadata": {},
     "output_type": "execute_result"
    }
   ],
   "source": [
    "sc.server.query_tree()"
   ]
  },
  {
   "cell_type": "code",
   "execution_count": 67,
   "metadata": {
    "execution": {
     "iopub.execute_input": "2023-08-22T12:01:43.109528Z",
     "iopub.status.busy": "2023-08-22T12:01:43.109255Z",
     "iopub.status.idle": "2023-08-22T12:01:43.142408Z",
     "shell.execute_reply": "2023-08-22T12:01:43.141350Z"
    }
   },
   "outputs": [
    {
     "data": {
      "text/plain": [
       "(100.0, 440.0, 440.0)"
      ]
     },
     "execution_count": 67,
     "metadata": {},
     "output_type": "execute_result"
    }
   ],
   "source": [
    "g1.set(\"freq\", 440)\n",
    "\n",
    "s0.freq, s1.freq, s2.freq"
   ]
  },
  {
   "cell_type": "code",
   "execution_count": 68,
   "metadata": {
    "execution": {
     "iopub.execute_input": "2023-08-22T12:01:43.146686Z",
     "iopub.status.busy": "2023-08-22T12:01:43.146365Z",
     "iopub.status.idle": "2023-08-22T12:01:43.152293Z",
     "shell.execute_reply": "2023-08-22T12:01:43.151634Z"
    }
   },
   "outputs": [
    {
     "data": {
      "text/plain": [
       "Group(20005) ~ {'freq': 100} children=[\n",
       "  <Synth(20007) 'default' ~ {'freq': 100.0, 'out': 0.0, 'amp': 0.10000000149011612, 'pan': 0.0, 'gate': 1.0}>,\n",
       "  Group(20006) ~ {'freq': 440} children=[\n",
       "    <Synth(20008) 'default' ~ {'freq': 440.0, 'out': 0.0, 'amp': 0.10000000149011612, 'pan': 0.0, 'gate': 1.0}>,\n",
       "    <Synth(20009) 'default' ~ {'freq': 440.0, 'out': 0.0, 'amp': 0.10000000149011612, 'pan': 0.0, 'gate': 1.0}>]]"
      ]
     },
     "execution_count": 68,
     "metadata": {},
     "output_type": "execute_result"
    }
   ],
   "source": [
    "g0.query_tree()"
   ]
  },
  {
   "cell_type": "code",
   "execution_count": 69,
   "metadata": {
    "execution": {
     "iopub.execute_input": "2023-08-22T12:01:43.155441Z",
     "iopub.status.busy": "2023-08-22T12:01:43.155162Z",
     "iopub.status.idle": "2023-08-22T12:01:43.159852Z",
     "shell.execute_reply": "2023-08-22T12:01:43.159087Z"
    }
   },
   "outputs": [
    {
     "data": {
      "text/plain": [
       "Group(20005) ~ {'freq': 100} children=[\n",
       "  <Synth(20007) 'default' ~ {'freq': 100.0, 'out': 0.0, 'amp': 0.10000000149011612, 'pan': 0.0, 'gate': 1.0}>,\n",
       "  Group(20006) ~ {'freq': 440} children=[\n",
       "    <Synth(20008) 'default' ~ {'freq': 440.0, 'out': 0.0, 'amp': 0.10000000149011612, 'pan': 0.0, 'gate': 1.0}>,\n",
       "    <Synth(20009) 'default' ~ {'freq': 440.0, 'out': 0.0, 'amp': 0.10000000149011612, 'pan': 0.0, 'gate': 1.0}>]]"
      ]
     },
     "execution_count": 69,
     "metadata": {},
     "output_type": "execute_result"
    }
   ],
   "source": [
    "g0.move_node_to_tail(s1)"
   ]
  },
  {
   "cell_type": "code",
   "execution_count": 70,
   "metadata": {
    "execution": {
     "iopub.execute_input": "2023-08-22T12:01:43.163418Z",
     "iopub.status.busy": "2023-08-22T12:01:43.163136Z",
     "iopub.status.idle": "2023-08-22T12:01:43.167549Z",
     "shell.execute_reply": "2023-08-22T12:01:43.166963Z"
    }
   },
   "outputs": [
    {
     "data": {
      "text/plain": [
       "Group(20005) ~ {'freq': 100} children=[\n",
       "  <Synth(20007) 'default' ~ {'freq': 100.0, 'out': 0.0, 'amp': 0.10000000149011612, 'pan': 0.0, 'gate': 1.0}>,\n",
       "  Group(20006) ~ {'freq': 440} children=[\n",
       "    <Synth(20008) 'default' ~ {'freq': 440.0, 'out': 0.0, 'amp': 0.10000000149011612, 'pan': 0.0, 'gate': 1.0}>,\n",
       "    <Synth(20009) 'default' ~ {'freq': 440.0, 'out': 0.0, 'amp': 0.10000000149011612, 'pan': 0.0, 'gate': 1.0}>]]"
      ]
     },
     "execution_count": 70,
     "metadata": {},
     "output_type": "execute_result"
    }
   ],
   "source": [
    "g0.dump_tree()"
   ]
  },
  {
   "cell_type": "code",
   "execution_count": 71,
   "metadata": {
    "execution": {
     "iopub.execute_input": "2023-08-22T12:01:43.170509Z",
     "iopub.status.busy": "2023-08-22T12:01:43.170252Z",
     "iopub.status.idle": "2023-08-22T12:01:43.212139Z",
     "shell.execute_reply": "2023-08-22T12:01:43.211233Z"
    }
   },
   "outputs": [
    {
     "data": {
      "text/plain": [
       "(100.0, 440.0, 800.0)"
      ]
     },
     "execution_count": 71,
     "metadata": {},
     "output_type": "execute_result"
    }
   ],
   "source": [
    "g1.set(\"freq\", 800)\n",
    "\n",
    "s0.freq, s1.freq, s2.freq"
   ]
  },
  {
   "cell_type": "code",
   "execution_count": 72,
   "metadata": {
    "execution": {
     "iopub.execute_input": "2023-08-22T12:01:43.216053Z",
     "iopub.status.busy": "2023-08-22T12:01:43.215738Z",
     "iopub.status.idle": "2023-08-22T12:01:43.221671Z",
     "shell.execute_reply": "2023-08-22T12:01:43.220978Z"
    }
   },
   "outputs": [
    {
     "data": {
      "text/plain": [
       "Group(67108865) ~ {} children=[\n",
       "  Group(20005) ~ {'freq': 100} children=[\n",
       "    <Synth(20007) 'default' ~ {'freq': 100.0, 'out': 0.0, 'amp': 0.10000000149011612, 'pan': 0.0, 'gate': 1.0}>,\n",
       "    Group(20006) ~ {'freq': 800} children=[\n",
       "      <Synth(20009) 'default' ~ {'freq': 800.0, 'out': 0.0, 'amp': 0.10000000149011612, 'pan': 0.0, 'gate': 1.0}>],\n",
       "    <Synth(20008) 'default' ~ {'freq': 440.0, 'out': 0.0, 'amp': 0.10000000149011612, 'pan': 0.0, 'gate': 1.0}>]]"
      ]
     },
     "execution_count": 72,
     "metadata": {},
     "output_type": "execute_result"
    }
   ],
   "source": [
    "sc.server.default_group.query_tree()"
   ]
  },
  {
   "cell_type": "code",
   "execution_count": 73,
   "metadata": {
    "execution": {
     "iopub.execute_input": "2023-08-22T12:01:43.224962Z",
     "iopub.status.busy": "2023-08-22T12:01:43.224688Z",
     "iopub.status.idle": "2023-08-22T12:01:43.329859Z",
     "shell.execute_reply": "2023-08-22T12:01:43.328508Z"
    }
   },
   "outputs": [
    {
     "name": "stdout",
     "output_type": "stream",
     "text": [
      "NODE TREE Group 0\n",
      "   469762049 group\n",
      "   402653185 group\n",
      "   335544321 group\n",
      "   268435457 group\n",
      "   201326593 group\n",
      "   134217729 group\n",
      "   67108865 group\n",
      "   1 group\n"
     ]
    }
   ],
   "source": [
    "sc.server.free_all()\n",
    "sc.server.dump_tree()"
   ]
  },
  {
   "cell_type": "code",
   "execution_count": 74,
   "metadata": {
    "execution": {
     "iopub.execute_input": "2023-08-22T12:01:43.334356Z",
     "iopub.status.busy": "2023-08-22T12:01:43.333981Z",
     "iopub.status.idle": "2023-08-22T12:01:43.432524Z",
     "shell.execute_reply": "2023-08-22T12:01:43.431623Z"
    }
   },
   "outputs": [
    {
     "name": "stdout",
     "output_type": "stream",
     "text": [
      "Quitting SCServer... [scsynth | reached EOF ]\n",
      "Done.\n",
      "Exiting sclang... [sclang | reached EOF ]\n",
      "Done.\n"
     ]
    }
   ],
   "source": [
    "sc.exit()"
   ]
  },
  {
   "cell_type": "code",
   "execution_count": null,
   "metadata": {},
   "outputs": [],
   "source": []
  }
 ],
 "metadata": {
  "hide_input": false,
  "language_info": {
   "codemirror_mode": {
    "name": "ipython",
    "version": 3
   },
   "file_extension": ".py",
   "mimetype": "text/x-python",
   "name": "python",
   "nbconvert_exporter": "python",
   "pygments_lexer": "ipython3",
   "version": "3.10.11"
  },
  "toc": {
   "base_numbering": 1,
   "nav_menu": {},
   "number_sections": true,
   "sideBar": true,
   "skip_h1_title": true,
   "title_cell": "Table of Contents",
   "title_sidebar": "Contents",
   "toc_cell": false,
   "toc_position": {},
   "toc_section_display": true,
   "toc_window_display": false
  },
  "toc-autonumbering": false,
  "toc-showcode": false,
  "toc-showmarkdowntxt": false,
  "toc-showtags": true
 },
 "nbformat": 4,
 "nbformat_minor": 4
}
