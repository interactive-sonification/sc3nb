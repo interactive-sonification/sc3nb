{
 "cells": [
  {
   "cell_type": "markdown",
   "metadata": {},
   "source": [
    "# Bus"
   ]
  },
  {
   "cell_type": "code",
   "execution_count": 1,
   "metadata": {
    "execution": {
     "iopub.execute_input": "2021-06-23T17:54:48.989362Z",
     "iopub.status.busy": "2021-06-23T17:54:48.988360Z",
     "iopub.status.idle": "2021-06-23T17:54:49.171360Z",
     "shell.execute_reply": "2021-06-23T17:54:49.172360Z"
    }
   },
   "outputs": [],
   "source": [
    "import sc3nb as scn"
   ]
  },
  {
   "cell_type": "code",
   "execution_count": 2,
   "metadata": {
    "execution": {
     "iopub.execute_input": "2021-06-23T17:54:49.180362Z",
     "iopub.status.busy": "2021-06-23T17:54:49.179359Z",
     "iopub.status.idle": "2021-06-23T17:54:52.454593Z",
     "shell.execute_reply": "2021-06-23T17:54:52.454593Z"
    }
   },
   "outputs": [
    {
     "data": {
      "application/javascript": [
       "if (typeof Jupyter !== 'undefined') {\n",
       "                        Jupyter.keyboard_manager.command_shortcuts.add_shortcut(\n",
       "                        'Ctrl-.', {\n",
       "                        help : 'Free all nodes on SC server',\n",
       "                        help_index : 'zz',\n",
       "                        handler : function (event) {\n",
       "                            IPython.notebook.kernel.execute(\n",
       "                                \"import sc3nb; sc3nb.SC.get_default().server.free_all(root=True)\"\n",
       "                            )\n",
       "                            return true;}\n",
       "                        });\n",
       "                    }"
      ],
      "text/plain": [
       "<IPython.core.display.Javascript object>"
      ]
     },
     "metadata": {},
     "output_type": "display_data"
    },
    {
     "name": "stdout",
     "output_type": "stream",
     "text": [
      "Starting sclang process... "
     ]
    },
    {
     "name": "stdout",
     "output_type": "stream",
     "text": [
      "Done.\n",
      "Registering OSC /return callback in sclang... Done.\n",
      "Loading default sc3nb SynthDefs... Done.\n",
      "Booting SuperCollider Server... "
     ]
    },
    {
     "name": "stdout",
     "output_type": "stream",
     "text": [
      "Done.\n"
     ]
    }
   ],
   "source": [
    "sc = scn.startup()"
   ]
  },
  {
   "cell_type": "markdown",
   "metadata": {},
   "source": [
    "## Using a Control Bus"
   ]
  },
  {
   "cell_type": "code",
   "execution_count": 3,
   "metadata": {
    "execution": {
     "iopub.execute_input": "2021-06-23T17:54:52.458593Z",
     "iopub.status.busy": "2021-06-23T17:54:52.457592Z",
     "iopub.status.idle": "2021-06-23T17:54:52.459597Z",
     "shell.execute_reply": "2021-06-23T17:54:52.459597Z"
    }
   },
   "outputs": [
    {
     "data": {
      "text/plain": [
       "Bus(rate='control', ids=[512])"
      ]
     },
     "execution_count": 1,
     "metadata": {},
     "output_type": "execute_result"
    }
   ],
   "source": [
    "bus = scn.Bus('control')\n",
    "bus"
   ]
  },
  {
   "cell_type": "code",
   "execution_count": 4,
   "metadata": {
    "execution": {
     "iopub.execute_input": "2021-06-23T17:54:52.463594Z",
     "iopub.status.busy": "2021-06-23T17:54:52.462597Z",
     "iopub.status.idle": "2021-06-23T17:54:52.485593Z",
     "shell.execute_reply": "2021-06-23T17:54:52.486594Z"
    }
   },
   "outputs": [
    {
     "data": {
      "text/plain": [
       "0.0"
      ]
     },
     "execution_count": 1,
     "metadata": {},
     "output_type": "execute_result"
    }
   ],
   "source": [
    "bus.get()"
   ]
  },
  {
   "cell_type": "code",
   "execution_count": 5,
   "metadata": {
    "execution": {
     "iopub.execute_input": "2021-06-23T17:54:52.489592Z",
     "iopub.status.busy": "2021-06-23T17:54:52.488592Z",
     "iopub.status.idle": "2021-06-23T17:54:52.502595Z",
     "shell.execute_reply": "2021-06-23T17:54:52.502595Z"
    }
   },
   "outputs": [],
   "source": [
    "syn = scn.Synth(\"s2\")"
   ]
  },
  {
   "cell_type": "markdown",
   "metadata": {},
   "source": [
    "map the frequency of the synth to the bus value"
   ]
  },
  {
   "cell_type": "code",
   "execution_count": 6,
   "metadata": {
    "execution": {
     "iopub.execute_input": "2021-06-23T17:54:52.507596Z",
     "iopub.status.busy": "2021-06-23T17:54:52.506594Z",
     "iopub.status.idle": "2021-06-23T17:54:52.510593Z",
     "shell.execute_reply": "2021-06-23T17:54:52.511594Z"
    }
   },
   "outputs": [
    {
     "data": {
      "text/plain": [
       "<Synth(20001) 's2' ~ {}>"
      ]
     },
     "execution_count": 1,
     "metadata": {},
     "output_type": "execute_result"
    }
   ],
   "source": [
    "syn.map(\"freq\", bus)"
   ]
  },
  {
   "cell_type": "code",
   "execution_count": 7,
   "metadata": {
    "execution": {
     "iopub.execute_input": "2021-06-23T17:54:52.515595Z",
     "iopub.status.busy": "2021-06-23T17:54:52.514599Z",
     "iopub.status.idle": "2021-06-23T17:54:52.517595Z",
     "shell.execute_reply": "2021-06-23T17:54:52.517595Z"
    }
   },
   "outputs": [
    {
     "data": {
      "text/plain": [
       "Bus(rate='control', ids=[512])"
      ]
     },
     "execution_count": 1,
     "metadata": {},
     "output_type": "execute_result"
    }
   ],
   "source": [
    "bus.set(120) # changes synths frequency"
   ]
  },
  {
   "cell_type": "code",
   "execution_count": 8,
   "metadata": {
    "execution": {
     "iopub.execute_input": "2021-06-23T17:54:52.521603Z",
     "iopub.status.busy": "2021-06-23T17:54:52.521603Z",
     "iopub.status.idle": "2021-06-23T17:54:52.525594Z",
     "shell.execute_reply": "2021-06-23T17:54:52.525594Z"
    }
   },
   "outputs": [
    {
     "data": {
      "text/plain": [
       "Bus(rate='control', ids=[512])"
      ]
     },
     "execution_count": 1,
     "metadata": {},
     "output_type": "execute_result"
    }
   ],
   "source": [
    "bus.set(440)"
   ]
  },
  {
   "cell_type": "markdown",
   "metadata": {},
   "source": [
    "Set the frequency value to remove the mapping"
   ]
  },
  {
   "cell_type": "code",
   "execution_count": 9,
   "metadata": {
    "execution": {
     "iopub.execute_input": "2021-06-23T17:54:52.529594Z",
     "iopub.status.busy": "2021-06-23T17:54:52.528596Z",
     "iopub.status.idle": "2021-06-23T17:54:52.531593Z",
     "shell.execute_reply": "2021-06-23T17:54:52.531593Z"
    }
   },
   "outputs": [
    {
     "data": {
      "text/plain": [
       "<Synth(20001) 's2' ~ {'freq': 220}>"
      ]
     },
     "execution_count": 1,
     "metadata": {},
     "output_type": "execute_result"
    }
   ],
   "source": [
    "syn.set(\"freq\", 220)"
   ]
  },
  {
   "cell_type": "code",
   "execution_count": 10,
   "metadata": {
    "execution": {
     "iopub.execute_input": "2021-06-23T17:54:52.535596Z",
     "iopub.status.busy": "2021-06-23T17:54:52.535596Z",
     "iopub.status.idle": "2021-06-23T17:54:52.537600Z",
     "shell.execute_reply": "2021-06-23T17:54:52.537600Z"
    }
   },
   "outputs": [
    {
     "data": {
      "text/plain": [
       "Bus(rate='control', ids=[512])"
      ]
     },
     "execution_count": 1,
     "metadata": {},
     "output_type": "execute_result"
    }
   ],
   "source": [
    "bus.set(440)  # no change"
   ]
  },
  {
   "cell_type": "code",
   "execution_count": 11,
   "metadata": {
    "execution": {
     "iopub.execute_input": "2021-06-23T17:54:52.541595Z",
     "iopub.status.busy": "2021-06-23T17:54:52.541595Z",
     "iopub.status.idle": "2021-06-23T17:54:52.544592Z",
     "shell.execute_reply": "2021-06-23T17:54:52.544592Z"
    }
   },
   "outputs": [
    {
     "data": {
      "text/plain": [
       "<Synth(20001) 's2' f {'freq': 220}>"
      ]
     },
     "execution_count": 1,
     "metadata": {},
     "output_type": "execute_result"
    }
   ],
   "source": [
    "syn.free()"
   ]
  },
  {
   "cell_type": "markdown",
   "metadata": {},
   "source": [
    "Free the bus to mark the bus id as available again"
   ]
  },
  {
   "cell_type": "code",
   "execution_count": 12,
   "metadata": {
    "execution": {
     "iopub.execute_input": "2021-06-23T17:54:52.547593Z",
     "iopub.status.busy": "2021-06-23T17:54:52.547593Z",
     "iopub.status.idle": "2021-06-23T17:54:52.549593Z",
     "shell.execute_reply": "2021-06-23T17:54:52.549593Z"
    }
   },
   "outputs": [],
   "source": [
    "bus.free()"
   ]
  },
  {
   "cell_type": "markdown",
   "metadata": {},
   "source": [
    "## Use multiple Control Buses"
   ]
  },
  {
   "cell_type": "code",
   "execution_count": 13,
   "metadata": {
    "execution": {
     "iopub.execute_input": "2021-06-23T17:54:52.552592Z",
     "iopub.status.busy": "2021-06-23T17:54:52.552592Z",
     "iopub.status.idle": "2021-06-23T17:54:52.574592Z",
     "shell.execute_reply": "2021-06-23T17:54:52.574592Z"
    }
   },
   "outputs": [],
   "source": [
    "synth_name = scn.SynthDef(\"busMulti\", \"\"\"{ |out, freqs=#[200, 400], rates=#[1, 2] |\n",
    "    Out.ar(out, Splay.ar(SinOsc.ar(freqs) * Decay2.ar(Impulse.ar(rates), 0.001, 0.1)) * 0.5);\n",
    "}\"\"\").add()"
   ]
  },
  {
   "cell_type": "code",
   "execution_count": 14,
   "metadata": {
    "execution": {
     "iopub.execute_input": "2021-06-23T17:54:52.578593Z",
     "iopub.status.busy": "2021-06-23T17:54:52.577593Z",
     "iopub.status.idle": "2021-06-23T17:54:52.580592Z",
     "shell.execute_reply": "2021-06-23T17:54:52.580592Z"
    }
   },
   "outputs": [
    {
     "data": {
      "text/plain": [
       "Bus(rate='control', ids=[512, 513])"
      ]
     },
     "execution_count": 1,
     "metadata": {},
     "output_type": "execute_result"
    }
   ],
   "source": [
    "buses = scn.Bus(\"control\", 2)\n",
    "buses"
   ]
  },
  {
   "cell_type": "code",
   "execution_count": 15,
   "metadata": {
    "execution": {
     "iopub.execute_input": "2021-06-23T17:54:52.583597Z",
     "iopub.status.busy": "2021-06-23T17:54:52.582593Z",
     "iopub.status.idle": "2021-06-23T17:54:52.595591Z",
     "shell.execute_reply": "2021-06-23T17:54:52.595591Z"
    }
   },
   "outputs": [
    {
     "data": {
      "text/plain": [
       "[0.0, 0.0]"
      ]
     },
     "execution_count": 1,
     "metadata": {},
     "output_type": "execute_result"
    }
   ],
   "source": [
    "buses.get()"
   ]
  },
  {
   "cell_type": "code",
   "execution_count": 16,
   "metadata": {
    "execution": {
     "iopub.execute_input": "2021-06-23T17:54:52.598594Z",
     "iopub.status.busy": "2021-06-23T17:54:52.597593Z",
     "iopub.status.idle": "2021-06-23T17:54:52.609593Z",
     "shell.execute_reply": "2021-06-23T17:54:52.609593Z"
    }
   },
   "outputs": [],
   "source": [
    "syn = scn.Synth(synth_name)"
   ]
  },
  {
   "cell_type": "code",
   "execution_count": 17,
   "metadata": {
    "execution": {
     "iopub.execute_input": "2021-06-23T17:54:52.614594Z",
     "iopub.status.busy": "2021-06-23T17:54:52.614594Z",
     "iopub.status.idle": "2021-06-23T17:54:52.617593Z",
     "shell.execute_reply": "2021-06-23T17:54:52.617593Z"
    }
   },
   "outputs": [
    {
     "data": {
      "text/plain": [
       "<Synth(20002) 'busMulti' s {}>"
      ]
     },
     "execution_count": 1,
     "metadata": {},
     "output_type": "execute_result"
    }
   ],
   "source": [
    "syn.map(\"rates\", buses)"
   ]
  },
  {
   "cell_type": "code",
   "execution_count": 18,
   "metadata": {
    "execution": {
     "iopub.execute_input": "2021-06-23T17:54:52.620593Z",
     "iopub.status.busy": "2021-06-23T17:54:52.620593Z",
     "iopub.status.idle": "2021-06-23T17:54:52.622595Z",
     "shell.execute_reply": "2021-06-23T17:54:52.622595Z"
    }
   },
   "outputs": [
    {
     "data": {
      "text/plain": [
       "Bus(rate='control', ids=[512, 513])"
      ]
     },
     "execution_count": 1,
     "metadata": {},
     "output_type": "execute_result"
    }
   ],
   "source": [
    "buses.set(1, 1)"
   ]
  },
  {
   "cell_type": "code",
   "execution_count": 19,
   "metadata": {
    "execution": {
     "iopub.execute_input": "2021-06-23T17:54:52.625599Z",
     "iopub.status.busy": "2021-06-23T17:54:52.625599Z",
     "iopub.status.idle": "2021-06-23T17:54:52.628592Z",
     "shell.execute_reply": "2021-06-23T17:54:52.628592Z"
    }
   },
   "outputs": [
    {
     "data": {
      "text/plain": [
       "Bus(rate='control', ids=[512, 513])"
      ]
     },
     "execution_count": 1,
     "metadata": {},
     "output_type": "execute_result"
    }
   ],
   "source": [
    "buses.set(1, 2)"
   ]
  },
  {
   "cell_type": "code",
   "execution_count": 20,
   "metadata": {
    "execution": {
     "iopub.execute_input": "2021-06-23T17:54:52.631594Z",
     "iopub.status.busy": "2021-06-23T17:54:52.630594Z",
     "iopub.status.idle": "2021-06-23T17:54:52.633594Z",
     "shell.execute_reply": "2021-06-23T17:54:52.633594Z"
    }
   },
   "outputs": [
    {
     "data": {
      "text/plain": [
       "[1.0, 2.0]"
      ]
     },
     "execution_count": 1,
     "metadata": {},
     "output_type": "execute_result"
    }
   ],
   "source": [
    "buses.get()"
   ]
  },
  {
   "cell_type": "code",
   "execution_count": 21,
   "metadata": {
    "execution": {
     "iopub.execute_input": "2021-06-23T17:54:52.636591Z",
     "iopub.status.busy": "2021-06-23T17:54:52.636591Z",
     "iopub.status.idle": "2021-06-23T17:54:52.638593Z",
     "shell.execute_reply": "2021-06-23T17:54:52.638593Z"
    }
   },
   "outputs": [
    {
     "data": {
      "text/plain": [
       "<Synth(20002) 'busMulti' f {}>"
      ]
     },
     "execution_count": 1,
     "metadata": {},
     "output_type": "execute_result"
    }
   ],
   "source": [
    "syn.free()"
   ]
  },
  {
   "cell_type": "code",
   "execution_count": 22,
   "metadata": {
    "execution": {
     "iopub.execute_input": "2021-06-23T17:54:52.641594Z",
     "iopub.status.busy": "2021-06-23T17:54:52.641594Z",
     "iopub.status.idle": "2021-06-23T17:54:52.643593Z",
     "shell.execute_reply": "2021-06-23T17:54:52.644593Z"
    }
   },
   "outputs": [],
   "source": [
    "buses.free()"
   ]
  },
  {
   "cell_type": "code",
   "execution_count": 23,
   "metadata": {
    "execution": {
     "iopub.execute_input": "2021-06-23T17:54:52.647594Z",
     "iopub.status.busy": "2021-06-23T17:54:52.646601Z",
     "iopub.status.idle": "2021-06-23T17:54:52.714592Z",
     "shell.execute_reply": "2021-06-23T17:54:52.714592Z"
    }
   },
   "outputs": [],
   "source": [
    "sc.server.free_all()"
   ]
  },
  {
   "cell_type": "code",
   "execution_count": 24,
   "metadata": {
    "execution": {
     "iopub.execute_input": "2021-06-23T17:54:52.717593Z",
     "iopub.status.busy": "2021-06-23T17:54:52.717593Z",
     "iopub.status.idle": "2021-06-23T17:54:53.890557Z",
     "shell.execute_reply": "2021-06-23T17:54:53.890557Z"
    }
   },
   "outputs": [],
   "source": [
    "sc.exit()"
   ]
  },
  {
   "cell_type": "code",
   "execution_count": null,
   "metadata": {},
   "outputs": [],
   "source": []
  }
 ],
 "metadata": {
  "language_info": {
   "codemirror_mode": {
    "name": "ipython",
    "version": 3
   },
   "file_extension": ".py",
   "mimetype": "text/x-python",
   "name": "python",
   "nbconvert_exporter": "python",
   "pygments_lexer": "ipython3",
   "version": "3.7.10"
  }
 },
 "nbformat": 4,
 "nbformat_minor": 4
}
