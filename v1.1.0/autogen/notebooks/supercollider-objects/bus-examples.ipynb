{
 "cells": [
  {
   "cell_type": "markdown",
   "metadata": {},
   "source": [
    "# Bus"
   ]
  },
  {
   "cell_type": "code",
   "execution_count": 1,
   "metadata": {
    "execution": {
     "iopub.execute_input": "2023-08-22T12:10:29.951856Z",
     "iopub.status.busy": "2023-08-22T12:10:29.951545Z",
     "iopub.status.idle": "2023-08-22T12:10:30.154530Z",
     "shell.execute_reply": "2023-08-22T12:10:30.153819Z"
    }
   },
   "outputs": [],
   "source": [
    "import sc3nb as scn"
   ]
  },
  {
   "cell_type": "code",
   "execution_count": 2,
   "metadata": {
    "execution": {
     "iopub.execute_input": "2023-08-22T12:10:30.160303Z",
     "iopub.status.busy": "2023-08-22T12:10:30.159835Z",
     "iopub.status.idle": "2023-08-22T12:10:33.617452Z",
     "shell.execute_reply": "2023-08-22T12:10:33.615838Z"
    }
   },
   "outputs": [
    {
     "data": {
      "application/javascript": [
       "if (typeof Jupyter !== 'undefined') {\n",
       "                        Jupyter.keyboard_manager.command_shortcuts.add_shortcut(\n",
       "                        'cmd-.', {\n",
       "                        help : 'Free all nodes on SC server',\n",
       "                        help_index : 'zz',\n",
       "                        handler : function (event) {\n",
       "                            IPython.notebook.kernel.execute(\n",
       "                                \"import sc3nb; sc3nb.SC.get_default().server.free_all(root=True)\"\n",
       "                            )\n",
       "                            return true;}\n",
       "                        });\n",
       "                    }"
      ],
      "text/plain": [
       "<IPython.core.display.Javascript object>"
      ]
     },
     "metadata": {},
     "output_type": "display_data"
    },
    {
     "name": "stdout",
     "output_type": "stream",
     "text": [
      "Starting sclang process... [sclang | start reading ]\n"
     ]
    },
    {
     "name": "stdout",
     "output_type": "stream",
     "text": [
      "Done.\n",
      "Registering OSC /return callback in sclang... Done.\n",
      "Loading default sc3nb SynthDefs... Done.\n",
      "Booting SuperCollider Server... [scsynth | start reading ]\n"
     ]
    },
    {
     "name": "stdout",
     "output_type": "stream",
     "text": [
      "Done.\n"
     ]
    }
   ],
   "source": [
    "sc = scn.startup()"
   ]
  },
  {
   "cell_type": "markdown",
   "metadata": {},
   "source": [
    "## Using a Control Bus"
   ]
  },
  {
   "cell_type": "code",
   "execution_count": 3,
   "metadata": {
    "execution": {
     "iopub.execute_input": "2023-08-22T12:10:33.622478Z",
     "iopub.status.busy": "2023-08-22T12:10:33.621792Z",
     "iopub.status.idle": "2023-08-22T12:10:33.627865Z",
     "shell.execute_reply": "2023-08-22T12:10:33.627178Z"
    }
   },
   "outputs": [
    {
     "data": {
      "text/plain": [
       "Bus(rate='control', ids=[512])"
      ]
     },
     "execution_count": 3,
     "metadata": {},
     "output_type": "execute_result"
    }
   ],
   "source": [
    "bus = scn.Bus('control')\n",
    "bus"
   ]
  },
  {
   "cell_type": "code",
   "execution_count": 4,
   "metadata": {
    "execution": {
     "iopub.execute_input": "2023-08-22T12:10:33.631062Z",
     "iopub.status.busy": "2023-08-22T12:10:33.630782Z",
     "iopub.status.idle": "2023-08-22T12:10:33.640485Z",
     "shell.execute_reply": "2023-08-22T12:10:33.639633Z"
    }
   },
   "outputs": [
    {
     "data": {
      "text/plain": [
       "0.0"
      ]
     },
     "execution_count": 4,
     "metadata": {},
     "output_type": "execute_result"
    }
   ],
   "source": [
    "bus.get()"
   ]
  },
  {
   "cell_type": "code",
   "execution_count": 5,
   "metadata": {
    "execution": {
     "iopub.execute_input": "2023-08-22T12:10:33.643704Z",
     "iopub.status.busy": "2023-08-22T12:10:33.643413Z",
     "iopub.status.idle": "2023-08-22T12:10:33.659698Z",
     "shell.execute_reply": "2023-08-22T12:10:33.658403Z"
    }
   },
   "outputs": [],
   "source": [
    "syn = scn.Synth(\"s2\")"
   ]
  },
  {
   "cell_type": "markdown",
   "metadata": {},
   "source": [
    "map the frequency of the synth to the bus value"
   ]
  },
  {
   "cell_type": "code",
   "execution_count": 6,
   "metadata": {
    "execution": {
     "iopub.execute_input": "2023-08-22T12:10:33.663742Z",
     "iopub.status.busy": "2023-08-22T12:10:33.663454Z",
     "iopub.status.idle": "2023-08-22T12:10:33.668341Z",
     "shell.execute_reply": "2023-08-22T12:10:33.667639Z"
    }
   },
   "outputs": [
    {
     "data": {
      "text/plain": [
       "<Synth(20001) 's2' ~ {}>"
      ]
     },
     "execution_count": 6,
     "metadata": {},
     "output_type": "execute_result"
    }
   ],
   "source": [
    "syn.map(\"freq\", bus)"
   ]
  },
  {
   "cell_type": "code",
   "execution_count": 7,
   "metadata": {
    "execution": {
     "iopub.execute_input": "2023-08-22T12:10:33.671693Z",
     "iopub.status.busy": "2023-08-22T12:10:33.671361Z",
     "iopub.status.idle": "2023-08-22T12:10:33.676022Z",
     "shell.execute_reply": "2023-08-22T12:10:33.675428Z"
    }
   },
   "outputs": [
    {
     "data": {
      "text/plain": [
       "Bus(rate='control', ids=[512])"
      ]
     },
     "execution_count": 7,
     "metadata": {},
     "output_type": "execute_result"
    }
   ],
   "source": [
    "bus.set(120) # changes synths frequency"
   ]
  },
  {
   "cell_type": "code",
   "execution_count": 8,
   "metadata": {
    "execution": {
     "iopub.execute_input": "2023-08-22T12:10:33.679102Z",
     "iopub.status.busy": "2023-08-22T12:10:33.678822Z",
     "iopub.status.idle": "2023-08-22T12:10:33.683388Z",
     "shell.execute_reply": "2023-08-22T12:10:33.682722Z"
    }
   },
   "outputs": [
    {
     "data": {
      "text/plain": [
       "Bus(rate='control', ids=[512])"
      ]
     },
     "execution_count": 8,
     "metadata": {},
     "output_type": "execute_result"
    }
   ],
   "source": [
    "bus.set(440)"
   ]
  },
  {
   "cell_type": "markdown",
   "metadata": {},
   "source": [
    "Set the frequency value to remove the mapping"
   ]
  },
  {
   "cell_type": "code",
   "execution_count": 9,
   "metadata": {
    "execution": {
     "iopub.execute_input": "2023-08-22T12:10:33.686521Z",
     "iopub.status.busy": "2023-08-22T12:10:33.686250Z",
     "iopub.status.idle": "2023-08-22T12:10:33.691064Z",
     "shell.execute_reply": "2023-08-22T12:10:33.690304Z"
    }
   },
   "outputs": [
    {
     "data": {
      "text/plain": [
       "<Synth(20001) 's2' ~ {'freq': 220}>"
      ]
     },
     "execution_count": 9,
     "metadata": {},
     "output_type": "execute_result"
    }
   ],
   "source": [
    "syn.set(\"freq\", 220)"
   ]
  },
  {
   "cell_type": "code",
   "execution_count": 10,
   "metadata": {
    "execution": {
     "iopub.execute_input": "2023-08-22T12:10:33.694289Z",
     "iopub.status.busy": "2023-08-22T12:10:33.693999Z",
     "iopub.status.idle": "2023-08-22T12:10:33.698549Z",
     "shell.execute_reply": "2023-08-22T12:10:33.697939Z"
    }
   },
   "outputs": [
    {
     "data": {
      "text/plain": [
       "Bus(rate='control', ids=[512])"
      ]
     },
     "execution_count": 10,
     "metadata": {},
     "output_type": "execute_result"
    }
   ],
   "source": [
    "bus.set(440)  # no change"
   ]
  },
  {
   "cell_type": "code",
   "execution_count": 11,
   "metadata": {
    "execution": {
     "iopub.execute_input": "2023-08-22T12:10:33.701463Z",
     "iopub.status.busy": "2023-08-22T12:10:33.701212Z",
     "iopub.status.idle": "2023-08-22T12:10:33.705778Z",
     "shell.execute_reply": "2023-08-22T12:10:33.704950Z"
    }
   },
   "outputs": [
    {
     "data": {
      "text/plain": [
       "<Synth(20001) 's2' f {'freq': 220}>"
      ]
     },
     "execution_count": 11,
     "metadata": {},
     "output_type": "execute_result"
    }
   ],
   "source": [
    "syn.free()"
   ]
  },
  {
   "cell_type": "markdown",
   "metadata": {},
   "source": [
    "Free the bus to mark the bus id as available again"
   ]
  },
  {
   "cell_type": "code",
   "execution_count": 12,
   "metadata": {
    "execution": {
     "iopub.execute_input": "2023-08-22T12:10:33.709462Z",
     "iopub.status.busy": "2023-08-22T12:10:33.709192Z",
     "iopub.status.idle": "2023-08-22T12:10:33.712467Z",
     "shell.execute_reply": "2023-08-22T12:10:33.711895Z"
    }
   },
   "outputs": [],
   "source": [
    "bus.free()"
   ]
  },
  {
   "cell_type": "markdown",
   "metadata": {},
   "source": [
    "## Use multiple Control Buses"
   ]
  },
  {
   "cell_type": "code",
   "execution_count": 13,
   "metadata": {
    "execution": {
     "iopub.execute_input": "2023-08-22T12:10:33.715519Z",
     "iopub.status.busy": "2023-08-22T12:10:33.715257Z",
     "iopub.status.idle": "2023-08-22T12:10:33.756651Z",
     "shell.execute_reply": "2023-08-22T12:10:33.755036Z"
    }
   },
   "outputs": [],
   "source": [
    "synth_name = scn.SynthDef(\"busMulti\", \"\"\"{ |out, freqs=#[200, 400], rates=#[1, 2] |\n",
    "    Out.ar(out, Splay.ar(SinOsc.ar(freqs) * Decay2.ar(Impulse.ar(rates), 0.001, 0.1)) * 0.5);\n",
    "}\"\"\").add()"
   ]
  },
  {
   "cell_type": "code",
   "execution_count": 14,
   "metadata": {
    "execution": {
     "iopub.execute_input": "2023-08-22T12:10:33.761830Z",
     "iopub.status.busy": "2023-08-22T12:10:33.761128Z",
     "iopub.status.idle": "2023-08-22T12:10:33.766423Z",
     "shell.execute_reply": "2023-08-22T12:10:33.765718Z"
    }
   },
   "outputs": [
    {
     "data": {
      "text/plain": [
       "Bus(rate='control', ids=[512, 513])"
      ]
     },
     "execution_count": 14,
     "metadata": {},
     "output_type": "execute_result"
    }
   ],
   "source": [
    "buses = scn.Bus(\"control\", 2)\n",
    "buses"
   ]
  },
  {
   "cell_type": "code",
   "execution_count": 15,
   "metadata": {
    "execution": {
     "iopub.execute_input": "2023-08-22T12:10:33.769558Z",
     "iopub.status.busy": "2023-08-22T12:10:33.769285Z",
     "iopub.status.idle": "2023-08-22T12:10:33.779058Z",
     "shell.execute_reply": "2023-08-22T12:10:33.778285Z"
    }
   },
   "outputs": [
    {
     "data": {
      "text/plain": [
       "[0.0, 0.0]"
      ]
     },
     "execution_count": 15,
     "metadata": {},
     "output_type": "execute_result"
    }
   ],
   "source": [
    "buses.get()"
   ]
  },
  {
   "cell_type": "code",
   "execution_count": 16,
   "metadata": {
    "execution": {
     "iopub.execute_input": "2023-08-22T12:10:33.782437Z",
     "iopub.status.busy": "2023-08-22T12:10:33.782173Z",
     "iopub.status.idle": "2023-08-22T12:10:33.799777Z",
     "shell.execute_reply": "2023-08-22T12:10:33.797679Z"
    }
   },
   "outputs": [],
   "source": [
    "syn = scn.Synth(synth_name)"
   ]
  },
  {
   "cell_type": "code",
   "execution_count": 17,
   "metadata": {
    "execution": {
     "iopub.execute_input": "2023-08-22T12:10:33.803739Z",
     "iopub.status.busy": "2023-08-22T12:10:33.803420Z",
     "iopub.status.idle": "2023-08-22T12:10:33.808784Z",
     "shell.execute_reply": "2023-08-22T12:10:33.808082Z"
    }
   },
   "outputs": [
    {
     "data": {
      "text/plain": [
       "<Synth(20002) 'busMulti' ~ {}>"
      ]
     },
     "execution_count": 17,
     "metadata": {},
     "output_type": "execute_result"
    }
   ],
   "source": [
    "syn.map(\"rates\", buses)"
   ]
  },
  {
   "cell_type": "code",
   "execution_count": 18,
   "metadata": {
    "execution": {
     "iopub.execute_input": "2023-08-22T12:10:33.812104Z",
     "iopub.status.busy": "2023-08-22T12:10:33.811820Z",
     "iopub.status.idle": "2023-08-22T12:10:33.816704Z",
     "shell.execute_reply": "2023-08-22T12:10:33.816025Z"
    }
   },
   "outputs": [
    {
     "data": {
      "text/plain": [
       "Bus(rate='control', ids=[512, 513])"
      ]
     },
     "execution_count": 18,
     "metadata": {},
     "output_type": "execute_result"
    }
   ],
   "source": [
    "buses.set(1, 1)"
   ]
  },
  {
   "cell_type": "code",
   "execution_count": 19,
   "metadata": {
    "execution": {
     "iopub.execute_input": "2023-08-22T12:10:33.819751Z",
     "iopub.status.busy": "2023-08-22T12:10:33.819486Z",
     "iopub.status.idle": "2023-08-22T12:10:33.824354Z",
     "shell.execute_reply": "2023-08-22T12:10:33.823683Z"
    }
   },
   "outputs": [
    {
     "data": {
      "text/plain": [
       "Bus(rate='control', ids=[512, 513])"
      ]
     },
     "execution_count": 19,
     "metadata": {},
     "output_type": "execute_result"
    }
   ],
   "source": [
    "buses.set(1, 2)"
   ]
  },
  {
   "cell_type": "code",
   "execution_count": 20,
   "metadata": {
    "execution": {
     "iopub.execute_input": "2023-08-22T12:10:33.827588Z",
     "iopub.status.busy": "2023-08-22T12:10:33.827309Z",
     "iopub.status.idle": "2023-08-22T12:10:33.837107Z",
     "shell.execute_reply": "2023-08-22T12:10:33.836339Z"
    }
   },
   "outputs": [
    {
     "data": {
      "text/plain": [
       "[1.0, 2.0]"
      ]
     },
     "execution_count": 20,
     "metadata": {},
     "output_type": "execute_result"
    }
   ],
   "source": [
    "buses.get()"
   ]
  },
  {
   "cell_type": "code",
   "execution_count": 21,
   "metadata": {
    "execution": {
     "iopub.execute_input": "2023-08-22T12:10:33.840597Z",
     "iopub.status.busy": "2023-08-22T12:10:33.840299Z",
     "iopub.status.idle": "2023-08-22T12:10:33.845647Z",
     "shell.execute_reply": "2023-08-22T12:10:33.844364Z"
    }
   },
   "outputs": [
    {
     "data": {
      "text/plain": [
       "<Synth(20002) 'busMulti' f {}>"
      ]
     },
     "execution_count": 21,
     "metadata": {},
     "output_type": "execute_result"
    }
   ],
   "source": [
    "syn.free()"
   ]
  },
  {
   "cell_type": "code",
   "execution_count": 22,
   "metadata": {
    "execution": {
     "iopub.execute_input": "2023-08-22T12:10:33.848710Z",
     "iopub.status.busy": "2023-08-22T12:10:33.848419Z",
     "iopub.status.idle": "2023-08-22T12:10:33.852061Z",
     "shell.execute_reply": "2023-08-22T12:10:33.851455Z"
    }
   },
   "outputs": [],
   "source": [
    "buses.free()"
   ]
  },
  {
   "cell_type": "code",
   "execution_count": 23,
   "metadata": {
    "execution": {
     "iopub.execute_input": "2023-08-22T12:10:33.855038Z",
     "iopub.status.busy": "2023-08-22T12:10:33.854741Z",
     "iopub.status.idle": "2023-08-22T12:10:33.930287Z",
     "shell.execute_reply": "2023-08-22T12:10:33.929020Z"
    }
   },
   "outputs": [],
   "source": [
    "sc.server.free_all()"
   ]
  },
  {
   "cell_type": "code",
   "execution_count": 24,
   "metadata": {
    "execution": {
     "iopub.execute_input": "2023-08-22T12:10:33.934789Z",
     "iopub.status.busy": "2023-08-22T12:10:33.934406Z",
     "iopub.status.idle": "2023-08-22T12:10:34.032229Z",
     "shell.execute_reply": "2023-08-22T12:10:34.030948Z"
    }
   },
   "outputs": [
    {
     "name": "stdout",
     "output_type": "stream",
     "text": [
      "Quitting SCServer... [scsynth | reached EOF ]\n",
      "Done.\n",
      "Exiting sclang... [sclang | reached EOF ]\n",
      "Done.\n"
     ]
    }
   ],
   "source": [
    "sc.exit()"
   ]
  },
  {
   "cell_type": "code",
   "execution_count": null,
   "metadata": {},
   "outputs": [],
   "source": []
  }
 ],
 "metadata": {
  "language_info": {
   "codemirror_mode": {
    "name": "ipython",
    "version": 3
   },
   "file_extension": ".py",
   "mimetype": "text/x-python",
   "name": "python",
   "nbconvert_exporter": "python",
   "pygments_lexer": "ipython3",
   "version": "3.10.11"
  }
 },
 "nbformat": 4,
 "nbformat_minor": 4
}
