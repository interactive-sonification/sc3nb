{
 "cells": [
  {
   "cell_type": "markdown",
   "metadata": {},
   "source": [
    "# Bus"
   ]
  },
  {
   "cell_type": "code",
   "execution_count": 1,
   "metadata": {
    "execution": {
     "iopub.execute_input": "2023-08-22T12:07:24.458058Z",
     "iopub.status.busy": "2023-08-22T12:07:24.457747Z",
     "iopub.status.idle": "2023-08-22T12:07:24.649653Z",
     "shell.execute_reply": "2023-08-22T12:07:24.648822Z"
    }
   },
   "outputs": [],
   "source": [
    "import sc3nb as scn"
   ]
  },
  {
   "cell_type": "code",
   "execution_count": 2,
   "metadata": {
    "execution": {
     "iopub.execute_input": "2023-08-22T12:07:24.653615Z",
     "iopub.status.busy": "2023-08-22T12:07:24.653293Z",
     "iopub.status.idle": "2023-08-22T12:07:28.196737Z",
     "shell.execute_reply": "2023-08-22T12:07:28.194960Z"
    }
   },
   "outputs": [
    {
     "data": {
      "application/javascript": [
       "if (typeof Jupyter !== 'undefined') {\n",
       "                        Jupyter.keyboard_manager.command_shortcuts.add_shortcut(\n",
       "                        'cmd-.', {\n",
       "                        help : 'Free all nodes on SC server',\n",
       "                        help_index : 'zz',\n",
       "                        handler : function (event) {\n",
       "                            IPython.notebook.kernel.execute(\n",
       "                                \"import sc3nb; sc3nb.SC.get_default().server.free_all(root=True)\"\n",
       "                            )\n",
       "                            return true;}\n",
       "                        });\n",
       "                    }"
      ],
      "text/plain": [
       "<IPython.core.display.Javascript object>"
      ]
     },
     "metadata": {},
     "output_type": "display_data"
    },
    {
     "name": "stdout",
     "output_type": "stream",
     "text": [
      "Starting sclang process... [sclang | start reading ]\n"
     ]
    },
    {
     "name": "stdout",
     "output_type": "stream",
     "text": [
      "Done.\n",
      "Registering OSC /return callback in sclang... Done.\n",
      "Loading default sc3nb SynthDefs... Done.\n",
      "Booting SuperCollider Server... [scsynth | start reading ]\n"
     ]
    },
    {
     "name": "stdout",
     "output_type": "stream",
     "text": [
      "Done.\n"
     ]
    }
   ],
   "source": [
    "sc = scn.startup()"
   ]
  },
  {
   "cell_type": "markdown",
   "metadata": {},
   "source": [
    "## Using a Control Bus"
   ]
  },
  {
   "cell_type": "code",
   "execution_count": 3,
   "metadata": {
    "execution": {
     "iopub.execute_input": "2023-08-22T12:07:28.201840Z",
     "iopub.status.busy": "2023-08-22T12:07:28.201217Z",
     "iopub.status.idle": "2023-08-22T12:07:28.206709Z",
     "shell.execute_reply": "2023-08-22T12:07:28.206002Z"
    }
   },
   "outputs": [
    {
     "data": {
      "text/plain": [
       "Bus(rate='control', ids=[512])"
      ]
     },
     "execution_count": 3,
     "metadata": {},
     "output_type": "execute_result"
    }
   ],
   "source": [
    "bus = scn.Bus('control')\n",
    "bus"
   ]
  },
  {
   "cell_type": "code",
   "execution_count": 4,
   "metadata": {
    "execution": {
     "iopub.execute_input": "2023-08-22T12:07:28.209864Z",
     "iopub.status.busy": "2023-08-22T12:07:28.209573Z",
     "iopub.status.idle": "2023-08-22T12:07:28.218162Z",
     "shell.execute_reply": "2023-08-22T12:07:28.217411Z"
    }
   },
   "outputs": [
    {
     "data": {
      "text/plain": [
       "0.0"
      ]
     },
     "execution_count": 4,
     "metadata": {},
     "output_type": "execute_result"
    }
   ],
   "source": [
    "bus.get()"
   ]
  },
  {
   "cell_type": "code",
   "execution_count": 5,
   "metadata": {
    "execution": {
     "iopub.execute_input": "2023-08-22T12:07:28.221608Z",
     "iopub.status.busy": "2023-08-22T12:07:28.221335Z",
     "iopub.status.idle": "2023-08-22T12:07:28.237608Z",
     "shell.execute_reply": "2023-08-22T12:07:28.236446Z"
    }
   },
   "outputs": [],
   "source": [
    "syn = scn.Synth(\"s2\")"
   ]
  },
  {
   "cell_type": "markdown",
   "metadata": {},
   "source": [
    "map the frequency of the synth to the bus value"
   ]
  },
  {
   "cell_type": "code",
   "execution_count": 6,
   "metadata": {
    "execution": {
     "iopub.execute_input": "2023-08-22T12:07:28.242180Z",
     "iopub.status.busy": "2023-08-22T12:07:28.241848Z",
     "iopub.status.idle": "2023-08-22T12:07:28.247271Z",
     "shell.execute_reply": "2023-08-22T12:07:28.246570Z"
    }
   },
   "outputs": [
    {
     "data": {
      "text/plain": [
       "<Synth(20001) 's2' ~ {}>"
      ]
     },
     "execution_count": 6,
     "metadata": {},
     "output_type": "execute_result"
    }
   ],
   "source": [
    "syn.map(\"freq\", bus)"
   ]
  },
  {
   "cell_type": "code",
   "execution_count": 7,
   "metadata": {
    "execution": {
     "iopub.execute_input": "2023-08-22T12:07:28.250536Z",
     "iopub.status.busy": "2023-08-22T12:07:28.250248Z",
     "iopub.status.idle": "2023-08-22T12:07:28.255964Z",
     "shell.execute_reply": "2023-08-22T12:07:28.255292Z"
    }
   },
   "outputs": [
    {
     "data": {
      "text/plain": [
       "Bus(rate='control', ids=[512])"
      ]
     },
     "execution_count": 7,
     "metadata": {},
     "output_type": "execute_result"
    }
   ],
   "source": [
    "bus.set(120) # changes synths frequency"
   ]
  },
  {
   "cell_type": "code",
   "execution_count": 8,
   "metadata": {
    "execution": {
     "iopub.execute_input": "2023-08-22T12:07:28.259456Z",
     "iopub.status.busy": "2023-08-22T12:07:28.259013Z",
     "iopub.status.idle": "2023-08-22T12:07:28.264528Z",
     "shell.execute_reply": "2023-08-22T12:07:28.263737Z"
    }
   },
   "outputs": [
    {
     "data": {
      "text/plain": [
       "Bus(rate='control', ids=[512])"
      ]
     },
     "execution_count": 8,
     "metadata": {},
     "output_type": "execute_result"
    }
   ],
   "source": [
    "bus.set(440)"
   ]
  },
  {
   "cell_type": "markdown",
   "metadata": {},
   "source": [
    "Set the frequency value to remove the mapping"
   ]
  },
  {
   "cell_type": "code",
   "execution_count": 9,
   "metadata": {
    "execution": {
     "iopub.execute_input": "2023-08-22T12:07:28.268095Z",
     "iopub.status.busy": "2023-08-22T12:07:28.267736Z",
     "iopub.status.idle": "2023-08-22T12:07:28.272975Z",
     "shell.execute_reply": "2023-08-22T12:07:28.272282Z"
    }
   },
   "outputs": [
    {
     "data": {
      "text/plain": [
       "<Synth(20001) 's2' ~ {'freq': 220}>"
      ]
     },
     "execution_count": 9,
     "metadata": {},
     "output_type": "execute_result"
    }
   ],
   "source": [
    "syn.set(\"freq\", 220)"
   ]
  },
  {
   "cell_type": "code",
   "execution_count": 10,
   "metadata": {
    "execution": {
     "iopub.execute_input": "2023-08-22T12:07:28.276633Z",
     "iopub.status.busy": "2023-08-22T12:07:28.276358Z",
     "iopub.status.idle": "2023-08-22T12:07:28.281248Z",
     "shell.execute_reply": "2023-08-22T12:07:28.280693Z"
    }
   },
   "outputs": [
    {
     "data": {
      "text/plain": [
       "Bus(rate='control', ids=[512])"
      ]
     },
     "execution_count": 10,
     "metadata": {},
     "output_type": "execute_result"
    }
   ],
   "source": [
    "bus.set(440)  # no change"
   ]
  },
  {
   "cell_type": "code",
   "execution_count": 11,
   "metadata": {
    "execution": {
     "iopub.execute_input": "2023-08-22T12:07:28.284361Z",
     "iopub.status.busy": "2023-08-22T12:07:28.284059Z",
     "iopub.status.idle": "2023-08-22T12:07:28.288793Z",
     "shell.execute_reply": "2023-08-22T12:07:28.288208Z"
    }
   },
   "outputs": [
    {
     "data": {
      "text/plain": [
       "<Synth(20001) 's2' f {'freq': 220}>"
      ]
     },
     "execution_count": 11,
     "metadata": {},
     "output_type": "execute_result"
    }
   ],
   "source": [
    "syn.free()"
   ]
  },
  {
   "cell_type": "markdown",
   "metadata": {},
   "source": [
    "Free the bus to mark the bus id as available again"
   ]
  },
  {
   "cell_type": "code",
   "execution_count": 12,
   "metadata": {
    "execution": {
     "iopub.execute_input": "2023-08-22T12:07:28.291884Z",
     "iopub.status.busy": "2023-08-22T12:07:28.291633Z",
     "iopub.status.idle": "2023-08-22T12:07:28.294783Z",
     "shell.execute_reply": "2023-08-22T12:07:28.294178Z"
    }
   },
   "outputs": [],
   "source": [
    "bus.free()"
   ]
  },
  {
   "cell_type": "markdown",
   "metadata": {},
   "source": [
    "## Use multiple Control Buses"
   ]
  },
  {
   "cell_type": "code",
   "execution_count": 13,
   "metadata": {
    "execution": {
     "iopub.execute_input": "2023-08-22T12:07:28.298382Z",
     "iopub.status.busy": "2023-08-22T12:07:28.298076Z",
     "iopub.status.idle": "2023-08-22T12:07:28.334339Z",
     "shell.execute_reply": "2023-08-22T12:07:28.333216Z"
    }
   },
   "outputs": [],
   "source": [
    "synth_name = scn.SynthDef(\"busMulti\", \"\"\"{ |out, freqs=#[200, 400], rates=#[1, 2] |\n",
    "    Out.ar(out, Splay.ar(SinOsc.ar(freqs) * Decay2.ar(Impulse.ar(rates), 0.001, 0.1)) * 0.5);\n",
    "}\"\"\").add()"
   ]
  },
  {
   "cell_type": "code",
   "execution_count": 14,
   "metadata": {
    "execution": {
     "iopub.execute_input": "2023-08-22T12:07:28.338990Z",
     "iopub.status.busy": "2023-08-22T12:07:28.338653Z",
     "iopub.status.idle": "2023-08-22T12:07:28.343848Z",
     "shell.execute_reply": "2023-08-22T12:07:28.343037Z"
    }
   },
   "outputs": [
    {
     "data": {
      "text/plain": [
       "Bus(rate='control', ids=[512, 513])"
      ]
     },
     "execution_count": 14,
     "metadata": {},
     "output_type": "execute_result"
    }
   ],
   "source": [
    "buses = scn.Bus(\"control\", 2)\n",
    "buses"
   ]
  },
  {
   "cell_type": "code",
   "execution_count": 15,
   "metadata": {
    "execution": {
     "iopub.execute_input": "2023-08-22T12:07:28.347230Z",
     "iopub.status.busy": "2023-08-22T12:07:28.346944Z",
     "iopub.status.idle": "2023-08-22T12:07:28.357804Z",
     "shell.execute_reply": "2023-08-22T12:07:28.357167Z"
    }
   },
   "outputs": [
    {
     "data": {
      "text/plain": [
       "[0.0, 0.0]"
      ]
     },
     "execution_count": 15,
     "metadata": {},
     "output_type": "execute_result"
    }
   ],
   "source": [
    "buses.get()"
   ]
  },
  {
   "cell_type": "code",
   "execution_count": 16,
   "metadata": {
    "execution": {
     "iopub.execute_input": "2023-08-22T12:07:28.361128Z",
     "iopub.status.busy": "2023-08-22T12:07:28.360851Z",
     "iopub.status.idle": "2023-08-22T12:07:28.376363Z",
     "shell.execute_reply": "2023-08-22T12:07:28.375066Z"
    }
   },
   "outputs": [],
   "source": [
    "syn = scn.Synth(synth_name)"
   ]
  },
  {
   "cell_type": "code",
   "execution_count": 17,
   "metadata": {
    "execution": {
     "iopub.execute_input": "2023-08-22T12:07:28.380999Z",
     "iopub.status.busy": "2023-08-22T12:07:28.380667Z",
     "iopub.status.idle": "2023-08-22T12:07:28.385915Z",
     "shell.execute_reply": "2023-08-22T12:07:28.385296Z"
    }
   },
   "outputs": [
    {
     "data": {
      "text/plain": [
       "<Synth(20002) 'busMulti' ~ {}>"
      ]
     },
     "execution_count": 17,
     "metadata": {},
     "output_type": "execute_result"
    }
   ],
   "source": [
    "syn.map(\"rates\", buses)"
   ]
  },
  {
   "cell_type": "code",
   "execution_count": 18,
   "metadata": {
    "execution": {
     "iopub.execute_input": "2023-08-22T12:07:28.389296Z",
     "iopub.status.busy": "2023-08-22T12:07:28.389000Z",
     "iopub.status.idle": "2023-08-22T12:07:28.393545Z",
     "shell.execute_reply": "2023-08-22T12:07:28.392926Z"
    }
   },
   "outputs": [
    {
     "data": {
      "text/plain": [
       "Bus(rate='control', ids=[512, 513])"
      ]
     },
     "execution_count": 18,
     "metadata": {},
     "output_type": "execute_result"
    }
   ],
   "source": [
    "buses.set(1, 1)"
   ]
  },
  {
   "cell_type": "code",
   "execution_count": 19,
   "metadata": {
    "execution": {
     "iopub.execute_input": "2023-08-22T12:07:28.396737Z",
     "iopub.status.busy": "2023-08-22T12:07:28.396453Z",
     "iopub.status.idle": "2023-08-22T12:07:28.401022Z",
     "shell.execute_reply": "2023-08-22T12:07:28.400272Z"
    }
   },
   "outputs": [
    {
     "data": {
      "text/plain": [
       "Bus(rate='control', ids=[512, 513])"
      ]
     },
     "execution_count": 19,
     "metadata": {},
     "output_type": "execute_result"
    }
   ],
   "source": [
    "buses.set(1, 2)"
   ]
  },
  {
   "cell_type": "code",
   "execution_count": 20,
   "metadata": {
    "execution": {
     "iopub.execute_input": "2023-08-22T12:07:28.404239Z",
     "iopub.status.busy": "2023-08-22T12:07:28.403969Z",
     "iopub.status.idle": "2023-08-22T12:07:28.416474Z",
     "shell.execute_reply": "2023-08-22T12:07:28.415697Z"
    }
   },
   "outputs": [
    {
     "data": {
      "text/plain": [
       "[1.0, 2.0]"
      ]
     },
     "execution_count": 20,
     "metadata": {},
     "output_type": "execute_result"
    }
   ],
   "source": [
    "buses.get()"
   ]
  },
  {
   "cell_type": "code",
   "execution_count": 21,
   "metadata": {
    "execution": {
     "iopub.execute_input": "2023-08-22T12:07:28.420250Z",
     "iopub.status.busy": "2023-08-22T12:07:28.419925Z",
     "iopub.status.idle": "2023-08-22T12:07:28.424938Z",
     "shell.execute_reply": "2023-08-22T12:07:28.424155Z"
    }
   },
   "outputs": [
    {
     "data": {
      "text/plain": [
       "<Synth(20002) 'busMulti' f {}>"
      ]
     },
     "execution_count": 21,
     "metadata": {},
     "output_type": "execute_result"
    }
   ],
   "source": [
    "syn.free()"
   ]
  },
  {
   "cell_type": "code",
   "execution_count": 22,
   "metadata": {
    "execution": {
     "iopub.execute_input": "2023-08-22T12:07:28.428056Z",
     "iopub.status.busy": "2023-08-22T12:07:28.427788Z",
     "iopub.status.idle": "2023-08-22T12:07:28.430998Z",
     "shell.execute_reply": "2023-08-22T12:07:28.430443Z"
    }
   },
   "outputs": [],
   "source": [
    "buses.free()"
   ]
  },
  {
   "cell_type": "code",
   "execution_count": 23,
   "metadata": {
    "execution": {
     "iopub.execute_input": "2023-08-22T12:07:28.433894Z",
     "iopub.status.busy": "2023-08-22T12:07:28.433641Z",
     "iopub.status.idle": "2023-08-22T12:07:28.508681Z",
     "shell.execute_reply": "2023-08-22T12:07:28.507360Z"
    }
   },
   "outputs": [],
   "source": [
    "sc.server.free_all()"
   ]
  },
  {
   "cell_type": "code",
   "execution_count": 24,
   "metadata": {
    "execution": {
     "iopub.execute_input": "2023-08-22T12:07:28.513154Z",
     "iopub.status.busy": "2023-08-22T12:07:28.512780Z",
     "iopub.status.idle": "2023-08-22T12:07:28.590729Z",
     "shell.execute_reply": "2023-08-22T12:07:28.589765Z"
    }
   },
   "outputs": [
    {
     "name": "stdout",
     "output_type": "stream",
     "text": [
      "Quitting SCServer... [scsynth | reached EOF ]\n",
      "Done.\n",
      "Exiting sclang... [sclang | reached EOF ]\n",
      "Done.\n"
     ]
    }
   ],
   "source": [
    "sc.exit()"
   ]
  },
  {
   "cell_type": "code",
   "execution_count": null,
   "metadata": {},
   "outputs": [],
   "source": []
  }
 ],
 "metadata": {
  "language_info": {
   "codemirror_mode": {
    "name": "ipython",
    "version": 3
   },
   "file_extension": ".py",
   "mimetype": "text/x-python",
   "name": "python",
   "nbconvert_exporter": "python",
   "pygments_lexer": "ipython3",
   "version": "3.10.11"
  }
 },
 "nbformat": 4,
 "nbformat_minor": 4
}
