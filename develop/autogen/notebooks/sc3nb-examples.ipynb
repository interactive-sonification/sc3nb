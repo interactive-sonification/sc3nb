{
 "cells": [
  {
   "cell_type": "markdown",
   "metadata": {},
   "source": [
    "# Getting Started"
   ]
  },
  {
   "cell_type": "markdown",
   "metadata": {},
   "source": [
    "## Starting sc3nb"
   ]
  },
  {
   "cell_type": "code",
   "execution_count": 1,
   "metadata": {
    "execution": {
     "iopub.execute_input": "2021-07-19T11:52:37.725971Z",
     "iopub.status.busy": "2021-07-19T11:52:37.725971Z",
     "iopub.status.idle": "2021-07-19T11:52:37.892971Z",
     "shell.execute_reply": "2021-07-19T11:52:37.893969Z"
    }
   },
   "outputs": [],
   "source": [
    "import sc3nb as scn"
   ]
  },
  {
   "cell_type": "markdown",
   "metadata": {},
   "source": [
    "To startup sc3nb (sclang, scsynth, and a python OSC server) use `startup` which will return a `SC` instance which is the central SuperCollider Interface"
   ]
  },
  {
   "cell_type": "code",
   "execution_count": 2,
   "metadata": {
    "execution": {
     "iopub.execute_input": "2021-07-19T11:52:37.901972Z",
     "iopub.status.busy": "2021-07-19T11:52:37.900969Z",
     "iopub.status.idle": "2021-07-19T11:52:41.004030Z",
     "shell.execute_reply": "2021-07-19T11:52:41.004030Z"
    }
   },
   "outputs": [
    {
     "data": {
      "application/javascript": [
       "if (typeof Jupyter !== 'undefined') {\n",
       "                        Jupyter.keyboard_manager.command_shortcuts.add_shortcut(\n",
       "                        'Ctrl-.', {\n",
       "                        help : 'Free all nodes on SC server',\n",
       "                        help_index : 'zz',\n",
       "                        handler : function (event) {\n",
       "                            IPython.notebook.kernel.execute(\n",
       "                                \"import sc3nb; sc3nb.SC.get_default().server.free_all(root=True)\"\n",
       "                            )\n",
       "                            return true;}\n",
       "                        });\n",
       "                    }"
      ],
      "text/plain": [
       "<IPython.core.display.Javascript object>"
      ]
     },
     "metadata": {},
     "output_type": "display_data"
    },
    {
     "name": "stdout",
     "output_type": "stream",
     "text": [
      "Starting sclang process... "
     ]
    },
    {
     "name": "stdout",
     "output_type": "stream",
     "text": [
      "Done.\n",
      "Registering OSC /return callback in sclang... Done.\n",
      "Loading default sc3nb SynthDefs... Done.\n",
      "Booting SuperCollider Server... "
     ]
    },
    {
     "name": "stdout",
     "output_type": "stream",
     "text": [
      "Done.\n"
     ]
    }
   ],
   "source": [
    "sc = scn.startup()  # see Configuration of sc3nb startup below for more details"
   ]
  },
  {
   "cell_type": "markdown",
   "metadata": {},
   "source": [
    "You can produce a test sound with `blip`, which should relax any tensions whether the server is up and running. This sound should be played by the default server start."
   ]
  },
  {
   "cell_type": "code",
   "execution_count": 3,
   "metadata": {
    "execution": {
     "iopub.execute_input": "2021-07-19T11:52:41.008028Z",
     "iopub.status.busy": "2021-07-19T11:52:41.006029Z",
     "iopub.status.idle": "2021-07-19T11:52:41.010029Z",
     "shell.execute_reply": "2021-07-19T11:52:41.010029Z"
    }
   },
   "outputs": [],
   "source": [
    "sc.server.blip()"
   ]
  },
  {
   "cell_type": "markdown",
   "metadata": {},
   "source": [
    "`sc` provides you the interfaces for\n",
    "\n",
    "* `scsynth` via `sc.server`\n",
    "* `sclang` via `sc.lang`"
   ]
  },
  {
   "cell_type": "markdown",
   "metadata": {},
   "source": [
    "**Configuration of sc3nb startup**:\n",
    "\n",
    "- Specifying the excutable location\n",
    "  - We try to find the sclang and scsynth executables in the `$PATH` environment variable and also in the default installation directories\n",
    "      - On macOS they reside in `/Applications/SuperCollider.app/Contents` in the folders MacOS and Resources. <br>\n",
    "    To add these paths to your `$PATH`, simply add to your ~/.profile, e.g. (please adapt to your installation): <br>\n",
    "    `PATH=$PATH:/Applications/SuperCollider.app/Contents/MacOS:/Applications/SuperCollider.app/Contents/Resources`  \n",
    "      - On Windows they reside in your Installation folder f.e `C:\\Program Files\\SuperCollider-3.x.x`\n",
    "\n",
    "  - If the executables are not found, you can specify them with `sclang_path` / `scsynth_path` e.g. `sclang_path=\"/path/to/sclang-containing-dir/sclang\"`\n",
    "- You could also only use **scsynth** only and don't start **sclang** with `start_sclang=False`\n",
    "- See `help(scn.startup)` for all options"
   ]
  },
  {
   "cell_type": "code",
   "execution_count": 4,
   "metadata": {
    "execution": {
     "iopub.execute_input": "2021-07-19T11:52:41.013028Z",
     "iopub.status.busy": "2021-07-19T11:52:41.012028Z",
     "iopub.status.idle": "2021-07-19T11:52:41.014029Z",
     "shell.execute_reply": "2021-07-19T11:52:41.014029Z"
    }
   },
   "outputs": [],
   "source": [
    "# help(scn.startup)"
   ]
  },
  {
   "cell_type": "markdown",
   "metadata": {},
   "source": [
    "## Basic examples"
   ]
  },
  {
   "cell_type": "markdown",
   "metadata": {},
   "source": [
    "### Use Python implementations to control the SuperCollider audio server"
   ]
  },
  {
   "cell_type": "markdown",
   "metadata": {},
   "source": [
    "Create and control SuperCollider Synths"
   ]
  },
  {
   "cell_type": "code",
   "execution_count": 5,
   "metadata": {
    "execution": {
     "iopub.execute_input": "2021-07-19T11:52:41.017029Z",
     "iopub.status.busy": "2021-07-19T11:52:41.016028Z",
     "iopub.status.idle": "2021-07-19T11:52:41.034028Z",
     "shell.execute_reply": "2021-07-19T11:52:41.033029Z"
    }
   },
   "outputs": [
    {
     "data": {
      "text/plain": [
       "<Synth(20001) 's2' s {}>"
      ]
     },
     "execution_count": 5,
     "metadata": {},
     "output_type": "execute_result"
    }
   ],
   "source": [
    "syn = scn.Synth(\"s2\")\n",
    "syn"
   ]
  },
  {
   "cell_type": "code",
   "execution_count": 6,
   "metadata": {
    "execution": {
     "iopub.execute_input": "2021-07-19T11:52:41.038031Z",
     "iopub.status.busy": "2021-07-19T11:52:41.038031Z",
     "iopub.status.idle": "2021-07-19T11:52:41.040033Z",
     "shell.execute_reply": "2021-07-19T11:52:41.041038Z"
    }
   },
   "outputs": [
    {
     "data": {
      "text/plain": [
       "<Synth(20001) 's2' s {'freq': 800}>"
      ]
     },
     "execution_count": 6,
     "metadata": {},
     "output_type": "execute_result"
    }
   ],
   "source": [
    "syn.freq = 800\n",
    "syn"
   ]
  },
  {
   "cell_type": "code",
   "execution_count": 7,
   "metadata": {
    "execution": {
     "iopub.execute_input": "2021-07-19T11:52:41.044031Z",
     "iopub.status.busy": "2021-07-19T11:52:41.044031Z",
     "iopub.status.idle": "2021-07-19T11:52:41.047031Z",
     "shell.execute_reply": "2021-07-19T11:52:41.048030Z"
    }
   },
   "outputs": [
    {
     "data": {
      "text/plain": [
       "<Synth(20001) 's2' f {'freq': 800}>"
      ]
     },
     "execution_count": 7,
     "metadata": {},
     "output_type": "execute_result"
    }
   ],
   "source": [
    "syn.free()  # or use the ctrl-. (cmd-.) shortcut in Jupyter notebooks\n",
    "syn"
   ]
  },
  {
   "cell_type": "markdown",
   "metadata": {},
   "source": [
    "Send SynthDefs with python code injection"
   ]
  },
  {
   "cell_type": "code",
   "execution_count": 8,
   "metadata": {
    "execution": {
     "iopub.execute_input": "2021-07-19T11:52:41.052032Z",
     "iopub.status.busy": "2021-07-19T11:52:41.051037Z",
     "iopub.status.idle": "2021-07-19T11:52:41.093031Z",
     "shell.execute_reply": "2021-07-19T11:52:41.093031Z"
    }
   },
   "outputs": [
    {
     "data": {
      "text/plain": [
       "SynthDef('random', { |out|\n",
       "    var line;\n",
       "    line = Line.kr(1, 0, 0.5, doneAction: Done.freeSelf);\n",
       "    Out.ar(out, SinOsc.ar(Rand(400, 800), 0, 0.2) * line);\n",
       "})"
      ]
     },
     "execution_count": 8,
     "metadata": {},
     "output_type": "execute_result"
    }
   ],
   "source": [
    "synth_dur = 0.5  # you can use python variables in SynthDefs by prepending ^\n",
    "synth_def = scn.SynthDef('random', \"\"\"{ |out|\n",
    "    var line;\n",
    "    line = Line.kr(1, 0, ^synth_dur, doneAction: Done.freeSelf);\n",
    "    Out.ar(out, SinOsc.ar(Rand(400, 800), 0, 0.2) * line);\n",
    "}\"\"\")\n",
    "synth_def.add()\n",
    "synth_def  # Note that the representation has synth_dur already injected"
   ]
  },
  {
   "cell_type": "code",
   "execution_count": 9,
   "metadata": {
    "execution": {
     "iopub.execute_input": "2021-07-19T11:52:41.097029Z",
     "iopub.status.busy": "2021-07-19T11:52:41.095034Z",
     "iopub.status.idle": "2021-07-19T11:52:41.109033Z",
     "shell.execute_reply": "2021-07-19T11:52:41.109033Z"
    }
   },
   "outputs": [
    {
     "data": {
      "text/plain": [
       "<Synth(20002) 'random' s {}>"
      ]
     },
     "execution_count": 9,
     "metadata": {},
     "output_type": "execute_result"
    }
   ],
   "source": [
    "scn.Synth(\"random\")"
   ]
  },
  {
   "cell_type": "markdown",
   "metadata": {},
   "source": [
    "Load a file as Buffer and play it"
   ]
  },
  {
   "cell_type": "code",
   "execution_count": 10,
   "metadata": {
    "execution": {
     "iopub.execute_input": "2021-07-19T11:52:41.112030Z",
     "iopub.status.busy": "2021-07-19T11:52:41.112030Z",
     "iopub.status.idle": "2021-07-19T11:52:41.144030Z",
     "shell.execute_reply": "2021-07-19T11:52:41.144030Z"
    }
   },
   "outputs": [
    {
     "data": {
      "text/plain": [
       "<Buffer(128) on ('127.0.0.1', 57110): 2 x 43008 @ 44100 Hz = 0.975s allocated using mode 'file'>"
      ]
     },
     "execution_count": 10,
     "metadata": {},
     "output_type": "execute_result"
    }
   ],
   "source": [
    "buf = scn.Buffer().read(\"./media/blip.wav\")\n",
    "buf"
   ]
  },
  {
   "cell_type": "code",
   "execution_count": 11,
   "metadata": {
    "execution": {
     "iopub.execute_input": "2021-07-19T11:52:41.148029Z",
     "iopub.status.busy": "2021-07-19T11:52:41.148029Z",
     "iopub.status.idle": "2021-07-19T11:52:41.185029Z",
     "shell.execute_reply": "2021-07-19T11:52:41.185029Z"
    }
   },
   "outputs": [
    {
     "data": {
      "text/plain": [
       "<Synth(20003) 'sc3nb_playbuf_128' s {}>"
      ]
     },
     "execution_count": 11,
     "metadata": {},
     "output_type": "execute_result"
    }
   ],
   "source": [
    "buf.play()"
   ]
  },
  {
   "cell_type": "code",
   "execution_count": 12,
   "metadata": {
    "execution": {
     "iopub.execute_input": "2021-07-19T11:52:41.188028Z",
     "iopub.status.busy": "2021-07-19T11:52:41.187030Z",
     "iopub.status.idle": "2021-07-19T11:52:42.330059Z",
     "shell.execute_reply": "2021-07-19T11:52:42.330059Z"
    }
   },
   "outputs": [
    {
     "name": "stdout",
     "output_type": "stream",
     "text": [
      "(43008, 2)\n"
     ]
    },
    {
     "data": {
      "text/plain": [
       "array([[-0.00189209, -0.00189209],\n",
       "       [-0.00430298, -0.00430298],\n",
       "       [-0.00708008, -0.00708008],\n",
       "       ...,\n",
       "       [ 0.19314575,  0.19314575],\n",
       "       [ 0.18963623,  0.18963623],\n",
       "       [ 0.18585205,  0.18585205]])"
      ]
     },
     "execution_count": 12,
     "metadata": {},
     "output_type": "execute_result"
    }
   ],
   "source": [
    "buffer_data = buf.to_array()\n",
    "print(buffer_data.shape)\n",
    "buffer_data"
   ]
  },
  {
   "cell_type": "markdown",
   "metadata": {},
   "source": [
    "More examples about the above used SuperCollider objects can be found in the respective User Guide sections \n",
    "* [Nodes (Synths and Groups)](./supercollider-objects/node-examples.ipynb)\n",
    "* [SynthDef](./supercollider-objects/synthdef-examples.ipynb)\n",
    "* [Buffer](./supercollider-objects/buffer-examples.ipynb)"
   ]
  },
  {
   "cell_type": "markdown",
   "metadata": {},
   "source": [
    "### Use OSC to control the SuperCollider audio server"
   ]
  },
  {
   "cell_type": "markdown",
   "metadata": {},
   "source": [
    "Send OSC Messages with [SuperCollider Commands](https://doc.sccode.org/Reference/Server-Command-Reference.html) and receive replies"
   ]
  },
  {
   "cell_type": "code",
   "execution_count": 13,
   "metadata": {
    "execution": {
     "iopub.execute_input": "2021-07-19T11:52:42.333060Z",
     "iopub.status.busy": "2021-07-19T11:52:42.332060Z",
     "iopub.status.idle": "2021-07-19T11:52:42.344059Z",
     "shell.execute_reply": "2021-07-19T11:52:42.344059Z"
    }
   },
   "outputs": [
    {
     "data": {
      "text/plain": [
       "(1,\n",
       " 9,\n",
       " 1,\n",
       " 9,\n",
       " 117,\n",
       " 0.3054748475551605,\n",
       " 0.3835189938545227,\n",
       " 44100.0,\n",
       " 43591.33744722312)"
      ]
     },
     "execution_count": 13,
     "metadata": {},
     "output_type": "execute_result"
    }
   ],
   "source": [
    "sc.server.msg(\"/status\")  # waits for reply message and returns it"
   ]
  },
  {
   "cell_type": "markdown",
   "metadata": {},
   "source": [
    "We offer also high level versions for the commands. "
   ]
  },
  {
   "cell_type": "code",
   "execution_count": 14,
   "metadata": {
    "execution": {
     "iopub.execute_input": "2021-07-19T11:52:42.347059Z",
     "iopub.status.busy": "2021-07-19T11:52:42.346059Z",
     "iopub.status.idle": "2021-07-19T11:52:42.365059Z",
     "shell.execute_reply": "2021-07-19T11:52:42.365059Z"
    }
   },
   "outputs": [
    {
     "data": {
      "text/plain": [
       "ServerStatus(num_ugens=9, num_synths=1, num_groups=9, num_synthdefs=117, avg_cpu=0.30447903275489807, peak_cpu=0.3835189938545227, nominal_sr=44100.0, actual_sr=43563.0405712431)"
      ]
     },
     "execution_count": 14,
     "metadata": {},
     "output_type": "execute_result"
    }
   ],
   "source": [
    "sc.server.status()"
   ]
  },
  {
   "cell_type": "markdown",
   "metadata": {},
   "source": [
    "Create OSC Bundles using SuperCollider Commands directly"
   ]
  },
  {
   "cell_type": "code",
   "execution_count": 15,
   "metadata": {
    "execution": {
     "iopub.execute_input": "2021-07-19T11:52:42.367060Z",
     "iopub.status.busy": "2021-07-19T11:52:42.367060Z",
     "iopub.status.idle": "2021-07-19T11:52:42.373059Z",
     "shell.execute_reply": "2021-07-19T11:52:42.373059Z"
    }
   },
   "outputs": [
    {
     "data": {
      "text/plain": [
       "{0.2: [<OSCMessage(\"/s_new\", ['s1', -1, 0, 0])>],\n",
       " 0.5: [<OSCMessage(\"/s_new\", ['s1', -1, 0, 0, 'freq', 800, 'dur', 0.10000000149011612])>]}"
      ]
     },
     "execution_count": 15,
     "metadata": {},
     "output_type": "execute_result"
    }
   ],
   "source": [
    "with sc.server.bundler() as bundler:\n",
    "    bundler.add(0.2, \"/s_new\", [\"s1\", -1, 0, 0])\n",
    "    bundler.add(0.5, \"/s_new\", [\"s1\", -1, 0, 0, \"freq\", 800, \"dur\", 0.1])\n",
    "bundler.messages()"
   ]
  },
  {
   "cell_type": "markdown",
   "metadata": {},
   "source": [
    "or create OSC Bundles with the high level Python implementations"
   ]
  },
  {
   "cell_type": "code",
   "execution_count": 16,
   "metadata": {
    "execution": {
     "iopub.execute_input": "2021-07-19T11:52:42.376059Z",
     "iopub.status.busy": "2021-07-19T11:52:42.376059Z",
     "iopub.status.idle": "2021-07-19T11:52:42.390059Z",
     "shell.execute_reply": "2021-07-19T11:52:42.390059Z"
    }
   },
   "outputs": [
    {
     "data": {
      "text/plain": [
       "{0.2: [<OSCMessage(\"/s_new\", ['s1', 20004, 0, 67108865])>],\n",
       " 0.5: [<OSCMessage(\"/s_new\", ['s1', 20005, 0, 67108865, 'freq', 800, 'dur', 0.10000000149011612])>]}"
      ]
     },
     "execution_count": 16,
     "metadata": {},
     "output_type": "execute_result"
    }
   ],
   "source": [
    "with sc.server.bundler() as bundler:\n",
    "    bundler.wait(0.2)\n",
    "    scn.Synth(\"s1\")\n",
    "    bundler.wait(0.3)\n",
    "    scn.Synth(\"s1\", {\"freq\": 800, \"dur\": 0.1})\n",
    "bundler.messages()"
   ]
  },
  {
   "cell_type": "markdown",
   "metadata": {},
   "source": [
    "[More OSC communication examples](./osc-communication-examples.ipynb)"
   ]
  },
  {
   "cell_type": "markdown",
   "metadata": {},
   "source": [
    "### Use the SuperCollider Language from Python"
   ]
  },
  {
   "cell_type": "markdown",
   "metadata": {},
   "source": [
    "Execute SuperCollider Language Code"
   ]
  },
  {
   "cell_type": "code",
   "execution_count": 17,
   "metadata": {
    "execution": {
     "iopub.execute_input": "2021-07-19T11:52:42.393059Z",
     "iopub.status.busy": "2021-07-19T11:52:42.393059Z",
     "iopub.status.idle": "2021-07-19T11:52:42.405060Z",
     "shell.execute_reply": "2021-07-19T11:52:42.405060Z"
    }
   },
   "outputs": [
    {
     "name": "stdout",
     "output_type": "stream",
     "text": [
      "-> sgge\n"
     ]
    }
   ],
   "source": [
    "breakfast = \"eggs\"\n",
    "sc.lang.cmd('^breakfast.scramble;')"
   ]
  },
  {
   "cell_type": "markdown",
   "metadata": {},
   "source": [
    "or via the **%sc** IPython magic"
   ]
  },
  {
   "cell_type": "code",
   "execution_count": 18,
   "metadata": {
    "execution": {
     "iopub.execute_input": "2021-07-19T11:52:42.408060Z",
     "iopub.status.busy": "2021-07-19T11:52:42.408060Z",
     "iopub.status.idle": "2021-07-19T11:52:42.413060Z",
     "shell.execute_reply": "2021-07-19T11:52:42.413060Z"
    }
   },
   "outputs": [
    {
     "name": "stdout",
     "output_type": "stream",
     "text": [
      "-> gseg\n"
     ]
    }
   ],
   "source": [
    "%sc ^breakfast.scramble"
   ]
  },
  {
   "cell_type": "markdown",
   "metadata": {},
   "source": [
    "Get results from SuperCollider Language in python with `cmdg` or **%scg**"
   ]
  },
  {
   "cell_type": "code",
   "execution_count": 19,
   "metadata": {
    "execution": {
     "iopub.execute_input": "2021-07-19T11:52:42.417060Z",
     "iopub.status.busy": "2021-07-19T11:52:42.416059Z",
     "iopub.status.idle": "2021-07-19T11:52:42.420059Z",
     "shell.execute_reply": "2021-07-19T11:52:42.420059Z"
    }
   },
   "outputs": [
    {
     "name": "stdout",
     "output_type": "stream",
     "text": [
      "-> [ 1, 2, 3, 4, 5 ]\n",
      "received [1, 2, 3, 4, 5] with type <class 'list'>\n"
     ]
    }
   ],
   "source": [
    "x = 5\n",
    "value = %scg (1..^x)\n",
    "print(f\"received {value} with type {type(value)}\")"
   ]
  },
  {
   "cell_type": "markdown",
   "metadata": {},
   "source": [
    "[More sclang in sc3nb examples](./osc-communication-examples.ipynb)"
   ]
  },
  {
   "cell_type": "markdown",
   "metadata": {},
   "source": [
    "### Stoping the synthesis\n",
    "\n",
    "There are multiple options to stop the playing audio synthesis"
   ]
  },
  {
   "cell_type": "code",
   "execution_count": 20,
   "metadata": {
    "execution": {
     "iopub.execute_input": "2021-07-19T11:52:42.424060Z",
     "iopub.status.busy": "2021-07-19T11:52:42.423060Z",
     "iopub.status.idle": "2021-07-19T11:52:42.428059Z",
     "shell.execute_reply": "2021-07-19T11:52:42.428059Z"
    }
   },
   "outputs": [
    {
     "name": "stdout",
     "output_type": "stream",
     "text": [
      "-> Synth('default' : 1000)\n"
     ]
    }
   ],
   "source": [
    "%sc x = Synth.new(\"default\")  // starting a Synth with sclang"
   ]
  },
  {
   "cell_type": "markdown",
   "metadata": {},
   "source": [
    "* to stop all playing synths either use CMD-. (in Jupyter Command mode).\n",
    "\n",
    "* It is a shortcut for the ´free_all´ method of the default server"
   ]
  },
  {
   "cell_type": "code",
   "execution_count": 21,
   "metadata": {
    "execution": {
     "iopub.execute_input": "2021-07-19T11:52:42.431061Z",
     "iopub.status.busy": "2021-07-19T11:52:42.431061Z",
     "iopub.status.idle": "2021-07-19T11:52:42.493059Z",
     "shell.execute_reply": "2021-07-19T11:52:42.493059Z"
    }
   },
   "outputs": [],
   "source": [
    "sc.server.free_all()"
   ]
  },
  {
   "cell_type": "markdown",
   "metadata": {},
   "source": [
    "* or you could also use sclang"
   ]
  },
  {
   "cell_type": "code",
   "execution_count": 22,
   "metadata": {
    "execution": {
     "iopub.execute_input": "2021-07-19T11:52:42.496059Z",
     "iopub.status.busy": "2021-07-19T11:52:42.496059Z",
     "iopub.status.idle": "2021-07-19T11:52:42.503059Z",
     "shell.execute_reply": "2021-07-19T11:52:42.503059Z"
    }
   },
   "outputs": [
    {
     "name": "stdout",
     "output_type": "stream",
     "text": [
      "-> sc3nb_remote\n"
     ]
    }
   ],
   "source": [
    "%sc s.freeAll"
   ]
  },
  {
   "cell_type": "markdown",
   "metadata": {},
   "source": [
    "### Combined usage\n",
    "\n",
    "It is also possible to mix the different interaction styles."
   ]
  },
  {
   "cell_type": "markdown",
   "metadata": {},
   "source": [
    "* create a Synth with sclang and get the nodeid of the Synth via the **%scg** IPython magic"
   ]
  },
  {
   "cell_type": "code",
   "execution_count": 23,
   "metadata": {
    "execution": {
     "iopub.execute_input": "2021-07-19T11:52:42.507061Z",
     "iopub.status.busy": "2021-07-19T11:52:42.507061Z",
     "iopub.status.idle": "2021-07-19T11:52:42.514059Z",
     "shell.execute_reply": "2021-07-19T11:52:42.514059Z"
    }
   },
   "outputs": [
    {
     "name": "stdout",
     "output_type": "stream",
     "text": [
      "-> 1001"
     ]
    },
    {
     "name": "stdout",
     "output_type": "stream",
     "text": [
      "\n"
     ]
    }
   ],
   "source": [
    "nodeid = %scg x = Synth(\"default\"); x.nodeID;"
   ]
  },
  {
   "cell_type": "markdown",
   "metadata": {},
   "source": [
    "* create the corresponding Python Synth instance"
   ]
  },
  {
   "cell_type": "code",
   "execution_count": 24,
   "metadata": {
    "execution": {
     "iopub.execute_input": "2021-07-19T11:52:42.518060Z",
     "iopub.status.busy": "2021-07-19T11:52:42.517061Z",
     "iopub.status.idle": "2021-07-19T11:52:42.530060Z",
     "shell.execute_reply": "2021-07-19T11:52:42.530060Z"
    }
   },
   "outputs": [
    {
     "data": {
      "text/plain": [
       "<Synth(1001) 'default'  {}>"
      ]
     },
     "execution_count": 24,
     "metadata": {},
     "output_type": "execute_result"
    }
   ],
   "source": [
    "synth = scn.Synth(\"default\", nodeid=nodeid, new=False)\n",
    "synth"
   ]
  },
  {
   "cell_type": "markdown",
   "metadata": {},
   "source": [
    "* Inspect and control the Synth from Python"
   ]
  },
  {
   "cell_type": "code",
   "execution_count": 25,
   "metadata": {
    "execution": {
     "iopub.execute_input": "2021-07-19T11:52:42.534060Z",
     "iopub.status.busy": "2021-07-19T11:52:42.533060Z",
     "iopub.status.idle": "2021-07-19T11:52:42.537060Z",
     "shell.execute_reply": "2021-07-19T11:52:42.537060Z"
    }
   },
   "outputs": [
    {
     "data": {
      "text/plain": [
       "{'out': SynthArgument(name='out', rate='scalar', default=0.0),\n",
       " 'freq': SynthArgument(name='freq', rate='control', default=440.0),\n",
       " 'amp': SynthArgument(name='amp', rate='control', default=0.10000000149011612),\n",
       " 'pan': SynthArgument(name='pan', rate='control', default=0.0),\n",
       " 'gate': SynthArgument(name='gate', rate='control', default=1.0)}"
      ]
     },
     "execution_count": 25,
     "metadata": {},
     "output_type": "execute_result"
    }
   ],
   "source": [
    "synth.synth_desc"
   ]
  },
  {
   "cell_type": "code",
   "execution_count": 26,
   "metadata": {
    "execution": {
     "iopub.execute_input": "2021-07-19T11:52:42.540059Z",
     "iopub.status.busy": "2021-07-19T11:52:42.540059Z",
     "iopub.status.idle": "2021-07-19T11:52:42.545060Z",
     "shell.execute_reply": "2021-07-19T11:52:42.546061Z"
    }
   },
   "outputs": [
    {
     "data": {
      "text/plain": [
       "440.0"
      ]
     },
     "execution_count": 26,
     "metadata": {},
     "output_type": "execute_result"
    }
   ],
   "source": [
    "synth.freq"
   ]
  },
  {
   "cell_type": "code",
   "execution_count": 27,
   "metadata": {
    "execution": {
     "iopub.execute_input": "2021-07-19T11:52:42.548059Z",
     "iopub.status.busy": "2021-07-19T11:52:42.548059Z",
     "iopub.status.idle": "2021-07-19T11:52:42.575060Z",
     "shell.execute_reply": "2021-07-19T11:52:42.575060Z"
    }
   },
   "outputs": [
    {
     "data": {
      "text/plain": [
       "880.0"
      ]
     },
     "execution_count": 27,
     "metadata": {},
     "output_type": "execute_result"
    }
   ],
   "source": [
    "synth.freq *= 2\n",
    "synth.freq"
   ]
  },
  {
   "cell_type": "code",
   "execution_count": 28,
   "metadata": {
    "execution": {
     "iopub.execute_input": "2021-07-19T11:52:42.578059Z",
     "iopub.status.busy": "2021-07-19T11:52:42.578059Z",
     "iopub.status.idle": "2021-07-19T11:52:42.580060Z",
     "shell.execute_reply": "2021-07-19T11:52:42.580060Z"
    }
   },
   "outputs": [
    {
     "data": {
      "text/plain": [
       "<Synth(1001) 'default'  {'freq': 880.0}>"
      ]
     },
     "execution_count": 28,
     "metadata": {},
     "output_type": "execute_result"
    }
   ],
   "source": [
    "synth"
   ]
  },
  {
   "cell_type": "markdown",
   "metadata": {},
   "source": [
    "* send a OSC Message to free the Synth"
   ]
  },
  {
   "cell_type": "code",
   "execution_count": 29,
   "metadata": {
    "execution": {
     "iopub.execute_input": "2021-07-19T11:52:42.583059Z",
     "iopub.status.busy": "2021-07-19T11:52:42.582058Z",
     "iopub.status.idle": "2021-07-19T11:52:42.584059Z",
     "shell.execute_reply": "2021-07-19T11:52:42.584059Z"
    }
   },
   "outputs": [],
   "source": [
    "sc.server.msg(\"/n_free\", nodeid)"
   ]
  },
  {
   "cell_type": "code",
   "execution_count": 30,
   "metadata": {
    "execution": {
     "iopub.execute_input": "2021-07-19T11:52:42.587060Z",
     "iopub.status.busy": "2021-07-19T11:52:42.586058Z",
     "iopub.status.idle": "2021-07-19T11:52:42.588060Z",
     "shell.execute_reply": "2021-07-19T11:52:42.588060Z"
    }
   },
   "outputs": [
    {
     "data": {
      "text/plain": [
       "<Synth(1001) 'default'  {'freq': 880.0}>"
      ]
     },
     "execution_count": 30,
     "metadata": {},
     "output_type": "execute_result"
    }
   ],
   "source": [
    "synth"
   ]
  },
  {
   "cell_type": "markdown",
   "metadata": {},
   "source": [
    "### Exiting sc3nb\n",
    "\n",
    "To shut down the server and sclang subprocesses"
   ]
  },
  {
   "cell_type": "code",
   "execution_count": 31,
   "metadata": {
    "execution": {
     "iopub.execute_input": "2021-07-19T11:52:42.591061Z",
     "iopub.status.busy": "2021-07-19T11:52:42.590059Z",
     "iopub.status.idle": "2021-07-19T11:52:42.878076Z",
     "shell.execute_reply": "2021-07-19T11:52:42.879075Z"
    }
   },
   "outputs": [
    {
     "name": "stdout",
     "output_type": "stream",
     "text": [
      "Quitting SCServer... "
     ]
    },
    {
     "name": "stdout",
     "output_type": "stream",
     "text": [
      "Done.\n",
      "Exiting sclang... "
     ]
    },
    {
     "name": "stdout",
     "output_type": "stream",
     "text": [
      "Done.\n"
     ]
    }
   ],
   "source": [
    "sc.exit()  "
   ]
  },
  {
   "cell_type": "markdown",
   "metadata": {},
   "source": [
    "## Further information and advanced examples\n",
    "\n",
    "For more details on the specific parts please refer to the corresponding sections of the User Guide.\n",
    "\n",
    "* Usage of [SuperCollider Language (sclang) in sc3nb](./sclang-examples.ipynb)\n",
    "\n",
    "\n",
    "* Usage of the SuperCollider Objects python interface\n",
    "  * [Server](./supercollider-objects/server-examples.ipynb)\n",
    "  * [Nodes (Synth and Group)](./supercollider-objects/node-examples.ipynb)\n",
    "  * [SynthDef](./supercollider-objects/synthdef-examples.ipynb)\n",
    "  * [Buffer](./supercollider-objects/buffer-examples.ipynb)\n",
    "  * [Bus](./supercollider-objects/bus-examples.ipynb)\n",
    "  * [Recorder](./supercollider-objects/recorder-examples.ipynb)\n",
    "\n",
    "\n",
    "* Usage of [common SuperCollider helper functions](./helper-examples.ipynb)\n",
    "* Usage of [OSC in sc3nb](./osc-communication-examples.ipynb)\n"
   ]
  },
  {
   "cell_type": "code",
   "execution_count": null,
   "metadata": {},
   "outputs": [],
   "source": []
  }
 ],
 "metadata": {
  "hide_input": false,
  "language_info": {
   "codemirror_mode": {
    "name": "ipython",
    "version": 3
   },
   "file_extension": ".py",
   "mimetype": "text/x-python",
   "name": "python",
   "nbconvert_exporter": "python",
   "pygments_lexer": "ipython3",
   "version": "3.7.10"
  },
  "toc": {
   "base_numbering": 1,
   "nav_menu": {},
   "number_sections": true,
   "sideBar": true,
   "skip_h1_title": true,
   "title_cell": "Table of Contents",
   "title_sidebar": "Contents",
   "toc_cell": false,
   "toc_position": {},
   "toc_section_display": true,
   "toc_window_display": false
  }
 },
 "nbformat": 4,
 "nbformat_minor": 4
}
