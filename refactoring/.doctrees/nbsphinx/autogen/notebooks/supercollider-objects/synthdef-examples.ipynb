{
 "cells": [
  {
   "cell_type": "code",
   "execution_count": 1,
   "metadata": {
    "execution": {
     "iopub.execute_input": "2021-05-16T16:25:30.416794Z",
     "iopub.status.busy": "2021-05-16T16:25:30.415792Z",
     "iopub.status.idle": "2021-05-16T16:25:31.148793Z",
     "shell.execute_reply": "2021-05-16T16:25:31.148793Z"
    }
   },
   "outputs": [],
   "source": [
    "# header / imports\n",
    "import time\n",
    "import numpy as np\n",
    "import matplotlib.pyplot as plt\n",
    "%matplotlib inline\n",
    "\n",
    "import sc3nb as scn\n",
    "from sc3nb import SynthDef, Synth"
   ]
  },
  {
   "cell_type": "code",
   "execution_count": 2,
   "metadata": {
    "execution": {
     "iopub.execute_input": "2021-05-16T16:25:31.153791Z",
     "iopub.status.busy": "2021-05-16T16:25:31.153791Z",
     "iopub.status.idle": "2021-05-16T16:25:34.432833Z",
     "shell.execute_reply": "2021-05-16T16:25:34.432833Z"
    }
   },
   "outputs": [
    {
     "data": {
      "application/javascript": [
       "if (typeof Jupyter !== 'undefined') {\n",
       "                        Jupyter.keyboard_manager.command_shortcuts.add_shortcut(\n",
       "                        'Ctrl-.', {\n",
       "                        help : 'Free all nodes on SC server',\n",
       "                        help_index : 'zz',\n",
       "                        handler : function (event) {\n",
       "                            IPython.notebook.kernel.execute(\n",
       "                                \"import sc3nb; sc3nb.SC.get_default().server.free_all(root=True)\"\n",
       "                            )\n",
       "                            return true;}\n",
       "                        });\n",
       "                    }"
      ],
      "text/plain": [
       "<IPython.core.display.Javascript object>"
      ]
     },
     "metadata": {},
     "output_type": "display_data"
    },
    {
     "name": "stdout",
     "output_type": "stream",
     "text": [
      "Starting sclang process...\n"
     ]
    },
    {
     "name": "stdout",
     "output_type": "stream",
     "text": [
      "Done.\n",
      "Registering OSC /return callback in sclang...\n",
      "Done.\n",
      "Loading default SynthDescs\n",
      "Done.\n",
      "Booting SuperCollider Server...\n"
     ]
    },
    {
     "name": "stdout",
     "output_type": "stream",
     "text": [
      "Done.\n"
     ]
    }
   ],
   "source": [
    "sc = scn.startup()"
   ]
  },
  {
   "cell_type": "markdown",
   "metadata": {},
   "source": [
    "# SynthDef"
   ]
  },
  {
   "cell_type": "markdown",
   "metadata": {},
   "source": [
    "SynthDef wraps and extends the flexibility of SuperCollider Synth Definitions"
   ]
  },
  {
   "cell_type": "markdown",
   "metadata": {},
   "source": [
    "To see how to create and use a Synth from the SynthDef please see the [Synth examples](./node-examples.ipynb)"
   ]
  },
  {
   "cell_type": "markdown",
   "metadata": {},
   "source": [
    "## SynthDef creation\n"
   ]
  },
  {
   "cell_type": "code",
   "execution_count": 3,
   "metadata": {
    "execution": {
     "iopub.execute_input": "2021-05-16T16:25:34.435836Z",
     "iopub.status.busy": "2021-05-16T16:25:34.435836Z",
     "iopub.status.idle": "2021-05-16T16:25:34.438834Z",
     "shell.execute_reply": "2021-05-16T16:25:34.438834Z"
    }
   },
   "outputs": [],
   "source": [
    "synth_def = SynthDef('random', \"\"\"{ |out|\n",
    "    Out.ar(out,\n",
    "        SinOsc.ar(Rand(400, 800), 0, 0.2) * Line.kr(1, 0, 1, doneAction: Done.freeSelf)\n",
    "    )\n",
    "}\"\"\")"
   ]
  },
  {
   "cell_type": "markdown",
   "metadata": {},
   "source": [
    "Note that you can copy the representation to you SuperCollider IDE"
   ]
  },
  {
   "cell_type": "code",
   "execution_count": 4,
   "metadata": {
    "execution": {
     "iopub.execute_input": "2021-05-16T16:25:34.441833Z",
     "iopub.status.busy": "2021-05-16T16:25:34.441833Z",
     "iopub.status.idle": "2021-05-16T16:25:34.443833Z",
     "shell.execute_reply": "2021-05-16T16:25:34.443833Z"
    }
   },
   "outputs": [
    {
     "data": {
      "text/plain": [
       "SynthDef('random', { |out|\n",
       "    Out.ar(out,\n",
       "        SinOsc.ar(Rand(400, 800), 0, 0.2) * Line.kr(1, 0, 1, doneAction: Done.freeSelf)\n",
       "    )\n",
       "})"
      ]
     },
     "execution_count": 1,
     "metadata": {},
     "output_type": "execute_result"
    }
   ],
   "source": [
    "synth_def"
   ]
  },
  {
   "cell_type": "markdown",
   "metadata": {},
   "source": [
    "SynthDefs are created via **sclang** when you `add` them."
   ]
  },
  {
   "cell_type": "code",
   "execution_count": 5,
   "metadata": {
    "execution": {
     "iopub.execute_input": "2021-05-16T16:25:34.445834Z",
     "iopub.status.busy": "2021-05-16T16:25:34.445834Z",
     "iopub.status.idle": "2021-05-16T16:25:34.481832Z",
     "shell.execute_reply": "2021-05-16T16:25:34.481832Z"
    }
   },
   "outputs": [
    {
     "data": {
      "text/plain": [
       "'random'"
      ]
     },
     "execution_count": 1,
     "metadata": {},
     "output_type": "execute_result"
    }
   ],
   "source": [
    "synth_def.add()"
   ]
  },
  {
   "cell_type": "code",
   "execution_count": 6,
   "metadata": {
    "execution": {
     "iopub.execute_input": "2021-05-16T16:25:34.483839Z",
     "iopub.status.busy": "2021-05-16T16:25:34.483839Z",
     "iopub.status.idle": "2021-05-16T16:25:34.495834Z",
     "shell.execute_reply": "2021-05-16T16:25:34.495834Z"
    }
   },
   "outputs": [
    {
     "data": {
      "text/plain": [
       "<Synth(20001) 'random' s {}>"
      ]
     },
     "execution_count": 1,
     "metadata": {},
     "output_type": "execute_result"
    }
   ],
   "source": [
    "Synth(\"random\")"
   ]
  },
  {
   "cell_type": "markdown",
   "metadata": {},
   "source": [
    "## Loading SynthDefs \n",
    "\n",
    "You can also load SynthDefs from `.scsynthdef` files or as bytes via the Server\n",
    "\n",
    "The Server allows \n",
    "- to send binary SynthDef content with `send_synthdef`"
   ]
  },
  {
   "cell_type": "code",
   "execution_count": 7,
   "metadata": {
    "execution": {
     "iopub.execute_input": "2021-05-16T16:25:34.498834Z",
     "iopub.status.busy": "2021-05-16T16:25:34.498834Z",
     "iopub.status.idle": "2021-05-16T16:25:34.543355Z",
     "shell.execute_reply": "2021-05-16T16:25:34.543355Z"
    }
   },
   "outputs": [],
   "source": [
    "sc.server.send_synthdef?"
   ]
  },
  {
   "cell_type": "markdown",
   "metadata": {},
   "source": [
    "- load a SynthDef file with `load_synthdef`\n",
    "- load a directory with SynthDef files with `load_directory`"
   ]
  },
  {
   "cell_type": "code",
   "execution_count": 8,
   "metadata": {
    "execution": {
     "iopub.execute_input": "2021-05-16T16:25:34.546354Z",
     "iopub.status.busy": "2021-05-16T16:25:34.546354Z",
     "iopub.status.idle": "2021-05-16T16:25:34.549354Z",
     "shell.execute_reply": "2021-05-16T16:25:34.549354Z"
    }
   },
   "outputs": [],
   "source": [
    "sc.server.load_synthdef?"
   ]
  },
  {
   "cell_type": "markdown",
   "metadata": {},
   "source": [
    "This can be used together with [supriya](https://github.com/josiah-wolf-oberholtzer/supriya) for example.\n",
    "\n",
    "**Note:** These synth are not known to **sclang**, therefore getting the SynthDesc won't work"
   ]
  },
  {
   "cell_type": "code",
   "execution_count": 9,
   "metadata": {
    "execution": {
     "iopub.execute_input": "2021-05-16T16:25:34.555355Z",
     "iopub.status.busy": "2021-05-16T16:25:34.555355Z",
     "iopub.status.idle": "2021-05-16T16:25:37.572676Z",
     "shell.execute_reply": "2021-05-16T16:25:37.572676Z"
    }
   },
   "outputs": [
    {
     "name": "stderr",
     "output_type": "stream",
     "text": [
      "c:\\users\\dennis\\dev\\soni\\sc3nb\\sc3nb\\sclang.py:555: UserWarning: Couldn't find SynthDef supriya_synth in sclangs global SynthDescLib.\n",
      "  f\"Couldn't find SynthDef {synth_def} in sclangs global SynthDescLib.\"\n",
      "c:\\users\\dennis\\dev\\soni\\sc3nb\\sc3nb\\sc_objects\\synthdef.py:63: UserWarning: SynthDesc 'supriya_synth' is unknown. sclang does not know this SynthDef\n",
      "  warnings.warn(f\"SynthDesc '{name}' is unknown. {sclang_text}\")\n"
     ]
    }
   ],
   "source": [
    "try:\n",
    "    from supriya.synthdefs import SynthDefBuilder, Envelope\n",
    "    from supriya.ugens import SinOsc, EnvGen, Out\n",
    "    from supriya import DoneAction\n",
    "except:\n",
    "    print(\"Example needs supriya pakage installed\")\n",
    "else:\n",
    "    with SynthDefBuilder(name='supriya_synth', amplitude=0.3, frequency=440.0, gate=1.0) as builder:\n",
    "        source = SinOsc.ar(frequency=builder['frequency'])\n",
    "        envelope = EnvGen.kr(done_action=DoneAction.FREE_SYNTH,\n",
    "                             envelope=Envelope.asr(),\n",
    "                             gate=builder['gate'])\n",
    "        source = source * builder['amplitude']\n",
    "        source = source * envelope\n",
    "        out = Out.ar(bus=0, source=source)\n",
    "\n",
    "    # Build SynthDef with supriya SynthDefBuilder\n",
    "    supriya_synthdef = builder.build()\n",
    "    # Compile SynthDef to binary SynthDef and send it to the server.\n",
    "    sc.server.send_synthdef(supriya_synthdef.compile())\n",
    "    \n",
    "    with sc.server.bundler(0.1) as bundler:\n",
    "        syn1 = scn.Synth(supriya_synthdef.actual_name)  # the SynthDef name is saved in the supriya_synthdef\n",
    "        bundler.wait(0.5)\n",
    "        syn1.release(0.5)\n",
    "        \n",
    "        bundler.wait(1)\n",
    "        \n",
    "        syn2 = scn.Synth(supriya_synthdef.actual_name, controls={\"frequency\": 220})\n",
    "        bundler.wait(1)\n",
    "        syn2.free()    "
   ]
  },
  {
   "cell_type": "markdown",
   "metadata": {},
   "source": [
    "## SynthDef creation with context\n",
    "the sc3nb SynthDef - different from standard sclang SynthDefs - allows to inject a number of context specifiers using mustache syntax, i.e. `{{my_context_specifier}}`. This would mark a place within the synth definition that can be replaced by some user-wished sclang code before adding the SynthDef to the server.\n",
    "\n",
    "\n",
    "You can create a 'proto' synth definition with the SynthDef"
   ]
  },
  {
   "cell_type": "code",
   "execution_count": 10,
   "metadata": {
    "execution": {
     "iopub.execute_input": "2021-05-16T16:25:37.575677Z",
     "iopub.status.busy": "2021-05-16T16:25:37.575677Z",
     "iopub.status.idle": "2021-05-16T16:25:37.576677Z",
     "shell.execute_reply": "2021-05-16T16:25:37.576677Z"
    }
   },
   "outputs": [],
   "source": [
    "synth_def_context = SynthDef(name=\"myKlank\", definition=r\"\"\"\n",
    "{ |out=0, amp=0.3, freq=440|\n",
    "    var klank = DynKlank.ar(`[[1,2], [1,1], [1.4,1]], {{EXCITER}}, freq);\n",
    "    Out.ar(out, amp*klank!^p_channels);\n",
    "}\"\"\")"
   ]
  },
  {
   "cell_type": "markdown",
   "metadata": {},
   "source": [
    "In this example a new definition named \"myKlank\" offers a dynamic context \"EXCITER\"\n",
    "and 3 value contexts `freqs`, `rings`, and `channels`.\n",
    "Now we want to replace the dynamic context EXCITER with user-specific code.\n",
    "* use `set_context()` to replace a context with specific code\n",
    "* the specific code can include other context specifier strings in turn\n",
    "    * this basically allows to create chained processing in python-compiled synths defs."
   ]
  },
  {
   "cell_type": "code",
   "execution_count": 11,
   "metadata": {
    "execution": {
     "iopub.execute_input": "2021-05-16T16:25:37.579676Z",
     "iopub.status.busy": "2021-05-16T16:25:37.578676Z",
     "iopub.status.idle": "2021-05-16T16:25:37.580676Z",
     "shell.execute_reply": "2021-05-16T16:25:37.580676Z"
    }
   },
   "outputs": [
    {
     "data": {
      "text/plain": [
       "SynthDef('myKlank', \n",
       "{ |out=0, amp=0.3, freq=440|\n",
       "    var klank = DynKlank.ar(`[[1,2], [1,1], [1.4,1]], Dust.ar(20), freq);\n",
       "    Out.ar(out, amp*klank!^p_channels);\n",
       "})"
      ]
     },
     "execution_count": 1,
     "metadata": {},
     "output_type": "execute_result"
    }
   ],
   "source": [
    "synth_def_context.set_context(\"EXCITER\", \"Dust.ar(20)\")"
   ]
  },
  {
   "cell_type": "markdown",
   "metadata": {},
   "source": [
    "**Remarks**:\n",
    "* The context mechanism is very general:\n",
    "    * it can be used both for code and values\n",
    "    * e.g. for an array specification or a UGen selection.\n",
    "* To set a value (e.g. number or array), consider to use the pyvars syntax, i.e. using the caret '^' variable value injection of python variables into sc code\n",
    "\n",
    "The definition is complete up to the pyvars. So let's create a myKlank in SC!"
   ]
  },
  {
   "cell_type": "code",
   "execution_count": 12,
   "metadata": {
    "execution": {
     "iopub.execute_input": "2021-05-16T16:25:37.583677Z",
     "iopub.status.busy": "2021-05-16T16:25:37.582676Z",
     "iopub.status.idle": "2021-05-16T16:25:37.622678Z",
     "shell.execute_reply": "2021-05-16T16:25:37.622678Z"
    }
   },
   "outputs": [],
   "source": [
    "p_channels = 2\n",
    "synth_name = synth_def_context.add(name=\"kdust\")"
   ]
  },
  {
   "cell_type": "code",
   "execution_count": 13,
   "metadata": {
    "execution": {
     "iopub.execute_input": "2021-05-16T16:25:37.626678Z",
     "iopub.status.busy": "2021-05-16T16:25:37.626678Z",
     "iopub.status.idle": "2021-05-16T16:25:38.633852Z",
     "shell.execute_reply": "2021-05-16T16:25:38.633852Z"
    }
   },
   "outputs": [
    {
     "name": "stdout",
     "output_type": "stream",
     "text": [
      "-> Synth('kdust' : 1000)\n"
     ]
    },
    {
     "name": "stdout",
     "output_type": "stream",
     "text": [
      "-> Synth('kdust' : 1000)\n"
     ]
    }
   ],
   "source": [
    "# for testing, let's create a synth and stop after 1s\n",
    "%scv x = Synth.new(^synth_name, [\\freq, 200, \\amp, 0.05])\n",
    "time.sleep(1)\n",
    "%scv x.free"
   ]
  },
  {
   "cell_type": "markdown",
   "metadata": {},
   "source": [
    "Now let's create another synthdef with a WhiteNoise excitation, but as a 1-channel version"
   ]
  },
  {
   "cell_type": "code",
   "execution_count": 14,
   "metadata": {
    "execution": {
     "iopub.execute_input": "2021-05-16T16:25:38.636852Z",
     "iopub.status.busy": "2021-05-16T16:25:38.636852Z",
     "iopub.status.idle": "2021-05-16T16:25:38.638852Z",
     "shell.execute_reply": "2021-05-16T16:25:38.638852Z"
    }
   },
   "outputs": [],
   "source": [
    "p_channels = 1"
   ]
  },
  {
   "cell_type": "code",
   "execution_count": 15,
   "metadata": {
    "execution": {
     "iopub.execute_input": "2021-05-16T16:25:38.641853Z",
     "iopub.status.busy": "2021-05-16T16:25:38.641853Z",
     "iopub.status.idle": "2021-05-16T16:25:38.662854Z",
     "shell.execute_reply": "2021-05-16T16:25:38.662854Z"
    }
   },
   "outputs": [
    {
     "data": {
      "text/plain": [
       "'knoise'"
      ]
     },
     "execution_count": 1,
     "metadata": {},
     "output_type": "execute_result"
    }
   ],
   "source": [
    "synth_def_context.reset()\n",
    "knoise = synth_def_context.set_context(\"EXCITER\", \"WhiteNoise.ar(0.2)\").add(name=\"knoise\")\n",
    "knoise"
   ]
  },
  {
   "cell_type": "code",
   "execution_count": 16,
   "metadata": {
    "execution": {
     "iopub.execute_input": "2021-05-16T16:25:38.666852Z",
     "iopub.status.busy": "2021-05-16T16:25:38.666852Z",
     "iopub.status.idle": "2021-05-16T16:25:39.677236Z",
     "shell.execute_reply": "2021-05-16T16:25:39.677236Z"
    }
   },
   "outputs": [
    {
     "name": "stdout",
     "output_type": "stream",
     "text": [
      "-> Synth('knoise' : 1001)\n"
     ]
    },
    {
     "name": "stdout",
     "output_type": "stream",
     "text": [
      "-> Synth('knoise' : 1001)\n"
     ]
    }
   ],
   "source": [
    "# for testing, let's create a synth and stop after 1s\n",
    "%scv x = Synth.new(^knoise, [\\amp, 0.05, \\freq, 100])\n",
    "time.sleep(1)\n",
    "%scv x.free"
   ]
  },
  {
   "cell_type": "markdown",
   "metadata": {},
   "source": [
    "To delete an existing synthdef in sc \n",
    "you can use\n",
    "\n",
    "        synthDef.free(name)\n",
    "\n",
    "(but don't do it now as the synthdef is used for examples below)"
   ]
  },
  {
   "cell_type": "markdown",
   "metadata": {},
   "source": [
    "Remove all unused placeholders from current_def by"
   ]
  },
  {
   "cell_type": "code",
   "execution_count": 17,
   "metadata": {
    "execution": {
     "iopub.execute_input": "2021-05-16T16:25:39.681237Z",
     "iopub.status.busy": "2021-05-16T16:25:39.681237Z",
     "iopub.status.idle": "2021-05-16T16:25:39.683236Z",
     "shell.execute_reply": "2021-05-16T16:25:39.683236Z"
    }
   },
   "outputs": [
    {
     "name": "stdout",
     "output_type": "stream",
     "text": [
      "SC code with context vars: \n",
      " \n",
      "{ |out=0, amp=0.3, freq=440|\n",
      "    var klank = DynKlank.ar(`[[1,2], [1,1], [1.4,1]], {{EXCITER}}, freq);\n",
      "    Out.ar(out, amp*klank!^p_channels);\n",
      "} \n",
      "\n",
      "SC code with unset context vars: \n",
      " \n",
      "{ |out=0, amp=0.3, freq=440|\n",
      "    var klank = DynKlank.ar(`[[1,2], [1,1], [1.4,1]], , freq);\n",
      "    Out.ar(out, amp*klank!^p_channels);\n",
      "} \n",
      "\n"
     ]
    }
   ],
   "source": [
    "synth_def_context.reset()\n",
    "print(f\"SC code with context vars: \\n {synth_def_context.current_def} \\n\")\n",
    "synth_def_context.unset_remaining()\n",
    "print(f\"SC code with unset context vars: \\n {synth_def_context.current_def} \\n\", )"
   ]
  },
  {
   "cell_type": "markdown",
   "metadata": {},
   "source": [
    "Here you see, that the placeholder {{EXCITER}} has been deleted. \n",
    "* With this method you make sure, that you don't have any unused placeholders in the definition before creating a SynthDef.\n",
    "* Note, however, that your code might then not be functional..."
   ]
  },
  {
   "cell_type": "markdown",
   "metadata": {},
   "source": [
    "### Example creation of many SynthDefs\n",
    "In some cases you want to create many SynthDefs with only a small change. You can use the SynthDefs object multiple time to do this. Here we want to create playbuf synthdefs for 1 to 10 channels:\n",
    "(Reuse of the synthdef object, which is defined above)"
   ]
  },
  {
   "cell_type": "code",
   "execution_count": 18,
   "metadata": {
    "execution": {
     "iopub.execute_input": "2021-05-16T16:25:39.686235Z",
     "iopub.status.busy": "2021-05-16T16:25:39.686235Z",
     "iopub.status.idle": "2021-05-16T16:25:39.688236Z",
     "shell.execute_reply": "2021-05-16T16:25:39.688236Z"
    }
   },
   "outputs": [],
   "source": [
    "playBufsynthDef = SynthDef(\"playbuf_\", \"\"\"\n",
    "    { |out=0, bufnum=1, rate=1, loop=0, pan=0, amp=0.3 |\n",
    "            var sig = PlayBuf.ar(^num_channels, bufnum,\n",
    "                rate*BufRateScale.kr(bufnum),\n",
    "                loop: loop,\n",
    "                doneAction: Done.freeSelf);\n",
    "            Out.ar(out, Pan2.ar(sig, pan, amp))\n",
    "    }\"\"\" \n",
    ")"
   ]
  },
  {
   "cell_type": "code",
   "execution_count": 19,
   "metadata": {
    "execution": {
     "iopub.execute_input": "2021-05-16T16:25:39.691235Z",
     "iopub.status.busy": "2021-05-16T16:25:39.690235Z",
     "iopub.status.idle": "2021-05-16T16:25:39.772236Z",
     "shell.execute_reply": "2021-05-16T16:25:39.772236Z"
    }
   },
   "outputs": [],
   "source": [
    "synthPlaybufs = {}\n",
    "for num in [1,2,4,8]:\n",
    "    synthPlaybufs[num] = playBufsynthDef.add(pyvars={\"num_channels\": num}, name=f\"playbuf_{num}\")"
   ]
  },
  {
   "cell_type": "markdown",
   "metadata": {},
   "source": [
    "Now you can access via ``synthPlayBufs[2]`` to the 2-ch playbuf etc."
   ]
  },
  {
   "cell_type": "code",
   "execution_count": 20,
   "metadata": {
    "execution": {
     "iopub.execute_input": "2021-05-16T16:25:39.776237Z",
     "iopub.status.busy": "2021-05-16T16:25:39.775237Z",
     "iopub.status.idle": "2021-05-16T16:25:39.777237Z",
     "shell.execute_reply": "2021-05-16T16:25:39.777237Z"
    }
   },
   "outputs": [
    {
     "data": {
      "text/plain": [
       "'playbuf_2'"
      ]
     },
     "execution_count": 1,
     "metadata": {},
     "output_type": "execute_result"
    }
   ],
   "source": [
    "synthPlaybufs[2]"
   ]
  },
  {
   "cell_type": "markdown",
   "metadata": {},
   "source": [
    "### Use-case: DynKlank Synths with controllable nr. of filters\n",
    "A problem with synthdefs is that some parameters can only be set at compile time. E.g. \n",
    "* A DynKlank needs to know the maximum nr. of filters in its filter bank at SynthDef time. \n",
    "* A synth will need to know the channel count at SynthDef time\n",
    "\n",
    "Contexts allow to define such synthDefs dynamically on demand. \n",
    "\n",
    "The following code is a dynamic DynKlank whose data-controlled nr. of filters is determined via the SynthDef class. \n",
    "* nr of channels and nr. of filters in the filter bank are specified via pyvars\n",
    "* TODO: find a way how to set amps, rings, and harms on Synth.new"
   ]
  },
  {
   "cell_type": "code",
   "execution_count": 21,
   "metadata": {
    "execution": {
     "iopub.execute_input": "2021-05-16T16:25:39.780235Z",
     "iopub.status.busy": "2021-05-16T16:25:39.780235Z",
     "iopub.status.idle": "2021-05-16T16:25:39.782236Z",
     "shell.execute_reply": "2021-05-16T16:25:39.782236Z"
    }
   },
   "outputs": [
    {
     "data": {
      "text/plain": [
       "sc3nb.sc_objects.synthdef.SynthDef"
      ]
     },
     "execution_count": 1,
     "metadata": {},
     "output_type": "execute_result"
    }
   ],
   "source": [
    "scn.SynthDef"
   ]
  },
  {
   "cell_type": "code",
   "execution_count": 22,
   "metadata": {
    "execution": {
     "iopub.execute_input": "2021-05-16T16:25:39.786240Z",
     "iopub.status.busy": "2021-05-16T16:25:39.785238Z",
     "iopub.status.idle": "2021-05-16T16:25:39.788237Z",
     "shell.execute_reply": "2021-05-16T16:25:39.787236Z"
    }
   },
   "outputs": [],
   "source": [
    "synth_def = scn.SynthDef(name=\"myKlank\", definition=r\"\"\"\n",
    "{ |out=0, amp=0.3, freq=440|\n",
    "    var klank, n, harms, amps, rings;\n",
    "    harms = \\harms.kr(Array.series(^p_nf, 1, 1));\n",
    "    amps = \\amps.kr(Array.fill(^p_nf, 0));\n",
    "    rings = \\rings.kr(Array.fill(^p_nf, 0.1));\n",
    "    klank = DynKlank.ar(`[harms, amps, rings], {{EXCITER}}, freq);\n",
    "    Out.ar(out, amp*klank!^p_channels);\n",
    "}\"\"\")"
   ]
  },
  {
   "cell_type": "code",
   "execution_count": 23,
   "metadata": {
    "execution": {
     "iopub.execute_input": "2021-05-16T16:25:39.792240Z",
     "iopub.status.busy": "2021-05-16T16:25:39.791237Z",
     "iopub.status.idle": "2021-05-16T16:25:39.811236Z",
     "shell.execute_reply": "2021-05-16T16:25:39.811236Z"
    }
   },
   "outputs": [
    {
     "name": "stdout",
     "output_type": "stream",
     "text": [
      "myKlank\n"
     ]
    }
   ],
   "source": [
    "# now create a synth where exciter is Dust, with 10 filters and stereo\n",
    "kdust = synth_def.set_context(\"EXCITER\", \"Dust.ar(80)\").add(\n",
    "    pyvars={\"p_nf\": 10, \"p_channels\": 2})\n",
    "print(kdust)"
   ]
  },
  {
   "cell_type": "code",
   "execution_count": 24,
   "metadata": {
    "execution": {
     "iopub.execute_input": "2021-05-16T16:25:39.815236Z",
     "iopub.status.busy": "2021-05-16T16:25:39.814235Z",
     "iopub.status.idle": "2021-05-16T16:25:39.828236Z",
     "shell.execute_reply": "2021-05-16T16:25:39.828236Z"
    }
   },
   "outputs": [],
   "source": [
    "x = scn.Synth(name=kdust,\n",
    "              controls={\"freq\": 100,\n",
    "                        \"amp\": 0.05,\n",
    "                        \"harms\": [60,60,60],\n",
    "                        \"amps\": [0.1,0.1,0.1],\n",
    "                        \"rings\": [1, 0.4, 0.2],})\n"
   ]
  },
  {
   "cell_type": "code",
   "execution_count": 25,
   "metadata": {
    "execution": {
     "iopub.execute_input": "2021-05-16T16:25:39.832236Z",
     "iopub.status.busy": "2021-05-16T16:25:39.832236Z",
     "iopub.status.idle": "2021-05-16T16:25:39.834236Z",
     "shell.execute_reply": "2021-05-16T16:25:39.834236Z"
    }
   },
   "outputs": [
    {
     "data": {
      "text/plain": [
       "<Synth(20004) 'myKlank' s {'freq': 100, 'amp': 0.05, 'harms': ([1, 2, 6], 'amps', [0.1, 0.1, 0.1], 'rings', [1, 0.4, 0.2]), 'amps': [0.1, 0.1, 0.1], 'rings': [1, 0.4, 0.2]}>"
      ]
     },
     "execution_count": 1,
     "metadata": {},
     "output_type": "execute_result"
    }
   ],
   "source": [
    "x.set(\"harms\", [1,2,6], \"amps\", [0.1,0.1,0.1], \"rings\", [1, 0.4, 0.2])\n",
    "# following syntax works the same:\n",
    "#x.set({\"harms\":[1,2,6], \"amps\": [0.1,0.1,0.1], \"rings\": [1, 0.4, 0.2]})\n",
    "#x.set([\"harms\",[1,2,6],\"amps\",[0.1,0.1,0.1],\"rings\",[1, 0.4, 0.2]])"
   ]
  },
  {
   "cell_type": "code",
   "execution_count": 26,
   "metadata": {
    "execution": {
     "iopub.execute_input": "2021-05-16T16:25:39.837236Z",
     "iopub.status.busy": "2021-05-16T16:25:39.837236Z",
     "iopub.status.idle": "2021-05-16T16:25:39.839236Z",
     "shell.execute_reply": "2021-05-16T16:25:39.839236Z"
    }
   },
   "outputs": [
    {
     "data": {
      "text/plain": [
       "<Synth(20004) 'myKlank' sf {'freq': 100, 'amp': 0.05, 'harms': ([1, 2, 6], 'amps', [0.1, 0.1, 0.1], 'rings', [1, 0.4, 0.2]), 'amps': [0.1, 0.1, 0.1], 'rings': [1, 0.4, 0.2]}>"
      ]
     },
     "execution_count": 1,
     "metadata": {},
     "output_type": "execute_result"
    }
   ],
   "source": [
    "x.free()"
   ]
  },
  {
   "cell_type": "markdown",
   "metadata": {},
   "source": [
    "## Getting a SynthDesc"
   ]
  },
  {
   "cell_type": "markdown",
   "metadata": {
    "code_folding": []
   },
   "source": [
    "You can also query for a SynthDesc via **sclang** with the class method `get_desc(\"synth_name\")`\n",
    "\n",
    "Lets see for the SynthDefs included in sc3nb"
   ]
  },
  {
   "cell_type": "markdown",
   "metadata": {
    "code_folding": []
   },
   "source": [
    "* SynthDef \"s1\" which is a discrete sound event with parameters \n",
    "    * frequency `freq`\n",
    "    * duration `dur`\n",
    "    * attack time `att`\n",
    "    * amplitude `amp`\n",
    "    * number of harmonics `num`\n",
    "    * spatial panning `pan`"
   ]
  },
  {
   "cell_type": "code",
   "execution_count": 27,
   "metadata": {
    "execution": {
     "iopub.execute_input": "2021-05-16T16:25:39.842235Z",
     "iopub.status.busy": "2021-05-16T16:25:39.842235Z",
     "iopub.status.idle": "2021-05-16T16:25:39.854239Z",
     "shell.execute_reply": "2021-05-16T16:25:39.854239Z"
    }
   },
   "outputs": [
    {
     "data": {
      "text/plain": [
       "{'freq': SynthArgument(name='freq', rate='control', default=400.0),\n",
       " 'dur': SynthArgument(name='dur', rate='control', default=0.4000000059604645),\n",
       " 'att': SynthArgument(name='att', rate='control', default=0.009999999776482582),\n",
       " 'amp': SynthArgument(name='amp', rate='control', default=0.30000001192092896),\n",
       " 'num': SynthArgument(name='num', rate='control', default=4.0),\n",
       " 'pan': SynthArgument(name='pan', rate='control', default=0.0)}"
      ]
     },
     "execution_count": 1,
     "metadata": {},
     "output_type": "execute_result"
    }
   ],
   "source": [
    "scn.SynthDef.get_description(\"s1\")"
   ]
  },
  {
   "cell_type": "markdown",
   "metadata": {
    "code_folding": []
   },
   "source": [
    "* SynthDef \"s2\" which is a continuous synth with parameters\n",
    "    * frequency `freq`\n",
    "    * amplitude `amp`\n",
    "    * number of harmonics `num`\n",
    "    * spatial panning `pan`\n",
    "    * Exponential lag `lag`"
   ]
  },
  {
   "cell_type": "code",
   "execution_count": 28,
   "metadata": {
    "execution": {
     "iopub.execute_input": "2021-05-16T16:25:39.857237Z",
     "iopub.status.busy": "2021-05-16T16:25:39.856237Z",
     "iopub.status.idle": "2021-05-16T16:25:39.869237Z",
     "shell.execute_reply": "2021-05-16T16:25:39.869237Z"
    }
   },
   "outputs": [
    {
     "data": {
      "text/plain": [
       "{'freq': SynthArgument(name='freq', rate='control', default=400.0),\n",
       " 'amp': SynthArgument(name='amp', rate='control', default=0.30000001192092896),\n",
       " 'num': SynthArgument(name='num', rate='control', default=4.0),\n",
       " 'pan': SynthArgument(name='pan', rate='control', default=0.0),\n",
       " 'lg': SynthArgument(name='lg', rate='control', default=0.10000000149011612)}"
      ]
     },
     "execution_count": 1,
     "metadata": {},
     "output_type": "execute_result"
    }
   ],
   "source": [
    "scn.SynthDef.get_description(\"s2\")"
   ]
  },
  {
   "cell_type": "code",
   "execution_count": 29,
   "metadata": {
    "execution": {
     "iopub.execute_input": "2021-05-16T16:25:39.872236Z",
     "iopub.status.busy": "2021-05-16T16:25:39.871235Z",
     "iopub.status.idle": "2021-05-16T16:25:41.070829Z",
     "shell.execute_reply": "2021-05-16T16:25:41.070829Z"
    }
   },
   "outputs": [],
   "source": [
    "sc.exit()"
   ]
  },
  {
   "cell_type": "code",
   "execution_count": null,
   "metadata": {},
   "outputs": [],
   "source": []
  }
 ],
 "metadata": {
  "language_info": {
   "codemirror_mode": {
    "name": "ipython",
    "version": 3
   },
   "file_extension": ".py",
   "mimetype": "text/x-python",
   "name": "python",
   "nbconvert_exporter": "python",
   "pygments_lexer": "ipython3",
   "version": "3.7.10"
  }
 },
 "nbformat": 4,
 "nbformat_minor": 4
}
