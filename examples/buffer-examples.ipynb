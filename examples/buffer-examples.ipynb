{
 "cells": [
  {
   "cell_type": "code",
   "execution_count": null,
   "metadata": {},
   "outputs": [],
   "source": [
    "# header / imports\n",
    "import numpy as np\n",
    "import matplotlib.pyplot as plt\n",
    "%matplotlib inline\n",
    "import sc3nb as scn"
   ]
  },
  {
   "cell_type": "code",
   "execution_count": null,
   "metadata": {},
   "outputs": [],
   "source": [
    "sc = scn.startup()"
   ]
  },
  {
   "cell_type": "markdown",
   "metadata": {},
   "source": [
    "# Example for sc3nb.Buffer"
   ]
  },
  {
   "cell_type": "markdown",
   "metadata": {},
   "source": [
    "* Buffer is a python class in the sc3nb package to interface with Buffers on the SuperCollider3 server.\n",
    "* A buffer can be created with sc3nb.Buffer(sc)\n",
    "* The constructor is also invoked by the method sc3nb.SC.Buffer(), a method of a booted SC instance, i.e. \n",
    "        buf = sc.Buffer()\n",
    "  to allocate a buffer on the sound server booted from the SC instance.\n",
    "* On buffer methods, the buffer instance is returned so that subsequent buffer methods (such as load_data, load_existing, etc.) can be directly invoked\n",
    "* This notebook demonstrates with some examples how to work with sc3nb.Buffer"
   ]
  },
  {
   "cell_type": "markdown",
   "metadata": {},
   "source": [
    "## Create Buffer from a numpy.Array"
   ]
  },
  {
   "cell_type": "code",
   "execution_count": null,
   "metadata": {},
   "outputs": [],
   "source": [
    "d0 = np.random.rand(30000, 1)"
   ]
  },
  {
   "cell_type": "code",
   "execution_count": null,
   "metadata": {},
   "outputs": [],
   "source": [
    "buf0 = sc.Buffer().load_data(d0)\n",
    "buf0"
   ]
  },
  {
   "cell_type": "markdown",
   "metadata": {},
   "source": [
    "## Buffer.query()"
   ]
  },
  {
   "cell_type": "markdown",
   "metadata": {},
   "source": [
    "In this case a default buffer with default sample rate (44100) and default insert mode (ToDo: '...') is created. If you want to create a buffer with a specific sample rate or OSC insertion method etc.. \n",
    "\n",
    "Attention: the OSC insertion is only useful for small datasets (less than 1000 entries). For larger datasets the default file mode is much faster"
   ]
  },
  {
   "cell_type": "code",
   "execution_count": null,
   "metadata": {},
   "outputs": [],
   "source": [
    "# uncomment following line to see help for the Buffer class:\n",
    "# help(scn.Buffer)"
   ]
  },
  {
   "cell_type": "code",
   "execution_count": null,
   "metadata": {},
   "outputs": [],
   "source": [
    "d0 = np.random.rand(30000, 1)\n",
    "buf1 = sc.Buffer(bufnum=110).load_data(d0, sr=5000, mode=\"osc\")\n",
    "buf1"
   ]
  },
  {
   "cell_type": "markdown",
   "metadata": {},
   "source": [
    "## Create Buffer with data from PyA Asig\n",
    "This only works if using pya package: skip if not\n",
    "* ToDo: check with multichannel signals"
   ]
  },
  {
   "cell_type": "code",
   "execution_count": null,
   "metadata": {},
   "outputs": [],
   "source": [
    "from pya import *\n",
    "a1 = Ugen().sine(15, dur=1.2, sr=1000).fade_out(0.5) # 0.5s sine tone of 100 Hz\n",
    "buf1 = sc.Buffer(bufnum=120).load_asig(a1)"
   ]
  },
  {
   "cell_type": "code",
   "execution_count": null,
   "metadata": {},
   "outputs": [],
   "source": [
    "print(a1, \"\\n\", buf1)\n",
    "a1.plot();"
   ]
  },
  {
   "cell_type": "markdown",
   "metadata": {},
   "source": [
    "Again, default transport method is mode='file', i.e. using a temporary file and fill the buffer on sc\n",
    "with this content. \n",
    "* use mode=\"osc\" to select the direct transfer of data via OSC messages"
   ]
  },
  {
   "cell_type": "markdown",
   "metadata": {},
   "source": [
    "## Create Buffer of .wav File"
   ]
  },
  {
   "cell_type": "code",
   "execution_count": null,
   "metadata": {},
   "outputs": [],
   "source": [
    "buf2 = sc.Buffer().load_file(\"./my_recording.wav\")\n",
    "buf2"
   ]
  },
  {
   "cell_type": "code",
   "execution_count": null,
   "metadata": {},
   "outputs": [],
   "source": [
    "buf2.play() # plays the buffer using a PlayBuf default synth, see below\n",
    "print(buf2)\n",
    "buf2.query()"
   ]
  },
  {
   "cell_type": "markdown",
   "metadata": {},
   "source": [
    "The buffer method will automatically read the sample reate of the file and set it to Buffer.sr"
   ]
  },
  {
   "cell_type": "markdown",
   "metadata": {},
   "source": [
    "## Allocate an empty Buffer"
   ]
  },
  {
   "cell_type": "code",
   "execution_count": null,
   "metadata": {},
   "outputs": [],
   "source": [
    "buf3 = sc.Buffer().alloc(2.5*44100, sr=44100)\n",
    "buf3"
   ]
  },
  {
   "cell_type": "markdown",
   "metadata": {},
   "source": [
    "## Reuse an existing SC buffer"
   ]
  },
  {
   "cell_type": "markdown",
   "metadata": {},
   "source": [
    "`Buffer.use_existing(bufnum)` will force the Buffer to use an already existing buffer of buffer number bufnum on the scsynth. "
   ]
  },
  {
   "cell_type": "code",
   "execution_count": null,
   "metadata": {},
   "outputs": [],
   "source": [
    "%sc b = Buffer.read(s, Platform.resourceDir +/+ \"sounds/a11wlk01.wav\");"
   ]
  },
  {
   "cell_type": "code",
   "execution_count": null,
   "metadata": {},
   "outputs": [],
   "source": [
    "bufnum = %scg b.bufnum\n",
    "bufnum"
   ]
  },
  {
   "cell_type": "code",
   "execution_count": null,
   "metadata": {},
   "outputs": [],
   "source": [
    "buf = sc.Buffer()\n",
    "buf"
   ]
  },
  {
   "cell_type": "code",
   "execution_count": null,
   "metadata": {},
   "outputs": [],
   "source": [
    "buf.use_existing(bufnum)\n",
    "buf # bufnum has now changed to be bufnum"
   ]
  },
  {
   "cell_type": "code",
   "execution_count": null,
   "metadata": {},
   "outputs": [],
   "source": [
    "buf4.play(rate=1)"
   ]
  },
  {
   "cell_type": "markdown",
   "metadata": {},
   "source": [
    "## Copy an existing SC buffer\n",
    "copy_existing() allows to copy an already existing buffer into another buffer."
   ]
  },
  {
   "cell_type": "code",
   "execution_count": null,
   "metadata": {},
   "outputs": [],
   "source": [
    "buf2 = sc.Buffer().load_file(\"./my_recording.wav\")\n",
    "buf5 = sc.Buffer().copy_existing(buf2)"
   ]
  },
  {
   "cell_type": "markdown",
   "metadata": {},
   "source": [
    "This method will automatically use an intern copy method, if both buffer objects use the same sc instance. Otherwise the buffer will be loaded via filesystem. For this both sc instance should use the same filesystem. "
   ]
  },
  {
   "cell_type": "code",
   "execution_count": null,
   "metadata": {},
   "outputs": [],
   "source": [
    "buf2sig = buf2.to_array()\n",
    "buf5sig = buf5.to_array()\n",
    "plt.plot(buf2sig)  # signal around 0\n",
    "plt.plot(buf5sig+2) # copied signal around 2\n",
    "plt.plot(buf5sig-buf2sig+1); # difference (should be 0) around 1"
   ]
  },
  {
   "cell_type": "markdown",
   "metadata": {},
   "source": [
    "With this method, the complete buffer with all samples is copied. If you want to copy only a selection of samples, you can use `gen_copy()` (see below)."
   ]
  },
  {
   "cell_type": "markdown",
   "metadata": {},
   "source": [
    "## Play Buffer"
   ]
  },
  {
   "cell_type": "markdown",
   "metadata": {},
   "source": [
    "* The play method has the problem that different synths need to be used for different number of channels. \n",
    "    * The default play method creates the mono-channel synth 'pb-1ch'. \n",
    "    * For stereo buffers, manually overwrite by setting synth='pb-2ch'. \n",
    "* Future versions of Buffer should be able to determine the number of channels and automatically select an appropriate synth."
   ]
  },
  {
   "cell_type": "code",
   "execution_count": null,
   "metadata": {},
   "outputs": [],
   "source": [
    "d = np.sin(2*np.pi*440*np.linspace(0, 1, 44100)**0.9)\n",
    "buf0 = sc.Buffer().load_data(d)"
   ]
  },
  {
   "cell_type": "code",
   "execution_count": null,
   "metadata": {},
   "outputs": [],
   "source": [
    "buf0.play()  # play at rate 1"
   ]
  },
  {
   "cell_type": "code",
   "execution_count": null,
   "metadata": {},
   "outputs": [],
   "source": [
    "buf0.play(rate=2, amp=0.05, pan=1 )  # play at given rate"
   ]
  },
  {
   "cell_type": "code",
   "execution_count": null,
   "metadata": {},
   "outputs": [],
   "source": [
    "node_id = buf0.play(rate=4, loop=True)  # play looped "
   ]
  },
  {
   "cell_type": "code",
   "execution_count": null,
   "metadata": {},
   "outputs": [],
   "source": [
    "sc.msg(\"/n_free\", node_id)  # free the buffer player "
   ]
  },
  {
   "cell_type": "markdown",
   "metadata": {},
   "source": [
    "## Write buffer content to file\n",
    "Write the content of a buffer into a file. By default it is a .wav File with float as sample. You can change it via parameters \"header\" and \"sample\"."
   ]
  },
  {
   "cell_type": "code",
   "execution_count": null,
   "metadata": {},
   "outputs": [],
   "source": [
    "buf0 = sc.Buffer().load_data(np.random.rand(10000)-0.5)"
   ]
  },
  {
   "cell_type": "code",
   "execution_count": null,
   "metadata": {},
   "outputs": [],
   "source": [
    "buf0.write(\"./output.wav\")"
   ]
  },
  {
   "cell_type": "markdown",
   "metadata": {},
   "source": [
    "## Fetch buffer content to array"
   ]
  },
  {
   "cell_type": "code",
   "execution_count": null,
   "metadata": {},
   "outputs": [],
   "source": [
    "# create a buffer\n",
    "buf2 = sc.Buffer().load_file(\"./my_recording.wav\")"
   ]
  },
  {
   "cell_type": "code",
   "execution_count": null,
   "metadata": {},
   "outputs": [],
   "source": [
    "data = buf2.to_array()"
   ]
  },
  {
   "cell_type": "code",
   "execution_count": null,
   "metadata": {},
   "outputs": [],
   "source": [
    "plt.plot(data);"
   ]
  },
  {
   "cell_type": "code",
   "execution_count": null,
   "metadata": {},
   "outputs": [],
   "source": [
    "buf2.play(rate=1)"
   ]
  },
  {
   "cell_type": "markdown",
   "metadata": {},
   "source": [
    "## Fill buffer with values"
   ]
  },
  {
   "cell_type": "markdown",
   "metadata": {},
   "source": [
    "### Fill a buffer with zeros:"
   ]
  },
  {
   "cell_type": "code",
   "execution_count": null,
   "metadata": {},
   "outputs": [],
   "source": [
    "help(scn.Buffer.zero)"
   ]
  },
  {
   "cell_type": "code",
   "execution_count": null,
   "metadata": {},
   "outputs": [],
   "source": [
    "buf = sc.Buffer().alloc(100)\n",
    "buf.zero()\n",
    "plt.plot(buf.to_array());"
   ]
  },
  {
   "cell_type": "markdown",
   "metadata": {},
   "source": [
    "### Fill a buffer range with values:"
   ]
  },
  {
   "cell_type": "code",
   "execution_count": null,
   "metadata": {},
   "outputs": [],
   "source": [
    "help(scn.Buffer.fill)"
   ]
  },
  {
   "cell_type": "code",
   "execution_count": null,
   "metadata": {},
   "outputs": [],
   "source": [
    "buf = sc.Buffer().alloc(500).fill(0, 90, 22).fill(200, 100, 5)\n",
    "plt.plot(buf.to_array());"
   ]
  },
  {
   "cell_type": "markdown",
   "metadata": {},
   "source": [
    "Alternatively: fill buffer with single fill statement using multiple value triplets"
   ]
  },
  {
   "cell_type": "code",
   "execution_count": null,
   "metadata": {},
   "outputs": [],
   "source": [
    "buf.fill([20, 50, -8000, 200, 100, 8000])\n",
    "plt.plot(buf.to_array());"
   ]
  },
  {
   "cell_type": "markdown",
   "metadata": {},
   "source": [
    "### Fill buffer with sinus waves and given amplitudes."
   ]
  },
  {
   "cell_type": "code",
   "execution_count": null,
   "metadata": {},
   "outputs": [],
   "source": [
    "help(scn.Buffer.gen_sine1)"
   ]
  },
  {
   "cell_type": "code",
   "execution_count": null,
   "metadata": {},
   "outputs": [],
   "source": [
    "buf = sc.Buffer().alloc(500).gen_sine1([1,-0.5,0,1.4,0,0,0.2])\n",
    "plt.plot(buf.to_array());"
   ]
  },
  {
   "cell_type": "markdown",
   "metadata": {},
   "source": [
    "### Fill buffer with sinus waves and given frequency and amplitude"
   ]
  },
  {
   "cell_type": "code",
   "execution_count": null,
   "metadata": {},
   "outputs": [],
   "source": [
    "help(scn.Buffer.gen_sine2)"
   ]
  },
  {
   "cell_type": "code",
   "execution_count": null,
   "metadata": {},
   "outputs": [],
   "source": [
    "buf = sc.Buffer().alloc(1024).gen_sine2([[3.1, 1], [0.2, -2.5], [30, 0.3]])\n",
    "plt.plot(buf.to_array());"
   ]
  },
  {
   "cell_type": "markdown",
   "metadata": {},
   "source": [
    "### Fill buffer with sinus waves and given frequency, amplitude, phase"
   ]
  },
  {
   "cell_type": "code",
   "execution_count": null,
   "metadata": {},
   "outputs": [],
   "source": [
    "help(scn.Buffer.gen_sine3)"
   ]
  },
  {
   "cell_type": "code",
   "execution_count": null,
   "metadata": {},
   "outputs": [],
   "source": [
    "buf = sc.Buffer().alloc(1024).gen_sine3(\n",
    "    [[1, 0.9, 1], [2, 0.3, +np.pi/2], [3, 0.3, 3]])\n",
    "plt.plot(buf.to_array());"
   ]
  },
  {
   "cell_type": "markdown",
   "metadata": {},
   "source": [
    "### Fill buffer with series of chebyshev polynomials:"
   ]
  },
  {
   "cell_type": "code",
   "execution_count": null,
   "metadata": {},
   "outputs": [],
   "source": [
    "help(scn.Buffer.gen_cheby)"
   ]
  },
  {
   "cell_type": "markdown",
   "metadata": {},
   "source": [
    "$\\textrm{cheby}(n) = \\textrm{amplitude} \\cdot \\cos(n \\cdot \\arccos(x))$"
   ]
  },
  {
   "cell_type": "code",
   "execution_count": null,
   "metadata": {},
   "outputs": [],
   "source": [
    "buf = sc.Buffer().alloc(1024)\n",
    "ch = [1]\n",
    "for i in range(4):\n",
    "    ch.insert(0, 0)\n",
    "    buf.gen_cheby(ch)\n",
    "    plt.plot(buf.to_array(), label=str(i));\n",
    "plt.legend();"
   ]
  },
  {
   "cell_type": "markdown",
   "metadata": {},
   "source": [
    "`gen_sine1` to `gen_sine3` and `gen_cheby` have the optional parameters:\n",
    "* **normalize**: Normalize peak amplitude of wave to 1.0.\n",
    "* **wavetable**: If set, then the buffer is written in wavetable format so that it can be read by interpolating oscillators.\n",
    "* **clear**: if set then the buffer is cleared before new partials are written into it. Otherwise the new partials are summed with the existing contents of the buffer."
   ]
  },
  {
   "cell_type": "markdown",
   "metadata": {},
   "source": [
    "### Copy data of another buffer:"
   ]
  },
  {
   "cell_type": "code",
   "execution_count": null,
   "metadata": {},
   "outputs": [],
   "source": [
    "help(scn.Buffer.gen_copy)"
   ]
  },
  {
   "cell_type": "code",
   "execution_count": null,
   "metadata": {},
   "outputs": [],
   "source": [
    "buf1 = sc.Buffer().alloc(1024).fill(1024, 0, 0)\n",
    "plt.plot(buf1.to_array());\n",
    "buf2 = sc.Buffer().alloc(1024).gen_sine1([1,0.5,0,1.4,0,0.5,0.2])\n",
    "\n",
    "# copy samples 0..0+400 of buf2 into buf1 at position 2++ \n",
    "buf1.gen_copy(buf2, 0, 2, 400)  \n",
    "plt.plot(buf1.to_array());\n",
    "\n",
    "# copy samples 250..end(=<0) of buf2 into buf1 at position 250++ \n",
    "buf1.gen_copy(buf2, 0, 250, 400)\n",
    "plt.plot(buf1.to_array());"
   ]
  },
  {
   "cell_type": "markdown",
   "metadata": {},
   "source": [
    "Here we copy 100 samples of `buf2` at starting pos 1 to buf3 at position 2. Use a negative amount of samples to copy all available samples"
   ]
  },
  {
   "cell_type": "markdown",
   "metadata": {},
   "source": [
    "## Information about the buffer\n",
    "Information about the buffer object:"
   ]
  },
  {
   "cell_type": "code",
   "execution_count": null,
   "metadata": {},
   "outputs": [],
   "source": [
    "buf3"
   ]
  },
  {
   "cell_type": "markdown",
   "metadata": {},
   "source": [
    "Information about the buffer in SC\n",
    "(Known bug: You have to call this method multiple times, until you've got a list with the bufnum in the first list item)"
   ]
  },
  {
   "cell_type": "code",
   "execution_count": null,
   "metadata": {},
   "outputs": [],
   "source": [
    "buf3.query()"
   ]
  },
  {
   "cell_type": "markdown",
   "metadata": {},
   "source": [
    "## Delete & Free Buffers"
   ]
  },
  {
   "cell_type": "markdown",
   "metadata": {},
   "source": [
    "* We start with a buffer"
   ]
  },
  {
   "cell_type": "code",
   "execution_count": null,
   "metadata": {},
   "outputs": [],
   "source": [
    "buf = sc.Buffer().load_file(\"./my_recording.wav\")\n",
    "buf.play(synth=\"pb-2ch\")"
   ]
  },
  {
   "cell_type": "code",
   "execution_count": null,
   "metadata": {},
   "outputs": [],
   "source": [
    "print(buf)\n",
    "buf.query()"
   ]
  },
  {
   "cell_type": "markdown",
   "metadata": {},
   "source": [
    "### Delete Buffer in SC:"
   ]
  },
  {
   "cell_type": "code",
   "execution_count": null,
   "metadata": {},
   "outputs": [],
   "source": [
    "buf.free()\n",
    "# @Micha: TODO: reset _bufmode then..."
   ]
  },
  {
   "cell_type": "code",
   "execution_count": null,
   "metadata": {},
   "outputs": [],
   "source": [
    "print(buf)  # listed as not loaded, python Buffer instance still exists"
   ]
  },
  {
   "cell_type": "code",
   "execution_count": null,
   "metadata": {},
   "outputs": [],
   "source": [
    "# buf.query()  # would give an error then..."
   ]
  }
 ],
 "metadata": {
  "kernelspec": {
   "display_name": "Python 3",
   "language": "python",
   "name": "python3"
  },
  "language_info": {
   "codemirror_mode": {
    "name": "ipython",
    "version": 3
   },
   "file_extension": ".py",
   "mimetype": "text/x-python",
   "name": "python",
   "nbconvert_exporter": "python",
   "pygments_lexer": "ipython3",
   "version": "3.6.8"
  },
  "toc": {
   "base_numbering": 1,
   "nav_menu": {},
   "number_sections": true,
   "sideBar": true,
   "skip_h1_title": true,
   "title_cell": "Table of Contents",
   "title_sidebar": "Contents",
   "toc_cell": false,
   "toc_position": {},
   "toc_section_display": true,
   "toc_window_display": true
  }
 },
 "nbformat": 4,
 "nbformat_minor": 2
}
