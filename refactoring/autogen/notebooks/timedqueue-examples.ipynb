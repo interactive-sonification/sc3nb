{
 "cells": [
  {
   "cell_type": "markdown",
   "metadata": {},
   "source": [
    "# TimedQueue Basics\n",
    "\n",
    "\n",
    "Motivation:\n",
    "\n",
    "\n",
    "* for sonifications with precise timing, thousends of events need to be spawn at the exact time.\n",
    "* doing this with bundles doesn't work as the OSC buffer of scsynth is limited\n",
    "* it needs a TimedQueue where events can be added for time-precise dispatching\n",
    "* a thread then simply checks what items are due and executes them\n",
    "* using arbitrary functions as objects for the queue allows to use it both for sonification (e.g. sending OSC messages/bundles) and even visualization\n",
    "* however, the functions should complete really quickly as otherwise the queue would run late and fail to process due events\n",
    "* hence, it is the responsibility of the user to be careful\n",
    "* if, however, longer programs are needed, they can be spawn as threads on execution\n",
    "* The following demos illustrate the core functionality with console print and sound"
   ]
  },
  {
   "cell_type": "code",
   "execution_count": 1,
   "metadata": {
    "execution": {
     "iopub.execute_input": "2021-06-10T16:17:54.709513Z",
     "iopub.status.busy": "2021-06-10T16:17:54.708988Z",
     "iopub.status.idle": "2021-06-10T16:17:54.887850Z",
     "shell.execute_reply": "2021-06-10T16:17:54.886849Z"
    }
   },
   "outputs": [],
   "source": [
    "import sys, os, time, random\n",
    "import numpy as np\n",
    "\n",
    "import sc3nb as scn"
   ]
  },
  {
   "cell_type": "code",
   "execution_count": 2,
   "metadata": {
    "execution": {
     "iopub.execute_input": "2021-06-10T16:17:54.895847Z",
     "iopub.status.busy": "2021-06-10T16:17:54.894846Z",
     "iopub.status.idle": "2021-06-10T16:17:58.019590Z",
     "shell.execute_reply": "2021-06-10T16:17:58.019590Z"
    }
   },
   "outputs": [
    {
     "data": {
      "application/javascript": [
       "if (typeof Jupyter !== 'undefined') {\n",
       "                        Jupyter.keyboard_manager.command_shortcuts.add_shortcut(\n",
       "                        'Ctrl-.', {\n",
       "                        help : 'Free all nodes on SC server',\n",
       "                        help_index : 'zz',\n",
       "                        handler : function (event) {\n",
       "                            IPython.notebook.kernel.execute(\n",
       "                                \"import sc3nb; sc3nb.SC.get_default().server.free_all(root=True)\"\n",
       "                            )\n",
       "                            return true;}\n",
       "                        });\n",
       "                    }"
      ],
      "text/plain": [
       "<IPython.core.display.Javascript object>"
      ]
     },
     "metadata": {},
     "output_type": "display_data"
    },
    {
     "name": "stdout",
     "output_type": "stream",
     "text": [
      "Starting sclang process...\n"
     ]
    },
    {
     "name": "stdout",
     "output_type": "stream",
     "text": [
      "Done.\n",
      "Registering OSC /return callback in sclang...\n",
      "Done.\n",
      "Loading default SynthDescs\n",
      "Done.\n",
      "Booting SuperCollider Server...\n"
     ]
    },
    {
     "name": "stdout",
     "output_type": "stream",
     "text": [
      "Done.\n"
     ]
    }
   ],
   "source": [
    "sc = scn.startup()"
   ]
  },
  {
   "cell_type": "code",
   "execution_count": 3,
   "metadata": {
    "execution": {
     "iopub.execute_input": "2021-06-10T16:17:58.022591Z",
     "iopub.status.busy": "2021-06-10T16:17:58.022591Z",
     "iopub.status.idle": "2021-06-10T16:17:58.023592Z",
     "shell.execute_reply": "2021-06-10T16:17:58.023592Z"
    }
   },
   "outputs": [],
   "source": [
    "queue = scn.TimedQueue()"
   ]
  },
  {
   "cell_type": "code",
   "execution_count": 4,
   "metadata": {
    "execution": {
     "iopub.execute_input": "2021-06-10T16:17:58.027591Z",
     "iopub.status.busy": "2021-06-10T16:17:58.026590Z",
     "iopub.status.idle": "2021-06-10T16:17:58.028590Z",
     "shell.execute_reply": "2021-06-10T16:17:58.028590Z"
    }
   },
   "outputs": [],
   "source": [
    "def myfun(x):\n",
    "    os.write(1, \"{}\\n\".format(x).encode())\n",
    "    sys.stderr.flush()\n",
    "    \n",
    "def myblip(freq):\n",
    "    sc.server.msg(\"/s_new\", [\"s1\", -1, 1, 0, \"freq\", freq, \"num\", 3])"
   ]
  },
  {
   "cell_type": "code",
   "execution_count": 5,
   "metadata": {
    "execution": {
     "iopub.execute_input": "2021-06-10T16:17:58.031591Z",
     "iopub.status.busy": "2021-06-10T16:17:58.030590Z",
     "iopub.status.idle": "2021-06-10T16:17:58.032590Z",
     "shell.execute_reply": "2021-06-10T16:17:58.032590Z"
    }
   },
   "outputs": [],
   "source": [
    "myfun(4)"
   ]
  },
  {
   "cell_type": "code",
   "execution_count": 6,
   "metadata": {
    "execution": {
     "iopub.execute_input": "2021-06-10T16:17:58.035596Z",
     "iopub.status.busy": "2021-06-10T16:17:58.034595Z",
     "iopub.status.idle": "2021-06-10T16:17:58.036598Z",
     "shell.execute_reply": "2021-06-10T16:17:58.036598Z"
    }
   },
   "outputs": [],
   "source": [
    "myblip(700)"
   ]
  },
  {
   "cell_type": "code",
   "execution_count": 7,
   "metadata": {
    "execution": {
     "iopub.execute_input": "2021-06-10T16:17:58.044592Z",
     "iopub.status.busy": "2021-06-10T16:17:58.041592Z",
     "iopub.status.idle": "2021-06-10T16:17:58.048591Z",
     "shell.execute_reply": "2021-06-10T16:17:58.048591Z"
    }
   },
   "outputs": [
    {
     "name": "stdout",
     "output_type": "stream",
     "text": [
      "0.0060002803802490234\n"
     ]
    }
   ],
   "source": [
    "t0 = time.time()\n",
    "for i in range(50):\n",
    "    queue.put(t0+i*0.04, myblip, 800+1*7*i)\n",
    "    queue.put(t0+i*0.04, myfun,  400+30*i)  # plots on stderr = console\n",
    "print(time.time()-t0)"
   ]
  },
  {
   "cell_type": "code",
   "execution_count": 8,
   "metadata": {
    "execution": {
     "iopub.execute_input": "2021-06-10T16:17:58.051591Z",
     "iopub.status.busy": "2021-06-10T16:17:58.051591Z",
     "iopub.status.idle": "2021-06-10T16:17:58.054590Z",
     "shell.execute_reply": "2021-06-10T16:17:58.054590Z"
    }
   },
   "outputs": [],
   "source": [
    "queue.close()"
   ]
  },
  {
   "cell_type": "markdown",
   "metadata": {},
   "source": [
    "## TimedQueueSC"
   ]
  },
  {
   "cell_type": "markdown",
   "metadata": {},
   "source": [
    "To allow easy and fast usage of SC messages and bundles `TimedQueueSC` was created\n",
    "* `put_msg(onset, address, params)`<br>allows to send a message from python at onset.\n",
    "\n",
    "\n",
    "* `put_bundler(onset, bundler)`<br>allows to send a bundler from python at onset."
   ]
  },
  {
   "cell_type": "markdown",
   "metadata": {},
   "source": [
    "## TimedQueueSC example with synchronized sound and mpl plot"
   ]
  },
  {
   "cell_type": "markdown",
   "metadata": {},
   "source": [
    "* This example shows how to highlight data points as they are played.\n",
    "* However, the marking is reset for every new data point, i.e. data points are not highlighted as long as the corresponding sound lasts\n",
    "* to achieve that, see code example below\n",
    "\n",
    "**Note that there are sometimes some strange effects with matplotlib event loop hickups in Mac, it is untested with Linux or Windows, any problem reports or suggested solutions are welcome.**"
   ]
  },
  {
   "cell_type": "code",
   "execution_count": 9,
   "metadata": {
    "execution": {
     "iopub.execute_input": "2021-06-10T16:17:58.057590Z",
     "iopub.status.busy": "2021-06-10T16:17:58.057590Z",
     "iopub.status.idle": "2021-06-10T16:17:58.311590Z",
     "shell.execute_reply": "2021-06-10T16:17:58.311590Z"
    }
   },
   "outputs": [],
   "source": [
    "import matplotlib\n",
    "import matplotlib.pyplot as plt\n",
    "%matplotlib qt5"
   ]
  },
  {
   "cell_type": "code",
   "execution_count": 10,
   "metadata": {
    "execution": {
     "iopub.execute_input": "2021-06-10T16:17:58.315590Z",
     "iopub.status.busy": "2021-06-10T16:17:58.314591Z",
     "iopub.status.idle": "2021-06-10T16:17:58.317590Z",
     "shell.execute_reply": "2021-06-10T16:17:58.317590Z"
    }
   },
   "outputs": [],
   "source": [
    "# load data\n",
    "data = np.vstack((np.random.randn(50, 5), np.random.randn(100, 5)+3.5))"
   ]
  },
  {
   "cell_type": "code",
   "execution_count": 11,
   "metadata": {
    "execution": {
     "iopub.execute_input": "2021-06-10T16:17:58.322591Z",
     "iopub.status.busy": "2021-06-10T16:17:58.321592Z",
     "iopub.status.idle": "2021-06-10T16:17:58.479436Z",
     "shell.execute_reply": "2021-06-10T16:17:58.479436Z"
    }
   },
   "outputs": [],
   "source": [
    "# create figure, axis, plots\n",
    "fig, ax = plt.subplots(1)  # create figure\n",
    "mngr = plt.get_current_fig_manager(); mngr.window.setGeometry(1200, 0, 500, 400)\n",
    "pldata, = ax.plot(data[:,1], data[:,2], \".\", ms=5) # create plots\n",
    "plmarked, = ax.plot([], [], \"ro\", ms=5, lw=0.5)\n",
    "plt.show(block=False); plt.ion(); fig.canvas.draw() # not needed if plot shows\n",
    "\n",
    "# create the queue\n",
    "queue = scn.TimedQueueSC()"
   ]
  },
  {
   "cell_type": "code",
   "execution_count": 12,
   "metadata": {
    "execution": {
     "iopub.execute_input": "2021-06-10T16:17:58.484436Z",
     "iopub.status.busy": "2021-06-10T16:17:58.483437Z",
     "iopub.status.idle": "2021-06-10T16:17:58.486435Z",
     "shell.execute_reply": "2021-06-10T16:17:58.487436Z"
    }
   },
   "outputs": [],
   "source": [
    "def update_plot(x, y):\n",
    "    global fig, ax, pldata, plmarked\n",
    "    plmarked.set_data([x], [y])\n",
    "    ax.draw_artist(ax.patch)\n",
    "    ax.draw_artist(pldata)\n",
    "    ax.draw_artist(plmarked)\n",
    "    fig.canvas.update() # additional fig.canvas.flush_events() not needed?"
   ]
  },
  {
   "cell_type": "code",
   "execution_count": 13,
   "metadata": {
    "execution": {
     "iopub.execute_input": "2021-06-10T16:17:58.494187Z",
     "iopub.status.busy": "2021-06-10T16:17:58.494187Z",
     "iopub.status.idle": "2021-06-10T16:17:58.522205Z",
     "shell.execute_reply": "2021-06-10T16:17:58.522205Z"
    }
   },
   "outputs": [
    {
     "name": "stdout",
     "output_type": "stream",
     "text": [
      "time used: 0.02677297592163086\n"
     ]
    }
   ],
   "source": [
    "t0 = time.time()\n",
    "for i, r in enumerate(data):\n",
    "    onset = t0 + scn.linlin(r[1], data[:,1].min(), data[:,1].max(), 0.1, 4) + random.random()*0.2 + 0.2\n",
    "    freq = scn.midicps(scn.linlin(r[2], 2, 5, 60, 80))\n",
    "    pos = scn.linlin(r[4], 0, 2, -1, 1)\n",
    "    queue.put_bundler(onset-0.2, scn.Bundler(onset, \"/s_new\", [\"s1\", -1, 1, 0, \"freq\", freq, \"amp\", 0.05, \"dur\", .52, \"pos\", pos]))\n",
    "    queue.put(onset, update_plot, (r[1], r[2]), spawn=False)\n",
    "print(f'time used: {time.time() - t0}')"
   ]
  },
  {
   "cell_type": "markdown",
   "metadata": {},
   "source": [
    "## TimedQueueSC PMSon with matplotlib highlights"
   ]
  },
  {
   "cell_type": "markdown",
   "metadata": {},
   "source": [
    "* this example illustrates how to use TimedQueues to maintain a 'currently playing selection' of data points, so that the GUI highlight gets deactivated as the corresponding sound stops\n",
    "* this is achieved by scheduling a select and unselect function invocation at the time stamps where the corresponding sound starts and ends\n",
    "* Note that herre the actual plot update is in a second loop of scheduled 'update_plot' invocations at an independent user controlled frame rate"
   ]
  },
  {
   "cell_type": "code",
   "execution_count": 14,
   "metadata": {
    "execution": {
     "iopub.execute_input": "2021-06-10T16:17:58.525205Z",
     "iopub.status.busy": "2021-06-10T16:17:58.525205Z",
     "iopub.status.idle": "2021-06-10T16:17:58.527205Z",
     "shell.execute_reply": "2021-06-10T16:17:58.527205Z"
    }
   },
   "outputs": [],
   "source": [
    "data = np.vstack((np.random.randn(300, 7), np.random.randn(300, 7)+5))"
   ]
  },
  {
   "cell_type": "code",
   "execution_count": 15,
   "metadata": {
    "execution": {
     "iopub.execute_input": "2021-06-10T16:17:58.531206Z",
     "iopub.status.busy": "2021-06-10T16:17:58.530205Z",
     "iopub.status.idle": "2021-06-10T16:17:58.580903Z",
     "shell.execute_reply": "2021-06-10T16:17:58.580903Z"
    }
   },
   "outputs": [],
   "source": [
    "# create figure\n",
    "fig, ax = plt.subplots(1)  # create figure\n",
    "mngr = plt.get_current_fig_manager(); mngr.window.setGeometry(1200, 0, 500, 400)\n",
    "plt.show()\n",
    "\n",
    "# create the queue\n",
    "queue = scn.TimedQueueSC()"
   ]
  },
  {
   "cell_type": "code",
   "execution_count": 16,
   "metadata": {
    "execution": {
     "iopub.execute_input": "2021-06-10T16:17:58.590542Z",
     "iopub.status.busy": "2021-06-10T16:17:58.590542Z",
     "iopub.status.idle": "2021-06-10T16:17:58.752379Z",
     "shell.execute_reply": "2021-06-10T16:17:58.751378Z"
    }
   },
   "outputs": [
    {
     "name": "stderr",
     "output_type": "stream",
     "text": [
      "C:\\Users\\Dennis\\Anaconda3\\envs\\soni\\lib\\site-packages\\ipykernel_launcher.py:25: DeprecationWarning: `np.bool` is a deprecated alias for the builtin `bool`. To silence this warning, use `bool` by itself. Doing this will not modify any behavior and is safe. If you specifically wanted the numpy scalar type, use `np.bool_` here.\n",
      "Deprecated in NumPy 1.20; for more details and guidance: https://numpy.org/devdocs/release/1.20.0-notes.html#deprecations\n"
     ]
    }
   ],
   "source": [
    "def mapcol(row, stats, col, val_from, val_to):  # helper for mapping\n",
    "    return scn.linlin(row[col], stats[col, 0], stats[col, 1], val_from, val_to)\n",
    "\n",
    "def select(i):  #  highlight selection\n",
    "    selected[i] = True\n",
    "\n",
    "def unselect(i):\n",
    "    selected[i] = False\n",
    "\n",
    "def update_plot(xs, ys): \n",
    "    global fig, ax, pldata, plmarked, selected\n",
    "    plmarked.set_data(xs[selected], ys[selected])\n",
    "    ax.draw_artist(ax.patch)\n",
    "    ax.draw_artist(pldata)\n",
    "    ax.draw_artist(plmarked)\n",
    "    fig.canvas.flush_events()\n",
    "    fig.canvas.update()\n",
    "\n",
    "# parameter mapping sonification with GUI\n",
    "tot_dur = 5  # total duration of the sonification\n",
    "max_ev_dur = 5.5  # maximal event duration\n",
    "delay = 1  # offset\n",
    "\n",
    "stats = np.vstack((np.min(data, 0), np.max(data, 0))).T\n",
    "selected = np.zeros(np.shape(data)[0], np.bool)\n",
    "\n",
    "# create axis, plots\n",
    "ax.clear()\n",
    "plmarked, = ax.plot([], [], \"ro\", ms=4, lw=0.5)\n",
    "pldata, = ax.plot(data[:,1], data[:,2], \".\", ms=2) # create plots\n",
    "\n",
    "t0 = time.time()\n",
    "\n",
    "for i, r in enumerate(data):\n",
    "    onset = t0 + delay + 5* i/800 # mapcol(r, stats, 3, 0, tot_dur)\n",
    "    freq  = scn.midicps( mapcol(r, stats, 2, 60, 90))\n",
    "    ev_dur = mapcol(r, stats, 4, 0.2, max_ev_dur)\n",
    "    # sonification\n",
    "    synth_args = [\"s1\", -1, 1, 0, \"freq\", freq, \"amp\", 0.05, \"dur\", ev_dur, \"pos\", pos]\n",
    "    bundler = scn.Bundler(onset, \"/s_new\", synth_args)\n",
    "    queue.put_bundler(onset-delay, bundler)\n",
    "    # on/off events of marker highlight\n",
    "    queue.put(onset, select, i)\n",
    "    queue.put(onset + ev_dur, unselect, i)\n",
    "\n",
    "# update plot at given rate from earliest to latext time\n",
    "for t in np.arange(t0, t0+delay+tot_dur+ev_dur+1, 1/10):  # 1 / update rate\n",
    "    queue.put(t, update_plot, (data[:,1], data[:,2]))"
   ]
  },
  {
   "cell_type": "markdown",
   "metadata": {},
   "source": [
    "## TimedQueueSC PMSon with timeseries data and matplotlib"
   ]
  },
  {
   "cell_type": "markdown",
   "metadata": {},
   "source": [
    "* The following example illustrates howto create a continuous sonification with concurrent plotting the time in a plot\n",
    "* This presumes time-indexable data\n",
    "* a maximum onset variable is maintained to shutdown the continuously playing synths when done\n",
    "* note that the highlight will only replot the marker, required time is thus independent of the amount of data plotted in the other plot."
   ]
  },
  {
   "cell_type": "code",
   "execution_count": 17,
   "metadata": {
    "execution": {
     "iopub.execute_input": "2021-06-10T16:17:58.756377Z",
     "iopub.status.busy": "2021-06-10T16:17:58.755376Z",
     "iopub.status.idle": "2021-06-10T16:17:58.759377Z",
     "shell.execute_reply": "2021-06-10T16:17:58.759377Z"
    }
   },
   "outputs": [
    {
     "name": "stderr",
     "output_type": "stream",
     "text": [
      "Exception in thread Thread-35:\n",
      "Traceback (most recent call last):\n",
      "  File \"C:\\Users\\Dennis\\Anaconda3\\envs\\soni\\lib\\threading.py\", line 926, in _bootstrap_inner\n",
      "    self.run()\n",
      "  File \"C:\\Users\\Dennis\\Anaconda3\\envs\\soni\\lib\\threading.py\", line 870, in run\n",
      "    self._target(*self._args, **self._kwargs)\n",
      "  File \"c:\\users\\dennis\\dev\\soni\\sc3nb\\src\\sc3nb\\timed_queue.py\", line 208, in __worker\n",
      "    event.execute()\n",
      "  File \"c:\\users\\dennis\\dev\\soni\\sc3nb\\src\\sc3nb\\timed_queue.py\", line 46, in execute\n",
      "    self.function(*self.args)\n",
      "  File \"<ipython-input-1-99c82af2c230>\", line 13, in update_plot\n",
      "    ax.draw_artist(ax.patch)\n",
      "  File \"C:\\Users\\Dennis\\Anaconda3\\envs\\soni\\lib\\site-packages\\matplotlib\\axes\\_base.py\", line 2760, in draw_artist\n",
      "    raise AttributeError(\"draw_artist can only be used after an \"\n",
      "AttributeError: draw_artist can only be used after an initial draw which caches the renderer\n",
      "\n"
     ]
    }
   ],
   "source": [
    "ts = np.arange(0, 20, 0.01)\n",
    "data = np.vstack((ts, \n",
    "                  np.sin(2.5*ts) + 0.01*ts*np.random.randn(np.shape(ts)[0]), \n",
    "                  0.08*ts[::-1]*np.cos(3.5*ts)**2)).T"
   ]
  },
  {
   "cell_type": "code",
   "execution_count": 18,
   "metadata": {
    "execution": {
     "iopub.execute_input": "2021-06-10T16:17:58.768378Z",
     "iopub.status.busy": "2021-06-10T16:17:58.763378Z",
     "iopub.status.idle": "2021-06-10T16:17:58.841347Z",
     "shell.execute_reply": "2021-06-10T16:17:58.842348Z"
    }
   },
   "outputs": [],
   "source": [
    "# create figure\n",
    "fig, ax = plt.subplots(1)  # create figure\n",
    "mngr = plt.get_current_fig_manager(); mngr.window.setGeometry(1200, 0, 500, 400)\n",
    "\n",
    "# create axis, plots\n",
    "ax.clear()\n",
    "plmarked, = ax.plot([], [], \"r-\", lw=1)\n",
    "pldata, = ax.plot(data[:,0], data[:,1], \"-\", ms=2) # create plots\n",
    "pldataR, = ax.plot(data[:,0], data[:,2], \"-\", ms=2) # create plots"
   ]
  },
  {
   "cell_type": "code",
   "execution_count": 19,
   "metadata": {
    "execution": {
     "iopub.execute_input": "2021-06-10T16:17:58.852347Z",
     "iopub.status.busy": "2021-06-10T16:17:58.852347Z",
     "iopub.status.idle": "2021-06-10T16:17:59.148905Z",
     "shell.execute_reply": "2021-06-10T16:17:59.147906Z"
    }
   },
   "outputs": [
    {
     "name": "stderr",
     "output_type": "stream",
     "text": [
      "C:\\Users\\Dennis\\Anaconda3\\envs\\soni\\lib\\site-packages\\ipykernel_launcher.py:18: DeprecationWarning: `np.bool` is a deprecated alias for the builtin `bool`. To silence this warning, use `bool` by itself. Doing this will not modify any behavior and is safe. If you specifically wanted the numpy scalar type, use `np.bool_` here.\n",
      "Deprecated in NumPy 1.20; for more details and guidance: https://numpy.org/devdocs/release/1.20.0-notes.html#deprecations\n",
      "Exception in thread Thread-25:\n",
      "Traceback (most recent call last):\n",
      "  File \"C:\\Users\\Dennis\\Anaconda3\\envs\\soni\\lib\\threading.py\", line 926, in _bootstrap_inner\n",
      "    self.run()\n",
      "  File \"C:\\Users\\Dennis\\Anaconda3\\envs\\soni\\lib\\threading.py\", line 870, in run\n",
      "    self._target(*self._args, **self._kwargs)\n",
      "  File \"c:\\users\\dennis\\dev\\soni\\sc3nb\\src\\sc3nb\\timed_queue.py\", line 208, in __worker\n",
      "    event.execute()\n",
      "  File \"c:\\users\\dennis\\dev\\soni\\sc3nb\\src\\sc3nb\\timed_queue.py\", line 46, in execute\n",
      "    self.function(*self.args)\n",
      "  File \"<ipython-input-1-6ae806878fe3>\", line 4, in update_plot\n",
      "    ax.draw_artist(ax.patch)\n",
      "  File \"C:\\Users\\Dennis\\Anaconda3\\envs\\soni\\lib\\site-packages\\matplotlib\\axes\\_base.py\", line 2760, in draw_artist\n",
      "    raise AttributeError(\"draw_artist can only be used after an \"\n",
      "AttributeError: draw_artist can only be used after an initial draw which caches the renderer\n",
      "\n"
     ]
    },
    {
     "name": "stdout",
     "output_type": "stream",
     "text": [
      "0.29155945777893066\n"
     ]
    }
   ],
   "source": [
    "# create the queue\n",
    "queue = scn.TimedQueueSC()\n",
    "\n",
    "def mapcol(row, stats, col, val_from, val_to):  # helper for mapping\n",
    "    return scn.linlin(row[col], stats[col, 0], stats[col, 1], val_from, val_to)\n",
    "\n",
    "def update_plot(t): \n",
    "    global fig, ax, pldata, plmarked, selected\n",
    "    plmarked.set_data([t,t], [-10000, 10000])\n",
    "    ax.draw_artist(ax.patch)\n",
    "    ax.draw_artist(pldata)\n",
    "    ax.draw_artist(pldataR)\n",
    "    ax.draw_artist(plmarked)\n",
    "    fig.canvas.update()\n",
    "    # fig.canvas.flush_events()\n",
    "\n",
    "stats = np.vstack((np.min(data, 0), np.max(data, 0))).T\n",
    "selected = np.zeros(np.shape(data)[0], np.bool)\n",
    "\n",
    "# parameter mapping sonification with GUI\n",
    "delay = 0.5\n",
    "rate = 2\n",
    "\n",
    "t0 = time.time()\n",
    "queue.put_msg(t0, \"/s_new\", [\"s2\", 1200, 1, 0, \"amp\", 0])\n",
    "queue.put_msg(t0, \"/s_new\", [\"s2\", 1201, 1, 0, \"amp\", 0])\n",
    "\n",
    "max_onset = 0\n",
    "latest_gui_onset = 0\n",
    "gui_frame_rate = 60\n",
    "\n",
    "ts = []\n",
    "for i, r in enumerate(data[::2, :]):\n",
    "    ts.append(time.time()-t0)\n",
    "    if i==0: tmin = r[0]\n",
    "    onset = (r[0]-tmin)/rate\n",
    "    freq  = scn.midicps( mapcol(r, stats, 1, 60, 70))\n",
    "    freqR = 0.5 * scn.midicps( mapcol(r, stats, 2, 70, 80))\n",
    "\n",
    "    # sonification\n",
    "    tt = t0 + delay + onset\n",
    "    if tt > max_onset: max_onset = tt\n",
    "    bundler = scn.Bundler(tt)\n",
    "    bundler.add(0, \"/n_set\", [1200, \"freq\", freq, \"num\", 4, \"amp\", 0.2, \"pan\", -1, \"lg\", 0])\n",
    "    bundler.add(0, \"/n_set\", [1201, \"freq\", freqR, \"num\", 1, \"amp\", 0.1, \"pan\", 1])\n",
    "    queue.put_bundler(tt-0.2, bundler)\n",
    "    if tt > latest_gui_onset + 1/gui_frame_rate:  # not more than needed gui updates\n",
    "        latest_gui_onset = tt\n",
    "        queue.put(tt, update_plot, (r[0],), spawn=False)\n",
    "queue.put_msg(max_onset, \"/n_free\", [1200])\n",
    "queue.put_msg(max_onset, \"/n_free\", [1201])\n",
    "              \n",
    "# queue.join()\n",
    "print(time.time()-t0)"
   ]
  },
  {
   "cell_type": "code",
   "execution_count": 20,
   "metadata": {
    "execution": {
     "iopub.execute_input": "2021-06-10T16:17:59.153911Z",
     "iopub.status.busy": "2021-06-10T16:17:59.152910Z",
     "iopub.status.idle": "2021-06-10T16:17:59.155911Z",
     "shell.execute_reply": "2021-06-10T16:17:59.155911Z"
    }
   },
   "outputs": [],
   "source": [
    "sc.server.bundler(0, \"/s_new\", [\"s2\", 1200, 1, 0, \"amp\", 0.04]).send()\n",
    "sc.server.bundler(0.2, \"/n_set\", [1200, \"freq\", 200, \"num\", 1, \"amp\", 0.2, \"pan\", 0]).send()\n",
    "sc.server.bundler(0.4, \"/n_free\", 1200).send()"
   ]
  },
  {
   "cell_type": "code",
   "execution_count": 21,
   "metadata": {
    "execution": {
     "iopub.execute_input": "2021-06-10T16:17:59.159908Z",
     "iopub.status.busy": "2021-06-10T16:17:59.159908Z",
     "iopub.status.idle": "2021-06-10T16:18:00.372492Z",
     "shell.execute_reply": "2021-06-10T16:18:00.372492Z"
    }
   },
   "outputs": [
    {
     "name": "stderr",
     "output_type": "stream",
     "text": [
      "Exception in thread Thread-36:\n",
      "Traceback (most recent call last):\n",
      "  File \"C:\\Users\\Dennis\\Anaconda3\\envs\\soni\\lib\\threading.py\", line 926, in _bootstrap_inner\n",
      "    self.run()\n",
      "  File \"C:\\Users\\Dennis\\Anaconda3\\envs\\soni\\lib\\threading.py\", line 870, in run\n",
      "    self._target(*self._args, **self._kwargs)\n",
      "  File \"c:\\users\\dennis\\dev\\soni\\sc3nb\\src\\sc3nb\\timed_queue.py\", line 208, in __worker\n",
      "    event.execute()\n",
      "  File \"c:\\users\\dennis\\dev\\soni\\sc3nb\\src\\sc3nb\\timed_queue.py\", line 46, in execute\n",
      "    self.function(*self.args)\n",
      "  File \"c:\\users\\dennis\\dev\\soni\\sc3nb\\src\\sc3nb\\osc\\osc_communication.py\", line 307, in send\n",
      "    server.send(self, receiver=receiver, bundle=bundle)\n",
      "  File \"c:\\users\\dennis\\dev\\soni\\sc3nb\\src\\sc3nb\\osc\\osc_communication.py\", line 884, in send\n",
      "    sent_bytes = self._osc_server.socket.sendto(package.dgram, receiver_address)\n",
      "OSError: [WinError 10038] An operation was attempted on something that is not a socket\n",
      "\n"
     ]
    }
   ],
   "source": [
    "sc.exit()"
   ]
  },
  {
   "cell_type": "code",
   "execution_count": null,
   "metadata": {},
   "outputs": [],
   "source": []
  }
 ],
 "metadata": {
  "language_info": {
   "codemirror_mode": {
    "name": "ipython",
    "version": 3
   },
   "file_extension": ".py",
   "mimetype": "text/x-python",
   "name": "python",
   "nbconvert_exporter": "python",
   "pygments_lexer": "ipython3",
   "version": "3.7.10"
  }
 },
 "nbformat": 4,
 "nbformat_minor": 4
}
