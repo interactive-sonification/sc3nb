{
 "cells": [
  {
   "cell_type": "code",
   "execution_count": 1,
   "metadata": {
    "execution": {
     "iopub.execute_input": "2021-07-19T13:36:16.915335Z",
     "iopub.status.busy": "2021-07-19T13:36:16.914345Z",
     "iopub.status.idle": "2021-07-19T13:36:17.078778Z",
     "shell.execute_reply": "2021-07-19T13:36:17.078778Z"
    }
   },
   "outputs": [],
   "source": [
    "import time\n",
    "\n",
    "import sc3nb as scn\n",
    "from sc3nb import Synth"
   ]
  },
  {
   "cell_type": "code",
   "execution_count": 2,
   "metadata": {
    "execution": {
     "iopub.execute_input": "2021-07-19T13:36:17.087778Z",
     "iopub.status.busy": "2021-07-19T13:36:17.087778Z",
     "iopub.status.idle": "2021-07-19T13:36:20.064157Z",
     "shell.execute_reply": "2021-07-19T13:36:20.063158Z"
    }
   },
   "outputs": [
    {
     "data": {
      "application/javascript": [
       "if (typeof Jupyter !== 'undefined') {\n",
       "                        Jupyter.keyboard_manager.command_shortcuts.add_shortcut(\n",
       "                        'Ctrl-.', {\n",
       "                        help : 'Free all nodes on SC server',\n",
       "                        help_index : 'zz',\n",
       "                        handler : function (event) {\n",
       "                            IPython.notebook.kernel.execute(\n",
       "                                \"import sc3nb; sc3nb.SC.get_default().server.free_all(root=True)\"\n",
       "                            )\n",
       "                            return true;}\n",
       "                        });\n",
       "                    }"
      ],
      "text/plain": [
       "<IPython.core.display.Javascript object>"
      ]
     },
     "metadata": {},
     "output_type": "display_data"
    },
    {
     "name": "stdout",
     "output_type": "stream",
     "text": [
      "Starting sclang process... "
     ]
    },
    {
     "name": "stdout",
     "output_type": "stream",
     "text": [
      "Done.\n",
      "Registering OSC /return callback in sclang... Done.\n",
      "Loading default sc3nb SynthDefs... Done.\n",
      "Booting SuperCollider Server... "
     ]
    },
    {
     "name": "stdout",
     "output_type": "stream",
     "text": [
      "Done.\n"
     ]
    }
   ],
   "source": [
    "sc = scn.startup(with_blip=False)"
   ]
  },
  {
   "cell_type": "markdown",
   "metadata": {},
   "source": [
    "# Nodes (Synth and Group)\n",
    "\n",
    "One of the most important objects in SuperCollider are Nodes."
   ]
  },
  {
   "cell_type": "markdown",
   "metadata": {},
   "source": [
    "To see all Nodes on the Server use"
   ]
  },
  {
   "cell_type": "code",
   "execution_count": 3,
   "metadata": {
    "execution": {
     "iopub.execute_input": "2021-07-19T13:36:20.067157Z",
     "iopub.status.busy": "2021-07-19T13:36:20.066158Z",
     "iopub.status.idle": "2021-07-19T13:36:20.089164Z",
     "shell.execute_reply": "2021-07-19T13:36:20.089164Z"
    }
   },
   "outputs": [
    {
     "name": "stdout",
     "output_type": "stream",
     "text": [
      "NODE TREE Group 0\n",
      "   469762049 group\n",
      "   402653185 group\n",
      "   335544321 group\n",
      "   268435457 group\n",
      "   201326593 group\n",
      "   134217729 group\n",
      "   67108865 group\n",
      "   1 group\n"
     ]
    }
   ],
   "source": [
    "sc.server.dump_tree()"
   ]
  },
  {
   "cell_type": "markdown",
   "metadata": {},
   "source": [
    "You can also get a Python object represenation of the current server state via."
   ]
  },
  {
   "cell_type": "code",
   "execution_count": 4,
   "metadata": {
    "execution": {
     "iopub.execute_input": "2021-07-19T13:36:20.093156Z",
     "iopub.status.busy": "2021-07-19T13:36:20.092158Z",
     "iopub.status.idle": "2021-07-19T13:36:20.116157Z",
     "shell.execute_reply": "2021-07-19T13:36:20.116157Z"
    }
   },
   "outputs": [
    {
     "data": {
      "text/plain": [
       "Group(0)  {} children=[\n",
       "  Group(469762049) s {} children=[],\n",
       "  Group(402653185) s {} children=[],\n",
       "  Group(335544321) s {} children=[],\n",
       "  Group(268435457) s {} children=[],\n",
       "  Group(201326593) s {} children=[],\n",
       "  Group(134217729) s {} children=[],\n",
       "  Group(67108865) s {} children=[],\n",
       "  Group(1) s {} children=[]]"
      ]
     },
     "execution_count": 4,
     "metadata": {},
     "output_type": "execute_result"
    }
   ],
   "source": [
    "root_node = sc.server.query_tree()\n",
    "root_node"
   ]
  },
  {
   "cell_type": "markdown",
   "metadata": {},
   "source": [
    "Note that this will send a `/g_queryTree` command and parse the `/g_queryTree.reply` response of the server. The resulting Group representation will currently not be updated unless you use `query_tree` again."
   ]
  },
  {
   "cell_type": "code",
   "execution_count": 5,
   "metadata": {
    "execution": {
     "iopub.execute_input": "2021-07-19T13:36:20.120156Z",
     "iopub.status.busy": "2021-07-19T13:36:20.119158Z",
     "iopub.status.idle": "2021-07-19T13:36:20.122157Z",
     "shell.execute_reply": "2021-07-19T13:36:20.122157Z"
    }
   },
   "outputs": [
    {
     "data": {
      "text/plain": [
       "Group(1) s {} children=[]"
      ]
     },
     "execution_count": 5,
     "metadata": {},
     "output_type": "execute_result"
    }
   ],
   "source": [
    "root_node.children[-1]"
   ]
  },
  {
   "cell_type": "markdown",
   "metadata": {},
   "source": [
    "A node is either a [Synth](#Synth) or a [Group](#Group) of nodes"
   ]
  },
  {
   "cell_type": "markdown",
   "metadata": {},
   "source": [
    "## Synth"
   ]
  },
  {
   "cell_type": "markdown",
   "metadata": {},
   "source": [
    "### Create and control a Synth"
   ]
  },
  {
   "cell_type": "markdown",
   "metadata": {},
   "source": [
    "Create a new Synth"
   ]
  },
  {
   "cell_type": "code",
   "execution_count": 6,
   "metadata": {
    "execution": {
     "iopub.execute_input": "2021-07-19T13:36:20.125160Z",
     "iopub.status.busy": "2021-07-19T13:36:20.125160Z",
     "iopub.status.idle": "2021-07-19T13:36:20.140157Z",
     "shell.execute_reply": "2021-07-19T13:36:20.140157Z"
    }
   },
   "outputs": [
    {
     "data": {
      "text/plain": [
       "<Synth(20001) 's2' s {'freq': 100}>"
      ]
     },
     "execution_count": 6,
     "metadata": {},
     "output_type": "execute_result"
    }
   ],
   "source": [
    "synth = Synth(name=\"s2\", controls={\"freq\": 100})\n",
    "synth"
   ]
  },
  {
   "cell_type": "markdown",
   "metadata": {},
   "source": [
    "You can now hear the Synth playing and see it in the NodeTree"
   ]
  },
  {
   "cell_type": "code",
   "execution_count": 7,
   "metadata": {
    "execution": {
     "iopub.execute_input": "2021-07-19T13:36:20.144157Z",
     "iopub.status.busy": "2021-07-19T13:36:20.143159Z",
     "iopub.status.idle": "2021-07-19T13:36:20.147157Z",
     "shell.execute_reply": "2021-07-19T13:36:20.147157Z"
    }
   },
   "outputs": [
    {
     "data": {
      "text/plain": [
       "Group(67108865) s {} children=[]"
      ]
     },
     "execution_count": 7,
     "metadata": {},
     "output_type": "execute_result"
    }
   ],
   "source": [
    "sc.server.default_group"
   ]
  },
  {
   "cell_type": "code",
   "execution_count": 8,
   "metadata": {
    "execution": {
     "iopub.execute_input": "2021-07-19T13:36:20.150157Z",
     "iopub.status.busy": "2021-07-19T13:36:20.150157Z",
     "iopub.status.idle": "2021-07-19T13:36:20.156156Z",
     "shell.execute_reply": "2021-07-19T13:36:20.156156Z"
    }
   },
   "outputs": [
    {
     "data": {
      "text/plain": [
       "Group(0)  {} children=[\n",
       "  Group(469762049) s {} children=[],\n",
       "  Group(402653185) s {} children=[],\n",
       "  Group(335544321) s {} children=[],\n",
       "  Group(268435457) s {} children=[],\n",
       "  Group(201326593) s {} children=[],\n",
       "  Group(134217729) s {} children=[],\n",
       "  Group(67108865) s {} children=[\n",
       "    <Synth(20001) 's2' ~ {'freq': 100.0, 'amp': 0.30000001192092896, 'num': 4.0, 'pan': 0.0, 'lg': 0.10000000149011612, 'gate': 1.0}>],\n",
       "  Group(1) s {} children=[]]"
      ]
     },
     "execution_count": 8,
     "metadata": {},
     "output_type": "execute_result"
    }
   ],
   "source": [
    "sc.server.query_tree()"
   ]
  },
  {
   "cell_type": "markdown",
   "metadata": {},
   "source": [
    "Free a synth"
   ]
  },
  {
   "cell_type": "code",
   "execution_count": 9,
   "metadata": {
    "execution": {
     "iopub.execute_input": "2021-07-19T13:36:20.159157Z",
     "iopub.status.busy": "2021-07-19T13:36:20.159157Z",
     "iopub.status.idle": "2021-07-19T13:36:20.163158Z",
     "shell.execute_reply": "2021-07-19T13:36:20.163158Z"
    }
   },
   "outputs": [
    {
     "data": {
      "text/plain": [
       "<Synth(20001) 's2' f {'freq': 100.0, 'amp': 0.30000001192092896, 'num': 4.0, 'pan': 0.0, 'lg': 0.10000000149011612, 'gate': 1.0}>"
      ]
     },
     "execution_count": 9,
     "metadata": {},
     "output_type": "execute_result"
    }
   ],
   "source": [
    "synth.free()"
   ]
  },
  {
   "cell_type": "markdown",
   "metadata": {},
   "source": [
    "Start the synth again"
   ]
  },
  {
   "cell_type": "code",
   "execution_count": 10,
   "metadata": {
    "execution": {
     "iopub.execute_input": "2021-07-19T13:36:20.167157Z",
     "iopub.status.busy": "2021-07-19T13:36:20.166165Z",
     "iopub.status.idle": "2021-07-19T13:36:20.169159Z",
     "shell.execute_reply": "2021-07-19T13:36:20.169159Z"
    }
   },
   "outputs": [
    {
     "data": {
      "text/plain": [
       "<Synth(20001) 's2' s {'freq': 100.0, 'amp': 0.30000001192092896, 'num': 4.0, 'pan': 0.0, 'lg': 0.10000000149011612, 'gate': 1.0}>"
      ]
     },
     "execution_count": 10,
     "metadata": {},
     "output_type": "execute_result"
    }
   ],
   "source": [
    "synth.new()"
   ]
  },
  {
   "cell_type": "code",
   "execution_count": 11,
   "metadata": {
    "execution": {
     "iopub.execute_input": "2021-07-19T13:36:20.173159Z",
     "iopub.status.busy": "2021-07-19T13:36:20.172155Z",
     "iopub.status.idle": "2021-07-19T13:36:20.175158Z",
     "shell.execute_reply": "2021-07-19T13:36:20.175158Z"
    }
   },
   "outputs": [
    {
     "data": {
      "text/plain": [
       "20001"
      ]
     },
     "execution_count": 11,
     "metadata": {},
     "output_type": "execute_result"
    }
   ],
   "source": [
    "synth.nodeid"
   ]
  },
  {
   "cell_type": "markdown",
   "metadata": {},
   "source": [
    "Calling `new` on an already running synth will cause a SuperCollider Server error"
   ]
  },
  {
   "cell_type": "code",
   "execution_count": 12,
   "metadata": {
    "execution": {
     "iopub.execute_input": "2021-07-19T13:36:20.178157Z",
     "iopub.status.busy": "2021-07-19T13:36:20.178157Z",
     "iopub.status.idle": "2021-07-19T13:36:20.680928Z",
     "shell.execute_reply": "2021-07-19T13:36:20.680928Z"
    }
   },
   "outputs": [
    {
     "name": "stderr",
     "output_type": "stream",
     "text": [
      "Error at SCServer('127.0.0.1', 57110) pid=3048 from scsynth: ('/fail', '/s_new', 'duplicate node ID')\n"
     ]
    }
   ],
   "source": [
    "synth.new()\n",
    "time.sleep(0.5)  # wait some time to ensure the audio server has send the /fail OSC message"
   ]
  },
  {
   "cell_type": "markdown",
   "metadata": {},
   "source": [
    "Pause a synth"
   ]
  },
  {
   "cell_type": "code",
   "execution_count": 13,
   "metadata": {
    "execution": {
     "iopub.execute_input": "2021-07-19T13:36:20.684916Z",
     "iopub.status.busy": "2021-07-19T13:36:20.683915Z",
     "iopub.status.idle": "2021-07-19T13:36:20.685914Z",
     "shell.execute_reply": "2021-07-19T13:36:20.685914Z"
    }
   },
   "outputs": [
    {
     "data": {
      "text/plain": [
       "<Synth(20001) 's2' s {'freq': 100.0, 'amp': 0.30000001192092896, 'num': 4.0, 'pan': 0.0, 'lg': 0.10000000149011612, 'gate': 1.0}>"
      ]
     },
     "execution_count": 13,
     "metadata": {},
     "output_type": "execute_result"
    }
   ],
   "source": [
    "synth.run(False)"
   ]
  },
  {
   "cell_type": "code",
   "execution_count": 14,
   "metadata": {
    "execution": {
     "iopub.execute_input": "2021-07-19T13:36:20.688915Z",
     "iopub.status.busy": "2021-07-19T13:36:20.688915Z",
     "iopub.status.idle": "2021-07-19T13:36:20.691042Z",
     "shell.execute_reply": "2021-07-19T13:36:20.691042Z"
    }
   },
   "outputs": [
    {
     "data": {
      "text/plain": [
       "<Synth(20001) 's2' s {'freq': 100.0, 'amp': 0.30000001192092896, 'num': 4.0, 'pan': 0.0, 'lg': 0.10000000149011612, 'gate': 1.0}>"
      ]
     },
     "execution_count": 14,
     "metadata": {},
     "output_type": "execute_result"
    }
   ],
   "source": [
    "synth"
   ]
  },
  {
   "cell_type": "markdown",
   "metadata": {},
   "source": [
    "Run a paused synth"
   ]
  },
  {
   "cell_type": "code",
   "execution_count": 15,
   "metadata": {
    "execution": {
     "iopub.execute_input": "2021-07-19T13:36:20.694033Z",
     "iopub.status.busy": "2021-07-19T13:36:20.693034Z",
     "iopub.status.idle": "2021-07-19T13:36:20.696033Z",
     "shell.execute_reply": "2021-07-19T13:36:20.696033Z"
    }
   },
   "outputs": [
    {
     "data": {
      "text/plain": [
       "<Synth(20001) 's2' s {'freq': 100.0, 'amp': 0.30000001192092896, 'num': 4.0, 'pan': 0.0, 'lg': 0.10000000149011612, 'gate': 1.0}>"
      ]
     },
     "execution_count": 15,
     "metadata": {},
     "output_type": "execute_result"
    }
   ],
   "source": [
    "synth.run() # default flag for run is True"
   ]
  },
  {
   "cell_type": "markdown",
   "metadata": {},
   "source": [
    "You can also wait for a Synth"
   ]
  },
  {
   "cell_type": "code",
   "execution_count": 16,
   "metadata": {
    "execution": {
     "iopub.execute_input": "2021-07-19T13:36:20.699034Z",
     "iopub.status.busy": "2021-07-19T13:36:20.699034Z",
     "iopub.status.idle": "2021-07-19T13:36:22.714071Z",
     "shell.execute_reply": "2021-07-19T13:36:22.714071Z"
    }
   },
   "outputs": [],
   "source": [
    "synth_with_duration = scn.Synth(\"s1\", dict(dur=2))\n",
    "# wait for the Synth to finish playing\n",
    "synth_with_duration.wait()"
   ]
  },
  {
   "cell_type": "markdown",
   "metadata": {},
   "source": [
    "### Set / get Synth parameters"
   ]
  },
  {
   "cell_type": "markdown",
   "metadata": {},
   "source": [
    "Set synth parameters, using any for the following `set` calls\n",
    "\n",
    "    set(key, value, ...)\n",
    "    set(list_of_keys_and_values])\n",
    "    set(dict)"
   ]
  },
  {
   "cell_type": "code",
   "execution_count": 17,
   "metadata": {
    "execution": {
     "iopub.execute_input": "2021-07-19T13:36:22.718072Z",
     "iopub.status.busy": "2021-07-19T13:36:22.717072Z",
     "iopub.status.idle": "2021-07-19T13:36:22.720072Z",
     "shell.execute_reply": "2021-07-19T13:36:22.720072Z"
    }
   },
   "outputs": [
    {
     "data": {
      "text/plain": [
       "<Synth(20001) 's2' s {'freq': 200, 'amp': 0.30000001192092896, 'num': 4.0, 'pan': 0.0, 'lg': 0.10000000149011612, 'gate': 1.0}>"
      ]
     },
     "execution_count": 17,
     "metadata": {},
     "output_type": "execute_result"
    }
   ],
   "source": [
    "synth.set(\"freq\", 200)"
   ]
  },
  {
   "cell_type": "code",
   "execution_count": 18,
   "metadata": {
    "execution": {
     "iopub.execute_input": "2021-07-19T13:36:22.723072Z",
     "iopub.status.busy": "2021-07-19T13:36:22.722081Z",
     "iopub.status.idle": "2021-07-19T13:36:22.726072Z",
     "shell.execute_reply": "2021-07-19T13:36:22.726072Z"
    }
   },
   "outputs": [
    {
     "data": {
      "text/plain": [
       "<Synth(20001) 's2' s {'freq': 30, 'amp': 0.3, 'num': 4.0, 'pan': 0.0, 'lg': 0.10000000149011612, 'gate': 1.0}>"
      ]
     },
     "execution_count": 18,
     "metadata": {},
     "output_type": "execute_result"
    }
   ],
   "source": [
    "synth.set([\"freq\", 30, \"amp\", 0.3])"
   ]
  },
  {
   "cell_type": "code",
   "execution_count": 19,
   "metadata": {
    "execution": {
     "iopub.execute_input": "2021-07-19T13:36:22.729072Z",
     "iopub.status.busy": "2021-07-19T13:36:22.729072Z",
     "iopub.status.idle": "2021-07-19T13:36:22.732072Z",
     "shell.execute_reply": "2021-07-19T13:36:22.732072Z"
    }
   },
   "outputs": [
    {
     "data": {
      "text/plain": [
       "<Synth(20001) 's2' s {'freq': 130, 'amp': 0.1, 'num': 4.0, 'pan': 0.0, 'lg': 0.10000000149011612, 'gate': 1.0}>"
      ]
     },
     "execution_count": 19,
     "metadata": {},
     "output_type": "execute_result"
    }
   ],
   "source": [
    "synth.set({\"freq\": 130, \"amp\": 0.1})"
   ]
  },
  {
   "cell_type": "markdown",
   "metadata": {},
   "source": [
    "The Synth does save its current control arguments in `current_controls`"
   ]
  },
  {
   "cell_type": "code",
   "execution_count": 20,
   "metadata": {
    "execution": {
     "iopub.execute_input": "2021-07-19T13:36:22.735072Z",
     "iopub.status.busy": "2021-07-19T13:36:22.735072Z",
     "iopub.status.idle": "2021-07-19T13:36:22.737071Z",
     "shell.execute_reply": "2021-07-19T13:36:22.737071Z"
    }
   },
   "outputs": [
    {
     "data": {
      "text/plain": [
       "{'freq': 130,\n",
       " 'amp': 0.1,\n",
       " 'num': 4.0,\n",
       " 'pan': 0.0,\n",
       " 'lg': 0.10000000149011612,\n",
       " 'gate': 1.0}"
      ]
     },
     "execution_count": 20,
     "metadata": {},
     "output_type": "execute_result"
    }
   ],
   "source": [
    "synth.current_controls"
   ]
  },
  {
   "cell_type": "markdown",
   "metadata": {},
   "source": [
    "However these are only cached values on the python object. \n",
    "Updating them will only affect the `new` call. See below why this can be useful."
   ]
  },
  {
   "cell_type": "code",
   "execution_count": 21,
   "metadata": {
    "execution": {
     "iopub.execute_input": "2021-07-19T13:36:22.740072Z",
     "iopub.status.busy": "2021-07-19T13:36:22.740072Z",
     "iopub.status.idle": "2021-07-19T13:36:22.742072Z",
     "shell.execute_reply": "2021-07-19T13:36:22.742072Z"
    }
   },
   "outputs": [
    {
     "data": {
      "text/plain": [
       "<Synth(20001) 's2' s {'freq': 440, 'amp': 0.1, 'num': 4.0, 'pan': 0.0, 'lg': 0.10000000149011612, 'gate': 1.0}>"
      ]
     },
     "execution_count": 21,
     "metadata": {},
     "output_type": "execute_result"
    }
   ],
   "source": [
    "synth.current_controls['freq'] = 440\n",
    "synth"
   ]
  },
  {
   "cell_type": "code",
   "execution_count": 22,
   "metadata": {
    "execution": {
     "iopub.execute_input": "2021-07-19T13:36:22.744082Z",
     "iopub.status.busy": "2021-07-19T13:36:22.744082Z",
     "iopub.status.idle": "2021-07-19T13:36:22.748072Z",
     "shell.execute_reply": "2021-07-19T13:36:22.748072Z"
    }
   },
   "outputs": [
    {
     "data": {
      "text/plain": [
       "<Synth(20001) 's2' s {'freq': 440, 'amp': 0.1, 'num': 4.0, 'pan': 0.0, 'lg': 0.10000000149011612, 'gate': 1.0}>"
      ]
     },
     "execution_count": 22,
     "metadata": {},
     "output_type": "execute_result"
    }
   ],
   "source": [
    "synth.free()\n",
    "synth.new() # The new Synth will be created with freq = 440"
   ]
  },
  {
   "cell_type": "markdown",
   "metadata": {},
   "source": [
    "To see what arguments can be set you can look at the `synth_desc`"
   ]
  },
  {
   "cell_type": "code",
   "execution_count": 23,
   "metadata": {
    "execution": {
     "iopub.execute_input": "2021-07-19T13:36:22.751073Z",
     "iopub.status.busy": "2021-07-19T13:36:22.751073Z",
     "iopub.status.idle": "2021-07-19T13:36:22.754071Z",
     "shell.execute_reply": "2021-07-19T13:36:22.754071Z"
    }
   },
   "outputs": [
    {
     "data": {
      "text/plain": [
       "{'freq': SynthArgument(name='freq', rate='control', default=400.0),\n",
       " 'amp': SynthArgument(name='amp', rate='control', default=0.30000001192092896),\n",
       " 'num': SynthArgument(name='num', rate='control', default=4.0),\n",
       " 'pan': SynthArgument(name='pan', rate='control', default=0.0),\n",
       " 'lg': SynthArgument(name='lg', rate='control', default=0.10000000149011612),\n",
       " 'gate': SynthArgument(name='gate', rate='control', default=1.0)}"
      ]
     },
     "execution_count": 23,
     "metadata": {},
     "output_type": "execute_result"
    }
   ],
   "source": [
    "synth.synth_desc"
   ]
  },
  {
   "cell_type": "markdown",
   "metadata": {},
   "source": [
    "You can use ``get`` to see the current value. This will request the current value from the SuperCollider audio server"
   ]
  },
  {
   "cell_type": "code",
   "execution_count": 24,
   "metadata": {
    "execution": {
     "iopub.execute_input": "2021-07-19T13:36:22.757071Z",
     "iopub.status.busy": "2021-07-19T13:36:22.756072Z",
     "iopub.status.idle": "2021-07-19T13:36:22.765233Z",
     "shell.execute_reply": "2021-07-19T13:36:22.765233Z"
    }
   },
   "outputs": [
    {
     "data": {
      "text/plain": [
       "440.0"
      ]
     },
     "execution_count": 24,
     "metadata": {},
     "output_type": "execute_result"
    }
   ],
   "source": [
    "synth.get(\"freq\")"
   ]
  },
  {
   "cell_type": "code",
   "execution_count": 25,
   "metadata": {
    "execution": {
     "iopub.execute_input": "2021-07-19T13:36:22.768232Z",
     "iopub.status.busy": "2021-07-19T13:36:22.767231Z",
     "iopub.status.idle": "2021-07-19T13:36:22.774372Z",
     "shell.execute_reply": "2021-07-19T13:36:22.774372Z"
    }
   },
   "outputs": [
    {
     "data": {
      "text/plain": [
       "0.0"
      ]
     },
     "execution_count": 25,
     "metadata": {},
     "output_type": "execute_result"
    }
   ],
   "source": [
    "synth.get(\"pan\")"
   ]
  },
  {
   "cell_type": "markdown",
   "metadata": {},
   "source": [
    "This will also update the cached values in `current_args`"
   ]
  },
  {
   "cell_type": "code",
   "execution_count": 26,
   "metadata": {
    "execution": {
     "iopub.execute_input": "2021-07-19T13:36:22.777372Z",
     "iopub.status.busy": "2021-07-19T13:36:22.777372Z",
     "iopub.status.idle": "2021-07-19T13:36:22.780371Z",
     "shell.execute_reply": "2021-07-19T13:36:22.780371Z"
    }
   },
   "outputs": [
    {
     "data": {
      "text/plain": [
       "<Synth(20001) 's2' ~ {'freq': 440.0, 'amp': 0.1, 'num': 4.0, 'pan': 0.0, 'lg': 0.10000000149011612, 'gate': 1.0}>"
      ]
     },
     "execution_count": 26,
     "metadata": {},
     "output_type": "execute_result"
    }
   ],
   "source": [
    "synth"
   ]
  },
  {
   "cell_type": "markdown",
   "metadata": {},
   "source": [
    "This is also possible directly with"
   ]
  },
  {
   "cell_type": "code",
   "execution_count": 27,
   "metadata": {
    "execution": {
     "iopub.execute_input": "2021-07-19T13:36:22.782371Z",
     "iopub.status.busy": "2021-07-19T13:36:22.782371Z",
     "iopub.status.idle": "2021-07-19T13:36:22.794372Z",
     "shell.execute_reply": "2021-07-19T13:36:22.794372Z"
    }
   },
   "outputs": [
    {
     "data": {
      "text/plain": [
       "0.0"
      ]
     },
     "execution_count": 27,
     "metadata": {},
     "output_type": "execute_result"
    }
   ],
   "source": [
    "synth.pan"
   ]
  },
  {
   "cell_type": "markdown",
   "metadata": {},
   "source": [
    "Which can also be used for setting the argument"
   ]
  },
  {
   "cell_type": "code",
   "execution_count": 28,
   "metadata": {
    "execution": {
     "iopub.execute_input": "2021-07-19T13:36:22.797372Z",
     "iopub.status.busy": "2021-07-19T13:36:22.796370Z",
     "iopub.status.idle": "2021-07-19T13:36:22.798372Z",
     "shell.execute_reply": "2021-07-19T13:36:22.798372Z"
    }
   },
   "outputs": [],
   "source": [
    "synth.pan = -1 "
   ]
  },
  {
   "cell_type": "markdown",
   "metadata": {},
   "source": [
    "You can also query information about the Synth. Look at [Group](#Group) for more information about these values"
   ]
  },
  {
   "cell_type": "code",
   "execution_count": 29,
   "metadata": {
    "execution": {
     "iopub.execute_input": "2021-07-19T13:36:22.800373Z",
     "iopub.status.busy": "2021-07-19T13:36:22.800373Z",
     "iopub.status.idle": "2021-07-19T13:36:22.804388Z",
     "shell.execute_reply": "2021-07-19T13:36:22.804388Z"
    }
   },
   "outputs": [
    {
     "data": {
      "text/plain": [
       "SynthInfo(nodeid=20001, group=67108865, prev_nodeid=-1, next_nodeid=-1)"
      ]
     },
     "execution_count": 29,
     "metadata": {},
     "output_type": "execute_result"
    }
   ],
   "source": [
    "synth.query()"
   ]
  },
  {
   "cell_type": "code",
   "execution_count": 30,
   "metadata": {
    "execution": {
     "iopub.execute_input": "2021-07-19T13:36:22.807387Z",
     "iopub.status.busy": "2021-07-19T13:36:22.807387Z",
     "iopub.status.idle": "2021-07-19T13:36:22.810388Z",
     "shell.execute_reply": "2021-07-19T13:36:22.810388Z"
    }
   },
   "outputs": [
    {
     "data": {
      "text/plain": [
       "<Synth(20001) 's2' f {'freq': 440.0, 'amp': 0.1, 'num': 4.0, 'pan': -1, 'lg': 0.10000000149011612, 'gate': 1.0}>"
      ]
     },
     "execution_count": 30,
     "metadata": {},
     "output_type": "execute_result"
    }
   ],
   "source": [
    "synth.free()"
   ]
  },
  {
   "cell_type": "markdown",
   "metadata": {},
   "source": [
    "Keep in mind that getting a synth value is always querying the server.\n",
    "\n",
    "This means we need to receive a message which cant be done using the Bundler.\n",
    "If you want to use relative values in a Bundler you should use the cached values from `current_args`"
   ]
  },
  {
   "cell_type": "code",
   "execution_count": 31,
   "metadata": {
    "execution": {
     "iopub.execute_input": "2021-07-19T13:36:22.822387Z",
     "iopub.status.busy": "2021-07-19T13:36:22.821387Z",
     "iopub.status.idle": "2021-07-19T13:36:22.823388Z",
     "shell.execute_reply": "2021-07-19T13:36:22.823388Z"
    }
   },
   "outputs": [],
   "source": [
    "with sc.server.bundler() as bundle:\n",
    "    synth.new({\"freq\": 600})\n",
    "    for _ in range(100):\n",
    "        synth.set(['freq', synth.current_controls['freq'] * 0.99])\n",
    "        bundle.wait(0.05)\n",
    "    synth.free()"
   ]
  },
  {
   "cell_type": "code",
   "execution_count": 32,
   "metadata": {
    "execution": {
     "iopub.execute_input": "2021-07-19T13:36:22.825387Z",
     "iopub.status.busy": "2021-07-19T13:36:22.825387Z",
     "iopub.status.idle": "2021-07-19T13:36:27.802877Z",
     "shell.execute_reply": "2021-07-19T13:36:27.802877Z"
    }
   },
   "outputs": [],
   "source": [
    "synth.wait() # wait for synth"
   ]
  },
  {
   "cell_type": "markdown",
   "metadata": {},
   "source": [
    "Some methods also allow getting the OSC Message instead of sending"
   ]
  },
  {
   "cell_type": "code",
   "execution_count": 33,
   "metadata": {
    "execution": {
     "iopub.execute_input": "2021-07-19T13:36:27.806866Z",
     "iopub.status.busy": "2021-07-19T13:36:27.806866Z",
     "iopub.status.idle": "2021-07-19T13:36:27.808877Z",
     "shell.execute_reply": "2021-07-19T13:36:27.808877Z"
    }
   },
   "outputs": [
    {
     "data": {
      "text/plain": [
       "<OSCMessage(\"/s_new\", ['s2', 20001, 0, 67108865, 'freq', 219.61940002441406, 'amp', 0.10000000149011612, 'num', 4.0, 'pan', -1, 'lg', 0.10000000149011612, 'gate', 1.0])>"
      ]
     },
     "execution_count": 33,
     "metadata": {},
     "output_type": "execute_result"
    }
   ],
   "source": [
    "synth.new(return_msg=True)"
   ]
  },
  {
   "cell_type": "markdown",
   "metadata": {},
   "source": [
    "Refer to the [OSC communication example notebook](../osc-communication-examples.ipynb) if you want to learn more about messages and bundles."
   ]
  },
  {
   "cell_type": "markdown",
   "metadata": {},
   "source": [
    "## Group\n",
    "\n",
    "Nodes can be grouped and controlled together. This gives you mutliple advantages like\n",
    "\n",
    "* controlling multiple Synth together\n",
    "* specifying the execution order of the nodes. For more details look at [Order of nodes](#Order-of-Nodes)"
   ]
  },
  {
   "cell_type": "markdown",
   "metadata": {},
   "source": [
    "The SuperCollider audio server scsynth does have one root Group with the Node ID 0.\n",
    "\n",
    "In this root group each user got an default group were all the Nodes of the user (Synths and Groups) should be located"
   ]
  },
  {
   "cell_type": "code",
   "execution_count": 34,
   "metadata": {
    "execution": {
     "iopub.execute_input": "2021-07-19T13:36:27.811868Z",
     "iopub.status.busy": "2021-07-19T13:36:27.810868Z",
     "iopub.status.idle": "2021-07-19T13:36:27.834850Z",
     "shell.execute_reply": "2021-07-19T13:36:27.834850Z"
    }
   },
   "outputs": [
    {
     "data": {
      "text/plain": [
       "Group(0)  {} children=[\n",
       "  Group(469762049) ~ {} children=[],\n",
       "  Group(402653185) ~ {} children=[],\n",
       "  Group(335544321) ~ {} children=[],\n",
       "  Group(268435457) ~ {} children=[],\n",
       "  Group(201326593) ~ {} children=[],\n",
       "  Group(134217729) ~ {} children=[],\n",
       "  Group(67108865) ~ {} children=[],\n",
       "  Group(1) ~ {} children=[]]"
      ]
     },
     "execution_count": 34,
     "metadata": {},
     "output_type": "execute_result"
    }
   ],
   "source": [
    "sc.server.query_tree()"
   ]
  },
  {
   "cell_type": "markdown",
   "metadata": {},
   "source": [
    "We have the following default Group"
   ]
  },
  {
   "cell_type": "code",
   "execution_count": 35,
   "metadata": {
    "execution": {
     "iopub.execute_input": "2021-07-19T13:36:27.837850Z",
     "iopub.status.busy": "2021-07-19T13:36:27.837850Z",
     "iopub.status.idle": "2021-07-19T13:36:27.840851Z",
     "shell.execute_reply": "2021-07-19T13:36:27.840851Z"
    }
   },
   "outputs": [
    {
     "data": {
      "text/plain": [
       "Group(67108865) ~ {} children=[]"
      ]
     },
     "execution_count": 35,
     "metadata": {},
     "output_type": "execute_result"
    }
   ],
   "source": [
    "sc.server.default_group"
   ]
  },
  {
   "cell_type": "markdown",
   "metadata": {},
   "source": [
    "### Creating Groups"
   ]
  },
  {
   "cell_type": "code",
   "execution_count": 36,
   "metadata": {
    "execution": {
     "iopub.execute_input": "2021-07-19T13:36:27.844850Z",
     "iopub.status.busy": "2021-07-19T13:36:27.843851Z",
     "iopub.status.idle": "2021-07-19T13:36:27.846851Z",
     "shell.execute_reply": "2021-07-19T13:36:27.846851Z"
    }
   },
   "outputs": [
    {
     "data": {
      "text/plain": [
       "Group(20003) s {} children=[]"
      ]
     },
     "execution_count": 36,
     "metadata": {},
     "output_type": "execute_result"
    }
   ],
   "source": [
    "g0 = scn.Group()\n",
    "g0"
   ]
  },
  {
   "cell_type": "code",
   "execution_count": 37,
   "metadata": {
    "execution": {
     "iopub.execute_input": "2021-07-19T13:36:27.848851Z",
     "iopub.status.busy": "2021-07-19T13:36:27.848851Z",
     "iopub.status.idle": "2021-07-19T13:36:27.867850Z",
     "shell.execute_reply": "2021-07-19T13:36:27.867850Z"
    }
   },
   "outputs": [
    {
     "name": "stdout",
     "output_type": "stream",
     "text": [
      "NODE TREE Group 0\n",
      "   469762049 group\n",
      "   402653185 group\n",
      "   335544321 group\n",
      "   268435457 group\n",
      "   201326593 group\n",
      "   134217729 group\n",
      "   67108865 group\n",
      "      20003 group\n",
      "   1 group\n"
     ]
    }
   ],
   "source": [
    "sc.server.dump_tree()"
   ]
  },
  {
   "cell_type": "code",
   "execution_count": 38,
   "metadata": {
    "execution": {
     "iopub.execute_input": "2021-07-19T13:36:27.871851Z",
     "iopub.status.busy": "2021-07-19T13:36:27.870851Z",
     "iopub.status.idle": "2021-07-19T13:36:27.874851Z",
     "shell.execute_reply": "2021-07-19T13:36:27.874851Z"
    }
   },
   "outputs": [
    {
     "data": {
      "text/plain": [
       "Group(20003) f {} children=[]"
      ]
     },
     "execution_count": 38,
     "metadata": {},
     "output_type": "execute_result"
    }
   ],
   "source": [
    "g0.free()"
   ]
  },
  {
   "cell_type": "code",
   "execution_count": 39,
   "metadata": {
    "execution": {
     "iopub.execute_input": "2021-07-19T13:36:27.877851Z",
     "iopub.status.busy": "2021-07-19T13:36:27.877851Z",
     "iopub.status.idle": "2021-07-19T13:36:27.895851Z",
     "shell.execute_reply": "2021-07-19T13:36:27.895851Z"
    }
   },
   "outputs": [
    {
     "name": "stdout",
     "output_type": "stream",
     "text": [
      "NODE TREE Group 0\n",
      "   469762049 group\n",
      "   402653185 group\n",
      "   335544321 group\n",
      "   268435457 group\n",
      "   201326593 group\n",
      "   134217729 group\n",
      "   67108865 group\n",
      "   1 group\n"
     ]
    }
   ],
   "source": [
    "sc.server.dump_tree()"
   ]
  },
  {
   "cell_type": "code",
   "execution_count": 40,
   "metadata": {
    "execution": {
     "iopub.execute_input": "2021-07-19T13:36:27.898851Z",
     "iopub.status.busy": "2021-07-19T13:36:27.898851Z",
     "iopub.status.idle": "2021-07-19T13:36:27.901850Z",
     "shell.execute_reply": "2021-07-19T13:36:27.901850Z"
    }
   },
   "outputs": [
    {
     "data": {
      "text/plain": [
       "Group(20003) s {} children=[]"
      ]
     },
     "execution_count": 40,
     "metadata": {},
     "output_type": "execute_result"
    }
   ],
   "source": [
    "g0.new()"
   ]
  },
  {
   "cell_type": "code",
   "execution_count": 41,
   "metadata": {
    "execution": {
     "iopub.execute_input": "2021-07-19T13:36:27.904851Z",
     "iopub.status.busy": "2021-07-19T13:36:27.904851Z",
     "iopub.status.idle": "2021-07-19T13:36:27.915851Z",
     "shell.execute_reply": "2021-07-19T13:36:27.915851Z"
    }
   },
   "outputs": [
    {
     "data": {
      "text/plain": [
       "Group(0)  {} children=[\n",
       "  Group(469762049) ~ {} children=[],\n",
       "  Group(402653185) ~ {} children=[],\n",
       "  Group(335544321) ~ {} children=[],\n",
       "  Group(268435457) ~ {} children=[],\n",
       "  Group(201326593) ~ {} children=[],\n",
       "  Group(134217729) ~ {} children=[],\n",
       "  Group(67108865) ~ {} children=[ Group(20003) ~ {} children=[]],\n",
       "  Group(1) ~ {} children=[]]"
      ]
     },
     "execution_count": 41,
     "metadata": {},
     "output_type": "execute_result"
    }
   ],
   "source": [
    "sc.server.query_tree()"
   ]
  },
  {
   "cell_type": "code",
   "execution_count": 42,
   "metadata": {
    "execution": {
     "iopub.execute_input": "2021-07-19T13:36:27.918850Z",
     "iopub.status.busy": "2021-07-19T13:36:27.918850Z",
     "iopub.status.idle": "2021-07-19T13:36:27.920851Z",
     "shell.execute_reply": "2021-07-19T13:36:27.920851Z"
    }
   },
   "outputs": [
    {
     "data": {
      "text/plain": [
       "Group(67108865) ~ {} children=[ Group(20003) ~ {} children=[]]"
      ]
     },
     "execution_count": 42,
     "metadata": {},
     "output_type": "execute_result"
    }
   ],
   "source": [
    "sc.server.default_group"
   ]
  },
  {
   "cell_type": "markdown",
   "metadata": {},
   "source": [
    "Create a Group in our new Group"
   ]
  },
  {
   "cell_type": "code",
   "execution_count": 43,
   "metadata": {
    "execution": {
     "iopub.execute_input": "2021-07-19T13:36:27.923851Z",
     "iopub.status.busy": "2021-07-19T13:36:27.922851Z",
     "iopub.status.idle": "2021-07-19T13:36:27.926850Z",
     "shell.execute_reply": "2021-07-19T13:36:27.926850Z"
    }
   },
   "outputs": [
    {
     "data": {
      "text/plain": [
       "Group(20004) s {} children=[]"
      ]
     },
     "execution_count": 43,
     "metadata": {},
     "output_type": "execute_result"
    }
   ],
   "source": [
    "g1 = scn.Group(target=g0)\n",
    "g1"
   ]
  },
  {
   "cell_type": "code",
   "execution_count": 44,
   "metadata": {
    "execution": {
     "iopub.execute_input": "2021-07-19T13:36:27.928851Z",
     "iopub.status.busy": "2021-07-19T13:36:27.928851Z",
     "iopub.status.idle": "2021-07-19T13:36:27.935851Z",
     "shell.execute_reply": "2021-07-19T13:36:27.935851Z"
    }
   },
   "outputs": [
    {
     "data": {
      "text/plain": [
       "Group(0)  {} children=[\n",
       "  Group(469762049) ~ {} children=[],\n",
       "  Group(402653185) ~ {} children=[],\n",
       "  Group(335544321) ~ {} children=[],\n",
       "  Group(268435457) ~ {} children=[],\n",
       "  Group(201326593) ~ {} children=[],\n",
       "  Group(134217729) ~ {} children=[],\n",
       "  Group(67108865) ~ {} children=[\n",
       "    Group(20003) ~ {} children=[ Group(20004) ~ {} children=[]]],\n",
       "  Group(1) ~ {} children=[]]"
      ]
     },
     "execution_count": 44,
     "metadata": {},
     "output_type": "execute_result"
    }
   ],
   "source": [
    "sc.server.query_tree()"
   ]
  },
  {
   "cell_type": "markdown",
   "metadata": {},
   "source": [
    "You can get information about you Group via"
   ]
  },
  {
   "cell_type": "code",
   "execution_count": 45,
   "metadata": {
    "execution": {
     "iopub.execute_input": "2021-07-19T13:36:27.938850Z",
     "iopub.status.busy": "2021-07-19T13:36:27.937851Z",
     "iopub.status.idle": "2021-07-19T13:36:27.944866Z",
     "shell.execute_reply": "2021-07-19T13:36:27.944866Z"
    }
   },
   "outputs": [
    {
     "data": {
      "text/plain": [
       "GroupInfo(nodeid=20003, group=67108865, prev_nodeid=-1, next_nodeid=-1, head=20004, tail=20004)"
      ]
     },
     "execution_count": 45,
     "metadata": {},
     "output_type": "execute_result"
    }
   ],
   "source": [
    "g0.query()"
   ]
  },
  {
   "cell_type": "markdown",
   "metadata": {},
   "source": [
    "The query contains the same information as a Synth query and additionally the head and tail Node of this group.\n",
    "\n",
    "Notice the special value `-1` meaning `None`."
   ]
  },
  {
   "cell_type": "code",
   "execution_count": 46,
   "metadata": {
    "execution": {
     "iopub.execute_input": "2021-07-19T13:36:27.946864Z",
     "iopub.status.busy": "2021-07-19T13:36:27.946864Z",
     "iopub.status.idle": "2021-07-19T13:36:27.964861Z",
     "shell.execute_reply": "2021-07-19T13:36:27.964861Z"
    }
   },
   "outputs": [
    {
     "data": {
      "text/plain": [
       "GroupInfo(nodeid=20004, group=20003, prev_nodeid=-1, next_nodeid=-1, head=-1, tail=-1)"
      ]
     },
     "execution_count": 46,
     "metadata": {},
     "output_type": "execute_result"
    }
   ],
   "source": [
    "g1.query()"
   ]
  },
  {
   "cell_type": "markdown",
   "metadata": {},
   "source": [
    "Free the node"
   ]
  },
  {
   "cell_type": "code",
   "execution_count": 47,
   "metadata": {
    "execution": {
     "iopub.execute_input": "2021-07-19T13:36:27.967862Z",
     "iopub.status.busy": "2021-07-19T13:36:27.966889Z",
     "iopub.status.idle": "2021-07-19T13:36:27.969746Z",
     "shell.execute_reply": "2021-07-19T13:36:27.969746Z"
    }
   },
   "outputs": [
    {
     "data": {
      "text/plain": [
       "Group(20003) f {} children=[ Group(20004) ~ {} children=[]]"
      ]
     },
     "execution_count": 47,
     "metadata": {},
     "output_type": "execute_result"
    }
   ],
   "source": [
    "g0.free()"
   ]
  },
  {
   "cell_type": "code",
   "execution_count": 48,
   "metadata": {
    "execution": {
     "iopub.execute_input": "2021-07-19T13:36:27.972738Z",
     "iopub.status.busy": "2021-07-19T13:36:27.971737Z",
     "iopub.status.idle": "2021-07-19T13:36:27.983737Z",
     "shell.execute_reply": "2021-07-19T13:36:27.983737Z"
    }
   },
   "outputs": [
    {
     "data": {
      "text/plain": [
       "Group(0)  {} children=[\n",
       "  Group(469762049) ~ {} children=[],\n",
       "  Group(402653185) ~ {} children=[],\n",
       "  Group(335544321) ~ {} children=[],\n",
       "  Group(268435457) ~ {} children=[],\n",
       "  Group(201326593) ~ {} children=[],\n",
       "  Group(134217729) ~ {} children=[],\n",
       "  Group(67108865) ~ {} children=[],\n",
       "  Group(1) ~ {} children=[]]"
      ]
     },
     "execution_count": 48,
     "metadata": {},
     "output_type": "execute_result"
    }
   ],
   "source": [
    "sc.server.query_tree()"
   ]
  },
  {
   "cell_type": "markdown",
   "metadata": {},
   "source": [
    "## Order of Nodes \n",
    "\n"
   ]
  },
  {
   "cell_type": "markdown",
   "metadata": {},
   "source": [
    "The execution of the Nodes does plays an important role. \n",
    "For more details look at the [SuperCollider Documentation](http://doc.sccode.org/Guides/Order-of-execution.html)"
   ]
  },
  {
   "cell_type": "markdown",
   "metadata": {},
   "source": [
    "The Node placement of a Nodes can be controlled by the instantiation arguments"
   ]
  },
  {
   "cell_type": "markdown",
   "metadata": {},
   "source": [
    "* `add_action` - An AddAction that specifies where to put Node relative to the target"
   ]
  },
  {
   "cell_type": "code",
   "execution_count": 49,
   "metadata": {
    "execution": {
     "iopub.execute_input": "2021-07-19T13:36:27.986740Z",
     "iopub.status.busy": "2021-07-19T13:36:27.985737Z",
     "iopub.status.idle": "2021-07-19T13:36:27.989737Z",
     "shell.execute_reply": "2021-07-19T13:36:27.989737Z"
    }
   },
   "outputs": [
    {
     "data": {
      "text/plain": [
       "[<AddAction.TO_HEAD: 0>,\n",
       " <AddAction.TO_TAIL: 1>,\n",
       " <AddAction.BEFORE: 2>,\n",
       " <AddAction.AFTER: 3>,\n",
       " <AddAction.REPLACE: 4>]"
      ]
     },
     "execution_count": 49,
     "metadata": {},
     "output_type": "execute_result"
    }
   ],
   "source": [
    "list(scn.AddAction)"
   ]
  },
  {
   "cell_type": "markdown",
   "metadata": {},
   "source": [
    "* `target` - The target of the AddAction\n",
    "* `group` - The group were the Node will be placed"
   ]
  },
  {
   "cell_type": "markdown",
   "metadata": {},
   "source": [
    "### Example of Ordering Nodes"
   ]
  },
  {
   "cell_type": "code",
   "execution_count": 50,
   "metadata": {
    "execution": {
     "iopub.execute_input": "2021-07-19T13:36:27.992737Z",
     "iopub.status.busy": "2021-07-19T13:36:27.991736Z",
     "iopub.status.idle": "2021-07-19T13:36:27.995737Z",
     "shell.execute_reply": "2021-07-19T13:36:27.995737Z"
    }
   },
   "outputs": [
    {
     "data": {
      "text/plain": [
       "Group(20005) s {} children=[]"
      ]
     },
     "execution_count": 50,
     "metadata": {},
     "output_type": "execute_result"
    }
   ],
   "source": [
    "g0 = scn.Group()\n",
    "g0"
   ]
  },
  {
   "cell_type": "code",
   "execution_count": 51,
   "metadata": {
    "execution": {
     "iopub.execute_input": "2021-07-19T13:36:27.998737Z",
     "iopub.status.busy": "2021-07-19T13:36:27.998737Z",
     "iopub.status.idle": "2021-07-19T13:36:28.000739Z",
     "shell.execute_reply": "2021-07-19T13:36:28.000739Z"
    }
   },
   "outputs": [
    {
     "data": {
      "text/plain": [
       "Group(20006) s {} children=[]"
      ]
     },
     "execution_count": 51,
     "metadata": {},
     "output_type": "execute_result"
    }
   ],
   "source": [
    "g1 = scn.Group(target=g0)\n",
    "g1"
   ]
  },
  {
   "cell_type": "code",
   "execution_count": 52,
   "metadata": {
    "execution": {
     "iopub.execute_input": "2021-07-19T13:36:28.003737Z",
     "iopub.status.busy": "2021-07-19T13:36:28.002736Z",
     "iopub.status.idle": "2021-07-19T13:36:28.012738Z",
     "shell.execute_reply": "2021-07-19T13:36:28.012738Z"
    }
   },
   "outputs": [],
   "source": [
    "s0 = scn.Synth(target=g0, controls={\"freq\": 200})"
   ]
  },
  {
   "cell_type": "code",
   "execution_count": 53,
   "metadata": {
    "execution": {
     "iopub.execute_input": "2021-07-19T13:36:28.016737Z",
     "iopub.status.busy": "2021-07-19T13:36:28.015738Z",
     "iopub.status.idle": "2021-07-19T13:36:28.018737Z",
     "shell.execute_reply": "2021-07-19T13:36:28.018737Z"
    }
   },
   "outputs": [],
   "source": [
    "s1 = scn.Synth(add_action=scn.AddAction.BEFORE, target=s0, controls={\"freq\": 600})"
   ]
  },
  {
   "cell_type": "code",
   "execution_count": 54,
   "metadata": {
    "execution": {
     "iopub.execute_input": "2021-07-19T13:36:28.022736Z",
     "iopub.status.busy": "2021-07-19T13:36:28.021737Z",
     "iopub.status.idle": "2021-07-19T13:36:28.024738Z",
     "shell.execute_reply": "2021-07-19T13:36:28.024738Z"
    }
   },
   "outputs": [],
   "source": [
    "s2 = scn.Synth(add_action=scn.AddAction.TO_TAIL, target=g1, controls={\"freq\": 1200})"
   ]
  },
  {
   "cell_type": "code",
   "execution_count": 55,
   "metadata": {
    "execution": {
     "iopub.execute_input": "2021-07-19T13:36:28.027737Z",
     "iopub.status.busy": "2021-07-19T13:36:28.026737Z",
     "iopub.status.idle": "2021-07-19T13:36:28.044749Z",
     "shell.execute_reply": "2021-07-19T13:36:28.044749Z"
    }
   },
   "outputs": [
    {
     "data": {
      "text/plain": [
       "Group(0)  {} children=[\n",
       "  Group(469762049) ~ {} children=[],\n",
       "  Group(402653185) ~ {} children=[],\n",
       "  Group(335544321) ~ {} children=[],\n",
       "  Group(268435457) ~ {} children=[],\n",
       "  Group(201326593) ~ {} children=[],\n",
       "  Group(134217729) ~ {} children=[],\n",
       "  Group(67108865) ~ {} children=[\n",
       "    Group(20005) ~ {} children=[\n",
       "      <Synth(20008) 'default' ~ {'freq': 600.0, 'out': 0.0, 'amp': 0.10000000149011612, 'pan': 0.0, 'gate': 1.0}>,\n",
       "      <Synth(20007) 'default' ~ {'freq': 200.0, 'out': 0.0, 'amp': 0.10000000149011612, 'pan': 0.0, 'gate': 1.0}>,\n",
       "      Group(20006) ~ {} children=[\n",
       "        <Synth(20009) 'default' ~ {'freq': 1200.0, 'out': 0.0, 'amp': 0.10000000149011612, 'pan': 0.0, 'gate': 1.0}>]]],\n",
       "  Group(1) ~ {} children=[]]"
      ]
     },
     "execution_count": 55,
     "metadata": {},
     "output_type": "execute_result"
    }
   ],
   "source": [
    "sc.server.query_tree()"
   ]
  },
  {
   "cell_type": "code",
   "execution_count": 56,
   "metadata": {
    "execution": {
     "iopub.execute_input": "2021-07-19T13:36:28.047749Z",
     "iopub.status.busy": "2021-07-19T13:36:28.047749Z",
     "iopub.status.idle": "2021-07-19T13:36:28.050749Z",
     "shell.execute_reply": "2021-07-19T13:36:28.050749Z"
    }
   },
   "outputs": [
    {
     "data": {
      "text/plain": [
       "<Synth(20008) 'default' ~ {'freq': 600.0, 'out': 0.0, 'amp': 0.10000000149011612, 'pan': 0.0, 'gate': 1.0}>"
      ]
     },
     "execution_count": 56,
     "metadata": {},
     "output_type": "execute_result"
    }
   ],
   "source": [
    "s1.move(scn.AddAction.BEFORE, s2)"
   ]
  },
  {
   "cell_type": "code",
   "execution_count": 57,
   "metadata": {
    "execution": {
     "iopub.execute_input": "2021-07-19T13:36:28.052748Z",
     "iopub.status.busy": "2021-07-19T13:36:28.052748Z",
     "iopub.status.idle": "2021-07-19T13:36:28.064749Z",
     "shell.execute_reply": "2021-07-19T13:36:28.064749Z"
    }
   },
   "outputs": [
    {
     "data": {
      "text/plain": [
       "Group(0)  {} children=[\n",
       "  Group(469762049) ~ {} children=[],\n",
       "  Group(402653185) ~ {} children=[],\n",
       "  Group(335544321) ~ {} children=[],\n",
       "  Group(268435457) ~ {} children=[],\n",
       "  Group(201326593) ~ {} children=[],\n",
       "  Group(134217729) ~ {} children=[],\n",
       "  Group(67108865) ~ {} children=[\n",
       "    Group(20005) ~ {} children=[\n",
       "      <Synth(20007) 'default' ~ {'freq': 200.0, 'out': 0.0, 'amp': 0.10000000149011612, 'pan': 0.0, 'gate': 1.0}>,\n",
       "      Group(20006) ~ {} children=[\n",
       "        <Synth(20008) 'default' ~ {'freq': 600.0, 'out': 0.0, 'amp': 0.10000000149011612, 'pan': 0.0, 'gate': 1.0}>,\n",
       "        <Synth(20009) 'default' ~ {'freq': 1200.0, 'out': 0.0, 'amp': 0.10000000149011612, 'pan': 0.0, 'gate': 1.0}>]]],\n",
       "  Group(1) ~ {} children=[]]"
      ]
     },
     "execution_count": 57,
     "metadata": {},
     "output_type": "execute_result"
    }
   ],
   "source": [
    "sc.server.query_tree()"
   ]
  },
  {
   "cell_type": "code",
   "execution_count": 58,
   "metadata": {
    "execution": {
     "iopub.execute_input": "2021-07-19T13:36:28.067749Z",
     "iopub.status.busy": "2021-07-19T13:36:28.067749Z",
     "iopub.status.idle": "2021-07-19T13:36:28.070750Z",
     "shell.execute_reply": "2021-07-19T13:36:28.070750Z"
    }
   },
   "outputs": [
    {
     "data": {
      "text/plain": [
       "Group(20005) ~ {} children=[\n",
       "  <Synth(20007) 'default' ~ {'freq': 200.0, 'out': 0.0, 'amp': 0.10000000149011612, 'pan': 0.0, 'gate': 1.0}>,\n",
       "  Group(20006) ~ {} children=[\n",
       "    <Synth(20008) 'default' ~ {'freq': 600.0, 'out': 0.0, 'amp': 0.10000000149011612, 'pan': 0.0, 'gate': 1.0}>,\n",
       "    <Synth(20009) 'default' ~ {'freq': 1200.0, 'out': 0.0, 'amp': 0.10000000149011612, 'pan': 0.0, 'gate': 1.0}>]]"
      ]
     },
     "execution_count": 58,
     "metadata": {},
     "output_type": "execute_result"
    }
   ],
   "source": [
    "g0"
   ]
  },
  {
   "cell_type": "code",
   "execution_count": 59,
   "metadata": {
    "execution": {
     "iopub.execute_input": "2021-07-19T13:36:28.073749Z",
     "iopub.status.busy": "2021-07-19T13:36:28.072749Z",
     "iopub.status.idle": "2021-07-19T13:36:28.076749Z",
     "shell.execute_reply": "2021-07-19T13:36:28.076749Z"
    }
   },
   "outputs": [
    {
     "data": {
      "text/plain": [
       "Group(20005) ~ {} children=[\n",
       "  <Synth(20007) 'default' ~ {'freq': 200.0, 'out': 0.0, 'amp': 0.10000000149011612, 'pan': 0.0, 'gate': 1.0}>,\n",
       "  Group(20006) ~ {} children=[\n",
       "    <Synth(20008) 'default' ~ {'freq': 600.0, 'out': 0.0, 'amp': 0.10000000149011612, 'pan': 0.0, 'gate': 1.0}>,\n",
       "    <Synth(20009) 'default' ~ {'freq': 1200.0, 'out': 0.0, 'amp': 0.10000000149011612, 'pan': 0.0, 'gate': 1.0}>]]"
      ]
     },
     "execution_count": 59,
     "metadata": {},
     "output_type": "execute_result"
    }
   ],
   "source": [
    "g0.run(False)"
   ]
  },
  {
   "cell_type": "code",
   "execution_count": 60,
   "metadata": {
    "execution": {
     "iopub.execute_input": "2021-07-19T13:36:28.079749Z",
     "iopub.status.busy": "2021-07-19T13:36:28.079749Z",
     "iopub.status.idle": "2021-07-19T13:36:28.081750Z",
     "shell.execute_reply": "2021-07-19T13:36:28.081750Z"
    }
   },
   "outputs": [
    {
     "data": {
      "text/plain": [
       "Group(20005) ~ {} children=[\n",
       "  <Synth(20007) 'default' ~ {'freq': 200.0, 'out': 0.0, 'amp': 0.10000000149011612, 'pan': 0.0, 'gate': 1.0}>,\n",
       "  Group(20006) ~ {} children=[\n",
       "    <Synth(20008) 'default' ~ {'freq': 600.0, 'out': 0.0, 'amp': 0.10000000149011612, 'pan': 0.0, 'gate': 1.0}>,\n",
       "    <Synth(20009) 'default' ~ {'freq': 1200.0, 'out': 0.0, 'amp': 0.10000000149011612, 'pan': 0.0, 'gate': 1.0}>]]"
      ]
     },
     "execution_count": 60,
     "metadata": {},
     "output_type": "execute_result"
    }
   ],
   "source": [
    "g0.run(True)"
   ]
  },
  {
   "cell_type": "code",
   "execution_count": 61,
   "metadata": {
    "execution": {
     "iopub.execute_input": "2021-07-19T13:36:28.083749Z",
     "iopub.status.busy": "2021-07-19T13:36:28.082749Z",
     "iopub.status.idle": "2021-07-19T13:36:28.093784Z",
     "shell.execute_reply": "2021-07-19T13:36:28.093784Z"
    }
   },
   "outputs": [
    {
     "data": {
      "text/plain": [
       "Group(20006) ~ {} children=[\n",
       "  <Synth(20008) 'default' ~ {'freq': 600.0, 'out': 0.0, 'amp': 0.10000000149011612, 'pan': 0.0, 'gate': 1.0}>,\n",
       "  <Synth(20009) 'default' ~ {'freq': 1200.0, 'out': 0.0, 'amp': 0.10000000149011612, 'pan': 0.0, 'gate': 1.0}>]"
      ]
     },
     "execution_count": 61,
     "metadata": {},
     "output_type": "execute_result"
    }
   ],
   "source": [
    "g1.run(False)\n",
    "g1.query_tree()"
   ]
  },
  {
   "cell_type": "code",
   "execution_count": 62,
   "metadata": {
    "execution": {
     "iopub.execute_input": "2021-07-19T13:36:28.096783Z",
     "iopub.status.busy": "2021-07-19T13:36:28.095783Z",
     "iopub.status.idle": "2021-07-19T13:36:28.135275Z",
     "shell.execute_reply": "2021-07-19T13:36:28.135275Z"
    }
   },
   "outputs": [
    {
     "data": {
      "text/plain": [
       "(200.0, 600.0, 1200.0)"
      ]
     },
     "execution_count": 62,
     "metadata": {},
     "output_type": "execute_result"
    }
   ],
   "source": [
    "s0.freq, s1.freq, s2.freq"
   ]
  },
  {
   "cell_type": "code",
   "execution_count": 63,
   "metadata": {
    "execution": {
     "iopub.execute_input": "2021-07-19T13:36:28.138275Z",
     "iopub.status.busy": "2021-07-19T13:36:28.137274Z",
     "iopub.status.idle": "2021-07-19T13:36:28.175276Z",
     "shell.execute_reply": "2021-07-19T13:36:28.175276Z"
    }
   },
   "outputs": [
    {
     "data": {
      "text/plain": [
       "(100.0, 100.0, 100.0)"
      ]
     },
     "execution_count": 63,
     "metadata": {},
     "output_type": "execute_result"
    }
   ],
   "source": [
    "g0.set(\"freq\", 100)\n",
    "s0.freq, s1.freq, s2.freq"
   ]
  },
  {
   "cell_type": "code",
   "execution_count": 64,
   "metadata": {
    "execution": {
     "iopub.execute_input": "2021-07-19T13:36:28.177275Z",
     "iopub.status.busy": "2021-07-19T13:36:28.176275Z",
     "iopub.status.idle": "2021-07-19T13:36:28.211292Z",
     "shell.execute_reply": "2021-07-19T13:36:28.211292Z"
    }
   },
   "outputs": [
    {
     "name": "stdout",
     "output_type": "stream",
     "text": [
      "NODE TREE Group 0\n",
      "   469762049 group\n",
      "   402653185 group\n",
      "   335544321 group\n",
      "   268435457 group\n",
      "   201326593 group\n",
      "   134217729 group\n",
      "   67108865 group\n",
      "      20005 group\n",
      "         20007 default\n",
      "           out: 0 freq: 100 amp: 0.10000000149012 pan: 0 gate: 1\n",
      "         20006 group\n",
      "            20008 default\n",
      "              out: 0 freq: 100 amp: 0.10000000149012 pan: 0 gate: 1\n",
      "            20009 default\n",
      "              out: 0 freq: 100 amp: 0.10000000149012 pan: 0 gate: 1\n",
      "   1 group\n"
     ]
    }
   ],
   "source": [
    "sc.server.dump_tree()"
   ]
  },
  {
   "cell_type": "code",
   "execution_count": 65,
   "metadata": {
    "execution": {
     "iopub.execute_input": "2021-07-19T13:36:28.215291Z",
     "iopub.status.busy": "2021-07-19T13:36:28.214293Z",
     "iopub.status.idle": "2021-07-19T13:36:28.217293Z",
     "shell.execute_reply": "2021-07-19T13:36:28.217293Z"
    }
   },
   "outputs": [
    {
     "data": {
      "text/plain": [
       "Group(20006) ~ {} children=[\n",
       "  <Synth(20008) 'default' ~ {'freq': 100.0, 'out': 0.0, 'amp': 0.10000000149011612, 'pan': 0.0, 'gate': 1.0}>,\n",
       "  <Synth(20009) 'default' ~ {'freq': 100.0, 'out': 0.0, 'amp': 0.10000000149011612, 'pan': 0.0, 'gate': 1.0}>]"
      ]
     },
     "execution_count": 65,
     "metadata": {},
     "output_type": "execute_result"
    }
   ],
   "source": [
    "g1.run(True)"
   ]
  },
  {
   "cell_type": "code",
   "execution_count": 66,
   "metadata": {
    "execution": {
     "iopub.execute_input": "2021-07-19T13:36:28.219292Z",
     "iopub.status.busy": "2021-07-19T13:36:28.219292Z",
     "iopub.status.idle": "2021-07-19T13:36:28.225293Z",
     "shell.execute_reply": "2021-07-19T13:36:28.225293Z"
    }
   },
   "outputs": [
    {
     "data": {
      "text/plain": [
       "Group(0)  {} children=[\n",
       "  Group(469762049) ~ {} children=[],\n",
       "  Group(402653185) ~ {} children=[],\n",
       "  Group(335544321) ~ {} children=[],\n",
       "  Group(268435457) ~ {} children=[],\n",
       "  Group(201326593) ~ {} children=[],\n",
       "  Group(134217729) ~ {} children=[],\n",
       "  Group(67108865) ~ {} children=[\n",
       "    Group(20005) ~ {'freq': 100} children=[\n",
       "      <Synth(20007) 'default' ~ {'freq': 100.0, 'out': 0.0, 'amp': 0.10000000149011612, 'pan': 0.0, 'gate': 1.0}>,\n",
       "      Group(20006) ~ {} children=[\n",
       "        <Synth(20008) 'default' ~ {'freq': 100.0, 'out': 0.0, 'amp': 0.10000000149011612, 'pan': 0.0, 'gate': 1.0}>,\n",
       "        <Synth(20009) 'default' ~ {'freq': 100.0, 'out': 0.0, 'amp': 0.10000000149011612, 'pan': 0.0, 'gate': 1.0}>]]],\n",
       "  Group(1) ~ {} children=[]]"
      ]
     },
     "execution_count": 66,
     "metadata": {},
     "output_type": "execute_result"
    }
   ],
   "source": [
    "sc.server.query_tree()"
   ]
  },
  {
   "cell_type": "code",
   "execution_count": 67,
   "metadata": {
    "execution": {
     "iopub.execute_input": "2021-07-19T13:36:28.228292Z",
     "iopub.status.busy": "2021-07-19T13:36:28.227293Z",
     "iopub.status.idle": "2021-07-19T13:36:28.264353Z",
     "shell.execute_reply": "2021-07-19T13:36:28.264353Z"
    }
   },
   "outputs": [
    {
     "data": {
      "text/plain": [
       "(100.0, 440.0, 440.0)"
      ]
     },
     "execution_count": 67,
     "metadata": {},
     "output_type": "execute_result"
    }
   ],
   "source": [
    "g1.set(\"freq\", 440)\n",
    "\n",
    "s0.freq, s1.freq, s2.freq"
   ]
  },
  {
   "cell_type": "code",
   "execution_count": 68,
   "metadata": {
    "execution": {
     "iopub.execute_input": "2021-07-19T13:36:28.267354Z",
     "iopub.status.busy": "2021-07-19T13:36:28.266354Z",
     "iopub.status.idle": "2021-07-19T13:36:28.274353Z",
     "shell.execute_reply": "2021-07-19T13:36:28.274353Z"
    }
   },
   "outputs": [
    {
     "data": {
      "text/plain": [
       "Group(20005) ~ {'freq': 100} children=[\n",
       "  <Synth(20007) 'default' ~ {'freq': 100.0, 'out': 0.0, 'amp': 0.10000000149011612, 'pan': 0.0, 'gate': 1.0}>,\n",
       "  Group(20006) ~ {'freq': 440} children=[\n",
       "    <Synth(20008) 'default' ~ {'freq': 440.0, 'out': 0.0, 'amp': 0.10000000149011612, 'pan': 0.0, 'gate': 1.0}>,\n",
       "    <Synth(20009) 'default' ~ {'freq': 440.0, 'out': 0.0, 'amp': 0.10000000149011612, 'pan': 0.0, 'gate': 1.0}>]]"
      ]
     },
     "execution_count": 68,
     "metadata": {},
     "output_type": "execute_result"
    }
   ],
   "source": [
    "g0.query_tree()"
   ]
  },
  {
   "cell_type": "code",
   "execution_count": 69,
   "metadata": {
    "execution": {
     "iopub.execute_input": "2021-07-19T13:36:28.277354Z",
     "iopub.status.busy": "2021-07-19T13:36:28.276352Z",
     "iopub.status.idle": "2021-07-19T13:36:28.280353Z",
     "shell.execute_reply": "2021-07-19T13:36:28.280353Z"
    }
   },
   "outputs": [
    {
     "data": {
      "text/plain": [
       "Group(20005) ~ {'freq': 100} children=[\n",
       "  <Synth(20007) 'default' ~ {'freq': 100.0, 'out': 0.0, 'amp': 0.10000000149011612, 'pan': 0.0, 'gate': 1.0}>,\n",
       "  Group(20006) ~ {'freq': 440} children=[\n",
       "    <Synth(20008) 'default' ~ {'freq': 440.0, 'out': 0.0, 'amp': 0.10000000149011612, 'pan': 0.0, 'gate': 1.0}>,\n",
       "    <Synth(20009) 'default' ~ {'freq': 440.0, 'out': 0.0, 'amp': 0.10000000149011612, 'pan': 0.0, 'gate': 1.0}>]]"
      ]
     },
     "execution_count": 69,
     "metadata": {},
     "output_type": "execute_result"
    }
   ],
   "source": [
    "g0.move_node_to_tail(s1)"
   ]
  },
  {
   "cell_type": "code",
   "execution_count": 70,
   "metadata": {
    "execution": {
     "iopub.execute_input": "2021-07-19T13:36:28.283353Z",
     "iopub.status.busy": "2021-07-19T13:36:28.282352Z",
     "iopub.status.idle": "2021-07-19T13:36:28.286353Z",
     "shell.execute_reply": "2021-07-19T13:36:28.286353Z"
    }
   },
   "outputs": [
    {
     "data": {
      "text/plain": [
       "Group(20005) ~ {'freq': 100} children=[\n",
       "  <Synth(20007) 'default' ~ {'freq': 100.0, 'out': 0.0, 'amp': 0.10000000149011612, 'pan': 0.0, 'gate': 1.0}>,\n",
       "  Group(20006) ~ {'freq': 440} children=[\n",
       "    <Synth(20008) 'default' ~ {'freq': 440.0, 'out': 0.0, 'amp': 0.10000000149011612, 'pan': 0.0, 'gate': 1.0}>,\n",
       "    <Synth(20009) 'default' ~ {'freq': 440.0, 'out': 0.0, 'amp': 0.10000000149011612, 'pan': 0.0, 'gate': 1.0}>]]"
      ]
     },
     "execution_count": 70,
     "metadata": {},
     "output_type": "execute_result"
    }
   ],
   "source": [
    "g0.dump_tree()"
   ]
  },
  {
   "cell_type": "code",
   "execution_count": 71,
   "metadata": {
    "execution": {
     "iopub.execute_input": "2021-07-19T13:36:28.289354Z",
     "iopub.status.busy": "2021-07-19T13:36:28.288352Z",
     "iopub.status.idle": "2021-07-19T13:36:28.324405Z",
     "shell.execute_reply": "2021-07-19T13:36:28.324405Z"
    }
   },
   "outputs": [
    {
     "data": {
      "text/plain": [
       "(100.0, 440.0, 800.0)"
      ]
     },
     "execution_count": 71,
     "metadata": {},
     "output_type": "execute_result"
    }
   ],
   "source": [
    "g1.set(\"freq\", 800)\n",
    "\n",
    "s0.freq, s1.freq, s2.freq"
   ]
  },
  {
   "cell_type": "code",
   "execution_count": 72,
   "metadata": {
    "execution": {
     "iopub.execute_input": "2021-07-19T13:36:28.327404Z",
     "iopub.status.busy": "2021-07-19T13:36:28.326404Z",
     "iopub.status.idle": "2021-07-19T13:36:28.344444Z",
     "shell.execute_reply": "2021-07-19T13:36:28.344444Z"
    }
   },
   "outputs": [
    {
     "data": {
      "text/plain": [
       "Group(67108865) ~ {} children=[\n",
       "  Group(20005) ~ {'freq': 100} children=[\n",
       "    <Synth(20007) 'default' ~ {'freq': 100.0, 'out': 0.0, 'amp': 0.10000000149011612, 'pan': 0.0, 'gate': 1.0}>,\n",
       "    Group(20006) ~ {'freq': 800} children=[\n",
       "      <Synth(20009) 'default' ~ {'freq': 800.0, 'out': 0.0, 'amp': 0.10000000149011612, 'pan': 0.0, 'gate': 1.0}>],\n",
       "    <Synth(20008) 'default' ~ {'freq': 440.0, 'out': 0.0, 'amp': 0.10000000149011612, 'pan': 0.0, 'gate': 1.0}>]]"
      ]
     },
     "execution_count": 72,
     "metadata": {},
     "output_type": "execute_result"
    }
   ],
   "source": [
    "sc.server.default_group.query_tree()"
   ]
  },
  {
   "cell_type": "code",
   "execution_count": 73,
   "metadata": {
    "execution": {
     "iopub.execute_input": "2021-07-19T13:36:28.347443Z",
     "iopub.status.busy": "2021-07-19T13:36:28.346442Z",
     "iopub.status.idle": "2021-07-19T13:36:28.449444Z",
     "shell.execute_reply": "2021-07-19T13:36:28.449444Z"
    }
   },
   "outputs": [
    {
     "name": "stdout",
     "output_type": "stream",
     "text": [
      "NODE TREE Group 0\n",
      "   469762049 group\n",
      "   402653185 group\n",
      "   335544321 group\n",
      "   268435457 group\n",
      "   201326593 group\n",
      "   134217729 group\n",
      "   67108865 group\n",
      "   1 group\n"
     ]
    }
   ],
   "source": [
    "sc.server.free_all()\n",
    "sc.server.dump_tree()"
   ]
  },
  {
   "cell_type": "code",
   "execution_count": 74,
   "metadata": {
    "execution": {
     "iopub.execute_input": "2021-07-19T13:36:28.452444Z",
     "iopub.status.busy": "2021-07-19T13:36:28.452444Z",
     "iopub.status.idle": "2021-07-19T13:36:28.745501Z",
     "shell.execute_reply": "2021-07-19T13:36:28.746499Z"
    }
   },
   "outputs": [
    {
     "name": "stdout",
     "output_type": "stream",
     "text": [
      "Quitting SCServer... Done.\n",
      "Exiting sclang... "
     ]
    },
    {
     "name": "stdout",
     "output_type": "stream",
     "text": [
      "Done.\n"
     ]
    }
   ],
   "source": [
    "sc.exit()"
   ]
  },
  {
   "cell_type": "code",
   "execution_count": null,
   "metadata": {},
   "outputs": [],
   "source": []
  }
 ],
 "metadata": {
  "hide_input": false,
  "language_info": {
   "codemirror_mode": {
    "name": "ipython",
    "version": 3
   },
   "file_extension": ".py",
   "mimetype": "text/x-python",
   "name": "python",
   "nbconvert_exporter": "python",
   "pygments_lexer": "ipython3",
   "version": "3.7.10"
  },
  "toc": {
   "base_numbering": 1,
   "nav_menu": {},
   "number_sections": true,
   "sideBar": true,
   "skip_h1_title": true,
   "title_cell": "Table of Contents",
   "title_sidebar": "Contents",
   "toc_cell": false,
   "toc_position": {},
   "toc_section_display": true,
   "toc_window_display": false
  },
  "toc-autonumbering": false,
  "toc-showcode": false,
  "toc-showmarkdowntxt": false,
  "toc-showtags": true
 },
 "nbformat": 4,
 "nbformat_minor": 4
}
