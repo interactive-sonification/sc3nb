{
 "cells": [
  {
   "cell_type": "code",
   "execution_count": 1,
   "metadata": {
    "execution": {
     "iopub.execute_input": "2023-08-22T12:09:19.721191Z",
     "iopub.status.busy": "2023-08-22T12:09:19.720876Z",
     "iopub.status.idle": "2023-08-22T12:09:19.810537Z",
     "shell.execute_reply": "2023-08-22T12:09:19.809827Z"
    }
   },
   "outputs": [],
   "source": [
    "import time\n",
    "import numpy as np"
   ]
  },
  {
   "cell_type": "code",
   "execution_count": 2,
   "metadata": {
    "execution": {
     "iopub.execute_input": "2023-08-22T12:09:19.814241Z",
     "iopub.status.busy": "2023-08-22T12:09:19.813938Z",
     "iopub.status.idle": "2023-08-22T12:09:19.923997Z",
     "shell.execute_reply": "2023-08-22T12:09:19.923270Z"
    }
   },
   "outputs": [],
   "source": [
    "import sc3nb as scn"
   ]
  },
  {
   "cell_type": "markdown",
   "metadata": {},
   "source": [
    "# OSC communication\n",
    "With the OSC communication module of sc3nb you can directly send and receive OSC packets.\n",
    "\n",
    "Open Sound Control (OSC) is a networking protocol for sound and is used by SuperCollider to communicate between sclang and scsynth. sc3nb is itself a OSC client and server. This allows sc3nb to send and receive OSC traffic.\n",
    "\n",
    "For more information on OSC and especially how Supercollider handles OSC packets please refer to the following links:\n",
    "\n",
    "* [Open Sound Control Specification](http://opensoundcontrol.org/spec-1_0.html)\n",
    "* [Server vs Client SuperCollider Guide](http://doc.sccode.org/Guides/ClientVsServer.html)\n",
    "* [Server Command Reference](https://doc.sccode.org/Reference/Server-Command-Reference.html)\n",
    "* [SuperCollider Synth Server Architecture](https://doc.sccode.org/Reference/Server-Architecture.html)"
   ]
  },
  {
   "cell_type": "code",
   "execution_count": 3,
   "metadata": {
    "execution": {
     "iopub.execute_input": "2023-08-22T12:09:19.927739Z",
     "iopub.status.busy": "2023-08-22T12:09:19.927464Z",
     "iopub.status.idle": "2023-08-22T12:09:23.497424Z",
     "shell.execute_reply": "2023-08-22T12:09:23.496017Z"
    }
   },
   "outputs": [
    {
     "data": {
      "application/javascript": [
       "if (typeof Jupyter !== 'undefined') {\n",
       "                        Jupyter.keyboard_manager.command_shortcuts.add_shortcut(\n",
       "                        'cmd-.', {\n",
       "                        help : 'Free all nodes on SC server',\n",
       "                        help_index : 'zz',\n",
       "                        handler : function (event) {\n",
       "                            IPython.notebook.kernel.execute(\n",
       "                                \"import sc3nb; sc3nb.SC.get_default().server.free_all(root=True)\"\n",
       "                            )\n",
       "                            return true;}\n",
       "                        });\n",
       "                    }"
      ],
      "text/plain": [
       "<IPython.core.display.Javascript object>"
      ]
     },
     "metadata": {},
     "output_type": "display_data"
    },
    {
     "name": "stdout",
     "output_type": "stream",
     "text": [
      "Starting sclang process... [sclang | start reading ]\n"
     ]
    },
    {
     "name": "stdout",
     "output_type": "stream",
     "text": [
      "Done.\n",
      "Registering OSC /return callback in sclang... Done.\n",
      "Loading default sc3nb SynthDefs... Done.\n",
      "Booting SuperCollider Server... [scsynth | start reading ]\n"
     ]
    },
    {
     "name": "stdout",
     "output_type": "stream",
     "text": [
      "Done.\n"
     ]
    }
   ],
   "source": [
    "sc = scn.startup()"
   ]
  },
  {
   "cell_type": "markdown",
   "metadata": {},
   "source": [
    "sc3nb serves as OSC server and as client of the SuperCollider server `scsynth`.<br>\n",
    "You can also communicate with the SuperCollider interpreter `sclang` via OSC.<br>\n",
    "\n",
    "\n",
    "You can see the current connection information with `sc.server.connection_info()`"
   ]
  },
  {
   "cell_type": "code",
   "execution_count": 4,
   "metadata": {
    "execution": {
     "iopub.execute_input": "2023-08-22T12:09:23.502110Z",
     "iopub.status.busy": "2023-08-22T12:09:23.501734Z",
     "iopub.status.idle": "2023-08-22T12:09:23.506468Z",
     "shell.execute_reply": "2023-08-22T12:09:23.505826Z"
    }
   },
   "outputs": [
    {
     "name": "stdout",
     "output_type": "stream",
     "text": [
      "This instance is at ('127.0.0.1', 57131),\n",
      "Known receivers: \"scsynth\" at ('127.0.0.1', 57110)\n",
      "                 \"sclang\" at ('127.0.0.1', 57120)\n",
      "                 \n"
     ]
    }
   ],
   "source": [
    "(sc3nb_ip, sc3nb_port), receivers = sc.server.connection_info()"
   ]
  },
  {
   "cell_type": "code",
   "execution_count": 5,
   "metadata": {
    "execution": {
     "iopub.execute_input": "2023-08-22T12:09:23.509806Z",
     "iopub.status.busy": "2023-08-22T12:09:23.509520Z",
     "iopub.status.idle": "2023-08-22T12:09:23.514687Z",
     "shell.execute_reply": "2023-08-22T12:09:23.513793Z"
    }
   },
   "outputs": [
    {
     "data": {
      "text/plain": [
       "(('127.0.0.1', 57131),\n",
       " {('127.0.0.1', 57110): 'scsynth', ('127.0.0.1', 57120): 'sclang'})"
      ]
     },
     "execution_count": 5,
     "metadata": {},
     "output_type": "execute_result"
    }
   ],
   "source": [
    "(sc3nb_ip, sc3nb_port), receivers"
   ]
  },
  {
   "cell_type": "markdown",
   "metadata": {},
   "source": [
    "If you want to communicate via OSC with another receiver you could add its name via `sc.server.add_receiver(name: str, ip: str, port: int)`, or you can pass a custom receiver when sending OSC"
   ]
  },
  {
   "cell_type": "code",
   "execution_count": 6,
   "metadata": {
    "execution": {
     "iopub.execute_input": "2023-08-22T12:09:23.518125Z",
     "iopub.status.busy": "2023-08-22T12:09:23.517811Z",
     "iopub.status.idle": "2023-08-22T12:09:23.521304Z",
     "shell.execute_reply": "2023-08-22T12:09:23.520632Z"
    }
   },
   "outputs": [],
   "source": [
    "sc.server.add_receiver(\"sc3nb\", sc3nb_ip, sc3nb_port)"
   ]
  },
  {
   "cell_type": "code",
   "execution_count": 7,
   "metadata": {
    "execution": {
     "iopub.execute_input": "2023-08-22T12:09:23.524540Z",
     "iopub.status.busy": "2023-08-22T12:09:23.524227Z",
     "iopub.status.idle": "2023-08-22T12:09:23.529907Z",
     "shell.execute_reply": "2023-08-22T12:09:23.528823Z"
    }
   },
   "outputs": [
    {
     "name": "stdout",
     "output_type": "stream",
     "text": [
      "This instance is at ('127.0.0.1', 57131),\n",
      "Known receivers: \"scsynth\" at ('127.0.0.1', 57110)\n",
      "                 \"sclang\" at ('127.0.0.1', 57120)\n",
      "                 \"sc3nb\" at ('127.0.0.1', 57131)\n",
      "                 \n"
     ]
    },
    {
     "data": {
      "text/plain": [
       "(('127.0.0.1', 57131),\n",
       " {('127.0.0.1', 57110): 'scsynth',\n",
       "  ('127.0.0.1', 57120): 'sclang',\n",
       "  ('127.0.0.1', 57131): 'sc3nb'})"
      ]
     },
     "execution_count": 7,
     "metadata": {},
     "output_type": "execute_result"
    }
   ],
   "source": [
    "sc.server.connection_info()"
   ]
  },
  {
   "cell_type": "markdown",
   "metadata": {},
   "source": [
    "## Sending OSC\n",
    "\n",
    "You can send OSC with "
   ]
  },
  {
   "cell_type": "code",
   "execution_count": 8,
   "metadata": {
    "execution": {
     "iopub.execute_input": "2023-08-22T12:09:23.534043Z",
     "iopub.status.busy": "2023-08-22T12:09:23.533756Z",
     "iopub.status.idle": "2023-08-22T12:09:23.538380Z",
     "shell.execute_reply": "2023-08-22T12:09:23.537712Z"
    }
   },
   "outputs": [
    {
     "name": "stdout",
     "output_type": "stream",
     "text": [
      "Help on method send in module sc3nb.osc.osc_communication:\n",
      "\n",
      "send(package: Union[sc3nb.osc.osc_communication.OSCMessage, sc3nb.osc.osc_communication.Bundler], *, receiver: Union[str, Tuple[str, int], NoneType] = None, bundle: bool = False, await_reply: bool = True, timeout: float = 5) -> Any method of sc3nb.sc_objects.server.SCServer instance\n",
      "    Sends OSC packet\n",
      "    \n",
      "    Parameters\n",
      "    ----------\n",
      "    package : OSCMessage or Bundler\n",
      "        Object with `dgram` attribute.\n",
      "    receiver : str or Tuple[str, int], optional\n",
      "        Where to send the packet, by default send to default receiver\n",
      "    bundle : bool, optional\n",
      "        If True it is allowed to bundle the package with bundling, by default False.\n",
      "    await_reply : bool, optional\n",
      "        If True ask for reply from the server and return it,\n",
      "        otherwise send the message and return None directly, by default True.\n",
      "        If the package is bundled None will be returned.\n",
      "    timeout : int, optional\n",
      "        timeout in seconds for reply, by default 5\n",
      "    \n",
      "    Returns\n",
      "    -------\n",
      "    None or reply\n",
      "        None if no reply was received or awaited else reply.\n",
      "    \n",
      "    Raises\n",
      "    ------\n",
      "    ValueError\n",
      "        When the provided package is not supported.\n",
      "    OSCCommunicationError\n",
      "        When the handling of a package fails.\n",
      "\n"
     ]
    }
   ],
   "source": [
    "help(sc.server.send)"
   ]
  },
  {
   "cell_type": "markdown",
   "metadata": {},
   "source": [
    "### Messages\n",
    "\n",
    "Use the `OSCMessage` or the `python-osc` package to build an OscMessage"
   ]
  },
  {
   "cell_type": "code",
   "execution_count": 9,
   "metadata": {
    "execution": {
     "iopub.execute_input": "2023-08-22T12:09:23.541883Z",
     "iopub.status.busy": "2023-08-22T12:09:23.541572Z",
     "iopub.status.idle": "2023-08-22T12:09:23.589056Z",
     "shell.execute_reply": "2023-08-22T12:09:23.588118Z"
    }
   },
   "outputs": [],
   "source": [
    "scn.OSCMessage?"
   ]
  },
  {
   "cell_type": "code",
   "execution_count": 10,
   "metadata": {
    "execution": {
     "iopub.execute_input": "2023-08-22T12:09:23.592748Z",
     "iopub.status.busy": "2023-08-22T12:09:23.592474Z",
     "iopub.status.idle": "2023-08-22T12:09:23.596543Z",
     "shell.execute_reply": "2023-08-22T12:09:23.595639Z"
    }
   },
   "outputs": [],
   "source": [
    "msg = scn.OSCMessage(\"/s_new\", [\"s1\", -1, 1, 1,])\n",
    "sc.server.send(msg)"
   ]
  },
  {
   "cell_type": "markdown",
   "metadata": {},
   "source": [
    "A shortcut for sending Messages is"
   ]
  },
  {
   "cell_type": "code",
   "execution_count": 11,
   "metadata": {
    "execution": {
     "iopub.execute_input": "2023-08-22T12:09:23.600204Z",
     "iopub.status.busy": "2023-08-22T12:09:23.599872Z",
     "iopub.status.idle": "2023-08-22T12:09:23.604136Z",
     "shell.execute_reply": "2023-08-22T12:09:23.603425Z"
    }
   },
   "outputs": [
    {
     "name": "stdout",
     "output_type": "stream",
     "text": [
      "Help on method msg in module sc3nb.osc.osc_communication:\n",
      "\n",
      "msg(msg_addr: str, msg_params: Optional[Sequence] = None, *, bundle: bool = False, receiver: Optional[Tuple[str, int]] = None, await_reply: bool = True, timeout: float = 5) -> Optional[Any] method of sc3nb.sc_objects.server.SCServer instance\n",
      "    Creates and sends OSC message over UDP.\n",
      "    \n",
      "    Parameters\n",
      "    ----------\n",
      "    msg_addr : str\n",
      "        SuperCollider address of the OSC message\n",
      "    msg_params : Optional[Sequence], optional\n",
      "        List of paramters of the OSC message, by default None\n",
      "    bundle : bool, optional\n",
      "        If True it is allowed to bundle the content with bundling, by default False\n",
      "    receiver : tuple[str, int], optional\n",
      "        (IP address, port) to send the message, by default send to default receiver\n",
      "    await_reply : bool, optional\n",
      "        If True send message and wait for reply\n",
      "        otherwise send the message and return directly, by default True\n",
      "    timeout : float, optional\n",
      "        timeout in seconds for reply, by default 5\n",
      "    \n",
      "    Returns\n",
      "    -------\n",
      "    obj\n",
      "        reply if await_reply and there is a reply for this\n",
      "\n"
     ]
    }
   ],
   "source": [
    "help(sc.server.msg)"
   ]
  },
  {
   "cell_type": "code",
   "execution_count": 12,
   "metadata": {
    "execution": {
     "iopub.execute_input": "2023-08-22T12:09:23.607723Z",
     "iopub.status.busy": "2023-08-22T12:09:23.607297Z",
     "iopub.status.idle": "2023-08-22T12:09:23.611434Z",
     "shell.execute_reply": "2023-08-22T12:09:23.610768Z"
    }
   },
   "outputs": [],
   "source": [
    "sc.server.msg(\"/s_new\", [\"s1\", -1, 1, 1,])"
   ]
  },
  {
   "cell_type": "markdown",
   "metadata": {},
   "source": [
    "a more complex example"
   ]
  },
  {
   "cell_type": "code",
   "execution_count": 13,
   "metadata": {
    "execution": {
     "iopub.execute_input": "2023-08-22T12:09:23.615049Z",
     "iopub.status.busy": "2023-08-22T12:09:23.614566Z",
     "iopub.status.idle": "2023-08-22T12:09:29.103890Z",
     "shell.execute_reply": "2023-08-22T12:09:29.102323Z"
    },
    "slideshow": {
     "slide_type": "slide"
    }
   },
   "outputs": [],
   "source": [
    "for p in [0,2,4,7,5,5,9,7,7,12,11,12,7,4,0,2,4,5,7,9,7,5,4,2,4,0,-1,0,2,-5,-1,2,5,4,2,4]:\n",
    "    freq = scn.midicps(60+p)  # see helper fns below\n",
    "    sc.server.msg(\"/s_new\", [\"s1\", -1, 1, 0, \"freq\", freq, \"dur\", 0.5, \"num\", 1])\n",
    "    time.sleep(0.15)"
   ]
  },
  {
   "cell_type": "markdown",
   "metadata": {},
   "source": [
    "**Note** that the timing is here under python's control, which is not very precise. The `Bundler` class allows to do better."
   ]
  },
  {
   "cell_type": "markdown",
   "metadata": {},
   "source": [
    "**Remarks**:\n",
    "\n",
    "* note that the python code returns immediately and all events remain in scsynth\n",
    "* note that unfortunately scsynth has a limited buffer for OSC messages, so it is not viable to spawn thousends of events. scsynth will then simply reject OSC messages.\n",
    "* this sc3-specific problem motivated (and has been solved with) TimedQueue, see below."
   ]
  },
  {
   "cell_type": "markdown",
   "metadata": {},
   "source": [
    "### Bundles"
   ]
  },
  {
   "cell_type": "code",
   "execution_count": 14,
   "metadata": {
    "execution": {
     "iopub.execute_input": "2023-08-22T12:09:29.109646Z",
     "iopub.status.busy": "2023-08-22T12:09:29.108703Z",
     "iopub.status.idle": "2023-08-22T12:09:29.113243Z",
     "shell.execute_reply": "2023-08-22T12:09:29.112439Z"
    }
   },
   "outputs": [],
   "source": [
    "from sc3nb.osc.osc_communication import Bundler"
   ]
  },
  {
   "cell_type": "markdown",
   "metadata": {},
   "source": [
    "To send a single or multiple message(s) with a timetag as an OSC Bundle, you can use the `Bundler` class\n",
    "\n",
    "* Bundlers allow to specify a timetag and thus let scsynth control the timing, which is much better, if applicable.\n",
    "* A Bundler can be created as documented here"
   ]
  },
  {
   "cell_type": "code",
   "execution_count": 15,
   "metadata": {
    "execution": {
     "iopub.execute_input": "2023-08-22T12:09:29.117470Z",
     "iopub.status.busy": "2023-08-22T12:09:29.116917Z",
     "iopub.status.idle": "2023-08-22T12:09:29.123525Z",
     "shell.execute_reply": "2023-08-22T12:09:29.122810Z"
    }
   },
   "outputs": [],
   "source": [
    "Bundler?"
   ]
  },
  {
   "cell_type": "markdown",
   "metadata": {},
   "source": [
    "The prefered way of creating Bundlers for sending to the server is via"
   ]
  },
  {
   "cell_type": "code",
   "execution_count": 16,
   "metadata": {
    "execution": {
     "iopub.execute_input": "2023-08-22T12:09:29.126989Z",
     "iopub.status.busy": "2023-08-22T12:09:29.126673Z",
     "iopub.status.idle": "2023-08-22T12:09:29.131059Z",
     "shell.execute_reply": "2023-08-22T12:09:29.130271Z"
    }
   },
   "outputs": [
    {
     "name": "stdout",
     "output_type": "stream",
     "text": [
      "Help on method bundler in module sc3nb.sc_objects.server:\n",
      "\n",
      "bundler(timetag=0, msg=None, msg_params=None, send_on_exit=True) method of sc3nb.sc_objects.server.SCServer instance\n",
      "    Generate a Bundler with added server latency.\n",
      "    \n",
      "    This allows the user to easly add messages/bundles and send it.\n",
      "    \n",
      "    Parameters\n",
      "    ----------\n",
      "    timetag : float\n",
      "        Time at which bundle content should be executed.\n",
      "        This servers latency will be added upon this.\n",
      "        If timetag <= 1e6 it is added to time.time().\n",
      "    msg_addr : str\n",
      "        SuperCollider address.\n",
      "    msg_params : list, optional\n",
      "        List of parameters to add to message.\n",
      "         (Default value = None)\n",
      "    \n",
      "    Returns\n",
      "    -------\n",
      "    Bundler\n",
      "        bundler for OSC bundling.\n",
      "\n"
     ]
    }
   ],
   "source": [
    "help(sc.server.bundler)"
   ]
  },
  {
   "cell_type": "markdown",
   "metadata": {},
   "source": [
    "This will add the `sc.server.latency` time to the timetag. By default this is `0.0` but you can set it."
   ]
  },
  {
   "cell_type": "code",
   "execution_count": 17,
   "metadata": {
    "execution": {
     "iopub.execute_input": "2023-08-22T12:09:29.135264Z",
     "iopub.status.busy": "2023-08-22T12:09:29.134916Z",
     "iopub.status.idle": "2023-08-22T12:09:29.139544Z",
     "shell.execute_reply": "2023-08-22T12:09:29.138587Z"
    }
   },
   "outputs": [
    {
     "data": {
      "text/plain": [
       "0.0"
      ]
     },
     "execution_count": 17,
     "metadata": {},
     "output_type": "execute_result"
    }
   ],
   "source": [
    "sc.server.latency"
   ]
  },
  {
   "cell_type": "code",
   "execution_count": 18,
   "metadata": {
    "execution": {
     "iopub.execute_input": "2023-08-22T12:09:29.143235Z",
     "iopub.status.busy": "2023-08-22T12:09:29.142880Z",
     "iopub.status.idle": "2023-08-22T12:09:29.147943Z",
     "shell.execute_reply": "2023-08-22T12:09:29.147321Z"
    }
   },
   "outputs": [
    {
     "data": {
      "text/plain": [
       "0.1"
      ]
     },
     "execution_count": 18,
     "metadata": {},
     "output_type": "execute_result"
    }
   ],
   "source": [
    "sc.server.latency = 0.1\n",
    "sc.server.latency"
   ]
  },
  {
   "cell_type": "markdown",
   "metadata": {},
   "source": [
    "A Bundler lets you add Messages and other Bundlers to the Bundler and accepts\n",
    "\n",
    "* an OSCMessage or Bundler\n",
    "* an timetag with an OSCMessage or Bundler\n",
    "* or Bundler arguments like\n",
    "  (timetag, msg_addr, msg_params)\n",
    "  (timetag, msg_addr)\n",
    "  (timetag, msg)\n",
    "\n",
    "Also see [Nesting Bundlers](#Nesting-Bundlers) for more details on how Bundlers are nested"
   ]
  },
  {
   "cell_type": "code",
   "execution_count": 19,
   "metadata": {
    "execution": {
     "iopub.execute_input": "2023-08-22T12:09:29.151390Z",
     "iopub.status.busy": "2023-08-22T12:09:29.151065Z",
     "iopub.status.idle": "2023-08-22T12:09:29.155281Z",
     "shell.execute_reply": "2023-08-22T12:09:29.154432Z"
    }
   },
   "outputs": [
    {
     "name": "stdout",
     "output_type": "stream",
     "text": [
      "Help on function add in module sc3nb.osc.osc_communication:\n",
      "\n",
      "add(self, *args) -> 'Bundler'\n",
      "    Add content to this Bundler.\n",
      "    \n",
      "    Parameters\n",
      "    ----------\n",
      "    args : accepts an OSCMessage or Bundler\n",
      "           or a timetag with an OSCMessage or Bundler\n",
      "           or Bundler arguments like\n",
      "            (timetag, msg_addr, msg_params)\n",
      "            (timetag, msg_addr)\n",
      "            (timetag, msg)\n",
      "    \n",
      "    Returns\n",
      "    -------\n",
      "    Bundler\n",
      "        self for chaining\n",
      "\n"
     ]
    }
   ],
   "source": [
    "help(Bundler.add)"
   ]
  },
  {
   "cell_type": "markdown",
   "metadata": {},
   "source": [
    "`add` returns the Bundler for chaining"
   ]
  },
  {
   "cell_type": "code",
   "execution_count": 20,
   "metadata": {
    "execution": {
     "iopub.execute_input": "2023-08-22T12:09:29.159491Z",
     "iopub.status.busy": "2023-08-22T12:09:29.159178Z",
     "iopub.status.idle": "2023-08-22T12:09:29.164060Z",
     "shell.execute_reply": "2023-08-22T12:09:29.163302Z"
    }
   },
   "outputs": [],
   "source": [
    "msg1 = scn.OSCMessage(\"/s_new\", [\"s2\", -1, 1, 1,])\n",
    "msg2 = scn.OSCMessage(\"/n_free\", [-1])\n",
    "sc.server.bundler().add(1.5, msg1).add(1.9, msg2).send() # sound starts in 1.5s"
   ]
  },
  {
   "cell_type": "markdown",
   "metadata": {},
   "source": [
    "An alternative is the usage of the *context manager*. This means you can use the `with` statement for better handling as follows: "
   ]
  },
  {
   "cell_type": "code",
   "execution_count": 21,
   "metadata": {
    "execution": {
     "iopub.execute_input": "2023-08-22T12:09:29.168041Z",
     "iopub.status.busy": "2023-08-22T12:09:29.167700Z",
     "iopub.status.idle": "2023-08-22T12:09:29.172217Z",
     "shell.execute_reply": "2023-08-22T12:09:29.171349Z"
    }
   },
   "outputs": [],
   "source": [
    "with sc.server.bundler() as bundler:\n",
    "    bundler.add(0.0, msg1)\n",
    "    bundler.add(0.3, msg2)"
   ]
  },
  {
   "cell_type": "markdown",
   "metadata": {},
   "source": [
    "Instead of declaring the time explicitly with add you can also use `wait`."
   ]
  },
  {
   "cell_type": "code",
   "execution_count": 22,
   "metadata": {
    "execution": {
     "iopub.execute_input": "2023-08-22T12:09:29.176080Z",
     "iopub.status.busy": "2023-08-22T12:09:29.175773Z",
     "iopub.status.idle": "2023-08-22T12:09:29.180560Z",
     "shell.execute_reply": "2023-08-22T12:09:29.179667Z"
    }
   },
   "outputs": [],
   "source": [
    "iterations = 3\n",
    "with sc.server.bundler() as bundler:\n",
    "    for i in range(iterations):\n",
    "        bundler.add(msg1)\n",
    "        bundler.wait(0.3)\n",
    "        bundler.add(msg2)\n",
    "        bundler.wait(0.1)"
   ]
  },
  {
   "cell_type": "markdown",
   "metadata": {},
   "source": [
    "This adds up the internal time passed of the Bundler"
   ]
  },
  {
   "cell_type": "code",
   "execution_count": 23,
   "metadata": {
    "execution": {
     "iopub.execute_input": "2023-08-22T12:09:29.184352Z",
     "iopub.status.busy": "2023-08-22T12:09:29.183995Z",
     "iopub.status.idle": "2023-08-22T12:09:29.189117Z",
     "shell.execute_reply": "2023-08-22T12:09:29.188210Z"
    }
   },
   "outputs": [
    {
     "data": {
      "text/plain": [
       "1.2"
      ]
     },
     "execution_count": 23,
     "metadata": {},
     "output_type": "execute_result"
    }
   ],
   "source": [
    "bundler.passed_time"
   ]
  },
  {
   "cell_type": "code",
   "execution_count": 24,
   "metadata": {
    "execution": {
     "iopub.execute_input": "2023-08-22T12:09:29.192575Z",
     "iopub.status.busy": "2023-08-22T12:09:29.192198Z",
     "iopub.status.idle": "2023-08-22T12:09:29.196421Z",
     "shell.execute_reply": "2023-08-22T12:09:29.195546Z"
    }
   },
   "outputs": [],
   "source": [
    "assert bundler.passed_time == iterations * 0.3 + iterations * 0.1, \"Internal time seems wrong\""
   ]
  },
  {
   "cell_type": "markdown",
   "metadata": {},
   "source": [
    "Here are some different styles of coding the same sound with the Bundler features "
   ]
  },
  {
   "cell_type": "markdown",
   "metadata": {},
   "source": [
    " - server Bundler with add and Bundler Arguments"
   ]
  },
  {
   "cell_type": "code",
   "execution_count": 25,
   "metadata": {
    "execution": {
     "iopub.execute_input": "2023-08-22T12:09:29.200001Z",
     "iopub.status.busy": "2023-08-22T12:09:29.199727Z",
     "iopub.status.idle": "2023-08-22T12:09:29.203719Z",
     "shell.execute_reply": "2023-08-22T12:09:29.203050Z"
    }
   },
   "outputs": [],
   "source": [
    "with sc.server.bundler(send_on_exit=False) as bundler:\n",
    "    bundler.add(0.0, \"/s_new\", [\"s2\", -1, 1, 1,])\n",
    "    bundler.add(0.3, \"/n_free\", [-1])"
   ]
  },
  {
   "cell_type": "code",
   "execution_count": 26,
   "metadata": {
    "execution": {
     "iopub.execute_input": "2023-08-22T12:09:29.206896Z",
     "iopub.status.busy": "2023-08-22T12:09:29.206619Z",
     "iopub.status.idle": "2023-08-22T12:09:29.211149Z",
     "shell.execute_reply": "2023-08-22T12:09:29.210430Z"
    }
   },
   "outputs": [
    {
     "data": {
      "text/plain": [
       "b'#bundle\\x00\\x83\\xaa~\\x80\\x19\\x99\\x98\\x00\\x00\\x00\\x004#bundle\\x00\\x83\\xaa~\\x80\\x19\\x99\\x98\\x00\\x00\\x00\\x00 /s_new\\x00\\x00,siii\\x00\\x00\\x00s2\\x00\\x00\\xff\\xff\\xff\\xff\\x00\\x00\\x00\\x01\\x00\\x00\\x00\\x01\\x00\\x00\\x00$#bundle\\x00\\x83\\xaa~\\x80ffh\\x00\\x00\\x00\\x00\\x10/n_free\\x00,i\\x00\\x00\\xff\\xff\\xff\\xff'"
      ]
     },
     "execution_count": 26,
     "metadata": {},
     "output_type": "execute_result"
    }
   ],
   "source": [
    "dg1 = bundler.to_raw_osc(0.0)  # we set the time_offset explicitly so all Bundle datagrams are the same\n",
    "dg1"
   ]
  },
  {
   "cell_type": "markdown",
   "metadata": {},
   "source": [
    " - Bundler with explict latency set and using add"
   ]
  },
  {
   "cell_type": "code",
   "execution_count": 27,
   "metadata": {
    "execution": {
     "iopub.execute_input": "2023-08-22T12:09:29.214391Z",
     "iopub.status.busy": "2023-08-22T12:09:29.214113Z",
     "iopub.status.idle": "2023-08-22T12:09:29.217976Z",
     "shell.execute_reply": "2023-08-22T12:09:29.217401Z"
    }
   },
   "outputs": [],
   "source": [
    "with Bundler(sc.server.latency, send_on_exit=False) as bundler:\n",
    "    bundler.add(0.0, \"/s_new\", [\"s2\", -1, 1, 1])\n",
    "    bundler.add(0.3, \"/n_free\", [-1])"
   ]
  },
  {
   "cell_type": "code",
   "execution_count": 28,
   "metadata": {
    "execution": {
     "iopub.execute_input": "2023-08-22T12:09:29.221192Z",
     "iopub.status.busy": "2023-08-22T12:09:29.220902Z",
     "iopub.status.idle": "2023-08-22T12:09:29.225402Z",
     "shell.execute_reply": "2023-08-22T12:09:29.224681Z"
    }
   },
   "outputs": [
    {
     "data": {
      "text/plain": [
       "b'#bundle\\x00\\x83\\xaa~\\x80\\x19\\x99\\x98\\x00\\x00\\x00\\x004#bundle\\x00\\x83\\xaa~\\x80\\x19\\x99\\x98\\x00\\x00\\x00\\x00 /s_new\\x00\\x00,siii\\x00\\x00\\x00s2\\x00\\x00\\xff\\xff\\xff\\xff\\x00\\x00\\x00\\x01\\x00\\x00\\x00\\x01\\x00\\x00\\x00$#bundle\\x00\\x83\\xaa~\\x80ffh\\x00\\x00\\x00\\x00\\x10/n_free\\x00,i\\x00\\x00\\xff\\xff\\xff\\xff'"
      ]
     },
     "execution_count": 28,
     "metadata": {},
     "output_type": "execute_result"
    }
   ],
   "source": [
    "dg2 = bundler.to_raw_osc(0.0)\n",
    "dg2"
   ]
  },
  {
   "cell_type": "markdown",
   "metadata": {},
   "source": [
    " - server Bundler with implicit latency and using automatic bundled messages (See [Automatic Bundling](#Automatic-Bundling))"
   ]
  },
  {
   "cell_type": "code",
   "execution_count": 29,
   "metadata": {
    "execution": {
     "iopub.execute_input": "2023-08-22T12:09:29.228658Z",
     "iopub.status.busy": "2023-08-22T12:09:29.228387Z",
     "iopub.status.idle": "2023-08-22T12:09:29.232394Z",
     "shell.execute_reply": "2023-08-22T12:09:29.231753Z"
    }
   },
   "outputs": [],
   "source": [
    "with sc.server.bundler(send_on_exit=False) as bundler:\n",
    "    sc.server.msg(\"/s_new\", [\"s2\", -1, 1, 1,], bundle=True)\n",
    "    bundler.wait(0.3)\n",
    "    sc.server.msg(\"/n_free\", [-1], bundle=True)"
   ]
  },
  {
   "cell_type": "code",
   "execution_count": 30,
   "metadata": {
    "execution": {
     "iopub.execute_input": "2023-08-22T12:09:29.235431Z",
     "iopub.status.busy": "2023-08-22T12:09:29.235168Z",
     "iopub.status.idle": "2023-08-22T12:09:29.239661Z",
     "shell.execute_reply": "2023-08-22T12:09:29.239058Z"
    }
   },
   "outputs": [
    {
     "data": {
      "text/plain": [
       "b'#bundle\\x00\\x83\\xaa~\\x80\\x19\\x99\\x98\\x00\\x00\\x00\\x004#bundle\\x00\\x83\\xaa~\\x80\\x19\\x99\\x98\\x00\\x00\\x00\\x00 /s_new\\x00\\x00,siii\\x00\\x00\\x00s2\\x00\\x00\\xff\\xff\\xff\\xff\\x00\\x00\\x00\\x01\\x00\\x00\\x00\\x01\\x00\\x00\\x00$#bundle\\x00\\x83\\xaa~\\x80ffh\\x00\\x00\\x00\\x00\\x10/n_free\\x00,i\\x00\\x00\\xff\\xff\\xff\\xff'"
      ]
     },
     "execution_count": 30,
     "metadata": {},
     "output_type": "execute_result"
    }
   ],
   "source": [
    "dg3 = bundler.to_raw_osc(0.0)\n",
    "dg3"
   ]
  },
  {
   "cell_type": "code",
   "execution_count": 31,
   "metadata": {
    "execution": {
     "iopub.execute_input": "2023-08-22T12:09:29.242775Z",
     "iopub.status.busy": "2023-08-22T12:09:29.242513Z",
     "iopub.status.idle": "2023-08-22T12:09:29.245704Z",
     "shell.execute_reply": "2023-08-22T12:09:29.245096Z"
    }
   },
   "outputs": [],
   "source": [
    "# assert that all created raw OSC datagrams are the same\n",
    "assert dg1 == dg2 and dg1 == dg3, \"The datagrams are not the same\""
   ]
  },
  {
   "cell_type": "markdown",
   "metadata": {},
   "source": [
    "**Note:** You can use the Bundler with the Synth and Group classes for easier Message creation.\n",
    "This also removes the burden of managing the IDs for the different commands.  \n",
    "\n",
    "\n",
    "\n",
    "Also make sure to look at the [Automatic Bundling Feature](#Automatic-Bundling) which is using the bundled messages (`msg(..., bundle=True`)"
   ]
  },
  {
   "cell_type": "code",
   "execution_count": 32,
   "metadata": {
    "execution": {
     "iopub.execute_input": "2023-08-22T12:09:29.248737Z",
     "iopub.status.busy": "2023-08-22T12:09:29.248466Z",
     "iopub.status.idle": "2023-08-22T12:09:29.288158Z",
     "shell.execute_reply": "2023-08-22T12:09:29.287272Z"
    }
   },
   "outputs": [],
   "source": [
    "t0 = time.time()\n",
    "with sc.server.bundler() as bundler:\n",
    "    for i, r in enumerate(np.random.randn(100)):\n",
    "        onset = t0 + 3 + r\n",
    "        freq = 500 + 5 * i\n",
    "        bundler.add(onset, scn.Synth(\"s1\", \n",
    "            {\"freq\": freq, \"dur\": 1.5, \"num\": abs(r)+1}, new=False\n",
    "        ).new(return_msg=True))"
   ]
  },
  {
   "cell_type": "markdown",
   "metadata": {},
   "source": [
    "#### Bundler Timestamp\n",
    "\n",
    "Small numbers (<1e6) are interpreted as times in seconds relative to `time.time()`, evaluated at the time of sending"
   ]
  },
  {
   "cell_type": "code",
   "execution_count": 33,
   "metadata": {
    "execution": {
     "iopub.execute_input": "2023-08-22T12:09:29.291738Z",
     "iopub.status.busy": "2023-08-22T12:09:29.291449Z",
     "iopub.status.idle": "2023-08-22T12:09:29.295737Z",
     "shell.execute_reply": "2023-08-22T12:09:29.295070Z"
    }
   },
   "outputs": [],
   "source": [
    "sc.server.bundler(0.5, \"/s_new\", [\"s1\", -1, 1, 0, \"freq\", 200, \"dur\", 1]).send()  # a tone starts in 0.5s\n",
    "sc.server.bundler(1.0, \"/s_new\", [\"s1\", -1, 1, 0, \"freq\", 300, \"dur\", 1]).send()  # a tone starts in 1.0s"
   ]
  },
  {
   "cell_type": "markdown",
   "metadata": {},
   "source": [
    "**Attention:** \n",
    "\n",
    "Sending bundles with relative times could lead to unprecise timings.\n",
    "If you care about precision\n",
    "\n",
    "* use a bundler with multiple messages (if you care about the timings relative to each other in one Bundler)\n",
    "    * because all relative times of the inner messages are calculated on top of the outermost bundler timetag\n",
    "* or provide an explict timetag (>1e6) to specify absolute times (see the following examples)\n"
   ]
  },
  {
   "cell_type": "markdown",
   "metadata": {},
   "source": [
    "A single Bundler with multiple messages"
   ]
  },
  {
   "cell_type": "code",
   "execution_count": 34,
   "metadata": {
    "execution": {
     "iopub.execute_input": "2023-08-22T12:09:29.299107Z",
     "iopub.status.busy": "2023-08-22T12:09:29.298827Z",
     "iopub.status.idle": "2023-08-22T12:09:29.303193Z",
     "shell.execute_reply": "2023-08-22T12:09:29.302592Z"
    }
   },
   "outputs": [],
   "source": [
    "bundler = sc.server.bundler()\n",
    "bundler.add(0.5, \"/s_new\", [\"s1\", -1, 1, 0, \"freq\", 200, \"dur\", 1])\n",
    "bundler.add(1.0, \"/s_new\", [\"s1\", -1, 1, 0, \"freq\", 300, \"dur\", 1])\n",
    "bundler.send()  # second tone starts in 1.0s"
   ]
  },
  {
   "cell_type": "markdown",
   "metadata": {},
   "source": [
    "using `time.time()+timeoffset` for absolute times"
   ]
  },
  {
   "cell_type": "code",
   "execution_count": 35,
   "metadata": {
    "execution": {
     "iopub.execute_input": "2023-08-22T12:09:29.306386Z",
     "iopub.status.busy": "2023-08-22T12:09:29.306120Z",
     "iopub.status.idle": "2023-08-22T12:09:29.310311Z",
     "shell.execute_reply": "2023-08-22T12:09:29.309701Z"
    }
   },
   "outputs": [],
   "source": [
    "t0 = time.time()\n",
    "sc.server.bundler(t0 + 0.5, \"/s_new\", [\"s1\", -1, 1, 0, \"freq\", 200, \"dur\", 1]).send()  # a tone starts in 0.5s\n",
    "sc.server.bundler(t0 + 1.0, \"/s_new\", [\"s1\", -1, 1, 0, \"freq\", 300, \"dur\", 1]).send()  # a tone starts in 1.0s"
   ]
  },
  {
   "cell_type": "code",
   "execution_count": 36,
   "metadata": {
    "execution": {
     "iopub.execute_input": "2023-08-22T12:09:29.313266Z",
     "iopub.status.busy": "2023-08-22T12:09:29.312999Z",
     "iopub.status.idle": "2023-08-22T12:09:29.331168Z",
     "shell.execute_reply": "2023-08-22T12:09:29.330514Z"
    }
   },
   "outputs": [],
   "source": [
    "t0 = time.time()\n",
    "with sc.server.bundler() as bundler:\n",
    "    for i, r in enumerate(np.random.randn(100)): # note: 1000 will give: msg too long\n",
    "        onset = t0 + 3 + r\n",
    "        freq = 500 + 5 * i\n",
    "        msg_params = [\"s1\", -1, 1, 0, \"freq\", freq, \"dur\", 1.5, \"num\", abs(r)+1]\n",
    "        bundler.add(onset, \"/s_new\", msg_params)"
   ]
  },
  {
   "cell_type": "code",
   "execution_count": 37,
   "metadata": {
    "execution": {
     "iopub.execute_input": "2023-08-22T12:09:29.334309Z",
     "iopub.status.busy": "2023-08-22T12:09:29.334028Z",
     "iopub.status.idle": "2023-08-22T12:09:29.406366Z",
     "shell.execute_reply": "2023-08-22T12:09:29.404980Z"
    }
   },
   "outputs": [],
   "source": [
    "sc.server.free_all()"
   ]
  },
  {
   "cell_type": "markdown",
   "metadata": {},
   "source": [
    "#### Nesting Bundlers\n",
    "\n",
    "You can nest Bundlers: this will recalculate the time relative to the sending time of the outermost bundler"
   ]
  },
  {
   "cell_type": "code",
   "execution_count": 38,
   "metadata": {
    "execution": {
     "iopub.execute_input": "2023-08-22T12:09:29.410938Z",
     "iopub.status.busy": "2023-08-22T12:09:29.410622Z",
     "iopub.status.idle": "2023-08-22T12:09:29.416331Z",
     "shell.execute_reply": "2023-08-22T12:09:29.415530Z"
    }
   },
   "outputs": [],
   "source": [
    "with sc.server.bundler() as bundler_outer:\n",
    "    with sc.server.bundler(0.2) as bundler:\n",
    "        sc.server.msg(\"/s_new\", [\"s2\", -1, 1, 1,], bundle=True)\n",
    "        bundler.wait(0.3)\n",
    "        sc.server.msg(\"/n_free\", [-1], bundle=True)\n",
    "    bundler_outer.wait(0.8)\n",
    "    bundler_outer.add(bundler)"
   ]
  },
  {
   "cell_type": "code",
   "execution_count": 39,
   "metadata": {
    "execution": {
     "iopub.execute_input": "2023-08-22T12:09:29.419444Z",
     "iopub.status.busy": "2023-08-22T12:09:29.419168Z",
     "iopub.status.idle": "2023-08-22T12:09:29.423548Z",
     "shell.execute_reply": "2023-08-22T12:09:29.422770Z"
    }
   },
   "outputs": [
    {
     "data": {
      "text/plain": [
       "<Bundler {0.4: [<OSCMessage(\"/s_new\", ['s2', -1, 1, 1])>], 0.7: [<OSCMessage(\"/n_free\", [-1])>], 1.2000000000000002: [<OSCMessage(\"/s_new\", ['s2', -1, 1, 1])>], 1.5000000000000002: [<OSCMessage(\"/n_free\", [-1])>]}>"
      ]
     },
     "execution_count": 39,
     "metadata": {},
     "output_type": "execute_result"
    }
   ],
   "source": [
    "bundler_outer"
   ]
  },
  {
   "cell_type": "markdown",
   "metadata": {},
   "source": [
    "Or you can nest using `Bundler.add` and get the same results"
   ]
  },
  {
   "cell_type": "code",
   "execution_count": 40,
   "metadata": {
    "execution": {
     "iopub.execute_input": "2023-08-22T12:09:29.426790Z",
     "iopub.status.busy": "2023-08-22T12:09:29.426512Z",
     "iopub.status.idle": "2023-08-22T12:09:29.431345Z",
     "shell.execute_reply": "2023-08-22T12:09:29.430734Z"
    }
   },
   "outputs": [
    {
     "data": {
      "text/plain": [
       "<Bundler {0.4: [<OSCMessage(\"/s_new\", ['s2', -1, 1, 1])>], 0.7: [<OSCMessage(\"/n_free\", [-1])>], 1.2000000000000002: [<OSCMessage(\"/s_new\", ['s2', -1, 1, 1])>], 1.5000000000000002: [<OSCMessage(\"/n_free\", [-1])>]}>"
      ]
     },
     "execution_count": 40,
     "metadata": {},
     "output_type": "execute_result"
    }
   ],
   "source": [
    "bundler_outer_add = sc.server.bundler()\n",
    "bundler_outer_add.add(bundler)\n",
    "bundler_outer_add.add(0.8, bundler)"
   ]
  },
  {
   "cell_type": "code",
   "execution_count": 41,
   "metadata": {
    "execution": {
     "iopub.execute_input": "2023-08-22T12:09:29.434321Z",
     "iopub.status.busy": "2023-08-22T12:09:29.434057Z",
     "iopub.status.idle": "2023-08-22T12:09:29.437808Z",
     "shell.execute_reply": "2023-08-22T12:09:29.437188Z"
    }
   },
   "outputs": [],
   "source": [
    "assert bundler_outer.to_raw_osc(0.0) == bundler_outer_add.to_raw_osc(0.0), \"Bundler contents are not the same\""
   ]
  },
  {
   "cell_type": "markdown",
   "metadata": {},
   "source": [
    "Notice that using relative timetags with wait will delay the relative timetags aswell."
   ]
  },
  {
   "cell_type": "code",
   "execution_count": 42,
   "metadata": {
    "execution": {
     "iopub.execute_input": "2023-08-22T12:09:29.440907Z",
     "iopub.status.busy": "2023-08-22T12:09:29.440650Z",
     "iopub.status.idle": "2023-08-22T12:09:29.445668Z",
     "shell.execute_reply": "2023-08-22T12:09:29.445020Z"
    }
   },
   "outputs": [
    {
     "data": {
      "text/plain": [
       "<Bundler {1.4000000000000001: [<OSCMessage(\"/s_new\", ['s2', -1, 1, 1])>], 1.7000000000000002: [<OSCMessage(\"/n_free\", [-1])>], 2.2: [<OSCMessage(\"/s_new\", ['s2', -1, 1, 1])>], 2.5: [<OSCMessage(\"/n_free\", [-1])>]}>"
      ]
     },
     "execution_count": 42,
     "metadata": {},
     "output_type": "execute_result"
    }
   ],
   "source": [
    "bundler_outer_add = sc.server.bundler()\n",
    "bundler_outer_add.wait(1)  # delays both bundles\n",
    "bundler_outer_add.add(bundler)\n",
    "bundler_outer_add.add(0.8, bundler)"
   ]
  },
  {
   "cell_type": "code",
   "execution_count": 43,
   "metadata": {
    "execution": {
     "iopub.execute_input": "2023-08-22T12:09:29.448946Z",
     "iopub.status.busy": "2023-08-22T12:09:29.448483Z",
     "iopub.status.idle": "2023-08-22T12:09:29.453462Z",
     "shell.execute_reply": "2023-08-22T12:09:29.452754Z"
    }
   },
   "outputs": [
    {
     "data": {
      "text/plain": [
       "<Bundler {0.4: [<OSCMessage(\"/s_new\", ['s2', -1, 1, 1])>], 0.7: [<OSCMessage(\"/n_free\", [-1])>], 2.2: [<OSCMessage(\"/s_new\", ['s2', -1, 1, 1])>], 2.5: [<OSCMessage(\"/n_free\", [-1])>]}>"
      ]
     },
     "execution_count": 43,
     "metadata": {},
     "output_type": "execute_result"
    }
   ],
   "source": [
    "bundler_outer_add = sc.server.bundler()\n",
    "bundler_outer_add.add(bundler)\n",
    "bundler_outer_add.wait(1)  # delays the 2nd bundle\n",
    "bundler_outer_add.add(0.8, bundler)"
   ]
  },
  {
   "cell_type": "markdown",
   "metadata": {},
   "source": [
    "This can be helpful in loops where the relative time then can be seen as relative for this iteration"
   ]
  },
  {
   "cell_type": "code",
   "execution_count": 44,
   "metadata": {
    "execution": {
     "iopub.execute_input": "2023-08-22T12:09:29.456550Z",
     "iopub.status.busy": "2023-08-22T12:09:29.456289Z",
     "iopub.status.idle": "2023-08-22T12:09:29.461999Z",
     "shell.execute_reply": "2023-08-22T12:09:29.461368Z"
    }
   },
   "outputs": [
    {
     "data": {
      "text/plain": [
       "<Bundler {0.9: [<OSCMessage(\"/s_new\", ['s2', -1, 1, 1])>], 1.2: [<OSCMessage(\"/n_free\", [-1])>], 1.9000000000000001: [<OSCMessage(\"/s_new\", ['s2', -1, 1, 1])>], 2.2: [<OSCMessage(\"/n_free\", [-1])>], 2.9: [<OSCMessage(\"/s_new\", ['s2', -1, 1, 1])>], 3.1999999999999997: [<OSCMessage(\"/n_free\", [-1])>]}>"
      ]
     },
     "execution_count": 44,
     "metadata": {},
     "output_type": "execute_result"
    }
   ],
   "source": [
    "with sc.server.bundler() as nested_bundler_loop:\n",
    "    for i in range(3):\n",
    "        nested_bundler_loop.add(0.5, bundler)\n",
    "        nested_bundler_loop.wait(1)\n",
    "nested_bundler_loop"
   ]
  },
  {
   "cell_type": "markdown",
   "metadata": {},
   "source": [
    "### Managing IDs\n",
    "\n",
    "The OSC commands often require IDs for the different OSC commands. These should be manged by the `SCServer` to ensure not accidentally using wrong IDs. \n",
    "\n",
    "* See Allocating IDs in the [Server guide](./supercollider-objects/server-examples.ipynb) for more information about correctly using IDs manually.\n",
    "* Or use [Automatic Bundling](#Automatic-Bundling) and let sc3nb do the work for you!"
   ]
  },
  {
   "cell_type": "markdown",
   "metadata": {},
   "source": [
    "### Automatic Bundling"
   ]
  },
  {
   "cell_type": "markdown",
   "metadata": {},
   "source": [
    "Probably the most convenient way of sending OSC is by using the Automatic Bundling Feature.\n",
    "\n",
    "This allows you to simply use the SuperCollider Objects Synth and Group in the Context Manager of a Bundler and they will be automatically captured and stored. "
   ]
  },
  {
   "cell_type": "code",
   "execution_count": 45,
   "metadata": {
    "execution": {
     "iopub.execute_input": "2023-08-22T12:09:29.465492Z",
     "iopub.status.busy": "2023-08-22T12:09:29.465210Z",
     "iopub.status.idle": "2023-08-22T12:09:29.963691Z",
     "shell.execute_reply": "2023-08-22T12:09:29.962335Z"
    }
   },
   "outputs": [],
   "source": [
    "with sc.server.bundler() as bundler:\n",
    "    synth = scn.Synth(\"s2\")\n",
    "    bundler.wait(0.3)\n",
    "    synth.set(\"freq\", 1000)\n",
    "    bundler.wait(0.1)\n",
    "    synth.free()\n",
    "synth.wait()"
   ]
  },
  {
   "cell_type": "markdown",
   "metadata": {},
   "source": [
    "**Note** that it is important that to *only* wait on the Synth *after* the context of the Bundler has been closed.\n",
    "\n",
    "If you'd call `synth.wait()` in the Bundler context, it would wait before sending the /s_new Message to the server and then wait forever (or until timeout) for the /n_end notification."
   ]
  },
  {
   "cell_type": "code",
   "execution_count": 46,
   "metadata": {
    "execution": {
     "iopub.execute_input": "2023-08-22T12:09:29.968134Z",
     "iopub.status.busy": "2023-08-22T12:09:29.967813Z",
     "iopub.status.idle": "2023-08-22T12:09:31.977567Z",
     "shell.execute_reply": "2023-08-22T12:09:31.976638Z"
    }
   },
   "outputs": [
    {
     "name": "stderr",
     "output_type": "stream",
     "text": [
      "Error at SCServer('127.0.0.1', 57110) pid=14078 from scsynth: ('/fail', '/n_free', 'Node -1 not found')\n"
     ]
    },
    {
     "name": "stdout",
     "output_type": "stream",
     "text": [
      "Aborting. Exception raised in bundler:\n",
      "Traceback (most recent call last):\n",
      "  File \"/var/folders/g1/m1whjjvd7pq3yz_w9s0rj64r0000gn/T/ipykernel_14067/1927839133.py\", line 8, in <module>\n",
      "    synth.wait(timeout=2)  # without a timeout this would hang forever\n",
      "  File \"/Users/dreinsch/dev/soni/sc3nb/.tox/docs/lib/python3.10/site-packages/sc3nb/sc_objects/node.py\", line 682, in wait\n",
      "    raise TimeoutError(\"Timed out waiting for synth.\")\n",
      "TimeoutError: Timed out waiting for synth.\n",
      "\n"
     ]
    }
   ],
   "source": [
    "try:\n",
    "    with sc.server.bundler() as bundler:\n",
    "        synth = scn.Synth(\"s2\")\n",
    "        bundler.wait(0.3)\n",
    "        synth.set(\"freq\", 1000)\n",
    "        bundler.wait(0.1)\n",
    "        synth.free()\n",
    "        synth.wait(timeout=2)  # without a timeout this would hang forever\n",
    "except RuntimeError as error:\n",
    "    print(error)"
   ]
  },
  {
   "cell_type": "markdown",
   "metadata": {},
   "source": [
    "## Receiving OSC packets\n",
    "\n",
    "sc3nb is receiving OSC messages with the help of queues, one AddressQueue for each OSC address for which we want to receive messages."
   ]
  },
  {
   "cell_type": "code",
   "execution_count": 47,
   "metadata": {
    "execution": {
     "iopub.execute_input": "2023-08-22T12:09:31.981951Z",
     "iopub.status.busy": "2023-08-22T12:09:31.981624Z",
     "iopub.status.idle": "2023-08-22T12:09:31.987116Z",
     "shell.execute_reply": "2023-08-22T12:09:31.986492Z"
    }
   },
   "outputs": [
    {
     "data": {
      "text/plain": [
       "{<MasterControlReply.STATUS_REPLY: '/status.reply'>: AddressQueue /status.reply : [],\n",
       " <MasterControlReply.SYNCED: '/synced'>: AddressQueue /synced : [],\n",
       " <MasterControlReply.VERSION_REPLY: '/version.reply'>: AddressQueue /version.reply : [],\n",
       " <NodeCommand.SET: '/n_set'>: AddressQueue /n_set : [],\n",
       " <NodeCommand.SETN: '/n_setn'>: AddressQueue /n_setn : [],\n",
       " <GroupReply.QUERY_TREE_REPLY: '/g_queryTree.reply'>: AddressQueue /g_queryTree.reply : [],\n",
       " <NodeReply.INFO: '/n_info'>: AddressQueue /n_info : [],\n",
       " <BufferReply.INFO: '/b_info'>: AddressQueue /b_info : [],\n",
       " <BufferCommand.SET: '/b_set'>: AddressQueue /b_set : [],\n",
       " <BufferCommand.SETN: '/b_setn'>: AddressQueue /b_setn : [],\n",
       " <ControlBusCommand.SET: '/c_set'>: AddressQueue /c_set : [],\n",
       " <ControlBusCommand.SETN: '/c_setn'>: AddressQueue /c_setn : [],\n",
       " <ReplyAddress.RETURN_ADDR: '/return'>: AddressQueue /return : [],\n",
       " '/done/quit': AddressQueue /quit : [],\n",
       " '/done/notify': AddressQueue /notify : [],\n",
       " '/done/d_recv': AddressQueue /d_recv : [],\n",
       " '/done/d_load': AddressQueue /d_load : [],\n",
       " '/done/d_loadDir': AddressQueue /d_loadDir : [],\n",
       " '/done/b_alloc': AddressQueue /b_alloc : [],\n",
       " '/done/b_allocRead': AddressQueue /b_allocRead : [],\n",
       " '/done/b_allocReadChannel': AddressQueue /b_allocReadChannel : [],\n",
       " '/done/b_read': AddressQueue /b_read : [],\n",
       " '/done/b_readChannel': AddressQueue /b_readChannel : [],\n",
       " '/done/b_write': AddressQueue /b_write : [],\n",
       " '/done/b_free': AddressQueue /b_free : [],\n",
       " '/done/b_zero': AddressQueue /b_zero : [],\n",
       " '/done/b_gen': AddressQueue /b_gen : [],\n",
       " '/done/b_close': AddressQueue /b_close : []}"
      ]
     },
     "execution_count": 47,
     "metadata": {},
     "output_type": "execute_result"
    }
   ],
   "source": [
    "sc.server.msg_queues"
   ]
  },
  {
   "cell_type": "markdown",
   "metadata": {},
   "source": [
    "To see more information what messages are sent and received, set the logging level to INFO as demonstrated below."
   ]
  },
  {
   "cell_type": "code",
   "execution_count": 48,
   "metadata": {
    "execution": {
     "iopub.execute_input": "2023-08-22T12:09:31.990271Z",
     "iopub.status.busy": "2023-08-22T12:09:31.989995Z",
     "iopub.status.idle": "2023-08-22T12:09:31.993961Z",
     "shell.execute_reply": "2023-08-22T12:09:31.993199Z"
    }
   },
   "outputs": [],
   "source": [
    "import logging\n",
    "logging.basicConfig(level=logging.INFO)\n",
    "# even more verbose logging is avaible via\n",
    "# logging.basicConfig(level=logging.DEBUG)"
   ]
  },
  {
   "cell_type": "markdown",
   "metadata": {},
   "source": [
    "### Getting replies"
   ]
  },
  {
   "cell_type": "markdown",
   "metadata": {},
   "source": [
    "For certain outgoing OSC messages an incoming Message is defined.\n",
    "\n",
    "This means that on sending such a message sc3nb automatically waits for the incoming message at the corresponding Queue and returns the result.\n",
    "\n",
    "An example for this is `/sync {sync_id} -> /synced {sync_id}` "
   ]
  },
  {
   "cell_type": "code",
   "execution_count": 49,
   "metadata": {
    "execution": {
     "iopub.execute_input": "2023-08-22T12:09:31.997494Z",
     "iopub.status.busy": "2023-08-22T12:09:31.997188Z",
     "iopub.status.idle": "2023-08-22T12:09:32.021327Z",
     "shell.execute_reply": "2023-08-22T12:09:32.020318Z"
    }
   },
   "outputs": [
    {
     "name": "stderr",
     "output_type": "stream",
     "text": [
      "INFO:sc3nb.sc_objects.server:SCServer('127.0.0.1', 57110) pid=14078 got OSC msg from scsynth: ('/synced', 12345)\n"
     ]
    },
    {
     "data": {
      "text/plain": [
       "12345"
      ]
     },
     "execution_count": 49,
     "metadata": {},
     "output_type": "execute_result"
    }
   ],
   "source": [
    "sc.server.msg(\"/sync\", 12345)"
   ]
  },
  {
   "cell_type": "markdown",
   "metadata": {},
   "source": [
    "See all `(outgoing message, incoming message)` pairs:"
   ]
  },
  {
   "cell_type": "code",
   "execution_count": 50,
   "metadata": {
    "execution": {
     "iopub.execute_input": "2023-08-22T12:09:32.025062Z",
     "iopub.status.busy": "2023-08-22T12:09:32.024747Z",
     "iopub.status.idle": "2023-08-22T12:09:32.030134Z",
     "shell.execute_reply": "2023-08-22T12:09:32.029523Z"
    }
   },
   "outputs": [
    {
     "data": {
      "text/plain": [
       "{<MasterControlCommand.STATUS: '/status'>: <MasterControlReply.STATUS_REPLY: '/status.reply'>,\n",
       " <MasterControlCommand.SYNC: '/sync'>: <MasterControlReply.SYNCED: '/synced'>,\n",
       " <MasterControlCommand.VERSION: '/version'>: <MasterControlReply.VERSION_REPLY: '/version.reply'>,\n",
       " <SynthCommand.S_GET: '/s_get'>: <NodeCommand.SET: '/n_set'>,\n",
       " <SynthCommand.S_GETN: '/s_getn'>: <NodeCommand.SETN: '/n_setn'>,\n",
       " <GroupCommand.QUERY_TREE: '/g_queryTree'>: <GroupReply.QUERY_TREE_REPLY: '/g_queryTree.reply'>,\n",
       " <NodeCommand.QUERY: '/n_query'>: <NodeReply.INFO: '/n_info'>,\n",
       " <BufferCommand.QUERY: '/b_query'>: <BufferReply.INFO: '/b_info'>,\n",
       " <BufferCommand.GET: '/b_get'>: <BufferCommand.SET: '/b_set'>,\n",
       " <BufferCommand.GETN: '/b_getn'>: <BufferCommand.SETN: '/b_setn'>,\n",
       " <ControlBusCommand.GET: '/c_get'>: <ControlBusCommand.SET: '/c_set'>,\n",
       " <ControlBusCommand.GETN: '/c_getn'>: <ControlBusCommand.SETN: '/c_setn'>,\n",
       " <MasterControlCommand.QUIT: '/quit'>: '/done/quit',\n",
       " <MasterControlCommand.NOTIFY: '/notify'>: '/done/notify',\n",
       " <SynthDefinitionCommand.RECV: '/d_recv'>: '/done/d_recv',\n",
       " <SynthDefinitionCommand.LOAD: '/d_load'>: '/done/d_load',\n",
       " <SynthDefinitionCommand.LOAD_DIR: '/d_loadDir'>: '/done/d_loadDir',\n",
       " <BufferCommand.ALLOC: '/b_alloc'>: '/done/b_alloc',\n",
       " <BufferCommand.ALLOC_READ: '/b_allocRead'>: '/done/b_allocRead',\n",
       " <BufferCommand.ALLOC_READ_CHANNEL: '/b_allocReadChannel'>: '/done/b_allocReadChannel',\n",
       " <BufferCommand.READ: '/b_read'>: '/done/b_read',\n",
       " <BufferCommand.READ_CHANNEL: '/b_readChannel'>: '/done/b_readChannel',\n",
       " <BufferCommand.WRITE: '/b_write'>: '/done/b_write',\n",
       " <BufferCommand.FREE: '/b_free'>: '/done/b_free',\n",
       " <BufferCommand.ZERO: '/b_zero'>: '/done/b_zero',\n",
       " <BufferCommand.GEN: '/b_gen'>: '/done/b_gen',\n",
       " <BufferCommand.CLOSE: '/b_close'>: '/done/b_close'}"
      ]
     },
     "execution_count": 50,
     "metadata": {},
     "output_type": "execute_result"
    }
   ],
   "source": [
    "sc.server.reply_addresses"
   ]
  },
  {
   "cell_type": "markdown",
   "metadata": {},
   "source": [
    "You can get the reply address via"
   ]
  },
  {
   "cell_type": "code",
   "execution_count": 51,
   "metadata": {
    "execution": {
     "iopub.execute_input": "2023-08-22T12:09:32.033431Z",
     "iopub.status.busy": "2023-08-22T12:09:32.033110Z",
     "iopub.status.idle": "2023-08-22T12:09:32.038215Z",
     "shell.execute_reply": "2023-08-22T12:09:32.037472Z"
    }
   },
   "outputs": [
    {
     "data": {
      "text/plain": [
       "<MasterControlReply.SYNCED: '/synced'>"
      ]
     },
     "execution_count": 51,
     "metadata": {},
     "output_type": "execute_result"
    }
   ],
   "source": [
    "sc.server.get_reply_address(\"/sync\")"
   ]
  },
  {
   "cell_type": "markdown",
   "metadata": {},
   "source": [
    "or"
   ]
  },
  {
   "cell_type": "code",
   "execution_count": 52,
   "metadata": {
    "execution": {
     "iopub.execute_input": "2023-08-22T12:09:32.041262Z",
     "iopub.status.busy": "2023-08-22T12:09:32.041015Z",
     "iopub.status.idle": "2023-08-22T12:09:32.045403Z",
     "shell.execute_reply": "2023-08-22T12:09:32.044842Z"
    }
   },
   "outputs": [
    {
     "data": {
      "text/plain": [
       "<MasterControlReply.SYNCED: '/synced'>"
      ]
     },
     "execution_count": 52,
     "metadata": {},
     "output_type": "execute_result"
    }
   ],
   "source": [
    "sc.server.reply_addresses[\"/sync\"]"
   ]
  },
  {
   "cell_type": "markdown",
   "metadata": {},
   "source": [
    "If we specify `await_reply=False` the message will be kept in the queue"
   ]
  },
  {
   "cell_type": "code",
   "execution_count": 53,
   "metadata": {
    "execution": {
     "iopub.execute_input": "2023-08-22T12:09:32.048595Z",
     "iopub.status.busy": "2023-08-22T12:09:32.048288Z",
     "iopub.status.idle": "2023-08-22T12:09:32.051601Z",
     "shell.execute_reply": "2023-08-22T12:09:32.051026Z"
    }
   },
   "outputs": [],
   "source": [
    "sc.server.msg(\"/sync\", 1, await_reply=False)"
   ]
  },
  {
   "cell_type": "code",
   "execution_count": 54,
   "metadata": {
    "execution": {
     "iopub.execute_input": "2023-08-22T12:09:32.054672Z",
     "iopub.status.busy": "2023-08-22T12:09:32.054410Z",
     "iopub.status.idle": "2023-08-22T12:09:32.058645Z",
     "shell.execute_reply": "2023-08-22T12:09:32.058020Z"
    }
   },
   "outputs": [
    {
     "data": {
      "text/plain": [
       "AddressQueue /synced : []"
      ]
     },
     "execution_count": 54,
     "metadata": {},
     "output_type": "execute_result"
    }
   ],
   "source": [
    "sc.server.msg_queues[sc.server.get_reply_address(\"/sync\")]"
   ]
  },
  {
   "cell_type": "code",
   "execution_count": 55,
   "metadata": {
    "execution": {
     "iopub.execute_input": "2023-08-22T12:09:32.061669Z",
     "iopub.status.busy": "2023-08-22T12:09:32.061397Z",
     "iopub.status.idle": "2023-08-22T12:09:32.064860Z",
     "shell.execute_reply": "2023-08-22T12:09:32.064248Z"
    }
   },
   "outputs": [],
   "source": [
    "sc.server.msg(\"/sync\", 2, await_reply=False)"
   ]
  },
  {
   "cell_type": "code",
   "execution_count": 56,
   "metadata": {
    "execution": {
     "iopub.execute_input": "2023-08-22T12:09:32.067837Z",
     "iopub.status.busy": "2023-08-22T12:09:32.067583Z",
     "iopub.status.idle": "2023-08-22T12:09:32.071856Z",
     "shell.execute_reply": "2023-08-22T12:09:32.071205Z"
    }
   },
   "outputs": [
    {
     "data": {
      "text/plain": [
       "AddressQueue /synced : []"
      ]
     },
     "execution_count": 56,
     "metadata": {},
     "output_type": "execute_result"
    }
   ],
   "source": [
    "sc.server.msg_queues[sc.server.reply_addresses[\"/sync\"]]"
   ]
  },
  {
   "cell_type": "code",
   "execution_count": 57,
   "metadata": {
    "execution": {
     "iopub.execute_input": "2023-08-22T12:09:32.074972Z",
     "iopub.status.busy": "2023-08-22T12:09:32.074708Z",
     "iopub.status.idle": "2023-08-22T12:09:32.078882Z",
     "shell.execute_reply": "2023-08-22T12:09:32.078275Z"
    }
   },
   "outputs": [
    {
     "data": {
      "text/plain": [
       "AddressQueue /synced : [1]"
      ]
     },
     "execution_count": 57,
     "metadata": {},
     "output_type": "execute_result"
    }
   ],
   "source": [
    "sc.server.msg_queues[\"/synced\"]"
   ]
  },
  {
   "cell_type": "markdown",
   "metadata": {},
   "source": [
    "You can see how many values were hold."
   ]
  },
  {
   "cell_type": "code",
   "execution_count": 58,
   "metadata": {
    "execution": {
     "iopub.execute_input": "2023-08-22T12:09:32.081838Z",
     "iopub.status.busy": "2023-08-22T12:09:32.081587Z",
     "iopub.status.idle": "2023-08-22T12:09:32.086671Z",
     "shell.execute_reply": "2023-08-22T12:09:32.086032Z"
    }
   },
   "outputs": [
    {
     "data": {
      "text/plain": [
       "2"
      ]
     },
     "execution_count": 58,
     "metadata": {},
     "output_type": "execute_result"
    },
    {
     "name": "stderr",
     "output_type": "stream",
     "text": [
      "INFO:sc3nb.sc_objects.server:SCServer('127.0.0.1', 57110) pid=14078 got OSC msg from scsynth: ('/synced', 2)\n"
     ]
    }
   ],
   "source": [
    "sc.server.msg_queues[\"/synced\"].skips"
   ]
  },
  {
   "cell_type": "markdown",
   "metadata": {},
   "source": [
    "Notice that these hold messages will be skipped. "
   ]
  },
  {
   "cell_type": "code",
   "execution_count": 59,
   "metadata": {
    "execution": {
     "iopub.execute_input": "2023-08-22T12:09:32.089692Z",
     "iopub.status.busy": "2023-08-22T12:09:32.089435Z",
     "iopub.status.idle": "2023-08-22T12:09:32.113741Z",
     "shell.execute_reply": "2023-08-22T12:09:32.112842Z"
    }
   },
   "outputs": [
    {
     "name": "stderr",
     "output_type": "stream",
     "text": [
      "WARNING:sc3nb.osc.osc_communication:AddressQueue MasterControlReply.SYNCED: skipped value 1\n"
     ]
    },
    {
     "name": "stderr",
     "output_type": "stream",
     "text": [
      "WARNING:sc3nb.osc.osc_communication:AddressQueue MasterControlReply.SYNCED: skipped value 2\n"
     ]
    },
    {
     "name": "stderr",
     "output_type": "stream",
     "text": [
      "INFO:sc3nb.sc_objects.server:SCServer('127.0.0.1', 57110) pid=14078 got OSC msg from scsynth: ('/synced', 3)\n"
     ]
    },
    {
     "data": {
      "text/plain": [
       "3"
      ]
     },
     "execution_count": 59,
     "metadata": {},
     "output_type": "execute_result"
    }
   ],
   "source": [
    "sc.server.msg(\"/sync\", 3, await_reply=True)"
   ]
  },
  {
   "cell_type": "code",
   "execution_count": 60,
   "metadata": {
    "execution": {
     "iopub.execute_input": "2023-08-22T12:09:32.117739Z",
     "iopub.status.busy": "2023-08-22T12:09:32.117425Z",
     "iopub.status.idle": "2023-08-22T12:09:32.122570Z",
     "shell.execute_reply": "2023-08-22T12:09:32.121937Z"
    }
   },
   "outputs": [
    {
     "data": {
      "text/plain": [
       "AddressQueue /synced : []"
      ]
     },
     "execution_count": 60,
     "metadata": {},
     "output_type": "execute_result"
    }
   ],
   "source": [
    "sc.server.msg_queues[\"/synced\"]"
   ]
  },
  {
   "cell_type": "markdown",
   "metadata": {},
   "source": [
    "Therefore you should retrieve them with `get` and set `skip=False` if you care for old values in the queue and dont want them to be skipped."
   ]
  },
  {
   "cell_type": "code",
   "execution_count": 61,
   "metadata": {
    "execution": {
     "iopub.execute_input": "2023-08-22T12:09:32.125813Z",
     "iopub.status.busy": "2023-08-22T12:09:32.125544Z",
     "iopub.status.idle": "2023-08-22T12:09:32.148814Z",
     "shell.execute_reply": "2023-08-22T12:09:32.147820Z"
    }
   },
   "outputs": [
    {
     "name": "stderr",
     "output_type": "stream",
     "text": [
      "INFO:sc3nb.sc_objects.server:SCServer('127.0.0.1', 57110) pid=14078 got OSC msg from scsynth: ('/synced', 42)\n"
     ]
    },
    {
     "data": {
      "text/plain": [
       "42"
      ]
     },
     "execution_count": 61,
     "metadata": {},
     "output_type": "execute_result"
    }
   ],
   "source": [
    "sc.server.msg(\"/sync\", 42, await_reply=False)\n",
    "sc.server.msg_queues[\"/synced\"].get(skip=False)"
   ]
  },
  {
   "cell_type": "markdown",
   "metadata": {},
   "source": [
    "### Custom Message Queues\n",
    "\n",
    "If you want to get additional OSC Messages you need to create a custom MessageQueue"
   ]
  },
  {
   "cell_type": "code",
   "execution_count": 62,
   "metadata": {
    "execution": {
     "iopub.execute_input": "2023-08-22T12:09:32.152442Z",
     "iopub.status.busy": "2023-08-22T12:09:32.152120Z",
     "iopub.status.idle": "2023-08-22T12:09:32.155748Z",
     "shell.execute_reply": "2023-08-22T12:09:32.155097Z"
    }
   },
   "outputs": [],
   "source": [
    "from sc3nb.osc.osc_communication import MessageQueue"
   ]
  },
  {
   "cell_type": "code",
   "execution_count": 63,
   "metadata": {
    "execution": {
     "iopub.execute_input": "2023-08-22T12:09:32.159092Z",
     "iopub.status.busy": "2023-08-22T12:09:32.158832Z",
     "iopub.status.idle": "2023-08-22T12:09:32.163577Z",
     "shell.execute_reply": "2023-08-22T12:09:32.162844Z"
    }
   },
   "outputs": [
    {
     "name": "stdout",
     "output_type": "stream",
     "text": [
      "Help on class MessageQueue in module sc3nb.osc.osc_communication:\n",
      "\n",
      "class MessageQueue(MessageHandler)\n",
      " |  MessageQueue(address: str, preprocess: Optional[Callable] = None)\n",
      " |  \n",
      " |  Queue to retrieve OSC messages send to the corresponding OSC address\n",
      " |  \n",
      " |  Method resolution order:\n",
      " |      MessageQueue\n",
      " |      MessageHandler\n",
      " |      abc.ABC\n",
      " |      builtins.object\n",
      " |  \n",
      " |  Methods defined here:\n",
      " |  \n",
      " |  __init__(self, address: str, preprocess: Optional[Callable] = None)\n",
      " |      Create a new AddressQueue\n",
      " |      \n",
      " |      Parameters\n",
      " |      ----------\n",
      " |      address : str\n",
      " |          OSC address for this queue\n",
      " |      preprocess : function, optional\n",
      " |          function that will be applied to the value before they are enqueued\n",
      " |           (Default value = None)\n",
      " |  \n",
      " |  get(self, timeout: float = 5, skip: bool = True) -> Any\n",
      " |      Returns a value from the queue\n",
      " |      \n",
      " |      Parameters\n",
      " |      ----------\n",
      " |      timeout : int, optional\n",
      " |          Time in seconds that will be waited on the queue, by default 5\n",
      " |      skip : bool, optional\n",
      " |          If True the queue will skip as many values as `skips`, by default True\n",
      " |      \n",
      " |      Returns\n",
      " |      -------\n",
      " |      obj\n",
      " |          value from queue\n",
      " |      \n",
      " |      Raises\n",
      " |      ------\n",
      " |      Empty\n",
      " |          If the queue has no value\n",
      " |  \n",
      " |  put(self, address: str, *args) -> None\n",
      " |      Add a message to MessageQueue\n",
      " |      \n",
      " |      Parameters\n",
      " |      ----------\n",
      " |      address : str\n",
      " |          message address\n",
      " |  \n",
      " |  show(self) -> None\n",
      " |      Print the content of the queue.\n",
      " |  \n",
      " |  skipped(self)\n",
      " |      Skipp one queue value\n",
      " |  \n",
      " |  ----------------------------------------------------------------------\n",
      " |  Readonly properties defined here:\n",
      " |  \n",
      " |  map_values\n",
      " |      Values needed for dispatcher map call\n",
      " |      \n",
      " |      Returns\n",
      " |      -------\n",
      " |      tuple\n",
      " |          (OSC address pattern, callback function)\n",
      " |  \n",
      " |  size\n",
      " |      How many items are in this queue\n",
      " |  \n",
      " |  skips\n",
      " |      Counts how many times this queue was not synced\n",
      " |  \n",
      " |  ----------------------------------------------------------------------\n",
      " |  Data and other attributes defined here:\n",
      " |  \n",
      " |  __abstractmethods__ = frozenset()\n",
      " |  \n",
      " |  ----------------------------------------------------------------------\n",
      " |  Data descriptors inherited from MessageHandler:\n",
      " |  \n",
      " |  __dict__\n",
      " |      dictionary for instance variables (if defined)\n",
      " |  \n",
      " |  __weakref__\n",
      " |      list of weak references to the object (if defined)\n",
      "\n"
     ]
    }
   ],
   "source": [
    "help(MessageQueue)"
   ]
  },
  {
   "cell_type": "code",
   "execution_count": 64,
   "metadata": {
    "execution": {
     "iopub.execute_input": "2023-08-22T12:09:32.166818Z",
     "iopub.status.busy": "2023-08-22T12:09:32.166541Z",
     "iopub.status.idle": "2023-08-22T12:09:32.169670Z",
     "shell.execute_reply": "2023-08-22T12:09:32.169123Z"
    }
   },
   "outputs": [],
   "source": [
    "mq = MessageQueue(\"/test\")"
   ]
  },
  {
   "cell_type": "code",
   "execution_count": 65,
   "metadata": {
    "execution": {
     "iopub.execute_input": "2023-08-22T12:09:32.172609Z",
     "iopub.status.busy": "2023-08-22T12:09:32.172366Z",
     "iopub.status.idle": "2023-08-22T12:09:32.175507Z",
     "shell.execute_reply": "2023-08-22T12:09:32.174909Z"
    }
   },
   "outputs": [],
   "source": [
    "sc.server.add_msg_queue(mq)"
   ]
  },
  {
   "cell_type": "code",
   "execution_count": 66,
   "metadata": {
    "execution": {
     "iopub.execute_input": "2023-08-22T12:09:32.178498Z",
     "iopub.status.busy": "2023-08-22T12:09:32.178228Z",
     "iopub.status.idle": "2023-08-22T12:09:32.182611Z",
     "shell.execute_reply": "2023-08-22T12:09:32.182067Z"
    }
   },
   "outputs": [
    {
     "name": "stderr",
     "output_type": "stream",
     "text": [
      "INFO:sc3nb.sc_objects.server:SCServer('127.0.0.1', 57110) pid=14078 got OSC msg from sc3nb: ('/test', 'Hi!')\n"
     ]
    }
   ],
   "source": [
    "sc.server.msg(\"/test\", [\"Hi!\"], receiver=\"sc3nb\")"
   ]
  },
  {
   "cell_type": "code",
   "execution_count": 67,
   "metadata": {
    "execution": {
     "iopub.execute_input": "2023-08-22T12:09:32.185479Z",
     "iopub.status.busy": "2023-08-22T12:09:32.185235Z",
     "iopub.status.idle": "2023-08-22T12:09:32.189819Z",
     "shell.execute_reply": "2023-08-22T12:09:32.189085Z"
    }
   },
   "outputs": [
    {
     "data": {
      "text/plain": [
       "AddressQueue /test : ['Hi!']"
      ]
     },
     "execution_count": 67,
     "metadata": {},
     "output_type": "execute_result"
    }
   ],
   "source": [
    "sc.server.msg_queues[\"/test\"]"
   ]
  },
  {
   "cell_type": "code",
   "execution_count": 68,
   "metadata": {
    "execution": {
     "iopub.execute_input": "2023-08-22T12:09:32.193072Z",
     "iopub.status.busy": "2023-08-22T12:09:32.192779Z",
     "iopub.status.idle": "2023-08-22T12:09:32.197152Z",
     "shell.execute_reply": "2023-08-22T12:09:32.196574Z"
    }
   },
   "outputs": [
    {
     "name": "stderr",
     "output_type": "stream",
     "text": [
      "INFO:sc3nb.sc_objects.server:SCServer('127.0.0.1', 57110) pid=14078 got OSC msg from sc3nb: ('/test', 'Hello!')\n"
     ]
    }
   ],
   "source": [
    "sc.server.msg(\"/test\", [\"Hello!\"], receiver=\"sc3nb\")"
   ]
  },
  {
   "cell_type": "code",
   "execution_count": 69,
   "metadata": {
    "execution": {
     "iopub.execute_input": "2023-08-22T12:09:32.200156Z",
     "iopub.status.busy": "2023-08-22T12:09:32.199887Z",
     "iopub.status.idle": "2023-08-22T12:09:32.204104Z",
     "shell.execute_reply": "2023-08-22T12:09:32.203520Z"
    }
   },
   "outputs": [
    {
     "data": {
      "text/plain": [
       "AddressQueue /test : ['Hi!', 'Hello!']"
      ]
     },
     "execution_count": 69,
     "metadata": {},
     "output_type": "execute_result"
    }
   ],
   "source": [
    "sc.server.msg_queues[\"/test\"]"
   ]
  },
  {
   "cell_type": "code",
   "execution_count": 70,
   "metadata": {
    "execution": {
     "iopub.execute_input": "2023-08-22T12:09:32.207028Z",
     "iopub.status.busy": "2023-08-22T12:09:32.206770Z",
     "iopub.status.idle": "2023-08-22T12:09:32.211084Z",
     "shell.execute_reply": "2023-08-22T12:09:32.210505Z"
    }
   },
   "outputs": [
    {
     "data": {
      "text/plain": [
       "'Hi!'"
      ]
     },
     "execution_count": 70,
     "metadata": {},
     "output_type": "execute_result"
    }
   ],
   "source": [
    "sc.server.msg_queues[\"/test\"].get()"
   ]
  },
  {
   "cell_type": "code",
   "execution_count": 71,
   "metadata": {
    "execution": {
     "iopub.execute_input": "2023-08-22T12:09:32.214145Z",
     "iopub.status.busy": "2023-08-22T12:09:32.213881Z",
     "iopub.status.idle": "2023-08-22T12:09:32.218138Z",
     "shell.execute_reply": "2023-08-22T12:09:32.217600Z"
    }
   },
   "outputs": [
    {
     "data": {
      "text/plain": [
       "'Hello!'"
      ]
     },
     "execution_count": 71,
     "metadata": {},
     "output_type": "execute_result"
    }
   ],
   "source": [
    "sc.server.msg_queues[\"/test\"].get()"
   ]
  },
  {
   "cell_type": "markdown",
   "metadata": {},
   "source": [
    "If you want to create a pair of an outgoing message that will receive a certain incomming message you need to specify it via the `out_addr` arugment of `add_msg_queue` or you could use the shortcut for this `add_msg_pairs`"
   ]
  },
  {
   "cell_type": "code",
   "execution_count": 72,
   "metadata": {
    "execution": {
     "iopub.execute_input": "2023-08-22T12:09:32.221069Z",
     "iopub.status.busy": "2023-08-22T12:09:32.220816Z",
     "iopub.status.idle": "2023-08-22T12:09:32.224451Z",
     "shell.execute_reply": "2023-08-22T12:09:32.223756Z"
    }
   },
   "outputs": [
    {
     "name": "stdout",
     "output_type": "stream",
     "text": [
      "Help on method add_msg_pairs in module sc3nb.osc.osc_communication:\n",
      "\n",
      "add_msg_pairs(msg_pairs: Dict[str, str]) -> None method of sc3nb.sc_objects.server.SCServer instance\n",
      "    Add the provided pairs for message receiving.\n",
      "    \n",
      "    Parameters\n",
      "    ----------\n",
      "    msg_pairs : dict[str, str], optional\n",
      "        dict containing user specified message pairs.\n",
      "        {msg_addr: reply_addr}\n",
      "\n"
     ]
    }
   ],
   "source": [
    "help(sc.server.add_msg_pairs)"
   ]
  },
  {
   "cell_type": "code",
   "execution_count": 73,
   "metadata": {
    "execution": {
     "iopub.execute_input": "2023-08-22T12:09:32.227357Z",
     "iopub.status.busy": "2023-08-22T12:09:32.227107Z",
     "iopub.status.idle": "2023-08-22T12:09:32.230153Z",
     "shell.execute_reply": "2023-08-22T12:09:32.229532Z"
    }
   },
   "outputs": [],
   "source": [
    "sc.server.add_msg_pairs({\"/hi\": \"/hi.reply\"})"
   ]
  },
  {
   "cell_type": "markdown",
   "metadata": {},
   "source": [
    "Let's use `OSCdef` in sclang to send us replies."
   ]
  },
  {
   "cell_type": "code",
   "execution_count": 74,
   "metadata": {
    "execution": {
     "iopub.execute_input": "2023-08-22T12:09:32.233150Z",
     "iopub.status.busy": "2023-08-22T12:09:32.232908Z",
     "iopub.status.idle": "2023-08-22T12:09:32.240415Z",
     "shell.execute_reply": "2023-08-22T12:09:32.239743Z"
    }
   },
   "outputs": [
    {
     "name": "stdout",
     "output_type": "stream",
     "text": [
      "-> OSCdef(say_hi, /hi, nil, nil, nil)\n"
     ]
    }
   ],
   "source": [
    "%%sc\n",
    "OSCdef.newMatching(\"say_hi\", {|msg, time, addr, recvPort| addr.sendMsg(\"/hi.reply\", \"Hello there!\")}, '/hi');"
   ]
  },
  {
   "cell_type": "code",
   "execution_count": 75,
   "metadata": {
    "execution": {
     "iopub.execute_input": "2023-08-22T12:09:32.243550Z",
     "iopub.status.busy": "2023-08-22T12:09:32.243279Z",
     "iopub.status.idle": "2023-08-22T12:09:32.249510Z",
     "shell.execute_reply": "2023-08-22T12:09:32.248736Z"
    }
   },
   "outputs": [
    {
     "name": "stderr",
     "output_type": "stream",
     "text": [
      "INFO:sc3nb.sc_objects.server:SCServer('127.0.0.1', 57110) pid=14078 got OSC msg from sclang: ('/hi.reply', 'Hello there!')\n"
     ]
    },
    {
     "data": {
      "text/plain": [
       "'Hello there!'"
      ]
     },
     "execution_count": 75,
     "metadata": {},
     "output_type": "execute_result"
    }
   ],
   "source": [
    "sc.server.msg(\"/hi\", receiver=\"sclang\")"
   ]
  },
  {
   "cell_type": "markdown",
   "metadata": {},
   "source": [
    "There is also the class MessageQueueCollection, which allows to create multiple MessageQueues for a multiple `address/subaddresses` combination"
   ]
  },
  {
   "cell_type": "code",
   "execution_count": 76,
   "metadata": {
    "execution": {
     "iopub.execute_input": "2023-08-22T12:09:32.252523Z",
     "iopub.status.busy": "2023-08-22T12:09:32.252274Z",
     "iopub.status.idle": "2023-08-22T12:09:32.255374Z",
     "shell.execute_reply": "2023-08-22T12:09:32.254771Z"
    }
   },
   "outputs": [],
   "source": [
    "from sc3nb.osc.osc_communication import MessageQueueCollection"
   ]
  },
  {
   "cell_type": "code",
   "execution_count": 77,
   "metadata": {
    "execution": {
     "iopub.execute_input": "2023-08-22T12:09:32.258267Z",
     "iopub.status.busy": "2023-08-22T12:09:32.258021Z",
     "iopub.status.idle": "2023-08-22T12:09:32.262988Z",
     "shell.execute_reply": "2023-08-22T12:09:32.262355Z"
    }
   },
   "outputs": [
    {
     "name": "stdout",
     "output_type": "stream",
     "text": [
      "Help on class MessageQueueCollection in module sc3nb.osc.osc_communication:\n",
      "\n",
      "class MessageQueueCollection(MessageHandler)\n",
      " |  MessageQueueCollection(address: str, sub_addrs: Optional[Sequence[str]] = None)\n",
      " |  \n",
      " |  A collection of MessageQueues that are all sent to one and the same first address.\n",
      " |  \n",
      " |  Method resolution order:\n",
      " |      MessageQueueCollection\n",
      " |      MessageHandler\n",
      " |      abc.ABC\n",
      " |      builtins.object\n",
      " |  \n",
      " |  Methods defined here:\n",
      " |  \n",
      " |  __contains__(self, item) -> bool\n",
      " |  \n",
      " |  __getitem__(self, key)\n",
      " |  \n",
      " |  __init__(self, address: str, sub_addrs: Optional[Sequence[str]] = None)\n",
      " |      Create a collection of MessageQueues under the same first address\n",
      " |      \n",
      " |      Parameters\n",
      " |      ----------\n",
      " |      address : str\n",
      " |          first message address that is the same for all MessageQueues\n",
      " |      sub_addrs : Optional[Sequence[str]], optional\n",
      " |          secound message addresses with seperate queues, by default None\n",
      " |          Additional MessageQueues will be created on demand.\n",
      " |  \n",
      " |  put(self, address: str, *args) -> None\n",
      " |      Add a message to the corresponding MessageQueue\n",
      " |      \n",
      " |      Parameters\n",
      " |      ----------\n",
      " |      address : str\n",
      " |          first message address\n",
      " |  \n",
      " |  ----------------------------------------------------------------------\n",
      " |  Readonly properties defined here:\n",
      " |  \n",
      " |  map_values\n",
      " |      Values needed for dispatcher map call\n",
      " |      \n",
      " |      Returns\n",
      " |      -------\n",
      " |      tuple\n",
      " |          (OSC address pattern, callback function)\n",
      " |  \n",
      " |  ----------------------------------------------------------------------\n",
      " |  Data and other attributes defined here:\n",
      " |  \n",
      " |  __abstractmethods__ = frozenset()\n",
      " |  \n",
      " |  ----------------------------------------------------------------------\n",
      " |  Data descriptors inherited from MessageHandler:\n",
      " |  \n",
      " |  __dict__\n",
      " |      dictionary for instance variables (if defined)\n",
      " |  \n",
      " |  __weakref__\n",
      " |      list of weak references to the object (if defined)\n",
      "\n"
     ]
    }
   ],
   "source": [
    "help(MessageQueueCollection)"
   ]
  },
  {
   "cell_type": "code",
   "execution_count": 78,
   "metadata": {
    "execution": {
     "iopub.execute_input": "2023-08-22T12:09:32.266092Z",
     "iopub.status.busy": "2023-08-22T12:09:32.265824Z",
     "iopub.status.idle": "2023-08-22T12:09:32.269238Z",
     "shell.execute_reply": "2023-08-22T12:09:32.268603Z"
    }
   },
   "outputs": [],
   "source": [
    "mqc = MessageQueueCollection(\"/collect\", [\"/address1\", \"/address2\"])\n",
    "sc.server.add_msg_queue_collection(mqc)"
   ]
  },
  {
   "cell_type": "code",
   "execution_count": 79,
   "metadata": {
    "execution": {
     "iopub.execute_input": "2023-08-22T12:09:32.272351Z",
     "iopub.status.busy": "2023-08-22T12:09:32.272082Z",
     "iopub.status.idle": "2023-08-22T12:09:32.275430Z",
     "shell.execute_reply": "2023-08-22T12:09:32.274817Z"
    }
   },
   "outputs": [],
   "source": [
    "mqc = MessageQueueCollection(\"/auto_collect\")\n",
    "sc.server.add_msg_queue_collection(mqc)"
   ]
  },
  {
   "cell_type": "code",
   "execution_count": 80,
   "metadata": {
    "execution": {
     "iopub.execute_input": "2023-08-22T12:09:32.278297Z",
     "iopub.status.busy": "2023-08-22T12:09:32.278041Z",
     "iopub.status.idle": "2023-08-22T12:09:32.283239Z",
     "shell.execute_reply": "2023-08-22T12:09:32.282476Z"
    }
   },
   "outputs": [
    {
     "data": {
      "text/plain": [
       "{<MasterControlCommand.STATUS: '/status'>: <MasterControlReply.STATUS_REPLY: '/status.reply'>,\n",
       " <MasterControlCommand.SYNC: '/sync'>: <MasterControlReply.SYNCED: '/synced'>,\n",
       " <MasterControlCommand.VERSION: '/version'>: <MasterControlReply.VERSION_REPLY: '/version.reply'>,\n",
       " <SynthCommand.S_GET: '/s_get'>: <NodeCommand.SET: '/n_set'>,\n",
       " <SynthCommand.S_GETN: '/s_getn'>: <NodeCommand.SETN: '/n_setn'>,\n",
       " <GroupCommand.QUERY_TREE: '/g_queryTree'>: <GroupReply.QUERY_TREE_REPLY: '/g_queryTree.reply'>,\n",
       " <NodeCommand.QUERY: '/n_query'>: <NodeReply.INFO: '/n_info'>,\n",
       " <BufferCommand.QUERY: '/b_query'>: <BufferReply.INFO: '/b_info'>,\n",
       " <BufferCommand.GET: '/b_get'>: <BufferCommand.SET: '/b_set'>,\n",
       " <BufferCommand.GETN: '/b_getn'>: <BufferCommand.SETN: '/b_setn'>,\n",
       " <ControlBusCommand.GET: '/c_get'>: <ControlBusCommand.SET: '/c_set'>,\n",
       " <ControlBusCommand.GETN: '/c_getn'>: <ControlBusCommand.SETN: '/c_setn'>,\n",
       " <MasterControlCommand.QUIT: '/quit'>: '/done/quit',\n",
       " <MasterControlCommand.NOTIFY: '/notify'>: '/done/notify',\n",
       " <SynthDefinitionCommand.RECV: '/d_recv'>: '/done/d_recv',\n",
       " <SynthDefinitionCommand.LOAD: '/d_load'>: '/done/d_load',\n",
       " <SynthDefinitionCommand.LOAD_DIR: '/d_loadDir'>: '/done/d_loadDir',\n",
       " <BufferCommand.ALLOC: '/b_alloc'>: '/done/b_alloc',\n",
       " <BufferCommand.ALLOC_READ: '/b_allocRead'>: '/done/b_allocRead',\n",
       " <BufferCommand.ALLOC_READ_CHANNEL: '/b_allocReadChannel'>: '/done/b_allocReadChannel',\n",
       " <BufferCommand.READ: '/b_read'>: '/done/b_read',\n",
       " <BufferCommand.READ_CHANNEL: '/b_readChannel'>: '/done/b_readChannel',\n",
       " <BufferCommand.WRITE: '/b_write'>: '/done/b_write',\n",
       " <BufferCommand.FREE: '/b_free'>: '/done/b_free',\n",
       " <BufferCommand.ZERO: '/b_zero'>: '/done/b_zero',\n",
       " <BufferCommand.GEN: '/b_gen'>: '/done/b_gen',\n",
       " <BufferCommand.CLOSE: '/b_close'>: '/done/b_close',\n",
       " '/hi': '/hi.reply',\n",
       " '/address1': '/collect/address1',\n",
       " '/address2': '/collect/address2'}"
      ]
     },
     "execution_count": 80,
     "metadata": {},
     "output_type": "execute_result"
    }
   ],
   "source": [
    "sc.server.reply_addresses"
   ]
  },
  {
   "cell_type": "code",
   "execution_count": 81,
   "metadata": {
    "execution": {
     "iopub.execute_input": "2023-08-22T12:09:32.286464Z",
     "iopub.status.busy": "2023-08-22T12:09:32.286183Z",
     "iopub.status.idle": "2023-08-22T12:09:32.291175Z",
     "shell.execute_reply": "2023-08-22T12:09:32.290606Z"
    }
   },
   "outputs": [
    {
     "data": {
      "text/plain": [
       "{<MasterControlReply.STATUS_REPLY: '/status.reply'>: AddressQueue /status.reply : [],\n",
       " <MasterControlReply.SYNCED: '/synced'>: AddressQueue /synced : [],\n",
       " <MasterControlReply.VERSION_REPLY: '/version.reply'>: AddressQueue /version.reply : [],\n",
       " <NodeCommand.SET: '/n_set'>: AddressQueue /n_set : [],\n",
       " <NodeCommand.SETN: '/n_setn'>: AddressQueue /n_setn : [],\n",
       " <GroupReply.QUERY_TREE_REPLY: '/g_queryTree.reply'>: AddressQueue /g_queryTree.reply : [],\n",
       " <NodeReply.INFO: '/n_info'>: AddressQueue /n_info : [],\n",
       " <BufferReply.INFO: '/b_info'>: AddressQueue /b_info : [],\n",
       " <BufferCommand.SET: '/b_set'>: AddressQueue /b_set : [],\n",
       " <BufferCommand.SETN: '/b_setn'>: AddressQueue /b_setn : [],\n",
       " <ControlBusCommand.SET: '/c_set'>: AddressQueue /c_set : [],\n",
       " <ControlBusCommand.SETN: '/c_setn'>: AddressQueue /c_setn : [],\n",
       " <ReplyAddress.RETURN_ADDR: '/return'>: AddressQueue /return : [],\n",
       " '/done/quit': AddressQueue /quit : [],\n",
       " '/done/notify': AddressQueue /notify : [],\n",
       " '/done/d_recv': AddressQueue /d_recv : [],\n",
       " '/done/d_load': AddressQueue /d_load : [],\n",
       " '/done/d_loadDir': AddressQueue /d_loadDir : [],\n",
       " '/done/b_alloc': AddressQueue /b_alloc : [],\n",
       " '/done/b_allocRead': AddressQueue /b_allocRead : [],\n",
       " '/done/b_allocReadChannel': AddressQueue /b_allocReadChannel : [],\n",
       " '/done/b_read': AddressQueue /b_read : [],\n",
       " '/done/b_readChannel': AddressQueue /b_readChannel : [],\n",
       " '/done/b_write': AddressQueue /b_write : [],\n",
       " '/done/b_free': AddressQueue /b_free : [],\n",
       " '/done/b_zero': AddressQueue /b_zero : [],\n",
       " '/done/b_gen': AddressQueue /b_gen : [],\n",
       " '/done/b_close': AddressQueue /b_close : [],\n",
       " '/test': AddressQueue /test : [],\n",
       " '/hi.reply': AddressQueue /hi.reply : [],\n",
       " '/collect/address1': AddressQueue /address1 : [],\n",
       " '/collect/address2': AddressQueue /address2 : []}"
      ]
     },
     "execution_count": 81,
     "metadata": {},
     "output_type": "execute_result"
    }
   ],
   "source": [
    "sc.server.msg_queues"
   ]
  },
  {
   "cell_type": "code",
   "execution_count": 82,
   "metadata": {
    "execution": {
     "iopub.execute_input": "2023-08-22T12:09:32.294283Z",
     "iopub.status.busy": "2023-08-22T12:09:32.294001Z",
     "iopub.status.idle": "2023-08-22T12:09:32.301720Z",
     "shell.execute_reply": "2023-08-22T12:09:32.301008Z"
    }
   },
   "outputs": [
    {
     "name": "stdout",
     "output_type": "stream",
     "text": [
      "-> OSCdef(ab, /address1, nil, nil, nil)\n"
     ]
    }
   ],
   "source": [
    "%%scv\n",
    "OSCdef.newMatching(\"ab\", {|msg, time, addr, recvPort| addr.sendMsg('/collect', '/address1', \"toast\".scramble)}, '/address1');"
   ]
  },
  {
   "cell_type": "code",
   "execution_count": 83,
   "metadata": {
    "execution": {
     "iopub.execute_input": "2023-08-22T12:09:32.305035Z",
     "iopub.status.busy": "2023-08-22T12:09:32.304658Z",
     "iopub.status.idle": "2023-08-22T12:09:32.313325Z",
     "shell.execute_reply": "2023-08-22T12:09:32.312527Z"
    }
   },
   "outputs": [
    {
     "name": "stdout",
     "output_type": "stream",
     "text": [
      "-> OSCdef(ab, /address2, nil, nil, nil)\n"
     ]
    }
   ],
   "source": [
    "%%scv\n",
    "OSCdef.newMatching(\"ab\", {|msg, time, addr, recvPort| addr.sendMsg('/collect', '/address2', \"sonification\".scramble)}, '/address2');"
   ]
  },
  {
   "cell_type": "code",
   "execution_count": 84,
   "metadata": {
    "execution": {
     "iopub.execute_input": "2023-08-22T12:09:32.317015Z",
     "iopub.status.busy": "2023-08-22T12:09:32.316673Z",
     "iopub.status.idle": "2023-08-22T12:09:32.323066Z",
     "shell.execute_reply": "2023-08-22T12:09:32.322296Z"
    }
   },
   "outputs": [
    {
     "name": "stderr",
     "output_type": "stream",
     "text": [
      "INFO:sc3nb.sc_objects.server:SCServer('127.0.0.1', 57110) pid=14078 got OSC msg from sclang: ('/collect', '/address1', 'tstao')\n"
     ]
    },
    {
     "data": {
      "text/plain": [
       "'tstao'"
      ]
     },
     "execution_count": 84,
     "metadata": {},
     "output_type": "execute_result"
    }
   ],
   "source": [
    "sc.server.msg(\"/address1\", receiver=\"sclang\")"
   ]
  },
  {
   "cell_type": "code",
   "execution_count": 85,
   "metadata": {
    "execution": {
     "iopub.execute_input": "2023-08-22T12:09:32.326030Z",
     "iopub.status.busy": "2023-08-22T12:09:32.325762Z",
     "iopub.status.idle": "2023-08-22T12:09:32.331593Z",
     "shell.execute_reply": "2023-08-22T12:09:32.330938Z"
    }
   },
   "outputs": [
    {
     "name": "stderr",
     "output_type": "stream",
     "text": [
      "INFO:sc3nb.sc_objects.server:SCServer('127.0.0.1', 57110) pid=14078 got OSC msg from sclang: ('/collect', '/address2', 'isnfocitaoni')\n"
     ]
    },
    {
     "data": {
      "text/plain": [
       "'isnfocitaoni'"
      ]
     },
     "execution_count": 85,
     "metadata": {},
     "output_type": "execute_result"
    }
   ],
   "source": [
    "sc.server.msg(\"/address2\", receiver=\"sclang\")"
   ]
  },
  {
   "cell_type": "markdown",
   "metadata": {},
   "source": [
    "## Examples "
   ]
  },
  {
   "cell_type": "markdown",
   "metadata": {},
   "source": [
    "### Creating an OSC responder and msg to sclang for synthesis"
   ]
  },
  {
   "cell_type": "code",
   "execution_count": 86,
   "metadata": {
    "execution": {
     "iopub.execute_input": "2023-08-22T12:09:32.334773Z",
     "iopub.status.busy": "2023-08-22T12:09:32.334508Z",
     "iopub.status.idle": "2023-08-22T12:09:32.342275Z",
     "shell.execute_reply": "2023-08-22T12:09:32.341594Z"
    }
   },
   "outputs": [
    {
     "name": "stdout",
     "output_type": "stream",
     "text": [
      "-> OSCdef(dinger, /ding, nil, nil, nil)\n"
     ]
    }
   ],
   "source": [
    "%%sc\n",
    "OSCdef(\\dinger, { | msg, time, addr, recvPort |\n",
    "    var freq = msg[2];\n",
    "    {Pulse.ar(freq, 0.04, 0.3)!2 * EnvGen.ar(Env.perc, doneAction:2)}.play()\n",
    "}, '/ding')"
   ]
  },
  {
   "cell_type": "code",
   "execution_count": 87,
   "metadata": {
    "execution": {
     "iopub.execute_input": "2023-08-22T12:09:32.345477Z",
     "iopub.status.busy": "2023-08-22T12:09:32.345196Z",
     "iopub.status.idle": "2023-08-22T12:09:32.350061Z",
     "shell.execute_reply": "2023-08-22T12:09:32.349406Z"
    }
   },
   "outputs": [
    {
     "name": "stderr",
     "output_type": "stream",
     "text": [
      "INFO:sc3nb.osc.osc_communication:send to sclang : <Bundler {0.0: [<OSCMessage(\"/ding\", ['freq', 1000])>, <OSCMessage(\"/ding\", ['freq', 995])>, <OSCMessage(\"/ding\", ['freq', 990])>, <OSCMessage(\"/ding\", ['freq', 985])>, <OSCMessage(\"/ding\", ['freq', 980])>]}> contents size 5 \n"
     ]
    }
   ],
   "source": [
    "with scn.Bundler(receiver=sc.lang.addr):\n",
    "    for i in range(5):\n",
    "        sc.server.msg(\"/ding\", [\"freq\", 1000-5*i], bundle=True)"
   ]
  },
  {
   "cell_type": "code",
   "execution_count": 88,
   "metadata": {
    "execution": {
     "iopub.execute_input": "2023-08-22T12:09:32.353790Z",
     "iopub.status.busy": "2023-08-22T12:09:32.353468Z",
     "iopub.status.idle": "2023-08-22T12:09:32.357599Z",
     "shell.execute_reply": "2023-08-22T12:09:32.356958Z"
    }
   },
   "outputs": [],
   "source": [
    "for i in range(5):\n",
    "    sc.server.msg(\"/ding\", [\"freq\", 1000-5*i], receiver=sc.lang.addr)"
   ]
  },
  {
   "cell_type": "code",
   "execution_count": 89,
   "metadata": {
    "execution": {
     "iopub.execute_input": "2023-08-22T12:09:32.360882Z",
     "iopub.status.busy": "2023-08-22T12:09:32.360577Z",
     "iopub.status.idle": "2023-08-22T12:09:32.367600Z",
     "shell.execute_reply": "2023-08-22T12:09:32.367022Z"
    }
   },
   "outputs": [
    {
     "name": "stderr",
     "output_type": "stream",
     "text": [
      "INFO:sc3nb.sc_objects.server:SCServer('127.0.0.1', 57110) pid=14078 got OSC msg from scsynth: ('/n_go', 1000, 1, -1, -368, 0)\n"
     ]
    },
    {
     "name": "stderr",
     "output_type": "stream",
     "text": [
      "INFO:sc3nb.sc_objects.server:SCServer('127.0.0.1', 57110) pid=14078 got OSC msg from scsynth: ('/n_go', 1001, 1, -1, 1000, 0)\n"
     ]
    },
    {
     "name": "stdout",
     "output_type": "stream",
     "text": [
      "-> OSCdef\n"
     ]
    }
   ],
   "source": [
    "%scv OSCdef.freeAll()"
   ]
  },
  {
   "cell_type": "code",
   "execution_count": 90,
   "metadata": {
    "execution": {
     "iopub.execute_input": "2023-08-22T12:09:32.370561Z",
     "iopub.status.busy": "2023-08-22T12:09:32.370309Z",
     "iopub.status.idle": "2023-08-22T12:09:32.454429Z",
     "shell.execute_reply": "2023-08-22T12:09:32.452975Z"
    }
   },
   "outputs": [
    {
     "name": "stderr",
     "output_type": "stream",
     "text": [
      "INFO:sc3nb.sc_objects.server:SCServer('127.0.0.1', 57110) pid=14078 got OSC msg from scsynth: ('/n_go', 1002, 1, -1, 1001, 0)\n"
     ]
    },
    {
     "name": "stderr",
     "output_type": "stream",
     "text": [
      "INFO:sc3nb.sc_objects.server:SCServer('127.0.0.1', 57110) pid=14078 got OSC msg from scsynth: ('/n_go', 1003, 1, -1, 1002, 0)\n"
     ]
    },
    {
     "name": "stderr",
     "output_type": "stream",
     "text": [
      "INFO:sc3nb.sc_objects.server:SCServer('127.0.0.1', 57110) pid=14078 got OSC msg from scsynth: ('/n_go', 1004, 1, -1, 1003, 0)\n"
     ]
    },
    {
     "name": "stderr",
     "output_type": "stream",
     "text": [
      "INFO:sc3nb.sc_objects.server:SCServer('127.0.0.1', 57110) pid=14078 got OSC msg from scsynth: ('/n_go', 1005, 1, -1, 1004, 0)\n"
     ]
    },
    {
     "name": "stderr",
     "output_type": "stream",
     "text": [
      "INFO:sc3nb.sc_objects.server:SCServer('127.0.0.1', 57110) pid=14078 got OSC msg from scsynth: ('/n_go', 1006, 1, -1, 1005, 0)\n"
     ]
    },
    {
     "name": "stderr",
     "output_type": "stream",
     "text": [
      "INFO:sc3nb.sc_objects.server:SCServer('127.0.0.1', 57110) pid=14078 got OSC msg from scsynth: ('/n_go', 1007, 1, -1, 1006, 0)\n"
     ]
    },
    {
     "name": "stderr",
     "output_type": "stream",
     "text": [
      "INFO:sc3nb.sc_objects.server:SCServer('127.0.0.1', 57110) pid=14078 got OSC msg from scsynth: ('/n_go', 1008, 1, -1, 1007, 0)\n"
     ]
    },
    {
     "name": "stderr",
     "output_type": "stream",
     "text": [
      "INFO:sc3nb.sc_objects.server:SCServer('127.0.0.1', 57110) pid=14078 got OSC msg from scsynth: ('/n_go', 1009, 1, -1, 1008, 0)\n"
     ]
    },
    {
     "name": "stderr",
     "output_type": "stream",
     "text": [
      "INFO:sc3nb.sc_objects.server:SCServer('127.0.0.1', 57110) pid=14078 got OSC msg from scsynth: ('/done', '/quit')\n"
     ]
    },
    {
     "name": "stdout",
     "output_type": "stream",
     "text": [
      "Quitting SCServer... [scsynth | reached EOF ]\n",
      "Done.\n",
      "Exiting sclang... "
     ]
    },
    {
     "name": "stdout",
     "output_type": "stream",
     "text": [
      "[sclang | reached EOF ]\n",
      "Done.\n"
     ]
    }
   ],
   "source": [
    "sc.exit()"
   ]
  }
 ],
 "metadata": {
  "hide_input": false,
  "language_info": {
   "codemirror_mode": {
    "name": "ipython",
    "version": 3
   },
   "file_extension": ".py",
   "mimetype": "text/x-python",
   "name": "python",
   "nbconvert_exporter": "python",
   "pygments_lexer": "ipython3",
   "version": "3.10.11"
  },
  "nbsphinx": {
   "allow_errors": true
  },
  "toc": {
   "base_numbering": 1,
   "nav_menu": {},
   "number_sections": true,
   "sideBar": true,
   "skip_h1_title": true,
   "title_cell": "Table of Contents",
   "title_sidebar": "Contents",
   "toc_cell": false,
   "toc_position": {},
   "toc_section_display": true,
   "toc_window_display": false
  }
 },
 "nbformat": 4,
 "nbformat_minor": 4
}
