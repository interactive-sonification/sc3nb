{
 "cells": [
  {
   "cell_type": "markdown",
   "metadata": {},
   "source": [
    "# Bus"
   ]
  },
  {
   "cell_type": "code",
   "execution_count": 1,
   "metadata": {
    "execution": {
     "iopub.execute_input": "2021-05-16T16:24:57.461145Z",
     "iopub.status.busy": "2021-05-16T16:24:57.460155Z",
     "iopub.status.idle": "2021-05-16T16:24:57.980153Z",
     "shell.execute_reply": "2021-05-16T16:24:57.980153Z"
    }
   },
   "outputs": [],
   "source": [
    "import sc3nb as scn"
   ]
  },
  {
   "cell_type": "code",
   "execution_count": 2,
   "metadata": {
    "execution": {
     "iopub.execute_input": "2021-05-16T16:24:57.988153Z",
     "iopub.status.busy": "2021-05-16T16:24:57.988153Z",
     "iopub.status.idle": "2021-05-16T16:25:01.281833Z",
     "shell.execute_reply": "2021-05-16T16:25:01.281833Z"
    }
   },
   "outputs": [
    {
     "data": {
      "application/javascript": [
       "if (typeof Jupyter !== 'undefined') {\n",
       "                        Jupyter.keyboard_manager.command_shortcuts.add_shortcut(\n",
       "                        'Ctrl-.', {\n",
       "                        help : 'Free all nodes on SC server',\n",
       "                        help_index : 'zz',\n",
       "                        handler : function (event) {\n",
       "                            IPython.notebook.kernel.execute(\n",
       "                                \"import sc3nb; sc3nb.SC.get_default().server.free_all(root=True)\"\n",
       "                            )\n",
       "                            return true;}\n",
       "                        });\n",
       "                    }"
      ],
      "text/plain": [
       "<IPython.core.display.Javascript object>"
      ]
     },
     "metadata": {},
     "output_type": "display_data"
    },
    {
     "name": "stdout",
     "output_type": "stream",
     "text": [
      "Starting sclang process...\n"
     ]
    },
    {
     "name": "stdout",
     "output_type": "stream",
     "text": [
      "Done.\n",
      "Registering OSC /return callback in sclang...\n",
      "Done.\n",
      "Loading default SynthDescs\n",
      "Done.\n",
      "Booting SuperCollider Server...\n"
     ]
    },
    {
     "name": "stdout",
     "output_type": "stream",
     "text": [
      "Done.\n"
     ]
    }
   ],
   "source": [
    "sc = scn.startup()"
   ]
  },
  {
   "cell_type": "markdown",
   "metadata": {},
   "source": [
    "## Using a Control Bus"
   ]
  },
  {
   "cell_type": "code",
   "execution_count": 3,
   "metadata": {
    "execution": {
     "iopub.execute_input": "2021-05-16T16:25:01.285828Z",
     "iopub.status.busy": "2021-05-16T16:25:01.284828Z",
     "iopub.status.idle": "2021-05-16T16:25:01.286827Z",
     "shell.execute_reply": "2021-05-16T16:25:01.286827Z"
    }
   },
   "outputs": [
    {
     "data": {
      "text/plain": [
       "Bus(control, ids=[512])"
      ]
     },
     "execution_count": 1,
     "metadata": {},
     "output_type": "execute_result"
    }
   ],
   "source": [
    "bus = scn.Bus('control')\n",
    "bus"
   ]
  },
  {
   "cell_type": "code",
   "execution_count": 4,
   "metadata": {
    "execution": {
     "iopub.execute_input": "2021-05-16T16:25:01.289829Z",
     "iopub.status.busy": "2021-05-16T16:25:01.288834Z",
     "iopub.status.idle": "2021-05-16T16:25:01.293827Z",
     "shell.execute_reply": "2021-05-16T16:25:01.293827Z"
    }
   },
   "outputs": [
    {
     "data": {
      "text/plain": [
       "0.0"
      ]
     },
     "execution_count": 1,
     "metadata": {},
     "output_type": "execute_result"
    }
   ],
   "source": [
    "bus.get()"
   ]
  },
  {
   "cell_type": "code",
   "execution_count": 5,
   "metadata": {
    "execution": {
     "iopub.execute_input": "2021-05-16T16:25:01.295828Z",
     "iopub.status.busy": "2021-05-16T16:25:01.295828Z",
     "iopub.status.idle": "2021-05-16T16:25:01.306843Z",
     "shell.execute_reply": "2021-05-16T16:25:01.306843Z"
    }
   },
   "outputs": [],
   "source": [
    "syn = scn.Synth(\"s2\")"
   ]
  },
  {
   "cell_type": "markdown",
   "metadata": {},
   "source": [
    "map the frequency of the synth to the bus value"
   ]
  },
  {
   "cell_type": "code",
   "execution_count": 6,
   "metadata": {
    "execution": {
     "iopub.execute_input": "2021-05-16T16:25:01.310846Z",
     "iopub.status.busy": "2021-05-16T16:25:01.310846Z",
     "iopub.status.idle": "2021-05-16T16:25:01.312845Z",
     "shell.execute_reply": "2021-05-16T16:25:01.312845Z"
    }
   },
   "outputs": [
    {
     "data": {
      "text/plain": [
       "<Synth(20001) 's2' s {}>"
      ]
     },
     "execution_count": 1,
     "metadata": {},
     "output_type": "execute_result"
    }
   ],
   "source": [
    "syn.map(\"freq\", bus)"
   ]
  },
  {
   "cell_type": "code",
   "execution_count": 7,
   "metadata": {
    "execution": {
     "iopub.execute_input": "2021-05-16T16:25:01.315844Z",
     "iopub.status.busy": "2021-05-16T16:25:01.315844Z",
     "iopub.status.idle": "2021-05-16T16:25:01.318840Z",
     "shell.execute_reply": "2021-05-16T16:25:01.318840Z"
    }
   },
   "outputs": [],
   "source": [
    "bus.set(120) # changes synths frequency"
   ]
  },
  {
   "cell_type": "code",
   "execution_count": 8,
   "metadata": {
    "execution": {
     "iopub.execute_input": "2021-05-16T16:25:01.321842Z",
     "iopub.status.busy": "2021-05-16T16:25:01.321842Z",
     "iopub.status.idle": "2021-05-16T16:25:01.321842Z",
     "shell.execute_reply": "2021-05-16T16:25:01.322842Z"
    }
   },
   "outputs": [],
   "source": [
    "bus.set(440)"
   ]
  },
  {
   "cell_type": "markdown",
   "metadata": {},
   "source": [
    "Set the frequency value to remove the mapping"
   ]
  },
  {
   "cell_type": "code",
   "execution_count": 9,
   "metadata": {
    "execution": {
     "iopub.execute_input": "2021-05-16T16:25:01.325842Z",
     "iopub.status.busy": "2021-05-16T16:25:01.325842Z",
     "iopub.status.idle": "2021-05-16T16:25:01.327842Z",
     "shell.execute_reply": "2021-05-16T16:25:01.327842Z"
    }
   },
   "outputs": [
    {
     "data": {
      "text/plain": [
       "<Synth(20001) 's2' ~ {'freq': 220}>"
      ]
     },
     "execution_count": 1,
     "metadata": {},
     "output_type": "execute_result"
    }
   ],
   "source": [
    "syn.set(\"freq\", 220)"
   ]
  },
  {
   "cell_type": "code",
   "execution_count": 10,
   "metadata": {
    "execution": {
     "iopub.execute_input": "2021-05-16T16:25:01.329843Z",
     "iopub.status.busy": "2021-05-16T16:25:01.329843Z",
     "iopub.status.idle": "2021-05-16T16:25:01.332841Z",
     "shell.execute_reply": "2021-05-16T16:25:01.332841Z"
    }
   },
   "outputs": [],
   "source": [
    "bus.set(440)  # no change"
   ]
  },
  {
   "cell_type": "code",
   "execution_count": 11,
   "metadata": {
    "execution": {
     "iopub.execute_input": "2021-05-16T16:25:01.334841Z",
     "iopub.status.busy": "2021-05-16T16:25:01.334841Z",
     "iopub.status.idle": "2021-05-16T16:25:01.338840Z",
     "shell.execute_reply": "2021-05-16T16:25:01.338840Z"
    }
   },
   "outputs": [
    {
     "data": {
      "text/plain": [
       "<Synth(20001) 's2' ~f {'freq': 220}>"
      ]
     },
     "execution_count": 1,
     "metadata": {},
     "output_type": "execute_result"
    }
   ],
   "source": [
    "syn.free()"
   ]
  },
  {
   "cell_type": "markdown",
   "metadata": {},
   "source": [
    "Free the bus to mark the bus id as available again"
   ]
  },
  {
   "cell_type": "code",
   "execution_count": 12,
   "metadata": {
    "execution": {
     "iopub.execute_input": "2021-05-16T16:25:01.340842Z",
     "iopub.status.busy": "2021-05-16T16:25:01.340842Z",
     "iopub.status.idle": "2021-05-16T16:25:01.343842Z",
     "shell.execute_reply": "2021-05-16T16:25:01.343842Z"
    }
   },
   "outputs": [],
   "source": [
    "bus.free()"
   ]
  },
  {
   "cell_type": "markdown",
   "metadata": {},
   "source": [
    "## Use multiple Control Buses"
   ]
  },
  {
   "cell_type": "code",
   "execution_count": 13,
   "metadata": {
    "execution": {
     "iopub.execute_input": "2021-05-16T16:25:01.345841Z",
     "iopub.status.busy": "2021-05-16T16:25:01.345841Z",
     "iopub.status.idle": "2021-05-16T16:25:01.381842Z",
     "shell.execute_reply": "2021-05-16T16:25:01.381842Z"
    }
   },
   "outputs": [],
   "source": [
    "synth_name = scn.SynthDef(\"busMulti\", \"\"\"{ |out, freqs=#[200, 400], rates=#[1, 2] |\n",
    "    Out.ar(out, Splay.ar(SinOsc.ar(freqs) * Decay2.ar(Impulse.ar(rates), 0.001, 0.1)) * 0.5);\n",
    "}\"\"\").add()"
   ]
  },
  {
   "cell_type": "code",
   "execution_count": 14,
   "metadata": {
    "execution": {
     "iopub.execute_input": "2021-05-16T16:25:01.384842Z",
     "iopub.status.busy": "2021-05-16T16:25:01.384842Z",
     "iopub.status.idle": "2021-05-16T16:25:01.386843Z",
     "shell.execute_reply": "2021-05-16T16:25:01.386843Z"
    }
   },
   "outputs": [
    {
     "data": {
      "text/plain": [
       "Bus(control, ids=[512, 513])"
      ]
     },
     "execution_count": 1,
     "metadata": {},
     "output_type": "execute_result"
    }
   ],
   "source": [
    "buses = scn.Bus(\"control\", 2)\n",
    "buses"
   ]
  },
  {
   "cell_type": "code",
   "execution_count": 15,
   "metadata": {
    "execution": {
     "iopub.execute_input": "2021-05-16T16:25:01.388840Z",
     "iopub.status.busy": "2021-05-16T16:25:01.388840Z",
     "iopub.status.idle": "2021-05-16T16:25:01.392843Z",
     "shell.execute_reply": "2021-05-16T16:25:01.392843Z"
    }
   },
   "outputs": [
    {
     "data": {
      "text/plain": [
       "[0.0, 0.0]"
      ]
     },
     "execution_count": 1,
     "metadata": {},
     "output_type": "execute_result"
    }
   ],
   "source": [
    "buses.get()"
   ]
  },
  {
   "cell_type": "code",
   "execution_count": 16,
   "metadata": {
    "execution": {
     "iopub.execute_input": "2021-05-16T16:25:01.394840Z",
     "iopub.status.busy": "2021-05-16T16:25:01.394840Z",
     "iopub.status.idle": "2021-05-16T16:25:01.405344Z",
     "shell.execute_reply": "2021-05-16T16:25:01.405344Z"
    }
   },
   "outputs": [],
   "source": [
    "syn = scn.Synth(synth_name)"
   ]
  },
  {
   "cell_type": "code",
   "execution_count": 17,
   "metadata": {
    "execution": {
     "iopub.execute_input": "2021-05-16T16:25:01.409347Z",
     "iopub.status.busy": "2021-05-16T16:25:01.408343Z",
     "iopub.status.idle": "2021-05-16T16:25:01.410344Z",
     "shell.execute_reply": "2021-05-16T16:25:01.411348Z"
    }
   },
   "outputs": [
    {
     "data": {
      "text/plain": [
       "<Synth(20002) 'busMulti' s {}>"
      ]
     },
     "execution_count": 1,
     "metadata": {},
     "output_type": "execute_result"
    }
   ],
   "source": [
    "syn.map(\"rates\", buses)"
   ]
  },
  {
   "cell_type": "code",
   "execution_count": 18,
   "metadata": {
    "execution": {
     "iopub.execute_input": "2021-05-16T16:25:01.414348Z",
     "iopub.status.busy": "2021-05-16T16:25:01.414348Z",
     "iopub.status.idle": "2021-05-16T16:25:01.415345Z",
     "shell.execute_reply": "2021-05-16T16:25:01.415345Z"
    }
   },
   "outputs": [],
   "source": [
    "buses.set(1, 1)"
   ]
  },
  {
   "cell_type": "code",
   "execution_count": 19,
   "metadata": {
    "execution": {
     "iopub.execute_input": "2021-05-16T16:25:01.418344Z",
     "iopub.status.busy": "2021-05-16T16:25:01.418344Z",
     "iopub.status.idle": "2021-05-16T16:25:01.420346Z",
     "shell.execute_reply": "2021-05-16T16:25:01.420346Z"
    }
   },
   "outputs": [],
   "source": [
    "buses.set(1, 2)"
   ]
  },
  {
   "cell_type": "code",
   "execution_count": 20,
   "metadata": {
    "execution": {
     "iopub.execute_input": "2021-05-16T16:25:01.423344Z",
     "iopub.status.busy": "2021-05-16T16:25:01.423344Z",
     "iopub.status.idle": "2021-05-16T16:25:01.432379Z",
     "shell.execute_reply": "2021-05-16T16:25:01.432379Z"
    }
   },
   "outputs": [
    {
     "data": {
      "text/plain": [
       "[1.0, 2.0]"
      ]
     },
     "execution_count": 1,
     "metadata": {},
     "output_type": "execute_result"
    }
   ],
   "source": [
    "buses.get()"
   ]
  },
  {
   "cell_type": "code",
   "execution_count": 21,
   "metadata": {
    "execution": {
     "iopub.execute_input": "2021-05-16T16:25:01.434347Z",
     "iopub.status.busy": "2021-05-16T16:25:01.434347Z",
     "iopub.status.idle": "2021-05-16T16:25:01.438344Z",
     "shell.execute_reply": "2021-05-16T16:25:01.438344Z"
    }
   },
   "outputs": [
    {
     "data": {
      "text/plain": [
       "<Synth(20002) 'busMulti' f {}>"
      ]
     },
     "execution_count": 1,
     "metadata": {},
     "output_type": "execute_result"
    }
   ],
   "source": [
    "syn.free()"
   ]
  },
  {
   "cell_type": "code",
   "execution_count": 22,
   "metadata": {
    "execution": {
     "iopub.execute_input": "2021-05-16T16:25:01.440343Z",
     "iopub.status.busy": "2021-05-16T16:25:01.440343Z",
     "iopub.status.idle": "2021-05-16T16:25:01.441343Z",
     "shell.execute_reply": "2021-05-16T16:25:01.442344Z"
    }
   },
   "outputs": [],
   "source": [
    "buses.free()"
   ]
  },
  {
   "cell_type": "code",
   "execution_count": 23,
   "metadata": {
    "execution": {
     "iopub.execute_input": "2021-05-16T16:25:01.444344Z",
     "iopub.status.busy": "2021-05-16T16:25:01.444344Z",
     "iopub.status.idle": "2021-05-16T16:25:01.502344Z",
     "shell.execute_reply": "2021-05-16T16:25:01.502344Z"
    }
   },
   "outputs": [],
   "source": [
    "sc.server.free_all()"
   ]
  },
  {
   "cell_type": "code",
   "execution_count": 24,
   "metadata": {
    "execution": {
     "iopub.execute_input": "2021-05-16T16:25:01.505344Z",
     "iopub.status.busy": "2021-05-16T16:25:01.504344Z",
     "iopub.status.idle": "2021-05-16T16:25:02.673998Z",
     "shell.execute_reply": "2021-05-16T16:25:02.673998Z"
    }
   },
   "outputs": [],
   "source": [
    "sc.exit()"
   ]
  },
  {
   "cell_type": "code",
   "execution_count": null,
   "metadata": {},
   "outputs": [],
   "source": []
  }
 ],
 "metadata": {
  "language_info": {
   "codemirror_mode": {
    "name": "ipython",
    "version": 3
   },
   "file_extension": ".py",
   "mimetype": "text/x-python",
   "name": "python",
   "nbconvert_exporter": "python",
   "pygments_lexer": "ipython3",
   "version": "3.7.10"
  }
 },
 "nbformat": 4,
 "nbformat_minor": 4
}
