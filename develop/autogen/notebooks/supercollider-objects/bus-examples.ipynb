{
 "cells": [
  {
   "cell_type": "markdown",
   "metadata": {},
   "source": [
    "# Bus"
   ]
  },
  {
   "cell_type": "code",
   "execution_count": 1,
   "metadata": {
    "execution": {
     "iopub.execute_input": "2021-07-19T13:48:55.961987Z",
     "iopub.status.busy": "2021-07-19T13:48:55.961987Z",
     "iopub.status.idle": "2021-07-19T13:48:56.141989Z",
     "shell.execute_reply": "2021-07-19T13:48:56.142988Z"
    }
   },
   "outputs": [],
   "source": [
    "import sc3nb as scn"
   ]
  },
  {
   "cell_type": "code",
   "execution_count": 2,
   "metadata": {
    "execution": {
     "iopub.execute_input": "2021-07-19T13:48:56.151989Z",
     "iopub.status.busy": "2021-07-19T13:48:56.150987Z",
     "iopub.status.idle": "2021-07-19T13:48:59.295019Z",
     "shell.execute_reply": "2021-07-19T13:48:59.296018Z"
    }
   },
   "outputs": [
    {
     "data": {
      "application/javascript": [
       "if (typeof Jupyter !== 'undefined') {\n",
       "                        Jupyter.keyboard_manager.command_shortcuts.add_shortcut(\n",
       "                        'Ctrl-.', {\n",
       "                        help : 'Free all nodes on SC server',\n",
       "                        help_index : 'zz',\n",
       "                        handler : function (event) {\n",
       "                            IPython.notebook.kernel.execute(\n",
       "                                \"import sc3nb; sc3nb.SC.get_default().server.free_all(root=True)\"\n",
       "                            )\n",
       "                            return true;}\n",
       "                        });\n",
       "                    }"
      ],
      "text/plain": [
       "<IPython.core.display.Javascript object>"
      ]
     },
     "metadata": {},
     "output_type": "display_data"
    },
    {
     "name": "stdout",
     "output_type": "stream",
     "text": [
      "Starting sclang process... "
     ]
    },
    {
     "name": "stdout",
     "output_type": "stream",
     "text": [
      "Done.\n",
      "Registering OSC /return callback in sclang... Done.\n",
      "Loading default sc3nb SynthDefs... Done.\n",
      "Booting SuperCollider Server... "
     ]
    },
    {
     "name": "stdout",
     "output_type": "stream",
     "text": [
      "Done.\n"
     ]
    }
   ],
   "source": [
    "sc = scn.startup()"
   ]
  },
  {
   "cell_type": "markdown",
   "metadata": {},
   "source": [
    "## Using a Control Bus"
   ]
  },
  {
   "cell_type": "code",
   "execution_count": 3,
   "metadata": {
    "execution": {
     "iopub.execute_input": "2021-07-19T13:48:59.299018Z",
     "iopub.status.busy": "2021-07-19T13:48:59.299018Z",
     "iopub.status.idle": "2021-07-19T13:48:59.301020Z",
     "shell.execute_reply": "2021-07-19T13:48:59.301020Z"
    }
   },
   "outputs": [
    {
     "data": {
      "text/plain": [
       "Bus(rate='control', ids=[512])"
      ]
     },
     "execution_count": 3,
     "metadata": {},
     "output_type": "execute_result"
    }
   ],
   "source": [
    "bus = scn.Bus('control')\n",
    "bus"
   ]
  },
  {
   "cell_type": "code",
   "execution_count": 4,
   "metadata": {
    "execution": {
     "iopub.execute_input": "2021-07-19T13:48:59.304020Z",
     "iopub.status.busy": "2021-07-19T13:48:59.304020Z",
     "iopub.status.idle": "2021-07-19T13:48:59.316020Z",
     "shell.execute_reply": "2021-07-19T13:48:59.316020Z"
    }
   },
   "outputs": [
    {
     "data": {
      "text/plain": [
       "0.0"
      ]
     },
     "execution_count": 4,
     "metadata": {},
     "output_type": "execute_result"
    }
   ],
   "source": [
    "bus.get()"
   ]
  },
  {
   "cell_type": "code",
   "execution_count": 5,
   "metadata": {
    "execution": {
     "iopub.execute_input": "2021-07-19T13:48:59.319018Z",
     "iopub.status.busy": "2021-07-19T13:48:59.319018Z",
     "iopub.status.idle": "2021-07-19T13:48:59.330018Z",
     "shell.execute_reply": "2021-07-19T13:48:59.330018Z"
    }
   },
   "outputs": [],
   "source": [
    "syn = scn.Synth(\"s2\")"
   ]
  },
  {
   "cell_type": "markdown",
   "metadata": {},
   "source": [
    "map the frequency of the synth to the bus value"
   ]
  },
  {
   "cell_type": "code",
   "execution_count": 6,
   "metadata": {
    "execution": {
     "iopub.execute_input": "2021-07-19T13:48:59.334018Z",
     "iopub.status.busy": "2021-07-19T13:48:59.333018Z",
     "iopub.status.idle": "2021-07-19T13:48:59.336019Z",
     "shell.execute_reply": "2021-07-19T13:48:59.336019Z"
    }
   },
   "outputs": [
    {
     "data": {
      "text/plain": [
       "<Synth(20001) 's2' s {}>"
      ]
     },
     "execution_count": 6,
     "metadata": {},
     "output_type": "execute_result"
    }
   ],
   "source": [
    "syn.map(\"freq\", bus)"
   ]
  },
  {
   "cell_type": "code",
   "execution_count": 7,
   "metadata": {
    "execution": {
     "iopub.execute_input": "2021-07-19T13:48:59.339018Z",
     "iopub.status.busy": "2021-07-19T13:48:59.339018Z",
     "iopub.status.idle": "2021-07-19T13:48:59.342019Z",
     "shell.execute_reply": "2021-07-19T13:48:59.343019Z"
    }
   },
   "outputs": [
    {
     "data": {
      "text/plain": [
       "Bus(rate='control', ids=[512])"
      ]
     },
     "execution_count": 7,
     "metadata": {},
     "output_type": "execute_result"
    }
   ],
   "source": [
    "bus.set(120) # changes synths frequency"
   ]
  },
  {
   "cell_type": "code",
   "execution_count": 8,
   "metadata": {
    "execution": {
     "iopub.execute_input": "2021-07-19T13:48:59.345018Z",
     "iopub.status.busy": "2021-07-19T13:48:59.345018Z",
     "iopub.status.idle": "2021-07-19T13:48:59.348018Z",
     "shell.execute_reply": "2021-07-19T13:48:59.348018Z"
    }
   },
   "outputs": [
    {
     "data": {
      "text/plain": [
       "Bus(rate='control', ids=[512])"
      ]
     },
     "execution_count": 8,
     "metadata": {},
     "output_type": "execute_result"
    }
   ],
   "source": [
    "bus.set(440)"
   ]
  },
  {
   "cell_type": "markdown",
   "metadata": {},
   "source": [
    "Set the frequency value to remove the mapping"
   ]
  },
  {
   "cell_type": "code",
   "execution_count": 9,
   "metadata": {
    "execution": {
     "iopub.execute_input": "2021-07-19T13:48:59.351018Z",
     "iopub.status.busy": "2021-07-19T13:48:59.351018Z",
     "iopub.status.idle": "2021-07-19T13:48:59.355034Z",
     "shell.execute_reply": "2021-07-19T13:48:59.355034Z"
    }
   },
   "outputs": [
    {
     "data": {
      "text/plain": [
       "<Synth(20001) 's2' ~ {'freq': 220}>"
      ]
     },
     "execution_count": 9,
     "metadata": {},
     "output_type": "execute_result"
    }
   ],
   "source": [
    "syn.set(\"freq\", 220)"
   ]
  },
  {
   "cell_type": "code",
   "execution_count": 10,
   "metadata": {
    "execution": {
     "iopub.execute_input": "2021-07-19T13:48:59.358034Z",
     "iopub.status.busy": "2021-07-19T13:48:59.357033Z",
     "iopub.status.idle": "2021-07-19T13:48:59.360034Z",
     "shell.execute_reply": "2021-07-19T13:48:59.360034Z"
    }
   },
   "outputs": [
    {
     "data": {
      "text/plain": [
       "Bus(rate='control', ids=[512])"
      ]
     },
     "execution_count": 10,
     "metadata": {},
     "output_type": "execute_result"
    }
   ],
   "source": [
    "bus.set(440)  # no change"
   ]
  },
  {
   "cell_type": "code",
   "execution_count": 11,
   "metadata": {
    "execution": {
     "iopub.execute_input": "2021-07-19T13:48:59.363033Z",
     "iopub.status.busy": "2021-07-19T13:48:59.362034Z",
     "iopub.status.idle": "2021-07-19T13:48:59.365034Z",
     "shell.execute_reply": "2021-07-19T13:48:59.365034Z"
    }
   },
   "outputs": [
    {
     "data": {
      "text/plain": [
       "<Synth(20001) 's2' f {'freq': 220}>"
      ]
     },
     "execution_count": 11,
     "metadata": {},
     "output_type": "execute_result"
    }
   ],
   "source": [
    "syn.free()"
   ]
  },
  {
   "cell_type": "markdown",
   "metadata": {},
   "source": [
    "Free the bus to mark the bus id as available again"
   ]
  },
  {
   "cell_type": "code",
   "execution_count": 12,
   "metadata": {
    "execution": {
     "iopub.execute_input": "2021-07-19T13:48:59.367036Z",
     "iopub.status.busy": "2021-07-19T13:48:59.366035Z",
     "iopub.status.idle": "2021-07-19T13:48:59.370034Z",
     "shell.execute_reply": "2021-07-19T13:48:59.370034Z"
    }
   },
   "outputs": [],
   "source": [
    "bus.free()"
   ]
  },
  {
   "cell_type": "markdown",
   "metadata": {},
   "source": [
    "## Use multiple Control Buses"
   ]
  },
  {
   "cell_type": "code",
   "execution_count": 13,
   "metadata": {
    "execution": {
     "iopub.execute_input": "2021-07-19T13:48:59.373033Z",
     "iopub.status.busy": "2021-07-19T13:48:59.373033Z",
     "iopub.status.idle": "2021-07-19T13:48:59.403472Z",
     "shell.execute_reply": "2021-07-19T13:48:59.403472Z"
    }
   },
   "outputs": [],
   "source": [
    "synth_name = scn.SynthDef(\"busMulti\", \"\"\"{ |out, freqs=#[200, 400], rates=#[1, 2] |\n",
    "    Out.ar(out, Splay.ar(SinOsc.ar(freqs) * Decay2.ar(Impulse.ar(rates), 0.001, 0.1)) * 0.5);\n",
    "}\"\"\").add()"
   ]
  },
  {
   "cell_type": "code",
   "execution_count": 14,
   "metadata": {
    "execution": {
     "iopub.execute_input": "2021-07-19T13:48:59.407473Z",
     "iopub.status.busy": "2021-07-19T13:48:59.406472Z",
     "iopub.status.idle": "2021-07-19T13:48:59.409473Z",
     "shell.execute_reply": "2021-07-19T13:48:59.409473Z"
    }
   },
   "outputs": [
    {
     "data": {
      "text/plain": [
       "Bus(rate='control', ids=[512, 513])"
      ]
     },
     "execution_count": 14,
     "metadata": {},
     "output_type": "execute_result"
    }
   ],
   "source": [
    "buses = scn.Bus(\"control\", 2)\n",
    "buses"
   ]
  },
  {
   "cell_type": "code",
   "execution_count": 15,
   "metadata": {
    "execution": {
     "iopub.execute_input": "2021-07-19T13:48:59.412473Z",
     "iopub.status.busy": "2021-07-19T13:48:59.411474Z",
     "iopub.status.idle": "2021-07-19T13:48:59.424032Z",
     "shell.execute_reply": "2021-07-19T13:48:59.424032Z"
    }
   },
   "outputs": [
    {
     "data": {
      "text/plain": [
       "[0.0, 0.0]"
      ]
     },
     "execution_count": 15,
     "metadata": {},
     "output_type": "execute_result"
    }
   ],
   "source": [
    "buses.get()"
   ]
  },
  {
   "cell_type": "code",
   "execution_count": 16,
   "metadata": {
    "execution": {
     "iopub.execute_input": "2021-07-19T13:48:59.427032Z",
     "iopub.status.busy": "2021-07-19T13:48:59.427032Z",
     "iopub.status.idle": "2021-07-19T13:48:59.439032Z",
     "shell.execute_reply": "2021-07-19T13:48:59.439032Z"
    }
   },
   "outputs": [],
   "source": [
    "syn = scn.Synth(synth_name)"
   ]
  },
  {
   "cell_type": "code",
   "execution_count": 17,
   "metadata": {
    "execution": {
     "iopub.execute_input": "2021-07-19T13:48:59.443034Z",
     "iopub.status.busy": "2021-07-19T13:48:59.443034Z",
     "iopub.status.idle": "2021-07-19T13:48:59.446032Z",
     "shell.execute_reply": "2021-07-19T13:48:59.446032Z"
    }
   },
   "outputs": [
    {
     "data": {
      "text/plain": [
       "<Synth(20002) 'busMulti' s {}>"
      ]
     },
     "execution_count": 17,
     "metadata": {},
     "output_type": "execute_result"
    }
   ],
   "source": [
    "syn.map(\"rates\", buses)"
   ]
  },
  {
   "cell_type": "code",
   "execution_count": 18,
   "metadata": {
    "execution": {
     "iopub.execute_input": "2021-07-19T13:48:59.449032Z",
     "iopub.status.busy": "2021-07-19T13:48:59.449032Z",
     "iopub.status.idle": "2021-07-19T13:48:59.452032Z",
     "shell.execute_reply": "2021-07-19T13:48:59.452032Z"
    }
   },
   "outputs": [
    {
     "data": {
      "text/plain": [
       "Bus(rate='control', ids=[512, 513])"
      ]
     },
     "execution_count": 18,
     "metadata": {},
     "output_type": "execute_result"
    }
   ],
   "source": [
    "buses.set(1, 1)"
   ]
  },
  {
   "cell_type": "code",
   "execution_count": 19,
   "metadata": {
    "execution": {
     "iopub.execute_input": "2021-07-19T13:48:59.455033Z",
     "iopub.status.busy": "2021-07-19T13:48:59.455033Z",
     "iopub.status.idle": "2021-07-19T13:48:59.457032Z",
     "shell.execute_reply": "2021-07-19T13:48:59.457032Z"
    }
   },
   "outputs": [
    {
     "data": {
      "text/plain": [
       "Bus(rate='control', ids=[512, 513])"
      ]
     },
     "execution_count": 19,
     "metadata": {},
     "output_type": "execute_result"
    }
   ],
   "source": [
    "buses.set(1, 2)"
   ]
  },
  {
   "cell_type": "code",
   "execution_count": 20,
   "metadata": {
    "execution": {
     "iopub.execute_input": "2021-07-19T13:48:59.460032Z",
     "iopub.status.busy": "2021-07-19T13:48:59.459033Z",
     "iopub.status.idle": "2021-07-19T13:48:59.465032Z",
     "shell.execute_reply": "2021-07-19T13:48:59.465032Z"
    }
   },
   "outputs": [
    {
     "data": {
      "text/plain": [
       "[1.0, 2.0]"
      ]
     },
     "execution_count": 20,
     "metadata": {},
     "output_type": "execute_result"
    }
   ],
   "source": [
    "buses.get()"
   ]
  },
  {
   "cell_type": "code",
   "execution_count": 21,
   "metadata": {
    "execution": {
     "iopub.execute_input": "2021-07-19T13:48:59.468032Z",
     "iopub.status.busy": "2021-07-19T13:48:59.468032Z",
     "iopub.status.idle": "2021-07-19T13:48:59.471032Z",
     "shell.execute_reply": "2021-07-19T13:48:59.471032Z"
    }
   },
   "outputs": [
    {
     "data": {
      "text/plain": [
       "<Synth(20002) 'busMulti' f {}>"
      ]
     },
     "execution_count": 21,
     "metadata": {},
     "output_type": "execute_result"
    }
   ],
   "source": [
    "syn.free()"
   ]
  },
  {
   "cell_type": "code",
   "execution_count": 22,
   "metadata": {
    "execution": {
     "iopub.execute_input": "2021-07-19T13:48:59.474032Z",
     "iopub.status.busy": "2021-07-19T13:48:59.473032Z",
     "iopub.status.idle": "2021-07-19T13:48:59.475034Z",
     "shell.execute_reply": "2021-07-19T13:48:59.475034Z"
    }
   },
   "outputs": [],
   "source": [
    "buses.free()"
   ]
  },
  {
   "cell_type": "code",
   "execution_count": 23,
   "metadata": {
    "execution": {
     "iopub.execute_input": "2021-07-19T13:48:59.478032Z",
     "iopub.status.busy": "2021-07-19T13:48:59.477032Z",
     "iopub.status.idle": "2021-07-19T13:48:59.554673Z",
     "shell.execute_reply": "2021-07-19T13:48:59.554673Z"
    }
   },
   "outputs": [],
   "source": [
    "sc.server.free_all()"
   ]
  },
  {
   "cell_type": "code",
   "execution_count": 24,
   "metadata": {
    "execution": {
     "iopub.execute_input": "2021-07-19T13:48:59.557672Z",
     "iopub.status.busy": "2021-07-19T13:48:59.557672Z",
     "iopub.status.idle": "2021-07-19T13:48:59.822647Z",
     "shell.execute_reply": "2021-07-19T13:48:59.822647Z"
    }
   },
   "outputs": [
    {
     "name": "stdout",
     "output_type": "stream",
     "text": [
      "Quitting SCServer... Done.\n",
      "Exiting sclang... "
     ]
    },
    {
     "name": "stdout",
     "output_type": "stream",
     "text": [
      "Done.\n"
     ]
    }
   ],
   "source": [
    "sc.exit()"
   ]
  },
  {
   "cell_type": "code",
   "execution_count": null,
   "metadata": {},
   "outputs": [],
   "source": []
  }
 ],
 "metadata": {
  "language_info": {
   "codemirror_mode": {
    "name": "ipython",
    "version": 3
   },
   "file_extension": ".py",
   "mimetype": "text/x-python",
   "name": "python",
   "nbconvert_exporter": "python",
   "pygments_lexer": "ipython3",
   "version": "3.7.10"
  }
 },
 "nbformat": 4,
 "nbformat_minor": 4
}
