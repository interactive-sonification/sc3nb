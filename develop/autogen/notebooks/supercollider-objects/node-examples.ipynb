{
 "cells": [
  {
   "cell_type": "code",
   "execution_count": 1,
   "metadata": {
    "execution": {
     "iopub.execute_input": "2021-06-23T17:54:56.074102Z",
     "iopub.status.busy": "2021-06-23T17:54:56.074102Z",
     "iopub.status.idle": "2021-06-23T17:54:56.467623Z",
     "shell.execute_reply": "2021-06-23T17:54:56.467623Z"
    }
   },
   "outputs": [],
   "source": [
    "# header / imports\n",
    "import time\n",
    "import numpy as np\n",
    "import matplotlib.pyplot as plt\n",
    "%matplotlib inline\n",
    "\n",
    "import sc3nb as scn\n",
    "from sc3nb import Synth"
   ]
  },
  {
   "cell_type": "code",
   "execution_count": 2,
   "metadata": {
    "execution": {
     "iopub.execute_input": "2021-06-23T17:54:56.472620Z",
     "iopub.status.busy": "2021-06-23T17:54:56.472620Z",
     "iopub.status.idle": "2021-06-23T17:54:59.693717Z",
     "shell.execute_reply": "2021-06-23T17:54:59.693717Z"
    }
   },
   "outputs": [
    {
     "data": {
      "application/javascript": [
       "if (typeof Jupyter !== 'undefined') {\n",
       "                        Jupyter.keyboard_manager.command_shortcuts.add_shortcut(\n",
       "                        'Ctrl-.', {\n",
       "                        help : 'Free all nodes on SC server',\n",
       "                        help_index : 'zz',\n",
       "                        handler : function (event) {\n",
       "                            IPython.notebook.kernel.execute(\n",
       "                                \"import sc3nb; sc3nb.SC.get_default().server.free_all(root=True)\"\n",
       "                            )\n",
       "                            return true;}\n",
       "                        });\n",
       "                    }"
      ],
      "text/plain": [
       "<IPython.core.display.Javascript object>"
      ]
     },
     "metadata": {},
     "output_type": "display_data"
    },
    {
     "name": "stdout",
     "output_type": "stream",
     "text": [
      "Starting sclang process... "
     ]
    },
    {
     "name": "stdout",
     "output_type": "stream",
     "text": [
      "Done.\n",
      "Registering OSC /return callback in sclang... Done.\n",
      "Loading default sc3nb SynthDefs... Done.\n",
      "Booting SuperCollider Server... "
     ]
    },
    {
     "name": "stdout",
     "output_type": "stream",
     "text": [
      "Done.\n"
     ]
    }
   ],
   "source": [
    "sc = scn.startup()"
   ]
  },
  {
   "cell_type": "markdown",
   "metadata": {},
   "source": [
    "# Nodes (Synth and Group)\n",
    "\n",
    "One of the most important objects in SuperCollider are Nodes."
   ]
  },
  {
   "cell_type": "markdown",
   "metadata": {},
   "source": [
    "To see all Nodes on the Server use"
   ]
  },
  {
   "cell_type": "code",
   "execution_count": 3,
   "metadata": {
    "execution": {
     "iopub.execute_input": "2021-06-23T17:54:59.696717Z",
     "iopub.status.busy": "2021-06-23T17:54:59.696717Z",
     "iopub.status.idle": "2021-06-23T17:54:59.721718Z",
     "shell.execute_reply": "2021-06-23T17:54:59.721718Z"
    }
   },
   "outputs": [
    {
     "name": "stdout",
     "output_type": "stream",
     "text": [
      "NODE TREE Group 0\n",
      "   -24 s2\n",
      "     freq: 1000 amp: 0.050000000745058 num: 2 pan: 0 lg: 0.10000000149012 gate: 1\n",
      "   469762049 group\n",
      "   402653185 group\n",
      "   335544321 group\n",
      "   268435457 group\n",
      "   201326593 group\n",
      "   134217729 group\n",
      "   67108865 group\n",
      "   1 group\n"
     ]
    }
   ],
   "source": [
    "sc.server.dump_tree()"
   ]
  },
  {
   "cell_type": "markdown",
   "metadata": {},
   "source": [
    "You can also get a python object represenation via"
   ]
  },
  {
   "cell_type": "code",
   "execution_count": 4,
   "metadata": {
    "execution": {
     "iopub.execute_input": "2021-06-23T17:54:59.724718Z",
     "iopub.status.busy": "2021-06-23T17:54:59.723718Z",
     "iopub.status.idle": "2021-06-23T17:54:59.752734Z",
     "shell.execute_reply": "2021-06-23T17:54:59.751736Z"
    }
   },
   "outputs": [
    {
     "data": {
      "text/plain": [
       "Group(0)  {} children=[\n",
       "  <Synth(-24) 's2'  {'freq': 1000.0, 'amp': 0.05000000074505806, 'num': 2.0, 'pan': 0.0, 'lg': 0.10000000149011612, 'gate': 1.0}>,\n",
       "  Group(469762049) ~ {} children=[],\n",
       "  Group(402653185) ~ {} children=[],\n",
       "  Group(335544321) ~ {} children=[],\n",
       "  Group(268435457) ~ {} children=[],\n",
       "  Group(201326593) ~ {} children=[],\n",
       "  Group(134217729) ~ {} children=[],\n",
       "  Group(67108865) ~ {} children=[],\n",
       "  Group(1) ~ {} children=[]]"
      ]
     },
     "execution_count": 1,
     "metadata": {},
     "output_type": "execute_result"
    }
   ],
   "source": [
    "root_node = sc.server.query_all_nodes()\n",
    "root_node"
   ]
  },
  {
   "cell_type": "code",
   "execution_count": 5,
   "metadata": {
    "execution": {
     "iopub.execute_input": "2021-06-23T17:54:59.758737Z",
     "iopub.status.busy": "2021-06-23T17:54:59.757735Z",
     "iopub.status.idle": "2021-06-23T17:54:59.760738Z",
     "shell.execute_reply": "2021-06-23T17:54:59.761738Z"
    }
   },
   "outputs": [
    {
     "data": {
      "text/plain": [
       "Group(1) ~ {} children=[]"
      ]
     },
     "execution_count": 1,
     "metadata": {},
     "output_type": "execute_result"
    }
   ],
   "source": [
    "root_node.children[-1]"
   ]
  },
  {
   "cell_type": "markdown",
   "metadata": {},
   "source": [
    "A node is either a [Synth](#Synth) or a [Group](#Group) of nodes"
   ]
  },
  {
   "cell_type": "markdown",
   "metadata": {},
   "source": [
    "## Synth"
   ]
  },
  {
   "cell_type": "markdown",
   "metadata": {},
   "source": [
    "### Create and control a Synth"
   ]
  },
  {
   "cell_type": "markdown",
   "metadata": {},
   "source": [
    "Create a new Synth"
   ]
  },
  {
   "cell_type": "code",
   "execution_count": 6,
   "metadata": {
    "execution": {
     "iopub.execute_input": "2021-06-23T17:54:59.768737Z",
     "iopub.status.busy": "2021-06-23T17:54:59.767738Z",
     "iopub.status.idle": "2021-06-23T17:54:59.771737Z",
     "shell.execute_reply": "2021-06-23T17:54:59.771737Z"
    }
   },
   "outputs": [
    {
     "data": {
      "text/plain": [
       "<Synth(20001) 's2' s {'freq': 100}>"
      ]
     },
     "execution_count": 1,
     "metadata": {},
     "output_type": "execute_result"
    }
   ],
   "source": [
    "synth = Synth(name=\"s2\", controls={\"freq\": 100})\n",
    "synth"
   ]
  },
  {
   "cell_type": "markdown",
   "metadata": {},
   "source": [
    "You can now hear the Synth playing and see it in the NodeTree"
   ]
  },
  {
   "cell_type": "code",
   "execution_count": 7,
   "metadata": {
    "execution": {
     "iopub.execute_input": "2021-06-23T17:54:59.777734Z",
     "iopub.status.busy": "2021-06-23T17:54:59.776735Z",
     "iopub.status.idle": "2021-06-23T17:54:59.781736Z",
     "shell.execute_reply": "2021-06-23T17:54:59.781736Z"
    }
   },
   "outputs": [
    {
     "data": {
      "text/plain": [
       "Group(67108865) ~ {} children=[]"
      ]
     },
     "execution_count": 1,
     "metadata": {},
     "output_type": "execute_result"
    }
   ],
   "source": [
    "sc.server.default_group"
   ]
  },
  {
   "cell_type": "code",
   "execution_count": 8,
   "metadata": {
    "execution": {
     "iopub.execute_input": "2021-06-23T17:54:59.786737Z",
     "iopub.status.busy": "2021-06-23T17:54:59.785739Z",
     "iopub.status.idle": "2021-06-23T17:54:59.805733Z",
     "shell.execute_reply": "2021-06-23T17:54:59.806733Z"
    }
   },
   "outputs": [
    {
     "data": {
      "text/plain": [
       "Group(0)  {} children=[\n",
       "  <Synth(-24) 's2'  {'freq': 1000.0, 'amp': 0.05000000074505806, 'num': 2.0, 'pan': 0.0, 'lg': 0.10000000149011612, 'gate': 1.0}>,\n",
       "  Group(469762049) ~ {} children=[],\n",
       "  Group(402653185) ~ {} children=[],\n",
       "  Group(335544321) ~ {} children=[],\n",
       "  Group(268435457) ~ {} children=[],\n",
       "  Group(201326593) ~ {} children=[],\n",
       "  Group(134217729) ~ {} children=[],\n",
       "  Group(67108865) ~ {} children=[\n",
       "    <Synth(20001) 's2' ~ {'freq': 100.0, 'amp': 0.30000001192092896, 'num': 4.0, 'pan': 0.0, 'lg': 0.10000000149011612, 'gate': 1.0}>],\n",
       "  Group(1) ~ {} children=[]]"
      ]
     },
     "execution_count": 1,
     "metadata": {},
     "output_type": "execute_result"
    }
   ],
   "source": [
    "sc.server.query_all_nodes()"
   ]
  },
  {
   "cell_type": "markdown",
   "metadata": {},
   "source": [
    "Free a synth"
   ]
  },
  {
   "cell_type": "code",
   "execution_count": 9,
   "metadata": {
    "execution": {
     "iopub.execute_input": "2021-06-23T17:54:59.810733Z",
     "iopub.status.busy": "2021-06-23T17:54:59.809732Z",
     "iopub.status.idle": "2021-06-23T17:54:59.812734Z",
     "shell.execute_reply": "2021-06-23T17:54:59.812734Z"
    }
   },
   "outputs": [
    {
     "data": {
      "text/plain": [
       "<Synth(20001) 's2' f {'freq': 100.0, 'amp': 0.30000001192092896, 'num': 4.0, 'pan': 0.0, 'lg': 0.10000000149011612, 'gate': 1.0}>"
      ]
     },
     "execution_count": 1,
     "metadata": {},
     "output_type": "execute_result"
    }
   ],
   "source": [
    "synth.free()"
   ]
  },
  {
   "cell_type": "markdown",
   "metadata": {},
   "source": [
    "Start the synth again"
   ]
  },
  {
   "cell_type": "code",
   "execution_count": 10,
   "metadata": {
    "execution": {
     "iopub.execute_input": "2021-06-23T17:54:59.816739Z",
     "iopub.status.busy": "2021-06-23T17:54:59.816739Z",
     "iopub.status.idle": "2021-06-23T17:54:59.818739Z",
     "shell.execute_reply": "2021-06-23T17:54:59.819737Z"
    }
   },
   "outputs": [
    {
     "data": {
      "text/plain": [
       "<Synth(20001) 's2' s {'freq': 100.0, 'amp': 0.30000001192092896, 'num': 4.0, 'pan': 0.0, 'lg': 0.10000000149011612, 'gate': 1.0}>"
      ]
     },
     "execution_count": 1,
     "metadata": {},
     "output_type": "execute_result"
    }
   ],
   "source": [
    "synth.new()"
   ]
  },
  {
   "cell_type": "code",
   "execution_count": 11,
   "metadata": {
    "execution": {
     "iopub.execute_input": "2021-06-23T17:54:59.822734Z",
     "iopub.status.busy": "2021-06-23T17:54:59.822734Z",
     "iopub.status.idle": "2021-06-23T17:54:59.825733Z",
     "shell.execute_reply": "2021-06-23T17:54:59.826733Z"
    }
   },
   "outputs": [
    {
     "data": {
      "text/plain": [
       "20001"
      ]
     },
     "execution_count": 1,
     "metadata": {},
     "output_type": "execute_result"
    }
   ],
   "source": [
    "synth.nodeid"
   ]
  },
  {
   "cell_type": "markdown",
   "metadata": {},
   "source": [
    "Calling `new` on an already running synth will cause a SuperCollider Server error"
   ]
  },
  {
   "cell_type": "code",
   "execution_count": 12,
   "metadata": {
    "execution": {
     "iopub.execute_input": "2021-06-23T17:54:59.830734Z",
     "iopub.status.busy": "2021-06-23T17:54:59.829736Z",
     "iopub.status.idle": "2021-06-23T17:54:59.833733Z",
     "shell.execute_reply": "2021-06-23T17:54:59.834734Z"
    }
   },
   "outputs": [
    {
     "data": {
      "text/plain": [
       "<Synth(20001) 's2' s {'freq': 100.0, 'amp': 0.30000001192092896, 'num': 4.0, 'pan': 0.0, 'lg': 0.10000000149011612, 'gate': 1.0}>"
      ]
     },
     "execution_count": 1,
     "metadata": {},
     "output_type": "execute_result"
    }
   ],
   "source": [
    "synth.new()"
   ]
  },
  {
   "cell_type": "markdown",
   "metadata": {},
   "source": [
    "Pause a synth"
   ]
  },
  {
   "cell_type": "code",
   "execution_count": 13,
   "metadata": {
    "execution": {
     "iopub.execute_input": "2021-06-23T17:54:59.838734Z",
     "iopub.status.busy": "2021-06-23T17:54:59.838734Z",
     "iopub.status.idle": "2021-06-23T17:54:59.841732Z",
     "shell.execute_reply": "2021-06-23T17:54:59.842733Z"
    }
   },
   "outputs": [
    {
     "data": {
      "text/plain": [
       "<Synth(20001) 's2' s {'freq': 100.0, 'amp': 0.30000001192092896, 'num': 4.0, 'pan': 0.0, 'lg': 0.10000000149011612, 'gate': 1.0}>"
      ]
     },
     "execution_count": 1,
     "metadata": {},
     "output_type": "execute_result"
    }
   ],
   "source": [
    "synth.run(False)"
   ]
  },
  {
   "cell_type": "code",
   "execution_count": 14,
   "metadata": {
    "execution": {
     "iopub.execute_input": "2021-06-23T17:54:59.846732Z",
     "iopub.status.busy": "2021-06-23T17:54:59.845733Z",
     "iopub.status.idle": "2021-06-23T17:54:59.850733Z",
     "shell.execute_reply": "2021-06-23T17:54:59.849733Z"
    }
   },
   "outputs": [
    {
     "data": {
      "text/plain": [
       "<Synth(20001) 's2' s {'freq': 100.0, 'amp': 0.30000001192092896, 'num': 4.0, 'pan': 0.0, 'lg': 0.10000000149011612, 'gate': 1.0}>"
      ]
     },
     "execution_count": 1,
     "metadata": {},
     "output_type": "execute_result"
    }
   ],
   "source": [
    "synth"
   ]
  },
  {
   "cell_type": "markdown",
   "metadata": {},
   "source": [
    "Run a paused synth"
   ]
  },
  {
   "cell_type": "code",
   "execution_count": 15,
   "metadata": {
    "execution": {
     "iopub.execute_input": "2021-06-23T17:54:59.853732Z",
     "iopub.status.busy": "2021-06-23T17:54:59.853732Z",
     "iopub.status.idle": "2021-06-23T17:54:59.855733Z",
     "shell.execute_reply": "2021-06-23T17:54:59.855733Z"
    }
   },
   "outputs": [
    {
     "data": {
      "text/plain": [
       "<Synth(20001) 's2' s {'freq': 100.0, 'amp': 0.30000001192092896, 'num': 4.0, 'pan': 0.0, 'lg': 0.10000000149011612, 'gate': 1.0}>"
      ]
     },
     "execution_count": 1,
     "metadata": {},
     "output_type": "execute_result"
    }
   ],
   "source": [
    "synth.run() # default flag for run is True"
   ]
  },
  {
   "cell_type": "markdown",
   "metadata": {},
   "source": [
    "You can also wait for a Synth"
   ]
  },
  {
   "cell_type": "code",
   "execution_count": 16,
   "metadata": {
    "execution": {
     "iopub.execute_input": "2021-06-23T17:54:59.858733Z",
     "iopub.status.busy": "2021-06-23T17:54:59.858733Z",
     "iopub.status.idle": "2021-06-23T17:55:01.874338Z",
     "shell.execute_reply": "2021-06-23T17:55:01.875339Z"
    }
   },
   "outputs": [],
   "source": [
    "synth_with_duration = scn.Synth(\"s1\", dict(dur=2))\n",
    "# wait for the Synth to finish playing\n",
    "synth_with_duration.wait()"
   ]
  },
  {
   "cell_type": "markdown",
   "metadata": {},
   "source": [
    "### Set / get Synth parameters"
   ]
  },
  {
   "cell_type": "markdown",
   "metadata": {},
   "source": [
    "Set synth parameters, using any for the following `set` calls\n",
    "\n",
    "    set(key, value, ...)\n",
    "    set(list_of_keys_and_values])\n",
    "    set(dict)"
   ]
  },
  {
   "cell_type": "code",
   "execution_count": 17,
   "metadata": {
    "execution": {
     "iopub.execute_input": "2021-06-23T17:55:01.878337Z",
     "iopub.status.busy": "2021-06-23T17:55:01.877338Z",
     "iopub.status.idle": "2021-06-23T17:55:01.880339Z",
     "shell.execute_reply": "2021-06-23T17:55:01.880339Z"
    }
   },
   "outputs": [
    {
     "data": {
      "text/plain": [
       "<Synth(20001) 's2' s {'freq': 200, 'amp': 0.30000001192092896, 'num': 4.0, 'pan': 0.0, 'lg': 0.10000000149011612, 'gate': 1.0}>"
      ]
     },
     "execution_count": 1,
     "metadata": {},
     "output_type": "execute_result"
    }
   ],
   "source": [
    "synth.set(\"freq\", 200)"
   ]
  },
  {
   "cell_type": "code",
   "execution_count": 18,
   "metadata": {
    "execution": {
     "iopub.execute_input": "2021-06-23T17:55:01.883337Z",
     "iopub.status.busy": "2021-06-23T17:55:01.883337Z",
     "iopub.status.idle": "2021-06-23T17:55:01.886338Z",
     "shell.execute_reply": "2021-06-23T17:55:01.886338Z"
    }
   },
   "outputs": [
    {
     "data": {
      "text/plain": [
       "<Synth(20001) 's2' s {'freq': 30, 'amp': 0.3, 'num': 4.0, 'pan': 0.0, 'lg': 0.10000000149011612, 'gate': 1.0}>"
      ]
     },
     "execution_count": 1,
     "metadata": {},
     "output_type": "execute_result"
    }
   ],
   "source": [
    "synth.set([\"freq\", 30, \"amp\", 0.3])"
   ]
  },
  {
   "cell_type": "code",
   "execution_count": 19,
   "metadata": {
    "execution": {
     "iopub.execute_input": "2021-06-23T17:55:01.889339Z",
     "iopub.status.busy": "2021-06-23T17:55:01.889339Z",
     "iopub.status.idle": "2021-06-23T17:55:01.892338Z",
     "shell.execute_reply": "2021-06-23T17:55:01.892338Z"
    }
   },
   "outputs": [
    {
     "data": {
      "text/plain": [
       "<Synth(20001) 's2' s {'freq': 130, 'amp': 0.1, 'num': 4.0, 'pan': 0.0, 'lg': 0.10000000149011612, 'gate': 1.0}>"
      ]
     },
     "execution_count": 1,
     "metadata": {},
     "output_type": "execute_result"
    }
   ],
   "source": [
    "synth.set({\"freq\": 130, \"amp\": 0.1})"
   ]
  },
  {
   "cell_type": "markdown",
   "metadata": {},
   "source": [
    "The Synth does save its current control arguments in `current_controls`"
   ]
  },
  {
   "cell_type": "code",
   "execution_count": 20,
   "metadata": {
    "execution": {
     "iopub.execute_input": "2021-06-23T17:55:01.895337Z",
     "iopub.status.busy": "2021-06-23T17:55:01.895337Z",
     "iopub.status.idle": "2021-06-23T17:55:01.897338Z",
     "shell.execute_reply": "2021-06-23T17:55:01.897338Z"
    }
   },
   "outputs": [
    {
     "data": {
      "text/plain": [
       "{'freq': 130,\n",
       " 'amp': 0.1,\n",
       " 'num': 4.0,\n",
       " 'pan': 0.0,\n",
       " 'lg': 0.10000000149011612,\n",
       " 'gate': 1.0}"
      ]
     },
     "execution_count": 1,
     "metadata": {},
     "output_type": "execute_result"
    }
   ],
   "source": [
    "synth.current_controls"
   ]
  },
  {
   "cell_type": "markdown",
   "metadata": {},
   "source": [
    "However these are only cached values on the python object. \n",
    "Updating them will only affect the `new` call. See below why this can be useful."
   ]
  },
  {
   "cell_type": "code",
   "execution_count": 21,
   "metadata": {
    "execution": {
     "iopub.execute_input": "2021-06-23T17:55:01.900339Z",
     "iopub.status.busy": "2021-06-23T17:55:01.900339Z",
     "iopub.status.idle": "2021-06-23T17:55:01.903338Z",
     "shell.execute_reply": "2021-06-23T17:55:01.903338Z"
    }
   },
   "outputs": [
    {
     "data": {
      "text/plain": [
       "<Synth(20001) 's2' s {'freq': 440, 'amp': 0.1, 'num': 4.0, 'pan': 0.0, 'lg': 0.10000000149011612, 'gate': 1.0}>"
      ]
     },
     "execution_count": 1,
     "metadata": {},
     "output_type": "execute_result"
    }
   ],
   "source": [
    "synth.current_controls['freq'] = 440\n",
    "synth"
   ]
  },
  {
   "cell_type": "code",
   "execution_count": 22,
   "metadata": {
    "execution": {
     "iopub.execute_input": "2021-06-23T17:55:01.906337Z",
     "iopub.status.busy": "2021-06-23T17:55:01.905337Z",
     "iopub.status.idle": "2021-06-23T17:55:01.909338Z",
     "shell.execute_reply": "2021-06-23T17:55:01.909338Z"
    }
   },
   "outputs": [
    {
     "data": {
      "text/plain": [
       "<Synth(20001) 's2' s {'freq': 440, 'amp': 0.1, 'num': 4.0, 'pan': 0.0, 'lg': 0.10000000149011612, 'gate': 1.0}>"
      ]
     },
     "execution_count": 1,
     "metadata": {},
     "output_type": "execute_result"
    }
   ],
   "source": [
    "synth.free()\n",
    "synth.new() # The new Synth will be created with freq = 440"
   ]
  },
  {
   "cell_type": "markdown",
   "metadata": {},
   "source": [
    "To see what arguments can be set you can look at the `synth_desc`"
   ]
  },
  {
   "cell_type": "code",
   "execution_count": 23,
   "metadata": {
    "execution": {
     "iopub.execute_input": "2021-06-23T17:55:01.912337Z",
     "iopub.status.busy": "2021-06-23T17:55:01.912337Z",
     "iopub.status.idle": "2021-06-23T17:55:01.914338Z",
     "shell.execute_reply": "2021-06-23T17:55:01.914338Z"
    }
   },
   "outputs": [
    {
     "data": {
      "text/plain": [
       "{'freq': SynthArgument(name='freq', rate='control', default=400.0),\n",
       " 'amp': SynthArgument(name='amp', rate='control', default=0.30000001192092896),\n",
       " 'num': SynthArgument(name='num', rate='control', default=4.0),\n",
       " 'pan': SynthArgument(name='pan', rate='control', default=0.0),\n",
       " 'lg': SynthArgument(name='lg', rate='control', default=0.10000000149011612),\n",
       " 'gate': SynthArgument(name='gate', rate='control', default=1.0)}"
      ]
     },
     "execution_count": 1,
     "metadata": {},
     "output_type": "execute_result"
    }
   ],
   "source": [
    "synth.synth_desc"
   ]
  },
  {
   "cell_type": "markdown",
   "metadata": {},
   "source": [
    "You can use ``get`` to see the current value. This will request the current value from the SuperCollider audio server"
   ]
  },
  {
   "cell_type": "code",
   "execution_count": 24,
   "metadata": {
    "execution": {
     "iopub.execute_input": "2021-06-23T17:55:01.916338Z",
     "iopub.status.busy": "2021-06-23T17:55:01.916338Z",
     "iopub.status.idle": "2021-06-23T17:55:01.925338Z",
     "shell.execute_reply": "2021-06-23T17:55:01.925338Z"
    }
   },
   "outputs": [
    {
     "data": {
      "text/plain": [
       "440.0"
      ]
     },
     "execution_count": 1,
     "metadata": {},
     "output_type": "execute_result"
    }
   ],
   "source": [
    "synth.get(\"freq\")"
   ]
  },
  {
   "cell_type": "code",
   "execution_count": 25,
   "metadata": {
    "execution": {
     "iopub.execute_input": "2021-06-23T17:55:01.927338Z",
     "iopub.status.busy": "2021-06-23T17:55:01.927338Z",
     "iopub.status.idle": "2021-06-23T17:55:01.944365Z",
     "shell.execute_reply": "2021-06-23T17:55:01.944365Z"
    }
   },
   "outputs": [
    {
     "data": {
      "text/plain": [
       "0.0"
      ]
     },
     "execution_count": 1,
     "metadata": {},
     "output_type": "execute_result"
    }
   ],
   "source": [
    "synth.get(\"pan\")"
   ]
  },
  {
   "cell_type": "markdown",
   "metadata": {},
   "source": [
    "This will also update the cached values in `current_args`"
   ]
  },
  {
   "cell_type": "code",
   "execution_count": 26,
   "metadata": {
    "execution": {
     "iopub.execute_input": "2021-06-23T17:55:01.946715Z",
     "iopub.status.busy": "2021-06-23T17:55:01.946715Z",
     "iopub.status.idle": "2021-06-23T17:55:01.948726Z",
     "shell.execute_reply": "2021-06-23T17:55:01.948726Z"
    }
   },
   "outputs": [
    {
     "data": {
      "text/plain": [
       "<Synth(20001) 's2' ~ {'freq': 440.0, 'amp': 0.1, 'num': 4.0, 'pan': 0.0, 'lg': 0.10000000149011612, 'gate': 1.0}>"
      ]
     },
     "execution_count": 1,
     "metadata": {},
     "output_type": "execute_result"
    }
   ],
   "source": [
    "synth"
   ]
  },
  {
   "cell_type": "markdown",
   "metadata": {},
   "source": [
    "This is also possible directly with"
   ]
  },
  {
   "cell_type": "code",
   "execution_count": 27,
   "metadata": {
    "execution": {
     "iopub.execute_input": "2021-06-23T17:55:01.950726Z",
     "iopub.status.busy": "2021-06-23T17:55:01.950726Z",
     "iopub.status.idle": "2021-06-23T17:55:01.953725Z",
     "shell.execute_reply": "2021-06-23T17:55:01.953725Z"
    }
   },
   "outputs": [
    {
     "data": {
      "text/plain": [
       "0.0"
      ]
     },
     "execution_count": 1,
     "metadata": {},
     "output_type": "execute_result"
    }
   ],
   "source": [
    "synth.pan"
   ]
  },
  {
   "cell_type": "markdown",
   "metadata": {},
   "source": [
    "Which can also be used for setting the argument"
   ]
  },
  {
   "cell_type": "code",
   "execution_count": 28,
   "metadata": {
    "execution": {
     "iopub.execute_input": "2021-06-23T17:55:01.955728Z",
     "iopub.status.busy": "2021-06-23T17:55:01.955728Z",
     "iopub.status.idle": "2021-06-23T17:55:01.958725Z",
     "shell.execute_reply": "2021-06-23T17:55:01.958725Z"
    }
   },
   "outputs": [],
   "source": [
    "synth.pan = -1 "
   ]
  },
  {
   "cell_type": "markdown",
   "metadata": {},
   "source": [
    "You can also query information about the Synth. Look at [Group](#Group) for more information about these values"
   ]
  },
  {
   "cell_type": "code",
   "execution_count": 29,
   "metadata": {
    "execution": {
     "iopub.execute_input": "2021-06-23T17:55:01.960505Z",
     "iopub.status.busy": "2021-06-23T17:55:01.960505Z",
     "iopub.status.idle": "2021-06-23T17:55:01.964498Z",
     "shell.execute_reply": "2021-06-23T17:55:01.964498Z"
    }
   },
   "outputs": [
    {
     "data": {
      "text/plain": [
       "SynthInfo(nodeid=20001, group=67108865, prev_nodeid=-1, next_nodeid=-1)"
      ]
     },
     "execution_count": 1,
     "metadata": {},
     "output_type": "execute_result"
    }
   ],
   "source": [
    "synth.query()"
   ]
  },
  {
   "cell_type": "code",
   "execution_count": 30,
   "metadata": {
    "execution": {
     "iopub.execute_input": "2021-06-23T17:55:01.966498Z",
     "iopub.status.busy": "2021-06-23T17:55:01.966498Z",
     "iopub.status.idle": "2021-06-23T17:55:01.968497Z",
     "shell.execute_reply": "2021-06-23T17:55:01.968497Z"
    }
   },
   "outputs": [
    {
     "data": {
      "text/plain": [
       "<Synth(20001) 's2' f {'freq': 440.0, 'amp': 0.1, 'num': 4.0, 'pan': -1, 'lg': 0.10000000149011612, 'gate': 1.0}>"
      ]
     },
     "execution_count": 1,
     "metadata": {},
     "output_type": "execute_result"
    }
   ],
   "source": [
    "synth.free()"
   ]
  },
  {
   "cell_type": "markdown",
   "metadata": {},
   "source": [
    "Keep in mind that getting a synth value is always querying the server.\n",
    "\n",
    "This means we need to receive a message which cant be done using the Bundler.\n",
    "If you want to use relative values in a Bundler you should use the cached values from `current_args`"
   ]
  },
  {
   "cell_type": "code",
   "execution_count": 31,
   "metadata": {
    "execution": {
     "iopub.execute_input": "2021-06-23T17:55:01.979496Z",
     "iopub.status.busy": "2021-06-23T17:55:01.979496Z",
     "iopub.status.idle": "2021-06-23T17:55:01.981498Z",
     "shell.execute_reply": "2021-06-23T17:55:01.981498Z"
    }
   },
   "outputs": [],
   "source": [
    "with sc.server.bundler() as bundle:\n",
    "    synth.new({\"freq\": 600})\n",
    "    for _ in range(100):\n",
    "        synth.set(['freq', synth.current_controls['freq'] * 0.99])\n",
    "        bundle.wait(0.05)\n",
    "    synth.free()"
   ]
  },
  {
   "cell_type": "code",
   "execution_count": 32,
   "metadata": {
    "execution": {
     "iopub.execute_input": "2021-06-23T17:55:01.984498Z",
     "iopub.status.busy": "2021-06-23T17:55:01.983496Z",
     "iopub.status.idle": "2021-06-23T17:55:01.984498Z",
     "shell.execute_reply": "2021-06-23T17:55:01.985498Z"
    }
   },
   "outputs": [],
   "source": [
    "synth.wait() # wait for synth"
   ]
  },
  {
   "cell_type": "markdown",
   "metadata": {},
   "source": [
    "Some methods also allow getting the OSC Message instead of sending"
   ]
  },
  {
   "cell_type": "code",
   "execution_count": 33,
   "metadata": {
    "execution": {
     "iopub.execute_input": "2021-06-23T17:55:01.988497Z",
     "iopub.status.busy": "2021-06-23T17:55:01.987498Z",
     "iopub.status.idle": "2021-06-23T17:55:01.990498Z",
     "shell.execute_reply": "2021-06-23T17:55:01.990498Z"
    }
   },
   "outputs": [
    {
     "data": {
      "text/plain": [
       "<OSCMessage(\"/s_new\", ['s2', 20001, 0, 67108865, 'freq', 219.61940002441406, 'amp', 0.10000000149011612, 'num', 4.0, 'pan', -1, 'lg', 0.10000000149011612, 'gate', 1.0])>"
      ]
     },
     "execution_count": 1,
     "metadata": {},
     "output_type": "execute_result"
    }
   ],
   "source": [
    "synth.new(return_msg=True)"
   ]
  },
  {
   "cell_type": "markdown",
   "metadata": {},
   "source": [
    "Refer to the [OSC communication example notebook](../osc-communication-example.ipynb) if you want to learn more about messages and bundles."
   ]
  },
  {
   "cell_type": "markdown",
   "metadata": {},
   "source": [
    "## Group\n",
    "\n",
    "Nodes can be grouped and controlled together. This gives you mutliple advantages like\n",
    "* controlling multiple Synth together\n",
    "* specifying the execution order of the nodes. For more details look at [Order of nodes](#Order-of-Nodes)"
   ]
  },
  {
   "cell_type": "markdown",
   "metadata": {},
   "source": [
    "The SuperCollider audio server scsynth does have one root Group with the Node ID 0.\n",
    "\n",
    "In this root group each user got an default group were all the Nodes of the user (Synths and Groups) should be located"
   ]
  },
  {
   "cell_type": "code",
   "execution_count": 34,
   "metadata": {
    "execution": {
     "iopub.execute_input": "2021-06-23T17:55:01.992498Z",
     "iopub.status.busy": "2021-06-23T17:55:01.992498Z",
     "iopub.status.idle": "2021-06-23T17:55:02.004352Z",
     "shell.execute_reply": "2021-06-23T17:55:02.004352Z"
    }
   },
   "outputs": [
    {
     "data": {
      "text/plain": [
       "Group(0)  {} children=[\n",
       "  <Synth(-24) 's2'  {'freq': 1000.0, 'amp': 0.05000000074505806, 'num': 2.0, 'pan': 0.0, 'lg': 0.10000000149011612, 'gate': 1.0}>,\n",
       "  Group(469762049) ~ {} children=[],\n",
       "  Group(402653185) ~ {} children=[],\n",
       "  Group(335544321) ~ {} children=[],\n",
       "  Group(268435457) ~ {} children=[],\n",
       "  Group(201326593) ~ {} children=[],\n",
       "  Group(134217729) ~ {} children=[],\n",
       "  Group(67108865) ~ {} children=[],\n",
       "  Group(1) ~ {} children=[]]"
      ]
     },
     "execution_count": 1,
     "metadata": {},
     "output_type": "execute_result"
    }
   ],
   "source": [
    "sc.server.query_all_nodes()"
   ]
  },
  {
   "cell_type": "markdown",
   "metadata": {},
   "source": [
    "We have the following default Group"
   ]
  },
  {
   "cell_type": "code",
   "execution_count": 35,
   "metadata": {
    "execution": {
     "iopub.execute_input": "2021-06-23T17:55:02.007351Z",
     "iopub.status.busy": "2021-06-23T17:55:02.006350Z",
     "iopub.status.idle": "2021-06-23T17:55:02.008352Z",
     "shell.execute_reply": "2021-06-23T17:55:02.008352Z"
    }
   },
   "outputs": [
    {
     "data": {
      "text/plain": [
       "Group(67108865) ~ {} children=[]"
      ]
     },
     "execution_count": 1,
     "metadata": {},
     "output_type": "execute_result"
    }
   ],
   "source": [
    "sc.server.default_group"
   ]
  },
  {
   "cell_type": "markdown",
   "metadata": {},
   "source": [
    "### Creating Groups"
   ]
  },
  {
   "cell_type": "code",
   "execution_count": 36,
   "metadata": {
    "execution": {
     "iopub.execute_input": "2021-06-23T17:55:02.011353Z",
     "iopub.status.busy": "2021-06-23T17:55:02.011353Z",
     "iopub.status.idle": "2021-06-23T17:55:02.014352Z",
     "shell.execute_reply": "2021-06-23T17:55:02.014352Z"
    }
   },
   "outputs": [
    {
     "data": {
      "text/plain": [
       "Group(20003) s {} children=[]"
      ]
     },
     "execution_count": 1,
     "metadata": {},
     "output_type": "execute_result"
    }
   ],
   "source": [
    "g0 = scn.Group()\n",
    "g0"
   ]
  },
  {
   "cell_type": "code",
   "execution_count": 37,
   "metadata": {
    "execution": {
     "iopub.execute_input": "2021-06-23T17:55:02.016351Z",
     "iopub.status.busy": "2021-06-23T17:55:02.016351Z",
     "iopub.status.idle": "2021-06-23T17:55:02.044352Z",
     "shell.execute_reply": "2021-06-23T17:55:02.044352Z"
    }
   },
   "outputs": [
    {
     "name": "stdout",
     "output_type": "stream",
     "text": [
      "NODE TREE Group 0\n",
      "   -24 s2\n",
      "     freq: 1000 amp: 0.050000000745058 num: 2 pan: 0 lg: 0.10000000149012 gate: 1\n",
      "   469762049 group\n",
      "   402653185 group\n",
      "   335544321 group\n",
      "   268435457 group\n",
      "   201326593 group\n",
      "   134217729 group\n",
      "   67108865 group\n",
      "      20003 group\n",
      "   1 group\n"
     ]
    }
   ],
   "source": [
    "sc.server.dump_tree()"
   ]
  },
  {
   "cell_type": "code",
   "execution_count": 38,
   "metadata": {
    "execution": {
     "iopub.execute_input": "2021-06-23T17:55:02.047352Z",
     "iopub.status.busy": "2021-06-23T17:55:02.047352Z",
     "iopub.status.idle": "2021-06-23T17:55:02.050352Z",
     "shell.execute_reply": "2021-06-23T17:55:02.050352Z"
    }
   },
   "outputs": [
    {
     "data": {
      "text/plain": [
       "Group(20003) f {} children=[]"
      ]
     },
     "execution_count": 1,
     "metadata": {},
     "output_type": "execute_result"
    }
   ],
   "source": [
    "g0.free()"
   ]
  },
  {
   "cell_type": "code",
   "execution_count": 39,
   "metadata": {
    "execution": {
     "iopub.execute_input": "2021-06-23T17:55:02.053352Z",
     "iopub.status.busy": "2021-06-23T17:55:02.052351Z",
     "iopub.status.idle": "2021-06-23T17:55:02.082352Z",
     "shell.execute_reply": "2021-06-23T17:55:02.082352Z"
    }
   },
   "outputs": [
    {
     "name": "stdout",
     "output_type": "stream",
     "text": [
      "NODE TREE Group 0\n",
      "   -24 s2\n",
      "     freq: 1000 amp: 0.050000000745058 num: 2 pan: 0 lg: 0.10000000149012 gate: 1\n",
      "   469762049 group\n",
      "   402653185 group\n",
      "   335544321 group\n",
      "   268435457 group\n",
      "   201326593 group\n",
      "   134217729 group\n",
      "   67108865 group\n",
      "      20001 s2\n",
      "        freq: 594 amp: 0.10000000149012 num: 4 pan: -1 lg: 0.10000000149012 gate: 1\n",
      "   1 group\n"
     ]
    }
   ],
   "source": [
    "sc.server.dump_tree()"
   ]
  },
  {
   "cell_type": "code",
   "execution_count": 40,
   "metadata": {
    "execution": {
     "iopub.execute_input": "2021-06-23T17:55:02.085351Z",
     "iopub.status.busy": "2021-06-23T17:55:02.085351Z",
     "iopub.status.idle": "2021-06-23T17:55:02.087352Z",
     "shell.execute_reply": "2021-06-23T17:55:02.087352Z"
    }
   },
   "outputs": [
    {
     "data": {
      "text/plain": [
       "Group(20003) s {} children=[]"
      ]
     },
     "execution_count": 1,
     "metadata": {},
     "output_type": "execute_result"
    }
   ],
   "source": [
    "g0.new()"
   ]
  },
  {
   "cell_type": "code",
   "execution_count": 41,
   "metadata": {
    "execution": {
     "iopub.execute_input": "2021-06-23T17:55:02.090351Z",
     "iopub.status.busy": "2021-06-23T17:55:02.089352Z",
     "iopub.status.idle": "2021-06-23T17:55:02.095352Z",
     "shell.execute_reply": "2021-06-23T17:55:02.095352Z"
    }
   },
   "outputs": [
    {
     "data": {
      "text/plain": [
       "Group(0)  {} children=[\n",
       "  <Synth(-24) 's2'  {'freq': 1000.0, 'amp': 0.05000000074505806, 'num': 2.0, 'pan': 0.0, 'lg': 0.10000000149011612, 'gate': 1.0}>,\n",
       "  Group(469762049) ~ {} children=[],\n",
       "  Group(402653185) ~ {} children=[],\n",
       "  Group(335544321) ~ {} children=[],\n",
       "  Group(268435457) ~ {} children=[],\n",
       "  Group(201326593) ~ {} children=[],\n",
       "  Group(134217729) ~ {} children=[],\n",
       "  Group(67108865) ~ {} children=[\n",
       "    Group(20003) ~ {} children=[],\n",
       "    <Synth(20001) 's2' ~ {'freq': 588.0599975585938, 'amp': 0.10000000149011612, 'num': 4.0, 'pan': -1.0, 'lg': 0.10000000149011612, 'gate': 1.0}>],\n",
       "  Group(1) ~ {} children=[]]"
      ]
     },
     "execution_count": 1,
     "metadata": {},
     "output_type": "execute_result"
    }
   ],
   "source": [
    "sc.server.query_all_nodes()"
   ]
  },
  {
   "cell_type": "code",
   "execution_count": 42,
   "metadata": {
    "execution": {
     "iopub.execute_input": "2021-06-23T17:55:02.098351Z",
     "iopub.status.busy": "2021-06-23T17:55:02.098351Z",
     "iopub.status.idle": "2021-06-23T17:55:02.100352Z",
     "shell.execute_reply": "2021-06-23T17:55:02.100352Z"
    }
   },
   "outputs": [
    {
     "data": {
      "text/plain": [
       "Group(67108865) ~ {} children=[\n",
       "  Group(20003) ~ {} children=[],\n",
       "  <Synth(20001) 's2' ~ {'freq': 588.0599975585938, 'amp': 0.10000000149011612, 'num': 4.0, 'pan': -1.0, 'lg': 0.10000000149011612, 'gate': 1.0}>]"
      ]
     },
     "execution_count": 1,
     "metadata": {},
     "output_type": "execute_result"
    }
   ],
   "source": [
    "sc.server.default_group"
   ]
  },
  {
   "cell_type": "markdown",
   "metadata": {},
   "source": [
    "Create a Group in our new Group"
   ]
  },
  {
   "cell_type": "code",
   "execution_count": 43,
   "metadata": {
    "execution": {
     "iopub.execute_input": "2021-06-23T17:55:02.103353Z",
     "iopub.status.busy": "2021-06-23T17:55:02.102352Z",
     "iopub.status.idle": "2021-06-23T17:55:02.105352Z",
     "shell.execute_reply": "2021-06-23T17:55:02.105352Z"
    }
   },
   "outputs": [
    {
     "data": {
      "text/plain": [
       "Group(20004) s {} children=[]"
      ]
     },
     "execution_count": 1,
     "metadata": {},
     "output_type": "execute_result"
    }
   ],
   "source": [
    "g1 = scn.Group(target=g0)\n",
    "g1"
   ]
  },
  {
   "cell_type": "code",
   "execution_count": 44,
   "metadata": {
    "execution": {
     "iopub.execute_input": "2021-06-23T17:55:02.107351Z",
     "iopub.status.busy": "2021-06-23T17:55:02.107351Z",
     "iopub.status.idle": "2021-06-23T17:55:02.115361Z",
     "shell.execute_reply": "2021-06-23T17:55:02.115361Z"
    }
   },
   "outputs": [
    {
     "data": {
      "text/plain": [
       "Group(0)  {} children=[\n",
       "  <Synth(-24) 's2'  {'freq': 1000.0, 'amp': 0.05000000074505806, 'num': 2.0, 'pan': 0.0, 'lg': 0.10000000149011612, 'gate': 1.0}>,\n",
       "  Group(469762049) ~ {} children=[],\n",
       "  Group(402653185) ~ {} children=[],\n",
       "  Group(335544321) ~ {} children=[],\n",
       "  Group(268435457) ~ {} children=[],\n",
       "  Group(201326593) ~ {} children=[],\n",
       "  Group(134217729) ~ {} children=[],\n",
       "  Group(67108865) ~ {} children=[\n",
       "    Group(20003) ~ {} children=[ Group(20004) ~ {} children=[]],\n",
       "    <Synth(20001) 's2' ~ {'freq': 588.0599975585938, 'amp': 0.10000000149011612, 'num': 4.0, 'pan': -1.0, 'lg': 0.10000000149011612, 'gate': 1.0}>],\n",
       "  Group(1) ~ {} children=[]]"
      ]
     },
     "execution_count": 1,
     "metadata": {},
     "output_type": "execute_result"
    }
   ],
   "source": [
    "sc.server.query_all_nodes()"
   ]
  },
  {
   "cell_type": "markdown",
   "metadata": {},
   "source": [
    "You can get information about you Group via"
   ]
  },
  {
   "cell_type": "code",
   "execution_count": 45,
   "metadata": {
    "execution": {
     "iopub.execute_input": "2021-06-23T17:55:02.117361Z",
     "iopub.status.busy": "2021-06-23T17:55:02.117361Z",
     "iopub.status.idle": "2021-06-23T17:55:02.123391Z",
     "shell.execute_reply": "2021-06-23T17:55:02.123391Z"
    }
   },
   "outputs": [
    {
     "data": {
      "text/plain": [
       "GroupInfo(nodeid=20003, group=67108865, prev_nodeid=-1, next_nodeid=20001, head=20004, tail=20004)"
      ]
     },
     "execution_count": 1,
     "metadata": {},
     "output_type": "execute_result"
    }
   ],
   "source": [
    "g0.query()"
   ]
  },
  {
   "cell_type": "markdown",
   "metadata": {},
   "source": [
    "The query contains the same information as a Synth query and additionally the head and tail Node of this group.\n",
    "\n",
    "Notice the special value `-1` meaning `None`."
   ]
  },
  {
   "cell_type": "code",
   "execution_count": 46,
   "metadata": {
    "execution": {
     "iopub.execute_input": "2021-06-23T17:55:02.125392Z",
     "iopub.status.busy": "2021-06-23T17:55:02.125392Z",
     "iopub.status.idle": "2021-06-23T17:55:02.133391Z",
     "shell.execute_reply": "2021-06-23T17:55:02.133391Z"
    }
   },
   "outputs": [
    {
     "data": {
      "text/plain": [
       "GroupInfo(nodeid=20004, group=20003, prev_nodeid=-1, next_nodeid=-1, head=-1, tail=-1)"
      ]
     },
     "execution_count": 1,
     "metadata": {},
     "output_type": "execute_result"
    }
   ],
   "source": [
    "g1.query()"
   ]
  },
  {
   "cell_type": "markdown",
   "metadata": {},
   "source": [
    "Free the node"
   ]
  },
  {
   "cell_type": "code",
   "execution_count": 47,
   "metadata": {
    "execution": {
     "iopub.execute_input": "2021-06-23T17:55:02.135391Z",
     "iopub.status.busy": "2021-06-23T17:55:02.135391Z",
     "iopub.status.idle": "2021-06-23T17:55:02.138391Z",
     "shell.execute_reply": "2021-06-23T17:55:02.138391Z"
    }
   },
   "outputs": [
    {
     "data": {
      "text/plain": [
       "Group(20003) f {} children=[ Group(20004) ~ {} children=[]]"
      ]
     },
     "execution_count": 1,
     "metadata": {},
     "output_type": "execute_result"
    }
   ],
   "source": [
    "g0.free()"
   ]
  },
  {
   "cell_type": "code",
   "execution_count": 48,
   "metadata": {
    "execution": {
     "iopub.execute_input": "2021-06-23T17:55:02.140392Z",
     "iopub.status.busy": "2021-06-23T17:55:02.140392Z",
     "iopub.status.idle": "2021-06-23T17:55:02.156340Z",
     "shell.execute_reply": "2021-06-23T17:55:02.156340Z"
    }
   },
   "outputs": [
    {
     "data": {
      "text/plain": [
       "Group(0)  {} children=[\n",
       "  <Synth(-24) 's2'  {'freq': 1000.0, 'amp': 0.05000000074505806, 'num': 2.0, 'pan': 0.0, 'lg': 0.10000000149011612, 'gate': 1.0}>,\n",
       "  Group(469762049) ~ {} children=[],\n",
       "  Group(402653185) ~ {} children=[],\n",
       "  Group(335544321) ~ {} children=[],\n",
       "  Group(268435457) ~ {} children=[],\n",
       "  Group(201326593) ~ {} children=[],\n",
       "  Group(134217729) ~ {} children=[],\n",
       "  Group(67108865) ~ {} children=[\n",
       "    <Synth(20001) 's2' ~ {'freq': 582.1793823242188, 'amp': 0.10000000149011612, 'num': 4.0, 'pan': -1.0, 'lg': 0.10000000149011612, 'gate': 1.0}>],\n",
       "  Group(1) ~ {} children=[]]"
      ]
     },
     "execution_count": 1,
     "metadata": {},
     "output_type": "execute_result"
    }
   ],
   "source": [
    "sc.server.query_all_nodes()"
   ]
  },
  {
   "cell_type": "markdown",
   "metadata": {},
   "source": [
    "## Order of Nodes \n",
    "\n"
   ]
  },
  {
   "cell_type": "markdown",
   "metadata": {},
   "source": [
    "The execution of the Nodes does plays an important role. \n",
    "For more details look at the [SuperCollider Documentation](http://doc.sccode.org/Guides/Order-of-execution.html)"
   ]
  },
  {
   "cell_type": "markdown",
   "metadata": {},
   "source": [
    "The Node placement of a Nodes can be controlled by the instantiation arguments"
   ]
  },
  {
   "cell_type": "markdown",
   "metadata": {},
   "source": [
    "* `add_action` - An AddAction that specifies where to put Node relative to the target"
   ]
  },
  {
   "cell_type": "code",
   "execution_count": 49,
   "metadata": {
    "execution": {
     "iopub.execute_input": "2021-06-23T17:55:02.159339Z",
     "iopub.status.busy": "2021-06-23T17:55:02.159339Z",
     "iopub.status.idle": "2021-06-23T17:55:02.161340Z",
     "shell.execute_reply": "2021-06-23T17:55:02.161340Z"
    }
   },
   "outputs": [
    {
     "data": {
      "text/plain": [
       "[<AddAction.TO_HEAD: 0>,\n",
       " <AddAction.TO_TAIL: 1>,\n",
       " <AddAction.BEFORE: 2>,\n",
       " <AddAction.AFTER: 3>,\n",
       " <AddAction.REPLACE: 4>]"
      ]
     },
     "execution_count": 1,
     "metadata": {},
     "output_type": "execute_result"
    }
   ],
   "source": [
    "list(scn.AddAction)"
   ]
  },
  {
   "cell_type": "markdown",
   "metadata": {},
   "source": [
    "* `target` - The target of the AddAction\n",
    "* `group` - The group were the Node will be placed"
   ]
  },
  {
   "cell_type": "markdown",
   "metadata": {},
   "source": [
    "### Example of Ordering Nodes"
   ]
  },
  {
   "cell_type": "code",
   "execution_count": 50,
   "metadata": {
    "execution": {
     "iopub.execute_input": "2021-06-23T17:55:02.164339Z",
     "iopub.status.busy": "2021-06-23T17:55:02.163340Z",
     "iopub.status.idle": "2021-06-23T17:55:02.167356Z",
     "shell.execute_reply": "2021-06-23T17:55:02.167356Z"
    }
   },
   "outputs": [
    {
     "data": {
      "text/plain": [
       "Group(20005) s {} children=[]"
      ]
     },
     "execution_count": 1,
     "metadata": {},
     "output_type": "execute_result"
    }
   ],
   "source": [
    "g0 = scn.Group()\n",
    "g0"
   ]
  },
  {
   "cell_type": "code",
   "execution_count": 51,
   "metadata": {
    "execution": {
     "iopub.execute_input": "2021-06-23T17:55:02.170355Z",
     "iopub.status.busy": "2021-06-23T17:55:02.169355Z",
     "iopub.status.idle": "2021-06-23T17:55:02.172355Z",
     "shell.execute_reply": "2021-06-23T17:55:02.172355Z"
    }
   },
   "outputs": [
    {
     "data": {
      "text/plain": [
       "Group(20006) s {} children=[]"
      ]
     },
     "execution_count": 1,
     "metadata": {},
     "output_type": "execute_result"
    }
   ],
   "source": [
    "g1 = scn.Group(target=g0)\n",
    "g1"
   ]
  },
  {
   "cell_type": "code",
   "execution_count": 52,
   "metadata": {
    "execution": {
     "iopub.execute_input": "2021-06-23T17:55:02.175356Z",
     "iopub.status.busy": "2021-06-23T17:55:02.174354Z",
     "iopub.status.idle": "2021-06-23T17:55:02.186355Z",
     "shell.execute_reply": "2021-06-23T17:55:02.186355Z"
    }
   },
   "outputs": [],
   "source": [
    "s0 = scn.Synth(target=g0, controls={\"freq\": 200})"
   ]
  },
  {
   "cell_type": "code",
   "execution_count": 53,
   "metadata": {
    "execution": {
     "iopub.execute_input": "2021-06-23T17:55:02.190356Z",
     "iopub.status.busy": "2021-06-23T17:55:02.189356Z",
     "iopub.status.idle": "2021-06-23T17:55:02.191355Z",
     "shell.execute_reply": "2021-06-23T17:55:02.191355Z"
    }
   },
   "outputs": [],
   "source": [
    "s1 = scn.Synth(add_action=scn.AddAction.BEFORE, target=s0, controls={\"freq\": 600})"
   ]
  },
  {
   "cell_type": "code",
   "execution_count": 54,
   "metadata": {
    "execution": {
     "iopub.execute_input": "2021-06-23T17:55:02.195356Z",
     "iopub.status.busy": "2021-06-23T17:55:02.194355Z",
     "iopub.status.idle": "2021-06-23T17:55:02.196358Z",
     "shell.execute_reply": "2021-06-23T17:55:02.196358Z"
    }
   },
   "outputs": [],
   "source": [
    "s2 = scn.Synth(add_action=scn.AddAction.TO_TAIL, target=g1, controls={\"freq\": 1200})"
   ]
  },
  {
   "cell_type": "code",
   "execution_count": 55,
   "metadata": {
    "execution": {
     "iopub.execute_input": "2021-06-23T17:55:02.199356Z",
     "iopub.status.busy": "2021-06-23T17:55:02.199356Z",
     "iopub.status.idle": "2021-06-23T17:55:02.205038Z",
     "shell.execute_reply": "2021-06-23T17:55:02.205038Z"
    }
   },
   "outputs": [
    {
     "data": {
      "text/plain": [
       "Group(0)  {} children=[\n",
       "  <Synth(-24) 's2'  {'freq': 1000.0, 'amp': 0.05000000074505806, 'num': 2.0, 'pan': 0.0, 'lg': 0.10000000149011612, 'gate': 1.0}>,\n",
       "  Group(469762049) ~ {} children=[],\n",
       "  Group(402653185) ~ {} children=[],\n",
       "  Group(335544321) ~ {} children=[],\n",
       "  Group(268435457) ~ {} children=[],\n",
       "  Group(201326593) ~ {} children=[],\n",
       "  Group(134217729) ~ {} children=[],\n",
       "  Group(67108865) ~ {} children=[\n",
       "    Group(20005) ~ {} children=[\n",
       "      <Synth(20008) 'default' ~ {'freq': 600.0, 'out': 0.0, 'amp': 0.10000000149011612, 'pan': 0.0, 'gate': 1.0}>,\n",
       "      <Synth(20007) 'default' ~ {'freq': 200.0, 'out': 0.0, 'amp': 0.10000000149011612, 'pan': 0.0, 'gate': 1.0}>,\n",
       "      Group(20006) ~ {} children=[\n",
       "        <Synth(20009) 'default' ~ {'freq': 1200.0, 'out': 0.0, 'amp': 0.10000000149011612, 'pan': 0.0, 'gate': 1.0}>]],\n",
       "    <Synth(20001) 's2' ~ {'freq': 576.3576049804688, 'amp': 0.10000000149011612, 'num': 4.0, 'pan': -1.0, 'lg': 0.10000000149011612, 'gate': 1.0}>],\n",
       "  Group(1) ~ {} children=[]]"
      ]
     },
     "execution_count": 1,
     "metadata": {},
     "output_type": "execute_result"
    }
   ],
   "source": [
    "sc.server.query_all_nodes()"
   ]
  },
  {
   "cell_type": "code",
   "execution_count": 56,
   "metadata": {
    "execution": {
     "iopub.execute_input": "2021-06-23T17:55:02.208038Z",
     "iopub.status.busy": "2021-06-23T17:55:02.207039Z",
     "iopub.status.idle": "2021-06-23T17:55:02.210039Z",
     "shell.execute_reply": "2021-06-23T17:55:02.210039Z"
    }
   },
   "outputs": [
    {
     "data": {
      "text/plain": [
       "<Synth(20008) 'default' ~ {'freq': 600.0, 'out': 0.0, 'amp': 0.10000000149011612, 'pan': 0.0, 'gate': 1.0}>"
      ]
     },
     "execution_count": 1,
     "metadata": {},
     "output_type": "execute_result"
    }
   ],
   "source": [
    "s1.move(scn.AddAction.BEFORE, s2)"
   ]
  },
  {
   "cell_type": "code",
   "execution_count": 57,
   "metadata": {
    "execution": {
     "iopub.execute_input": "2021-06-23T17:55:02.213038Z",
     "iopub.status.busy": "2021-06-23T17:55:02.212038Z",
     "iopub.status.idle": "2021-06-23T17:55:02.225039Z",
     "shell.execute_reply": "2021-06-23T17:55:02.225039Z"
    }
   },
   "outputs": [
    {
     "data": {
      "text/plain": [
       "Group(0)  {} children=[\n",
       "  <Synth(-24) 's2'  {'freq': 1000.0, 'amp': 0.05000000074505806, 'num': 2.0, 'pan': 0.0, 'lg': 0.10000000149011612, 'gate': 1.0}>,\n",
       "  Group(469762049) ~ {} children=[],\n",
       "  Group(402653185) ~ {} children=[],\n",
       "  Group(335544321) ~ {} children=[],\n",
       "  Group(268435457) ~ {} children=[],\n",
       "  Group(201326593) ~ {} children=[],\n",
       "  Group(134217729) ~ {} children=[],\n",
       "  Group(67108865) ~ {} children=[\n",
       "    Group(20005) ~ {} children=[\n",
       "      <Synth(20007) 'default' ~ {'freq': 200.0, 'out': 0.0, 'amp': 0.10000000149011612, 'pan': 0.0, 'gate': 1.0}>,\n",
       "      Group(20006) ~ {} children=[\n",
       "        <Synth(20008) 'default' ~ {'freq': 600.0, 'out': 0.0, 'amp': 0.10000000149011612, 'pan': 0.0, 'gate': 1.0}>,\n",
       "        <Synth(20009) 'default' ~ {'freq': 1200.0, 'out': 0.0, 'amp': 0.10000000149011612, 'pan': 0.0, 'gate': 1.0}>]],\n",
       "    <Synth(20001) 's2' ~ {'freq': 576.3576049804688, 'amp': 0.10000000149011612, 'num': 4.0, 'pan': -1.0, 'lg': 0.10000000149011612, 'gate': 1.0}>],\n",
       "  Group(1) ~ {} children=[]]"
      ]
     },
     "execution_count": 1,
     "metadata": {},
     "output_type": "execute_result"
    }
   ],
   "source": [
    "sc.server.query_all_nodes()"
   ]
  },
  {
   "cell_type": "code",
   "execution_count": 58,
   "metadata": {
    "execution": {
     "iopub.execute_input": "2021-06-23T17:55:02.228039Z",
     "iopub.status.busy": "2021-06-23T17:55:02.228039Z",
     "iopub.status.idle": "2021-06-23T17:55:02.231040Z",
     "shell.execute_reply": "2021-06-23T17:55:02.231040Z"
    }
   },
   "outputs": [
    {
     "data": {
      "text/plain": [
       "Group(20005) ~ {} children=[\n",
       "  <Synth(20007) 'default' ~ {'freq': 200.0, 'out': 0.0, 'amp': 0.10000000149011612, 'pan': 0.0, 'gate': 1.0}>,\n",
       "  Group(20006) ~ {} children=[\n",
       "    <Synth(20008) 'default' ~ {'freq': 600.0, 'out': 0.0, 'amp': 0.10000000149011612, 'pan': 0.0, 'gate': 1.0}>,\n",
       "    <Synth(20009) 'default' ~ {'freq': 1200.0, 'out': 0.0, 'amp': 0.10000000149011612, 'pan': 0.0, 'gate': 1.0}>]]"
      ]
     },
     "execution_count": 1,
     "metadata": {},
     "output_type": "execute_result"
    }
   ],
   "source": [
    "g0"
   ]
  },
  {
   "cell_type": "code",
   "execution_count": 59,
   "metadata": {
    "execution": {
     "iopub.execute_input": "2021-06-23T17:55:02.234038Z",
     "iopub.status.busy": "2021-06-23T17:55:02.233038Z",
     "iopub.status.idle": "2021-06-23T17:55:02.236038Z",
     "shell.execute_reply": "2021-06-23T17:55:02.236038Z"
    }
   },
   "outputs": [
    {
     "data": {
      "text/plain": [
       "Group(20005) ~ {} children=[\n",
       "  <Synth(20007) 'default' ~ {'freq': 200.0, 'out': 0.0, 'amp': 0.10000000149011612, 'pan': 0.0, 'gate': 1.0}>,\n",
       "  Group(20006) ~ {} children=[\n",
       "    <Synth(20008) 'default' ~ {'freq': 600.0, 'out': 0.0, 'amp': 0.10000000149011612, 'pan': 0.0, 'gate': 1.0}>,\n",
       "    <Synth(20009) 'default' ~ {'freq': 1200.0, 'out': 0.0, 'amp': 0.10000000149011612, 'pan': 0.0, 'gate': 1.0}>]]"
      ]
     },
     "execution_count": 1,
     "metadata": {},
     "output_type": "execute_result"
    }
   ],
   "source": [
    "g0.run(False)"
   ]
  },
  {
   "cell_type": "code",
   "execution_count": 60,
   "metadata": {
    "execution": {
     "iopub.execute_input": "2021-06-23T17:55:02.238038Z",
     "iopub.status.busy": "2021-06-23T17:55:02.238038Z",
     "iopub.status.idle": "2021-06-23T17:55:02.242039Z",
     "shell.execute_reply": "2021-06-23T17:55:02.242039Z"
    }
   },
   "outputs": [
    {
     "data": {
      "text/plain": [
       "Group(20005) ~ {} children=[\n",
       "  <Synth(20007) 'default' ~ {'freq': 200.0, 'out': 0.0, 'amp': 0.10000000149011612, 'pan': 0.0, 'gate': 1.0}>,\n",
       "  Group(20006) ~ {} children=[\n",
       "    <Synth(20008) 'default' ~ {'freq': 600.0, 'out': 0.0, 'amp': 0.10000000149011612, 'pan': 0.0, 'gate': 1.0}>,\n",
       "    <Synth(20009) 'default' ~ {'freq': 1200.0, 'out': 0.0, 'amp': 0.10000000149011612, 'pan': 0.0, 'gate': 1.0}>]]"
      ]
     },
     "execution_count": 1,
     "metadata": {},
     "output_type": "execute_result"
    }
   ],
   "source": [
    "g0.run(True)"
   ]
  },
  {
   "cell_type": "code",
   "execution_count": 61,
   "metadata": {
    "execution": {
     "iopub.execute_input": "2021-06-23T17:55:02.244038Z",
     "iopub.status.busy": "2021-06-23T17:55:02.244038Z",
     "iopub.status.idle": "2021-06-23T17:55:02.255038Z",
     "shell.execute_reply": "2021-06-23T17:55:02.255038Z"
    }
   },
   "outputs": [
    {
     "data": {
      "text/plain": [
       "Group(20006) ~ {} children=[\n",
       "  <Synth(20008) 'default' ~ {'freq': 600.0, 'out': 0.0, 'amp': 0.10000000149011612, 'pan': 0.0, 'gate': 1.0}>,\n",
       "  <Synth(20009) 'default' ~ {'freq': 1200.0, 'out': 0.0, 'amp': 0.10000000149011612, 'pan': 0.0, 'gate': 1.0}>]"
      ]
     },
     "execution_count": 1,
     "metadata": {},
     "output_type": "execute_result"
    }
   ],
   "source": [
    "g1.run(False)\n",
    "g1.query_tree()"
   ]
  },
  {
   "cell_type": "code",
   "execution_count": 62,
   "metadata": {
    "execution": {
     "iopub.execute_input": "2021-06-23T17:55:02.257039Z",
     "iopub.status.busy": "2021-06-23T17:55:02.257039Z",
     "iopub.status.idle": "2021-06-23T17:55:02.294601Z",
     "shell.execute_reply": "2021-06-23T17:55:02.294601Z"
    }
   },
   "outputs": [
    {
     "data": {
      "text/plain": [
       "(200.0, 600.0, 1200.0)"
      ]
     },
     "execution_count": 1,
     "metadata": {},
     "output_type": "execute_result"
    }
   ],
   "source": [
    "s0.freq, s1.freq, s2.freq"
   ]
  },
  {
   "cell_type": "code",
   "execution_count": 63,
   "metadata": {
    "execution": {
     "iopub.execute_input": "2021-06-23T17:55:02.297601Z",
     "iopub.status.busy": "2021-06-23T17:55:02.296600Z",
     "iopub.status.idle": "2021-06-23T17:55:02.333771Z",
     "shell.execute_reply": "2021-06-23T17:55:02.333771Z"
    }
   },
   "outputs": [
    {
     "data": {
      "text/plain": [
       "(100.0, 100.0, 100.0)"
      ]
     },
     "execution_count": 1,
     "metadata": {},
     "output_type": "execute_result"
    }
   ],
   "source": [
    "g0.set(\"freq\", 100)\n",
    "s0.freq, s1.freq, s2.freq"
   ]
  },
  {
   "cell_type": "code",
   "execution_count": 64,
   "metadata": {
    "execution": {
     "iopub.execute_input": "2021-06-23T17:55:02.336773Z",
     "iopub.status.busy": "2021-06-23T17:55:02.335782Z",
     "iopub.status.idle": "2021-06-23T17:55:02.378117Z",
     "shell.execute_reply": "2021-06-23T17:55:02.378117Z"
    }
   },
   "outputs": [
    {
     "name": "stdout",
     "output_type": "stream",
     "text": [
      "NODE TREE Group 0\n",
      "   -24 s2\n",
      "     freq: 1000 amp: 0.050000000745058 num: 2 pan: 0 lg: 0.10000000149012 gate: 1\n",
      "   469762049 group\n",
      "   402653185 group\n",
      "   335544321 group\n",
      "   268435457 group\n",
      "   201326593 group\n",
      "   134217729 group\n",
      "   67108865 group\n",
      "      20005 group\n",
      "         20007 default\n",
      "           out: 0 freq: 100 amp: 0.10000000149012 pan: 0 gate: 1\n",
      "         20006 group\n",
      "            20008 default\n",
      "              out: 0 freq: 100 amp: 0.10000000149012 pan: 0 gate: 1\n",
      "            20009 default\n",
      "              out: 0 freq: 100 amp: 0.10000000149012 pan: 0 gate: 1\n",
      "      20001 s2\n",
      "        freq: 559.23919677734 amp: 0.10000000149012 num: 4 pan: -1 lg: 0.10000000149012 gate: 1\n",
      "   1 group\n"
     ]
    }
   ],
   "source": [
    "sc.server.dump_tree()"
   ]
  },
  {
   "cell_type": "code",
   "execution_count": 65,
   "metadata": {
    "execution": {
     "iopub.execute_input": "2021-06-23T17:55:02.381120Z",
     "iopub.status.busy": "2021-06-23T17:55:02.381120Z",
     "iopub.status.idle": "2021-06-23T17:55:02.384117Z",
     "shell.execute_reply": "2021-06-23T17:55:02.384117Z"
    }
   },
   "outputs": [
    {
     "data": {
      "text/plain": [
       "Group(20006) ~ {} children=[\n",
       "  <Synth(20008) 'default' ~ {'freq': 100.0, 'out': 0.0, 'amp': 0.10000000149011612, 'pan': 0.0, 'gate': 1.0}>,\n",
       "  <Synth(20009) 'default' ~ {'freq': 100.0, 'out': 0.0, 'amp': 0.10000000149011612, 'pan': 0.0, 'gate': 1.0}>]"
      ]
     },
     "execution_count": 1,
     "metadata": {},
     "output_type": "execute_result"
    }
   ],
   "source": [
    "g1.run(True)"
   ]
  },
  {
   "cell_type": "code",
   "execution_count": 66,
   "metadata": {
    "execution": {
     "iopub.execute_input": "2021-06-23T17:55:02.386118Z",
     "iopub.status.busy": "2021-06-23T17:55:02.386118Z",
     "iopub.status.idle": "2021-06-23T17:55:02.395839Z",
     "shell.execute_reply": "2021-06-23T17:55:02.395839Z"
    }
   },
   "outputs": [
    {
     "data": {
      "text/plain": [
       "Group(0)  {} children=[\n",
       "  <Synth(-24) 's2'  {'freq': 1000.0, 'amp': 0.05000000074505806, 'num': 2.0, 'pan': 0.0, 'lg': 0.10000000149011612, 'gate': 1.0}>,\n",
       "  Group(469762049) ~ {} children=[],\n",
       "  Group(402653185) ~ {} children=[],\n",
       "  Group(335544321) ~ {} children=[],\n",
       "  Group(268435457) ~ {} children=[],\n",
       "  Group(201326593) ~ {} children=[],\n",
       "  Group(134217729) ~ {} children=[],\n",
       "  Group(67108865) ~ {} children=[\n",
       "    Group(20005) ~ {'freq': 100} children=[\n",
       "      <Synth(20007) 'default' ~ {'freq': 100.0, 'out': 0.0, 'amp': 0.10000000149011612, 'pan': 0.0, 'gate': 1.0}>,\n",
       "      Group(20006) ~ {} children=[\n",
       "        <Synth(20008) 'default' ~ {'freq': 100.0, 'out': 0.0, 'amp': 0.10000000149011612, 'pan': 0.0, 'gate': 1.0}>,\n",
       "        <Synth(20009) 'default' ~ {'freq': 100.0, 'out': 0.0, 'amp': 0.10000000149011612, 'pan': 0.0, 'gate': 1.0}>]],\n",
       "    <Synth(20001) 's2' ~ {'freq': 553.6467895507812, 'amp': 0.10000000149011612, 'num': 4.0, 'pan': -1.0, 'lg': 0.10000000149011612, 'gate': 1.0}>],\n",
       "  Group(1) ~ {} children=[]]"
      ]
     },
     "execution_count": 1,
     "metadata": {},
     "output_type": "execute_result"
    }
   ],
   "source": [
    "sc.server.query_all_nodes()"
   ]
  },
  {
   "cell_type": "code",
   "execution_count": 67,
   "metadata": {
    "execution": {
     "iopub.execute_input": "2021-06-23T17:55:02.398839Z",
     "iopub.status.busy": "2021-06-23T17:55:02.397840Z",
     "iopub.status.idle": "2021-06-23T17:55:02.433767Z",
     "shell.execute_reply": "2021-06-23T17:55:02.433767Z"
    }
   },
   "outputs": [
    {
     "data": {
      "text/plain": [
       "(100.0, 440.0, 440.0)"
      ]
     },
     "execution_count": 1,
     "metadata": {},
     "output_type": "execute_result"
    }
   ],
   "source": [
    "g1.set(\"freq\", 440)\n",
    "\n",
    "s0.freq, s1.freq, s2.freq"
   ]
  },
  {
   "cell_type": "code",
   "execution_count": 68,
   "metadata": {
    "execution": {
     "iopub.execute_input": "2021-06-23T17:55:02.435766Z",
     "iopub.status.busy": "2021-06-23T17:55:02.435766Z",
     "iopub.status.idle": "2021-06-23T17:55:02.455313Z",
     "shell.execute_reply": "2021-06-23T17:55:02.455313Z"
    }
   },
   "outputs": [
    {
     "data": {
      "text/plain": [
       "Group(20005) ~ {'freq': 100} children=[\n",
       "  <Synth(20007) 'default' ~ {'freq': 100.0, 'out': 0.0, 'amp': 0.10000000149011612, 'pan': 0.0, 'gate': 1.0}>,\n",
       "  Group(20006) ~ {'freq': 440} children=[\n",
       "    <Synth(20008) 'default' ~ {'freq': 440.0, 'out': 0.0, 'amp': 0.10000000149011612, 'pan': 0.0, 'gate': 1.0}>,\n",
       "    <Synth(20009) 'default' ~ {'freq': 440.0, 'out': 0.0, 'amp': 0.10000000149011612, 'pan': 0.0, 'gate': 1.0}>]]"
      ]
     },
     "execution_count": 1,
     "metadata": {},
     "output_type": "execute_result"
    }
   ],
   "source": [
    "g0.query_tree()"
   ]
  },
  {
   "cell_type": "code",
   "execution_count": 69,
   "metadata": {
    "execution": {
     "iopub.execute_input": "2021-06-23T17:55:02.458313Z",
     "iopub.status.busy": "2021-06-23T17:55:02.458313Z",
     "iopub.status.idle": "2021-06-23T17:55:02.461314Z",
     "shell.execute_reply": "2021-06-23T17:55:02.461314Z"
    }
   },
   "outputs": [
    {
     "data": {
      "text/plain": [
       "Group(20005) ~ {'freq': 100} children=[\n",
       "  <Synth(20007) 'default' ~ {'freq': 100.0, 'out': 0.0, 'amp': 0.10000000149011612, 'pan': 0.0, 'gate': 1.0}>,\n",
       "  Group(20006) ~ {'freq': 440} children=[\n",
       "    <Synth(20008) 'default' ~ {'freq': 440.0, 'out': 0.0, 'amp': 0.10000000149011612, 'pan': 0.0, 'gate': 1.0}>,\n",
       "    <Synth(20009) 'default' ~ {'freq': 440.0, 'out': 0.0, 'amp': 0.10000000149011612, 'pan': 0.0, 'gate': 1.0}>]]"
      ]
     },
     "execution_count": 1,
     "metadata": {},
     "output_type": "execute_result"
    }
   ],
   "source": [
    "g0.move_node_to_tail(s1)"
   ]
  },
  {
   "cell_type": "code",
   "execution_count": 70,
   "metadata": {
    "execution": {
     "iopub.execute_input": "2021-06-23T17:55:02.464313Z",
     "iopub.status.busy": "2021-06-23T17:55:02.463313Z",
     "iopub.status.idle": "2021-06-23T17:55:02.467313Z",
     "shell.execute_reply": "2021-06-23T17:55:02.467313Z"
    }
   },
   "outputs": [
    {
     "data": {
      "text/plain": [
       "Group(20005) ~ {'freq': 100} children=[\n",
       "  <Synth(20007) 'default' ~ {'freq': 100.0, 'out': 0.0, 'amp': 0.10000000149011612, 'pan': 0.0, 'gate': 1.0}>,\n",
       "  Group(20006) ~ {'freq': 440} children=[\n",
       "    <Synth(20008) 'default' ~ {'freq': 440.0, 'out': 0.0, 'amp': 0.10000000149011612, 'pan': 0.0, 'gate': 1.0}>,\n",
       "    <Synth(20009) 'default' ~ {'freq': 440.0, 'out': 0.0, 'amp': 0.10000000149011612, 'pan': 0.0, 'gate': 1.0}>]]"
      ]
     },
     "execution_count": 1,
     "metadata": {},
     "output_type": "execute_result"
    }
   ],
   "source": [
    "g0.dump_tree()"
   ]
  },
  {
   "cell_type": "code",
   "execution_count": 71,
   "metadata": {
    "execution": {
     "iopub.execute_input": "2021-06-23T17:55:02.470313Z",
     "iopub.status.busy": "2021-06-23T17:55:02.469313Z",
     "iopub.status.idle": "2021-06-23T17:55:02.505332Z",
     "shell.execute_reply": "2021-06-23T17:55:02.505332Z"
    }
   },
   "outputs": [
    {
     "data": {
      "text/plain": [
       "(100.0, 440.0, 800.0)"
      ]
     },
     "execution_count": 1,
     "metadata": {},
     "output_type": "execute_result"
    }
   ],
   "source": [
    "g1.set(\"freq\", 800)\n",
    "\n",
    "s0.freq, s1.freq, s2.freq"
   ]
  },
  {
   "cell_type": "code",
   "execution_count": 72,
   "metadata": {
    "execution": {
     "iopub.execute_input": "2021-06-23T17:55:02.508331Z",
     "iopub.status.busy": "2021-06-23T17:55:02.507332Z",
     "iopub.status.idle": "2021-06-23T17:55:02.515332Z",
     "shell.execute_reply": "2021-06-23T17:55:02.515332Z"
    }
   },
   "outputs": [
    {
     "data": {
      "text/plain": [
       "Group(67108865) ~ {} children=[\n",
       "  Group(20005) ~ {'freq': 100} children=[\n",
       "    <Synth(20007) 'default' ~ {'freq': 100.0, 'out': 0.0, 'amp': 0.10000000149011612, 'pan': 0.0, 'gate': 1.0}>,\n",
       "    Group(20006) ~ {'freq': 800} children=[\n",
       "      <Synth(20009) 'default' ~ {'freq': 800.0, 'out': 0.0, 'amp': 0.10000000149011612, 'pan': 0.0, 'gate': 1.0}>],\n",
       "    <Synth(20008) 'default' ~ {'freq': 440.0, 'out': 0.0, 'amp': 0.10000000149011612, 'pan': 0.0, 'gate': 1.0}>],\n",
       "  <Synth(20001) 's2' ~ {'freq': 553.6467895507812, 'amp': 0.10000000149011612, 'num': 4.0, 'pan': -1.0, 'lg': 0.10000000149011612, 'gate': 1.0}>]"
      ]
     },
     "execution_count": 1,
     "metadata": {},
     "output_type": "execute_result"
    }
   ],
   "source": [
    "sc.server.default_group.query_tree()"
   ]
  },
  {
   "cell_type": "code",
   "execution_count": 73,
   "metadata": {
    "execution": {
     "iopub.execute_input": "2021-06-23T17:55:02.517331Z",
     "iopub.status.busy": "2021-06-23T17:55:02.517331Z",
     "iopub.status.idle": "2021-06-23T17:55:02.616404Z",
     "shell.execute_reply": "2021-06-23T17:55:02.616404Z"
    }
   },
   "outputs": [
    {
     "name": "stdout",
     "output_type": "stream",
     "text": [
      "NODE TREE Group 0\n",
      "   469762049 group\n",
      "   402653185 group\n",
      "   335544321 group\n",
      "   268435457 group\n",
      "   201326593 group\n",
      "   134217729 group\n",
      "   67108865 group\n",
      "   1 group\n"
     ]
    }
   ],
   "source": [
    "sc.server.free_all()\n",
    "sc.server.dump_tree()"
   ]
  },
  {
   "cell_type": "code",
   "execution_count": 74,
   "metadata": {
    "execution": {
     "iopub.execute_input": "2021-06-23T17:55:02.619405Z",
     "iopub.status.busy": "2021-06-23T17:55:02.618404Z",
     "iopub.status.idle": "2021-06-23T17:55:03.806236Z",
     "shell.execute_reply": "2021-06-23T17:55:03.807248Z"
    }
   },
   "outputs": [],
   "source": [
    "sc.exit()"
   ]
  },
  {
   "cell_type": "code",
   "execution_count": null,
   "metadata": {},
   "outputs": [],
   "source": []
  }
 ],
 "metadata": {
  "language_info": {
   "codemirror_mode": {
    "name": "ipython",
    "version": 3
   },
   "file_extension": ".py",
   "mimetype": "text/x-python",
   "name": "python",
   "nbconvert_exporter": "python",
   "pygments_lexer": "ipython3",
   "version": "3.7.10"
  },
  "toc": {
   "base_numbering": 1,
   "nav_menu": {},
   "number_sections": true,
   "sideBar": true,
   "skip_h1_title": true,
   "title_cell": "Table of Contents",
   "title_sidebar": "Contents",
   "toc_cell": false,
   "toc_position": {},
   "toc_section_display": true,
   "toc_window_display": false
  },
  "toc-autonumbering": false,
  "toc-showcode": false,
  "toc-showmarkdowntxt": false,
  "toc-showtags": true
 },
 "nbformat": 4,
 "nbformat_minor": 4
}
