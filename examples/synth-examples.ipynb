{
 "cells": [
  {
   "cell_type": "code",
   "execution_count": null,
   "metadata": {},
   "outputs": [],
   "source": [
    "# header / imports\n",
    "import sc3nb as scn\n",
    "import time"
   ]
  },
  {
   "cell_type": "code",
   "execution_count": null,
   "metadata": {},
   "outputs": [],
   "source": [
    "sc = scn.startup()"
   ]
  },
  {
   "cell_type": "code",
   "execution_count": null,
   "metadata": {},
   "outputs": [],
   "source": [
    "# example objects which are used later\n",
    "buffer = sc.Buffer().load_file(\"./my_recording.wav\")\n",
    "pbExample = sc.SynthDef(name=\"pbexample\", definition=\"\"\"{ |out=0, bufnum=0, rate=1, loop=0, pan=0, amp=0.3 |\n",
    "                    Out.ar(out,\n",
    "                        PlayBuf.ar(2, bufnum, rate*BufRateScale.kr(bufnum), loop: 0, \n",
    "                                   doneAction: Done.freeSelf)!2\n",
    "                )\n",
    "            }\"\"\").create()"
   ]
  },
  {
   "cell_type": "markdown",
   "metadata": {},
   "source": [
    "# Synth Definition\n",
    "* SynthDef is a python class in the sc3nb package to interface with synthdefs on the SuperCollider3 server.\n",
    "* A synthdef can be created with sc3nb.SynthDef(sc)\n",
    "* The constructor is also invoked by the method sc3nb.SC.SynthDef(), a method of a booted SC instance, i.e. \n",
    "        synthDef = sc.SynthDef()\n",
    "  to allocate a synthdef on the sound server booted from the SC instance.\n",
    "* On synthdef methods, the synthdef instance is returned so that subsequent synthdef methods can be directly invoked\n",
    "* This notebook demonstrates with some examples how to work with sc3nb.Buffer"
   ]
  },
  {
   "cell_type": "markdown",
   "metadata": {},
   "source": [
    "## Create a simple SynthDef instance\n",
    "Create a new synthdef instance in python. You can create it later on the sc server"
   ]
  },
  {
   "cell_type": "code",
   "execution_count": null,
   "metadata": {},
   "outputs": [],
   "source": [
    "simpleSynthDef = sc.SynthDef(name=\"synthDef\", definition=\"\"\"{ |out=0, bufnum=0, rate=1, loop=0, pan=0, amp=0.3 |\n",
    "                    Out.ar(out,\n",
    "                        PlayBuf.ar(2, bufnum, rate*BufRateScale.kr(bufnum), loop: ^loop, \n",
    "                                   doneAction: Done.freeSelf)!2\n",
    "                )\n",
    "            }\"\"\")\n",
    "simpleSynthDef"
   ]
  },
  {
   "cell_type": "markdown",
   "metadata": {},
   "source": [
    "## Create a SynthDef with flexible content\n",
    "In some cases you want to have multiple synthdefs with only a small difference in the synthdef. For this case you can create a general synthdef instance with placeholders. Placerholders are written in the mustache syntax.\n",
    "\n",
    "        {{placeholder}}\n",
    "You can replace the placeholder in further steps with the real content and create in a easy way multiple synthdefs"
   ]
  },
  {
   "cell_type": "code",
   "execution_count": null,
   "metadata": {},
   "outputs": [],
   "source": [
    "complexSynthDef = sc.SynthDef(name=\"synthDef\", definition=\"\"\"{ |out=0, bufnum=0, rate=1, loop=0, pan=0, amp=0.3 |\n",
    "                    Out.ar(out,\n",
    "                        PlayBuf.ar({{channel}}, bufnum, rate*BufRateScale.kr(bufnum), loop: ^loop, \n",
    "                                   doneAction: Done.freeSelf)!2\n",
    "                )\n",
    "            }\"\"\")\n",
    "complexSynthDef"
   ]
  },
  {
   "cell_type": "markdown",
   "metadata": {},
   "source": [
    "### Modify flexible content"
   ]
  },
  {
   "cell_type": "code",
   "execution_count": null,
   "metadata": {},
   "outputs": [],
   "source": [
    "flexibleSynthDef = sc.SynthDef(name=\"flexibleSynth\", definition=\"\"\"Hello {{world}}\"\"\")\n",
    "flexibleSynthDef.set_context(\"world\", \"mars\")"
   ]
  },
  {
   "cell_type": "markdown",
   "metadata": {},
   "source": [
    "You can also do it n-times in a nested way:"
   ]
  },
  {
   "cell_type": "code",
   "execution_count": null,
   "metadata": {},
   "outputs": [],
   "source": [
    "flexibleSynthDef = sc.SynthDef(name=\"flexibleSynth\", definition=\"\"\"Hello {{content}}\"\"\")\n",
    "flexibleSynthDef.set_context(\"content\", \"mars {{content}}\")\n",
    "flexibleSynthDef.set_context(\"content\", \"and jupiter\")"
   ]
  },
  {
   "cell_type": "markdown",
   "metadata": {},
   "source": [
    "### Modify multiple flexible contents at once"
   ]
  },
  {
   "cell_type": "code",
   "execution_count": null,
   "metadata": {},
   "outputs": [],
   "source": [
    "multiflexSynthDef = sc.SynthDef(name=\"multiflexibleSynth\", definition=\"\"\"Hello {{var1}} and  {{var2}}\"\"\")\n",
    "multiflexSynthDef.set_contexts({\"var1\" : \"ladies\", \"var2\": \"gentlemen\"})"
   ]
  },
  {
   "cell_type": "markdown",
   "metadata": {},
   "source": [
    "### Remove unused placeholders"
   ]
  },
  {
   "cell_type": "code",
   "execution_count": null,
   "metadata": {},
   "outputs": [],
   "source": [
    "placeholderSynthDef = sc.SynthDef(name=\"placeholderSynth\", definition=\"\"\"Hello world! {{content}}\"\"\")\n",
    "placeholderSynthDef.unset_remaining()"
   ]
  },
  {
   "cell_type": "markdown",
   "metadata": {},
   "source": [
    "The definition is now complete -> lets create it in SC:\n",
    "You can also add pyvars here if you want to modify the rendered query at the end."
   ]
  },
  {
   "cell_type": "markdown",
   "metadata": {},
   "source": [
    "## Reset a modified synth def to default value"
   ]
  },
  {
   "cell_type": "code",
   "execution_count": null,
   "metadata": {},
   "outputs": [],
   "source": [
    "resetSynthDef = sc.SynthDef(name=\"resetSynth\", definition=\"\"\"Hello {{var1}}\"\"\")\n",
    "resetSynthDef.set_context(\"var1\", \"world\")"
   ]
  },
  {
   "cell_type": "code",
   "execution_count": null,
   "metadata": {},
   "outputs": [],
   "source": [
    "resetSynthDef.reset()"
   ]
  },
  {
   "cell_type": "markdown",
   "metadata": {},
   "source": [
    "## Create a synthdef in sc"
   ]
  },
  {
   "cell_type": "code",
   "execution_count": null,
   "metadata": {},
   "outputs": [],
   "source": [
    "complexSynthDef = sc.SynthDef(name=\"synthDef\", definition=\"\"\"{ |out=0, bufnum=0, rate=1, loop=0, pan=0, amp=0.3 |\n",
    "                    Out.ar(out,\n",
    "                        PlayBuf.ar({{channel}}, bufnum, rate*BufRateScale.kr(bufnum), loop: 0, \n",
    "                                   doneAction: Done.freeSelf)!2\n",
    "                )\n",
    "            }\"\"\")\n",
    "complexSynthDef.set_context(\"channel\", 2)"
   ]
  },
  {
   "cell_type": "code",
   "execution_count": null,
   "metadata": {},
   "outputs": [],
   "source": [
    "complexSynthDef.create()"
   ]
  },
  {
   "cell_type": "markdown",
   "metadata": {},
   "source": [
    "The result of create() will be the name of the created synthdef. The synthdef instance will not reset after a create:"
   ]
  },
  {
   "cell_type": "code",
   "execution_count": null,
   "metadata": {},
   "outputs": [],
   "source": [
    "complexSynthDef"
   ]
  },
  {
   "cell_type": "markdown",
   "metadata": {},
   "source": [
    "### Create a synthdef in sc and reset it afterwards"
   ]
  },
  {
   "cell_type": "code",
   "execution_count": null,
   "metadata": {},
   "outputs": [],
   "source": [
    "complexSynthDef = sc.SynthDef(name=\"synthDef\", definition=\"\"\"{ |out=0, bufnum=0, rate=1, loop=0, pan=0, amp=0.3 |\n",
    "                    Out.ar(out,\n",
    "                        PlayBuf.ar({{channel}}, bufnum, rate*BufRateScale.kr(bufnum), loop: 0, \n",
    "                                   doneAction: Done.freeSelf)!2\n",
    "                )\n",
    "            }\"\"\")\n",
    "complexSynthDef.set_context(\"channel\", 2)"
   ]
  },
  {
   "cell_type": "code",
   "execution_count": null,
   "metadata": {},
   "outputs": [],
   "source": [
    "complexSynthDef.create_and_reset()"
   ]
  },
  {
   "cell_type": "markdown",
   "metadata": {},
   "source": [
    "SynthDef will be resetted after the creation:"
   ]
  },
  {
   "cell_type": "code",
   "execution_count": null,
   "metadata": {},
   "outputs": [],
   "source": [
    "complexSynthDef"
   ]
  },
  {
   "cell_type": "markdown",
   "metadata": {},
   "source": [
    "### Create a synthdef in sc with PyVars"
   ]
  },
  {
   "cell_type": "code",
   "execution_count": null,
   "metadata": {},
   "outputs": [],
   "source": [
    "complexSynthDef = sc.SynthDef(name=\"synthDef\", definition=\"\"\"{ |out=0, bufnum=0, rate=1, loop=0, pan=0, amp=0.3 |\n",
    "                    Out.ar(out,\n",
    "                        PlayBuf.ar({{channel}}, bufnum, rate*BufRateScale.kr(bufnum), loop: ^loop, \n",
    "                                   doneAction: Done.freeSelf)!2\n",
    "                )\n",
    "            }\"\"\")\n",
    "complexSynthDef.set_context(\"channel\", 2)"
   ]
  },
  {
   "cell_type": "code",
   "execution_count": null,
   "metadata": {},
   "outputs": [],
   "source": [
    "complexSynthDef.create(pyvars={\"loop\": 1})"
   ]
  },
  {
   "cell_type": "markdown",
   "metadata": {},
   "source": [
    "## Delete a synth def in sc"
   ]
  },
  {
   "cell_type": "code",
   "execution_count": null,
   "metadata": {},
   "outputs": [],
   "source": [
    "synthDef = sc.SynthDef(name=\"synthDef\", definition=\"\"\"{ |out=0, bufnum=0, rate=1, loop=0, pan=0, amp=0.3 |\n",
    "                    Out.ar(out,\n",
    "                        PlayBuf.ar(2, bufnum, rate*BufRateScale.kr(bufnum), loop: 0, \n",
    "                                   doneAction: Done.freeSelf)!2\n",
    "                )\n",
    "            }\"\"\")\n",
    "synthDefName = synthDef.create()"
   ]
  },
  {
   "cell_type": "code",
   "execution_count": null,
   "metadata": {},
   "outputs": [],
   "source": [
    "synthDef.free(synthDefName)"
   ]
  },
  {
   "cell_type": "markdown",
   "metadata": {},
   "source": [
    "## Tip: Create multiple synthdefs\n",
    "In some cases you want to create many SynthDefs with only a small change. You can use the SynthDefs object multiple time to do this. Here we want to create playbuf synthdefs for 1 to 10 channels: "
   ]
  },
  {
   "cell_type": "code",
   "execution_count": null,
   "metadata": {},
   "outputs": [],
   "source": [
    "pbSynths = sc.SynthDef(name=\"pb\", definition=\"\"\"{ |out=0, bufnum=0, rate=1, loop=0, pan=0, amp=0.3 |\n",
    "                    Out.ar(out,\n",
    "                        PlayBuf.ar({{channel}}, bufnum, rate*BufRateScale.kr(bufnum), loop: 0, \n",
    "                                   doneAction: Done.freeSelf)!2\n",
    "                )\n",
    "            }\"\"\")"
   ]
  },
  {
   "cell_type": "code",
   "execution_count": null,
   "metadata": {},
   "outputs": [],
   "source": [
    "synthPlaybufs = {}\n",
    "for channel in [1,2,3,4,5,6,7,8,9,10]:\n",
    "    synthPlaybufs[channel] = pbSynths.set_context(\"channel\", channel).create_and_reset()\n",
    "synthPlaybufs"
   ]
  },
  {
   "cell_type": "markdown",
   "metadata": {},
   "source": [
    "\n",
    "\n",
    "# Synth\n",
    "\n",
    "## Create a new synth:"
   ]
  },
  {
   "cell_type": "code",
   "execution_count": null,
   "metadata": {},
   "outputs": [],
   "source": [
    "synth = sc.Synth(name=pbExample, args={\"bufnum\": buffer.bufnum})"
   ]
  },
  {
   "cell_type": "markdown",
   "metadata": {},
   "source": [
    "## Restart a synth"
   ]
  },
  {
   "cell_type": "code",
   "execution_count": null,
   "metadata": {},
   "outputs": [],
   "source": [
    "synth = sc.Synth(name=pbExample, args={\"bufnum\": buffer.bufnum})\n",
    "time.sleep(5)\n",
    "synth.restart()"
   ]
  },
  {
   "cell_type": "markdown",
   "metadata": {},
   "source": [
    "## Pause a synth"
   ]
  },
  {
   "cell_type": "code",
   "execution_count": null,
   "metadata": {},
   "outputs": [],
   "source": [
    "synth = sc.Synth(name=pbExample, args={\"bufnum\": buffer.bufnum})\n",
    "time.sleep(0.2)\n",
    "synth.pause()"
   ]
  },
  {
   "cell_type": "markdown",
   "metadata": {},
   "source": [
    "## Run a paused synth"
   ]
  },
  {
   "cell_type": "code",
   "execution_count": null,
   "metadata": {},
   "outputs": [],
   "source": [
    "synth = sc.Synth(name=pbExample, args={\"bufnum\": buffer.bufnum})\n",
    "time.sleep(0.5)\n",
    "synth.pause()\n",
    "time.sleep(1)\n",
    "synth.run()"
   ]
  },
  {
   "cell_type": "markdown",
   "metadata": {},
   "source": [
    "## Set a control to a synth"
   ]
  },
  {
   "cell_type": "code",
   "execution_count": null,
   "metadata": {},
   "outputs": [],
   "source": [
    "synth = sc.Synth(name=pbExample, args={\"bufnum\": buffer.bufnum})\n",
    "synth.set(\"loop\", 1)"
   ]
  },
  {
   "cell_type": "markdown",
   "metadata": {},
   "source": [
    "## Destroy a running synth"
   ]
  },
  {
   "cell_type": "code",
   "execution_count": null,
   "metadata": {},
   "outputs": [],
   "source": [
    "synth = sc.Synth(name=pbExample, args={\"bufnum\": buffer.bufnum})\n",
    "time.sleep(0.5)\n",
    "synth.free()"
   ]
  }
 ],
 "metadata": {
  "kernelspec": {
   "display_name": "Python 3",
   "language": "python",
   "name": "python3"
  },
  "language_info": {
   "codemirror_mode": {
    "name": "ipython",
    "version": 3
   },
   "file_extension": ".py",
   "mimetype": "text/x-python",
   "name": "python",
   "nbconvert_exporter": "python",
   "pygments_lexer": "ipython3",
   "version": "3.7.3"
  }
 },
 "nbformat": 4,
 "nbformat_minor": 2
}
