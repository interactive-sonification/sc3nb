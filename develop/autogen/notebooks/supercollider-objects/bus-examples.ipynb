{
 "cells": [
  {
   "cell_type": "markdown",
   "metadata": {},
   "source": [
    "# Bus"
   ]
  },
  {
   "cell_type": "code",
   "execution_count": 1,
   "metadata": {
    "execution": {
     "iopub.execute_input": "2021-07-19T13:38:49.981419Z",
     "iopub.status.busy": "2021-07-19T13:38:49.981419Z",
     "iopub.status.idle": "2021-07-19T13:38:50.155417Z",
     "shell.execute_reply": "2021-07-19T13:38:50.156419Z"
    }
   },
   "outputs": [],
   "source": [
    "import sc3nb as scn"
   ]
  },
  {
   "cell_type": "code",
   "execution_count": 2,
   "metadata": {
    "execution": {
     "iopub.execute_input": "2021-07-19T13:38:50.164419Z",
     "iopub.status.busy": "2021-07-19T13:38:50.163417Z",
     "iopub.status.idle": "2021-07-19T13:38:53.266921Z",
     "shell.execute_reply": "2021-07-19T13:38:53.266921Z"
    }
   },
   "outputs": [
    {
     "data": {
      "application/javascript": [
       "if (typeof Jupyter !== 'undefined') {\n",
       "                        Jupyter.keyboard_manager.command_shortcuts.add_shortcut(\n",
       "                        'Ctrl-.', {\n",
       "                        help : 'Free all nodes on SC server',\n",
       "                        help_index : 'zz',\n",
       "                        handler : function (event) {\n",
       "                            IPython.notebook.kernel.execute(\n",
       "                                \"import sc3nb; sc3nb.SC.get_default().server.free_all(root=True)\"\n",
       "                            )\n",
       "                            return true;}\n",
       "                        });\n",
       "                    }"
      ],
      "text/plain": [
       "<IPython.core.display.Javascript object>"
      ]
     },
     "metadata": {},
     "output_type": "display_data"
    },
    {
     "name": "stdout",
     "output_type": "stream",
     "text": [
      "Starting sclang process... "
     ]
    },
    {
     "name": "stdout",
     "output_type": "stream",
     "text": [
      "Done.\n",
      "Registering OSC /return callback in sclang... Done.\n",
      "Loading default sc3nb SynthDefs... Done.\n",
      "Booting SuperCollider Server... "
     ]
    },
    {
     "name": "stdout",
     "output_type": "stream",
     "text": [
      "Done.\n"
     ]
    }
   ],
   "source": [
    "sc = scn.startup()"
   ]
  },
  {
   "cell_type": "markdown",
   "metadata": {},
   "source": [
    "## Using a Control Bus"
   ]
  },
  {
   "cell_type": "code",
   "execution_count": 3,
   "metadata": {
    "execution": {
     "iopub.execute_input": "2021-07-19T13:38:53.270922Z",
     "iopub.status.busy": "2021-07-19T13:38:53.268921Z",
     "iopub.status.idle": "2021-07-19T13:38:53.273921Z",
     "shell.execute_reply": "2021-07-19T13:38:53.273921Z"
    }
   },
   "outputs": [
    {
     "data": {
      "text/plain": [
       "Bus(rate='control', ids=[512])"
      ]
     },
     "execution_count": 3,
     "metadata": {},
     "output_type": "execute_result"
    }
   ],
   "source": [
    "bus = scn.Bus('control')\n",
    "bus"
   ]
  },
  {
   "cell_type": "code",
   "execution_count": 4,
   "metadata": {
    "execution": {
     "iopub.execute_input": "2021-07-19T13:38:53.276921Z",
     "iopub.status.busy": "2021-07-19T13:38:53.275922Z",
     "iopub.status.idle": "2021-07-19T13:38:53.288922Z",
     "shell.execute_reply": "2021-07-19T13:38:53.288922Z"
    }
   },
   "outputs": [
    {
     "data": {
      "text/plain": [
       "0.0"
      ]
     },
     "execution_count": 4,
     "metadata": {},
     "output_type": "execute_result"
    }
   ],
   "source": [
    "bus.get()"
   ]
  },
  {
   "cell_type": "code",
   "execution_count": 5,
   "metadata": {
    "execution": {
     "iopub.execute_input": "2021-07-19T13:38:53.291922Z",
     "iopub.status.busy": "2021-07-19T13:38:53.290922Z",
     "iopub.status.idle": "2021-07-19T13:38:53.303922Z",
     "shell.execute_reply": "2021-07-19T13:38:53.303922Z"
    }
   },
   "outputs": [],
   "source": [
    "syn = scn.Synth(\"s2\")"
   ]
  },
  {
   "cell_type": "markdown",
   "metadata": {},
   "source": [
    "map the frequency of the synth to the bus value"
   ]
  },
  {
   "cell_type": "code",
   "execution_count": 6,
   "metadata": {
    "execution": {
     "iopub.execute_input": "2021-07-19T13:38:53.307922Z",
     "iopub.status.busy": "2021-07-19T13:38:53.307922Z",
     "iopub.status.idle": "2021-07-19T13:38:53.309922Z",
     "shell.execute_reply": "2021-07-19T13:38:53.309922Z"
    }
   },
   "outputs": [
    {
     "data": {
      "text/plain": [
       "<Synth(20001) 's2' ~ {}>"
      ]
     },
     "execution_count": 6,
     "metadata": {},
     "output_type": "execute_result"
    }
   ],
   "source": [
    "syn.map(\"freq\", bus)"
   ]
  },
  {
   "cell_type": "code",
   "execution_count": 7,
   "metadata": {
    "execution": {
     "iopub.execute_input": "2021-07-19T13:38:53.313921Z",
     "iopub.status.busy": "2021-07-19T13:38:53.312922Z",
     "iopub.status.idle": "2021-07-19T13:38:53.315922Z",
     "shell.execute_reply": "2021-07-19T13:38:53.315922Z"
    }
   },
   "outputs": [
    {
     "data": {
      "text/plain": [
       "Bus(rate='control', ids=[512])"
      ]
     },
     "execution_count": 7,
     "metadata": {},
     "output_type": "execute_result"
    }
   ],
   "source": [
    "bus.set(120) # changes synths frequency"
   ]
  },
  {
   "cell_type": "code",
   "execution_count": 8,
   "metadata": {
    "execution": {
     "iopub.execute_input": "2021-07-19T13:38:53.319922Z",
     "iopub.status.busy": "2021-07-19T13:38:53.318921Z",
     "iopub.status.idle": "2021-07-19T13:38:53.320922Z",
     "shell.execute_reply": "2021-07-19T13:38:53.320922Z"
    }
   },
   "outputs": [
    {
     "data": {
      "text/plain": [
       "Bus(rate='control', ids=[512])"
      ]
     },
     "execution_count": 8,
     "metadata": {},
     "output_type": "execute_result"
    }
   ],
   "source": [
    "bus.set(440)"
   ]
  },
  {
   "cell_type": "markdown",
   "metadata": {},
   "source": [
    "Set the frequency value to remove the mapping"
   ]
  },
  {
   "cell_type": "code",
   "execution_count": 9,
   "metadata": {
    "execution": {
     "iopub.execute_input": "2021-07-19T13:38:53.323922Z",
     "iopub.status.busy": "2021-07-19T13:38:53.323922Z",
     "iopub.status.idle": "2021-07-19T13:38:53.327921Z",
     "shell.execute_reply": "2021-07-19T13:38:53.327921Z"
    }
   },
   "outputs": [
    {
     "data": {
      "text/plain": [
       "<Synth(20001) 's2' ~ {'freq': 220}>"
      ]
     },
     "execution_count": 9,
     "metadata": {},
     "output_type": "execute_result"
    }
   ],
   "source": [
    "syn.set(\"freq\", 220)"
   ]
  },
  {
   "cell_type": "code",
   "execution_count": 10,
   "metadata": {
    "execution": {
     "iopub.execute_input": "2021-07-19T13:38:53.331922Z",
     "iopub.status.busy": "2021-07-19T13:38:53.330921Z",
     "iopub.status.idle": "2021-07-19T13:38:53.332922Z",
     "shell.execute_reply": "2021-07-19T13:38:53.332922Z"
    }
   },
   "outputs": [
    {
     "data": {
      "text/plain": [
       "Bus(rate='control', ids=[512])"
      ]
     },
     "execution_count": 10,
     "metadata": {},
     "output_type": "execute_result"
    }
   ],
   "source": [
    "bus.set(440)  # no change"
   ]
  },
  {
   "cell_type": "code",
   "execution_count": 11,
   "metadata": {
    "execution": {
     "iopub.execute_input": "2021-07-19T13:38:53.335922Z",
     "iopub.status.busy": "2021-07-19T13:38:53.335922Z",
     "iopub.status.idle": "2021-07-19T13:38:53.337922Z",
     "shell.execute_reply": "2021-07-19T13:38:53.337922Z"
    }
   },
   "outputs": [
    {
     "data": {
      "text/plain": [
       "<Synth(20001) 's2' f {'freq': 220}>"
      ]
     },
     "execution_count": 11,
     "metadata": {},
     "output_type": "execute_result"
    }
   ],
   "source": [
    "syn.free()"
   ]
  },
  {
   "cell_type": "markdown",
   "metadata": {},
   "source": [
    "Free the bus to mark the bus id as available again"
   ]
  },
  {
   "cell_type": "code",
   "execution_count": 12,
   "metadata": {
    "execution": {
     "iopub.execute_input": "2021-07-19T13:38:53.340921Z",
     "iopub.status.busy": "2021-07-19T13:38:53.339920Z",
     "iopub.status.idle": "2021-07-19T13:38:53.341922Z",
     "shell.execute_reply": "2021-07-19T13:38:53.341922Z"
    }
   },
   "outputs": [],
   "source": [
    "bus.free()"
   ]
  },
  {
   "cell_type": "markdown",
   "metadata": {},
   "source": [
    "## Use multiple Control Buses"
   ]
  },
  {
   "cell_type": "code",
   "execution_count": 13,
   "metadata": {
    "execution": {
     "iopub.execute_input": "2021-07-19T13:38:53.344925Z",
     "iopub.status.busy": "2021-07-19T13:38:53.344925Z",
     "iopub.status.idle": "2021-07-19T13:38:53.387348Z",
     "shell.execute_reply": "2021-07-19T13:38:53.387348Z"
    }
   },
   "outputs": [],
   "source": [
    "synth_name = scn.SynthDef(\"busMulti\", \"\"\"{ |out, freqs=#[200, 400], rates=#[1, 2] |\n",
    "    Out.ar(out, Splay.ar(SinOsc.ar(freqs) * Decay2.ar(Impulse.ar(rates), 0.001, 0.1)) * 0.5);\n",
    "}\"\"\").add()"
   ]
  },
  {
   "cell_type": "code",
   "execution_count": 14,
   "metadata": {
    "execution": {
     "iopub.execute_input": "2021-07-19T13:38:53.390347Z",
     "iopub.status.busy": "2021-07-19T13:38:53.389349Z",
     "iopub.status.idle": "2021-07-19T13:38:53.394348Z",
     "shell.execute_reply": "2021-07-19T13:38:53.394348Z"
    }
   },
   "outputs": [
    {
     "data": {
      "text/plain": [
       "Bus(rate='control', ids=[512, 513])"
      ]
     },
     "execution_count": 14,
     "metadata": {},
     "output_type": "execute_result"
    }
   ],
   "source": [
    "buses = scn.Bus(\"control\", 2)\n",
    "buses"
   ]
  },
  {
   "cell_type": "code",
   "execution_count": 15,
   "metadata": {
    "execution": {
     "iopub.execute_input": "2021-07-19T13:38:53.397348Z",
     "iopub.status.busy": "2021-07-19T13:38:53.396348Z",
     "iopub.status.idle": "2021-07-19T13:38:53.408370Z",
     "shell.execute_reply": "2021-07-19T13:38:53.408370Z"
    }
   },
   "outputs": [
    {
     "data": {
      "text/plain": [
       "[0.0, 0.0]"
      ]
     },
     "execution_count": 15,
     "metadata": {},
     "output_type": "execute_result"
    }
   ],
   "source": [
    "buses.get()"
   ]
  },
  {
   "cell_type": "code",
   "execution_count": 16,
   "metadata": {
    "execution": {
     "iopub.execute_input": "2021-07-19T13:38:53.411378Z",
     "iopub.status.busy": "2021-07-19T13:38:53.410378Z",
     "iopub.status.idle": "2021-07-19T13:38:53.422380Z",
     "shell.execute_reply": "2021-07-19T13:38:53.422380Z"
    }
   },
   "outputs": [],
   "source": [
    "syn = scn.Synth(synth_name)"
   ]
  },
  {
   "cell_type": "code",
   "execution_count": 17,
   "metadata": {
    "execution": {
     "iopub.execute_input": "2021-07-19T13:38:53.426379Z",
     "iopub.status.busy": "2021-07-19T13:38:53.424378Z",
     "iopub.status.idle": "2021-07-19T13:38:53.429377Z",
     "shell.execute_reply": "2021-07-19T13:38:53.429377Z"
    }
   },
   "outputs": [
    {
     "data": {
      "text/plain": [
       "<Synth(20002) 'busMulti' ~ {}>"
      ]
     },
     "execution_count": 17,
     "metadata": {},
     "output_type": "execute_result"
    }
   ],
   "source": [
    "syn.map(\"rates\", buses)"
   ]
  },
  {
   "cell_type": "code",
   "execution_count": 18,
   "metadata": {
    "execution": {
     "iopub.execute_input": "2021-07-19T13:38:53.433379Z",
     "iopub.status.busy": "2021-07-19T13:38:53.433379Z",
     "iopub.status.idle": "2021-07-19T13:38:53.435379Z",
     "shell.execute_reply": "2021-07-19T13:38:53.435379Z"
    }
   },
   "outputs": [
    {
     "data": {
      "text/plain": [
       "Bus(rate='control', ids=[512, 513])"
      ]
     },
     "execution_count": 18,
     "metadata": {},
     "output_type": "execute_result"
    }
   ],
   "source": [
    "buses.set(1, 1)"
   ]
  },
  {
   "cell_type": "code",
   "execution_count": 19,
   "metadata": {
    "execution": {
     "iopub.execute_input": "2021-07-19T13:38:53.439378Z",
     "iopub.status.busy": "2021-07-19T13:38:53.438378Z",
     "iopub.status.idle": "2021-07-19T13:38:53.442377Z",
     "shell.execute_reply": "2021-07-19T13:38:53.442377Z"
    }
   },
   "outputs": [
    {
     "data": {
      "text/plain": [
       "Bus(rate='control', ids=[512, 513])"
      ]
     },
     "execution_count": 19,
     "metadata": {},
     "output_type": "execute_result"
    }
   ],
   "source": [
    "buses.set(1, 2)"
   ]
  },
  {
   "cell_type": "code",
   "execution_count": 20,
   "metadata": {
    "execution": {
     "iopub.execute_input": "2021-07-19T13:38:53.445378Z",
     "iopub.status.busy": "2021-07-19T13:38:53.445378Z",
     "iopub.status.idle": "2021-07-19T13:38:53.458378Z",
     "shell.execute_reply": "2021-07-19T13:38:53.458378Z"
    }
   },
   "outputs": [
    {
     "data": {
      "text/plain": [
       "[1.0, 2.0]"
      ]
     },
     "execution_count": 20,
     "metadata": {},
     "output_type": "execute_result"
    }
   ],
   "source": [
    "buses.get()"
   ]
  },
  {
   "cell_type": "code",
   "execution_count": 21,
   "metadata": {
    "execution": {
     "iopub.execute_input": "2021-07-19T13:38:53.461377Z",
     "iopub.status.busy": "2021-07-19T13:38:53.461377Z",
     "iopub.status.idle": "2021-07-19T13:38:53.463378Z",
     "shell.execute_reply": "2021-07-19T13:38:53.463378Z"
    }
   },
   "outputs": [
    {
     "data": {
      "text/plain": [
       "<Synth(20002) 'busMulti' f {}>"
      ]
     },
     "execution_count": 21,
     "metadata": {},
     "output_type": "execute_result"
    }
   ],
   "source": [
    "syn.free()"
   ]
  },
  {
   "cell_type": "code",
   "execution_count": 22,
   "metadata": {
    "execution": {
     "iopub.execute_input": "2021-07-19T13:38:53.466377Z",
     "iopub.status.busy": "2021-07-19T13:38:53.465378Z",
     "iopub.status.idle": "2021-07-19T13:38:53.468378Z",
     "shell.execute_reply": "2021-07-19T13:38:53.468378Z"
    }
   },
   "outputs": [],
   "source": [
    "buses.free()"
   ]
  },
  {
   "cell_type": "code",
   "execution_count": 23,
   "metadata": {
    "execution": {
     "iopub.execute_input": "2021-07-19T13:38:53.471378Z",
     "iopub.status.busy": "2021-07-19T13:38:53.470378Z",
     "iopub.status.idle": "2021-07-19T13:38:53.537567Z",
     "shell.execute_reply": "2021-07-19T13:38:53.537567Z"
    }
   },
   "outputs": [],
   "source": [
    "sc.server.free_all()"
   ]
  },
  {
   "cell_type": "code",
   "execution_count": 24,
   "metadata": {
    "execution": {
     "iopub.execute_input": "2021-07-19T13:38:53.540567Z",
     "iopub.status.busy": "2021-07-19T13:38:53.540567Z",
     "iopub.status.idle": "2021-07-19T13:38:53.787341Z",
     "shell.execute_reply": "2021-07-19T13:38:53.788341Z"
    }
   },
   "outputs": [
    {
     "name": "stdout",
     "output_type": "stream",
     "text": [
      "Quitting SCServer... Done.\n",
      "Exiting sclang... "
     ]
    },
    {
     "name": "stdout",
     "output_type": "stream",
     "text": [
      "Done.\n"
     ]
    }
   ],
   "source": [
    "sc.exit()"
   ]
  },
  {
   "cell_type": "code",
   "execution_count": null,
   "metadata": {},
   "outputs": [],
   "source": []
  }
 ],
 "metadata": {
  "language_info": {
   "codemirror_mode": {
    "name": "ipython",
    "version": 3
   },
   "file_extension": ".py",
   "mimetype": "text/x-python",
   "name": "python",
   "nbconvert_exporter": "python",
   "pygments_lexer": "ipython3",
   "version": "3.7.10"
  }
 },
 "nbformat": 4,
 "nbformat_minor": 4
}
