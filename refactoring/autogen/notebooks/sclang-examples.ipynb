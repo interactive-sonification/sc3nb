{
 "cells": [
  {
   "cell_type": "markdown",
   "metadata": {},
   "source": [
    "## Usage of sclang in sc3nb\n",
    "\n",
    "You can send commands and receive data directly from the SuperCollider Language"
   ]
  },
  {
   "cell_type": "code",
   "execution_count": 1,
   "metadata": {
    "execution": {
     "iopub.execute_input": "2021-06-10T16:26:24.227807Z",
     "iopub.status.busy": "2021-06-10T16:26:24.226799Z",
     "iopub.status.idle": "2021-06-10T16:26:24.424800Z",
     "shell.execute_reply": "2021-06-10T16:26:24.425800Z"
    }
   },
   "outputs": [],
   "source": [
    "import time\n",
    "import numpy as np\n",
    "\n",
    "import sc3nb as scn"
   ]
  },
  {
   "cell_type": "code",
   "execution_count": 2,
   "metadata": {
    "execution": {
     "iopub.execute_input": "2021-06-10T16:26:24.433799Z",
     "iopub.status.busy": "2021-06-10T16:26:24.433799Z",
     "iopub.status.idle": "2021-06-10T16:26:27.735319Z",
     "shell.execute_reply": "2021-06-10T16:26:27.735319Z"
    }
   },
   "outputs": [
    {
     "data": {
      "application/javascript": [
       "if (typeof Jupyter !== 'undefined') {\n",
       "                        Jupyter.keyboard_manager.command_shortcuts.add_shortcut(\n",
       "                        'Ctrl-.', {\n",
       "                        help : 'Free all nodes on SC server',\n",
       "                        help_index : 'zz',\n",
       "                        handler : function (event) {\n",
       "                            IPython.notebook.kernel.execute(\n",
       "                                \"import sc3nb; sc3nb.SC.get_default().server.free_all(root=True)\"\n",
       "                            )\n",
       "                            return true;}\n",
       "                        });\n",
       "                    }"
      ],
      "text/plain": [
       "<IPython.core.display.Javascript object>"
      ]
     },
     "metadata": {},
     "output_type": "display_data"
    },
    {
     "name": "stdout",
     "output_type": "stream",
     "text": [
      "Starting sclang process...\n"
     ]
    },
    {
     "name": "stdout",
     "output_type": "stream",
     "text": [
      "Done.\n",
      "Registering OSC /return callback in sclang...\n",
      "Done.\n",
      "Loading default SynthDescs\n",
      "Done.\n",
      "Booting SuperCollider Server...\n"
     ]
    },
    {
     "name": "stdout",
     "output_type": "stream",
     "text": [
      "Done.\n"
     ]
    }
   ],
   "source": [
    "sc = scn.startup()"
   ]
  },
  {
   "cell_type": "markdown",
   "metadata": {},
   "source": [
    "### sclang command execution"
   ]
  },
  {
   "cell_type": "markdown",
   "metadata": {},
   "source": [
    "To send sc3 commands (i.e. program strings) to the language, either use the functions\n",
    "- **`cmd()`** normal command sending.\n",
    "- **`cmdv()`** verbose, i.e. returning string is collected and output to notebook ( alias for `cmd(.., verbose=True)` )\n",
    "- **`cmdg()`** send program and get and parse the output ( alias for `cmd(.., get_return=True)` )"
   ]
  },
  {
   "cell_type": "code",
   "execution_count": 3,
   "metadata": {
    "code_folding": [],
    "execution": {
     "iopub.execute_input": "2021-06-10T16:26:27.738322Z",
     "iopub.status.busy": "2021-06-10T16:26:27.738322Z",
     "iopub.status.idle": "2021-06-10T16:26:27.749321Z",
     "shell.execute_reply": "2021-06-10T16:26:27.749321Z"
    }
   },
   "outputs": [
    {
     "name": "stdout",
     "output_type": "stream",
     "text": [
      "hello\n",
      "-> hello\n"
     ]
    }
   ],
   "source": [
    "# sc.cmd(cmdstr, pyvars)\n",
    "sc.lang.cmd('\"hello\".postln')  # check jupyter console for output"
   ]
  },
  {
   "cell_type": "markdown",
   "metadata": {},
   "source": [
    "use cmdv If sclang output should be displayed as cell output"
   ]
  },
  {
   "cell_type": "code",
   "execution_count": 4,
   "metadata": {
    "code_folding": [],
    "execution": {
     "iopub.execute_input": "2021-06-10T16:26:27.752319Z",
     "iopub.status.busy": "2021-06-10T16:26:27.752319Z",
     "iopub.status.idle": "2021-06-10T16:26:27.765319Z",
     "shell.execute_reply": "2021-06-10T16:26:27.765319Z"
    }
   },
   "outputs": [
    {
     "name": "stdout",
     "output_type": "stream",
     "text": [
      "sc3nb\n",
      "-> sc3nb\n"
     ]
    }
   ],
   "source": [
    "sc.lang.cmdv('\"sc3nb\".postln')  # also check jupyter console for output"
   ]
  },
  {
   "cell_type": "markdown",
   "metadata": {},
   "source": [
    "or use the corresponding Magics in Jupyter\n",
    "\n",
    "* Jupyter line magics **%sc, %scv, %scg, %scgv**\n",
    "* Jupyter cell magics **%%sc, %%scv, %%scg, %%scgv**\n",
    "\n",
    "which wrap the above functions. See examples below"
   ]
  },
  {
   "cell_type": "markdown",
   "metadata": {},
   "source": [
    "Cell magics can be placed within code just as the function calls as shown here:"
   ]
  },
  {
   "cell_type": "code",
   "execution_count": 5,
   "metadata": {
    "execution": {
     "iopub.execute_input": "2021-06-10T16:26:27.771320Z",
     "iopub.status.busy": "2021-06-10T16:26:27.771320Z",
     "iopub.status.idle": "2021-06-10T16:26:30.642245Z",
     "shell.execute_reply": "2021-06-10T16:26:30.642245Z"
    }
   },
   "outputs": [
    {
     "name": "stdout",
     "output_type": "stream",
     "text": [
      "-> Synth('default' : 1000)\n",
      "-> Synth('s1' : 1001)\n"
     ]
    },
    {
     "name": "stdout",
     "output_type": "stream",
     "text": [
      "-> Synth('s1' : 1000)\n"
     ]
    },
    {
     "name": "stdout",
     "output_type": "stream",
     "text": [
      "-> Synth('s1' : 1001)\n"
     ]
    },
    {
     "name": "stdout",
     "output_type": "stream",
     "text": [
      "-> Synth('s1' : 1002)\n"
     ]
    },
    {
     "name": "stdout",
     "output_type": "stream",
     "text": [
      "-> Synth('s1' : 1003)\n"
     ]
    },
    {
     "name": "stdout",
     "output_type": "stream",
     "text": [
      "-> Synth('s1' : 1004)\n",
      "-> Synth('s1' : 1005)\n"
     ]
    },
    {
     "name": "stdout",
     "output_type": "stream",
     "text": [
      "-> Synth('s1' : 1006)\n",
      "-> Synth('s1' : 1007)\n"
     ]
    },
    {
     "name": "stdout",
     "output_type": "stream",
     "text": [
      "-> Synth('default' : 1000)\n"
     ]
    }
   ],
   "source": [
    "%sc x = Synth.new(\\default, [\\freq, 100])\n",
    "for p in range(1, 10):  # a bouncing ball\n",
    "    %sc Synth.new(\\s1, [\\freq, 200])  // this is sc cell so use sc3 comments instead of #\n",
    "    time.sleep(1/p)\n",
    "# NOTE: Windows needs delay between sclang inputs, so use sleep\n",
    "\n",
    "%sc x.free "
   ]
  },
  {
   "cell_type": "markdown",
   "metadata": {},
   "source": [
    "Use raw python strings for multiline sc3-programs:"
   ]
  },
  {
   "cell_type": "code",
   "execution_count": 6,
   "metadata": {
    "execution": {
     "iopub.execute_input": "2021-06-10T16:26:30.646248Z",
     "iopub.status.busy": "2021-06-10T16:26:30.645247Z",
     "iopub.status.idle": "2021-06-10T16:26:30.656282Z",
     "shell.execute_reply": "2021-06-10T16:26:30.656282Z"
    }
   },
   "outputs": [
    {
     "name": "stdout",
     "output_type": "stream",
     "text": [
      "-> a Routine\n"
     ]
    }
   ],
   "source": [
    "sc.lang.cmd(r\"\"\"\n",
    "Routine({\n",
    "    x = 10.collect{ |i|\n",
    "        0.2.wait;\n",
    "        Synth.new(\\default, [\\freq, 50+(50*i)]);\n",
    "    };\n",
    "    1.wait;\n",
    "    x.do{|e| \n",
    "        e.release;\n",
    "        0.1.wait;};\n",
    "}).play;\n",
    "\"\"\")"
   ]
  },
  {
   "cell_type": "markdown",
   "metadata": {},
   "source": [
    "alternatively, you can use the cell magic:"
   ]
  },
  {
   "cell_type": "code",
   "execution_count": 7,
   "metadata": {
    "execution": {
     "iopub.execute_input": "2021-06-10T16:26:30.660248Z",
     "iopub.status.busy": "2021-06-10T16:26:30.659247Z",
     "iopub.status.idle": "2021-06-10T16:26:30.663970Z",
     "shell.execute_reply": "2021-06-10T16:26:30.663970Z"
    }
   },
   "outputs": [
    {
     "name": "stdout",
     "output_type": "stream",
     "text": [
      "-> a Routine\n"
     ]
    }
   ],
   "source": [
    "%%sc\n",
    "Routine({\n",
    "    x = 5.collect{ |i|\n",
    "        0.2.wait;\n",
    "        Synth.new(\\default, [\\freq, 50+(50*i)]);\n",
    "    };\n",
    "    1.wait;\n",
    "    x.do{|e| \n",
    "        e.release;\n",
    "        0.1.wait;};\n",
    "}).play;"
   ]
  },
  {
   "cell_type": "markdown",
   "metadata": {},
   "source": [
    "Note that the code is executed in sclang and python is returning directly after sending the command."
   ]
  },
  {
   "cell_type": "markdown",
   "metadata": {},
   "source": [
    "### sclang command execution with python variable injection"
   ]
  },
  {
   "cell_type": "markdown",
   "metadata": {},
   "source": [
    "Python variables can be injected into sc3 commands by using the ^ special: The following examples demonstrates it by setting frequencies by using python variables"
   ]
  },
  {
   "cell_type": "code",
   "execution_count": 8,
   "metadata": {
    "execution": {
     "iopub.execute_input": "2021-06-10T16:26:30.668969Z",
     "iopub.status.busy": "2021-06-10T16:26:30.668969Z",
     "iopub.status.idle": "2021-06-10T16:26:33.281609Z",
     "shell.execute_reply": "2021-06-10T16:26:33.281609Z"
    }
   },
   "outputs": [
    {
     "name": "stdout",
     "output_type": "stream",
     "text": [
      "-> Synth('s1' : 1008)\n",
      "-> Synth('s1' : 1009)\n",
      "-> Synth('s1' : 1010)\n",
      "-> Synth('s1' : 1011)\n"
     ]
    },
    {
     "name": "stdout",
     "output_type": "stream",
     "text": [
      "-> Synth('s1' : 1014)\n",
      "-> Synth('s1' : 1015)\n",
      "-> Synth('s1' : 1016)\n",
      "-> Synth('s1' : 1017)\n"
     ]
    },
    {
     "name": "stdout",
     "output_type": "stream",
     "text": [
      "-> Synth('s1' : 1020)\n",
      "-> Synth('s1' : 1021)\n",
      "-> Synth('s1' : 1022)\n",
      "-> Synth('s1' : 1024)\n"
     ]
    },
    {
     "name": "stdout",
     "output_type": "stream",
     "text": [
      "-> Synth('s1' : 1026)\n",
      "-> Synth('s1' : 1027)\n",
      "-> Synth('s1' : 1028)\n",
      "-> Synth('s1' : 1031)\n"
     ]
    },
    {
     "name": "stdout",
     "output_type": "stream",
     "text": [
      "-> Synth('s1' : 1032)\n",
      "-> Synth('s1' : 1033)\n",
      "-> Synth('s1' : 1034)\n",
      "-> Synth('s1' : 1037)\n"
     ]
    },
    {
     "name": "stdout",
     "output_type": "stream",
     "text": [
      "-> Synth('s1' : 1038)\n",
      "-> Synth('s1' : 1039)\n",
      "-> Synth('s1' : 1040)\n",
      "-> Synth('s1' : 1042)\n"
     ]
    },
    {
     "name": "stdout",
     "output_type": "stream",
     "text": [
      "-> Synth('s1' : 1043)\n",
      "-> Synth('s1' : 1044)\n",
      "-> Synth('s1' : 1046)\n",
      "-> Synth('s1' : 1047)\n"
     ]
    },
    {
     "name": "stdout",
     "output_type": "stream",
     "text": [
      "-> Synth('s1' : 1048)\n",
      "-> Synth('s1' : 1049)\n",
      "-> Synth('s1' : 1051)\n",
      "-> Synth('s1' : 1052)\n"
     ]
    },
    {
     "name": "stdout",
     "output_type": "stream",
     "text": [
      "-> Synth('s1' : 1053)\n",
      "-> Synth('s1' : 1054)\n",
      "-> Synth('s1' : 1056)\n",
      "-> Synth('s1' : 1057)\n"
     ]
    },
    {
     "name": "stdout",
     "output_type": "stream",
     "text": [
      "-> Synth('s1' : 1058)\n",
      "-> Synth('s1' : 1059)\n",
      "-> Synth('s1' : 1061)\n",
      "-> Synth('s1' : 1062)\n"
     ]
    },
    {
     "name": "stdout",
     "output_type": "stream",
     "text": [
      "-> Synth('s1' : 1063)\n",
      "-> Synth('s1' : 1064)\n",
      "-> Synth('s1' : 1065)\n",
      "-> Synth('s1' : 1066)\n"
     ]
    },
    {
     "name": "stdout",
     "output_type": "stream",
     "text": [
      "-> Synth('s1' : 1067)\n",
      "-> Synth('s1' : 1068)\n",
      "-> Synth('s1' : 1069)\n",
      "-> Synth('s1' : 1070)\n"
     ]
    },
    {
     "name": "stdout",
     "output_type": "stream",
     "text": [
      "-> Synth('s1' : 1071)\n"
     ]
    }
   ],
   "source": [
    "for p in range(1, 50):  # a tone ladder\n",
    "    freq = 50 + p*3\n",
    "    dur = np.log(p)\n",
    "    position = np.sign(p-25)\n",
    "    %sc Synth.new(\\s1, [\\freq, ^freq, \\dur, ^dur, \\pan, ^position])\n",
    "    time.sleep(0.05)"
   ]
  },
  {
   "cell_type": "markdown",
   "metadata": {},
   "source": [
    "This is injection is done with"
   ]
  },
  {
   "cell_type": "code",
   "execution_count": 9,
   "metadata": {
    "execution": {
     "iopub.execute_input": "2021-06-10T16:26:33.325608Z",
     "iopub.status.busy": "2021-06-10T16:26:33.318606Z",
     "iopub.status.idle": "2021-06-10T16:26:33.328609Z",
     "shell.execute_reply": "2021-06-10T16:26:33.328609Z"
    }
   },
   "outputs": [],
   "source": [
    "scn.sclang.convert_to_sc?"
   ]
  },
  {
   "cell_type": "code",
   "execution_count": 10,
   "metadata": {
    "execution": {
     "iopub.execute_input": "2021-06-10T16:26:33.332608Z",
     "iopub.status.busy": "2021-06-10T16:26:33.331611Z",
     "iopub.status.idle": "2021-06-10T16:26:33.337609Z",
     "shell.execute_reply": "2021-06-10T16:26:33.337609Z"
    }
   },
   "outputs": [
    {
     "name": "stdout",
     "output_type": "stream",
     "text": [
      "-> Array\n"
     ]
    }
   ],
   "source": [
    "python_list = [1,2,3,4]\n",
    "%scv ^python_list.class"
   ]
  },
  {
   "cell_type": "code",
   "execution_count": 11,
   "metadata": {
    "execution": {
     "iopub.execute_input": "2021-06-10T16:26:33.341610Z",
     "iopub.status.busy": "2021-06-10T16:26:33.340610Z",
     "iopub.status.idle": "2021-06-10T16:26:33.346607Z",
     "shell.execute_reply": "2021-06-10T16:26:33.346607Z"
    }
   },
   "outputs": [
    {
     "name": "stdout",
     "output_type": "stream",
     "text": [
      "-> Complex\n"
     ]
    }
   ],
   "source": [
    "complex_py = 1+1j\n",
    "%scv ^complex_py.class"
   ]
  },
  {
   "cell_type": "code",
   "execution_count": 12,
   "metadata": {
    "execution": {
     "iopub.execute_input": "2021-06-10T16:26:33.349608Z",
     "iopub.status.busy": "2021-06-10T16:26:33.349608Z",
     "iopub.status.idle": "2021-06-10T16:26:33.353607Z",
     "shell.execute_reply": "2021-06-10T16:26:33.353607Z"
    }
   },
   "outputs": [
    {
     "name": "stdout",
     "output_type": "stream",
     "text": [
      "-> Symbol\n"
     ]
    }
   ],
   "source": [
    "symbol = r\"\\\\python\"\n",
    "%scv ^symbol.class"
   ]
  },
  {
   "cell_type": "markdown",
   "metadata": {},
   "source": [
    "When using the `cmd` | `cmdv` | `cmdg` functions you can also provide a dictionary with variable names as keys and content as values (which can use other python vars or statements)"
   ]
  },
  {
   "cell_type": "code",
   "execution_count": 13,
   "metadata": {
    "execution": {
     "iopub.execute_input": "2021-06-10T16:26:33.357608Z",
     "iopub.status.busy": "2021-06-10T16:26:33.356608Z",
     "iopub.status.idle": "2021-06-10T16:26:33.360610Z",
     "shell.execute_reply": "2021-06-10T16:26:33.360610Z"
    }
   },
   "outputs": [
    {
     "name": "stdout",
     "output_type": "stream",
     "text": [
      "-> 0.5\n"
     ]
    }
   ],
   "source": [
    "sc.lang.cmdv(\"^name1 / ^name2\", pyvars={'name1': 9,'name2': 9*2})"
   ]
  },
  {
   "cell_type": "code",
   "execution_count": 14,
   "metadata": {
    "execution": {
     "iopub.execute_input": "2021-06-10T16:26:33.364611Z",
     "iopub.status.busy": "2021-06-10T16:26:33.364611Z",
     "iopub.status.idle": "2021-06-10T16:26:33.376609Z",
     "shell.execute_reply": "2021-06-10T16:26:33.376609Z"
    }
   },
   "outputs": [
    {
     "name": "stdout",
     "output_type": "stream",
     "text": [
      "-> 42\n"
     ]
    }
   ],
   "source": [
    "# without providing pyvars, variables are searched in the users namespace.\n",
    "freq = 5\n",
    "rate = 6\n",
    "sc.lang.cmdv(\"(^freq + 1) * (^rate + 1)\")"
   ]
  },
  {
   "cell_type": "code",
   "execution_count": 15,
   "metadata": {
    "execution": {
     "iopub.execute_input": "2021-06-10T16:26:33.380608Z",
     "iopub.status.busy": "2021-06-10T16:26:33.379609Z",
     "iopub.status.idle": "2021-06-10T16:26:33.383608Z",
     "shell.execute_reply": "2021-06-10T16:26:33.383608Z"
    }
   },
   "outputs": [
    {
     "name": "stdout",
     "output_type": "stream",
     "text": [
      "-> 42\n"
     ]
    }
   ],
   "source": [
    "# alternatively via the magic this is done as:\n",
    "%scv (^freq + 1) * (^rate + 1)"
   ]
  },
  {
   "cell_type": "markdown",
   "metadata": {},
   "source": [
    "### Getting sclang output in python\n",
    "\n",
    "* To get the output of an sclang snippet into a python variable, use the cmdg function.\n",
    "* The following example shows how to transfer a synth's nodeID"
   ]
  },
  {
   "cell_type": "code",
   "execution_count": 16,
   "metadata": {
    "execution": {
     "iopub.execute_input": "2021-06-10T16:26:33.386609Z",
     "iopub.status.busy": "2021-06-10T16:26:33.385610Z",
     "iopub.status.idle": "2021-06-10T16:26:33.398608Z",
     "shell.execute_reply": "2021-06-10T16:26:33.398608Z"
    }
   },
   "outputs": [
    {
     "name": "stdout",
     "output_type": "stream",
     "text": [
      "-> Synth('default' : 1072)\n"
     ]
    }
   ],
   "source": [
    "# start a Synth\n",
    "sc.lang.cmd(r\"\"\"x = Synth.new(\\default)\"\"\")"
   ]
  },
  {
   "cell_type": "code",
   "execution_count": 17,
   "metadata": {
    "execution": {
     "iopub.execute_input": "2021-06-10T16:26:33.401608Z",
     "iopub.status.busy": "2021-06-10T16:26:33.401608Z",
     "iopub.status.idle": "2021-06-10T16:26:33.412608Z",
     "shell.execute_reply": "2021-06-10T16:26:33.412608Z"
    }
   },
   "outputs": [
    {
     "name": "stdout",
     "output_type": "stream",
     "text": [
      "-> 1072\n",
      "1072\n"
     ]
    }
   ],
   "source": [
    "# get the nodeId to python\n",
    "nodeID = sc.lang.cmdg(\"x.nodeID\")\n",
    "print(nodeID)"
   ]
  },
  {
   "cell_type": "code",
   "execution_count": 18,
   "metadata": {
    "execution": {
     "iopub.execute_input": "2021-06-10T16:26:33.416608Z",
     "iopub.status.busy": "2021-06-10T16:26:33.415609Z",
     "iopub.status.idle": "2021-06-10T16:26:33.418609Z",
     "shell.execute_reply": "2021-06-10T16:26:33.418609Z"
    }
   },
   "outputs": [],
   "source": [
    "# use the nodeID to free the Synth via a message to scsynth audio server directly\n",
    "sc.server.msg(\"/n_free\", nodeID)  "
   ]
  },
  {
   "cell_type": "markdown",
   "metadata": {},
   "source": [
    "**sc.cmdg(), resp. %scg return integers, floats, strings and lists**\n",
    "* %scg can be assigned to a python variable within code"
   ]
  },
  {
   "cell_type": "code",
   "execution_count": 19,
   "metadata": {
    "execution": {
     "iopub.execute_input": "2021-06-10T16:26:33.422609Z",
     "iopub.status.busy": "2021-06-10T16:26:33.422609Z",
     "iopub.status.idle": "2021-06-10T16:26:33.426610Z",
     "shell.execute_reply": "2021-06-10T16:26:33.426610Z"
    }
   },
   "outputs": [
    {
     "name": "stdout",
     "output_type": "stream",
     "text": [
      "-> 24686\n",
      "returned an <class 'int'> of value 24686\n"
     ]
    }
   ],
   "source": [
    "a = %scg 1234 + 23452\n",
    "print(f\"returned an {type(a)} of value {a}\")"
   ]
  },
  {
   "cell_type": "code",
   "execution_count": 20,
   "metadata": {
    "execution": {
     "iopub.execute_input": "2021-06-10T16:26:33.430612Z",
     "iopub.status.busy": "2021-06-10T16:26:33.429607Z",
     "iopub.status.idle": "2021-06-10T16:26:33.434608Z",
     "shell.execute_reply": "2021-06-10T16:26:33.433609Z"
    }
   },
   "outputs": [
    {
     "name": "stdout",
     "output_type": "stream",
     "text": [
      "-> 1523990.25\n",
      "returned an <class 'float'> of value 1523990.25\n"
     ]
    }
   ],
   "source": [
    "a = %scg 1234.5.squared\n",
    "print(f\"returned an {type(a)} of value {a}\")"
   ]
  },
  {
   "cell_type": "code",
   "execution_count": 21,
   "metadata": {
    "execution": {
     "iopub.execute_input": "2021-06-10T16:26:33.437610Z",
     "iopub.status.busy": "2021-06-10T16:26:33.436607Z",
     "iopub.status.idle": "2021-06-10T16:26:33.441608Z",
     "shell.execute_reply": "2021-06-10T16:26:33.441608Z"
    }
   },
   "outputs": [
    {
     "name": "stdout",
     "output_type": "stream",
     "text": [
      "-> osfnaoiictin\n"
     ]
    },
    {
     "data": {
      "text/plain": [
       "'osfnaoiictin'"
      ]
     },
     "execution_count": 1,
     "metadata": {},
     "output_type": "execute_result"
    }
   ],
   "source": [
    "%scg \"sonification\".scramble"
   ]
  },
  {
   "cell_type": "markdown",
   "metadata": {},
   "source": [
    "be careful when using magics directly after another"
   ]
  },
  {
   "cell_type": "code",
   "execution_count": 22,
   "metadata": {
    "execution": {
     "iopub.execute_input": "2021-06-10T16:26:33.446608Z",
     "iopub.status.busy": "2021-06-10T16:26:33.445611Z",
     "iopub.status.idle": "2021-06-10T16:26:33.455609Z",
     "shell.execute_reply": "2021-06-10T16:26:33.455609Z"
    }
   },
   "outputs": [
    {
     "name": "stdout",
     "output_type": "stream",
     "text": [
      "-> aionocftiisn\n",
      "-> aionocftiisn\n"
     ]
    },
    {
     "data": {
      "text/plain": [
       "'aionocftiisn'"
      ]
     },
     "execution_count": 1,
     "metadata": {},
     "output_type": "execute_result"
    }
   ],
   "source": [
    "%sc ~retval = \"sonification\".scramble\n",
    "time.sleep(0.001)  # (in Windows) without pause an Empty might be thrown..\n",
    "%scg ~retval"
   ]
  },
  {
   "cell_type": "markdown",
   "metadata": {},
   "source": [
    "(in Windows) it should be prefered to combine your code in one cmd execution."
   ]
  },
  {
   "cell_type": "code",
   "execution_count": 23,
   "metadata": {
    "execution": {
     "iopub.execute_input": "2021-06-10T16:26:33.459608Z",
     "iopub.status.busy": "2021-06-10T16:26:33.458609Z",
     "iopub.status.idle": "2021-06-10T16:26:33.464609Z",
     "shell.execute_reply": "2021-06-10T16:26:33.464609Z"
    }
   },
   "outputs": [
    {
     "name": "stdout",
     "output_type": "stream",
     "text": [
      "-> ifastnoincoi!\n"
     ]
    },
    {
     "data": {
      "text/plain": [
       "'ifastnoincoi!'"
      ]
     },
     "execution_count": 1,
     "metadata": {},
     "output_type": "execute_result"
    }
   ],
   "source": [
    "scramble = %scg ~retval = \"sonification\".scramble; ~retval ++ \"!\";\n",
    "scramble"
   ]
  },
  {
   "cell_type": "code",
   "execution_count": 24,
   "metadata": {
    "execution": {
     "iopub.execute_input": "2021-06-10T16:26:33.468609Z",
     "iopub.status.busy": "2021-06-10T16:26:33.467609Z",
     "iopub.status.idle": "2021-06-10T16:26:33.471609Z",
     "shell.execute_reply": "2021-06-10T16:26:33.471609Z"
    }
   },
   "outputs": [
    {
     "name": "stdout",
     "output_type": "stream",
     "text": [
      "-> [ 1.0, 1.1, 1.2, 1.3, 1.4, 1.5, 1.6, 1.7, 1.8, 1.9 ]\n"
     ]
    }
   ],
   "source": [
    "a = %scg (1,1.1..2)"
   ]
  },
  {
   "cell_type": "code",
   "execution_count": 25,
   "metadata": {
    "execution": {
     "iopub.execute_input": "2021-06-10T16:26:33.475609Z",
     "iopub.status.busy": "2021-06-10T16:26:33.474607Z",
     "iopub.status.idle": "2021-06-10T16:26:33.476609Z",
     "shell.execute_reply": "2021-06-10T16:26:33.476609Z"
    }
   },
   "outputs": [
    {
     "data": {
      "text/plain": [
       "[1.0,\n",
       " 1.100000023841858,\n",
       " 1.2000000476837158,\n",
       " 1.2999999523162842,\n",
       " 1.399999976158142,\n",
       " 1.5,\n",
       " 1.600000023841858,\n",
       " 1.7000000476837158,\n",
       " 1.7999999523162842,\n",
       " 1.899999976158142]"
      ]
     },
     "execution_count": 1,
     "metadata": {},
     "output_type": "execute_result"
    }
   ],
   "source": [
    "a"
   ]
  },
  {
   "cell_type": "code",
   "execution_count": 26,
   "metadata": {
    "execution": {
     "iopub.execute_input": "2021-06-10T16:26:33.480609Z",
     "iopub.status.busy": "2021-06-10T16:26:33.479608Z",
     "iopub.status.idle": "2021-06-10T16:26:33.485607Z",
     "shell.execute_reply": "2021-06-10T16:26:33.485607Z"
    }
   },
   "outputs": [
    {
     "name": "stdout",
     "output_type": "stream",
     "text": [
      "-> [ 1.0, 1.1, 1.2, 1.3, 1.4, 1.5, 1.6, 1.7, 1.8, 1.9 ]\n",
      "list with length: 10\n"
     ]
    },
    {
     "data": {
      "text/plain": [
       "[1.0,\n",
       " 1.100000023841858,\n",
       " 1.2000000476837158,\n",
       " 1.2999999523162842,\n",
       " 1.399999976158142,\n",
       " 1.5,\n",
       " 1.600000023841858,\n",
       " 1.7000000476837158,\n",
       " 1.7999999523162842,\n",
       " 1.899999976158142]"
      ]
     },
     "execution_count": 1,
     "metadata": {},
     "output_type": "execute_result"
    }
   ],
   "source": [
    "a = %scg (1,1.1..2)\n",
    "print(f\"list with length: {len(a)}\")\n",
    "a"
   ]
  },
  {
   "cell_type": "markdown",
   "metadata": {},
   "source": [
    "Note that floating-point numbers do have a limited precision"
   ]
  },
  {
   "cell_type": "code",
   "execution_count": 27,
   "metadata": {
    "execution": {
     "iopub.execute_input": "2021-06-10T16:26:33.489614Z",
     "iopub.status.busy": "2021-06-10T16:26:33.488607Z",
     "iopub.status.idle": "2021-06-10T16:26:33.490609Z",
     "shell.execute_reply": "2021-06-10T16:26:33.490609Z"
    }
   },
   "outputs": [
    {
     "data": {
      "text/plain": [
       "[1.0, 1.1, 1.2, 1.3, 1.4, 1.5, 1.6, 1.7, 1.8, 1.9]"
      ]
     },
     "execution_count": 1,
     "metadata": {},
     "output_type": "execute_result"
    }
   ],
   "source": [
    "[round(num, 6) for num in a]"
   ]
  },
  {
   "cell_type": "markdown",
   "metadata": {},
   "source": [
    "However they should be close"
   ]
  },
  {
   "cell_type": "code",
   "execution_count": 28,
   "metadata": {
    "execution": {
     "iopub.execute_input": "2021-06-10T16:26:33.494609Z",
     "iopub.status.busy": "2021-06-10T16:26:33.494609Z",
     "iopub.status.idle": "2021-06-10T16:26:33.497608Z",
     "shell.execute_reply": "2021-06-10T16:26:33.497608Z"
    }
   },
   "outputs": [
    {
     "data": {
      "text/plain": [
       "True"
      ]
     },
     "execution_count": 1,
     "metadata": {},
     "output_type": "execute_result"
    }
   ],
   "source": [
    "np.allclose(a, np.arange(1, 2, 0.1))"
   ]
  },
  {
   "cell_type": "markdown",
   "metadata": {},
   "source": [
    "### Cell magics"
   ]
  },
  {
   "cell_type": "code",
   "execution_count": 29,
   "metadata": {
    "execution": {
     "iopub.execute_input": "2021-06-10T16:26:33.501609Z",
     "iopub.status.busy": "2021-06-10T16:26:33.500608Z",
     "iopub.status.idle": "2021-06-10T16:26:33.507607Z",
     "shell.execute_reply": "2021-06-10T16:26:33.507607Z"
    }
   },
   "outputs": [
    {
     "name": "stdout",
     "output_type": "stream",
     "text": [
      "-> Synth('temp__0' : 1073)\n"
     ]
    }
   ],
   "source": [
    "%sc {SinOsc.ar(MouseX.kr(200,400))}.play  // move mouse horizontally, CMD-. to stop"
   ]
  },
  {
   "cell_type": "code",
   "execution_count": 30,
   "metadata": {
    "execution": {
     "iopub.execute_input": "2021-06-10T16:26:33.510612Z",
     "iopub.status.busy": "2021-06-10T16:26:33.510612Z",
     "iopub.status.idle": "2021-06-10T16:26:33.526609Z",
     "shell.execute_reply": "2021-06-10T16:26:33.526609Z"
    }
   },
   "outputs": [
    {
     "name": "stdout",
     "output_type": "stream",
     "text": [
      "-> a Stethoscope\n"
     ]
    }
   ],
   "source": [
    "%sc s.scope()"
   ]
  },
  {
   "cell_type": "code",
   "execution_count": 31,
   "metadata": {
    "execution": {
     "iopub.execute_input": "2021-06-10T16:26:33.529607Z",
     "iopub.status.busy": "2021-06-10T16:26:33.529607Z",
     "iopub.status.idle": "2021-06-10T16:26:33.553612Z",
     "shell.execute_reply": "2021-06-10T16:26:33.553612Z"
    }
   },
   "outputs": [
    {
     "name": "stdout",
     "output_type": "stream",
     "text": [
      "-> sc3nb_remote\n"
     ]
    }
   ],
   "source": [
    "%sc s.freeAll"
   ]
  },
  {
   "cell_type": "code",
   "execution_count": 32,
   "metadata": {
    "execution": {
     "iopub.execute_input": "2021-06-10T16:26:33.558614Z",
     "iopub.status.busy": "2021-06-10T16:26:33.558614Z",
     "iopub.status.idle": "2021-06-10T16:26:33.578609Z",
     "shell.execute_reply": "2021-06-10T16:26:33.579608Z"
    }
   },
   "outputs": [
    {
     "name": "stdout",
     "output_type": "stream",
     "text": [
      "-> 50\n",
      "value =  50\n"
     ]
    }
   ],
   "source": [
    "value = %scg 75-25\n",
    "print(\"value = \", value)"
   ]
  },
  {
   "cell_type": "code",
   "execution_count": 33,
   "metadata": {
    "execution": {
     "iopub.execute_input": "2021-06-10T16:26:33.582611Z",
     "iopub.status.busy": "2021-06-10T16:26:33.581608Z",
     "iopub.status.idle": "2021-06-10T16:26:33.586610Z",
     "shell.execute_reply": "2021-06-10T16:26:33.587609Z"
    }
   },
   "outputs": [
    {
     "name": "stdout",
     "output_type": "stream",
     "text": [
      "-> a Routine\n"
     ]
    }
   ],
   "source": [
    "%%sc\n",
    "{\n",
    "    x = Synth.new(\\s2, [\\freq, 100, \\num, 1]);\n",
    "    250.do{|i|\n",
    "        x.set(\\freq, sin(0.2*i.pow(1.5))*100 + 200);\n",
    "        0.02.wait;\n",
    "    };\n",
    "    x.free;\n",
    "}.fork"
   ]
  },
  {
   "cell_type": "markdown",
   "metadata": {},
   "source": [
    "* Try %scv and %%scv for verbose line resp. cells\n",
    "* Try %scg and %%scg for getter line resp. cells"
   ]
  },
  {
   "cell_type": "markdown",
   "metadata": {},
   "source": [
    "### Stop synths"
   ]
  },
  {
   "cell_type": "code",
   "execution_count": 34,
   "metadata": {
    "code_folding": [],
    "execution": {
     "iopub.execute_input": "2021-06-10T16:26:33.590893Z",
     "iopub.status.busy": "2021-06-10T16:26:33.590378Z",
     "iopub.status.idle": "2021-06-10T16:26:33.596407Z",
     "shell.execute_reply": "2021-06-10T16:26:33.597406Z"
    }
   },
   "outputs": [
    {
     "name": "stdout",
     "output_type": "stream",
     "text": [
      "-> Synth('default' : 1076)\n"
     ]
    }
   ],
   "source": [
    "synth = \"default\"\n",
    "%sc x = Synth.new(^synth)"
   ]
  },
  {
   "cell_type": "markdown",
   "metadata": {},
   "source": [
    "* to stop all playing synths either use CMD-. (in Jupyter Command mode).\n",
    "* It is a shortcut for the ´free_all´ method of the default server"
   ]
  },
  {
   "cell_type": "code",
   "execution_count": 35,
   "metadata": {
    "execution": {
     "iopub.execute_input": "2021-06-10T16:26:33.600406Z",
     "iopub.status.busy": "2021-06-10T16:26:33.600406Z",
     "iopub.status.idle": "2021-06-10T16:26:33.605407Z",
     "shell.execute_reply": "2021-06-10T16:26:33.605407Z"
    }
   },
   "outputs": [
    {
     "name": "stdout",
     "output_type": "stream",
     "text": [
      "-> sc3nb_remote\n"
     ]
    }
   ],
   "source": [
    "%sc s.freeAll  // leaves the s.scope running"
   ]
  },
  {
   "cell_type": "code",
   "execution_count": 36,
   "metadata": {
    "execution": {
     "iopub.execute_input": "2021-06-10T16:26:33.608407Z",
     "iopub.status.busy": "2021-06-10T16:26:33.608407Z",
     "iopub.status.idle": "2021-06-10T16:26:33.675635Z",
     "shell.execute_reply": "2021-06-10T16:26:33.675635Z"
    }
   },
   "outputs": [],
   "source": [
    "scn.SC.default.server.free_all()"
   ]
  },
  {
   "cell_type": "markdown",
   "metadata": {},
   "source": [
    "which is also available using our `sc` instance directly"
   ]
  },
  {
   "cell_type": "code",
   "execution_count": 37,
   "metadata": {
    "execution": {
     "iopub.execute_input": "2021-06-10T16:26:33.678634Z",
     "iopub.status.busy": "2021-06-10T16:26:33.678634Z",
     "iopub.status.idle": "2021-06-10T16:26:33.726636Z",
     "shell.execute_reply": "2021-06-10T16:26:33.725634Z"
    }
   },
   "outputs": [],
   "source": [
    "sc.server.free_all()"
   ]
  },
  {
   "cell_type": "code",
   "execution_count": 38,
   "metadata": {
    "execution": {
     "iopub.execute_input": "2021-06-10T16:26:33.728634Z",
     "iopub.status.busy": "2021-06-10T16:26:33.728634Z",
     "iopub.status.idle": "2021-06-10T16:26:34.898161Z",
     "shell.execute_reply": "2021-06-10T16:26:34.898161Z"
    }
   },
   "outputs": [],
   "source": [
    "sc.exit()"
   ]
  }
 ],
 "metadata": {
  "language_info": {
   "codemirror_mode": {
    "name": "ipython",
    "version": 3
   },
   "file_extension": ".py",
   "mimetype": "text/x-python",
   "name": "python",
   "nbconvert_exporter": "python",
   "pygments_lexer": "ipython3",
   "version": "3.7.10"
  }
 },
 "nbformat": 4,
 "nbformat_minor": 4
}
