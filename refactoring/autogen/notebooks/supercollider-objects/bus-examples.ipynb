{
 "cells": [
  {
   "cell_type": "markdown",
   "metadata": {},
   "source": [
    "# Bus"
   ]
  },
  {
   "cell_type": "code",
   "execution_count": 1,
   "metadata": {
    "execution": {
     "iopub.execute_input": "2021-06-20T14:47:55.296615Z",
     "iopub.status.busy": "2021-06-20T14:47:55.295613Z",
     "iopub.status.idle": "2021-06-20T14:47:55.480613Z",
     "shell.execute_reply": "2021-06-20T14:47:55.481615Z"
    }
   },
   "outputs": [],
   "source": [
    "import sc3nb as scn"
   ]
  },
  {
   "cell_type": "code",
   "execution_count": 2,
   "metadata": {
    "execution": {
     "iopub.execute_input": "2021-06-20T14:47:55.489615Z",
     "iopub.status.busy": "2021-06-20T14:47:55.489615Z",
     "iopub.status.idle": "2021-06-20T14:47:59.657172Z",
     "shell.execute_reply": "2021-06-20T14:47:59.657172Z"
    }
   },
   "outputs": [
    {
     "data": {
      "application/javascript": [
       "if (typeof Jupyter !== 'undefined') {\n",
       "                        Jupyter.keyboard_manager.command_shortcuts.add_shortcut(\n",
       "                        'Ctrl-.', {\n",
       "                        help : 'Free all nodes on SC server',\n",
       "                        help_index : 'zz',\n",
       "                        handler : function (event) {\n",
       "                            IPython.notebook.kernel.execute(\n",
       "                                \"import sc3nb; sc3nb.SC.get_default().server.free_all(root=True)\"\n",
       "                            )\n",
       "                            return true;}\n",
       "                        });\n",
       "                    }"
      ],
      "text/plain": [
       "<IPython.core.display.Javascript object>"
      ]
     },
     "metadata": {},
     "output_type": "display_data"
    },
    {
     "name": "stdout",
     "output_type": "stream",
     "text": [
      "Starting sclang process...\n"
     ]
    },
    {
     "name": "stdout",
     "output_type": "stream",
     "text": [
      "Done.\n",
      "Registering OSC /return callback in sclang...\n",
      "Done.\n",
      "Loading default SynthDescs\n",
      "Done.\n",
      "Booting SuperCollider Server...\n"
     ]
    },
    {
     "name": "stdout",
     "output_type": "stream",
     "text": [
      "Done.\n"
     ]
    }
   ],
   "source": [
    "sc = scn.startup()"
   ]
  },
  {
   "cell_type": "markdown",
   "metadata": {},
   "source": [
    "## Using a Control Bus"
   ]
  },
  {
   "cell_type": "code",
   "execution_count": 3,
   "metadata": {
    "execution": {
     "iopub.execute_input": "2021-06-20T14:47:59.662165Z",
     "iopub.status.busy": "2021-06-20T14:47:59.661200Z",
     "iopub.status.idle": "2021-06-20T14:47:59.666165Z",
     "shell.execute_reply": "2021-06-20T14:47:59.666165Z"
    }
   },
   "outputs": [
    {
     "data": {
      "text/plain": [
       "Bus(control, ids=[512])"
      ]
     },
     "execution_count": 1,
     "metadata": {},
     "output_type": "execute_result"
    }
   ],
   "source": [
    "bus = scn.Bus('control')\n",
    "bus"
   ]
  },
  {
   "cell_type": "code",
   "execution_count": 4,
   "metadata": {
    "execution": {
     "iopub.execute_input": "2021-06-20T14:47:59.670198Z",
     "iopub.status.busy": "2021-06-20T14:47:59.669164Z",
     "iopub.status.idle": "2021-06-20T14:47:59.676185Z",
     "shell.execute_reply": "2021-06-20T14:47:59.677169Z"
    }
   },
   "outputs": [
    {
     "data": {
      "text/plain": [
       "0.0"
      ]
     },
     "execution_count": 1,
     "metadata": {},
     "output_type": "execute_result"
    }
   ],
   "source": [
    "bus.get()"
   ]
  },
  {
   "cell_type": "code",
   "execution_count": 5,
   "metadata": {
    "execution": {
     "iopub.execute_input": "2021-06-20T14:47:59.682166Z",
     "iopub.status.busy": "2021-06-20T14:47:59.681165Z",
     "iopub.status.idle": "2021-06-20T14:47:59.692165Z",
     "shell.execute_reply": "2021-06-20T14:47:59.692165Z"
    }
   },
   "outputs": [],
   "source": [
    "syn = scn.Synth(\"s2\")"
   ]
  },
  {
   "cell_type": "markdown",
   "metadata": {},
   "source": [
    "map the frequency of the synth to the bus value"
   ]
  },
  {
   "cell_type": "code",
   "execution_count": 6,
   "metadata": {
    "execution": {
     "iopub.execute_input": "2021-06-20T14:47:59.696164Z",
     "iopub.status.busy": "2021-06-20T14:47:59.695165Z",
     "iopub.status.idle": "2021-06-20T14:47:59.699168Z",
     "shell.execute_reply": "2021-06-20T14:47:59.698166Z"
    }
   },
   "outputs": [
    {
     "data": {
      "text/plain": [
       "<Synth(20001) 's2' ~ {}>"
      ]
     },
     "execution_count": 1,
     "metadata": {},
     "output_type": "execute_result"
    }
   ],
   "source": [
    "syn.map(\"freq\", bus)"
   ]
  },
  {
   "cell_type": "code",
   "execution_count": 7,
   "metadata": {
    "execution": {
     "iopub.execute_input": "2021-06-20T14:47:59.701166Z",
     "iopub.status.busy": "2021-06-20T14:47:59.701166Z",
     "iopub.status.idle": "2021-06-20T14:47:59.704164Z",
     "shell.execute_reply": "2021-06-20T14:47:59.705179Z"
    }
   },
   "outputs": [
    {
     "data": {
      "text/plain": [
       "Bus(control, ids=[512])"
      ]
     },
     "execution_count": 1,
     "metadata": {},
     "output_type": "execute_result"
    }
   ],
   "source": [
    "bus.set(120) # changes synths frequency"
   ]
  },
  {
   "cell_type": "code",
   "execution_count": 8,
   "metadata": {
    "execution": {
     "iopub.execute_input": "2021-06-20T14:47:59.710201Z",
     "iopub.status.busy": "2021-06-20T14:47:59.709166Z",
     "iopub.status.idle": "2021-06-20T14:47:59.711165Z",
     "shell.execute_reply": "2021-06-20T14:47:59.712164Z"
    }
   },
   "outputs": [
    {
     "data": {
      "text/plain": [
       "Bus(control, ids=[512])"
      ]
     },
     "execution_count": 1,
     "metadata": {},
     "output_type": "execute_result"
    }
   ],
   "source": [
    "bus.set(440)"
   ]
  },
  {
   "cell_type": "markdown",
   "metadata": {},
   "source": [
    "Set the frequency value to remove the mapping"
   ]
  },
  {
   "cell_type": "code",
   "execution_count": 9,
   "metadata": {
    "execution": {
     "iopub.execute_input": "2021-06-20T14:47:59.716165Z",
     "iopub.status.busy": "2021-06-20T14:47:59.715194Z",
     "iopub.status.idle": "2021-06-20T14:47:59.721166Z",
     "shell.execute_reply": "2021-06-20T14:47:59.721166Z"
    }
   },
   "outputs": [
    {
     "data": {
      "text/plain": [
       "<Synth(20001) 's2' ~ {'freq': 220}>"
      ]
     },
     "execution_count": 1,
     "metadata": {},
     "output_type": "execute_result"
    }
   ],
   "source": [
    "syn.set(\"freq\", 220)"
   ]
  },
  {
   "cell_type": "code",
   "execution_count": 10,
   "metadata": {
    "execution": {
     "iopub.execute_input": "2021-06-20T14:47:59.725165Z",
     "iopub.status.busy": "2021-06-20T14:47:59.725165Z",
     "iopub.status.idle": "2021-06-20T14:47:59.727164Z",
     "shell.execute_reply": "2021-06-20T14:47:59.728164Z"
    }
   },
   "outputs": [
    {
     "data": {
      "text/plain": [
       "Bus(control, ids=[512])"
      ]
     },
     "execution_count": 1,
     "metadata": {},
     "output_type": "execute_result"
    }
   ],
   "source": [
    "bus.set(440)  # no change"
   ]
  },
  {
   "cell_type": "code",
   "execution_count": 11,
   "metadata": {
    "execution": {
     "iopub.execute_input": "2021-06-20T14:47:59.732179Z",
     "iopub.status.busy": "2021-06-20T14:47:59.731163Z",
     "iopub.status.idle": "2021-06-20T14:47:59.736164Z",
     "shell.execute_reply": "2021-06-20T14:47:59.736164Z"
    }
   },
   "outputs": [
    {
     "data": {
      "text/plain": [
       "<Synth(20001) 's2' f {'freq': 220}>"
      ]
     },
     "execution_count": 1,
     "metadata": {},
     "output_type": "execute_result"
    }
   ],
   "source": [
    "syn.free()"
   ]
  },
  {
   "cell_type": "markdown",
   "metadata": {},
   "source": [
    "Free the bus to mark the bus id as available again"
   ]
  },
  {
   "cell_type": "code",
   "execution_count": 12,
   "metadata": {
    "execution": {
     "iopub.execute_input": "2021-06-20T14:47:59.740170Z",
     "iopub.status.busy": "2021-06-20T14:47:59.739163Z",
     "iopub.status.idle": "2021-06-20T14:47:59.741178Z",
     "shell.execute_reply": "2021-06-20T14:47:59.742163Z"
    }
   },
   "outputs": [],
   "source": [
    "bus.free()"
   ]
  },
  {
   "cell_type": "markdown",
   "metadata": {},
   "source": [
    "## Use multiple Control Buses"
   ]
  },
  {
   "cell_type": "code",
   "execution_count": 13,
   "metadata": {
    "execution": {
     "iopub.execute_input": "2021-06-20T14:47:59.746203Z",
     "iopub.status.busy": "2021-06-20T14:47:59.746203Z",
     "iopub.status.idle": "2021-06-20T14:47:59.778165Z",
     "shell.execute_reply": "2021-06-20T14:47:59.778165Z"
    }
   },
   "outputs": [],
   "source": [
    "synth_name = scn.SynthDef(\"busMulti\", \"\"\"{ |out, freqs=#[200, 400], rates=#[1, 2] |\n",
    "    Out.ar(out, Splay.ar(SinOsc.ar(freqs) * Decay2.ar(Impulse.ar(rates), 0.001, 0.1)) * 0.5);\n",
    "}\"\"\").add()"
   ]
  },
  {
   "cell_type": "code",
   "execution_count": 14,
   "metadata": {
    "execution": {
     "iopub.execute_input": "2021-06-20T14:47:59.783164Z",
     "iopub.status.busy": "2021-06-20T14:47:59.782165Z",
     "iopub.status.idle": "2021-06-20T14:47:59.786164Z",
     "shell.execute_reply": "2021-06-20T14:47:59.785164Z"
    }
   },
   "outputs": [
    {
     "data": {
      "text/plain": [
       "Bus(control, ids=[512, 513])"
      ]
     },
     "execution_count": 1,
     "metadata": {},
     "output_type": "execute_result"
    }
   ],
   "source": [
    "buses = scn.Bus(\"control\", 2)\n",
    "buses"
   ]
  },
  {
   "cell_type": "code",
   "execution_count": 15,
   "metadata": {
    "execution": {
     "iopub.execute_input": "2021-06-20T14:47:59.789164Z",
     "iopub.status.busy": "2021-06-20T14:47:59.789164Z",
     "iopub.status.idle": "2021-06-20T14:47:59.796164Z",
     "shell.execute_reply": "2021-06-20T14:47:59.797164Z"
    }
   },
   "outputs": [
    {
     "data": {
      "text/plain": [
       "[0.0, 0.0]"
      ]
     },
     "execution_count": 1,
     "metadata": {},
     "output_type": "execute_result"
    }
   ],
   "source": [
    "buses.get()"
   ]
  },
  {
   "cell_type": "code",
   "execution_count": 16,
   "metadata": {
    "execution": {
     "iopub.execute_input": "2021-06-20T14:47:59.800164Z",
     "iopub.status.busy": "2021-06-20T14:47:59.800164Z",
     "iopub.status.idle": "2021-06-20T14:47:59.813164Z",
     "shell.execute_reply": "2021-06-20T14:47:59.813164Z"
    }
   },
   "outputs": [],
   "source": [
    "syn = scn.Synth(synth_name)"
   ]
  },
  {
   "cell_type": "code",
   "execution_count": 17,
   "metadata": {
    "execution": {
     "iopub.execute_input": "2021-06-20T14:47:59.817165Z",
     "iopub.status.busy": "2021-06-20T14:47:59.817165Z",
     "iopub.status.idle": "2021-06-20T14:47:59.819165Z",
     "shell.execute_reply": "2021-06-20T14:47:59.820164Z"
    }
   },
   "outputs": [
    {
     "data": {
      "text/plain": [
       "<Synth(20002) 'busMulti' ~ {}>"
      ]
     },
     "execution_count": 1,
     "metadata": {},
     "output_type": "execute_result"
    }
   ],
   "source": [
    "syn.map(\"rates\", buses)"
   ]
  },
  {
   "cell_type": "code",
   "execution_count": 18,
   "metadata": {
    "execution": {
     "iopub.execute_input": "2021-06-20T14:47:59.824164Z",
     "iopub.status.busy": "2021-06-20T14:47:59.824164Z",
     "iopub.status.idle": "2021-06-20T14:47:59.826167Z",
     "shell.execute_reply": "2021-06-20T14:47:59.827164Z"
    }
   },
   "outputs": [
    {
     "data": {
      "text/plain": [
       "Bus(control, ids=[512, 513])"
      ]
     },
     "execution_count": 1,
     "metadata": {},
     "output_type": "execute_result"
    }
   ],
   "source": [
    "buses.set(1, 1)"
   ]
  },
  {
   "cell_type": "code",
   "execution_count": 19,
   "metadata": {
    "execution": {
     "iopub.execute_input": "2021-06-20T14:47:59.830164Z",
     "iopub.status.busy": "2021-06-20T14:47:59.830164Z",
     "iopub.status.idle": "2021-06-20T14:47:59.832164Z",
     "shell.execute_reply": "2021-06-20T14:47:59.832164Z"
    }
   },
   "outputs": [
    {
     "data": {
      "text/plain": [
       "Bus(control, ids=[512, 513])"
      ]
     },
     "execution_count": 1,
     "metadata": {},
     "output_type": "execute_result"
    }
   ],
   "source": [
    "buses.set(1, 2)"
   ]
  },
  {
   "cell_type": "code",
   "execution_count": 20,
   "metadata": {
    "execution": {
     "iopub.execute_input": "2021-06-20T14:47:59.835164Z",
     "iopub.status.busy": "2021-06-20T14:47:59.834164Z",
     "iopub.status.idle": "2021-06-20T14:47:59.845165Z",
     "shell.execute_reply": "2021-06-20T14:47:59.845165Z"
    }
   },
   "outputs": [
    {
     "data": {
      "text/plain": [
       "[1.0, 2.0]"
      ]
     },
     "execution_count": 1,
     "metadata": {},
     "output_type": "execute_result"
    }
   ],
   "source": [
    "buses.get()"
   ]
  },
  {
   "cell_type": "code",
   "execution_count": 21,
   "metadata": {
    "execution": {
     "iopub.execute_input": "2021-06-20T14:47:59.849167Z",
     "iopub.status.busy": "2021-06-20T14:47:59.848166Z",
     "iopub.status.idle": "2021-06-20T14:47:59.850167Z",
     "shell.execute_reply": "2021-06-20T14:47:59.850167Z"
    }
   },
   "outputs": [
    {
     "data": {
      "text/plain": [
       "<Synth(20002) 'busMulti' f {}>"
      ]
     },
     "execution_count": 1,
     "metadata": {},
     "output_type": "execute_result"
    }
   ],
   "source": [
    "syn.free()"
   ]
  },
  {
   "cell_type": "code",
   "execution_count": 22,
   "metadata": {
    "execution": {
     "iopub.execute_input": "2021-06-20T14:47:59.853165Z",
     "iopub.status.busy": "2021-06-20T14:47:59.853165Z",
     "iopub.status.idle": "2021-06-20T14:47:59.855171Z",
     "shell.execute_reply": "2021-06-20T14:47:59.856165Z"
    }
   },
   "outputs": [],
   "source": [
    "buses.free()"
   ]
  },
  {
   "cell_type": "code",
   "execution_count": 23,
   "metadata": {
    "execution": {
     "iopub.execute_input": "2021-06-20T14:47:59.859164Z",
     "iopub.status.busy": "2021-06-20T14:47:59.859164Z",
     "iopub.status.idle": "2021-06-20T14:47:59.917165Z",
     "shell.execute_reply": "2021-06-20T14:47:59.918165Z"
    }
   },
   "outputs": [],
   "source": [
    "sc.server.free_all()"
   ]
  },
  {
   "cell_type": "code",
   "execution_count": 24,
   "metadata": {
    "execution": {
     "iopub.execute_input": "2021-06-20T14:47:59.921164Z",
     "iopub.status.busy": "2021-06-20T14:47:59.920164Z",
     "iopub.status.idle": "2021-06-20T14:48:01.083633Z",
     "shell.execute_reply": "2021-06-20T14:48:01.084634Z"
    }
   },
   "outputs": [],
   "source": [
    "sc.exit()"
   ]
  },
  {
   "cell_type": "code",
   "execution_count": null,
   "metadata": {},
   "outputs": [],
   "source": []
  }
 ],
 "metadata": {
  "language_info": {
   "codemirror_mode": {
    "name": "ipython",
    "version": 3
   },
   "file_extension": ".py",
   "mimetype": "text/x-python",
   "name": "python",
   "nbconvert_exporter": "python",
   "pygments_lexer": "ipython3",
   "version": "3.7.10"
  }
 },
 "nbformat": 4,
 "nbformat_minor": 4
}
