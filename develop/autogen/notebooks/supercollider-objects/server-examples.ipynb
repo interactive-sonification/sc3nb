{
 "cells": [
  {
   "cell_type": "markdown",
   "metadata": {},
   "source": [
    "# Server"
   ]
  },
  {
   "cell_type": "code",
   "execution_count": 1,
   "metadata": {
    "execution": {
     "iopub.execute_input": "2023-08-22T12:05:01.390500Z",
     "iopub.status.busy": "2023-08-22T12:05:01.389772Z",
     "iopub.status.idle": "2023-08-22T12:05:01.618155Z",
     "shell.execute_reply": "2023-08-22T12:05:01.617138Z"
    }
   },
   "outputs": [],
   "source": [
    "import sc3nb as scn"
   ]
  },
  {
   "cell_type": "markdown",
   "metadata": {},
   "source": [
    "The `SCServer` class is the central interface for \n",
    "\n",
    "* controlling the SuperCollider audio server process\n",
    "* managing SuperCollider Objects\n",
    "* using OSC for outgoing and incoming packets\n",
    "\n",
    "\n",
    "To achieve all this the SCServer is\n",
    "\n",
    "* registered as a client to the SuperCollider audio server process (scsynth) and exchanging [SuperCollider Commands](http://doc.sccode.org/Reference/Server-Command-Reference.html) with the server process\n",
    "* and also running an OSC server in python which can communicate via OSC with scsynth and sclang.\n",
    "\n",
    "\n",
    "For information about how to communicate using OSC see the [OSC communication notebook](../osc-communication-examples.ipynb). This notebook focuses on using the `SCServer` class for interacting with scsynth "
   ]
  },
  {
   "cell_type": "markdown",
   "metadata": {},
   "source": [
    "## Starting the Server"
   ]
  },
  {
   "cell_type": "markdown",
   "metadata": {},
   "source": [
    "The most convienent way is to use the default sc3nb `SCServer` instance"
   ]
  },
  {
   "cell_type": "code",
   "execution_count": 2,
   "metadata": {
    "execution": {
     "iopub.execute_input": "2023-08-22T12:05:01.623640Z",
     "iopub.status.busy": "2023-08-22T12:05:01.623170Z",
     "iopub.status.idle": "2023-08-22T12:05:03.916084Z",
     "shell.execute_reply": "2023-08-22T12:05:03.914760Z"
    }
   },
   "outputs": [
    {
     "data": {
      "application/javascript": [
       "if (typeof Jupyter !== 'undefined') {\n",
       "                        Jupyter.keyboard_manager.command_shortcuts.add_shortcut(\n",
       "                        'cmd-.', {\n",
       "                        help : 'Free all nodes on SC server',\n",
       "                        help_index : 'zz',\n",
       "                        handler : function (event) {\n",
       "                            IPython.notebook.kernel.execute(\n",
       "                                \"import sc3nb; sc3nb.SC.get_default().server.free_all(root=True)\"\n",
       "                            )\n",
       "                            return true;}\n",
       "                        });\n",
       "                    }"
      ],
      "text/plain": [
       "<IPython.core.display.Javascript object>"
      ]
     },
     "metadata": {},
     "output_type": "display_data"
    },
    {
     "name": "stdout",
     "output_type": "stream",
     "text": [
      "Starting sclang process... [sclang | start reading ]\n"
     ]
    },
    {
     "name": "stdout",
     "output_type": "stream",
     "text": [
      "Done.\n",
      "Registering OSC /return callback in sclang... Done.\n",
      "Loading default sc3nb SynthDefs... Done.\n",
      "Booting SuperCollider Server... [scsynth | start reading ]\n"
     ]
    },
    {
     "name": "stdout",
     "output_type": "stream",
     "text": [
      "Done.\n"
     ]
    }
   ],
   "source": [
    "sc = scn.startup()"
   ]
  },
  {
   "cell_type": "code",
   "execution_count": 3,
   "metadata": {
    "execution": {
     "iopub.execute_input": "2023-08-22T12:05:03.920662Z",
     "iopub.status.busy": "2023-08-22T12:05:03.920283Z",
     "iopub.status.idle": "2023-08-22T12:05:03.925554Z",
     "shell.execute_reply": "2023-08-22T12:05:03.924859Z"
    }
   },
   "outputs": [
    {
     "data": {
      "text/plain": [
       "<SCServer addr=('127.0.0.1', 57110), process=<Process 'scsynth' (running) pid=12799>>"
      ]
     },
     "execution_count": 3,
     "metadata": {},
     "output_type": "execute_result"
    }
   ],
   "source": [
    "sc.server"
   ]
  },
  {
   "cell_type": "markdown",
   "metadata": {},
   "source": [
    "However you can also use the SCServer class directly"
   ]
  },
  {
   "cell_type": "markdown",
   "metadata": {},
   "source": [
    "The server connection can be created\n",
    "\n",
    "* locally using `boot`, which will start a scsynth process and connect to it or\n",
    "* remote using `remote` for connecting to an already running scsynth process"
   ]
  },
  {
   "cell_type": "code",
   "execution_count": 4,
   "metadata": {
    "execution": {
     "iopub.execute_input": "2023-08-22T12:05:03.928931Z",
     "iopub.status.busy": "2023-08-22T12:05:03.928611Z",
     "iopub.status.idle": "2023-08-22T12:05:03.935829Z",
     "shell.execute_reply": "2023-08-22T12:05:03.935044Z"
    }
   },
   "outputs": [
    {
     "data": {
      "text/plain": [
       "<SCServer (not booted)>"
      ]
     },
     "execution_count": 4,
     "metadata": {},
     "output_type": "execute_result"
    }
   ],
   "source": [
    "serv = scn.SCServer()\n",
    "serv"
   ]
  },
  {
   "cell_type": "code",
   "execution_count": 5,
   "metadata": {
    "execution": {
     "iopub.execute_input": "2023-08-22T12:05:03.939260Z",
     "iopub.status.busy": "2023-08-22T12:05:03.938910Z",
     "iopub.status.idle": "2023-08-22T12:05:04.020561Z",
     "shell.execute_reply": "2023-08-22T12:05:04.019702Z"
    }
   },
   "outputs": [
    {
     "name": "stdout",
     "output_type": "stream",
     "text": [
      "Booting SuperCollider Server... \n",
      "SuperCollider Server port 57110 already used.\n",
      "Trying to connect.\n",
      "Done.\n"
     ]
    }
   ],
   "source": [
    "serv.boot()"
   ]
  },
  {
   "cell_type": "markdown",
   "metadata": {},
   "source": [
    "Notice how the `SCServer` always tries to boot using the default SuperCollider audio server port 57110.\n",
    "But this port is already used by `sc.server` and thus the `SCServer` tries to connect to the already running instance using `SCserver.remote`. This enables a user to share the same scsynth instance with other users and/or use it from other notebooks. If the port to be used is explicitly specified the `SCServer` instance will fail instead of connecting.\n",
    "\n",
    "The `SCServer` will register to the scsynth process using `SCServer.notify()`"
   ]
  },
  {
   "cell_type": "markdown",
   "metadata": {},
   "source": [
    "Let's look how many clients are allowed and what the `client_id`s and the corresponding `default_group`s of the SCServer instances are."
   ]
  },
  {
   "cell_type": "code",
   "execution_count": 6,
   "metadata": {
    "execution": {
     "iopub.execute_input": "2023-08-22T12:05:04.025146Z",
     "iopub.status.busy": "2023-08-22T12:05:04.024777Z",
     "iopub.status.idle": "2023-08-22T12:05:04.028743Z",
     "shell.execute_reply": "2023-08-22T12:05:04.028052Z"
    }
   },
   "outputs": [
    {
     "name": "stdout",
     "output_type": "stream",
     "text": [
      "The scsynth process of this SCServer instance allows 8 clients to login.\n"
     ]
    }
   ],
   "source": [
    "print(f\"The scsynth process of this SCServer instance allows {sc.server.max_logins} clients to login.\")"
   ]
  },
  {
   "cell_type": "code",
   "execution_count": 7,
   "metadata": {
    "execution": {
     "iopub.execute_input": "2023-08-22T12:05:04.032315Z",
     "iopub.status.busy": "2023-08-22T12:05:04.031935Z",
     "iopub.status.idle": "2023-08-22T12:05:04.035625Z",
     "shell.execute_reply": "2023-08-22T12:05:04.034926Z"
    }
   },
   "outputs": [
    {
     "name": "stdout",
     "output_type": "stream",
     "text": [
      "sc.server has client id 1 and the default Group <Group(67108865) ~ {} children=[]>\n"
     ]
    }
   ],
   "source": [
    "print(f\"sc.server has client id {sc.server.client_id} and the default Group {sc.server.default_group}\") "
   ]
  },
  {
   "cell_type": "code",
   "execution_count": 8,
   "metadata": {
    "execution": {
     "iopub.execute_input": "2023-08-22T12:05:04.039184Z",
     "iopub.status.busy": "2023-08-22T12:05:04.038899Z",
     "iopub.status.idle": "2023-08-22T12:05:04.042510Z",
     "shell.execute_reply": "2023-08-22T12:05:04.041865Z"
    }
   },
   "outputs": [
    {
     "name": "stdout",
     "output_type": "stream",
     "text": [
      "serv has client id 0 and the default Group <Group(1) s {} children=[]>\n"
     ]
    }
   ],
   "source": [
    "print(f\"serv has client id {serv.client_id} and the default Group {serv.default_group}\") "
   ]
  },
  {
   "cell_type": "markdown",
   "metadata": {},
   "source": [
    "However also note that the instances use different ports meaning they are able to independendly send and receive OSC packets"
   ]
  },
  {
   "cell_type": "code",
   "execution_count": 9,
   "metadata": {
    "execution": {
     "iopub.execute_input": "2023-08-22T12:05:04.045766Z",
     "iopub.status.busy": "2023-08-22T12:05:04.045499Z",
     "iopub.status.idle": "2023-08-22T12:05:04.051000Z",
     "shell.execute_reply": "2023-08-22T12:05:04.050271Z"
    }
   },
   "outputs": [
    {
     "name": "stdout",
     "output_type": "stream",
     "text": [
      "This instance is at ('127.0.0.1', 57131),\n",
      "Known receivers: \"scsynth\" at ('127.0.0.1', 57110)\n",
      "                 \"sclang\" at ('127.0.0.1', 57120)\n",
      "                 \n"
     ]
    },
    {
     "data": {
      "text/plain": [
       "(('127.0.0.1', 57131),\n",
       " {('127.0.0.1', 57110): 'scsynth', ('127.0.0.1', 57120): 'sclang'})"
      ]
     },
     "execution_count": 9,
     "metadata": {},
     "output_type": "execute_result"
    }
   ],
   "source": [
    "sc.server.connection_info()"
   ]
  },
  {
   "cell_type": "markdown",
   "metadata": {},
   "source": [
    "and also note that `serv` is not connected to sclang but has the same connection info for scsynth."
   ]
  },
  {
   "cell_type": "code",
   "execution_count": 10,
   "metadata": {
    "execution": {
     "iopub.execute_input": "2023-08-22T12:05:04.054383Z",
     "iopub.status.busy": "2023-08-22T12:05:04.054095Z",
     "iopub.status.idle": "2023-08-22T12:05:04.058950Z",
     "shell.execute_reply": "2023-08-22T12:05:04.058260Z"
    }
   },
   "outputs": [
    {
     "name": "stdout",
     "output_type": "stream",
     "text": [
      "This instance is at ('127.0.0.1', 57133),\n",
      "Known receivers: \"scsynth\" at ('127.0.0.1', 57110)\n",
      "                 \n"
     ]
    },
    {
     "data": {
      "text/plain": [
       "(('127.0.0.1', 57133), {('127.0.0.1', 57110): 'scsynth'})"
      ]
     },
     "execution_count": 10,
     "metadata": {},
     "output_type": "execute_result"
    }
   ],
   "source": [
    "serv.connection_info()"
   ]
  },
  {
   "cell_type": "markdown",
   "metadata": {},
   "source": [
    "A Synth running on the SuperCollider audio server will be visible to all connected clients"
   ]
  },
  {
   "cell_type": "code",
   "execution_count": 11,
   "metadata": {
    "execution": {
     "iopub.execute_input": "2023-08-22T12:05:04.062189Z",
     "iopub.status.busy": "2023-08-22T12:05:04.061908Z",
     "iopub.status.idle": "2023-08-22T12:05:04.078165Z",
     "shell.execute_reply": "2023-08-22T12:05:04.077123Z"
    }
   },
   "outputs": [],
   "source": [
    "serv_synth = scn.Synth(\"s2\", {\"amp\": 0.05, \"pan\": -1, \"freq\": 100}, server=serv)"
   ]
  },
  {
   "cell_type": "code",
   "execution_count": 12,
   "metadata": {
    "execution": {
     "iopub.execute_input": "2023-08-22T12:05:04.082146Z",
     "iopub.status.busy": "2023-08-22T12:05:04.081594Z",
     "iopub.status.idle": "2023-08-22T12:05:04.087514Z",
     "shell.execute_reply": "2023-08-22T12:05:04.085213Z"
    }
   },
   "outputs": [],
   "source": [
    "default_synth = scn.Synth(\"s2\", {\"amp\": 0.05, \"pan\": 1, \"freq\": 440})  # no need to specify sc.server as server argument"
   ]
  },
  {
   "cell_type": "markdown",
   "metadata": {},
   "source": [
    "This also includes sclang, which is another client of the scsynth process"
   ]
  },
  {
   "cell_type": "code",
   "execution_count": 13,
   "metadata": {
    "execution": {
     "iopub.execute_input": "2023-08-22T12:05:04.090900Z",
     "iopub.status.busy": "2023-08-22T12:05:04.090611Z",
     "iopub.status.idle": "2023-08-22T12:05:04.099189Z",
     "shell.execute_reply": "2023-08-22T12:05:04.097913Z"
    }
   },
   "outputs": [
    {
     "name": "stdout",
     "output_type": "stream",
     "text": [
      "-> Synth('s2' : 1000)\n"
     ]
    }
   ],
   "source": [
    "%sc ~sclang_synth = Synth(\"s2\", [\\amp, 0.1])"
   ]
  },
  {
   "cell_type": "code",
   "execution_count": 14,
   "metadata": {
    "execution": {
     "iopub.execute_input": "2023-08-22T12:05:04.102631Z",
     "iopub.status.busy": "2023-08-22T12:05:04.102335Z",
     "iopub.status.idle": "2023-08-22T12:05:04.135061Z",
     "shell.execute_reply": "2023-08-22T12:05:04.133963Z"
    }
   },
   "outputs": [
    {
     "name": "stdout",
     "output_type": "stream",
     "text": [
      "NODE TREE Group 0\n",
      "   469762049 group\n",
      "   402653185 group\n",
      "   335544321 group\n",
      "   268435457 group\n",
      "   201326593 group\n",
      "   134217729 group\n",
      "   67108865 group\n",
      "      20001 s2\n",
      "        freq: 440 amp: 0.050000000745058 num: 4 pan: 1 lg: 0.10000000149012 gate: 1\n",
      "   1 group\n",
      "      1000 s2\n",
      "        freq: 400 amp: 0.10000000149012 num: 4 pan: 0 lg: 0.10000000149012 gate: 1\n",
      "      10001 s2\n",
      "        freq: 100 amp: 0.050000000745058 num: 4 pan: -1 lg: 0.10000000149012 gate: 1\n"
     ]
    }
   ],
   "source": [
    "sc.server.dump_tree()"
   ]
  },
  {
   "cell_type": "markdown",
   "metadata": {},
   "source": [
    "This also means freeing all Synths at once can be done with each client"
   ]
  },
  {
   "cell_type": "code",
   "execution_count": 15,
   "metadata": {
    "execution": {
     "iopub.execute_input": "2023-08-22T12:05:04.139374Z",
     "iopub.status.busy": "2023-08-22T12:05:04.139045Z",
     "iopub.status.idle": "2023-08-22T12:05:04.217918Z",
     "shell.execute_reply": "2023-08-22T12:05:04.216574Z"
    }
   },
   "outputs": [],
   "source": [
    "sc.server.free_all()\n",
    "# serv.free_all() \n",
    "# %sc s.freeAll"
   ]
  },
  {
   "cell_type": "code",
   "execution_count": 16,
   "metadata": {
    "execution": {
     "iopub.execute_input": "2023-08-22T12:05:04.222535Z",
     "iopub.status.busy": "2023-08-22T12:05:04.222141Z",
     "iopub.status.idle": "2023-08-22T12:05:04.242652Z",
     "shell.execute_reply": "2023-08-22T12:05:04.241768Z"
    }
   },
   "outputs": [
    {
     "name": "stdout",
     "output_type": "stream",
     "text": [
      "NODE TREE Group 0\n",
      "   469762049 group\n",
      "   402653185 group\n",
      "   335544321 group\n",
      "   268435457 group\n",
      "   201326593 group\n",
      "   134217729 group\n",
      "   67108865 group\n",
      "   1 group\n"
     ]
    }
   ],
   "source": [
    "sc.server.dump_tree()"
   ]
  },
  {
   "cell_type": "markdown",
   "metadata": {},
   "source": [
    "and quitting one server also quits the others."
   ]
  },
  {
   "cell_type": "code",
   "execution_count": 17,
   "metadata": {
    "execution": {
     "iopub.execute_input": "2023-08-22T12:05:04.247134Z",
     "iopub.status.busy": "2023-08-22T12:05:04.246774Z",
     "iopub.status.idle": "2023-08-22T12:05:04.294662Z",
     "shell.execute_reply": "2023-08-22T12:05:04.292577Z"
    }
   },
   "outputs": [
    {
     "name": "stdout",
     "output_type": "stream",
     "text": [
      "Quitting SCServer... "
     ]
    },
    {
     "name": "stdout",
     "output_type": "stream",
     "text": [
      "Done.\n"
     ]
    },
    {
     "name": "stdout",
     "output_type": "stream",
     "text": [
      "[scsynth | reached EOF ]\n"
     ]
    }
   ],
   "source": [
    "serv.quit()"
   ]
  },
  {
   "cell_type": "code",
   "execution_count": 18,
   "metadata": {
    "execution": {
     "iopub.execute_input": "2023-08-22T12:05:04.300008Z",
     "iopub.status.busy": "2023-08-22T12:05:04.299491Z",
     "iopub.status.idle": "2023-08-22T12:05:04.306364Z",
     "shell.execute_reply": "2023-08-22T12:05:04.305378Z"
    }
   },
   "outputs": [
    {
     "data": {
      "text/plain": [
       "<SCServer addr=('127.0.0.1', 57110), process=<Process 'scsynth' (died) pid=12799>>"
      ]
     },
     "execution_count": 18,
     "metadata": {},
     "output_type": "execute_result"
    }
   ],
   "source": [
    "sc.server"
   ]
  },
  {
   "cell_type": "markdown",
   "metadata": {},
   "source": [
    "Let's reboot the default server"
   ]
  },
  {
   "cell_type": "code",
   "execution_count": 19,
   "metadata": {
    "execution": {
     "iopub.execute_input": "2023-08-22T12:05:04.309988Z",
     "iopub.status.busy": "2023-08-22T12:05:04.309653Z",
     "iopub.status.idle": "2023-08-22T12:05:10.156726Z",
     "shell.execute_reply": "2023-08-22T12:05:10.155408Z"
    }
   },
   "outputs": [
    {
     "name": "stdout",
     "output_type": "stream",
     "text": [
      "Quitting SCServer... "
     ]
    },
    {
     "name": "stdout",
     "output_type": "stream",
     "text": [
      "Done.\n",
      "Booting SuperCollider Server... [scsynth | start reading ]\n",
      "[scsynth]  Number of Devices: 2\n",
      "[scsynth]     0 : \"Built-in Microph\"\n",
      "[scsynth]     1 : \"Built-in Output\"\n",
      "[scsynth]  \n",
      "[scsynth]  \"Built-in Microph\" Input Device\n",
      "[scsynth]     Streams: 1\n",
      "[scsynth]        0  channels 2\n",
      "[scsynth]  \n",
      "[scsynth]  \"Built-in Output\" Output Device\n",
      "[scsynth]     Streams: 1\n",
      "[scsynth]        0  channels 2\n",
      "[scsynth]  \n",
      "[scsynth]  SC_AudioDriver: sample rate = 44100.000000, driver's block size = 512\n",
      "[scsynth]  SuperCollider 3 server ready.\n"
     ]
    },
    {
     "name": "stdout",
     "output_type": "stream",
     "text": [
      "Done.\n"
     ]
    }
   ],
   "source": [
    "sc.server.reboot()"
   ]
  },
  {
   "cell_type": "markdown",
   "metadata": {},
   "source": [
    "More information about [multi client setups](http://doc.sccode.org/Guides/MultiClient_Setups.html) can be found in the SuperCollider documentation."
   ]
  },
  {
   "cell_type": "markdown",
   "metadata": {},
   "source": [
    "## Configuring Server options\n",
    "\n",
    "Startup options of the `SCServer` instance can be set via `ServerOptions`, which can be passed as argument when starting the `SCServer`"
   ]
  },
  {
   "cell_type": "markdown",
   "metadata": {},
   "source": [
    "The default ServerOptions in sc3nb are:"
   ]
  },
  {
   "cell_type": "code",
   "execution_count": 20,
   "metadata": {
    "execution": {
     "iopub.execute_input": "2023-08-22T12:05:10.162304Z",
     "iopub.status.busy": "2023-08-22T12:05:10.161962Z",
     "iopub.status.idle": "2023-08-22T12:05:10.167211Z",
     "shell.execute_reply": "2023-08-22T12:05:10.166497Z"
    }
   },
   "outputs": [
    {
     "data": {
      "text/plain": [
       "<ServerOptions ['-u', '57110', '-l', '6', '-i', '2', '-o', '2', '-a', '1024', '-c', '4096', '-b', '1024', '-R', '0']>"
      ]
     },
     "execution_count": 20,
     "metadata": {},
     "output_type": "execute_result"
    }
   ],
   "source": [
    "scn.ServerOptions()"
   ]
  },
  {
   "cell_type": "markdown",
   "metadata": {},
   "source": [
    "## Getting Information\n",
    "\n",
    "The `SCServer` instance provides various kinds of information"
   ]
  },
  {
   "cell_type": "markdown",
   "metadata": {},
   "source": [
    "* What nodes are currently running"
   ]
  },
  {
   "cell_type": "code",
   "execution_count": 21,
   "metadata": {
    "execution": {
     "iopub.execute_input": "2023-08-22T12:05:10.171392Z",
     "iopub.status.busy": "2023-08-22T12:05:10.171083Z",
     "iopub.status.idle": "2023-08-22T12:05:10.191557Z",
     "shell.execute_reply": "2023-08-22T12:05:10.190741Z"
    }
   },
   "outputs": [
    {
     "name": "stdout",
     "output_type": "stream",
     "text": [
      "[scsynth]  NODE TREE Group 0\n",
      "[scsynth]     469762049 group\n",
      "[scsynth]     402653185 group\n",
      "[scsynth]     335544321 group\n",
      "[scsynth]     268435457 group\n",
      "[scsynth]     201326593 group\n",
      "[scsynth]     134217729 group\n",
      "[scsynth]     67108865 group\n",
      "[scsynth]     1 group\n",
      "NODE TREE Group 0\n",
      "   469762049 group\n",
      "   402653185 group\n",
      "   335544321 group\n",
      "   268435457 group\n",
      "   201326593 group\n",
      "   134217729 group\n",
      "   67108865 group\n",
      "   1 group\n"
     ]
    }
   ],
   "source": [
    "sc.server.dump_tree()"
   ]
  },
  {
   "cell_type": "code",
   "execution_count": 22,
   "metadata": {
    "execution": {
     "iopub.execute_input": "2023-08-22T12:05:10.195498Z",
     "iopub.status.busy": "2023-08-22T12:05:10.195134Z",
     "iopub.status.idle": "2023-08-22T12:05:10.202819Z",
     "shell.execute_reply": "2023-08-22T12:05:10.201743Z"
    }
   },
   "outputs": [
    {
     "data": {
      "text/plain": [
       "Group(0)  {} children=[\n",
       "  Group(469762049) s {} children=[],\n",
       "  Group(402653185) s {} children=[],\n",
       "  Group(335544321) s {} children=[],\n",
       "  Group(268435457) s {} children=[],\n",
       "  Group(201326593) s {} children=[],\n",
       "  Group(134217729) s {} children=[],\n",
       "  Group(67108865) s {} children=[],\n",
       "  Group(1) ~ {} children=[]]"
      ]
     },
     "execution_count": 22,
     "metadata": {},
     "output_type": "execute_result"
    }
   ],
   "source": [
    "sc.server.query_tree()"
   ]
  },
  {
   "cell_type": "markdown",
   "metadata": {},
   "source": [
    "* The current status of the server, acquired via the `/status` OSC command"
   ]
  },
  {
   "cell_type": "code",
   "execution_count": 23,
   "metadata": {
    "execution": {
     "iopub.execute_input": "2023-08-22T12:05:10.207171Z",
     "iopub.status.busy": "2023-08-22T12:05:10.206824Z",
     "iopub.status.idle": "2023-08-22T12:05:10.213300Z",
     "shell.execute_reply": "2023-08-22T12:05:10.212650Z"
    }
   },
   "outputs": [
    {
     "data": {
      "text/plain": [
       "ServerStatus(num_ugens=6, num_synths=1, num_groups=9, num_synthdefs=7, avg_cpu=0.12140010297298431, peak_cpu=0.5158149600028992, nominal_sr=44100.0, actual_sr=44099.9999987347)"
      ]
     },
     "execution_count": 23,
     "metadata": {},
     "output_type": "execute_result"
    }
   ],
   "source": [
    "sc.server.status()"
   ]
  },
  {
   "cell_type": "markdown",
   "metadata": {},
   "source": [
    "which can also be accessed directly via properties"
   ]
  },
  {
   "cell_type": "code",
   "execution_count": 24,
   "metadata": {
    "execution": {
     "iopub.execute_input": "2023-08-22T12:05:10.217134Z",
     "iopub.status.busy": "2023-08-22T12:05:10.216828Z",
     "iopub.status.idle": "2023-08-22T12:05:10.225412Z",
     "shell.execute_reply": "2023-08-22T12:05:10.224608Z"
    }
   },
   "outputs": [
    {
     "data": {
      "text/plain": [
       "44100.0"
      ]
     },
     "execution_count": 24,
     "metadata": {},
     "output_type": "execute_result"
    }
   ],
   "source": [
    "sc.server.nominal_sr"
   ]
  },
  {
   "cell_type": "code",
   "execution_count": 25,
   "metadata": {
    "execution": {
     "iopub.execute_input": "2023-08-22T12:05:10.229345Z",
     "iopub.status.busy": "2023-08-22T12:05:10.229034Z",
     "iopub.status.idle": "2023-08-22T12:05:10.236847Z",
     "shell.execute_reply": "2023-08-22T12:05:10.236008Z"
    }
   },
   "outputs": [
    {
     "data": {
      "text/plain": [
       "7"
      ]
     },
     "execution_count": 25,
     "metadata": {},
     "output_type": "execute_result"
    }
   ],
   "source": [
    "sc.server.num_synthdefs"
   ]
  },
  {
   "cell_type": "markdown",
   "metadata": {},
   "source": [
    "* the version of the SC3 server process, acquired via the `/version` OSC command"
   ]
  },
  {
   "cell_type": "code",
   "execution_count": 26,
   "metadata": {
    "execution": {
     "iopub.execute_input": "2023-08-22T12:05:10.240934Z",
     "iopub.status.busy": "2023-08-22T12:05:10.240428Z",
     "iopub.status.idle": "2023-08-22T12:05:10.248377Z",
     "shell.execute_reply": "2023-08-22T12:05:10.247565Z"
    }
   },
   "outputs": [
    {
     "data": {
      "text/plain": [
       "ServerVersion(name='scsynth', major_version=3, minor_version=13, patch_version='.0', git_branch='Version-3.13.0', commit='3188503')"
      ]
     },
     "execution_count": 26,
     "metadata": {},
     "output_type": "execute_result"
    }
   ],
   "source": [
    "sc.server.version()"
   ]
  },
  {
   "cell_type": "markdown",
   "metadata": {},
   "source": [
    "* the address of the SuperCollider audio server"
   ]
  },
  {
   "cell_type": "code",
   "execution_count": 27,
   "metadata": {
    "execution": {
     "iopub.execute_input": "2023-08-22T12:05:10.252340Z",
     "iopub.status.busy": "2023-08-22T12:05:10.252022Z",
     "iopub.status.idle": "2023-08-22T12:05:10.256885Z",
     "shell.execute_reply": "2023-08-22T12:05:10.255938Z"
    }
   },
   "outputs": [
    {
     "data": {
      "text/plain": [
       "('127.0.0.1', 57110)"
      ]
     },
     "execution_count": 27,
     "metadata": {},
     "output_type": "execute_result"
    }
   ],
   "source": [
    "sc.server.addr"
   ]
  },
  {
   "cell_type": "markdown",
   "metadata": {},
   "source": [
    "* The connection info"
   ]
  },
  {
   "cell_type": "code",
   "execution_count": 28,
   "metadata": {
    "execution": {
     "iopub.execute_input": "2023-08-22T12:05:10.260401Z",
     "iopub.status.busy": "2023-08-22T12:05:10.260092Z",
     "iopub.status.idle": "2023-08-22T12:05:10.265257Z",
     "shell.execute_reply": "2023-08-22T12:05:10.264399Z"
    }
   },
   "outputs": [
    {
     "name": "stdout",
     "output_type": "stream",
     "text": [
      "This instance is at ('127.0.0.1', 57131),\n",
      "Known receivers: \"scsynth\" at ('127.0.0.1', 57110)\n",
      "                 \"sclang\" at ('127.0.0.1', 57120)\n",
      "                 \n"
     ]
    },
    {
     "data": {
      "text/plain": [
       "(('127.0.0.1', 57131),\n",
       " {('127.0.0.1', 57110): 'scsynth', ('127.0.0.1', 57120): 'sclang'})"
      ]
     },
     "execution_count": 28,
     "metadata": {},
     "output_type": "execute_result"
    }
   ],
   "source": [
    "sc.server.connection_info()"
   ]
  },
  {
   "cell_type": "markdown",
   "metadata": {},
   "source": [
    "* other runtime properties of the Server"
   ]
  },
  {
   "cell_type": "code",
   "execution_count": 29,
   "metadata": {
    "execution": {
     "iopub.execute_input": "2023-08-22T12:05:10.269518Z",
     "iopub.status.busy": "2023-08-22T12:05:10.269206Z",
     "iopub.status.idle": "2023-08-22T12:05:10.273836Z",
     "shell.execute_reply": "2023-08-22T12:05:10.273157Z"
    }
   },
   "outputs": [
    {
     "data": {
      "text/plain": [
       "True"
      ]
     },
     "execution_count": 29,
     "metadata": {},
     "output_type": "execute_result"
    }
   ],
   "source": [
    "sc.server.has_booted"
   ]
  },
  {
   "cell_type": "code",
   "execution_count": 30,
   "metadata": {
    "execution": {
     "iopub.execute_input": "2023-08-22T12:05:10.277113Z",
     "iopub.status.busy": "2023-08-22T12:05:10.276824Z",
     "iopub.status.idle": "2023-08-22T12:05:10.281302Z",
     "shell.execute_reply": "2023-08-22T12:05:10.280626Z"
    }
   },
   "outputs": [
    {
     "data": {
      "text/plain": [
       "True"
      ]
     },
     "execution_count": 30,
     "metadata": {},
     "output_type": "execute_result"
    }
   ],
   "source": [
    "sc.server.is_running"
   ]
  },
  {
   "cell_type": "code",
   "execution_count": 31,
   "metadata": {
    "execution": {
     "iopub.execute_input": "2023-08-22T12:05:10.285035Z",
     "iopub.status.busy": "2023-08-22T12:05:10.284735Z",
     "iopub.status.idle": "2023-08-22T12:05:10.289291Z",
     "shell.execute_reply": "2023-08-22T12:05:10.288685Z"
    }
   },
   "outputs": [
    {
     "data": {
      "text/plain": [
       "1"
      ]
     },
     "execution_count": 31,
     "metadata": {},
     "output_type": "execute_result"
    }
   ],
   "source": [
    "sc.server.client_id"
   ]
  },
  {
   "cell_type": "code",
   "execution_count": 32,
   "metadata": {
    "execution": {
     "iopub.execute_input": "2023-08-22T12:05:10.292825Z",
     "iopub.status.busy": "2023-08-22T12:05:10.292501Z",
     "iopub.status.idle": "2023-08-22T12:05:10.297130Z",
     "shell.execute_reply": "2023-08-22T12:05:10.296444Z"
    }
   },
   "outputs": [
    {
     "data": {
      "text/plain": [
       "8"
      ]
     },
     "execution_count": 32,
     "metadata": {},
     "output_type": "execute_result"
    }
   ],
   "source": [
    "sc.server.max_logins"
   ]
  },
  {
   "cell_type": "code",
   "execution_count": 33,
   "metadata": {
    "execution": {
     "iopub.execute_input": "2023-08-22T12:05:10.300878Z",
     "iopub.status.busy": "2023-08-22T12:05:10.300578Z",
     "iopub.status.idle": "2023-08-22T12:05:10.305028Z",
     "shell.execute_reply": "2023-08-22T12:05:10.304375Z"
    }
   },
   "outputs": [
    {
     "data": {
      "text/plain": [
       "Group(67108865) s {} children=[]"
      ]
     },
     "execution_count": 33,
     "metadata": {},
     "output_type": "execute_result"
    }
   ],
   "source": [
    "sc.server.default_group"
   ]
  },
  {
   "cell_type": "code",
   "execution_count": 34,
   "metadata": {
    "execution": {
     "iopub.execute_input": "2023-08-22T12:05:10.308743Z",
     "iopub.status.busy": "2023-08-22T12:05:10.308440Z",
     "iopub.status.idle": "2023-08-22T12:05:10.313575Z",
     "shell.execute_reply": "2023-08-22T12:05:10.312891Z"
    }
   },
   "outputs": [
    {
     "data": {
      "text/plain": [
       "Bus(rate='audio', ids=[0, 1])"
      ]
     },
     "execution_count": 34,
     "metadata": {},
     "output_type": "execute_result"
    }
   ],
   "source": [
    "sc.server.output_bus"
   ]
  },
  {
   "cell_type": "code",
   "execution_count": 35,
   "metadata": {
    "execution": {
     "iopub.execute_input": "2023-08-22T12:05:10.317647Z",
     "iopub.status.busy": "2023-08-22T12:05:10.317318Z",
     "iopub.status.idle": "2023-08-22T12:05:10.321980Z",
     "shell.execute_reply": "2023-08-22T12:05:10.321284Z"
    }
   },
   "outputs": [
    {
     "data": {
      "text/plain": [
       "Bus(rate='audio', ids=[2, 3])"
      ]
     },
     "execution_count": 35,
     "metadata": {},
     "output_type": "execute_result"
    }
   ],
   "source": [
    "sc.server.input_bus"
   ]
  },
  {
   "cell_type": "markdown",
   "metadata": {},
   "source": [
    "## Controlling Volume"
   ]
  },
  {
   "cell_type": "code",
   "execution_count": 36,
   "metadata": {
    "execution": {
     "iopub.execute_input": "2023-08-22T12:05:10.326047Z",
     "iopub.status.busy": "2023-08-22T12:05:10.325643Z",
     "iopub.status.idle": "2023-08-22T12:05:10.329801Z",
     "shell.execute_reply": "2023-08-22T12:05:10.329041Z"
    }
   },
   "outputs": [],
   "source": [
    "syn = scn.Synth(\"s2\")"
   ]
  },
  {
   "cell_type": "code",
   "execution_count": 37,
   "metadata": {
    "execution": {
     "iopub.execute_input": "2023-08-22T12:05:10.334017Z",
     "iopub.status.busy": "2023-08-22T12:05:10.333668Z",
     "iopub.status.idle": "2023-08-22T12:05:10.338835Z",
     "shell.execute_reply": "2023-08-22T12:05:10.337915Z"
    }
   },
   "outputs": [
    {
     "data": {
      "text/plain": [
       "0.0"
      ]
     },
     "execution_count": 37,
     "metadata": {},
     "output_type": "execute_result"
    }
   ],
   "source": [
    "sc.server.volume"
   ]
  },
  {
   "cell_type": "code",
   "execution_count": 38,
   "metadata": {
    "execution": {
     "iopub.execute_input": "2023-08-22T12:05:10.342778Z",
     "iopub.status.busy": "2023-08-22T12:05:10.342449Z",
     "iopub.status.idle": "2023-08-22T12:05:10.347776Z",
     "shell.execute_reply": "2023-08-22T12:05:10.346924Z"
    }
   },
   "outputs": [
    {
     "data": {
      "text/plain": [
       "1.0"
      ]
     },
     "execution_count": 38,
     "metadata": {},
     "output_type": "execute_result"
    }
   ],
   "source": [
    "scn.dbamp(sc.server.volume)"
   ]
  },
  {
   "cell_type": "code",
   "execution_count": 39,
   "metadata": {
    "execution": {
     "iopub.execute_input": "2023-08-22T12:05:10.352102Z",
     "iopub.status.busy": "2023-08-22T12:05:10.351754Z",
     "iopub.status.idle": "2023-08-22T12:05:10.356707Z",
     "shell.execute_reply": "2023-08-22T12:05:10.355707Z"
    }
   },
   "outputs": [
    {
     "data": {
      "text/plain": [
       "False"
      ]
     },
     "execution_count": 39,
     "metadata": {},
     "output_type": "execute_result"
    }
   ],
   "source": [
    "sc.server.muted"
   ]
  },
  {
   "cell_type": "code",
   "execution_count": 40,
   "metadata": {
    "execution": {
     "iopub.execute_input": "2023-08-22T12:05:10.360500Z",
     "iopub.status.busy": "2023-08-22T12:05:10.360192Z",
     "iopub.status.idle": "2023-08-22T12:05:10.377056Z",
     "shell.execute_reply": "2023-08-22T12:05:10.376302Z"
    }
   },
   "outputs": [],
   "source": [
    "sc.server.muted = True"
   ]
  },
  {
   "cell_type": "code",
   "execution_count": 41,
   "metadata": {
    "execution": {
     "iopub.execute_input": "2023-08-22T12:05:10.380928Z",
     "iopub.status.busy": "2023-08-22T12:05:10.380551Z",
     "iopub.status.idle": "2023-08-22T12:05:10.385246Z",
     "shell.execute_reply": "2023-08-22T12:05:10.384355Z"
    }
   },
   "outputs": [],
   "source": [
    "sc.server.volume = -10.0"
   ]
  },
  {
   "cell_type": "code",
   "execution_count": 42,
   "metadata": {
    "execution": {
     "iopub.execute_input": "2023-08-22T12:05:10.388947Z",
     "iopub.status.busy": "2023-08-22T12:05:10.388576Z",
     "iopub.status.idle": "2023-08-22T12:05:10.393924Z",
     "shell.execute_reply": "2023-08-22T12:05:10.393165Z"
    }
   },
   "outputs": [
    {
     "data": {
      "text/plain": [
       "0.31622776601683794"
      ]
     },
     "execution_count": 42,
     "metadata": {},
     "output_type": "execute_result"
    }
   ],
   "source": [
    "scn.dbamp(sc.server.volume)"
   ]
  },
  {
   "cell_type": "code",
   "execution_count": 43,
   "metadata": {
    "execution": {
     "iopub.execute_input": "2023-08-22T12:05:10.397603Z",
     "iopub.status.busy": "2023-08-22T12:05:10.397183Z",
     "iopub.status.idle": "2023-08-22T12:05:10.401292Z",
     "shell.execute_reply": "2023-08-22T12:05:10.400563Z"
    }
   },
   "outputs": [],
   "source": [
    "sc.server.muted = False"
   ]
  },
  {
   "cell_type": "code",
   "execution_count": 44,
   "metadata": {
    "execution": {
     "iopub.execute_input": "2023-08-22T12:05:10.404984Z",
     "iopub.status.busy": "2023-08-22T12:05:10.404668Z",
     "iopub.status.idle": "2023-08-22T12:05:10.408651Z",
     "shell.execute_reply": "2023-08-22T12:05:10.407870Z"
    }
   },
   "outputs": [],
   "source": [
    "sc.server.volume = 0.0"
   ]
  },
  {
   "cell_type": "code",
   "execution_count": 45,
   "metadata": {
    "execution": {
     "iopub.execute_input": "2023-08-22T12:05:10.412230Z",
     "iopub.status.busy": "2023-08-22T12:05:10.411918Z",
     "iopub.status.idle": "2023-08-22T12:05:10.417013Z",
     "shell.execute_reply": "2023-08-22T12:05:10.416027Z"
    }
   },
   "outputs": [
    {
     "data": {
      "text/plain": [
       "1.0"
      ]
     },
     "execution_count": 45,
     "metadata": {},
     "output_type": "execute_result"
    }
   ],
   "source": [
    "scn.dbamp(sc.server.volume)"
   ]
  },
  {
   "cell_type": "code",
   "execution_count": 46,
   "metadata": {
    "execution": {
     "iopub.execute_input": "2023-08-22T12:05:10.420625Z",
     "iopub.status.busy": "2023-08-22T12:05:10.420292Z",
     "iopub.status.idle": "2023-08-22T12:05:10.433523Z",
     "shell.execute_reply": "2023-08-22T12:05:10.432489Z"
    }
   },
   "outputs": [],
   "source": [
    "syn.free()\n",
    "syn.wait(timeout=1)"
   ]
  },
  {
   "cell_type": "markdown",
   "metadata": {},
   "source": [
    "## Server dumps\n",
    "\n",
    "The Server process can dump information about"
   ]
  },
  {
   "cell_type": "markdown",
   "metadata": {},
   "source": [
    "* incoming OSC packages. See console for output"
   ]
  },
  {
   "cell_type": "code",
   "execution_count": 47,
   "metadata": {
    "execution": {
     "iopub.execute_input": "2023-08-22T12:05:10.437560Z",
     "iopub.status.busy": "2023-08-22T12:05:10.437230Z",
     "iopub.status.idle": "2023-08-22T12:05:10.441529Z",
     "shell.execute_reply": "2023-08-22T12:05:10.440684Z"
    }
   },
   "outputs": [],
   "source": [
    "sc.server.dump_osc() # specify level=0 to deactivate"
   ]
  },
  {
   "cell_type": "markdown",
   "metadata": {},
   "source": [
    "* currently running Nodes "
   ]
  },
  {
   "cell_type": "code",
   "execution_count": 48,
   "metadata": {
    "execution": {
     "iopub.execute_input": "2023-08-22T12:05:10.445521Z",
     "iopub.status.busy": "2023-08-22T12:05:10.445182Z",
     "iopub.status.idle": "2023-08-22T12:05:10.475231Z",
     "shell.execute_reply": "2023-08-22T12:05:10.473999Z"
    }
   },
   "outputs": [
    {
     "name": "stdout",
     "output_type": "stream",
     "text": [
      "[scsynth]  [ \"/g_dumpTree\", 0, 1 ]\n",
      "[scsynth]  NODE TREE Group 0\n",
      "[scsynth]     -24 s1\n",
      "[scsynth]       freq: 1000 amp: 0.050000000745058 num: 2 pan: 0 dur: 0.10000000149012 att: 0 curve: 42\n",
      "[scsynth]     469762049 group\n",
      "[scsynth]     402653185 group\n",
      "[scsynth]     335544321 group\n",
      "[scsynth]     268435457 group\n",
      "[scsynth]     201326593 group\n",
      "[scsynth]     134217729 group\n",
      "[scsynth]     67108865 group\n",
      "[scsynth]     20002 sc3nb_volumeAmpControl2\n",
      "[scsynth]       volumeAmp: 0.31622776389122 volumeLag: 0.10000000149012 gate: 0 bus: 0\n",
      "[scsynth]     1 group\n"
     ]
    },
    {
     "name": "stdout",
     "output_type": "stream",
     "text": [
      "[ \"/g_dumpTree\", 0, 1 ]\n",
      "NODE TREE Group 0\n",
      "   -24 s1\n",
      "     freq: 1000 amp: 0.050000000745058 num: 2 pan: 0 dur: 0.10000000149012 att: 0 curve: 42\n",
      "   469762049 group\n",
      "   402653185 group\n",
      "   335544321 group\n",
      "   268435457 group\n",
      "   201326593 group\n",
      "   134217729 group\n",
      "   67108865 group\n",
      "   20002 sc3nb_volumeAmpControl2\n",
      "     volumeAmp: 0.31622776389122 volumeLag: 0.10000000149012 gate: 0 bus: 0\n",
      "   1 group\n"
     ]
    }
   ],
   "source": [
    "sc.server.dump_tree()  # Notice how the OSC packet is now included in the output "
   ]
  },
  {
   "cell_type": "code",
   "execution_count": 49,
   "metadata": {
    "execution": {
     "iopub.execute_input": "2023-08-22T12:05:10.479159Z",
     "iopub.status.busy": "2023-08-22T12:05:10.478767Z",
     "iopub.status.idle": "2023-08-22T12:05:10.485418Z",
     "shell.execute_reply": "2023-08-22T12:05:10.484250Z"
    }
   },
   "outputs": [
    {
     "name": "stdout",
     "output_type": "stream",
     "text": [
      "[scsynth]  [ \"#bundle\", 16757651181134434304, \n",
      "[scsynth]    [ \"#bundle\", 16757651181134434304, \n",
      "[scsynth]      [ \"/error\", 0 ]\n",
      "[scsynth]    ],\n"
     ]
    },
    {
     "name": "stdout",
     "output_type": "stream",
     "text": [
      "[scsynth]    [ \"#bundle\", 16757651181134434304, \n",
      "[scsynth]      [ \"/s_new\", \"s1\", -1, 0, 0, \"freq\", 500, \"dur\", 0.1, \"num\", 1 ]\n",
      "[scsynth]    ],\n",
      "[scsynth]    [ \"#bundle\", 16757651181993428992, \n",
      "[scsynth]      [ \"/s_new\", \"s1\", -1, 0, 0, \"freq\", 1000, \"amp\", 0.05, \"num\", 2, \"att\", 0, \"dur\", 0.1, \"curve\", 42 ]\n",
      "[scsynth]    ],\n",
      "[scsynth]    [ \"#bundle\", 16757651181993428992, \n",
      "[scsynth]      [ \"/error\", 1 ]\n",
      "[scsynth]    ]\n",
      "[scsynth]  ]\n"
     ]
    }
   ],
   "source": [
    "sc.server.blip() # see dumped bundle for test sound on console"
   ]
  },
  {
   "cell_type": "markdown",
   "metadata": {},
   "source": [
    "## Make a test sound\n",
    "\n",
    "The following methods produces the `SCServer` startup sound.\n",
    "The test sound should ease any anxiety whether the server is properly started/running"
   ]
  },
  {
   "cell_type": "code",
   "execution_count": 50,
   "metadata": {
    "execution": {
     "iopub.execute_input": "2023-08-22T12:05:10.491110Z",
     "iopub.status.busy": "2023-08-22T12:05:10.490780Z",
     "iopub.status.idle": "2023-08-22T12:05:10.496337Z",
     "shell.execute_reply": "2023-08-22T12:05:10.495552Z"
    }
   },
   "outputs": [
    {
     "name": "stdout",
     "output_type": "stream",
     "text": [
      "[scsynth]  [ \"#bundle\", 16757651181185339392, \n",
      "[scsynth]    [ \"#bundle\", 16757651181185339392, \n",
      "[scsynth]      [ \"/error\", 0 ]\n",
      "[scsynth]    ],\n",
      "[scsynth]    [ \"#bundle\", 16757651181185339392, \n",
      "[scsynth]      [ \"/s_new\", \"s1\", -1, 0, 0, \"freq\", 500, \"dur\", 0.1, \"num\", 1 ]\n",
      "[scsynth]    ],\n",
      "[scsynth]    [ \"#bundle\", 16757651182044332032, \n",
      "[scsynth]      [ \"/s_new\", \"s1\", -1, 0, 0, \"freq\", 1000, \"amp\", 0.05, \"num\", 2, \"att\", 0, \"dur\", 0.1, \"curve\", 42 ]\n",
      "[scsynth]    ],\n",
      "[scsynth]    [ \"#bundle\", 16757651182044332032, \n",
      "[scsynth]      [ \"/error\", 1 ]\n",
      "[scsynth]    ]\n",
      "[scsynth]  ]\n"
     ]
    }
   ],
   "source": [
    "sc.server.blip()"
   ]
  },
  {
   "cell_type": "markdown",
   "metadata": {},
   "source": [
    "## Managing Nodes"
   ]
  },
  {
   "cell_type": "markdown",
   "metadata": {},
   "source": [
    "* freeing all running nodes and reinitialize the server"
   ]
  },
  {
   "cell_type": "code",
   "execution_count": 51,
   "metadata": {
    "execution": {
     "iopub.execute_input": "2023-08-22T12:05:10.500910Z",
     "iopub.status.busy": "2023-08-22T12:05:10.500487Z",
     "iopub.status.idle": "2023-08-22T12:05:10.572790Z",
     "shell.execute_reply": "2023-08-22T12:05:10.571967Z"
    }
   },
   "outputs": [
    {
     "name": "stdout",
     "output_type": "stream",
     "text": [
      "[scsynth]  [ \"/g_freeAll\", 0 ]\n",
      "[scsynth]  [ \"/clearSched\", ]\n",
      "[scsynth]  [ \"/g_new\", 1, 0, 0 ]\n",
      "[scsynth]  [ \"/g_new\", 67108865, 0, 0 ]\n",
      "[scsynth]  [ \"/g_new\", 134217729, 0, 0 ]\n",
      "[scsynth]  [ \"/g_new\", 201326593, 0, 0 ]\n",
      "[scsynth]  [ \"/g_new\", 268435457, 0, 0 ]\n",
      "[scsynth]  [ \"/g_new\", 335544321, 0, 0 ]\n",
      "[scsynth]  [ \"/g_new\", 402653185, 0, 0 ]\n",
      "[scsynth]  [ \"/g_new\", 469762049, 0, 0 ]\n",
      "[scsynth]  [ \"/g_new\", 1, 0, 0 ]\n",
      "[scsynth]  [ \"#bundle\", 1, \n",
      "[scsynth]    [ \"/sync\", 1007 ]\n",
      "[scsynth]  ]\n",
      "[scsynth]  [ \"/d_recv\", DATA[396] ]\n",
      "[scsynth]  [ \"#bundle\", 1, \n",
      "[scsynth]    [ \"/sync\", 1008 ]\n",
      "[scsynth]  ]\n",
      "[scsynth]  [ \"/sync\", 5816 ]\n"
     ]
    }
   ],
   "source": [
    "sc.server.free_all()"
   ]
  },
  {
   "cell_type": "code",
   "execution_count": 52,
   "metadata": {
    "execution": {
     "iopub.execute_input": "2023-08-22T12:05:10.577277Z",
     "iopub.status.busy": "2023-08-22T12:05:10.576684Z",
     "iopub.status.idle": "2023-08-22T12:05:10.656248Z",
     "shell.execute_reply": "2023-08-22T12:05:10.653595Z"
    }
   },
   "outputs": [
    {
     "name": "stdout",
     "output_type": "stream",
     "text": [
      "[scsynth]  [ \"/g_freeAll\", 67108865 ]\n",
      "[scsynth]  [ \"/clearSched\", ]\n",
      "[scsynth]  [ \"/g_new\", 67108865, 0, 0 ]\n",
      "[scsynth]  [ \"/g_new\", 1, 0, 0 ]\n",
      "[scsynth]  [ \"#bundle\", 1, \n",
      "[scsynth]    [ \"/sync\", 1009 ]\n",
      "[scsynth]  ]\n",
      "[scsynth]  [ \"/notify\", 1, 0 ]\n",
      "[scsynth]  [ \"#bundle\", 1, \n",
      "[scsynth]    [ \"/sync\", 1010 ]\n",
      "[scsynth]  ]\n",
      "[scsynth]  [ \"/d_recv\", DATA[3037], 0 ]\n",
      "[scsynth]  [ \"/d_recv\", DATA[1220], 0 ]\n",
      "[scsynth]  [ \"/d_recv\", DATA[1285], 0 ]\n",
      "[scsynth]  [ \"/d_recv\", DATA[396] ]\n",
      "[scsynth]  [ \"/d_recv\", DATA[1120], 0 ]\n",
      "[scsynth]  [ \"/d_recv\", DATA[2192], 0 ]\n",
      "[scsynth]  [ \"/d_recv\", DATA[1135], 0 ]\n",
      "[scsynth]  [ \"/d_recv\", DATA[190], 0 ]\n",
      "[scsynth]  [ \"/d_recv\", DATA[1684], 0 ]\n",
      "[scsynth]  [ \"/d_recv\", DATA[254], 0 ]\n",
      "[scsynth]  [ \"/d_recv\", DATA[1685], 0 ]\n",
      "[scsynth]  [ \"/d_recv\", DATA[1385], 0 ]\n",
      "[scsynth]  [ \"/d_recv\", DATA[2290], 0 ]\n",
      "[scsynth]  [ \"/d_recv\", DATA[1851], 0 ]\n",
      "[scsynth]  [ \"/d_recv\", DATA[469], 0 ]\n",
      "[scsynth]  [ \"/d_recv\", DATA[1444], 0 ]\n",
      "[scsynth]  [ \"/d_recv\", DATA[619], 0 ]\n",
      "[scsynth]  [ \"/d_recv\", DATA[1277], 0 ]\n",
      "[scsynth]  [ \"/d_recv\", DATA[1117], 0 ]\n",
      "[scsynth]  [ \"/d_recv\", DATA[1020], 0 ]\n",
      "[scsynth]  [ \"/d_recv\", DATA[670], 0 ]\n",
      "[scsynth]  [ \"/d_recv\", DATA[1103], 0 ]\n",
      "[scsynth]  [ \"/d_recv\", DATA[869], 0 ]\n",
      "[scsynth]  [ \"/d_recv\", DATA[163], 0 ]\n",
      "[scsynth]  [ \"/d_recv\", DATA[684], 0 ]\n",
      "[scsynth]  [ \"/d_recv\", DATA[217], 0 ]\n",
      "[scsynth]  [ \"/d_recv\", DATA[299], 0 ]\n",
      "[scsynth]  [ \"/d_recv\", DATA[719], 0 ]\n",
      "[scsynth]  [ \"/sync\", 1494 ]\n",
      "[scsynth]  [ \"/d_recv\", DATA[1339], 0 ]\n",
      "[scsynth]  [ \"/d_recv\", DATA[884], 0 ]\n",
      "[scsynth]  [ \"/d_recv\", DATA[688], 0 ]\n",
      "[scsynth]  [ \"/d_recv\", DATA[172], 0 ]\n",
      "[scsynth]  [ \"/d_recv\", DATA[569], 0 ]\n",
      "[scsynth]  [ \"/d_recv\", DATA[181], 0 ]\n",
      "[scsynth]  [ \"/d_recv\", DATA[1055], 0 ]\n",
      "[scsynth]  [ \"/d_recv\", DATA[984], 0 ]\n",
      "[scsynth]  [ \"/d_recv\", DATA[599], 0 ]\n",
      "[scsynth]  [ \"/d_recv\", DATA[290], 0 ]\n",
      "[scsynth]  [ \"/d_recv\", DATA[226], 0 ]\n",
      "[scsynth]  [ \"/d_recv\", DATA[2699], 0 ]\n",
      "[scsynth]  [ \"/d_recv\", DATA[1346], 0 ]\n",
      "[scsynth]  [ \"/d_recv\", DATA[920], 0 ]\n",
      "[scsynth]  [ \"/d_recv\", DATA[1519], 0 ]\n",
      "[scsynth]  [ \"/d_recv\", DATA[784], 0 ]\n",
      "[scsynth]  [ \"/d_recv\", DATA[839], 0 ]\n",
      "[scsynth]  [ \"/d_recv\", DATA[819], 0 ]\n",
      "[scsynth]  [ \"/d_recv\", DATA[272], 0 ]\n",
      "[scsynth]  [ \"/d_recv\", DATA[634], 0 ]\n",
      "[scsynth]  [ \"/d_recv\", DATA[1070], 0 ]\n",
      "[scsynth]  [ \"/d_recv\", DATA[937], 0 ]\n",
      "[scsynth]  [ \"/d_recv\", DATA[1269], 0 ]\n",
      "[scsynth]  [ \"/d_recv\", DATA[771], 0 ]\n",
      "[scsynth]  [ \"/d_recv\", DATA[1085], 0 ]\n",
      "[scsynth]  [ \"/d_recv\", DATA[1020], 0 ]\n",
      "[scsynth]  [ \"/d_recv\", DATA[1185], 0 ]\n",
      "[scsynth]  [ \"/d_recv\", DATA[199], 0 ]\n"
     ]
    },
    {
     "name": "stdout",
     "output_type": "stream",
     "text": [
      "[scsynth]  [ \"/d_recv\", DATA[2797], 0 ]\n",
      "[scsynth]  [ \"/d_recv\", DATA[1275], 0 ]\n",
      "[scsynth]  [ \"/d_recv\", DATA[1436], 0 ]\n"
     ]
    },
    {
     "name": "stdout",
     "output_type": "stream",
     "text": [
      "[scsynth]  [ \"/d_recv\", DATA[1235], 0 ]\n"
     ]
    }
   ],
   "source": [
    "sc.server.free_all(root=False)  # only frees the default group of this client"
   ]
  },
  {
   "cell_type": "markdown",
   "metadata": {},
   "source": [
    "* send the `/clearSched` OSC command. This is automatically done when using `free_all`"
   ]
  },
  {
   "cell_type": "code",
   "execution_count": 53,
   "metadata": {
    "execution": {
     "iopub.execute_input": "2023-08-22T12:05:10.662274Z",
     "iopub.status.busy": "2023-08-22T12:05:10.661728Z",
     "iopub.status.idle": "2023-08-22T12:05:10.670078Z",
     "shell.execute_reply": "2023-08-22T12:05:10.667689Z"
    }
   },
   "outputs": [
    {
     "name": "stdout",
     "output_type": "stream",
     "text": [
      "[scsynth]  [ \"/d_recv\", DATA[2459], 0 ]\n",
      "[scsynth]  [ \"/d_recv\", DATA[1613], 0 ]\n",
      "[scsynth]  [ \"/d_recv\", DATA[1335], 0 ]\n",
      "[scsynth]  [ \"/d_recv\", DATA[1515], 0 ]\n",
      "[scsynth]  [ \"/d_recv\", DATA[1170], 0 ]\n",
      "[scsynth]  [ \"/d_recv\", DATA[2361], 0 ]\n",
      "[scsynth]  [ \"/d_recv\", DATA[1339], 0 ]\n",
      "[scsynth]  [ \"/d_recv\", DATA[1782], 0 ]\n",
      "[scsynth]  [ \"/clearSched\", ]\n",
      "[scsynth]  [ \"/d_recv\", DATA[937], 0 ]\n"
     ]
    },
    {
     "name": "stdout",
     "output_type": "stream",
     "text": [
      "[scsynth]  [ \"/d_recv\", DATA[1186], 0 ]\n",
      "[scsynth]  [ \"/d_recv\", DATA[208], 0 ]\n",
      "[scsynth]  [ \"/d_recv\", DATA[669], 0 ]\n",
      "[scsynth]  [ \"/d_recv\", DATA[1353], 0 ]\n",
      "[scsynth]  [ \"/d_recv\", DATA[501], 0 ]\n"
     ]
    }
   ],
   "source": [
    "sc.server.clear_schedule()"
   ]
  },
  {
   "cell_type": "markdown",
   "metadata": {},
   "source": [
    "* Execute init hooks. This is also automatically done when using `free_all`, `init` or `connect_sclang`"
   ]
  },
  {
   "cell_type": "code",
   "execution_count": 54,
   "metadata": {
    "execution": {
     "iopub.execute_input": "2023-08-22T12:05:10.677742Z",
     "iopub.status.busy": "2023-08-22T12:05:10.676717Z",
     "iopub.status.idle": "2023-08-22T12:05:10.748532Z",
     "shell.execute_reply": "2023-08-22T12:05:10.747637Z"
    }
   },
   "outputs": [
    {
     "name": "stdout",
     "output_type": "stream",
     "text": [
      "[scsynth]  [ \"/d_recv\", DATA[2868], 0 ]\n",
      "[scsynth]  [ \"/d_recv\", DATA[263], 0 ]\n",
      "[scsynth]  [ \"/d_recv\", DATA[605], 0 ]\n",
      "[scsynth]  [ \"/d_recv\", DATA[1034], 0 ]\n",
      "[scsynth]  [ \"/d_recv\", DATA[519], 0 ]\n",
      "[scsynth]  [ \"/d_recv\", DATA[1853], 0 ]\n",
      "[scsynth]  [ \"/d_recv\", DATA[1952], 0 ]\n",
      "[scsynth]  [ \"/d_recv\", DATA[281], 0 ]\n",
      "[scsynth]  [ \"/d_recv\", DATA[1117], 0 ]\n",
      "[scsynth]  [ \"/d_recv\", DATA[2023], 0 ]\n",
      "[scsynth]  [ \"/d_recv\", DATA[1055], 0 ]\n"
     ]
    },
    {
     "name": "stdout",
     "output_type": "stream",
     "text": [
      "[scsynth]  [ \"/d_recv\", DATA[964], 0 ]\n"
     ]
    },
    {
     "name": "stdout",
     "output_type": "stream",
     "text": [
      "[scsynth]  [ \"/d_recv\", DATA[934], 0 ]\n",
      "[scsynth]  [ \"/d_recv\", DATA[1106], 0 ]\n",
      "[scsynth]  [ \"/d_recv\", DATA[430], 0 ]\n",
      "[scsynth]  [ \"/d_recv\", DATA[734], 0 ]\n",
      "[scsynth]  [ \"/d_recv\", DATA[970], 0 ]\n",
      "[scsynth]  [ \"/d_recv\", DATA[768], 0 ]\n",
      "[scsynth]  [ \"/d_recv\", DATA[235], 0 ]\n",
      "[scsynth]  [ \"/d_recv\", DATA[834], 0 ]\n",
      "[scsynth]  [ \"/d_recv\", DATA[2628], 0 ]\n",
      "[scsynth]  [ \"/d_recv\", DATA[1768], 0 ]\n",
      "[scsynth]  [ \"/d_recv\", DATA[2966], 0 ]\n",
      "[scsynth]  [ \"/d_recv\", DATA[854], 0 ]\n",
      "[scsynth]  [ \"/d_recv\", DATA[1008], 0 ]\n"
     ]
    },
    {
     "name": "stdout",
     "output_type": "stream",
     "text": [
      "[scsynth]  [ \"/d_recv\", DATA[2530], 0 ]\n",
      "[scsynth]  [ \"/d_recv\", DATA[245], 0 ]\n",
      "[scsynth]  [ \"/d_recv\", DATA[1177], 0 ]\n",
      "[scsynth]  [ \"/d_recv\", DATA[1602], 0 ]\n",
      "[scsynth]  [ \"/d_recv\", DATA[1277], 0 ]\n",
      "[scsynth]  [ \"/d_recv\", DATA[396], 0 ]\n",
      "[scsynth]  [ \"#bundle\", 1, \n",
      "[scsynth]    [ \"/sync\", 1011 ]\n",
      "[scsynth]  ]\n",
      "[scsynth]  [ \"/d_recv\", DATA[390], 0 ]\n",
      "[scsynth]  [ \"#bundle\", 1, \n",
      "[scsynth]    [ \"/sync\", 1012 ]\n",
      "[scsynth]  ]\n",
      "[scsynth]  [ \"/g_new\", 1, 0, 0 ]\n",
      "[scsynth]  [ \"/g_new\", 67108865, 0, 0 ]\n",
      "[scsynth]  [ \"/g_new\", 134217729, 0, 0 ]\n",
      "[scsynth]  [ \"/g_new\", 201326593, 0, 0 ]\n",
      "[scsynth]  [ \"/g_new\", 268435457, 0, 0 ]\n",
      "[scsynth]  [ \"/g_new\", 335544321, 0, 0 ]\n",
      "[scsynth]  [ \"/g_new\", 402653185, 0, 0 ]\n",
      "[scsynth]  [ \"/g_new\", 469762049, 0, 0 ]\n",
      "[scsynth]  [ \"#bundle\", 1, \n",
      "[scsynth]    [ \"/sync\", 1013 ]\n",
      "[scsynth]  ]\n"
     ]
    },
    {
     "name": "stdout",
     "output_type": "stream",
     "text": [
      "[scsynth]  [ \"/g_new\", 1, 0, 0 ]\n",
      "[scsynth]  [ \"/g_new\", 67108865, 0, 0 ]\n",
      "[scsynth]  [ \"/g_new\", 134217729, 0, 0 ]\n",
      "[scsynth]  [ \"/g_new\", 201326593, 0, 0 ]\n",
      "[scsynth]  [ \"/g_new\", 268435457, 0, 0 ]\n",
      "[scsynth]  [ \"/g_new\", 335544321, 0, 0 ]\n",
      "[scsynth]  [ \"/g_new\", 402653185, 0, 0 ]\n",
      "[scsynth]  [ \"/g_new\", 469762049, 0, 0 ]\n",
      "[scsynth]  [ \"#bundle\", 1, \n",
      "[scsynth]    [ \"/sync\", 1014 ]\n",
      "[scsynth]  ]\n",
      "[scsynth]  [ \"#bundle\", 1, \n",
      "[scsynth]    [ \"/sync\", 1015 ]\n",
      "[scsynth]  ]\n",
      "[scsynth]  [ \"/d_recv\", DATA[396] ]\n",
      "[scsynth]  [ \"#bundle\", 1, \n",
      "[scsynth]    [ \"/sync\", 1016 ]\n",
      "[scsynth]  ]\n"
     ]
    }
   ],
   "source": [
    "sc.server.execute_init_hooks()"
   ]
  },
  {
   "cell_type": "markdown",
   "metadata": {},
   "source": [
    "* Adding init hooks. "
   ]
  },
  {
   "cell_type": "code",
   "execution_count": 55,
   "metadata": {
    "execution": {
     "iopub.execute_input": "2023-08-22T12:05:10.753726Z",
     "iopub.status.busy": "2023-08-22T12:05:10.753296Z",
     "iopub.status.idle": "2023-08-22T12:05:10.758839Z",
     "shell.execute_reply": "2023-08-22T12:05:10.758088Z"
    }
   },
   "outputs": [
    {
     "data": {
      "text/plain": [
       "<bound method SCServer.send_default_groups of <SCServer addr=('127.0.0.1', 57110), process=<Process 'scsynth' (running) pid=12807>>>"
      ]
     },
     "execution_count": 55,
     "metadata": {},
     "output_type": "execute_result"
    }
   ],
   "source": [
    "sc.server.send_default_groups"
   ]
  },
  {
   "cell_type": "markdown",
   "metadata": {},
   "source": [
    "* Syncing the SuperCollider audio server by sending a `/sync` OSC command and waiting for the reply."
   ]
  },
  {
   "cell_type": "code",
   "execution_count": 56,
   "metadata": {
    "execution": {
     "iopub.execute_input": "2023-08-22T12:05:10.762441Z",
     "iopub.status.busy": "2023-08-22T12:05:10.762137Z",
     "iopub.status.idle": "2023-08-22T12:05:10.783995Z",
     "shell.execute_reply": "2023-08-22T12:05:10.783087Z"
    }
   },
   "outputs": [
    {
     "name": "stdout",
     "output_type": "stream",
     "text": [
      "[scsynth]  [ \"/sync\", 7963 ]\n"
     ]
    },
    {
     "data": {
      "text/plain": [
       "True"
      ]
     },
     "execution_count": 56,
     "metadata": {},
     "output_type": "execute_result"
    }
   ],
   "source": [
    "sc.server.sync()"
   ]
  },
  {
   "cell_type": "markdown",
   "metadata": {},
   "source": [
    "## Allocating IDs"
   ]
  },
  {
   "cell_type": "markdown",
   "metadata": {},
   "source": [
    "The `SCServer` instance manages the IDs for Nodes, Buffers and Buses for the SuperCollider Objects via the following methods.\n",
    "These can also be used for getting suitable IDs when manually creating OSC packages."
   ]
  },
  {
   "cell_type": "markdown",
   "metadata": {},
   "source": [
    "* Get the IDs via the allocator."
   ]
  },
  {
   "cell_type": "code",
   "execution_count": 57,
   "metadata": {
    "execution": {
     "iopub.execute_input": "2023-08-22T12:05:10.788425Z",
     "iopub.status.busy": "2023-08-22T12:05:10.787951Z",
     "iopub.status.idle": "2023-08-22T12:05:10.795139Z",
     "shell.execute_reply": "2023-08-22T12:05:10.794395Z"
    }
   },
   "outputs": [
    {
     "data": {
      "text/plain": [
       "[128, 129]"
      ]
     },
     "execution_count": 57,
     "metadata": {},
     "output_type": "execute_result"
    }
   ],
   "source": [
    "ids = sc.server.buffer_ids.allocate(num=2)\n",
    "ids"
   ]
  },
  {
   "cell_type": "markdown",
   "metadata": {},
   "source": [
    "* Free the IDs after usage via the allocator."
   ]
  },
  {
   "cell_type": "code",
   "execution_count": 58,
   "metadata": {
    "execution": {
     "iopub.execute_input": "2023-08-22T12:05:10.799060Z",
     "iopub.status.busy": "2023-08-22T12:05:10.798706Z",
     "iopub.status.idle": "2023-08-22T12:05:10.802799Z",
     "shell.execute_reply": "2023-08-22T12:05:10.801964Z"
    }
   },
   "outputs": [],
   "source": [
    "sc.server.buffer_ids.free(ids)"
   ]
  },
  {
   "cell_type": "markdown",
   "metadata": {},
   "source": [
    "There are allocators for\n",
    "\n",
    "* Nodes - `sc.server.node_ids`\n",
    "* Buffer - `sc.server.buffer_ids`\n",
    "* Buses (Audio and Control) - `sc.server.audio_bus_ids`, `sc.server.control_bus_ids`"
   ]
  },
  {
   "cell_type": "code",
   "execution_count": 59,
   "metadata": {
    "execution": {
     "iopub.execute_input": "2023-08-22T12:05:10.807109Z",
     "iopub.status.busy": "2023-08-22T12:05:10.806761Z",
     "iopub.status.idle": "2023-08-22T12:05:11.207711Z",
     "shell.execute_reply": "2023-08-22T12:05:11.206681Z"
    }
   },
   "outputs": [
    {
     "name": "stdout",
     "output_type": "stream",
     "text": [
      "Quitting SCServer... [scsynth]  [ \"/quit\", ]\n"
     ]
    },
    {
     "name": "stdout",
     "output_type": "stream",
     "text": [
      "[scsynth | reached EOF ]\n",
      "Done.\n",
      "Booting SuperCollider Server... "
     ]
    },
    {
     "name": "stdout",
     "output_type": "stream",
     "text": [
      "[scsynth | start reading ]\n"
     ]
    },
    {
     "name": "stdout",
     "output_type": "stream",
     "text": [
      "[scsynth]  Number of Devices: 2\n",
      "[scsynth]     0 : \"Built-in Microph\"\n",
      "[scsynth]     1 : \"Built-in Output\"\n",
      "[scsynth]  \n",
      "[scsynth]  \"Built-in Microph\" Input Device\n",
      "[scsynth]     Streams: 1\n",
      "[scsynth]        0  channels 2\n",
      "[scsynth]  \n",
      "[scsynth]  \"Built-in Output\" Output Device\n",
      "[scsynth]     Streams: 1\n",
      "[scsynth]        0  channels 2\n",
      "[scsynth]  \n",
      "[scsynth]  SC_AudioDriver: sample rate = 44100.000000, driver's block size = 512\n",
      "[scsynth]  SuperCollider 3 server ready.\n"
     ]
    },
    {
     "name": "stdout",
     "output_type": "stream",
     "text": [
      "Done.\n"
     ]
    }
   ],
   "source": [
    "sc.server.reboot()"
   ]
  },
  {
   "cell_type": "code",
   "execution_count": 60,
   "metadata": {
    "execution": {
     "iopub.execute_input": "2023-08-22T12:05:11.212292Z",
     "iopub.status.busy": "2023-08-22T12:05:11.211928Z",
     "iopub.status.idle": "2023-08-22T12:05:11.241949Z",
     "shell.execute_reply": "2023-08-22T12:05:11.241097Z"
    }
   },
   "outputs": [
    {
     "name": "stdout",
     "output_type": "stream",
     "text": [
      "5 buffers: [128, 129, 130, 131, 132]\n",
      "freed buffers  [128, 129]\n",
      "allocated 4 buffers: [133, 134, 135, 136] -> new numbers to be consecutive\n"
     ]
    },
    {
     "name": "stdout",
     "output_type": "stream",
     "text": [
      "allocated 2 buffers: [128, 129] -> using the two freed before\n"
     ]
    }
   ],
   "source": [
    "# example to see how consecutive buffer alloc works:\n",
    "ids = sc.server.buffer_ids.allocate(num=5)\n",
    "print(\"5 buffers:\", ids)\n",
    "sc.server.buffer_ids.free(ids[0:2])\n",
    "print(\"freed buffers \", ids[0:2])\n",
    "ids4 = sc.server.buffer_ids.allocate(num=4)\n",
    "print(\"allocated 4 buffers:\", ids4, \"-> new numbers to be consecutive\")\n",
    "sc.server.sync()\n",
    "ids2 = sc.server.buffer_ids.allocate(num=2)\n",
    "print(\"allocated 2 buffers:\", ids2, \"-> using the two freed before\")"
   ]
  },
  {
   "cell_type": "markdown",
   "metadata": {},
   "source": [
    "## Handling SynthDefs\n",
    "\n",
    "The server offers the following methods for handling SynthDefs.\n",
    "These are shortcuts for the respective SynthDef methods.\n",
    "\n",
    "```\n",
    "sc.server.send_synthdef\n",
    "sc.server.load_synthdef\n",
    "sc.server.load_synthdefs\n",
    "```\n",
    "Refer to the [SynthDef guide](synthdef-examples.ipynb) for more information about SynthDefs."
   ]
  },
  {
   "cell_type": "code",
   "execution_count": 61,
   "metadata": {
    "execution": {
     "iopub.execute_input": "2023-08-22T12:05:11.246321Z",
     "iopub.status.busy": "2023-08-22T12:05:11.245989Z",
     "iopub.status.idle": "2023-08-22T12:05:11.329578Z",
     "shell.execute_reply": "2023-08-22T12:05:11.328473Z"
    }
   },
   "outputs": [
    {
     "name": "stdout",
     "output_type": "stream",
     "text": [
      "Quitting SCServer... [scsynth | reached EOF ]\n",
      "Done.\n",
      "Exiting sclang... [sclang | reached EOF ]\n",
      "Done.\n"
     ]
    }
   ],
   "source": [
    "sc.exit()"
   ]
  }
 ],
 "metadata": {
  "hide_input": false,
  "language_info": {
   "codemirror_mode": {
    "name": "ipython",
    "version": 3
   },
   "file_extension": ".py",
   "mimetype": "text/x-python",
   "name": "python",
   "nbconvert_exporter": "python",
   "pygments_lexer": "ipython3",
   "version": "3.10.11"
  },
  "toc": {
   "base_numbering": 1,
   "nav_menu": {},
   "number_sections": true,
   "sideBar": true,
   "skip_h1_title": false,
   "title_cell": "Table of Contents",
   "title_sidebar": "Contents",
   "toc_cell": false,
   "toc_position": {},
   "toc_section_display": true,
   "toc_window_display": true
  }
 },
 "nbformat": 4,
 "nbformat_minor": 4
}
