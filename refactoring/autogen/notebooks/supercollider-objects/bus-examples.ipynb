{
 "cells": [
  {
   "cell_type": "markdown",
   "metadata": {},
   "source": [
    "# Bus"
   ]
  },
  {
   "cell_type": "code",
   "execution_count": 1,
   "metadata": {
    "execution": {
     "iopub.execute_input": "2021-06-24T18:47:20.343364Z",
     "iopub.status.busy": "2021-06-24T18:47:20.342363Z",
     "iopub.status.idle": "2021-06-24T18:47:20.522943Z",
     "shell.execute_reply": "2021-06-24T18:47:20.522943Z"
    }
   },
   "outputs": [],
   "source": [
    "import sc3nb as scn"
   ]
  },
  {
   "cell_type": "code",
   "execution_count": 2,
   "metadata": {
    "execution": {
     "iopub.execute_input": "2021-06-24T18:47:20.530942Z",
     "iopub.status.busy": "2021-06-24T18:47:20.530942Z",
     "iopub.status.idle": "2021-06-24T18:47:24.073210Z",
     "shell.execute_reply": "2021-06-24T18:47:24.073210Z"
    }
   },
   "outputs": [
    {
     "data": {
      "application/javascript": [
       "if (typeof Jupyter !== 'undefined') {\n",
       "                        Jupyter.keyboard_manager.command_shortcuts.add_shortcut(\n",
       "                        'Ctrl-.', {\n",
       "                        help : 'Free all nodes on SC server',\n",
       "                        help_index : 'zz',\n",
       "                        handler : function (event) {\n",
       "                            IPython.notebook.kernel.execute(\n",
       "                                \"import sc3nb; sc3nb.SC.get_default().server.free_all(root=True)\"\n",
       "                            )\n",
       "                            return true;}\n",
       "                        });\n",
       "                    }"
      ],
      "text/plain": [
       "<IPython.core.display.Javascript object>"
      ]
     },
     "metadata": {},
     "output_type": "display_data"
    },
    {
     "name": "stdout",
     "output_type": "stream",
     "text": [
      "Starting sclang process... "
     ]
    },
    {
     "name": "stdout",
     "output_type": "stream",
     "text": [
      "Done.\n",
      "Registering OSC /return callback in sclang... Done.\n",
      "Loading default sc3nb SynthDefs... Done.\n",
      "Booting SuperCollider Server... "
     ]
    },
    {
     "name": "stdout",
     "output_type": "stream",
     "text": [
      "Done.\n"
     ]
    }
   ],
   "source": [
    "sc = scn.startup()"
   ]
  },
  {
   "cell_type": "markdown",
   "metadata": {},
   "source": [
    "## Using a Control Bus"
   ]
  },
  {
   "cell_type": "code",
   "execution_count": 3,
   "metadata": {
    "execution": {
     "iopub.execute_input": "2021-06-24T18:47:24.077213Z",
     "iopub.status.busy": "2021-06-24T18:47:24.076213Z",
     "iopub.status.idle": "2021-06-24T18:47:24.079212Z",
     "shell.execute_reply": "2021-06-24T18:47:24.079212Z"
    }
   },
   "outputs": [
    {
     "data": {
      "text/plain": [
       "Bus(rate='control', ids=[512])"
      ]
     },
     "execution_count": 1,
     "metadata": {},
     "output_type": "execute_result"
    }
   ],
   "source": [
    "bus = scn.Bus('control')\n",
    "bus"
   ]
  },
  {
   "cell_type": "code",
   "execution_count": 4,
   "metadata": {
    "execution": {
     "iopub.execute_input": "2021-06-24T18:47:24.082215Z",
     "iopub.status.busy": "2021-06-24T18:47:24.082215Z",
     "iopub.status.idle": "2021-06-24T18:47:24.103237Z",
     "shell.execute_reply": "2021-06-24T18:47:24.103237Z"
    }
   },
   "outputs": [
    {
     "data": {
      "text/plain": [
       "0.0"
      ]
     },
     "execution_count": 1,
     "metadata": {},
     "output_type": "execute_result"
    }
   ],
   "source": [
    "bus.get()"
   ]
  },
  {
   "cell_type": "code",
   "execution_count": 5,
   "metadata": {
    "execution": {
     "iopub.execute_input": "2021-06-24T18:47:24.106236Z",
     "iopub.status.busy": "2021-06-24T18:47:24.105236Z",
     "iopub.status.idle": "2021-06-24T18:47:24.117238Z",
     "shell.execute_reply": "2021-06-24T18:47:24.117238Z"
    }
   },
   "outputs": [],
   "source": [
    "syn = scn.Synth(\"s2\")"
   ]
  },
  {
   "cell_type": "markdown",
   "metadata": {},
   "source": [
    "map the frequency of the synth to the bus value"
   ]
  },
  {
   "cell_type": "code",
   "execution_count": 6,
   "metadata": {
    "execution": {
     "iopub.execute_input": "2021-06-24T18:47:24.121237Z",
     "iopub.status.busy": "2021-06-24T18:47:24.121237Z",
     "iopub.status.idle": "2021-06-24T18:47:24.124238Z",
     "shell.execute_reply": "2021-06-24T18:47:24.124238Z"
    }
   },
   "outputs": [
    {
     "data": {
      "text/plain": [
       "<Synth(20001) 's2' s {}>"
      ]
     },
     "execution_count": 1,
     "metadata": {},
     "output_type": "execute_result"
    }
   ],
   "source": [
    "syn.map(\"freq\", bus)"
   ]
  },
  {
   "cell_type": "code",
   "execution_count": 7,
   "metadata": {
    "execution": {
     "iopub.execute_input": "2021-06-24T18:47:24.128237Z",
     "iopub.status.busy": "2021-06-24T18:47:24.127238Z",
     "iopub.status.idle": "2021-06-24T18:47:24.130237Z",
     "shell.execute_reply": "2021-06-24T18:47:24.130237Z"
    }
   },
   "outputs": [
    {
     "data": {
      "text/plain": [
       "Bus(rate='control', ids=[512])"
      ]
     },
     "execution_count": 1,
     "metadata": {},
     "output_type": "execute_result"
    }
   ],
   "source": [
    "bus.set(120) # changes synths frequency"
   ]
  },
  {
   "cell_type": "code",
   "execution_count": 8,
   "metadata": {
    "execution": {
     "iopub.execute_input": "2021-06-24T18:47:24.133236Z",
     "iopub.status.busy": "2021-06-24T18:47:24.133236Z",
     "iopub.status.idle": "2021-06-24T18:47:24.136236Z",
     "shell.execute_reply": "2021-06-24T18:47:24.136236Z"
    }
   },
   "outputs": [
    {
     "data": {
      "text/plain": [
       "Bus(rate='control', ids=[512])"
      ]
     },
     "execution_count": 1,
     "metadata": {},
     "output_type": "execute_result"
    }
   ],
   "source": [
    "bus.set(440)"
   ]
  },
  {
   "cell_type": "markdown",
   "metadata": {},
   "source": [
    "Set the frequency value to remove the mapping"
   ]
  },
  {
   "cell_type": "code",
   "execution_count": 9,
   "metadata": {
    "execution": {
     "iopub.execute_input": "2021-06-24T18:47:24.140238Z",
     "iopub.status.busy": "2021-06-24T18:47:24.139236Z",
     "iopub.status.idle": "2021-06-24T18:47:24.141236Z",
     "shell.execute_reply": "2021-06-24T18:47:24.141236Z"
    }
   },
   "outputs": [
    {
     "data": {
      "text/plain": [
       "<Synth(20001) 's2' ~ {'freq': 220}>"
      ]
     },
     "execution_count": 1,
     "metadata": {},
     "output_type": "execute_result"
    }
   ],
   "source": [
    "syn.set(\"freq\", 220)"
   ]
  },
  {
   "cell_type": "code",
   "execution_count": 10,
   "metadata": {
    "execution": {
     "iopub.execute_input": "2021-06-24T18:47:24.144236Z",
     "iopub.status.busy": "2021-06-24T18:47:24.144236Z",
     "iopub.status.idle": "2021-06-24T18:47:24.146236Z",
     "shell.execute_reply": "2021-06-24T18:47:24.146236Z"
    }
   },
   "outputs": [
    {
     "data": {
      "text/plain": [
       "Bus(rate='control', ids=[512])"
      ]
     },
     "execution_count": 1,
     "metadata": {},
     "output_type": "execute_result"
    }
   ],
   "source": [
    "bus.set(440)  # no change"
   ]
  },
  {
   "cell_type": "code",
   "execution_count": 11,
   "metadata": {
    "execution": {
     "iopub.execute_input": "2021-06-24T18:47:24.150237Z",
     "iopub.status.busy": "2021-06-24T18:47:24.150237Z",
     "iopub.status.idle": "2021-06-24T18:47:24.153236Z",
     "shell.execute_reply": "2021-06-24T18:47:24.153236Z"
    }
   },
   "outputs": [
    {
     "data": {
      "text/plain": [
       "<Synth(20001) 's2' f {'freq': 220}>"
      ]
     },
     "execution_count": 1,
     "metadata": {},
     "output_type": "execute_result"
    }
   ],
   "source": [
    "syn.free()"
   ]
  },
  {
   "cell_type": "markdown",
   "metadata": {},
   "source": [
    "Free the bus to mark the bus id as available again"
   ]
  },
  {
   "cell_type": "code",
   "execution_count": 12,
   "metadata": {
    "execution": {
     "iopub.execute_input": "2021-06-24T18:47:24.156237Z",
     "iopub.status.busy": "2021-06-24T18:47:24.155236Z",
     "iopub.status.idle": "2021-06-24T18:47:24.157238Z",
     "shell.execute_reply": "2021-06-24T18:47:24.157238Z"
    }
   },
   "outputs": [],
   "source": [
    "bus.free()"
   ]
  },
  {
   "cell_type": "markdown",
   "metadata": {},
   "source": [
    "## Use multiple Control Buses"
   ]
  },
  {
   "cell_type": "code",
   "execution_count": 13,
   "metadata": {
    "execution": {
     "iopub.execute_input": "2021-06-24T18:47:24.160238Z",
     "iopub.status.busy": "2021-06-24T18:47:24.159236Z",
     "iopub.status.idle": "2021-06-24T18:47:24.184236Z",
     "shell.execute_reply": "2021-06-24T18:47:24.184236Z"
    }
   },
   "outputs": [],
   "source": [
    "synth_name = scn.SynthDef(\"busMulti\", \"\"\"{ |out, freqs=#[200, 400], rates=#[1, 2] |\n",
    "    Out.ar(out, Splay.ar(SinOsc.ar(freqs) * Decay2.ar(Impulse.ar(rates), 0.001, 0.1)) * 0.5);\n",
    "}\"\"\").add()"
   ]
  },
  {
   "cell_type": "code",
   "execution_count": 14,
   "metadata": {
    "execution": {
     "iopub.execute_input": "2021-06-24T18:47:24.188236Z",
     "iopub.status.busy": "2021-06-24T18:47:24.188236Z",
     "iopub.status.idle": "2021-06-24T18:47:24.190239Z",
     "shell.execute_reply": "2021-06-24T18:47:24.190239Z"
    }
   },
   "outputs": [
    {
     "data": {
      "text/plain": [
       "Bus(rate='control', ids=[512, 513])"
      ]
     },
     "execution_count": 1,
     "metadata": {},
     "output_type": "execute_result"
    }
   ],
   "source": [
    "buses = scn.Bus(\"control\", 2)\n",
    "buses"
   ]
  },
  {
   "cell_type": "code",
   "execution_count": 15,
   "metadata": {
    "execution": {
     "iopub.execute_input": "2021-06-24T18:47:24.193239Z",
     "iopub.status.busy": "2021-06-24T18:47:24.192238Z",
     "iopub.status.idle": "2021-06-24T18:47:24.204236Z",
     "shell.execute_reply": "2021-06-24T18:47:24.204236Z"
    }
   },
   "outputs": [
    {
     "data": {
      "text/plain": [
       "[0.0, 0.0]"
      ]
     },
     "execution_count": 1,
     "metadata": {},
     "output_type": "execute_result"
    }
   ],
   "source": [
    "buses.get()"
   ]
  },
  {
   "cell_type": "code",
   "execution_count": 16,
   "metadata": {
    "execution": {
     "iopub.execute_input": "2021-06-24T18:47:24.207238Z",
     "iopub.status.busy": "2021-06-24T18:47:24.206237Z",
     "iopub.status.idle": "2021-06-24T18:47:24.217240Z",
     "shell.execute_reply": "2021-06-24T18:47:24.217240Z"
    }
   },
   "outputs": [],
   "source": [
    "syn = scn.Synth(synth_name)"
   ]
  },
  {
   "cell_type": "code",
   "execution_count": 17,
   "metadata": {
    "execution": {
     "iopub.execute_input": "2021-06-24T18:47:24.223241Z",
     "iopub.status.busy": "2021-06-24T18:47:24.221239Z",
     "iopub.status.idle": "2021-06-24T18:47:24.224238Z",
     "shell.execute_reply": "2021-06-24T18:47:24.224238Z"
    }
   },
   "outputs": [
    {
     "data": {
      "text/plain": [
       "<Synth(20002) 'busMulti' s {}>"
      ]
     },
     "execution_count": 1,
     "metadata": {},
     "output_type": "execute_result"
    }
   ],
   "source": [
    "syn.map(\"rates\", buses)"
   ]
  },
  {
   "cell_type": "code",
   "execution_count": 18,
   "metadata": {
    "execution": {
     "iopub.execute_input": "2021-06-24T18:47:24.227238Z",
     "iopub.status.busy": "2021-06-24T18:47:24.227238Z",
     "iopub.status.idle": "2021-06-24T18:47:24.229238Z",
     "shell.execute_reply": "2021-06-24T18:47:24.230238Z"
    }
   },
   "outputs": [
    {
     "data": {
      "text/plain": [
       "Bus(rate='control', ids=[512, 513])"
      ]
     },
     "execution_count": 1,
     "metadata": {},
     "output_type": "execute_result"
    }
   ],
   "source": [
    "buses.set(1, 1)"
   ]
  },
  {
   "cell_type": "code",
   "execution_count": 19,
   "metadata": {
    "execution": {
     "iopub.execute_input": "2021-06-24T18:47:24.233236Z",
     "iopub.status.busy": "2021-06-24T18:47:24.232236Z",
     "iopub.status.idle": "2021-06-24T18:47:24.235238Z",
     "shell.execute_reply": "2021-06-24T18:47:24.235238Z"
    }
   },
   "outputs": [
    {
     "data": {
      "text/plain": [
       "Bus(rate='control', ids=[512, 513])"
      ]
     },
     "execution_count": 1,
     "metadata": {},
     "output_type": "execute_result"
    }
   ],
   "source": [
    "buses.set(1, 2)"
   ]
  },
  {
   "cell_type": "code",
   "execution_count": 20,
   "metadata": {
    "execution": {
     "iopub.execute_input": "2021-06-24T18:47:24.238236Z",
     "iopub.status.busy": "2021-06-24T18:47:24.238236Z",
     "iopub.status.idle": "2021-06-24T18:47:24.243236Z",
     "shell.execute_reply": "2021-06-24T18:47:24.243236Z"
    }
   },
   "outputs": [
    {
     "data": {
      "text/plain": [
       "[1.0, 2.0]"
      ]
     },
     "execution_count": 1,
     "metadata": {},
     "output_type": "execute_result"
    }
   ],
   "source": [
    "buses.get()"
   ]
  },
  {
   "cell_type": "code",
   "execution_count": 21,
   "metadata": {
    "execution": {
     "iopub.execute_input": "2021-06-24T18:47:24.246236Z",
     "iopub.status.busy": "2021-06-24T18:47:24.245236Z",
     "iopub.status.idle": "2021-06-24T18:47:24.248237Z",
     "shell.execute_reply": "2021-06-24T18:47:24.248237Z"
    }
   },
   "outputs": [
    {
     "data": {
      "text/plain": [
       "<Synth(20002) 'busMulti' f {}>"
      ]
     },
     "execution_count": 1,
     "metadata": {},
     "output_type": "execute_result"
    }
   ],
   "source": [
    "syn.free()"
   ]
  },
  {
   "cell_type": "code",
   "execution_count": 22,
   "metadata": {
    "execution": {
     "iopub.execute_input": "2021-06-24T18:47:24.251236Z",
     "iopub.status.busy": "2021-06-24T18:47:24.251236Z",
     "iopub.status.idle": "2021-06-24T18:47:24.253255Z",
     "shell.execute_reply": "2021-06-24T18:47:24.253255Z"
    }
   },
   "outputs": [],
   "source": [
    "buses.free()"
   ]
  },
  {
   "cell_type": "code",
   "execution_count": 23,
   "metadata": {
    "execution": {
     "iopub.execute_input": "2021-06-24T18:47:24.256254Z",
     "iopub.status.busy": "2021-06-24T18:47:24.255254Z",
     "iopub.status.idle": "2021-06-24T18:47:24.323261Z",
     "shell.execute_reply": "2021-06-24T18:47:24.323261Z"
    }
   },
   "outputs": [],
   "source": [
    "sc.server.free_all()"
   ]
  },
  {
   "cell_type": "code",
   "execution_count": 24,
   "metadata": {
    "execution": {
     "iopub.execute_input": "2021-06-24T18:47:24.326261Z",
     "iopub.status.busy": "2021-06-24T18:47:24.326261Z",
     "iopub.status.idle": "2021-06-24T18:47:25.508349Z",
     "shell.execute_reply": "2021-06-24T18:47:25.508349Z"
    }
   },
   "outputs": [],
   "source": [
    "sc.exit()"
   ]
  },
  {
   "cell_type": "code",
   "execution_count": null,
   "metadata": {},
   "outputs": [],
   "source": []
  }
 ],
 "metadata": {
  "language_info": {
   "codemirror_mode": {
    "name": "ipython",
    "version": 3
   },
   "file_extension": ".py",
   "mimetype": "text/x-python",
   "name": "python",
   "nbconvert_exporter": "python",
   "pygments_lexer": "ipython3",
   "version": "3.7.10"
  }
 },
 "nbformat": 4,
 "nbformat_minor": 4
}
