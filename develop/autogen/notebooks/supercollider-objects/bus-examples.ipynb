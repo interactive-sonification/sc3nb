{
 "cells": [
  {
   "cell_type": "markdown",
   "metadata": {},
   "source": [
    "# Bus"
   ]
  },
  {
   "cell_type": "code",
   "execution_count": 1,
   "metadata": {
    "execution": {
     "iopub.execute_input": "2021-07-19T11:53:22.307957Z",
     "iopub.status.busy": "2021-07-19T11:53:22.306954Z",
     "iopub.status.idle": "2021-07-19T11:53:22.488955Z",
     "shell.execute_reply": "2021-07-19T11:53:22.488955Z"
    }
   },
   "outputs": [],
   "source": [
    "import sc3nb as scn"
   ]
  },
  {
   "cell_type": "code",
   "execution_count": 2,
   "metadata": {
    "execution": {
     "iopub.execute_input": "2021-07-19T11:53:22.496955Z",
     "iopub.status.busy": "2021-07-19T11:53:22.496955Z",
     "iopub.status.idle": "2021-07-19T11:53:25.658020Z",
     "shell.execute_reply": "2021-07-19T11:53:25.659020Z"
    }
   },
   "outputs": [
    {
     "data": {
      "application/javascript": [
       "if (typeof Jupyter !== 'undefined') {\n",
       "                        Jupyter.keyboard_manager.command_shortcuts.add_shortcut(\n",
       "                        'Ctrl-.', {\n",
       "                        help : 'Free all nodes on SC server',\n",
       "                        help_index : 'zz',\n",
       "                        handler : function (event) {\n",
       "                            IPython.notebook.kernel.execute(\n",
       "                                \"import sc3nb; sc3nb.SC.get_default().server.free_all(root=True)\"\n",
       "                            )\n",
       "                            return true;}\n",
       "                        });\n",
       "                    }"
      ],
      "text/plain": [
       "<IPython.core.display.Javascript object>"
      ]
     },
     "metadata": {},
     "output_type": "display_data"
    },
    {
     "name": "stdout",
     "output_type": "stream",
     "text": [
      "Starting sclang process... "
     ]
    },
    {
     "name": "stdout",
     "output_type": "stream",
     "text": [
      "Done.\n",
      "Registering OSC /return callback in sclang... Done.\n",
      "Loading default sc3nb SynthDefs... Done.\n",
      "Booting SuperCollider Server... "
     ]
    },
    {
     "name": "stdout",
     "output_type": "stream",
     "text": [
      "Done.\n"
     ]
    }
   ],
   "source": [
    "sc = scn.startup()"
   ]
  },
  {
   "cell_type": "markdown",
   "metadata": {},
   "source": [
    "## Using a Control Bus"
   ]
  },
  {
   "cell_type": "code",
   "execution_count": 3,
   "metadata": {
    "execution": {
     "iopub.execute_input": "2021-07-19T11:53:25.662021Z",
     "iopub.status.busy": "2021-07-19T11:53:25.662021Z",
     "iopub.status.idle": "2021-07-19T11:53:25.665020Z",
     "shell.execute_reply": "2021-07-19T11:53:25.665020Z"
    }
   },
   "outputs": [
    {
     "data": {
      "text/plain": [
       "Bus(rate='control', ids=[512])"
      ]
     },
     "execution_count": 3,
     "metadata": {},
     "output_type": "execute_result"
    }
   ],
   "source": [
    "bus = scn.Bus('control')\n",
    "bus"
   ]
  },
  {
   "cell_type": "code",
   "execution_count": 4,
   "metadata": {
    "execution": {
     "iopub.execute_input": "2021-07-19T11:53:25.668021Z",
     "iopub.status.busy": "2021-07-19T11:53:25.668021Z",
     "iopub.status.idle": "2021-07-19T11:53:25.678021Z",
     "shell.execute_reply": "2021-07-19T11:53:25.678021Z"
    }
   },
   "outputs": [
    {
     "data": {
      "text/plain": [
       "0.0"
      ]
     },
     "execution_count": 4,
     "metadata": {},
     "output_type": "execute_result"
    }
   ],
   "source": [
    "bus.get()"
   ]
  },
  {
   "cell_type": "code",
   "execution_count": 5,
   "metadata": {
    "execution": {
     "iopub.execute_input": "2021-07-19T11:53:25.680021Z",
     "iopub.status.busy": "2021-07-19T11:53:25.679020Z",
     "iopub.status.idle": "2021-07-19T11:53:25.692020Z",
     "shell.execute_reply": "2021-07-19T11:53:25.692020Z"
    }
   },
   "outputs": [],
   "source": [
    "syn = scn.Synth(\"s2\")"
   ]
  },
  {
   "cell_type": "markdown",
   "metadata": {},
   "source": [
    "map the frequency of the synth to the bus value"
   ]
  },
  {
   "cell_type": "code",
   "execution_count": 6,
   "metadata": {
    "execution": {
     "iopub.execute_input": "2021-07-19T11:53:25.696021Z",
     "iopub.status.busy": "2021-07-19T11:53:25.696021Z",
     "iopub.status.idle": "2021-07-19T11:53:25.699022Z",
     "shell.execute_reply": "2021-07-19T11:53:25.699022Z"
    }
   },
   "outputs": [
    {
     "data": {
      "text/plain": [
       "<Synth(20001) 's2' s {}>"
      ]
     },
     "execution_count": 6,
     "metadata": {},
     "output_type": "execute_result"
    }
   ],
   "source": [
    "syn.map(\"freq\", bus)"
   ]
  },
  {
   "cell_type": "code",
   "execution_count": 7,
   "metadata": {
    "execution": {
     "iopub.execute_input": "2021-07-19T11:53:25.703021Z",
     "iopub.status.busy": "2021-07-19T11:53:25.702022Z",
     "iopub.status.idle": "2021-07-19T11:53:25.706021Z",
     "shell.execute_reply": "2021-07-19T11:53:25.707020Z"
    }
   },
   "outputs": [
    {
     "data": {
      "text/plain": [
       "Bus(rate='control', ids=[512])"
      ]
     },
     "execution_count": 7,
     "metadata": {},
     "output_type": "execute_result"
    }
   ],
   "source": [
    "bus.set(120) # changes synths frequency"
   ]
  },
  {
   "cell_type": "code",
   "execution_count": 8,
   "metadata": {
    "execution": {
     "iopub.execute_input": "2021-07-19T11:53:25.710021Z",
     "iopub.status.busy": "2021-07-19T11:53:25.710021Z",
     "iopub.status.idle": "2021-07-19T11:53:25.713021Z",
     "shell.execute_reply": "2021-07-19T11:53:25.713021Z"
    }
   },
   "outputs": [
    {
     "data": {
      "text/plain": [
       "Bus(rate='control', ids=[512])"
      ]
     },
     "execution_count": 8,
     "metadata": {},
     "output_type": "execute_result"
    }
   ],
   "source": [
    "bus.set(440)"
   ]
  },
  {
   "cell_type": "markdown",
   "metadata": {},
   "source": [
    "Set the frequency value to remove the mapping"
   ]
  },
  {
   "cell_type": "code",
   "execution_count": 9,
   "metadata": {
    "execution": {
     "iopub.execute_input": "2021-07-19T11:53:25.716020Z",
     "iopub.status.busy": "2021-07-19T11:53:25.716020Z",
     "iopub.status.idle": "2021-07-19T11:53:25.718021Z",
     "shell.execute_reply": "2021-07-19T11:53:25.718021Z"
    }
   },
   "outputs": [
    {
     "data": {
      "text/plain": [
       "<Synth(20001) 's2' ~ {'freq': 220}>"
      ]
     },
     "execution_count": 9,
     "metadata": {},
     "output_type": "execute_result"
    }
   ],
   "source": [
    "syn.set(\"freq\", 220)"
   ]
  },
  {
   "cell_type": "code",
   "execution_count": 10,
   "metadata": {
    "execution": {
     "iopub.execute_input": "2021-07-19T11:53:25.721021Z",
     "iopub.status.busy": "2021-07-19T11:53:25.719020Z",
     "iopub.status.idle": "2021-07-19T11:53:25.724020Z",
     "shell.execute_reply": "2021-07-19T11:53:25.724020Z"
    }
   },
   "outputs": [
    {
     "data": {
      "text/plain": [
       "Bus(rate='control', ids=[512])"
      ]
     },
     "execution_count": 10,
     "metadata": {},
     "output_type": "execute_result"
    }
   ],
   "source": [
    "bus.set(440)  # no change"
   ]
  },
  {
   "cell_type": "code",
   "execution_count": 11,
   "metadata": {
    "execution": {
     "iopub.execute_input": "2021-07-19T11:53:25.727021Z",
     "iopub.status.busy": "2021-07-19T11:53:25.727021Z",
     "iopub.status.idle": "2021-07-19T11:53:25.730021Z",
     "shell.execute_reply": "2021-07-19T11:53:25.730021Z"
    }
   },
   "outputs": [
    {
     "data": {
      "text/plain": [
       "<Synth(20001) 's2' f {'freq': 220}>"
      ]
     },
     "execution_count": 11,
     "metadata": {},
     "output_type": "execute_result"
    }
   ],
   "source": [
    "syn.free()"
   ]
  },
  {
   "cell_type": "markdown",
   "metadata": {},
   "source": [
    "Free the bus to mark the bus id as available again"
   ]
  },
  {
   "cell_type": "code",
   "execution_count": 12,
   "metadata": {
    "execution": {
     "iopub.execute_input": "2021-07-19T11:53:25.732020Z",
     "iopub.status.busy": "2021-07-19T11:53:25.732020Z",
     "iopub.status.idle": "2021-07-19T11:53:25.734021Z",
     "shell.execute_reply": "2021-07-19T11:53:25.734021Z"
    }
   },
   "outputs": [],
   "source": [
    "bus.free()"
   ]
  },
  {
   "cell_type": "markdown",
   "metadata": {},
   "source": [
    "## Use multiple Control Buses"
   ]
  },
  {
   "cell_type": "code",
   "execution_count": 13,
   "metadata": {
    "execution": {
     "iopub.execute_input": "2021-07-19T11:53:25.737020Z",
     "iopub.status.busy": "2021-07-19T11:53:25.735022Z",
     "iopub.status.idle": "2021-07-19T11:53:25.758023Z",
     "shell.execute_reply": "2021-07-19T11:53:25.758023Z"
    }
   },
   "outputs": [],
   "source": [
    "synth_name = scn.SynthDef(\"busMulti\", \"\"\"{ |out, freqs=#[200, 400], rates=#[1, 2] |\n",
    "    Out.ar(out, Splay.ar(SinOsc.ar(freqs) * Decay2.ar(Impulse.ar(rates), 0.001, 0.1)) * 0.5);\n",
    "}\"\"\").add()"
   ]
  },
  {
   "cell_type": "code",
   "execution_count": 14,
   "metadata": {
    "execution": {
     "iopub.execute_input": "2021-07-19T11:53:25.762023Z",
     "iopub.status.busy": "2021-07-19T11:53:25.761023Z",
     "iopub.status.idle": "2021-07-19T11:53:25.765023Z",
     "shell.execute_reply": "2021-07-19T11:53:25.765023Z"
    }
   },
   "outputs": [
    {
     "data": {
      "text/plain": [
       "Bus(rate='control', ids=[512, 513])"
      ]
     },
     "execution_count": 14,
     "metadata": {},
     "output_type": "execute_result"
    }
   ],
   "source": [
    "buses = scn.Bus(\"control\", 2)\n",
    "buses"
   ]
  },
  {
   "cell_type": "code",
   "execution_count": 15,
   "metadata": {
    "execution": {
     "iopub.execute_input": "2021-07-19T11:53:25.768021Z",
     "iopub.status.busy": "2021-07-19T11:53:25.768021Z",
     "iopub.status.idle": "2021-07-19T11:53:25.790021Z",
     "shell.execute_reply": "2021-07-19T11:53:25.790021Z"
    }
   },
   "outputs": [
    {
     "data": {
      "text/plain": [
       "[0.0, 0.0]"
      ]
     },
     "execution_count": 15,
     "metadata": {},
     "output_type": "execute_result"
    }
   ],
   "source": [
    "buses.get()"
   ]
  },
  {
   "cell_type": "code",
   "execution_count": 16,
   "metadata": {
    "execution": {
     "iopub.execute_input": "2021-07-19T11:53:25.793021Z",
     "iopub.status.busy": "2021-07-19T11:53:25.793021Z",
     "iopub.status.idle": "2021-07-19T11:53:25.805020Z",
     "shell.execute_reply": "2021-07-19T11:53:25.806020Z"
    }
   },
   "outputs": [],
   "source": [
    "syn = scn.Synth(synth_name)"
   ]
  },
  {
   "cell_type": "code",
   "execution_count": 17,
   "metadata": {
    "execution": {
     "iopub.execute_input": "2021-07-19T11:53:25.809021Z",
     "iopub.status.busy": "2021-07-19T11:53:25.809021Z",
     "iopub.status.idle": "2021-07-19T11:53:25.812022Z",
     "shell.execute_reply": "2021-07-19T11:53:25.812022Z"
    }
   },
   "outputs": [
    {
     "data": {
      "text/plain": [
       "<Synth(20002) 'busMulti' ~ {}>"
      ]
     },
     "execution_count": 17,
     "metadata": {},
     "output_type": "execute_result"
    }
   ],
   "source": [
    "syn.map(\"rates\", buses)"
   ]
  },
  {
   "cell_type": "code",
   "execution_count": 18,
   "metadata": {
    "execution": {
     "iopub.execute_input": "2021-07-19T11:53:25.816021Z",
     "iopub.status.busy": "2021-07-19T11:53:25.816021Z",
     "iopub.status.idle": "2021-07-19T11:53:25.818021Z",
     "shell.execute_reply": "2021-07-19T11:53:25.818021Z"
    }
   },
   "outputs": [
    {
     "data": {
      "text/plain": [
       "Bus(rate='control', ids=[512, 513])"
      ]
     },
     "execution_count": 18,
     "metadata": {},
     "output_type": "execute_result"
    }
   ],
   "source": [
    "buses.set(1, 1)"
   ]
  },
  {
   "cell_type": "code",
   "execution_count": 19,
   "metadata": {
    "execution": {
     "iopub.execute_input": "2021-07-19T11:53:25.822021Z",
     "iopub.status.busy": "2021-07-19T11:53:25.822021Z",
     "iopub.status.idle": "2021-07-19T11:53:25.824021Z",
     "shell.execute_reply": "2021-07-19T11:53:25.824021Z"
    }
   },
   "outputs": [
    {
     "data": {
      "text/plain": [
       "Bus(rate='control', ids=[512, 513])"
      ]
     },
     "execution_count": 19,
     "metadata": {},
     "output_type": "execute_result"
    }
   ],
   "source": [
    "buses.set(1, 2)"
   ]
  },
  {
   "cell_type": "code",
   "execution_count": 20,
   "metadata": {
    "execution": {
     "iopub.execute_input": "2021-07-19T11:53:25.827022Z",
     "iopub.status.busy": "2021-07-19T11:53:25.827022Z",
     "iopub.status.idle": "2021-07-19T11:53:25.838022Z",
     "shell.execute_reply": "2021-07-19T11:53:25.838022Z"
    }
   },
   "outputs": [
    {
     "data": {
      "text/plain": [
       "[1.0, 2.0]"
      ]
     },
     "execution_count": 20,
     "metadata": {},
     "output_type": "execute_result"
    }
   ],
   "source": [
    "buses.get()"
   ]
  },
  {
   "cell_type": "code",
   "execution_count": 21,
   "metadata": {
    "execution": {
     "iopub.execute_input": "2021-07-19T11:53:25.842021Z",
     "iopub.status.busy": "2021-07-19T11:53:25.841020Z",
     "iopub.status.idle": "2021-07-19T11:53:25.843021Z",
     "shell.execute_reply": "2021-07-19T11:53:25.844022Z"
    }
   },
   "outputs": [
    {
     "data": {
      "text/plain": [
       "<Synth(20002) 'busMulti' f {}>"
      ]
     },
     "execution_count": 21,
     "metadata": {},
     "output_type": "execute_result"
    }
   ],
   "source": [
    "syn.free()"
   ]
  },
  {
   "cell_type": "code",
   "execution_count": 22,
   "metadata": {
    "execution": {
     "iopub.execute_input": "2021-07-19T11:53:25.847169Z",
     "iopub.status.busy": "2021-07-19T11:53:25.846022Z",
     "iopub.status.idle": "2021-07-19T11:53:25.850021Z",
     "shell.execute_reply": "2021-07-19T11:53:25.850021Z"
    }
   },
   "outputs": [],
   "source": [
    "buses.free()"
   ]
  },
  {
   "cell_type": "code",
   "execution_count": 23,
   "metadata": {
    "execution": {
     "iopub.execute_input": "2021-07-19T11:53:25.853020Z",
     "iopub.status.busy": "2021-07-19T11:53:25.853020Z",
     "iopub.status.idle": "2021-07-19T11:53:25.927021Z",
     "shell.execute_reply": "2021-07-19T11:53:25.927021Z"
    }
   },
   "outputs": [],
   "source": [
    "sc.server.free_all()"
   ]
  },
  {
   "cell_type": "code",
   "execution_count": 24,
   "metadata": {
    "execution": {
     "iopub.execute_input": "2021-07-19T11:53:25.930020Z",
     "iopub.status.busy": "2021-07-19T11:53:25.929020Z",
     "iopub.status.idle": "2021-07-19T11:53:26.217023Z",
     "shell.execute_reply": "2021-07-19T11:53:26.218020Z"
    }
   },
   "outputs": [
    {
     "name": "stdout",
     "output_type": "stream",
     "text": [
      "Quitting SCServer... Done.\n",
      "Exiting sclang... "
     ]
    },
    {
     "name": "stdout",
     "output_type": "stream",
     "text": [
      "Done.\n"
     ]
    }
   ],
   "source": [
    "sc.exit()"
   ]
  },
  {
   "cell_type": "code",
   "execution_count": null,
   "metadata": {},
   "outputs": [],
   "source": []
  }
 ],
 "metadata": {
  "language_info": {
   "codemirror_mode": {
    "name": "ipython",
    "version": 3
   },
   "file_extension": ".py",
   "mimetype": "text/x-python",
   "name": "python",
   "nbconvert_exporter": "python",
   "pygments_lexer": "ipython3",
   "version": "3.7.10"
  }
 },
 "nbformat": 4,
 "nbformat_minor": 4
}
