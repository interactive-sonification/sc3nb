{
 "cells": [
  {
   "cell_type": "markdown",
   "metadata": {},
   "source": [
    "# Bus"
   ]
  },
  {
   "cell_type": "code",
   "execution_count": 1,
   "metadata": {
    "execution": {
     "iopub.execute_input": "2021-07-19T13:46:16.506546Z",
     "iopub.status.busy": "2021-07-19T13:46:16.505544Z",
     "iopub.status.idle": "2021-07-19T13:46:16.683545Z",
     "shell.execute_reply": "2021-07-19T13:46:16.684546Z"
    }
   },
   "outputs": [],
   "source": [
    "import sc3nb as scn"
   ]
  },
  {
   "cell_type": "code",
   "execution_count": 2,
   "metadata": {
    "execution": {
     "iopub.execute_input": "2021-07-19T13:46:16.692544Z",
     "iopub.status.busy": "2021-07-19T13:46:16.687545Z",
     "iopub.status.idle": "2021-07-19T13:46:19.880998Z",
     "shell.execute_reply": "2021-07-19T13:46:19.880998Z"
    }
   },
   "outputs": [
    {
     "data": {
      "application/javascript": [
       "if (typeof Jupyter !== 'undefined') {\n",
       "                        Jupyter.keyboard_manager.command_shortcuts.add_shortcut(\n",
       "                        'Ctrl-.', {\n",
       "                        help : 'Free all nodes on SC server',\n",
       "                        help_index : 'zz',\n",
       "                        handler : function (event) {\n",
       "                            IPython.notebook.kernel.execute(\n",
       "                                \"import sc3nb; sc3nb.SC.get_default().server.free_all(root=True)\"\n",
       "                            )\n",
       "                            return true;}\n",
       "                        });\n",
       "                    }"
      ],
      "text/plain": [
       "<IPython.core.display.Javascript object>"
      ]
     },
     "metadata": {},
     "output_type": "display_data"
    },
    {
     "name": "stdout",
     "output_type": "stream",
     "text": [
      "Starting sclang process... "
     ]
    },
    {
     "name": "stdout",
     "output_type": "stream",
     "text": [
      "Done.\n",
      "Registering OSC /return callback in sclang... Done.\n",
      "Loading default sc3nb SynthDefs... Done.\n",
      "Booting SuperCollider Server... "
     ]
    },
    {
     "name": "stdout",
     "output_type": "stream",
     "text": [
      "Done.\n"
     ]
    }
   ],
   "source": [
    "sc = scn.startup()"
   ]
  },
  {
   "cell_type": "markdown",
   "metadata": {},
   "source": [
    "## Using a Control Bus"
   ]
  },
  {
   "cell_type": "code",
   "execution_count": 3,
   "metadata": {
    "execution": {
     "iopub.execute_input": "2021-07-19T13:46:19.884998Z",
     "iopub.status.busy": "2021-07-19T13:46:19.884000Z",
     "iopub.status.idle": "2021-07-19T13:46:19.887018Z",
     "shell.execute_reply": "2021-07-19T13:46:19.887018Z"
    }
   },
   "outputs": [
    {
     "data": {
      "text/plain": [
       "Bus(rate='control', ids=[512])"
      ]
     },
     "execution_count": 3,
     "metadata": {},
     "output_type": "execute_result"
    }
   ],
   "source": [
    "bus = scn.Bus('control')\n",
    "bus"
   ]
  },
  {
   "cell_type": "code",
   "execution_count": 4,
   "metadata": {
    "execution": {
     "iopub.execute_input": "2021-07-19T13:46:19.889008Z",
     "iopub.status.busy": "2021-07-19T13:46:19.889008Z",
     "iopub.status.idle": "2021-07-19T13:46:19.901008Z",
     "shell.execute_reply": "2021-07-19T13:46:19.901008Z"
    }
   },
   "outputs": [
    {
     "data": {
      "text/plain": [
       "0.0"
      ]
     },
     "execution_count": 4,
     "metadata": {},
     "output_type": "execute_result"
    }
   ],
   "source": [
    "bus.get()"
   ]
  },
  {
   "cell_type": "code",
   "execution_count": 5,
   "metadata": {
    "execution": {
     "iopub.execute_input": "2021-07-19T13:46:19.904010Z",
     "iopub.status.busy": "2021-07-19T13:46:19.903007Z",
     "iopub.status.idle": "2021-07-19T13:46:19.915009Z",
     "shell.execute_reply": "2021-07-19T13:46:19.915009Z"
    }
   },
   "outputs": [],
   "source": [
    "syn = scn.Synth(\"s2\")"
   ]
  },
  {
   "cell_type": "markdown",
   "metadata": {},
   "source": [
    "map the frequency of the synth to the bus value"
   ]
  },
  {
   "cell_type": "code",
   "execution_count": 6,
   "metadata": {
    "execution": {
     "iopub.execute_input": "2021-07-19T13:46:19.919009Z",
     "iopub.status.busy": "2021-07-19T13:46:19.918008Z",
     "iopub.status.idle": "2021-07-19T13:46:19.923009Z",
     "shell.execute_reply": "2021-07-19T13:46:19.924009Z"
    }
   },
   "outputs": [
    {
     "data": {
      "text/plain": [
       "<Synth(20001) 's2' s {}>"
      ]
     },
     "execution_count": 6,
     "metadata": {},
     "output_type": "execute_result"
    }
   ],
   "source": [
    "syn.map(\"freq\", bus)"
   ]
  },
  {
   "cell_type": "code",
   "execution_count": 7,
   "metadata": {
    "execution": {
     "iopub.execute_input": "2021-07-19T13:46:19.927009Z",
     "iopub.status.busy": "2021-07-19T13:46:19.926007Z",
     "iopub.status.idle": "2021-07-19T13:46:19.929008Z",
     "shell.execute_reply": "2021-07-19T13:46:19.929008Z"
    }
   },
   "outputs": [
    {
     "data": {
      "text/plain": [
       "Bus(rate='control', ids=[512])"
      ]
     },
     "execution_count": 7,
     "metadata": {},
     "output_type": "execute_result"
    }
   ],
   "source": [
    "bus.set(120) # changes synths frequency"
   ]
  },
  {
   "cell_type": "code",
   "execution_count": 8,
   "metadata": {
    "execution": {
     "iopub.execute_input": "2021-07-19T13:46:19.933010Z",
     "iopub.status.busy": "2021-07-19T13:46:19.932008Z",
     "iopub.status.idle": "2021-07-19T13:46:19.934011Z",
     "shell.execute_reply": "2021-07-19T13:46:19.934011Z"
    }
   },
   "outputs": [
    {
     "data": {
      "text/plain": [
       "Bus(rate='control', ids=[512])"
      ]
     },
     "execution_count": 8,
     "metadata": {},
     "output_type": "execute_result"
    }
   ],
   "source": [
    "bus.set(440)"
   ]
  },
  {
   "cell_type": "markdown",
   "metadata": {},
   "source": [
    "Set the frequency value to remove the mapping"
   ]
  },
  {
   "cell_type": "code",
   "execution_count": 9,
   "metadata": {
    "execution": {
     "iopub.execute_input": "2021-07-19T13:46:19.937009Z",
     "iopub.status.busy": "2021-07-19T13:46:19.936009Z",
     "iopub.status.idle": "2021-07-19T13:46:19.940008Z",
     "shell.execute_reply": "2021-07-19T13:46:19.940008Z"
    }
   },
   "outputs": [
    {
     "data": {
      "text/plain": [
       "<Synth(20001) 's2' ~ {'freq': 220}>"
      ]
     },
     "execution_count": 9,
     "metadata": {},
     "output_type": "execute_result"
    }
   ],
   "source": [
    "syn.set(\"freq\", 220)"
   ]
  },
  {
   "cell_type": "code",
   "execution_count": 10,
   "metadata": {
    "execution": {
     "iopub.execute_input": "2021-07-19T13:46:19.943007Z",
     "iopub.status.busy": "2021-07-19T13:46:19.942008Z",
     "iopub.status.idle": "2021-07-19T13:46:19.945008Z",
     "shell.execute_reply": "2021-07-19T13:46:19.945008Z"
    }
   },
   "outputs": [
    {
     "data": {
      "text/plain": [
       "Bus(rate='control', ids=[512])"
      ]
     },
     "execution_count": 10,
     "metadata": {},
     "output_type": "execute_result"
    }
   ],
   "source": [
    "bus.set(440)  # no change"
   ]
  },
  {
   "cell_type": "code",
   "execution_count": 11,
   "metadata": {
    "execution": {
     "iopub.execute_input": "2021-07-19T13:46:19.948008Z",
     "iopub.status.busy": "2021-07-19T13:46:19.947008Z",
     "iopub.status.idle": "2021-07-19T13:46:19.951008Z",
     "shell.execute_reply": "2021-07-19T13:46:19.951008Z"
    }
   },
   "outputs": [
    {
     "data": {
      "text/plain": [
       "<Synth(20001) 's2' f {'freq': 220}>"
      ]
     },
     "execution_count": 11,
     "metadata": {},
     "output_type": "execute_result"
    }
   ],
   "source": [
    "syn.free()"
   ]
  },
  {
   "cell_type": "markdown",
   "metadata": {},
   "source": [
    "Free the bus to mark the bus id as available again"
   ]
  },
  {
   "cell_type": "code",
   "execution_count": 12,
   "metadata": {
    "execution": {
     "iopub.execute_input": "2021-07-19T13:46:19.953008Z",
     "iopub.status.busy": "2021-07-19T13:46:19.953008Z",
     "iopub.status.idle": "2021-07-19T13:46:19.955009Z",
     "shell.execute_reply": "2021-07-19T13:46:19.955009Z"
    }
   },
   "outputs": [],
   "source": [
    "bus.free()"
   ]
  },
  {
   "cell_type": "markdown",
   "metadata": {},
   "source": [
    "## Use multiple Control Buses"
   ]
  },
  {
   "cell_type": "code",
   "execution_count": 13,
   "metadata": {
    "execution": {
     "iopub.execute_input": "2021-07-19T13:46:19.958008Z",
     "iopub.status.busy": "2021-07-19T13:46:19.958008Z",
     "iopub.status.idle": "2021-07-19T13:46:20.000240Z",
     "shell.execute_reply": "2021-07-19T13:46:20.000240Z"
    }
   },
   "outputs": [],
   "source": [
    "synth_name = scn.SynthDef(\"busMulti\", \"\"\"{ |out, freqs=#[200, 400], rates=#[1, 2] |\n",
    "    Out.ar(out, Splay.ar(SinOsc.ar(freqs) * Decay2.ar(Impulse.ar(rates), 0.001, 0.1)) * 0.5);\n",
    "}\"\"\").add()"
   ]
  },
  {
   "cell_type": "code",
   "execution_count": 14,
   "metadata": {
    "execution": {
     "iopub.execute_input": "2021-07-19T13:46:20.004239Z",
     "iopub.status.busy": "2021-07-19T13:46:20.003237Z",
     "iopub.status.idle": "2021-07-19T13:46:20.005238Z",
     "shell.execute_reply": "2021-07-19T13:46:20.005238Z"
    }
   },
   "outputs": [
    {
     "data": {
      "text/plain": [
       "Bus(rate='control', ids=[512, 513])"
      ]
     },
     "execution_count": 14,
     "metadata": {},
     "output_type": "execute_result"
    }
   ],
   "source": [
    "buses = scn.Bus(\"control\", 2)\n",
    "buses"
   ]
  },
  {
   "cell_type": "code",
   "execution_count": 15,
   "metadata": {
    "execution": {
     "iopub.execute_input": "2021-07-19T13:46:20.008240Z",
     "iopub.status.busy": "2021-07-19T13:46:20.007236Z",
     "iopub.status.idle": "2021-07-19T13:46:20.012239Z",
     "shell.execute_reply": "2021-07-19T13:46:20.012239Z"
    }
   },
   "outputs": [
    {
     "data": {
      "text/plain": [
       "[0.0, 0.0]"
      ]
     },
     "execution_count": 15,
     "metadata": {},
     "output_type": "execute_result"
    }
   ],
   "source": [
    "buses.get()"
   ]
  },
  {
   "cell_type": "code",
   "execution_count": 16,
   "metadata": {
    "execution": {
     "iopub.execute_input": "2021-07-19T13:46:20.015238Z",
     "iopub.status.busy": "2021-07-19T13:46:20.015238Z",
     "iopub.status.idle": "2021-07-19T13:46:20.026239Z",
     "shell.execute_reply": "2021-07-19T13:46:20.026239Z"
    }
   },
   "outputs": [],
   "source": [
    "syn = scn.Synth(synth_name)"
   ]
  },
  {
   "cell_type": "code",
   "execution_count": 17,
   "metadata": {
    "execution": {
     "iopub.execute_input": "2021-07-19T13:46:20.030238Z",
     "iopub.status.busy": "2021-07-19T13:46:20.029237Z",
     "iopub.status.idle": "2021-07-19T13:46:20.032238Z",
     "shell.execute_reply": "2021-07-19T13:46:20.032238Z"
    }
   },
   "outputs": [
    {
     "data": {
      "text/plain": [
       "<Synth(20002) 'busMulti' s {}>"
      ]
     },
     "execution_count": 17,
     "metadata": {},
     "output_type": "execute_result"
    }
   ],
   "source": [
    "syn.map(\"rates\", buses)"
   ]
  },
  {
   "cell_type": "code",
   "execution_count": 18,
   "metadata": {
    "execution": {
     "iopub.execute_input": "2021-07-19T13:46:20.036240Z",
     "iopub.status.busy": "2021-07-19T13:46:20.036240Z",
     "iopub.status.idle": "2021-07-19T13:46:20.037238Z",
     "shell.execute_reply": "2021-07-19T13:46:20.037238Z"
    }
   },
   "outputs": [
    {
     "data": {
      "text/plain": [
       "Bus(rate='control', ids=[512, 513])"
      ]
     },
     "execution_count": 18,
     "metadata": {},
     "output_type": "execute_result"
    }
   ],
   "source": [
    "buses.set(1, 1)"
   ]
  },
  {
   "cell_type": "code",
   "execution_count": 19,
   "metadata": {
    "execution": {
     "iopub.execute_input": "2021-07-19T13:46:20.041238Z",
     "iopub.status.busy": "2021-07-19T13:46:20.040238Z",
     "iopub.status.idle": "2021-07-19T13:46:20.043238Z",
     "shell.execute_reply": "2021-07-19T13:46:20.043238Z"
    }
   },
   "outputs": [
    {
     "data": {
      "text/plain": [
       "Bus(rate='control', ids=[512, 513])"
      ]
     },
     "execution_count": 19,
     "metadata": {},
     "output_type": "execute_result"
    }
   ],
   "source": [
    "buses.set(1, 2)"
   ]
  },
  {
   "cell_type": "code",
   "execution_count": 20,
   "metadata": {
    "execution": {
     "iopub.execute_input": "2021-07-19T13:46:20.046238Z",
     "iopub.status.busy": "2021-07-19T13:46:20.046238Z",
     "iopub.status.idle": "2021-07-19T13:46:20.051239Z",
     "shell.execute_reply": "2021-07-19T13:46:20.052241Z"
    }
   },
   "outputs": [
    {
     "data": {
      "text/plain": [
       "[1.0, 2.0]"
      ]
     },
     "execution_count": 20,
     "metadata": {},
     "output_type": "execute_result"
    }
   ],
   "source": [
    "buses.get()"
   ]
  },
  {
   "cell_type": "code",
   "execution_count": 21,
   "metadata": {
    "execution": {
     "iopub.execute_input": "2021-07-19T13:46:20.056238Z",
     "iopub.status.busy": "2021-07-19T13:46:20.055238Z",
     "iopub.status.idle": "2021-07-19T13:46:20.059238Z",
     "shell.execute_reply": "2021-07-19T13:46:20.060238Z"
    }
   },
   "outputs": [
    {
     "data": {
      "text/plain": [
       "<Synth(20002) 'busMulti' f {}>"
      ]
     },
     "execution_count": 21,
     "metadata": {},
     "output_type": "execute_result"
    }
   ],
   "source": [
    "syn.free()"
   ]
  },
  {
   "cell_type": "code",
   "execution_count": 22,
   "metadata": {
    "execution": {
     "iopub.execute_input": "2021-07-19T13:46:20.063239Z",
     "iopub.status.busy": "2021-07-19T13:46:20.063239Z",
     "iopub.status.idle": "2021-07-19T13:46:20.065240Z",
     "shell.execute_reply": "2021-07-19T13:46:20.065240Z"
    }
   },
   "outputs": [],
   "source": [
    "buses.free()"
   ]
  },
  {
   "cell_type": "code",
   "execution_count": 23,
   "metadata": {
    "execution": {
     "iopub.execute_input": "2021-07-19T13:46:20.068237Z",
     "iopub.status.busy": "2021-07-19T13:46:20.068237Z",
     "iopub.status.idle": "2021-07-19T13:46:20.130248Z",
     "shell.execute_reply": "2021-07-19T13:46:20.131247Z"
    }
   },
   "outputs": [],
   "source": [
    "sc.server.free_all()"
   ]
  },
  {
   "cell_type": "code",
   "execution_count": 24,
   "metadata": {
    "execution": {
     "iopub.execute_input": "2021-07-19T13:46:20.133247Z",
     "iopub.status.busy": "2021-07-19T13:46:20.133247Z",
     "iopub.status.idle": "2021-07-19T13:46:20.402582Z",
     "shell.execute_reply": "2021-07-19T13:46:20.402582Z"
    }
   },
   "outputs": [
    {
     "name": "stdout",
     "output_type": "stream",
     "text": [
      "Quitting SCServer... Done.\n",
      "Exiting sclang... "
     ]
    },
    {
     "name": "stdout",
     "output_type": "stream",
     "text": [
      "Done.\n"
     ]
    }
   ],
   "source": [
    "sc.exit()"
   ]
  },
  {
   "cell_type": "code",
   "execution_count": null,
   "metadata": {},
   "outputs": [],
   "source": []
  }
 ],
 "metadata": {
  "language_info": {
   "codemirror_mode": {
    "name": "ipython",
    "version": 3
   },
   "file_extension": ".py",
   "mimetype": "text/x-python",
   "name": "python",
   "nbconvert_exporter": "python",
   "pygments_lexer": "ipython3",
   "version": "3.7.10"
  }
 },
 "nbformat": 4,
 "nbformat_minor": 4
}
