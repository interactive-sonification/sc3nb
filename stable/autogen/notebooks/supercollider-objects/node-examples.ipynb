{
 "cells": [
  {
   "cell_type": "code",
   "execution_count": 1,
   "metadata": {
    "execution": {
     "iopub.execute_input": "2021-06-24T18:45:02.273882Z",
     "iopub.status.busy": "2021-06-24T18:45:02.272882Z",
     "iopub.status.idle": "2021-06-24T18:45:02.672924Z",
     "shell.execute_reply": "2021-06-24T18:45:02.671924Z"
    }
   },
   "outputs": [],
   "source": [
    "# header / imports\n",
    "import time\n",
    "import numpy as np\n",
    "import matplotlib.pyplot as plt\n",
    "%matplotlib inline\n",
    "\n",
    "import sc3nb as scn\n",
    "from sc3nb import Synth"
   ]
  },
  {
   "cell_type": "code",
   "execution_count": 2,
   "metadata": {
    "execution": {
     "iopub.execute_input": "2021-06-24T18:45:02.676925Z",
     "iopub.status.busy": "2021-06-24T18:45:02.676925Z",
     "iopub.status.idle": "2021-06-24T18:45:06.112767Z",
     "shell.execute_reply": "2021-06-24T18:45:06.112767Z"
    }
   },
   "outputs": [
    {
     "data": {
      "application/javascript": [
       "if (typeof Jupyter !== 'undefined') {\n",
       "                        Jupyter.keyboard_manager.command_shortcuts.add_shortcut(\n",
       "                        'Ctrl-.', {\n",
       "                        help : 'Free all nodes on SC server',\n",
       "                        help_index : 'zz',\n",
       "                        handler : function (event) {\n",
       "                            IPython.notebook.kernel.execute(\n",
       "                                \"import sc3nb; sc3nb.SC.get_default().server.free_all(root=True)\"\n",
       "                            )\n",
       "                            return true;}\n",
       "                        });\n",
       "                    }"
      ],
      "text/plain": [
       "<IPython.core.display.Javascript object>"
      ]
     },
     "metadata": {},
     "output_type": "display_data"
    },
    {
     "name": "stdout",
     "output_type": "stream",
     "text": [
      "Starting sclang process... "
     ]
    },
    {
     "name": "stdout",
     "output_type": "stream",
     "text": [
      "Done.\n",
      "Registering OSC /return callback in sclang... Done.\n",
      "Loading default sc3nb SynthDefs... Done.\n",
      "Booting SuperCollider Server... "
     ]
    },
    {
     "name": "stdout",
     "output_type": "stream",
     "text": [
      "Done.\n"
     ]
    }
   ],
   "source": [
    "sc = scn.startup()"
   ]
  },
  {
   "cell_type": "markdown",
   "metadata": {},
   "source": [
    "# Nodes (Synth and Group)\n",
    "\n",
    "One of the most important objects in SuperCollider are Nodes."
   ]
  },
  {
   "cell_type": "markdown",
   "metadata": {},
   "source": [
    "To see all Nodes on the Server use"
   ]
  },
  {
   "cell_type": "code",
   "execution_count": 3,
   "metadata": {
    "execution": {
     "iopub.execute_input": "2021-06-24T18:45:06.116767Z",
     "iopub.status.busy": "2021-06-24T18:45:06.115766Z",
     "iopub.status.idle": "2021-06-24T18:45:06.141766Z",
     "shell.execute_reply": "2021-06-24T18:45:06.141766Z"
    }
   },
   "outputs": [
    {
     "name": "stdout",
     "output_type": "stream",
     "text": [
      "NODE TREE Group 0\n",
      "   -24 s2\n",
      "     freq: 1000 amp: 0.050000000745058 num: 2 pan: 0 lg: 0.10000000149012 gate: 1\n",
      "   469762049 group\n",
      "   402653185 group\n",
      "   335544321 group\n",
      "   268435457 group\n",
      "   201326593 group\n",
      "   134217729 group\n",
      "   67108865 group\n",
      "   1 group\n"
     ]
    }
   ],
   "source": [
    "sc.server.dump_tree()"
   ]
  },
  {
   "cell_type": "markdown",
   "metadata": {},
   "source": [
    "You can also get a python object represenation via"
   ]
  },
  {
   "cell_type": "code",
   "execution_count": 4,
   "metadata": {
    "execution": {
     "iopub.execute_input": "2021-06-24T18:45:06.144764Z",
     "iopub.status.busy": "2021-06-24T18:45:06.144764Z",
     "iopub.status.idle": "2021-06-24T18:45:06.163798Z",
     "shell.execute_reply": "2021-06-24T18:45:06.163798Z"
    }
   },
   "outputs": [
    {
     "data": {
      "text/plain": [
       "Group(0)  {} children=[\n",
       "  <Synth(-24) 's2'  {'freq': 1000.0, 'amp': 0.05000000074505806, 'num': 2.0, 'pan': 0.0, 'lg': 0.10000000149011612, 'gate': 1.0}>,\n",
       "  Group(469762049) ~ {} children=[],\n",
       "  Group(402653185) ~ {} children=[],\n",
       "  Group(335544321) ~ {} children=[],\n",
       "  Group(268435457) ~ {} children=[],\n",
       "  Group(201326593) ~ {} children=[],\n",
       "  Group(134217729) ~ {} children=[],\n",
       "  Group(67108865) ~ {} children=[],\n",
       "  Group(1) ~ {} children=[]]"
      ]
     },
     "execution_count": 1,
     "metadata": {},
     "output_type": "execute_result"
    }
   ],
   "source": [
    "root_node = sc.server.query_all_nodes()\n",
    "root_node"
   ]
  },
  {
   "cell_type": "code",
   "execution_count": 5,
   "metadata": {
    "execution": {
     "iopub.execute_input": "2021-06-24T18:45:06.166799Z",
     "iopub.status.busy": "2021-06-24T18:45:06.166799Z",
     "iopub.status.idle": "2021-06-24T18:45:06.169797Z",
     "shell.execute_reply": "2021-06-24T18:45:06.169797Z"
    }
   },
   "outputs": [
    {
     "data": {
      "text/plain": [
       "Group(1) ~ {} children=[]"
      ]
     },
     "execution_count": 1,
     "metadata": {},
     "output_type": "execute_result"
    }
   ],
   "source": [
    "root_node.children[-1]"
   ]
  },
  {
   "cell_type": "markdown",
   "metadata": {},
   "source": [
    "A node is either a [Synth](#Synth) or a [Group](#Group) of nodes"
   ]
  },
  {
   "cell_type": "markdown",
   "metadata": {},
   "source": [
    "## Synth"
   ]
  },
  {
   "cell_type": "markdown",
   "metadata": {},
   "source": [
    "### Create and control a Synth"
   ]
  },
  {
   "cell_type": "markdown",
   "metadata": {},
   "source": [
    "Create a new Synth"
   ]
  },
  {
   "cell_type": "code",
   "execution_count": 6,
   "metadata": {
    "execution": {
     "iopub.execute_input": "2021-06-24T18:45:06.173797Z",
     "iopub.status.busy": "2021-06-24T18:45:06.172796Z",
     "iopub.status.idle": "2021-06-24T18:45:06.176807Z",
     "shell.execute_reply": "2021-06-24T18:45:06.177798Z"
    }
   },
   "outputs": [
    {
     "data": {
      "text/plain": [
       "<Synth(20001) 's2' s {'freq': 100}>"
      ]
     },
     "execution_count": 1,
     "metadata": {},
     "output_type": "execute_result"
    }
   ],
   "source": [
    "synth = Synth(name=\"s2\", controls={\"freq\": 100})\n",
    "synth"
   ]
  },
  {
   "cell_type": "markdown",
   "metadata": {},
   "source": [
    "You can now hear the Synth playing and see it in the NodeTree"
   ]
  },
  {
   "cell_type": "code",
   "execution_count": 7,
   "metadata": {
    "execution": {
     "iopub.execute_input": "2021-06-24T18:45:06.180797Z",
     "iopub.status.busy": "2021-06-24T18:45:06.180797Z",
     "iopub.status.idle": "2021-06-24T18:45:06.183798Z",
     "shell.execute_reply": "2021-06-24T18:45:06.183798Z"
    }
   },
   "outputs": [
    {
     "data": {
      "text/plain": [
       "Group(67108865) ~ {} children=[]"
      ]
     },
     "execution_count": 1,
     "metadata": {},
     "output_type": "execute_result"
    }
   ],
   "source": [
    "sc.server.default_group"
   ]
  },
  {
   "cell_type": "code",
   "execution_count": 8,
   "metadata": {
    "execution": {
     "iopub.execute_input": "2021-06-24T18:45:06.185796Z",
     "iopub.status.busy": "2021-06-24T18:45:06.185796Z",
     "iopub.status.idle": "2021-06-24T18:45:06.193798Z",
     "shell.execute_reply": "2021-06-24T18:45:06.193798Z"
    }
   },
   "outputs": [
    {
     "data": {
      "text/plain": [
       "Group(0)  {} children=[\n",
       "  <Synth(-24) 's2'  {'freq': 1000.0, 'amp': 0.05000000074505806, 'num': 2.0, 'pan': 0.0, 'lg': 0.10000000149011612, 'gate': 1.0}>,\n",
       "  Group(469762049) ~ {} children=[],\n",
       "  Group(402653185) ~ {} children=[],\n",
       "  Group(335544321) ~ {} children=[],\n",
       "  Group(268435457) ~ {} children=[],\n",
       "  Group(201326593) ~ {} children=[],\n",
       "  Group(134217729) ~ {} children=[],\n",
       "  Group(67108865) ~ {} children=[\n",
       "    <Synth(20001) 's2' ~ {'freq': 100.0, 'amp': 0.30000001192092896, 'num': 4.0, 'pan': 0.0, 'lg': 0.10000000149011612, 'gate': 1.0}>],\n",
       "  Group(1) ~ {} children=[]]"
      ]
     },
     "execution_count": 1,
     "metadata": {},
     "output_type": "execute_result"
    }
   ],
   "source": [
    "sc.server.query_all_nodes()"
   ]
  },
  {
   "cell_type": "markdown",
   "metadata": {},
   "source": [
    "Free a synth"
   ]
  },
  {
   "cell_type": "code",
   "execution_count": 9,
   "metadata": {
    "execution": {
     "iopub.execute_input": "2021-06-24T18:45:06.195803Z",
     "iopub.status.busy": "2021-06-24T18:45:06.195803Z",
     "iopub.status.idle": "2021-06-24T18:45:06.199798Z",
     "shell.execute_reply": "2021-06-24T18:45:06.199798Z"
    }
   },
   "outputs": [
    {
     "data": {
      "text/plain": [
       "<Synth(20001) 's2' f {'freq': 100.0, 'amp': 0.30000001192092896, 'num': 4.0, 'pan': 0.0, 'lg': 0.10000000149011612, 'gate': 1.0}>"
      ]
     },
     "execution_count": 1,
     "metadata": {},
     "output_type": "execute_result"
    }
   ],
   "source": [
    "synth.free()"
   ]
  },
  {
   "cell_type": "markdown",
   "metadata": {},
   "source": [
    "Start the synth again"
   ]
  },
  {
   "cell_type": "code",
   "execution_count": 10,
   "metadata": {
    "execution": {
     "iopub.execute_input": "2021-06-24T18:45:06.202797Z",
     "iopub.status.busy": "2021-06-24T18:45:06.201796Z",
     "iopub.status.idle": "2021-06-24T18:45:06.205797Z",
     "shell.execute_reply": "2021-06-24T18:45:06.205797Z"
    }
   },
   "outputs": [
    {
     "data": {
      "text/plain": [
       "<Synth(20001) 's2' s {'freq': 100.0, 'amp': 0.30000001192092896, 'num': 4.0, 'pan': 0.0, 'lg': 0.10000000149011612, 'gate': 1.0}>"
      ]
     },
     "execution_count": 1,
     "metadata": {},
     "output_type": "execute_result"
    }
   ],
   "source": [
    "synth.new()"
   ]
  },
  {
   "cell_type": "code",
   "execution_count": 11,
   "metadata": {
    "execution": {
     "iopub.execute_input": "2021-06-24T18:45:06.207796Z",
     "iopub.status.busy": "2021-06-24T18:45:06.207796Z",
     "iopub.status.idle": "2021-06-24T18:45:06.209797Z",
     "shell.execute_reply": "2021-06-24T18:45:06.209797Z"
    }
   },
   "outputs": [
    {
     "data": {
      "text/plain": [
       "20001"
      ]
     },
     "execution_count": 1,
     "metadata": {},
     "output_type": "execute_result"
    }
   ],
   "source": [
    "synth.nodeid"
   ]
  },
  {
   "cell_type": "markdown",
   "metadata": {},
   "source": [
    "Calling `new` on an already running synth will cause a SuperCollider Server error"
   ]
  },
  {
   "cell_type": "code",
   "execution_count": 12,
   "metadata": {
    "execution": {
     "iopub.execute_input": "2021-06-24T18:45:06.212797Z",
     "iopub.status.busy": "2021-06-24T18:45:06.211796Z",
     "iopub.status.idle": "2021-06-24T18:45:06.215797Z",
     "shell.execute_reply": "2021-06-24T18:45:06.215797Z"
    }
   },
   "outputs": [
    {
     "data": {
      "text/plain": [
       "<Synth(20001) 's2' s {'freq': 100.0, 'amp': 0.30000001192092896, 'num': 4.0, 'pan': 0.0, 'lg': 0.10000000149011612, 'gate': 1.0}>"
      ]
     },
     "execution_count": 1,
     "metadata": {},
     "output_type": "execute_result"
    }
   ],
   "source": [
    "synth.new()"
   ]
  },
  {
   "cell_type": "markdown",
   "metadata": {},
   "source": [
    "Pause a synth"
   ]
  },
  {
   "cell_type": "code",
   "execution_count": 13,
   "metadata": {
    "execution": {
     "iopub.execute_input": "2021-06-24T18:45:06.218797Z",
     "iopub.status.busy": "2021-06-24T18:45:06.217796Z",
     "iopub.status.idle": "2021-06-24T18:45:06.219797Z",
     "shell.execute_reply": "2021-06-24T18:45:06.219797Z"
    }
   },
   "outputs": [
    {
     "data": {
      "text/plain": [
       "<Synth(20001) 's2' s {'freq': 100.0, 'amp': 0.30000001192092896, 'num': 4.0, 'pan': 0.0, 'lg': 0.10000000149011612, 'gate': 1.0}>"
      ]
     },
     "execution_count": 1,
     "metadata": {},
     "output_type": "execute_result"
    }
   ],
   "source": [
    "synth.run(False)"
   ]
  },
  {
   "cell_type": "code",
   "execution_count": 14,
   "metadata": {
    "execution": {
     "iopub.execute_input": "2021-06-24T18:45:06.222799Z",
     "iopub.status.busy": "2021-06-24T18:45:06.222799Z",
     "iopub.status.idle": "2021-06-24T18:45:06.225800Z",
     "shell.execute_reply": "2021-06-24T18:45:06.225800Z"
    }
   },
   "outputs": [
    {
     "data": {
      "text/plain": [
       "<Synth(20001) 's2' f {'freq': 100.0, 'amp': 0.30000001192092896, 'num': 4.0, 'pan': 0.0, 'lg': 0.10000000149011612, 'gate': 1.0}>"
      ]
     },
     "execution_count": 1,
     "metadata": {},
     "output_type": "execute_result"
    }
   ],
   "source": [
    "synth"
   ]
  },
  {
   "cell_type": "markdown",
   "metadata": {},
   "source": [
    "Run a paused synth"
   ]
  },
  {
   "cell_type": "code",
   "execution_count": 15,
   "metadata": {
    "execution": {
     "iopub.execute_input": "2021-06-24T18:45:06.229797Z",
     "iopub.status.busy": "2021-06-24T18:45:06.228799Z",
     "iopub.status.idle": "2021-06-24T18:45:06.231798Z",
     "shell.execute_reply": "2021-06-24T18:45:06.231798Z"
    }
   },
   "outputs": [
    {
     "data": {
      "text/plain": [
       "<Synth(20001) 's2' f {'freq': 100.0, 'amp': 0.30000001192092896, 'num': 4.0, 'pan': 0.0, 'lg': 0.10000000149011612, 'gate': 1.0}>"
      ]
     },
     "execution_count": 1,
     "metadata": {},
     "output_type": "execute_result"
    }
   ],
   "source": [
    "synth.run() # default flag for run is True"
   ]
  },
  {
   "cell_type": "markdown",
   "metadata": {},
   "source": [
    "You can also wait for a Synth"
   ]
  },
  {
   "cell_type": "code",
   "execution_count": 16,
   "metadata": {
    "execution": {
     "iopub.execute_input": "2021-06-24T18:45:06.234797Z",
     "iopub.status.busy": "2021-06-24T18:45:06.234797Z",
     "iopub.status.idle": "2021-06-24T18:45:08.252118Z",
     "shell.execute_reply": "2021-06-24T18:45:08.252118Z"
    }
   },
   "outputs": [],
   "source": [
    "synth_with_duration = scn.Synth(\"s1\", dict(dur=2))\n",
    "# wait for the Synth to finish playing\n",
    "synth_with_duration.wait()"
   ]
  },
  {
   "cell_type": "markdown",
   "metadata": {},
   "source": [
    "### Set / get Synth parameters"
   ]
  },
  {
   "cell_type": "markdown",
   "metadata": {},
   "source": [
    "Set synth parameters, using any for the following `set` calls\n",
    "\n",
    "    set(key, value, ...)\n",
    "    set(list_of_keys_and_values])\n",
    "    set(dict)"
   ]
  },
  {
   "cell_type": "code",
   "execution_count": 17,
   "metadata": {
    "execution": {
     "iopub.execute_input": "2021-06-24T18:45:08.255118Z",
     "iopub.status.busy": "2021-06-24T18:45:08.255118Z",
     "iopub.status.idle": "2021-06-24T18:45:08.258109Z",
     "shell.execute_reply": "2021-06-24T18:45:08.258109Z"
    }
   },
   "outputs": [
    {
     "data": {
      "text/plain": [
       "<Synth(20001) 's2' f {'freq': 200, 'amp': 0.30000001192092896, 'num': 4.0, 'pan': 0.0, 'lg': 0.10000000149011612, 'gate': 1.0}>"
      ]
     },
     "execution_count": 1,
     "metadata": {},
     "output_type": "execute_result"
    }
   ],
   "source": [
    "synth.set(\"freq\", 200)"
   ]
  },
  {
   "cell_type": "code",
   "execution_count": 18,
   "metadata": {
    "execution": {
     "iopub.execute_input": "2021-06-24T18:45:08.261108Z",
     "iopub.status.busy": "2021-06-24T18:45:08.261108Z",
     "iopub.status.idle": "2021-06-24T18:45:08.263108Z",
     "shell.execute_reply": "2021-06-24T18:45:08.263108Z"
    }
   },
   "outputs": [
    {
     "data": {
      "text/plain": [
       "<Synth(20001) 's2' f {'freq': 30, 'amp': 0.3, 'num': 4.0, 'pan': 0.0, 'lg': 0.10000000149011612, 'gate': 1.0}>"
      ]
     },
     "execution_count": 1,
     "metadata": {},
     "output_type": "execute_result"
    }
   ],
   "source": [
    "synth.set([\"freq\", 30, \"amp\", 0.3])"
   ]
  },
  {
   "cell_type": "code",
   "execution_count": 19,
   "metadata": {
    "execution": {
     "iopub.execute_input": "2021-06-24T18:45:08.266118Z",
     "iopub.status.busy": "2021-06-24T18:45:08.265118Z",
     "iopub.status.idle": "2021-06-24T18:45:08.268118Z",
     "shell.execute_reply": "2021-06-24T18:45:08.268118Z"
    }
   },
   "outputs": [
    {
     "data": {
      "text/plain": [
       "<Synth(20001) 's2' f {'freq': 130, 'amp': 0.1, 'num': 4.0, 'pan': 0.0, 'lg': 0.10000000149011612, 'gate': 1.0}>"
      ]
     },
     "execution_count": 1,
     "metadata": {},
     "output_type": "execute_result"
    }
   ],
   "source": [
    "synth.set({\"freq\": 130, \"amp\": 0.1})"
   ]
  },
  {
   "cell_type": "markdown",
   "metadata": {},
   "source": [
    "The Synth does save its current control arguments in `current_controls`"
   ]
  },
  {
   "cell_type": "code",
   "execution_count": 20,
   "metadata": {
    "execution": {
     "iopub.execute_input": "2021-06-24T18:45:08.271110Z",
     "iopub.status.busy": "2021-06-24T18:45:08.271110Z",
     "iopub.status.idle": "2021-06-24T18:45:08.275110Z",
     "shell.execute_reply": "2021-06-24T18:45:08.275110Z"
    }
   },
   "outputs": [
    {
     "data": {
      "text/plain": [
       "{'freq': 130,\n",
       " 'amp': 0.1,\n",
       " 'num': 4.0,\n",
       " 'pan': 0.0,\n",
       " 'lg': 0.10000000149011612,\n",
       " 'gate': 1.0}"
      ]
     },
     "execution_count": 1,
     "metadata": {},
     "output_type": "execute_result"
    }
   ],
   "source": [
    "synth.current_controls"
   ]
  },
  {
   "cell_type": "markdown",
   "metadata": {},
   "source": [
    "However these are only cached values on the python object. \n",
    "Updating them will only affect the `new` call. See below why this can be useful."
   ]
  },
  {
   "cell_type": "code",
   "execution_count": 21,
   "metadata": {
    "execution": {
     "iopub.execute_input": "2021-06-24T18:45:08.279107Z",
     "iopub.status.busy": "2021-06-24T18:45:08.278108Z",
     "iopub.status.idle": "2021-06-24T18:45:08.281107Z",
     "shell.execute_reply": "2021-06-24T18:45:08.281107Z"
    }
   },
   "outputs": [
    {
     "data": {
      "text/plain": [
       "<Synth(20001) 's2' f {'freq': 440, 'amp': 0.1, 'num': 4.0, 'pan': 0.0, 'lg': 0.10000000149011612, 'gate': 1.0}>"
      ]
     },
     "execution_count": 1,
     "metadata": {},
     "output_type": "execute_result"
    }
   ],
   "source": [
    "synth.current_controls['freq'] = 440\n",
    "synth"
   ]
  },
  {
   "cell_type": "code",
   "execution_count": 22,
   "metadata": {
    "execution": {
     "iopub.execute_input": "2021-06-24T18:45:08.284111Z",
     "iopub.status.busy": "2021-06-24T18:45:08.284111Z",
     "iopub.status.idle": "2021-06-24T18:45:08.288110Z",
     "shell.execute_reply": "2021-06-24T18:45:08.289109Z"
    }
   },
   "outputs": [
    {
     "data": {
      "text/plain": [
       "<Synth(20001) 's2' s {'freq': 440, 'amp': 0.1, 'num': 4.0, 'pan': 0.0, 'lg': 0.10000000149011612, 'gate': 1.0}>"
      ]
     },
     "execution_count": 1,
     "metadata": {},
     "output_type": "execute_result"
    }
   ],
   "source": [
    "synth.free()\n",
    "synth.new() # The new Synth will be created with freq = 440"
   ]
  },
  {
   "cell_type": "markdown",
   "metadata": {},
   "source": [
    "To see what arguments can be set you can look at the `synth_desc`"
   ]
  },
  {
   "cell_type": "code",
   "execution_count": 23,
   "metadata": {
    "execution": {
     "iopub.execute_input": "2021-06-24T18:45:08.292107Z",
     "iopub.status.busy": "2021-06-24T18:45:08.292107Z",
     "iopub.status.idle": "2021-06-24T18:45:08.294107Z",
     "shell.execute_reply": "2021-06-24T18:45:08.294107Z"
    }
   },
   "outputs": [
    {
     "data": {
      "text/plain": [
       "{'freq': SynthArgument(name='freq', rate='control', default=400.0),\n",
       " 'amp': SynthArgument(name='amp', rate='control', default=0.30000001192092896),\n",
       " 'num': SynthArgument(name='num', rate='control', default=4.0),\n",
       " 'pan': SynthArgument(name='pan', rate='control', default=0.0),\n",
       " 'lg': SynthArgument(name='lg', rate='control', default=0.10000000149011612),\n",
       " 'gate': SynthArgument(name='gate', rate='control', default=1.0)}"
      ]
     },
     "execution_count": 1,
     "metadata": {},
     "output_type": "execute_result"
    }
   ],
   "source": [
    "synth.synth_desc"
   ]
  },
  {
   "cell_type": "markdown",
   "metadata": {},
   "source": [
    "You can use ``get`` to see the current value. This will request the current value from the SuperCollider audio server"
   ]
  },
  {
   "cell_type": "code",
   "execution_count": 24,
   "metadata": {
    "execution": {
     "iopub.execute_input": "2021-06-24T18:45:08.297108Z",
     "iopub.status.busy": "2021-06-24T18:45:08.296112Z",
     "iopub.status.idle": "2021-06-24T18:45:08.314121Z",
     "shell.execute_reply": "2021-06-24T18:45:08.314121Z"
    }
   },
   "outputs": [
    {
     "data": {
      "text/plain": [
       "440.0"
      ]
     },
     "execution_count": 1,
     "metadata": {},
     "output_type": "execute_result"
    }
   ],
   "source": [
    "synth.get(\"freq\")"
   ]
  },
  {
   "cell_type": "code",
   "execution_count": 25,
   "metadata": {
    "execution": {
     "iopub.execute_input": "2021-06-24T18:45:08.316121Z",
     "iopub.status.busy": "2021-06-24T18:45:08.316121Z",
     "iopub.status.idle": "2021-06-24T18:45:08.322121Z",
     "shell.execute_reply": "2021-06-24T18:45:08.322121Z"
    }
   },
   "outputs": [
    {
     "data": {
      "text/plain": [
       "0.0"
      ]
     },
     "execution_count": 1,
     "metadata": {},
     "output_type": "execute_result"
    }
   ],
   "source": [
    "synth.get(\"pan\")"
   ]
  },
  {
   "cell_type": "markdown",
   "metadata": {},
   "source": [
    "This will also update the cached values in `current_args`"
   ]
  },
  {
   "cell_type": "code",
   "execution_count": 26,
   "metadata": {
    "execution": {
     "iopub.execute_input": "2021-06-24T18:45:08.325121Z",
     "iopub.status.busy": "2021-06-24T18:45:08.324120Z",
     "iopub.status.idle": "2021-06-24T18:45:08.326121Z",
     "shell.execute_reply": "2021-06-24T18:45:08.326121Z"
    }
   },
   "outputs": [
    {
     "data": {
      "text/plain": [
       "<Synth(20001) 's2' ~ {'freq': 440.0, 'amp': 0.1, 'num': 4.0, 'pan': 0.0, 'lg': 0.10000000149011612, 'gate': 1.0}>"
      ]
     },
     "execution_count": 1,
     "metadata": {},
     "output_type": "execute_result"
    }
   ],
   "source": [
    "synth"
   ]
  },
  {
   "cell_type": "markdown",
   "metadata": {},
   "source": [
    "This is also possible directly with"
   ]
  },
  {
   "cell_type": "code",
   "execution_count": 27,
   "metadata": {
    "execution": {
     "iopub.execute_input": "2021-06-24T18:45:08.328121Z",
     "iopub.status.busy": "2021-06-24T18:45:08.328121Z",
     "iopub.status.idle": "2021-06-24T18:45:08.333121Z",
     "shell.execute_reply": "2021-06-24T18:45:08.333121Z"
    }
   },
   "outputs": [
    {
     "data": {
      "text/plain": [
       "0.0"
      ]
     },
     "execution_count": 1,
     "metadata": {},
     "output_type": "execute_result"
    }
   ],
   "source": [
    "synth.pan"
   ]
  },
  {
   "cell_type": "markdown",
   "metadata": {},
   "source": [
    "Which can also be used for setting the argument"
   ]
  },
  {
   "cell_type": "code",
   "execution_count": 28,
   "metadata": {
    "execution": {
     "iopub.execute_input": "2021-06-24T18:45:08.335121Z",
     "iopub.status.busy": "2021-06-24T18:45:08.335121Z",
     "iopub.status.idle": "2021-06-24T18:45:08.337121Z",
     "shell.execute_reply": "2021-06-24T18:45:08.337121Z"
    }
   },
   "outputs": [],
   "source": [
    "synth.pan = -1 "
   ]
  },
  {
   "cell_type": "markdown",
   "metadata": {},
   "source": [
    "You can also query information about the Synth. Look at [Group](#Group) for more information about these values"
   ]
  },
  {
   "cell_type": "code",
   "execution_count": 29,
   "metadata": {
    "execution": {
     "iopub.execute_input": "2021-06-24T18:45:08.339122Z",
     "iopub.status.busy": "2021-06-24T18:45:08.339122Z",
     "iopub.status.idle": "2021-06-24T18:45:08.352368Z",
     "shell.execute_reply": "2021-06-24T18:45:08.353379Z"
    }
   },
   "outputs": [
    {
     "data": {
      "text/plain": [
       "SynthInfo(nodeid=20001, group=67108865, prev_nodeid=-1, next_nodeid=-1)"
      ]
     },
     "execution_count": 1,
     "metadata": {},
     "output_type": "execute_result"
    }
   ],
   "source": [
    "synth.query()"
   ]
  },
  {
   "cell_type": "code",
   "execution_count": 30,
   "metadata": {
    "execution": {
     "iopub.execute_input": "2021-06-24T18:45:08.355378Z",
     "iopub.status.busy": "2021-06-24T18:45:08.355378Z",
     "iopub.status.idle": "2021-06-24T18:45:08.356379Z",
     "shell.execute_reply": "2021-06-24T18:45:08.357378Z"
    }
   },
   "outputs": [
    {
     "data": {
      "text/plain": [
       "<Synth(20001) 's2' f {'freq': 440.0, 'amp': 0.1, 'num': 4.0, 'pan': -1, 'lg': 0.10000000149011612, 'gate': 1.0}>"
      ]
     },
     "execution_count": 1,
     "metadata": {},
     "output_type": "execute_result"
    }
   ],
   "source": [
    "synth.free()"
   ]
  },
  {
   "cell_type": "markdown",
   "metadata": {},
   "source": [
    "Keep in mind that getting a synth value is always querying the server.\n",
    "\n",
    "This means we need to receive a message which cant be done using the Bundler.\n",
    "If you want to use relative values in a Bundler you should use the cached values from `current_args`"
   ]
  },
  {
   "cell_type": "code",
   "execution_count": 31,
   "metadata": {
    "execution": {
     "iopub.execute_input": "2021-06-24T18:45:08.368378Z",
     "iopub.status.busy": "2021-06-24T18:45:08.368378Z",
     "iopub.status.idle": "2021-06-24T18:45:08.370378Z",
     "shell.execute_reply": "2021-06-24T18:45:08.370378Z"
    }
   },
   "outputs": [],
   "source": [
    "with sc.server.bundler() as bundle:\n",
    "    synth.new({\"freq\": 600})\n",
    "    for _ in range(100):\n",
    "        synth.set(['freq', synth.current_controls['freq'] * 0.99])\n",
    "        bundle.wait(0.05)\n",
    "    synth.free()"
   ]
  },
  {
   "cell_type": "code",
   "execution_count": 32,
   "metadata": {
    "execution": {
     "iopub.execute_input": "2021-06-24T18:45:08.372378Z",
     "iopub.status.busy": "2021-06-24T18:45:08.372378Z",
     "iopub.status.idle": "2021-06-24T18:45:08.375378Z",
     "shell.execute_reply": "2021-06-24T18:45:08.375378Z"
    }
   },
   "outputs": [],
   "source": [
    "synth.wait() # wait for synth"
   ]
  },
  {
   "cell_type": "markdown",
   "metadata": {},
   "source": [
    "Some methods also allow getting the OSC Message instead of sending"
   ]
  },
  {
   "cell_type": "code",
   "execution_count": 33,
   "metadata": {
    "execution": {
     "iopub.execute_input": "2021-06-24T18:45:08.378378Z",
     "iopub.status.busy": "2021-06-24T18:45:08.377380Z",
     "iopub.status.idle": "2021-06-24T18:45:08.380379Z",
     "shell.execute_reply": "2021-06-24T18:45:08.380379Z"
    }
   },
   "outputs": [
    {
     "data": {
      "text/plain": [
       "<OSCMessage(\"/s_new\", ['s2', 20001, 0, 67108865, 'freq', 219.61940002441406, 'amp', 0.10000000149011612, 'num', 4.0, 'pan', -1, 'lg', 0.10000000149011612, 'gate', 1.0])>"
      ]
     },
     "execution_count": 1,
     "metadata": {},
     "output_type": "execute_result"
    }
   ],
   "source": [
    "synth.new(return_msg=True)"
   ]
  },
  {
   "cell_type": "markdown",
   "metadata": {},
   "source": [
    "Refer to the [OSC communication example notebook](../osc-communication-examples.ipynb) if you want to learn more about messages and bundles."
   ]
  },
  {
   "cell_type": "markdown",
   "metadata": {},
   "source": [
    "## Group\n",
    "\n",
    "Nodes can be grouped and controlled together. This gives you mutliple advantages like\n",
    "\n",
    "* controlling multiple Synth together\n",
    "* specifying the execution order of the nodes. For more details look at [Order of nodes](#Order-of-Nodes)"
   ]
  },
  {
   "cell_type": "markdown",
   "metadata": {},
   "source": [
    "The SuperCollider audio server scsynth does have one root Group with the Node ID 0.\n",
    "\n",
    "In this root group each user got an default group were all the Nodes of the user (Synths and Groups) should be located"
   ]
  },
  {
   "cell_type": "code",
   "execution_count": 34,
   "metadata": {
    "execution": {
     "iopub.execute_input": "2021-06-24T18:45:08.382377Z",
     "iopub.status.busy": "2021-06-24T18:45:08.382377Z",
     "iopub.status.idle": "2021-06-24T18:45:08.403068Z",
     "shell.execute_reply": "2021-06-24T18:45:08.403068Z"
    }
   },
   "outputs": [
    {
     "data": {
      "text/plain": [
       "Group(0)  {} children=[\n",
       "  <Synth(-24) 's2'  {'freq': 1000.0, 'amp': 0.05000000074505806, 'num': 2.0, 'pan': 0.0, 'lg': 0.10000000149011612, 'gate': 1.0}>,\n",
       "  Group(469762049) ~ {} children=[],\n",
       "  Group(402653185) ~ {} children=[],\n",
       "  Group(335544321) ~ {} children=[],\n",
       "  Group(268435457) ~ {} children=[],\n",
       "  Group(201326593) ~ {} children=[],\n",
       "  Group(134217729) ~ {} children=[],\n",
       "  Group(67108865) ~ {} children=[],\n",
       "  Group(1) ~ {} children=[]]"
      ]
     },
     "execution_count": 1,
     "metadata": {},
     "output_type": "execute_result"
    }
   ],
   "source": [
    "sc.server.query_all_nodes()"
   ]
  },
  {
   "cell_type": "markdown",
   "metadata": {},
   "source": [
    "We have the following default Group"
   ]
  },
  {
   "cell_type": "code",
   "execution_count": 35,
   "metadata": {
    "execution": {
     "iopub.execute_input": "2021-06-24T18:45:08.406068Z",
     "iopub.status.busy": "2021-06-24T18:45:08.405067Z",
     "iopub.status.idle": "2021-06-24T18:45:08.407068Z",
     "shell.execute_reply": "2021-06-24T18:45:08.407068Z"
    }
   },
   "outputs": [
    {
     "data": {
      "text/plain": [
       "Group(67108865) ~ {} children=[]"
      ]
     },
     "execution_count": 1,
     "metadata": {},
     "output_type": "execute_result"
    }
   ],
   "source": [
    "sc.server.default_group"
   ]
  },
  {
   "cell_type": "markdown",
   "metadata": {},
   "source": [
    "### Creating Groups"
   ]
  },
  {
   "cell_type": "code",
   "execution_count": 36,
   "metadata": {
    "execution": {
     "iopub.execute_input": "2021-06-24T18:45:08.410068Z",
     "iopub.status.busy": "2021-06-24T18:45:08.409067Z",
     "iopub.status.idle": "2021-06-24T18:45:08.411068Z",
     "shell.execute_reply": "2021-06-24T18:45:08.412068Z"
    }
   },
   "outputs": [
    {
     "data": {
      "text/plain": [
       "Group(20003) s {} children=[]"
      ]
     },
     "execution_count": 1,
     "metadata": {},
     "output_type": "execute_result"
    }
   ],
   "source": [
    "g0 = scn.Group()\n",
    "g0"
   ]
  },
  {
   "cell_type": "code",
   "execution_count": 37,
   "metadata": {
    "execution": {
     "iopub.execute_input": "2021-06-24T18:45:08.414069Z",
     "iopub.status.busy": "2021-06-24T18:45:08.414069Z",
     "iopub.status.idle": "2021-06-24T18:45:08.466069Z",
     "shell.execute_reply": "2021-06-24T18:45:08.466069Z"
    }
   },
   "outputs": [
    {
     "name": "stdout",
     "output_type": "stream",
     "text": [
      "NODE TREE Group 0\n",
      "   -24 s2\n",
      "     freq: 1000 amp: 0.050000000745058 num: 2 pan: 0 lg: 0.10000000149012 gate: 1\n",
      "   469762049 group\n",
      "   402653185 group\n",
      "   335544321 group\n",
      "   268435457 group\n",
      "   201326593 group\n",
      "   134217729 group\n",
      "   67108865 group\n",
      "      20001 s2\n",
      "        freq: 594 amp: 0.10000000149012 num: 4 pan: -1 lg: 0.10000000149012 gate: 1\n",
      "      20003 group\n",
      "   1 group\n"
     ]
    }
   ],
   "source": [
    "sc.server.dump_tree()"
   ]
  },
  {
   "cell_type": "code",
   "execution_count": 38,
   "metadata": {
    "execution": {
     "iopub.execute_input": "2021-06-24T18:45:08.469067Z",
     "iopub.status.busy": "2021-06-24T18:45:08.468068Z",
     "iopub.status.idle": "2021-06-24T18:45:08.471070Z",
     "shell.execute_reply": "2021-06-24T18:45:08.471070Z"
    }
   },
   "outputs": [
    {
     "data": {
      "text/plain": [
       "Group(20003) f {} children=[]"
      ]
     },
     "execution_count": 1,
     "metadata": {},
     "output_type": "execute_result"
    }
   ],
   "source": [
    "g0.free()"
   ]
  },
  {
   "cell_type": "code",
   "execution_count": 39,
   "metadata": {
    "execution": {
     "iopub.execute_input": "2021-06-24T18:45:08.473067Z",
     "iopub.status.busy": "2021-06-24T18:45:08.473067Z",
     "iopub.status.idle": "2021-06-24T18:45:08.504068Z",
     "shell.execute_reply": "2021-06-24T18:45:08.504068Z"
    }
   },
   "outputs": [
    {
     "name": "stdout",
     "output_type": "stream",
     "text": [
      "NODE TREE Group 0\n",
      "   -24 s2\n",
      "     freq: 1000 amp: 0.050000000745058 num: 2 pan: 0 lg: 0.10000000149012 gate: 1\n",
      "   469762049 group\n",
      "   402653185 group\n",
      "   335544321 group\n",
      "   268435457 group\n",
      "   201326593 group\n",
      "   134217729 group\n",
      "   67108865 group\n",
      "      20001 s2\n",
      "        freq: 588.05999755859 amp: 0.10000000149012 num: 4 pan: -1 lg: 0.10000000149012 gate: 1\n",
      "   1 group\n"
     ]
    }
   ],
   "source": [
    "sc.server.dump_tree()"
   ]
  },
  {
   "cell_type": "code",
   "execution_count": 40,
   "metadata": {
    "execution": {
     "iopub.execute_input": "2021-06-24T18:45:08.507070Z",
     "iopub.status.busy": "2021-06-24T18:45:08.507070Z",
     "iopub.status.idle": "2021-06-24T18:45:08.510068Z",
     "shell.execute_reply": "2021-06-24T18:45:08.510068Z"
    }
   },
   "outputs": [
    {
     "data": {
      "text/plain": [
       "Group(20003) s {} children=[]"
      ]
     },
     "execution_count": 1,
     "metadata": {},
     "output_type": "execute_result"
    }
   ],
   "source": [
    "g0.new()"
   ]
  },
  {
   "cell_type": "code",
   "execution_count": 41,
   "metadata": {
    "execution": {
     "iopub.execute_input": "2021-06-24T18:45:08.513068Z",
     "iopub.status.busy": "2021-06-24T18:45:08.512071Z",
     "iopub.status.idle": "2021-06-24T18:45:08.532068Z",
     "shell.execute_reply": "2021-06-24T18:45:08.533068Z"
    }
   },
   "outputs": [
    {
     "data": {
      "text/plain": [
       "Group(0)  {} children=[\n",
       "  <Synth(-24) 's2'  {'freq': 1000.0, 'amp': 0.05000000074505806, 'num': 2.0, 'pan': 0.0, 'lg': 0.10000000149011612, 'gate': 1.0}>,\n",
       "  Group(469762049) ~ {} children=[],\n",
       "  Group(402653185) ~ {} children=[],\n",
       "  Group(335544321) ~ {} children=[],\n",
       "  Group(268435457) ~ {} children=[],\n",
       "  Group(201326593) ~ {} children=[],\n",
       "  Group(134217729) ~ {} children=[],\n",
       "  Group(67108865) ~ {} children=[\n",
       "    Group(20003) ~ {} children=[],\n",
       "    <Synth(20001) 's2' ~ {'freq': 582.1793823242188, 'amp': 0.10000000149011612, 'num': 4.0, 'pan': -1.0, 'lg': 0.10000000149011612, 'gate': 1.0}>],\n",
       "  Group(1) ~ {} children=[]]"
      ]
     },
     "execution_count": 1,
     "metadata": {},
     "output_type": "execute_result"
    }
   ],
   "source": [
    "sc.server.query_all_nodes()"
   ]
  },
  {
   "cell_type": "code",
   "execution_count": 42,
   "metadata": {
    "execution": {
     "iopub.execute_input": "2021-06-24T18:45:08.536068Z",
     "iopub.status.busy": "2021-06-24T18:45:08.535067Z",
     "iopub.status.idle": "2021-06-24T18:45:08.537068Z",
     "shell.execute_reply": "2021-06-24T18:45:08.537068Z"
    }
   },
   "outputs": [
    {
     "data": {
      "text/plain": [
       "Group(67108865) ~ {} children=[\n",
       "  Group(20003) ~ {} children=[],\n",
       "  <Synth(20001) 's2' ~ {'freq': 582.1793823242188, 'amp': 0.10000000149011612, 'num': 4.0, 'pan': -1.0, 'lg': 0.10000000149011612, 'gate': 1.0}>]"
      ]
     },
     "execution_count": 1,
     "metadata": {},
     "output_type": "execute_result"
    }
   ],
   "source": [
    "sc.server.default_group"
   ]
  },
  {
   "cell_type": "markdown",
   "metadata": {},
   "source": [
    "Create a Group in our new Group"
   ]
  },
  {
   "cell_type": "code",
   "execution_count": 43,
   "metadata": {
    "execution": {
     "iopub.execute_input": "2021-06-24T18:45:08.540068Z",
     "iopub.status.busy": "2021-06-24T18:45:08.539067Z",
     "iopub.status.idle": "2021-06-24T18:45:08.542068Z",
     "shell.execute_reply": "2021-06-24T18:45:08.542068Z"
    }
   },
   "outputs": [
    {
     "data": {
      "text/plain": [
       "Group(20004) s {} children=[]"
      ]
     },
     "execution_count": 1,
     "metadata": {},
     "output_type": "execute_result"
    }
   ],
   "source": [
    "g1 = scn.Group(target=g0)\n",
    "g1"
   ]
  },
  {
   "cell_type": "code",
   "execution_count": 44,
   "metadata": {
    "execution": {
     "iopub.execute_input": "2021-06-24T18:45:08.544068Z",
     "iopub.status.busy": "2021-06-24T18:45:08.544068Z",
     "iopub.status.idle": "2021-06-24T18:45:08.553084Z",
     "shell.execute_reply": "2021-06-24T18:45:08.553084Z"
    }
   },
   "outputs": [
    {
     "data": {
      "text/plain": [
       "Group(0)  {} children=[\n",
       "  <Synth(-24) 's2'  {'freq': 1000.0, 'amp': 0.05000000074505806, 'num': 2.0, 'pan': 0.0, 'lg': 0.10000000149011612, 'gate': 1.0}>,\n",
       "  Group(469762049) ~ {} children=[],\n",
       "  Group(402653185) ~ {} children=[],\n",
       "  Group(335544321) ~ {} children=[],\n",
       "  Group(268435457) ~ {} children=[],\n",
       "  Group(201326593) ~ {} children=[],\n",
       "  Group(134217729) ~ {} children=[],\n",
       "  Group(67108865) ~ {} children=[\n",
       "    Group(20003) ~ {} children=[ Group(20004) ~ {} children=[]],\n",
       "    <Synth(20001) 's2' ~ {'freq': 582.1793823242188, 'amp': 0.10000000149011612, 'num': 4.0, 'pan': -1.0, 'lg': 0.10000000149011612, 'gate': 1.0}>],\n",
       "  Group(1) ~ {} children=[]]"
      ]
     },
     "execution_count": 1,
     "metadata": {},
     "output_type": "execute_result"
    }
   ],
   "source": [
    "sc.server.query_all_nodes()"
   ]
  },
  {
   "cell_type": "markdown",
   "metadata": {},
   "source": [
    "You can get information about you Group via"
   ]
  },
  {
   "cell_type": "code",
   "execution_count": 45,
   "metadata": {
    "execution": {
     "iopub.execute_input": "2021-06-24T18:45:08.556083Z",
     "iopub.status.busy": "2021-06-24T18:45:08.555084Z",
     "iopub.status.idle": "2021-06-24T18:45:08.572084Z",
     "shell.execute_reply": "2021-06-24T18:45:08.572084Z"
    }
   },
   "outputs": [
    {
     "data": {
      "text/plain": [
       "GroupInfo(nodeid=20003, group=67108865, prev_nodeid=-1, next_nodeid=20001, head=20004, tail=20004)"
      ]
     },
     "execution_count": 1,
     "metadata": {},
     "output_type": "execute_result"
    }
   ],
   "source": [
    "g0.query()"
   ]
  },
  {
   "cell_type": "markdown",
   "metadata": {},
   "source": [
    "The query contains the same information as a Synth query and additionally the head and tail Node of this group.\n",
    "\n",
    "Notice the special value `-1` meaning `None`."
   ]
  },
  {
   "cell_type": "code",
   "execution_count": 46,
   "metadata": {
    "execution": {
     "iopub.execute_input": "2021-06-24T18:45:08.575084Z",
     "iopub.status.busy": "2021-06-24T18:45:08.574084Z",
     "iopub.status.idle": "2021-06-24T18:45:08.583083Z",
     "shell.execute_reply": "2021-06-24T18:45:08.583083Z"
    }
   },
   "outputs": [
    {
     "data": {
      "text/plain": [
       "GroupInfo(nodeid=20004, group=20003, prev_nodeid=-1, next_nodeid=-1, head=-1, tail=-1)"
      ]
     },
     "execution_count": 1,
     "metadata": {},
     "output_type": "execute_result"
    }
   ],
   "source": [
    "g1.query()"
   ]
  },
  {
   "cell_type": "markdown",
   "metadata": {},
   "source": [
    "Free the node"
   ]
  },
  {
   "cell_type": "code",
   "execution_count": 47,
   "metadata": {
    "execution": {
     "iopub.execute_input": "2021-06-24T18:45:08.585083Z",
     "iopub.status.busy": "2021-06-24T18:45:08.585083Z",
     "iopub.status.idle": "2021-06-24T18:45:08.589084Z",
     "shell.execute_reply": "2021-06-24T18:45:08.589084Z"
    }
   },
   "outputs": [
    {
     "data": {
      "text/plain": [
       "Group(20003) f {} children=[ Group(20004) ~ {} children=[]]"
      ]
     },
     "execution_count": 1,
     "metadata": {},
     "output_type": "execute_result"
    }
   ],
   "source": [
    "g0.free()"
   ]
  },
  {
   "cell_type": "code",
   "execution_count": 48,
   "metadata": {
    "execution": {
     "iopub.execute_input": "2021-06-24T18:45:08.592084Z",
     "iopub.status.busy": "2021-06-24T18:45:08.591083Z",
     "iopub.status.idle": "2021-06-24T18:45:08.614146Z",
     "shell.execute_reply": "2021-06-24T18:45:08.614146Z"
    }
   },
   "outputs": [
    {
     "data": {
      "text/plain": [
       "Group(0)  {} children=[\n",
       "  <Synth(-24) 's2'  {'freq': 1000.0, 'amp': 0.05000000074505806, 'num': 2.0, 'pan': 0.0, 'lg': 0.10000000149011612, 'gate': 1.0}>,\n",
       "  Group(469762049) ~ {} children=[],\n",
       "  Group(402653185) ~ {} children=[],\n",
       "  Group(335544321) ~ {} children=[],\n",
       "  Group(268435457) ~ {} children=[],\n",
       "  Group(201326593) ~ {} children=[],\n",
       "  Group(134217729) ~ {} children=[],\n",
       "  Group(67108865) ~ {} children=[\n",
       "    <Synth(20001) 's2' ~ {'freq': 576.3576049804688, 'amp': 0.10000000149011612, 'num': 4.0, 'pan': -1.0, 'lg': 0.10000000149011612, 'gate': 1.0}>],\n",
       "  Group(1) ~ {} children=[]]"
      ]
     },
     "execution_count": 1,
     "metadata": {},
     "output_type": "execute_result"
    }
   ],
   "source": [
    "sc.server.query_all_nodes()"
   ]
  },
  {
   "cell_type": "markdown",
   "metadata": {},
   "source": [
    "## Order of Nodes \n",
    "\n"
   ]
  },
  {
   "cell_type": "markdown",
   "metadata": {},
   "source": [
    "The execution of the Nodes does plays an important role. \n",
    "For more details look at the [SuperCollider Documentation](http://doc.sccode.org/Guides/Order-of-execution.html)"
   ]
  },
  {
   "cell_type": "markdown",
   "metadata": {},
   "source": [
    "The Node placement of a Nodes can be controlled by the instantiation arguments"
   ]
  },
  {
   "cell_type": "markdown",
   "metadata": {},
   "source": [
    "* `add_action` - An AddAction that specifies where to put Node relative to the target"
   ]
  },
  {
   "cell_type": "code",
   "execution_count": 49,
   "metadata": {
    "execution": {
     "iopub.execute_input": "2021-06-24T18:45:08.617146Z",
     "iopub.status.busy": "2021-06-24T18:45:08.617146Z",
     "iopub.status.idle": "2021-06-24T18:45:08.619147Z",
     "shell.execute_reply": "2021-06-24T18:45:08.619147Z"
    }
   },
   "outputs": [
    {
     "data": {
      "text/plain": [
       "[<AddAction.TO_HEAD: 0>,\n",
       " <AddAction.TO_TAIL: 1>,\n",
       " <AddAction.BEFORE: 2>,\n",
       " <AddAction.AFTER: 3>,\n",
       " <AddAction.REPLACE: 4>]"
      ]
     },
     "execution_count": 1,
     "metadata": {},
     "output_type": "execute_result"
    }
   ],
   "source": [
    "list(scn.AddAction)"
   ]
  },
  {
   "cell_type": "markdown",
   "metadata": {},
   "source": [
    "* `target` - The target of the AddAction\n",
    "* `group` - The group were the Node will be placed"
   ]
  },
  {
   "cell_type": "markdown",
   "metadata": {},
   "source": [
    "### Example of Ordering Nodes"
   ]
  },
  {
   "cell_type": "code",
   "execution_count": 50,
   "metadata": {
    "execution": {
     "iopub.execute_input": "2021-06-24T18:45:08.622146Z",
     "iopub.status.busy": "2021-06-24T18:45:08.621148Z",
     "iopub.status.idle": "2021-06-24T18:45:08.624467Z",
     "shell.execute_reply": "2021-06-24T18:45:08.625478Z"
    }
   },
   "outputs": [
    {
     "data": {
      "text/plain": [
       "Group(20005) s {} children=[]"
      ]
     },
     "execution_count": 1,
     "metadata": {},
     "output_type": "execute_result"
    }
   ],
   "source": [
    "g0 = scn.Group()\n",
    "g0"
   ]
  },
  {
   "cell_type": "code",
   "execution_count": 51,
   "metadata": {
    "execution": {
     "iopub.execute_input": "2021-06-24T18:45:08.627478Z",
     "iopub.status.busy": "2021-06-24T18:45:08.627478Z",
     "iopub.status.idle": "2021-06-24T18:45:08.629478Z",
     "shell.execute_reply": "2021-06-24T18:45:08.629478Z"
    }
   },
   "outputs": [
    {
     "data": {
      "text/plain": [
       "Group(20006) s {} children=[]"
      ]
     },
     "execution_count": 1,
     "metadata": {},
     "output_type": "execute_result"
    }
   ],
   "source": [
    "g1 = scn.Group(target=g0)\n",
    "g1"
   ]
  },
  {
   "cell_type": "code",
   "execution_count": 52,
   "metadata": {
    "execution": {
     "iopub.execute_input": "2021-06-24T18:45:08.632478Z",
     "iopub.status.busy": "2021-06-24T18:45:08.631476Z",
     "iopub.status.idle": "2021-06-24T18:45:08.643503Z",
     "shell.execute_reply": "2021-06-24T18:45:08.643503Z"
    }
   },
   "outputs": [],
   "source": [
    "s0 = scn.Synth(target=g0, controls={\"freq\": 200})"
   ]
  },
  {
   "cell_type": "code",
   "execution_count": 53,
   "metadata": {
    "execution": {
     "iopub.execute_input": "2021-06-24T18:45:08.647478Z",
     "iopub.status.busy": "2021-06-24T18:45:08.646481Z",
     "iopub.status.idle": "2021-06-24T18:45:08.649300Z",
     "shell.execute_reply": "2021-06-24T18:45:08.649300Z"
    }
   },
   "outputs": [],
   "source": [
    "s1 = scn.Synth(add_action=scn.AddAction.BEFORE, target=s0, controls={\"freq\": 600})"
   ]
  },
  {
   "cell_type": "code",
   "execution_count": 54,
   "metadata": {
    "execution": {
     "iopub.execute_input": "2021-06-24T18:45:08.654298Z",
     "iopub.status.busy": "2021-06-24T18:45:08.653300Z",
     "iopub.status.idle": "2021-06-24T18:45:08.656297Z",
     "shell.execute_reply": "2021-06-24T18:45:08.656297Z"
    }
   },
   "outputs": [],
   "source": [
    "s2 = scn.Synth(add_action=scn.AddAction.TO_TAIL, target=g1, controls={\"freq\": 1200})"
   ]
  },
  {
   "cell_type": "code",
   "execution_count": 55,
   "metadata": {
    "execution": {
     "iopub.execute_input": "2021-06-24T18:45:08.659297Z",
     "iopub.status.busy": "2021-06-24T18:45:08.658299Z",
     "iopub.status.idle": "2021-06-24T18:45:08.665297Z",
     "shell.execute_reply": "2021-06-24T18:45:08.665297Z"
    }
   },
   "outputs": [
    {
     "data": {
      "text/plain": [
       "Group(0)  {} children=[\n",
       "  <Synth(-24) 's2'  {'freq': 1000.0, 'amp': 0.05000000074505806, 'num': 2.0, 'pan': 0.0, 'lg': 0.10000000149011612, 'gate': 1.0}>,\n",
       "  Group(469762049) ~ {} children=[],\n",
       "  Group(402653185) ~ {} children=[],\n",
       "  Group(335544321) ~ {} children=[],\n",
       "  Group(268435457) ~ {} children=[],\n",
       "  Group(201326593) ~ {} children=[],\n",
       "  Group(134217729) ~ {} children=[],\n",
       "  Group(67108865) ~ {} children=[\n",
       "    Group(20005) ~ {} children=[\n",
       "      <Synth(20008) 'default' ~ {'freq': 600.0, 'out': 0.0, 'amp': 0.10000000149011612, 'pan': 0.0, 'gate': 1.0}>,\n",
       "      <Synth(20007) 'default' ~ {'freq': 200.0, 'out': 0.0, 'amp': 0.10000000149011612, 'pan': 0.0, 'gate': 1.0}>,\n",
       "      Group(20006) ~ {} children=[\n",
       "        <Synth(20009) 'default' ~ {'freq': 1200.0, 'out': 0.0, 'amp': 0.10000000149011612, 'pan': 0.0, 'gate': 1.0}>]],\n",
       "    <Synth(20001) 's2' ~ {'freq': 570.5940551757812, 'amp': 0.10000000149011612, 'num': 4.0, 'pan': -1.0, 'lg': 0.10000000149011612, 'gate': 1.0}>],\n",
       "  Group(1) ~ {} children=[]]"
      ]
     },
     "execution_count": 1,
     "metadata": {},
     "output_type": "execute_result"
    }
   ],
   "source": [
    "sc.server.query_all_nodes()"
   ]
  },
  {
   "cell_type": "code",
   "execution_count": 56,
   "metadata": {
    "execution": {
     "iopub.execute_input": "2021-06-24T18:45:08.668296Z",
     "iopub.status.busy": "2021-06-24T18:45:08.668296Z",
     "iopub.status.idle": "2021-06-24T18:45:08.670296Z",
     "shell.execute_reply": "2021-06-24T18:45:08.670296Z"
    }
   },
   "outputs": [
    {
     "data": {
      "text/plain": [
       "<Synth(20008) 'default' ~ {'freq': 600.0, 'out': 0.0, 'amp': 0.10000000149011612, 'pan': 0.0, 'gate': 1.0}>"
      ]
     },
     "execution_count": 1,
     "metadata": {},
     "output_type": "execute_result"
    }
   ],
   "source": [
    "s1.move(scn.AddAction.BEFORE, s2)"
   ]
  },
  {
   "cell_type": "code",
   "execution_count": 57,
   "metadata": {
    "execution": {
     "iopub.execute_input": "2021-06-24T18:45:08.673297Z",
     "iopub.status.busy": "2021-06-24T18:45:08.672297Z",
     "iopub.status.idle": "2021-06-24T18:45:08.683084Z",
     "shell.execute_reply": "2021-06-24T18:45:08.683084Z"
    }
   },
   "outputs": [
    {
     "data": {
      "text/plain": [
       "Group(0)  {} children=[\n",
       "  <Synth(-24) 's2'  {'freq': 1000.0, 'amp': 0.05000000074505806, 'num': 2.0, 'pan': 0.0, 'lg': 0.10000000149011612, 'gate': 1.0}>,\n",
       "  Group(469762049) ~ {} children=[],\n",
       "  Group(402653185) ~ {} children=[],\n",
       "  Group(335544321) ~ {} children=[],\n",
       "  Group(268435457) ~ {} children=[],\n",
       "  Group(201326593) ~ {} children=[],\n",
       "  Group(134217729) ~ {} children=[],\n",
       "  Group(67108865) ~ {} children=[\n",
       "    Group(20005) ~ {} children=[\n",
       "      <Synth(20007) 'default' ~ {'freq': 200.0, 'out': 0.0, 'amp': 0.10000000149011612, 'pan': 0.0, 'gate': 1.0}>,\n",
       "      Group(20006) ~ {} children=[\n",
       "        <Synth(20008) 'default' ~ {'freq': 600.0, 'out': 0.0, 'amp': 0.10000000149011612, 'pan': 0.0, 'gate': 1.0}>,\n",
       "        <Synth(20009) 'default' ~ {'freq': 1200.0, 'out': 0.0, 'amp': 0.10000000149011612, 'pan': 0.0, 'gate': 1.0}>]],\n",
       "    <Synth(20001) 's2' ~ {'freq': 564.8880615234375, 'amp': 0.10000000149011612, 'num': 4.0, 'pan': -1.0, 'lg': 0.10000000149011612, 'gate': 1.0}>],\n",
       "  Group(1) ~ {} children=[]]"
      ]
     },
     "execution_count": 1,
     "metadata": {},
     "output_type": "execute_result"
    }
   ],
   "source": [
    "sc.server.query_all_nodes()"
   ]
  },
  {
   "cell_type": "code",
   "execution_count": 58,
   "metadata": {
    "execution": {
     "iopub.execute_input": "2021-06-24T18:45:08.686083Z",
     "iopub.status.busy": "2021-06-24T18:45:08.686083Z",
     "iopub.status.idle": "2021-06-24T18:45:08.689084Z",
     "shell.execute_reply": "2021-06-24T18:45:08.689084Z"
    }
   },
   "outputs": [
    {
     "data": {
      "text/plain": [
       "Group(20005) ~ {} children=[\n",
       "  <Synth(20007) 'default' ~ {'freq': 200.0, 'out': 0.0, 'amp': 0.10000000149011612, 'pan': 0.0, 'gate': 1.0}>,\n",
       "  Group(20006) ~ {} children=[\n",
       "    <Synth(20008) 'default' ~ {'freq': 600.0, 'out': 0.0, 'amp': 0.10000000149011612, 'pan': 0.0, 'gate': 1.0}>,\n",
       "    <Synth(20009) 'default' ~ {'freq': 1200.0, 'out': 0.0, 'amp': 0.10000000149011612, 'pan': 0.0, 'gate': 1.0}>]]"
      ]
     },
     "execution_count": 1,
     "metadata": {},
     "output_type": "execute_result"
    }
   ],
   "source": [
    "g0"
   ]
  },
  {
   "cell_type": "code",
   "execution_count": 59,
   "metadata": {
    "execution": {
     "iopub.execute_input": "2021-06-24T18:45:08.692083Z",
     "iopub.status.busy": "2021-06-24T18:45:08.691083Z",
     "iopub.status.idle": "2021-06-24T18:45:08.694083Z",
     "shell.execute_reply": "2021-06-24T18:45:08.694083Z"
    }
   },
   "outputs": [
    {
     "data": {
      "text/plain": [
       "Group(20005) ~ {} children=[\n",
       "  <Synth(20007) 'default' ~ {'freq': 200.0, 'out': 0.0, 'amp': 0.10000000149011612, 'pan': 0.0, 'gate': 1.0}>,\n",
       "  Group(20006) ~ {} children=[\n",
       "    <Synth(20008) 'default' ~ {'freq': 600.0, 'out': 0.0, 'amp': 0.10000000149011612, 'pan': 0.0, 'gate': 1.0}>,\n",
       "    <Synth(20009) 'default' ~ {'freq': 1200.0, 'out': 0.0, 'amp': 0.10000000149011612, 'pan': 0.0, 'gate': 1.0}>]]"
      ]
     },
     "execution_count": 1,
     "metadata": {},
     "output_type": "execute_result"
    }
   ],
   "source": [
    "g0.run(False)"
   ]
  },
  {
   "cell_type": "code",
   "execution_count": 60,
   "metadata": {
    "execution": {
     "iopub.execute_input": "2021-06-24T18:45:08.696083Z",
     "iopub.status.busy": "2021-06-24T18:45:08.696083Z",
     "iopub.status.idle": "2021-06-24T18:45:08.700084Z",
     "shell.execute_reply": "2021-06-24T18:45:08.700084Z"
    }
   },
   "outputs": [
    {
     "data": {
      "text/plain": [
       "Group(20005) ~ {} children=[\n",
       "  <Synth(20007) 'default' ~ {'freq': 200.0, 'out': 0.0, 'amp': 0.10000000149011612, 'pan': 0.0, 'gate': 1.0}>,\n",
       "  Group(20006) ~ {} children=[\n",
       "    <Synth(20008) 'default' ~ {'freq': 600.0, 'out': 0.0, 'amp': 0.10000000149011612, 'pan': 0.0, 'gate': 1.0}>,\n",
       "    <Synth(20009) 'default' ~ {'freq': 1200.0, 'out': 0.0, 'amp': 0.10000000149011612, 'pan': 0.0, 'gate': 1.0}>]]"
      ]
     },
     "execution_count": 1,
     "metadata": {},
     "output_type": "execute_result"
    }
   ],
   "source": [
    "g0.run(True)"
   ]
  },
  {
   "cell_type": "code",
   "execution_count": 61,
   "metadata": {
    "execution": {
     "iopub.execute_input": "2021-06-24T18:45:08.702083Z",
     "iopub.status.busy": "2021-06-24T18:45:08.702083Z",
     "iopub.status.idle": "2021-06-24T18:45:08.713083Z",
     "shell.execute_reply": "2021-06-24T18:45:08.713083Z"
    }
   },
   "outputs": [
    {
     "data": {
      "text/plain": [
       "Group(20006) ~ {} children=[\n",
       "  <Synth(20008) 'default' ~ {'freq': 600.0, 'out': 0.0, 'amp': 0.10000000149011612, 'pan': 0.0, 'gate': 1.0}>,\n",
       "  <Synth(20009) 'default' ~ {'freq': 1200.0, 'out': 0.0, 'amp': 0.10000000149011612, 'pan': 0.0, 'gate': 1.0}>]"
      ]
     },
     "execution_count": 1,
     "metadata": {},
     "output_type": "execute_result"
    }
   ],
   "source": [
    "g1.run(False)\n",
    "g1.query_tree()"
   ]
  },
  {
   "cell_type": "code",
   "execution_count": 62,
   "metadata": {
    "execution": {
     "iopub.execute_input": "2021-06-24T18:45:08.715085Z",
     "iopub.status.busy": "2021-06-24T18:45:08.715085Z",
     "iopub.status.idle": "2021-06-24T18:45:08.753323Z",
     "shell.execute_reply": "2021-06-24T18:45:08.753323Z"
    }
   },
   "outputs": [
    {
     "data": {
      "text/plain": [
       "(200.0, 600.0, 1200.0)"
      ]
     },
     "execution_count": 1,
     "metadata": {},
     "output_type": "execute_result"
    }
   ],
   "source": [
    "s0.freq, s1.freq, s2.freq"
   ]
  },
  {
   "cell_type": "code",
   "execution_count": 63,
   "metadata": {
    "execution": {
     "iopub.execute_input": "2021-06-24T18:45:08.755323Z",
     "iopub.status.busy": "2021-06-24T18:45:08.755323Z",
     "iopub.status.idle": "2021-06-24T18:45:08.793358Z",
     "shell.execute_reply": "2021-06-24T18:45:08.793358Z"
    }
   },
   "outputs": [
    {
     "data": {
      "text/plain": [
       "(100.0, 100.0, 100.0)"
      ]
     },
     "execution_count": 1,
     "metadata": {},
     "output_type": "execute_result"
    }
   ],
   "source": [
    "g0.set(\"freq\", 100)\n",
    "s0.freq, s1.freq, s2.freq"
   ]
  },
  {
   "cell_type": "code",
   "execution_count": 64,
   "metadata": {
    "execution": {
     "iopub.execute_input": "2021-06-24T18:45:08.795357Z",
     "iopub.status.busy": "2021-06-24T18:45:08.795357Z",
     "iopub.status.idle": "2021-06-24T18:45:08.835358Z",
     "shell.execute_reply": "2021-06-24T18:45:08.835358Z"
    }
   },
   "outputs": [
    {
     "name": "stdout",
     "output_type": "stream",
     "text": [
      "NODE TREE Group 0\n",
      "   -24 s2\n",
      "     freq: 1000 amp: 0.050000000745058 num: 2 pan: 0 lg: 0.10000000149012 gate: 1\n",
      "   469762049 group\n",
      "   402653185 group\n",
      "   335544321 group\n",
      "   268435457 group\n",
      "   201326593 group\n",
      "   134217729 group\n",
      "   67108865 group\n",
      "      20005 group\n",
      "         20007 default\n",
      "           out: 0 freq: 100 amp: 0.10000000149012 pan: 0 gate: 1\n",
      "         20006 group\n",
      "            20008 default\n",
      "              out: 0 freq: 100 amp: 0.10000000149012 pan: 0 gate: 1\n",
      "            20009 default\n",
      "              out: 0 freq: 100 amp: 0.10000000149012 pan: 0 gate: 1\n",
      "      20001 s2\n",
      "        freq: 553.64678955078 amp: 0.10000000149012 num: 4 pan: -1 lg: 0.10000000149012 gate: 1\n",
      "   1 group\n"
     ]
    }
   ],
   "source": [
    "sc.server.dump_tree()"
   ]
  },
  {
   "cell_type": "code",
   "execution_count": 65,
   "metadata": {
    "execution": {
     "iopub.execute_input": "2021-06-24T18:45:08.838379Z",
     "iopub.status.busy": "2021-06-24T18:45:08.837357Z",
     "iopub.status.idle": "2021-06-24T18:45:08.840891Z",
     "shell.execute_reply": "2021-06-24T18:45:08.840891Z"
    }
   },
   "outputs": [
    {
     "data": {
      "text/plain": [
       "Group(20006) ~ {} children=[\n",
       "  <Synth(20008) 'default' ~ {'freq': 100.0, 'out': 0.0, 'amp': 0.10000000149011612, 'pan': 0.0, 'gate': 1.0}>,\n",
       "  <Synth(20009) 'default' ~ {'freq': 100.0, 'out': 0.0, 'amp': 0.10000000149011612, 'pan': 0.0, 'gate': 1.0}>]"
      ]
     },
     "execution_count": 1,
     "metadata": {},
     "output_type": "execute_result"
    }
   ],
   "source": [
    "g1.run(True)"
   ]
  },
  {
   "cell_type": "code",
   "execution_count": 66,
   "metadata": {
    "execution": {
     "iopub.execute_input": "2021-06-24T18:45:08.842891Z",
     "iopub.status.busy": "2021-06-24T18:45:08.842891Z",
     "iopub.status.idle": "2021-06-24T18:45:08.854329Z",
     "shell.execute_reply": "2021-06-24T18:45:08.854329Z"
    }
   },
   "outputs": [
    {
     "data": {
      "text/plain": [
       "Group(0)  {} children=[\n",
       "  <Synth(-24) 's2'  {'freq': 1000.0, 'amp': 0.05000000074505806, 'num': 2.0, 'pan': 0.0, 'lg': 0.10000000149011612, 'gate': 1.0}>,\n",
       "  Group(469762049) ~ {} children=[],\n",
       "  Group(402653185) ~ {} children=[],\n",
       "  Group(335544321) ~ {} children=[],\n",
       "  Group(268435457) ~ {} children=[],\n",
       "  Group(201326593) ~ {} children=[],\n",
       "  Group(134217729) ~ {} children=[],\n",
       "  Group(67108865) ~ {} children=[\n",
       "    Group(20005) ~ {'freq': 100} children=[\n",
       "      <Synth(20007) 'default' ~ {'freq': 100.0, 'out': 0.0, 'amp': 0.10000000149011612, 'pan': 0.0, 'gate': 1.0}>,\n",
       "      Group(20006) ~ {} children=[\n",
       "        <Synth(20008) 'default' ~ {'freq': 100.0, 'out': 0.0, 'amp': 0.10000000149011612, 'pan': 0.0, 'gate': 1.0}>,\n",
       "        <Synth(20009) 'default' ~ {'freq': 100.0, 'out': 0.0, 'amp': 0.10000000149011612, 'pan': 0.0, 'gate': 1.0}>]],\n",
       "    <Synth(20001) 's2' ~ {'freq': 548.1103515625, 'amp': 0.10000000149011612, 'num': 4.0, 'pan': -1.0, 'lg': 0.10000000149011612, 'gate': 1.0}>],\n",
       "  Group(1) ~ {} children=[]]"
      ]
     },
     "execution_count": 1,
     "metadata": {},
     "output_type": "execute_result"
    }
   ],
   "source": [
    "sc.server.query_all_nodes()"
   ]
  },
  {
   "cell_type": "code",
   "execution_count": 67,
   "metadata": {
    "execution": {
     "iopub.execute_input": "2021-06-24T18:45:08.856333Z",
     "iopub.status.busy": "2021-06-24T18:45:08.856333Z",
     "iopub.status.idle": "2021-06-24T18:45:08.892372Z",
     "shell.execute_reply": "2021-06-24T18:45:08.892372Z"
    }
   },
   "outputs": [
    {
     "data": {
      "text/plain": [
       "(100.0, 440.0, 440.0)"
      ]
     },
     "execution_count": 1,
     "metadata": {},
     "output_type": "execute_result"
    }
   ],
   "source": [
    "g1.set(\"freq\", 440)\n",
    "\n",
    "s0.freq, s1.freq, s2.freq"
   ]
  },
  {
   "cell_type": "code",
   "execution_count": 68,
   "metadata": {
    "execution": {
     "iopub.execute_input": "2021-06-24T18:45:08.894371Z",
     "iopub.status.busy": "2021-06-24T18:45:08.894371Z",
     "iopub.status.idle": "2021-06-24T18:45:08.912414Z",
     "shell.execute_reply": "2021-06-24T18:45:08.912414Z"
    }
   },
   "outputs": [
    {
     "data": {
      "text/plain": [
       "Group(20005) ~ {'freq': 100} children=[\n",
       "  <Synth(20007) 'default' ~ {'freq': 100.0, 'out': 0.0, 'amp': 0.10000000149011612, 'pan': 0.0, 'gate': 1.0}>,\n",
       "  Group(20006) ~ {'freq': 440} children=[\n",
       "    <Synth(20008) 'default' ~ {'freq': 440.0, 'out': 0.0, 'amp': 0.10000000149011612, 'pan': 0.0, 'gate': 1.0}>,\n",
       "    <Synth(20009) 'default' ~ {'freq': 440.0, 'out': 0.0, 'amp': 0.10000000149011612, 'pan': 0.0, 'gate': 1.0}>]]"
      ]
     },
     "execution_count": 1,
     "metadata": {},
     "output_type": "execute_result"
    }
   ],
   "source": [
    "g0.query_tree()"
   ]
  },
  {
   "cell_type": "code",
   "execution_count": 69,
   "metadata": {
    "execution": {
     "iopub.execute_input": "2021-06-24T18:45:08.914413Z",
     "iopub.status.busy": "2021-06-24T18:45:08.914413Z",
     "iopub.status.idle": "2021-06-24T18:45:08.915414Z",
     "shell.execute_reply": "2021-06-24T18:45:08.916414Z"
    }
   },
   "outputs": [
    {
     "data": {
      "text/plain": [
       "Group(20005) ~ {'freq': 100} children=[\n",
       "  <Synth(20007) 'default' ~ {'freq': 100.0, 'out': 0.0, 'amp': 0.10000000149011612, 'pan': 0.0, 'gate': 1.0}>,\n",
       "  Group(20006) ~ {'freq': 440} children=[\n",
       "    <Synth(20008) 'default' ~ {'freq': 440.0, 'out': 0.0, 'amp': 0.10000000149011612, 'pan': 0.0, 'gate': 1.0}>,\n",
       "    <Synth(20009) 'default' ~ {'freq': 440.0, 'out': 0.0, 'amp': 0.10000000149011612, 'pan': 0.0, 'gate': 1.0}>]]"
      ]
     },
     "execution_count": 1,
     "metadata": {},
     "output_type": "execute_result"
    }
   ],
   "source": [
    "g0.move_node_to_tail(s1)"
   ]
  },
  {
   "cell_type": "code",
   "execution_count": 70,
   "metadata": {
    "execution": {
     "iopub.execute_input": "2021-06-24T18:45:08.919415Z",
     "iopub.status.busy": "2021-06-24T18:45:08.918413Z",
     "iopub.status.idle": "2021-06-24T18:45:08.920415Z",
     "shell.execute_reply": "2021-06-24T18:45:08.921415Z"
    }
   },
   "outputs": [
    {
     "data": {
      "text/plain": [
       "Group(20005) ~ {'freq': 100} children=[\n",
       "  <Synth(20007) 'default' ~ {'freq': 100.0, 'out': 0.0, 'amp': 0.10000000149011612, 'pan': 0.0, 'gate': 1.0}>,\n",
       "  Group(20006) ~ {'freq': 440} children=[\n",
       "    <Synth(20008) 'default' ~ {'freq': 440.0, 'out': 0.0, 'amp': 0.10000000149011612, 'pan': 0.0, 'gate': 1.0}>,\n",
       "    <Synth(20009) 'default' ~ {'freq': 440.0, 'out': 0.0, 'amp': 0.10000000149011612, 'pan': 0.0, 'gate': 1.0}>]]"
      ]
     },
     "execution_count": 1,
     "metadata": {},
     "output_type": "execute_result"
    }
   ],
   "source": [
    "g0.dump_tree()"
   ]
  },
  {
   "cell_type": "code",
   "execution_count": 71,
   "metadata": {
    "execution": {
     "iopub.execute_input": "2021-06-24T18:45:08.924416Z",
     "iopub.status.busy": "2021-06-24T18:45:08.923415Z",
     "iopub.status.idle": "2021-06-24T18:45:08.962191Z",
     "shell.execute_reply": "2021-06-24T18:45:08.962191Z"
    }
   },
   "outputs": [
    {
     "data": {
      "text/plain": [
       "(100.0, 440.0, 800.0)"
      ]
     },
     "execution_count": 1,
     "metadata": {},
     "output_type": "execute_result"
    }
   ],
   "source": [
    "g1.set(\"freq\", 800)\n",
    "\n",
    "s0.freq, s1.freq, s2.freq"
   ]
  },
  {
   "cell_type": "code",
   "execution_count": 72,
   "metadata": {
    "execution": {
     "iopub.execute_input": "2021-06-24T18:45:08.965191Z",
     "iopub.status.busy": "2021-06-24T18:45:08.964190Z",
     "iopub.status.idle": "2021-06-24T18:45:08.974063Z",
     "shell.execute_reply": "2021-06-24T18:45:08.974063Z"
    }
   },
   "outputs": [
    {
     "data": {
      "text/plain": [
       "Group(67108865) ~ {} children=[\n",
       "  Group(20005) ~ {'freq': 100} children=[\n",
       "    <Synth(20007) 'default' ~ {'freq': 100.0, 'out': 0.0, 'amp': 0.10000000149011612, 'pan': 0.0, 'gate': 1.0}>,\n",
       "    Group(20006) ~ {'freq': 800} children=[\n",
       "      <Synth(20009) 'default' ~ {'freq': 800.0, 'out': 0.0, 'amp': 0.10000000149011612, 'pan': 0.0, 'gate': 1.0}>],\n",
       "    <Synth(20008) 'default' ~ {'freq': 440.0, 'out': 0.0, 'amp': 0.10000000149011612, 'pan': 0.0, 'gate': 1.0}>],\n",
       "  <Synth(20001) 's2' ~ {'freq': 548.1103515625, 'amp': 0.10000000149011612, 'num': 4.0, 'pan': -1.0, 'lg': 0.10000000149011612, 'gate': 1.0}>]"
      ]
     },
     "execution_count": 1,
     "metadata": {},
     "output_type": "execute_result"
    }
   ],
   "source": [
    "sc.server.default_group.query_tree()"
   ]
  },
  {
   "cell_type": "code",
   "execution_count": 73,
   "metadata": {
    "execution": {
     "iopub.execute_input": "2021-06-24T18:45:08.976063Z",
     "iopub.status.busy": "2021-06-24T18:45:08.976063Z",
     "iopub.status.idle": "2021-06-24T18:45:09.076563Z",
     "shell.execute_reply": "2021-06-24T18:45:09.077561Z"
    }
   },
   "outputs": [
    {
     "name": "stdout",
     "output_type": "stream",
     "text": [
      "NODE TREE Group 0\n",
      "   469762049 group\n",
      "   402653185 group\n",
      "   335544321 group\n",
      "   268435457 group\n",
      "   201326593 group\n",
      "   134217729 group\n",
      "   67108865 group\n",
      "   1 group\n"
     ]
    }
   ],
   "source": [
    "sc.server.free_all()\n",
    "sc.server.dump_tree()"
   ]
  },
  {
   "cell_type": "code",
   "execution_count": 74,
   "metadata": {
    "execution": {
     "iopub.execute_input": "2021-06-24T18:45:09.079562Z",
     "iopub.status.busy": "2021-06-24T18:45:09.079562Z",
     "iopub.status.idle": "2021-06-24T18:45:10.250795Z",
     "shell.execute_reply": "2021-06-24T18:45:10.250795Z"
    }
   },
   "outputs": [],
   "source": [
    "sc.exit()"
   ]
  },
  {
   "cell_type": "code",
   "execution_count": null,
   "metadata": {},
   "outputs": [],
   "source": []
  }
 ],
 "metadata": {
  "language_info": {
   "codemirror_mode": {
    "name": "ipython",
    "version": 3
   },
   "file_extension": ".py",
   "mimetype": "text/x-python",
   "name": "python",
   "nbconvert_exporter": "python",
   "pygments_lexer": "ipython3",
   "version": "3.7.10"
  },
  "toc": {
   "base_numbering": 1,
   "nav_menu": {},
   "number_sections": true,
   "sideBar": true,
   "skip_h1_title": true,
   "title_cell": "Table of Contents",
   "title_sidebar": "Contents",
   "toc_cell": false,
   "toc_position": {},
   "toc_section_display": true,
   "toc_window_display": false
  },
  "toc-autonumbering": false,
  "toc-showcode": false,
  "toc-showmarkdowntxt": false,
  "toc-showtags": true
 },
 "nbformat": 4,
 "nbformat_minor": 4
}
