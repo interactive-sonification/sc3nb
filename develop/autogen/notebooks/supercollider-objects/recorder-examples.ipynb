{
 "cells": [
  {
   "cell_type": "markdown",
   "metadata": {},
   "source": [
    "# Recorder"
   ]
  },
  {
   "cell_type": "code",
   "execution_count": 1,
   "metadata": {
    "execution": {
     "iopub.execute_input": "2021-07-19T13:49:17.664142Z",
     "iopub.status.busy": "2021-07-19T13:49:17.664142Z",
     "iopub.status.idle": "2021-07-19T13:49:17.830404Z",
     "shell.execute_reply": "2021-07-19T13:49:17.830404Z"
    }
   },
   "outputs": [],
   "source": [
    "import sc3nb as scn"
   ]
  },
  {
   "cell_type": "code",
   "execution_count": 2,
   "metadata": {
    "execution": {
     "iopub.execute_input": "2021-07-19T13:49:17.838404Z",
     "iopub.status.busy": "2021-07-19T13:49:17.838404Z",
     "iopub.status.idle": "2021-07-19T13:49:20.860416Z",
     "shell.execute_reply": "2021-07-19T13:49:20.860416Z"
    }
   },
   "outputs": [
    {
     "data": {
      "application/javascript": [
       "if (typeof Jupyter !== 'undefined') {\n",
       "                        Jupyter.keyboard_manager.command_shortcuts.add_shortcut(\n",
       "                        'Ctrl-.', {\n",
       "                        help : 'Free all nodes on SC server',\n",
       "                        help_index : 'zz',\n",
       "                        handler : function (event) {\n",
       "                            IPython.notebook.kernel.execute(\n",
       "                                \"import sc3nb; sc3nb.SC.get_default().server.free_all(root=True)\"\n",
       "                            )\n",
       "                            return true;}\n",
       "                        });\n",
       "                    }"
      ],
      "text/plain": [
       "<IPython.core.display.Javascript object>"
      ]
     },
     "metadata": {},
     "output_type": "display_data"
    },
    {
     "name": "stdout",
     "output_type": "stream",
     "text": [
      "Starting sclang process... "
     ]
    },
    {
     "name": "stdout",
     "output_type": "stream",
     "text": [
      "Done.\n",
      "Registering OSC /return callback in sclang... Done.\n",
      "Loading default sc3nb SynthDefs... Done.\n",
      "Booting SuperCollider Server... "
     ]
    },
    {
     "name": "stdout",
     "output_type": "stream",
     "text": [
      "Done.\n"
     ]
    }
   ],
   "source": [
    "sc = scn.startup()"
   ]
  },
  {
   "cell_type": "code",
   "execution_count": 3,
   "metadata": {
    "execution": {
     "iopub.execute_input": "2021-07-19T13:49:20.864415Z",
     "iopub.status.busy": "2021-07-19T13:49:20.863416Z",
     "iopub.status.idle": "2021-07-19T13:49:20.868418Z",
     "shell.execute_reply": "2021-07-19T13:49:20.868418Z"
    }
   },
   "outputs": [
    {
     "name": "stdout",
     "output_type": "stream",
     "text": [
      "Help on class Recorder in module sc3nb.sc_objects.recorder:\n",
      "\n",
      "class Recorder(builtins.object)\n",
      " |  Recorder(path: str = 'record.wav', nr_channels: int = 2, rec_header: str = 'wav', rec_format: str = 'int16', bufsize: int = 65536, server: Union[sc3nb.sc_objects.server.SCServer, NoneType] = None)\n",
      " |  \n",
      " |  Allows to record audio easily.\n",
      " |  \n",
      " |  Methods defined here:\n",
      " |  \n",
      " |  __del__(self)\n",
      " |  \n",
      " |  __init__(self, path: str = 'record.wav', nr_channels: int = 2, rec_header: str = 'wav', rec_format: str = 'int16', bufsize: int = 65536, server: Union[sc3nb.sc_objects.server.SCServer, NoneType] = None)\n",
      " |      Create and prepare a recorder.\n",
      " |      \n",
      " |      Parameters\n",
      " |      ----------\n",
      " |      path : str, optional\n",
      " |          path of recording file, by default \"record.wav\"\n",
      " |      nr_channels : int, optional\n",
      " |          Number of channels, by default 2\n",
      " |      rec_header : str, optional\n",
      " |          File format, by default \"wav\"\n",
      " |      rec_format : str, optional\n",
      " |          Recording resolution, by default \"int16\"\n",
      " |      bufsize : int, optional\n",
      " |          size of buffer, by default 65536\n",
      " |      server : SCServer, optional\n",
      " |          server used for recording,\n",
      " |          by default use the SC default server\n",
      " |  \n",
      " |  __repr__(self) -> str\n",
      " |      Return repr(self).\n",
      " |  \n",
      " |  pause(self, timetag: float = 0)\n",
      " |      Pause the recording.\n",
      " |      \n",
      " |      Parameters\n",
      " |      ----------\n",
      " |      timetag : float, by default 0 (immediately)\n",
      " |          Time (or time offset when <1e6) to pause\n",
      " |      \n",
      " |      Raises\n",
      " |      ------\n",
      " |      RuntimeError\n",
      " |          When trying to pause if not recording.\n",
      " |  \n",
      " |  prepare(self, path: str = 'record.wav', nr_channels: int = 2, rec_header: str = 'wav', rec_format: str = 'int16', bufsize: int = 65536)\n",
      " |      Pepare the recorder.\n",
      " |      \n",
      " |      Parameters\n",
      " |      ----------\n",
      " |      path : str, optional\n",
      " |          path of recording file, by default \"record.wav\"\n",
      " |      nr_channels : int, optional\n",
      " |          Number of channels, by default 2\n",
      " |      rec_header : str, optional\n",
      " |          File format, by default \"wav\"\n",
      " |      rec_format : str, optional\n",
      " |          Recording resolution, by default \"int16\"\n",
      " |      bufsize : int, optional\n",
      " |          size of buffer, by default 65536\n",
      " |      \n",
      " |      Raises\n",
      " |      ------\n",
      " |      RuntimeError\n",
      " |          When Recorder does not needs to be prepared.\n",
      " |  \n",
      " |  resume(self, timetag: float = 0)\n",
      " |      Resume the recording\n",
      " |      \n",
      " |      Parameters\n",
      " |      ----------\n",
      " |      timetag : float, by default 0 (immediately)\n",
      " |          Time (or time offset when <1e6) to resume\n",
      " |      \n",
      " |      Raises\n",
      " |      ------\n",
      " |      RuntimeError\n",
      " |          When trying to resume if not paused.\n",
      " |  \n",
      " |  start(self, timetag: float = 0, duration: Union[float, NoneType] = None, node: Union[sc3nb.sc_objects.node.Node, int] = 0, bus: int = 0)\n",
      " |      Start the recording.\n",
      " |      \n",
      " |      Parameters\n",
      " |      ----------\n",
      " |      timetag : float, by default 0 (immediately)\n",
      " |          Time (or time offset when <1e6) to start\n",
      " |      duration : float, optional\n",
      " |          Length of the recording, by default until stopped.\n",
      " |      node : Union[Node, int], optional\n",
      " |          Node that should be recorded, by default 0\n",
      " |      bus : int, by default 0\n",
      " |          Bus that should be recorded\n",
      " |      \n",
      " |      Raises\n",
      " |      ------\n",
      " |      RuntimeError\n",
      " |          When trying to start a recording unprepared.\n",
      " |  \n",
      " |  stop(self, timetag: float = 0)\n",
      " |      Stop the recording.\n",
      " |      \n",
      " |      Parameters\n",
      " |      ----------\n",
      " |      timetag : float, by default 0 (immediately)\n",
      " |          Time (or time offset when <1e6) to stop\n",
      " |      \n",
      " |      Raises\n",
      " |      ------\n",
      " |      RuntimeError\n",
      " |          When trying to stop if not started.\n",
      " |  \n",
      " |  ----------------------------------------------------------------------\n",
      " |  Data descriptors defined here:\n",
      " |  \n",
      " |  __dict__\n",
      " |      dictionary for instance variables (if defined)\n",
      " |  \n",
      " |  __weakref__\n",
      " |      list of weak references to the object (if defined)\n",
      "\n"
     ]
    }
   ],
   "source": [
    "help(scn.Recorder)"
   ]
  },
  {
   "cell_type": "markdown",
   "metadata": {},
   "source": [
    "## Recording sound into a file"
   ]
  },
  {
   "cell_type": "code",
   "execution_count": 4,
   "metadata": {
    "execution": {
     "iopub.execute_input": "2021-07-19T13:49:20.872416Z",
     "iopub.status.busy": "2021-07-19T13:49:20.872416Z",
     "iopub.status.idle": "2021-07-19T13:49:20.970489Z",
     "shell.execute_reply": "2021-07-19T13:49:20.971490Z"
    }
   },
   "outputs": [],
   "source": [
    "# use the Recording class to capture the output\n",
    "recorder = scn.Recorder(path=\"my_record.wav\")\n",
    "\n",
    "with sc.server.bundler() as bundler:\n",
    "    recorder.start(0.1)\n",
    "    # /s_new synth name, node id, add action (0 to head), target (1 default group), synth arguments...\n",
    "    scn.Synth(\"s1\", {\"freq\": 200, \"dur\": 1})\n",
    "    bundler.wait(0.3)\n",
    "    scn.Synth(\"s1\", {\"freq\": 300, \"dur\": 1})\n",
    "    recorder.stop(1.5)"
   ]
  },
  {
   "cell_type": "markdown",
   "metadata": {},
   "source": [
    "* note that the sorting in scsynth node tree is with 'at begin' rule\n",
    "* otherwise the rendered tones would be rendered after the outbus was written to file resulting in an empty file.\n",
    "* the file is located in the same folder as this .ipynb file."
   ]
  },
  {
   "cell_type": "code",
   "execution_count": 5,
   "metadata": {
    "execution": {
     "iopub.execute_input": "2021-07-19T13:49:20.974489Z",
     "iopub.status.busy": "2021-07-19T13:49:20.973490Z",
     "iopub.status.idle": "2021-07-19T13:49:21.242924Z",
     "shell.execute_reply": "2021-07-19T13:49:21.242924Z"
    }
   },
   "outputs": [
    {
     "name": "stdout",
     "output_type": "stream",
     "text": [
      "Quitting SCServer... "
     ]
    },
    {
     "name": "stdout",
     "output_type": "stream",
     "text": [
      "Done.\n",
      "Exiting sclang... "
     ]
    },
    {
     "name": "stdout",
     "output_type": "stream",
     "text": [
      "Done.\n"
     ]
    }
   ],
   "source": [
    "sc.exit()"
   ]
  },
  {
   "cell_type": "code",
   "execution_count": null,
   "metadata": {},
   "outputs": [],
   "source": []
  }
 ],
 "metadata": {
  "language_info": {
   "codemirror_mode": {
    "name": "ipython",
    "version": 3
   },
   "file_extension": ".py",
   "mimetype": "text/x-python",
   "name": "python",
   "nbconvert_exporter": "python",
   "pygments_lexer": "ipython3",
   "version": "3.7.10"
  }
 },
 "nbformat": 4,
 "nbformat_minor": 4
}
