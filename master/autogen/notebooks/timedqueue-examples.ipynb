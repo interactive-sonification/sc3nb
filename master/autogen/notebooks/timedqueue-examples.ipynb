{
 "cells": [
  {
   "cell_type": "markdown",
   "metadata": {},
   "source": [
    "# TimedQueue"
   ]
  },
  {
   "cell_type": "markdown",
   "metadata": {},
   "source": [
    "## Motivation:\n",
    "* for sonifications (or any sound composition) with precise timing, usually a large number of events need to be spawned at the exact time.\n",
    "* doing this with bundles doesn't work as the OSC buffer of scsynth is limited\n",
    "* it needs a TimedQueue where events can be added for time-precise dispatching\n",
    "* In TimedQueue, a thread then simply checks what items are due and executes them\n",
    "* allowing arbitrary functions as objects to be queued for execution enables both sound-specific usecases (e.g. sending OSC messages/bundles) and also other things such as visualization\n",
    "* However, the functions should complete really quickly as otherwise the queue would run late and fail to process due events\n",
    "* hence, it remains in the user's responsibility to be careful\n",
    "* If, however, longer programs are needed, functions can be spawned as threads on execution"
   ]
  },
  {
   "cell_type": "markdown",
   "metadata": {},
   "source": [
    "## Basic Demo of TimedQueue\n",
    "The following demo illustrate the core functionality with console print and sound.\n",
    "Please check the console / shell from which you have launched jupyter-notebook (i.e. your stdout)"
   ]
  },
  {
   "cell_type": "code",
   "execution_count": null,
   "metadata": {},
   "outputs": [],
   "source": [
    "import sys, os, time, random\n",
    "import numpy as np\n",
    "\n",
    "import sc3nb as scn"
   ]
  },
  {
   "cell_type": "code",
   "execution_count": null,
   "metadata": {},
   "outputs": [],
   "source": [
    "sc = scn.startup()"
   ]
  },
  {
   "cell_type": "code",
   "execution_count": null,
   "metadata": {},
   "outputs": [],
   "source": [
    "queue = scn.TimedQueue()"
   ]
  },
  {
   "cell_type": "code",
   "execution_count": null,
   "metadata": {},
   "outputs": [],
   "source": [
    "def myfun(x):\n",
    "    os.write(1, \"{}\\n\".format(x).encode())\n",
    "    sys.stderr.flush()\n",
    "    \n",
    "def myblip(freq):\n",
    "    sc.server.msg(\"/s_new\", [\"s1\", -1, 1, 0, \"freq\", freq, \"num\", 3])"
   ]
  },
  {
   "cell_type": "code",
   "execution_count": null,
   "metadata": {},
   "outputs": [],
   "source": [
    "myfun(4)  # the number is written to stdout"
   ]
  },
  {
   "cell_type": "code",
   "execution_count": null,
   "metadata": {},
   "outputs": [],
   "source": [
    "myblip(700) # a tone should play"
   ]
  },
  {
   "cell_type": "code",
   "execution_count": null,
   "metadata": {},
   "outputs": [],
   "source": [
    "t0 = time.time()\n",
    "for i in range(50):\n",
    "    queue.put(t0+i*0.04, myblip, 800+1*7*i)\n",
    "    queue.put(t0+i*0.04, myfun,  400+30*i)  # plots on stderr = console\n",
    "print(time.time()-t0)"
   ]
  },
  {
   "cell_type": "markdown",
   "metadata": {},
   "source": [
    "Note that the code returns immediately, allowing you to interact with jupyter. All executions are then done by means of the TimedQueue"
   ]
  },
  {
   "cell_type": "code",
   "execution_count": null,
   "metadata": {},
   "outputs": [],
   "source": [
    "queue.close()"
   ]
  },
  {
   "cell_type": "markdown",
   "metadata": {},
   "source": [
    "## TimedQueueSC"
   ]
  },
  {
   "cell_type": "markdown",
   "metadata": {},
   "source": [
    "To allow easy and fast usage of SC messages and bundles `TimedQueueSC` was created\n",
    "\n",
    "* `put_msg(onset, address, params)`<br>allows to send a message from python at onset.\n",
    "\n",
    "* `put_bundler(onset, bundler)`<br>allows to send a bundler from python at onset."
   ]
  },
  {
   "cell_type": "markdown",
   "metadata": {},
   "source": [
    "## TimedQueueSC example with synchronized sound and mpl plot"
   ]
  },
  {
   "cell_type": "markdown",
   "metadata": {},
   "source": [
    "* This example shows how to highlight data points as they are played.\n",
    "* However, the marking is reset for every new data point, i.e. data points are not highlighted as long as the corresponding sound lasts\n",
    "* to achieve that, see code example below\n",
    "\n",
    "**Note that there are sometimes some strange effects with matplotlib event loop hickups in Mac, it is untested with Linux or Windows, any problem reports or suggested solutions are welcome.**"
   ]
  },
  {
   "cell_type": "code",
   "execution_count": null,
   "metadata": {},
   "outputs": [],
   "source": [
    "import matplotlib\n",
    "import matplotlib.pyplot as plt\n",
    "%matplotlib qt5"
   ]
  },
  {
   "cell_type": "code",
   "execution_count": null,
   "metadata": {},
   "outputs": [],
   "source": [
    "# create some test data\n",
    "data = np.vstack((np.random.randn(50, 5), np.random.randn(100, 5)+3.5))"
   ]
  },
  {
   "cell_type": "code",
   "execution_count": null,
   "metadata": {},
   "outputs": [],
   "source": [
    "# create figure, axis, plots -> a window should open depicting two clusters\n",
    "fig, ax = plt.subplots(1)  # create figure\n",
    "mngr = plt.get_current_fig_manager(); mngr.window.setGeometry(1200, 0, 500, 400)\n",
    "pldata, = ax.plot(data[:,1], data[:,2], \".\", ms=5) # create plots\n",
    "plmarked, = ax.plot([], [], \"ro\", ms=5, lw=0.5)\n",
    "plt.show(block=False); plt.ion(); fig.canvas.draw() # not needed if plot shows\n",
    "\n",
    "# create the queue\n",
    "queue = scn.TimedQueueSC()"
   ]
  },
  {
   "cell_type": "code",
   "execution_count": null,
   "metadata": {},
   "outputs": [],
   "source": [
    "def update_plot(x, y):\n",
    "    global fig, ax, pldata, plmarked\n",
    "    plmarked.set_data([x], [y])\n",
    "    ax.draw_artist(ax.patch)\n",
    "    ax.draw_artist(pldata)\n",
    "    ax.draw_artist(plmarked)\n",
    "    fig.canvas.update() # additional fig.canvas.flush_events() not needed?"
   ]
  },
  {
   "cell_type": "code",
   "execution_count": null,
   "metadata": {},
   "outputs": [],
   "source": [
    "t0 = time.time()\n",
    "for i, r in enumerate(data):\n",
    "    onset = t0 + scn.linlin(r[1], data[:,1].min(), data[:,1].max(), 0.1, 4) + random.random()*0.2 + 0.2\n",
    "    freq = scn.midicps(scn.linlin(r[2], 2, 5, 60, 80))\n",
    "    pos = scn.linlin(r[4], 0, 2, -1, 1)\n",
    "    queue.put_bundler(onset-0.2, scn.Bundler(onset, \"/s_new\", [\"s1\", -1, 1, 0, \"freq\", freq, \"amp\", 0.05, \"dur\", .52, \"pos\", pos]))\n",
    "    queue.put(onset, update_plot, (r[1], r[2]), spawn=False)\n",
    "print(f'time used: {time.time() - t0}')"
   ]
  },
  {
   "cell_type": "markdown",
   "metadata": {},
   "source": [
    "Notice that any data point is turned red the moment its sound starts."
   ]
  },
  {
   "cell_type": "markdown",
   "metadata": {},
   "source": [
    "## TimedQueueSC PMSon with matplotlib highlights"
   ]
  },
  {
   "cell_type": "markdown",
   "metadata": {},
   "source": [
    "The following example illustrates how to use TimedQueues to maintain a 'currently playing selection' of data points, so that the GUI highlighting is deactivated when the corresponding sound stops\n",
    "\n",
    "* this is achieved by scheduling a select and an unselect function at corresponding sound onset and stop time\n",
    "* Note that here the plot update is done within a second loop of scheduled 'update_plot' invocations, at an frame rate independent of the sound events."
   ]
  },
  {
   "cell_type": "code",
   "execution_count": null,
   "metadata": {},
   "outputs": [],
   "source": [
    "data = np.vstack((np.random.randn(300, 7), np.random.randn(300, 7)+5))"
   ]
  },
  {
   "cell_type": "code",
   "execution_count": null,
   "metadata": {},
   "outputs": [],
   "source": [
    "# create figure\n",
    "fig, ax = plt.subplots(1)  # create figure\n",
    "mngr = plt.get_current_fig_manager()\n",
    "mngr.window.setGeometry(1200, 0, 500, 400)\n",
    "plt.show()\n",
    "\n",
    "# create the queue\n",
    "queue = scn.TimedQueueSC()"
   ]
  },
  {
   "cell_type": "code",
   "execution_count": null,
   "metadata": {},
   "outputs": [],
   "source": [
    "def mapcol(row, stats, col, val_from, val_to):  # helper for mapping\n",
    "    return scn.linlin(row[col], stats[col, 0], stats[col, 1], val_from, val_to)\n",
    "\n",
    "def select(i):  #  highlight selection\n",
    "    selected[i] = True\n",
    "\n",
    "def unselect(i): # lowlight selection\n",
    "    selected[i] = False\n",
    "\n",
    "def update_plot(xs, ys): \n",
    "    global fig, ax, pldata, plmarked, selected\n",
    "    plmarked.set_data(xs[selected], ys[selected])\n",
    "    ax.draw_artist(ax.patch)\n",
    "    ax.draw_artist(pldata)\n",
    "    ax.draw_artist(plmarked)\n",
    "    fig.canvas.flush_events()\n",
    "    fig.canvas.update()\n",
    "\n",
    "# parameter mapping sonification with GUI\n",
    "tot_dur = 5  # total duration of the sonification\n",
    "max_ev_dur = 5.5  # maximal event duration\n",
    "delay = 1  # offset\n",
    "\n",
    "stats = np.vstack((np.min(data, 0), np.max(data, 0))).T\n",
    "selected = np.zeros(np.shape(data)[0], bool)\n",
    "\n",
    "# create axis, plots\n",
    "ax.clear()\n",
    "plmarked, = ax.plot([], [], \"ro\", ms=4, lw=0.5)\n",
    "pldata, = ax.plot(data[:,1], data[:,2], \".\", ms=2) # create plots\n",
    "\n",
    "t0 = time.time()\n",
    "\n",
    "for i, r in enumerate(data):\n",
    "    onset = t0 + delay + 5* i/800 # mapcol(r, stats, 3, 0, tot_dur)\n",
    "    freq  = scn.midicps( mapcol(r, stats, 2, 60, 90))\n",
    "    ev_dur = mapcol(r, stats, 4, 0.2, max_ev_dur)\n",
    "    # sonification\n",
    "    synth_args = [\"s1\", -1, 1, 0, \"freq\", freq, \"amp\", 0.05, \"dur\", ev_dur, \"pos\", pos]\n",
    "    bundler = scn.Bundler(onset, \"/s_new\", synth_args)\n",
    "    queue.put_bundler(onset-delay, bundler)\n",
    "    # on/off events of marker highlight\n",
    "    queue.put(onset, select, i)\n",
    "    queue.put(onset + ev_dur, unselect, i)\n",
    "\n",
    "# update plot at given rate from earliest to latext time\n",
    "for t in np.arange(t0, t0+delay+tot_dur+ev_dur+1, 1/10):  # 1 / update rate\n",
    "    queue.put(t, update_plot, (data[:,1], data[:,2]))"
   ]
  },
  {
   "cell_type": "markdown",
   "metadata": {},
   "source": [
    "## TimedQueueSC PMSon with timeseries data and matplotlib"
   ]
  },
  {
   "cell_type": "markdown",
   "metadata": {},
   "source": [
    "The following example illustrates howto create a continuous sonification with concurrent plotting the time in a plot\n",
    "\n",
    "* This presumes time-indexable data\n",
    "* a 'maximum onset' variable is maintained to shutdown the continuously playing synths when done\n",
    "* note that the highlight will only replot the marker, required time is thus independent of the amount of data plotted in the other plot."
   ]
  },
  {
   "cell_type": "code",
   "execution_count": null,
   "metadata": {},
   "outputs": [],
   "source": [
    "ts = np.arange(0, 20, 0.01)\n",
    "data = np.vstack((ts, \n",
    "                  np.sin(2.5*ts) + 0.01*ts*np.random.randn(np.shape(ts)[0]), \n",
    "                  0.08*ts[::-1]*np.cos(3.5*ts)**2)).T"
   ]
  },
  {
   "cell_type": "code",
   "execution_count": null,
   "metadata": {},
   "outputs": [],
   "source": [
    "# create figure\n",
    "fig, ax = plt.subplots(1)  # create figure\n",
    "mngr = plt.get_current_fig_manager(); mngr.window.setGeometry(1200, 0, 500, 400)\n",
    "\n",
    "# create axis, plots\n",
    "ax.clear()\n",
    "plmarked, = ax.plot([], [], \"r-\", lw=1)\n",
    "pldata1, = ax.plot(data[:,0], data[:,1], \"-\", ms=2) # create plot 1\n",
    "pldata2, = ax.plot(data[:,0], data[:,2], \"-\", ms=2) # create plot 2"
   ]
  },
  {
   "cell_type": "code",
   "execution_count": null,
   "metadata": {},
   "outputs": [],
   "source": [
    "# create the queue\n",
    "queue = scn.TimedQueueSC()\n",
    "\n",
    "def mapcol(row, stats, col, val_from, val_to):  # helper for mapping\n",
    "    return scn.linlin(row[col], stats[col, 0], stats[col, 1], val_from, val_to)\n",
    "\n",
    "def update_plot(t): \n",
    "    global fig, ax, pldata1, pldata2, plmarked, selected\n",
    "    plmarked.set_data([t,t], [-10000, 10000])\n",
    "    ax.draw_artist(ax.patch)\n",
    "    ax.draw_artist(pldata1)\n",
    "    ax.draw_artist(pldata2)\n",
    "    ax.draw_artist(plmarked)\n",
    "    fig.canvas.update()\n",
    "    # fig.canvas.flush_events()\n",
    "\n",
    "stats = np.vstack((np.min(data, 0), np.max(data, 0))).T\n",
    "selected = np.zeros(np.shape(data)[0], bool)\n",
    "\n",
    "# parameter mapping sonification with GUI\n",
    "delay = 0.5\n",
    "rate = 2\n",
    "\n",
    "t0 = time.time()\n",
    "queue.put_msg(t0, \"/s_new\", [\"s2\", 1200, 1, 0, \"amp\", 0])\n",
    "queue.put_msg(t0, \"/s_new\", [\"s2\", 1201, 1, 0, \"amp\", 0])\n",
    "\n",
    "max_onset = 0\n",
    "latest_gui_onset = 0\n",
    "gui_frame_rate = 60\n",
    "\n",
    "ts = []\n",
    "for i, r in enumerate(data[::2, :]):\n",
    "    ts.append(time.time()-t0)\n",
    "    if i==0: tmin = r[0]\n",
    "    onset = (r[0]-tmin)/rate\n",
    "    freq  = scn.midicps( mapcol(r, stats, 1, 60, 70))\n",
    "    freqR = 0.5 * scn.midicps( mapcol(r, stats, 2, 70, 80))\n",
    "\n",
    "    # sonification\n",
    "    tt = t0 + delay + onset\n",
    "    if tt > max_onset: max_onset = tt\n",
    "    bundler = scn.Bundler(tt)\n",
    "    bundler.add(0, \"/n_set\", [1200, \"freq\", freq, \"num\", 4, \"amp\", 0.2, \"pan\", -1, \"lg\", 0])\n",
    "    bundler.add(0, \"/n_set\", [1201, \"freq\", freqR, \"num\", 1, \"amp\", 0.1, \"pan\", 1])\n",
    "    queue.put_bundler(tt-0.2, bundler)\n",
    "    if tt > latest_gui_onset + 1/gui_frame_rate:  # not more than needed gui updates\n",
    "        latest_gui_onset = tt\n",
    "        queue.put(tt, update_plot, (r[0],), spawn=False)\n",
    "queue.put_msg(max_onset, \"/n_free\", [1200])\n",
    "queue.put_msg(max_onset, \"/n_free\", [1201])\n",
    "              \n",
    "# queue.join()\n",
    "print(time.time()-t0)"
   ]
  },
  {
   "cell_type": "code",
   "execution_count": null,
   "metadata": {},
   "outputs": [],
   "source": [
    "sc.exit()"
   ]
  }
 ],
 "metadata": {
  "hide_input": false,
  "nbsphinx": {
   "execute": "never"
  },
  "toc": {
   "base_numbering": 1,
   "nav_menu": {},
   "number_sections": true,
   "sideBar": true,
   "skip_h1_title": false,
   "title_cell": "Table of Contents",
   "title_sidebar": "Contents",
   "toc_cell": false,
   "toc_position": {},
   "toc_section_display": true,
   "toc_window_display": false
  }
 },
 "nbformat": 4,
 "nbformat_minor": 4
}
