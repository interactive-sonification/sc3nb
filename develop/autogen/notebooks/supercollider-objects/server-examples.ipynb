{
 "cells": [
  {
   "cell_type": "markdown",
   "metadata": {},
   "source": [
    "# Server"
   ]
  },
  {
   "cell_type": "code",
   "execution_count": 1,
   "metadata": {
    "execution": {
     "iopub.execute_input": "2021-07-19T13:39:24.620986Z",
     "iopub.status.busy": "2021-07-19T13:39:24.620986Z",
     "iopub.status.idle": "2021-07-19T13:39:24.799987Z",
     "shell.execute_reply": "2021-07-19T13:39:24.799987Z"
    }
   },
   "outputs": [],
   "source": [
    "import sc3nb as scn"
   ]
  },
  {
   "cell_type": "markdown",
   "metadata": {},
   "source": [
    "The `SCServer` class is the central interface for \n",
    "\n",
    "* controlling the SuperCollider audio server process\n",
    "* managing SuperCollider Objects\n",
    "* using OSC for outgoing and incoming packets\n",
    "\n",
    "\n",
    "To achieve all this the SCServer is\n",
    "\n",
    "* registered as a client to the SuperCollider audio server process (scsynth) and exchanging [SuperCollider Commands](http://doc.sccode.org/Reference/Server-Command-Reference.html) with the server process\n",
    "* and also running an OSC server in python which can communicate via OSC with scsynth and sclang.\n",
    "\n",
    "\n",
    "For information about how to communicate using OSC see the [OSC communication notebook](../osc-communication-examples.ipynb). This notebook focuses on using the `SCServer` class for interacting with scsynth "
   ]
  },
  {
   "cell_type": "markdown",
   "metadata": {},
   "source": [
    "## Starting the Server"
   ]
  },
  {
   "cell_type": "markdown",
   "metadata": {},
   "source": [
    "The most convienent way is to use the default sc3nb `SCServer` instance"
   ]
  },
  {
   "cell_type": "code",
   "execution_count": 2,
   "metadata": {
    "execution": {
     "iopub.execute_input": "2021-07-19T13:39:24.808987Z",
     "iopub.status.busy": "2021-07-19T13:39:24.807991Z",
     "iopub.status.idle": "2021-07-19T13:39:27.862988Z",
     "shell.execute_reply": "2021-07-19T13:39:27.862988Z"
    }
   },
   "outputs": [
    {
     "data": {
      "application/javascript": [
       "if (typeof Jupyter !== 'undefined') {\n",
       "                        Jupyter.keyboard_manager.command_shortcuts.add_shortcut(\n",
       "                        'Ctrl-.', {\n",
       "                        help : 'Free all nodes on SC server',\n",
       "                        help_index : 'zz',\n",
       "                        handler : function (event) {\n",
       "                            IPython.notebook.kernel.execute(\n",
       "                                \"import sc3nb; sc3nb.SC.get_default().server.free_all(root=True)\"\n",
       "                            )\n",
       "                            return true;}\n",
       "                        });\n",
       "                    }"
      ],
      "text/plain": [
       "<IPython.core.display.Javascript object>"
      ]
     },
     "metadata": {},
     "output_type": "display_data"
    },
    {
     "name": "stdout",
     "output_type": "stream",
     "text": [
      "Starting sclang process... "
     ]
    },
    {
     "name": "stdout",
     "output_type": "stream",
     "text": [
      "Done.\n",
      "Registering OSC /return callback in sclang... Done.\n",
      "Loading default sc3nb SynthDefs... Done.\n",
      "Booting SuperCollider Server... "
     ]
    },
    {
     "name": "stdout",
     "output_type": "stream",
     "text": [
      "Done.\n"
     ]
    }
   ],
   "source": [
    "sc = scn.startup()"
   ]
  },
  {
   "cell_type": "code",
   "execution_count": 3,
   "metadata": {
    "execution": {
     "iopub.execute_input": "2021-07-19T13:39:27.865987Z",
     "iopub.status.busy": "2021-07-19T13:39:27.865987Z",
     "iopub.status.idle": "2021-07-19T13:39:27.867987Z",
     "shell.execute_reply": "2021-07-19T13:39:27.867987Z"
    }
   },
   "outputs": [
    {
     "data": {
      "text/plain": [
       "<SCServer addr=('127.0.0.1', 57110), process=<Process 'scsynth' (running) pid=9504>>"
      ]
     },
     "execution_count": 3,
     "metadata": {},
     "output_type": "execute_result"
    }
   ],
   "source": [
    "sc.server"
   ]
  },
  {
   "cell_type": "markdown",
   "metadata": {},
   "source": [
    "However you can also use the SCServer class directly"
   ]
  },
  {
   "cell_type": "markdown",
   "metadata": {},
   "source": [
    "The server connection can be created\n",
    "\n",
    "* locally using `boot`, which will start a scsynth process and connect to it or\n",
    "* remote using `remote` for connecting to an already running scsynth process"
   ]
  },
  {
   "cell_type": "code",
   "execution_count": 4,
   "metadata": {
    "execution": {
     "iopub.execute_input": "2021-07-19T13:39:27.870995Z",
     "iopub.status.busy": "2021-07-19T13:39:27.869996Z",
     "iopub.status.idle": "2021-07-19T13:39:27.874995Z",
     "shell.execute_reply": "2021-07-19T13:39:27.874995Z"
    }
   },
   "outputs": [
    {
     "data": {
      "text/plain": [
       "<SCServer (not booted)>"
      ]
     },
     "execution_count": 4,
     "metadata": {},
     "output_type": "execute_result"
    }
   ],
   "source": [
    "serv = scn.SCServer()\n",
    "serv"
   ]
  },
  {
   "cell_type": "code",
   "execution_count": 5,
   "metadata": {
    "execution": {
     "iopub.execute_input": "2021-07-19T13:39:27.876994Z",
     "iopub.status.busy": "2021-07-19T13:39:27.876994Z",
     "iopub.status.idle": "2021-07-19T13:39:33.363612Z",
     "shell.execute_reply": "2021-07-19T13:39:33.363612Z"
    }
   },
   "outputs": [
    {
     "name": "stdout",
     "output_type": "stream",
     "text": [
      "Booting SuperCollider Server... "
     ]
    },
    {
     "name": "stdout",
     "output_type": "stream",
     "text": [
      "\n",
      "SuperCollider Server port 57110 already used.\n",
      "Trying to connect.\n",
      "Done.\n"
     ]
    }
   ],
   "source": [
    "serv.boot()"
   ]
  },
  {
   "cell_type": "markdown",
   "metadata": {},
   "source": [
    "Notice how the `SCServer` always tries to boot using the default SuperCollider audio server port 57110.\n",
    "But this port is already used by `sc.server` and thus the `SCServer` tries to connect to the already running instance using `SCserver.remote`. This enables a user to share the same scsynth instance with other users and/or use it from other notebooks. If the port to be used is explicitly specified the `SCServer` instance will fail instead of connecting.\n",
    "\n",
    "The `SCServer` will register to the scsynth process using `SCServer.notify()`"
   ]
  },
  {
   "cell_type": "markdown",
   "metadata": {},
   "source": [
    "Let's look how many clients are allowed and what the `client_id`s and the corresponding `default_group`s of the SCServer instances are."
   ]
  },
  {
   "cell_type": "code",
   "execution_count": 6,
   "metadata": {
    "execution": {
     "iopub.execute_input": "2021-07-19T13:39:33.366612Z",
     "iopub.status.busy": "2021-07-19T13:39:33.366612Z",
     "iopub.status.idle": "2021-07-19T13:39:33.369612Z",
     "shell.execute_reply": "2021-07-19T13:39:33.369612Z"
    }
   },
   "outputs": [
    {
     "name": "stdout",
     "output_type": "stream",
     "text": [
      "The scsynth process of this SCServer instance allows 8 clients to login.\n"
     ]
    }
   ],
   "source": [
    "print(f\"The scsynth process of this SCServer instance allows {sc.server.max_logins} clients to login.\")"
   ]
  },
  {
   "cell_type": "code",
   "execution_count": 7,
   "metadata": {
    "execution": {
     "iopub.execute_input": "2021-07-19T13:39:33.372612Z",
     "iopub.status.busy": "2021-07-19T13:39:33.371612Z",
     "iopub.status.idle": "2021-07-19T13:39:33.374610Z",
     "shell.execute_reply": "2021-07-19T13:39:33.374610Z"
    }
   },
   "outputs": [
    {
     "name": "stdout",
     "output_type": "stream",
     "text": [
      "sc.server has client id 1 and the default Group <Group(67108865) ~ {} children=[]>\n"
     ]
    }
   ],
   "source": [
    "print(f\"sc.server has client id {sc.server.client_id} and the default Group {sc.server.default_group}\") "
   ]
  },
  {
   "cell_type": "code",
   "execution_count": 8,
   "metadata": {
    "execution": {
     "iopub.execute_input": "2021-07-19T13:39:33.377611Z",
     "iopub.status.busy": "2021-07-19T13:39:33.376610Z",
     "iopub.status.idle": "2021-07-19T13:39:33.378610Z",
     "shell.execute_reply": "2021-07-19T13:39:33.378610Z"
    }
   },
   "outputs": [
    {
     "name": "stdout",
     "output_type": "stream",
     "text": [
      "serv has client id 2 and the default Group <Group(134217729) s {} children=[]>\n"
     ]
    }
   ],
   "source": [
    "print(f\"serv has client id {serv.client_id} and the default Group {serv.default_group}\") "
   ]
  },
  {
   "cell_type": "markdown",
   "metadata": {},
   "source": [
    "However also note that the instances use different ports meaning they are able to independendly send and receive OSC packets"
   ]
  },
  {
   "cell_type": "code",
   "execution_count": 9,
   "metadata": {
    "execution": {
     "iopub.execute_input": "2021-07-19T13:39:33.381612Z",
     "iopub.status.busy": "2021-07-19T13:39:33.380611Z",
     "iopub.status.idle": "2021-07-19T13:39:33.384610Z",
     "shell.execute_reply": "2021-07-19T13:39:33.384610Z"
    }
   },
   "outputs": [
    {
     "name": "stdout",
     "output_type": "stream",
     "text": [
      "This instance is at ('127.0.0.1', 57131),\n",
      "Known receivers: \"scsynth\" at ('127.0.0.1', 57110)\n",
      "                 \"sclang\" at ('127.0.0.1', 57120)\n",
      "                 \n"
     ]
    },
    {
     "data": {
      "text/plain": [
       "(('127.0.0.1', 57131),\n",
       " {('127.0.0.1', 57110): 'scsynth', ('127.0.0.1', 57120): 'sclang'})"
      ]
     },
     "execution_count": 9,
     "metadata": {},
     "output_type": "execute_result"
    }
   ],
   "source": [
    "sc.server.connection_info()"
   ]
  },
  {
   "cell_type": "markdown",
   "metadata": {},
   "source": [
    "and also note that `serv` is not connected to sclang but has the same connection info for scsynth."
   ]
  },
  {
   "cell_type": "code",
   "execution_count": 10,
   "metadata": {
    "execution": {
     "iopub.execute_input": "2021-07-19T13:39:33.387612Z",
     "iopub.status.busy": "2021-07-19T13:39:33.387612Z",
     "iopub.status.idle": "2021-07-19T13:39:33.390612Z",
     "shell.execute_reply": "2021-07-19T13:39:33.390612Z"
    }
   },
   "outputs": [
    {
     "name": "stdout",
     "output_type": "stream",
     "text": [
      "This instance is at ('127.0.0.1', 57133),\n",
      "Known receivers: \"scsynth\" at ('127.0.0.1', 57110)\n",
      "                 \n"
     ]
    },
    {
     "data": {
      "text/plain": [
       "(('127.0.0.1', 57133), {('127.0.0.1', 57110): 'scsynth'})"
      ]
     },
     "execution_count": 10,
     "metadata": {},
     "output_type": "execute_result"
    }
   ],
   "source": [
    "serv.connection_info()"
   ]
  },
  {
   "cell_type": "markdown",
   "metadata": {},
   "source": [
    "A Synth running on the SuperCollider audio server will be visible to all connected clients"
   ]
  },
  {
   "cell_type": "code",
   "execution_count": 11,
   "metadata": {
    "execution": {
     "iopub.execute_input": "2021-07-19T13:39:33.393613Z",
     "iopub.status.busy": "2021-07-19T13:39:33.393613Z",
     "iopub.status.idle": "2021-07-19T13:39:33.405612Z",
     "shell.execute_reply": "2021-07-19T13:39:33.405612Z"
    }
   },
   "outputs": [],
   "source": [
    "serv_synth = scn.Synth(\"s2\", {\"amp\": 0.05, \"pan\": -1, \"freq\": 100}, server=serv)"
   ]
  },
  {
   "cell_type": "code",
   "execution_count": 12,
   "metadata": {
    "execution": {
     "iopub.execute_input": "2021-07-19T13:39:33.409613Z",
     "iopub.status.busy": "2021-07-19T13:39:33.408611Z",
     "iopub.status.idle": "2021-07-19T13:39:33.410611Z",
     "shell.execute_reply": "2021-07-19T13:39:33.411612Z"
    }
   },
   "outputs": [],
   "source": [
    "default_synth = scn.Synth(\"s2\", {\"amp\": 0.05, \"pan\": 1, \"freq\": 440})  # no need to specify sc.server as server argument"
   ]
  },
  {
   "cell_type": "markdown",
   "metadata": {},
   "source": [
    "This also includes sclang, which is another client of the scsynth process"
   ]
  },
  {
   "cell_type": "code",
   "execution_count": 13,
   "metadata": {
    "execution": {
     "iopub.execute_input": "2021-07-19T13:39:33.414613Z",
     "iopub.status.busy": "2021-07-19T13:39:33.414613Z",
     "iopub.status.idle": "2021-07-19T13:39:33.421614Z",
     "shell.execute_reply": "2021-07-19T13:39:33.422614Z"
    }
   },
   "outputs": [
    {
     "name": "stdout",
     "output_type": "stream",
     "text": [
      "-> Synth('s2' : 1000)\n"
     ]
    }
   ],
   "source": [
    "%sc ~sclang_synth = Synth(\"s2\", [\\amp, 0.1])"
   ]
  },
  {
   "cell_type": "code",
   "execution_count": 14,
   "metadata": {
    "execution": {
     "iopub.execute_input": "2021-07-19T13:39:33.426613Z",
     "iopub.status.busy": "2021-07-19T13:39:33.426613Z",
     "iopub.status.idle": "2021-07-19T13:39:33.465611Z",
     "shell.execute_reply": "2021-07-19T13:39:33.465611Z"
    }
   },
   "outputs": [
    {
     "name": "stdout",
     "output_type": "stream",
     "text": [
      "NODE TREE Group 0\n",
      "   469762049 group\n",
      "   402653185 group\n",
      "   335544321 group\n",
      "   268435457 group\n",
      "   201326593 group\n",
      "   134217729 group\n",
      "      30001 s2\n",
      "        freq: 100 amp: 0.050000000745058 num: 4 pan: -1 lg: 0.10000000149012 gate: 1\n",
      "   67108865 group\n",
      "      20001 s2\n",
      "        freq: 440 amp: 0.050000000745058 num: 4 pan: 1 lg: 0.10000000149012 gate: 1\n",
      "   1 group\n",
      "      1000 s2\n",
      "        freq: 400 amp: 0.10000000149012 num: 4 pan: 0 lg: 0.10000000149012 gate: 1"
     ]
    },
    {
     "name": "stdout",
     "output_type": "stream",
     "text": [
      "\n"
     ]
    }
   ],
   "source": [
    "sc.server.dump_tree()"
   ]
  },
  {
   "cell_type": "markdown",
   "metadata": {},
   "source": [
    "This also means freeing all Synths at once can be done with each client"
   ]
  },
  {
   "cell_type": "code",
   "execution_count": 15,
   "metadata": {
    "execution": {
     "iopub.execute_input": "2021-07-19T13:39:33.468611Z",
     "iopub.status.busy": "2021-07-19T13:39:33.468611Z",
     "iopub.status.idle": "2021-07-19T13:39:33.542638Z",
     "shell.execute_reply": "2021-07-19T13:39:33.542638Z"
    }
   },
   "outputs": [],
   "source": [
    "sc.server.free_all()\n",
    "# serv.free_all() \n",
    "# %sc s.freeAll"
   ]
  },
  {
   "cell_type": "code",
   "execution_count": 16,
   "metadata": {
    "execution": {
     "iopub.execute_input": "2021-07-19T13:39:33.545638Z",
     "iopub.status.busy": "2021-07-19T13:39:33.544637Z",
     "iopub.status.idle": "2021-07-19T13:39:33.564637Z",
     "shell.execute_reply": "2021-07-19T13:39:33.564637Z"
    }
   },
   "outputs": [
    {
     "name": "stdout",
     "output_type": "stream",
     "text": [
      "NODE TREE Group 0\n",
      "   469762049 group\n",
      "   402653185 group\n",
      "   335544321 group\n",
      "   268435457 group\n",
      "   201326593 group\n",
      "   134217729 group\n",
      "   67108865 group\n",
      "   1 group"
     ]
    },
    {
     "name": "stdout",
     "output_type": "stream",
     "text": [
      "\n"
     ]
    }
   ],
   "source": [
    "sc.server.dump_tree()"
   ]
  },
  {
   "cell_type": "markdown",
   "metadata": {},
   "source": [
    "and quitting one server also quits the others."
   ]
  },
  {
   "cell_type": "code",
   "execution_count": 17,
   "metadata": {
    "execution": {
     "iopub.execute_input": "2021-07-19T13:39:33.567638Z",
     "iopub.status.busy": "2021-07-19T13:39:33.566636Z",
     "iopub.status.idle": "2021-07-19T13:39:33.712659Z",
     "shell.execute_reply": "2021-07-19T13:39:33.712659Z"
    }
   },
   "outputs": [
    {
     "name": "stdout",
     "output_type": "stream",
     "text": [
      "Quitting SCServer... "
     ]
    },
    {
     "name": "stdout",
     "output_type": "stream",
     "text": [
      "Done.\n"
     ]
    }
   ],
   "source": [
    "serv.quit()"
   ]
  },
  {
   "cell_type": "code",
   "execution_count": 18,
   "metadata": {
    "execution": {
     "iopub.execute_input": "2021-07-19T13:39:33.716660Z",
     "iopub.status.busy": "2021-07-19T13:39:33.715658Z",
     "iopub.status.idle": "2021-07-19T13:39:33.717659Z",
     "shell.execute_reply": "2021-07-19T13:39:33.717659Z"
    }
   },
   "outputs": [
    {
     "data": {
      "text/plain": [
       "<SCServer addr=('127.0.0.1', 57110), process=<Process 'scsynth' (running) pid=9504>>"
      ]
     },
     "execution_count": 18,
     "metadata": {},
     "output_type": "execute_result"
    }
   ],
   "source": [
    "sc.server"
   ]
  },
  {
   "cell_type": "markdown",
   "metadata": {},
   "source": [
    "Let's reboot the default server"
   ]
  },
  {
   "cell_type": "code",
   "execution_count": 19,
   "metadata": {
    "execution": {
     "iopub.execute_input": "2021-07-19T13:39:33.719659Z",
     "iopub.status.busy": "2021-07-19T13:39:33.718659Z",
     "iopub.status.idle": "2021-07-19T13:39:39.839004Z",
     "shell.execute_reply": "2021-07-19T13:39:39.839004Z"
    }
   },
   "outputs": [
    {
     "name": "stdout",
     "output_type": "stream",
     "text": [
      "Quitting SCServer... "
     ]
    },
    {
     "name": "stdout",
     "output_type": "stream",
     "text": [
      "Done.\n",
      "Booting SuperCollider Server... "
     ]
    },
    {
     "name": "stdout",
     "output_type": "stream",
     "text": [
      "Done.\n"
     ]
    }
   ],
   "source": [
    "sc.server.reboot()"
   ]
  },
  {
   "cell_type": "markdown",
   "metadata": {},
   "source": [
    "More information about [multi client setups](http://doc.sccode.org/Guides/MultiClient_Setups.html) can be found in the SuperCollider documentation."
   ]
  },
  {
   "cell_type": "markdown",
   "metadata": {},
   "source": [
    "## Configuring Server options\n",
    "\n",
    "Startup options of the `SCServer` instance can be set via `ServerOptions`, which can be passed as argument when starting the `SCServer`"
   ]
  },
  {
   "cell_type": "markdown",
   "metadata": {},
   "source": [
    "The default ServerOptions in sc3nb are:"
   ]
  },
  {
   "cell_type": "code",
   "execution_count": 20,
   "metadata": {
    "execution": {
     "iopub.execute_input": "2021-07-19T13:39:39.842005Z",
     "iopub.status.busy": "2021-07-19T13:39:39.842005Z",
     "iopub.status.idle": "2021-07-19T13:39:39.845005Z",
     "shell.execute_reply": "2021-07-19T13:39:39.845005Z"
    }
   },
   "outputs": [
    {
     "data": {
      "text/plain": [
       "<ServerOptions ['-u', '57110', '-l', '6', '-i', '2', '-o', '2', '-a', '1024', '-c', '4096', '-b', '1024', '-R', '0']>"
      ]
     },
     "execution_count": 20,
     "metadata": {},
     "output_type": "execute_result"
    }
   ],
   "source": [
    "scn.ServerOptions()"
   ]
  },
  {
   "cell_type": "markdown",
   "metadata": {},
   "source": [
    "## Getting Information\n",
    "\n",
    "The `SCServer` instance provides various kinds of information"
   ]
  },
  {
   "cell_type": "markdown",
   "metadata": {},
   "source": [
    "* What nodes are currently running"
   ]
  },
  {
   "cell_type": "code",
   "execution_count": 21,
   "metadata": {
    "execution": {
     "iopub.execute_input": "2021-07-19T13:39:39.848005Z",
     "iopub.status.busy": "2021-07-19T13:39:39.847005Z",
     "iopub.status.idle": "2021-07-19T13:39:39.873005Z",
     "shell.execute_reply": "2021-07-19T13:39:39.873005Z"
    }
   },
   "outputs": [
    {
     "name": "stdout",
     "output_type": "stream",
     "text": [
      "NODE TREE Group 0\n",
      "   469762049 group\n",
      "   402653185 group\n",
      "   335544321 group\n",
      "   268435457 group\n",
      "   201326593 group\n",
      "   134217729 group\n",
      "   67108865 group\n",
      "   1 group\n"
     ]
    }
   ],
   "source": [
    "sc.server.dump_tree()"
   ]
  },
  {
   "cell_type": "code",
   "execution_count": 22,
   "metadata": {
    "execution": {
     "iopub.execute_input": "2021-07-19T13:39:39.876614Z",
     "iopub.status.busy": "2021-07-19T13:39:39.875623Z",
     "iopub.status.idle": "2021-07-19T13:39:39.879613Z",
     "shell.execute_reply": "2021-07-19T13:39:39.879613Z"
    }
   },
   "outputs": [
    {
     "data": {
      "text/plain": [
       "Group(0)  {} children=[\n",
       "  Group(469762049) ~ {} children=[],\n",
       "  Group(402653185) ~ {} children=[],\n",
       "  Group(335544321) ~ {} children=[],\n",
       "  Group(268435457) ~ {} children=[],\n",
       "  Group(201326593) ~ {} children=[],\n",
       "  Group(134217729) ~ {} children=[],\n",
       "  Group(67108865) ~ {} children=[],\n",
       "  Group(1) ~ {} children=[]]"
      ]
     },
     "execution_count": 22,
     "metadata": {},
     "output_type": "execute_result"
    }
   ],
   "source": [
    "sc.server.query_tree()"
   ]
  },
  {
   "cell_type": "markdown",
   "metadata": {},
   "source": [
    "* The current status of the server, acquired via the `/status` OSC command"
   ]
  },
  {
   "cell_type": "code",
   "execution_count": 23,
   "metadata": {
    "execution": {
     "iopub.execute_input": "2021-07-19T13:39:39.882613Z",
     "iopub.status.busy": "2021-07-19T13:39:39.881613Z",
     "iopub.status.idle": "2021-07-19T13:39:39.891014Z",
     "shell.execute_reply": "2021-07-19T13:39:39.891014Z"
    }
   },
   "outputs": [
    {
     "data": {
      "text/plain": [
       "ServerStatus(num_ugens=0, num_synths=0, num_groups=9, num_synthdefs=9, avg_cpu=0.25727102160453796, peak_cpu=0.2721637487411499, nominal_sr=44100.0, actual_sr=43563.0405712431)"
      ]
     },
     "execution_count": 23,
     "metadata": {},
     "output_type": "execute_result"
    }
   ],
   "source": [
    "sc.server.status()"
   ]
  },
  {
   "cell_type": "markdown",
   "metadata": {},
   "source": [
    "which can also be accessed directly via properties"
   ]
  },
  {
   "cell_type": "code",
   "execution_count": 24,
   "metadata": {
    "execution": {
     "iopub.execute_input": "2021-07-19T13:39:39.894013Z",
     "iopub.status.busy": "2021-07-19T13:39:39.893013Z",
     "iopub.status.idle": "2021-07-19T13:39:39.910058Z",
     "shell.execute_reply": "2021-07-19T13:39:39.910058Z"
    }
   },
   "outputs": [
    {
     "data": {
      "text/plain": [
       "44100.0"
      ]
     },
     "execution_count": 24,
     "metadata": {},
     "output_type": "execute_result"
    }
   ],
   "source": [
    "sc.server.nominal_sr"
   ]
  },
  {
   "cell_type": "code",
   "execution_count": 25,
   "metadata": {
    "execution": {
     "iopub.execute_input": "2021-07-19T13:39:39.912059Z",
     "iopub.status.busy": "2021-07-19T13:39:39.912059Z",
     "iopub.status.idle": "2021-07-19T13:39:39.920059Z",
     "shell.execute_reply": "2021-07-19T13:39:39.920059Z"
    }
   },
   "outputs": [
    {
     "data": {
      "text/plain": [
       "9"
      ]
     },
     "execution_count": 25,
     "metadata": {},
     "output_type": "execute_result"
    }
   ],
   "source": [
    "sc.server.num_synthdefs"
   ]
  },
  {
   "cell_type": "markdown",
   "metadata": {},
   "source": [
    "* the version of the SC3 server process, acquired via the `/version` OSC command"
   ]
  },
  {
   "cell_type": "code",
   "execution_count": 26,
   "metadata": {
    "execution": {
     "iopub.execute_input": "2021-07-19T13:39:39.922059Z",
     "iopub.status.busy": "2021-07-19T13:39:39.921059Z",
     "iopub.status.idle": "2021-07-19T13:39:39.929794Z",
     "shell.execute_reply": "2021-07-19T13:39:39.929794Z"
    }
   },
   "outputs": [
    {
     "data": {
      "text/plain": [
       "ServerVersion(name='scsynth', major_version=3, minor_version=11, patch_version='.0', git_branch='HEAD', commit='e341b49')"
      ]
     },
     "execution_count": 26,
     "metadata": {},
     "output_type": "execute_result"
    }
   ],
   "source": [
    "sc.server.version()"
   ]
  },
  {
   "cell_type": "markdown",
   "metadata": {},
   "source": [
    "* the address of the SuperCollider audio server"
   ]
  },
  {
   "cell_type": "code",
   "execution_count": 27,
   "metadata": {
    "execution": {
     "iopub.execute_input": "2021-07-19T13:39:39.932794Z",
     "iopub.status.busy": "2021-07-19T13:39:39.932794Z",
     "iopub.status.idle": "2021-07-19T13:39:39.934794Z",
     "shell.execute_reply": "2021-07-19T13:39:39.934794Z"
    }
   },
   "outputs": [
    {
     "data": {
      "text/plain": [
       "('127.0.0.1', 57110)"
      ]
     },
     "execution_count": 27,
     "metadata": {},
     "output_type": "execute_result"
    }
   ],
   "source": [
    "sc.server.addr"
   ]
  },
  {
   "cell_type": "markdown",
   "metadata": {},
   "source": [
    "* The connection info"
   ]
  },
  {
   "cell_type": "code",
   "execution_count": 28,
   "metadata": {
    "execution": {
     "iopub.execute_input": "2021-07-19T13:39:39.937794Z",
     "iopub.status.busy": "2021-07-19T13:39:39.937794Z",
     "iopub.status.idle": "2021-07-19T13:39:39.939794Z",
     "shell.execute_reply": "2021-07-19T13:39:39.939794Z"
    }
   },
   "outputs": [
    {
     "name": "stdout",
     "output_type": "stream",
     "text": [
      "This instance is at ('127.0.0.1', 57131),\n",
      "Known receivers: \"scsynth\" at ('127.0.0.1', 57110)\n",
      "                 \"sclang\" at ('127.0.0.1', 57120)\n",
      "                 \n"
     ]
    },
    {
     "data": {
      "text/plain": [
       "(('127.0.0.1', 57131),\n",
       " {('127.0.0.1', 57110): 'scsynth', ('127.0.0.1', 57120): 'sclang'})"
      ]
     },
     "execution_count": 28,
     "metadata": {},
     "output_type": "execute_result"
    }
   ],
   "source": [
    "sc.server.connection_info()"
   ]
  },
  {
   "cell_type": "markdown",
   "metadata": {},
   "source": [
    "* other runtime properties of the Server"
   ]
  },
  {
   "cell_type": "code",
   "execution_count": 29,
   "metadata": {
    "execution": {
     "iopub.execute_input": "2021-07-19T13:39:39.942794Z",
     "iopub.status.busy": "2021-07-19T13:39:39.942794Z",
     "iopub.status.idle": "2021-07-19T13:39:39.944794Z",
     "shell.execute_reply": "2021-07-19T13:39:39.944794Z"
    }
   },
   "outputs": [
    {
     "data": {
      "text/plain": [
       "True"
      ]
     },
     "execution_count": 29,
     "metadata": {},
     "output_type": "execute_result"
    }
   ],
   "source": [
    "sc.server.has_booted"
   ]
  },
  {
   "cell_type": "code",
   "execution_count": 30,
   "metadata": {
    "execution": {
     "iopub.execute_input": "2021-07-19T13:39:39.947794Z",
     "iopub.status.busy": "2021-07-19T13:39:39.946794Z",
     "iopub.status.idle": "2021-07-19T13:39:39.950794Z",
     "shell.execute_reply": "2021-07-19T13:39:39.950794Z"
    }
   },
   "outputs": [
    {
     "data": {
      "text/plain": [
       "True"
      ]
     },
     "execution_count": 30,
     "metadata": {},
     "output_type": "execute_result"
    }
   ],
   "source": [
    "sc.server.is_running"
   ]
  },
  {
   "cell_type": "code",
   "execution_count": 31,
   "metadata": {
    "execution": {
     "iopub.execute_input": "2021-07-19T13:39:39.953794Z",
     "iopub.status.busy": "2021-07-19T13:39:39.952794Z",
     "iopub.status.idle": "2021-07-19T13:39:39.954795Z",
     "shell.execute_reply": "2021-07-19T13:39:39.954795Z"
    }
   },
   "outputs": [
    {
     "data": {
      "text/plain": [
       "1"
      ]
     },
     "execution_count": 31,
     "metadata": {},
     "output_type": "execute_result"
    }
   ],
   "source": [
    "sc.server.client_id"
   ]
  },
  {
   "cell_type": "code",
   "execution_count": 32,
   "metadata": {
    "execution": {
     "iopub.execute_input": "2021-07-19T13:39:39.957794Z",
     "iopub.status.busy": "2021-07-19T13:39:39.956793Z",
     "iopub.status.idle": "2021-07-19T13:39:39.960794Z",
     "shell.execute_reply": "2021-07-19T13:39:39.960794Z"
    }
   },
   "outputs": [
    {
     "data": {
      "text/plain": [
       "8"
      ]
     },
     "execution_count": 32,
     "metadata": {},
     "output_type": "execute_result"
    }
   ],
   "source": [
    "sc.server.max_logins"
   ]
  },
  {
   "cell_type": "code",
   "execution_count": 33,
   "metadata": {
    "execution": {
     "iopub.execute_input": "2021-07-19T13:39:39.963796Z",
     "iopub.status.busy": "2021-07-19T13:39:39.962794Z",
     "iopub.status.idle": "2021-07-19T13:39:39.966794Z",
     "shell.execute_reply": "2021-07-19T13:39:39.966794Z"
    }
   },
   "outputs": [
    {
     "data": {
      "text/plain": [
       "Group(67108865) ~ {} children=[]"
      ]
     },
     "execution_count": 33,
     "metadata": {},
     "output_type": "execute_result"
    }
   ],
   "source": [
    "sc.server.default_group"
   ]
  },
  {
   "cell_type": "code",
   "execution_count": 34,
   "metadata": {
    "execution": {
     "iopub.execute_input": "2021-07-19T13:39:39.969794Z",
     "iopub.status.busy": "2021-07-19T13:39:39.968793Z",
     "iopub.status.idle": "2021-07-19T13:39:39.971795Z",
     "shell.execute_reply": "2021-07-19T13:39:39.971795Z"
    }
   },
   "outputs": [
    {
     "data": {
      "text/plain": [
       "Bus(rate='audio', ids=[0, 1])"
      ]
     },
     "execution_count": 34,
     "metadata": {},
     "output_type": "execute_result"
    }
   ],
   "source": [
    "sc.server.output_bus"
   ]
  },
  {
   "cell_type": "code",
   "execution_count": 35,
   "metadata": {
    "execution": {
     "iopub.execute_input": "2021-07-19T13:39:39.975796Z",
     "iopub.status.busy": "2021-07-19T13:39:39.974796Z",
     "iopub.status.idle": "2021-07-19T13:39:39.978797Z",
     "shell.execute_reply": "2021-07-19T13:39:39.978797Z"
    }
   },
   "outputs": [
    {
     "data": {
      "text/plain": [
       "Bus(rate='audio', ids=[2, 3])"
      ]
     },
     "execution_count": 35,
     "metadata": {},
     "output_type": "execute_result"
    }
   ],
   "source": [
    "sc.server.input_bus"
   ]
  },
  {
   "cell_type": "markdown",
   "metadata": {},
   "source": [
    "## Controlling Volume"
   ]
  },
  {
   "cell_type": "code",
   "execution_count": 36,
   "metadata": {
    "execution": {
     "iopub.execute_input": "2021-07-19T13:39:39.982795Z",
     "iopub.status.busy": "2021-07-19T13:39:39.982795Z",
     "iopub.status.idle": "2021-07-19T13:39:39.984794Z",
     "shell.execute_reply": "2021-07-19T13:39:39.984794Z"
    }
   },
   "outputs": [],
   "source": [
    "syn = scn.Synth(\"s2\")"
   ]
  },
  {
   "cell_type": "code",
   "execution_count": 37,
   "metadata": {
    "execution": {
     "iopub.execute_input": "2021-07-19T13:39:39.987795Z",
     "iopub.status.busy": "2021-07-19T13:39:39.987795Z",
     "iopub.status.idle": "2021-07-19T13:39:39.990794Z",
     "shell.execute_reply": "2021-07-19T13:39:39.990794Z"
    }
   },
   "outputs": [
    {
     "data": {
      "text/plain": [
       "0.0"
      ]
     },
     "execution_count": 37,
     "metadata": {},
     "output_type": "execute_result"
    }
   ],
   "source": [
    "sc.server.volume"
   ]
  },
  {
   "cell_type": "code",
   "execution_count": 38,
   "metadata": {
    "execution": {
     "iopub.execute_input": "2021-07-19T13:39:39.993794Z",
     "iopub.status.busy": "2021-07-19T13:39:39.993794Z",
     "iopub.status.idle": "2021-07-19T13:39:39.995794Z",
     "shell.execute_reply": "2021-07-19T13:39:39.995794Z"
    }
   },
   "outputs": [
    {
     "data": {
      "text/plain": [
       "1.0"
      ]
     },
     "execution_count": 38,
     "metadata": {},
     "output_type": "execute_result"
    }
   ],
   "source": [
    "scn.dbamp(sc.server.volume)"
   ]
  },
  {
   "cell_type": "code",
   "execution_count": 39,
   "metadata": {
    "execution": {
     "iopub.execute_input": "2021-07-19T13:39:39.998794Z",
     "iopub.status.busy": "2021-07-19T13:39:39.997794Z",
     "iopub.status.idle": "2021-07-19T13:39:40.001794Z",
     "shell.execute_reply": "2021-07-19T13:39:40.001794Z"
    }
   },
   "outputs": [
    {
     "data": {
      "text/plain": [
       "False"
      ]
     },
     "execution_count": 39,
     "metadata": {},
     "output_type": "execute_result"
    }
   ],
   "source": [
    "sc.server.muted"
   ]
  },
  {
   "cell_type": "code",
   "execution_count": 40,
   "metadata": {
    "execution": {
     "iopub.execute_input": "2021-07-19T13:39:40.003793Z",
     "iopub.status.busy": "2021-07-19T13:39:40.003793Z",
     "iopub.status.idle": "2021-07-19T13:39:40.014794Z",
     "shell.execute_reply": "2021-07-19T13:39:40.014794Z"
    }
   },
   "outputs": [],
   "source": [
    "sc.server.muted = True"
   ]
  },
  {
   "cell_type": "code",
   "execution_count": 41,
   "metadata": {
    "execution": {
     "iopub.execute_input": "2021-07-19T13:39:40.017793Z",
     "iopub.status.busy": "2021-07-19T13:39:40.017793Z",
     "iopub.status.idle": "2021-07-19T13:39:40.019795Z",
     "shell.execute_reply": "2021-07-19T13:39:40.019795Z"
    }
   },
   "outputs": [],
   "source": [
    "sc.server.volume = -10.0"
   ]
  },
  {
   "cell_type": "code",
   "execution_count": 42,
   "metadata": {
    "execution": {
     "iopub.execute_input": "2021-07-19T13:39:40.022794Z",
     "iopub.status.busy": "2021-07-19T13:39:40.022794Z",
     "iopub.status.idle": "2021-07-19T13:39:40.024794Z",
     "shell.execute_reply": "2021-07-19T13:39:40.024794Z"
    }
   },
   "outputs": [
    {
     "data": {
      "text/plain": [
       "0.31622776601683794"
      ]
     },
     "execution_count": 42,
     "metadata": {},
     "output_type": "execute_result"
    }
   ],
   "source": [
    "scn.dbamp(sc.server.volume)"
   ]
  },
  {
   "cell_type": "code",
   "execution_count": 43,
   "metadata": {
    "execution": {
     "iopub.execute_input": "2021-07-19T13:39:40.027796Z",
     "iopub.status.busy": "2021-07-19T13:39:40.027796Z",
     "iopub.status.idle": "2021-07-19T13:39:40.030794Z",
     "shell.execute_reply": "2021-07-19T13:39:40.030794Z"
    }
   },
   "outputs": [],
   "source": [
    "sc.server.muted = False"
   ]
  },
  {
   "cell_type": "code",
   "execution_count": 44,
   "metadata": {
    "execution": {
     "iopub.execute_input": "2021-07-19T13:39:40.033799Z",
     "iopub.status.busy": "2021-07-19T13:39:40.033799Z",
     "iopub.status.idle": "2021-07-19T13:39:40.034795Z",
     "shell.execute_reply": "2021-07-19T13:39:40.034795Z"
    }
   },
   "outputs": [],
   "source": [
    "sc.server.volume = 0.0"
   ]
  },
  {
   "cell_type": "code",
   "execution_count": 45,
   "metadata": {
    "execution": {
     "iopub.execute_input": "2021-07-19T13:39:40.037793Z",
     "iopub.status.busy": "2021-07-19T13:39:40.037793Z",
     "iopub.status.idle": "2021-07-19T13:39:40.039794Z",
     "shell.execute_reply": "2021-07-19T13:39:40.039794Z"
    }
   },
   "outputs": [
    {
     "data": {
      "text/plain": [
       "1.0"
      ]
     },
     "execution_count": 45,
     "metadata": {},
     "output_type": "execute_result"
    }
   ],
   "source": [
    "scn.dbamp(sc.server.volume)"
   ]
  },
  {
   "cell_type": "code",
   "execution_count": 46,
   "metadata": {
    "execution": {
     "iopub.execute_input": "2021-07-19T13:39:40.042794Z",
     "iopub.status.busy": "2021-07-19T13:39:40.041795Z",
     "iopub.status.idle": "2021-07-19T13:39:40.048795Z",
     "shell.execute_reply": "2021-07-19T13:39:40.048795Z"
    }
   },
   "outputs": [],
   "source": [
    "syn.free()\n",
    "syn.wait(timeout=1)"
   ]
  },
  {
   "cell_type": "markdown",
   "metadata": {},
   "source": [
    "## Server dumps\n",
    "\n",
    "The Server process can dump information about"
   ]
  },
  {
   "cell_type": "markdown",
   "metadata": {},
   "source": [
    "* incoming OSC packages. See console for output"
   ]
  },
  {
   "cell_type": "code",
   "execution_count": 47,
   "metadata": {
    "execution": {
     "iopub.execute_input": "2021-07-19T13:39:40.051794Z",
     "iopub.status.busy": "2021-07-19T13:39:40.050795Z",
     "iopub.status.idle": "2021-07-19T13:39:40.053794Z",
     "shell.execute_reply": "2021-07-19T13:39:40.053794Z"
    }
   },
   "outputs": [],
   "source": [
    "sc.server.dump_osc() # specify level=0 to deactivate"
   ]
  },
  {
   "cell_type": "markdown",
   "metadata": {},
   "source": [
    "* currently running Nodes "
   ]
  },
  {
   "cell_type": "code",
   "execution_count": 48,
   "metadata": {
    "execution": {
     "iopub.execute_input": "2021-07-19T13:39:40.055793Z",
     "iopub.status.busy": "2021-07-19T13:39:40.054793Z",
     "iopub.status.idle": "2021-07-19T13:39:40.078794Z",
     "shell.execute_reply": "2021-07-19T13:39:40.078794Z"
    }
   },
   "outputs": [
    {
     "name": "stdout",
     "output_type": "stream",
     "text": [
      "NODE TREE Group 0\n",
      "   -16 s1\n",
      "     freq: 500 dur: 0.10000000149012 att: 0.0099999997764826 amp: 0.30000001192093 num: 1 pan: 0\n",
      "   469762049 group\n",
      "   402653185 group\n",
      "   335544321 group\n",
      "   268435457 group\n",
      "   201326593 group\n",
      "   134217729 group\n",
      "   67108865 group\n",
      "   20002 sc3nb_volumeAmpControl2\n",
      "     volumeAmp: 0.31622776389122 volumeLag: 0.10000000149012 gate: 0 bus: 0\n",
      "   1 group\n"
     ]
    }
   ],
   "source": [
    "sc.server.dump_tree()  # Notice how the OSC packet is now included in the output "
   ]
  },
  {
   "cell_type": "code",
   "execution_count": 49,
   "metadata": {
    "execution": {
     "iopub.execute_input": "2021-07-19T13:39:40.082795Z",
     "iopub.status.busy": "2021-07-19T13:39:40.081793Z",
     "iopub.status.idle": "2021-07-19T13:39:40.084795Z",
     "shell.execute_reply": "2021-07-19T13:39:40.084795Z"
    }
   },
   "outputs": [],
   "source": [
    "sc.server.blip() # see dumped bundle for test sound on console"
   ]
  },
  {
   "cell_type": "markdown",
   "metadata": {},
   "source": [
    "## Make a test sound\n",
    "\n",
    "The following methods produces the `SCServer` startup sound.\n",
    "The test sound should ease any anxiety whether the server is properly started/running"
   ]
  },
  {
   "cell_type": "code",
   "execution_count": 50,
   "metadata": {
    "execution": {
     "iopub.execute_input": "2021-07-19T13:39:40.088795Z",
     "iopub.status.busy": "2021-07-19T13:39:40.088795Z",
     "iopub.status.idle": "2021-07-19T13:39:40.090795Z",
     "shell.execute_reply": "2021-07-19T13:39:40.091795Z"
    }
   },
   "outputs": [],
   "source": [
    "sc.server.blip()"
   ]
  },
  {
   "cell_type": "markdown",
   "metadata": {},
   "source": [
    "## Managing Nodes"
   ]
  },
  {
   "cell_type": "markdown",
   "metadata": {},
   "source": [
    "* freeing all running nodes and reinitialize the server"
   ]
  },
  {
   "cell_type": "code",
   "execution_count": 51,
   "metadata": {
    "execution": {
     "iopub.execute_input": "2021-07-19T13:39:40.094794Z",
     "iopub.status.busy": "2021-07-19T13:39:40.093794Z",
     "iopub.status.idle": "2021-07-19T13:39:40.159795Z",
     "shell.execute_reply": "2021-07-19T13:39:40.159795Z"
    }
   },
   "outputs": [],
   "source": [
    "sc.server.free_all()"
   ]
  },
  {
   "cell_type": "code",
   "execution_count": 52,
   "metadata": {
    "execution": {
     "iopub.execute_input": "2021-07-19T13:39:40.162794Z",
     "iopub.status.busy": "2021-07-19T13:39:40.162794Z",
     "iopub.status.idle": "2021-07-19T13:39:40.220794Z",
     "shell.execute_reply": "2021-07-19T13:39:40.220794Z"
    }
   },
   "outputs": [],
   "source": [
    "sc.server.free_all(root=False)  # only frees the default group of this client"
   ]
  },
  {
   "cell_type": "markdown",
   "metadata": {},
   "source": [
    "* send the `/clearSched` OSC command. This is automatically done when using `free_all`"
   ]
  },
  {
   "cell_type": "code",
   "execution_count": 53,
   "metadata": {
    "execution": {
     "iopub.execute_input": "2021-07-19T13:39:40.224795Z",
     "iopub.status.busy": "2021-07-19T13:39:40.223797Z",
     "iopub.status.idle": "2021-07-19T13:39:40.226795Z",
     "shell.execute_reply": "2021-07-19T13:39:40.226795Z"
    }
   },
   "outputs": [],
   "source": [
    "sc.server.clear_schedule()"
   ]
  },
  {
   "cell_type": "markdown",
   "metadata": {},
   "source": [
    "* Execute init hooks. This is also automatically done when using `free_all`, `init` or `connect_sclang`"
   ]
  },
  {
   "cell_type": "code",
   "execution_count": 54,
   "metadata": {
    "execution": {
     "iopub.execute_input": "2021-07-19T13:39:40.229795Z",
     "iopub.status.busy": "2021-07-19T13:39:40.229795Z",
     "iopub.status.idle": "2021-07-19T13:39:40.269796Z",
     "shell.execute_reply": "2021-07-19T13:39:40.269796Z"
    }
   },
   "outputs": [],
   "source": [
    "sc.server.execute_init_hooks()"
   ]
  },
  {
   "cell_type": "markdown",
   "metadata": {},
   "source": [
    "* Adding init hooks. "
   ]
  },
  {
   "cell_type": "code",
   "execution_count": 55,
   "metadata": {
    "execution": {
     "iopub.execute_input": "2021-07-19T13:39:40.272794Z",
     "iopub.status.busy": "2021-07-19T13:39:40.272794Z",
     "iopub.status.idle": "2021-07-19T13:39:40.274797Z",
     "shell.execute_reply": "2021-07-19T13:39:40.274797Z"
    }
   },
   "outputs": [
    {
     "data": {
      "text/plain": [
       "<bound method SCServer.send_default_groups of <SCServer addr=('127.0.0.1', 57110), process=<Process 'scsynth' (running) pid=19204>>>"
      ]
     },
     "execution_count": 55,
     "metadata": {},
     "output_type": "execute_result"
    }
   ],
   "source": [
    "sc.server.send_default_groups"
   ]
  },
  {
   "cell_type": "markdown",
   "metadata": {},
   "source": [
    "* Syncing the SuperCollider audio server by sending a `/sync` OSC command and waiting for the reply."
   ]
  },
  {
   "cell_type": "code",
   "execution_count": 56,
   "metadata": {
    "execution": {
     "iopub.execute_input": "2021-07-19T13:39:40.278796Z",
     "iopub.status.busy": "2021-07-19T13:39:40.278796Z",
     "iopub.status.idle": "2021-07-19T13:39:40.299998Z",
     "shell.execute_reply": "2021-07-19T13:39:40.299998Z"
    }
   },
   "outputs": [
    {
     "data": {
      "text/plain": [
       "True"
      ]
     },
     "execution_count": 56,
     "metadata": {},
     "output_type": "execute_result"
    }
   ],
   "source": [
    "sc.server.sync()"
   ]
  },
  {
   "cell_type": "markdown",
   "metadata": {},
   "source": [
    "## Allocating IDs"
   ]
  },
  {
   "cell_type": "markdown",
   "metadata": {},
   "source": [
    "The `SCServer` instance manages the IDs for Nodes, Buffers and Buses for the SuperCollider Objects via the following methods.\n",
    "These can also be used for getting suitable IDs when manually creating OSC packages."
   ]
  },
  {
   "cell_type": "markdown",
   "metadata": {},
   "source": [
    "* Get the IDs via the allocator."
   ]
  },
  {
   "cell_type": "code",
   "execution_count": 57,
   "metadata": {
    "execution": {
     "iopub.execute_input": "2021-07-19T13:39:40.304001Z",
     "iopub.status.busy": "2021-07-19T13:39:40.304001Z",
     "iopub.status.idle": "2021-07-19T13:39:40.308002Z",
     "shell.execute_reply": "2021-07-19T13:39:40.308002Z"
    }
   },
   "outputs": [
    {
     "data": {
      "text/plain": [
       "[128, 129]"
      ]
     },
     "execution_count": 57,
     "metadata": {},
     "output_type": "execute_result"
    }
   ],
   "source": [
    "ids = sc.server.buffer_ids.allocate(num=2)\n",
    "ids"
   ]
  },
  {
   "cell_type": "markdown",
   "metadata": {},
   "source": [
    "* Free the IDs after usage via the allocator."
   ]
  },
  {
   "cell_type": "code",
   "execution_count": 58,
   "metadata": {
    "execution": {
     "iopub.execute_input": "2021-07-19T13:39:40.311998Z",
     "iopub.status.busy": "2021-07-19T13:39:40.310999Z",
     "iopub.status.idle": "2021-07-19T13:39:40.314999Z",
     "shell.execute_reply": "2021-07-19T13:39:40.314999Z"
    }
   },
   "outputs": [],
   "source": [
    "sc.server.buffer_ids.free(ids)"
   ]
  },
  {
   "cell_type": "markdown",
   "metadata": {},
   "source": [
    "There are allocators for\n",
    "\n",
    "* Nodes - `sc.server.node_ids`\n",
    "* Buffer - `sc.server.buffer_ids`\n",
    "* Buses (Audio and Control) - `sc.server.audio_bus_ids`, `sc.server.control_bus_ids`"
   ]
  },
  {
   "cell_type": "code",
   "execution_count": 59,
   "metadata": {
    "execution": {
     "iopub.execute_input": "2021-07-19T13:39:40.319000Z",
     "iopub.status.busy": "2021-07-19T13:39:40.319000Z",
     "iopub.status.idle": "2021-07-19T13:39:41.554607Z",
     "shell.execute_reply": "2021-07-19T13:39:41.554607Z"
    }
   },
   "outputs": [
    {
     "name": "stdout",
     "output_type": "stream",
     "text": [
      "Quitting SCServer... Done.\n",
      "Booting SuperCollider Server... "
     ]
    },
    {
     "name": "stdout",
     "output_type": "stream",
     "text": [
      "Done.\n"
     ]
    }
   ],
   "source": [
    "sc.server.reboot()"
   ]
  },
  {
   "cell_type": "code",
   "execution_count": 60,
   "metadata": {
    "execution": {
     "iopub.execute_input": "2021-07-19T13:39:41.559607Z",
     "iopub.status.busy": "2021-07-19T13:39:41.559607Z",
     "iopub.status.idle": "2021-07-19T13:39:41.583229Z",
     "shell.execute_reply": "2021-07-19T13:39:41.583229Z"
    }
   },
   "outputs": [
    {
     "name": "stdout",
     "output_type": "stream",
     "text": [
      "5 buffers: [128, 129, 130, 131, 132]\n",
      "freed buffers  [128, 129]\n",
      "allocated 4 buffers: [133, 134, 135, 136] -> new numbers to be consecutive\n",
      "allocated 2 buffers: [128, 129] -> using the two freed before\n"
     ]
    }
   ],
   "source": [
    "# example to see how consecutive buffer alloc works:\n",
    "ids = sc.server.buffer_ids.allocate(num=5)\n",
    "print(\"5 buffers:\", ids)\n",
    "sc.server.buffer_ids.free(ids[0:2])\n",
    "print(\"freed buffers \", ids[0:2])\n",
    "ids4 = sc.server.buffer_ids.allocate(num=4)\n",
    "print(\"allocated 4 buffers:\", ids4, \"-> new numbers to be consecutive\")\n",
    "sc.server.sync()\n",
    "ids2 = sc.server.buffer_ids.allocate(num=2)\n",
    "print(\"allocated 2 buffers:\", ids2, \"-> using the two freed before\")"
   ]
  },
  {
   "cell_type": "markdown",
   "metadata": {},
   "source": [
    "## Handling SynthDefs\n",
    "\n",
    "The server offers the following methods for handling SynthDefs.\n",
    "These are shortcuts for the respective SynthDef methods.\n",
    "\n",
    "```\n",
    "sc.server.send_synthdef\n",
    "sc.server.load_synthdef\n",
    "sc.server.load_synthdefs\n",
    "```\n",
    "Refer to the [SynthDef guide](synthdef-examples.ipynb) for more information about SynthDefs."
   ]
  },
  {
   "cell_type": "code",
   "execution_count": 61,
   "metadata": {
    "execution": {
     "iopub.execute_input": "2021-07-19T13:39:41.585229Z",
     "iopub.status.busy": "2021-07-19T13:39:41.585229Z",
     "iopub.status.idle": "2021-07-19T13:39:41.873533Z",
     "shell.execute_reply": "2021-07-19T13:39:41.873533Z"
    }
   },
   "outputs": [
    {
     "name": "stdout",
     "output_type": "stream",
     "text": [
      "Quitting SCServer... "
     ]
    },
    {
     "name": "stdout",
     "output_type": "stream",
     "text": [
      "Done.\n",
      "Exiting sclang... "
     ]
    },
    {
     "name": "stdout",
     "output_type": "stream",
     "text": [
      "Done.\n"
     ]
    }
   ],
   "source": [
    "sc.exit()"
   ]
  }
 ],
 "metadata": {
  "hide_input": false,
  "language_info": {
   "codemirror_mode": {
    "name": "ipython",
    "version": 3
   },
   "file_extension": ".py",
   "mimetype": "text/x-python",
   "name": "python",
   "nbconvert_exporter": "python",
   "pygments_lexer": "ipython3",
   "version": "3.7.10"
  },
  "toc": {
   "base_numbering": 1,
   "nav_menu": {},
   "number_sections": true,
   "sideBar": true,
   "skip_h1_title": false,
   "title_cell": "Table of Contents",
   "title_sidebar": "Contents",
   "toc_cell": false,
   "toc_position": {},
   "toc_section_display": true,
   "toc_window_display": true
  }
 },
 "nbformat": 4,
 "nbformat_minor": 4
}
